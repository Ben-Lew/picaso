{
 "cells": [
  {
   "cell_type": "markdown",
   "metadata": {},
   "source": [
    "# Approximations for Spherical Harmonics Radiative Transfer in Reflected Light\n",
    "\n",
    "In [Rooney et al 2023](add-link) we rigorously derive the spherical harmonics method for reflected light and benchmark the 4-term method (SH4) against [Toon et al. 1989](https://ui.adsabs.harvard.edu/abs/1989JGR....9416287T/abstract) and two independent methods. Here, we provide the code to reproduce the analysis that compares Toon89 with the higher fidelity 4-term spherical harmonics method for reflected light calculations. "
   ]
  },
  {
   "cell_type": "code",
   "execution_count": 1,
   "metadata": {
    "execution": {
     "iopub.execute_input": "2024-04-02T06:00:19.318731Z",
     "iopub.status.busy": "2024-04-02T06:00:19.318072Z",
     "iopub.status.idle": "2024-04-02T06:00:21.055801Z",
     "shell.execute_reply": "2024-04-02T06:00:21.055240Z"
    }
   },
   "outputs": [
    {
     "data": {
      "text/html": [
       "<style>\n",
       "        .bk-notebook-logo {\n",
       "            display: block;\n",
       "            width: 20px;\n",
       "            height: 20px;\n",
       "            background-image: url(data:image/png;base64,iVBORw0KGgoAAAANSUhEUgAAABQAAAAUCAYAAACNiR0NAAAABHNCSVQICAgIfAhkiAAAAAlwSFlzAAALEgAACxIB0t1+/AAAABx0RVh0U29mdHdhcmUAQWRvYmUgRmlyZXdvcmtzIENTNui8sowAAAOkSURBVDiNjZRtaJVlGMd/1/08zzln5zjP1LWcU9N0NkN8m2CYjpgQYQXqSs0I84OLIC0hkEKoPtiH3gmKoiJDU7QpLgoLjLIQCpEsNJ1vqUOdO7ppbuec5+V+rj4ctwzd8IIbbi6u+8f1539dt3A78eXC7QizUF7gyV1fD1Yqg4JWz84yffhm0qkFqBogB9rM8tZdtwVsPUhWhGcFJngGeWrPzHm5oaMmkfEg1usvLFyc8jLRqDOMru7AyC8saQr7GG7f5fvDeH7Ej8CM66nIF+8yngt6HWaKh7k49Soy9nXurCi1o3qUbS3zWfrYeQDTB/Qj6kX6Ybhw4B+bOYoLKCC9H3Nu/leUTZ1JdRWkkn2ldcCamzrcf47KKXdAJllSlxAOkRgyHsGC/zRday5Qld9DyoM4/q/rUoy/CXh3jzOu3bHUVZeU+DEn8FInkPBFlu3+nW3Nw0mk6vCDiWg8CeJaxEwuHS3+z5RgY+YBR6V1Z1nxSOfoaPa4LASWxxdNp+VWTk7+4vzaou8v8PN+xo+KY2xsw6une2frhw05CTYOmQvsEhjhWjn0bmXPjpE1+kplmmkP3suftwTubK9Vq22qKmrBhpY4jvd5afdRA3wGjFAgcnTK2s4hY0/GPNIb0nErGMCRxWOOX64Z8RAC4oCXdklmEvcL8o0BfkNK4lUg9HTl+oPlQxdNo3Mg4Nv175e/1LDGzZen30MEjRUtmXSfiTVu1kK8W4txyV6BMKlbgk3lMwYCiusNy9fVfvvwMxv8Ynl6vxoByANLTWplvuj/nF9m2+PDtt1eiHPBr1oIfhCChQMBw6Aw0UulqTKZdfVvfG7VcfIqLG9bcldL/+pdWTLxLUy8Qq38heUIjh4XlzZxzQm19lLFlr8vdQ97rjZVOLf8nclzckbcD4wxXMidpX30sFd37Fv/GtwwhzhxGVAprjbg0gCAEeIgwCZyTV2Z1REEW8O4py0wsjeloKoMr6iCY6dP92H6Vw/oTyICIthibxjm/DfN9lVz8IqtqKYLUXfoKVMVQVVJOElGjrnnUt9T9wbgp8AyYKaGlqingHZU/uG2NTZSVqwHQTWkx9hxjkpWDaCg6Ckj5qebgBVbT3V3NNXMSiWSDdGV3hrtzla7J+duwPOToIg42ChPQOQjspnSlp1V+Gjdged7+8UN5CRAV7a5EdFNwCjEaBR27b3W890TE7g24NAP/mMDXRWrGoFPQI9ls/MWO2dWFAar/xcOIImbbpA3zgAAAABJRU5ErkJggg==);\n",
       "        }\n",
       "    </style>\n",
       "    <div>\n",
       "        <a href=\"https://bokeh.org\" target=\"_blank\" class=\"bk-notebook-logo\"></a>\n",
       "        <span id=\"p1001\">Loading BokehJS ...</span>\n",
       "    </div>\n"
      ]
     },
     "metadata": {},
     "output_type": "display_data"
    },
    {
     "data": {
      "application/javascript": [
       "(function(root) {\n",
       "  function now() {\n",
       "    return new Date();\n",
       "  }\n",
       "\n",
       "  const force = true;\n",
       "\n",
       "  if (typeof root._bokeh_onload_callbacks === \"undefined\" || force === true) {\n",
       "    root._bokeh_onload_callbacks = [];\n",
       "    root._bokeh_is_loading = undefined;\n",
       "  }\n",
       "\n",
       "const JS_MIME_TYPE = 'application/javascript';\n",
       "  const HTML_MIME_TYPE = 'text/html';\n",
       "  const EXEC_MIME_TYPE = 'application/vnd.bokehjs_exec.v0+json';\n",
       "  const CLASS_NAME = 'output_bokeh rendered_html';\n",
       "\n",
       "  /**\n",
       "   * Render data to the DOM node\n",
       "   */\n",
       "  function render(props, node) {\n",
       "    const script = document.createElement(\"script\");\n",
       "    node.appendChild(script);\n",
       "  }\n",
       "\n",
       "  /**\n",
       "   * Handle when an output is cleared or removed\n",
       "   */\n",
       "  function handleClearOutput(event, handle) {\n",
       "    const cell = handle.cell;\n",
       "\n",
       "    const id = cell.output_area._bokeh_element_id;\n",
       "    const server_id = cell.output_area._bokeh_server_id;\n",
       "    // Clean up Bokeh references\n",
       "    if (id != null && id in Bokeh.index) {\n",
       "      Bokeh.index[id].model.document.clear();\n",
       "      delete Bokeh.index[id];\n",
       "    }\n",
       "\n",
       "    if (server_id !== undefined) {\n",
       "      // Clean up Bokeh references\n",
       "      const cmd_clean = \"from bokeh.io.state import curstate; print(curstate().uuid_to_server['\" + server_id + \"'].get_sessions()[0].document.roots[0]._id)\";\n",
       "      cell.notebook.kernel.execute(cmd_clean, {\n",
       "        iopub: {\n",
       "          output: function(msg) {\n",
       "            const id = msg.content.text.trim();\n",
       "            if (id in Bokeh.index) {\n",
       "              Bokeh.index[id].model.document.clear();\n",
       "              delete Bokeh.index[id];\n",
       "            }\n",
       "          }\n",
       "        }\n",
       "      });\n",
       "      // Destroy server and session\n",
       "      const cmd_destroy = \"import bokeh.io.notebook as ion; ion.destroy_server('\" + server_id + \"')\";\n",
       "      cell.notebook.kernel.execute(cmd_destroy);\n",
       "    }\n",
       "  }\n",
       "\n",
       "  /**\n",
       "   * Handle when a new output is added\n",
       "   */\n",
       "  function handleAddOutput(event, handle) {\n",
       "    const output_area = handle.output_area;\n",
       "    const output = handle.output;\n",
       "\n",
       "    // limit handleAddOutput to display_data with EXEC_MIME_TYPE content only\n",
       "    if ((output.output_type != \"display_data\") || (!Object.prototype.hasOwnProperty.call(output.data, EXEC_MIME_TYPE))) {\n",
       "      return\n",
       "    }\n",
       "\n",
       "    const toinsert = output_area.element.find(\".\" + CLASS_NAME.split(' ')[0]);\n",
       "\n",
       "    if (output.metadata[EXEC_MIME_TYPE][\"id\"] !== undefined) {\n",
       "      toinsert[toinsert.length - 1].firstChild.textContent = output.data[JS_MIME_TYPE];\n",
       "      // store reference to embed id on output_area\n",
       "      output_area._bokeh_element_id = output.metadata[EXEC_MIME_TYPE][\"id\"];\n",
       "    }\n",
       "    if (output.metadata[EXEC_MIME_TYPE][\"server_id\"] !== undefined) {\n",
       "      const bk_div = document.createElement(\"div\");\n",
       "      bk_div.innerHTML = output.data[HTML_MIME_TYPE];\n",
       "      const script_attrs = bk_div.children[0].attributes;\n",
       "      for (let i = 0; i < script_attrs.length; i++) {\n",
       "        toinsert[toinsert.length - 1].firstChild.setAttribute(script_attrs[i].name, script_attrs[i].value);\n",
       "        toinsert[toinsert.length - 1].firstChild.textContent = bk_div.children[0].textContent\n",
       "      }\n",
       "      // store reference to server id on output_area\n",
       "      output_area._bokeh_server_id = output.metadata[EXEC_MIME_TYPE][\"server_id\"];\n",
       "    }\n",
       "  }\n",
       "\n",
       "  function register_renderer(events, OutputArea) {\n",
       "\n",
       "    function append_mime(data, metadata, element) {\n",
       "      // create a DOM node to render to\n",
       "      const toinsert = this.create_output_subarea(\n",
       "        metadata,\n",
       "        CLASS_NAME,\n",
       "        EXEC_MIME_TYPE\n",
       "      );\n",
       "      this.keyboard_manager.register_events(toinsert);\n",
       "      // Render to node\n",
       "      const props = {data: data, metadata: metadata[EXEC_MIME_TYPE]};\n",
       "      render(props, toinsert[toinsert.length - 1]);\n",
       "      element.append(toinsert);\n",
       "      return toinsert\n",
       "    }\n",
       "\n",
       "    /* Handle when an output is cleared or removed */\n",
       "    events.on('clear_output.CodeCell', handleClearOutput);\n",
       "    events.on('delete.Cell', handleClearOutput);\n",
       "\n",
       "    /* Handle when a new output is added */\n",
       "    events.on('output_added.OutputArea', handleAddOutput);\n",
       "\n",
       "    /**\n",
       "     * Register the mime type and append_mime function with output_area\n",
       "     */\n",
       "    OutputArea.prototype.register_mime_type(EXEC_MIME_TYPE, append_mime, {\n",
       "      /* Is output safe? */\n",
       "      safe: true,\n",
       "      /* Index of renderer in `output_area.display_order` */\n",
       "      index: 0\n",
       "    });\n",
       "  }\n",
       "\n",
       "  // register the mime type if in Jupyter Notebook environment and previously unregistered\n",
       "  if (root.Jupyter !== undefined) {\n",
       "    const events = require('base/js/events');\n",
       "    const OutputArea = require('notebook/js/outputarea').OutputArea;\n",
       "\n",
       "    if (OutputArea.prototype.mime_types().indexOf(EXEC_MIME_TYPE) == -1) {\n",
       "      register_renderer(events, OutputArea);\n",
       "    }\n",
       "  }\n",
       "  if (typeof (root._bokeh_timeout) === \"undefined\" || force === true) {\n",
       "    root._bokeh_timeout = Date.now() + 5000;\n",
       "    root._bokeh_failed_load = false;\n",
       "  }\n",
       "\n",
       "  const NB_LOAD_WARNING = {'data': {'text/html':\n",
       "     \"<div style='background-color: #fdd'>\\n\"+\n",
       "     \"<p>\\n\"+\n",
       "     \"BokehJS does not appear to have successfully loaded. If loading BokehJS from CDN, this \\n\"+\n",
       "     \"may be due to a slow or bad network connection. Possible fixes:\\n\"+\n",
       "     \"</p>\\n\"+\n",
       "     \"<ul>\\n\"+\n",
       "     \"<li>re-rerun `output_notebook()` to attempt to load from CDN again, or</li>\\n\"+\n",
       "     \"<li>use INLINE resources instead, as so:</li>\\n\"+\n",
       "     \"</ul>\\n\"+\n",
       "     \"<code>\\n\"+\n",
       "     \"from bokeh.resources import INLINE\\n\"+\n",
       "     \"output_notebook(resources=INLINE)\\n\"+\n",
       "     \"</code>\\n\"+\n",
       "     \"</div>\"}};\n",
       "\n",
       "  function display_loaded() {\n",
       "    const el = document.getElementById(\"p1001\");\n",
       "    if (el != null) {\n",
       "      el.textContent = \"BokehJS is loading...\";\n",
       "    }\n",
       "    if (root.Bokeh !== undefined) {\n",
       "      if (el != null) {\n",
       "        el.textContent = \"BokehJS \" + root.Bokeh.version + \" successfully loaded.\";\n",
       "      }\n",
       "    } else if (Date.now() < root._bokeh_timeout) {\n",
       "      setTimeout(display_loaded, 100)\n",
       "    }\n",
       "  }\n",
       "\n",
       "  function run_callbacks() {\n",
       "    try {\n",
       "      root._bokeh_onload_callbacks.forEach(function(callback) {\n",
       "        if (callback != null)\n",
       "          callback();\n",
       "      });\n",
       "    } finally {\n",
       "      delete root._bokeh_onload_callbacks\n",
       "    }\n",
       "    console.debug(\"Bokeh: all callbacks have finished\");\n",
       "  }\n",
       "\n",
       "  function load_libs(css_urls, js_urls, callback) {\n",
       "    if (css_urls == null) css_urls = [];\n",
       "    if (js_urls == null) js_urls = [];\n",
       "\n",
       "    root._bokeh_onload_callbacks.push(callback);\n",
       "    if (root._bokeh_is_loading > 0) {\n",
       "      console.debug(\"Bokeh: BokehJS is being loaded, scheduling callback at\", now());\n",
       "      return null;\n",
       "    }\n",
       "    if (js_urls == null || js_urls.length === 0) {\n",
       "      run_callbacks();\n",
       "      return null;\n",
       "    }\n",
       "    console.debug(\"Bokeh: BokehJS not loaded, scheduling load and callback at\", now());\n",
       "    root._bokeh_is_loading = css_urls.length + js_urls.length;\n",
       "\n",
       "    function on_load() {\n",
       "      root._bokeh_is_loading--;\n",
       "      if (root._bokeh_is_loading === 0) {\n",
       "        console.debug(\"Bokeh: all BokehJS libraries/stylesheets loaded\");\n",
       "        run_callbacks()\n",
       "      }\n",
       "    }\n",
       "\n",
       "    function on_error(url) {\n",
       "      console.error(\"failed to load \" + url);\n",
       "    }\n",
       "\n",
       "    for (let i = 0; i < css_urls.length; i++) {\n",
       "      const url = css_urls[i];\n",
       "      const element = document.createElement(\"link\");\n",
       "      element.onload = on_load;\n",
       "      element.onerror = on_error.bind(null, url);\n",
       "      element.rel = \"stylesheet\";\n",
       "      element.type = \"text/css\";\n",
       "      element.href = url;\n",
       "      console.debug(\"Bokeh: injecting link tag for BokehJS stylesheet: \", url);\n",
       "      document.body.appendChild(element);\n",
       "    }\n",
       "\n",
       "    for (let i = 0; i < js_urls.length; i++) {\n",
       "      const url = js_urls[i];\n",
       "      const element = document.createElement('script');\n",
       "      element.onload = on_load;\n",
       "      element.onerror = on_error.bind(null, url);\n",
       "      element.async = false;\n",
       "      element.src = url;\n",
       "      console.debug(\"Bokeh: injecting script tag for BokehJS library: \", url);\n",
       "      document.head.appendChild(element);\n",
       "    }\n",
       "  };\n",
       "\n",
       "  function inject_raw_css(css) {\n",
       "    const element = document.createElement(\"style\");\n",
       "    element.appendChild(document.createTextNode(css));\n",
       "    document.body.appendChild(element);\n",
       "  }\n",
       "\n",
       "  const js_urls = [\"https://cdn.bokeh.org/bokeh/release/bokeh-3.0.2.min.js\", \"https://cdn.bokeh.org/bokeh/release/bokeh-gl-3.0.2.min.js\", \"https://cdn.bokeh.org/bokeh/release/bokeh-widgets-3.0.2.min.js\", \"https://cdn.bokeh.org/bokeh/release/bokeh-tables-3.0.2.min.js\", \"https://cdn.bokeh.org/bokeh/release/bokeh-mathjax-3.0.2.min.js\"];\n",
       "  const css_urls = [];\n",
       "\n",
       "  const inline_js = [    function(Bokeh) {\n",
       "      Bokeh.set_log_level(\"info\");\n",
       "    },\n",
       "function(Bokeh) {\n",
       "    }\n",
       "  ];\n",
       "\n",
       "  function run_inline_js() {\n",
       "    if (root.Bokeh !== undefined || force === true) {\n",
       "          for (let i = 0; i < inline_js.length; i++) {\n",
       "      inline_js[i].call(root, root.Bokeh);\n",
       "    }\n",
       "if (force === true) {\n",
       "        display_loaded();\n",
       "      }} else if (Date.now() < root._bokeh_timeout) {\n",
       "      setTimeout(run_inline_js, 100);\n",
       "    } else if (!root._bokeh_failed_load) {\n",
       "      console.log(\"Bokeh: BokehJS failed to load within specified timeout.\");\n",
       "      root._bokeh_failed_load = true;\n",
       "    } else if (force !== true) {\n",
       "      const cell = $(document.getElementById(\"p1001\")).parents('.cell').data().cell;\n",
       "      cell.output_area.append_execute_result(NB_LOAD_WARNING)\n",
       "    }\n",
       "  }\n",
       "\n",
       "  if (root._bokeh_is_loading === 0) {\n",
       "    console.debug(\"Bokeh: BokehJS loaded, going straight to plotting\");\n",
       "    run_inline_js();\n",
       "  } else {\n",
       "    load_libs(css_urls, js_urls, function() {\n",
       "      console.debug(\"Bokeh: BokehJS plotting callback run at\", now());\n",
       "      run_inline_js();\n",
       "    });\n",
       "  }\n",
       "}(window));"
      ],
      "application/vnd.bokehjs_load.v0+json": "(function(root) {\n  function now() {\n    return new Date();\n  }\n\n  const force = true;\n\n  if (typeof root._bokeh_onload_callbacks === \"undefined\" || force === true) {\n    root._bokeh_onload_callbacks = [];\n    root._bokeh_is_loading = undefined;\n  }\n\n\n  if (typeof (root._bokeh_timeout) === \"undefined\" || force === true) {\n    root._bokeh_timeout = Date.now() + 5000;\n    root._bokeh_failed_load = false;\n  }\n\n  const NB_LOAD_WARNING = {'data': {'text/html':\n     \"<div style='background-color: #fdd'>\\n\"+\n     \"<p>\\n\"+\n     \"BokehJS does not appear to have successfully loaded. If loading BokehJS from CDN, this \\n\"+\n     \"may be due to a slow or bad network connection. Possible fixes:\\n\"+\n     \"</p>\\n\"+\n     \"<ul>\\n\"+\n     \"<li>re-rerun `output_notebook()` to attempt to load from CDN again, or</li>\\n\"+\n     \"<li>use INLINE resources instead, as so:</li>\\n\"+\n     \"</ul>\\n\"+\n     \"<code>\\n\"+\n     \"from bokeh.resources import INLINE\\n\"+\n     \"output_notebook(resources=INLINE)\\n\"+\n     \"</code>\\n\"+\n     \"</div>\"}};\n\n  function display_loaded() {\n    const el = document.getElementById(\"p1001\");\n    if (el != null) {\n      el.textContent = \"BokehJS is loading...\";\n    }\n    if (root.Bokeh !== undefined) {\n      if (el != null) {\n        el.textContent = \"BokehJS \" + root.Bokeh.version + \" successfully loaded.\";\n      }\n    } else if (Date.now() < root._bokeh_timeout) {\n      setTimeout(display_loaded, 100)\n    }\n  }\n\n  function run_callbacks() {\n    try {\n      root._bokeh_onload_callbacks.forEach(function(callback) {\n        if (callback != null)\n          callback();\n      });\n    } finally {\n      delete root._bokeh_onload_callbacks\n    }\n    console.debug(\"Bokeh: all callbacks have finished\");\n  }\n\n  function load_libs(css_urls, js_urls, callback) {\n    if (css_urls == null) css_urls = [];\n    if (js_urls == null) js_urls = [];\n\n    root._bokeh_onload_callbacks.push(callback);\n    if (root._bokeh_is_loading > 0) {\n      console.debug(\"Bokeh: BokehJS is being loaded, scheduling callback at\", now());\n      return null;\n    }\n    if (js_urls == null || js_urls.length === 0) {\n      run_callbacks();\n      return null;\n    }\n    console.debug(\"Bokeh: BokehJS not loaded, scheduling load and callback at\", now());\n    root._bokeh_is_loading = css_urls.length + js_urls.length;\n\n    function on_load() {\n      root._bokeh_is_loading--;\n      if (root._bokeh_is_loading === 0) {\n        console.debug(\"Bokeh: all BokehJS libraries/stylesheets loaded\");\n        run_callbacks()\n      }\n    }\n\n    function on_error(url) {\n      console.error(\"failed to load \" + url);\n    }\n\n    for (let i = 0; i < css_urls.length; i++) {\n      const url = css_urls[i];\n      const element = document.createElement(\"link\");\n      element.onload = on_load;\n      element.onerror = on_error.bind(null, url);\n      element.rel = \"stylesheet\";\n      element.type = \"text/css\";\n      element.href = url;\n      console.debug(\"Bokeh: injecting link tag for BokehJS stylesheet: \", url);\n      document.body.appendChild(element);\n    }\n\n    for (let i = 0; i < js_urls.length; i++) {\n      const url = js_urls[i];\n      const element = document.createElement('script');\n      element.onload = on_load;\n      element.onerror = on_error.bind(null, url);\n      element.async = false;\n      element.src = url;\n      console.debug(\"Bokeh: injecting script tag for BokehJS library: \", url);\n      document.head.appendChild(element);\n    }\n  };\n\n  function inject_raw_css(css) {\n    const element = document.createElement(\"style\");\n    element.appendChild(document.createTextNode(css));\n    document.body.appendChild(element);\n  }\n\n  const js_urls = [\"https://cdn.bokeh.org/bokeh/release/bokeh-3.0.2.min.js\", \"https://cdn.bokeh.org/bokeh/release/bokeh-gl-3.0.2.min.js\", \"https://cdn.bokeh.org/bokeh/release/bokeh-widgets-3.0.2.min.js\", \"https://cdn.bokeh.org/bokeh/release/bokeh-tables-3.0.2.min.js\", \"https://cdn.bokeh.org/bokeh/release/bokeh-mathjax-3.0.2.min.js\"];\n  const css_urls = [];\n\n  const inline_js = [    function(Bokeh) {\n      Bokeh.set_log_level(\"info\");\n    },\nfunction(Bokeh) {\n    }\n  ];\n\n  function run_inline_js() {\n    if (root.Bokeh !== undefined || force === true) {\n          for (let i = 0; i < inline_js.length; i++) {\n      inline_js[i].call(root, root.Bokeh);\n    }\nif (force === true) {\n        display_loaded();\n      }} else if (Date.now() < root._bokeh_timeout) {\n      setTimeout(run_inline_js, 100);\n    } else if (!root._bokeh_failed_load) {\n      console.log(\"Bokeh: BokehJS failed to load within specified timeout.\");\n      root._bokeh_failed_load = true;\n    } else if (force !== true) {\n      const cell = $(document.getElementById(\"p1001\")).parents('.cell').data().cell;\n      cell.output_area.append_execute_result(NB_LOAD_WARNING)\n    }\n  }\n\n  if (root._bokeh_is_loading === 0) {\n    console.debug(\"Bokeh: BokehJS loaded, going straight to plotting\");\n    run_inline_js();\n  } else {\n    load_libs(css_urls, js_urls, function() {\n      console.debug(\"Bokeh: BokehJS plotting callback run at\", now());\n      run_inline_js();\n    });\n  }\n}(window));"
     },
     "metadata": {},
     "output_type": "display_data"
    }
   ],
   "source": [
    "import numpy as np\n",
    "import pandas as pd\n",
    "\n",
    "#picaso\n",
    "from picaso import justdoit as jdi \n",
    "from picaso import justplotit as jpi\n",
    "import picaso.test as ptest\n",
    "\n",
    "jpi.output_notebook()"
   ]
  },
  {
   "cell_type": "markdown",
   "metadata": {},
   "source": [
    "## Benchmark Jupiter-like case profile\n",
    "\n",
    "Here we use the same profile explored in the two-stream radiative transfer tutorial. "
   ]
  },
  {
   "cell_type": "code",
   "execution_count": 2,
   "metadata": {
    "execution": {
     "iopub.execute_input": "2024-04-02T06:00:21.062137Z",
     "iopub.status.busy": "2024-04-02T06:00:21.061750Z",
     "iopub.status.idle": "2024-04-02T06:00:21.552811Z",
     "shell.execute_reply": "2024-04-02T06:00:21.552234Z"
    }
   },
   "outputs": [
    {
     "name": "stderr",
     "output_type": "stream",
     "text": [
      "/home/nbatalh1/codes/picaso/picaso/justdoit.py:1742: FutureWarning: The 'delim_whitespace' keyword in pd.read_csv is deprecated and will be removed in a future version. Use ``sep='\\s+'`` instead\n",
      "  df = pd.read_csv(filename, **pd_kwargs)\n",
      "/home/nbatalh1/codes/picaso/picaso/justdoit.py:2936: FutureWarning: The 'delim_whitespace' keyword in pd.read_csv is deprecated and will be removed in a future version. Use ``sep='\\s+'`` instead\n",
      "  df = pd.read_csv(filename, **pd_kwargs)\n"
     ]
    }
   ],
   "source": [
    "opa = jdi.opannection(wave_range=[0.3,1])#, resample=100)\n",
    "case1 = jdi.inputs()\n",
    "#phase \n",
    "case1.phase_angle(0) #radians\n",
    "\n",
    "#gravity \n",
    "case1.gravity(gravity = 25, gravity_unit=jdi.u.Unit('m/(s**2)'))\n",
    "\n",
    "#star\n",
    "case1.star(opa, 6000,0.0122,4.437) #kelvin, log metal, log cgs\n",
    "\n",
    "#atmosphere\n",
    "case1.atmosphere(filename= jdi.jupiter_pt(), delim_whitespace=True)\n",
    "\n",
    "#set model clouds\n",
    "case1.clouds( filename= jdi.jupiter_cld(), delim_whitespace=True)"
   ]
  },
  {
   "cell_type": "markdown",
   "metadata": {},
   "source": [
    "## Setup comparison with two-stream radiative transfer "
   ]
  },
  {
   "cell_type": "code",
   "execution_count": 3,
   "metadata": {
    "execution": {
     "iopub.execute_input": "2024-04-02T06:00:21.557894Z",
     "iopub.status.busy": "2024-04-02T06:00:21.557618Z",
     "iopub.status.idle": "2024-04-02T06:00:23.437424Z",
     "shell.execute_reply": "2024-04-02T06:00:23.436281Z"
    }
   },
   "outputs": [],
   "source": [
    "#we'll use these labels to keep track of the cases we have created\n",
    "labels = []\n",
    "albs = []\n",
    "#run\n",
    "\n",
    "multi_phase = 'N=2' #two legendre polynomials (toon default)\n",
    "single_phase='TTHG_ray' #two term HG with rayleigh (toon default)\n",
    "DE = True #delta eddington correction, (toon default)\n",
    "raman='none' #lets turn raman off, for clarity in this benchmark case\n",
    "\n",
    "#set all approximatinos\n",
    "case1.approx(toon_coefficients='quadrature', \n",
    "             multi_phase=multi_phase,\n",
    "             single_phase=single_phase,\n",
    "             delta_eddington=DE, raman=raman)\n",
    "df = case1.spectrum(opa)\n",
    "wno, alb, fpfs = df['wavenumber'] , df['albedo'] , df['fpfs_reflected'] \n",
    "wno, alb = jdi.mean_regrid(wno, alb, R=150)\n",
    "\n",
    "labels+=['Toon89']\n",
    "albs+=[alb]"
   ]
  },
  {
   "cell_type": "markdown",
   "metadata": {},
   "source": [
    "## Setting up Spherical Harmonics Approximations to compare with Toon\n",
    "\n",
    "Spherical harmonics allows us to remain consistent with scattering functions throughout the methodology. In Toon when calculation the two stream solution for multiple layers, the phase functions are hard-coded set to be one term HG. However, when implementing the source function technique to derive the outgoing intensity we introduce a two-term HG for direct-scattering beam in attempt to capture the back-scattering radiation observed on Neptune. These details are further discussed in Cahoy et al 2010, Batalha et al. 2019, Feng et al. 2017. \n",
    "\n",
    "In spherical harmonics, we can simply consider a two-term HG phase function throughout the calculation. In order to better compare with Toon however (for historical purposes), we made sure that our SH routines could also match that Toon approach. Therefore, below you see we have **two** different single scattering forms. Note that this is only for comparison with Toon89. The default for SH is to use a TTHG phase function with Rayleigh throughout the radiative transfer calculation. \n",
    "\n",
    "Further details can be found in Rooney et al. 2023. "
   ]
  },
  {
   "cell_type": "code",
   "execution_count": 4,
   "metadata": {
    "execution": {
     "iopub.execute_input": "2024-04-02T06:00:23.444915Z",
     "iopub.status.busy": "2024-04-02T06:00:23.444645Z",
     "iopub.status.idle": "2024-04-02T06:00:34.206794Z",
     "shell.execute_reply": "2024-04-02T06:00:34.205950Z"
    }
   },
   "outputs": [],
   "source": [
    "# NOT SH default; enforcing for toon comparison which cannot handle \n",
    "# pre-processed two term phase functions\n",
    "w_single_form='OTHG'; w_single_rayleigh='off'\n",
    "w_multi_form='OTHG'; w_multi_rayleigh='on'\n",
    "\n",
    "#defaults in SH technique\n",
    "psingle_form='TTHG'; psingle_rayleigh='on'\n",
    "#2 or 4 stream (SH routines handles both though 4 is the default)\n",
    "stream=4\n",
    "\n",
    "case1.approx(rt_method='SH', stream=stream, \n",
    "              w_single_form=w_single_form, w_single_rayleigh=w_single_rayleigh,\n",
    "              w_multi_form=w_multi_form, w_multi_rayleigh=w_multi_rayleigh,\n",
    "             psingle_form=psingle_form, psingle_rayleigh=psingle_rayleigh,\n",
    "             delta_eddington=DE, raman=raman)\n",
    "# case1.approx(rt_method='SH', stream=4, raman='none')\n",
    "df3 = case1.spectrum(opa)\n",
    "wno3, alb3, fpfs3 = df3['wavenumber'] , df3['albedo'] , df3['fpfs_reflected'] \n",
    "wno3, alb3 = jdi.mean_regrid(wno3, alb3, R=150)\n",
    "labels+=['SH4 (OTHG multi)']\n",
    "albs+=[alb3]"
   ]
  },
  {
   "cell_type": "markdown",
   "metadata": {},
   "source": [
    "Here we relax the constraint for OTHG to see how the multile scattering approximation in Toon impacts the spectrum.  "
   ]
  },
  {
   "cell_type": "code",
   "execution_count": 5,
   "metadata": {
    "execution": {
     "iopub.execute_input": "2024-04-02T06:00:34.211857Z",
     "iopub.status.busy": "2024-04-02T06:00:34.211410Z",
     "iopub.status.idle": "2024-04-02T06:00:45.346285Z",
     "shell.execute_reply": "2024-04-02T06:00:45.344635Z"
    }
   },
   "outputs": [],
   "source": [
    "w_multi_form='TTHG'; w_multi_rayleigh='on'\n",
    "\n",
    "case1.approx(rt_method='SH', stream=4, \n",
    "              w_single_form=w_single_form, w_single_rayleigh=w_single_rayleigh,\n",
    "              w_multi_form=w_multi_form, w_multi_rayleigh=w_multi_rayleigh,\n",
    "             psingle_form=psingle_form, psingle_rayleigh=psingle_rayleigh,\n",
    "             delta_eddington=DE, raman='none')\n",
    "# case1.approx(rt_method='SH', stream=4, raman='none')\n",
    "df5 = case1.spectrum(opa)\n",
    "wno5, alb5, fpfs5 = df5['wavenumber'] , df5['albedo'] , df5['fpfs_reflected'] \n",
    "wno5, alb5 = jdi.mean_regrid(wno5, alb5, R=150)\n",
    "labels+=['SH4 (TTHG multi)']\n",
    "albs+=[alb5]"
   ]
  },
  {
   "cell_type": "markdown",
   "metadata": {},
   "source": [
    "## Reproducing Figure 5a from Rooney et al. 2023"
   ]
  },
  {
   "cell_type": "code",
   "execution_count": 6,
   "metadata": {
    "execution": {
     "iopub.execute_input": "2024-04-02T06:00:45.351377Z",
     "iopub.status.busy": "2024-04-02T06:00:45.351060Z",
     "iopub.status.idle": "2024-04-02T06:00:45.417285Z",
     "shell.execute_reply": "2024-04-02T06:00:45.416818Z"
    }
   },
   "outputs": [
    {
     "data": {
      "text/html": [
       "\n",
       "  <div id=\"238be0bd-b351-4eb8-8135-75404b4a35b7\" data-root-id=\"p1002\" style=\"display: contents;\"></div>\n"
      ]
     },
     "metadata": {},
     "output_type": "display_data"
    },
    {
     "data": {
      "application/javascript": [
       "(function(root) {\n",
       "  function embed_document(root) {\n",
       "  const docs_json = {\"0e9398c2-608c-4f06-a4b8-cee35e9a2ea9\":{\"version\":\"3.0.2\",\"title\":\"Bokeh Application\",\"defs\":[],\"roots\":[{\"type\":\"object\",\"name\":\"Figure\",\"id\":\"p1002\",\"attributes\":{\"width\":700,\"height\":345,\"x_range\":{\"type\":\"object\",\"name\":\"DataRange1d\",\"id\":\"p1003\"},\"y_range\":{\"type\":\"object\",\"name\":\"DataRange1d\",\"id\":\"p1004\"},\"x_scale\":{\"type\":\"object\",\"name\":\"LinearScale\",\"id\":\"p1015\"},\"y_scale\":{\"type\":\"object\",\"name\":\"LinearScale\",\"id\":\"p1017\"},\"title\":{\"type\":\"object\",\"name\":\"Title\",\"id\":\"p1009\"},\"renderers\":[{\"type\":\"object\",\"name\":\"GlyphRenderer\",\"id\":\"p1054\",\"attributes\":{\"data_source\":{\"type\":\"object\",\"name\":\"ColumnDataSource\",\"id\":\"p1048\",\"attributes\":{\"selected\":{\"type\":\"object\",\"name\":\"Selection\",\"id\":\"p1049\",\"attributes\":{\"indices\":[],\"line_indices\":[]}},\"selection_policy\":{\"type\":\"object\",\"name\":\"UnionRenderers\",\"id\":\"p1050\"},\"data\":{\"type\":\"map\",\"entries\":[[\"x\",{\"type\":\"ndarray\",\"array\":{\"type\":\"bytes\",\"data\":\"aje9umj77z9XJEn5AcXvPwOLMsH3ju8/ZOMRdUlZ7z8AZIt49iPvP4Q6TTD+7u4/T8cNAmC67j8Y3IlUG4buP4H9go8vUu4/n6e9G5we7j9/lf9iYOvtP5MLDtB7uO0/BCWszu2F7T/rI5nLtVPtP2zEjjTTIe0/pJI/eEXw7D9sQ1UGDL/sP/EPb08mjuw/FhQgxZNd7D+Zr+3ZUy3sP/fpTQFm/es/Gtmlr8nN6z+xCkhafp7rP0HwcneDb+s/6k1PfthA6z/Nq+7mfBLrPyDKSSpw5Oo/4Rc/wrG26j8iLJEpQYnqP/RB5dsdXOo/4rbBVUcv6j/+i4wUvQLqP3jpiZZ+1uk/u6TaWouq6T8PyXrh4n7pP7giQKuEU+k/lszYOXAo6T8swMkPpf3oPyZobbAi0+g/RjXyn+io6D/FNVlj9n7oPwmvdIBLVeg/x7nmfecr6D+F4B/jyQLoP2nAXTjy2ec/a6ypBmCx5z/TUtfXEonnP/tkgzYKYec/cEESrkU55z9CoK7KxBHnP6RBSBmH6uY/wp6SJ4zD5j/bnAOE05zmP4NC0r1cduY/JW/1ZCdQ5j+ulCIKMyrmP19zzD5/BOY/0dchlQvf5T8OWwyg17nlP98kL/PilOU/G7DlIi1w5T8skULEtUvlP44+Dm18J+U/fNvFs4AD5T+NBJovwt/kP3WebXhAvOQ/w6bUJvuY5D+cBhPU8XXkP4ZnGxokU+Q/IgqOk5Ew5D/mnrfbOQ7kP9IgkI4c7OM/CrK5SDnK4z9sen+nj6jjPxGI1Egfh+M/r7FSy+dl4z/sejnO6ETjP4n6bPEhJOM/cMJ01ZID4z+nyXobO+PiPw1YSmUaw+I/9fNOVTCj4j+YUZOOfIPiP0tEwLT+Y+I/jrEbbLZE4j/ZhYdZoyXiPzurgCLFBuI/sQEebRvo4T9IWQ/gpcnhP/RtnCJkq+E/JOWj3FWN4T8VTZq2em/hP8sdiVnSUeE/yrsNb1w04T91fFihGBfhPxusK5sG+uA/s5XaBybd4D8zjEiTdsDgP5X15+n3o+A/dVe5uKmH4D9WZUqti2vgP3cQtXWdT+A/SZmewN4z4D95ojY9TxjgPxWLbDbd+d8/BlK+FXnD3z9OMPV5cY3fP344scXFV98/wi6eXHUi3z+XwXGjf+3eP2fF6f/juN4/S3PK2KGE3j+oqtyVuFDeP9o17J8nHd4/xxHGYO7p3T9cuDZDDLfdP/5tCLOAhN0/05EBHUtS3T/38OLuaiDdP3EcZpff7tw/GsI7hqi93D9ACAosxYzcPyHsavo0XNw/H6PqY/cr3D+9/gXcC/zbP17TKNdxzNs/s2Gsyiid2z/bwtUsMG7bP0BX1HSHP9s/DzjAGi4R2z9bq5iXI+PaP+eaQmVntdo/ig2H/viH2j8koxHf11raPywTb4MDLto/160LaXsB2j+23zEOP9XZP/S3CPJNqdk//nCSlKd92T+4+6p2S1LZPy+NBho5J9k/sS4wAXD82D9nUIiv79HYP1ReQ6m3p9g/vldoc8d92D8Fac+THlTYP8qHIJG8Ktg/hRHS8qAB2D9pbCdBy9jXP6CqLwU7sNc/3i/EyO+H1z86WYcW6V/XP04n43kmONc/qOoHf6cQ1z908uqya+nWP2M9RaNywtY/0iyS3rub1j8hOg70RnXWP0KutXMTT9Y/dVtD7iAp1j8lWS/1bgPWPwTCrRr93dU/L3St8cq41T+E09YN2JPVPxOOigMkb9U/m2LgZ65K1T8t6aXQdibVP9ldXdR8AtU/Ym08CsDe1D8LBCsKQLvUP2Eewmz8l9Q/DpxKy/R01D+jFLy/KFLUP3Guu+SXL9Q/R/ea1UEN1D80v1YuJuvTPzb1lYtEydM/34Woipyn0z/XO4bJLYbTP1yizeb3ZNM/kunCgfpD0z8=\"},\"shape\":[181],\"dtype\":\"float64\",\"order\":\"little\"}],[\"y\",{\"type\":\"ndarray\",\"array\":{\"type\":\"bytes\",\"data\":\"TV72ogczzD/gWfCiuPLNP5hcDl4qx9A/jZmV7OZS2D8JQ925HG3dPxf8I2gK2d8/37EKfNd64T/SuMzcpMXhP4U+Z+QhYuE/becyP+XD4D+IPBEeDvrePzcKDdgQV+A/cDEbPiu/4T9oP5CYiPnhP0PrjzSe++A/oPNUnUnL3D8TJ5VMwSTSP2BCn7vboMo/TrxfSGYeyD/2WT6By1bWP6wzeVUm8eA/MMUiW11j4D+y12pLM/jePzxL5Kq8tOE/+spQa/hb4z8f9RYEu43jPycYtDOFTOM/kpyPF52/4z/ZVo1V2NPjP3zl6G/clOM/oRKKlOgN4z8R4letFVPjP2mrXZXHbuM/DVdOTasP4z8EpXrkyOHiP9dG9D7JPuM/dF4pMO8+4z+TrJgrKWTjPzsKK5wD5+M/yFMAljUl5D/qHNx8Bz7kP8U0PeSCXOQ/yu4DzJhx5D+fRFztSXPkP78j2tPzcOQ/63GF4pc65D9FoaBgm2DjP+5RqmgytuE/k598ihCd4D9ARnp9jHfiP8Xgtz722OM/32ULz4le5D9Es1/NijXkP18DUCMFEuQ//jgBn6JW5D/lxM8jq2nkP+YFC55uueQ/uT+TY4HC5D/eoKu/HNvkP5SeySPi1uQ/OnaXbFix5D+ppbWDoZTkP6ACU8YniOQ/K+fV36925D9bI22ve4vkP1sMTLn2duQ/ENQs7X265D8WFg9a1NbkP5wYuv9l5+Q/23s8pgvn5D97b3upyMHkP10qEl9ibuQ/PWbxcPMj5D93R4bM85vkP9E9bTMz9OQ/lB1b1hrq5D/jexkWksTkP/ldHZmVnuQ/Sz27QR2O5D8V2y9XiIzkP7zbQmwc4OQ/xFEGSQAP5T+U8f18XQ3lP9PsgiyW/+Q/5JyTqzgS5T9rynhrCjLlP7UjpFk2ZOU/pM+km6Bp5T9l8mDmrGrlPw1fV+r6ZOU/1DndfJZG5T+T2jMdsxblP/EzujI6HuU/xXll7sSN5T/9yDlS7LDlP1Y1T4RKn+U/+QrSYhWW5T8bp8lUFrXlP0XdPEWMyuU//FdZwXLD5T9sKcshtpjlP5e5+cOjWOU/qz9Swz5O5T9oz41EgE/lP9vSNPf/ueU/aBQ+AV7d5T8LxzKCPOLlP4ba8vFn4eU/kTE81FXV5T+WcSK4NfTlP9ZgHeNAAeY//TZKGrsG5j+Dkq3JzQXmPxCiM8K9CeY/EHy4bJ4Z5j8dQhWRSyzmPw+LUI1HKeY/+wuJNact5j9+KxKtu0DmP6g1IeyVSuY/H5InfqtD5j8bY02FRi3mP/UEwZx/JOY/XmuFLIdd5j+p2ZRMR3zmP1vd/tkMiOY/5Xx1NySS5j/5w5Z4ApvmP7hU2qmzo+Y/W3OFTA2u5j/Jvqu9wrPmPxv6Ivdau+Y/wUbNYIbL5j9i6J3uFNfmP+JNnxdT4eY/KA1Vk7Tp5j+LkoX+CfPmPy/ULGaQ8eY/SH5BO9T25j8LgOr3WRLnPy4PkmagIuc/2IhsQQov5z8lJYwR/TrnP/0p1KggRuc/LuZfyrFQ5z8HVg9l3VvnPxdYdj5sZuc/dc+1QbBy5z9iDkt0DH7nPxrcFWafiec/qAGnlTCU5z8iuBv7/ZvnP0j+1/Hjpec/D7+rDs+25z9Y8KZUJcPnP2Z4qc5Ez+c/1PBhu07b5z9gcmJwTefnP4BoplDh8uc/FGa4q+7+5z939leKtgroP9cj7WCXFug/IK40TFci6D/2sRor7izoPxQk91ntN+g/4c4+gyRE6D88OIrq4E7oP7uXQRgQWug/0nXCWslk6D/qOzF8sW/oPyeVJNdgeug/e08DuA6F6D+Ub+a4c4/oP/kqb0W1meg/cK0XXwyk6D/KTBB9A6/oP3ufeT/Gueg/wLVHDWnE6D+y45OlC8/oP/vY0bOT2eg/zndZQwLk6D8=\"},\"shape\":[181],\"dtype\":\"float64\",\"order\":\"little\"}]]}}},\"view\":{\"type\":\"object\",\"name\":\"CDSView\",\"id\":\"p1055\",\"attributes\":{\"filter\":{\"type\":\"object\",\"name\":\"AllIndices\",\"id\":\"p1056\"}}},\"glyph\":{\"type\":\"object\",\"name\":\"Line\",\"id\":\"p1051\",\"attributes\":{\"x\":{\"type\":\"field\",\"field\":\"x\"},\"y\":{\"type\":\"field\",\"field\":\"y\"},\"line_color\":\"#0072B2\",\"line_width\":3}},\"nonselection_glyph\":{\"type\":\"object\",\"name\":\"Line\",\"id\":\"p1052\",\"attributes\":{\"x\":{\"type\":\"field\",\"field\":\"x\"},\"y\":{\"type\":\"field\",\"field\":\"y\"},\"line_color\":\"#0072B2\",\"line_alpha\":0.1,\"line_width\":3}},\"muted_glyph\":{\"type\":\"object\",\"name\":\"Line\",\"id\":\"p1053\",\"attributes\":{\"x\":{\"type\":\"field\",\"field\":\"x\"},\"y\":{\"type\":\"field\",\"field\":\"y\"},\"line_color\":\"#0072B2\",\"line_alpha\":0.2,\"line_width\":3}}}},{\"type\":\"object\",\"name\":\"GlyphRenderer\",\"id\":\"p1063\",\"attributes\":{\"data_source\":{\"type\":\"object\",\"name\":\"ColumnDataSource\",\"id\":\"p1057\",\"attributes\":{\"selected\":{\"type\":\"object\",\"name\":\"Selection\",\"id\":\"p1058\",\"attributes\":{\"indices\":[],\"line_indices\":[]}},\"selection_policy\":{\"type\":\"object\",\"name\":\"UnionRenderers\",\"id\":\"p1059\"},\"data\":{\"type\":\"map\",\"entries\":[[\"x\",{\"type\":\"ndarray\",\"array\":{\"type\":\"bytes\",\"data\":\"aje9umj77z9XJEn5AcXvPwOLMsH3ju8/ZOMRdUlZ7z8AZIt49iPvP4Q6TTD+7u4/T8cNAmC67j8Y3IlUG4buP4H9go8vUu4/n6e9G5we7j9/lf9iYOvtP5MLDtB7uO0/BCWszu2F7T/rI5nLtVPtP2zEjjTTIe0/pJI/eEXw7D9sQ1UGDL/sP/EPb08mjuw/FhQgxZNd7D+Zr+3ZUy3sP/fpTQFm/es/Gtmlr8nN6z+xCkhafp7rP0HwcneDb+s/6k1PfthA6z/Nq+7mfBLrPyDKSSpw5Oo/4Rc/wrG26j8iLJEpQYnqP/RB5dsdXOo/4rbBVUcv6j/+i4wUvQLqP3jpiZZ+1uk/u6TaWouq6T8PyXrh4n7pP7giQKuEU+k/lszYOXAo6T8swMkPpf3oPyZobbAi0+g/RjXyn+io6D/FNVlj9n7oPwmvdIBLVeg/x7nmfecr6D+F4B/jyQLoP2nAXTjy2ec/a6ypBmCx5z/TUtfXEonnP/tkgzYKYec/cEESrkU55z9CoK7KxBHnP6RBSBmH6uY/wp6SJ4zD5j/bnAOE05zmP4NC0r1cduY/JW/1ZCdQ5j+ulCIKMyrmP19zzD5/BOY/0dchlQvf5T8OWwyg17nlP98kL/PilOU/G7DlIi1w5T8skULEtUvlP44+Dm18J+U/fNvFs4AD5T+NBJovwt/kP3WebXhAvOQ/w6bUJvuY5D+cBhPU8XXkP4ZnGxokU+Q/IgqOk5Ew5D/mnrfbOQ7kP9IgkI4c7OM/CrK5SDnK4z9sen+nj6jjPxGI1Egfh+M/r7FSy+dl4z/sejnO6ETjP4n6bPEhJOM/cMJ01ZID4z+nyXobO+PiPw1YSmUaw+I/9fNOVTCj4j+YUZOOfIPiP0tEwLT+Y+I/jrEbbLZE4j/ZhYdZoyXiPzurgCLFBuI/sQEebRvo4T9IWQ/gpcnhP/RtnCJkq+E/JOWj3FWN4T8VTZq2em/hP8sdiVnSUeE/yrsNb1w04T91fFihGBfhPxusK5sG+uA/s5XaBybd4D8zjEiTdsDgP5X15+n3o+A/dVe5uKmH4D9WZUqti2vgP3cQtXWdT+A/SZmewN4z4D95ojY9TxjgPxWLbDbd+d8/BlK+FXnD3z9OMPV5cY3fP344scXFV98/wi6eXHUi3z+XwXGjf+3eP2fF6f/juN4/S3PK2KGE3j+oqtyVuFDeP9o17J8nHd4/xxHGYO7p3T9cuDZDDLfdP/5tCLOAhN0/05EBHUtS3T/38OLuaiDdP3EcZpff7tw/GsI7hqi93D9ACAosxYzcPyHsavo0XNw/H6PqY/cr3D+9/gXcC/zbP17TKNdxzNs/s2Gsyiid2z/bwtUsMG7bP0BX1HSHP9s/DzjAGi4R2z9bq5iXI+PaP+eaQmVntdo/ig2H/viH2j8koxHf11raPywTb4MDLto/160LaXsB2j+23zEOP9XZP/S3CPJNqdk//nCSlKd92T+4+6p2S1LZPy+NBho5J9k/sS4wAXD82D9nUIiv79HYP1ReQ6m3p9g/vldoc8d92D8Fac+THlTYP8qHIJG8Ktg/hRHS8qAB2D9pbCdBy9jXP6CqLwU7sNc/3i/EyO+H1z86WYcW6V/XP04n43kmONc/qOoHf6cQ1z908uqya+nWP2M9RaNywtY/0iyS3rub1j8hOg70RnXWP0KutXMTT9Y/dVtD7iAp1j8lWS/1bgPWPwTCrRr93dU/L3St8cq41T+E09YN2JPVPxOOigMkb9U/m2LgZ65K1T8t6aXQdibVP9ldXdR8AtU/Ym08CsDe1D8LBCsKQLvUP2Eewmz8l9Q/DpxKy/R01D+jFLy/KFLUP3Guu+SXL9Q/R/ea1UEN1D80v1YuJuvTPzb1lYtEydM/34Woipyn0z/XO4bJLYbTP1yizeb3ZNM/kunCgfpD0z8=\"},\"shape\":[181],\"dtype\":\"float64\",\"order\":\"little\"}],[\"y\",{\"type\":\"ndarray\",\"array\":{\"type\":\"bytes\",\"data\":\"w3p191o1zD+h+YbRTPrNP/XDVcM03dA/083iNV3Z2D/VkqVGC0rePzYQOM9ze+A/tQXBC0tD4j921uSdNaXiPyaosSs2QeI/jQW/DCCQ4T+5SccasTXgPyM2uZLj8eA/B8vOoip34j/+yB5GNbviP0JAWbWIouE/t2V/8w6Z3T/tSD4KcEDSP22WQQtlcco/bPNnx2ntxz9LtqcNm7rWP1UMF1d7h+E/DsR4Ujbq4D+93dtBztjfP2+lvV6nX+I/5y+R2W845D+YIfTUEnDkP8c+wngPJ+Q//ViHOy2r5D+1luJUN8TkPxSF4p1Gg+Q/NLrE0lT24z9nz5TsyDTkP8azU6hETuQ/mqBkqBDk4z+pums1YK/jPyZkD5B2F+Q/BuACBXsX5D+iLVI3jEHkP6BisJcl1uQ/2yVAUzYd5T8znpCpEzrlPwKQqY0TXuU/ruf+54R35T9XrjwejXnlPyDTn41odeU/d6DGtlw05T/CO3+Mqj3kP7olyGjVYuI/lcF9WSEy4T/nzmP96j/jP+ScGhMoyuQ/yoxiZdJe5T/4D9gMtTDlP1AXCZ/pB+U/k6TdB5FW5T9E6XEoU23lP98/c/uY0uU/o6L7IW/f5T/yLlQbRADmP60/hXk2++U/lu3H77fL5T9pYqD2pKblPwY/4FzdlOU/gE0Mhpl95T+SpQ19iZblP86ClkdZfeU/mkpfzD3R5T9xtrC0RvXlP1s9d27RCuY/C3dtkMEK5j++rTkOXdnlP8al/CdId+U/9UtKxwcf5T8pyvkwUK/lP+0UcNSiHeY/nZeq1DIP5j+ov1jSR93lPwRZz2IoreU/MSE/07+Z5T/tjGGgrZXlP0vZiKOJ/uU/7zfdu1s65j/6mEZ5lzjmP5A3w5KOJeY//KyUjtg85j+59BzaOGjmPzml5sOzquY/bRDu1TSw5j9BatSroq/mPyoOZwqHpuY/0aUOlEt65j9vbAqvBDzmPzuQBqlyReY/t4hFi3zS5j/pAGAcRf/mP4YUhR4b4+Y/NAR8Yl3U5j8mlMyYf//mP7LSBu3MIec/eCKZspQc5z8gqLdKpuTmPw73kuUbkeY/dIKyecSD5j9TGuh2foXmP4o2guVrEec/8JDHG5JC5z8a/vd0NkfnP34at9zjQuc/XrDOrvAv5z/36Tq2eFrnPxVZUBI4a+c/px4/XWVx5z8tQAMvFm7nP4KGpJyucec/kKzEgA6G5z+g8G8m3Z7nPyz3nWrrluc/9XyfgF6a5z//f0wwWrTnP7NXkzXCwOc/lHxh8US15z+RRbHHgZPnPxMHrWSfhec/7wegN2vQ5z8qnQ3bS/nnPwgSxxcuB+g/dXJcu6kS6D8FKh0aPxzoPzBHjWqKJeg/CSh22jMx6D/L1gchBzboP4/unxSiPeg/Q5ZkjFBR6D8nyuIaXV7oPyBlmSKHaeg/fG2qj9px6D8V9EGQtHvoP8uc8fhedug/MOd7KX166D8M1H7ak5zoPwIjkSRZr+g/sBAO0+i86D8IyuKp0snoP6fYpkuX1eg/KoXDZJng6D9a736GZuzoP/KjcTtU9+g/m4+MII0E6T8g9jM6jhDpP0+fO03THOk/Zk/sKNIn6T/GOZOxGC/pP57UTwIcOek/EN8EGGZM6T+TCk+Uq1npP8oJGtSkZuk/PUf3colz6T8kqfSIYIDpP+g4aj+rjOk/HcqCQpmZ6T8Q66mGMqbpP5C/w9Hssuk/MgcFAIu/6T9oK15EtsrpP5pE0mCd1uk/P6Uc5yrk6T/8fotC4e/pP6l0Roow/Ok/uZBVSfsH6j+jF84CDhTqP62xCmTkH+o/KQTxxMor6j8eCGS2ZTfqP9rpkbbhQuo/SBvNm4pO6j90maG181rqP3p888oEZ+o/w1WUlQNz6j+HsUsgFX/qP5rrg8wZi+o/BfeOwBSX6j8=\"},\"shape\":[181],\"dtype\":\"float64\",\"order\":\"little\"}]]}}},\"view\":{\"type\":\"object\",\"name\":\"CDSView\",\"id\":\"p1064\",\"attributes\":{\"filter\":{\"type\":\"object\",\"name\":\"AllIndices\",\"id\":\"p1065\"}}},\"glyph\":{\"type\":\"object\",\"name\":\"Line\",\"id\":\"p1060\",\"attributes\":{\"x\":{\"type\":\"field\",\"field\":\"x\"},\"y\":{\"type\":\"field\",\"field\":\"y\"},\"line_color\":\"#E69F00\",\"line_width\":3}},\"nonselection_glyph\":{\"type\":\"object\",\"name\":\"Line\",\"id\":\"p1061\",\"attributes\":{\"x\":{\"type\":\"field\",\"field\":\"x\"},\"y\":{\"type\":\"field\",\"field\":\"y\"},\"line_color\":\"#E69F00\",\"line_alpha\":0.1,\"line_width\":3}},\"muted_glyph\":{\"type\":\"object\",\"name\":\"Line\",\"id\":\"p1062\",\"attributes\":{\"x\":{\"type\":\"field\",\"field\":\"x\"},\"y\":{\"type\":\"field\",\"field\":\"y\"},\"line_color\":\"#E69F00\",\"line_alpha\":0.2,\"line_width\":3}}}},{\"type\":\"object\",\"name\":\"GlyphRenderer\",\"id\":\"p1072\",\"attributes\":{\"data_source\":{\"type\":\"object\",\"name\":\"ColumnDataSource\",\"id\":\"p1066\",\"attributes\":{\"selected\":{\"type\":\"object\",\"name\":\"Selection\",\"id\":\"p1067\",\"attributes\":{\"indices\":[],\"line_indices\":[]}},\"selection_policy\":{\"type\":\"object\",\"name\":\"UnionRenderers\",\"id\":\"p1068\"},\"data\":{\"type\":\"map\",\"entries\":[[\"x\",{\"type\":\"ndarray\",\"array\":{\"type\":\"bytes\",\"data\":\"aje9umj77z9XJEn5AcXvPwOLMsH3ju8/ZOMRdUlZ7z8AZIt49iPvP4Q6TTD+7u4/T8cNAmC67j8Y3IlUG4buP4H9go8vUu4/n6e9G5we7j9/lf9iYOvtP5MLDtB7uO0/BCWszu2F7T/rI5nLtVPtP2zEjjTTIe0/pJI/eEXw7D9sQ1UGDL/sP/EPb08mjuw/FhQgxZNd7D+Zr+3ZUy3sP/fpTQFm/es/Gtmlr8nN6z+xCkhafp7rP0HwcneDb+s/6k1PfthA6z/Nq+7mfBLrPyDKSSpw5Oo/4Rc/wrG26j8iLJEpQYnqP/RB5dsdXOo/4rbBVUcv6j/+i4wUvQLqP3jpiZZ+1uk/u6TaWouq6T8PyXrh4n7pP7giQKuEU+k/lszYOXAo6T8swMkPpf3oPyZobbAi0+g/RjXyn+io6D/FNVlj9n7oPwmvdIBLVeg/x7nmfecr6D+F4B/jyQLoP2nAXTjy2ec/a6ypBmCx5z/TUtfXEonnP/tkgzYKYec/cEESrkU55z9CoK7KxBHnP6RBSBmH6uY/wp6SJ4zD5j/bnAOE05zmP4NC0r1cduY/JW/1ZCdQ5j+ulCIKMyrmP19zzD5/BOY/0dchlQvf5T8OWwyg17nlP98kL/PilOU/G7DlIi1w5T8skULEtUvlP44+Dm18J+U/fNvFs4AD5T+NBJovwt/kP3WebXhAvOQ/w6bUJvuY5D+cBhPU8XXkP4ZnGxokU+Q/IgqOk5Ew5D/mnrfbOQ7kP9IgkI4c7OM/CrK5SDnK4z9sen+nj6jjPxGI1Egfh+M/r7FSy+dl4z/sejnO6ETjP4n6bPEhJOM/cMJ01ZID4z+nyXobO+PiPw1YSmUaw+I/9fNOVTCj4j+YUZOOfIPiP0tEwLT+Y+I/jrEbbLZE4j/ZhYdZoyXiPzurgCLFBuI/sQEebRvo4T9IWQ/gpcnhP/RtnCJkq+E/JOWj3FWN4T8VTZq2em/hP8sdiVnSUeE/yrsNb1w04T91fFihGBfhPxusK5sG+uA/s5XaBybd4D8zjEiTdsDgP5X15+n3o+A/dVe5uKmH4D9WZUqti2vgP3cQtXWdT+A/SZmewN4z4D95ojY9TxjgPxWLbDbd+d8/BlK+FXnD3z9OMPV5cY3fP344scXFV98/wi6eXHUi3z+XwXGjf+3eP2fF6f/juN4/S3PK2KGE3j+oqtyVuFDeP9o17J8nHd4/xxHGYO7p3T9cuDZDDLfdP/5tCLOAhN0/05EBHUtS3T/38OLuaiDdP3EcZpff7tw/GsI7hqi93D9ACAosxYzcPyHsavo0XNw/H6PqY/cr3D+9/gXcC/zbP17TKNdxzNs/s2Gsyiid2z/bwtUsMG7bP0BX1HSHP9s/DzjAGi4R2z9bq5iXI+PaP+eaQmVntdo/ig2H/viH2j8koxHf11raPywTb4MDLto/160LaXsB2j+23zEOP9XZP/S3CPJNqdk//nCSlKd92T+4+6p2S1LZPy+NBho5J9k/sS4wAXD82D9nUIiv79HYP1ReQ6m3p9g/vldoc8d92D8Fac+THlTYP8qHIJG8Ktg/hRHS8qAB2D9pbCdBy9jXP6CqLwU7sNc/3i/EyO+H1z86WYcW6V/XP04n43kmONc/qOoHf6cQ1z908uqya+nWP2M9RaNywtY/0iyS3rub1j8hOg70RnXWP0KutXMTT9Y/dVtD7iAp1j8lWS/1bgPWPwTCrRr93dU/L3St8cq41T+E09YN2JPVPxOOigMkb9U/m2LgZ65K1T8t6aXQdibVP9ldXdR8AtU/Ym08CsDe1D8LBCsKQLvUP2Eewmz8l9Q/DpxKy/R01D+jFLy/KFLUP3Guu+SXL9Q/R/ea1UEN1D80v1YuJuvTPzb1lYtEydM/34Woipyn0z/XO4bJLYbTP1yizeb3ZNM/kunCgfpD0z8=\"},\"shape\":[181],\"dtype\":\"float64\",\"order\":\"little\"}],[\"y\",{\"type\":\"ndarray\",\"array\":{\"type\":\"bytes\",\"data\":\"LSt7SGUSzz9jFTAu/nDQPxPt44qBcNI/kAftanwM2z9NT9j253LgP8tFLfy18uE/03/+z5kK5D+TYzvxBZHkP5ZilzR1MOQ/6+U4aZJj4z8LF24FWvvhP7pZOq81fOI/MDx/o14b5D8KTe1EGXDkP23jiTXIM+M/LvQvfC0Q4D/201Yf6PDTP1LvDw/LB80/G/IfsmtJyj/3M1ODz7LYP0Mzrm5Q+OI/uwJIJztK4j8VsTPPCDThP8a30VpA7eM/qWdg0NcG5j+qxJ2CK0bmP6YTNmHV9eU/kH86PTOU5j9pt2i0fbXmP7o6ZVRCcuY/4qgRc9Ph5T+xBLtgRRHmP0pXG5yaIeY/VsNAn56q5T9M90BVfWrlP0N2gm6a4OU/KnIO4vjd5T/gAbaOOQrmP3aX07IjtOY/McaEIw0F5z9KjPlEFSTnP9JrOvIFS+c/e6RMc8Zl5z/DzJJLIGjnP1+bdXJAZ+c/pjVa0Rcl5z/HQIh8sA7mPxN3K3qj+eM/KTXLPk6x4j/DR6kBSf3kP0lI3CLMuOY/y4M63wpT5z+XVK8LNSHnP/TI9nWE9OY/EyoYLJ9I5z9YykmarWTnP1iYv0H8nuc/5tXCRDWi5z8UCABR7LnnP0asGnC3suc/Pzg1CFiI5z/Ti6VCJHDnP5Bj7qG+b+c/zuva3qZo5z/2mBKbhnznP8xsohjbbec/NS0GfCmh5z9EpFqOy7XnP1KmMwcyw+c/9WT7z6/B5z91hm8q7ZznP7kg45LuJec/5Uc7ig/M5j9EI088k1fnP3WXpbgJwuc/uMIn4n3G5z92br0bBrDnPx3v3PzKkuc/OfasOu+D5z+1MqxdConnP5RYloB9xOc/hvSfIfbg5z/Pwfk+mdnnP5xQW/9Bz+c/1Go6N2fh5z8dGdLfQvvnP6TR4iYqHug/iHBm8FQh6D8Q9tKISSHoP9JYafbgHeg/qN4m+aMG6D//Cv3pmNLnP/Uy1lED1Oc/9EFkZOUt6D/ii+HeuEvoP9Jcf/EdP+g/gZWf2XM46D+0SYlPjU7oP7dxjEhzYug/9uMEkr1h6D8c6mUteEXoP+UkEJWYGug/P5wNXc0U6D9FqKN3RhjoP1UhsP/+YOg/iq8ywBB86D/lzbitRn/oP77OKyNKfeg/yP3zS8tu6D9o+jdquYnoP4clHeTAleg/9OxgcCOb6D+ockjCrproP22oYlwFnug/+jTZ1Juq6D+0CSLc/bnoP/Le+J8xtug/35PIEAe56D9lMa3GV8noP8axsWzH0eg/7T/xv4DM6D9MbnMR1rroPwkwEoEPtOg//epRa7re6D8kvmEvcfjoP47AdEn0Aek/3RVTQhcK6T/mLeHuDRHpPxKuzKznF+k/cDtjO08g6T/rBeGecyTpP0sNB/ByKuk/rCsYihM46T9Gk/GIlkHpP064jjz9Sek/1PwwUL1Q6T8L56V1tljpPxHmuqz+Vuk/EpQa4Vdb6T/JSn3N4nLpP+ry7sbTgOk/96DTkXOL6T+yoKGvs5XpP5UZRUbvnuk/HTQcxY2n6T93zVfZxbDpP+tvAYh0uek/b6MJOcPD6T/w+IexSs3pP6/G+J4S1+k/EH8mYgLg6T+g7L6YXObpP2UTWWiv7uk/IWzKVtv96T9xVEAJ5wjqP0R0A/bME+o/YLEOgq4e6j8GoMCmkinqPxFT+jEeNOo/0QDa5So/6j9FbcgQBErqP80xw6oDVeo/q641QPZf6j95VCH30WnqP7/Twc4OdOo/I1Rc0Ip/6j/j+tFlqInqP/50YCxHlOo/SG5SxoWe6j8Kz4xsBKnqP+zFJbdds+o/KFfx18i96j/7nSg6/8fqP6Da0iwl0uo/yzfTU3Lc6j/T4TQyZefqPxSjXY8h8uo/8bIjmtL86j/fOtLMlwfrP4i3yAZZEus/bjvxhxYd6z8=\"},\"shape\":[181],\"dtype\":\"float64\",\"order\":\"little\"}]]}}},\"view\":{\"type\":\"object\",\"name\":\"CDSView\",\"id\":\"p1073\",\"attributes\":{\"filter\":{\"type\":\"object\",\"name\":\"AllIndices\",\"id\":\"p1074\"}}},\"glyph\":{\"type\":\"object\",\"name\":\"Line\",\"id\":\"p1069\",\"attributes\":{\"x\":{\"type\":\"field\",\"field\":\"x\"},\"y\":{\"type\":\"field\",\"field\":\"y\"},\"line_color\":\"#F0E442\",\"line_width\":3}},\"nonselection_glyph\":{\"type\":\"object\",\"name\":\"Line\",\"id\":\"p1070\",\"attributes\":{\"x\":{\"type\":\"field\",\"field\":\"x\"},\"y\":{\"type\":\"field\",\"field\":\"y\"},\"line_color\":\"#F0E442\",\"line_alpha\":0.1,\"line_width\":3}},\"muted_glyph\":{\"type\":\"object\",\"name\":\"Line\",\"id\":\"p1071\",\"attributes\":{\"x\":{\"type\":\"field\",\"field\":\"x\"},\"y\":{\"type\":\"field\",\"field\":\"y\"},\"line_color\":\"#F0E442\",\"line_alpha\":0.2,\"line_width\":3}}}}],\"toolbar\":{\"type\":\"object\",\"name\":\"Toolbar\",\"id\":\"p1006\",\"attributes\":{\"tools\":[{\"type\":\"object\",\"name\":\"PanTool\",\"id\":\"p1033\"},{\"type\":\"object\",\"name\":\"WheelZoomTool\",\"id\":\"p1034\"},{\"type\":\"object\",\"name\":\"BoxZoomTool\",\"id\":\"p1035\",\"attributes\":{\"overlay\":{\"type\":\"object\",\"name\":\"BoxAnnotation\",\"id\":\"p1036\",\"attributes\":{\"syncable\":false,\"level\":\"overlay\",\"visible\":false,\"left_units\":\"canvas\",\"right_units\":\"canvas\",\"bottom_units\":\"canvas\",\"top_units\":\"canvas\",\"line_color\":\"black\",\"line_alpha\":1.0,\"line_width\":2,\"line_dash\":[4,4],\"fill_color\":\"lightgrey\",\"fill_alpha\":0.5}}}},{\"type\":\"object\",\"name\":\"SaveTool\",\"id\":\"p1037\"},{\"type\":\"object\",\"name\":\"ResetTool\",\"id\":\"p1038\"},{\"type\":\"object\",\"name\":\"HelpTool\",\"id\":\"p1039\"}]}},\"left\":[{\"type\":\"object\",\"name\":\"LinearAxis\",\"id\":\"p1026\",\"attributes\":{\"ticker\":{\"type\":\"object\",\"name\":\"BasicTicker\",\"id\":\"p1027\",\"attributes\":{\"mantissas\":[1,2,5]}},\"formatter\":{\"type\":\"object\",\"name\":\"BasicTickFormatter\",\"id\":\"p1029\"},\"axis_label\":\"Spectrum\",\"axis_label_text_font\":\"times\",\"axis_label_text_font_size\":\"14pt\",\"axis_label_text_font_style\":\"bold\",\"major_label_policy\":{\"type\":\"object\",\"name\":\"AllLabels\",\"id\":\"p1028\"},\"major_label_text_font\":\"times\",\"major_label_text_font_size\":\"14pt\"}},{\"type\":\"object\",\"name\":\"Legend\",\"id\":\"p1075\",\"attributes\":{\"location\":[0,0],\"click_policy\":\"mute\",\"items\":[{\"type\":\"object\",\"name\":\"LegendItem\",\"id\":\"p1076\",\"attributes\":{\"label\":{\"type\":\"value\",\"value\":\"Toon89\"},\"renderers\":[{\"id\":\"p1054\"}]}},{\"type\":\"object\",\"name\":\"LegendItem\",\"id\":\"p1077\",\"attributes\":{\"label\":{\"type\":\"value\",\"value\":\"SH4 (OTHG multi)\"},\"renderers\":[{\"id\":\"p1063\"}]}},{\"type\":\"object\",\"name\":\"LegendItem\",\"id\":\"p1078\",\"attributes\":{\"label\":{\"type\":\"value\",\"value\":\"SH4 (TTHG multi)\"},\"renderers\":[{\"id\":\"p1072\"}]}}]}}],\"below\":[{\"type\":\"object\",\"name\":\"LinearAxis\",\"id\":\"p1019\",\"attributes\":{\"ticker\":{\"type\":\"object\",\"name\":\"BasicTicker\",\"id\":\"p1020\",\"attributes\":{\"mantissas\":[1,2,5]}},\"formatter\":{\"type\":\"object\",\"name\":\"BasicTickFormatter\",\"id\":\"p1022\"},\"axis_label\":\"Wavelength [\\u03bcm]\",\"axis_label_text_font\":\"times\",\"axis_label_text_font_size\":\"14pt\",\"axis_label_text_font_style\":\"bold\",\"major_label_policy\":{\"type\":\"object\",\"name\":\"AllLabels\",\"id\":\"p1021\"},\"major_label_text_font\":\"times\",\"major_label_text_font_size\":\"14pt\"}}],\"center\":[{\"type\":\"object\",\"name\":\"Grid\",\"id\":\"p1025\",\"attributes\":{\"axis\":{\"id\":\"p1019\"}}},{\"type\":\"object\",\"name\":\"Grid\",\"id\":\"p1032\",\"attributes\":{\"dimension\":1,\"axis\":{\"id\":\"p1026\"}}}]}}]}};\n",
       "  const render_items = [{\"docid\":\"0e9398c2-608c-4f06-a4b8-cee35e9a2ea9\",\"roots\":{\"p1002\":\"238be0bd-b351-4eb8-8135-75404b4a35b7\"},\"root_ids\":[\"p1002\"]}];\n",
       "  root.Bokeh.embed.embed_items_notebook(docs_json, render_items);\n",
       "  }\n",
       "  if (root.Bokeh !== undefined) {\n",
       "    embed_document(root);\n",
       "  } else {\n",
       "    let attempts = 0;\n",
       "    const timer = setInterval(function(root) {\n",
       "      if (root.Bokeh !== undefined) {\n",
       "        clearInterval(timer);\n",
       "        embed_document(root);\n",
       "      } else {\n",
       "        attempts++;\n",
       "        if (attempts > 100) {\n",
       "          clearInterval(timer);\n",
       "          console.log(\"Bokeh: ERROR: Unable to run BokehJS code because BokehJS library is missing\");\n",
       "        }\n",
       "      }\n",
       "    }, 10, root)\n",
       "  }\n",
       "})(window);"
      ],
      "application/vnd.bokehjs_exec.v0+json": ""
     },
     "metadata": {
      "application/vnd.bokehjs_exec.v0+json": {
       "id": "p1002"
      }
     },
     "output_type": "display_data"
    }
   ],
   "source": [
    "jpi.show(jpi.spectrum([wno]*3, albs, labels, width=700))"
   ]
  },
  {
   "cell_type": "markdown",
   "metadata": {},
   "source": [
    "## Reproducing Figure 5b from Rooney et al. 2023\n",
    "\n",
    "Here we reproduce the same procedure from above, but with a different cloud setup."
   ]
  },
  {
   "cell_type": "code",
   "execution_count": 7,
   "metadata": {
    "execution": {
     "iopub.execute_input": "2024-04-02T06:00:45.423606Z",
     "iopub.status.busy": "2024-04-02T06:00:45.423351Z",
     "iopub.status.idle": "2024-04-02T06:00:45.435296Z",
     "shell.execute_reply": "2024-04-02T06:00:45.434808Z"
    }
   },
   "outputs": [],
   "source": [
    "#set model clouds, note these are lists since you can specify multiple cloud layers\n",
    "case1.clouds( g0=[0.9], w0=[0.8], opd=[0.5], p = [0.0], dp=[1.0])  # Slab cloud from 1.0 bar up to 0.1 bar\n",
    "labels = []\n",
    "albs = []"
   ]
  },
  {
   "cell_type": "code",
   "execution_count": 8,
   "metadata": {
    "execution": {
     "iopub.execute_input": "2024-04-02T06:00:45.438353Z",
     "iopub.status.busy": "2024-04-02T06:00:45.438133Z",
     "iopub.status.idle": "2024-04-02T06:00:47.209747Z",
     "shell.execute_reply": "2024-04-02T06:00:47.209156Z"
    }
   },
   "outputs": [],
   "source": [
    "multi_phase = 'N=2'\n",
    "single_phase='TTHG_ray'\n",
    "DE = True\n",
    "\n",
    "case1.approx(multi_phase=multi_phase,single_phase=single_phase,\n",
    "             delta_eddington=DE, raman='none')\n",
    "df = case1.spectrum(opa)\n",
    "wno, alb, fpfs = df['wavenumber'] , df['albedo'] , df['fpfs_reflected'] \n",
    "wno, alb = jdi.mean_regrid(wno, alb, R=150)\n",
    "labels+=['Toon89']\n",
    "albs+=[alb]"
   ]
  },
  {
   "cell_type": "code",
   "execution_count": 9,
   "metadata": {
    "execution": {
     "iopub.execute_input": "2024-04-02T06:00:47.214364Z",
     "iopub.status.busy": "2024-04-02T06:00:47.214079Z",
     "iopub.status.idle": "2024-04-02T06:00:57.994105Z",
     "shell.execute_reply": "2024-04-02T06:00:57.992725Z"
    }
   },
   "outputs": [],
   "source": [
    "#run SH4\n",
    "w_single_form='OTHG'; w_single_rayleigh='off' \n",
    "w_multi_form='OTHG'; w_multi_rayleigh='on'\n",
    "psingle_form='TTHG'; psingle_rayleigh='on'\n",
    "\n",
    "case1.approx(rt_method='SH', stream=4, \n",
    "              w_single_form=w_single_form, w_single_rayleigh=w_single_rayleigh,\n",
    "              w_multi_form=w_multi_form, w_multi_rayleigh=w_multi_rayleigh,\n",
    "             psingle_form=psingle_form, psingle_rayleigh=psingle_rayleigh,\n",
    "             delta_eddington=DE, raman='none')\n",
    "# case1.approx(rt_method='SH', stream=4, delta_eddington=DE, raman='none')\n",
    "df2 = case1.spectrum(opa)\n",
    "wno2, alb2, fpfs2 = df2['wavenumber'] , df2['albedo'] , df2['fpfs_reflected'] \n",
    "wno2, alb2 = jdi.mean_regrid(wno2, alb2, R=150)\n",
    "labels+=['SH4 (OTHG single)']\n",
    "albs+=[alb2]"
   ]
  },
  {
   "cell_type": "code",
   "execution_count": 10,
   "metadata": {
    "execution": {
     "iopub.execute_input": "2024-04-02T06:00:57.999485Z",
     "iopub.status.busy": "2024-04-02T06:00:57.999125Z",
     "iopub.status.idle": "2024-04-02T06:01:09.019162Z",
     "shell.execute_reply": "2024-04-02T06:01:09.017680Z"
    }
   },
   "outputs": [],
   "source": [
    "#run SH2\n",
    "w_multi_form='TTHG'; w_multi_rayleigh='on'\n",
    "\n",
    "case1.approx(rt_method='SH', stream=4, \n",
    "              w_single_form=w_single_form, w_single_rayleigh=w_single_rayleigh,\n",
    "              w_multi_form=w_multi_form, w_multi_rayleigh=w_multi_rayleigh,\n",
    "             psingle_form=psingle_form, psingle_rayleigh=psingle_rayleigh,\n",
    "             delta_eddington=DE, raman='none')\n",
    "df3 = case1.spectrum(opa)\n",
    "wno3, alb3, fpfs3 = df3['wavenumber'] , df3['albedo'] , df3['fpfs_reflected'] \n",
    "wno3, alb3 = jdi.mean_regrid(wno3, alb3, R=150)\n",
    "labels+=['SH4 (TTHG multi)']\n",
    "albs+=[alb3]"
   ]
  },
  {
   "cell_type": "code",
   "execution_count": 11,
   "metadata": {
    "execution": {
     "iopub.execute_input": "2024-04-02T06:01:09.023944Z",
     "iopub.status.busy": "2024-04-02T06:01:09.023642Z",
     "iopub.status.idle": "2024-04-02T06:01:09.091028Z",
     "shell.execute_reply": "2024-04-02T06:01:09.090555Z"
    }
   },
   "outputs": [
    {
     "data": {
      "text/html": [
       "\n",
       "  <div id=\"ad699c36-7885-4fe7-bd31-be52e037c10b\" data-root-id=\"p1238\" style=\"display: contents;\"></div>\n"
      ]
     },
     "metadata": {},
     "output_type": "display_data"
    },
    {
     "data": {
      "application/javascript": [
       "(function(root) {\n",
       "  function embed_document(root) {\n",
       "  const docs_json = {\"5dc69b8f-d4e4-411b-bdbf-46893662bb18\":{\"version\":\"3.0.2\",\"title\":\"Bokeh Application\",\"defs\":[],\"roots\":[{\"type\":\"object\",\"name\":\"Figure\",\"id\":\"p1238\",\"attributes\":{\"width\":700,\"height\":345,\"x_range\":{\"type\":\"object\",\"name\":\"DataRange1d\",\"id\":\"p1239\"},\"y_range\":{\"type\":\"object\",\"name\":\"DataRange1d\",\"id\":\"p1240\"},\"x_scale\":{\"type\":\"object\",\"name\":\"LinearScale\",\"id\":\"p1251\"},\"y_scale\":{\"type\":\"object\",\"name\":\"LinearScale\",\"id\":\"p1253\"},\"title\":{\"type\":\"object\",\"name\":\"Title\",\"id\":\"p1245\"},\"renderers\":[{\"type\":\"object\",\"name\":\"GlyphRenderer\",\"id\":\"p1290\",\"attributes\":{\"data_source\":{\"type\":\"object\",\"name\":\"ColumnDataSource\",\"id\":\"p1284\",\"attributes\":{\"selected\":{\"type\":\"object\",\"name\":\"Selection\",\"id\":\"p1285\",\"attributes\":{\"indices\":[],\"line_indices\":[]}},\"selection_policy\":{\"type\":\"object\",\"name\":\"UnionRenderers\",\"id\":\"p1286\"},\"data\":{\"type\":\"map\",\"entries\":[[\"x\",{\"type\":\"ndarray\",\"array\":{\"type\":\"bytes\",\"data\":\"aje9umj77z9XJEn5AcXvPwOLMsH3ju8/ZOMRdUlZ7z8AZIt49iPvP4Q6TTD+7u4/T8cNAmC67j8Y3IlUG4buP4H9go8vUu4/n6e9G5we7j9/lf9iYOvtP5MLDtB7uO0/BCWszu2F7T/rI5nLtVPtP2zEjjTTIe0/pJI/eEXw7D9sQ1UGDL/sP/EPb08mjuw/FhQgxZNd7D+Zr+3ZUy3sP/fpTQFm/es/Gtmlr8nN6z+xCkhafp7rP0HwcneDb+s/6k1PfthA6z/Nq+7mfBLrPyDKSSpw5Oo/4Rc/wrG26j8iLJEpQYnqP/RB5dsdXOo/4rbBVUcv6j/+i4wUvQLqP3jpiZZ+1uk/u6TaWouq6T8PyXrh4n7pP7giQKuEU+k/lszYOXAo6T8swMkPpf3oPyZobbAi0+g/RjXyn+io6D/FNVlj9n7oPwmvdIBLVeg/x7nmfecr6D+F4B/jyQLoP2nAXTjy2ec/a6ypBmCx5z/TUtfXEonnP/tkgzYKYec/cEESrkU55z9CoK7KxBHnP6RBSBmH6uY/wp6SJ4zD5j/bnAOE05zmP4NC0r1cduY/JW/1ZCdQ5j+ulCIKMyrmP19zzD5/BOY/0dchlQvf5T8OWwyg17nlP98kL/PilOU/G7DlIi1w5T8skULEtUvlP44+Dm18J+U/fNvFs4AD5T+NBJovwt/kP3WebXhAvOQ/w6bUJvuY5D+cBhPU8XXkP4ZnGxokU+Q/IgqOk5Ew5D/mnrfbOQ7kP9IgkI4c7OM/CrK5SDnK4z9sen+nj6jjPxGI1Egfh+M/r7FSy+dl4z/sejnO6ETjP4n6bPEhJOM/cMJ01ZID4z+nyXobO+PiPw1YSmUaw+I/9fNOVTCj4j+YUZOOfIPiP0tEwLT+Y+I/jrEbbLZE4j/ZhYdZoyXiPzurgCLFBuI/sQEebRvo4T9IWQ/gpcnhP/RtnCJkq+E/JOWj3FWN4T8VTZq2em/hP8sdiVnSUeE/yrsNb1w04T91fFihGBfhPxusK5sG+uA/s5XaBybd4D8zjEiTdsDgP5X15+n3o+A/dVe5uKmH4D9WZUqti2vgP3cQtXWdT+A/SZmewN4z4D95ojY9TxjgPxWLbDbd+d8/BlK+FXnD3z9OMPV5cY3fP344scXFV98/wi6eXHUi3z+XwXGjf+3eP2fF6f/juN4/S3PK2KGE3j+oqtyVuFDeP9o17J8nHd4/xxHGYO7p3T9cuDZDDLfdP/5tCLOAhN0/05EBHUtS3T/38OLuaiDdP3EcZpff7tw/GsI7hqi93D9ACAosxYzcPyHsavo0XNw/H6PqY/cr3D+9/gXcC/zbP17TKNdxzNs/s2Gsyiid2z/bwtUsMG7bP0BX1HSHP9s/DzjAGi4R2z9bq5iXI+PaP+eaQmVntdo/ig2H/viH2j8koxHf11raPywTb4MDLto/160LaXsB2j+23zEOP9XZP/S3CPJNqdk//nCSlKd92T+4+6p2S1LZPy+NBho5J9k/sS4wAXD82D9nUIiv79HYP1ReQ6m3p9g/vldoc8d92D8Fac+THlTYP8qHIJG8Ktg/hRHS8qAB2D9pbCdBy9jXP6CqLwU7sNc/3i/EyO+H1z86WYcW6V/XP04n43kmONc/qOoHf6cQ1z908uqya+nWP2M9RaNywtY/0iyS3rub1j8hOg70RnXWP0KutXMTT9Y/dVtD7iAp1j8lWS/1bgPWPwTCrRr93dU/L3St8cq41T+E09YN2JPVPxOOigMkb9U/m2LgZ65K1T8t6aXQdibVP9ldXdR8AtU/Ym08CsDe1D8LBCsKQLvUP2Eewmz8l9Q/DpxKy/R01D+jFLy/KFLUP3Guu+SXL9Q/R/ea1UEN1D80v1YuJuvTPzb1lYtEydM/34Woipyn0z/XO4bJLYbTP1yizeb3ZNM/kunCgfpD0z8=\"},\"shape\":[181],\"dtype\":\"float64\",\"order\":\"little\"}],[\"y\",{\"type\":\"ndarray\",\"array\":{\"type\":\"bytes\",\"data\":\"YLPQ95LUvD9LZmjIxs+8P3rmNEAGCL0/E0BDTq+6vz/qsGlbFyzAP/EknmfyYsA/1CbsANq2wD+3JVdWSNDAP2NGtmRt0MA/n8w73q/DwD+b1Ea9/q7APxaZW/SBlcA/KRdBSr3FwD+9jnKU7sPAP/mrhVX3p8A/ZstodQQpwD9lIh3U0y+9P/mlPcHXE7s/83Ub3d8Yuj8wSP2ZiZS+Pzn9h3jXrMA/f034g0KHwD9qSP/BLEjAP0hqu6o1xsA/N80ZBy8jwT8/Zbaz+S/BP/quP8jXD8E/NITssNsZwT/BOz00whnBPyVOHMv1GME/J1ZTtYwJwT+vvN/IDg7BPwsuRYL0L8E/dxVsSJsVwT+e+gcnlRzBP16Jk1HtNcE/MiEyDlxMwT8pc4OrG4jBP+5mhmGtzsE/06uTS70Dwj869oF7qTrCPxke+XTVfMI/GeG+avS3wj91j8cMs7rCP2FzI+8DecI/5DPwQuXTwT94UsNpu1PBP4uCYNek1sA/d85F7ymZwD9Akz5/OAjBP7nZdj9ykcE/JiDAgpA/wj/e1CIZRB/CP8/TF5L/8cE/gldFCTxhwj9LZp9JG1vCP7FkUSsKUcU/b6cvulbwxT9RCQ2c9p7GPybe65A0sMY/Mrz3oh/4xT+GT4LXGfvEP6gRPwcrC8Q/lg7A+Johwz/VxVfiqofDP7qQ+7tk2cI/4ik+RI3SxD80UlZSS7rFP01EVPDbP8Y/Qx1SIbxdxj913Kjc/X3FPwc2YKQG/8U/iVcM+39txT9uIUhkiHXGP8V9yzI17cY///ipWNIAxj9bdXnlY7zEP7FP0mdUs8M/MW787ANuwz9ThVs+CP/CP28LtuBSScU/cgEabq2dxj83FEC/CsbGP+PKW+mtZsY/OPtrYruqxj8GacBV8nLHP1CYOoui8sg/ak6dLLHhyD/14lk8n6HIP43uIuOEIsg/rkEY0MpMxz9D34tPv77GPzsOoJ4p4cY/Kq34hjGhyD/YY5jA2z3JP63EISO5zcg/It9fraaTyD+UwhOf7xfJPzr3ou9YcMk/ehT2EiUoyT9YmaiBnF/IPyjzQmToTsc/aRrqolEqxz8YcQBLqCDHP67aBWCrHck/yJWnjUf7yT9xxTkxv/HJP3ADFMmD1ck/hMqWvOSSyT+5Z66EgRnKPyXjQn0ELco/U9+CZ5kKyj+TVIxWwd3JP+2HIPxH2ck/AT1fOp4hyj/tbXd99YjKPzXG1HhVa8o/4erjMq5Xyj84b11HD2/KP/O5vPOuXMo/+WkNwqcMyj9uWqoW8KXJP6yhVgdDgMk/mtFVBDlIyj9ot5m9u9DKPwhET9bX8so/vdKMvCj4yj+LoT4T0fbKP70HiUvM8Mo/YT2wzEv4yj8fbjZvNOzKPyivsg1L6co/7Sj/YD8Zyz+ahOo8oS/LP69b8bY1Mss/qAUC8U8myz+/CrNrMRfLP71HoHjH78o/9rt2G43oyj+WiRTaJjDLP+Xc72jjW8s/eMPVahNvyz+n46HY6HnLPzVmmrDZf8s/Q/5Rv8ODyz+h1C71oYzLP4R9tFPikcs/vsyK5r+hyz8pflj4I6rLP6NuQNrYscs/4R1U9j+zyz8PtgiOKK/LPzGiuDbBtcs/+UJVjenWyz/3HULKkubLP4zeH+jU88s/e4XpF1gAzD9ebIzVugzMP9BXPL05Fsw//zToZB0jzD+1VWPGaC7MP0C58rPBOcw/cKYhuMlEzD9g+Ku3vU3MP3KG/QqHW8w/ZIYdASRuzD8h9g2aInzMP9zdMJD+i8w/m1J8K2eazD+LJ03PAarMP3wHgvT6uMw/2pxvf57IzD9l3Cbu4NfMP3wr/Uxu58w/JJV30S74zD/58W2dugrNP/jJ0mFRHM0/tMwJbWAuzT/3Bi/TOkHNP1uth+pjVM0/GovM4hJozT8=\"},\"shape\":[181],\"dtype\":\"float64\",\"order\":\"little\"}]]}}},\"view\":{\"type\":\"object\",\"name\":\"CDSView\",\"id\":\"p1291\",\"attributes\":{\"filter\":{\"type\":\"object\",\"name\":\"AllIndices\",\"id\":\"p1292\"}}},\"glyph\":{\"type\":\"object\",\"name\":\"Line\",\"id\":\"p1287\",\"attributes\":{\"x\":{\"type\":\"field\",\"field\":\"x\"},\"y\":{\"type\":\"field\",\"field\":\"y\"},\"line_color\":\"#0072B2\",\"line_width\":3}},\"nonselection_glyph\":{\"type\":\"object\",\"name\":\"Line\",\"id\":\"p1288\",\"attributes\":{\"x\":{\"type\":\"field\",\"field\":\"x\"},\"y\":{\"type\":\"field\",\"field\":\"y\"},\"line_color\":\"#0072B2\",\"line_alpha\":0.1,\"line_width\":3}},\"muted_glyph\":{\"type\":\"object\",\"name\":\"Line\",\"id\":\"p1289\",\"attributes\":{\"x\":{\"type\":\"field\",\"field\":\"x\"},\"y\":{\"type\":\"field\",\"field\":\"y\"},\"line_color\":\"#0072B2\",\"line_alpha\":0.2,\"line_width\":3}}}},{\"type\":\"object\",\"name\":\"GlyphRenderer\",\"id\":\"p1299\",\"attributes\":{\"data_source\":{\"type\":\"object\",\"name\":\"ColumnDataSource\",\"id\":\"p1293\",\"attributes\":{\"selected\":{\"type\":\"object\",\"name\":\"Selection\",\"id\":\"p1294\",\"attributes\":{\"indices\":[],\"line_indices\":[]}},\"selection_policy\":{\"type\":\"object\",\"name\":\"UnionRenderers\",\"id\":\"p1295\"},\"data\":{\"type\":\"map\",\"entries\":[[\"x\",{\"type\":\"ndarray\",\"array\":{\"type\":\"bytes\",\"data\":\"aje9umj77z9XJEn5AcXvPwOLMsH3ju8/ZOMRdUlZ7z8AZIt49iPvP4Q6TTD+7u4/T8cNAmC67j8Y3IlUG4buP4H9go8vUu4/n6e9G5we7j9/lf9iYOvtP5MLDtB7uO0/BCWszu2F7T/rI5nLtVPtP2zEjjTTIe0/pJI/eEXw7D9sQ1UGDL/sP/EPb08mjuw/FhQgxZNd7D+Zr+3ZUy3sP/fpTQFm/es/Gtmlr8nN6z+xCkhafp7rP0HwcneDb+s/6k1PfthA6z/Nq+7mfBLrPyDKSSpw5Oo/4Rc/wrG26j8iLJEpQYnqP/RB5dsdXOo/4rbBVUcv6j/+i4wUvQLqP3jpiZZ+1uk/u6TaWouq6T8PyXrh4n7pP7giQKuEU+k/lszYOXAo6T8swMkPpf3oPyZobbAi0+g/RjXyn+io6D/FNVlj9n7oPwmvdIBLVeg/x7nmfecr6D+F4B/jyQLoP2nAXTjy2ec/a6ypBmCx5z/TUtfXEonnP/tkgzYKYec/cEESrkU55z9CoK7KxBHnP6RBSBmH6uY/wp6SJ4zD5j/bnAOE05zmP4NC0r1cduY/JW/1ZCdQ5j+ulCIKMyrmP19zzD5/BOY/0dchlQvf5T8OWwyg17nlP98kL/PilOU/G7DlIi1w5T8skULEtUvlP44+Dm18J+U/fNvFs4AD5T+NBJovwt/kP3WebXhAvOQ/w6bUJvuY5D+cBhPU8XXkP4ZnGxokU+Q/IgqOk5Ew5D/mnrfbOQ7kP9IgkI4c7OM/CrK5SDnK4z9sen+nj6jjPxGI1Egfh+M/r7FSy+dl4z/sejnO6ETjP4n6bPEhJOM/cMJ01ZID4z+nyXobO+PiPw1YSmUaw+I/9fNOVTCj4j+YUZOOfIPiP0tEwLT+Y+I/jrEbbLZE4j/ZhYdZoyXiPzurgCLFBuI/sQEebRvo4T9IWQ/gpcnhP/RtnCJkq+E/JOWj3FWN4T8VTZq2em/hP8sdiVnSUeE/yrsNb1w04T91fFihGBfhPxusK5sG+uA/s5XaBybd4D8zjEiTdsDgP5X15+n3o+A/dVe5uKmH4D9WZUqti2vgP3cQtXWdT+A/SZmewN4z4D95ojY9TxjgPxWLbDbd+d8/BlK+FXnD3z9OMPV5cY3fP344scXFV98/wi6eXHUi3z+XwXGjf+3eP2fF6f/juN4/S3PK2KGE3j+oqtyVuFDeP9o17J8nHd4/xxHGYO7p3T9cuDZDDLfdP/5tCLOAhN0/05EBHUtS3T/38OLuaiDdP3EcZpff7tw/GsI7hqi93D9ACAosxYzcPyHsavo0XNw/H6PqY/cr3D+9/gXcC/zbP17TKNdxzNs/s2Gsyiid2z/bwtUsMG7bP0BX1HSHP9s/DzjAGi4R2z9bq5iXI+PaP+eaQmVntdo/ig2H/viH2j8koxHf11raPywTb4MDLto/160LaXsB2j+23zEOP9XZP/S3CPJNqdk//nCSlKd92T+4+6p2S1LZPy+NBho5J9k/sS4wAXD82D9nUIiv79HYP1ReQ6m3p9g/vldoc8d92D8Fac+THlTYP8qHIJG8Ktg/hRHS8qAB2D9pbCdBy9jXP6CqLwU7sNc/3i/EyO+H1z86WYcW6V/XP04n43kmONc/qOoHf6cQ1z908uqya+nWP2M9RaNywtY/0iyS3rub1j8hOg70RnXWP0KutXMTT9Y/dVtD7iAp1j8lWS/1bgPWPwTCrRr93dU/L3St8cq41T+E09YN2JPVPxOOigMkb9U/m2LgZ65K1T8t6aXQdibVP9ldXdR8AtU/Ym08CsDe1D8LBCsKQLvUP2Eewmz8l9Q/DpxKy/R01D+jFLy/KFLUP3Guu+SXL9Q/R/ea1UEN1D80v1YuJuvTPzb1lYtEydM/34Woipyn0z/XO4bJLYbTP1yizeb3ZNM/kunCgfpD0z8=\"},\"shape\":[181],\"dtype\":\"float64\",\"order\":\"little\"}],[\"y\",{\"type\":\"ndarray\",\"array\":{\"type\":\"bytes\",\"data\":\"KCPU+4EDvT+F4XThuf28P+ydzH++Or0/Ebb/pBAGwD/Av7Ika1nAP7vd3inbk8A/b8Bx6aDtwD8J5Yhc7wjBP+02rMYUCcE/qsLwkUb7wD+10A7w5OTAP9XNU8B/ycA/UD1lG+38wD9yTHfdTPvAP7Nd9pBC3cA/YRc6TjpWwD+4uExQoGC9P4TkQ/lvLrs/rOPc3KItuj9JbXcUKNm+P7NvbaB/4cA/MlcsPY65wD9sOt9z5XbAP1W+7XMQ/MA/ijrXn3xdwT+9rb3VtmrBPwFxJnXyScE/0K81osdVwT/i8iV7FlbBP8KYIzQpVcE/8KvV+UdFwT80t6djmEnBP8tKyu/dasE//68895xPwT/iy1g0glXBP3rZiwjGb8E/+alT+UKFwT+GZaOYU77BP4URgVTSA8I/59G++U83wj8BiP0iN2vCP5LxpaRtqcI/0NmCFN/gwj+n1nf0lePCP4ZKEj5Tp8I/uerW4l0Mwj83zhyp/Y3BP/EKHbW0DcE/dPQaQmjNwD+TeUcnOELBPz3eTSINy8E/TsGr4gBwwj80Wk1CEFDCP+PZG52UJcI/eP6uEhaLwj/2f++A1ojCP3VNS8/FJsU/BAzvBuaxxT8WxgtDGVDGP3WYiBugXcY/pYfwraK2xT/X54Eq4tfEP1RbG4qlBsQ/HJIoHa85wz95OLPO+ZLDPxq46uQL+8I/M9rqK/u2xD/IZa8eWYDFP2w7J5l89MU/KH4k/wsNxj/daC7yWUTFP3p7nfPIpsU/A2cUcEkjxT9Q+9weBRTGP1fl37+wjMY/7ZZq2KTDxT+OyVvA96jEPxp3EpabwcM/OcaiYHaCwz+43AvcriPDPyiafdnCIsU/Y/Z+Xj9Kxj+Sgkfe3WvGPxi+pfZjF8Y/0Bkpf/pTxj+8CfFsmwXHP2nyDpyIUsg/VW1tgs9DyD8hjesbfAzIP9X8x1OEoMc/y1N93eLjxj+wanqW4WPGP5ai75e/g8Y/BahMZiEOyD9vB5lYZJfIP+z49AOiMcg/5dJGF339xz+p/1MW6XTIP9GeZFZvx8g/ZOoe0I6MyD+ukZiBod7HPwJg7SX/78Y/7g3GTGfPxj9+/QSAr8jGPzzgNQFtg8g/vk63wcdEyT/0EzM34TzJP1kidXmTI8k/7vju/IroyD9flZSm6l/JP/INQrRXcsk/+TIA+wBWyT9U9jJwti/JP9vP2MRyLMk/G2c27qJryT8UEkFwBcbJP9y3HI/dq8k/01IgX3ubyT9EHVFRIrLJP3HEL0oTpMk/GtAnYStgyT/9EiFSVwfJP6uSHysm58g/wnbYR0mVyT/ANNrodwzKPwfSsBT6Kso/71n6zr4wyj/zqJqCsDDKP0CR+YCzLMo/iD3uYW80yj/AaGOqHivKP947P/7JKco/hFEjuIFUyj8EDHIMF2nKPyxk66q8bMo/eJX6//Vjyj83r6rLnljKPyDpfnwpOMo/UU1sQYwzyj/H8iHas3LKP/7E/0XVmco/dxbP3P6ryj+NvasyFLfKPymOBWQKvso/bY/FmlDDyj/NmKh948zKP1ZmAb1x08o/Vc2Ywh3jyj+XJYAie+zKPwZ8bklc9co/9/9t7vH4yj9SiGwQ5PfKPzSqPE0JAMs/9eQ+Dtseyz/4440I2y7LP0laHXnsPMs/r4AvP25Kyz+nnLdd7FfLPyDbmsQXY8s/j1qb9DVxyz+qGc2gFn7LP3I63nQmi8s/3kcdPwqYyz+mjhQaS6PLPzVT/1/Esss/D9yhpmbGyz/21BmgR9bLP9YumXXk58s//uYXYWb4yz/1l/I5DgrMP2RI/3xfG8w/+f7cAF8tzD/99Bt6OD/MP/PmakiHUcw/Jnvx4vhkzD8rWIQ+F3rMPzwdFEKnjsw/qjqEzMKjzD+ZbMWAu7nMP7yBHmU50Mw/rINryl/nzD8=\"},\"shape\":[181],\"dtype\":\"float64\",\"order\":\"little\"}]]}}},\"view\":{\"type\":\"object\",\"name\":\"CDSView\",\"id\":\"p1300\",\"attributes\":{\"filter\":{\"type\":\"object\",\"name\":\"AllIndices\",\"id\":\"p1301\"}}},\"glyph\":{\"type\":\"object\",\"name\":\"Line\",\"id\":\"p1296\",\"attributes\":{\"x\":{\"type\":\"field\",\"field\":\"x\"},\"y\":{\"type\":\"field\",\"field\":\"y\"},\"line_color\":\"#E69F00\",\"line_width\":3}},\"nonselection_glyph\":{\"type\":\"object\",\"name\":\"Line\",\"id\":\"p1297\",\"attributes\":{\"x\":{\"type\":\"field\",\"field\":\"x\"},\"y\":{\"type\":\"field\",\"field\":\"y\"},\"line_color\":\"#E69F00\",\"line_alpha\":0.1,\"line_width\":3}},\"muted_glyph\":{\"type\":\"object\",\"name\":\"Line\",\"id\":\"p1298\",\"attributes\":{\"x\":{\"type\":\"field\",\"field\":\"x\"},\"y\":{\"type\":\"field\",\"field\":\"y\"},\"line_color\":\"#E69F00\",\"line_alpha\":0.2,\"line_width\":3}}}},{\"type\":\"object\",\"name\":\"GlyphRenderer\",\"id\":\"p1308\",\"attributes\":{\"data_source\":{\"type\":\"object\",\"name\":\"ColumnDataSource\",\"id\":\"p1302\",\"attributes\":{\"selected\":{\"type\":\"object\",\"name\":\"Selection\",\"id\":\"p1303\",\"attributes\":{\"indices\":[],\"line_indices\":[]}},\"selection_policy\":{\"type\":\"object\",\"name\":\"UnionRenderers\",\"id\":\"p1304\"},\"data\":{\"type\":\"map\",\"entries\":[[\"x\",{\"type\":\"ndarray\",\"array\":{\"type\":\"bytes\",\"data\":\"aje9umj77z9XJEn5AcXvPwOLMsH3ju8/ZOMRdUlZ7z8AZIt49iPvP4Q6TTD+7u4/T8cNAmC67j8Y3IlUG4buP4H9go8vUu4/n6e9G5we7j9/lf9iYOvtP5MLDtB7uO0/BCWszu2F7T/rI5nLtVPtP2zEjjTTIe0/pJI/eEXw7D9sQ1UGDL/sP/EPb08mjuw/FhQgxZNd7D+Zr+3ZUy3sP/fpTQFm/es/Gtmlr8nN6z+xCkhafp7rP0HwcneDb+s/6k1PfthA6z/Nq+7mfBLrPyDKSSpw5Oo/4Rc/wrG26j8iLJEpQYnqP/RB5dsdXOo/4rbBVUcv6j/+i4wUvQLqP3jpiZZ+1uk/u6TaWouq6T8PyXrh4n7pP7giQKuEU+k/lszYOXAo6T8swMkPpf3oPyZobbAi0+g/RjXyn+io6D/FNVlj9n7oPwmvdIBLVeg/x7nmfecr6D+F4B/jyQLoP2nAXTjy2ec/a6ypBmCx5z/TUtfXEonnP/tkgzYKYec/cEESrkU55z9CoK7KxBHnP6RBSBmH6uY/wp6SJ4zD5j/bnAOE05zmP4NC0r1cduY/JW/1ZCdQ5j+ulCIKMyrmP19zzD5/BOY/0dchlQvf5T8OWwyg17nlP98kL/PilOU/G7DlIi1w5T8skULEtUvlP44+Dm18J+U/fNvFs4AD5T+NBJovwt/kP3WebXhAvOQ/w6bUJvuY5D+cBhPU8XXkP4ZnGxokU+Q/IgqOk5Ew5D/mnrfbOQ7kP9IgkI4c7OM/CrK5SDnK4z9sen+nj6jjPxGI1Egfh+M/r7FSy+dl4z/sejnO6ETjP4n6bPEhJOM/cMJ01ZID4z+nyXobO+PiPw1YSmUaw+I/9fNOVTCj4j+YUZOOfIPiP0tEwLT+Y+I/jrEbbLZE4j/ZhYdZoyXiPzurgCLFBuI/sQEebRvo4T9IWQ/gpcnhP/RtnCJkq+E/JOWj3FWN4T8VTZq2em/hP8sdiVnSUeE/yrsNb1w04T91fFihGBfhPxusK5sG+uA/s5XaBybd4D8zjEiTdsDgP5X15+n3o+A/dVe5uKmH4D9WZUqti2vgP3cQtXWdT+A/SZmewN4z4D95ojY9TxjgPxWLbDbd+d8/BlK+FXnD3z9OMPV5cY3fP344scXFV98/wi6eXHUi3z+XwXGjf+3eP2fF6f/juN4/S3PK2KGE3j+oqtyVuFDeP9o17J8nHd4/xxHGYO7p3T9cuDZDDLfdP/5tCLOAhN0/05EBHUtS3T/38OLuaiDdP3EcZpff7tw/GsI7hqi93D9ACAosxYzcPyHsavo0XNw/H6PqY/cr3D+9/gXcC/zbP17TKNdxzNs/s2Gsyiid2z/bwtUsMG7bP0BX1HSHP9s/DzjAGi4R2z9bq5iXI+PaP+eaQmVntdo/ig2H/viH2j8koxHf11raPywTb4MDLto/160LaXsB2j+23zEOP9XZP/S3CPJNqdk//nCSlKd92T+4+6p2S1LZPy+NBho5J9k/sS4wAXD82D9nUIiv79HYP1ReQ6m3p9g/vldoc8d92D8Fac+THlTYP8qHIJG8Ktg/hRHS8qAB2D9pbCdBy9jXP6CqLwU7sNc/3i/EyO+H1z86WYcW6V/XP04n43kmONc/qOoHf6cQ1z908uqya+nWP2M9RaNywtY/0iyS3rub1j8hOg70RnXWP0KutXMTT9Y/dVtD7iAp1j8lWS/1bgPWPwTCrRr93dU/L3St8cq41T+E09YN2JPVPxOOigMkb9U/m2LgZ65K1T8t6aXQdibVP9ldXdR8AtU/Ym08CsDe1D8LBCsKQLvUP2Eewmz8l9Q/DpxKy/R01D+jFLy/KFLUP3Guu+SXL9Q/R/ea1UEN1D80v1YuJuvTPzb1lYtEydM/34Woipyn0z/XO4bJLYbTP1yizeb3ZNM/kunCgfpD0z8=\"},\"shape\":[181],\"dtype\":\"float64\",\"order\":\"little\"}],[\"y\",{\"type\":\"ndarray\",\"array\":{\"type\":\"bytes\",\"data\":\"pxnLbS5qvj8m3uPrj2e+P9zjfuOIsL4/R4z90snewD9HgZp4VD7BP0syfTU6fsE/6nRI3AjhwT+1A8+YCf/BP1A7Hvvs/sE/ZsBWrm7uwT/xBoLtTtXBP+pmRU58tcE/vSLHlfTrwT/38jw+HOzBPxlTu8MCy8E/zQzSTh04wT+ssEHHjt++P5dmGPf1f7w/9qbOwnJsuz9lq0vc0zjAP/+AJhYSyME/pUFPmQSdwT/t3qe121bBP5HdpIHV4cE/VpeFABlDwj/UIypHFE/CP7c9sxxkMcI/tbDSrY9Bwj8mDKPR50PCP6ftnXjRQsI/kcR4SO40wj94jjSzmDbCP7yjUN+FT8I/qwxMR2Y1wj8K/aNNYzfCP5XSEBn5UMI/P+NmDmRiwj9rcqYufJLCP9NOi4Nl0MI/syKO7r78wj9rxP3ATSjDP7YX51ZGXcM/QOIRWIGMwz8RPZT48Y7DP3OFgXx3XMM/nCkNdTfawj84eVPyJmvCPxg6qA8K8ME/zrCOBX+vwT+BcxMu5ybCP+pmNVPUo8I/Mx4MomYvwz/K/26PThTDP1Wd61op8MI/rcopd+9Hwz/vCiICrUbDP/u+U/i9icU/AkzxTOwFxj8pD2mMLZTGP2XMs7vSoMY/UJVkOmAKxj8oYue/C0TFP1hhf1KSjcQ/AjgovrPdwz9zKFLkiSvEP3wCXnVdqcM/ni/Y/KMpxT9R5cu4i9vFP5GrhGZhRMY/v13n6Ehcxj/CdNM57qfFP17xZCW1/8U/fBNyQ9WJxT/QXkSNJGLGP34B7htuzsY/rRxLdvUYxj873tlnih7FP7PnB0m9VcQ/7vesdOkgxD91NUbsWM/DPzw/amigjcU/RxKk5qqTxj+1JVN3HLPGP5p8ANh4Z8Y/Mh00RJmexj/U3RNqeEHHP43tupP8csg/gxwSnmJlyD+SJ04j+DHIP+NO3Fn/zcc/nVMFetshxz9FPfYJ963GP+N6ztAEy8Y/uDl5GaY0yD8sSnTM0rTIP+rlF7Y5Vsg/kCa45f0lyD+YshvkVpXIP4phYkSR4sg/EAhXfmuryD9+Ew7FGArIP3wfSTOWMMc/DHq64vQTxz8vIayMTQ7HP1WFokVbpMg/l/agQzpayT8nJrlxBVPJP90y+SWCO8k/0BB4lUcEyT/2f8h9AXXJPyaKf1aghsk/mPIoHA9syT84NFTkTEjJPywbNg+WRck/YzfERnSByT/YjzBUWtfJP6LZk4Xjvsk/G2ma2aCvyT9NBIhXWcXJPwp4gqpSuMk/dC2XCpp4yT9+sGPExiXJP0TRwUiFCMk/r9AuU9yryT9yYfwILB3KP6QqNgCVOso/wmMvw21Ayj+D83yHvUDKP+C5u3NRPco/ezkjgBBFyj9AL0qfmzzKPzz/EvLKO8o/hLQD4Nhkyj/T9K7j43jKPzTam6vNfMo/sD3xSuR0yj+yFniUkWrKP/Ll1G5MTMo/2q7zQnpIyj85wX+754TKPy7dn6Gsqso/FLEBAIO8yj8kJACmncfKP1vSYjTPzso/+EW5IGjUyj/e1yTxHd7KP/8X81D55Mo/9uYErYb0yj/KIN8bFv7KP366Fe40B8s/wBFidEwLyz93stkpAQvLP2VN+vt9E8s/kxJWXY4xyz/kvPoTjEHLP3zgtLe5T8s/lFbEZ2Jdyz/przIqDWvLP7ywYj6Jdss/TTrW+NeEyz/FM1Cs/pHLP/PEQGBan8s/HNpg/5Csyz9VKo9eQLjLPyhzD+z7x8s//17nb7Dbyz/7MhvB2uvLPzkR0Xi0/cs//Hbv+4YOzD9pYzqqeCDMPw5EB5wiMsw/G61iP3hEzD9SsyeeslbMP9YYIBZoacw/fMNQYTh9zD9fnHcBqZLMP04gPmOfp8w/DPMZmSG9zD/FcAQagNPMP79qPt9q6sw/KBgHzAACzT8=\"},\"shape\":[181],\"dtype\":\"float64\",\"order\":\"little\"}]]}}},\"view\":{\"type\":\"object\",\"name\":\"CDSView\",\"id\":\"p1309\",\"attributes\":{\"filter\":{\"type\":\"object\",\"name\":\"AllIndices\",\"id\":\"p1310\"}}},\"glyph\":{\"type\":\"object\",\"name\":\"Line\",\"id\":\"p1305\",\"attributes\":{\"x\":{\"type\":\"field\",\"field\":\"x\"},\"y\":{\"type\":\"field\",\"field\":\"y\"},\"line_color\":\"#F0E442\",\"line_width\":3}},\"nonselection_glyph\":{\"type\":\"object\",\"name\":\"Line\",\"id\":\"p1306\",\"attributes\":{\"x\":{\"type\":\"field\",\"field\":\"x\"},\"y\":{\"type\":\"field\",\"field\":\"y\"},\"line_color\":\"#F0E442\",\"line_alpha\":0.1,\"line_width\":3}},\"muted_glyph\":{\"type\":\"object\",\"name\":\"Line\",\"id\":\"p1307\",\"attributes\":{\"x\":{\"type\":\"field\",\"field\":\"x\"},\"y\":{\"type\":\"field\",\"field\":\"y\"},\"line_color\":\"#F0E442\",\"line_alpha\":0.2,\"line_width\":3}}}}],\"toolbar\":{\"type\":\"object\",\"name\":\"Toolbar\",\"id\":\"p1242\",\"attributes\":{\"tools\":[{\"type\":\"object\",\"name\":\"PanTool\",\"id\":\"p1269\"},{\"type\":\"object\",\"name\":\"WheelZoomTool\",\"id\":\"p1270\"},{\"type\":\"object\",\"name\":\"BoxZoomTool\",\"id\":\"p1271\",\"attributes\":{\"overlay\":{\"type\":\"object\",\"name\":\"BoxAnnotation\",\"id\":\"p1272\",\"attributes\":{\"syncable\":false,\"level\":\"overlay\",\"visible\":false,\"left_units\":\"canvas\",\"right_units\":\"canvas\",\"bottom_units\":\"canvas\",\"top_units\":\"canvas\",\"line_color\":\"black\",\"line_alpha\":1.0,\"line_width\":2,\"line_dash\":[4,4],\"fill_color\":\"lightgrey\",\"fill_alpha\":0.5}}}},{\"type\":\"object\",\"name\":\"SaveTool\",\"id\":\"p1273\"},{\"type\":\"object\",\"name\":\"ResetTool\",\"id\":\"p1274\"},{\"type\":\"object\",\"name\":\"HelpTool\",\"id\":\"p1275\"}]}},\"left\":[{\"type\":\"object\",\"name\":\"LinearAxis\",\"id\":\"p1262\",\"attributes\":{\"ticker\":{\"type\":\"object\",\"name\":\"BasicTicker\",\"id\":\"p1263\",\"attributes\":{\"mantissas\":[1,2,5]}},\"formatter\":{\"type\":\"object\",\"name\":\"BasicTickFormatter\",\"id\":\"p1265\"},\"axis_label\":\"Spectrum\",\"axis_label_text_font\":\"times\",\"axis_label_text_font_size\":\"14pt\",\"axis_label_text_font_style\":\"bold\",\"major_label_policy\":{\"type\":\"object\",\"name\":\"AllLabels\",\"id\":\"p1264\"},\"major_label_text_font\":\"times\",\"major_label_text_font_size\":\"14pt\"}},{\"type\":\"object\",\"name\":\"Legend\",\"id\":\"p1311\",\"attributes\":{\"location\":[0,0],\"click_policy\":\"mute\",\"items\":[{\"type\":\"object\",\"name\":\"LegendItem\",\"id\":\"p1312\",\"attributes\":{\"label\":{\"type\":\"value\",\"value\":\"Toon89\"},\"renderers\":[{\"id\":\"p1290\"}]}},{\"type\":\"object\",\"name\":\"LegendItem\",\"id\":\"p1313\",\"attributes\":{\"label\":{\"type\":\"value\",\"value\":\"SH4 (OTHG single)\"},\"renderers\":[{\"id\":\"p1299\"}]}},{\"type\":\"object\",\"name\":\"LegendItem\",\"id\":\"p1314\",\"attributes\":{\"label\":{\"type\":\"value\",\"value\":\"SH4 (TTHG multi)\"},\"renderers\":[{\"id\":\"p1308\"}]}}]}}],\"below\":[{\"type\":\"object\",\"name\":\"LinearAxis\",\"id\":\"p1255\",\"attributes\":{\"ticker\":{\"type\":\"object\",\"name\":\"BasicTicker\",\"id\":\"p1256\",\"attributes\":{\"mantissas\":[1,2,5]}},\"formatter\":{\"type\":\"object\",\"name\":\"BasicTickFormatter\",\"id\":\"p1258\"},\"axis_label\":\"Wavelength [\\u03bcm]\",\"axis_label_text_font\":\"times\",\"axis_label_text_font_size\":\"14pt\",\"axis_label_text_font_style\":\"bold\",\"major_label_policy\":{\"type\":\"object\",\"name\":\"AllLabels\",\"id\":\"p1257\"},\"major_label_text_font\":\"times\",\"major_label_text_font_size\":\"14pt\"}}],\"center\":[{\"type\":\"object\",\"name\":\"Grid\",\"id\":\"p1261\",\"attributes\":{\"axis\":{\"id\":\"p1255\"}}},{\"type\":\"object\",\"name\":\"Grid\",\"id\":\"p1268\",\"attributes\":{\"dimension\":1,\"axis\":{\"id\":\"p1262\"}}}]}}]}};\n",
       "  const render_items = [{\"docid\":\"5dc69b8f-d4e4-411b-bdbf-46893662bb18\",\"roots\":{\"p1238\":\"ad699c36-7885-4fe7-bd31-be52e037c10b\"},\"root_ids\":[\"p1238\"]}];\n",
       "  root.Bokeh.embed.embed_items_notebook(docs_json, render_items);\n",
       "  }\n",
       "  if (root.Bokeh !== undefined) {\n",
       "    embed_document(root);\n",
       "  } else {\n",
       "    let attempts = 0;\n",
       "    const timer = setInterval(function(root) {\n",
       "      if (root.Bokeh !== undefined) {\n",
       "        clearInterval(timer);\n",
       "        embed_document(root);\n",
       "      } else {\n",
       "        attempts++;\n",
       "        if (attempts > 100) {\n",
       "          clearInterval(timer);\n",
       "          console.log(\"Bokeh: ERROR: Unable to run BokehJS code because BokehJS library is missing\");\n",
       "        }\n",
       "      }\n",
       "    }, 10, root)\n",
       "  }\n",
       "})(window);"
      ],
      "application/vnd.bokehjs_exec.v0+json": ""
     },
     "metadata": {
      "application/vnd.bokehjs_exec.v0+json": {
       "id": "p1238"
      }
     },
     "output_type": "display_data"
    }
   ],
   "source": [
    "jpi.show(jpi.spectrum([wno]*3, albs,labels, width=700))"
   ]
  }
 ],
 "metadata": {
  "kernelspec": {
   "display_name": "Python 3 (ipykernel)",
   "language": "python",
   "name": "python3"
  },
  "language_info": {
   "codemirror_mode": {
    "name": "ipython",
    "version": 3
   },
   "file_extension": ".py",
   "mimetype": "text/x-python",
   "name": "python",
   "nbconvert_exporter": "python",
   "pygments_lexer": "ipython3",
   "version": "3.11.5"
  },
  "toc": {
   "base_numbering": 1,
   "nav_menu": {},
   "number_sections": true,
   "sideBar": true,
   "skip_h1_title": false,
   "title_cell": "Table of Contents",
   "title_sidebar": "Contents",
   "toc_cell": true,
   "toc_position": {},
   "toc_section_display": true,
   "toc_window_display": false
  },
  "varInspector": {
   "cols": {
    "lenName": 16,
    "lenType": 16,
    "lenVar": 40
   },
   "kernels_config": {
    "python": {
     "delete_cmd_postfix": "",
     "delete_cmd_prefix": "del ",
     "library": "var_list.py",
     "varRefreshCmd": "print(var_dic_list())"
    },
    "r": {
     "delete_cmd_postfix": ") ",
     "delete_cmd_prefix": "rm(",
     "library": "var_list.r",
     "varRefreshCmd": "cat(var_dic_list()) "
    }
   },
   "types_to_exclude": [
    "module",
    "function",
    "builtin_function_or_method",
    "instance",
    "_Feature"
   ],
   "window_display": false
  }
 },
 "nbformat": 4,
 "nbformat_minor": 2
}
