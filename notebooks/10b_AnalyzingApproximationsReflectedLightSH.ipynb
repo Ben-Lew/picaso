{
 "cells": [
  {
   "cell_type": "markdown",
   "metadata": {},
   "source": [
    "# Approximations for Spherical Harmonics Radiative Transfer in Reflected Light\n",
    "\n",
    "In [Rooney et al 2023](add-link) we rigorously derive the spherical harmonics method for reflected light and benchmark the 4-term method (SH4) against [Toon et al. 1989](https://ui.adsabs.harvard.edu/abs/1989JGR....9416287T/abstract) and two independent methods. Here, we provide the code to reproduce the analysis that compares Toon89 with the higher fidelity 4-term spherical harmonics method for reflected light calculations. "
   ]
  },
  {
   "cell_type": "code",
   "execution_count": 1,
   "metadata": {
    "execution": {
     "iopub.execute_input": "2023-03-23T19:13:46.040861Z",
     "iopub.status.busy": "2023-03-23T19:13:46.039921Z",
     "iopub.status.idle": "2023-03-23T19:13:48.357740Z",
     "shell.execute_reply": "2023-03-23T19:13:48.356820Z"
    }
   },
   "outputs": [
    {
     "data": {
      "text/html": [
       "<style>\n",
       "        .bk-notebook-logo {\n",
       "            display: block;\n",
       "            width: 20px;\n",
       "            height: 20px;\n",
       "            background-image: url(data:image/png;base64,iVBORw0KGgoAAAANSUhEUgAAABQAAAAUCAYAAACNiR0NAAAABHNCSVQICAgIfAhkiAAAAAlwSFlzAAALEgAACxIB0t1+/AAAABx0RVh0U29mdHdhcmUAQWRvYmUgRmlyZXdvcmtzIENTNui8sowAAAOkSURBVDiNjZRtaJVlGMd/1/08zzln5zjP1LWcU9N0NkN8m2CYjpgQYQXqSs0I84OLIC0hkEKoPtiH3gmKoiJDU7QpLgoLjLIQCpEsNJ1vqUOdO7ppbuec5+V+rj4ctwzd8IIbbi6u+8f1539dt3A78eXC7QizUF7gyV1fD1Yqg4JWz84yffhm0qkFqBogB9rM8tZdtwVsPUhWhGcFJngGeWrPzHm5oaMmkfEg1usvLFyc8jLRqDOMru7AyC8saQr7GG7f5fvDeH7Ej8CM66nIF+8yngt6HWaKh7k49Soy9nXurCi1o3qUbS3zWfrYeQDTB/Qj6kX6Ybhw4B+bOYoLKCC9H3Nu/leUTZ1JdRWkkn2ldcCamzrcf47KKXdAJllSlxAOkRgyHsGC/zRday5Qld9DyoM4/q/rUoy/CXh3jzOu3bHUVZeU+DEn8FInkPBFlu3+nW3Nw0mk6vCDiWg8CeJaxEwuHS3+z5RgY+YBR6V1Z1nxSOfoaPa4LASWxxdNp+VWTk7+4vzaou8v8PN+xo+KY2xsw6une2frhw05CTYOmQvsEhjhWjn0bmXPjpE1+kplmmkP3suftwTubK9Vq22qKmrBhpY4jvd5afdRA3wGjFAgcnTK2s4hY0/GPNIb0nErGMCRxWOOX64Z8RAC4oCXdklmEvcL8o0BfkNK4lUg9HTl+oPlQxdNo3Mg4Nv175e/1LDGzZen30MEjRUtmXSfiTVu1kK8W4txyV6BMKlbgk3lMwYCiusNy9fVfvvwMxv8Ynl6vxoByANLTWplvuj/nF9m2+PDtt1eiHPBr1oIfhCChQMBw6Aw0UulqTKZdfVvfG7VcfIqLG9bcldL/+pdWTLxLUy8Qq38heUIjh4XlzZxzQm19lLFlr8vdQ97rjZVOLf8nclzckbcD4wxXMidpX30sFd37Fv/GtwwhzhxGVAprjbg0gCAEeIgwCZyTV2Z1REEW8O4py0wsjeloKoMr6iCY6dP92H6Vw/oTyICIthibxjm/DfN9lVz8IqtqKYLUXfoKVMVQVVJOElGjrnnUt9T9wbgp8AyYKaGlqingHZU/uG2NTZSVqwHQTWkx9hxjkpWDaCg6Ckj5qebgBVbT3V3NNXMSiWSDdGV3hrtzla7J+duwPOToIg42ChPQOQjspnSlp1V+Gjdged7+8UN5CRAV7a5EdFNwCjEaBR27b3W890TE7g24NAP/mMDXRWrGoFPQI9ls/MWO2dWFAar/xcOIImbbpA3zgAAAABJRU5ErkJggg==);\n",
       "        }\n",
       "    </style>\n",
       "    <div>\n",
       "        <a href=\"https://bokeh.org\" target=\"_blank\" class=\"bk-notebook-logo\"></a>\n",
       "        <span id=\"p1001\">Loading BokehJS ...</span>\n",
       "    </div>\n"
      ]
     },
     "metadata": {},
     "output_type": "display_data"
    },
    {
     "data": {
      "application/javascript": [
       "(function(root) {\n",
       "  function now() {\n",
       "    return new Date();\n",
       "  }\n",
       "\n",
       "  const force = true;\n",
       "\n",
       "  if (typeof root._bokeh_onload_callbacks === \"undefined\" || force === true) {\n",
       "    root._bokeh_onload_callbacks = [];\n",
       "    root._bokeh_is_loading = undefined;\n",
       "  }\n",
       "\n",
       "const JS_MIME_TYPE = 'application/javascript';\n",
       "  const HTML_MIME_TYPE = 'text/html';\n",
       "  const EXEC_MIME_TYPE = 'application/vnd.bokehjs_exec.v0+json';\n",
       "  const CLASS_NAME = 'output_bokeh rendered_html';\n",
       "\n",
       "  /**\n",
       "   * Render data to the DOM node\n",
       "   */\n",
       "  function render(props, node) {\n",
       "    const script = document.createElement(\"script\");\n",
       "    node.appendChild(script);\n",
       "  }\n",
       "\n",
       "  /**\n",
       "   * Handle when an output is cleared or removed\n",
       "   */\n",
       "  function handleClearOutput(event, handle) {\n",
       "    const cell = handle.cell;\n",
       "\n",
       "    const id = cell.output_area._bokeh_element_id;\n",
       "    const server_id = cell.output_area._bokeh_server_id;\n",
       "    // Clean up Bokeh references\n",
       "    if (id != null && id in Bokeh.index) {\n",
       "      Bokeh.index[id].model.document.clear();\n",
       "      delete Bokeh.index[id];\n",
       "    }\n",
       "\n",
       "    if (server_id !== undefined) {\n",
       "      // Clean up Bokeh references\n",
       "      const cmd_clean = \"from bokeh.io.state import curstate; print(curstate().uuid_to_server['\" + server_id + \"'].get_sessions()[0].document.roots[0]._id)\";\n",
       "      cell.notebook.kernel.execute(cmd_clean, {\n",
       "        iopub: {\n",
       "          output: function(msg) {\n",
       "            const id = msg.content.text.trim();\n",
       "            if (id in Bokeh.index) {\n",
       "              Bokeh.index[id].model.document.clear();\n",
       "              delete Bokeh.index[id];\n",
       "            }\n",
       "          }\n",
       "        }\n",
       "      });\n",
       "      // Destroy server and session\n",
       "      const cmd_destroy = \"import bokeh.io.notebook as ion; ion.destroy_server('\" + server_id + \"')\";\n",
       "      cell.notebook.kernel.execute(cmd_destroy);\n",
       "    }\n",
       "  }\n",
       "\n",
       "  /**\n",
       "   * Handle when a new output is added\n",
       "   */\n",
       "  function handleAddOutput(event, handle) {\n",
       "    const output_area = handle.output_area;\n",
       "    const output = handle.output;\n",
       "\n",
       "    // limit handleAddOutput to display_data with EXEC_MIME_TYPE content only\n",
       "    if ((output.output_type != \"display_data\") || (!Object.prototype.hasOwnProperty.call(output.data, EXEC_MIME_TYPE))) {\n",
       "      return\n",
       "    }\n",
       "\n",
       "    const toinsert = output_area.element.find(\".\" + CLASS_NAME.split(' ')[0]);\n",
       "\n",
       "    if (output.metadata[EXEC_MIME_TYPE][\"id\"] !== undefined) {\n",
       "      toinsert[toinsert.length - 1].firstChild.textContent = output.data[JS_MIME_TYPE];\n",
       "      // store reference to embed id on output_area\n",
       "      output_area._bokeh_element_id = output.metadata[EXEC_MIME_TYPE][\"id\"];\n",
       "    }\n",
       "    if (output.metadata[EXEC_MIME_TYPE][\"server_id\"] !== undefined) {\n",
       "      const bk_div = document.createElement(\"div\");\n",
       "      bk_div.innerHTML = output.data[HTML_MIME_TYPE];\n",
       "      const script_attrs = bk_div.children[0].attributes;\n",
       "      for (let i = 0; i < script_attrs.length; i++) {\n",
       "        toinsert[toinsert.length - 1].firstChild.setAttribute(script_attrs[i].name, script_attrs[i].value);\n",
       "        toinsert[toinsert.length - 1].firstChild.textContent = bk_div.children[0].textContent\n",
       "      }\n",
       "      // store reference to server id on output_area\n",
       "      output_area._bokeh_server_id = output.metadata[EXEC_MIME_TYPE][\"server_id\"];\n",
       "    }\n",
       "  }\n",
       "\n",
       "  function register_renderer(events, OutputArea) {\n",
       "\n",
       "    function append_mime(data, metadata, element) {\n",
       "      // create a DOM node to render to\n",
       "      const toinsert = this.create_output_subarea(\n",
       "        metadata,\n",
       "        CLASS_NAME,\n",
       "        EXEC_MIME_TYPE\n",
       "      );\n",
       "      this.keyboard_manager.register_events(toinsert);\n",
       "      // Render to node\n",
       "      const props = {data: data, metadata: metadata[EXEC_MIME_TYPE]};\n",
       "      render(props, toinsert[toinsert.length - 1]);\n",
       "      element.append(toinsert);\n",
       "      return toinsert\n",
       "    }\n",
       "\n",
       "    /* Handle when an output is cleared or removed */\n",
       "    events.on('clear_output.CodeCell', handleClearOutput);\n",
       "    events.on('delete.Cell', handleClearOutput);\n",
       "\n",
       "    /* Handle when a new output is added */\n",
       "    events.on('output_added.OutputArea', handleAddOutput);\n",
       "\n",
       "    /**\n",
       "     * Register the mime type and append_mime function with output_area\n",
       "     */\n",
       "    OutputArea.prototype.register_mime_type(EXEC_MIME_TYPE, append_mime, {\n",
       "      /* Is output safe? */\n",
       "      safe: true,\n",
       "      /* Index of renderer in `output_area.display_order` */\n",
       "      index: 0\n",
       "    });\n",
       "  }\n",
       "\n",
       "  // register the mime type if in Jupyter Notebook environment and previously unregistered\n",
       "  if (root.Jupyter !== undefined) {\n",
       "    const events = require('base/js/events');\n",
       "    const OutputArea = require('notebook/js/outputarea').OutputArea;\n",
       "\n",
       "    if (OutputArea.prototype.mime_types().indexOf(EXEC_MIME_TYPE) == -1) {\n",
       "      register_renderer(events, OutputArea);\n",
       "    }\n",
       "  }\n",
       "  if (typeof (root._bokeh_timeout) === \"undefined\" || force === true) {\n",
       "    root._bokeh_timeout = Date.now() + 5000;\n",
       "    root._bokeh_failed_load = false;\n",
       "  }\n",
       "\n",
       "  const NB_LOAD_WARNING = {'data': {'text/html':\n",
       "     \"<div style='background-color: #fdd'>\\n\"+\n",
       "     \"<p>\\n\"+\n",
       "     \"BokehJS does not appear to have successfully loaded. If loading BokehJS from CDN, this \\n\"+\n",
       "     \"may be due to a slow or bad network connection. Possible fixes:\\n\"+\n",
       "     \"</p>\\n\"+\n",
       "     \"<ul>\\n\"+\n",
       "     \"<li>re-rerun `output_notebook()` to attempt to load from CDN again, or</li>\\n\"+\n",
       "     \"<li>use INLINE resources instead, as so:</li>\\n\"+\n",
       "     \"</ul>\\n\"+\n",
       "     \"<code>\\n\"+\n",
       "     \"from bokeh.resources import INLINE\\n\"+\n",
       "     \"output_notebook(resources=INLINE)\\n\"+\n",
       "     \"</code>\\n\"+\n",
       "     \"</div>\"}};\n",
       "\n",
       "  function display_loaded() {\n",
       "    const el = document.getElementById(\"p1001\");\n",
       "    if (el != null) {\n",
       "      el.textContent = \"BokehJS is loading...\";\n",
       "    }\n",
       "    if (root.Bokeh !== undefined) {\n",
       "      if (el != null) {\n",
       "        el.textContent = \"BokehJS \" + root.Bokeh.version + \" successfully loaded.\";\n",
       "      }\n",
       "    } else if (Date.now() < root._bokeh_timeout) {\n",
       "      setTimeout(display_loaded, 100)\n",
       "    }\n",
       "  }\n",
       "\n",
       "  function run_callbacks() {\n",
       "    try {\n",
       "      root._bokeh_onload_callbacks.forEach(function(callback) {\n",
       "        if (callback != null)\n",
       "          callback();\n",
       "      });\n",
       "    } finally {\n",
       "      delete root._bokeh_onload_callbacks\n",
       "    }\n",
       "    console.debug(\"Bokeh: all callbacks have finished\");\n",
       "  }\n",
       "\n",
       "  function load_libs(css_urls, js_urls, callback) {\n",
       "    if (css_urls == null) css_urls = [];\n",
       "    if (js_urls == null) js_urls = [];\n",
       "\n",
       "    root._bokeh_onload_callbacks.push(callback);\n",
       "    if (root._bokeh_is_loading > 0) {\n",
       "      console.debug(\"Bokeh: BokehJS is being loaded, scheduling callback at\", now());\n",
       "      return null;\n",
       "    }\n",
       "    if (js_urls == null || js_urls.length === 0) {\n",
       "      run_callbacks();\n",
       "      return null;\n",
       "    }\n",
       "    console.debug(\"Bokeh: BokehJS not loaded, scheduling load and callback at\", now());\n",
       "    root._bokeh_is_loading = css_urls.length + js_urls.length;\n",
       "\n",
       "    function on_load() {\n",
       "      root._bokeh_is_loading--;\n",
       "      if (root._bokeh_is_loading === 0) {\n",
       "        console.debug(\"Bokeh: all BokehJS libraries/stylesheets loaded\");\n",
       "        run_callbacks()\n",
       "      }\n",
       "    }\n",
       "\n",
       "    function on_error(url) {\n",
       "      console.error(\"failed to load \" + url);\n",
       "    }\n",
       "\n",
       "    for (let i = 0; i < css_urls.length; i++) {\n",
       "      const url = css_urls[i];\n",
       "      const element = document.createElement(\"link\");\n",
       "      element.onload = on_load;\n",
       "      element.onerror = on_error.bind(null, url);\n",
       "      element.rel = \"stylesheet\";\n",
       "      element.type = \"text/css\";\n",
       "      element.href = url;\n",
       "      console.debug(\"Bokeh: injecting link tag for BokehJS stylesheet: \", url);\n",
       "      document.body.appendChild(element);\n",
       "    }\n",
       "\n",
       "    for (let i = 0; i < js_urls.length; i++) {\n",
       "      const url = js_urls[i];\n",
       "      const element = document.createElement('script');\n",
       "      element.onload = on_load;\n",
       "      element.onerror = on_error.bind(null, url);\n",
       "      element.async = false;\n",
       "      element.src = url;\n",
       "      console.debug(\"Bokeh: injecting script tag for BokehJS library: \", url);\n",
       "      document.head.appendChild(element);\n",
       "    }\n",
       "  };\n",
       "\n",
       "  function inject_raw_css(css) {\n",
       "    const element = document.createElement(\"style\");\n",
       "    element.appendChild(document.createTextNode(css));\n",
       "    document.body.appendChild(element);\n",
       "  }\n",
       "\n",
       "  const js_urls = [\"https://cdn.bokeh.org/bokeh/release/bokeh-3.0.2.min.js\", \"https://cdn.bokeh.org/bokeh/release/bokeh-gl-3.0.2.min.js\", \"https://cdn.bokeh.org/bokeh/release/bokeh-widgets-3.0.2.min.js\", \"https://cdn.bokeh.org/bokeh/release/bokeh-tables-3.0.2.min.js\", \"https://cdn.bokeh.org/bokeh/release/bokeh-mathjax-3.0.2.min.js\"];\n",
       "  const css_urls = [];\n",
       "\n",
       "  const inline_js = [    function(Bokeh) {\n",
       "      Bokeh.set_log_level(\"info\");\n",
       "    },\n",
       "function(Bokeh) {\n",
       "    }\n",
       "  ];\n",
       "\n",
       "  function run_inline_js() {\n",
       "    if (root.Bokeh !== undefined || force === true) {\n",
       "          for (let i = 0; i < inline_js.length; i++) {\n",
       "      inline_js[i].call(root, root.Bokeh);\n",
       "    }\n",
       "if (force === true) {\n",
       "        display_loaded();\n",
       "      }} else if (Date.now() < root._bokeh_timeout) {\n",
       "      setTimeout(run_inline_js, 100);\n",
       "    } else if (!root._bokeh_failed_load) {\n",
       "      console.log(\"Bokeh: BokehJS failed to load within specified timeout.\");\n",
       "      root._bokeh_failed_load = true;\n",
       "    } else if (force !== true) {\n",
       "      const cell = $(document.getElementById(\"p1001\")).parents('.cell').data().cell;\n",
       "      cell.output_area.append_execute_result(NB_LOAD_WARNING)\n",
       "    }\n",
       "  }\n",
       "\n",
       "  if (root._bokeh_is_loading === 0) {\n",
       "    console.debug(\"Bokeh: BokehJS loaded, going straight to plotting\");\n",
       "    run_inline_js();\n",
       "  } else {\n",
       "    load_libs(css_urls, js_urls, function() {\n",
       "      console.debug(\"Bokeh: BokehJS plotting callback run at\", now());\n",
       "      run_inline_js();\n",
       "    });\n",
       "  }\n",
       "}(window));"
      ],
      "application/vnd.bokehjs_load.v0+json": "(function(root) {\n  function now() {\n    return new Date();\n  }\n\n  const force = true;\n\n  if (typeof root._bokeh_onload_callbacks === \"undefined\" || force === true) {\n    root._bokeh_onload_callbacks = [];\n    root._bokeh_is_loading = undefined;\n  }\n\n\n  if (typeof (root._bokeh_timeout) === \"undefined\" || force === true) {\n    root._bokeh_timeout = Date.now() + 5000;\n    root._bokeh_failed_load = false;\n  }\n\n  const NB_LOAD_WARNING = {'data': {'text/html':\n     \"<div style='background-color: #fdd'>\\n\"+\n     \"<p>\\n\"+\n     \"BokehJS does not appear to have successfully loaded. If loading BokehJS from CDN, this \\n\"+\n     \"may be due to a slow or bad network connection. Possible fixes:\\n\"+\n     \"</p>\\n\"+\n     \"<ul>\\n\"+\n     \"<li>re-rerun `output_notebook()` to attempt to load from CDN again, or</li>\\n\"+\n     \"<li>use INLINE resources instead, as so:</li>\\n\"+\n     \"</ul>\\n\"+\n     \"<code>\\n\"+\n     \"from bokeh.resources import INLINE\\n\"+\n     \"output_notebook(resources=INLINE)\\n\"+\n     \"</code>\\n\"+\n     \"</div>\"}};\n\n  function display_loaded() {\n    const el = document.getElementById(\"p1001\");\n    if (el != null) {\n      el.textContent = \"BokehJS is loading...\";\n    }\n    if (root.Bokeh !== undefined) {\n      if (el != null) {\n        el.textContent = \"BokehJS \" + root.Bokeh.version + \" successfully loaded.\";\n      }\n    } else if (Date.now() < root._bokeh_timeout) {\n      setTimeout(display_loaded, 100)\n    }\n  }\n\n  function run_callbacks() {\n    try {\n      root._bokeh_onload_callbacks.forEach(function(callback) {\n        if (callback != null)\n          callback();\n      });\n    } finally {\n      delete root._bokeh_onload_callbacks\n    }\n    console.debug(\"Bokeh: all callbacks have finished\");\n  }\n\n  function load_libs(css_urls, js_urls, callback) {\n    if (css_urls == null) css_urls = [];\n    if (js_urls == null) js_urls = [];\n\n    root._bokeh_onload_callbacks.push(callback);\n    if (root._bokeh_is_loading > 0) {\n      console.debug(\"Bokeh: BokehJS is being loaded, scheduling callback at\", now());\n      return null;\n    }\n    if (js_urls == null || js_urls.length === 0) {\n      run_callbacks();\n      return null;\n    }\n    console.debug(\"Bokeh: BokehJS not loaded, scheduling load and callback at\", now());\n    root._bokeh_is_loading = css_urls.length + js_urls.length;\n\n    function on_load() {\n      root._bokeh_is_loading--;\n      if (root._bokeh_is_loading === 0) {\n        console.debug(\"Bokeh: all BokehJS libraries/stylesheets loaded\");\n        run_callbacks()\n      }\n    }\n\n    function on_error(url) {\n      console.error(\"failed to load \" + url);\n    }\n\n    for (let i = 0; i < css_urls.length; i++) {\n      const url = css_urls[i];\n      const element = document.createElement(\"link\");\n      element.onload = on_load;\n      element.onerror = on_error.bind(null, url);\n      element.rel = \"stylesheet\";\n      element.type = \"text/css\";\n      element.href = url;\n      console.debug(\"Bokeh: injecting link tag for BokehJS stylesheet: \", url);\n      document.body.appendChild(element);\n    }\n\n    for (let i = 0; i < js_urls.length; i++) {\n      const url = js_urls[i];\n      const element = document.createElement('script');\n      element.onload = on_load;\n      element.onerror = on_error.bind(null, url);\n      element.async = false;\n      element.src = url;\n      console.debug(\"Bokeh: injecting script tag for BokehJS library: \", url);\n      document.head.appendChild(element);\n    }\n  };\n\n  function inject_raw_css(css) {\n    const element = document.createElement(\"style\");\n    element.appendChild(document.createTextNode(css));\n    document.body.appendChild(element);\n  }\n\n  const js_urls = [\"https://cdn.bokeh.org/bokeh/release/bokeh-3.0.2.min.js\", \"https://cdn.bokeh.org/bokeh/release/bokeh-gl-3.0.2.min.js\", \"https://cdn.bokeh.org/bokeh/release/bokeh-widgets-3.0.2.min.js\", \"https://cdn.bokeh.org/bokeh/release/bokeh-tables-3.0.2.min.js\", \"https://cdn.bokeh.org/bokeh/release/bokeh-mathjax-3.0.2.min.js\"];\n  const css_urls = [];\n\n  const inline_js = [    function(Bokeh) {\n      Bokeh.set_log_level(\"info\");\n    },\nfunction(Bokeh) {\n    }\n  ];\n\n  function run_inline_js() {\n    if (root.Bokeh !== undefined || force === true) {\n          for (let i = 0; i < inline_js.length; i++) {\n      inline_js[i].call(root, root.Bokeh);\n    }\nif (force === true) {\n        display_loaded();\n      }} else if (Date.now() < root._bokeh_timeout) {\n      setTimeout(run_inline_js, 100);\n    } else if (!root._bokeh_failed_load) {\n      console.log(\"Bokeh: BokehJS failed to load within specified timeout.\");\n      root._bokeh_failed_load = true;\n    } else if (force !== true) {\n      const cell = $(document.getElementById(\"p1001\")).parents('.cell').data().cell;\n      cell.output_area.append_execute_result(NB_LOAD_WARNING)\n    }\n  }\n\n  if (root._bokeh_is_loading === 0) {\n    console.debug(\"Bokeh: BokehJS loaded, going straight to plotting\");\n    run_inline_js();\n  } else {\n    load_libs(css_urls, js_urls, function() {\n      console.debug(\"Bokeh: BokehJS plotting callback run at\", now());\n      run_inline_js();\n    });\n  }\n}(window));"
     },
     "metadata": {},
     "output_type": "display_data"
    }
   ],
   "source": [
    "import numpy as np\n",
    "import pandas as pd\n",
    "\n",
    "#picaso\n",
    "from picaso import justdoit as jdi \n",
    "from picaso import justplotit as jpi\n",
    "import picaso.test as ptest\n",
    "\n",
    "jpi.output_notebook()"
   ]
  },
  {
   "cell_type": "markdown",
   "metadata": {},
   "source": [
    "## Benchmark Jupiter-like case profile\n",
    "\n",
    "Here we use the same profile explored in the two-stream radiative transfer tutorial. "
   ]
  },
  {
   "cell_type": "code",
   "execution_count": 2,
   "metadata": {
    "execution": {
     "iopub.execute_input": "2023-03-23T19:13:48.365845Z",
     "iopub.status.busy": "2023-03-23T19:13:48.365194Z",
     "iopub.status.idle": "2023-03-23T19:13:48.786317Z",
     "shell.execute_reply": "2023-03-23T19:13:48.787280Z"
    }
   },
   "outputs": [],
   "source": [
    "opa = jdi.opannection(wave_range=[0.3,1])#, resample=100)\n",
    "case1 = jdi.inputs()\n",
    "#phase \n",
    "case1.phase_angle(0) #radians\n",
    "\n",
    "#gravity \n",
    "case1.gravity(gravity = 25, gravity_unit=jdi.u.Unit('m/(s**2)'))\n",
    "\n",
    "#star\n",
    "case1.star(opa, 6000,0.0122,4.437) #kelvin, log metal, log cgs\n",
    "\n",
    "#atmosphere\n",
    "case1.atmosphere(filename= jdi.jupiter_pt(), delim_whitespace=True)\n",
    "\n",
    "#set model clouds\n",
    "case1.clouds( filename= jdi.jupiter_cld(), delim_whitespace=True)"
   ]
  },
  {
   "cell_type": "markdown",
   "metadata": {},
   "source": [
    "## Setup comparison with two-stream radiative transfer "
   ]
  },
  {
   "cell_type": "code",
   "execution_count": 3,
   "metadata": {
    "execution": {
     "iopub.execute_input": "2023-03-23T19:13:48.800966Z",
     "iopub.status.busy": "2023-03-23T19:13:48.795595Z",
     "iopub.status.idle": "2023-03-23T19:13:51.256393Z",
     "shell.execute_reply": "2023-03-23T19:13:51.257291Z"
    }
   },
   "outputs": [],
   "source": [
    "#we'll use these labels to keep track of the cases we have created\n",
    "labels = []\n",
    "albs = []\n",
    "#run\n",
    "\n",
    "multi_phase = 'N=2' #two legendre polynomials (toon default)\n",
    "single_phase='TTHG_ray' #two term HG with rayleigh (toon default)\n",
    "DE = True #delta eddington correction, (toon default)\n",
    "raman='none' #lets turn raman off, for clarity in this benchmark case\n",
    "\n",
    "#set all approximatinos\n",
    "case1.approx(toon_coefficients='quadrature', \n",
    "             multi_phase=multi_phase,\n",
    "             single_phase=single_phase,\n",
    "             delta_eddington=DE, raman=raman)\n",
    "df = case1.spectrum(opa)\n",
    "wno, alb, fpfs = df['wavenumber'] , df['albedo'] , df['fpfs_reflected'] \n",
    "wno, alb = jdi.mean_regrid(wno, alb, R=150)\n",
    "\n",
    "labels+=['Toon89']\n",
    "albs+=[alb]"
   ]
  },
  {
   "cell_type": "markdown",
   "metadata": {},
   "source": [
    "## Setting up Spherical Harmonics Approximations to compare with Toon\n",
    "\n",
    "Spherical harmonics allows us to remain consistent with scattering functions throughout the methodology. In Toon when calculation the two stream solution for multiple layers, the phase functions are hard-coded set to be one term HG. However, when implementing the source function technique to derive the outgoing intensity we introduce a two-term HG for direct-scattering beam in attempt to capture the back-scattering radiation observed on Neptune. These details are further discussed in Cahoy et al 2010, Batalha et al. 2019, Feng et al. 2017. \n",
    "\n",
    "In spherical harmonics, we can simply consider a two-term HG phase function throughout the calculation. In order to better compare with Toon however (for historical purposes), we made sure that our SH routines could also match that Toon approach. Therefore, below you see we have **two** different single scattering forms. Note that this is only for comparison with Toon89. The default for SH is to use a TTHG phase function with Rayleigh throughout the radiative transfer calculation. \n",
    "\n",
    "Further details can be found in Rooney et al. 2023. "
   ]
  },
  {
   "cell_type": "code",
   "execution_count": 4,
   "metadata": {
    "execution": {
     "iopub.execute_input": "2023-03-23T19:13:51.276211Z",
     "iopub.status.busy": "2023-03-23T19:13:51.275031Z",
     "iopub.status.idle": "2023-03-23T19:14:02.229230Z",
     "shell.execute_reply": "2023-03-23T19:14:02.228244Z"
    }
   },
   "outputs": [],
   "source": [
    "# NOT SH default; enforcing for toon comparison which cannot handle \n",
    "# pre-processed two term phase functions\n",
    "w_single_form='OTHG'; w_single_rayleigh='off'\n",
    "w_multi_form='OTHG'; w_multi_rayleigh='on'\n",
    "\n",
    "#defaults in SH technique\n",
    "psingle_form='TTHG'; psingle_rayleigh='on'\n",
    "#2 or 4 stream (SH routines handles both though 4 is the default)\n",
    "stream=4\n",
    "\n",
    "case1.approx(rt_method='SH', stream=stream, \n",
    "              w_single_form=w_single_form, w_single_rayleigh=w_single_rayleigh,\n",
    "              w_multi_form=w_multi_form, w_multi_rayleigh=w_multi_rayleigh,\n",
    "             psingle_form=psingle_form, psingle_rayleigh=psingle_rayleigh,\n",
    "             delta_eddington=DE, raman=raman)\n",
    "# case1.approx(rt_method='SH', stream=4, raman='none')\n",
    "df3 = case1.spectrum(opa)\n",
    "wno3, alb3, fpfs3 = df3['wavenumber'] , df3['albedo'] , df3['fpfs_reflected'] \n",
    "wno3, alb3 = jdi.mean_regrid(wno3, alb3, R=150)\n",
    "labels+=['SH4 (OTHG multi)']\n",
    "albs+=[alb3]"
   ]
  },
  {
   "cell_type": "markdown",
   "metadata": {},
   "source": [
    "Here we relax the constraint for OTHG to see how the multile scattering approximation in Toon impacts the spectrum.  "
   ]
  },
  {
   "cell_type": "code",
   "execution_count": 5,
   "metadata": {
    "execution": {
     "iopub.execute_input": "2023-03-23T19:14:02.243839Z",
     "iopub.status.busy": "2023-03-23T19:14:02.241862Z",
     "iopub.status.idle": "2023-03-23T19:14:13.455633Z",
     "shell.execute_reply": "2023-03-23T19:14:13.456561Z"
    }
   },
   "outputs": [],
   "source": [
    "w_multi_form='TTHG'; w_multi_rayleigh='on'\n",
    "\n",
    "case1.approx(rt_method='SH', stream=4, \n",
    "              w_single_form=w_single_form, w_single_rayleigh=w_single_rayleigh,\n",
    "              w_multi_form=w_multi_form, w_multi_rayleigh=w_multi_rayleigh,\n",
    "             psingle_form=psingle_form, psingle_rayleigh=psingle_rayleigh,\n",
    "             delta_eddington=DE, raman='none')\n",
    "# case1.approx(rt_method='SH', stream=4, raman='none')\n",
    "df5 = case1.spectrum(opa)\n",
    "wno5, alb5, fpfs5 = df5['wavenumber'] , df5['albedo'] , df5['fpfs_reflected'] \n",
    "wno5, alb5 = jdi.mean_regrid(wno5, alb5, R=150)\n",
    "labels+=['SH4 (TTHG multi)']\n",
    "albs+=[alb5]"
   ]
  },
  {
   "cell_type": "markdown",
   "metadata": {},
   "source": [
    "## Reproducing Figure 5a from Rooney et al. 2023"
   ]
  },
  {
   "cell_type": "code",
   "execution_count": 6,
   "metadata": {
    "execution": {
     "iopub.execute_input": "2023-03-23T19:14:13.494245Z",
     "iopub.status.busy": "2023-03-23T19:14:13.481502Z",
     "iopub.status.idle": "2023-03-23T19:14:13.538644Z",
     "shell.execute_reply": "2023-03-23T19:14:13.539565Z"
    }
   },
   "outputs": [
    {
     "data": {
      "text/html": [
       "\n",
       "  <div id=\"37fe9cc8-80e8-41f9-8934-b368a0eba4a8\" data-root-id=\"p1002\" style=\"display: contents;\"></div>\n"
      ]
     },
     "metadata": {},
     "output_type": "display_data"
    },
    {
     "data": {
      "application/javascript": [
       "(function(root) {\n",
       "  function embed_document(root) {\n",
       "  const docs_json = {\"4991b55f-0649-4f84-be32-cb17b9fc5ce1\":{\"version\":\"3.0.2\",\"title\":\"Bokeh Application\",\"defs\":[],\"roots\":[{\"type\":\"object\",\"name\":\"Figure\",\"id\":\"p1002\",\"attributes\":{\"width\":700,\"height\":345,\"x_range\":{\"type\":\"object\",\"name\":\"DataRange1d\",\"id\":\"p1003\"},\"y_range\":{\"type\":\"object\",\"name\":\"DataRange1d\",\"id\":\"p1004\"},\"x_scale\":{\"type\":\"object\",\"name\":\"LinearScale\",\"id\":\"p1015\"},\"y_scale\":{\"type\":\"object\",\"name\":\"LinearScale\",\"id\":\"p1017\"},\"title\":{\"type\":\"object\",\"name\":\"Title\",\"id\":\"p1008\"},\"renderers\":[{\"type\":\"object\",\"name\":\"GlyphRenderer\",\"id\":\"p1054\",\"attributes\":{\"data_source\":{\"type\":\"object\",\"name\":\"ColumnDataSource\",\"id\":\"p1048\",\"attributes\":{\"selected\":{\"type\":\"object\",\"name\":\"Selection\",\"id\":\"p1049\",\"attributes\":{\"indices\":[],\"line_indices\":[]}},\"selection_policy\":{\"type\":\"object\",\"name\":\"UnionRenderers\",\"id\":\"p1050\"},\"data\":{\"type\":\"map\",\"entries\":[[\"x\",{\"type\":\"ndarray\",\"array\":{\"type\":\"bytes\",\"data\":\"aje9umj77z9XJEn5AcXvPwOLMsH3ju8/ZOMRdUlZ7z8AZIt49iPvP4Q6TTD+7u4/T8cNAmC67j8Y3IlUG4buP4H9go8vUu4/n6e9G5we7j9/lf9iYOvtP5MLDtB7uO0/BCWszu2F7T/rI5nLtVPtP2zEjjTTIe0/pJI/eEXw7D9sQ1UGDL/sP/EPb08mjuw/FhQgxZNd7D+Zr+3ZUy3sP/fpTQFm/es/Gtmlr8nN6z+xCkhafp7rP0HwcneDb+s/6k1PfthA6z/Nq+7mfBLrPyDKSSpw5Oo/4Rc/wrG26j8iLJEpQYnqP/RB5dsdXOo/4rbBVUcv6j/+i4wUvQLqP3jpiZZ+1uk/u6TaWouq6T8PyXrh4n7pP7giQKuEU+k/lszYOXAo6T8swMkPpf3oPyZobbAi0+g/RjXyn+io6D/FNVlj9n7oPwmvdIBLVeg/x7nmfecr6D+F4B/jyQLoP2nAXTjy2ec/a6ypBmCx5z/TUtfXEonnP/tkgzYKYec/cEESrkU55z9CoK7KxBHnP6RBSBmH6uY/wp6SJ4zD5j/bnAOE05zmP4NC0r1cduY/JW/1ZCdQ5j+ulCIKMyrmP19zzD5/BOY/0dchlQvf5T8OWwyg17nlP98kL/PilOU/G7DlIi1w5T8skULEtUvlP44+Dm18J+U/fNvFs4AD5T+NBJovwt/kP3WebXhAvOQ/w6bUJvuY5D+cBhPU8XXkP4ZnGxokU+Q/IgqOk5Ew5D/mnrfbOQ7kP9IgkI4c7OM/CrK5SDnK4z9sen+nj6jjPxGI1Egfh+M/r7FSy+dl4z/sejnO6ETjP4n6bPEhJOM/cMJ01ZID4z+nyXobO+PiPw1YSmUaw+I/9fNOVTCj4j+YUZOOfIPiP0tEwLT+Y+I/jrEbbLZE4j/ZhYdZoyXiPzurgCLFBuI/sQEebRvo4T9IWQ/gpcnhP/RtnCJkq+E/JOWj3FWN4T8VTZq2em/hP8sdiVnSUeE/yrsNb1w04T91fFihGBfhPxusK5sG+uA/s5XaBybd4D8zjEiTdsDgP5X15+n3o+A/dVe5uKmH4D9WZUqti2vgP3cQtXWdT+A/SZmewN4z4D95ojY9TxjgPxWLbDbd+d8/BlK+FXnD3z9OMPV5cY3fP344scXFV98/wi6eXHUi3z+XwXGjf+3eP2fF6f/juN4/S3PK2KGE3j+oqtyVuFDeP9o17J8nHd4/xxHGYO7p3T9cuDZDDLfdP/5tCLOAhN0/05EBHUtS3T/38OLuaiDdP3EcZpff7tw/GsI7hqi93D9ACAosxYzcPyHsavo0XNw/H6PqY/cr3D+9/gXcC/zbP17TKNdxzNs/s2Gsyiid2z/bwtUsMG7bP0BX1HSHP9s/DzjAGi4R2z9bq5iXI+PaP+eaQmVntdo/ig2H/viH2j8koxHf11raPywTb4MDLto/160LaXsB2j+23zEOP9XZP/S3CPJNqdk//nCSlKd92T+4+6p2S1LZPy+NBho5J9k/sS4wAXD82D9nUIiv79HYP1ReQ6m3p9g/vldoc8d92D8Fac+THlTYP8qHIJG8Ktg/hRHS8qAB2D9pbCdBy9jXP6CqLwU7sNc/3i/EyO+H1z86WYcW6V/XP04n43kmONc/qOoHf6cQ1z908uqya+nWP2M9RaNywtY/0iyS3rub1j8hOg70RnXWP0KutXMTT9Y/dVtD7iAp1j8lWS/1bgPWPwTCrRr93dU/L3St8cq41T+E09YN2JPVPxOOigMkb9U/m2LgZ65K1T8t6aXQdibVP9ldXdR8AtU/Ym08CsDe1D8LBCsKQLvUP2Eewmz8l9Q/DpxKy/R01D+jFLy/KFLUP3Guu+SXL9Q/R/ea1UEN1D80v1YuJuvTPzb1lYtEydM/34Woipyn0z/XO4bJLYbTP1yizeb3ZNM/kunCgfpD0z8=\"},\"shape\":[181],\"dtype\":\"float64\",\"order\":\"little\"}],[\"y\",{\"type\":\"ndarray\",\"array\":{\"type\":\"bytes\",\"data\":\"Cgm9J0iozT/JYcnyT3LPP9m08CXdhtE/MXDQiXf12D9QslOMy/LdP3WWvU5NIeA/NfFbrmOY4T8izxyUcNvhPwxAYljoeuE/XAl1nFXk4D8k/Etq3FHfP4xiao/shuA/SKUmpvHf4T/wEjHy/hbiPyPlWk5OJuE/MzEa4Dhb3T8yxZnmI/PSPw4tnt8sQMw/o6CJlxykyT/CEOm4LgfXP3XAx8+tIeE/EyzLSrSb4D9OqwQyon/fP0CuohUv3OE//JC3QSFr4z9GvyG19ZnjP5WuVxXFXOM/zz3cgQXI4z9QSHyKl9rjPztI0UTRneM/BVhuIG4c4z/fTAGzqWHjPzN/yEE9feM/dNfIi+4j4z/v1D9AKfniP3X/zBeoUOM/FOrjoQBR4z/xctbBL3TjP77WgIrX7uM/kdi8kTMp5D+ot3H5pUDkPyzRYlg3XeQ/wftUK/Rw5D9OrXrIkXLkP+CqQadZcOQ/NunozGg95D/S5SF7LHHjP2K/1J3a3uE/CZSL0nXS4D+oDNHoKZTiP+DGTNbm4OM/JZepWIBf5D/KQZEPEjnkPzFjG6TZF+Q/sSwTKHtY5D+IHy5g4WnkP+JO2aFrtuQ/Z59P6vq+5D/YfCicstXkP23jpDXn0eQ/Ip0yflyv5D+0oxhhm5TkP8TLnAN0iOQ/8k6jR1d35D8HKqz7KYvkPxn6F+snd+Q/NtTZFwe45D9y/sU4EdPkP5vRsMuh4uQ/ph/pm1vi5D+1KIgiF8DkP8G9MYcFc+Q/Allc/6Ut5D8pkUe6k53kPy9Sev487+Q/Or4QuJXl5D/rwE5bzsHkP5psEwVAneQ/xOggi5WN5D/1r1Hzj4vkP2eBGjVA3OQ/cT2EBFoJ5T+c+5iS/gflPxMoxtxa++Q/22vKANoM5T9J7BSdLSrlP81s1szrWOU/gMiF/0xe5T/7udJOvV/lP1UJi7HzWuU/35sIM4g/5T/fgQB7kRPlP57SWWb3GuU/PFbAASGD5T/RTjw8qKPlPzaoVidZlOU/6bcRlG6M5T/LuGA6sajlP2o5BreEu+U/GVAMQoy05T9LcsCGH43lP1jSb28IUeU/yUpPbi1H5T8YNN7jHEjlP13Prwr5q+U/tJLs5TfM5T/z5XorJNHlP/rqbVQG0eU/ACZlo6LG5T8hzNdd2uLlPy101RsR7+U/Byy5kHv05T/NQtQMKvTlP7JTThk3+OU/abRk8AYH5j9qwwrwRhjmP69Qme5MFuY/ed09298a5j9YgAUVfCzmPw9+RHfgNeY/ABABsDMw5j8j4Z3wbRzmP4B/p2e4FOY/nH0FaZFJ5j/1X3zB0WXmPyXaigQSceY/fU7BlNR65j9FQhdqhYPmP4vLiE8SjOY/ra79lRqW5j94V0EsB5zmP2FK4D+io+Y/Us6rU+iy5j+Gm/oDFL7mP7Kfa58YyOY/xvpg4YLQ5j+NFr+mydnmP4TTGiti2eY/DlwxwAHf5j+lx0MBv/jmP8/m9vZWCOc/+Y4wIXgU5z9exZWmMSDnP7duNhUwK+c/I+b8Pqk15z9LVnM2sEDnP6CwKsovS+c/B7ItRDlX5z9b0pSWdWLnP8/CffHnbec/W5EkonJ45z8iHtQuhIDnP0hLM+99iuc/JL+JW8+a5z+8yhSvA6fnP+OZzOULs+c/a7IYswG/5z8v3g+i8MrnPwGmg1aE1uc/HtBQ8obi5z9Nvs3DTe7nP0ROMEww+uc/TvcCiPUF6D/3n37crhDoP+NVuLS6G+g/UjAMj94n6D+vdP2OrTLoP7jzG1vpPeg/97m7fbpI6D+mqt+euFPoP6X355iHXug/+nDvfVVp6D9EK0Bf43PoP8szQ19Vfug/C0bKN9uI6D9gMV6T+pPoP6WmUVv3nug/kHjBytap6D/zbgf9t7ToPw1Bdt+Ev+g/AlpKJjzK6D8=\"},\"shape\":[181],\"dtype\":\"float64\",\"order\":\"little\"}]]}}},\"view\":{\"type\":\"object\",\"name\":\"CDSView\",\"id\":\"p1055\",\"attributes\":{\"filter\":{\"type\":\"object\",\"name\":\"AllIndices\",\"id\":\"p1056\"}}},\"glyph\":{\"type\":\"object\",\"name\":\"Line\",\"id\":\"p1051\",\"attributes\":{\"x\":{\"type\":\"field\",\"field\":\"x\"},\"y\":{\"type\":\"field\",\"field\":\"y\"},\"line_color\":\"#0072B2\",\"line_width\":3}},\"nonselection_glyph\":{\"type\":\"object\",\"name\":\"Line\",\"id\":\"p1052\",\"attributes\":{\"x\":{\"type\":\"field\",\"field\":\"x\"},\"y\":{\"type\":\"field\",\"field\":\"y\"},\"line_color\":\"#0072B2\",\"line_alpha\":0.1,\"line_width\":3}},\"muted_glyph\":{\"type\":\"object\",\"name\":\"Line\",\"id\":\"p1053\",\"attributes\":{\"x\":{\"type\":\"field\",\"field\":\"x\"},\"y\":{\"type\":\"field\",\"field\":\"y\"},\"line_color\":\"#0072B2\",\"line_alpha\":0.2,\"line_width\":3}}}},{\"type\":\"object\",\"name\":\"GlyphRenderer\",\"id\":\"p1063\",\"attributes\":{\"data_source\":{\"type\":\"object\",\"name\":\"ColumnDataSource\",\"id\":\"p1057\",\"attributes\":{\"selected\":{\"type\":\"object\",\"name\":\"Selection\",\"id\":\"p1058\",\"attributes\":{\"indices\":[],\"line_indices\":[]}},\"selection_policy\":{\"type\":\"object\",\"name\":\"UnionRenderers\",\"id\":\"p1059\"},\"data\":{\"type\":\"map\",\"entries\":[[\"x\",{\"type\":\"ndarray\",\"array\":{\"type\":\"bytes\",\"data\":\"aje9umj77z9XJEn5AcXvPwOLMsH3ju8/ZOMRdUlZ7z8AZIt49iPvP4Q6TTD+7u4/T8cNAmC67j8Y3IlUG4buP4H9go8vUu4/n6e9G5we7j9/lf9iYOvtP5MLDtB7uO0/BCWszu2F7T/rI5nLtVPtP2zEjjTTIe0/pJI/eEXw7D9sQ1UGDL/sP/EPb08mjuw/FhQgxZNd7D+Zr+3ZUy3sP/fpTQFm/es/Gtmlr8nN6z+xCkhafp7rP0HwcneDb+s/6k1PfthA6z/Nq+7mfBLrPyDKSSpw5Oo/4Rc/wrG26j8iLJEpQYnqP/RB5dsdXOo/4rbBVUcv6j/+i4wUvQLqP3jpiZZ+1uk/u6TaWouq6T8PyXrh4n7pP7giQKuEU+k/lszYOXAo6T8swMkPpf3oPyZobbAi0+g/RjXyn+io6D/FNVlj9n7oPwmvdIBLVeg/x7nmfecr6D+F4B/jyQLoP2nAXTjy2ec/a6ypBmCx5z/TUtfXEonnP/tkgzYKYec/cEESrkU55z9CoK7KxBHnP6RBSBmH6uY/wp6SJ4zD5j/bnAOE05zmP4NC0r1cduY/JW/1ZCdQ5j+ulCIKMyrmP19zzD5/BOY/0dchlQvf5T8OWwyg17nlP98kL/PilOU/G7DlIi1w5T8skULEtUvlP44+Dm18J+U/fNvFs4AD5T+NBJovwt/kP3WebXhAvOQ/w6bUJvuY5D+cBhPU8XXkP4ZnGxokU+Q/IgqOk5Ew5D/mnrfbOQ7kP9IgkI4c7OM/CrK5SDnK4z9sen+nj6jjPxGI1Egfh+M/r7FSy+dl4z/sejnO6ETjP4n6bPEhJOM/cMJ01ZID4z+nyXobO+PiPw1YSmUaw+I/9fNOVTCj4j+YUZOOfIPiP0tEwLT+Y+I/jrEbbLZE4j/ZhYdZoyXiPzurgCLFBuI/sQEebRvo4T9IWQ/gpcnhP/RtnCJkq+E/JOWj3FWN4T8VTZq2em/hP8sdiVnSUeE/yrsNb1w04T91fFihGBfhPxusK5sG+uA/s5XaBybd4D8zjEiTdsDgP5X15+n3o+A/dVe5uKmH4D9WZUqti2vgP3cQtXWdT+A/SZmewN4z4D95ojY9TxjgPxWLbDbd+d8/BlK+FXnD3z9OMPV5cY3fP344scXFV98/wi6eXHUi3z+XwXGjf+3eP2fF6f/juN4/S3PK2KGE3j+oqtyVuFDeP9o17J8nHd4/xxHGYO7p3T9cuDZDDLfdP/5tCLOAhN0/05EBHUtS3T/38OLuaiDdP3EcZpff7tw/GsI7hqi93D9ACAosxYzcPyHsavo0XNw/H6PqY/cr3D+9/gXcC/zbP17TKNdxzNs/s2Gsyiid2z/bwtUsMG7bP0BX1HSHP9s/DzjAGi4R2z9bq5iXI+PaP+eaQmVntdo/ig2H/viH2j8koxHf11raPywTb4MDLto/160LaXsB2j+23zEOP9XZP/S3CPJNqdk//nCSlKd92T+4+6p2S1LZPy+NBho5J9k/sS4wAXD82D9nUIiv79HYP1ReQ6m3p9g/vldoc8d92D8Fac+THlTYP8qHIJG8Ktg/hRHS8qAB2D9pbCdBy9jXP6CqLwU7sNc/3i/EyO+H1z86WYcW6V/XP04n43kmONc/qOoHf6cQ1z908uqya+nWP2M9RaNywtY/0iyS3rub1j8hOg70RnXWP0KutXMTT9Y/dVtD7iAp1j8lWS/1bgPWPwTCrRr93dU/L3St8cq41T+E09YN2JPVPxOOigMkb9U/m2LgZ65K1T8t6aXQdibVP9ldXdR8AtU/Ym08CsDe1D8LBCsKQLvUP2Eewmz8l9Q/DpxKy/R01D+jFLy/KFLUP3Guu+SXL9Q/R/ea1UEN1D80v1YuJuvTPzb1lYtEydM/34Woipyn0z/XO4bJLYbTP1yizeb3ZNM/kunCgfpD0z8=\"},\"shape\":[181],\"dtype\":\"float64\",\"order\":\"little\"}],[\"y\",{\"type\":\"ndarray\",\"array\":{\"type\":\"bytes\",\"data\":\"/tenNkO1zT+upUFO94XPP2v1BCQ8pNE/RUvPXgqG2T+16z40rtrePxjAe4TUtOA/mGoxKMdi4j800EGSxrviP9cEFh3MWuI/SmuK0Gqy4T9y/o1yUGTgP8dlfsu4JeE/uoVHY/Sa4j9oNmvqR9viP7zpViAP0eE/3XFCOh803j+Aq/BnvRfTP2dwC6dgGsw/Jy24lEF6yT9E4PQ3DHTXP0DYACLnvOE/pFOAaxMo4T9klPzaUTbgP06eDYJYi+I/q4f+cW5J5D80r+bA0H3kP3Xgc0s6OeQ/b4n0NGO05D8/Fm8eZsvkP3uZxXTMjOQ/UEJS3LUF5D+Z3JABukTkP4xtDG9qXuQ/LHEeE5364z+MegjcfsnjPxTVaul6K+Q/qTBndcEr5D9FyaVQl1PkP3Oc3tb13uQ/N4J4t6gh5T/b0hXa7zzlP9BWCLm0XuU/5b4eO4x25T/Yp5ITfnjlP4303pWJdOU/VjDMnXs35T+pwnOsL1DkP6ATcprGj+I/SQYCRZts4T/HTF31cl/jP8ssnzbR0uQ/oKjZ7NNf5T+gNWLikjTlP0B48SJfDuU/yicxqYZY5T+sQ+RGVG3lP3xvMOiRzuU/PU5YyK/a5T9YDyr58vjlP4g4IIp99OU/wsnQmOnI5T+nqkUHWKblP0iyIbMFleU/skMpOjZ+5T/06LGbA5blPzBlVYRifeU/QbSVpSjO5T9Tu04so/DlP7cNsIDsBOY/f0kbSfIE5j/ek0e9bdflP3CCt7/ufOU/ou4fkXkq5T+uixDxdbHlP6xtWmioF+Y/+cyPpLUJ5j8U0BCP8NnlPxO6zjCAq+U/m/h0y/uY5T8SQINBcZTlP3Y5r/ED+uU/tIyA0NMz5j/NiixnczLmP8Px65XVIOY/gzkQF8c25j8Pfq1+/V7mP6Og+XRAneY/yKQdDtui5j+/XXqT7qLmPzAqlAz9muY/q1HA2Ixy5j9liM6eBznmP9ekz4FMQuY/2kahD7vG5j/NqTrpTvDmP0tEj7tV1+Y/vwEqFUPK5j887ngRA/LmP4RwN2+sEOc/HxmdalYL5z9jy6MKgNfmP2rX4piuiOY/K3bjggl85j/wFCs+WX3mP46sL6aUAec/C2Zc8KMu5z8gsGGbfjPnP62xJzxZMOc/NnuKU80f5z/QrOex0UbnP6TnCOyEVuc/SgUT+ahc5z/Y5P8iPlrnP/7whHMVXuc/0H6G3zBx5z+Re2qBLYjnP/y3QB3Ygec/0wNqe7SF5z85l8tJuJ3nP4xWq+2Dqec/rz6SIaKf5z+3vqwAP4HnP+K3rKq2dOc/DMhaIaG65z9dLupBVeDnP6ytL+qf7ec/eMzoBMP45z9LFg19NwLoP8m1AdpsC+g/fLXwdsMW6D/qIB1u/RvoP6cNKemzI+g/YeU+G0426D+vP9tw8kLoP4WIZKzoTeg/aQSyf19W6D9HxOtWNGDoP1jGzbFKXOg/I/DmIehg6D9AuKoX34DoPxRSeLXdkug/DCHBMiOg6D9G1l+t1KzoP6Hcwn54uOg/faKuZ2jD6D8hzXg4Es/oP5xIKT/22eg/f+Xfg+7m6D9EyWOEzvLoP8mGsOvv/ug/LEdLjOgJ6T/5XZtchBHpP/HGOrmgG+k/oQWBSzAu6T+dFOAqTDvpP1guiC8nSOk/vtZ0vu9U6T+AqyOJrmHpP6VtKxfybek/4pzB3Mp66T8ZRe3XWIfpP7XwMlMJlOk/gKELFKCg6T+714dX5avpPwgacITJt+k/AqUsISzF6T/5AZQI49DpPx7OYOop3ek/0r+jDPjo6T9EwFJDCvXpP7UxfJrpAOo/PRWj5tcM6j83YFJ/gxjqP5Em3SwXJOo/YHLTdNQv6j9dvOeUSDzqP9H2Cox3SOo/d9ir2ZVU6j+2bQehx2DqP1oz0MfxbOo/3W8dJBV56j8=\"},\"shape\":[181],\"dtype\":\"float64\",\"order\":\"little\"}]]}}},\"view\":{\"type\":\"object\",\"name\":\"CDSView\",\"id\":\"p1064\",\"attributes\":{\"filter\":{\"type\":\"object\",\"name\":\"AllIndices\",\"id\":\"p1065\"}}},\"glyph\":{\"type\":\"object\",\"name\":\"Line\",\"id\":\"p1060\",\"attributes\":{\"x\":{\"type\":\"field\",\"field\":\"x\"},\"y\":{\"type\":\"field\",\"field\":\"y\"},\"line_color\":\"#E69F00\",\"line_width\":3}},\"nonselection_glyph\":{\"type\":\"object\",\"name\":\"Line\",\"id\":\"p1061\",\"attributes\":{\"x\":{\"type\":\"field\",\"field\":\"x\"},\"y\":{\"type\":\"field\",\"field\":\"y\"},\"line_color\":\"#E69F00\",\"line_alpha\":0.1,\"line_width\":3}},\"muted_glyph\":{\"type\":\"object\",\"name\":\"Line\",\"id\":\"p1062\",\"attributes\":{\"x\":{\"type\":\"field\",\"field\":\"x\"},\"y\":{\"type\":\"field\",\"field\":\"y\"},\"line_color\":\"#E69F00\",\"line_alpha\":0.2,\"line_width\":3}}}},{\"type\":\"object\",\"name\":\"GlyphRenderer\",\"id\":\"p1072\",\"attributes\":{\"data_source\":{\"type\":\"object\",\"name\":\"ColumnDataSource\",\"id\":\"p1066\",\"attributes\":{\"selected\":{\"type\":\"object\",\"name\":\"Selection\",\"id\":\"p1067\",\"attributes\":{\"indices\":[],\"line_indices\":[]}},\"selection_policy\":{\"type\":\"object\",\"name\":\"UnionRenderers\",\"id\":\"p1068\"},\"data\":{\"type\":\"map\",\"entries\":[[\"x\",{\"type\":\"ndarray\",\"array\":{\"type\":\"bytes\",\"data\":\"aje9umj77z9XJEn5AcXvPwOLMsH3ju8/ZOMRdUlZ7z8AZIt49iPvP4Q6TTD+7u4/T8cNAmC67j8Y3IlUG4buP4H9go8vUu4/n6e9G5we7j9/lf9iYOvtP5MLDtB7uO0/BCWszu2F7T/rI5nLtVPtP2zEjjTTIe0/pJI/eEXw7D9sQ1UGDL/sP/EPb08mjuw/FhQgxZNd7D+Zr+3ZUy3sP/fpTQFm/es/Gtmlr8nN6z+xCkhafp7rP0HwcneDb+s/6k1PfthA6z/Nq+7mfBLrPyDKSSpw5Oo/4Rc/wrG26j8iLJEpQYnqP/RB5dsdXOo/4rbBVUcv6j/+i4wUvQLqP3jpiZZ+1uk/u6TaWouq6T8PyXrh4n7pP7giQKuEU+k/lszYOXAo6T8swMkPpf3oPyZobbAi0+g/RjXyn+io6D/FNVlj9n7oPwmvdIBLVeg/x7nmfecr6D+F4B/jyQLoP2nAXTjy2ec/a6ypBmCx5z/TUtfXEonnP/tkgzYKYec/cEESrkU55z9CoK7KxBHnP6RBSBmH6uY/wp6SJ4zD5j/bnAOE05zmP4NC0r1cduY/JW/1ZCdQ5j+ulCIKMyrmP19zzD5/BOY/0dchlQvf5T8OWwyg17nlP98kL/PilOU/G7DlIi1w5T8skULEtUvlP44+Dm18J+U/fNvFs4AD5T+NBJovwt/kP3WebXhAvOQ/w6bUJvuY5D+cBhPU8XXkP4ZnGxokU+Q/IgqOk5Ew5D/mnrfbOQ7kP9IgkI4c7OM/CrK5SDnK4z9sen+nj6jjPxGI1Egfh+M/r7FSy+dl4z/sejnO6ETjP4n6bPEhJOM/cMJ01ZID4z+nyXobO+PiPw1YSmUaw+I/9fNOVTCj4j+YUZOOfIPiP0tEwLT+Y+I/jrEbbLZE4j/ZhYdZoyXiPzurgCLFBuI/sQEebRvo4T9IWQ/gpcnhP/RtnCJkq+E/JOWj3FWN4T8VTZq2em/hP8sdiVnSUeE/yrsNb1w04T91fFihGBfhPxusK5sG+uA/s5XaBybd4D8zjEiTdsDgP5X15+n3o+A/dVe5uKmH4D9WZUqti2vgP3cQtXWdT+A/SZmewN4z4D95ojY9TxjgPxWLbDbd+d8/BlK+FXnD3z9OMPV5cY3fP344scXFV98/wi6eXHUi3z+XwXGjf+3eP2fF6f/juN4/S3PK2KGE3j+oqtyVuFDeP9o17J8nHd4/xxHGYO7p3T9cuDZDDLfdP/5tCLOAhN0/05EBHUtS3T/38OLuaiDdP3EcZpff7tw/GsI7hqi93D9ACAosxYzcPyHsavo0XNw/H6PqY/cr3D+9/gXcC/zbP17TKNdxzNs/s2Gsyiid2z/bwtUsMG7bP0BX1HSHP9s/DzjAGi4R2z9bq5iXI+PaP+eaQmVntdo/ig2H/viH2j8koxHf11raPywTb4MDLto/160LaXsB2j+23zEOP9XZP/S3CPJNqdk//nCSlKd92T+4+6p2S1LZPy+NBho5J9k/sS4wAXD82D9nUIiv79HYP1ReQ6m3p9g/vldoc8d92D8Fac+THlTYP8qHIJG8Ktg/hRHS8qAB2D9pbCdBy9jXP6CqLwU7sNc/3i/EyO+H1z86WYcW6V/XP04n43kmONc/qOoHf6cQ1z908uqya+nWP2M9RaNywtY/0iyS3rub1j8hOg70RnXWP0KutXMTT9Y/dVtD7iAp1j8lWS/1bgPWPwTCrRr93dU/L3St8cq41T+E09YN2JPVPxOOigMkb9U/m2LgZ65K1T8t6aXQdibVP9ldXdR8AtU/Ym08CsDe1D8LBCsKQLvUP2Eewmz8l9Q/DpxKy/R01D+jFLy/KFLUP3Guu+SXL9Q/R/ea1UEN1D80v1YuJuvTPzb1lYtEydM/34Woipyn0z/XO4bJLYbTP1yizeb3ZNM/kunCgfpD0z8=\"},\"shape\":[181],\"dtype\":\"float64\",\"order\":\"little\"}],[\"y\",{\"type\":\"ndarray\",\"array\":{\"type\":\"bytes\",\"data\":\"lMYYEPhW0D+DBU7YWETRPzhHeQ2bRNM/4/x7T7nE2z/AOZuM0cDgP1l2RaraMOI/2r6NCqkr5D//5FXF4KfkP1iXtUZcSuQ/vT1inbWH4z+Hy6JzvCziP53aOQWNtOI/gw2h4MJC5D+qomOqIJPkPyFwEtSQZuM/RJfBfpZj4D/NNpt7BdbUP4BSbyk0zc4/o8GpQ9Lyyz+hztwbv3jZP9dsqwmeM+M/mpP58pmO4j9IAt+MAoXhP7JoOQpdHuQ/bxOnFqQa5j+If/+xUlbmPzPH5QLNCuY/541Dpa2e5j/HhbrpXb3mPwcl5Q+tfOY/lpyxwWPy5T/9SyzsNyPmP2G4UAJZNOY/qg/2KmbE5T9Rvso4dIjlP3IsyEfI9+U/lRR/T4b15T+50AfYWh/mP9eLevLSvuY/dnnDKMoK5z8OlNs3GijnPyvyOSqaTOc/pRjUcKll5z+5gXe262fnP2emcJIVZ+c/y30I2TMp5z/kHfqbIiTmP9JXocUHLOQ/mrGspcDx4j/2qrh4oCDlP11UK0y5wuY/y61yGa5U5z8xYD5u9yXnP1TPR2Ez/OY/3FkRNUFL5z8YAU32KWXnP+TI46cfnec/2LbbGz+g5z9axRsyOrbnP01Oh/Gor+c/8lsqt3+I5z9+Vc9d6nHnPyvpEk8ycec/jQfLSAhq5z9LXWzlv3znPzmUMq5Zbuc/u1ECeHaf5z94cOXPJrPnPxwOhUHRv+c/6EhLYX6+5z8vJO80g5znP2peQv7iLec/THQKccjZ5j/JM9RIX1znP/x3di9jv+c/L7Jyq0jD5z9lJXC3xa3nP8/zwh3Mkec/A9/h8peD5z+e/vg+IYjnP2T7sCdUwec/YtcPccfc5z9p2JGoA9bnPxZIRUt4zOc/6exCEI3d5z8DZs7QlPXnPypYNaoxFug/KG+GllUZ6D/3h39gjxnoP9bym9WgFug/hfgI9mAB6D/fOl99IdHnPxI36war0uc/Dumb/NQm6D8s5QonbkLoPycZ5btfN+g/RxNKY34x6D9HwCINwEXoP8A2M0qHV+g/C8gsPatW6D9WbpPcpjzoP8HJM7tgFOg/ILkE7eUO6D8fXdEqARLoP6o81LZtVug/w41wGRFv6D81UjEvT3LoP+NwnpzvcOg/3ZW1ABFk6D+ARTiurXzoP9Trbejkh+g/8T8rwB+N6D/vqmphGo3oPyXzAit/kOg/oaLGEjyc6D+SC8WzZKroPyFX+sGAp+g/5p2+FYCq6D+Q0d+zd7noP39q6+lmweg/cCLvvAS96D+Vv6YVTK3oP2qJiU1Ap+g/ydVgRN/O6D8woYcaY+boP3sJEBpi7+g/91JlUSr36D9ttrlZ7P3oP1Pm3HWYBOk/5TbiBKgM6T/ULPQr9RDpP6N757LnFuk/QMjCAKgj6T+5wMCOwSzpP3+bGknjNOk/EcMXm5076T9Sx5HWckPpP7NB3G2cQuk/0Gi6azBH6T8gEYZNGF3pP898cwhXauk/pnMjLp906T/8MX6vlH7pP4egC0eWh+k/q+Op6gWQ6T99a6f+AZnpP6+yRmSIoek/+dX2dISr6T+t0TTk0bTpP2Y6Ka5dvuk/MJvjNSnH6T/GWYRLqM3pP1Td8aPw1ek/Xq87l2nk6T+gAYH3Nu/pPwp7GM/n+ek/OOQNh5YE6j/ChnlGSw/qP8InluO1Geo/FwAHgpYk6j90/CBmTC/qP2bPbEUqOuo/sXEm4f1E6j+hm+Cu107qP7NN9WL6WOo/+eLvrDpk6j8bSnBvQm7qPwMaXwLEeOo/UN9DcfCC6j9Ma/seWo3qP88xYD2nl+o/TsWMEQai6j+ze4CNOKzqP1beTWRhtuo/S/d2U6/A6j+4qtsHm8vqPzPnq2lh1uo/2zprzB7h6j/089W18evqP7Ul7gfG9uo/lxGmB5oB6z8=\"},\"shape\":[181],\"dtype\":\"float64\",\"order\":\"little\"}]]}}},\"view\":{\"type\":\"object\",\"name\":\"CDSView\",\"id\":\"p1073\",\"attributes\":{\"filter\":{\"type\":\"object\",\"name\":\"AllIndices\",\"id\":\"p1074\"}}},\"glyph\":{\"type\":\"object\",\"name\":\"Line\",\"id\":\"p1069\",\"attributes\":{\"x\":{\"type\":\"field\",\"field\":\"x\"},\"y\":{\"type\":\"field\",\"field\":\"y\"},\"line_color\":\"#F0E442\",\"line_width\":3}},\"nonselection_glyph\":{\"type\":\"object\",\"name\":\"Line\",\"id\":\"p1070\",\"attributes\":{\"x\":{\"type\":\"field\",\"field\":\"x\"},\"y\":{\"type\":\"field\",\"field\":\"y\"},\"line_color\":\"#F0E442\",\"line_alpha\":0.1,\"line_width\":3}},\"muted_glyph\":{\"type\":\"object\",\"name\":\"Line\",\"id\":\"p1071\",\"attributes\":{\"x\":{\"type\":\"field\",\"field\":\"x\"},\"y\":{\"type\":\"field\",\"field\":\"y\"},\"line_color\":\"#F0E442\",\"line_alpha\":0.2,\"line_width\":3}}}}],\"toolbar\":{\"type\":\"object\",\"name\":\"Toolbar\",\"id\":\"p1007\",\"attributes\":{\"tools\":[{\"type\":\"object\",\"name\":\"PanTool\",\"id\":\"p1033\"},{\"type\":\"object\",\"name\":\"WheelZoomTool\",\"id\":\"p1034\"},{\"type\":\"object\",\"name\":\"BoxZoomTool\",\"id\":\"p1035\",\"attributes\":{\"overlay\":{\"type\":\"object\",\"name\":\"BoxAnnotation\",\"id\":\"p1036\",\"attributes\":{\"syncable\":false,\"level\":\"overlay\",\"visible\":false,\"left_units\":\"canvas\",\"right_units\":\"canvas\",\"bottom_units\":\"canvas\",\"top_units\":\"canvas\",\"line_color\":\"black\",\"line_alpha\":1.0,\"line_width\":2,\"line_dash\":[4,4],\"fill_color\":\"lightgrey\",\"fill_alpha\":0.5}}}},{\"type\":\"object\",\"name\":\"SaveTool\",\"id\":\"p1037\"},{\"type\":\"object\",\"name\":\"ResetTool\",\"id\":\"p1038\"},{\"type\":\"object\",\"name\":\"HelpTool\",\"id\":\"p1039\"}]}},\"left\":[{\"type\":\"object\",\"name\":\"LinearAxis\",\"id\":\"p1026\",\"attributes\":{\"ticker\":{\"type\":\"object\",\"name\":\"BasicTicker\",\"id\":\"p1029\",\"attributes\":{\"mantissas\":[1,2,5]}},\"formatter\":{\"type\":\"object\",\"name\":\"BasicTickFormatter\",\"id\":\"p1028\"},\"axis_label\":\"Spectrum\",\"axis_label_text_font\":\"times\",\"axis_label_text_font_size\":\"14pt\",\"axis_label_text_font_style\":\"bold\",\"major_label_policy\":{\"type\":\"object\",\"name\":\"AllLabels\",\"id\":\"p1027\"},\"major_label_text_font\":\"times\",\"major_label_text_font_size\":\"14pt\"}},{\"type\":\"object\",\"name\":\"Legend\",\"id\":\"p1075\",\"attributes\":{\"location\":[0,0],\"click_policy\":\"mute\",\"items\":[{\"type\":\"object\",\"name\":\"LegendItem\",\"id\":\"p1076\",\"attributes\":{\"label\":{\"type\":\"value\",\"value\":\"Toon89\"},\"renderers\":[{\"id\":\"p1054\"}]}},{\"type\":\"object\",\"name\":\"LegendItem\",\"id\":\"p1077\",\"attributes\":{\"label\":{\"type\":\"value\",\"value\":\"SH4 (OTHG multi)\"},\"renderers\":[{\"id\":\"p1063\"}]}},{\"type\":\"object\",\"name\":\"LegendItem\",\"id\":\"p1078\",\"attributes\":{\"label\":{\"type\":\"value\",\"value\":\"SH4 (TTHG multi)\"},\"renderers\":[{\"id\":\"p1072\"}]}}]}}],\"below\":[{\"type\":\"object\",\"name\":\"LinearAxis\",\"id\":\"p1019\",\"attributes\":{\"ticker\":{\"type\":\"object\",\"name\":\"BasicTicker\",\"id\":\"p1022\",\"attributes\":{\"mantissas\":[1,2,5]}},\"formatter\":{\"type\":\"object\",\"name\":\"BasicTickFormatter\",\"id\":\"p1021\"},\"axis_label\":\"Wavelength [\\u03bcm]\",\"axis_label_text_font\":\"times\",\"axis_label_text_font_size\":\"14pt\",\"axis_label_text_font_style\":\"bold\",\"major_label_policy\":{\"type\":\"object\",\"name\":\"AllLabels\",\"id\":\"p1020\"},\"major_label_text_font\":\"times\",\"major_label_text_font_size\":\"14pt\"}}],\"center\":[{\"type\":\"object\",\"name\":\"Grid\",\"id\":\"p1025\",\"attributes\":{\"axis\":{\"id\":\"p1019\"}}},{\"type\":\"object\",\"name\":\"Grid\",\"id\":\"p1032\",\"attributes\":{\"dimension\":1,\"axis\":{\"id\":\"p1026\"}}}]}}]}};\n",
       "  const render_items = [{\"docid\":\"4991b55f-0649-4f84-be32-cb17b9fc5ce1\",\"roots\":{\"p1002\":\"37fe9cc8-80e8-41f9-8934-b368a0eba4a8\"},\"root_ids\":[\"p1002\"]}];\n",
       "  root.Bokeh.embed.embed_items_notebook(docs_json, render_items);\n",
       "  }\n",
       "  if (root.Bokeh !== undefined) {\n",
       "    embed_document(root);\n",
       "  } else {\n",
       "    let attempts = 0;\n",
       "    const timer = setInterval(function(root) {\n",
       "      if (root.Bokeh !== undefined) {\n",
       "        clearInterval(timer);\n",
       "        embed_document(root);\n",
       "      } else {\n",
       "        attempts++;\n",
       "        if (attempts > 100) {\n",
       "          clearInterval(timer);\n",
       "          console.log(\"Bokeh: ERROR: Unable to run BokehJS code because BokehJS library is missing\");\n",
       "        }\n",
       "      }\n",
       "    }, 10, root)\n",
       "  }\n",
       "})(window);"
      ],
      "application/vnd.bokehjs_exec.v0+json": ""
     },
     "metadata": {
      "application/vnd.bokehjs_exec.v0+json": {
       "id": "p1002"
      }
     },
     "output_type": "display_data"
    }
   ],
   "source": [
    "jpi.show(jpi.spectrum([wno]*3, albs, labels, width=700))"
   ]
  },
  {
   "cell_type": "markdown",
   "metadata": {},
   "source": [
    "## Reproducing Figure 5b from Rooney et al. 2023\n",
    "\n",
    "Here we reproduce the same procedure from above, but with a different cloud setup."
   ]
  },
  {
   "cell_type": "code",
   "execution_count": 7,
   "metadata": {
    "execution": {
     "iopub.execute_input": "2023-03-23T19:14:13.545245Z",
     "iopub.status.busy": "2023-03-23T19:14:13.542947Z",
     "iopub.status.idle": "2023-03-23T19:14:13.557343Z",
     "shell.execute_reply": "2023-03-23T19:14:13.556682Z"
    }
   },
   "outputs": [],
   "source": [
    "#set model clouds, note these are lists since you can specify multiple cloud layers\n",
    "case1.clouds( g0=[0.9], w0=[0.8], opd=[0.5], p = [0.0], dp=[1.0])  # Slab cloud from 1.0 bar up to 0.1 bar\n",
    "labels = []\n",
    "albs = []"
   ]
  },
  {
   "cell_type": "code",
   "execution_count": 8,
   "metadata": {
    "execution": {
     "iopub.execute_input": "2023-03-23T19:14:13.566164Z",
     "iopub.status.busy": "2023-03-23T19:14:13.565129Z",
     "iopub.status.idle": "2023-03-23T19:14:15.875262Z",
     "shell.execute_reply": "2023-03-23T19:14:15.874295Z"
    }
   },
   "outputs": [],
   "source": [
    "multi_phase = 'N=2'\n",
    "single_phase='TTHG_ray'\n",
    "DE = True\n",
    "\n",
    "case1.approx(multi_phase=multi_phase,single_phase=single_phase,\n",
    "             delta_eddington=DE, raman='none')\n",
    "df = case1.spectrum(opa)\n",
    "wno, alb, fpfs = df['wavenumber'] , df['albedo'] , df['fpfs_reflected'] \n",
    "wno, alb = jdi.mean_regrid(wno, alb, R=150)\n",
    "labels+=['Toon89']\n",
    "albs+=[alb]"
   ]
  },
  {
   "cell_type": "code",
   "execution_count": 9,
   "metadata": {
    "execution": {
     "iopub.execute_input": "2023-03-23T19:14:15.891396Z",
     "iopub.status.busy": "2023-03-23T19:14:15.890253Z",
     "iopub.status.idle": "2023-03-23T19:14:26.318386Z",
     "shell.execute_reply": "2023-03-23T19:14:26.317992Z"
    }
   },
   "outputs": [],
   "source": [
    "#run SH4\n",
    "w_single_form='OTHG'; w_single_rayleigh='off' \n",
    "w_multi_form='OTHG'; w_multi_rayleigh='on'\n",
    "psingle_form='TTHG'; psingle_rayleigh='on'\n",
    "\n",
    "case1.approx(rt_method='SH', stream=4, \n",
    "              w_single_form=w_single_form, w_single_rayleigh=w_single_rayleigh,\n",
    "              w_multi_form=w_multi_form, w_multi_rayleigh=w_multi_rayleigh,\n",
    "             psingle_form=psingle_form, psingle_rayleigh=psingle_rayleigh,\n",
    "             delta_eddington=DE, raman='none')\n",
    "# case1.approx(rt_method='SH', stream=4, delta_eddington=DE, raman='none')\n",
    "df2 = case1.spectrum(opa)\n",
    "wno2, alb2, fpfs2 = df2['wavenumber'] , df2['albedo'] , df2['fpfs_reflected'] \n",
    "wno2, alb2 = jdi.mean_regrid(wno2, alb2, R=150)\n",
    "labels+=['SH4 (OTHG single)']\n",
    "albs+=[alb2]"
   ]
  },
  {
   "cell_type": "code",
   "execution_count": 10,
   "metadata": {
    "execution": {
     "iopub.execute_input": "2023-03-23T19:14:26.339036Z",
     "iopub.status.busy": "2023-03-23T19:14:26.327193Z",
     "iopub.status.idle": "2023-03-23T19:14:37.046490Z",
     "shell.execute_reply": "2023-03-23T19:14:37.047397Z"
    }
   },
   "outputs": [],
   "source": [
    "#run SH2\n",
    "w_multi_form='TTHG'; w_multi_rayleigh='on'\n",
    "\n",
    "case1.approx(rt_method='SH', stream=4, \n",
    "              w_single_form=w_single_form, w_single_rayleigh=w_single_rayleigh,\n",
    "              w_multi_form=w_multi_form, w_multi_rayleigh=w_multi_rayleigh,\n",
    "             psingle_form=psingle_form, psingle_rayleigh=psingle_rayleigh,\n",
    "             delta_eddington=DE, raman='none')\n",
    "df3 = case1.spectrum(opa)\n",
    "wno3, alb3, fpfs3 = df3['wavenumber'] , df3['albedo'] , df3['fpfs_reflected'] \n",
    "wno3, alb3 = jdi.mean_regrid(wno3, alb3, R=150)\n",
    "labels+=['SH4 (TTHG multi)']\n",
    "albs+=[alb3]"
   ]
  },
  {
   "cell_type": "code",
   "execution_count": 11,
   "metadata": {
    "execution": {
     "iopub.execute_input": "2023-03-23T19:14:37.098280Z",
     "iopub.status.busy": "2023-03-23T19:14:37.056452Z",
     "iopub.status.idle": "2023-03-23T19:14:37.128625Z",
     "shell.execute_reply": "2023-03-23T19:14:37.129556Z"
    }
   },
   "outputs": [
    {
     "data": {
      "text/html": [
       "\n",
       "  <div id=\"145033c4-c84c-4236-a679-ca22306a0418\" data-root-id=\"p1238\" style=\"display: contents;\"></div>\n"
      ]
     },
     "metadata": {},
     "output_type": "display_data"
    },
    {
     "data": {
      "application/javascript": [
       "(function(root) {\n",
       "  function embed_document(root) {\n",
       "  const docs_json = {\"d48e59b9-015b-487b-9cb4-e9af0c25fa72\":{\"version\":\"3.0.2\",\"title\":\"Bokeh Application\",\"defs\":[],\"roots\":[{\"type\":\"object\",\"name\":\"Figure\",\"id\":\"p1238\",\"attributes\":{\"width\":700,\"height\":345,\"x_range\":{\"type\":\"object\",\"name\":\"DataRange1d\",\"id\":\"p1239\"},\"y_range\":{\"type\":\"object\",\"name\":\"DataRange1d\",\"id\":\"p1240\"},\"x_scale\":{\"type\":\"object\",\"name\":\"LinearScale\",\"id\":\"p1251\"},\"y_scale\":{\"type\":\"object\",\"name\":\"LinearScale\",\"id\":\"p1253\"},\"title\":{\"type\":\"object\",\"name\":\"Title\",\"id\":\"p1244\"},\"renderers\":[{\"type\":\"object\",\"name\":\"GlyphRenderer\",\"id\":\"p1290\",\"attributes\":{\"data_source\":{\"type\":\"object\",\"name\":\"ColumnDataSource\",\"id\":\"p1284\",\"attributes\":{\"selected\":{\"type\":\"object\",\"name\":\"Selection\",\"id\":\"p1285\",\"attributes\":{\"indices\":[],\"line_indices\":[]}},\"selection_policy\":{\"type\":\"object\",\"name\":\"UnionRenderers\",\"id\":\"p1286\"},\"data\":{\"type\":\"map\",\"entries\":[[\"x\",{\"type\":\"ndarray\",\"array\":{\"type\":\"bytes\",\"data\":\"aje9umj77z9XJEn5AcXvPwOLMsH3ju8/ZOMRdUlZ7z8AZIt49iPvP4Q6TTD+7u4/T8cNAmC67j8Y3IlUG4buP4H9go8vUu4/n6e9G5we7j9/lf9iYOvtP5MLDtB7uO0/BCWszu2F7T/rI5nLtVPtP2zEjjTTIe0/pJI/eEXw7D9sQ1UGDL/sP/EPb08mjuw/FhQgxZNd7D+Zr+3ZUy3sP/fpTQFm/es/Gtmlr8nN6z+xCkhafp7rP0HwcneDb+s/6k1PfthA6z/Nq+7mfBLrPyDKSSpw5Oo/4Rc/wrG26j8iLJEpQYnqP/RB5dsdXOo/4rbBVUcv6j/+i4wUvQLqP3jpiZZ+1uk/u6TaWouq6T8PyXrh4n7pP7giQKuEU+k/lszYOXAo6T8swMkPpf3oPyZobbAi0+g/RjXyn+io6D/FNVlj9n7oPwmvdIBLVeg/x7nmfecr6D+F4B/jyQLoP2nAXTjy2ec/a6ypBmCx5z/TUtfXEonnP/tkgzYKYec/cEESrkU55z9CoK7KxBHnP6RBSBmH6uY/wp6SJ4zD5j/bnAOE05zmP4NC0r1cduY/JW/1ZCdQ5j+ulCIKMyrmP19zzD5/BOY/0dchlQvf5T8OWwyg17nlP98kL/PilOU/G7DlIi1w5T8skULEtUvlP44+Dm18J+U/fNvFs4AD5T+NBJovwt/kP3WebXhAvOQ/w6bUJvuY5D+cBhPU8XXkP4ZnGxokU+Q/IgqOk5Ew5D/mnrfbOQ7kP9IgkI4c7OM/CrK5SDnK4z9sen+nj6jjPxGI1Egfh+M/r7FSy+dl4z/sejnO6ETjP4n6bPEhJOM/cMJ01ZID4z+nyXobO+PiPw1YSmUaw+I/9fNOVTCj4j+YUZOOfIPiP0tEwLT+Y+I/jrEbbLZE4j/ZhYdZoyXiPzurgCLFBuI/sQEebRvo4T9IWQ/gpcnhP/RtnCJkq+E/JOWj3FWN4T8VTZq2em/hP8sdiVnSUeE/yrsNb1w04T91fFihGBfhPxusK5sG+uA/s5XaBybd4D8zjEiTdsDgP5X15+n3o+A/dVe5uKmH4D9WZUqti2vgP3cQtXWdT+A/SZmewN4z4D95ojY9TxjgPxWLbDbd+d8/BlK+FXnD3z9OMPV5cY3fP344scXFV98/wi6eXHUi3z+XwXGjf+3eP2fF6f/juN4/S3PK2KGE3j+oqtyVuFDeP9o17J8nHd4/xxHGYO7p3T9cuDZDDLfdP/5tCLOAhN0/05EBHUtS3T/38OLuaiDdP3EcZpff7tw/GsI7hqi93D9ACAosxYzcPyHsavo0XNw/H6PqY/cr3D+9/gXcC/zbP17TKNdxzNs/s2Gsyiid2z/bwtUsMG7bP0BX1HSHP9s/DzjAGi4R2z9bq5iXI+PaP+eaQmVntdo/ig2H/viH2j8koxHf11raPywTb4MDLto/160LaXsB2j+23zEOP9XZP/S3CPJNqdk//nCSlKd92T+4+6p2S1LZPy+NBho5J9k/sS4wAXD82D9nUIiv79HYP1ReQ6m3p9g/vldoc8d92D8Fac+THlTYP8qHIJG8Ktg/hRHS8qAB2D9pbCdBy9jXP6CqLwU7sNc/3i/EyO+H1z86WYcW6V/XP04n43kmONc/qOoHf6cQ1z908uqya+nWP2M9RaNywtY/0iyS3rub1j8hOg70RnXWP0KutXMTT9Y/dVtD7iAp1j8lWS/1bgPWPwTCrRr93dU/L3St8cq41T+E09YN2JPVPxOOigMkb9U/m2LgZ65K1T8t6aXQdibVP9ldXdR8AtU/Ym08CsDe1D8LBCsKQLvUP2Eewmz8l9Q/DpxKy/R01D+jFLy/KFLUP3Guu+SXL9Q/R/ea1UEN1D80v1YuJuvTPzb1lYtEydM/34Woipyn0z/XO4bJLYbTP1yizeb3ZNM/kunCgfpD0z8=\"},\"shape\":[181],\"dtype\":\"float64\",\"order\":\"little\"}],[\"y\",{\"type\":\"ndarray\",\"array\":{\"type\":\"bytes\",\"data\":\"+OuMn2QcvT84gxNrrBi9P7yWulX6Sr0/CKpxcbTZvz/0e7k+QjfAP30S52iJasA/7MzQL6O4wD+vq/+TRNDAP832SMBc0MA/AtRaVX3EwD/JvnGoB7HAP49IiWSRmcA/ooHTojzHwD82ugSXUcXAP/MdHKE9q8A/zLSlJIo0wD+BLUxdfXW9Pw4gYzsldrs/lxN/M+WEuj8bKLOwzcS+P7wgURWDscA/U9fiYqiOwD/g3VZNd1PAP6V9a/PkycA/TW96E5QhwT8g6tQRki3BP3nywCKnDsE/xsFG6RMXwT/sM0bHvxbBP44C2h8YFsE/+bE2JEcHwT+il44a6AvBP5qu1Wn3LcE/Cut0WigVwT8EawfTxxzBP/NGgijhNME/+H/HiilLwT/ijFgUDYbBP4RnLa5kycE/86UyhAL8wT8GRT1fwjDCP3GjTU97cMI/y4oyPVmpwj99ltwIAKzCP0XM+3RGbMI/wo1uQRnMwT+axU2QIFHBP1Tcwxq/2cA/bjHvIE+fwD9xFfINMwjBP19DpnH9i8E/oAD2uUQ3wj8WY1uzuBjCP43UhZKL7ME/U/kdEuRawj+JBxxWO1HCP/bRhqC3QsU/9OOKkK/hxT/mc8TH2IrGP6SpHE8+ncY/ZtD+UFzrxT9nvINX6fDEP8VDqd7yAcQ/B3FPE3gZwz+tHFxO+n/DPwHhoO4J0cI/5VV3bbTIxD91n9IAvLHFP+xtAix4OMY/awrWkRxYxj/VOKv/+X3FPxuKui8xDsY/qcsF2dWDxT/c6thlgX3GP+MQzhTA48Y/e1LDt0vzxT/jEF/95q/EP3cqf1ZUp8M/Yn3kmHlkwz9Eitx8wPPCP6NlkChyP8U/ysBDTZuVxj9bza+PV8DGP+zCXzRXY8Y/fHCjEpemxj88UlQL2WvHP4OouPSv7cg/ILbEqKDcyD+6UwgHJ5zIPy7Gh+36Gsg/iFu9q45Ixz/gBXyACb/GP7x6z8eS38Y/r71uZz2cyD/sLAKFjDjJP+95GuFCz8g/Kvzy6hCZyD9nZKJ/bhbJPyCSP5IoZ8k/VihnzOIayT9pW+1uhlLIP/HXLPgARMc/o8VRfjshxz/vLEgNCRbHP+CNnuIsFck/hLFfvTryyT8C67dOn+nJPxbCr7emz8k/Y3OFifqOyT9krp6C/xHKP/Bsg90eJMo/sH+O3NUAyj/LYECQS9TJP3+kugzWz8k/KOxWBZkYyj/B1ziQ0n7KPxgSQSW8Y8o/vt/Af59Qyj+1/F8ob2TKP18ANoHkT8o/gQz/sxD/yT9kg1SKu5nJP9V9dbbpdMk/keDXNRQ9yj8WrpYtBsTKP336UrKd5Mo/UfWZhMPpyj+P9AMznOjKP4Mq1kik4so/BL0tO7Lpyj8fwWI1+t3KP+BEWqr02so/pbZmOWsJyz+Y5/nwwB7LPyT+AKlYIcs/fCSu67cVyz/AqQtsFwbLPx7A32zp3so/7S5dhl7Xyj8CIiFBah7LP9Rp7W77SMs/ZYeZfvpayz89MiweS2XLPzGgMjcia8s/ynjSpfduyz86vB4jXHfLP6GelkFXfMs/0ch7ok+Lyz92s6SYYZPLP0qb/d/Gmss/lxukd/2byz82bFnzu5fLP1Bn48Hbncs/RlsIgeS9yz9GquMfsszLPyeg6FU02cs/u0MeCwTlyz8ToNDlGfHLP97zIaXX+ss/FrUFOg4HzD/k7H3fpxHMPxzVxqpFHMw/YeWt/Y0mzD+xpIim0S7MP8eiOBzdO8w/po/AGbJNzD8SJAk57lrMPwth9Tn+acw/jo7Nz5R3zD8iKw5NV4bMPwZ2HYFwlMw/Cqq76i+jzD8hmnA2ibHMP/IGCkYowMw/E20Jo/fPzD9KzHPyi+HMP+mDcGEj8sw/w/csQC8DzT/d4eF8ABXNP4U004kWJ80/ZWvKTas5zT8=\"},\"shape\":[181],\"dtype\":\"float64\",\"order\":\"little\"}]]}}},\"view\":{\"type\":\"object\",\"name\":\"CDSView\",\"id\":\"p1291\",\"attributes\":{\"filter\":{\"type\":\"object\",\"name\":\"AllIndices\",\"id\":\"p1292\"}}},\"glyph\":{\"type\":\"object\",\"name\":\"Line\",\"id\":\"p1287\",\"attributes\":{\"x\":{\"type\":\"field\",\"field\":\"x\"},\"y\":{\"type\":\"field\",\"field\":\"y\"},\"line_color\":\"#0072B2\",\"line_width\":3}},\"nonselection_glyph\":{\"type\":\"object\",\"name\":\"Line\",\"id\":\"p1288\",\"attributes\":{\"x\":{\"type\":\"field\",\"field\":\"x\"},\"y\":{\"type\":\"field\",\"field\":\"y\"},\"line_color\":\"#0072B2\",\"line_alpha\":0.1,\"line_width\":3}},\"muted_glyph\":{\"type\":\"object\",\"name\":\"Line\",\"id\":\"p1289\",\"attributes\":{\"x\":{\"type\":\"field\",\"field\":\"x\"},\"y\":{\"type\":\"field\",\"field\":\"y\"},\"line_color\":\"#0072B2\",\"line_alpha\":0.2,\"line_width\":3}}}},{\"type\":\"object\",\"name\":\"GlyphRenderer\",\"id\":\"p1299\",\"attributes\":{\"data_source\":{\"type\":\"object\",\"name\":\"ColumnDataSource\",\"id\":\"p1293\",\"attributes\":{\"selected\":{\"type\":\"object\",\"name\":\"Selection\",\"id\":\"p1294\",\"attributes\":{\"indices\":[],\"line_indices\":[]}},\"selection_policy\":{\"type\":\"object\",\"name\":\"UnionRenderers\",\"id\":\"p1295\"},\"data\":{\"type\":\"map\",\"entries\":[[\"x\",{\"type\":\"ndarray\",\"array\":{\"type\":\"bytes\",\"data\":\"aje9umj77z9XJEn5AcXvPwOLMsH3ju8/ZOMRdUlZ7z8AZIt49iPvP4Q6TTD+7u4/T8cNAmC67j8Y3IlUG4buP4H9go8vUu4/n6e9G5we7j9/lf9iYOvtP5MLDtB7uO0/BCWszu2F7T/rI5nLtVPtP2zEjjTTIe0/pJI/eEXw7D9sQ1UGDL/sP/EPb08mjuw/FhQgxZNd7D+Zr+3ZUy3sP/fpTQFm/es/Gtmlr8nN6z+xCkhafp7rP0HwcneDb+s/6k1PfthA6z/Nq+7mfBLrPyDKSSpw5Oo/4Rc/wrG26j8iLJEpQYnqP/RB5dsdXOo/4rbBVUcv6j/+i4wUvQLqP3jpiZZ+1uk/u6TaWouq6T8PyXrh4n7pP7giQKuEU+k/lszYOXAo6T8swMkPpf3oPyZobbAi0+g/RjXyn+io6D/FNVlj9n7oPwmvdIBLVeg/x7nmfecr6D+F4B/jyQLoP2nAXTjy2ec/a6ypBmCx5z/TUtfXEonnP/tkgzYKYec/cEESrkU55z9CoK7KxBHnP6RBSBmH6uY/wp6SJ4zD5j/bnAOE05zmP4NC0r1cduY/JW/1ZCdQ5j+ulCIKMyrmP19zzD5/BOY/0dchlQvf5T8OWwyg17nlP98kL/PilOU/G7DlIi1w5T8skULEtUvlP44+Dm18J+U/fNvFs4AD5T+NBJovwt/kP3WebXhAvOQ/w6bUJvuY5D+cBhPU8XXkP4ZnGxokU+Q/IgqOk5Ew5D/mnrfbOQ7kP9IgkI4c7OM/CrK5SDnK4z9sen+nj6jjPxGI1Egfh+M/r7FSy+dl4z/sejnO6ETjP4n6bPEhJOM/cMJ01ZID4z+nyXobO+PiPw1YSmUaw+I/9fNOVTCj4j+YUZOOfIPiP0tEwLT+Y+I/jrEbbLZE4j/ZhYdZoyXiPzurgCLFBuI/sQEebRvo4T9IWQ/gpcnhP/RtnCJkq+E/JOWj3FWN4T8VTZq2em/hP8sdiVnSUeE/yrsNb1w04T91fFihGBfhPxusK5sG+uA/s5XaBybd4D8zjEiTdsDgP5X15+n3o+A/dVe5uKmH4D9WZUqti2vgP3cQtXWdT+A/SZmewN4z4D95ojY9TxjgPxWLbDbd+d8/BlK+FXnD3z9OMPV5cY3fP344scXFV98/wi6eXHUi3z+XwXGjf+3eP2fF6f/juN4/S3PK2KGE3j+oqtyVuFDeP9o17J8nHd4/xxHGYO7p3T9cuDZDDLfdP/5tCLOAhN0/05EBHUtS3T/38OLuaiDdP3EcZpff7tw/GsI7hqi93D9ACAosxYzcPyHsavo0XNw/H6PqY/cr3D+9/gXcC/zbP17TKNdxzNs/s2Gsyiid2z/bwtUsMG7bP0BX1HSHP9s/DzjAGi4R2z9bq5iXI+PaP+eaQmVntdo/ig2H/viH2j8koxHf11raPywTb4MDLto/160LaXsB2j+23zEOP9XZP/S3CPJNqdk//nCSlKd92T+4+6p2S1LZPy+NBho5J9k/sS4wAXD82D9nUIiv79HYP1ReQ6m3p9g/vldoc8d92D8Fac+THlTYP8qHIJG8Ktg/hRHS8qAB2D9pbCdBy9jXP6CqLwU7sNc/3i/EyO+H1z86WYcW6V/XP04n43kmONc/qOoHf6cQ1z908uqya+nWP2M9RaNywtY/0iyS3rub1j8hOg70RnXWP0KutXMTT9Y/dVtD7iAp1j8lWS/1bgPWPwTCrRr93dU/L3St8cq41T+E09YN2JPVPxOOigMkb9U/m2LgZ65K1T8t6aXQdibVP9ldXdR8AtU/Ym08CsDe1D8LBCsKQLvUP2Eewmz8l9Q/DpxKy/R01D+jFLy/KFLUP3Guu+SXL9Q/R/ea1UEN1D80v1YuJuvTPzb1lYtEydM/34Woipyn0z/XO4bJLYbTP1yizeb3ZNM/kunCgfpD0z8=\"},\"shape\":[181],\"dtype\":\"float64\",\"order\":\"little\"}],[\"y\",{\"type\":\"ndarray\",\"array\":{\"type\":\"bytes\",\"data\":\"T7uoivZNvT9MEDaYaEm9PzyQlyFYgL0/X9O42mMWwD8YKP+dQmXAP/A9Rgjrm8A/deP/VYPvwD96RM7h4wjBP9KqzB37CME/L8iIMxv8wD9unV13DOfAP4ZIAe3OzcA/ZYJl4oT+wD9rpKkPxfzAP0i1RCS/4MA/xKsVuGpiwD/bJMu0RKm9P/GHCoEvlLs/MI0oCOmcuj9cucqWeAu/P8XJnSZ55sA/YdGP6WfBwD8J1GQK2YLAP7s9AC8BAME/HJ+acuBbwT9OL3DpSmjBPwtI/EfCSME/KF4EYNxSwT/3hGl35VLBP2Zo6EYeUsE/hj/g1tdCwT88pPKcT0fBP0oZdOnUaME/ypcleCpPwT9wsaRdxVXBP5NCdFq6bsE/JaB1txqEwT8g2mXkarzBP6LuZLLI/sE/uQhLo/cvwj9o6+Hc8WHCP6QZZAf2ncI/WYQkL13Twj+F3jFv99XCPwfzO2hQm8I/dW8+gLUEwj/Y4awlX4vBP/RSt139EME/uwWnX+PTwD/4leH5LkLBPypsnl6KxcE/Eu9o0etnwj849WxHm0nCP+j9XJUbIMI/QUkessCEwj84ELOhNH/CP4eeJ9IWGsU/q2PjpRylxT+qFwAkfT7GP/1eDEo2TcY/0LEyfrWrxT9OtVUW2M7EPyXs6X36/cM/n8xRpKExwz+AuJhOUovDP1khAg+k8sI/bIqSLZ+txD/ZVHyoNHjFP9atxYRh7cU/5ueDG5EHxj/OjTNkrUPFP1Gyyj0atMU/eKPlDIg2xT9n6fhWMRvGP+OeTGtWhMY/rMCv4ya3xT/OWK2f5pzEP/Sie8/FtcM/RukeQq94wz9b73BbShjDP9Ibi/3pGMU/ZRA2HzpCxj98BRKO8mXGP+jFMStQE8Y/rXhnOC9Pxj+DyhW4Zv7GP4yF8naDTcg/KKCOsKs+yD9Tdgdl6AbIP27qK2TimMc/A/YC4c7exj8gFtPJu2LGP7bbm3EHgcY/mwd1wdEIyD/z0FPFxpHIPxdu5BmUMcg/TQ2hX2QAyD/w/eKFSnLIP2XcvvFKvsg/GrFWecR/yD/10LsLwtHHP8DaBA2t5MY/s7hFN4nFxj9hSnIWdb3GP+wsIPJqesg/MMdMjGw7yT8vhxvvQDTJPxnBw9nRHMk/9oglG2rjyD/25mFtwVfJP7vfY5HraMk/3YCNl71LyT9V59faniXJP8N65S5QIsk/tU25ydZhyT+ebP8BRbvJPxB6qWojo8k/Mbzs1iCTyT8iyeihvabJPxAzonnDlsk/wzGr2wlSyT+RdOBrMvrIP7JStmOS2sg/cdHQEAuJyT8sypp68P7JP/a645MXHMo/lAk6oKMhyj9H311lqSHKP3cbAiefHco/BaQLF+Mkyj9nAIk6xxvKP6HIbbZBGso/bJtbuKJDyj8v9yy+PFfKP6+p9s/JWso/Q4qGzx1Syj8+pVoYNkbKP6oSoYnHJco/68trfMEgyj//4YioZF/KP3vNv69whco/zsmi6HeWyj8T7ph0+qDKPwPOoVu2p8o/6Yqd7cSsyj9h2jwXyrXKP1MEB2n0u8o/UVge77bKyj853OoLpNPKP8LtuugU3Mo/l/tD8lDfyj/KhQZ26t3KP/UcjEd25co/BDJfYysDyz8g7DI+PxLLP6caHNh4H8s/IAiLkissyz/OE2FWLznLP/petm1SRMs/36e/vqBRyz+uMP+Lql3LP5aOZqzYacs/29Qj09R1yz+G4EcWN4DLP0cwDNnFjss/LhnL9XWhyz/KxDjHY7DLP/RBVg0Dwcs/8ongDX/Qyz8o2WZ+GeHLP3ydrV5S8cs/qsYj0zMCzD8gYnA55xLMP3ADDUYHJMw/eMtpuEU2zD8kjpYsKUrMP1omkPFxXcw/FjACMUBxzD9MWan14oXMPysESmv9msw/YHzGNLawzD8=\"},\"shape\":[181],\"dtype\":\"float64\",\"order\":\"little\"}]]}}},\"view\":{\"type\":\"object\",\"name\":\"CDSView\",\"id\":\"p1300\",\"attributes\":{\"filter\":{\"type\":\"object\",\"name\":\"AllIndices\",\"id\":\"p1301\"}}},\"glyph\":{\"type\":\"object\",\"name\":\"Line\",\"id\":\"p1296\",\"attributes\":{\"x\":{\"type\":\"field\",\"field\":\"x\"},\"y\":{\"type\":\"field\",\"field\":\"y\"},\"line_color\":\"#E69F00\",\"line_width\":3}},\"nonselection_glyph\":{\"type\":\"object\",\"name\":\"Line\",\"id\":\"p1297\",\"attributes\":{\"x\":{\"type\":\"field\",\"field\":\"x\"},\"y\":{\"type\":\"field\",\"field\":\"y\"},\"line_color\":\"#E69F00\",\"line_alpha\":0.1,\"line_width\":3}},\"muted_glyph\":{\"type\":\"object\",\"name\":\"Line\",\"id\":\"p1298\",\"attributes\":{\"x\":{\"type\":\"field\",\"field\":\"x\"},\"y\":{\"type\":\"field\",\"field\":\"y\"},\"line_color\":\"#E69F00\",\"line_alpha\":0.2,\"line_width\":3}}}},{\"type\":\"object\",\"name\":\"GlyphRenderer\",\"id\":\"p1308\",\"attributes\":{\"data_source\":{\"type\":\"object\",\"name\":\"ColumnDataSource\",\"id\":\"p1302\",\"attributes\":{\"selected\":{\"type\":\"object\",\"name\":\"Selection\",\"id\":\"p1303\",\"attributes\":{\"indices\":[],\"line_indices\":[]}},\"selection_policy\":{\"type\":\"object\",\"name\":\"UnionRenderers\",\"id\":\"p1304\"},\"data\":{\"type\":\"map\",\"entries\":[[\"x\",{\"type\":\"ndarray\",\"array\":{\"type\":\"bytes\",\"data\":\"aje9umj77z9XJEn5AcXvPwOLMsH3ju8/ZOMRdUlZ7z8AZIt49iPvP4Q6TTD+7u4/T8cNAmC67j8Y3IlUG4buP4H9go8vUu4/n6e9G5we7j9/lf9iYOvtP5MLDtB7uO0/BCWszu2F7T/rI5nLtVPtP2zEjjTTIe0/pJI/eEXw7D9sQ1UGDL/sP/EPb08mjuw/FhQgxZNd7D+Zr+3ZUy3sP/fpTQFm/es/Gtmlr8nN6z+xCkhafp7rP0HwcneDb+s/6k1PfthA6z/Nq+7mfBLrPyDKSSpw5Oo/4Rc/wrG26j8iLJEpQYnqP/RB5dsdXOo/4rbBVUcv6j/+i4wUvQLqP3jpiZZ+1uk/u6TaWouq6T8PyXrh4n7pP7giQKuEU+k/lszYOXAo6T8swMkPpf3oPyZobbAi0+g/RjXyn+io6D/FNVlj9n7oPwmvdIBLVeg/x7nmfecr6D+F4B/jyQLoP2nAXTjy2ec/a6ypBmCx5z/TUtfXEonnP/tkgzYKYec/cEESrkU55z9CoK7KxBHnP6RBSBmH6uY/wp6SJ4zD5j/bnAOE05zmP4NC0r1cduY/JW/1ZCdQ5j+ulCIKMyrmP19zzD5/BOY/0dchlQvf5T8OWwyg17nlP98kL/PilOU/G7DlIi1w5T8skULEtUvlP44+Dm18J+U/fNvFs4AD5T+NBJovwt/kP3WebXhAvOQ/w6bUJvuY5D+cBhPU8XXkP4ZnGxokU+Q/IgqOk5Ew5D/mnrfbOQ7kP9IgkI4c7OM/CrK5SDnK4z9sen+nj6jjPxGI1Egfh+M/r7FSy+dl4z/sejnO6ETjP4n6bPEhJOM/cMJ01ZID4z+nyXobO+PiPw1YSmUaw+I/9fNOVTCj4j+YUZOOfIPiP0tEwLT+Y+I/jrEbbLZE4j/ZhYdZoyXiPzurgCLFBuI/sQEebRvo4T9IWQ/gpcnhP/RtnCJkq+E/JOWj3FWN4T8VTZq2em/hP8sdiVnSUeE/yrsNb1w04T91fFihGBfhPxusK5sG+uA/s5XaBybd4D8zjEiTdsDgP5X15+n3o+A/dVe5uKmH4D9WZUqti2vgP3cQtXWdT+A/SZmewN4z4D95ojY9TxjgPxWLbDbd+d8/BlK+FXnD3z9OMPV5cY3fP344scXFV98/wi6eXHUi3z+XwXGjf+3eP2fF6f/juN4/S3PK2KGE3j+oqtyVuFDeP9o17J8nHd4/xxHGYO7p3T9cuDZDDLfdP/5tCLOAhN0/05EBHUtS3T/38OLuaiDdP3EcZpff7tw/GsI7hqi93D9ACAosxYzcPyHsavo0XNw/H6PqY/cr3D+9/gXcC/zbP17TKNdxzNs/s2Gsyiid2z/bwtUsMG7bP0BX1HSHP9s/DzjAGi4R2z9bq5iXI+PaP+eaQmVntdo/ig2H/viH2j8koxHf11raPywTb4MDLto/160LaXsB2j+23zEOP9XZP/S3CPJNqdk//nCSlKd92T+4+6p2S1LZPy+NBho5J9k/sS4wAXD82D9nUIiv79HYP1ReQ6m3p9g/vldoc8d92D8Fac+THlTYP8qHIJG8Ktg/hRHS8qAB2D9pbCdBy9jXP6CqLwU7sNc/3i/EyO+H1z86WYcW6V/XP04n43kmONc/qOoHf6cQ1z908uqya+nWP2M9RaNywtY/0iyS3rub1j8hOg70RnXWP0KutXMTT9Y/dVtD7iAp1j8lWS/1bgPWPwTCrRr93dU/L3St8cq41T+E09YN2JPVPxOOigMkb9U/m2LgZ65K1T8t6aXQdibVP9ldXdR8AtU/Ym08CsDe1D8LBCsKQLvUP2Eewmz8l9Q/DpxKy/R01D+jFLy/KFLUP3Guu+SXL9Q/R/ea1UEN1D80v1YuJuvTPzb1lYtEydM/34Woipyn0z/XO4bJLYbTP1yizeb3ZNM/kunCgfpD0z8=\"},\"shape\":[181],\"dtype\":\"float64\",\"order\":\"little\"}],[\"y\",{\"type\":\"ndarray\",\"array\":{\"type\":\"bytes\",\"data\":\"WCHh79O7vj/c1p3pV7q+PznP/tKd/L4/9ZUpywbxwD8v+81idkvBP8a3QSJAh8E/c+gv4FfjwT/5l2hyQP/BP5ZuOQIa/8E/7YpiULLvwT/nvxqkFtjBP6CkX7qhusE/wh7PAhnuwT90eBEOE+7BPyMwRaAvz8E/VQB/3rVFwT9z2JYWtC6/P/XPxKIU7rw/AdUa0Hbkuz9HApIVcFTAP+2zDBfbzcE/kFt2itWlwT/2svAzCmTBP5MnihiD5sE/eZYtegtCwj9O37rnRk3CP1X1NkDPMMI/0Jn0uiI/wj9l53IDH0HCP0E/B4ktQMI/+bRx2Noywj+UZt+/wzTCPzQZ2PkGTsI/q18DjXk1wj+0jb4pOjjCP9TGIPd2UMI/8mQA9sphwj9qUwYdKZHCP6JieXkmzMI/1w58H3H2wj8ZeWc/UyDDPwKM86RXU8M/5SjZ8MOAwz/S3jxFGoPDP4ln4EcJUsM/ZjmqCKDTwj89MvtYP2nCP+nRTUEx9ME/ors9SAy3wT+L4zgCjifCP6DQbmYbn8I/+JuUmkgowz/Kwf6Fnw7DPwEAV/5g68I/WT/9sj9Cwz9Najn3Ij7DP09GvyQdfsU/QD8BYRj6xT/XKfjN4YPGP7Uwmd2UkcY/sNq7HzcAxj8IUPaStzvFP2/Lk+CnhcQ/e9bq8mLWwz9lRO/2fiTEPwcH0bu2ocM/3jnEtPYgxT8SOO+u3tPFP+4k1x+TPcY/Q3Dzm+JWxj9WVTs38abFP7K5ewJoC8Y/FDKuW92axT8yh2PvRGjGPwdR9LJpxsY/JcUE+EYNxj+/RDyiYhPFP5x54IjgSsQ/7p9uKdUXxD/yNJTm4sTDP62vZU5YhMU/5/ZDYuaLxj/Gk9sbOq3GP3jYYtY+Y8Y/5k0ixLaZxj8Vt35TZjrHP/mTgC/ibcg/Q4UZcilgyD+lbj6tVCzIP6B7Or1wxsc/tZojlqMcxz/1MzAWU6zGP6y2Zg/tx8Y/dSFGIS8vyD9z7YnfEq/IP3SvYvCpVcg/rDD9OywoyD+aljCeXJLIP/x8AGZz2cg//hz96d6eyD+VgTRqf/3HP6GpgSdwJcc/rIVW2B0Kxz82Iv9NOQPHP5OEoQxGm8g/uUlZic1QyT8Cw5pXRUrJP4fRhCeBNMk/cCjylMj+yD8YTTRRpmzJP2UoSlIPfck/IKaY7KxhyT/eykhIDT7JP/avYYVHO8k/IS+runR3yT/5g/4JcczJP9/Y5rDgtck/MGoOV/OmyT9swQ2ExLnJP240Ndflqsk/qXXKv19qyT8XnPWncRjJP7lJhTWx+8g/Te7zQ1qfyT9Qv4DSbw/KP+9EJs6IK8o/Cl6opiUxyj+orL1mgjHKP52RwiQDLso/ewoalkk1yj/NV93X/yzKP67cOx75K8o/MFtUa7tTyj8RtMFN0GbKP1xVN2Gbaso/VmOqbMNiyj9gctyA3lfKP3Q1uQ2VOco/CvwQU1Y1yj+QZRuoQHHKPyN7AHf2lco/GdJc3a+myj/oHZTfNbHKP73prLQmuMo/4YDSHYG9yj9k06xQpsbKP9Cww10Yzco/iy6le73byj+BfpyP1+TKP1XDAZKA7co/xYT8QDfxyj/l9i9Di/DKP6gtWvdp+Mo/nWuOCGEVyz8C4YYDciTLPykAhaXFMcs/VJmmaZw+yz9DegWNxUvLPwalx+MrV8s/fL9x06Zkyz/wpouI8nDLP69rhGhofcs/wVTZN7OJyz+dNWe+fpTLP1nYMf9Ko8s/wUsEGgm2yz/U/i0gO8XLP7wVrTgS1ss/BG5/ptnlyz8vmAC+uPbLP4jyqedEB8w/vqPSC3cYzD9aU/evhSnMP+CjdnIGO8w/Vterjp1NzD9gYVg8zWHMP2C8Tv91dcw/wJPva6SJzD+N1LpYpp7MP9QE79kmtMw/CCC9LUjKzD8=\"},\"shape\":[181],\"dtype\":\"float64\",\"order\":\"little\"}]]}}},\"view\":{\"type\":\"object\",\"name\":\"CDSView\",\"id\":\"p1309\",\"attributes\":{\"filter\":{\"type\":\"object\",\"name\":\"AllIndices\",\"id\":\"p1310\"}}},\"glyph\":{\"type\":\"object\",\"name\":\"Line\",\"id\":\"p1305\",\"attributes\":{\"x\":{\"type\":\"field\",\"field\":\"x\"},\"y\":{\"type\":\"field\",\"field\":\"y\"},\"line_color\":\"#F0E442\",\"line_width\":3}},\"nonselection_glyph\":{\"type\":\"object\",\"name\":\"Line\",\"id\":\"p1306\",\"attributes\":{\"x\":{\"type\":\"field\",\"field\":\"x\"},\"y\":{\"type\":\"field\",\"field\":\"y\"},\"line_color\":\"#F0E442\",\"line_alpha\":0.1,\"line_width\":3}},\"muted_glyph\":{\"type\":\"object\",\"name\":\"Line\",\"id\":\"p1307\",\"attributes\":{\"x\":{\"type\":\"field\",\"field\":\"x\"},\"y\":{\"type\":\"field\",\"field\":\"y\"},\"line_color\":\"#F0E442\",\"line_alpha\":0.2,\"line_width\":3}}}}],\"toolbar\":{\"type\":\"object\",\"name\":\"Toolbar\",\"id\":\"p1243\",\"attributes\":{\"tools\":[{\"type\":\"object\",\"name\":\"PanTool\",\"id\":\"p1269\"},{\"type\":\"object\",\"name\":\"WheelZoomTool\",\"id\":\"p1270\"},{\"type\":\"object\",\"name\":\"BoxZoomTool\",\"id\":\"p1271\",\"attributes\":{\"overlay\":{\"type\":\"object\",\"name\":\"BoxAnnotation\",\"id\":\"p1272\",\"attributes\":{\"syncable\":false,\"level\":\"overlay\",\"visible\":false,\"left_units\":\"canvas\",\"right_units\":\"canvas\",\"bottom_units\":\"canvas\",\"top_units\":\"canvas\",\"line_color\":\"black\",\"line_alpha\":1.0,\"line_width\":2,\"line_dash\":[4,4],\"fill_color\":\"lightgrey\",\"fill_alpha\":0.5}}}},{\"type\":\"object\",\"name\":\"SaveTool\",\"id\":\"p1273\"},{\"type\":\"object\",\"name\":\"ResetTool\",\"id\":\"p1274\"},{\"type\":\"object\",\"name\":\"HelpTool\",\"id\":\"p1275\"}]}},\"left\":[{\"type\":\"object\",\"name\":\"LinearAxis\",\"id\":\"p1262\",\"attributes\":{\"ticker\":{\"type\":\"object\",\"name\":\"BasicTicker\",\"id\":\"p1265\",\"attributes\":{\"mantissas\":[1,2,5]}},\"formatter\":{\"type\":\"object\",\"name\":\"BasicTickFormatter\",\"id\":\"p1264\"},\"axis_label\":\"Spectrum\",\"axis_label_text_font\":\"times\",\"axis_label_text_font_size\":\"14pt\",\"axis_label_text_font_style\":\"bold\",\"major_label_policy\":{\"type\":\"object\",\"name\":\"AllLabels\",\"id\":\"p1263\"},\"major_label_text_font\":\"times\",\"major_label_text_font_size\":\"14pt\"}},{\"type\":\"object\",\"name\":\"Legend\",\"id\":\"p1311\",\"attributes\":{\"location\":[0,0],\"click_policy\":\"mute\",\"items\":[{\"type\":\"object\",\"name\":\"LegendItem\",\"id\":\"p1312\",\"attributes\":{\"label\":{\"type\":\"value\",\"value\":\"Toon89\"},\"renderers\":[{\"id\":\"p1290\"}]}},{\"type\":\"object\",\"name\":\"LegendItem\",\"id\":\"p1313\",\"attributes\":{\"label\":{\"type\":\"value\",\"value\":\"SH4 (OTHG single)\"},\"renderers\":[{\"id\":\"p1299\"}]}},{\"type\":\"object\",\"name\":\"LegendItem\",\"id\":\"p1314\",\"attributes\":{\"label\":{\"type\":\"value\",\"value\":\"SH4 (TTHG multi)\"},\"renderers\":[{\"id\":\"p1308\"}]}}]}}],\"below\":[{\"type\":\"object\",\"name\":\"LinearAxis\",\"id\":\"p1255\",\"attributes\":{\"ticker\":{\"type\":\"object\",\"name\":\"BasicTicker\",\"id\":\"p1258\",\"attributes\":{\"mantissas\":[1,2,5]}},\"formatter\":{\"type\":\"object\",\"name\":\"BasicTickFormatter\",\"id\":\"p1257\"},\"axis_label\":\"Wavelength [\\u03bcm]\",\"axis_label_text_font\":\"times\",\"axis_label_text_font_size\":\"14pt\",\"axis_label_text_font_style\":\"bold\",\"major_label_policy\":{\"type\":\"object\",\"name\":\"AllLabels\",\"id\":\"p1256\"},\"major_label_text_font\":\"times\",\"major_label_text_font_size\":\"14pt\"}}],\"center\":[{\"type\":\"object\",\"name\":\"Grid\",\"id\":\"p1261\",\"attributes\":{\"axis\":{\"id\":\"p1255\"}}},{\"type\":\"object\",\"name\":\"Grid\",\"id\":\"p1268\",\"attributes\":{\"dimension\":1,\"axis\":{\"id\":\"p1262\"}}}]}}]}};\n",
       "  const render_items = [{\"docid\":\"d48e59b9-015b-487b-9cb4-e9af0c25fa72\",\"roots\":{\"p1238\":\"145033c4-c84c-4236-a679-ca22306a0418\"},\"root_ids\":[\"p1238\"]}];\n",
       "  root.Bokeh.embed.embed_items_notebook(docs_json, render_items);\n",
       "  }\n",
       "  if (root.Bokeh !== undefined) {\n",
       "    embed_document(root);\n",
       "  } else {\n",
       "    let attempts = 0;\n",
       "    const timer = setInterval(function(root) {\n",
       "      if (root.Bokeh !== undefined) {\n",
       "        clearInterval(timer);\n",
       "        embed_document(root);\n",
       "      } else {\n",
       "        attempts++;\n",
       "        if (attempts > 100) {\n",
       "          clearInterval(timer);\n",
       "          console.log(\"Bokeh: ERROR: Unable to run BokehJS code because BokehJS library is missing\");\n",
       "        }\n",
       "      }\n",
       "    }, 10, root)\n",
       "  }\n",
       "})(window);"
      ],
      "application/vnd.bokehjs_exec.v0+json": ""
     },
     "metadata": {
      "application/vnd.bokehjs_exec.v0+json": {
       "id": "p1238"
      }
     },
     "output_type": "display_data"
    }
   ],
   "source": [
    "jpi.show(jpi.spectrum([wno]*3, albs,labels, width=700))"
   ]
  }
 ],
 "metadata": {
  "kernelspec": {
   "display_name": "Python 3 (ipykernel)",
   "language": "python",
   "name": "python3"
  },
  "language_info": {
   "codemirror_mode": {
    "name": "ipython",
    "version": 3
   },
   "file_extension": ".py",
   "mimetype": "text/x-python",
   "name": "python",
   "nbconvert_exporter": "python",
   "pygments_lexer": "ipython3",
   "version": "3.8.12"
  },
  "toc": {
   "base_numbering": 1,
   "nav_menu": {},
   "number_sections": true,
   "sideBar": true,
   "skip_h1_title": false,
   "title_cell": "Table of Contents",
   "title_sidebar": "Contents",
   "toc_cell": true,
   "toc_position": {},
   "toc_section_display": true,
   "toc_window_display": false
  },
  "varInspector": {
   "cols": {
    "lenName": 16,
    "lenType": 16,
    "lenVar": 40
   },
   "kernels_config": {
    "python": {
     "delete_cmd_postfix": "",
     "delete_cmd_prefix": "del ",
     "library": "var_list.py",
     "varRefreshCmd": "print(var_dic_list())"
    },
    "r": {
     "delete_cmd_postfix": ") ",
     "delete_cmd_prefix": "rm(",
     "library": "var_list.r",
     "varRefreshCmd": "cat(var_dic_list()) "
    }
   },
   "types_to_exclude": [
    "module",
    "function",
    "builtin_function_or_method",
    "instance",
    "_Feature"
   ],
   "window_display": false
  }
 },
 "nbformat": 4,
 "nbformat_minor": 2
}
