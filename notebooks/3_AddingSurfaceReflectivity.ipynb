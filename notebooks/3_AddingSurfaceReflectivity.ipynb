{
 "cells": [
  {
   "cell_type": "markdown",
   "metadata": {},
   "source": [
    "# Terrestiral Planets: Adding a Surface\n",
    "\n",
    "Three major changes differences you need to make note of for terrestrial planets in both reflected, emission and transmission geometry: \n",
    "\n",
    "1. Adding a surface reflectivity \n",
    "2. Ensuring the code knows that your lower boundary condition is a hard surface \n",
    "3. Ensuring that the reference pressure is lower than the lower pressure of your surface. `PICASO` default is 1 bar, which is often times too high."
   ]
  },
  {
   "cell_type": "code",
   "execution_count": 1,
   "metadata": {},
   "outputs": [
    {
     "data": {
      "text/html": [
       "\n",
       "    <div class=\"bk-root\">\n",
       "        <a href=\"https://bokeh.org\" target=\"_blank\" class=\"bk-logo bk-logo-small bk-logo-notebook\"></a>\n",
       "        <span id=\"1001\">Loading BokehJS ...</span>\n",
       "    </div>"
      ]
     },
     "metadata": {},
     "output_type": "display_data"
    },
    {
     "data": {
      "application/javascript": [
       "\n",
       "(function(root) {\n",
       "  function now() {\n",
       "    return new Date();\n",
       "  }\n",
       "\n",
       "  var force = true;\n",
       "\n",
       "  if (typeof root._bokeh_onload_callbacks === \"undefined\" || force === true) {\n",
       "    root._bokeh_onload_callbacks = [];\n",
       "    root._bokeh_is_loading = undefined;\n",
       "  }\n",
       "\n",
       "  var JS_MIME_TYPE = 'application/javascript';\n",
       "  var HTML_MIME_TYPE = 'text/html';\n",
       "  var EXEC_MIME_TYPE = 'application/vnd.bokehjs_exec.v0+json';\n",
       "  var CLASS_NAME = 'output_bokeh rendered_html';\n",
       "\n",
       "  /**\n",
       "   * Render data to the DOM node\n",
       "   */\n",
       "  function render(props, node) {\n",
       "    var script = document.createElement(\"script\");\n",
       "    node.appendChild(script);\n",
       "  }\n",
       "\n",
       "  /**\n",
       "   * Handle when an output is cleared or removed\n",
       "   */\n",
       "  function handleClearOutput(event, handle) {\n",
       "    var cell = handle.cell;\n",
       "\n",
       "    var id = cell.output_area._bokeh_element_id;\n",
       "    var server_id = cell.output_area._bokeh_server_id;\n",
       "    // Clean up Bokeh references\n",
       "    if (id != null && id in Bokeh.index) {\n",
       "      Bokeh.index[id].model.document.clear();\n",
       "      delete Bokeh.index[id];\n",
       "    }\n",
       "\n",
       "    if (server_id !== undefined) {\n",
       "      // Clean up Bokeh references\n",
       "      var cmd = \"from bokeh.io.state import curstate; print(curstate().uuid_to_server['\" + server_id + \"'].get_sessions()[0].document.roots[0]._id)\";\n",
       "      cell.notebook.kernel.execute(cmd, {\n",
       "        iopub: {\n",
       "          output: function(msg) {\n",
       "            var id = msg.content.text.trim();\n",
       "            if (id in Bokeh.index) {\n",
       "              Bokeh.index[id].model.document.clear();\n",
       "              delete Bokeh.index[id];\n",
       "            }\n",
       "          }\n",
       "        }\n",
       "      });\n",
       "      // Destroy server and session\n",
       "      var cmd = \"import bokeh.io.notebook as ion; ion.destroy_server('\" + server_id + \"')\";\n",
       "      cell.notebook.kernel.execute(cmd);\n",
       "    }\n",
       "  }\n",
       "\n",
       "  /**\n",
       "   * Handle when a new output is added\n",
       "   */\n",
       "  function handleAddOutput(event, handle) {\n",
       "    var output_area = handle.output_area;\n",
       "    var output = handle.output;\n",
       "\n",
       "    // limit handleAddOutput to display_data with EXEC_MIME_TYPE content only\n",
       "    if ((output.output_type != \"display_data\") || (!output.data.hasOwnProperty(EXEC_MIME_TYPE))) {\n",
       "      return\n",
       "    }\n",
       "\n",
       "    var toinsert = output_area.element.find(\".\" + CLASS_NAME.split(' ')[0]);\n",
       "\n",
       "    if (output.metadata[EXEC_MIME_TYPE][\"id\"] !== undefined) {\n",
       "      toinsert[toinsert.length - 1].firstChild.textContent = output.data[JS_MIME_TYPE];\n",
       "      // store reference to embed id on output_area\n",
       "      output_area._bokeh_element_id = output.metadata[EXEC_MIME_TYPE][\"id\"];\n",
       "    }\n",
       "    if (output.metadata[EXEC_MIME_TYPE][\"server_id\"] !== undefined) {\n",
       "      var bk_div = document.createElement(\"div\");\n",
       "      bk_div.innerHTML = output.data[HTML_MIME_TYPE];\n",
       "      var script_attrs = bk_div.children[0].attributes;\n",
       "      for (var i = 0; i < script_attrs.length; i++) {\n",
       "        toinsert[toinsert.length - 1].firstChild.setAttribute(script_attrs[i].name, script_attrs[i].value);\n",
       "        toinsert[toinsert.length - 1].firstChild.textContent = bk_div.children[0].textContent\n",
       "      }\n",
       "      // store reference to server id on output_area\n",
       "      output_area._bokeh_server_id = output.metadata[EXEC_MIME_TYPE][\"server_id\"];\n",
       "    }\n",
       "  }\n",
       "\n",
       "  function register_renderer(events, OutputArea) {\n",
       "\n",
       "    function append_mime(data, metadata, element) {\n",
       "      // create a DOM node to render to\n",
       "      var toinsert = this.create_output_subarea(\n",
       "        metadata,\n",
       "        CLASS_NAME,\n",
       "        EXEC_MIME_TYPE\n",
       "      );\n",
       "      this.keyboard_manager.register_events(toinsert);\n",
       "      // Render to node\n",
       "      var props = {data: data, metadata: metadata[EXEC_MIME_TYPE]};\n",
       "      render(props, toinsert[toinsert.length - 1]);\n",
       "      element.append(toinsert);\n",
       "      return toinsert\n",
       "    }\n",
       "\n",
       "    /* Handle when an output is cleared or removed */\n",
       "    events.on('clear_output.CodeCell', handleClearOutput);\n",
       "    events.on('delete.Cell', handleClearOutput);\n",
       "\n",
       "    /* Handle when a new output is added */\n",
       "    events.on('output_added.OutputArea', handleAddOutput);\n",
       "\n",
       "    /**\n",
       "     * Register the mime type and append_mime function with output_area\n",
       "     */\n",
       "    OutputArea.prototype.register_mime_type(EXEC_MIME_TYPE, append_mime, {\n",
       "      /* Is output safe? */\n",
       "      safe: true,\n",
       "      /* Index of renderer in `output_area.display_order` */\n",
       "      index: 0\n",
       "    });\n",
       "  }\n",
       "\n",
       "  // register the mime type if in Jupyter Notebook environment and previously unregistered\n",
       "  if (root.Jupyter !== undefined) {\n",
       "    var events = require('base/js/events');\n",
       "    var OutputArea = require('notebook/js/outputarea').OutputArea;\n",
       "\n",
       "    if (OutputArea.prototype.mime_types().indexOf(EXEC_MIME_TYPE) == -1) {\n",
       "      register_renderer(events, OutputArea);\n",
       "    }\n",
       "  }\n",
       "\n",
       "  \n",
       "  if (typeof (root._bokeh_timeout) === \"undefined\" || force === true) {\n",
       "    root._bokeh_timeout = Date.now() + 5000;\n",
       "    root._bokeh_failed_load = false;\n",
       "  }\n",
       "\n",
       "  var NB_LOAD_WARNING = {'data': {'text/html':\n",
       "     \"<div style='background-color: #fdd'>\\n\"+\n",
       "     \"<p>\\n\"+\n",
       "     \"BokehJS does not appear to have successfully loaded. If loading BokehJS from CDN, this \\n\"+\n",
       "     \"may be due to a slow or bad network connection. Possible fixes:\\n\"+\n",
       "     \"</p>\\n\"+\n",
       "     \"<ul>\\n\"+\n",
       "     \"<li>re-rerun `output_notebook()` to attempt to load from CDN again, or</li>\\n\"+\n",
       "     \"<li>use INLINE resources instead, as so:</li>\\n\"+\n",
       "     \"</ul>\\n\"+\n",
       "     \"<code>\\n\"+\n",
       "     \"from bokeh.resources import INLINE\\n\"+\n",
       "     \"output_notebook(resources=INLINE)\\n\"+\n",
       "     \"</code>\\n\"+\n",
       "     \"</div>\"}};\n",
       "\n",
       "  function display_loaded() {\n",
       "    var el = document.getElementById(\"1001\");\n",
       "    if (el != null) {\n",
       "      el.textContent = \"BokehJS is loading...\";\n",
       "    }\n",
       "    if (root.Bokeh !== undefined) {\n",
       "      if (el != null) {\n",
       "        el.textContent = \"BokehJS \" + root.Bokeh.version + \" successfully loaded.\";\n",
       "      }\n",
       "    } else if (Date.now() < root._bokeh_timeout) {\n",
       "      setTimeout(display_loaded, 100)\n",
       "    }\n",
       "  }\n",
       "\n",
       "\n",
       "  function run_callbacks() {\n",
       "    try {\n",
       "      root._bokeh_onload_callbacks.forEach(function(callback) {\n",
       "        if (callback != null)\n",
       "          callback();\n",
       "      });\n",
       "    } finally {\n",
       "      delete root._bokeh_onload_callbacks\n",
       "    }\n",
       "    console.debug(\"Bokeh: all callbacks have finished\");\n",
       "  }\n",
       "\n",
       "  function load_libs(css_urls, js_urls, callback) {\n",
       "    if (css_urls == null) css_urls = [];\n",
       "    if (js_urls == null) js_urls = [];\n",
       "\n",
       "    root._bokeh_onload_callbacks.push(callback);\n",
       "    if (root._bokeh_is_loading > 0) {\n",
       "      console.debug(\"Bokeh: BokehJS is being loaded, scheduling callback at\", now());\n",
       "      return null;\n",
       "    }\n",
       "    if (js_urls == null || js_urls.length === 0) {\n",
       "      run_callbacks();\n",
       "      return null;\n",
       "    }\n",
       "    console.debug(\"Bokeh: BokehJS not loaded, scheduling load and callback at\", now());\n",
       "    root._bokeh_is_loading = css_urls.length + js_urls.length;\n",
       "\n",
       "    function on_load() {\n",
       "      root._bokeh_is_loading--;\n",
       "      if (root._bokeh_is_loading === 0) {\n",
       "        console.debug(\"Bokeh: all BokehJS libraries/stylesheets loaded\");\n",
       "        run_callbacks()\n",
       "      }\n",
       "    }\n",
       "\n",
       "    function on_error() {\n",
       "      console.error(\"failed to load \" + url);\n",
       "    }\n",
       "\n",
       "    for (var i = 0; i < css_urls.length; i++) {\n",
       "      var url = css_urls[i];\n",
       "      const element = document.createElement(\"link\");\n",
       "      element.onload = on_load;\n",
       "      element.onerror = on_error;\n",
       "      element.rel = \"stylesheet\";\n",
       "      element.type = \"text/css\";\n",
       "      element.href = url;\n",
       "      console.debug(\"Bokeh: injecting link tag for BokehJS stylesheet: \", url);\n",
       "      document.body.appendChild(element);\n",
       "    }\n",
       "\n",
       "    const hashes = {\"https://cdn.bokeh.org/bokeh/release/bokeh-2.0.1.min.js\": \"JpP8FXbgAZLkfur7LiK3j9AGBhHNIvF742meBJrjO2ShJDhCG2I1uVvW+0DUtrmc\", \"https://cdn.bokeh.org/bokeh/release/bokeh-widgets-2.0.1.min.js\": \"xZlADit0Q04ISQEdKg2k3L4W9AwQBAuDs9nJL9fM/WwzL1tEU9VPNezOFX0nLEAz\", \"https://cdn.bokeh.org/bokeh/release/bokeh-tables-2.0.1.min.js\": \"4BuPRZkdMKSnj3zoxiNrQ86XgNw0rYmBOxe7nshquXwwcauupgBF2DHLVG1WuZlV\", \"https://cdn.bokeh.org/bokeh/release/bokeh-gl-2.0.1.min.js\": \"Dv1SQ87hmDqK6S5OhBf0bCuwAEvL5QYL0PuR/F1SPVhCS/r/abjkbpKDYL2zeM19\"};\n",
       "\n",
       "    for (var i = 0; i < js_urls.length; i++) {\n",
       "      var url = js_urls[i];\n",
       "      var element = document.createElement('script');\n",
       "      element.onload = on_load;\n",
       "      element.onerror = on_error;\n",
       "      element.async = false;\n",
       "      element.src = url;\n",
       "      if (url in hashes) {\n",
       "        element.crossOrigin = \"anonymous\";\n",
       "        element.integrity = \"sha384-\" + hashes[url];\n",
       "      }\n",
       "      console.debug(\"Bokeh: injecting script tag for BokehJS library: \", url);\n",
       "      document.head.appendChild(element);\n",
       "    }\n",
       "  };var element = document.getElementById(\"1001\");\n",
       "  if (element == null) {\n",
       "    console.error(\"Bokeh: ERROR: autoload.js configured with elementid '1001' but no matching script tag was found. \")\n",
       "    return false;\n",
       "  }\n",
       "\n",
       "  function inject_raw_css(css) {\n",
       "    const element = document.createElement(\"style\");\n",
       "    element.appendChild(document.createTextNode(css));\n",
       "    document.body.appendChild(element);\n",
       "  }\n",
       "\n",
       "  \n",
       "  var js_urls = [\"https://cdn.bokeh.org/bokeh/release/bokeh-2.0.1.min.js\", \"https://cdn.bokeh.org/bokeh/release/bokeh-widgets-2.0.1.min.js\", \"https://cdn.bokeh.org/bokeh/release/bokeh-tables-2.0.1.min.js\", \"https://cdn.bokeh.org/bokeh/release/bokeh-gl-2.0.1.min.js\"];\n",
       "  var css_urls = [];\n",
       "  \n",
       "\n",
       "  var inline_js = [\n",
       "    function(Bokeh) {\n",
       "      Bokeh.set_log_level(\"info\");\n",
       "    },\n",
       "    function(Bokeh) {\n",
       "    \n",
       "    \n",
       "    }\n",
       "  ];\n",
       "\n",
       "  function run_inline_js() {\n",
       "    \n",
       "    if (root.Bokeh !== undefined || force === true) {\n",
       "      \n",
       "    for (var i = 0; i < inline_js.length; i++) {\n",
       "      inline_js[i].call(root, root.Bokeh);\n",
       "    }\n",
       "    if (force === true) {\n",
       "        display_loaded();\n",
       "      }} else if (Date.now() < root._bokeh_timeout) {\n",
       "      setTimeout(run_inline_js, 100);\n",
       "    } else if (!root._bokeh_failed_load) {\n",
       "      console.log(\"Bokeh: BokehJS failed to load within specified timeout.\");\n",
       "      root._bokeh_failed_load = true;\n",
       "    } else if (force !== true) {\n",
       "      var cell = $(document.getElementById(\"1001\")).parents('.cell').data().cell;\n",
       "      cell.output_area.append_execute_result(NB_LOAD_WARNING)\n",
       "    }\n",
       "\n",
       "  }\n",
       "\n",
       "  if (root._bokeh_is_loading === 0) {\n",
       "    console.debug(\"Bokeh: BokehJS loaded, going straight to plotting\");\n",
       "    run_inline_js();\n",
       "  } else {\n",
       "    load_libs(css_urls, js_urls, function() {\n",
       "      console.debug(\"Bokeh: BokehJS plotting callback run at\", now());\n",
       "      run_inline_js();\n",
       "    });\n",
       "  }\n",
       "}(window));"
      ],
      "application/vnd.bokehjs_load.v0+json": "\n(function(root) {\n  function now() {\n    return new Date();\n  }\n\n  var force = true;\n\n  if (typeof root._bokeh_onload_callbacks === \"undefined\" || force === true) {\n    root._bokeh_onload_callbacks = [];\n    root._bokeh_is_loading = undefined;\n  }\n\n  \n\n  \n  if (typeof (root._bokeh_timeout) === \"undefined\" || force === true) {\n    root._bokeh_timeout = Date.now() + 5000;\n    root._bokeh_failed_load = false;\n  }\n\n  var NB_LOAD_WARNING = {'data': {'text/html':\n     \"<div style='background-color: #fdd'>\\n\"+\n     \"<p>\\n\"+\n     \"BokehJS does not appear to have successfully loaded. If loading BokehJS from CDN, this \\n\"+\n     \"may be due to a slow or bad network connection. Possible fixes:\\n\"+\n     \"</p>\\n\"+\n     \"<ul>\\n\"+\n     \"<li>re-rerun `output_notebook()` to attempt to load from CDN again, or</li>\\n\"+\n     \"<li>use INLINE resources instead, as so:</li>\\n\"+\n     \"</ul>\\n\"+\n     \"<code>\\n\"+\n     \"from bokeh.resources import INLINE\\n\"+\n     \"output_notebook(resources=INLINE)\\n\"+\n     \"</code>\\n\"+\n     \"</div>\"}};\n\n  function display_loaded() {\n    var el = document.getElementById(\"1001\");\n    if (el != null) {\n      el.textContent = \"BokehJS is loading...\";\n    }\n    if (root.Bokeh !== undefined) {\n      if (el != null) {\n        el.textContent = \"BokehJS \" + root.Bokeh.version + \" successfully loaded.\";\n      }\n    } else if (Date.now() < root._bokeh_timeout) {\n      setTimeout(display_loaded, 100)\n    }\n  }\n\n\n  function run_callbacks() {\n    try {\n      root._bokeh_onload_callbacks.forEach(function(callback) {\n        if (callback != null)\n          callback();\n      });\n    } finally {\n      delete root._bokeh_onload_callbacks\n    }\n    console.debug(\"Bokeh: all callbacks have finished\");\n  }\n\n  function load_libs(css_urls, js_urls, callback) {\n    if (css_urls == null) css_urls = [];\n    if (js_urls == null) js_urls = [];\n\n    root._bokeh_onload_callbacks.push(callback);\n    if (root._bokeh_is_loading > 0) {\n      console.debug(\"Bokeh: BokehJS is being loaded, scheduling callback at\", now());\n      return null;\n    }\n    if (js_urls == null || js_urls.length === 0) {\n      run_callbacks();\n      return null;\n    }\n    console.debug(\"Bokeh: BokehJS not loaded, scheduling load and callback at\", now());\n    root._bokeh_is_loading = css_urls.length + js_urls.length;\n\n    function on_load() {\n      root._bokeh_is_loading--;\n      if (root._bokeh_is_loading === 0) {\n        console.debug(\"Bokeh: all BokehJS libraries/stylesheets loaded\");\n        run_callbacks()\n      }\n    }\n\n    function on_error() {\n      console.error(\"failed to load \" + url);\n    }\n\n    for (var i = 0; i < css_urls.length; i++) {\n      var url = css_urls[i];\n      const element = document.createElement(\"link\");\n      element.onload = on_load;\n      element.onerror = on_error;\n      element.rel = \"stylesheet\";\n      element.type = \"text/css\";\n      element.href = url;\n      console.debug(\"Bokeh: injecting link tag for BokehJS stylesheet: \", url);\n      document.body.appendChild(element);\n    }\n\n    const hashes = {\"https://cdn.bokeh.org/bokeh/release/bokeh-2.0.1.min.js\": \"JpP8FXbgAZLkfur7LiK3j9AGBhHNIvF742meBJrjO2ShJDhCG2I1uVvW+0DUtrmc\", \"https://cdn.bokeh.org/bokeh/release/bokeh-widgets-2.0.1.min.js\": \"xZlADit0Q04ISQEdKg2k3L4W9AwQBAuDs9nJL9fM/WwzL1tEU9VPNezOFX0nLEAz\", \"https://cdn.bokeh.org/bokeh/release/bokeh-tables-2.0.1.min.js\": \"4BuPRZkdMKSnj3zoxiNrQ86XgNw0rYmBOxe7nshquXwwcauupgBF2DHLVG1WuZlV\", \"https://cdn.bokeh.org/bokeh/release/bokeh-gl-2.0.1.min.js\": \"Dv1SQ87hmDqK6S5OhBf0bCuwAEvL5QYL0PuR/F1SPVhCS/r/abjkbpKDYL2zeM19\"};\n\n    for (var i = 0; i < js_urls.length; i++) {\n      var url = js_urls[i];\n      var element = document.createElement('script');\n      element.onload = on_load;\n      element.onerror = on_error;\n      element.async = false;\n      element.src = url;\n      if (url in hashes) {\n        element.crossOrigin = \"anonymous\";\n        element.integrity = \"sha384-\" + hashes[url];\n      }\n      console.debug(\"Bokeh: injecting script tag for BokehJS library: \", url);\n      document.head.appendChild(element);\n    }\n  };var element = document.getElementById(\"1001\");\n  if (element == null) {\n    console.error(\"Bokeh: ERROR: autoload.js configured with elementid '1001' but no matching script tag was found. \")\n    return false;\n  }\n\n  function inject_raw_css(css) {\n    const element = document.createElement(\"style\");\n    element.appendChild(document.createTextNode(css));\n    document.body.appendChild(element);\n  }\n\n  \n  var js_urls = [\"https://cdn.bokeh.org/bokeh/release/bokeh-2.0.1.min.js\", \"https://cdn.bokeh.org/bokeh/release/bokeh-widgets-2.0.1.min.js\", \"https://cdn.bokeh.org/bokeh/release/bokeh-tables-2.0.1.min.js\", \"https://cdn.bokeh.org/bokeh/release/bokeh-gl-2.0.1.min.js\"];\n  var css_urls = [];\n  \n\n  var inline_js = [\n    function(Bokeh) {\n      Bokeh.set_log_level(\"info\");\n    },\n    function(Bokeh) {\n    \n    \n    }\n  ];\n\n  function run_inline_js() {\n    \n    if (root.Bokeh !== undefined || force === true) {\n      \n    for (var i = 0; i < inline_js.length; i++) {\n      inline_js[i].call(root, root.Bokeh);\n    }\n    if (force === true) {\n        display_loaded();\n      }} else if (Date.now() < root._bokeh_timeout) {\n      setTimeout(run_inline_js, 100);\n    } else if (!root._bokeh_failed_load) {\n      console.log(\"Bokeh: BokehJS failed to load within specified timeout.\");\n      root._bokeh_failed_load = true;\n    } else if (force !== true) {\n      var cell = $(document.getElementById(\"1001\")).parents('.cell').data().cell;\n      cell.output_area.append_execute_result(NB_LOAD_WARNING)\n    }\n\n  }\n\n  if (root._bokeh_is_loading === 0) {\n    console.debug(\"Bokeh: BokehJS loaded, going straight to plotting\");\n    run_inline_js();\n  } else {\n    load_libs(css_urls, js_urls, function() {\n      console.debug(\"Bokeh: BokehJS plotting callback run at\", now());\n      run_inline_js();\n    });\n  }\n}(window));"
     },
     "metadata": {},
     "output_type": "display_data"
    }
   ],
   "source": [
    "import warnings\n",
    "warnings.filterwarnings('ignore')\n",
    "import numpy as np\n",
    "import pandas as pd\n",
    "import astropy.units as u\n",
    "\n",
    "#picaso\n",
    "from picaso import justdoit as jdi \n",
    "from picaso import justplotit as jpi\n",
    "#plotting\n",
    "from bokeh.io import output_notebook\n",
    "output_notebook()\n",
    "from bokeh.plotting import show"
   ]
  },
  {
   "cell_type": "markdown",
   "metadata": {},
   "source": [
    "### Connect to Opacity Database"
   ]
  },
  {
   "cell_type": "code",
   "execution_count": 2,
   "metadata": {},
   "outputs": [],
   "source": [
    "opacity = jdi.opannection(wave_range=[0.3,1])"
   ]
  },
  {
   "cell_type": "markdown",
   "metadata": {},
   "source": [
    "### Load blank slate"
   ]
  },
  {
   "cell_type": "code",
   "execution_count": 3,
   "metadata": {},
   "outputs": [],
   "source": [
    "sum_planet = jdi.inputs()"
   ]
  },
  {
   "cell_type": "markdown",
   "metadata": {},
   "source": [
    "### Set Planet & Star Properties "
   ]
  },
  {
   "cell_type": "code",
   "execution_count": 15,
   "metadata": {},
   "outputs": [],
   "source": [
    "#phase angle \n",
    "sum_planet.phase_angle(0) #radians\n",
    "\n",
    "#define gravity\n",
    "sum_planet.gravity(gravity=9.8, gravity_unit=u.Unit('m/(s**2)')) #any astropy units available\n",
    "\n",
    "\n",
    "#define star \n",
    "sum_planet.star(opacity,5000,0,4.0) #pysynphot database, temp, metallicity, logg "
   ]
  },
  {
   "cell_type": "markdown",
   "metadata": {},
   "source": [
    "## Add Surface Reflectivity\n",
    "\n",
    "For reflected light it is important to specify the surface albedo in case there are wavelength bands that are optically thin from molecular absorption. In those cases you will see the surface reflection in your spectra. \n",
    "\n",
    "For emission, it is important the surface reflectivity routine also tells the code that you have a \"hard surface\" boundary condition (opposed to a high pressure surface). Therefore if you are running reflected light, or thermal emission you will have to run the `surface_reflect` routine. \n",
    "\n",
    "**Therefore, it is critical that you run this routine for all terrestrial cases (reflected light and thermal emission**"
   ]
  },
  {
   "cell_type": "code",
   "execution_count": 16,
   "metadata": {},
   "outputs": [],
   "source": [
    "sum_planet.atmosphere(df=pd.DataFrame({'pressure':np.logspace(-6,1,40),\n",
    "                         'temperature':np.linspace(100,270,40), #very fake temperature profile with a 270 K suface\n",
    "                         'H2O':np.zeros(40)+0.01,\n",
    "                         'CO2':np.zeros(40)+1-0.01}))\n",
    "\n",
    "sum_planet.surface_reflect(0.3,opacity.wno) #this inputs the surface reflectivity and tells the code \n",
    "                                            #there is a hard surface\n",
    "\n",
    "    \n",
    "#can also input a wavelength dependent quantity here\n",
    "#fake_surface= np.linspace(0.01,0.9, opacity.nwno)\n",
    "#sum_planet.surface_reflect(fake_surface,opacity.wno)"
   ]
  },
  {
   "cell_type": "markdown",
   "metadata": {},
   "source": [
    "Note you can turn off these printout messages with `verbose=False` in the `atmosphere` function\n",
    "\n",
    "And lastly, the reference pressure:"
   ]
  },
  {
   "cell_type": "code",
   "execution_count": 17,
   "metadata": {},
   "outputs": [],
   "source": [
    "sum_planet.inputs['p_reference'] = 0.5 #bars! Just needs to be lower than your highest pressure"
   ]
  },
  {
   "cell_type": "markdown",
   "metadata": {},
   "source": [
    "## Create 1D Albedo Spectrum"
   ]
  },
  {
   "cell_type": "code",
   "execution_count": 18,
   "metadata": {},
   "outputs": [],
   "source": [
    "df = sum_planet.spectrum(opacity)"
   ]
  },
  {
   "cell_type": "code",
   "execution_count": 19,
   "metadata": {},
   "outputs": [],
   "source": [
    "wno, alb, fpfs = df['wavenumber'],df['albedo'],df['fpfs_reflected']\n",
    "wno, alb = jpi.mean_regrid(wno, alb, R=150)"
   ]
  },
  {
   "cell_type": "code",
   "execution_count": 20,
   "metadata": {},
   "outputs": [
    {
     "data": {
      "text/html": [
       "\n",
       "\n",
       "\n",
       "\n",
       "\n",
       "\n",
       "  <div class=\"bk-root\" id=\"281589a1-d80d-4d79-863a-c14e6f33e13b\" data-root-id=\"1211\"></div>\n"
      ]
     },
     "metadata": {},
     "output_type": "display_data"
    },
    {
     "data": {
      "application/javascript": [
       "(function(root) {\n",
       "  function embed_document(root) {\n",
       "    \n",
       "  var docs_json = {\"ed789090-0bf5-470e-84c1-6fbbf3392512\":{\"roots\":{\"references\":[{\"attributes\":{\"below\":[{\"id\":\"1220\"}],\"center\":[{\"id\":\"1223\"},{\"id\":\"1227\"}],\"left\":[{\"id\":\"1224\"},{\"id\":\"1247\"}],\"plot_height\":345,\"plot_width\":500,\"renderers\":[{\"id\":\"1245\"}],\"title\":{\"id\":\"1266\"},\"toolbar\":{\"id\":\"1235\"},\"x_range\":{\"id\":\"1212\"},\"x_scale\":{\"id\":\"1216\"},\"y_range\":{\"id\":\"1214\"},\"y_scale\":{\"id\":\"1218\"}},\"id\":\"1211\",\"subtype\":\"Figure\",\"type\":\"Plot\"},{\"attributes\":{\"text\":\"\"},\"id\":\"1266\",\"type\":\"Title\"},{\"attributes\":{\"overlay\":{\"id\":\"1234\"}},\"id\":\"1230\",\"type\":\"BoxZoomTool\"},{\"attributes\":{\"data\":{\"x\":{\"__ndarray__\":\"81tTwSf77z9wqmRuwcTvP7pzF6S3ju8/jW8FxQlZ7z8cEtQ0tyPvP5jEMli/7u4/2CDZlCG67j/uL4VR3YXuP8ir+fXxUe4/ukP86l4e7j8H5FOaI+vtP0gAx24/uO0/z+AZ1LGF7T/h8gw3elPtP8kbWwWYIe0/2Q64rQrw7D8kps6f0b7sPyA+P0zsjew/CBSeJFpd7D8Jp3GbGi3sPyQcMSQt/es/5KRCM5HN6z+v6Pk9Rp7rP+xwlrpLb+s/uBdCIKFA6z9deQ/nRRLrP2Zo+Ic55Oo/TWTcfHu26j/XEn9AC4nqP/e7hk7oW+o/U8h6IxIv6j9RQsI8iALqP7FZohhK1uk/ruk8Nleq6T+kAY8Vr37pPzJwbzdRU+k/1VCNHT0o6T/9m25Kcv3oP5O5bkHw0ug/5RW9hrao6D8MuVufxH7oP6TgHREaVeg/9JumYrYr6D9xamcbmQLoP43cnsPB2ec/8TZX5C+x5z/1F2UH44jnP3UfZrfaYOc/3pi/fxY55z+VJ53slRHnP5J174pY6uY/NORq6F3D5j9kP4aTpZzmP9pyeRsvduY/nUE8EPpP5j+v/4QCBirmP+5Nx4NSBOY/DNgyJt/e5T+zFLJ8q7nlP80H6Rq3lOU/5gY0lQFw5T+gf6aAikvlP0TACXNRJ+U/ZMLbAlYD5T+I903Hl9/kP+gXRFgWvOQ/LvNSTtGY5D82Q79CyHXkP9qAfM/6UuQ/rrorj2gw5D+/bRodEQ7kP0JgQRX06+M/PH5DFBHK4z8UuGy3Z6jjPxXjsJz3huM/1ZuqYsBl4z+JKpqowUTjPzFpZA77I+M/rauRNGwD4z+wqUy8FOPiP3pqYUf0wuI/fTI8eAqj4j/KcujxVoPiP1G6D1jZY+I/7Kj4TpFE4j8w5IV7fiXiPwsONYOgBuI/KL0dDPfn4T8Cd/C8gcnhP8yr9TxAq+E/A7QMNDKN4T+8z6pKV2/hP6gn2imvUeE/ys84ezk04T/by/fo9RbhP1gV2h3k+eA/PKMzxQPd4D9gc+iKVMDgP3uVaxvWo+A/yDe+I4iH4D9KtW5RamvgP6Cll1J8T+A/hO7e1b0z4D/R1nSKLhjgP0U2JkCc+d8/+wf4jTjD3z8q+/JfMY3fPxtiuBiGV98/lj71GzYi3z+QemDOQO3eP9gjuZWluN4/16rE2GOE3j8sJE3/elDeP2WNH3LqHN4/iBQKm7Hp3T+iYtrkz7bdPzfpW7tEhN0/gjJWiw9S3T+4NIvCLyDdPwmotc+k7tw/el+HIm693D+VpKcri4zcP+KVsVz7W9w/IogyKL4r3D9PaqgB0/vbP10sgF05zNs/qygUsfCc2z8okKpy+G3bPzHZcxlQP9s/DjGJHfcQ2z8Y8Or37OLaP4QQfyIxtdo/zacPGMOH2j+kYklUolraP5QDulPOLdo/FuTOk0YB2j9CeNOSCtXZPwPV788Zqdk/zzgny3N92T/WllYFGFLZP7ckMwAGJ9k/o+pIPj382D/xVflCvdHYPyXOeZKFp9g/WUzSsZV92D8X9dsm7VPYP4a0P3iLKtg//9x0LXAB2D/4x7/OmtjXPz95MOUKsNc/kUSh+r+H1z9wdbWZuV/XP1b51033N9c/Fww6o3gQ1z+X5tEmPenWP69vWWZEwtY/X+9M8I2b1j8bxOlTGXXWP2caLSHmTtY/j6bS6PMo1j+PYFM8QgPWPydC5K3Q3dU/Bwd10J641T8r7643rJPVP0OD83f4btU/RVtbJoNK1T//5rTYSybVP884gyVSAtU/X9L8o5Xe1D9rcwrsFbvUP5PqRZbSl9Q/Kej4O8t01D8O0xt3/1HUP3mfVOJuL9Q/xaf1GBkN1D8wh/y2/erTP432EFkcydM/66qDnHSn0z8dNk0fBobTPzXpDIDQZNM/4rgHXtND0z8=\",\"dtype\":\"float64\",\"shape\":[181]},\"y\":{\"__ndarray__\":\"F0tFhJ4syj/i8PTu9crEP3rMxlj51ro/GCA8suYSoT+EaO7zmxSYP8vqW+b+95I/6eviryDWhD+Uqpqgnh+AP9k7lObJBnw/qVtUTGssfj/N3WlAqPt0P3pjhf0qG5M/wLq0BhwZoj9DBTlU1TSXP/r3a1SlbZc/JxMyCNxtoz8P8braT0SdP7SO2UwoUsM/i367Q+pFzT/BhS8yAXfPP+I771IkQcs/ORnjLxcLxz8CpFtsFBvRP5eVqrgNEc8/c7aUEB8qyz9G5mzat9/KPxkjsRfKPMU/HF6UY5mquj+FULqasxOwPzMfOASyVq8/JZ/1olIZqD+8dmIkRXW1P9S1Hjn78sU/+CwQLQZgwT/275+Q7+LFPwvJGxfPz8M/Ry6INb6Lyj+t4rM4+NnQPydEnmSBItM/yzWuJElM0z9mfK3utWjTP5RRGaLeZtM/SQ+lQ3h90z/eBHfZ5FfTP2447Neb8dI/IBvPO8/nzD/MyLVZ4tvDP7ax2UScMLc/3qG+IEv3rz+Ks2QFz6+zP8jVbYhIV8E/8kzFNsOOyz/XYYX4GzjKP/MZT8+ylsU/nDtFsd85xz866qxUxn7LPzBMQEFLktQ/VdZ9iJEA1T+hztVfR7bVP7Y3xeM+89U/YGGGtxsJ1j8dArdoYqfVP/a2u5wYptQ/bA/RJDdg0D/KG0jJUdXQP4lasswtqMw/kHoDwLwF1T++h8uPOf3VP7iXW9dwA9Y/HXq/jLle1T8PiuZckxzWP3rCwzFC7Nc/0B8yE2Ak2D+AYxd661TYP5RE+Uk/fNg/gK8umdZ/2D/1raizm2DXP0QVRp5NptM/IrbQEtrMzz/Qr6gnKInLP9fnExewktY/s0xhsZY62T9dZ/yz4/jYP521U96e8tc/wZc7rWmn1z8XapQl/YvZP4jW9AePzto/Nb1zPO0a2z8c7dne1mLbP38gRjzvYds/xnzdOkvm2j/7ZnH61drZP1VU2jnHVto/nFnPjrRJ3D8G8p7ryrHcP0uw3sav1tw/hLmJ5y0e3T9k/q502VDdP5ApOpYfu90/fc2twTHy3T+XTJj7TALeP/3bz1HSsNw/UUUk6FJ52z9HMGe6XobbP6oLJuWY994/K3CfZadu3z+Q1qH3GpjfPzQsgRgQld8/ojyxxBOU3z9KqnVhuzHgPzqWTEv9WOA/RvTmUpZz4D9PH4fe6GzgPzibNktbaOA/qgqFzi2x4D+8gp2SDfjgP4IU9/C1F+E/N/yGhl4y4T8RkYYbHU/hPzEqrL00cuE/dahny0yH4T8/orzAIFLhPz3/tyyyMuE/5wDWmvjc4T+YftdI6QziPxKxGrR4LOI/N47xhcFI4j/n4HExMl/iP7QzlEYweOI/0SamAQSf4j/K0+AzxbDiP/qXM3Z9qeI/vp1+Infl4j+YTzjVIg3jP/tJkIGfKuM/OSHF1xFE4z/PmXHFl1njP2xRKm4SZOM/zwf7igFj4z+QIB/H5p3jP6V68MCIvOM/d8X8vozQ4z/P1c993vPjP9Vf6ztiC+Q/l5eKu+kh5D/1ZXduKjXkPziFz4mROuQ//MUB6gRd5D/pvx0yynPkPxsvQ49fkOQ/NJP3yBOm5D9dmiAlb7bkPz0hq3caveQ/32VwU4rc5D88QVoL7/DkP0v+wU3K/OQ/Q0kzIxQV5T8Pbin3wSzlP0MG87arPeU/5BH5x+xK5T+jDk17J1/lP7ZZJocWcOU/bEBojhqB5T9aFE6HjJHlPwkaXZsSpOU/kJ2NxEq05T9PUy0KecPlP6dk6sVU0uU/C/yJGN/g5T+lF9UhGe/lP7YilQQE/eU/bjkk5qAK5j8bCAHu8BfmPxvDZ0X1JOY/SujvFq8x5j+mli6OHz7mPw9EXddHSuY/TakEHylW5j93wauRxGHmP5i6ilsbbeY/FIvzeDx45j8=\",\"dtype\":\"float64\",\"shape\":[181]}},\"selected\":{\"id\":\"1273\"},\"selection_policy\":{\"id\":\"1272\"}},\"id\":\"1242\",\"type\":\"ColumnDataSource\"},{\"attributes\":{\"data_source\":{\"id\":\"1242\"},\"glyph\":{\"id\":\"1243\"},\"hover_glyph\":null,\"muted_glyph\":null,\"nonselection_glyph\":{\"id\":\"1244\"},\"selection_glyph\":null,\"view\":{\"id\":\"1246\"}},\"id\":\"1245\",\"type\":\"GlyphRenderer\"},{\"attributes\":{\"axis\":{\"id\":\"1220\"},\"ticker\":null},\"id\":\"1223\",\"type\":\"Grid\"},{\"attributes\":{},\"id\":\"1231\",\"type\":\"SaveTool\"},{\"attributes\":{},\"id\":\"1232\",\"type\":\"ResetTool\"},{\"attributes\":{},\"id\":\"1218\",\"type\":\"LinearScale\"},{\"attributes\":{},\"id\":\"1270\",\"type\":\"BasicTickFormatter\"},{\"attributes\":{\"axis_label\":\"Spectrum\",\"axis_label_text_font\":\"times\",\"axis_label_text_font_size\":\"14pt\",\"axis_label_text_font_style\":\"bold\",\"formatter\":{\"id\":\"1268\"},\"major_label_text_font\":\"times\",\"major_label_text_font_size\":\"14pt\",\"ticker\":{\"id\":\"1225\"}},\"id\":\"1224\",\"type\":\"LinearAxis\"},{\"attributes\":{},\"id\":\"1212\",\"type\":\"DataRange1d\"},{\"attributes\":{\"line_alpha\":0.1,\"line_color\":\"#0072B2\",\"line_width\":3,\"x\":{\"field\":\"x\"},\"y\":{\"field\":\"y\"}},\"id\":\"1244\",\"type\":\"Line\"},{\"attributes\":{\"active_drag\":\"auto\",\"active_inspect\":\"auto\",\"active_multi\":null,\"active_scroll\":\"auto\",\"active_tap\":\"auto\",\"tools\":[{\"id\":\"1228\"},{\"id\":\"1229\"},{\"id\":\"1230\"},{\"id\":\"1231\"},{\"id\":\"1232\"},{\"id\":\"1233\"}]},\"id\":\"1235\",\"type\":\"Toolbar\"},{\"attributes\":{},\"id\":\"1268\",\"type\":\"BasicTickFormatter\"},{\"attributes\":{\"click_policy\":\"mute\",\"location\":[0,0]},\"id\":\"1247\",\"type\":\"Legend\"},{\"attributes\":{},\"id\":\"1221\",\"type\":\"BasicTicker\"},{\"attributes\":{},\"id\":\"1272\",\"type\":\"UnionRenderers\"},{\"attributes\":{},\"id\":\"1273\",\"type\":\"Selection\"},{\"attributes\":{\"axis\":{\"id\":\"1224\"},\"dimension\":1,\"ticker\":null},\"id\":\"1227\",\"type\":\"Grid\"},{\"attributes\":{},\"id\":\"1228\",\"type\":\"PanTool\"},{\"attributes\":{},\"id\":\"1225\",\"type\":\"BasicTicker\"},{\"attributes\":{},\"id\":\"1229\",\"type\":\"WheelZoomTool\"},{\"attributes\":{},\"id\":\"1214\",\"type\":\"DataRange1d\"},{\"attributes\":{\"axis_label\":\"Wavelength [\\u03bcm]\",\"axis_label_text_font\":\"times\",\"axis_label_text_font_size\":\"14pt\",\"axis_label_text_font_style\":\"bold\",\"formatter\":{\"id\":\"1270\"},\"major_label_text_font\":\"times\",\"major_label_text_font_size\":\"14pt\",\"ticker\":{\"id\":\"1221\"}},\"id\":\"1220\",\"type\":\"LinearAxis\"},{\"attributes\":{\"source\":{\"id\":\"1242\"}},\"id\":\"1246\",\"type\":\"CDSView\"},{\"attributes\":{\"bottom_units\":\"screen\",\"fill_alpha\":0.5,\"fill_color\":\"lightgrey\",\"left_units\":\"screen\",\"level\":\"overlay\",\"line_alpha\":1.0,\"line_color\":\"black\",\"line_dash\":[4,4],\"line_width\":2,\"render_mode\":\"css\",\"right_units\":\"screen\",\"top_units\":\"screen\"},\"id\":\"1234\",\"type\":\"BoxAnnotation\"},{\"attributes\":{},\"id\":\"1216\",\"type\":\"LinearScale\"},{\"attributes\":{},\"id\":\"1233\",\"type\":\"HelpTool\"},{\"attributes\":{\"line_color\":\"#0072B2\",\"line_width\":3,\"x\":{\"field\":\"x\"},\"y\":{\"field\":\"y\"}},\"id\":\"1243\",\"type\":\"Line\"}],\"root_ids\":[\"1211\"]},\"title\":\"Bokeh Application\",\"version\":\"2.0.1\"}};\n",
       "  var render_items = [{\"docid\":\"ed789090-0bf5-470e-84c1-6fbbf3392512\",\"root_ids\":[\"1211\"],\"roots\":{\"1211\":\"281589a1-d80d-4d79-863a-c14e6f33e13b\"}}];\n",
       "  root.Bokeh.embed.embed_items_notebook(docs_json, render_items);\n",
       "\n",
       "  }\n",
       "  if (root.Bokeh !== undefined) {\n",
       "    embed_document(root);\n",
       "  } else {\n",
       "    var attempts = 0;\n",
       "    var timer = setInterval(function(root) {\n",
       "      if (root.Bokeh !== undefined) {\n",
       "        clearInterval(timer);\n",
       "        embed_document(root);\n",
       "      } else {\n",
       "        attempts++;\n",
       "        if (attempts > 100) {\n",
       "          clearInterval(timer);\n",
       "          console.log(\"Bokeh: ERROR: Unable to run BokehJS code because BokehJS library is missing\");\n",
       "        }\n",
       "      }\n",
       "    }, 10, root)\n",
       "  }\n",
       "})(window);"
      ],
      "application/vnd.bokehjs_exec.v0+json": ""
     },
     "metadata": {
      "application/vnd.bokehjs_exec.v0+json": {
       "id": "1211"
      }
     },
     "output_type": "display_data"
    }
   ],
   "source": [
    "show(jpi.spectrum([wno], [alb], plot_width=500))"
   ]
  },
  {
   "cell_type": "markdown",
   "metadata": {},
   "source": [
    "What about contrast units? "
   ]
  },
  {
   "cell_type": "code",
   "execution_count": 21,
   "metadata": {},
   "outputs": [
    {
     "data": {
      "text/plain": [
       "['Semi-major axis not supplied. If you want fpfs, add it to `star` function. ',\n",
       " 'Planet Radius not supplied. If you want fpfs, add it to `gravity` function with a mass.']"
      ]
     },
     "execution_count": 21,
     "metadata": {},
     "output_type": "execute_result"
    }
   ],
   "source": [
    "fpfs"
   ]
  },
  {
   "cell_type": "markdown",
   "metadata": {},
   "source": [
    "### Get Contrast Units  \n",
    "\n",
    "In order to get contrast units we have to make sure to give the `gravity` and `star` functions semi major axis, mass and radius."
   ]
  },
  {
   "cell_type": "code",
   "execution_count": 22,
   "metadata": {},
   "outputs": [],
   "source": [
    "sum_planet.star(opacity,5000,0,4.0,semi_major=1, semi_major_unit=u.Unit('au')) \n",
    "sum_planet.gravity(radius=1.,radius_unit=u.Unit('R_earth'), \n",
    "             mass=1,mass_unit=u.Unit('M_earth')) \n",
    "df = sum_planet.spectrum(opacity)\n",
    "wno, alb, fpfs = df['wavenumber'],df['albedo'],df['fpfs_reflected']\n",
    "wno, fpfs = jdi.mean_regrid(wno, fpfs , R=150)\n"
   ]
  },
  {
   "cell_type": "code",
   "execution_count": 23,
   "metadata": {},
   "outputs": [
    {
     "data": {
      "text/html": [
       "\n",
       "\n",
       "\n",
       "\n",
       "\n",
       "\n",
       "  <div class=\"bk-root\" id=\"934bc247-e160-4bca-b4e8-1cd500012d1d\" data-root-id=\"1329\"></div>\n"
      ]
     },
     "metadata": {},
     "output_type": "display_data"
    },
    {
     "data": {
      "application/javascript": [
       "(function(root) {\n",
       "  function embed_document(root) {\n",
       "    \n",
       "  var docs_json = {\"3c344ef6-41f1-426c-96a5-9dcb7aa1a365\":{\"roots\":{\"references\":[{\"attributes\":{\"below\":[{\"id\":\"1338\"}],\"center\":[{\"id\":\"1341\"},{\"id\":\"1345\"}],\"left\":[{\"id\":\"1342\"},{\"id\":\"1365\"}],\"plot_height\":345,\"plot_width\":500,\"renderers\":[{\"id\":\"1363\"}],\"title\":{\"id\":\"1393\"},\"toolbar\":{\"id\":\"1353\"},\"x_range\":{\"id\":\"1330\"},\"x_scale\":{\"id\":\"1334\"},\"y_range\":{\"id\":\"1332\"},\"y_scale\":{\"id\":\"1336\"}},\"id\":\"1329\",\"subtype\":\"Figure\",\"type\":\"Plot\"},{\"attributes\":{},\"id\":\"1397\",\"type\":\"BasicTickFormatter\"},{\"attributes\":{\"line_alpha\":0.1,\"line_color\":\"#0072B2\",\"line_width\":3,\"x\":{\"field\":\"x\"},\"y\":{\"field\":\"y\"}},\"id\":\"1362\",\"type\":\"Line\"},{\"attributes\":{},\"id\":\"1349\",\"type\":\"SaveTool\"},{\"attributes\":{},\"id\":\"1395\",\"type\":\"BasicTickFormatter\"},{\"attributes\":{\"click_policy\":\"mute\",\"location\":[0,0]},\"id\":\"1365\",\"type\":\"Legend\"},{\"attributes\":{\"data_source\":{\"id\":\"1360\"},\"glyph\":{\"id\":\"1361\"},\"hover_glyph\":null,\"muted_glyph\":null,\"nonselection_glyph\":{\"id\":\"1362\"},\"selection_glyph\":null,\"view\":{\"id\":\"1364\"}},\"id\":\"1363\",\"type\":\"GlyphRenderer\"},{\"attributes\":{},\"id\":\"1351\",\"type\":\"HelpTool\"},{\"attributes\":{\"bottom_units\":\"screen\",\"fill_alpha\":0.5,\"fill_color\":\"lightgrey\",\"left_units\":\"screen\",\"level\":\"overlay\",\"line_alpha\":1.0,\"line_color\":\"black\",\"line_dash\":[4,4],\"line_width\":2,\"render_mode\":\"css\",\"right_units\":\"screen\",\"top_units\":\"screen\"},\"id\":\"1352\",\"type\":\"BoxAnnotation\"},{\"attributes\":{},\"id\":\"1330\",\"type\":\"DataRange1d\"},{\"attributes\":{},\"id\":\"1346\",\"type\":\"PanTool\"},{\"attributes\":{\"active_drag\":\"auto\",\"active_inspect\":\"auto\",\"active_multi\":null,\"active_scroll\":\"auto\",\"active_tap\":\"auto\",\"tools\":[{\"id\":\"1346\"},{\"id\":\"1347\"},{\"id\":\"1348\"},{\"id\":\"1349\"},{\"id\":\"1350\"},{\"id\":\"1351\"}]},\"id\":\"1353\",\"type\":\"Toolbar\"},{\"attributes\":{},\"id\":\"1400\",\"type\":\"Selection\"},{\"attributes\":{\"text\":\"\"},\"id\":\"1393\",\"type\":\"Title\"},{\"attributes\":{},\"id\":\"1343\",\"type\":\"BasicTicker\"},{\"attributes\":{},\"id\":\"1334\",\"type\":\"LinearScale\"},{\"attributes\":{},\"id\":\"1332\",\"type\":\"DataRange1d\"},{\"attributes\":{\"axis\":{\"id\":\"1342\"},\"dimension\":1,\"ticker\":null},\"id\":\"1345\",\"type\":\"Grid\"},{\"attributes\":{\"overlay\":{\"id\":\"1352\"}},\"id\":\"1348\",\"type\":\"BoxZoomTool\"},{\"attributes\":{},\"id\":\"1339\",\"type\":\"BasicTicker\"},{\"attributes\":{},\"id\":\"1350\",\"type\":\"ResetTool\"},{\"attributes\":{\"axis_label\":\"Wavelength [\\u03bcm]\",\"axis_label_text_font\":\"times\",\"axis_label_text_font_size\":\"14pt\",\"axis_label_text_font_style\":\"bold\",\"formatter\":{\"id\":\"1397\"},\"major_label_text_font\":\"times\",\"major_label_text_font_size\":\"14pt\",\"ticker\":{\"id\":\"1339\"}},\"id\":\"1338\",\"type\":\"LinearAxis\"},{\"attributes\":{},\"id\":\"1347\",\"type\":\"WheelZoomTool\"},{\"attributes\":{\"line_color\":\"#0072B2\",\"line_width\":3,\"x\":{\"field\":\"x\"},\"y\":{\"field\":\"y\"}},\"id\":\"1361\",\"type\":\"Line\"},{\"attributes\":{\"axis_label\":\"Spectrum\",\"axis_label_text_font\":\"times\",\"axis_label_text_font_size\":\"14pt\",\"axis_label_text_font_style\":\"bold\",\"formatter\":{\"id\":\"1395\"},\"major_label_text_font\":\"times\",\"major_label_text_font_size\":\"14pt\",\"ticker\":{\"id\":\"1343\"}},\"id\":\"1342\",\"type\":\"LinearAxis\"},{\"attributes\":{\"source\":{\"id\":\"1360\"}},\"id\":\"1364\",\"type\":\"CDSView\"},{\"attributes\":{},\"id\":\"1336\",\"type\":\"LinearScale\"},{\"attributes\":{\"axis\":{\"id\":\"1338\"},\"ticker\":null},\"id\":\"1341\",\"type\":\"Grid\"},{\"attributes\":{\"data\":{\"x\":{\"__ndarray__\":\"81tTwSf77z9wqmRuwcTvP7pzF6S3ju8/jW8FxQlZ7z8cEtQ0tyPvP5jEMli/7u4/2CDZlCG67j/uL4VR3YXuP8ir+fXxUe4/ukP86l4e7j8H5FOaI+vtP0gAx24/uO0/z+AZ1LGF7T/h8gw3elPtP8kbWwWYIe0/2Q64rQrw7D8kps6f0b7sPyA+P0zsjew/CBSeJFpd7D8Jp3GbGi3sPyQcMSQt/es/5KRCM5HN6z+v6Pk9Rp7rP+xwlrpLb+s/uBdCIKFA6z9deQ/nRRLrP2Zo+Ic55Oo/TWTcfHu26j/XEn9AC4nqP/e7hk7oW+o/U8h6IxIv6j9RQsI8iALqP7FZohhK1uk/ruk8Nleq6T+kAY8Vr37pPzJwbzdRU+k/1VCNHT0o6T/9m25Kcv3oP5O5bkHw0ug/5RW9hrao6D8MuVufxH7oP6TgHREaVeg/9JumYrYr6D9xamcbmQLoP43cnsPB2ec/8TZX5C+x5z/1F2UH44jnP3UfZrfaYOc/3pi/fxY55z+VJ53slRHnP5J174pY6uY/NORq6F3D5j9kP4aTpZzmP9pyeRsvduY/nUE8EPpP5j+v/4QCBirmP+5Nx4NSBOY/DNgyJt/e5T+zFLJ8q7nlP80H6Rq3lOU/5gY0lQFw5T+gf6aAikvlP0TACXNRJ+U/ZMLbAlYD5T+I903Hl9/kP+gXRFgWvOQ/LvNSTtGY5D82Q79CyHXkP9qAfM/6UuQ/rrorj2gw5D+/bRodEQ7kP0JgQRX06+M/PH5DFBHK4z8UuGy3Z6jjPxXjsJz3huM/1ZuqYsBl4z+JKpqowUTjPzFpZA77I+M/rauRNGwD4z+wqUy8FOPiP3pqYUf0wuI/fTI8eAqj4j/KcujxVoPiP1G6D1jZY+I/7Kj4TpFE4j8w5IV7fiXiPwsONYOgBuI/KL0dDPfn4T8Cd/C8gcnhP8yr9TxAq+E/A7QMNDKN4T+8z6pKV2/hP6gn2imvUeE/ys84ezk04T/by/fo9RbhP1gV2h3k+eA/PKMzxQPd4D9gc+iKVMDgP3uVaxvWo+A/yDe+I4iH4D9KtW5RamvgP6Cll1J8T+A/hO7e1b0z4D/R1nSKLhjgP0U2JkCc+d8/+wf4jTjD3z8q+/JfMY3fPxtiuBiGV98/lj71GzYi3z+QemDOQO3eP9gjuZWluN4/16rE2GOE3j8sJE3/elDeP2WNH3LqHN4/iBQKm7Hp3T+iYtrkz7bdPzfpW7tEhN0/gjJWiw9S3T+4NIvCLyDdPwmotc+k7tw/el+HIm693D+VpKcri4zcP+KVsVz7W9w/IogyKL4r3D9PaqgB0/vbP10sgF05zNs/qygUsfCc2z8okKpy+G3bPzHZcxlQP9s/DjGJHfcQ2z8Y8Or37OLaP4QQfyIxtdo/zacPGMOH2j+kYklUolraP5QDulPOLdo/FuTOk0YB2j9CeNOSCtXZPwPV788Zqdk/zzgny3N92T/WllYFGFLZP7ckMwAGJ9k/o+pIPj382D/xVflCvdHYPyXOeZKFp9g/WUzSsZV92D8X9dsm7VPYP4a0P3iLKtg//9x0LXAB2D/4x7/OmtjXPz95MOUKsNc/kUSh+r+H1z9wdbWZuV/XP1b51033N9c/Fww6o3gQ1z+X5tEmPenWP69vWWZEwtY/X+9M8I2b1j8bxOlTGXXWP2caLSHmTtY/j6bS6PMo1j+PYFM8QgPWPydC5K3Q3dU/Bwd10J641T8r7643rJPVP0OD83f4btU/RVtbJoNK1T//5rTYSybVP884gyVSAtU/X9L8o5Xe1D9rcwrsFbvUP5PqRZbSl9Q/Kej4O8t01D8O0xt3/1HUP3mfVOJuL9Q/xaf1GBkN1D8wh/y2/erTP432EFkcydM/66qDnHSn0z8dNk0fBobTPzXpDIDQZNM/4rgHXtND0z8=\",\"dtype\":\"float64\",\"shape\":[181]},\"y\":{\"__ndarray__\":\"epQna01cOD9fSBB9Z1szP5R0lDAb/yg/Mtcn7A/QDz+JP6gb020GP89GNzLGqgE/NpLUUMpn8z5ErxTrtwnuPr/dld3SG+o+/eSriGob7D401lTvXY3jPhp/oSZ+ywE/hMpmQVTbED++xpIbgZwFP0MVRBY10QU/6MLIi4wYEj+4drbX1UALP6FyxDhE/DE/JY0Ntak9Oz+rnZEzHUc9P2jmtzp3XTk/wwqK/SRyNT+Q7Em5etQ/P4Bf1PdY6Dw/URP2bOpHOT94e+42lQI5P/C2iSEHxTM/n1bcz4XUKD897J+pIvEdP+Ji7HrbLh0/x0DejFhwFj8TeyIuEPsjP//ELmyHbjQ/LFisHCQtMD/jBGTVd180P0IdnlZGcTI/RnXCE7u0OD/2K+1Jl1s/P9G+4LsezUE/Zl2PDPTzQT8ZSjVDYg5CP4i0rAK1DEI/IMxe/LkhQj+mEf9o1v5BP8qz7qLhn0E/JE9A8oLmOj+F5AcPbHwyP1HtGYUNlyU/OQ6HobDCHT+qD6cW/VMiPz+DWCpbJDA/Md/EMsClOT8MhxlAR2c4P9ZeQHYwGDQ/FjKKthGeNT/UMFTHNpY5PwBpt/ZII0M/vf01yMCJQz+AkzGOmDJEP2H1L2FBa0Q/pRmQvJl/RD+ibWda3SREP1eTA9bLNUM/Fkk+Pxd6Pj9ZIJJk01M/Px7HKghvqzo/aEFPvLeOQz/eX6wKxnREP3etNHWbekQ/eg0O637hQz/vmlYJ+pFEP2+CMZLQQEY/T0C9hfx0Rj+F4YuIH6JGP5lMTxOzxkY/xGLNihfKRj89APUtR79FPyAQzFeGSEI/+6cIvsKXPT8wx8T4oKA5P9nZm6MIAEU/ZbthJeJ3Rz9iKdeP3DpHP91UUwlNR0Y/AYeAYmMBRj/IrpXUqsNHP2cCn8Jm70g/lSwf5GY2ST8vODanQnlJPw97QUx/eEk/2qNxhr8FST/d0XvbQQ1IP+GKWg12gEg/vzTEahRQSj+Uhkgl2LBKP12qhMEx00o/pkT297EVSz9FeqCt10RLP8O/G8yip0s/QHtcf+LaSz+WlqJc9ulLP311g8uPsEo/Lg1uhjePST9T4XLxZJtJP87TTI42zkw/wiKaPeM8TT/y12Y/gWNNPyamkWjLYE0/qz3L9fxfTT8t43x1vyBOP2gpQvHJaU4/MqgMF1ObTj9k1tXgEI9OPz/sfOiyhk4/vFbA7h0OTz9OtXEs65FPP5UwW7rczE8/alKLhob+Tz8I7GphBxpQP4xn2YexOlA/lmyeuVxOUD+GeHSgEB1QP9EEtbHF/08/GGoMZyaeUD8p7zKxvspQP9DW2YMh6FA/uVU92nkCUT+sSVTPZBdRP+OCXG2uLlE/nXwHCdFSUT9wruwnYmNRPwzvIrixXFE/qk0I2HiUUT+MpKp1ZLlRP5QF+XHa1FE/DsHqx4/sUT8eF4AzoABSP+ztsuxuClI/P40pBYIJUj8lHnyISEBSPwnslUTPXFI/kMsNd3dvUj9eLgDhV5BSP+GUXqBAplI/SAiHAT+7Uj/ZuJRDMs1SP0T//kpI0lI/HApjmljyUj9X1uXIjgdTP/WsJ8srIlM/QcmnqmQ2Uz+ewpQbpkVTP0954NbnS1M/xsPY/ClpUz/mi4aIKnxTP/NdR0o8h1M/XRfb99qdUz8GxXKE57NTP65nx3+rw1M/7ZruZgnQUz/oAncs4eJTP0K/Ykqp8lM/PYTdpIQCVD+uloog2BFUP8G0n6oZI1Q/V4NwBTcyVD+zsIYvXUBUPwLWjXU2TlQ/Gy0M5MNbVD/4cqiGBmlUP6z522v/dVQ/RUyKpK+CVD+0NZxDGI9UPzyKn106m1Q/c2prCBenVD/Hzchar7JUPyghH2wEvlQ/1dMkVBfJVD9BsJMq6dNUP8Lj4AZ73lQ/FMHH4NroVD8=\",\"dtype\":\"float64\",\"shape\":[181]}},\"selected\":{\"id\":\"1400\"},\"selection_policy\":{\"id\":\"1399\"}},\"id\":\"1360\",\"type\":\"ColumnDataSource\"},{\"attributes\":{},\"id\":\"1399\",\"type\":\"UnionRenderers\"}],\"root_ids\":[\"1329\"]},\"title\":\"Bokeh Application\",\"version\":\"2.0.1\"}};\n",
       "  var render_items = [{\"docid\":\"3c344ef6-41f1-426c-96a5-9dcb7aa1a365\",\"root_ids\":[\"1329\"],\"roots\":{\"1329\":\"934bc247-e160-4bca-b4e8-1cd500012d1d\"}}];\n",
       "  root.Bokeh.embed.embed_items_notebook(docs_json, render_items);\n",
       "\n",
       "  }\n",
       "  if (root.Bokeh !== undefined) {\n",
       "    embed_document(root);\n",
       "  } else {\n",
       "    var attempts = 0;\n",
       "    var timer = setInterval(function(root) {\n",
       "      if (root.Bokeh !== undefined) {\n",
       "        clearInterval(timer);\n",
       "        embed_document(root);\n",
       "      } else {\n",
       "        attempts++;\n",
       "        if (attempts > 100) {\n",
       "          clearInterval(timer);\n",
       "          console.log(\"Bokeh: ERROR: Unable to run BokehJS code because BokehJS library is missing\");\n",
       "        }\n",
       "      }\n",
       "    }, 10, root)\n",
       "  }\n",
       "})(window);"
      ],
      "application/vnd.bokehjs_exec.v0+json": ""
     },
     "metadata": {
      "application/vnd.bokehjs_exec.v0+json": {
       "id": "1329"
      }
     },
     "output_type": "display_data"
    }
   ],
   "source": [
    "show(jpi.spectrum([wno], [fpfs*1e6], plot_width=500))"
   ]
  }
 ],
 "metadata": {
  "kernelspec": {
   "display_name": "Python 3",
   "language": "python",
   "name": "python3"
  },
  "language_info": {
   "codemirror_mode": {
    "name": "ipython",
    "version": 3
   },
   "file_extension": ".py",
   "mimetype": "text/x-python",
   "name": "python",
   "nbconvert_exporter": "python",
   "pygments_lexer": "ipython3",
   "version": "3.7.5"
  },
  "toc": {
   "base_numbering": 1,
   "nav_menu": {},
   "number_sections": true,
   "sideBar": true,
   "skip_h1_title": false,
   "title_cell": "Table of Contents",
   "title_sidebar": "Contents",
   "toc_cell": true,
   "toc_position": {},
   "toc_section_display": true,
   "toc_window_display": false
  }
 },
 "nbformat": 4,
 "nbformat_minor": 2
}
