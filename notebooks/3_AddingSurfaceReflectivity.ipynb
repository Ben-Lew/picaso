{
 "cells": [
  {
   "cell_type": "markdown",
   "metadata": {},
   "source": [
    "# Terrestiral Planets: Adding a Surface\n",
    "\n",
    "Three major changes differences you need to make note of for terrestrial planets in both reflected, emission and transmission geometry: \n",
    "\n",
    "1. Adding a surface reflectivity \n",
    "2. Ensuring the code knows that your lower boundary condition is a hard surface \n",
    "3. Ensuring that the reference pressure is lower than the lower pressure of your surface. `PICASO` default is 1 bar, which is often times too high."
   ]
  },
  {
   "cell_type": "code",
   "execution_count": 1,
   "metadata": {
    "execution": {
     "iopub.execute_input": "2024-11-13T21:04:05.522898Z",
     "iopub.status.busy": "2024-11-13T21:04:05.522294Z",
     "iopub.status.idle": "2024-11-13T21:04:07.233192Z",
     "shell.execute_reply": "2024-11-13T21:04:07.232680Z"
    }
   },
   "outputs": [
    {
     "data": {
      "text/html": [
       "<style>\n",
       "        .bk-notebook-logo {\n",
       "            display: block;\n",
       "            width: 20px;\n",
       "            height: 20px;\n",
       "            background-image: url(data:image/png;base64,iVBORw0KGgoAAAANSUhEUgAAABQAAAAUCAYAAACNiR0NAAAABHNCSVQICAgIfAhkiAAAAAlwSFlzAAALEgAACxIB0t1+/AAAABx0RVh0U29mdHdhcmUAQWRvYmUgRmlyZXdvcmtzIENTNui8sowAAAOkSURBVDiNjZRtaJVlGMd/1/08zzln5zjP1LWcU9N0NkN8m2CYjpgQYQXqSs0I84OLIC0hkEKoPtiH3gmKoiJDU7QpLgoLjLIQCpEsNJ1vqUOdO7ppbuec5+V+rj4ctwzd8IIbbi6u+8f1539dt3A78eXC7QizUF7gyV1fD1Yqg4JWz84yffhm0qkFqBogB9rM8tZdtwVsPUhWhGcFJngGeWrPzHm5oaMmkfEg1usvLFyc8jLRqDOMru7AyC8saQr7GG7f5fvDeH7Ej8CM66nIF+8yngt6HWaKh7k49Soy9nXurCi1o3qUbS3zWfrYeQDTB/Qj6kX6Ybhw4B+bOYoLKCC9H3Nu/leUTZ1JdRWkkn2ldcCamzrcf47KKXdAJllSlxAOkRgyHsGC/zRday5Qld9DyoM4/q/rUoy/CXh3jzOu3bHUVZeU+DEn8FInkPBFlu3+nW3Nw0mk6vCDiWg8CeJaxEwuHS3+z5RgY+YBR6V1Z1nxSOfoaPa4LASWxxdNp+VWTk7+4vzaou8v8PN+xo+KY2xsw6une2frhw05CTYOmQvsEhjhWjn0bmXPjpE1+kplmmkP3suftwTubK9Vq22qKmrBhpY4jvd5afdRA3wGjFAgcnTK2s4hY0/GPNIb0nErGMCRxWOOX64Z8RAC4oCXdklmEvcL8o0BfkNK4lUg9HTl+oPlQxdNo3Mg4Nv175e/1LDGzZen30MEjRUtmXSfiTVu1kK8W4txyV6BMKlbgk3lMwYCiusNy9fVfvvwMxv8Ynl6vxoByANLTWplvuj/nF9m2+PDtt1eiHPBr1oIfhCChQMBw6Aw0UulqTKZdfVvfG7VcfIqLG9bcldL/+pdWTLxLUy8Qq38heUIjh4XlzZxzQm19lLFlr8vdQ97rjZVOLf8nclzckbcD4wxXMidpX30sFd37Fv/GtwwhzhxGVAprjbg0gCAEeIgwCZyTV2Z1REEW8O4py0wsjeloKoMr6iCY6dP92H6Vw/oTyICIthibxjm/DfN9lVz8IqtqKYLUXfoKVMVQVVJOElGjrnnUt9T9wbgp8AyYKaGlqingHZU/uG2NTZSVqwHQTWkx9hxjkpWDaCg6Ckj5qebgBVbT3V3NNXMSiWSDdGV3hrtzla7J+duwPOToIg42ChPQOQjspnSlp1V+Gjdged7+8UN5CRAV7a5EdFNwCjEaBR27b3W890TE7g24NAP/mMDXRWrGoFPQI9ls/MWO2dWFAar/xcOIImbbpA3zgAAAABJRU5ErkJggg==);\n",
       "        }\n",
       "    </style>\n",
       "    <div>\n",
       "        <a href=\"https://bokeh.org\" target=\"_blank\" class=\"bk-notebook-logo\"></a>\n",
       "        <span id=\"p1001\">Loading BokehJS ...</span>\n",
       "    </div>\n"
      ]
     },
     "metadata": {},
     "output_type": "display_data"
    },
    {
     "data": {
      "application/javascript": [
       "(function(root) {\n",
       "  function now() {\n",
       "    return new Date();\n",
       "  }\n",
       "\n",
       "  const force = true;\n",
       "\n",
       "  if (typeof root._bokeh_onload_callbacks === \"undefined\" || force === true) {\n",
       "    root._bokeh_onload_callbacks = [];\n",
       "    root._bokeh_is_loading = undefined;\n",
       "  }\n",
       "\n",
       "const JS_MIME_TYPE = 'application/javascript';\n",
       "  const HTML_MIME_TYPE = 'text/html';\n",
       "  const EXEC_MIME_TYPE = 'application/vnd.bokehjs_exec.v0+json';\n",
       "  const CLASS_NAME = 'output_bokeh rendered_html';\n",
       "\n",
       "  /**\n",
       "   * Render data to the DOM node\n",
       "   */\n",
       "  function render(props, node) {\n",
       "    const script = document.createElement(\"script\");\n",
       "    node.appendChild(script);\n",
       "  }\n",
       "\n",
       "  /**\n",
       "   * Handle when an output is cleared or removed\n",
       "   */\n",
       "  function handleClearOutput(event, handle) {\n",
       "    const cell = handle.cell;\n",
       "\n",
       "    const id = cell.output_area._bokeh_element_id;\n",
       "    const server_id = cell.output_area._bokeh_server_id;\n",
       "    // Clean up Bokeh references\n",
       "    if (id != null && id in Bokeh.index) {\n",
       "      Bokeh.index[id].model.document.clear();\n",
       "      delete Bokeh.index[id];\n",
       "    }\n",
       "\n",
       "    if (server_id !== undefined) {\n",
       "      // Clean up Bokeh references\n",
       "      const cmd_clean = \"from bokeh.io.state import curstate; print(curstate().uuid_to_server['\" + server_id + \"'].get_sessions()[0].document.roots[0]._id)\";\n",
       "      cell.notebook.kernel.execute(cmd_clean, {\n",
       "        iopub: {\n",
       "          output: function(msg) {\n",
       "            const id = msg.content.text.trim();\n",
       "            if (id in Bokeh.index) {\n",
       "              Bokeh.index[id].model.document.clear();\n",
       "              delete Bokeh.index[id];\n",
       "            }\n",
       "          }\n",
       "        }\n",
       "      });\n",
       "      // Destroy server and session\n",
       "      const cmd_destroy = \"import bokeh.io.notebook as ion; ion.destroy_server('\" + server_id + \"')\";\n",
       "      cell.notebook.kernel.execute(cmd_destroy);\n",
       "    }\n",
       "  }\n",
       "\n",
       "  /**\n",
       "   * Handle when a new output is added\n",
       "   */\n",
       "  function handleAddOutput(event, handle) {\n",
       "    const output_area = handle.output_area;\n",
       "    const output = handle.output;\n",
       "\n",
       "    // limit handleAddOutput to display_data with EXEC_MIME_TYPE content only\n",
       "    if ((output.output_type != \"display_data\") || (!Object.prototype.hasOwnProperty.call(output.data, EXEC_MIME_TYPE))) {\n",
       "      return\n",
       "    }\n",
       "\n",
       "    const toinsert = output_area.element.find(\".\" + CLASS_NAME.split(' ')[0]);\n",
       "\n",
       "    if (output.metadata[EXEC_MIME_TYPE][\"id\"] !== undefined) {\n",
       "      toinsert[toinsert.length - 1].firstChild.textContent = output.data[JS_MIME_TYPE];\n",
       "      // store reference to embed id on output_area\n",
       "      output_area._bokeh_element_id = output.metadata[EXEC_MIME_TYPE][\"id\"];\n",
       "    }\n",
       "    if (output.metadata[EXEC_MIME_TYPE][\"server_id\"] !== undefined) {\n",
       "      const bk_div = document.createElement(\"div\");\n",
       "      bk_div.innerHTML = output.data[HTML_MIME_TYPE];\n",
       "      const script_attrs = bk_div.children[0].attributes;\n",
       "      for (let i = 0; i < script_attrs.length; i++) {\n",
       "        toinsert[toinsert.length - 1].firstChild.setAttribute(script_attrs[i].name, script_attrs[i].value);\n",
       "        toinsert[toinsert.length - 1].firstChild.textContent = bk_div.children[0].textContent\n",
       "      }\n",
       "      // store reference to server id on output_area\n",
       "      output_area._bokeh_server_id = output.metadata[EXEC_MIME_TYPE][\"server_id\"];\n",
       "    }\n",
       "  }\n",
       "\n",
       "  function register_renderer(events, OutputArea) {\n",
       "\n",
       "    function append_mime(data, metadata, element) {\n",
       "      // create a DOM node to render to\n",
       "      const toinsert = this.create_output_subarea(\n",
       "        metadata,\n",
       "        CLASS_NAME,\n",
       "        EXEC_MIME_TYPE\n",
       "      );\n",
       "      this.keyboard_manager.register_events(toinsert);\n",
       "      // Render to node\n",
       "      const props = {data: data, metadata: metadata[EXEC_MIME_TYPE]};\n",
       "      render(props, toinsert[toinsert.length - 1]);\n",
       "      element.append(toinsert);\n",
       "      return toinsert\n",
       "    }\n",
       "\n",
       "    /* Handle when an output is cleared or removed */\n",
       "    events.on('clear_output.CodeCell', handleClearOutput);\n",
       "    events.on('delete.Cell', handleClearOutput);\n",
       "\n",
       "    /* Handle when a new output is added */\n",
       "    events.on('output_added.OutputArea', handleAddOutput);\n",
       "\n",
       "    /**\n",
       "     * Register the mime type and append_mime function with output_area\n",
       "     */\n",
       "    OutputArea.prototype.register_mime_type(EXEC_MIME_TYPE, append_mime, {\n",
       "      /* Is output safe? */\n",
       "      safe: true,\n",
       "      /* Index of renderer in `output_area.display_order` */\n",
       "      index: 0\n",
       "    });\n",
       "  }\n",
       "\n",
       "  // register the mime type if in Jupyter Notebook environment and previously unregistered\n",
       "  if (root.Jupyter !== undefined) {\n",
       "    const events = require('base/js/events');\n",
       "    const OutputArea = require('notebook/js/outputarea').OutputArea;\n",
       "\n",
       "    if (OutputArea.prototype.mime_types().indexOf(EXEC_MIME_TYPE) == -1) {\n",
       "      register_renderer(events, OutputArea);\n",
       "    }\n",
       "  }\n",
       "  if (typeof (root._bokeh_timeout) === \"undefined\" || force === true) {\n",
       "    root._bokeh_timeout = Date.now() + 5000;\n",
       "    root._bokeh_failed_load = false;\n",
       "  }\n",
       "\n",
       "  const NB_LOAD_WARNING = {'data': {'text/html':\n",
       "     \"<div style='background-color: #fdd'>\\n\"+\n",
       "     \"<p>\\n\"+\n",
       "     \"BokehJS does not appear to have successfully loaded. If loading BokehJS from CDN, this \\n\"+\n",
       "     \"may be due to a slow or bad network connection. Possible fixes:\\n\"+\n",
       "     \"</p>\\n\"+\n",
       "     \"<ul>\\n\"+\n",
       "     \"<li>re-rerun `output_notebook()` to attempt to load from CDN again, or</li>\\n\"+\n",
       "     \"<li>use INLINE resources instead, as so:</li>\\n\"+\n",
       "     \"</ul>\\n\"+\n",
       "     \"<code>\\n\"+\n",
       "     \"from bokeh.resources import INLINE\\n\"+\n",
       "     \"output_notebook(resources=INLINE)\\n\"+\n",
       "     \"</code>\\n\"+\n",
       "     \"</div>\"}};\n",
       "\n",
       "  function display_loaded() {\n",
       "    const el = document.getElementById(\"p1001\");\n",
       "    if (el != null) {\n",
       "      el.textContent = \"BokehJS is loading...\";\n",
       "    }\n",
       "    if (root.Bokeh !== undefined) {\n",
       "      if (el != null) {\n",
       "        el.textContent = \"BokehJS \" + root.Bokeh.version + \" successfully loaded.\";\n",
       "      }\n",
       "    } else if (Date.now() < root._bokeh_timeout) {\n",
       "      setTimeout(display_loaded, 100)\n",
       "    }\n",
       "  }\n",
       "\n",
       "  function run_callbacks() {\n",
       "    try {\n",
       "      root._bokeh_onload_callbacks.forEach(function(callback) {\n",
       "        if (callback != null)\n",
       "          callback();\n",
       "      });\n",
       "    } finally {\n",
       "      delete root._bokeh_onload_callbacks\n",
       "    }\n",
       "    console.debug(\"Bokeh: all callbacks have finished\");\n",
       "  }\n",
       "\n",
       "  function load_libs(css_urls, js_urls, callback) {\n",
       "    if (css_urls == null) css_urls = [];\n",
       "    if (js_urls == null) js_urls = [];\n",
       "\n",
       "    root._bokeh_onload_callbacks.push(callback);\n",
       "    if (root._bokeh_is_loading > 0) {\n",
       "      console.debug(\"Bokeh: BokehJS is being loaded, scheduling callback at\", now());\n",
       "      return null;\n",
       "    }\n",
       "    if (js_urls == null || js_urls.length === 0) {\n",
       "      run_callbacks();\n",
       "      return null;\n",
       "    }\n",
       "    console.debug(\"Bokeh: BokehJS not loaded, scheduling load and callback at\", now());\n",
       "    root._bokeh_is_loading = css_urls.length + js_urls.length;\n",
       "\n",
       "    function on_load() {\n",
       "      root._bokeh_is_loading--;\n",
       "      if (root._bokeh_is_loading === 0) {\n",
       "        console.debug(\"Bokeh: all BokehJS libraries/stylesheets loaded\");\n",
       "        run_callbacks()\n",
       "      }\n",
       "    }\n",
       "\n",
       "    function on_error(url) {\n",
       "      console.error(\"failed to load \" + url);\n",
       "    }\n",
       "\n",
       "    for (let i = 0; i < css_urls.length; i++) {\n",
       "      const url = css_urls[i];\n",
       "      const element = document.createElement(\"link\");\n",
       "      element.onload = on_load;\n",
       "      element.onerror = on_error.bind(null, url);\n",
       "      element.rel = \"stylesheet\";\n",
       "      element.type = \"text/css\";\n",
       "      element.href = url;\n",
       "      console.debug(\"Bokeh: injecting link tag for BokehJS stylesheet: \", url);\n",
       "      document.body.appendChild(element);\n",
       "    }\n",
       "\n",
       "    for (let i = 0; i < js_urls.length; i++) {\n",
       "      const url = js_urls[i];\n",
       "      const element = document.createElement('script');\n",
       "      element.onload = on_load;\n",
       "      element.onerror = on_error.bind(null, url);\n",
       "      element.async = false;\n",
       "      element.src = url;\n",
       "      console.debug(\"Bokeh: injecting script tag for BokehJS library: \", url);\n",
       "      document.head.appendChild(element);\n",
       "    }\n",
       "  };\n",
       "\n",
       "  function inject_raw_css(css) {\n",
       "    const element = document.createElement(\"style\");\n",
       "    element.appendChild(document.createTextNode(css));\n",
       "    document.body.appendChild(element);\n",
       "  }\n",
       "\n",
       "  const js_urls = [\"https://cdn.bokeh.org/bokeh/release/bokeh-3.0.2.min.js\", \"https://cdn.bokeh.org/bokeh/release/bokeh-gl-3.0.2.min.js\", \"https://cdn.bokeh.org/bokeh/release/bokeh-widgets-3.0.2.min.js\", \"https://cdn.bokeh.org/bokeh/release/bokeh-tables-3.0.2.min.js\", \"https://cdn.bokeh.org/bokeh/release/bokeh-mathjax-3.0.2.min.js\"];\n",
       "  const css_urls = [];\n",
       "\n",
       "  const inline_js = [    function(Bokeh) {\n",
       "      Bokeh.set_log_level(\"info\");\n",
       "    },\n",
       "function(Bokeh) {\n",
       "    }\n",
       "  ];\n",
       "\n",
       "  function run_inline_js() {\n",
       "    if (root.Bokeh !== undefined || force === true) {\n",
       "          for (let i = 0; i < inline_js.length; i++) {\n",
       "      inline_js[i].call(root, root.Bokeh);\n",
       "    }\n",
       "if (force === true) {\n",
       "        display_loaded();\n",
       "      }} else if (Date.now() < root._bokeh_timeout) {\n",
       "      setTimeout(run_inline_js, 100);\n",
       "    } else if (!root._bokeh_failed_load) {\n",
       "      console.log(\"Bokeh: BokehJS failed to load within specified timeout.\");\n",
       "      root._bokeh_failed_load = true;\n",
       "    } else if (force !== true) {\n",
       "      const cell = $(document.getElementById(\"p1001\")).parents('.cell').data().cell;\n",
       "      cell.output_area.append_execute_result(NB_LOAD_WARNING)\n",
       "    }\n",
       "  }\n",
       "\n",
       "  if (root._bokeh_is_loading === 0) {\n",
       "    console.debug(\"Bokeh: BokehJS loaded, going straight to plotting\");\n",
       "    run_inline_js();\n",
       "  } else {\n",
       "    load_libs(css_urls, js_urls, function() {\n",
       "      console.debug(\"Bokeh: BokehJS plotting callback run at\", now());\n",
       "      run_inline_js();\n",
       "    });\n",
       "  }\n",
       "}(window));"
      ],
      "application/vnd.bokehjs_load.v0+json": "(function(root) {\n  function now() {\n    return new Date();\n  }\n\n  const force = true;\n\n  if (typeof root._bokeh_onload_callbacks === \"undefined\" || force === true) {\n    root._bokeh_onload_callbacks = [];\n    root._bokeh_is_loading = undefined;\n  }\n\n\n  if (typeof (root._bokeh_timeout) === \"undefined\" || force === true) {\n    root._bokeh_timeout = Date.now() + 5000;\n    root._bokeh_failed_load = false;\n  }\n\n  const NB_LOAD_WARNING = {'data': {'text/html':\n     \"<div style='background-color: #fdd'>\\n\"+\n     \"<p>\\n\"+\n     \"BokehJS does not appear to have successfully loaded. If loading BokehJS from CDN, this \\n\"+\n     \"may be due to a slow or bad network connection. Possible fixes:\\n\"+\n     \"</p>\\n\"+\n     \"<ul>\\n\"+\n     \"<li>re-rerun `output_notebook()` to attempt to load from CDN again, or</li>\\n\"+\n     \"<li>use INLINE resources instead, as so:</li>\\n\"+\n     \"</ul>\\n\"+\n     \"<code>\\n\"+\n     \"from bokeh.resources import INLINE\\n\"+\n     \"output_notebook(resources=INLINE)\\n\"+\n     \"</code>\\n\"+\n     \"</div>\"}};\n\n  function display_loaded() {\n    const el = document.getElementById(\"p1001\");\n    if (el != null) {\n      el.textContent = \"BokehJS is loading...\";\n    }\n    if (root.Bokeh !== undefined) {\n      if (el != null) {\n        el.textContent = \"BokehJS \" + root.Bokeh.version + \" successfully loaded.\";\n      }\n    } else if (Date.now() < root._bokeh_timeout) {\n      setTimeout(display_loaded, 100)\n    }\n  }\n\n  function run_callbacks() {\n    try {\n      root._bokeh_onload_callbacks.forEach(function(callback) {\n        if (callback != null)\n          callback();\n      });\n    } finally {\n      delete root._bokeh_onload_callbacks\n    }\n    console.debug(\"Bokeh: all callbacks have finished\");\n  }\n\n  function load_libs(css_urls, js_urls, callback) {\n    if (css_urls == null) css_urls = [];\n    if (js_urls == null) js_urls = [];\n\n    root._bokeh_onload_callbacks.push(callback);\n    if (root._bokeh_is_loading > 0) {\n      console.debug(\"Bokeh: BokehJS is being loaded, scheduling callback at\", now());\n      return null;\n    }\n    if (js_urls == null || js_urls.length === 0) {\n      run_callbacks();\n      return null;\n    }\n    console.debug(\"Bokeh: BokehJS not loaded, scheduling load and callback at\", now());\n    root._bokeh_is_loading = css_urls.length + js_urls.length;\n\n    function on_load() {\n      root._bokeh_is_loading--;\n      if (root._bokeh_is_loading === 0) {\n        console.debug(\"Bokeh: all BokehJS libraries/stylesheets loaded\");\n        run_callbacks()\n      }\n    }\n\n    function on_error(url) {\n      console.error(\"failed to load \" + url);\n    }\n\n    for (let i = 0; i < css_urls.length; i++) {\n      const url = css_urls[i];\n      const element = document.createElement(\"link\");\n      element.onload = on_load;\n      element.onerror = on_error.bind(null, url);\n      element.rel = \"stylesheet\";\n      element.type = \"text/css\";\n      element.href = url;\n      console.debug(\"Bokeh: injecting link tag for BokehJS stylesheet: \", url);\n      document.body.appendChild(element);\n    }\n\n    for (let i = 0; i < js_urls.length; i++) {\n      const url = js_urls[i];\n      const element = document.createElement('script');\n      element.onload = on_load;\n      element.onerror = on_error.bind(null, url);\n      element.async = false;\n      element.src = url;\n      console.debug(\"Bokeh: injecting script tag for BokehJS library: \", url);\n      document.head.appendChild(element);\n    }\n  };\n\n  function inject_raw_css(css) {\n    const element = document.createElement(\"style\");\n    element.appendChild(document.createTextNode(css));\n    document.body.appendChild(element);\n  }\n\n  const js_urls = [\"https://cdn.bokeh.org/bokeh/release/bokeh-3.0.2.min.js\", \"https://cdn.bokeh.org/bokeh/release/bokeh-gl-3.0.2.min.js\", \"https://cdn.bokeh.org/bokeh/release/bokeh-widgets-3.0.2.min.js\", \"https://cdn.bokeh.org/bokeh/release/bokeh-tables-3.0.2.min.js\", \"https://cdn.bokeh.org/bokeh/release/bokeh-mathjax-3.0.2.min.js\"];\n  const css_urls = [];\n\n  const inline_js = [    function(Bokeh) {\n      Bokeh.set_log_level(\"info\");\n    },\nfunction(Bokeh) {\n    }\n  ];\n\n  function run_inline_js() {\n    if (root.Bokeh !== undefined || force === true) {\n          for (let i = 0; i < inline_js.length; i++) {\n      inline_js[i].call(root, root.Bokeh);\n    }\nif (force === true) {\n        display_loaded();\n      }} else if (Date.now() < root._bokeh_timeout) {\n      setTimeout(run_inline_js, 100);\n    } else if (!root._bokeh_failed_load) {\n      console.log(\"Bokeh: BokehJS failed to load within specified timeout.\");\n      root._bokeh_failed_load = true;\n    } else if (force !== true) {\n      const cell = $(document.getElementById(\"p1001\")).parents('.cell').data().cell;\n      cell.output_area.append_execute_result(NB_LOAD_WARNING)\n    }\n  }\n\n  if (root._bokeh_is_loading === 0) {\n    console.debug(\"Bokeh: BokehJS loaded, going straight to plotting\");\n    run_inline_js();\n  } else {\n    load_libs(css_urls, js_urls, function() {\n      console.debug(\"Bokeh: BokehJS plotting callback run at\", now());\n      run_inline_js();\n    });\n  }\n}(window));"
     },
     "metadata": {},
     "output_type": "display_data"
    }
   ],
   "source": [
    "import pandas as pd\n",
    "import numpy as np\n",
    "#picaso\n",
    "from picaso import justdoit as jdi \n",
    "from picaso import justplotit as jpi\n",
    "#plotting\n",
    "jpi.output_notebook()"
   ]
  },
  {
   "cell_type": "markdown",
   "metadata": {},
   "source": [
    "### Connect to Opacity Database"
   ]
  },
  {
   "cell_type": "code",
   "execution_count": 2,
   "metadata": {
    "execution": {
     "iopub.execute_input": "2024-11-13T21:04:07.239279Z",
     "iopub.status.busy": "2024-11-13T21:04:07.238910Z",
     "iopub.status.idle": "2024-11-13T21:04:07.389475Z",
     "shell.execute_reply": "2024-11-13T21:04:07.388680Z"
    }
   },
   "outputs": [],
   "source": [
    "opacity = jdi.opannection(wave_range=[0.3,1])"
   ]
  },
  {
   "cell_type": "markdown",
   "metadata": {},
   "source": [
    "### Load blank slate"
   ]
  },
  {
   "cell_type": "code",
   "execution_count": 3,
   "metadata": {
    "execution": {
     "iopub.execute_input": "2024-11-13T21:04:07.393963Z",
     "iopub.status.busy": "2024-11-13T21:04:07.393685Z",
     "iopub.status.idle": "2024-11-13T21:04:07.396770Z",
     "shell.execute_reply": "2024-11-13T21:04:07.396285Z"
    }
   },
   "outputs": [],
   "source": [
    "sum_planet = jdi.inputs()"
   ]
  },
  {
   "cell_type": "markdown",
   "metadata": {},
   "source": [
    "### Set Planet & Star Properties "
   ]
  },
  {
   "cell_type": "code",
   "execution_count": 4,
   "metadata": {
    "execution": {
     "iopub.execute_input": "2024-11-13T21:04:07.401124Z",
     "iopub.status.busy": "2024-11-13T21:04:07.400914Z",
     "iopub.status.idle": "2024-11-13T21:04:07.713631Z",
     "shell.execute_reply": "2024-11-13T21:04:07.712869Z"
    }
   },
   "outputs": [],
   "source": [
    "#phase angle \n",
    "sum_planet.phase_angle(0) #radians\n",
    "\n",
    "#define gravity\n",
    "sum_planet.gravity(gravity=9.8, gravity_unit=jdi.u.Unit('m/(s**2)')) #any astropy units available\n",
    "\n",
    "#define star \n",
    "sum_planet.star(opacity,5000,0,4.0) #pysynphot database, temp, metallicity, logg "
   ]
  },
  {
   "cell_type": "markdown",
   "metadata": {},
   "source": [
    "## Add Surface Reflectivity\n",
    "\n",
    "For reflected light it is important to specify the surface albedo in case there are wavelength bands that are optically thin from molecular absorption. In those cases you will see the surface reflection in your spectra. \n",
    "\n",
    "For emission, it is important the surface reflectivity routine also tells the code that you have a \"hard surface\" boundary condition (opposed to a high pressure surface). Therefore if you are running reflected light, or thermal emission you will have to run the `surface_reflect` routine. \n",
    "\n",
    "**Therefore, it is critical that you run this routine for all terrestrial cases (reflected light and thermal emission**"
   ]
  },
  {
   "cell_type": "code",
   "execution_count": 5,
   "metadata": {
    "execution": {
     "iopub.execute_input": "2024-11-13T21:04:07.718386Z",
     "iopub.status.busy": "2024-11-13T21:04:07.718109Z",
     "iopub.status.idle": "2024-11-13T21:04:07.724026Z",
     "shell.execute_reply": "2024-11-13T21:04:07.723524Z"
    }
   },
   "outputs": [
    {
     "name": "stdout",
     "output_type": "stream",
     "text": [
      "Turning off Raman for Non-H2 atmosphere\n"
     ]
    }
   ],
   "source": [
    "sum_planet.atmosphere(df=pd.DataFrame({'pressure':np.logspace(-6,0,40),\n",
    "                         'temperature':np.linspace(100,270,40), #very fake temperature profile with a 270 K suface\n",
    "                         'H2O':np.zeros(40)+0.01,\n",
    "                         'CO2':np.zeros(40)+1-0.01}))\n",
    "\n",
    "sum_planet.surface_reflect(0.3,opacity.wno) #this inputs the surface reflectivity and tells the code \n",
    "                                            #there is a hard surface\n",
    "\n",
    "    \n",
    "#can also input a wavelength dependent quantity here\n",
    "#fake_surface= np.linspace(0.01,0.9, opacity.nwno)\n",
    "#sum_planet.surface_reflect(fake_surface,opacity.wno)"
   ]
  },
  {
   "cell_type": "markdown",
   "metadata": {},
   "source": [
    "Note you can turn off these printout messages with `verbose=False` in the `atmosphere` function"
   ]
  },
  {
   "cell_type": "markdown",
   "metadata": {},
   "source": [
    "## Create 1D Albedo Spectrum"
   ]
  },
  {
   "cell_type": "code",
   "execution_count": 6,
   "metadata": {
    "execution": {
     "iopub.execute_input": "2024-11-13T21:04:07.728704Z",
     "iopub.status.busy": "2024-11-13T21:04:07.728492Z",
     "iopub.status.idle": "2024-11-13T21:04:08.769285Z",
     "shell.execute_reply": "2024-11-13T21:04:08.768717Z"
    }
   },
   "outputs": [],
   "source": [
    "df = sum_planet.spectrum(opacity)"
   ]
  },
  {
   "cell_type": "code",
   "execution_count": 7,
   "metadata": {
    "execution": {
     "iopub.execute_input": "2024-11-13T21:04:08.773898Z",
     "iopub.status.busy": "2024-11-13T21:04:08.773614Z",
     "iopub.status.idle": "2024-11-13T21:04:08.779037Z",
     "shell.execute_reply": "2024-11-13T21:04:08.778524Z"
    }
   },
   "outputs": [],
   "source": [
    "wno, alb, fpfs = df['wavenumber'],df['albedo'],df['fpfs_reflected']\n",
    "wno, alb = jpi.mean_regrid(wno, alb, R=150)"
   ]
  },
  {
   "cell_type": "code",
   "execution_count": 8,
   "metadata": {
    "execution": {
     "iopub.execute_input": "2024-11-13T21:04:08.782954Z",
     "iopub.status.busy": "2024-11-13T21:04:08.782695Z",
     "iopub.status.idle": "2024-11-13T21:04:08.828408Z",
     "shell.execute_reply": "2024-11-13T21:04:08.827950Z"
    }
   },
   "outputs": [
    {
     "data": {
      "text/html": [
       "\n",
       "  <div id=\"5ec27e0b-7ef0-4cc9-a5fe-bccf0bd752ab\" data-root-id=\"p1002\" style=\"display: contents;\"></div>\n"
      ]
     },
     "metadata": {},
     "output_type": "display_data"
    },
    {
     "data": {
      "application/javascript": [
       "(function(root) {\n",
       "  function embed_document(root) {\n",
       "  const docs_json = {\"505e5d49-7a17-4e41-95d7-b4c5afe2f3f7\":{\"version\":\"3.0.2\",\"title\":\"Bokeh Application\",\"defs\":[],\"roots\":[{\"type\":\"object\",\"name\":\"Figure\",\"id\":\"p1002\",\"attributes\":{\"width\":500,\"height\":345,\"x_range\":{\"type\":\"object\",\"name\":\"DataRange1d\",\"id\":\"p1003\"},\"y_range\":{\"type\":\"object\",\"name\":\"DataRange1d\",\"id\":\"p1004\"},\"x_scale\":{\"type\":\"object\",\"name\":\"LinearScale\",\"id\":\"p1015\"},\"y_scale\":{\"type\":\"object\",\"name\":\"LinearScale\",\"id\":\"p1017\"},\"title\":{\"type\":\"object\",\"name\":\"Title\",\"id\":\"p1009\"},\"renderers\":[{\"type\":\"object\",\"name\":\"GlyphRenderer\",\"id\":\"p1054\",\"attributes\":{\"data_source\":{\"type\":\"object\",\"name\":\"ColumnDataSource\",\"id\":\"p1048\",\"attributes\":{\"selected\":{\"type\":\"object\",\"name\":\"Selection\",\"id\":\"p1049\",\"attributes\":{\"indices\":[],\"line_indices\":[]}},\"selection_policy\":{\"type\":\"object\",\"name\":\"UnionRenderers\",\"id\":\"p1050\"},\"data\":{\"type\":\"map\",\"entries\":[[\"x\",{\"type\":\"ndarray\",\"array\":{\"type\":\"bytes\",\"data\":\"aje9umj77z9XJEn5AcXvPwOLMsH3ju8/ZOMRdUlZ7z8AZIt49iPvP4Q6TTD+7u4/T8cNAmC67j8Y3IlUG4buP4H9go8vUu4/n6e9G5we7j9/lf9iYOvtP5MLDtB7uO0/BCWszu2F7T/rI5nLtVPtP2zEjjTTIe0/pJI/eEXw7D9sQ1UGDL/sP/EPb08mjuw/FhQgxZNd7D+Zr+3ZUy3sP/fpTQFm/es/Gtmlr8nN6z+xCkhafp7rP0HwcneDb+s/6k1PfthA6z/Nq+7mfBLrPyDKSSpw5Oo/4Rc/wrG26j8iLJEpQYnqP/RB5dsdXOo/4rbBVUcv6j/+i4wUvQLqP3jpiZZ+1uk/u6TaWouq6T8PyXrh4n7pP7giQKuEU+k/lszYOXAo6T8swMkPpf3oPyZobbAi0+g/RjXyn+io6D/FNVlj9n7oPwmvdIBLVeg/x7nmfecr6D+F4B/jyQLoP2nAXTjy2ec/a6ypBmCx5z/TUtfXEonnP/tkgzYKYec/cEESrkU55z9CoK7KxBHnP6RBSBmH6uY/wp6SJ4zD5j/bnAOE05zmP4NC0r1cduY/JW/1ZCdQ5j+ulCIKMyrmP19zzD5/BOY/0dchlQvf5T8OWwyg17nlP98kL/PilOU/G7DlIi1w5T8skULEtUvlP44+Dm18J+U/fNvFs4AD5T+NBJovwt/kP3WebXhAvOQ/w6bUJvuY5D+cBhPU8XXkP4ZnGxokU+Q/IgqOk5Ew5D/mnrfbOQ7kP9IgkI4c7OM/CrK5SDnK4z9sen+nj6jjPxGI1Egfh+M/r7FSy+dl4z/sejnO6ETjP4n6bPEhJOM/cMJ01ZID4z+nyXobO+PiPw1YSmUaw+I/9fNOVTCj4j+YUZOOfIPiP0tEwLT+Y+I/jrEbbLZE4j/ZhYdZoyXiPzurgCLFBuI/sQEebRvo4T9IWQ/gpcnhP/RtnCJkq+E/JOWj3FWN4T8VTZq2em/hP8sdiVnSUeE/yrsNb1w04T91fFihGBfhPxusK5sG+uA/s5XaBybd4D8zjEiTdsDgP5X15+n3o+A/dVe5uKmH4D9WZUqti2vgP3cQtXWdT+A/SZmewN4z4D95ojY9TxjgPxWLbDbd+d8/BlK+FXnD3z9OMPV5cY3fP344scXFV98/wi6eXHUi3z+XwXGjf+3eP2fF6f/juN4/S3PK2KGE3j+oqtyVuFDeP9o17J8nHd4/xxHGYO7p3T9cuDZDDLfdP/5tCLOAhN0/05EBHUtS3T/38OLuaiDdP3EcZpff7tw/GsI7hqi93D9ACAosxYzcPyHsavo0XNw/H6PqY/cr3D+9/gXcC/zbP17TKNdxzNs/s2Gsyiid2z/bwtUsMG7bP0BX1HSHP9s/DzjAGi4R2z9bq5iXI+PaP+eaQmVntdo/ig2H/viH2j8koxHf11raPywTb4MDLto/160LaXsB2j+23zEOP9XZP/S3CPJNqdk//nCSlKd92T+4+6p2S1LZPy+NBho5J9k/sS4wAXD82D9nUIiv79HYP1ReQ6m3p9g/vldoc8d92D8Fac+THlTYP8qHIJG8Ktg/hRHS8qAB2D9pbCdBy9jXP6CqLwU7sNc/3i/EyO+H1z86WYcW6V/XP04n43kmONc/qOoHf6cQ1z908uqya+nWP2M9RaNywtY/0iyS3rub1j8hOg70RnXWP0KutXMTT9Y/dVtD7iAp1j8lWS/1bgPWPwTCrRr93dU/L3St8cq41T+E09YN2JPVPxOOigMkb9U/m2LgZ65K1T8t6aXQdibVP9ldXdR8AtU/Ym08CsDe1D8LBCsKQLvUP2Eewmz8l9Q/DpxKy/R01D+jFLy/KFLUP3Guu+SXL9Q/R/ea1UEN1D80v1YuJuvTPzb1lYtEydM/34Woipyn0z/XO4bJLYbTP1yizeb3ZNM/kunCgfpD0z8=\"},\"shape\":[181],\"dtype\":\"float64\",\"order\":\"little\"}],[\"y\",{\"type\":\"ndarray\",\"array\":{\"type\":\"bytes\",\"data\":\"FAD9YRHQyT+IUQzRiwjJP7ERmGWRZMc/SDTQhq7Bwj/osv6/OW/BP4GSdUpzGb0/WXBWFSoGsj+7QsSpAUitP5HqkC7kvKg/1OrmnjTwqj90GyRAqsiZPzzWskV1obk/Z79f5TYgwj8g0z9DbOa9P0shvUj2Sr8/rwH5e83hwj8l0ZQxr87AP0zjbpw6ZMg/0WRrhkQayj84riB/647KPyKNW1DBRso/PMSblehYyT8AZmdlYOLKP9ww1/28uso/Kc2jKV5oyj+lpMwcr6TKPxIcumOCN8g/9sRH7ALTxj+ugj1esDbFP6uLtAkwD8U/YZBCX1fiwT8iC9ZZElDFPzeGo58qW8k/aYi58/kTxz+wSYD2aGzJP0PZM2Q+wck/ZnVW2bH9yT/ESmbyie7KP8TynoZpncs/h5bvpmutyz/Z9UmUWrrLPxeshKXexcs/4xZhni/Syz+2qcp/ldDLP4ogJssQt8s/YPkBCLYeyz+3hMjy3MDIP2jIx6wHTcY/3eHMLTxzwj+iq8D4XKTEP5Vl3XpqVMc/3anglc6Tyj+qO7IGdm/JP98IV362Q8k/UKec+A/Ayj/rcmOozzLKP1yh8XTKlMw/nT46QACezD8nUr+eMdzMP4/tO6W+9cw/h7HrPQcHzT97VOgDzRLNP5GQiJWpg8w/cSO9n2PLyz9pTqGqVhTMPyB8LJ6S7co/4S7CQzn/zD/qgcXCdH3NP7VJcJ4So80/Be+G8dYezT/yq8I5c5zNP4VGrIMZDM4/my5dVmwnzj84ThJkWELOP0eiPJ1NXM4/T7wJx+tuzj81lFUbHw/OPwuj1aDyAM0/xwepmCAAzD+1LHPsfhDMPyz287EUF84/lCc8f1z8zj+NGHX1r/nOPxV/ZRaB7c4/NkAjhbVGzz9a59UXg2/PP16Xx+eiy88/UbdTuOvwzz+jv9U9hAvQP8rfKBiKG9A/EBO9RlgP0D9SnYv3XhbQP6efbk9aDdA/ZIBi6e1j0D/gotLTy3vQP/6QK3BsjNA/SWBQCzCi0D/EJrO+7rfQP5a51JL8zdA/MjAJGdPi0D9eVnjZs/LQP8nJPLtjx9A/+ob0+9u10D+8J9VVsNXQP7Xmffk9TNE/5u0iF3ho0T8LqZTvG3/RP+uFIoTgldE/Letc1xut0T92gDIXnsjRP5GLIjwf4tE/vq8E6p360T/L8gT3UQ7SP/EryLQ0KNI/DHbD4d5E0j8WZY3bHGTSP4tRt+mlf9I/NKb4LwCb0j/7wV451LbSPzUzkCph09I/ZHGJswLt0j9Wdd9SJQLTPyTqMWrbF9M/xbwmfnpG0z8eR+EmD2fTPyYN5jRFhtM/Xi6O+3Ol0z9AWbngksTTP8uKP+u85NM/tJzES/oF1D96z6AplibUP0IONJLyRdQ/qSlGFfVq1D81SLlfpY3UP3jQWEkNsdQ/WM6lr6TU1D94XUsKk/jUP/cc7E3kGNU/DxrEsmA+1T+LCWrkSmjVP1uOihMrj9U/0A9tsEa21T93NYPl8t3VPzUJfdtgBtY/Gd/4mwMv1j/1GRwskljWP02D4EDVgtY/91dvPqWt1j/8nXJrCNnWPyfLNclwBdc//wcvvywy1z+Ujek73V7XP9CXSvjKjNc/kWCt48i81z83yPq3VezXP0vi+pH7HNg/BeIX2ANO2D/gN06xwH/YP7h4VPmKstg/Ru9u9MLl2D+iOIWyrhnZP8v4GZTFTtk/JKfI+ECE2T9YfRg6RrrZPz5TKbqD8dk/AOyYkXEp2j8kZAIg0mHaPwcO8Slzm9o/+27b003V2j8Obgwq6g/bPwFvg1OlS9s/3tz+/aKH2z9izq3FRcTbP/i4ZLIEAtw/IhoY/uQ/3D+col7qlX7cP8ARWTg5vtw/eVpfr/f93D9nPCNBRT7dP6bQo5WTf90/9XWyZWLB3T8=\"},\"shape\":[181],\"dtype\":\"float64\",\"order\":\"little\"}]]}}},\"view\":{\"type\":\"object\",\"name\":\"CDSView\",\"id\":\"p1055\",\"attributes\":{\"filter\":{\"type\":\"object\",\"name\":\"AllIndices\",\"id\":\"p1056\"}}},\"glyph\":{\"type\":\"object\",\"name\":\"Line\",\"id\":\"p1051\",\"attributes\":{\"x\":{\"type\":\"field\",\"field\":\"x\"},\"y\":{\"type\":\"field\",\"field\":\"y\"},\"line_color\":\"#0072B2\",\"line_width\":3}},\"nonselection_glyph\":{\"type\":\"object\",\"name\":\"Line\",\"id\":\"p1052\",\"attributes\":{\"x\":{\"type\":\"field\",\"field\":\"x\"},\"y\":{\"type\":\"field\",\"field\":\"y\"},\"line_color\":\"#0072B2\",\"line_alpha\":0.1,\"line_width\":3}},\"muted_glyph\":{\"type\":\"object\",\"name\":\"Line\",\"id\":\"p1053\",\"attributes\":{\"x\":{\"type\":\"field\",\"field\":\"x\"},\"y\":{\"type\":\"field\",\"field\":\"y\"},\"line_color\":\"#0072B2\",\"line_alpha\":0.2,\"line_width\":3}}}}],\"toolbar\":{\"type\":\"object\",\"name\":\"Toolbar\",\"id\":\"p1007\",\"attributes\":{\"tools\":[{\"type\":\"object\",\"name\":\"PanTool\",\"id\":\"p1033\"},{\"type\":\"object\",\"name\":\"WheelZoomTool\",\"id\":\"p1034\"},{\"type\":\"object\",\"name\":\"BoxZoomTool\",\"id\":\"p1035\",\"attributes\":{\"overlay\":{\"type\":\"object\",\"name\":\"BoxAnnotation\",\"id\":\"p1036\",\"attributes\":{\"syncable\":false,\"level\":\"overlay\",\"visible\":false,\"left_units\":\"canvas\",\"right_units\":\"canvas\",\"bottom_units\":\"canvas\",\"top_units\":\"canvas\",\"line_color\":\"black\",\"line_alpha\":1.0,\"line_width\":2,\"line_dash\":[4,4],\"fill_color\":\"lightgrey\",\"fill_alpha\":0.5}}}},{\"type\":\"object\",\"name\":\"SaveTool\",\"id\":\"p1037\"},{\"type\":\"object\",\"name\":\"ResetTool\",\"id\":\"p1038\"},{\"type\":\"object\",\"name\":\"HelpTool\",\"id\":\"p1039\"}]}},\"left\":[{\"type\":\"object\",\"name\":\"LinearAxis\",\"id\":\"p1026\",\"attributes\":{\"ticker\":{\"type\":\"object\",\"name\":\"BasicTicker\",\"id\":\"p1028\",\"attributes\":{\"mantissas\":[1,2,5]}},\"formatter\":{\"type\":\"object\",\"name\":\"BasicTickFormatter\",\"id\":\"p1029\"},\"axis_label\":\"Spectrum\",\"axis_label_text_font\":\"times\",\"axis_label_text_font_size\":\"14pt\",\"axis_label_text_font_style\":\"bold\",\"major_label_policy\":{\"type\":\"object\",\"name\":\"AllLabels\",\"id\":\"p1027\"},\"major_label_text_font\":\"times\",\"major_label_text_font_size\":\"14pt\"}},{\"type\":\"object\",\"name\":\"Legend\",\"id\":\"p1057\",\"attributes\":{\"location\":[0,0],\"click_policy\":\"mute\"}}],\"below\":[{\"type\":\"object\",\"name\":\"LinearAxis\",\"id\":\"p1019\",\"attributes\":{\"ticker\":{\"type\":\"object\",\"name\":\"BasicTicker\",\"id\":\"p1021\",\"attributes\":{\"mantissas\":[1,2,5]}},\"formatter\":{\"type\":\"object\",\"name\":\"BasicTickFormatter\",\"id\":\"p1022\"},\"axis_label\":\"Wavelength [\\u03bcm]\",\"axis_label_text_font\":\"times\",\"axis_label_text_font_size\":\"14pt\",\"axis_label_text_font_style\":\"bold\",\"major_label_policy\":{\"type\":\"object\",\"name\":\"AllLabels\",\"id\":\"p1020\"},\"major_label_text_font\":\"times\",\"major_label_text_font_size\":\"14pt\"}}],\"center\":[{\"type\":\"object\",\"name\":\"Grid\",\"id\":\"p1025\",\"attributes\":{\"axis\":{\"id\":\"p1019\"}}},{\"type\":\"object\",\"name\":\"Grid\",\"id\":\"p1032\",\"attributes\":{\"dimension\":1,\"axis\":{\"id\":\"p1026\"}}}]}}]}};\n",
       "  const render_items = [{\"docid\":\"505e5d49-7a17-4e41-95d7-b4c5afe2f3f7\",\"roots\":{\"p1002\":\"5ec27e0b-7ef0-4cc9-a5fe-bccf0bd752ab\"},\"root_ids\":[\"p1002\"]}];\n",
       "  root.Bokeh.embed.embed_items_notebook(docs_json, render_items);\n",
       "  }\n",
       "  if (root.Bokeh !== undefined) {\n",
       "    embed_document(root);\n",
       "  } else {\n",
       "    let attempts = 0;\n",
       "    const timer = setInterval(function(root) {\n",
       "      if (root.Bokeh !== undefined) {\n",
       "        clearInterval(timer);\n",
       "        embed_document(root);\n",
       "      } else {\n",
       "        attempts++;\n",
       "        if (attempts > 100) {\n",
       "          clearInterval(timer);\n",
       "          console.log(\"Bokeh: ERROR: Unable to run BokehJS code because BokehJS library is missing\");\n",
       "        }\n",
       "      }\n",
       "    }, 10, root)\n",
       "  }\n",
       "})(window);"
      ],
      "application/vnd.bokehjs_exec.v0+json": ""
     },
     "metadata": {
      "application/vnd.bokehjs_exec.v0+json": {
       "id": "p1002"
      }
     },
     "output_type": "display_data"
    }
   ],
   "source": [
    "jpi.show(jpi.spectrum([wno], [alb], plot_width=500))"
   ]
  },
  {
   "cell_type": "markdown",
   "metadata": {},
   "source": [
    "What about contrast units? "
   ]
  },
  {
   "cell_type": "code",
   "execution_count": 9,
   "metadata": {
    "execution": {
     "iopub.execute_input": "2024-11-13T21:04:08.833726Z",
     "iopub.status.busy": "2024-11-13T21:04:08.833477Z",
     "iopub.status.idle": "2024-11-13T21:04:08.838244Z",
     "shell.execute_reply": "2024-11-13T21:04:08.837797Z"
    }
   },
   "outputs": [
    {
     "data": {
      "text/plain": [
       "['Semi-major axis not supplied. If you want fpfs, add it to `star` function. ',\n",
       " 'Planet Radius not supplied. If you want fpfs, add it to `gravity` function with a mass.']"
      ]
     },
     "execution_count": 9,
     "metadata": {},
     "output_type": "execute_result"
    }
   ],
   "source": [
    "fpfs"
   ]
  },
  {
   "cell_type": "markdown",
   "metadata": {},
   "source": [
    "### Get Contrast Units  \n",
    "\n",
    "In order to get contrast units we have to make sure to give the `gravity` and `star` functions semi major axis, mass and radius."
   ]
  },
  {
   "cell_type": "code",
   "execution_count": 10,
   "metadata": {
    "execution": {
     "iopub.execute_input": "2024-11-13T21:04:08.841662Z",
     "iopub.status.busy": "2024-11-13T21:04:08.841416Z",
     "iopub.status.idle": "2024-11-13T21:04:09.849978Z",
     "shell.execute_reply": "2024-11-13T21:04:09.849276Z"
    }
   },
   "outputs": [],
   "source": [
    "sum_planet.star(opacity,5000,0,4.0,semi_major=1, semi_major_unit=jdi.u.Unit('au')) \n",
    "sum_planet.gravity(radius=1.,radius_unit=jdi.u.Unit('R_earth'), \n",
    "             mass=1,mass_unit=jdi.u.Unit('M_earth')) \n",
    "df = sum_planet.spectrum(opacity)\n",
    "wno, alb, fpfs = df['wavenumber'],df['albedo'],df['fpfs_reflected']\n",
    "wno, fpfs = jdi.mean_regrid(wno, fpfs , R=150)\n"
   ]
  },
  {
   "cell_type": "code",
   "execution_count": 11,
   "metadata": {
    "execution": {
     "iopub.execute_input": "2024-11-13T21:04:09.854535Z",
     "iopub.status.busy": "2024-11-13T21:04:09.854260Z",
     "iopub.status.idle": "2024-11-13T21:04:09.900785Z",
     "shell.execute_reply": "2024-11-13T21:04:09.900337Z"
    }
   },
   "outputs": [
    {
     "data": {
      "text/html": [
       "\n",
       "  <div id=\"227c05e4-88ba-4690-8e00-245c286833de\" data-root-id=\"p1147\" style=\"display: contents;\"></div>\n"
      ]
     },
     "metadata": {},
     "output_type": "display_data"
    },
    {
     "data": {
      "application/javascript": [
       "(function(root) {\n",
       "  function embed_document(root) {\n",
       "  const docs_json = {\"c757e63a-bb9e-4c2c-9450-93b2a0986660\":{\"version\":\"3.0.2\",\"title\":\"Bokeh Application\",\"defs\":[],\"roots\":[{\"type\":\"object\",\"name\":\"Figure\",\"id\":\"p1147\",\"attributes\":{\"width\":500,\"height\":345,\"x_range\":{\"type\":\"object\",\"name\":\"DataRange1d\",\"id\":\"p1148\"},\"y_range\":{\"type\":\"object\",\"name\":\"DataRange1d\",\"id\":\"p1149\"},\"x_scale\":{\"type\":\"object\",\"name\":\"LinearScale\",\"id\":\"p1160\"},\"y_scale\":{\"type\":\"object\",\"name\":\"LinearScale\",\"id\":\"p1162\"},\"title\":{\"type\":\"object\",\"name\":\"Title\",\"id\":\"p1154\"},\"renderers\":[{\"type\":\"object\",\"name\":\"GlyphRenderer\",\"id\":\"p1199\",\"attributes\":{\"data_source\":{\"type\":\"object\",\"name\":\"ColumnDataSource\",\"id\":\"p1193\",\"attributes\":{\"selected\":{\"type\":\"object\",\"name\":\"Selection\",\"id\":\"p1194\",\"attributes\":{\"indices\":[],\"line_indices\":[]}},\"selection_policy\":{\"type\":\"object\",\"name\":\"UnionRenderers\",\"id\":\"p1195\"},\"data\":{\"type\":\"map\",\"entries\":[[\"x\",{\"type\":\"ndarray\",\"array\":{\"type\":\"bytes\",\"data\":\"aje9umj77z9XJEn5AcXvPwOLMsH3ju8/ZOMRdUlZ7z8AZIt49iPvP4Q6TTD+7u4/T8cNAmC67j8Y3IlUG4buP4H9go8vUu4/n6e9G5we7j9/lf9iYOvtP5MLDtB7uO0/BCWszu2F7T/rI5nLtVPtP2zEjjTTIe0/pJI/eEXw7D9sQ1UGDL/sP/EPb08mjuw/FhQgxZNd7D+Zr+3ZUy3sP/fpTQFm/es/Gtmlr8nN6z+xCkhafp7rP0HwcneDb+s/6k1PfthA6z/Nq+7mfBLrPyDKSSpw5Oo/4Rc/wrG26j8iLJEpQYnqP/RB5dsdXOo/4rbBVUcv6j/+i4wUvQLqP3jpiZZ+1uk/u6TaWouq6T8PyXrh4n7pP7giQKuEU+k/lszYOXAo6T8swMkPpf3oPyZobbAi0+g/RjXyn+io6D/FNVlj9n7oPwmvdIBLVeg/x7nmfecr6D+F4B/jyQLoP2nAXTjy2ec/a6ypBmCx5z/TUtfXEonnP/tkgzYKYec/cEESrkU55z9CoK7KxBHnP6RBSBmH6uY/wp6SJ4zD5j/bnAOE05zmP4NC0r1cduY/JW/1ZCdQ5j+ulCIKMyrmP19zzD5/BOY/0dchlQvf5T8OWwyg17nlP98kL/PilOU/G7DlIi1w5T8skULEtUvlP44+Dm18J+U/fNvFs4AD5T+NBJovwt/kP3WebXhAvOQ/w6bUJvuY5D+cBhPU8XXkP4ZnGxokU+Q/IgqOk5Ew5D/mnrfbOQ7kP9IgkI4c7OM/CrK5SDnK4z9sen+nj6jjPxGI1Egfh+M/r7FSy+dl4z/sejnO6ETjP4n6bPEhJOM/cMJ01ZID4z+nyXobO+PiPw1YSmUaw+I/9fNOVTCj4j+YUZOOfIPiP0tEwLT+Y+I/jrEbbLZE4j/ZhYdZoyXiPzurgCLFBuI/sQEebRvo4T9IWQ/gpcnhP/RtnCJkq+E/JOWj3FWN4T8VTZq2em/hP8sdiVnSUeE/yrsNb1w04T91fFihGBfhPxusK5sG+uA/s5XaBybd4D8zjEiTdsDgP5X15+n3o+A/dVe5uKmH4D9WZUqti2vgP3cQtXWdT+A/SZmewN4z4D95ojY9TxjgPxWLbDbd+d8/BlK+FXnD3z9OMPV5cY3fP344scXFV98/wi6eXHUi3z+XwXGjf+3eP2fF6f/juN4/S3PK2KGE3j+oqtyVuFDeP9o17J8nHd4/xxHGYO7p3T9cuDZDDLfdP/5tCLOAhN0/05EBHUtS3T/38OLuaiDdP3EcZpff7tw/GsI7hqi93D9ACAosxYzcPyHsavo0XNw/H6PqY/cr3D+9/gXcC/zbP17TKNdxzNs/s2Gsyiid2z/bwtUsMG7bP0BX1HSHP9s/DzjAGi4R2z9bq5iXI+PaP+eaQmVntdo/ig2H/viH2j8koxHf11raPywTb4MDLto/160LaXsB2j+23zEOP9XZP/S3CPJNqdk//nCSlKd92T+4+6p2S1LZPy+NBho5J9k/sS4wAXD82D9nUIiv79HYP1ReQ6m3p9g/vldoc8d92D8Fac+THlTYP8qHIJG8Ktg/hRHS8qAB2D9pbCdBy9jXP6CqLwU7sNc/3i/EyO+H1z86WYcW6V/XP04n43kmONc/qOoHf6cQ1z908uqya+nWP2M9RaNywtY/0iyS3rub1j8hOg70RnXWP0KutXMTT9Y/dVtD7iAp1j8lWS/1bgPWPwTCrRr93dU/L3St8cq41T+E09YN2JPVPxOOigMkb9U/m2LgZ65K1T8t6aXQdibVP9ldXdR8AtU/Ym08CsDe1D8LBCsKQLvUP2Eewmz8l9Q/DpxKy/R01D+jFLy/KFLUP3Guu+SXL9Q/R/ea1UEN1D80v1YuJuvTPzb1lYtEydM/34Woipyn0z/XO4bJLYbTP1yizeb3ZNM/kunCgfpD0z8=\"},\"shape\":[181],\"dtype\":\"float64\",\"order\":\"little\"}],[\"y\",{\"type\":\"ndarray\",\"array\":{\"type\":\"bytes\",\"data\":\"Np4LFioGOD9uQWRNRkw3P4W41oI1xTU/8PrhoR50MT/m3BokCzkwPzRYILU1Eys/jAbzfm7EID8ra6xJIT0bP6FNFYfYAhc/hoI6Bz4OGT8hoFwXJfoHP7+nAan92Cc/6WRVdc/dMD/lQFtC+9ErP9FUtkonHi0/FP9ylkuSMT/E1kEN00cvP+cCe0dyszY/uajo5WNLOD+UGIMIBbg4P28+MnzJdDg/uzaSglmXNz+QVZBUzwU5P5pdydfh4Dg/awKrcyqUOD8XBFX4Wcw4P/gk3bHBiTY/AKuD9dU9NT+O0ZqS4r0zPyr2I/JJmTM/WRhv/pqkMD/5jlv3rNUzP+HKnYV3mTc/rL+kr0x6NT/vBCmwm6k3P71wW6SI+Dc/AmBM7tcwOD/CNA0ANBE5P6tTWYImtDk/R1yzQBLDOT8CqEFWIM85PxB7w1nc2Tk/53fqEFflOT/fyyb41+M5P3692hkPzDk/r2WW2iI+OT+hMbAP2Qk3P4b/4QM9wTQ/9hGVBI8rMT/wsIG37zUzPwJukNqutjU/dgUO/aC8OD+GAn+heKw3P7D+eCzRgzc/ysAPGxjmOD8jLhrdkWI4P1Lwn+y3mjo/pFf0+UajOj/tUVZeQ906P/7ccBkU9To/x3gZRS8FOz/TDAOAKBA7P4z8bz3Aijo/bLaytRvfOT9XwQ4yFiM6P2OtivKQEDk/jHmd4+H9Oj9K0Sngi3M7P3CLb1edljs/APkA41kbOz9hUFDyZ5A7P4H23cx6+Ds/RJkXFPERPD87MbJlBys8P7n7T3g3Qzw/rvFzOZBUPD8PvNO+Pvs7P14GSFKR/zo/x+YebngQOj/6eNzspx86P6uw9PWxAjw/k/0si1XYPD/y4M101NU8Pyi2Q6Z3yjw/i0T8TJ0dPT+/YkFhoEM9P3+/OvZ6mT0/DuNvnji8PT8tWlqVu989P8+iEKmW/T0/SSbmVNPmPT/TQKUn6fM9PxycNxQM4z0/PJcQ+XeEPj/1u0IP8rA+Py4uflrrzz4/D5D8FHn4Pj+QJe8T/iA/P7vnD7QVSj8/yngmzehwPz+5frVmfI4/Pz2Y9PG2PT8/KPIVVhMdPz/cXXxvUlg/PwHw5nmnGkA/GsD71vM0QD+1YKG8CkpAP+9hR1JAX0A/NwdTNOR0QD9sbgKZhI5APzQYI6tGpkA/PgL5yBe9QD/6imo/cc9APz4dcuqN50A/G3YLwUECQT+87C/mXB9BP2/1rh8DOUE/ysBor31SQT+mA56oaWxBP+oLU+YBh0E/XvOUg+GeQT839ThIkLJBP6uxhBjJxkE/4tDiNzjyQT8MhH/ZkRBCPzDLp5CkLUI/cksqe7BKQj8nrwd7rWdCP9f2MWyjhUI/ljftF5qkQj8wPeAT+sJCP7u9CO0v4EI/FXDbT6oCQz8w1CNs+iJDP90Cvp31Q0M/B0FpDR1lQz8FRGJ8lYZDP8+z1QCvpEM/PzmkhprHQz+kHRECp+5DPzwhcbzdEkQ/UNbN6Us3RD9zoX3MQFxEP4ipYCTqgUQ/2cdao8SnRD/FspTles5EP7n4uT3Z9UQ/eflC3rodRT8962WVJUZFP3X4zZWDb0U/aTCUbC+ZRT9BFNZg0MJFP6mkCseY7UU/RABfpk0aRj9GcNPEmEZGP5Z4gZnpc0Y/I8VzBpahRj+pgz+K6s9GP8lzaOU5/0Y/0eZbUe8uRz91sQAGTF9HP1DGKza/kEc/PGoz24/CRz+E146o4PRHPxl6zBZUKEg/OOoOpWtcSD+3GSm27ZBIPw656gaaxkg/745ctHv8SD+/VJx2ETNJPzEoVAOyakk/LqDtJ5CiST9e9T2wB9tJPyVnn3CHFEo/WwYe1CVOSj9g4BUphohKP6AiW67Hw0o/0sLOBiL/Sj9BE/ciATtLPwSC/szOd0s/0pmwjxO1Sz8=\"},\"shape\":[181],\"dtype\":\"float64\",\"order\":\"little\"}]]}}},\"view\":{\"type\":\"object\",\"name\":\"CDSView\",\"id\":\"p1200\",\"attributes\":{\"filter\":{\"type\":\"object\",\"name\":\"AllIndices\",\"id\":\"p1201\"}}},\"glyph\":{\"type\":\"object\",\"name\":\"Line\",\"id\":\"p1196\",\"attributes\":{\"x\":{\"type\":\"field\",\"field\":\"x\"},\"y\":{\"type\":\"field\",\"field\":\"y\"},\"line_color\":\"#0072B2\",\"line_width\":3}},\"nonselection_glyph\":{\"type\":\"object\",\"name\":\"Line\",\"id\":\"p1197\",\"attributes\":{\"x\":{\"type\":\"field\",\"field\":\"x\"},\"y\":{\"type\":\"field\",\"field\":\"y\"},\"line_color\":\"#0072B2\",\"line_alpha\":0.1,\"line_width\":3}},\"muted_glyph\":{\"type\":\"object\",\"name\":\"Line\",\"id\":\"p1198\",\"attributes\":{\"x\":{\"type\":\"field\",\"field\":\"x\"},\"y\":{\"type\":\"field\",\"field\":\"y\"},\"line_color\":\"#0072B2\",\"line_alpha\":0.2,\"line_width\":3}}}}],\"toolbar\":{\"type\":\"object\",\"name\":\"Toolbar\",\"id\":\"p1152\",\"attributes\":{\"tools\":[{\"type\":\"object\",\"name\":\"PanTool\",\"id\":\"p1178\"},{\"type\":\"object\",\"name\":\"WheelZoomTool\",\"id\":\"p1179\"},{\"type\":\"object\",\"name\":\"BoxZoomTool\",\"id\":\"p1180\",\"attributes\":{\"overlay\":{\"type\":\"object\",\"name\":\"BoxAnnotation\",\"id\":\"p1181\",\"attributes\":{\"syncable\":false,\"level\":\"overlay\",\"visible\":false,\"left_units\":\"canvas\",\"right_units\":\"canvas\",\"bottom_units\":\"canvas\",\"top_units\":\"canvas\",\"line_color\":\"black\",\"line_alpha\":1.0,\"line_width\":2,\"line_dash\":[4,4],\"fill_color\":\"lightgrey\",\"fill_alpha\":0.5}}}},{\"type\":\"object\",\"name\":\"SaveTool\",\"id\":\"p1182\"},{\"type\":\"object\",\"name\":\"ResetTool\",\"id\":\"p1183\"},{\"type\":\"object\",\"name\":\"HelpTool\",\"id\":\"p1184\"}]}},\"left\":[{\"type\":\"object\",\"name\":\"LinearAxis\",\"id\":\"p1171\",\"attributes\":{\"ticker\":{\"type\":\"object\",\"name\":\"BasicTicker\",\"id\":\"p1173\",\"attributes\":{\"mantissas\":[1,2,5]}},\"formatter\":{\"type\":\"object\",\"name\":\"BasicTickFormatter\",\"id\":\"p1174\"},\"axis_label\":\"Spectrum\",\"axis_label_text_font\":\"times\",\"axis_label_text_font_size\":\"14pt\",\"axis_label_text_font_style\":\"bold\",\"major_label_policy\":{\"type\":\"object\",\"name\":\"AllLabels\",\"id\":\"p1172\"},\"major_label_text_font\":\"times\",\"major_label_text_font_size\":\"14pt\"}},{\"type\":\"object\",\"name\":\"Legend\",\"id\":\"p1202\",\"attributes\":{\"location\":[0,0],\"click_policy\":\"mute\"}}],\"below\":[{\"type\":\"object\",\"name\":\"LinearAxis\",\"id\":\"p1164\",\"attributes\":{\"ticker\":{\"type\":\"object\",\"name\":\"BasicTicker\",\"id\":\"p1166\",\"attributes\":{\"mantissas\":[1,2,5]}},\"formatter\":{\"type\":\"object\",\"name\":\"BasicTickFormatter\",\"id\":\"p1167\"},\"axis_label\":\"Wavelength [\\u03bcm]\",\"axis_label_text_font\":\"times\",\"axis_label_text_font_size\":\"14pt\",\"axis_label_text_font_style\":\"bold\",\"major_label_policy\":{\"type\":\"object\",\"name\":\"AllLabels\",\"id\":\"p1165\"},\"major_label_text_font\":\"times\",\"major_label_text_font_size\":\"14pt\"}}],\"center\":[{\"type\":\"object\",\"name\":\"Grid\",\"id\":\"p1170\",\"attributes\":{\"axis\":{\"id\":\"p1164\"}}},{\"type\":\"object\",\"name\":\"Grid\",\"id\":\"p1177\",\"attributes\":{\"dimension\":1,\"axis\":{\"id\":\"p1171\"}}}]}}]}};\n",
       "  const render_items = [{\"docid\":\"c757e63a-bb9e-4c2c-9450-93b2a0986660\",\"roots\":{\"p1147\":\"227c05e4-88ba-4690-8e00-245c286833de\"},\"root_ids\":[\"p1147\"]}];\n",
       "  root.Bokeh.embed.embed_items_notebook(docs_json, render_items);\n",
       "  }\n",
       "  if (root.Bokeh !== undefined) {\n",
       "    embed_document(root);\n",
       "  } else {\n",
       "    let attempts = 0;\n",
       "    const timer = setInterval(function(root) {\n",
       "      if (root.Bokeh !== undefined) {\n",
       "        clearInterval(timer);\n",
       "        embed_document(root);\n",
       "      } else {\n",
       "        attempts++;\n",
       "        if (attempts > 100) {\n",
       "          clearInterval(timer);\n",
       "          console.log(\"Bokeh: ERROR: Unable to run BokehJS code because BokehJS library is missing\");\n",
       "        }\n",
       "      }\n",
       "    }, 10, root)\n",
       "  }\n",
       "})(window);"
      ],
      "application/vnd.bokehjs_exec.v0+json": ""
     },
     "metadata": {
      "application/vnd.bokehjs_exec.v0+json": {
       "id": "p1147"
      }
     },
     "output_type": "display_data"
    }
   ],
   "source": [
    "jpi.show(jpi.spectrum([wno], [fpfs*1e6], plot_width=500))"
   ]
  }
 ],
 "metadata": {
  "kernelspec": {
   "display_name": "Python 3 (ipykernel)",
   "language": "python",
   "name": "python3"
  },
  "language_info": {
   "codemirror_mode": {
    "name": "ipython",
    "version": 3
   },
   "file_extension": ".py",
   "mimetype": "text/x-python",
   "name": "python",
   "nbconvert_exporter": "python",
   "pygments_lexer": "ipython3",
   "version": "3.11.8"
  },
  "toc": {
   "base_numbering": 1,
   "nav_menu": {},
   "number_sections": true,
   "sideBar": true,
   "skip_h1_title": false,
   "title_cell": "Table of Contents",
   "title_sidebar": "Contents",
   "toc_cell": true,
   "toc_position": {},
   "toc_section_display": true,
   "toc_window_display": false
  }
 },
 "nbformat": 4,
 "nbformat_minor": 2
}
