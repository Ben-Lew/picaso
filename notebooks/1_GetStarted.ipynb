{
 "cells": [
  {
   "cell_type": "markdown",
   "metadata": {},
   "source": [
    "# Setting up and running PICASO \n",
    "\n",
    "Follow installation guide to set up reference files and opacities. \n",
    "[INSERT LINK]"
   ]
  },
  {
   "cell_type": "code",
   "execution_count": 1,
   "metadata": {},
   "outputs": [
    {
     "name": "stderr",
     "output_type": "stream",
     "text": [
      "/Users/natashabatalha/anaconda3/lib/python3.6/site-packages/h5py/__init__.py:34: FutureWarning: Conversion of the second argument of issubdtype from `float` to `np.floating` is deprecated. In future, it will be treated as `np.float64 == np.dtype(float).type`.\n",
      "  from ._conv import register_converters as _register_converters\n",
      "/Users/natashabatalha/anaconda3/lib/python3.6/site-packages/pysynphot/locations.py:329: UserWarning: Extinction files not found in /Users/natashabatalha/pysynphot_data/extinction\n",
      "  warnings.warn('Extinction files not found in %s' % (extdir, ))\n",
      "/Users/natashabatalha/anaconda3/lib/python3.6/site-packages/pysynphot/refs.py:118: UserWarning: No graph or component tables found; functionality will be SEVERELY crippled. No files found for /Users/natashabatalha/pysynphot_data/mtab/*_tmg.fits\n",
      "  'functionality will be SEVERELY crippled. ' + str(e))\n",
      "/Users/natashabatalha/anaconda3/lib/python3.6/site-packages/pysynphot/refs.py:125: UserWarning: No thermal tables found, no thermal calculations can be performed. No files found for /Users/natashabatalha/pysynphot_data/mtab/*_tmt.fits\n",
      "  'no thermal calculations can be performed. ' + str(e))\n"
     ]
    }
   ],
   "source": [
    "import numpy as np\n",
    "import pandas as pd\n",
    "#picaso\n",
    "from picaso import justdoit as jdi \n",
    "from picaso import justplotit as jpi"
   ]
  },
  {
   "cell_type": "code",
   "execution_count": 2,
   "metadata": {
    "collapsed": true
   },
   "outputs": [],
   "source": [
    "#if you are familiar with PandExo, this setup will be a familiar process \n",
    "all_inputs = jdi.load_inputs()"
   ]
  },
  {
   "cell_type": "markdown",
   "metadata": {},
   "source": [
    "## Set Planet & Star Properties "
   ]
  },
  {
   "cell_type": "code",
   "execution_count": 3,
   "metadata": {},
   "outputs": [],
   "source": [
    "#gravity \n",
    "all_inputs['planet']['gravity'] = 25\n",
    "all_inputs['planet']['gravity_unit'] = 'm/(s**2)' #any astropy units are okay here \n",
    "#can also enter in radius and mass \n",
    "#all_inputs['planet']['mass']=1\n",
    "#all_inputs['planet']['mass_unit'] = 'M_earth' (radius would be the same but with 'radius' and 'radius_unit')\n",
    "\n",
    "#add star properties \n",
    "all_inputs['star']['temp'] = 6000 #kelvin\n",
    "all_inputs['star']['metal'] = 0.0122 #log metal\n",
    "all_inputs['star']['logg'] = 4.437 #log cgs"
   ]
  },
  {
   "cell_type": "markdown",
   "metadata": {},
   "source": [
    "## Define Atmospheric Composition"
   ]
  },
  {
   "cell_type": "markdown",
   "metadata": {},
   "source": [
    "### Option 1) Specify file path "
   ]
  },
  {
   "cell_type": "code",
   "execution_count": 4,
   "metadata": {
    "collapsed": true
   },
   "outputs": [],
   "source": [
    "all_inputs['atmosphere']['profile']['filepath'] = jdi.jupiter_pt() #this is a pointer to a preloaded PT profile \n",
    "                                                                   #to help guide us"
   ]
  },
  {
   "cell_type": "markdown",
   "metadata": {},
   "source": [
    "### File format Specifications\n",
    "1) Must have header which includes.. \n",
    "- At least **pressure**(bars), **temperature**(Kelvin), and `case sensitive` molecule names (e.g. TiO, Na, H2O, etc) for mixing ratios (in no particular order)\n",
    "\n",
    "2) Must be white space delimeted \n",
    "\n",
    "#### PICASO will auto-compute mixing ratios, determine what CIA is neceesary and compute mean molecular weight based on these headers. Take at the preloaded example below"
   ]
  },
  {
   "cell_type": "code",
   "execution_count": null,
   "metadata": {},
   "outputs": [],
   "source": [
    "comp_file = pd.read_csv(jdi.jupiter_pt(), delim_whitespace=True)\n",
    "#see example below\n",
    "comp_file.head()"
   ]
  },
  {
   "cell_type": "markdown",
   "metadata": {},
   "source": [
    "### Or... Option 2) Give arbitrary pressure, temperature and mixing ratios for simple atmospheres\n"
   ]
  },
  {
   "cell_type": "code",
   "execution_count": null,
   "metadata": {},
   "outputs": [],
   "source": [
    "all_inputs['atmosphere']['profile']['profile'] = pd.DataFrame({'pressure':np.logspace(-6,2,60),\n",
    "                                                 'temperature':np.logspace(-6,2,60)*0+200,\n",
    "                                                 \"H2\":np.logspace(-6,2,60)*0+0.837,\n",
    "                                                 \"He\":np.logspace(-6,2,60)*0+0.163,\n",
    "                                                 \"CH4\":np.logspace(-6,2,60)*0+0.000466})"
   ]
  },
  {
   "cell_type": "markdown",
   "metadata": {},
   "source": [
    "## Run "
   ]
  },
  {
   "cell_type": "code",
   "execution_count": 5,
   "metadata": {},
   "outputs": [],
   "source": [
    "phase_angle = 0 #radians\n",
    "wno, alb = jdi.picaso(all_inputs, phase_angle)"
   ]
  },
  {
   "cell_type": "code",
   "execution_count": 6,
   "metadata": {},
   "outputs": [],
   "source": [
    "from bokeh.plotting import show\n",
    "show(jpi.spectrum(wno, alb))"
   ]
  },
  {
   "cell_type": "markdown",
   "metadata": {},
   "source": [
    "## Can Also Define subset of molecules \n",
    "\n",
    "Sometimes it's helpful to do a run and exclude one or several molecules from a bigger list. Take a look below"
   ]
  },
  {
   "cell_type": "code",
   "execution_count": null,
   "metadata": {
    "collapsed": true
   },
   "outputs": [],
   "source": [
    "all_inputs['atmosphere']['profile']['filepath'] = jdi.jupiter_pt() \n",
    "\n",
    "#let's say I want to remove everything but methane and H2/He to see if there were anything other than these that were \n",
    "#influencing the spectrum.\n",
    "\n",
    "all_inputs['atmosphere']['molecules']['whichones'] = ['He', 'H2', 'CH4']\n",
    "\n",
    "wno, alb = jdi.picaso(all_inputs, phase_angle)\n",
    "show(jpi.spectrum(wno, alb))"
   ]
  },
  {
   "cell_type": "code",
   "execution_count": null,
   "metadata": {
    "collapsed": true
   },
   "outputs": [],
   "source": []
  }
 ],
 "metadata": {
  "kernelspec": {
   "display_name": "Python 3",
   "language": "python",
   "name": "python3"
  },
  "language_info": {
   "codemirror_mode": {
    "name": "ipython",
    "version": 3
   },
   "file_extension": ".py",
   "mimetype": "text/x-python",
   "name": "python",
   "nbconvert_exporter": "python",
   "pygments_lexer": "ipython3",
   "version": "3.6.6"
  }
 },
 "nbformat": 4,
 "nbformat_minor": 2
}
