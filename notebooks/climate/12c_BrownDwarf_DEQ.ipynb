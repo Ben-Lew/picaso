{
 "cells": [
  {
   "cell_type": "markdown",
   "id": "2d72d361",
   "metadata": {},
   "source": [
    "# One-Dimensional Climate Models: Brown Dwarfs w/ Disequilibrium Chemistry at Solar M/H and C/O\n",
    "\n",
    "In this tutorial you will learn how to run 1d climate models with the effects of disequilibrium chemistry as was done for the Elf-OWL Grid [Mukherjee et al. 2024](https://ui.adsabs.harvard.edu/abs/2024arXiv240200756M/abstract) (note this should also be cited if using this code/tutorial). \n",
    "\n",
    "What you should already be familiar with: \n",
    "\n",
    "- [basics of running/analyzing thermal spectra](https://natashabatalha.github.io/picaso/tutorials.html#basics-of-thermal-emission)\n",
    "- [how to analyze thermal emission spectra](https://natashabatalha.github.io/picaso/notebooks/workshops/ERS2021/ThermalEmissionTutorial.html)\n",
    "- [how to run a basic 1d brown dwarf tutorial](https://natashabatalha.github.io/picaso/notebooks/climate/12a_BrownDwarf.html)\n",
    "\n",
    "\n",
    "What should have already downloaded: \n",
    "\n",
    "1. [Download](https://zenodo.org/record/5590989#.Yzy2YOzMI8a) 1460 PT, 196 wno Correlated-K Tables from Roxana Lupu to be used by the climate code for opacity \n",
    "2. [Download](https://zenodo.org/record/5063476/files/structures_m%2B0.0.tar.gz?download=1) the sonora bobcat cloud free `structures_` file so that you can have a simple starting guess \n",
    "\n",
    "**NEW:**\n",
    "\n",
    "3. [Download the .npy](https://doi.org/10.5281/zenodo.10895826) and place them in picaso_refdata folder/climate_INPUTS/661/\n",
    "\n",
    "> **_NOTE:_**  Tip for getting data from zenodo: pip install zenodo_get then it you can simply retrieve a zenodo posting via the command zenodo_get 10.5281/zenodo.10895826 \n"
   ]
  },
  {
   "cell_type": "markdown",
   "id": "ebb85a88-a88d-497e-a224-a8df6e738a43",
   "metadata": {},
   "source": [
    "### First, check that you have downloaded and placed the correlated-k files in the correct folder"
   ]
  },
  {
   "cell_type": "code",
   "execution_count": 1,
   "id": "6d1b911a-9ae9-4284-8d1f-e25227536ebb",
   "metadata": {
    "execution": {
     "iopub.execute_input": "2024-04-02T06:24:19.756703Z",
     "iopub.status.busy": "2024-04-02T06:24:19.756129Z",
     "iopub.status.idle": "2024-04-02T06:24:19.771798Z",
     "shell.execute_reply": "2024-04-02T06:24:19.771260Z"
    }
   },
   "outputs": [
    {
     "data": {
      "text/plain": [
       "['/data/reference_data/picaso/reference/climate_INPUTS/661/AlH_1460.npy',\n",
       " '/data/reference_data/picaso/reference/climate_INPUTS/661/C2H2_1460.npy',\n",
       " '/data/reference_data/picaso/reference/climate_INPUTS/661/C2H4_1460.npy',\n",
       " '/data/reference_data/picaso/reference/climate_INPUTS/661/C2H6_1460.npy',\n",
       " '/data/reference_data/picaso/reference/climate_INPUTS/661/CaH_1460.npy',\n",
       " '/data/reference_data/picaso/reference/climate_INPUTS/661/CH4_1460.npy',\n",
       " '/data/reference_data/picaso/reference/climate_INPUTS/661/CO_1460.npy',\n",
       " '/data/reference_data/picaso/reference/climate_INPUTS/661/CO2_1460.npy',\n",
       " '/data/reference_data/picaso/reference/climate_INPUTS/661/CrH_1460.npy',\n",
       " '/data/reference_data/picaso/reference/climate_INPUTS/661/Cs_1460.npy',\n",
       " '/data/reference_data/picaso/reference/climate_INPUTS/661/Fe_1460.npy',\n",
       " '/data/reference_data/picaso/reference/climate_INPUTS/661/FeH_1460.npy',\n",
       " '/data/reference_data/picaso/reference/climate_INPUTS/661/H2_1460.npy',\n",
       " '/data/reference_data/picaso/reference/climate_INPUTS/661/H2O_1460.npy',\n",
       " '/data/reference_data/picaso/reference/climate_INPUTS/661/H2S_1460.npy',\n",
       " '/data/reference_data/picaso/reference/climate_INPUTS/661/H3+_1460.npy',\n",
       " '/data/reference_data/picaso/reference/climate_INPUTS/661/HCN_1460.npy',\n",
       " '/data/reference_data/picaso/reference/climate_INPUTS/661/K_1460.npy',\n",
       " '/data/reference_data/picaso/reference/climate_INPUTS/661/Li_1460.npy',\n",
       " '/data/reference_data/picaso/reference/climate_INPUTS/661/LiCl_1460.npy',\n",
       " '/data/reference_data/picaso/reference/climate_INPUTS/661/LiF_1460.npy',\n",
       " '/data/reference_data/picaso/reference/climate_INPUTS/661/LiH_1460.npy',\n",
       " '/data/reference_data/picaso/reference/climate_INPUTS/661/MgH_1460.npy',\n",
       " '/data/reference_data/picaso/reference/climate_INPUTS/661/N2_1460.npy',\n",
       " '/data/reference_data/picaso/reference/climate_INPUTS/661/Na_1460.npy',\n",
       " '/data/reference_data/picaso/reference/climate_INPUTS/661/NH3_1460.npy',\n",
       " '/data/reference_data/picaso/reference/climate_INPUTS/661/O2_1460.npy',\n",
       " '/data/reference_data/picaso/reference/climate_INPUTS/661/O3_1460.npy',\n",
       " '/data/reference_data/picaso/reference/climate_INPUTS/661/OCS_1460.npy',\n",
       " '/data/reference_data/picaso/reference/climate_INPUTS/661/PH3_1460.npy',\n",
       " '/data/reference_data/picaso/reference/climate_INPUTS/661/Rb_1460.npy',\n",
       " '/data/reference_data/picaso/reference/climate_INPUTS/661/SiO_1460.npy',\n",
       " '/data/reference_data/picaso/reference/climate_INPUTS/661/SO2_1460.npy',\n",
       " '/data/reference_data/picaso/reference/climate_INPUTS/661/TiH_1460.npy',\n",
       " '/data/reference_data/picaso/reference/climate_INPUTS/661/TiO_1460.npy',\n",
       " '/data/reference_data/picaso/reference/climate_INPUTS/661/VO_1460.npy']"
      ]
     },
     "execution_count": 1,
     "metadata": {},
     "output_type": "execute_result"
    }
   ],
   "source": [
    "import os;import glob\n",
    "#\n",
    "glob.glob(\n",
    "    os.path.join(os.environ['picaso_refdata'],'climate_INPUTS','661','*npy')\n",
    ")\n",
    "#should see a list of files e.g., \"/data/reference_data/picaso/reference/climate_INPUTS/661/AlH_1460.npy\""
   ]
  },
  {
   "cell_type": "code",
   "execution_count": 2,
   "id": "5e0676d7-2757-47cb-8e75-047ebb27f80f",
   "metadata": {
    "execution": {
     "iopub.execute_input": "2024-04-02T06:24:19.776386Z",
     "iopub.status.busy": "2024-04-02T06:24:19.776127Z",
     "iopub.status.idle": "2024-04-02T06:24:21.529111Z",
     "shell.execute_reply": "2024-04-02T06:24:21.528130Z"
    }
   },
   "outputs": [],
   "source": [
    "import warnings\n",
    "warnings.filterwarnings('ignore')\n",
    "import picaso.justdoit as jdi\n",
    "import picaso.justplotit as jpi\n",
    "import astropy.units as u\n",
    "import numpy as np\n",
    "import matplotlib.pyplot as plt\n",
    "#%matplotlib inline\n",
    "from astropy import constants as const\n",
    "from astropy import units as u\n",
    "import sys\n",
    "import pandas as pd\n"
   ]
  },
  {
   "cell_type": "markdown",
   "id": "5de858d5-3e25-4634-a60b-ad339fd9ee06",
   "metadata": {},
   "source": [
    "## Setting up Initial Run (highlighting main differences for disequilibrium)"
   ]
  },
  {
   "cell_type": "code",
   "execution_count": 3,
   "id": "3d5079c4-7677-4a03-aa0d-a2850c5cabcc",
   "metadata": {
    "execution": {
     "iopub.execute_input": "2024-04-02T06:24:21.533943Z",
     "iopub.status.busy": "2024-04-02T06:24:21.533601Z",
     "iopub.status.idle": "2024-04-02T06:24:24.385437Z",
     "shell.execute_reply": "2024-04-02T06:24:24.384558Z"
    }
   },
   "outputs": [],
   "source": [
    "mh = '+000' #log metallicity\n",
    "CtoO = '100'# CtoO ratio relative to solar\n",
    "\n",
    "ck_db = f'/data/kcoeff_2020_v3/sonora_2020_feh{mh}_co_{CtoO}.data.196'\n",
    "sonora_profile_db = '/data/sonora_bobcat/structure/structures_m+0.0' #recommended download #2 above\n",
    "\n",
    "opacity_ck = jdi.opannection(ck_db=ck_db) # grab your opacities\n"
   ]
  },
  {
   "cell_type": "code",
   "execution_count": 4,
   "id": "8cf8bc9e-b19b-4180-a77a-376b854c7afe",
   "metadata": {
    "execution": {
     "iopub.execute_input": "2024-04-02T06:24:24.390057Z",
     "iopub.status.busy": "2024-04-02T06:24:24.389798Z",
     "iopub.status.idle": "2024-04-02T06:24:24.656736Z",
     "shell.execute_reply": "2024-04-02T06:24:24.656181Z"
    }
   },
   "outputs": [],
   "source": [
    "cl_run = jdi.inputs(calculation=\"browndwarf\", climate = True) # start a calculation\n",
    "\n",
    "\n",
    "tint= 700 \n",
    "grav = 316 # Gravity of your Planet in m/s/s\n",
    "\n",
    "cl_run.gravity(gravity=grav, gravity_unit=u.Unit('m/(s**2)')) # input gravity\n",
    "cl_run.effective_temp(tint) # input effective temperature\n",
    "\n",
    "nlevel = 91 \n"
   ]
  },
  {
   "cell_type": "markdown",
   "id": "6f4ad063-2b66-429e-8221-fb34a4077335",
   "metadata": {},
   "source": [
    "We recommend starting with Sonora-Bobcat models as an initial guess. "
   ]
  },
  {
   "cell_type": "code",
   "execution_count": 5,
   "id": "8325ae68-7c4e-489e-a99d-3a10cbd39cba",
   "metadata": {
    "execution": {
     "iopub.execute_input": "2024-04-02T06:24:24.661525Z",
     "iopub.status.busy": "2024-04-02T06:24:24.661250Z",
     "iopub.status.idle": "2024-04-02T06:24:24.666251Z",
     "shell.execute_reply": "2024-04-02T06:24:24.665745Z"
    }
   },
   "outputs": [
    {
     "name": "stdout",
     "output_type": "stream",
     "text": [
      "+000 100 700\n"
     ]
    }
   ],
   "source": [
    "pressure,temp_guess = np.loadtxt(jdi.os.path.join(\n",
    "                            sonora_profile_db,f\"t{tint}g{grav}nc_m0.0.dat\"),\n",
    "                            usecols=[1,2],unpack=True, skiprows = 1)\n",
    "\n",
    "\n",
    "nofczns = 1 # number of convective zones initially. Let's not play with this for now.\n",
    "\n",
    "nstr_upper = 79 # top most level of guessed convective zone\n",
    "nstr_deep = nlevel -2 # this is always the case. Dont change this\n",
    "nstr = np.array([0,nstr_upper,89,0,0,0]) # initial guess of convective zones\n",
    "\n",
    "# Here are some other parameters needed for the code.\n",
    "rfacv = 0.0 #we are focused on a brown dwarf so let's keep this as is\n",
    "print(mh,CtoO,tint)\n"
   ]
  },
  {
   "cell_type": "markdown",
   "id": "b3117928-c7b4-4101-a932-be83c78ccc6a",
   "metadata": {},
   "source": [
    "### Setting K$_{zz}$\n",
    "\n",
    "We will add one more concept which is the addition of  K$_{zz}$ [cm$^2$/s]. K$_{zz}$ is the eddy diffusion constant, which sets the strength of vertical mixing. In `PICASO` we have two options for  K$_{zz}$: \n",
    " \n",
    " 1. Constant value: sets a constant at every atmospheric layer\n",
    " 2. Self consistent (see Eqn. 27 and 28 in [Mukherjee et al 2022](https://arxiv.org/pdf/2208.07836.pdf))\n",
    "\n",
    "\n",
    "**New code parameters**: \n",
    "\n",
    "0. `diseq_chem=True` : Turns on disequilibrium chemistry\n",
    "1. `self_consistent_kzz` : (True/False) This solves self consistently for \n",
    "2. `save_all_kzz` : (True/False) Similar to `save_all_profiles` this saves your intermediate k_zz values if you are trying to solve for a `self_consistent_kzz=True`.\n",
    "3. `kz` : constant value if `self_consistent_kzz=False`\n",
    "4. `gases_fly` : **Important**: determines what gases to include in your climate calculation. if you remove one, it will remove the opacity contirubtion from that gas in your climate calculation\n",
    "5. `chemeq_first` : Converges a chemical equilibrium model first (helpful for convergence)\n",
    "\n",
    "**Which of those 6 do I need change change**\n",
    "\n",
    "Likely you will only be changing `kz` and/or, for example, playing around with a `self_consistent_kzz` vs a `constant profile`. Unless you are certain, we recommend the following set of `gases_fly` to remain unchanged. \n"
   ]
  },
  {
   "cell_type": "code",
   "execution_count": 6,
   "id": "dd563701-7b34-4b99-8b4d-5f91bdb11970",
   "metadata": {
    "execution": {
     "iopub.execute_input": "2024-04-02T06:24:24.670030Z",
     "iopub.status.busy": "2024-04-02T06:24:24.669833Z",
     "iopub.status.idle": "2024-04-02T06:24:24.672360Z",
     "shell.execute_reply": "2024-04-02T06:24:24.671900Z"
    }
   },
   "outputs": [],
   "source": [
    "#following elf-owl lets use a constant value for all pressures\n",
    "kzval = pressure*0+1e2"
   ]
  },
  {
   "cell_type": "code",
   "execution_count": 7,
   "id": "05142f70-6d40-432a-ab47-0398d272a035",
   "metadata": {
    "execution": {
     "iopub.execute_input": "2024-04-02T06:24:24.675165Z",
     "iopub.status.busy": "2024-04-02T06:24:24.674971Z",
     "iopub.status.idle": "2024-04-02T06:58:44.654448Z",
     "shell.execute_reply": "2024-04-02T06:58:44.653498Z"
    }
   },
   "outputs": [
    {
     "name": "stdout",
     "output_type": "stream",
     "text": [
      "1 conv Zone, so making small adjustment\n",
      "New NSTR status is  [ 0 79 89  0  0  0]\n"
     ]
    },
    {
     "name": "stdout",
     "output_type": "stream",
     "text": [
      "From now I will mix ['CO', 'CH4', 'H2O', 'NH3', 'CO2', 'N2', 'HCN', 'H2', 'PH3', 'C2H2', 'Na', 'K', 'TiO', 'VO', 'FeH'] only on--the--fly\n"
     ]
    },
    {
     "name": "stdout",
     "output_type": "stream",
     "text": [
      "Quench Levels are CO, CO2, NH3, HCN, PH3  [66 59 69 65]\n",
      "PH3 quenched at level 63\n",
      "DOING DISEQ CALCULATIONS NOW\n",
      "PH3 quenched at level 63\n"
     ]
    },
    {
     "name": "stdout",
     "output_type": "stream",
     "text": [
      "Iteration number  0 , min , max temp  228.4687122158246 2719.70009044622 , flux balance  0.02379643790577486\n",
      "Iteration number  1 , min , max temp  223.4122783881029 2747.845757199295 , flux balance  0.005855307151646336\n",
      "Iteration number  2 , min , max temp  223.65825853647686 2747.180228403528 , flux balance  6.84958826277869e-05\n",
      "In t_start: Converged Solution in iterations  2\n",
      "PH3 quenched at level 63\n",
      "Quench Levels are CO, CO2, NH3, HCN  [66 60 68 64]\n"
     ]
    },
    {
     "name": "stdout",
     "output_type": "stream",
     "text": [
      "Big iteration is  223.65825853647686 0\n",
      "Iteration number  0 , min , max temp  221.8104108970629 2747.8007870126216 , flux balance  0.0008430006191004585\n",
      "Iteration number  1 , min , max temp  221.7834737046501 2747.8026878470228 , flux balance  6.377315081609894e-06\n",
      "In t_start: Converged Solution in iterations  1\n",
      "PH3 quenched at level 63\n",
      "Quench Levels are CO, CO2, NH3, HCN  [66 60 68 64]\n"
     ]
    },
    {
     "name": "stdout",
     "output_type": "stream",
     "text": [
      "Profile converged\n",
      " convection zone status\n",
      "0 79 89 0 0 0\n",
      "1\n",
      "[ 0 65 65 65 79 89]\n",
      "PH3 quenched at level 63\n"
     ]
    },
    {
     "name": "stdout",
     "output_type": "stream",
     "text": [
      "Iteration number  0 , min , max temp  220.5688370747329 2747.671304177 , flux balance  0.00015156615638153807\n",
      "Iteration number  1 , min , max temp  220.5348149397797 2747.671002662656 , flux balance  1.0509881549915634e-06\n",
      "In t_start: Converged Solution in iterations  1\n",
      "PH3 quenched at level 63\n",
      "Quench Levels are CO, CO2, NH3, HCN  [66 60 68 65]\n"
     ]
    },
    {
     "name": "stdout",
     "output_type": "stream",
     "text": [
      "Big iteration is  220.5348149397797 0\n",
      "Iteration number  0 , min , max temp  220.04904176956381 2747.629626985311 , flux balance  3.781895550711609e-05\n",
      "In t_start: Converged Solution in iterations  0\n",
      "PH3 quenched at level 63\n",
      "Quench Levels are CO, CO2, NH3, HCN  [66 60 68 65]\n"
     ]
    },
    {
     "name": "stdout",
     "output_type": "stream",
     "text": [
      "Profile converged\n",
      "Grow Phase : Upper Zone\n",
      "[ 0 64 65 65 79 89]\n",
      "PH3 quenched at level 63\n"
     ]
    },
    {
     "name": "stdout",
     "output_type": "stream",
     "text": [
      "Iteration number  0 , min , max temp  219.32846502328812 2747.479463671103 , flux balance  3.652897700296355e-05\n",
      "Iteration number  1 , min , max temp  219.30780741192007 2747.4791367912844 , flux balance  3.053127377633008e-07\n",
      "In t_start: Converged Solution in iterations  1\n",
      "PH3 quenched at level 63\n",
      "Quench Levels are CO, CO2, NH3, HCN  [66 60 68 65]\n"
     ]
    },
    {
     "name": "stdout",
     "output_type": "stream",
     "text": [
      "Big iteration is  219.30780741192007 0\n",
      "Iteration number  0 , min , max temp  219.60878373201044 2747.5270235988937 , flux balance  -6.034910814698173e-06\n",
      "In t_start: Converged Solution in iterations  0\n",
      "PH3 quenched at level 63\n",
      "Quench Levels are CO, CO2, NH3, HCN  [66 60 68 65]\n"
     ]
    },
    {
     "name": "stdout",
     "output_type": "stream",
     "text": [
      "Profile converged\n",
      "[ 0 63 65 65 79 89]\n",
      "PH3 quenched at level 63\n"
     ]
    },
    {
     "name": "stdout",
     "output_type": "stream",
     "text": [
      "Iteration number  0 , min , max temp  219.11327113563087 2747.2727472623956 , flux balance  8.21699017064154e-05\n",
      "Iteration number  1 , min , max temp  219.0988137695899 2747.27195968955 , flux balance  7.325540033907821e-07\n",
      "In t_start: Converged Solution in iterations  1\n",
      "PH3 quenched at level 63\n",
      "Quench Levels are CO, CO2, NH3, HCN  [66 60 68 65]\n"
     ]
    },
    {
     "name": "stdout",
     "output_type": "stream",
     "text": [
      "Big iteration is  219.0988137695899 0\n",
      "Iteration number  0 , min , max temp  220.04587090507562 2747.385554064864 , flux balance  -2.009781264081523e-05\n",
      "In t_start: Converged Solution in iterations  0\n",
      "PH3 quenched at level 63\n",
      "Quench Levels are CO, CO2, NH3, HCN  [66 60 68 65]\n"
     ]
    },
    {
     "name": "stdout",
     "output_type": "stream",
     "text": [
      "Profile converged\n",
      "[ 0 62 65 65 79 89]\n",
      "PH3 quenched at level 64\n"
     ]
    },
    {
     "name": "stdout",
     "output_type": "stream",
     "text": [
      "Iteration number  0 , min , max temp  223.45168913201945 2747.1200769198817 , flux balance  0.0001655806819819537\n",
      "Iteration number  1 , min , max temp  223.4359262905261 2747.1189003236373 , flux balance  1.599359355353788e-06\n",
      "In t_start: Converged Solution in iterations  1\n",
      "PH3 quenched at level 63\n",
      "Quench Levels are CO, CO2, NH3, HCN  [66 60 68 65]\n"
     ]
    },
    {
     "name": "stdout",
     "output_type": "stream",
     "text": [
      "Big iteration is  223.4359262905261 0\n",
      "Iteration number  0 , min , max temp  221.29369512319064 2747.2062702571134 , flux balance  1.7480571057486507e-05\n",
      " We are already at a root, tolf , test =  5e-05 ,  1.7480571057486507e-05\n",
      "PH3 quenched at level 63\n",
      "Quench Levels are CO, CO2, NH3, HCN  [66 60 68 65]\n"
     ]
    },
    {
     "name": "stdout",
     "output_type": "stream",
     "text": [
      "Profile converged\n",
      "[ 0 61 65 65 79 89]\n",
      "PH3 quenched at level 64\n"
     ]
    },
    {
     "name": "stdout",
     "output_type": "stream",
     "text": [
      "Iteration number  0 , min , max temp  223.18079205442217 2746.9016411053 , flux balance  0.00020503249602211074\n",
      "Iteration number  1 , min , max temp  223.1930504675051 2746.899864788222 , flux balance  2.142786944712075e-06\n",
      "In t_start: Converged Solution in iterations  1\n",
      "PH3 quenched at level 64\n",
      "Quench Levels are CO, CO2, NH3, HCN  [66 60 68 65]\n"
     ]
    },
    {
     "name": "stdout",
     "output_type": "stream",
     "text": [
      "Big iteration is  223.1930504675051 0\n",
      "Iteration number  0 , min , max temp  225.770214612183 2747.0676584044977 , flux balance  -3.744002709368859e-05\n",
      "Iteration number  1 , min , max temp  225.7772350404269 2747.06741277766 , flux balance  -3.3697582755316545e-07\n",
      "In t_start: Converged Solution in iterations  1\n",
      "PH3 quenched at level 63\n",
      "Quench Levels are CO, CO2, NH3, HCN  [66 60 68 65]\n"
     ]
    },
    {
     "name": "stdout",
     "output_type": "stream",
     "text": [
      "Profile converged\n",
      "[ 0 60 65 65 79 89]\n",
      "PH3 quenched at level 64\n"
     ]
    },
    {
     "name": "stdout",
     "output_type": "stream",
     "text": [
      "Iteration number  0 , min , max temp  224.37013925105248 2746.7204107395355 , flux balance  0.0002159546232540936\n",
      "Iteration number  1 , min , max temp  224.32465587815454 2746.718040060723 , flux balance  2.3613265810506326e-06\n",
      "In t_start: Converged Solution in iterations  1\n",
      "PH3 quenched at level 64\n",
      "Quench Levels are CO, CO2, NH3, HCN  [66 60 68 65]\n"
     ]
    },
    {
     "name": "stdout",
     "output_type": "stream",
     "text": [
      "Big iteration is  224.32465587815454 0\n",
      "Iteration number  0 , min , max temp  225.98834504269192 2746.874077043952 , flux balance  -4.0770252207931085e-05\n"
     ]
    },
    {
     "name": "stdout",
     "output_type": "stream",
     "text": [
      "Iteration number  1 , min , max temp  226.0049075554805 2746.873655266751 , flux balance  -4.1944764667596104e-07\n",
      "In t_start: Converged Solution in iterations  1\n",
      "PH3 quenched at level 64\n",
      "Quench Levels are CO, CO2, NH3, HCN  [66 60 68 65]\n"
     ]
    },
    {
     "name": "stdout",
     "output_type": "stream",
     "text": [
      "Profile converged\n",
      "[ 0 59 65 65 79 89]\n",
      "PH3 quenched at level 64\n"
     ]
    },
    {
     "name": "stdout",
     "output_type": "stream",
     "text": [
      "Iteration number  0 , min , max temp  224.3226415573006 2746.5521133531606 , flux balance  0.00022578270738948542\n",
      "Iteration number  1 , min , max temp  224.2648247997471 2746.5497334773486 , flux balance  2.570488847316762e-06\n",
      "In t_start: Converged Solution in iterations  1\n",
      "PH3 quenched at level 64\n",
      "Quench Levels are CO, CO2, NH3, HCN  [66 60 68 65]\n"
     ]
    },
    {
     "name": "stdout",
     "output_type": "stream",
     "text": [
      "Big iteration is  224.2648247997471 0\n",
      "Iteration number  0 , min , max temp  225.92659941933903 2746.7049506478793 , flux balance  -4.627053394777188e-05\n",
      "Iteration number  1 , min , max temp  225.94368735176843 2746.704339344802 , flux balance  -5.292445305683144e-07\n",
      "In t_start: Converged Solution in iterations  1\n",
      "PH3 quenched at level 64\n",
      "Quench Levels are CO, CO2, NH3, HCN  [66 60 68 65]\n"
     ]
    },
    {
     "name": "stdout",
     "output_type": "stream",
     "text": [
      "Profile converged\n",
      "[ 0 58 65 65 79 89]\n",
      "PH3 quenched at level 64\n"
     ]
    },
    {
     "name": "stdout",
     "output_type": "stream",
     "text": [
      "Iteration number  0 , min , max temp  224.31081441069972 2746.4194976743975 , flux balance  0.00022065249585450096\n",
      "Iteration number  1 , min , max temp  224.25667866402722 2746.4171666336233 , flux balance  2.60343798712728e-06\n",
      "In t_start: Converged Solution in iterations  1\n",
      "PH3 quenched at level 64\n",
      "Quench Levels are CO, CO2, NH3, HCN  [66 60 68 65]\n"
     ]
    },
    {
     "name": "stdout",
     "output_type": "stream",
     "text": [
      "Big iteration is  224.25667866402722 0\n",
      "Iteration number  0 , min , max temp  225.97997559075864 2746.5668395225257 , flux balance  -5.307114792858895e-05\n"
     ]
    },
    {
     "name": "stdout",
     "output_type": "stream",
     "text": [
      "Iteration number  1 , min , max temp  225.99741675282547 2746.5660486917527 , flux balance  -6.83427854021894e-07\n",
      "In t_start: Converged Solution in iterations  1\n",
      "PH3 quenched at level 64\n",
      "Quench Levels are CO, CO2, NH3, HCN  [66 60 68 65]\n"
     ]
    },
    {
     "name": "stdout",
     "output_type": "stream",
     "text": [
      "Profile converged\n",
      "[ 0 58 66 66 79 89]\n",
      "PH3 quenched at level 64\n"
     ]
    },
    {
     "name": "stdout",
     "output_type": "stream",
     "text": [
      "Iteration number  0 , min , max temp  226.66286652412995 2746.0311393002735 , flux balance  6.717700771538913e-05\n",
      "Iteration number  1 , min , max temp  226.6744885210479 2746.027318676578 , flux balance  3.8148428803394187e-07\n",
      "In t_start: Converged Solution in iterations  1\n",
      "PH3 quenched at level 64\n",
      "Quench Levels are CO, CO2, NH3, HCN  [66 60 69 65]\n"
     ]
    },
    {
     "name": "stdout",
     "output_type": "stream",
     "text": [
      "Big iteration is  226.6744885210479 0\n",
      "Iteration number  0 , min , max temp  227.21659265286513 2746.1567005874203 , flux balance  -2.234854139179267e-05\n",
      "In t_start: Converged Solution in iterations  0\n",
      "PH3 quenched at level 64\n",
      "Quench Levels are CO, CO2, NH3, HCN  [66 60 69 65]\n"
     ]
    },
    {
     "name": "stdout",
     "output_type": "stream",
     "text": [
      "Profile converged\n",
      "[ 0 57 66 66 79 89]\n",
      "PH3 quenched at level 64\n"
     ]
    },
    {
     "name": "stdout",
     "output_type": "stream",
     "text": [
      "Iteration number  0 , min , max temp  225.84278997991666 2745.7583443451485 , flux balance  0.00016296434459140238\n",
      "Iteration number  1 , min , max temp  225.80434311079225 2745.7526441214627 , flux balance  1.6675972935261093e-06\n",
      "In t_start: Converged Solution in iterations  1\n",
      "PH3 quenched at level 64\n",
      "Quench Levels are CO, CO2, NH3, HCN  [66 60 69 65]\n"
     ]
    },
    {
     "name": "stdout",
     "output_type": "stream",
     "text": [
      "Big iteration is  225.80434311079225 0\n",
      "Iteration number  0 , min , max temp  226.71518305381443 2746.004106574918 , flux balance  -6.802263138035716e-05\n",
      "In t_start: Converged Solution in iterations  0\n",
      "PH3 quenched at level 64\n",
      "Quench Levels are CO, CO2, NH3, HCN  [66 60 69 65]\n"
     ]
    },
    {
     "name": "stdout",
     "output_type": "stream",
     "text": [
      "Profile converged\n",
      "[ 0 57 67 67 79 89]\n",
      "PH3 quenched at level 64\n"
     ]
    },
    {
     "name": "stdout",
     "output_type": "stream",
     "text": [
      "Iteration number  0 , min , max temp  227.84642138094 2745.460803098823 , flux balance  -1.675462244490496e-05\n",
      "Iteration number  1 , min , max temp  227.86565376922078 2745.454572651484 , flux balance  -1.0015603426265223e-06\n",
      "In t_start: Converged Solution in iterations  1\n",
      "PH3 quenched at level 64\n",
      "Quench Levels are CO, CO2, NH3, HCN  [66 60 69 65]\n"
     ]
    },
    {
     "name": "stdout",
     "output_type": "stream",
     "text": [
      "Big iteration is  227.86565376922078 0\n",
      "Iteration number  0 , min , max temp  228.75213413918863 2745.588987196907 , flux balance  -5.018086032558749e-05\n",
      "In t_start: Converged Solution in iterations  0\n",
      "PH3 quenched at level 64\n",
      "Quench Levels are CO, CO2, NH3, HCN  [66 60 69 65]\n"
     ]
    },
    {
     "name": "stdout",
     "output_type": "stream",
     "text": [
      "Profile converged\n",
      "[ 0 56 67 67 79 89]\n",
      "PH3 quenched at level 64\n"
     ]
    },
    {
     "name": "stdout",
     "output_type": "stream",
     "text": [
      "Iteration number  0 , min , max temp  227.82122303825054 2745.2962772763053 , flux balance  9.393871185462201e-06\n",
      "Iteration number  1 , min , max temp  227.8099136180094 2745.2852754086935 , flux balance  -1.153148272143708e-06\n",
      "In t_start: Converged Solution in iterations  1\n",
      "PH3 quenched at level 64\n",
      "Quench Levels are CO, CO2, NH3, HCN  [66 60 69 65]\n"
     ]
    },
    {
     "name": "stdout",
     "output_type": "stream",
     "text": [
      "Big iteration is  227.8099136180094 0\n",
      "Iteration number  0 , min , max temp  228.75361934177303 2745.461458508484 , flux balance  -8.686804693931754e-05\n",
      "In t_start: Converged Solution in iterations  0\n",
      "PH3 quenched at level 64\n",
      "Quench Levels are CO, CO2, NH3, HCN  [66 60 69 65]\n"
     ]
    },
    {
     "name": "stdout",
     "output_type": "stream",
     "text": [
      "Profile converged\n",
      "[ 0 55 67 67 79 89]\n",
      "PH3 quenched at level 64\n"
     ]
    },
    {
     "name": "stdout",
     "output_type": "stream",
     "text": [
      "Iteration number  0 , min , max temp  228.26509349517426 2745.2520363954895 , flux balance  -3.7301699972560424e-05\n",
      "Iteration number  1 , min , max temp  228.26771752069033 2745.2422734845454 , flux balance  -2.158259256021005e-06\n",
      "In t_start: Converged Solution in iterations  1\n",
      "PH3 quenched at level 64\n",
      "Quench Levels are CO, CO2, NH3, HCN  [66 60 69 65]\n"
     ]
    },
    {
     "name": "stdout",
     "output_type": "stream",
     "text": [
      "Big iteration is  228.26771752069033 0\n",
      "Iteration number  0 , min , max temp  229.2039711461108 2745.3890826334714 , flux balance  -8.743704572535724e-05\n",
      "In t_start: Converged Solution in iterations  0\n",
      "PH3 quenched at level 64\n",
      "Quench Levels are CO, CO2, NH3, HCN  [66 60 69 65]\n"
     ]
    },
    {
     "name": "stdout",
     "output_type": "stream",
     "text": [
      "Profile converged\n",
      "[ 0 55 68 68 79 89]\n",
      "PH3 quenched at level 64\n"
     ]
    },
    {
     "name": "stdout",
     "output_type": "stream",
     "text": [
      "Iteration number  0 , min , max temp  230.27148587092253 2745.028702668952 , flux balance  -0.00010347517138005662\n",
      "In t_start: Converged Solution in iterations  0\n",
      "PH3 quenched at level 64\n",
      "Quench Levels are CO, CO2, NH3, HCN  [66 60 69 65]\n"
     ]
    },
    {
     "name": "stdout",
     "output_type": "stream",
     "text": [
      "Big iteration is  230.27148587092253 0\n",
      "Iteration number  0 , min , max temp  230.7385722321025 2745.0997465965156 , flux balance  -3.66166919364084e-05\n",
      "In t_start: Converged Solution in iterations  0\n",
      "PH3 quenched at level 64\n",
      "Quench Levels are CO, CO2, NH3, HCN  [66 60 69 65]\n"
     ]
    },
    {
     "name": "stdout",
     "output_type": "stream",
     "text": [
      "Profile converged\n",
      "[ 0 54 68 68 79 89]\n",
      "PH3 quenched at level 64\n"
     ]
    },
    {
     "name": "stdout",
     "output_type": "stream",
     "text": [
      "Iteration number  0 , min , max temp  230.2272512869794 2744.9746006831774 , flux balance  -0.00018246973948655933\n",
      "In t_start: Converged Solution in iterations  0\n",
      "PH3 quenched at level 64\n",
      "Quench Levels are CO, CO2, NH3, HCN  [66 60 69 65]\n"
     ]
    },
    {
     "name": "stdout",
     "output_type": "stream",
     "text": [
      "Big iteration is  230.2272512869794 0\n",
      "Iteration number  0 , min , max temp  230.83965698490243 2745.0411702919087 , flux balance  -6.524573884867093e-05\n",
      "In t_start: Converged Solution in iterations  0\n",
      "PH3 quenched at level 64\n",
      "Quench Levels are CO, CO2, NH3, HCN  [66 60 69 65]\n"
     ]
    },
    {
     "name": "stdout",
     "output_type": "stream",
     "text": [
      "Profile converged\n",
      "[ 0 53 68 68 79 89]\n",
      "PH3 quenched at level 64\n"
     ]
    },
    {
     "name": "stdout",
     "output_type": "stream",
     "text": [
      "Iteration number  0 , min , max temp  230.7948548523602 2745.009410438036 , flux balance  -0.00012906164134096078\n",
      "In t_start: Converged Solution in iterations  0\n",
      "PH3 quenched at level 64\n",
      "Quench Levels are CO, CO2, NH3, HCN  [66 60 69 65]\n"
     ]
    },
    {
     "name": "stdout",
     "output_type": "stream",
     "text": [
      "Big iteration is  230.7948548523602 0\n",
      "Iteration number  0 , min , max temp  231.1000101462714 2745.0373383791884 , flux balance  -3.536367576979529e-05\n",
      "In t_start: Converged Solution in iterations  0\n",
      "PH3 quenched at level 64\n",
      "Quench Levels are CO, CO2, NH3, HCN  [66 60 69 65]\n"
     ]
    },
    {
     "name": "stdout",
     "output_type": "stream",
     "text": [
      "Profile converged\n",
      "[ 0 53 69 69 79 89]\n",
      "PH3 quenched at level 64\n"
     ]
    },
    {
     "name": "stdout",
     "output_type": "stream",
     "text": [
      "Iteration number  0 , min , max temp  231.2624628780323 2744.9489125751456 , flux balance  1.2258641329597043e-06\n",
      "In t_start: Converged Solution in iterations  0\n",
      "PH3 quenched at level 64\n",
      "Quench Levels are CO, CO2, NH3, HCN  [66 60 69 65]\n"
     ]
    },
    {
     "name": "stdout",
     "output_type": "stream",
     "text": [
      "Big iteration is  231.2624628780323 0\n",
      "Iteration number  0 , min , max temp  231.32057346379273 2745.012585539453 , flux balance  -6.1452341618864596e-06\n",
      "In t_start: Converged Solution in iterations  0\n",
      "PH3 quenched at level 64\n",
      "Quench Levels are CO, CO2, NH3, HCN  [66 60 69 65]\n"
     ]
    },
    {
     "name": "stdout",
     "output_type": "stream",
     "text": [
      "Profile converged\n",
      "final [ 0 53 69 69 79 89]\n",
      "PH3 quenched at level 64\n"
     ]
    },
    {
     "name": "stdout",
     "output_type": "stream",
     "text": [
      "Iteration number  0 , min , max temp  231.3470106881548 2744.9590739123046 , flux balance  2.8971108257582678e-05\n",
      "In t_start: Converged Solution in iterations  0\n",
      "PH3 quenched at level 64\n",
      "Quench Levels are CO, CO2, NH3, HCN  [66 60 69 65]\n"
     ]
    },
    {
     "name": "stdout",
     "output_type": "stream",
     "text": [
      "Big iteration is  231.3470106881548 0\n",
      "Iteration number  0 , min , max temp  231.34756672417055 2745.014810047904 , flux balance  1.320085681332785e-06\n",
      "In t_start: Converged Solution in iterations  0\n",
      "PH3 quenched at level 64\n",
      "Quench Levels are CO, CO2, NH3, HCN  [66 60 69 65]\n"
     ]
    },
    {
     "name": "stdout",
     "output_type": "stream",
     "text": [
      "Profile converged\n",
      "YAY ! ENDING WITH CONVERGENCE\n",
      "PH3 quenched at level 64\n"
     ]
    }
   ],
   "source": [
    "cl_run.inputs_climate(temp_guess= temp_guess, pressure= pressure,\n",
    "                                           nstr = nstr, nofczns = nofczns , rfacv = rfacv, mh =mh, CtoO = CtoO)\n",
    "\n",
    "\n",
    "gases_fly = ['CO','CH4','H2O','NH3','CO2','N2','HCN','H2','PH3','C2H2','Na','K','TiO','VO','FeH']\n",
    "\n",
    "out = cl_run.climate(opacity_ck, save_all_profiles = True, as_dict=True,with_spec=True,\n",
    "        save_all_kzz = False, diseq_chem = True, self_consistent_kzz =False, kz = kzval,\n",
    "        on_fly=True,gases_fly=gases_fly, chemeq_first=False)\n"
   ]
  },
  {
   "cell_type": "markdown",
   "id": "05138391-c05c-43b1-a422-e544d3a3cb89",
   "metadata": {},
   "source": [
    "## Compare Diseq and Chemeq Climate Profile \n",
    "\n",
    "For the case we chose with very low kzz, and solar M/H the disequilibrium profile and bobcat profiles are identical! "
   ]
  },
  {
   "cell_type": "code",
   "execution_count": 8,
   "id": "71729e76-b6dd-4e38-aa48-65204276da8a",
   "metadata": {
    "execution": {
     "iopub.execute_input": "2024-04-02T06:58:44.660813Z",
     "iopub.status.busy": "2024-04-02T06:58:44.660506Z",
     "iopub.status.idle": "2024-04-02T06:58:44.992458Z",
     "shell.execute_reply": "2024-04-02T06:58:44.991962Z"
    }
   },
   "outputs": [
    {
     "data": {
      "text/plain": [
       "[<matplotlib.lines.Line2D at 0x7fc2a2362910>]"
      ]
     },
     "execution_count": 8,
     "metadata": {},
     "output_type": "execute_result"
    },
    {
     "data": {
      "image/png": "[encoded data removed]",
      "text/plain": [
       "<Figure size 640x480 with 1 Axes>"
      ]
     },
     "metadata": {},
     "output_type": "display_data"
    }
   ],
   "source": [
    "plt.ylim(200,1.7e-4)\n",
    "plt.semilogy(out['temperature'],out['pressure'],\"r\", label='Elf-OWL Style, Disequilibrium')\n",
    "plt.semilogy(temp_guess,pressure,color=\"k\",linestyle=\"--\", label='Bobcat, Chemical Equilibrium')"
   ]
  }
 ],
 "metadata": {
  "kernelspec": {
   "display_name": "Python 3 (ipykernel)",
   "language": "python",
   "name": "python3"
  },
  "language_info": {
   "codemirror_mode": {
    "name": "ipython",
    "version": 3
   },
   "file_extension": ".py",
   "mimetype": "text/x-python",
   "name": "python",
   "nbconvert_exporter": "python",
   "pygments_lexer": "ipython3",
   "version": "3.11.5"
  },
  "varInspector": {
   "cols": {
    "lenName": 16,
    "lenType": 16,
    "lenVar": 40
   },
   "kernels_config": {
    "python": {
     "delete_cmd_postfix": "",
     "delete_cmd_prefix": "del ",
     "library": "var_list.py",
     "varRefreshCmd": "print(var_dic_list())"
    },
    "r": {
     "delete_cmd_postfix": ") ",
     "delete_cmd_prefix": "rm(",
     "library": "var_list.r",
     "varRefreshCmd": "cat(var_dic_list()) "
    }
   },
   "types_to_exclude": [
    "module",
    "function",
    "builtin_function_or_method",
    "instance",
    "_Feature"
   ],
   "window_display": false
  }
 },
 "nbformat": 4,
 "nbformat_minor": 5
}
