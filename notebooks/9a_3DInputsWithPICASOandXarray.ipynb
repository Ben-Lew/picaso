{
 "cells": [
  {
   "cell_type": "markdown",
   "metadata": {
    "toc": true
   },
   "source": [
    "<h1>Table of Contents<span class=\"tocSkip\"></span></h1>\n",
    "<div class=\"toc\"><ul class=\"toc-item\"><li><span><a href=\"#Handling-3D-Inputs-with-PICASO\" data-toc-modified-id=\"Handling-3D-Inputs-with-PICASO-1\"><span class=\"toc-item-num\">1&nbsp;&nbsp;</span>Handling 3D Inputs with PICASO</a></span><ul class=\"toc-item\"><li><span><a href=\"#xarray-tutorial:-Convert-numpy-arrays-to--xarray-DataSet\" data-toc-modified-id=\"xarray-tutorial:-Convert-numpy-arrays-to--xarray-DataSet-1.1\"><span class=\"toc-item-num\">1.1&nbsp;&nbsp;</span><code>xarray</code> tutorial: Convert <code>numpy</code> arrays to  <code>xarray</code> DataSet</a></span></li><li><span><a href=\"#xarray-tutorial:-Easy-plotting\" data-toc-modified-id=\"xarray-tutorial:-Easy-plotting-1.2\"><span class=\"toc-item-num\">1.2&nbsp;&nbsp;</span><code>xarray</code> tutorial: Easy plotting</a></span></li><li><span><a href=\"#xesfm-tutorial:-Step-by-step-regrid-3D-GCM\" data-toc-modified-id=\"xesfm-tutorial:-Step-by-step-regrid-3D-GCM-1.3\"><span class=\"toc-item-num\">1.3&nbsp;&nbsp;</span><code>xesfm</code> tutorial: Step-by-step regrid 3D GCM</a></span></li><li><span><a href=\"#Regrid-3D-GCM-with-PICASO\" data-toc-modified-id=\"Regrid-3D-GCM-with-PICASO-1.4\"><span class=\"toc-item-num\">1.4&nbsp;&nbsp;</span>Regrid 3D GCM with PICASO</a></span></li></ul></li></ul></div>"
   ]
  },
  {
   "cell_type": "markdown",
   "metadata": {},
   "source": [
    "# Handling 3D Inputs with PICASO\n",
    "\n",
    "Many GCM groups have their files stored as `netCDF` files. Therefore, you may already be used to `xarray` format. If that is the case you will be able to directly input your xarray formatted data to `PICASO` to get out post-processed spectra. If not though, this tutorial will walk you through how to structure your data in xarray format. \n",
    "\n",
    "What you will learn: \n",
    "\n",
    "1. How to convert traditional numpy arrays to `xarray` formatted data, which is common for 3D GCM output\n",
    "2. How to regrid using `xarray` and `xesmf`'s `regridder`\n",
    "3. How to use `PICASO` built in function (which use #2)\n",
    "\n"
   ]
  },
  {
   "cell_type": "code",
   "execution_count": 1,
   "metadata": {
    "execution": {
     "iopub.execute_input": "2023-03-23T19:24:56.932184Z",
     "iopub.status.busy": "2023-03-23T19:24:56.931277Z",
     "iopub.status.idle": "2023-03-23T19:24:59.205982Z",
     "shell.execute_reply": "2023-03-23T19:24:59.204825Z"
    }
   },
   "outputs": [],
   "source": [
    "import pandas as pd\n",
    "import numpy as np\n",
    "\n",
    "from picaso import justdoit as jdi"
   ]
  },
  {
   "cell_type": "markdown",
   "metadata": {},
   "source": [
    "Two new packages you will need, that are not required components of other models: xesmf and xarray. You can read more about the installing these packages here: \n",
    "\n",
    "[Install XESMF](https://xesmf.readthedocs.io/en/latest/installation.html)\n",
    "- will only be needed if you want to use their really handy regridding tools \n",
    "\n",
    "[Install xarray](http://xarray.pydata.org/en/stable/getting-started-guide/installing.html)\n",
    "- needed for all `PICASO` 3d operations"
   ]
  },
  {
   "cell_type": "code",
   "execution_count": 2,
   "metadata": {
    "execution": {
     "iopub.execute_input": "2023-03-23T19:24:59.214421Z",
     "iopub.status.busy": "2023-03-23T19:24:59.213311Z",
     "iopub.status.idle": "2023-03-23T19:24:59.234689Z",
     "shell.execute_reply": "2023-03-23T19:24:59.233696Z"
    }
   },
   "outputs": [],
   "source": [
    "import xesmf as xe\n",
    "import xarray as xr"
   ]
  },
  {
   "cell_type": "markdown",
   "metadata": {},
   "source": [
    "We will begin with an example file from the MIT GCM group (courtesy of Tiffany Kataria). "
   ]
  },
  {
   "cell_type": "code",
   "execution_count": 3,
   "metadata": {
    "execution": {
     "iopub.execute_input": "2023-03-23T19:24:59.240693Z",
     "iopub.status.busy": "2023-03-23T19:24:59.239557Z",
     "iopub.status.idle": "2023-03-23T19:25:01.856635Z",
     "shell.execute_reply": "2023-03-23T19:25:01.855576Z"
    }
   },
   "outputs": [],
   "source": [
    "gcm_out =  jdi.HJ_pt_3d()"
   ]
  },
  {
   "cell_type": "markdown",
   "metadata": {},
   "source": [
    "We are going to go through the motions of converting basic `numpy` arrays to `xarray` format. **If you already understand xarrays you may skip to** the [`picaso` section](#regrid-3d-gcm-with-picaso)"
   ]
  },
  {
   "cell_type": "code",
   "execution_count": 4,
   "metadata": {
    "execution": {
     "iopub.execute_input": "2023-03-23T19:25:01.865272Z",
     "iopub.status.busy": "2023-03-23T19:25:01.864166Z",
     "iopub.status.idle": "2023-03-23T19:25:01.870159Z",
     "shell.execute_reply": "2023-03-23T19:25:01.869207Z"
    }
   },
   "outputs": [
    {
     "data": {
      "text/plain": [
       "dict_keys(['pressure', 'temperature', 'kzz', 'latitude', 'longitude'])"
      ]
     },
     "execution_count": 4,
     "metadata": {},
     "output_type": "execute_result"
    }
   ],
   "source": [
    "gcm_out.keys()"
   ]
  },
  {
   "cell_type": "markdown",
   "metadata": {},
   "source": [
    "In this example, pressure, temperature, and kzz are all on a coordinate system that is : \n",
    "\n",
    "n_longitude (128) x n_latitude (64) x n_pressure (53)\n"
   ]
  },
  {
   "cell_type": "code",
   "execution_count": 5,
   "metadata": {
    "execution": {
     "iopub.execute_input": "2023-03-23T19:25:01.875338Z",
     "iopub.status.busy": "2023-03-23T19:25:01.874724Z",
     "iopub.status.idle": "2023-03-23T19:25:01.877231Z",
     "shell.execute_reply": "2023-03-23T19:25:01.877737Z"
    }
   },
   "outputs": [
    {
     "data": {
      "text/plain": [
       "((128, 64, 53), 128, 64)"
      ]
     },
     "execution_count": 5,
     "metadata": {},
     "output_type": "execute_result"
    }
   ],
   "source": [
    "gcm_out['temperature'].shape, len(gcm_out['longitude']), len(gcm_out['latitude'])"
   ]
  },
  {
   "cell_type": "markdown",
   "metadata": {},
   "source": [
    "## `xarray` tutorial: Convert `numpy` arrays to  `xarray` DataSet\n",
    "\n",
    "The comments with `required` next to them indicate that they are required for `picaso` to create a spectrum"
   ]
  },
  {
   "cell_type": "code",
   "execution_count": 6,
   "metadata": {
    "execution": {
     "iopub.execute_input": "2023-03-23T19:25:01.883800Z",
     "iopub.status.busy": "2023-03-23T19:25:01.883326Z",
     "iopub.status.idle": "2023-03-23T19:25:01.885072Z",
     "shell.execute_reply": "2023-03-23T19:25:01.884682Z"
    }
   },
   "outputs": [],
   "source": [
    "# create data\n",
    "data = gcm_out['temperature']\n",
    "\n",
    "# create coords\n",
    "lon = gcm_out['longitude']\n",
    "lat = gcm_out['latitude']\n",
    "pres = gcm_out['pressure'][0,0,:]\n",
    "\n",
    "# put data into a dataset\n",
    "ds = xr.Dataset(\n",
    "    data_vars=dict(\n",
    "        temperature=([\"lon\", \"lat\",\"pressure\"], data,{'units': 'Kelvin'})#, required\n",
    "        #kzz = ([\"x\", \"y\",\"z\"], gcm_out['kzz'])#could add other data components if wanted\n",
    "    ),\n",
    "    coords=dict(\n",
    "        lon=([\"lon\"], lon,{'units': 'degrees'}),#required\n",
    "        lat=([\"lat\"], lat,{'units': 'degrees'}),#required\n",
    "        pressure=([\"pressure\"], pres,{'units': 'bar'})#required*\n",
    "    ),\n",
    "    attrs=dict(description=\"coords with vectors\"),\n",
    ")"
   ]
  },
  {
   "cell_type": "code",
   "execution_count": 7,
   "metadata": {
    "execution": {
     "iopub.execute_input": "2023-03-23T19:25:01.898676Z",
     "iopub.status.busy": "2023-03-23T19:25:01.898059Z",
     "iopub.status.idle": "2023-03-23T19:25:01.905054Z",
     "shell.execute_reply": "2023-03-23T19:25:01.905748Z"
    }
   },
   "outputs": [
    {
     "data": {
      "text/html": [
       "<div><svg style=\"position: absolute; width: 0; height: 0; overflow: hidden\">\n",
       "<defs>\n",
       "<symbol id=\"icon-database\" viewBox=\"0 0 32 32\">\n",
       "<path d=\"M16 0c-8.837 0-16 2.239-16 5v4c0 2.761 7.163 5 16 5s16-2.239 16-5v-4c0-2.761-7.163-5-16-5z\"></path>\n",
       "<path d=\"M16 17c-8.837 0-16-2.239-16-5v6c0 2.761 7.163 5 16 5s16-2.239 16-5v-6c0 2.761-7.163 5-16 5z\"></path>\n",
       "<path d=\"M16 26c-8.837 0-16-2.239-16-5v6c0 2.761 7.163 5 16 5s16-2.239 16-5v-6c0 2.761-7.163 5-16 5z\"></path>\n",
       "</symbol>\n",
       "<symbol id=\"icon-file-text2\" viewBox=\"0 0 32 32\">\n",
       "<path d=\"M28.681 7.159c-0.694-0.947-1.662-2.053-2.724-3.116s-2.169-2.030-3.116-2.724c-1.612-1.182-2.393-1.319-2.841-1.319h-15.5c-1.378 0-2.5 1.121-2.5 2.5v27c0 1.378 1.122 2.5 2.5 2.5h23c1.378 0 2.5-1.122 2.5-2.5v-19.5c0-0.448-0.137-1.23-1.319-2.841zM24.543 5.457c0.959 0.959 1.712 1.825 2.268 2.543h-4.811v-4.811c0.718 0.556 1.584 1.309 2.543 2.268zM28 29.5c0 0.271-0.229 0.5-0.5 0.5h-23c-0.271 0-0.5-0.229-0.5-0.5v-27c0-0.271 0.229-0.5 0.5-0.5 0 0 15.499-0 15.5 0v7c0 0.552 0.448 1 1 1h7v19.5z\"></path>\n",
       "<path d=\"M23 26h-14c-0.552 0-1-0.448-1-1s0.448-1 1-1h14c0.552 0 1 0.448 1 1s-0.448 1-1 1z\"></path>\n",
       "<path d=\"M23 22h-14c-0.552 0-1-0.448-1-1s0.448-1 1-1h14c0.552 0 1 0.448 1 1s-0.448 1-1 1z\"></path>\n",
       "<path d=\"M23 18h-14c-0.552 0-1-0.448-1-1s0.448-1 1-1h14c0.552 0 1 0.448 1 1s-0.448 1-1 1z\"></path>\n",
       "</symbol>\n",
       "</defs>\n",
       "</svg>\n",
       "<style>/* CSS stylesheet for displaying xarray objects in jupyterlab.\n",
       " *\n",
       " */\n",
       "\n",
       ":root {\n",
       "  --xr-font-color0: var(--jp-content-font-color0, rgba(0, 0, 0, 1));\n",
       "  --xr-font-color2: var(--jp-content-font-color2, rgba(0, 0, 0, 0.54));\n",
       "  --xr-font-color3: var(--jp-content-font-color3, rgba(0, 0, 0, 0.38));\n",
       "  --xr-border-color: var(--jp-border-color2, #e0e0e0);\n",
       "  --xr-disabled-color: var(--jp-layout-color3, #bdbdbd);\n",
       "  --xr-background-color: var(--jp-layout-color0, white);\n",
       "  --xr-background-color-row-even: var(--jp-layout-color1, white);\n",
       "  --xr-background-color-row-odd: var(--jp-layout-color2, #eeeeee);\n",
       "}\n",
       "\n",
       "html[theme=dark],\n",
       "body.vscode-dark {\n",
       "  --xr-font-color0: rgba(255, 255, 255, 1);\n",
       "  --xr-font-color2: rgba(255, 255, 255, 0.54);\n",
       "  --xr-font-color3: rgba(255, 255, 255, 0.38);\n",
       "  --xr-border-color: #1F1F1F;\n",
       "  --xr-disabled-color: #515151;\n",
       "  --xr-background-color: #111111;\n",
       "  --xr-background-color-row-even: #111111;\n",
       "  --xr-background-color-row-odd: #313131;\n",
       "}\n",
       "\n",
       ".xr-wrap {\n",
       "  display: block;\n",
       "  min-width: 300px;\n",
       "  max-width: 700px;\n",
       "}\n",
       "\n",
       ".xr-text-repr-fallback {\n",
       "  /* fallback to plain text repr when CSS is not injected (untrusted notebook) */\n",
       "  display: none;\n",
       "}\n",
       "\n",
       ".xr-header {\n",
       "  padding-top: 6px;\n",
       "  padding-bottom: 6px;\n",
       "  margin-bottom: 4px;\n",
       "  border-bottom: solid 1px var(--xr-border-color);\n",
       "}\n",
       "\n",
       ".xr-header > div,\n",
       ".xr-header > ul {\n",
       "  display: inline;\n",
       "  margin-top: 0;\n",
       "  margin-bottom: 0;\n",
       "}\n",
       "\n",
       ".xr-obj-type,\n",
       ".xr-array-name {\n",
       "  margin-left: 2px;\n",
       "  margin-right: 10px;\n",
       "}\n",
       "\n",
       ".xr-obj-type {\n",
       "  color: var(--xr-font-color2);\n",
       "}\n",
       "\n",
       ".xr-sections {\n",
       "  padding-left: 0 !important;\n",
       "  display: grid;\n",
       "  grid-template-columns: 150px auto auto 1fr 20px 20px;\n",
       "}\n",
       "\n",
       ".xr-section-item {\n",
       "  display: contents;\n",
       "}\n",
       "\n",
       ".xr-section-item input {\n",
       "  display: none;\n",
       "}\n",
       "\n",
       ".xr-section-item input + label {\n",
       "  color: var(--xr-disabled-color);\n",
       "}\n",
       "\n",
       ".xr-section-item input:enabled + label {\n",
       "  cursor: pointer;\n",
       "  color: var(--xr-font-color2);\n",
       "}\n",
       "\n",
       ".xr-section-item input:enabled + label:hover {\n",
       "  color: var(--xr-font-color0);\n",
       "}\n",
       "\n",
       ".xr-section-summary {\n",
       "  grid-column: 1;\n",
       "  color: var(--xr-font-color2);\n",
       "  font-weight: 500;\n",
       "}\n",
       "\n",
       ".xr-section-summary > span {\n",
       "  display: inline-block;\n",
       "  padding-left: 0.5em;\n",
       "}\n",
       "\n",
       ".xr-section-summary-in:disabled + label {\n",
       "  color: var(--xr-font-color2);\n",
       "}\n",
       "\n",
       ".xr-section-summary-in + label:before {\n",
       "  display: inline-block;\n",
       "  content: '►';\n",
       "  font-size: 11px;\n",
       "  width: 15px;\n",
       "  text-align: center;\n",
       "}\n",
       "\n",
       ".xr-section-summary-in:disabled + label:before {\n",
       "  color: var(--xr-disabled-color);\n",
       "}\n",
       "\n",
       ".xr-section-summary-in:checked + label:before {\n",
       "  content: '▼';\n",
       "}\n",
       "\n",
       ".xr-section-summary-in:checked + label > span {\n",
       "  display: none;\n",
       "}\n",
       "\n",
       ".xr-section-summary,\n",
       ".xr-section-inline-details {\n",
       "  padding-top: 4px;\n",
       "  padding-bottom: 4px;\n",
       "}\n",
       "\n",
       ".xr-section-inline-details {\n",
       "  grid-column: 2 / -1;\n",
       "}\n",
       "\n",
       ".xr-section-details {\n",
       "  display: none;\n",
       "  grid-column: 1 / -1;\n",
       "  margin-bottom: 5px;\n",
       "}\n",
       "\n",
       ".xr-section-summary-in:checked ~ .xr-section-details {\n",
       "  display: contents;\n",
       "}\n",
       "\n",
       ".xr-array-wrap {\n",
       "  grid-column: 1 / -1;\n",
       "  display: grid;\n",
       "  grid-template-columns: 20px auto;\n",
       "}\n",
       "\n",
       ".xr-array-wrap > label {\n",
       "  grid-column: 1;\n",
       "  vertical-align: top;\n",
       "}\n",
       "\n",
       ".xr-preview {\n",
       "  color: var(--xr-font-color3);\n",
       "}\n",
       "\n",
       ".xr-array-preview,\n",
       ".xr-array-data {\n",
       "  padding: 0 5px !important;\n",
       "  grid-column: 2;\n",
       "}\n",
       "\n",
       ".xr-array-data,\n",
       ".xr-array-in:checked ~ .xr-array-preview {\n",
       "  display: none;\n",
       "}\n",
       "\n",
       ".xr-array-in:checked ~ .xr-array-data,\n",
       ".xr-array-preview {\n",
       "  display: inline-block;\n",
       "}\n",
       "\n",
       ".xr-dim-list {\n",
       "  display: inline-block !important;\n",
       "  list-style: none;\n",
       "  padding: 0 !important;\n",
       "  margin: 0;\n",
       "}\n",
       "\n",
       ".xr-dim-list li {\n",
       "  display: inline-block;\n",
       "  padding: 0;\n",
       "  margin: 0;\n",
       "}\n",
       "\n",
       ".xr-dim-list:before {\n",
       "  content: '(';\n",
       "}\n",
       "\n",
       ".xr-dim-list:after {\n",
       "  content: ')';\n",
       "}\n",
       "\n",
       ".xr-dim-list li:not(:last-child):after {\n",
       "  content: ',';\n",
       "  padding-right: 5px;\n",
       "}\n",
       "\n",
       ".xr-has-index {\n",
       "  font-weight: bold;\n",
       "}\n",
       "\n",
       ".xr-var-list,\n",
       ".xr-var-item {\n",
       "  display: contents;\n",
       "}\n",
       "\n",
       ".xr-var-item > div,\n",
       ".xr-var-item label,\n",
       ".xr-var-item > .xr-var-name span {\n",
       "  background-color: var(--xr-background-color-row-even);\n",
       "  margin-bottom: 0;\n",
       "}\n",
       "\n",
       ".xr-var-item > .xr-var-name:hover span {\n",
       "  padding-right: 5px;\n",
       "}\n",
       "\n",
       ".xr-var-list > li:nth-child(odd) > div,\n",
       ".xr-var-list > li:nth-child(odd) > label,\n",
       ".xr-var-list > li:nth-child(odd) > .xr-var-name span {\n",
       "  background-color: var(--xr-background-color-row-odd);\n",
       "}\n",
       "\n",
       ".xr-var-name {\n",
       "  grid-column: 1;\n",
       "}\n",
       "\n",
       ".xr-var-dims {\n",
       "  grid-column: 2;\n",
       "}\n",
       "\n",
       ".xr-var-dtype {\n",
       "  grid-column: 3;\n",
       "  text-align: right;\n",
       "  color: var(--xr-font-color2);\n",
       "}\n",
       "\n",
       ".xr-var-preview {\n",
       "  grid-column: 4;\n",
       "}\n",
       "\n",
       ".xr-var-name,\n",
       ".xr-var-dims,\n",
       ".xr-var-dtype,\n",
       ".xr-preview,\n",
       ".xr-attrs dt {\n",
       "  white-space: nowrap;\n",
       "  overflow: hidden;\n",
       "  text-overflow: ellipsis;\n",
       "  padding-right: 10px;\n",
       "}\n",
       "\n",
       ".xr-var-name:hover,\n",
       ".xr-var-dims:hover,\n",
       ".xr-var-dtype:hover,\n",
       ".xr-attrs dt:hover {\n",
       "  overflow: visible;\n",
       "  width: auto;\n",
       "  z-index: 1;\n",
       "}\n",
       "\n",
       ".xr-var-attrs,\n",
       ".xr-var-data {\n",
       "  display: none;\n",
       "  background-color: var(--xr-background-color) !important;\n",
       "  padding-bottom: 5px !important;\n",
       "}\n",
       "\n",
       ".xr-var-attrs-in:checked ~ .xr-var-attrs,\n",
       ".xr-var-data-in:checked ~ .xr-var-data {\n",
       "  display: block;\n",
       "}\n",
       "\n",
       ".xr-var-data > table {\n",
       "  float: right;\n",
       "}\n",
       "\n",
       ".xr-var-name span,\n",
       ".xr-var-data,\n",
       ".xr-attrs {\n",
       "  padding-left: 25px !important;\n",
       "}\n",
       "\n",
       ".xr-attrs,\n",
       ".xr-var-attrs,\n",
       ".xr-var-data {\n",
       "  grid-column: 1 / -1;\n",
       "}\n",
       "\n",
       "dl.xr-attrs {\n",
       "  padding: 0;\n",
       "  margin: 0;\n",
       "  display: grid;\n",
       "  grid-template-columns: 125px auto;\n",
       "}\n",
       "\n",
       ".xr-attrs dt,\n",
       ".xr-attrs dd {\n",
       "  padding: 0;\n",
       "  margin: 0;\n",
       "  float: left;\n",
       "  padding-right: 10px;\n",
       "  width: auto;\n",
       "}\n",
       "\n",
       ".xr-attrs dt {\n",
       "  font-weight: normal;\n",
       "  grid-column: 1;\n",
       "}\n",
       "\n",
       ".xr-attrs dt:hover span {\n",
       "  display: inline-block;\n",
       "  background: var(--xr-background-color);\n",
       "  padding-right: 10px;\n",
       "}\n",
       "\n",
       ".xr-attrs dd {\n",
       "  grid-column: 2;\n",
       "  white-space: pre-wrap;\n",
       "  word-break: break-all;\n",
       "}\n",
       "\n",
       ".xr-icon-database,\n",
       ".xr-icon-file-text2 {\n",
       "  display: inline-block;\n",
       "  vertical-align: middle;\n",
       "  width: 1em;\n",
       "  height: 1.5em !important;\n",
       "  stroke-width: 0;\n",
       "  stroke: currentColor;\n",
       "  fill: currentColor;\n",
       "}\n",
       "</style><pre class='xr-text-repr-fallback'>&lt;xarray.Dataset&gt;\n",
       "Dimensions:      (lon: 128, lat: 64, pressure: 53)\n",
       "Coordinates:\n",
       "  * lon          (lon) float64 -180.0 -177.2 -174.4 -171.6 ... 171.6 174.4 177.2\n",
       "  * lat          (lat) float64 -90.0 -87.19 -84.38 -81.56 ... 81.56 84.38 87.19\n",
       "  * pressure     (pressure) float64 170.6 120.5 85.15 ... 3.42e-06 2.416e-06\n",
       "Data variables:\n",
       "    temperature  (lon, lat, pressure) float64 1.896e+03 1.809e+03 ... 750.7\n",
       "Attributes:\n",
       "    description:  coords with vectors</pre><div class='xr-wrap' hidden><div class='xr-header'><div class='xr-obj-type'>xarray.Dataset</div></div><ul class='xr-sections'><li class='xr-section-item'><input id='section-863bed6d-8785-47df-af1d-c66a859e4648' class='xr-section-summary-in' type='checkbox' disabled ><label for='section-863bed6d-8785-47df-af1d-c66a859e4648' class='xr-section-summary'  title='Expand/collapse section'>Dimensions:</label><div class='xr-section-inline-details'><ul class='xr-dim-list'><li><span class='xr-has-index'>lon</span>: 128</li><li><span class='xr-has-index'>lat</span>: 64</li><li><span class='xr-has-index'>pressure</span>: 53</li></ul></div><div class='xr-section-details'></div></li><li class='xr-section-item'><input id='section-180c6806-ec47-47f8-88c0-72bd2143318d' class='xr-section-summary-in' type='checkbox'  checked><label for='section-180c6806-ec47-47f8-88c0-72bd2143318d' class='xr-section-summary' >Coordinates: <span>(3)</span></label><div class='xr-section-inline-details'></div><div class='xr-section-details'><ul class='xr-var-list'><li class='xr-var-item'><div class='xr-var-name'><span class='xr-has-index'>lon</span></div><div class='xr-var-dims'>(lon)</div><div class='xr-var-dtype'>float64</div><div class='xr-var-preview xr-preview'>-180.0 -177.2 ... 174.4 177.2</div><input id='attrs-ad474533-a1c2-44e2-a41e-d44e8148cda3' class='xr-var-attrs-in' type='checkbox' ><label for='attrs-ad474533-a1c2-44e2-a41e-d44e8148cda3' title='Show/Hide attributes'><svg class='icon xr-icon-file-text2'><use xlink:href='#icon-file-text2'></use></svg></label><input id='data-8d4cb0a0-bcdc-4d38-ac5f-81b8de12177c' class='xr-var-data-in' type='checkbox'><label for='data-8d4cb0a0-bcdc-4d38-ac5f-81b8de12177c' title='Show/Hide data repr'><svg class='icon xr-icon-database'><use xlink:href='#icon-database'></use></svg></label><div class='xr-var-attrs'><dl class='xr-attrs'><dt><span>units :</span></dt><dd>degrees</dd></dl></div><div class='xr-var-data'><pre>array([-180.    , -177.1875, -174.375 , -171.5625, -168.75  , -165.9375,\n",
       "       -163.125 , -160.3125, -157.5   , -154.6875, -151.875 , -149.0625,\n",
       "       -146.25  , -143.4375, -140.625 , -137.8125, -135.    , -132.1875,\n",
       "       -129.375 , -126.5625, -123.75  , -120.9375, -118.125 , -115.3125,\n",
       "       -112.5   , -109.6875, -106.875 , -104.0625, -101.25  ,  -98.4375,\n",
       "        -95.625 ,  -92.8125,  -90.    ,  -87.1875,  -84.375 ,  -81.5625,\n",
       "        -78.75  ,  -75.9375,  -73.125 ,  -70.3125,  -67.5   ,  -64.6875,\n",
       "        -61.875 ,  -59.0625,  -56.25  ,  -53.4375,  -50.625 ,  -47.8125,\n",
       "        -45.    ,  -42.1875,  -39.375 ,  -36.5625,  -33.75  ,  -30.9375,\n",
       "        -28.125 ,  -25.3125,  -22.5   ,  -19.6875,  -16.875 ,  -14.0625,\n",
       "        -11.25  ,   -8.4375,   -5.625 ,   -2.8125,    0.    ,    2.8125,\n",
       "          5.625 ,    8.4375,   11.25  ,   14.0625,   16.875 ,   19.6875,\n",
       "         22.5   ,   25.3125,   28.125 ,   30.9375,   33.75  ,   36.5625,\n",
       "         39.375 ,   42.1875,   45.    ,   47.8125,   50.625 ,   53.4375,\n",
       "         56.25  ,   59.0625,   61.875 ,   64.6875,   67.5   ,   70.3125,\n",
       "         73.125 ,   75.9375,   78.75  ,   81.5625,   84.375 ,   87.1875,\n",
       "         90.    ,   92.8125,   95.625 ,   98.4375,  101.25  ,  104.0625,\n",
       "        106.875 ,  109.6875,  112.5   ,  115.3125,  118.125 ,  120.9375,\n",
       "        123.75  ,  126.5625,  129.375 ,  132.1875,  135.    ,  137.8125,\n",
       "        140.625 ,  143.4375,  146.25  ,  149.0625,  151.875 ,  154.6875,\n",
       "        157.5   ,  160.3125,  163.125 ,  165.9375,  168.75  ,  171.5625,\n",
       "        174.375 ,  177.1875])</pre></div></li><li class='xr-var-item'><div class='xr-var-name'><span class='xr-has-index'>lat</span></div><div class='xr-var-dims'>(lat)</div><div class='xr-var-dtype'>float64</div><div class='xr-var-preview xr-preview'>-90.0 -87.19 -84.38 ... 84.38 87.19</div><input id='attrs-d224732d-801e-4378-aeeb-fbef7df5af91' class='xr-var-attrs-in' type='checkbox' ><label for='attrs-d224732d-801e-4378-aeeb-fbef7df5af91' title='Show/Hide attributes'><svg class='icon xr-icon-file-text2'><use xlink:href='#icon-file-text2'></use></svg></label><input id='data-510bdf81-1837-4719-82ad-f6157ba6df5f' class='xr-var-data-in' type='checkbox'><label for='data-510bdf81-1837-4719-82ad-f6157ba6df5f' title='Show/Hide data repr'><svg class='icon xr-icon-database'><use xlink:href='#icon-database'></use></svg></label><div class='xr-var-attrs'><dl class='xr-attrs'><dt><span>units :</span></dt><dd>degrees</dd></dl></div><div class='xr-var-data'><pre>array([-90.    , -87.1875, -84.375 , -81.5625, -78.75  , -75.9375, -73.125 ,\n",
       "       -70.3125, -67.5   , -64.6875, -61.875 , -59.0625, -56.25  , -53.4375,\n",
       "       -50.625 , -47.8125, -45.    , -42.1875, -39.375 , -36.5625, -33.75  ,\n",
       "       -30.9375, -28.125 , -25.3125, -22.5   , -19.6875, -16.875 , -14.0625,\n",
       "       -11.25  ,  -8.4375,  -5.625 ,  -2.8125,   0.    ,   2.8125,   5.625 ,\n",
       "         8.4375,  11.25  ,  14.0625,  16.875 ,  19.6875,  22.5   ,  25.3125,\n",
       "        28.125 ,  30.9375,  33.75  ,  36.5625,  39.375 ,  42.1875,  45.    ,\n",
       "        47.8125,  50.625 ,  53.4375,  56.25  ,  59.0625,  61.875 ,  64.6875,\n",
       "        67.5   ,  70.3125,  73.125 ,  75.9375,  78.75  ,  81.5625,  84.375 ,\n",
       "        87.1875])</pre></div></li><li class='xr-var-item'><div class='xr-var-name'><span class='xr-has-index'>pressure</span></div><div class='xr-var-dims'>(pressure)</div><div class='xr-var-dtype'>float64</div><div class='xr-var-preview xr-preview'>170.6 120.5 ... 3.42e-06 2.416e-06</div><input id='attrs-a60bd62a-5ffb-40ef-bc1a-fe8f071a1000' class='xr-var-attrs-in' type='checkbox' ><label for='attrs-a60bd62a-5ffb-40ef-bc1a-fe8f071a1000' title='Show/Hide attributes'><svg class='icon xr-icon-file-text2'><use xlink:href='#icon-file-text2'></use></svg></label><input id='data-ce9f3297-7f8e-4e57-a7c3-62968d81de37' class='xr-var-data-in' type='checkbox'><label for='data-ce9f3297-7f8e-4e57-a7c3-62968d81de37' title='Show/Hide data repr'><svg class='icon xr-icon-database'><use xlink:href='#icon-database'></use></svg></label><div class='xr-var-attrs'><dl class='xr-attrs'><dt><span>units :</span></dt><dd>bar</dd></dl></div><div class='xr-var-data'><pre>array([1.706410e+02, 1.205424e+02, 8.515232e+01, 6.015242e+01, 4.249225e+01,\n",
       "       3.001693e+01, 2.120425e+01, 1.497889e+01, 1.058123e+01, 7.474682e+00,\n",
       "       5.280187e+00, 3.729975e+00, 2.634890e+00, 1.861312e+00, 1.314849e+00,\n",
       "       9.288217e-01, 6.561286e-01, 4.634955e-01, 3.274177e-01, 2.312910e-01,\n",
       "       1.633862e-01, 1.154176e-01, 8.153209e-02, 5.759505e-02, 4.068570e-02,\n",
       "       2.874077e-02, 2.030276e-02, 1.434206e-02, 1.013137e-02, 7.156898e-03,\n",
       "       5.055701e-03, 3.571396e-03, 2.522868e-03, 1.782179e-03, 1.258948e-03,\n",
       "       8.893330e-04, 6.282334e-04, 4.437901e-04, 3.134976e-04, 2.214577e-04,\n",
       "       1.564399e-04, 1.105106e-04, 7.806577e-05, 5.514641e-05, 3.895596e-05,\n",
       "       2.751886e-05, 1.943959e-05, 1.373231e-05, 9.700637e-06, 6.852624e-06,\n",
       "       4.840759e-06, 3.419559e-06, 2.415609e-06])</pre></div></li></ul></div></li><li class='xr-section-item'><input id='section-a0247d3f-8c60-46c5-b776-d5bed52c52f8' class='xr-section-summary-in' type='checkbox'  checked><label for='section-a0247d3f-8c60-46c5-b776-d5bed52c52f8' class='xr-section-summary' >Data variables: <span>(1)</span></label><div class='xr-section-inline-details'></div><div class='xr-section-details'><ul class='xr-var-list'><li class='xr-var-item'><div class='xr-var-name'><span>temperature</span></div><div class='xr-var-dims'>(lon, lat, pressure)</div><div class='xr-var-dtype'>float64</div><div class='xr-var-preview xr-preview'>1.896e+03 1.809e+03 ... 742.2 750.7</div><input id='attrs-5dba85b3-e3b4-4d23-86d1-014043886f2d' class='xr-var-attrs-in' type='checkbox' ><label for='attrs-5dba85b3-e3b4-4d23-86d1-014043886f2d' title='Show/Hide attributes'><svg class='icon xr-icon-file-text2'><use xlink:href='#icon-file-text2'></use></svg></label><input id='data-f12cb60b-fd0d-413b-8944-93625bcc1142' class='xr-var-data-in' type='checkbox'><label for='data-f12cb60b-fd0d-413b-8944-93625bcc1142' title='Show/Hide data repr'><svg class='icon xr-icon-database'><use xlink:href='#icon-database'></use></svg></label><div class='xr-var-attrs'><dl class='xr-attrs'><dt><span>units :</span></dt><dd>Kelvin</dd></dl></div><div class='xr-var-data'><pre>array([[[1895.999275, 1809.121113, 1810.600187, ...,  752.67337 ,\n",
       "          746.530746,  749.708642],\n",
       "        [1895.999275, 1809.121113, 1810.600187, ...,  752.67337 ,\n",
       "          746.530746,  749.708642],\n",
       "        [1895.716972, 1808.89245 , 1810.411931, ...,  717.194494,\n",
       "          711.506145,  711.312545],\n",
       "        ...,\n",
       "        [1895.353431, 1808.95781 , 1810.687147, ...,  717.226621,\n",
       "          698.5958  ,  693.9048  ],\n",
       "        [1895.471174, 1809.351488, 1811.012275, ...,  732.416455,\n",
       "          714.059484,  715.899159],\n",
       "        [1895.80702 , 1809.56343 , 1811.111388, ...,  759.101309,\n",
       "          742.338831,  750.738207]],\n",
       "\n",
       "       [[1895.994123, 1809.121967, 1810.598869, ...,  752.711552,\n",
       "          746.711958,  749.782784],\n",
       "        [1895.994123, 1809.121967, 1810.598869, ...,  752.711552,\n",
       "          746.711958,  749.782784],\n",
       "        [1895.702917, 1808.896167, 1810.409519, ...,  717.187611,\n",
       "          711.913669,  711.371776],\n",
       "...\n",
       "        [1895.416431, 1808.926684, 1810.665788, ...,  717.178087,\n",
       "          696.714997,  693.195505],\n",
       "        [1895.504871, 1809.336616, 1811.00378 , ...,  732.313343,\n",
       "          713.182503,  715.502312],\n",
       "        [1895.819462, 1809.55877 , 1811.110091, ...,  759.090572,\n",
       "          742.159896,  750.595986]],\n",
       "\n",
       "       [[1896.004427, 1809.120258, 1810.601505, ...,  752.635188,\n",
       "          746.349534,  749.634501],\n",
       "        [1896.004427, 1809.120258, 1810.601505, ...,  752.635188,\n",
       "          746.349534,  749.634501],\n",
       "        [1895.731026, 1808.888733, 1810.414343, ...,  717.201378,\n",
       "          711.098621,  711.253313],\n",
       "        ...,\n",
       "        [1895.382358, 1808.943729, 1810.677492, ...,  717.131393,\n",
       "          697.70195 ,  693.569237],\n",
       "        [1895.488022, 1809.344052, 1811.008027, ...,  732.364899,\n",
       "          713.620993,  715.700735],\n",
       "        [1895.813241, 1809.5611  , 1811.11074 , ...,  759.095941,\n",
       "          742.249364,  750.667097]]])</pre></div></li></ul></div></li><li class='xr-section-item'><input id='section-2756145c-64d0-4dd2-98ca-f2ecc0237ff0' class='xr-section-summary-in' type='checkbox'  checked><label for='section-2756145c-64d0-4dd2-98ca-f2ecc0237ff0' class='xr-section-summary' >Attributes: <span>(1)</span></label><div class='xr-section-inline-details'></div><div class='xr-section-details'><dl class='xr-attrs'><dt><span>description :</span></dt><dd>coords with vectors</dd></dl></div></li></ul></div></div>"
      ],
      "text/plain": [
       "<xarray.Dataset>\n",
       "Dimensions:      (lon: 128, lat: 64, pressure: 53)\n",
       "Coordinates:\n",
       "  * lon          (lon) float64 -180.0 -177.2 -174.4 -171.6 ... 171.6 174.4 177.2\n",
       "  * lat          (lat) float64 -90.0 -87.19 -84.38 -81.56 ... 81.56 84.38 87.19\n",
       "  * pressure     (pressure) float64 170.6 120.5 85.15 ... 3.42e-06 2.416e-06\n",
       "Data variables:\n",
       "    temperature  (lon, lat, pressure) float64 1.896e+03 1.809e+03 ... 750.7\n",
       "Attributes:\n",
       "    description:  coords with vectors"
      ]
     },
     "execution_count": 7,
     "metadata": {},
     "output_type": "execute_result"
    }
   ],
   "source": [
    "ds"
   ]
  },
  {
   "cell_type": "markdown",
   "metadata": {},
   "source": [
    "##  `xarray` tutorial: Easy plotting"
   ]
  },
  {
   "cell_type": "code",
   "execution_count": 8,
   "metadata": {
    "execution": {
     "iopub.execute_input": "2023-03-23T19:25:01.912588Z",
     "iopub.status.busy": "2023-03-23T19:25:01.910330Z",
     "iopub.status.idle": "2023-03-23T19:25:02.093028Z",
     "shell.execute_reply": "2023-03-23T19:25:02.093930Z"
    }
   },
   "outputs": [
    {
     "data": {
      "text/plain": [
       "<matplotlib.collections.QuadMesh at 0x7f509f2914c0>"
      ]
     },
     "execution_count": 8,
     "metadata": {},
     "output_type": "execute_result"
    },
    {
     "data": {
      "image/png": "[encoded data removed]",
      "text/plain": [
       "<Figure size 432x288 with 2 Axes>"
      ]
     },
     "metadata": {
      "needs_background": "light"
     },
     "output_type": "display_data"
    }
   ],
   "source": [
    "ds['temperature'].isel(pressure=50).plot(x='lon',y='lat')"
   ]
  },
  {
   "cell_type": "markdown",
   "metadata": {},
   "source": [
    "## `xesmf` tutorial: Step-by-step regrid 3D GCM \n",
    "\n",
    "The biggest complication with moving to 3D is making sure that the latitude/longitude grids of some users GCM and `picaso` line up properly. `picaso` computes a flux integration on specific `gauss` and `tchebychev` angles. **Meaning, your GCM input will need to be regridded to fit our angles.** Luckily, as you will see below, it is very easy to do this!\n",
    "\n",
    "First, we will show you how this is done using `xesmf`, then we will introduce the `PICASO` function that leverages these same techniques. \n",
    "\n",
    "### Step 1) Get latitude/longitude grid used by `picaso`\n",
    "\n",
    "**G**auss angles are essentially equivalent to lon**G**itudes \n",
    "\n",
    "**T**chebychev angles are essentially equivalent to la**T**itudes. "
   ]
  },
  {
   "cell_type": "code",
   "execution_count": 9,
   "metadata": {
    "execution": {
     "iopub.execute_input": "2023-03-23T19:25:02.112363Z",
     "iopub.status.busy": "2023-03-23T19:25:02.100465Z",
     "iopub.status.idle": "2023-03-23T19:25:02.279452Z",
     "shell.execute_reply": "2023-03-23T19:25:02.278357Z"
    }
   },
   "outputs": [],
   "source": [
    "n_gauss_angles =10\n",
    "n_chebychev_angles=10\n",
    "\n",
    "gangle, gweight, tangle, tweight = jdi.get_angles_3d(n_gauss_angles, n_chebychev_angles)\n",
    "ubar0, ubar1, cos_theta, latitude, longitude = jdi.compute_disco(n_gauss_angles, n_chebychev_angles, gangle, tangle, phase_angle=0)\n"
   ]
  },
  {
   "cell_type": "markdown",
   "metadata": {},
   "source": [
    "### Step 2) Create the `xesmf` regridder "
   ]
  },
  {
   "cell_type": "code",
   "execution_count": 10,
   "metadata": {
    "execution": {
     "iopub.execute_input": "2023-03-23T19:25:02.286207Z",
     "iopub.status.busy": "2023-03-23T19:25:02.285092Z",
     "iopub.status.idle": "2023-03-23T19:25:02.474310Z",
     "shell.execute_reply": "2023-03-23T19:25:02.475219Z"
    }
   },
   "outputs": [
    {
     "name": "stderr",
     "output_type": "stream",
     "text": [
      "/home/nbatalh1/anaconda3/envs/picaso38/lib/python3.8/site-packages/xesmf/smm.py:130: UserWarning: Input array is not C_CONTIGUOUS. Will affect performance.\n",
      "  warnings.warn('Input array is not C_CONTIGUOUS. ' 'Will affect performance.')\n"
     ]
    }
   ],
   "source": [
    "ds_out = xr.Dataset({'lon': (['lon'], longitude*180/np.pi),\n",
    "                     'lat': (['lat'], latitude*180/np.pi),\n",
    "                    }\n",
    "                   )\n",
    "\n",
    "regridder = xe.Regridder(ds, ds_out, 'bilinear')\n",
    "ds_out = regridder(ds,keep_attrs=True)"
   ]
  },
  {
   "cell_type": "markdown",
   "metadata": {},
   "source": [
    "All done!"
   ]
  },
  {
   "cell_type": "code",
   "execution_count": 11,
   "metadata": {
    "execution": {
     "iopub.execute_input": "2023-03-23T19:25:02.491985Z",
     "iopub.status.busy": "2023-03-23T19:25:02.481999Z",
     "iopub.status.idle": "2023-03-23T19:25:02.637653Z",
     "shell.execute_reply": "2023-03-23T19:25:02.638557Z"
    }
   },
   "outputs": [
    {
     "data": {
      "text/plain": [
       "<matplotlib.collections.QuadMesh at 0x7f509be9f940>"
      ]
     },
     "execution_count": 11,
     "metadata": {},
     "output_type": "execute_result"
    },
    {
     "data": {
      "image/png": "[encoded data removed]",
      "text/plain": [
       "<Figure size 432x288 with 2 Axes>"
      ]
     },
     "metadata": {
      "needs_background": "light"
     },
     "output_type": "display_data"
    }
   ],
   "source": [
    "ds_out['temperature'].isel(pressure=10).plot(x='lon', y ='lat')"
   ]
  },
  {
   "cell_type": "markdown",
   "metadata": {},
   "source": [
    "## Regrid 3D GCM with PICASO\n",
    "\n",
    "The above code is all the PICASO built in function does -- in addition to completing some checks to make sure that your model run is on the same grid as what you are wanting PICASO run. "
   ]
  },
  {
   "cell_type": "code",
   "execution_count": 12,
   "metadata": {
    "execution": {
     "iopub.execute_input": "2023-03-23T19:25:02.643974Z",
     "iopub.status.busy": "2023-03-23T19:25:02.642875Z",
     "iopub.status.idle": "2023-03-23T19:25:05.227364Z",
     "shell.execute_reply": "2023-03-23T19:25:05.226430Z"
    }
   },
   "outputs": [],
   "source": [
    "ds =  jdi.HJ_pt_3d(as_xarray=True)"
   ]
  },
  {
   "cell_type": "markdown",
   "metadata": {},
   "source": [
    "### DIY Option 1\n",
    "\n",
    "For completeness, first here is the function `picaso` uses internally. You might use this if you want to manipulate results before supplying `picaso` with your final input."
   ]
  },
  {
   "cell_type": "code",
   "execution_count": 13,
   "metadata": {
    "execution": {
     "iopub.execute_input": "2023-03-23T19:25:05.236034Z",
     "iopub.status.busy": "2023-03-23T19:25:05.234922Z",
     "iopub.status.idle": "2023-03-23T19:25:05.456210Z",
     "shell.execute_reply": "2023-03-23T19:25:05.455441Z"
    }
   },
   "outputs": [
    {
     "name": "stdout",
     "output_type": "stream",
     "text": [
      "verbose=True;Only one data variable included. Make sure to add in chemical abundances before trying to run spectra.\n"
     ]
    },
    {
     "name": "stderr",
     "output_type": "stream",
     "text": [
      "/home/nbatalh1/anaconda3/envs/picaso38/lib/python3.8/site-packages/xesmf/smm.py:130: UserWarning: Input array is not C_CONTIGUOUS. Will affect performance.\n",
      "  warnings.warn('Input array is not C_CONTIGUOUS. ' 'Will affect performance.')\n"
     ]
    },
    {
     "data": {
      "image/png": "[encoded data removed]",
      "text/plain": [
       "<Figure size 432x288 with 2 Axes>"
      ]
     },
     "metadata": {
      "needs_background": "light"
     },
     "output_type": "display_data"
    }
   ],
   "source": [
    "#regrid yourself\n",
    "out_ds = jdi.regrid_xarray(ds, num_gangle=20, \n",
    "                               num_tangle=20, phase_angle=0) \n",
    "#then supply to picaso\n",
    "case_3d = jdi.inputs()\n",
    "case_3d.phase_angle(0, num_gangle=20, num_tangle=20)\n",
    "\n",
    "#here, regrid is false because you have already done it yourself\n",
    "case_3d.atmosphere_3d(out_ds,regrid=False,plot=True,verbose=True)"
   ]
  },
  {
   "cell_type": "markdown",
   "metadata": {},
   "source": [
    "### Easiest Option 2"
   ]
  },
  {
   "cell_type": "markdown",
   "metadata": {},
   "source": [
    "Use the regular `PICASO` workflow to regrid your 3d input"
   ]
  },
  {
   "cell_type": "code",
   "execution_count": 14,
   "metadata": {
    "execution": {
     "iopub.execute_input": "2023-03-23T19:25:05.463026Z",
     "iopub.status.busy": "2023-03-23T19:25:05.461707Z",
     "iopub.status.idle": "2023-03-23T19:25:05.676179Z",
     "shell.execute_reply": "2023-03-23T19:25:05.676707Z"
    }
   },
   "outputs": [
    {
     "name": "stdout",
     "output_type": "stream",
     "text": [
      "verbose=True;regrid=True; Regridding 3D output to ngangle=20, ntangle=20, with phase=0.\n"
     ]
    },
    {
     "name": "stdout",
     "output_type": "stream",
     "text": [
      "verbose=True;Only one data variable included. Make sure to add in chemical abundances before trying to run spectra.\n"
     ]
    },
    {
     "data": {
      "image/png": "[encoded data removed]",
      "text/plain": [
       "<Figure size 432x288 with 2 Axes>"
      ]
     },
     "metadata": {
      "needs_background": "light"
     },
     "output_type": "display_data"
    }
   ],
   "source": [
    "case_3d = jdi.inputs()\n",
    "case_3d.phase_angle(0, num_gangle=20, num_tangle=20)\n",
    "#regrid is True as you will do it within the function\n",
    "case_3d.atmosphere_3d(ds,regrid=True,plot=True,verbose=True)"
   ]
  },
  {
   "cell_type": "markdown",
   "metadata": {},
   "source": [
    "We have solved regridding our temperature-pressure profile. However, PICASO has notified us of another step we must take before running a spectrum: *verbose=True;Only one data variable included. Make sure to add in chemical abundances before trying to run spectra.* \n",
    "\n",
    "In the next notebook you will see how to add chemistry and/or clouds to your 3D input. "
   ]
  }
 ],
 "metadata": {
  "kernelspec": {
   "display_name": "Python 3 (ipykernel)",
   "language": "python",
   "name": "python3"
  },
  "language_info": {
   "codemirror_mode": {
    "name": "ipython",
    "version": 3
   },
   "file_extension": ".py",
   "mimetype": "text/x-python",
   "name": "python",
   "nbconvert_exporter": "python",
   "pygments_lexer": "ipython3",
   "version": "3.8.12"
  },
  "toc": {
   "base_numbering": 1,
   "nav_menu": {},
   "number_sections": true,
   "sideBar": true,
   "skip_h1_title": false,
   "title_cell": "Table of Contents",
   "title_sidebar": "Contents",
   "toc_cell": true,
   "toc_position": {},
   "toc_section_display": true,
   "toc_window_display": false
  }
 },
 "nbformat": 4,
 "nbformat_minor": 4
}
