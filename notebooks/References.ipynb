{
 "cells": [
  {
   "cell_type": "markdown",
   "id": "b8db18fd",
   "metadata": {},
   "source": [
    "# What do I reference? \n",
    "\n",
    "This notebook shows you how to get the references you need based on:\n",
    "- your `full_output` data bundle\n",
    "- specified molecules\n",
    "- specified methods (e.g. 1d spectra vs climate) "
   ]
  },
  {
   "cell_type": "code",
   "execution_count": 1,
   "id": "b13c9271",
   "metadata": {
    "execution": {
     "iopub.execute_input": "2024-11-13T21:21:16.721329Z",
     "iopub.status.busy": "2024-11-13T21:21:16.720739Z",
     "iopub.status.idle": "2024-11-13T21:21:18.511345Z",
     "shell.execute_reply": "2024-11-13T21:21:18.510256Z"
    }
   },
   "outputs": [],
   "source": [
    "import picaso.justdoit as jdi\n",
    "import picaso.references as pref"
   ]
  },
  {
   "cell_type": "markdown",
   "id": "4a7c4a03",
   "metadata": {},
   "source": [
    "Let's set up a quick little model run so that we can see how the reference function works"
   ]
  },
  {
   "cell_type": "code",
   "execution_count": 2,
   "id": "000e4824",
   "metadata": {
    "execution": {
     "iopub.execute_input": "2024-11-13T21:21:18.516572Z",
     "iopub.status.busy": "2024-11-13T21:21:18.516189Z",
     "iopub.status.idle": "2024-11-13T21:21:20.840658Z",
     "shell.execute_reply": "2024-11-13T21:21:20.839943Z"
    }
   },
   "outputs": [],
   "source": [
    "opa = jdi.opannection(wave_range=[0.3,1]) #lets just use all defaults\n",
    "planet=jdi.inputs()\n",
    "planet.phase_angle(0) #radians\n",
    "planet.gravity(gravity=25, gravity_unit=jdi.u.Unit('m/(s**2)')) #any astropy units available\n",
    "planet.star(opa, 5000,0,4.0) #opacity db, pysynphot database, temp, metallicity, logg\n",
    "planet.atmosphere(filename=jdi.jupiter_pt(), sep='\\s+')\n",
    "full_output=planet.spectrum(opa, full_output=True)"
   ]
  },
  {
   "cell_type": "markdown",
   "id": "978a1928",
   "metadata": {},
   "source": [
    "## Get opacity data references based on model output"
   ]
  },
  {
   "cell_type": "code",
   "execution_count": 3,
   "id": "7b54700d",
   "metadata": {
    "execution": {
     "iopub.execute_input": "2024-11-13T21:21:20.845766Z",
     "iopub.status.busy": "2024-11-13T21:21:20.845443Z",
     "iopub.status.idle": "2024-11-13T21:21:20.872897Z",
     "shell.execute_reply": "2024-11-13T21:21:20.872186Z"
    }
   },
   "outputs": [
    {
     "name": "stderr",
     "output_type": "stream",
     "text": [
      "WARNING:root:Unknown block type <class 'bibtexparser.model.DuplicateBlockKeyBlock'>\n"
     ]
    },
    {
     "name": "stderr",
     "output_type": "stream",
     "text": [
      "WARNING:root:Unknown block type <class 'bibtexparser.model.DuplicateBlockKeyBlock'>\n"
     ]
    },
    {
     "name": "stderr",
     "output_type": "stream",
     "text": [
      "WARNING:root:Unknown block type <class 'bibtexparser.model.DuplicateBlockKeyBlock'>\n"
     ]
    }
   ],
   "source": [
    "refs = pref.References() \n",
    "opa_latex, bibdb = refs.get_opa(full_output=full_output['full_output'])"
   ]
  },
  {
   "cell_type": "code",
   "execution_count": 4,
   "id": "c88e3e0f",
   "metadata": {
    "execution": {
     "iopub.execute_input": "2024-11-13T21:21:20.876585Z",
     "iopub.status.busy": "2024-11-13T21:21:20.876326Z",
     "iopub.status.idle": "2024-11-13T21:21:20.879646Z",
     "shell.execute_reply": "2024-11-13T21:21:20.879150Z"
    }
   },
   "outputs": [
    {
     "name": "stdout",
     "output_type": "stream",
     "text": [
      "\n",
      "        \\begin{table*}\n",
      "        \\centering\n",
      "        \\begin{tabular}{c|c}\n",
      "        H2 &  \\citet{HITRAN2016} \\\\ \n",
      "        VO &  \\citet{McKemmish16,GharibNezhad2021} \\\\ \n",
      "        TiO &  \\citet{McKemmish2019TiO,GharibNezhad2021} \\\\ \n",
      "        CO2 &  \\citet{HUANG2014reliable} \\\\ \n",
      "        H2O &  \\citet{Polyansky2018H2O} \\\\ \n",
      "        CH4 &  \\citet{yurchenko13vibrational,yurchenko_2014} \\\\ \n",
      "        CO &  \\citet{HITEMP2010,HITRAN2016,li15rovibrational} \\\\ \n",
      "        NH3 &  \\citet{yurchenko11vibrationally,Wilzewski16} \\\\ \n",
      "        N2 &  \\citet{hitran2012} \\\\ \n",
      "        PH3 &  \\citet{sousa14exomol} \\\\ \n",
      "        H2--H2 &  \\citet{Saumon12,Lenzuni1991h2h2} \\\\ \n",
      "        H2--He &  \\citet{Saumon12} \\\\ \n",
      "        H2--N2 &  \\citet{Saumon12} \\\\ \n",
      "        H2--H &  \\citet{Saumon12} \\\\ \n",
      "        H2--CH4 &  \\citet{Saumon12} \\\\ \n",
      "        H-bf &  \\citet{Bell1987Hff} \\\\ \n",
      "        H2- &  \\citet{bell1980free} \\\\ \n",
      "        \n",
      "            \\end{tabular}\n",
      "            \\caption{Line lists used to make PICASO Opacities}\n",
      "            \\label{tab:opas}\n",
      "        \\end{table*}\n",
      "        \n"
     ]
    }
   ],
   "source": [
    "print(opa_latex)"
   ]
  },
  {
   "cell_type": "code",
   "execution_count": 5,
   "id": "f7a50176",
   "metadata": {
    "execution": {
     "iopub.execute_input": "2024-11-13T21:21:20.884371Z",
     "iopub.status.busy": "2024-11-13T21:21:20.884109Z",
     "iopub.status.idle": "2024-11-13T21:21:20.890793Z",
     "shell.execute_reply": "2024-11-13T21:21:20.890246Z"
    }
   },
   "outputs": [
    {
     "data": {
      "text/plain": [
       "[Entry(entry_type=`inproceedings`, key=`HITRAN2016`, fields=`[Field(key=`author`, value=`{Gordon}, Iouli E. and {Rothman}, Laurence S. and {Tan}, Yan and {Kochanov}, Roman V. and {Hill}, Christian`, start_line=117), Field(key=`title`, value=`{HITRAN2016: Part I. Line lists for H\\_2O, CO\\_2, O\\_3, N\\_2O, CO, CH\\_4, and O\\_2}`, start_line=118), Field(key=`keywords`, value=`Linelists`, start_line=119), Field(key=`booktitle`, value=`72nd International Symposium on Molecular Spectroscopy`, start_line=120), Field(key=`year`, value=`2017`, start_line=121), Field(key=`month`, value=`jun`, start_line=122), Field(key=`eid`, value=`TJ08`, start_line=123), Field(key=`pages`, value=`TJ08`, start_line=124), Field(key=`doi`, value=`10.15278/isms.2017.TJ08`, start_line=125), Field(key=`adsurl`, value=`https://ui.adsabs.harvard.edu/abs/2017isms.confETJ08G`, start_line=126), Field(key=`adsnote`, value=`Provided by the SAO/NASA Astrophysics Data System`, start_line=127)]`, start_line=116),\n",
       " Entry(entry_type=`article`, key=`McKemmish16`, fields=`[Field(key=`author`, value=`{McKemmish}, Laura K. and {Yurchenko}, Sergei N. and\n",
       "          {Tennyson}, Jonathan`, start_line=666), Field(key=`title`, value=`{ExoMol line lists - XVIII. The high-temperature spectrum of VO}`, start_line=668), Field(key=`journal`, value=`\\mnras`, start_line=669), Field(key=`keywords`, value=`molecular data, opacity, astronomical data bases: miscellaneous, planets and satellites: atmospheres, brown dwarfs, stars: low-mass, Astrophysics - Solar and Stellar Astrophysics, Physics - Chemical Physics`, start_line=670), Field(key=`year`, value=`2016`, start_line=671), Field(key=`month`, value=`nov`, start_line=672), Field(key=`volume`, value=`463`, start_line=673), Field(key=`number`, value=`1`, start_line=674), Field(key=`pages`, value=`771-793`, start_line=675), Field(key=`doi`, value=`10.1093/mnras/stw1969`, start_line=676), Field(key=`archivePrefix`, value=`arXiv`, start_line=677), Field(key=`eprint`, value=`1609.06120`, start_line=678), Field(key=`primaryClass`, value=`astro-ph.SR`, start_line=679), Field(key=`adsurl`, value=`https://ui.adsabs.harvard.edu/abs/2016MNRAS.463..771M`, start_line=680), Field(key=`adsnote`, value=`Provided by the SAO/NASA Astrophysics Data System`, start_line=681)]`, start_line=665)]"
      ]
     },
     "execution_count": 5,
     "metadata": {},
     "output_type": "execute_result"
    }
   ],
   "source": [
    "bibdb.entries[0:2]"
   ]
  },
  {
   "cell_type": "markdown",
   "id": "dc01bb22",
   "metadata": {},
   "source": [
    "### Write to bibtex file"
   ]
  },
  {
   "cell_type": "code",
   "execution_count": 6,
   "id": "5c5e75f0",
   "metadata": {
    "execution": {
     "iopub.execute_input": "2024-11-13T21:21:20.893252Z",
     "iopub.status.busy": "2024-11-13T21:21:20.893000Z",
     "iopub.status.idle": "2024-11-13T21:21:20.903221Z",
     "shell.execute_reply": "2024-11-13T21:21:20.902752Z"
    }
   },
   "outputs": [
    {
     "name": "stderr",
     "output_type": "stream",
     "text": [
      "WARNING:root:Unknown block type <class 'bibtexparser.model.DuplicateBlockKeyBlock'>\n"
     ]
    },
    {
     "name": "stderr",
     "output_type": "stream",
     "text": [
      "WARNING:root:Unknown block type <class 'bibtexparser.model.DuplicateBlockKeyBlock'>\n"
     ]
    },
    {
     "name": "stderr",
     "output_type": "stream",
     "text": [
      "WARNING:root:Unknown block type <class 'bibtexparser.model.DuplicateBlockKeyBlock'>\n"
     ]
    },
    {
     "name": "stderr",
     "output_type": "stream",
     "text": [
      "WARNING:root:Unknown block type <class 'bibtexparser.model.DuplicateBlockKeyBlock'>\n"
     ]
    },
    {
     "name": "stderr",
     "output_type": "stream",
     "text": [
      "WARNING:root:Unknown block type <class 'bibtexparser.model.DuplicateBlockKeyBlock'>\n"
     ]
    },
    {
     "name": "stderr",
     "output_type": "stream",
     "text": [
      "WARNING:root:Unknown block type <class 'bibtexparser.model.DuplicateBlockKeyBlock'>\n"
     ]
    }
   ],
   "source": [
    "pref.create_bib(bibdb, 'molecule.bib')"
   ]
  },
  {
   "cell_type": "markdown",
   "id": "ae01ca41",
   "metadata": {},
   "source": [
    "## Get opacity data references for certain molecules"
   ]
  },
  {
   "cell_type": "code",
   "execution_count": 7,
   "id": "d19ea5fd",
   "metadata": {
    "execution": {
     "iopub.execute_input": "2024-11-13T21:21:20.905429Z",
     "iopub.status.busy": "2024-11-13T21:21:20.905186Z",
     "iopub.status.idle": "2024-11-13T21:21:20.907746Z",
     "shell.execute_reply": "2024-11-13T21:21:20.907360Z"
    }
   },
   "outputs": [],
   "source": [
    "opa_latex, bibdb = refs.get_opa(molecules=['H2O','CO2'])"
   ]
  },
  {
   "cell_type": "code",
   "execution_count": 8,
   "id": "29078324",
   "metadata": {
    "execution": {
     "iopub.execute_input": "2024-11-13T21:21:20.909512Z",
     "iopub.status.busy": "2024-11-13T21:21:20.909307Z",
     "iopub.status.idle": "2024-11-13T21:21:20.911993Z",
     "shell.execute_reply": "2024-11-13T21:21:20.911593Z"
    }
   },
   "outputs": [
    {
     "name": "stdout",
     "output_type": "stream",
     "text": [
      "\n",
      "        \\begin{table*}\n",
      "        \\centering\n",
      "        \\begin{tabular}{c|c}\n",
      "        H2O &  \\citet{Polyansky2018H2O} \\\\ \n",
      "        CO2 &  \\citet{HUANG2014reliable} \\\\ \n",
      "        \n",
      "            \\end{tabular}\n",
      "            \\caption{Line lists used to make PICASO Opacities}\n",
      "            \\label{tab:opas}\n",
      "        \\end{table*}\n",
      "        \n"
     ]
    }
   ],
   "source": [
    "print(opa_latex)"
   ]
  },
  {
   "cell_type": "code",
   "execution_count": 9,
   "id": "138fa680",
   "metadata": {
    "execution": {
     "iopub.execute_input": "2024-11-13T21:21:20.913948Z",
     "iopub.status.busy": "2024-11-13T21:21:20.913741Z",
     "iopub.status.idle": "2024-11-13T21:21:20.917293Z",
     "shell.execute_reply": "2024-11-13T21:21:20.916814Z"
    }
   },
   "outputs": [
    {
     "data": {
      "text/plain": [
       "[Entry(entry_type=`article`, key=`Polyansky2018H2O`, fields=`[Field(key=`author`, value=`{Polyansky}, Oleg L. and {Kyuberis}, Aleksandra A. and {Zobov}, Nikolai F. and {Tennyson}, Jonathan and {Yurchenko}, Sergei N. and {Lodi}, Lorenzo`, start_line=222), Field(key=`title`, value=`{ExoMol molecular line lists XXX: a complete high-accuracy line list for water}`, start_line=223), Field(key=`journal`, value=`\\mnras`, start_line=224), Field(key=`keywords`, value=`molecular data; opacity; planets and satellites: atmospheres; stars: atmospheres; stars: low-mass, stars: brown dwarfs. astronomical data bases: miscellaneous, Astrophysics - Earth and Planetary Astrophysics, Astrophysics - Solar and Stellar Astrophysics, Physics - Chemical Physics`, start_line=225), Field(key=`year`, value=`2018`, start_line=226), Field(key=`month`, value=`oct`, start_line=227), Field(key=`volume`, value=`480`, start_line=228), Field(key=`number`, value=`2`, start_line=229), Field(key=`pages`, value=`2597-2608`, start_line=230), Field(key=`doi`, value=`10.1093/mnras/sty1877`, start_line=231), Field(key=`archivePrefix`, value=`arXiv`, start_line=232), Field(key=`eprint`, value=`1807.04529`, start_line=233), Field(key=`primaryClass`, value=`astro-ph.EP`, start_line=234), Field(key=`adsurl`, value=`https://ui.adsabs.harvard.edu/abs/2018MNRAS.480.2597P`, start_line=235), Field(key=`adsnote`, value=`Provided by the SAO/NASA Astrophysics Data System`, start_line=236)]`, start_line=221),\n",
       " Entry(entry_type=`article`, key=`HUANG2014reliable`, fields=`[Field(key=`title`, value=`Reliable infrared line lists for 13 CO2 isotopologues up to E′=18,000cm−1 and 1500K, with line shape parameters`, start_line=431), Field(key=`journal`, value=`Journal of Quantitative Spectroscopy and Radiative Transfer`, start_line=432), Field(key=`volume`, value=`147`, start_line=433), Field(key=`pages`, value=`134 - 144`, start_line=434), Field(key=`year`, value=`2014`, start_line=435), Field(key=`issn`, value=`0022-4073`, start_line=436), Field(key=`doi`, value=`https://doi.org/10.1016/j.jqsrt.2014.05.015`, start_line=437), Field(key=`url`, value=`http://www.sciencedirect.com/science/article/pii/S0022407314002246`, start_line=438), Field(key=`author`, value=`Xinchuan {Huang} and Robert R. Gamache and Richard S. Freedman and David W. Schwenke and Timothy J. Lee`, start_line=439), Field(key=`keywords`, value=`Carbon dioxide (CO), Isotopologues, IR line list, Line shape, Refined potential energy surface, Partition sum`, start_line=440), Field(key=`abstract`, value=`Reliable infrared (IR) line lists are reported for the 13 isotopologues of carbon dioxide in HITRAN notation: 626, 636, 628, 627, 828, 727, 827, 638, 637, 737, 838, 738, and 646. Three IR lists are available for each istotopologue: a complete list at 296K, a reduced-size list at 296K, plus a reduced-size list at 1000K. They are denoted Ames-296K, Ames-296K.reduced and Ames-1000K.reduced. With J up to 150, and energy up to 18,000cm−1 above the zero point energy, these lists are expected to cover the temperature range up to 1500K. Line shape parameters including temperature dependence are calculated and reported for four temperature ranges: Mars, Earth, Venus, and Hotter (700–2000K). Comparisons are made against the available transition data in the HITRAN2012 models. Line position accuracy for most transitions up to 10,000–13,000cm−1 is better than 0.03–0.05cm−1. Computed transition intensities agree well with most HITRAN data but there exist suspicious exceptions for isotopologues. These line lists will expedite CO2 IR experimental data analysis and provide the scientific community with trustworthy alternatives for unknown IR bands. These line lists may be combined with existing experimental databases to facilitate the analysis of future laboratory experiments or astronomical observations.`, start_line=441)]`, start_line=430)]"
      ]
     },
     "execution_count": 9,
     "metadata": {},
     "output_type": "execute_result"
    }
   ],
   "source": [
    "bibdb.entries"
   ]
  }
 ],
 "metadata": {
  "kernelspec": {
   "display_name": "Python 3 (ipykernel)",
   "language": "python",
   "name": "python3"
  },
  "language_info": {
   "codemirror_mode": {
    "name": "ipython",
    "version": 3
   },
   "file_extension": ".py",
   "mimetype": "text/x-python",
   "name": "python",
   "nbconvert_exporter": "python",
   "pygments_lexer": "ipython3",
   "version": "3.11.8"
  },
  "toc": {
   "base_numbering": 1,
   "nav_menu": {},
   "number_sections": true,
   "sideBar": true,
   "skip_h1_title": false,
   "title_cell": "Table of Contents",
   "title_sidebar": "Contents",
   "toc_cell": true,
   "toc_position": {},
   "toc_section_display": true,
   "toc_window_display": false
  },
  "varInspector": {
   "cols": {
    "lenName": 16,
    "lenType": 16,
    "lenVar": 40
   },
   "kernels_config": {
    "python": {
     "delete_cmd_postfix": "",
     "delete_cmd_prefix": "del ",
     "library": "var_list.py",
     "varRefreshCmd": "print(var_dic_list())"
    },
    "r": {
     "delete_cmd_postfix": ") ",
     "delete_cmd_prefix": "rm(",
     "library": "var_list.r",
     "varRefreshCmd": "cat(var_dic_list()) "
    }
   },
   "types_to_exclude": [
    "module",
    "function",
    "builtin_function_or_method",
    "instance",
    "_Feature"
   ],
   "window_display": false
  }
 },
 "nbformat": 4,
 "nbformat_minor": 5
}
