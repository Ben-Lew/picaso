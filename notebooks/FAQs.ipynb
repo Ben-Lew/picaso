{
 "cells": [
  {
   "cell_type": "code",
   "execution_count": 1,
   "metadata": {
    "execution": {
     "iopub.execute_input": "2023-03-23T19:36:13.777379Z",
     "iopub.status.busy": "2023-03-23T19:36:13.776469Z",
     "iopub.status.idle": "2023-03-23T19:36:16.033489Z",
     "shell.execute_reply": "2023-03-23T19:36:16.032348Z"
    }
   },
   "outputs": [
    {
     "data": {
      "text/html": [
       "<style>\n",
       "        .bk-notebook-logo {\n",
       "            display: block;\n",
       "            width: 20px;\n",
       "            height: 20px;\n",
       "            background-image: url(data:image/png;base64,iVBORw0KGgoAAAANSUhEUgAAABQAAAAUCAYAAACNiR0NAAAABHNCSVQICAgIfAhkiAAAAAlwSFlzAAALEgAACxIB0t1+/AAAABx0RVh0U29mdHdhcmUAQWRvYmUgRmlyZXdvcmtzIENTNui8sowAAAOkSURBVDiNjZRtaJVlGMd/1/08zzln5zjP1LWcU9N0NkN8m2CYjpgQYQXqSs0I84OLIC0hkEKoPtiH3gmKoiJDU7QpLgoLjLIQCpEsNJ1vqUOdO7ppbuec5+V+rj4ctwzd8IIbbi6u+8f1539dt3A78eXC7QizUF7gyV1fD1Yqg4JWz84yffhm0qkFqBogB9rM8tZdtwVsPUhWhGcFJngGeWrPzHm5oaMmkfEg1usvLFyc8jLRqDOMru7AyC8saQr7GG7f5fvDeH7Ej8CM66nIF+8yngt6HWaKh7k49Soy9nXurCi1o3qUbS3zWfrYeQDTB/Qj6kX6Ybhw4B+bOYoLKCC9H3Nu/leUTZ1JdRWkkn2ldcCamzrcf47KKXdAJllSlxAOkRgyHsGC/zRday5Qld9DyoM4/q/rUoy/CXh3jzOu3bHUVZeU+DEn8FInkPBFlu3+nW3Nw0mk6vCDiWg8CeJaxEwuHS3+z5RgY+YBR6V1Z1nxSOfoaPa4LASWxxdNp+VWTk7+4vzaou8v8PN+xo+KY2xsw6une2frhw05CTYOmQvsEhjhWjn0bmXPjpE1+kplmmkP3suftwTubK9Vq22qKmrBhpY4jvd5afdRA3wGjFAgcnTK2s4hY0/GPNIb0nErGMCRxWOOX64Z8RAC4oCXdklmEvcL8o0BfkNK4lUg9HTl+oPlQxdNo3Mg4Nv175e/1LDGzZen30MEjRUtmXSfiTVu1kK8W4txyV6BMKlbgk3lMwYCiusNy9fVfvvwMxv8Ynl6vxoByANLTWplvuj/nF9m2+PDtt1eiHPBr1oIfhCChQMBw6Aw0UulqTKZdfVvfG7VcfIqLG9bcldL/+pdWTLxLUy8Qq38heUIjh4XlzZxzQm19lLFlr8vdQ97rjZVOLf8nclzckbcD4wxXMidpX30sFd37Fv/GtwwhzhxGVAprjbg0gCAEeIgwCZyTV2Z1REEW8O4py0wsjeloKoMr6iCY6dP92H6Vw/oTyICIthibxjm/DfN9lVz8IqtqKYLUXfoKVMVQVVJOElGjrnnUt9T9wbgp8AyYKaGlqingHZU/uG2NTZSVqwHQTWkx9hxjkpWDaCg6Ckj5qebgBVbT3V3NNXMSiWSDdGV3hrtzla7J+duwPOToIg42ChPQOQjspnSlp1V+Gjdged7+8UN5CRAV7a5EdFNwCjEaBR27b3W890TE7g24NAP/mMDXRWrGoFPQI9ls/MWO2dWFAar/xcOIImbbpA3zgAAAABJRU5ErkJggg==);\n",
       "        }\n",
       "    </style>\n",
       "    <div>\n",
       "        <a href=\"https://bokeh.org\" target=\"_blank\" class=\"bk-notebook-logo\"></a>\n",
       "        <span id=\"p1001\">Loading BokehJS ...</span>\n",
       "    </div>\n"
      ]
     },
     "metadata": {},
     "output_type": "display_data"
    },
    {
     "data": {
      "application/javascript": [
       "(function(root) {\n",
       "  function now() {\n",
       "    return new Date();\n",
       "  }\n",
       "\n",
       "  const force = true;\n",
       "\n",
       "  if (typeof root._bokeh_onload_callbacks === \"undefined\" || force === true) {\n",
       "    root._bokeh_onload_callbacks = [];\n",
       "    root._bokeh_is_loading = undefined;\n",
       "  }\n",
       "\n",
       "const JS_MIME_TYPE = 'application/javascript';\n",
       "  const HTML_MIME_TYPE = 'text/html';\n",
       "  const EXEC_MIME_TYPE = 'application/vnd.bokehjs_exec.v0+json';\n",
       "  const CLASS_NAME = 'output_bokeh rendered_html';\n",
       "\n",
       "  /**\n",
       "   * Render data to the DOM node\n",
       "   */\n",
       "  function render(props, node) {\n",
       "    const script = document.createElement(\"script\");\n",
       "    node.appendChild(script);\n",
       "  }\n",
       "\n",
       "  /**\n",
       "   * Handle when an output is cleared or removed\n",
       "   */\n",
       "  function handleClearOutput(event, handle) {\n",
       "    const cell = handle.cell;\n",
       "\n",
       "    const id = cell.output_area._bokeh_element_id;\n",
       "    const server_id = cell.output_area._bokeh_server_id;\n",
       "    // Clean up Bokeh references\n",
       "    if (id != null && id in Bokeh.index) {\n",
       "      Bokeh.index[id].model.document.clear();\n",
       "      delete Bokeh.index[id];\n",
       "    }\n",
       "\n",
       "    if (server_id !== undefined) {\n",
       "      // Clean up Bokeh references\n",
       "      const cmd_clean = \"from bokeh.io.state import curstate; print(curstate().uuid_to_server['\" + server_id + \"'].get_sessions()[0].document.roots[0]._id)\";\n",
       "      cell.notebook.kernel.execute(cmd_clean, {\n",
       "        iopub: {\n",
       "          output: function(msg) {\n",
       "            const id = msg.content.text.trim();\n",
       "            if (id in Bokeh.index) {\n",
       "              Bokeh.index[id].model.document.clear();\n",
       "              delete Bokeh.index[id];\n",
       "            }\n",
       "          }\n",
       "        }\n",
       "      });\n",
       "      // Destroy server and session\n",
       "      const cmd_destroy = \"import bokeh.io.notebook as ion; ion.destroy_server('\" + server_id + \"')\";\n",
       "      cell.notebook.kernel.execute(cmd_destroy);\n",
       "    }\n",
       "  }\n",
       "\n",
       "  /**\n",
       "   * Handle when a new output is added\n",
       "   */\n",
       "  function handleAddOutput(event, handle) {\n",
       "    const output_area = handle.output_area;\n",
       "    const output = handle.output;\n",
       "\n",
       "    // limit handleAddOutput to display_data with EXEC_MIME_TYPE content only\n",
       "    if ((output.output_type != \"display_data\") || (!Object.prototype.hasOwnProperty.call(output.data, EXEC_MIME_TYPE))) {\n",
       "      return\n",
       "    }\n",
       "\n",
       "    const toinsert = output_area.element.find(\".\" + CLASS_NAME.split(' ')[0]);\n",
       "\n",
       "    if (output.metadata[EXEC_MIME_TYPE][\"id\"] !== undefined) {\n",
       "      toinsert[toinsert.length - 1].firstChild.textContent = output.data[JS_MIME_TYPE];\n",
       "      // store reference to embed id on output_area\n",
       "      output_area._bokeh_element_id = output.metadata[EXEC_MIME_TYPE][\"id\"];\n",
       "    }\n",
       "    if (output.metadata[EXEC_MIME_TYPE][\"server_id\"] !== undefined) {\n",
       "      const bk_div = document.createElement(\"div\");\n",
       "      bk_div.innerHTML = output.data[HTML_MIME_TYPE];\n",
       "      const script_attrs = bk_div.children[0].attributes;\n",
       "      for (let i = 0; i < script_attrs.length; i++) {\n",
       "        toinsert[toinsert.length - 1].firstChild.setAttribute(script_attrs[i].name, script_attrs[i].value);\n",
       "        toinsert[toinsert.length - 1].firstChild.textContent = bk_div.children[0].textContent\n",
       "      }\n",
       "      // store reference to server id on output_area\n",
       "      output_area._bokeh_server_id = output.metadata[EXEC_MIME_TYPE][\"server_id\"];\n",
       "    }\n",
       "  }\n",
       "\n",
       "  function register_renderer(events, OutputArea) {\n",
       "\n",
       "    function append_mime(data, metadata, element) {\n",
       "      // create a DOM node to render to\n",
       "      const toinsert = this.create_output_subarea(\n",
       "        metadata,\n",
       "        CLASS_NAME,\n",
       "        EXEC_MIME_TYPE\n",
       "      );\n",
       "      this.keyboard_manager.register_events(toinsert);\n",
       "      // Render to node\n",
       "      const props = {data: data, metadata: metadata[EXEC_MIME_TYPE]};\n",
       "      render(props, toinsert[toinsert.length - 1]);\n",
       "      element.append(toinsert);\n",
       "      return toinsert\n",
       "    }\n",
       "\n",
       "    /* Handle when an output is cleared or removed */\n",
       "    events.on('clear_output.CodeCell', handleClearOutput);\n",
       "    events.on('delete.Cell', handleClearOutput);\n",
       "\n",
       "    /* Handle when a new output is added */\n",
       "    events.on('output_added.OutputArea', handleAddOutput);\n",
       "\n",
       "    /**\n",
       "     * Register the mime type and append_mime function with output_area\n",
       "     */\n",
       "    OutputArea.prototype.register_mime_type(EXEC_MIME_TYPE, append_mime, {\n",
       "      /* Is output safe? */\n",
       "      safe: true,\n",
       "      /* Index of renderer in `output_area.display_order` */\n",
       "      index: 0\n",
       "    });\n",
       "  }\n",
       "\n",
       "  // register the mime type if in Jupyter Notebook environment and previously unregistered\n",
       "  if (root.Jupyter !== undefined) {\n",
       "    const events = require('base/js/events');\n",
       "    const OutputArea = require('notebook/js/outputarea').OutputArea;\n",
       "\n",
       "    if (OutputArea.prototype.mime_types().indexOf(EXEC_MIME_TYPE) == -1) {\n",
       "      register_renderer(events, OutputArea);\n",
       "    }\n",
       "  }\n",
       "  if (typeof (root._bokeh_timeout) === \"undefined\" || force === true) {\n",
       "    root._bokeh_timeout = Date.now() + 5000;\n",
       "    root._bokeh_failed_load = false;\n",
       "  }\n",
       "\n",
       "  const NB_LOAD_WARNING = {'data': {'text/html':\n",
       "     \"<div style='background-color: #fdd'>\\n\"+\n",
       "     \"<p>\\n\"+\n",
       "     \"BokehJS does not appear to have successfully loaded. If loading BokehJS from CDN, this \\n\"+\n",
       "     \"may be due to a slow or bad network connection. Possible fixes:\\n\"+\n",
       "     \"</p>\\n\"+\n",
       "     \"<ul>\\n\"+\n",
       "     \"<li>re-rerun `output_notebook()` to attempt to load from CDN again, or</li>\\n\"+\n",
       "     \"<li>use INLINE resources instead, as so:</li>\\n\"+\n",
       "     \"</ul>\\n\"+\n",
       "     \"<code>\\n\"+\n",
       "     \"from bokeh.resources import INLINE\\n\"+\n",
       "     \"output_notebook(resources=INLINE)\\n\"+\n",
       "     \"</code>\\n\"+\n",
       "     \"</div>\"}};\n",
       "\n",
       "  function display_loaded() {\n",
       "    const el = document.getElementById(\"p1001\");\n",
       "    if (el != null) {\n",
       "      el.textContent = \"BokehJS is loading...\";\n",
       "    }\n",
       "    if (root.Bokeh !== undefined) {\n",
       "      if (el != null) {\n",
       "        el.textContent = \"BokehJS \" + root.Bokeh.version + \" successfully loaded.\";\n",
       "      }\n",
       "    } else if (Date.now() < root._bokeh_timeout) {\n",
       "      setTimeout(display_loaded, 100)\n",
       "    }\n",
       "  }\n",
       "\n",
       "  function run_callbacks() {\n",
       "    try {\n",
       "      root._bokeh_onload_callbacks.forEach(function(callback) {\n",
       "        if (callback != null)\n",
       "          callback();\n",
       "      });\n",
       "    } finally {\n",
       "      delete root._bokeh_onload_callbacks\n",
       "    }\n",
       "    console.debug(\"Bokeh: all callbacks have finished\");\n",
       "  }\n",
       "\n",
       "  function load_libs(css_urls, js_urls, callback) {\n",
       "    if (css_urls == null) css_urls = [];\n",
       "    if (js_urls == null) js_urls = [];\n",
       "\n",
       "    root._bokeh_onload_callbacks.push(callback);\n",
       "    if (root._bokeh_is_loading > 0) {\n",
       "      console.debug(\"Bokeh: BokehJS is being loaded, scheduling callback at\", now());\n",
       "      return null;\n",
       "    }\n",
       "    if (js_urls == null || js_urls.length === 0) {\n",
       "      run_callbacks();\n",
       "      return null;\n",
       "    }\n",
       "    console.debug(\"Bokeh: BokehJS not loaded, scheduling load and callback at\", now());\n",
       "    root._bokeh_is_loading = css_urls.length + js_urls.length;\n",
       "\n",
       "    function on_load() {\n",
       "      root._bokeh_is_loading--;\n",
       "      if (root._bokeh_is_loading === 0) {\n",
       "        console.debug(\"Bokeh: all BokehJS libraries/stylesheets loaded\");\n",
       "        run_callbacks()\n",
       "      }\n",
       "    }\n",
       "\n",
       "    function on_error(url) {\n",
       "      console.error(\"failed to load \" + url);\n",
       "    }\n",
       "\n",
       "    for (let i = 0; i < css_urls.length; i++) {\n",
       "      const url = css_urls[i];\n",
       "      const element = document.createElement(\"link\");\n",
       "      element.onload = on_load;\n",
       "      element.onerror = on_error.bind(null, url);\n",
       "      element.rel = \"stylesheet\";\n",
       "      element.type = \"text/css\";\n",
       "      element.href = url;\n",
       "      console.debug(\"Bokeh: injecting link tag for BokehJS stylesheet: \", url);\n",
       "      document.body.appendChild(element);\n",
       "    }\n",
       "\n",
       "    for (let i = 0; i < js_urls.length; i++) {\n",
       "      const url = js_urls[i];\n",
       "      const element = document.createElement('script');\n",
       "      element.onload = on_load;\n",
       "      element.onerror = on_error.bind(null, url);\n",
       "      element.async = false;\n",
       "      element.src = url;\n",
       "      console.debug(\"Bokeh: injecting script tag for BokehJS library: \", url);\n",
       "      document.head.appendChild(element);\n",
       "    }\n",
       "  };\n",
       "\n",
       "  function inject_raw_css(css) {\n",
       "    const element = document.createElement(\"style\");\n",
       "    element.appendChild(document.createTextNode(css));\n",
       "    document.body.appendChild(element);\n",
       "  }\n",
       "\n",
       "  const js_urls = [\"https://cdn.bokeh.org/bokeh/release/bokeh-3.0.2.min.js\", \"https://cdn.bokeh.org/bokeh/release/bokeh-gl-3.0.2.min.js\", \"https://cdn.bokeh.org/bokeh/release/bokeh-widgets-3.0.2.min.js\", \"https://cdn.bokeh.org/bokeh/release/bokeh-tables-3.0.2.min.js\", \"https://cdn.bokeh.org/bokeh/release/bokeh-mathjax-3.0.2.min.js\"];\n",
       "  const css_urls = [];\n",
       "\n",
       "  const inline_js = [    function(Bokeh) {\n",
       "      Bokeh.set_log_level(\"info\");\n",
       "    },\n",
       "function(Bokeh) {\n",
       "    }\n",
       "  ];\n",
       "\n",
       "  function run_inline_js() {\n",
       "    if (root.Bokeh !== undefined || force === true) {\n",
       "          for (let i = 0; i < inline_js.length; i++) {\n",
       "      inline_js[i].call(root, root.Bokeh);\n",
       "    }\n",
       "if (force === true) {\n",
       "        display_loaded();\n",
       "      }} else if (Date.now() < root._bokeh_timeout) {\n",
       "      setTimeout(run_inline_js, 100);\n",
       "    } else if (!root._bokeh_failed_load) {\n",
       "      console.log(\"Bokeh: BokehJS failed to load within specified timeout.\");\n",
       "      root._bokeh_failed_load = true;\n",
       "    } else if (force !== true) {\n",
       "      const cell = $(document.getElementById(\"p1001\")).parents('.cell').data().cell;\n",
       "      cell.output_area.append_execute_result(NB_LOAD_WARNING)\n",
       "    }\n",
       "  }\n",
       "\n",
       "  if (root._bokeh_is_loading === 0) {\n",
       "    console.debug(\"Bokeh: BokehJS loaded, going straight to plotting\");\n",
       "    run_inline_js();\n",
       "  } else {\n",
       "    load_libs(css_urls, js_urls, function() {\n",
       "      console.debug(\"Bokeh: BokehJS plotting callback run at\", now());\n",
       "      run_inline_js();\n",
       "    });\n",
       "  }\n",
       "}(window));"
      ],
      "application/vnd.bokehjs_load.v0+json": "(function(root) {\n  function now() {\n    return new Date();\n  }\n\n  const force = true;\n\n  if (typeof root._bokeh_onload_callbacks === \"undefined\" || force === true) {\n    root._bokeh_onload_callbacks = [];\n    root._bokeh_is_loading = undefined;\n  }\n\n\n  if (typeof (root._bokeh_timeout) === \"undefined\" || force === true) {\n    root._bokeh_timeout = Date.now() + 5000;\n    root._bokeh_failed_load = false;\n  }\n\n  const NB_LOAD_WARNING = {'data': {'text/html':\n     \"<div style='background-color: #fdd'>\\n\"+\n     \"<p>\\n\"+\n     \"BokehJS does not appear to have successfully loaded. If loading BokehJS from CDN, this \\n\"+\n     \"may be due to a slow or bad network connection. Possible fixes:\\n\"+\n     \"</p>\\n\"+\n     \"<ul>\\n\"+\n     \"<li>re-rerun `output_notebook()` to attempt to load from CDN again, or</li>\\n\"+\n     \"<li>use INLINE resources instead, as so:</li>\\n\"+\n     \"</ul>\\n\"+\n     \"<code>\\n\"+\n     \"from bokeh.resources import INLINE\\n\"+\n     \"output_notebook(resources=INLINE)\\n\"+\n     \"</code>\\n\"+\n     \"</div>\"}};\n\n  function display_loaded() {\n    const el = document.getElementById(\"p1001\");\n    if (el != null) {\n      el.textContent = \"BokehJS is loading...\";\n    }\n    if (root.Bokeh !== undefined) {\n      if (el != null) {\n        el.textContent = \"BokehJS \" + root.Bokeh.version + \" successfully loaded.\";\n      }\n    } else if (Date.now() < root._bokeh_timeout) {\n      setTimeout(display_loaded, 100)\n    }\n  }\n\n  function run_callbacks() {\n    try {\n      root._bokeh_onload_callbacks.forEach(function(callback) {\n        if (callback != null)\n          callback();\n      });\n    } finally {\n      delete root._bokeh_onload_callbacks\n    }\n    console.debug(\"Bokeh: all callbacks have finished\");\n  }\n\n  function load_libs(css_urls, js_urls, callback) {\n    if (css_urls == null) css_urls = [];\n    if (js_urls == null) js_urls = [];\n\n    root._bokeh_onload_callbacks.push(callback);\n    if (root._bokeh_is_loading > 0) {\n      console.debug(\"Bokeh: BokehJS is being loaded, scheduling callback at\", now());\n      return null;\n    }\n    if (js_urls == null || js_urls.length === 0) {\n      run_callbacks();\n      return null;\n    }\n    console.debug(\"Bokeh: BokehJS not loaded, scheduling load and callback at\", now());\n    root._bokeh_is_loading = css_urls.length + js_urls.length;\n\n    function on_load() {\n      root._bokeh_is_loading--;\n      if (root._bokeh_is_loading === 0) {\n        console.debug(\"Bokeh: all BokehJS libraries/stylesheets loaded\");\n        run_callbacks()\n      }\n    }\n\n    function on_error(url) {\n      console.error(\"failed to load \" + url);\n    }\n\n    for (let i = 0; i < css_urls.length; i++) {\n      const url = css_urls[i];\n      const element = document.createElement(\"link\");\n      element.onload = on_load;\n      element.onerror = on_error.bind(null, url);\n      element.rel = \"stylesheet\";\n      element.type = \"text/css\";\n      element.href = url;\n      console.debug(\"Bokeh: injecting link tag for BokehJS stylesheet: \", url);\n      document.body.appendChild(element);\n    }\n\n    for (let i = 0; i < js_urls.length; i++) {\n      const url = js_urls[i];\n      const element = document.createElement('script');\n      element.onload = on_load;\n      element.onerror = on_error.bind(null, url);\n      element.async = false;\n      element.src = url;\n      console.debug(\"Bokeh: injecting script tag for BokehJS library: \", url);\n      document.head.appendChild(element);\n    }\n  };\n\n  function inject_raw_css(css) {\n    const element = document.createElement(\"style\");\n    element.appendChild(document.createTextNode(css));\n    document.body.appendChild(element);\n  }\n\n  const js_urls = [\"https://cdn.bokeh.org/bokeh/release/bokeh-3.0.2.min.js\", \"https://cdn.bokeh.org/bokeh/release/bokeh-gl-3.0.2.min.js\", \"https://cdn.bokeh.org/bokeh/release/bokeh-widgets-3.0.2.min.js\", \"https://cdn.bokeh.org/bokeh/release/bokeh-tables-3.0.2.min.js\", \"https://cdn.bokeh.org/bokeh/release/bokeh-mathjax-3.0.2.min.js\"];\n  const css_urls = [];\n\n  const inline_js = [    function(Bokeh) {\n      Bokeh.set_log_level(\"info\");\n    },\nfunction(Bokeh) {\n    }\n  ];\n\n  function run_inline_js() {\n    if (root.Bokeh !== undefined || force === true) {\n          for (let i = 0; i < inline_js.length; i++) {\n      inline_js[i].call(root, root.Bokeh);\n    }\nif (force === true) {\n        display_loaded();\n      }} else if (Date.now() < root._bokeh_timeout) {\n      setTimeout(run_inline_js, 100);\n    } else if (!root._bokeh_failed_load) {\n      console.log(\"Bokeh: BokehJS failed to load within specified timeout.\");\n      root._bokeh_failed_load = true;\n    } else if (force !== true) {\n      const cell = $(document.getElementById(\"p1001\")).parents('.cell').data().cell;\n      cell.output_area.append_execute_result(NB_LOAD_WARNING)\n    }\n  }\n\n  if (root._bokeh_is_loading === 0) {\n    console.debug(\"Bokeh: BokehJS loaded, going straight to plotting\");\n    run_inline_js();\n  } else {\n    load_libs(css_urls, js_urls, function() {\n      console.debug(\"Bokeh: BokehJS plotting callback run at\", now());\n      run_inline_js();\n    });\n  }\n}(window));"
     },
     "metadata": {},
     "output_type": "display_data"
    }
   ],
   "source": [
    "import warnings\n",
    "warnings.filterwarnings('ignore')\n",
    "import numpy as np\n",
    "#picaso\n",
    "from picaso import justdoit as jdi\n",
    "from picaso import justplotit as jpi\n",
    "from bokeh.io import output_notebook\n",
    "output_notebook()"
   ]
  },
  {
   "cell_type": "markdown",
   "metadata": {},
   "source": [
    "# How do I load in target properties from Exo.Mast? "
   ]
  },
  {
   "cell_type": "code",
   "execution_count": 2,
   "metadata": {
    "execution": {
     "iopub.execute_input": "2023-03-23T19:36:16.041452Z",
     "iopub.status.busy": "2023-03-23T19:36:16.040654Z",
     "iopub.status.idle": "2023-03-23T19:36:24.832755Z",
     "shell.execute_reply": "2023-03-23T19:36:24.831551Z"
    }
   },
   "outputs": [],
   "source": [
    "nexsci = jdi.all_planets()"
   ]
  },
  {
   "cell_type": "code",
   "execution_count": 3,
   "metadata": {
    "execution": {
     "iopub.execute_input": "2023-03-23T19:36:24.842183Z",
     "iopub.status.busy": "2023-03-23T19:36:24.840295Z",
     "iopub.status.idle": "2023-03-23T19:36:24.861270Z",
     "shell.execute_reply": "2023-03-23T19:36:24.862173Z"
    }
   },
   "outputs": [
    {
     "data": {
      "text/html": [
       "<div>\n",
       "<style scoped>\n",
       "    .dataframe tbody tr th:only-of-type {\n",
       "        vertical-align: middle;\n",
       "    }\n",
       "\n",
       "    .dataframe tbody tr th {\n",
       "        vertical-align: top;\n",
       "    }\n",
       "\n",
       "    .dataframe thead th {\n",
       "        text-align: right;\n",
       "    }\n",
       "</style>\n",
       "<table border=\"1\" class=\"dataframe\">\n",
       "  <thead>\n",
       "    <tr style=\"text-align: right;\">\n",
       "      <th></th>\n",
       "      <th>pl_name</th>\n",
       "      <th>pl_letter</th>\n",
       "      <th>hostname</th>\n",
       "      <th>hd_name</th>\n",
       "      <th>hip_name</th>\n",
       "      <th>tic_id</th>\n",
       "      <th>disc_pubdate</th>\n",
       "      <th>disc_year</th>\n",
       "      <th>discoverymethod</th>\n",
       "      <th>disc_locale</th>\n",
       "      <th>...</th>\n",
       "      <th>sy_pmstr</th>\n",
       "      <th>sy_pm_reflink</th>\n",
       "      <th>sy_pmra</th>\n",
       "      <th>sy_pmraerr1</th>\n",
       "      <th>sy_pmraerr2</th>\n",
       "      <th>sy_pmrastr</th>\n",
       "      <th>x</th>\n",
       "      <th>y</th>\n",
       "      <th>z</th>\n",
       "      <th>htm20</th>\n",
       "    </tr>\n",
       "  </thead>\n",
       "  <tbody>\n",
       "    <tr>\n",
       "      <th>0</th>\n",
       "      <td>OGLE-2016-BLG-1227L b</td>\n",
       "      <td>b</td>\n",
       "      <td>OGLE-2016-BLG-1227L</td>\n",
       "      <td>NaN</td>\n",
       "      <td>NaN</td>\n",
       "      <td>NaN</td>\n",
       "      <td>2020-03</td>\n",
       "      <td>2020.0</td>\n",
       "      <td>Microlensing</td>\n",
       "      <td>Ground</td>\n",
       "      <td>...</td>\n",
       "      <td>NaN</td>\n",
       "      <td>&lt;a refstr=HAN_ET_AL__2020 href=https://ui.adsa...</td>\n",
       "      <td>NaN</td>\n",
       "      <td>NaN</td>\n",
       "      <td>NaN</td>\n",
       "      <td>NaN</td>\n",
       "      <td>-0.063824</td>\n",
       "      <td>-0.828921</td>\n",
       "      <td>-0.555712</td>\n",
       "      <td>-7.684157e+08</td>\n",
       "    </tr>\n",
       "    <tr>\n",
       "      <th>1</th>\n",
       "      <td>Kepler-276 c</td>\n",
       "      <td>c</td>\n",
       "      <td>Kepler-276</td>\n",
       "      <td>NaN</td>\n",
       "      <td>NaN</td>\n",
       "      <td>TIC 138213510</td>\n",
       "      <td>2014-02</td>\n",
       "      <td>2013.0</td>\n",
       "      <td>Transit</td>\n",
       "      <td>Space</td>\n",
       "      <td>...</td>\n",
       "      <td>8.0702604&amp;plusmn;0.0515101</td>\n",
       "      <td>&lt;a refstr=STASSUN_ET_AL__2019 href=https://ui....</td>\n",
       "      <td>7.99553</td>\n",
       "      <td>0.051581</td>\n",
       "      <td>-0.051581</td>\n",
       "      <td>7.9955300&amp;plusmn;0.0515805</td>\n",
       "      <td>0.310575</td>\n",
       "      <td>-0.711954</td>\n",
       "      <td>0.629813</td>\n",
       "      <td>1.302658e+09</td>\n",
       "    </tr>\n",
       "    <tr>\n",
       "      <th>2</th>\n",
       "      <td>Kepler-829 b</td>\n",
       "      <td>b</td>\n",
       "      <td>Kepler-829</td>\n",
       "      <td>NaN</td>\n",
       "      <td>NaN</td>\n",
       "      <td>TIC 123451768</td>\n",
       "      <td>2016-05</td>\n",
       "      <td>2016.0</td>\n",
       "      <td>Transit</td>\n",
       "      <td>Space</td>\n",
       "      <td>...</td>\n",
       "      <td>8.3089089&amp;plusmn;0.0412978</td>\n",
       "      <td>&lt;a refstr=STASSUN_ET_AL__2019 href=https://ui....</td>\n",
       "      <td>7.93777</td>\n",
       "      <td>0.040833</td>\n",
       "      <td>-0.040833</td>\n",
       "      <td>7.9377700&amp;plusmn;0.0408326</td>\n",
       "      <td>0.157566</td>\n",
       "      <td>-0.720680</td>\n",
       "      <td>0.675124</td>\n",
       "      <td>-7.922609e+08</td>\n",
       "    </tr>\n",
       "    <tr>\n",
       "      <th>3</th>\n",
       "      <td>K2-283 b</td>\n",
       "      <td>b</td>\n",
       "      <td>K2-283</td>\n",
       "      <td>NaN</td>\n",
       "      <td>NaN</td>\n",
       "      <td>TIC 266017624</td>\n",
       "      <td>2018-12</td>\n",
       "      <td>2018.0</td>\n",
       "      <td>Transit</td>\n",
       "      <td>Space</td>\n",
       "      <td>...</td>\n",
       "      <td>11.1101761&amp;plusmn;0.0531852</td>\n",
       "      <td>&lt;a refstr=STASSUN_ET_AL__2019 href=https://ui....</td>\n",
       "      <td>-10.97340</td>\n",
       "      <td>0.053624</td>\n",
       "      <td>-0.053624</td>\n",
       "      <td>-10.9734000&amp;plusmn;0.0536244</td>\n",
       "      <td>0.959702</td>\n",
       "      <td>0.224997</td>\n",
       "      <td>0.168368</td>\n",
       "      <td>6.098136e+08</td>\n",
       "    </tr>\n",
       "    <tr>\n",
       "      <th>4</th>\n",
       "      <td>Kepler-477 b</td>\n",
       "      <td>b</td>\n",
       "      <td>Kepler-477</td>\n",
       "      <td>NaN</td>\n",
       "      <td>NaN</td>\n",
       "      <td>TIC 158633329</td>\n",
       "      <td>2016-05</td>\n",
       "      <td>2016.0</td>\n",
       "      <td>Transit</td>\n",
       "      <td>Space</td>\n",
       "      <td>...</td>\n",
       "      <td>26.7</td>\n",
       "      <td>&lt;a refstr=LATHAM_ET_AL__2005 href=https://ui.a...</td>\n",
       "      <td>-26.00000</td>\n",
       "      <td>NaN</td>\n",
       "      <td>NaN</td>\n",
       "      <td>-26.0</td>\n",
       "      <td>0.229185</td>\n",
       "      <td>-0.702544</td>\n",
       "      <td>0.673726</td>\n",
       "      <td>-1.968935e+09</td>\n",
       "    </tr>\n",
       "  </tbody>\n",
       "</table>\n",
       "<p>5 rows × 373 columns</p>\n",
       "</div>"
      ],
      "text/plain": [
       "                 pl_name pl_letter             hostname hd_name hip_name  \\\n",
       "0  OGLE-2016-BLG-1227L b         b  OGLE-2016-BLG-1227L     NaN      NaN   \n",
       "1           Kepler-276 c         c           Kepler-276     NaN      NaN   \n",
       "2           Kepler-829 b         b           Kepler-829     NaN      NaN   \n",
       "3               K2-283 b         b               K2-283     NaN      NaN   \n",
       "4           Kepler-477 b         b           Kepler-477     NaN      NaN   \n",
       "\n",
       "          tic_id disc_pubdate  disc_year discoverymethod disc_locale  ...  \\\n",
       "0            NaN      2020-03     2020.0    Microlensing      Ground  ...   \n",
       "1  TIC 138213510      2014-02     2013.0         Transit       Space  ...   \n",
       "2  TIC 123451768      2016-05     2016.0         Transit       Space  ...   \n",
       "3  TIC 266017624      2018-12     2018.0         Transit       Space  ...   \n",
       "4  TIC 158633329      2016-05     2016.0         Transit       Space  ...   \n",
       "\n",
       "                      sy_pmstr  \\\n",
       "0                          NaN   \n",
       "1   8.0702604&plusmn;0.0515101   \n",
       "2   8.3089089&plusmn;0.0412978   \n",
       "3  11.1101761&plusmn;0.0531852   \n",
       "4                         26.7   \n",
       "\n",
       "                                       sy_pm_reflink   sy_pmra sy_pmraerr1  \\\n",
       "0  <a refstr=HAN_ET_AL__2020 href=https://ui.adsa...       NaN         NaN   \n",
       "1  <a refstr=STASSUN_ET_AL__2019 href=https://ui....   7.99553    0.051581   \n",
       "2  <a refstr=STASSUN_ET_AL__2019 href=https://ui....   7.93777    0.040833   \n",
       "3  <a refstr=STASSUN_ET_AL__2019 href=https://ui.... -10.97340    0.053624   \n",
       "4  <a refstr=LATHAM_ET_AL__2005 href=https://ui.a... -26.00000         NaN   \n",
       "\n",
       "   sy_pmraerr2                    sy_pmrastr         x         y         z  \\\n",
       "0          NaN                           NaN -0.063824 -0.828921 -0.555712   \n",
       "1    -0.051581    7.9955300&plusmn;0.0515805  0.310575 -0.711954  0.629813   \n",
       "2    -0.040833    7.9377700&plusmn;0.0408326  0.157566 -0.720680  0.675124   \n",
       "3    -0.053624  -10.9734000&plusmn;0.0536244  0.959702  0.224997  0.168368   \n",
       "4          NaN                         -26.0  0.229185 -0.702544  0.673726   \n",
       "\n",
       "          htm20  \n",
       "0 -7.684157e+08  \n",
       "1  1.302658e+09  \n",
       "2 -7.922609e+08  \n",
       "3  6.098136e+08  \n",
       "4 -1.968935e+09  \n",
       "\n",
       "[5 rows x 373 columns]"
      ]
     },
     "execution_count": 3,
     "metadata": {},
     "output_type": "execute_result"
    }
   ],
   "source": [
    "nexsci.head()"
   ]
  },
  {
   "cell_type": "code",
   "execution_count": 4,
   "metadata": {
    "execution": {
     "iopub.execute_input": "2023-03-23T19:36:24.867945Z",
     "iopub.status.busy": "2023-03-23T19:36:24.866871Z",
     "iopub.status.idle": "2023-03-23T19:36:24.888102Z",
     "shell.execute_reply": "2023-03-23T19:36:24.888993Z"
    }
   },
   "outputs": [
    {
     "data": {
      "text/html": [
       "<div>\n",
       "<style scoped>\n",
       "    .dataframe tbody tr th:only-of-type {\n",
       "        vertical-align: middle;\n",
       "    }\n",
       "\n",
       "    .dataframe tbody tr th {\n",
       "        vertical-align: top;\n",
       "    }\n",
       "\n",
       "    .dataframe thead th {\n",
       "        text-align: right;\n",
       "    }\n",
       "</style>\n",
       "<table border=\"1\" class=\"dataframe\">\n",
       "  <thead>\n",
       "    <tr style=\"text-align: right;\">\n",
       "      <th></th>\n",
       "      <th>pl_name</th>\n",
       "      <th>pl_letter</th>\n",
       "      <th>hostname</th>\n",
       "      <th>hd_name</th>\n",
       "      <th>hip_name</th>\n",
       "      <th>tic_id</th>\n",
       "      <th>disc_pubdate</th>\n",
       "      <th>disc_year</th>\n",
       "      <th>discoverymethod</th>\n",
       "      <th>disc_locale</th>\n",
       "      <th>...</th>\n",
       "      <th>sy_pmstr</th>\n",
       "      <th>sy_pm_reflink</th>\n",
       "      <th>sy_pmra</th>\n",
       "      <th>sy_pmraerr1</th>\n",
       "      <th>sy_pmraerr2</th>\n",
       "      <th>sy_pmrastr</th>\n",
       "      <th>x</th>\n",
       "      <th>y</th>\n",
       "      <th>z</th>\n",
       "      <th>htm20</th>\n",
       "    </tr>\n",
       "  </thead>\n",
       "  <tbody>\n",
       "    <tr>\n",
       "      <th>711</th>\n",
       "      <td>HAT-P-26 b</td>\n",
       "      <td>b</td>\n",
       "      <td>HAT-P-26</td>\n",
       "      <td>NaN</td>\n",
       "      <td>NaN</td>\n",
       "      <td>TIC 420779000</td>\n",
       "      <td>2011-02</td>\n",
       "      <td>2010.0</td>\n",
       "      <td>Transit</td>\n",
       "      <td>Ground</td>\n",
       "      <td>...</td>\n",
       "      <td>147.8161704&amp;plusmn;0.0835536</td>\n",
       "      <td>&lt;a refstr=STASSUN_ET_AL__2019 href=https://ui....</td>\n",
       "      <td>37.8389</td>\n",
       "      <td>0.093273</td>\n",
       "      <td>-0.093273</td>\n",
       "      <td>37.8389000&amp;plusmn;0.0932728</td>\n",
       "      <td>-0.835079</td>\n",
       "      <td>-0.545556</td>\n",
       "      <td>0.070791</td>\n",
       "      <td>-440551644.0</td>\n",
       "    </tr>\n",
       "  </tbody>\n",
       "</table>\n",
       "<p>1 rows × 373 columns</p>\n",
       "</div>"
      ],
      "text/plain": [
       "        pl_name pl_letter  hostname hd_name hip_name         tic_id  \\\n",
       "711  HAT-P-26 b         b  HAT-P-26     NaN      NaN  TIC 420779000   \n",
       "\n",
       "    disc_pubdate  disc_year discoverymethod disc_locale  ...  \\\n",
       "711      2011-02     2010.0         Transit      Ground  ...   \n",
       "\n",
       "                         sy_pmstr  \\\n",
       "711  147.8161704&plusmn;0.0835536   \n",
       "\n",
       "                                         sy_pm_reflink  sy_pmra sy_pmraerr1  \\\n",
       "711  <a refstr=STASSUN_ET_AL__2019 href=https://ui....  37.8389    0.093273   \n",
       "\n",
       "     sy_pmraerr2                   sy_pmrastr         x         y         z  \\\n",
       "711    -0.093273  37.8389000&plusmn;0.0932728 -0.835079 -0.545556  0.070791   \n",
       "\n",
       "           htm20  \n",
       "711 -440551644.0  \n",
       "\n",
       "[1 rows x 373 columns]"
      ]
     },
     "execution_count": 4,
     "metadata": {},
     "output_type": "execute_result"
    }
   ],
   "source": [
    "nexsci.loc[nexsci['hostname']=='HAT-P-26']"
   ]
  },
  {
   "cell_type": "code",
   "execution_count": 5,
   "metadata": {
    "execution": {
     "iopub.execute_input": "2023-03-23T19:36:24.894854Z",
     "iopub.status.busy": "2023-03-23T19:36:24.894011Z",
     "iopub.status.idle": "2023-03-23T19:36:25.386778Z",
     "shell.execute_reply": "2023-03-23T19:36:25.385804Z"
    }
   },
   "outputs": [],
   "source": [
    "#first isolate the row \n",
    "hatp26_row = nexsci.loc[nexsci['hostname']=='HAT-P-26']\n",
    "\n",
    "#add it to load planet function with opacity\n",
    "opa = jdi.opannection(wave_range=[1,5])\n",
    "hatp26 = jdi.load_planet(hatp26_row,opa , st_metfe=0)#hatp26 is misst st_metfe so we must add it as a keyword"
   ]
  },
  {
   "cell_type": "markdown",
   "metadata": {},
   "source": [
    "Load planet function adds in: \n",
    "    - planet properties and stellar properties \n",
    "    - parameterized PT profile \n",
    "\n",
    "That means you still need to add in the chemistry and cloud parameters"
   ]
  },
  {
   "cell_type": "code",
   "execution_count": 6,
   "metadata": {
    "execution": {
     "iopub.execute_input": "2023-03-23T19:36:25.392691Z",
     "iopub.status.busy": "2023-03-23T19:36:25.391504Z",
     "iopub.status.idle": "2023-03-23T19:36:27.522506Z",
     "shell.execute_reply": "2023-03-23T19:36:27.523379Z"
    }
   },
   "outputs": [],
   "source": [
    "co=1.0#c/o ratio 1x solar\n",
    "logfeh = 1.5 #10^1.5 ~ 30x solar \n",
    "hatp26.chemeq_visscher(co,logfeh) #adds in template chemistry from sonora\n",
    "df = hatp26.spectrum(opa, calculation='transmission+thermal')"
   ]
  },
  {
   "cell_type": "code",
   "execution_count": 7,
   "metadata": {
    "execution": {
     "iopub.execute_input": "2023-03-23T19:36:27.534128Z",
     "iopub.status.busy": "2023-03-23T19:36:27.533580Z",
     "iopub.status.idle": "2023-03-23T19:36:27.695306Z",
     "shell.execute_reply": "2023-03-23T19:36:27.695744Z"
    }
   },
   "outputs": [
    {
     "data": {
      "text/html": [
       "\n",
       "  <div id=\"f5b9837c-5aee-45a6-a014-835cfdcac2e2\" data-root-id=\"p1112\" style=\"display: contents;\"></div>\n"
      ]
     },
     "metadata": {},
     "output_type": "display_data"
    },
    {
     "data": {
      "application/javascript": [
       "(function(root) {\n",
       "  function embed_document(root) {\n",
       "  const docs_json = {\"21cf2a08-b8c0-4819-b276-13f0680bfa7b\":{\"version\":\"3.0.2\",\"title\":\"Bokeh Application\",\"defs\":[],\"roots\":[{\"type\":\"object\",\"name\":\"Row\",\"id\":\"p1112\",\"attributes\":{\"children\":[{\"type\":\"object\",\"name\":\"Figure\",\"id\":\"p1002\",\"attributes\":{\"width\":400,\"height\":345,\"x_range\":{\"type\":\"object\",\"name\":\"DataRange1d\",\"id\":\"p1003\"},\"y_range\":{\"type\":\"object\",\"name\":\"DataRange1d\",\"id\":\"p1004\"},\"x_scale\":{\"type\":\"object\",\"name\":\"LinearScale\",\"id\":\"p1015\"},\"y_scale\":{\"type\":\"object\",\"name\":\"LogScale\",\"id\":\"p1017\"},\"title\":{\"type\":\"object\",\"name\":\"Title\",\"id\":\"p1005\"},\"renderers\":[{\"type\":\"object\",\"name\":\"GlyphRenderer\",\"id\":\"p1054\",\"attributes\":{\"data_source\":{\"type\":\"object\",\"name\":\"ColumnDataSource\",\"id\":\"p1048\",\"attributes\":{\"selected\":{\"type\":\"object\",\"name\":\"Selection\",\"id\":\"p1050\",\"attributes\":{\"indices\":[],\"line_indices\":[]}},\"selection_policy\":{\"type\":\"object\",\"name\":\"UnionRenderers\",\"id\":\"p1049\"},\"data\":{\"type\":\"map\",\"entries\":[[\"x\",{\"type\":\"ndarray\",\"array\":{\"type\":\"bytes\",\"data\":\"OKzo6uoCFEBG/wna4OATQJwwxK8QvxNA+A+aCXqdE0Cm9LWFHHwTQIeg6ML3WhNA/SSoYAs6E0C8yQ7/VhkTQHj12T7a+BJAaRhpwZTYEkCtmLwohrgSQHvAdBeumBJAM67QMAx5EkAhRq0YoFkSQDImhHNpOhJAT5tq5mcbEkCTmBAXm/wRQDqwv6sC3hFATw5aS56/EUAgdVmdbaERQF07zklwgxFA+0te+aVlEUDAJ0RVDkgRQIzoTQepKhFAQkbcuXUNEUBlneEXdPAQQFr34Myj0xBAUxTthAS3EEDadqfslZoQQPRwP7FXfhBA+DJxgEliEEDh24QIa0YQQFKLTfi7KhBAIXUo/zsPEED17PeZ1ecPQBpZbSSQsQ9Akhmd/6Z7D0BW/X+OGUYPQAzuGTXnEA9Asil4WA/cDkBTf69ekacOQKOO2q5scw5AtwoYsaA/DkCW/4jOLAwOQM0aT3EQ2Q1A5/aKBEumDUDHaVr023MNQPLV1q3CQQ1An34Tn/4PDUC93hs3j94MQK0C8uVzrQxA5OSMHKx8DEBCzdZMN0wMQDqzq+kUHAxAuqLXZkTsC0DFIxU5xbwLQNCkC9aWjQtAwudNtLheC0C0cVhLKjALQEb9jxPrAQtAr+8/hvrTCkBU0JgdWKYKQAnDrlQDeQpA7QR4p/tLCkDOa8uSQB8KQB3oXpTR8glAcQnGKq7GCUCNhXDV1ZoJQObBqBRIbwlAqF+SaQRECUAuyihWChkJQP3HPV1Z7ghAGg54AvHDCEDg1VHK0JkIQDN1Fzr4bwhAGfnl12ZGCEC2wqkqHB0IQKEmHboX9AdAjg7HDlnLB0BXnfmx36IHQEjV0C2regdAukAxDbtSB0ABncbbDisHQIyHAiamAwdAVy0beYDcBkCQ/AljnbUGQHBYinL8jgZAWE8YN51oBkASU+9Af0IGQEPzCCGiHAZAC5obaQX3BUDGSpmrqNEFQPFirnuLrAVAL11Aba2HBUBlluwUDmMFQPgUBwitPgVAElKZ3IkaBUD7BGEppPYEQInwzoX70gRAjbIFio+vBEBNldjOX4wEQPtiyu1raQRAMzsMgbNGBEBvanwjNiQEQHRDpXDzAQRAt/q7BOvfA0Cvg598HL4DQBlw13WHnANAKdGSjit7A0CeGqdlCFoDQLsHj5odOQNAJoJpzWoYA0Cjivie7/cCQKkjoLCr1wJAyT1lpJ63AkD9pewcyJcCQK/1eb0neAJAo4TuKb1YAkCiXMgGiDkCQPEuIfmHGgJAjEutprz7AUAkmrq1Jd0BQN6UL83CvgFAyESKlJOgAUASQN+zl4IBQPap2NPOZAFAUDS1nThHAUD0Ike71CkBQKZQ89aiDAFAwDWwm6LvAECA8AS109IAQAJPCM81tgBA0dpflsiZAEAe5j64i30AQJiaZeJ+YQBA1gkgw6FFAEBaP0UJ9CkAQDFUNmR1DgBAOQi7B0vm/z+XiFoxCLD/P1G3Pqchev8/SvlnzJZE/z80weEEZw//P0TJwLWR2v4/A1AhRRam/j/9VyUa9HH+P4rq8pwqPv4/f12yNrkK/j/Qm4xRn9f9PxpxqVjcpP0/HdgtuG9y/T8LTDrdWED9P8Qc6TWXDv0/0sVMMSrd/D9USG4/Eaz8P6WHS9FLe/w/wqjVWNlK/D+cdO9IuRr8P/q8axXr6vs/OsQLM267+z+1p30XQoz7P97MWjlmXfs/CFEmENou+z/ge0sUnQD7P3Q0HL+u0vo/AHnPig6l+j8o2X/yu3f6P+3yKXK2Svo/KvKqhv0d+j+SEr+tkPH5P08kAGZvxfk/DxPkLpmZ+T+jb7uIDW75PxT8r/TLQvk/MTrD9NMX+T+R/MwLJe34Pwv6eb2+wvg/i2NKjqCY+D9mfJADym74P/o0b6M6Rfg/w8fY9PEb+D+4WI1/7/L3PxGXGcwyyvc/VWHVY7uh9z+9a+LQiHn3P+boKp6aUfc/vzRgV/Ap9z/LgfmIiQL3P5aIMsBl2/Y/bjkKi4S09j9WcEF45Y32Px+rWReIZ/Y/zcGT+GtB9j8Moe6skBv2P+IGJsb19fU/hUGx1prQ9T9K8MFxf6v1P7nGQiujhvU/vFHWlwVi9T/mvtVMpj31P9GlT+CEGfU/ftMG6aD19D/TF3H++dH0Px4VtriPrvQ/lBGusGGL9D/fyuB/b2j0P6ZLhMC4RfQ/EcN7DT0j9D9DXlYC/AD0P80jTjv13vM/EdFGVSi98z+RucztlJvzPy2oE6M6evM/RcL1ExlZ8z/IbPLfLzjzPxMzLad+F/M/w69sCgX38j9PdxmrwtbyP40EPSu3tvI/96aALeKW8j/TcixVQ3fyPyEzJkbaV/I/UF3wpKY48j/KBqkWqBnyPzjcCEHe+vE/jBpiykjc8T/JiZ9Z573xP495Q5a5n/E/WL9mKL+B8T9rtre492PxP4tBefBiRvE/Ss6BeQAp8T8aWjr+zwvxP/h4nSnR7vA/zl02pwPS8D9o5B8jZ7XwPyadA0r7mPA/MdoYyb988D9fviNOtGDwP7JNdIfYRPA/XH/lIywp8D9wUdzSrg3wPw==\"},\"shape\":[242],\"dtype\":\"float64\",\"order\":\"little\"}],[\"y\",{\"type\":\"ndarray\",\"array\":{\"type\":\"bytes\",\"data\":\"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\"},\"shape\":[242],\"dtype\":\"float64\",\"order\":\"little\"}]]}}},\"view\":{\"type\":\"object\",\"name\":\"CDSView\",\"id\":\"p1055\",\"attributes\":{\"filter\":{\"type\":\"object\",\"name\":\"AllIndices\",\"id\":\"p1056\"}}},\"glyph\":{\"type\":\"object\",\"name\":\"Line\",\"id\":\"p1051\",\"attributes\":{\"x\":{\"type\":\"field\",\"field\":\"x\"},\"y\":{\"type\":\"field\",\"field\":\"y\"},\"line_color\":\"#0072B2\",\"line_width\":3}},\"nonselection_glyph\":{\"type\":\"object\",\"name\":\"Line\",\"id\":\"p1052\",\"attributes\":{\"x\":{\"type\":\"field\",\"field\":\"x\"},\"y\":{\"type\":\"field\",\"field\":\"y\"},\"line_color\":\"#0072B2\",\"line_alpha\":0.1,\"line_width\":3}},\"muted_glyph\":{\"type\":\"object\",\"name\":\"Line\",\"id\":\"p1053\",\"attributes\":{\"x\":{\"type\":\"field\",\"field\":\"x\"},\"y\":{\"type\":\"field\",\"field\":\"y\"},\"line_color\":\"#0072B2\",\"line_alpha\":0.2,\"line_width\":3}}}}],\"toolbar\":{\"type\":\"object\",\"name\":\"Toolbar\",\"id\":\"p1010\",\"attributes\":{\"tools\":[{\"type\":\"object\",\"name\":\"PanTool\",\"id\":\"p1033\"},{\"type\":\"object\",\"name\":\"WheelZoomTool\",\"id\":\"p1034\"},{\"type\":\"object\",\"name\":\"BoxZoomTool\",\"id\":\"p1035\",\"attributes\":{\"overlay\":{\"type\":\"object\",\"name\":\"BoxAnnotation\",\"id\":\"p1036\",\"attributes\":{\"syncable\":false,\"level\":\"overlay\",\"visible\":false,\"left_units\":\"canvas\",\"right_units\":\"canvas\",\"bottom_units\":\"canvas\",\"top_units\":\"canvas\",\"line_color\":\"black\",\"line_alpha\":1.0,\"line_width\":2,\"line_dash\":[4,4],\"fill_color\":\"lightgrey\",\"fill_alpha\":0.5}}}},{\"type\":\"object\",\"name\":\"SaveTool\",\"id\":\"p1037\"},{\"type\":\"object\",\"name\":\"ResetTool\",\"id\":\"p1038\"},{\"type\":\"object\",\"name\":\"HelpTool\",\"id\":\"p1039\"}]}},\"left\":[{\"type\":\"object\",\"name\":\"LogAxis\",\"id\":\"p1026\",\"attributes\":{\"ticker\":{\"type\":\"object\",\"name\":\"LogTicker\",\"id\":\"p1027\",\"attributes\":{\"num_minor_ticks\":10,\"mantissas\":[1,5]}},\"formatter\":{\"type\":\"object\",\"name\":\"LogTickFormatter\",\"id\":\"p1029\"},\"axis_label\":\"FpFs\",\"axis_label_text_font\":\"times\",\"axis_label_text_font_size\":\"14pt\",\"axis_label_text_font_style\":\"bold\",\"major_label_policy\":{\"type\":\"object\",\"name\":\"AllLabels\",\"id\":\"p1028\"},\"major_label_text_font\":\"times\",\"major_label_text_font_size\":\"14pt\"}}],\"below\":[{\"type\":\"object\",\"name\":\"LinearAxis\",\"id\":\"p1019\",\"attributes\":{\"ticker\":{\"type\":\"object\",\"name\":\"BasicTicker\",\"id\":\"p1020\",\"attributes\":{\"mantissas\":[1,2,5]}},\"formatter\":{\"type\":\"object\",\"name\":\"BasicTickFormatter\",\"id\":\"p1022\"},\"axis_label\":\"Wavelength [\\u03bcm]\",\"axis_label_text_font\":\"times\",\"axis_label_text_font_size\":\"14pt\",\"axis_label_text_font_style\":\"bold\",\"major_label_policy\":{\"type\":\"object\",\"name\":\"AllLabels\",\"id\":\"p1021\"},\"major_label_text_font\":\"times\",\"major_label_text_font_size\":\"14pt\"}}],\"center\":[{\"type\":\"object\",\"name\":\"Grid\",\"id\":\"p1025\",\"attributes\":{\"axis\":{\"id\":\"p1019\"}}},{\"type\":\"object\",\"name\":\"Grid\",\"id\":\"p1032\",\"attributes\":{\"dimension\":1,\"axis\":{\"id\":\"p1026\"}}}]}},{\"type\":\"object\",\"name\":\"Figure\",\"id\":\"p1057\",\"attributes\":{\"width\":400,\"height\":345,\"x_range\":{\"type\":\"object\",\"name\":\"DataRange1d\",\"id\":\"p1058\"},\"y_range\":{\"type\":\"object\",\"name\":\"DataRange1d\",\"id\":\"p1059\"},\"x_scale\":{\"type\":\"object\",\"name\":\"LinearScale\",\"id\":\"p1070\"},\"y_scale\":{\"type\":\"object\",\"name\":\"LinearScale\",\"id\":\"p1072\"},\"title\":{\"type\":\"object\",\"name\":\"Title\",\"id\":\"p1060\"},\"renderers\":[{\"type\":\"object\",\"name\":\"GlyphRenderer\",\"id\":\"p1109\",\"attributes\":{\"data_source\":{\"type\":\"object\",\"name\":\"ColumnDataSource\",\"id\":\"p1103\",\"attributes\":{\"selected\":{\"type\":\"object\",\"name\":\"Selection\",\"id\":\"p1105\",\"attributes\":{\"indices\":[],\"line_indices\":[]}},\"selection_policy\":{\"type\":\"object\",\"name\":\"UnionRenderers\",\"id\":\"p1104\"},\"data\":{\"type\":\"map\",\"entries\":[[\"x\",{\"type\":\"ndarray\",\"array\":{\"type\":\"bytes\",\"data\":\"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\"},\"shape\":[242],\"dtype\":\"float64\",\"order\":\"little\"}],[\"y\",{\"type\":\"ndarray\",\"array\":{\"type\":\"bytes\",\"data\":\"kkY8gLglfj9DIs5ho8Z+P7cqOdQfsX4/CnSHYRwOfz+i9O7gIe5+P05Si1l29H4/Kg44Gay9fj/XqSkb2J5+P4TTUHhWlH4/D/myqqDUfj+eJ6zlHcN+P2kAUUz0nn4/tETbC8kufz/Ko6YOZdp/P66yd7fnMoA/AjHRHuOYgD9ueSvizryAP6LF7EUX1YA/9ZMlpmgOgT9d1PcloSKBP2/lTCN6LYE/0Jjgd/MigT/b7U7XGRmBP8/p0YDg6oA/6MN0Toa3gD9x+RBMuzSAPzk4avLnRH8/WkKzx5uifT97Xcpw5NR8P2GGv3JuIH0/I1enCJLCfD+Jj7Vr39d8Py2QXWD7wnw/RaXqBMRgfD+de+gHO618P6zMfe/4j3w/CxoxlZB3fD/E7ArmPY18P7MoKGPJbnw/wZ8fIJtyfD+N5kL/rMt8P209PNp7vXw/HUJVQArlfD/tSnEpJ+F8P1TZbZfuLn0/YNHqB07QfD/Xqo04XMJ8P+ZZkwk98nw/buZOLuAsfT+hCtXEKBx9P9HULUseLX0/uvgq8ghNfT+Om9G/LTB9PxASvBbGCH0/AyjiyQF7fT8fIQ0mgpV9Pw1/vBVUYX0/EUilbPF6fT94+k+1OJ99P3z9z7rZTX0/8j2VTAeZfT/uzoI8Vb59P5YX3aXXon0/EMbodEACfT8xODEBWmt9Px/BEIENon0/AnU/4CGRfT/YTxWj28J9P2+w94uN6H0/O6Euti3ofT/fCwkiWnR+P2oXqiSq1n0/XaaMtUhEfj9ZkELsOF1+P3gog556nX4/zTf1i/Fnfj87V+YJS29+Pzl31N1e3H4/vYkixwgGfz+nZ88V0Up/P+M+i9s5nn8/pAWMSGOifz8+VOAo/xWAP+wUHTrMCIA/t6rAWgwygD8WL4OyZkSAP/GxxZ1/UYA/f5yqz1pKgD+Hh0Mw9AmAPy8DlHvcBYA/pfspdUw6gD/P6Z8dvl2AP8O6k4qqc4A/UfGva/JMgD/Q3/q4pVmAP8lL4aBrn38/fLCtdhxnfz8bKSsedCF/P3VwuQa3hH8/Qco9Oo+lfz/w5bvYJ55/PwhmplMdv38/9hg4YMjwfj+P5lGXlO1+P5/bc/5mnX4/LbILpYpcfj+C65RFij9+P1PrMy2sSX4/8iHPAfy3fT9BNHYpSl19P136jPsZPn0/GLECfV5kfT+SnHUNlhB9P6AsaWQl73w/lrihP88wfT8qe+8aGPd8P1y2MKMGwnw/dgRVhAl/fD9CGytynkh8P0v9kcr1E3w/MubD1NwLfD87ZIMJcCR8P+CduECk03s/Vl3sGAoUfD9QQKOxzNJ7P6Idezlk/ns/4D1oGmkTfD8VNyudf0R8PxcihrLog3w/45dfrneUfD98VeQlwvZ8P6vF+gL2L30/7g4gvV2GfT/FfLiIGIx9P0fpk2AXAH4/jFkbe1w/fj88TO+cSXR+P6rfz2WCl34/dK9TJXR8fj97BMPRcet9P4JVkTxfiH4/mRX3y3Igfz/IdOZ9ltd+P/BMchW3SH4/kxcqDxm4fT8qOrpTkGF+PybeU3PtP34/40F5n0Sdfj9BaqOEtK9+P0loGmMC8H4/qdO2iRtKfj9TuLYANep9P1mSL48Yun0/kZ9OwtzJfT+oTWH8/at9P3UlCpuZvH0/L6AfqepAfT/mAb+ATdt8P2XZyq60o3w/i5vW08S8fD/OwGfF63h8P5+HEXqDt3s/iEX4CFypez81F2V7ieh7P55rCpSA2Xs/9ZETT0oJfD/zqcBMxwh8P7LOR+XWAnw/Zfw8I2cvfD/lcmzuWUF8P0s0zr8CNnw/mZmGcReFfD9CHyv9rXZ8P5QyZTIZ1nw/b+VdKvvZfD/cJZq8o/d8P2khqdamDn0/yIN8+XcIfT/iJhOu6EB9P9+q3LUkN30/SWTgzBfZfT/w9dVWCad9PxOciE2X8n0/+H8oBduafj+9sfUc8ht+P3zuwG69p34/kLvvPaqLfj86MGmc3FZ/P2t3wDngFH8/APLF9j6hfj/vPh23HpR+P5vROngWCH8/gWIaKZd+fj8dJjxzBsB+P8OhOUcDRn8/+KPjzSyTfj+6qjvJ8qV+P7w4G3vxHn4/uhBDZAAxfj/y1CGRLKx8P0h8qcGlb3w/M1Sev1+Qez8FMhLXt+17PyFEHGM7nns/7W6rI4hoez9AaxSK9Kx7P33UP3DfWns/g7EOPY5Mez+ANglEGUp7P19fR+EBd3s/JArGNh2nez8won4GS9x7P361kLy65ns/v7f0qG9GfD84mn+fATd8PzU0XCq6fnw/0bh/zKWIfD/uLzWrvwJ9P6tbGUoCGH0/TD5slFUbfT9BTjW11xN9P/oqP4LQ6nw/bkLPgRMkfT/D0qti9Sh9P4DX4dfx4nw/4DdEZ/g7fT9RiXN6ypB8P7yh1anygXw/dAtrGn0mfD92BxM7fHR7PwL/LmgKy3o/tyEeqySCej/WTeauKap6PwDNtQhqxHo/LMJKIgukej93UJMJDtl6P9W2zsCKpXo/4qZ0a7Lhej+X60acGx17P1AXr9+YMHs/fJSifcSXez9gLt1gc817Pw==\"},\"shape\":[242],\"dtype\":\"float64\",\"order\":\"little\"}]]}}},\"view\":{\"type\":\"object\",\"name\":\"CDSView\",\"id\":\"p1110\",\"attributes\":{\"filter\":{\"type\":\"object\",\"name\":\"AllIndices\",\"id\":\"p1111\"}}},\"glyph\":{\"type\":\"object\",\"name\":\"Line\",\"id\":\"p1106\",\"attributes\":{\"x\":{\"type\":\"field\",\"field\":\"x\"},\"y\":{\"type\":\"field\",\"field\":\"y\"},\"line_color\":\"#0072B2\",\"line_width\":3}},\"nonselection_glyph\":{\"type\":\"object\",\"name\":\"Line\",\"id\":\"p1107\",\"attributes\":{\"x\":{\"type\":\"field\",\"field\":\"x\"},\"y\":{\"type\":\"field\",\"field\":\"y\"},\"line_color\":\"#0072B2\",\"line_alpha\":0.1,\"line_width\":3}},\"muted_glyph\":{\"type\":\"object\",\"name\":\"Line\",\"id\":\"p1108\",\"attributes\":{\"x\":{\"type\":\"field\",\"field\":\"x\"},\"y\":{\"type\":\"field\",\"field\":\"y\"},\"line_color\":\"#0072B2\",\"line_alpha\":0.2,\"line_width\":3}}}}],\"toolbar\":{\"type\":\"object\",\"name\":\"Toolbar\",\"id\":\"p1065\",\"attributes\":{\"tools\":[{\"type\":\"object\",\"name\":\"PanTool\",\"id\":\"p1088\"},{\"type\":\"object\",\"name\":\"WheelZoomTool\",\"id\":\"p1089\"},{\"type\":\"object\",\"name\":\"BoxZoomTool\",\"id\":\"p1090\",\"attributes\":{\"overlay\":{\"type\":\"object\",\"name\":\"BoxAnnotation\",\"id\":\"p1091\",\"attributes\":{\"syncable\":false,\"level\":\"overlay\",\"visible\":false,\"left_units\":\"canvas\",\"right_units\":\"canvas\",\"bottom_units\":\"canvas\",\"top_units\":\"canvas\",\"line_color\":\"black\",\"line_alpha\":1.0,\"line_width\":2,\"line_dash\":[4,4],\"fill_color\":\"lightgrey\",\"fill_alpha\":0.5}}}},{\"type\":\"object\",\"name\":\"SaveTool\",\"id\":\"p1092\"},{\"type\":\"object\",\"name\":\"ResetTool\",\"id\":\"p1093\"},{\"type\":\"object\",\"name\":\"HelpTool\",\"id\":\"p1094\"}]}},\"left\":[{\"type\":\"object\",\"name\":\"LinearAxis\",\"id\":\"p1081\",\"attributes\":{\"ticker\":{\"type\":\"object\",\"name\":\"BasicTicker\",\"id\":\"p1082\",\"attributes\":{\"mantissas\":[1,2,5]}},\"formatter\":{\"type\":\"object\",\"name\":\"BasicTickFormatter\",\"id\":\"p1084\"},\"axis_label\":\"(Rp/Rs)^2\",\"axis_label_text_font\":\"times\",\"axis_label_text_font_size\":\"14pt\",\"axis_label_text_font_style\":\"bold\",\"major_label_policy\":{\"type\":\"object\",\"name\":\"AllLabels\",\"id\":\"p1083\"},\"major_label_text_font\":\"times\",\"major_label_text_font_size\":\"14pt\"}}],\"below\":[{\"type\":\"object\",\"name\":\"LinearAxis\",\"id\":\"p1074\",\"attributes\":{\"ticker\":{\"type\":\"object\",\"name\":\"BasicTicker\",\"id\":\"p1075\",\"attributes\":{\"mantissas\":[1,2,5]}},\"formatter\":{\"type\":\"object\",\"name\":\"BasicTickFormatter\",\"id\":\"p1077\"},\"axis_label\":\"Wavelength [\\u03bcm]\",\"axis_label_text_font\":\"times\",\"axis_label_text_font_size\":\"14pt\",\"axis_label_text_font_style\":\"bold\",\"major_label_policy\":{\"type\":\"object\",\"name\":\"AllLabels\",\"id\":\"p1076\"},\"major_label_text_font\":\"times\",\"major_label_text_font_size\":\"14pt\"}}],\"center\":[{\"type\":\"object\",\"name\":\"Grid\",\"id\":\"p1080\",\"attributes\":{\"axis\":{\"id\":\"p1074\"}}},{\"type\":\"object\",\"name\":\"Grid\",\"id\":\"p1087\",\"attributes\":{\"dimension\":1,\"axis\":{\"id\":\"p1081\"}}}]}}]}}]}};\n",
       "  const render_items = [{\"docid\":\"21cf2a08-b8c0-4819-b276-13f0680bfa7b\",\"roots\":{\"p1112\":\"f5b9837c-5aee-45a6-a014-835cfdcac2e2\"},\"root_ids\":[\"p1112\"]}];\n",
       "  root.Bokeh.embed.embed_items_notebook(docs_json, render_items);\n",
       "  }\n",
       "  if (root.Bokeh !== undefined) {\n",
       "    embed_document(root);\n",
       "  } else {\n",
       "    let attempts = 0;\n",
       "    const timer = setInterval(function(root) {\n",
       "      if (root.Bokeh !== undefined) {\n",
       "        clearInterval(timer);\n",
       "        embed_document(root);\n",
       "      } else {\n",
       "        attempts++;\n",
       "        if (attempts > 100) {\n",
       "          clearInterval(timer);\n",
       "          console.log(\"Bokeh: ERROR: Unable to run BokehJS code because BokehJS library is missing\");\n",
       "        }\n",
       "      }\n",
       "    }, 10, root)\n",
       "  }\n",
       "})(window);"
      ],
      "application/vnd.bokehjs_exec.v0+json": ""
     },
     "metadata": {
      "application/vnd.bokehjs_exec.v0+json": {
       "id": "p1112"
      }
     },
     "output_type": "display_data"
    }
   ],
   "source": [
    "x,y = jdi.mean_regrid(df['wavenumber'], df['fpfs_thermal'],R=150)\n",
    "plot = [jpi.spectrum(x,y,plot_width=400, y_axis_type='log',y_axis_label='FpFs')]\n",
    "x,y = jdi.mean_regrid(df['wavenumber'], df['transit_depth'],R=150)\n",
    "plot += [jpi.spectrum(x,y,plot_width=400,y_axis_label='(Rp/Rs)^2')]\n",
    "\n",
    "jpi.show(jpi.row(plot))"
   ]
  },
  {
   "cell_type": "markdown",
   "metadata": {},
   "source": [
    "# How do I access the pressure-temperature profile parameterizations?"
   ]
  },
  {
   "cell_type": "code",
   "execution_count": 8,
   "metadata": {
    "execution": {
     "iopub.execute_input": "2023-03-23T19:36:27.699811Z",
     "iopub.status.busy": "2023-03-23T19:36:27.699290Z",
     "iopub.status.idle": "2023-03-23T19:36:27.937434Z",
     "shell.execute_reply": "2023-03-23T19:36:27.936839Z"
    }
   },
   "outputs": [],
   "source": [
    "#start by loading in some template properties\n",
    "opa = jdi.opannection(wave_range=[1,5])\n",
    "hatp26_row = nexsci.loc[nexsci['hostname']=='HAT-P-26']\n",
    "hatp26 = jdi.load_planet(hatp26_row,opa, st_metfe=0)"
   ]
  },
  {
   "cell_type": "markdown",
   "metadata": {},
   "source": [
    "### How do the input parameters effect the parameterization?"
   ]
  },
  {
   "cell_type": "code",
   "execution_count": 9,
   "metadata": {
    "execution": {
     "iopub.execute_input": "2023-03-23T19:36:28.101524Z",
     "iopub.status.busy": "2023-03-23T19:36:28.065191Z",
     "iopub.status.idle": "2023-03-23T19:36:28.303516Z",
     "shell.execute_reply": "2023-03-23T19:36:28.304071Z"
    }
   },
   "outputs": [
    {
     "data": {
      "text/html": [
       "\n",
       "  <div id=\"3ff3634e-92e2-4e2a-b3dd-fade1c8fc315\" data-root-id=\"p1702\" style=\"display: contents;\"></div>\n"
      ]
     },
     "metadata": {},
     "output_type": "display_data"
    },
    {
     "data": {
      "application/javascript": [
       "(function(root) {\n",
       "  function embed_document(root) {\n",
       "  const docs_json = {\"7edd6234-8df7-4be3-a92b-6e2ece810294\":{\"version\":\"3.0.2\",\"title\":\"Bokeh Application\",\"defs\":[],\"roots\":[{\"type\":\"object\",\"name\":\"Row\",\"id\":\"p1702\",\"attributes\":{\"children\":[{\"type\":\"object\",\"name\":\"Figure\",\"id\":\"p1291\",\"attributes\":{\"width\":300,\"height\":300,\"x_range\":{\"type\":\"object\",\"name\":\"Range1d\",\"id\":\"p1301\",\"attributes\":{\"start\":400,\"end\":1700}},\"y_range\":{\"type\":\"object\",\"name\":\"Range1d\",\"id\":\"p1303\",\"attributes\":{\"start\":100,\"end\":1e-06}},\"x_scale\":{\"type\":\"object\",\"name\":\"LinearScale\",\"id\":\"p1305\"},\"y_scale\":{\"type\":\"object\",\"name\":\"LogScale\",\"id\":\"p1307\"},\"title\":{\"type\":\"object\",\"name\":\"Title\",\"id\":\"p1294\",\"attributes\":{\"text\":\"Effect of logg1\"}},\"renderers\":[{\"type\":\"object\",\"name\":\"GlyphRenderer\",\"id\":\"p1344\",\"attributes\":{\"data_source\":{\"type\":\"object\",\"name\":\"ColumnDataSource\",\"id\":\"p1338\",\"attributes\":{\"selected\":{\"type\":\"object\",\"name\":\"Selection\",\"id\":\"p1340\",\"attributes\":{\"indices\":[],\"line_indices\":[]}},\"selection_policy\":{\"type\":\"object\",\"name\":\"UnionRenderers\",\"id\":\"p1339\"},\"data\":{\"type\":\"map\",\"entries\":[[\"x\",{\"type\":\"ndarray\",\"array\":{\"type\":\"bytes\",\"data\":\"9JzpRUBdfkDo2/D6UV1+QPx/1bdpXX5A0sCy7oldfkBFP2NytF1+QPY0Nm/sXX5A1nwsfDdefkBXJjZTnV5+QPLW8LUjX35AAHAcqNRffkB6LTLMwWB+QL06KnwDYn5AhSNJ0KtjfkDiKctA2mV+QN3ijCTGaH5A4Tqtq7tsfkDw3gX78nF+QBiMzZzNeH5AnGYTXvaBfkCOLX8zVo5+QNJ591OUnn5Aw8YvcdKzfkBUWBh1BdB+QO9TZ3DF9X5ALkmo/sgmf0BVxgxNBWZ/QMN+knFsuH9AOlWfagYSgEDrzqdG+VWAQAH13EjKqoBAgRyZGMgUgUBsutcrV5iBQIvzv2QBNoJA9/7zLBvwgkB70McNhMqDQKlQEpsbyIRAfX/teFvmhUA+tWepdCWHQLrK9NUdh4hAIB7Yba4LikBqiDN2Ta6LQM5iusXYbI1A7sfGcZpFj0BvAG0eIJqQQBnDb4YZmJFAazuVOsqYkkBm30ykspaTQKazHpARipRAssJdNAxslUCAspeoETWWQOaoUw+325ZAgn8WTMNYl0DZfZOpU6+XQHccJl6/45dASgaWpKH9l0Cr0y67cAiYQFMYpzdbDphA6KS7+akTmEBfw3BkRxqYQH87av0sI5hAlyFI/dsumEA=\"},\"shape\":[61],\"dtype\":\"float64\",\"order\":\"little\"}],[\"y\",{\"type\":\"ndarray\",\"array\":{\"type\":\"bytes\",\"data\":\"je21oPfGsD55sw9Sbl+2PjiXhuOm1b0+ZmRJe3zkwz6Uz1+H8IbKPhkttIXur9E+n0qHEBiW1z55rcSB7XPfPvFo44i1+OQ+V6CT5kn36z6DHjROiKXyPoC9G5qb3fg+veGbVFaUAD9fOCEn6hsGP0YdqRSeew0/bOwacXSoEz8tQxzr4jYaPzZEHDCOeiE/IybBYepOJz/grKKAAhUvPyzawulruTQ/d4bpsOSiOz9MsunMQm1CP4enYY2Rkkg//Knx0k1iUD9EVSO8MdlVP6xvMfqkIl0/DKxlkCFtYz+3kDPkxudpPwv0ke7ORXE/3x4kgJMIdz9oEbrwNbd+P3sUrkfheoQ/lSosK35Piz/M5V4cpzWSPw8Xf/RpSJg/cjqgTtwwoD8NcTaqQpelP5cmLWC4yqw/4Up0toEysz+amZmZmZm5P52a+9quEcE/P5924xDDxj/S3J5xhFrOPw9JSGITPdQ/UA3EVBP92j8eOBw8s/7hP5pdESQi/+c/AAAAAAAA8D9EgbqRGlb1Pw5HVBzVc/w/A0oDx5L4AkBTW9o6WEwJQFKI+hQs3hBAJkYjC2B+FkAAtRWt6v4dQAAAAAAAACRAlSEpNqGrKkBprLQxZcgxQIQcxHi3tjdAJ/KQSW6fP0A=\"},\"shape\":[61],\"dtype\":\"float64\",\"order\":\"little\"}]]}}},\"view\":{\"type\":\"object\",\"name\":\"CDSView\",\"id\":\"p1345\",\"attributes\":{\"filter\":{\"type\":\"object\",\"name\":\"AllIndices\",\"id\":\"p1346\"}}},\"glyph\":{\"type\":\"object\",\"name\":\"Line\",\"id\":\"p1341\",\"attributes\":{\"x\":{\"type\":\"field\",\"field\":\"x\"},\"y\":{\"type\":\"field\",\"field\":\"y\"},\"line_color\":\"#000003\"}},\"nonselection_glyph\":{\"type\":\"object\",\"name\":\"Line\",\"id\":\"p1342\",\"attributes\":{\"x\":{\"type\":\"field\",\"field\":\"x\"},\"y\":{\"type\":\"field\",\"field\":\"y\"},\"line_color\":\"#000003\",\"line_alpha\":0.1}},\"muted_glyph\":{\"type\":\"object\",\"name\":\"Line\",\"id\":\"p1343\",\"attributes\":{\"x\":{\"type\":\"field\",\"field\":\"x\"},\"y\":{\"type\":\"field\",\"field\":\"y\"},\"line_color\":\"#000003\",\"line_alpha\":0.2}}}},{\"type\":\"object\",\"name\":\"GlyphRenderer\",\"id\":\"p1353\",\"attributes\":{\"data_source\":{\"type\":\"object\",\"name\":\"ColumnDataSource\",\"id\":\"p1347\",\"attributes\":{\"selected\":{\"type\":\"object\",\"name\":\"Selection\",\"id\":\"p1349\",\"attributes\":{\"indices\":[],\"line_indices\":[]}},\"selection_policy\":{\"type\":\"object\",\"name\":\"UnionRenderers\",\"id\":\"p1348\"},\"data\":{\"type\":\"map\",\"entries\":[[\"x\",{\"type\":\"ndarray\",\"array\":{\"type\":\"bytes\",\"data\":\"/nNX8El/fkDDdLdRW39+QD0BQZ9yf35AVW4dQJJ/fkAa5S3/u39+QNsBzfryf35AueB2sTyAfkA+kYW7oIB+QLKrJMIkgX5AO6lKntKBfkAWGUmnu4J+QApVNdD3g35AEsyQ5piFfkAOA7jfvYd+QE1EwSydin5ALKmXw4GOfkB9vXblopN+QNXcDo5gmn5ADtxbz2KjfkC4Mgfkjq9+QK2IgFOJv35AjXzEGm/UfkBw5Y7jLPB+QDeJCn9PFX9AONpUboVFf0D3ib+VtYN/QAZqMMq41H9AFUCyMz0fgED+0Bru9WGAQOIMgTMqtYBAiG7rI/0cgUDJpvtek52BQFzRY25AN4JAnl1/xPnrgkDsIe518r6DQJPCj/MNsoRAwxXPqPPBhUCjMu3Dd+2GQHYRjQL0M4hA0Dat2IWSiUCfnpkpBwKLQCtrWaWafIxACGO43IP6jUDhbsz9dnCPQFiuoiuiaZBAqIb01IALkUA7xINMQJaRQB1yDyYiA5JAuruizYpSkkCzZMmM64WSQAqFRadkoZJAHiOBq12tkkC2fzWQFrOSQPhj1AIYt5JANp3by5q7kkBc4NcXmsGSQGjvP756yZJAdKCHNczTkkC00VVNhuGSQKGGAZj085JA4PxdT/gLk0A=\"},\"shape\":[61],\"dtype\":\"float64\",\"order\":\"little\"}],[\"y\",{\"type\":\"ndarray\",\"array\":{\"type\":\"bytes\",\"data\":\"je21oPfGsD55sw9Sbl+2PjiXhuOm1b0+ZmRJe3zkwz6Uz1+H8IbKPhkttIXur9E+n0qHEBiW1z55rcSB7XPfPvFo44i1+OQ+V6CT5kn36z6DHjROiKXyPoC9G5qb3fg+veGbVFaUAD9fOCEn6hsGP0YdqRSeew0/bOwacXSoEz8tQxzr4jYaPzZEHDCOeiE/IybBYepOJz/grKKAAhUvPyzawulruTQ/d4bpsOSiOz9MsunMQm1CP4enYY2Rkkg//Knx0k1iUD9EVSO8MdlVP6xvMfqkIl0/DKxlkCFtYz+3kDPkxudpPwv0ke7ORXE/3x4kgJMIdz9oEbrwNbd+P3sUrkfheoQ/lSosK35Piz/M5V4cpzWSPw8Xf/RpSJg/cjqgTtwwoD8NcTaqQpelP5cmLWC4yqw/4Up0toEysz+amZmZmZm5P52a+9quEcE/P5924xDDxj/S3J5xhFrOPw9JSGITPdQ/UA3EVBP92j8eOBw8s/7hP5pdESQi/+c/AAAAAAAA8D9EgbqRGlb1Pw5HVBzVc/w/A0oDx5L4AkBTW9o6WEwJQFKI+hQs3hBAJkYjC2B+FkAAtRWt6v4dQAAAAAAAACRAlSEpNqGrKkBprLQxZcgxQIQcxHi3tjdAJ/KQSW6fP0A=\"},\"shape\":[61],\"dtype\":\"float64\",\"order\":\"little\"}]]}}},\"view\":{\"type\":\"object\",\"name\":\"CDSView\",\"id\":\"p1354\",\"attributes\":{\"filter\":{\"type\":\"object\",\"name\":\"AllIndices\",\"id\":\"p1355\"}}},\"glyph\":{\"type\":\"object\",\"name\":\"Line\",\"id\":\"p1350\",\"attributes\":{\"x\":{\"type\":\"field\",\"field\":\"x\"},\"y\":{\"type\":\"field\",\"field\":\"y\"},\"line_color\":\"#170F3C\"}},\"nonselection_glyph\":{\"type\":\"object\",\"name\":\"Line\",\"id\":\"p1351\",\"attributes\":{\"x\":{\"type\":\"field\",\"field\":\"x\"},\"y\":{\"type\":\"field\",\"field\":\"y\"},\"line_color\":\"#170F3C\",\"line_alpha\":0.1}},\"muted_glyph\":{\"type\":\"object\",\"name\":\"Line\",\"id\":\"p1352\",\"attributes\":{\"x\":{\"type\":\"field\",\"field\":\"x\"},\"y\":{\"type\":\"field\",\"field\":\"y\"},\"line_color\":\"#170F3C\",\"line_alpha\":0.2}}}},{\"type\":\"object\",\"name\":\"GlyphRenderer\",\"id\":\"p1362\",\"attributes\":{\"data_source\":{\"type\":\"object\",\"name\":\"ColumnDataSource\",\"id\":\"p1356\",\"attributes\":{\"selected\":{\"type\":\"object\",\"name\":\"Selection\",\"id\":\"p1358\",\"attributes\":{\"indices\":[],\"line_indices\":[]}},\"selection_policy\":{\"type\":\"object\",\"name\":\"UnionRenderers\",\"id\":\"p1357\"},\"data\":{\"type\":\"map\",\"entries\":[[\"x\",{\"type\":\"ndarray\",\"array\":{\"type\":\"bytes\",\"data\":\"RFJhK7nbfkDSbMxJydt+QN7IQuze235AeIzeUfzbfkC7/QcpI9x+QPc6911W3H5Av9lYF5vcfkB/Bnd2+Nx+QB+TLtBz3X5A2KzlaBbefkBnDOST8N5+QKaBVeQY4H5AgE/eL6DhfkDm2bW2o+N+QLiorO1W5n5A4eGfwwDqfkD/Ov6p1e5+QLIepKUw9X5AKreWH7H9fkDQiGu0MAl/QIrH0e9LGH9AAxAHrhEsf0BbE8oFVkZ/QO8DEA+FaX9AvaL+NzeXf0C+MY7yK9J/QPHd9oV7D4BAWW8Bb5NBgECLUyustYCAQBCn6vdJz4BAVUtj7QYxgUBtmyn4damBQB5BlTBuOIJA6l70rwnfgkBNPbv5856DQAQrkSLsd4RAes4b/v9khUBzolrfZ2KGQC0ebAc4a4dAcrauFG93iEDVPc+SnH2JQKM8VfhXdIpAzEQhcaZPi0A3TO7ZnAOMQBt9ioyIjYxA6anNOXvsjECST/hOayONQHGhz+QtPY1AB6aKxQFJjUBnGV5tkk+NQG73vzW7VY1AFIzDqKZdjUDVez2kCmiNQBLcZXWpdY1A7xn7tM2HjUAadya4M6CNQD93geANwI1A+/yFlm3pjUAKvtSi1h+OQJfQaUfDZ45AtVzF7s3DjkA=\"},\"shape\":[61],\"dtype\":\"float64\",\"order\":\"little\"}],[\"y\",{\"type\":\"ndarray\",\"array\":{\"type\":\"bytes\",\"data\":\"je21oPfGsD55sw9Sbl+2PjiXhuOm1b0+ZmRJe3zkwz6Uz1+H8IbKPhkttIXur9E+n0qHEBiW1z55rcSB7XPfPvFo44i1+OQ+V6CT5kn36z6DHjROiKXyPoC9G5qb3fg+veGbVFaUAD9fOCEn6hsGP0YdqRSeew0/bOwacXSoEz8tQxzr4jYaPzZEHDCOeiE/IybBYepOJz/grKKAAhUvPyzawulruTQ/d4bpsOSiOz9MsunMQm1CP4enYY2Rkkg//Knx0k1iUD9EVSO8MdlVP6xvMfqkIl0/DKxlkCFtYz+3kDPkxudpPwv0ke7ORXE/3x4kgJMIdz9oEbrwNbd+P3sUrkfheoQ/lSosK35Piz/M5V4cpzWSPw8Xf/RpSJg/cjqgTtwwoD8NcTaqQpelP5cmLWC4yqw/4Up0toEysz+amZmZmZm5P52a+9quEcE/P5924xDDxj/S3J5xhFrOPw9JSGITPdQ/UA3EVBP92j8eOBw8s/7hP5pdESQi/+c/AAAAAAAA8D9EgbqRGlb1Pw5HVBzVc/w/A0oDx5L4AkBTW9o6WEwJQFKI+hQs3hBAJkYjC2B+FkAAtRWt6v4dQAAAAAAAACRAlSEpNqGrKkBprLQxZcgxQIQcxHi3tjdAJ/KQSW6fP0A=\"},\"shape\":[61],\"dtype\":\"float64\",\"order\":\"little\"}]]}}},\"view\":{\"type\":\"object\",\"name\":\"CDSView\",\"id\":\"p1363\",\"attributes\":{\"filter\":{\"type\":\"object\",\"name\":\"AllIndices\",\"id\":\"p1364\"}}},\"glyph\":{\"type\":\"object\",\"name\":\"Line\",\"id\":\"p1359\",\"attributes\":{\"x\":{\"type\":\"field\",\"field\":\"x\"},\"y\":{\"type\":\"field\",\"field\":\"y\"},\"line_color\":\"#430F75\"}},\"nonselection_glyph\":{\"type\":\"object\",\"name\":\"Line\",\"id\":\"p1360\",\"attributes\":{\"x\":{\"type\":\"field\",\"field\":\"x\"},\"y\":{\"type\":\"field\",\"field\":\"y\"},\"line_color\":\"#430F75\",\"line_alpha\":0.1}},\"muted_glyph\":{\"type\":\"object\",\"name\":\"Line\",\"id\":\"p1361\",\"attributes\":{\"x\":{\"type\":\"field\",\"field\":\"x\"},\"y\":{\"type\":\"field\",\"field\":\"y\"},\"line_color\":\"#430F75\",\"line_alpha\":0.2}}}},{\"type\":\"object\",\"name\":\"GlyphRenderer\",\"id\":\"p1371\",\"attributes\":{\"data_source\":{\"type\":\"object\",\"name\":\"ColumnDataSource\",\"id\":\"p1365\",\"attributes\":{\"selected\":{\"type\":\"object\",\"name\":\"Selection\",\"id\":\"p1367\",\"attributes\":{\"indices\":[],\"line_indices\":[]}},\"selection_policy\":{\"type\":\"object\",\"name\":\"UnionRenderers\",\"id\":\"p1366\"},\"data\":{\"type\":\"map\",\"entries\":[[\"x\",{\"type\":\"ndarray\",\"array\":{\"type\":\"bytes\",\"data\":\"pLPfnh7Nf0CdtFQdKc1/QLXGll43zX9ASEG/+krNf0A6vn4tZc1/QELbSReIzX9AmGtue7fNf0A+nUag+M1/QIj0y5dPzn9AShl2Z8POf0DsU2R5YM9/QEIaVC040H9AjBrF3FfRf0BRxlmO1tJ/QNMmwubc1H9AZiVYj6PXf0BGP+WgVdt/QDVfHFs94H9AmBdXJt3mf0BE0fDV6O9/QMbQmzHl+39A4y4rCtsFgEBxd6bbchCAQI6W1vXAHoBA9LplxnUxgEAhHEWBvUmAQAOwwVyJaYBA5ndsxy+TgECBMs04xseAQGyDZZ4yCYFAlN6uFEJagUAhpScbQL2BQJ7VuGglMYJANDRfmna1gkClXMpeI0mDQOLkRC526INAY+y3n6qMhEBtKWAGIy+FQBGqFbw+x4VAwZ4hnjJLhkDGoRTqB7aGQCqgpcBpBIdAgOOwooI1h0AvouWEoU6HQGnwWfd+WodAMdAq7DNgh0BdJ/2UY2SHQA12c2tdaYdAOigi7dpvh0AmvjcuXniHQPmZ0NW4g4dAXQHPgwWTh0C+FYx5CqeHQGPSVJkewYdAwTac04zjh0DIhsN3TRGIQCJefa8zTIhAk//UwmiXiEAyn4PyGPiIQOcQF5xAdIlAoi17MTcOikA=\"},\"shape\":[61],\"dtype\":\"float64\",\"order\":\"little\"}],[\"y\",{\"type\":\"ndarray\",\"array\":{\"type\":\"bytes\",\"data\":\"je21oPfGsD55sw9Sbl+2PjiXhuOm1b0+ZmRJe3zkwz6Uz1+H8IbKPhkttIXur9E+n0qHEBiW1z55rcSB7XPfPvFo44i1+OQ+V6CT5kn36z6DHjROiKXyPoC9G5qb3fg+veGbVFaUAD9fOCEn6hsGP0YdqRSeew0/bOwacXSoEz8tQxzr4jYaPzZEHDCOeiE/IybBYepOJz/grKKAAhUvPyzawulruTQ/d4bpsOSiOz9MsunMQm1CP4enYY2Rkkg//Knx0k1iUD9EVSO8MdlVP6xvMfqkIl0/DKxlkCFtYz+3kDPkxudpPwv0ke7ORXE/3x4kgJMIdz9oEbrwNbd+P3sUrkfheoQ/lSosK35Piz/M5V4cpzWSPw8Xf/RpSJg/cjqgTtwwoD8NcTaqQpelP5cmLWC4yqw/4Up0toEysz+amZmZmZm5P52a+9quEcE/P5924xDDxj/S3J5xhFrOPw9JSGITPdQ/UA3EVBP92j8eOBw8s/7hP5pdESQi/+c/AAAAAAAA8D9EgbqRGlb1Pw5HVBzVc/w/A0oDx5L4AkBTW9o6WEwJQFKI+hQs3hBAJkYjC2B+FkAAtRWt6v4dQAAAAAAAACRAlSEpNqGrKkBprLQxZcgxQIQcxHi3tjdAJ/KQSW6fP0A=\"},\"shape\":[61],\"dtype\":\"float64\",\"order\":\"little\"}]]}}},\"view\":{\"type\":\"object\",\"name\":\"CDSView\",\"id\":\"p1372\",\"attributes\":{\"filter\":{\"type\":\"object\",\"name\":\"AllIndices\",\"id\":\"p1373\"}}},\"glyph\":{\"type\":\"object\",\"name\":\"Line\",\"id\":\"p1368\",\"attributes\":{\"x\":{\"type\":\"field\",\"field\":\"x\"},\"y\":{\"type\":\"field\",\"field\":\"y\"},\"line_color\":\"#711F81\"}},\"nonselection_glyph\":{\"type\":\"object\",\"name\":\"Line\",\"id\":\"p1369\",\"attributes\":{\"x\":{\"type\":\"field\",\"field\":\"x\"},\"y\":{\"type\":\"field\",\"field\":\"y\"},\"line_color\":\"#711F81\",\"line_alpha\":0.1}},\"muted_glyph\":{\"type\":\"object\",\"name\":\"Line\",\"id\":\"p1370\",\"attributes\":{\"x\":{\"type\":\"field\",\"field\":\"x\"},\"y\":{\"type\":\"field\",\"field\":\"y\"},\"line_color\":\"#711F81\",\"line_alpha\":0.2}}}},{\"type\":\"object\",\"name\":\"GlyphRenderer\",\"id\":\"p1380\",\"attributes\":{\"data_source\":{\"type\":\"object\",\"name\":\"ColumnDataSource\",\"id\":\"p1374\",\"attributes\":{\"selected\":{\"type\":\"object\",\"name\":\"Selection\",\"id\":\"p1376\",\"attributes\":{\"indices\":[],\"line_indices\":[]}},\"selection_policy\":{\"type\":\"object\",\"name\":\"UnionRenderers\",\"id\":\"p1375\"},\"data\":{\"type\":\"map\",\"entries\":[[\"x\",{\"type\":\"ndarray\",\"array\":{\"type\":\"bytes\",\"data\":\"LdxjHWsHgUCjuZliYweBQF06wZxZB4FACBhOL00HgUA69mHJPQeBQPoeBM8qB4FAGw55OhMHgUD31TTd9QaBQIYwjUbSBoFA19QigqcGgUCowQEKdAaBQJ6cW3w2BoFAdTLaMe8FgUCMPfQqngWBQEAgkeFDBYFA/EbXMeMEgUDI5PFpggSBQA/K55AqBIFAK1TJwewDgUCiQeGx5gOBQPtmSt05BIFAEV8j7BkFgUBQ36Gx4gaBQJS1WUwdCoFAcBcrrEEPgUCmpmJ6CBeBQENI5kuhIoFAaBZZjYkzgUBEjnvPkUqBQKmXEZrnaIFA79y73AyQgUCsRzcwyMCBQHqYZhGH+YFAKkBZvm84gkBzy3LtUHqCQFAnsD7+uYJAXuZRUJDygkAi83bkHCCDQNGnPDa5P4NAFjqeZtBRg0DTOYvcGluDQETYalqGX4NAVc33lzRig0ChFZoSBmWDQL1fsCqkaINA4IbsgWJtg0ADs7TEuHODQK8lKsxHfINAcc3MsIKHg0AO3IDOMJaDQFdB/HaqqYNABu5A8bbDg0ANq7iWgOWDQEqgI5QKEYRAT7PjQ7BJhEDAxCyth5OEQJtMWBST8IRAK3vTdHRkhUAMcAFU5vSFQHF6mz+6p4ZAsK+NXJt9h0A=\"},\"shape\":[61],\"dtype\":\"float64\",\"order\":\"little\"}],[\"y\",{\"type\":\"ndarray\",\"array\":{\"type\":\"bytes\",\"data\":\"je21oPfGsD55sw9Sbl+2PjiXhuOm1b0+ZmRJe3zkwz6Uz1+H8IbKPhkttIXur9E+n0qHEBiW1z55rcSB7XPfPvFo44i1+OQ+V6CT5kn36z6DHjROiKXyPoC9G5qb3fg+veGbVFaUAD9fOCEn6hsGP0YdqRSeew0/bOwacXSoEz8tQxzr4jYaPzZEHDCOeiE/IybBYepOJz/grKKAAhUvPyzawulruTQ/d4bpsOSiOz9MsunMQm1CP4enYY2Rkkg//Knx0k1iUD9EVSO8MdlVP6xvMfqkIl0/DKxlkCFtYz+3kDPkxudpPwv0ke7ORXE/3x4kgJMIdz9oEbrwNbd+P3sUrkfheoQ/lSosK35Piz/M5V4cpzWSPw8Xf/RpSJg/cjqgTtwwoD8NcTaqQpelP5cmLWC4yqw/4Up0toEysz+amZmZmZm5P52a+9quEcE/P5924xDDxj/S3J5xhFrOPw9JSGITPdQ/UA3EVBP92j8eOBw8s/7hP5pdESQi/+c/AAAAAAAA8D9EgbqRGlb1Pw5HVBzVc/w/A0oDx5L4AkBTW9o6WEwJQFKI+hQs3hBAJkYjC2B+FkAAtRWt6v4dQAAAAAAAACRAlSEpNqGrKkBprLQxZcgxQIQcxHi3tjdAJ/KQSW6fP0A=\"},\"shape\":[61],\"dtype\":\"float64\",\"order\":\"little\"}]]}}},\"view\":{\"type\":\"object\",\"name\":\"CDSView\",\"id\":\"p1381\",\"attributes\":{\"filter\":{\"type\":\"object\",\"name\":\"AllIndices\",\"id\":\"p1382\"}}},\"glyph\":{\"type\":\"object\",\"name\":\"Line\",\"id\":\"p1377\",\"attributes\":{\"x\":{\"type\":\"field\",\"field\":\"x\"},\"y\":{\"type\":\"field\",\"field\":\"y\"},\"line_color\":\"#9E2E7E\"}},\"nonselection_glyph\":{\"type\":\"object\",\"name\":\"Line\",\"id\":\"p1378\",\"attributes\":{\"x\":{\"type\":\"field\",\"field\":\"x\"},\"y\":{\"type\":\"field\",\"field\":\"y\"},\"line_color\":\"#9E2E7E\",\"line_alpha\":0.1}},\"muted_glyph\":{\"type\":\"object\",\"name\":\"Line\",\"id\":\"p1379\",\"attributes\":{\"x\":{\"type\":\"field\",\"field\":\"x\"},\"y\":{\"type\":\"field\",\"field\":\"y\"},\"line_color\":\"#9E2E7E\",\"line_alpha\":0.2}}}},{\"type\":\"object\",\"name\":\"GlyphRenderer\",\"id\":\"p1389\",\"attributes\":{\"data_source\":{\"type\":\"object\",\"name\":\"ColumnDataSource\",\"id\":\"p1383\",\"attributes\":{\"selected\":{\"type\":\"object\",\"name\":\"Selection\",\"id\":\"p1385\",\"attributes\":{\"indices\":[],\"line_indices\":[]}},\"selection_policy\":{\"type\":\"object\",\"name\":\"UnionRenderers\",\"id\":\"p1384\"},\"data\":{\"type\":\"map\",\"entries\":[[\"x\",{\"type\":\"ndarray\",\"array\":{\"type\":\"bytes\",\"data\":\"VKJvkFRZg0DgK58EF1mDQIXkBpzHWINA/ExpO2BYg0A4B4cQ3VeDQKA0pSQ3V4NA+RLsdWJWg0AvXMSdT1WDQJT/Q2n1U4NA92tD2EJSg0BJe0LDGlCDQC4mvo5YTYNAu3mw+edJg0CcH6OkokWDQKG3jVBHQINAsAjK9oY5g0AN/uPwOzGDQFyZ+PYaJ4NAAb9zE6Yag0ADGbLfTwuDQPEuUzDt+IJA6v/yuxTjgkAYT771HcmCQOVJpD55qoJA6SiCL2SHgkCySWVr6l+CQC7rLFk0NIJAB7kLqicFgkCCHXeoqNSBQBKBhha7pIFAgmfv3SZ4gUCRn++mHVKBQILErusdNIFAINwliu8egUCMoItAaxKBQKQzvbWtDIFAsz01GqcKgUDW2s+5iwqBQO7Os99SC4FA273c+5QMgUAY4KwUQw6BQEaf/UZ5EIFA3bs09m4TgUAXg8+YcBeBQI4+pwG2HIFAhh7AEaAjgUD/RGij1yyBQH91U55AOYFAFVB6xnlJgUAL3gyVlV6BQDL183xoeoFAiwcaJk2fgUB1MN2irc6BQCsWcYj+CoJAV1kGnT5YgkC4jl6N+rqCQAeWVVzUNINAcZ4a3yfJg0Bt7svyOn2EQH88CrbbVYVA+sjJgUJShkA=\"},\"shape\":[61],\"dtype\":\"float64\",\"order\":\"little\"}],[\"y\",{\"type\":\"ndarray\",\"array\":{\"type\":\"bytes\",\"data\":\"je21oPfGsD55sw9Sbl+2PjiXhuOm1b0+ZmRJe3zkwz6Uz1+H8IbKPhkttIXur9E+n0qHEBiW1z55rcSB7XPfPvFo44i1+OQ+V6CT5kn36z6DHjROiKXyPoC9G5qb3fg+veGbVFaUAD9fOCEn6hsGP0YdqRSeew0/bOwacXSoEz8tQxzr4jYaPzZEHDCOeiE/IybBYepOJz/grKKAAhUvPyzawulruTQ/d4bpsOSiOz9MsunMQm1CP4enYY2Rkkg//Knx0k1iUD9EVSO8MdlVP6xvMfqkIl0/DKxlkCFtYz+3kDPkxudpPwv0ke7ORXE/3x4kgJMIdz9oEbrwNbd+P3sUrkfheoQ/lSosK35Piz/M5V4cpzWSPw8Xf/RpSJg/cjqgTtwwoD8NcTaqQpelP5cmLWC4yqw/4Up0toEysz+amZmZmZm5P52a+9quEcE/P5924xDDxj/S3J5xhFrOPw9JSGITPdQ/UA3EVBP92j8eOBw8s/7hP5pdESQi/+c/AAAAAAAA8D9EgbqRGlb1Pw5HVBzVc/w/A0oDx5L4AkBTW9o6WEwJQFKI+hQs3hBAJkYjC2B+FkAAtRWt6v4dQAAAAAAAACRAlSEpNqGrKkBprLQxZcgxQIQcxHi3tjdAJ/KQSW6fP0A=\"},\"shape\":[61],\"dtype\":\"float64\",\"order\":\"little\"}]]}}},\"view\":{\"type\":\"object\",\"name\":\"CDSView\",\"id\":\"p1390\",\"attributes\":{\"filter\":{\"type\":\"object\",\"name\":\"AllIndices\",\"id\":\"p1391\"}}},\"glyph\":{\"type\":\"object\",\"name\":\"Line\",\"id\":\"p1386\",\"attributes\":{\"x\":{\"type\":\"field\",\"field\":\"x\"},\"y\":{\"type\":\"field\",\"field\":\"y\"},\"line_color\":\"#CB3E71\"}},\"nonselection_glyph\":{\"type\":\"object\",\"name\":\"Line\",\"id\":\"p1387\",\"attributes\":{\"x\":{\"type\":\"field\",\"field\":\"x\"},\"y\":{\"type\":\"field\",\"field\":\"y\"},\"line_color\":\"#CB3E71\",\"line_alpha\":0.1}},\"muted_glyph\":{\"type\":\"object\",\"name\":\"Line\",\"id\":\"p1388\",\"attributes\":{\"x\":{\"type\":\"field\",\"field\":\"x\"},\"y\":{\"type\":\"field\",\"field\":\"y\"},\"line_color\":\"#CB3E71\",\"line_alpha\":0.2}}}},{\"type\":\"object\",\"name\":\"GlyphRenderer\",\"id\":\"p1398\",\"attributes\":{\"data_source\":{\"type\":\"object\",\"name\":\"ColumnDataSource\",\"id\":\"p1392\",\"attributes\":{\"selected\":{\"type\":\"object\",\"name\":\"Selection\",\"id\":\"p1394\",\"attributes\":{\"indices\":[],\"line_indices\":[]}},\"selection_policy\":{\"type\":\"object\",\"name\":\"UnionRenderers\",\"id\":\"p1393\"},\"data\":{\"type\":\"map\",\"entries\":[[\"x\",{\"type\":\"ndarray\",\"array\":{\"type\":\"bytes\",\"data\":\"W+oqulZSh0CKdl32WVGHQEg9Ta8UUIdA7CQjb25Oh0AEa8MiWEyHQMDnhiu2SYdAeAcD9lhGh0C29KLPA0KHQCBsHyCTPIdABpPImcQ1h0A3xZWNJi2HQFdem+kqIodAl5/yfYQUh0AkWLZ3nwOHQLOl+QOA7oZAjO6PevXThkBeQ8atb7OGQPSgkFnLi4ZAMY7k6B5bhkAhAddTQR+GQGfr2eqD14VAxwre60SChUCc6RIY7hyFQN373jFgpYRAkEhhgtEchEAOENq7HISDQCyiFuaX3YJAgi0MvUYwgkBTTh5jmYeBQNuz9oVK8IBApzuA2lB5gEA2N3nD9iuAQKDTdLoYAYBAgmpjLgLdf0D8kItmWtJ/QCYPGkxD0X9APB2Y9UPSf0C2nFe+9tN/QEt8H7VF1n9AE8vdI2fZf0ADSH16h91/QMoEc1H04n9AJiGdwDXqf0CJhGENBvR/QOQyxSB2AIBAnL6+RekIgEBpLlXfJxSAQOtQXndCI4BA/n883vI2gEDO7LgFelCAQKMUbfz2cYBAUrEBTBaegEB5lGmmV9aAQD45g8ZbHYFAK5ASlll3gUCKnRKd5+iBQHLT+LU+c4JAP1l9610Zg0AzpJb3D+CDQEGbpK50y4RAJd5g+x/ahUA=\"},\"shape\":[61],\"dtype\":\"float64\",\"order\":\"little\"}],[\"y\",{\"type\":\"ndarray\",\"array\":{\"type\":\"bytes\",\"data\":\"je21oPfGsD55sw9Sbl+2PjiXhuOm1b0+ZmRJe3zkwz6Uz1+H8IbKPhkttIXur9E+n0qHEBiW1z55rcSB7XPfPvFo44i1+OQ+V6CT5kn36z6DHjROiKXyPoC9G5qb3fg+veGbVFaUAD9fOCEn6hsGP0YdqRSeew0/bOwacXSoEz8tQxzr4jYaPzZEHDCOeiE/IybBYepOJz/grKKAAhUvPyzawulruTQ/d4bpsOSiOz9MsunMQm1CP4enYY2Rkkg//Knx0k1iUD9EVSO8MdlVP6xvMfqkIl0/DKxlkCFtYz+3kDPkxudpPwv0ke7ORXE/3x4kgJMIdz9oEbrwNbd+P3sUrkfheoQ/lSosK35Piz/M5V4cpzWSPw8Xf/RpSJg/cjqgTtwwoD8NcTaqQpelP5cmLWC4yqw/4Up0toEysz+amZmZmZm5P52a+9quEcE/P5924xDDxj/S3J5xhFrOPw9JSGITPdQ/UA3EVBP92j8eOBw8s/7hP5pdESQi/+c/AAAAAAAA8D9EgbqRGlb1Pw5HVBzVc/w/A0oDx5L4AkBTW9o6WEwJQFKI+hQs3hBAJkYjC2B+FkAAtRWt6v4dQAAAAAAAACRAlSEpNqGrKkBprLQxZcgxQIQcxHi3tjdAJ/KQSW6fP0A=\"},\"shape\":[61],\"dtype\":\"float64\",\"order\":\"little\"}]]}}},\"view\":{\"type\":\"object\",\"name\":\"CDSView\",\"id\":\"p1399\",\"attributes\":{\"filter\":{\"type\":\"object\",\"name\":\"AllIndices\",\"id\":\"p1400\"}}},\"glyph\":{\"type\":\"object\",\"name\":\"Line\",\"id\":\"p1395\",\"attributes\":{\"x\":{\"type\":\"field\",\"field\":\"x\"},\"y\":{\"type\":\"field\",\"field\":\"y\"},\"line_color\":\"#F0605D\"}},\"nonselection_glyph\":{\"type\":\"object\",\"name\":\"Line\",\"id\":\"p1396\",\"attributes\":{\"x\":{\"type\":\"field\",\"field\":\"x\"},\"y\":{\"type\":\"field\",\"field\":\"y\"},\"line_color\":\"#F0605D\",\"line_alpha\":0.1}},\"muted_glyph\":{\"type\":\"object\",\"name\":\"Line\",\"id\":\"p1397\",\"attributes\":{\"x\":{\"type\":\"field\",\"field\":\"x\"},\"y\":{\"type\":\"field\",\"field\":\"y\"},\"line_color\":\"#F0605D\",\"line_alpha\":0.2}}}},{\"type\":\"object\",\"name\":\"GlyphRenderer\",\"id\":\"p1407\",\"attributes\":{\"data_source\":{\"type\":\"object\",\"name\":\"ColumnDataSource\",\"id\":\"p1401\",\"attributes\":{\"selected\":{\"type\":\"object\",\"name\":\"Selection\",\"id\":\"p1403\",\"attributes\":{\"indices\":[],\"line_indices\":[]}},\"selection_policy\":{\"type\":\"object\",\"name\":\"UnionRenderers\",\"id\":\"p1402\"},\"data\":{\"type\":\"map\",\"entries\":[[\"x\",{\"type\":\"ndarray\",\"array\":{\"type\":\"bytes\",\"data\":\"vJPUrC4yjUARseUIzi6NQBbSYHZ7Ko1AdnrbvuckjUAw+CHK4x2NQFIwzTUYFY1AmFin4e4JjUCvL0TWqvuMQD1DZYvi6YxAc1vUiM3TjEDMgjrfFLiMQEtvMyMTlYxAzaGKk/JpjECJc1fsDDWMQIcfroiU84tAuKErATqii0D1evU8mz+LQC1aFkvDyIpAZnbIW8g4ikB+ubv8foqJQPEAyCY0vYhAJQEe9E7Oh0C741Llg7qGQIvokEIEg4VAcD8Pp7wzhEA9mPHjF92CQGAOkBL6nIFAluUHLmGdgEDbrMa2WuR/QFxoExdsMH9AbJAY18XufkBgJJwt+t9+QNCsTzep3X5AB8dPW/XdfkAx11revt5+QGP68vbU335A1k+K2kPhfkA0X4m/JuN+QMgmg4+t5X5A0LzgTBrpfkC14IO0ne1+QEoPc3iM835AIKLiDXv7fkCOb3BjNAZ/QIyiNw5LFH9AWRQUKr0mf0Ch4xJnQz9/QNH75u4pYH9At1cdLv2Kf0BAZCKuacJ/QJlY9Vd4BYBA5qgVYxg1gEDlsJ5OmXGAQAnXf++ovYBAP4wUhIwdgUCeIEOU0JWBQPdscZ51J4JASqgV20jVgkAY/dBj16ODQF2TNTL1loRA0/bd0/ushUA=\"},\"shape\":[61],\"dtype\":\"float64\",\"order\":\"little\"}],[\"y\",{\"type\":\"ndarray\",\"array\":{\"type\":\"bytes\",\"data\":\"je21oPfGsD55sw9Sbl+2PjiXhuOm1b0+ZmRJe3zkwz6Uz1+H8IbKPhkttIXur9E+n0qHEBiW1z55rcSB7XPfPvFo44i1+OQ+V6CT5kn36z6DHjROiKXyPoC9G5qb3fg+veGbVFaUAD9fOCEn6hsGP0YdqRSeew0/bOwacXSoEz8tQxzr4jYaPzZEHDCOeiE/IybBYepOJz/grKKAAhUvPyzawulruTQ/d4bpsOSiOz9MsunMQm1CP4enYY2Rkkg//Knx0k1iUD9EVSO8MdlVP6xvMfqkIl0/DKxlkCFtYz+3kDPkxudpPwv0ke7ORXE/3x4kgJMIdz9oEbrwNbd+P3sUrkfheoQ/lSosK35Piz/M5V4cpzWSPw8Xf/RpSJg/cjqgTtwwoD8NcTaqQpelP5cmLWC4yqw/4Up0toEysz+amZmZmZm5P52a+9quEcE/P5924xDDxj/S3J5xhFrOPw9JSGITPdQ/UA3EVBP92j8eOBw8s/7hP5pdESQi/+c/AAAAAAAA8D9EgbqRGlb1Pw5HVBzVc/w/A0oDx5L4AkBTW9o6WEwJQFKI+hQs3hBAJkYjC2B+FkAAtRWt6v4dQAAAAAAAACRAlSEpNqGrKkBprLQxZcgxQIQcxHi3tjdAJ/KQSW6fP0A=\"},\"shape\":[61],\"dtype\":\"float64\",\"order\":\"little\"}]]}}},\"view\":{\"type\":\"object\",\"name\":\"CDSView\",\"id\":\"p1408\",\"attributes\":{\"filter\":{\"type\":\"object\",\"name\":\"AllIndices\",\"id\":\"p1409\"}}},\"glyph\":{\"type\":\"object\",\"name\":\"Line\",\"id\":\"p1404\",\"attributes\":{\"x\":{\"type\":\"field\",\"field\":\"x\"},\"y\":{\"type\":\"field\",\"field\":\"y\"},\"line_color\":\"#FC9366\"}},\"nonselection_glyph\":{\"type\":\"object\",\"name\":\"Line\",\"id\":\"p1405\",\"attributes\":{\"x\":{\"type\":\"field\",\"field\":\"x\"},\"y\":{\"type\":\"field\",\"field\":\"y\"},\"line_color\":\"#FC9366\",\"line_alpha\":0.1}},\"muted_glyph\":{\"type\":\"object\",\"name\":\"Line\",\"id\":\"p1406\",\"attributes\":{\"x\":{\"type\":\"field\",\"field\":\"x\"},\"y\":{\"type\":\"field\",\"field\":\"y\"},\"line_color\":\"#FC9366\",\"line_alpha\":0.2}}}},{\"type\":\"object\",\"name\":\"GlyphRenderer\",\"id\":\"p1416\",\"attributes\":{\"data_source\":{\"type\":\"object\",\"name\":\"ColumnDataSource\",\"id\":\"p1410\",\"attributes\":{\"selected\":{\"type\":\"object\",\"name\":\"Selection\",\"id\":\"p1412\",\"attributes\":{\"indices\":[],\"line_indices\":[]}},\"selection_policy\":{\"type\":\"object\",\"name\":\"UnionRenderers\",\"id\":\"p1411\"},\"data\":{\"type\":\"map\",\"entries\":[[\"x\",{\"type\":\"ndarray\",\"array\":{\"type\":\"bytes\",\"data\":\"rV8mikyWkkAnFev7/JCSQHDKuGI9ipJAWb+Q75mBkkBgXGsm0XaSQGytyyNnaZJAseTqqIdYkkA1fqpHLEOSQE6cHmbMKJJAnYplfFwIkkApI54vFOCRQNECHWnQrZFAxQVu0plwkUDaF7bIbSaRQP/E9l/oy5BAFwnDLT1dkECbGSacn7KPQAx6D6Sxeo5A40hpqAAKjUCadO3NM1qLQL+SdMC+cYlAKqrgfkNYh0CObwHh1yGFQO+tFE/VAINAqRf4yyk5gUAbXjkhDQaAQHlfUoeS6n5AqJFNCHuVfkAJWuGsfIJ+QE+yc3wKgH5AS//2VSOAfkBqWpDyfYB+QKHf70j2gH5Aew0Vv5SBfkBBDYMeaYJ+QFmn7zeJg35A8j3rQgWFfkCtQj50+YZ+QJoYq2iXiX5AMTn+diONfkDbpx0O0JF+QGye7ND0l35AOiCVUiugfkBJFuViRat+QIV8MFPauX5AkEXBavDMfkA79YwwTuZ+QABTDUlRCH9A2TLu6480f0CNOOB/x21/QGO3v5CTuH9AvYmFilYNgEAn8Pwvj0uAQDkVXW2lmYBAMGAkLeL7gEBKJT2gy3aBQI8Nx9pKC4JAgog3ghi8gkCCOWbsqI2DQGt4VCmzg4RAmqyNhHychUA=\"},\"shape\":[61],\"dtype\":\"float64\",\"order\":\"little\"}],[\"y\",{\"type\":\"ndarray\",\"array\":{\"type\":\"bytes\",\"data\":\"je21oPfGsD55sw9Sbl+2PjiXhuOm1b0+ZmRJe3zkwz6Uz1+H8IbKPhkttIXur9E+n0qHEBiW1z55rcSB7XPfPvFo44i1+OQ+V6CT5kn36z6DHjROiKXyPoC9G5qb3fg+veGbVFaUAD9fOCEn6hsGP0YdqRSeew0/bOwacXSoEz8tQxzr4jYaPzZEHDCOeiE/IybBYepOJz/grKKAAhUvPyzawulruTQ/d4bpsOSiOz9MsunMQm1CP4enYY2Rkkg//Knx0k1iUD9EVSO8MdlVP6xvMfqkIl0/DKxlkCFtYz+3kDPkxudpPwv0ke7ORXE/3x4kgJMIdz9oEbrwNbd+P3sUrkfheoQ/lSosK35Piz/M5V4cpzWSPw8Xf/RpSJg/cjqgTtwwoD8NcTaqQpelP5cmLWC4yqw/4Up0toEysz+amZmZmZm5P52a+9quEcE/P5924xDDxj/S3J5xhFrOPw9JSGITPdQ/UA3EVBP92j8eOBw8s/7hP5pdESQi/+c/AAAAAAAA8D9EgbqRGlb1Pw5HVBzVc/w/A0oDx5L4AkBTW9o6WEwJQFKI+hQs3hBAJkYjC2B+FkAAtRWt6v4dQAAAAAAAACRAlSEpNqGrKkBprLQxZcgxQIQcxHi3tjdAJ/KQSW6fP0A=\"},\"shape\":[61],\"dtype\":\"float64\",\"order\":\"little\"}]]}}},\"view\":{\"type\":\"object\",\"name\":\"CDSView\",\"id\":\"p1417\",\"attributes\":{\"filter\":{\"type\":\"object\",\"name\":\"AllIndices\",\"id\":\"p1418\"}}},\"glyph\":{\"type\":\"object\",\"name\":\"Line\",\"id\":\"p1413\",\"attributes\":{\"x\":{\"type\":\"field\",\"field\":\"x\"},\"y\":{\"type\":\"field\",\"field\":\"y\"},\"line_color\":\"#FEC78B\"}},\"nonselection_glyph\":{\"type\":\"object\",\"name\":\"Line\",\"id\":\"p1414\",\"attributes\":{\"x\":{\"type\":\"field\",\"field\":\"x\"},\"y\":{\"type\":\"field\",\"field\":\"y\"},\"line_color\":\"#FEC78B\",\"line_alpha\":0.1}},\"muted_glyph\":{\"type\":\"object\",\"name\":\"Line\",\"id\":\"p1415\",\"attributes\":{\"x\":{\"type\":\"field\",\"field\":\"x\"},\"y\":{\"type\":\"field\",\"field\":\"y\"},\"line_color\":\"#FEC78B\",\"line_alpha\":0.2}}}},{\"type\":\"object\",\"name\":\"GlyphRenderer\",\"id\":\"p1425\",\"attributes\":{\"data_source\":{\"type\":\"object\",\"name\":\"ColumnDataSource\",\"id\":\"p1419\",\"attributes\":{\"selected\":{\"type\":\"object\",\"name\":\"Selection\",\"id\":\"p1421\",\"attributes\":{\"indices\":[],\"line_indices\":[]}},\"selection_policy\":{\"type\":\"object\",\"name\":\"UnionRenderers\",\"id\":\"p1420\"},\"data\":{\"type\":\"map\",\"entries\":[[\"x\",{\"type\":\"ndarray\",\"array\":{\"type\":\"bytes\",\"data\":\"9wL/g7zDl0A+QZTs2rOXQPl1f7HZn5dA6Km+93yGl0D/tw7mHWeXQF2KJYl3QJdAeu6Lxl4Ql0DE3oFpNdSWQBJd+MTBipZArUAoZ38xlkCAAjCpKcSVQJoPC3bbPZVAkYeOu9+clEDcdLrMOt2TQFJwJ+Rr+JJAxdEE5FvokUBHIRbRKq6QQK3ksiPQko5ANGy6b8d3i0DJry77RCeIQISzKhsE5IRAOgROdL4RgkAxBTg1vzaAQGXCO2eU435A6oODGMByfkA423FsAV9+QCM5KnJrXX5Ap5OmYH5dfkDYVyW3pF1+QOzRdYPXXX5AhJgbnBtefkB8kT0DeF5+QLRoBfLxXn5A6F7hfpJffkB72qaqaWB+QP74UI+NYX5AVfalmg5jfkAnJ6lfCWV+QBNddiCwZ35AcjBqFkhrfkAdZSlVBHB+QFgtVp09dn5AoVMXc49+fkDpxMpBzol+QDXH/CSTmH5A9YVceuerfkB7SB4Cl8V+QMCIjPQF6H5Ai2kiLs4Uf0BFkeBcs05/QATMi8xamn9AwaQqHIf9f0BDwvB2oT2AQHO62RR6jIBAlRbxZZfvgECR80bofGuBQNZpcdIKAYJANEPeBfKygkAtCrWXnYWDQFxEfAC6fIRAtb6oZoWWhUA=\"},\"shape\":[61],\"dtype\":\"float64\",\"order\":\"little\"}],[\"y\",{\"type\":\"ndarray\",\"array\":{\"type\":\"bytes\",\"data\":\"je21oPfGsD55sw9Sbl+2PjiXhuOm1b0+ZmRJe3zkwz6Uz1+H8IbKPhkttIXur9E+n0qHEBiW1z55rcSB7XPfPvFo44i1+OQ+V6CT5kn36z6DHjROiKXyPoC9G5qb3fg+veGbVFaUAD9fOCEn6hsGP0YdqRSeew0/bOwacXSoEz8tQxzr4jYaPzZEHDCOeiE/IybBYepOJz/grKKAAhUvPyzawulruTQ/d4bpsOSiOz9MsunMQm1CP4enYY2Rkkg//Knx0k1iUD9EVSO8MdlVP6xvMfqkIl0/DKxlkCFtYz+3kDPkxudpPwv0ke7ORXE/3x4kgJMIdz9oEbrwNbd+P3sUrkfheoQ/lSosK35Piz/M5V4cpzWSPw8Xf/RpSJg/cjqgTtwwoD8NcTaqQpelP5cmLWC4yqw/4Up0toEysz+amZmZmZm5P52a+9quEcE/P5924xDDxj/S3J5xhFrOPw9JSGITPdQ/UA3EVBP92j8eOBw8s/7hP5pdESQi/+c/AAAAAAAA8D9EgbqRGlb1Pw5HVBzVc/w/A0oDx5L4AkBTW9o6WEwJQFKI+hQs3hBAJkYjC2B+FkAAtRWt6v4dQAAAAAAAACRAlSEpNqGrKkBprLQxZcgxQIQcxHi3tjdAJ/KQSW6fP0A=\"},\"shape\":[61],\"dtype\":\"float64\",\"order\":\"little\"}]]}}},\"view\":{\"type\":\"object\",\"name\":\"CDSView\",\"id\":\"p1426\",\"attributes\":{\"filter\":{\"type\":\"object\",\"name\":\"AllIndices\",\"id\":\"p1427\"}}},\"glyph\":{\"type\":\"object\",\"name\":\"Line\",\"id\":\"p1422\",\"attributes\":{\"x\":{\"type\":\"field\",\"field\":\"x\"},\"y\":{\"type\":\"field\",\"field\":\"y\"},\"line_color\":\"#FBFCBF\"}},\"nonselection_glyph\":{\"type\":\"object\",\"name\":\"Line\",\"id\":\"p1423\",\"attributes\":{\"x\":{\"type\":\"field\",\"field\":\"x\"},\"y\":{\"type\":\"field\",\"field\":\"y\"},\"line_color\":\"#FBFCBF\",\"line_alpha\":0.1}},\"muted_glyph\":{\"type\":\"object\",\"name\":\"Line\",\"id\":\"p1424\",\"attributes\":{\"x\":{\"type\":\"field\",\"field\":\"x\"},\"y\":{\"type\":\"field\",\"field\":\"y\"},\"line_color\":\"#FBFCBF\",\"line_alpha\":0.2}}}}],\"toolbar\":{\"type\":\"object\",\"name\":\"Toolbar\",\"id\":\"p1300\",\"attributes\":{\"tools\":[{\"type\":\"object\",\"name\":\"PanTool\",\"id\":\"p1323\"},{\"type\":\"object\",\"name\":\"WheelZoomTool\",\"id\":\"p1324\"},{\"type\":\"object\",\"name\":\"BoxZoomTool\",\"id\":\"p1325\",\"attributes\":{\"overlay\":{\"type\":\"object\",\"name\":\"BoxAnnotation\",\"id\":\"p1326\",\"attributes\":{\"syncable\":false,\"level\":\"overlay\",\"visible\":false,\"left_units\":\"canvas\",\"right_units\":\"canvas\",\"bottom_units\":\"canvas\",\"top_units\":\"canvas\",\"line_color\":\"black\",\"line_alpha\":1.0,\"line_width\":2,\"line_dash\":[4,4],\"fill_color\":\"lightgrey\",\"fill_alpha\":0.5}}}},{\"type\":\"object\",\"name\":\"SaveTool\",\"id\":\"p1327\"},{\"type\":\"object\",\"name\":\"ResetTool\",\"id\":\"p1328\"},{\"type\":\"object\",\"name\":\"HelpTool\",\"id\":\"p1329\"}]}},\"left\":[{\"type\":\"object\",\"name\":\"LogAxis\",\"id\":\"p1316\",\"attributes\":{\"ticker\":{\"type\":\"object\",\"name\":\"LogTicker\",\"id\":\"p1317\",\"attributes\":{\"num_minor_ticks\":10,\"mantissas\":[1,5]}},\"formatter\":{\"type\":\"object\",\"name\":\"LogTickFormatter\",\"id\":\"p1319\"},\"axis_label\":\"Pressure(bars)\",\"major_label_policy\":{\"type\":\"object\",\"name\":\"AllLabels\",\"id\":\"p1318\"}}}],\"below\":[{\"type\":\"object\",\"name\":\"LinearAxis\",\"id\":\"p1309\",\"attributes\":{\"ticker\":{\"type\":\"object\",\"name\":\"BasicTicker\",\"id\":\"p1310\",\"attributes\":{\"mantissas\":[1,2,5]}},\"formatter\":{\"type\":\"object\",\"name\":\"BasicTickFormatter\",\"id\":\"p1312\"},\"axis_label\":\"Temperature (K)\",\"major_label_policy\":{\"type\":\"object\",\"name\":\"AllLabels\",\"id\":\"p1311\"}}}],\"center\":[{\"type\":\"object\",\"name\":\"Grid\",\"id\":\"p1315\",\"attributes\":{\"axis\":{\"id\":\"p1309\"}}},{\"type\":\"object\",\"name\":\"Grid\",\"id\":\"p1322\",\"attributes\":{\"dimension\":1,\"axis\":{\"id\":\"p1316\"}}}]}},{\"type\":\"object\",\"name\":\"Figure\",\"id\":\"p1428\",\"attributes\":{\"width\":300,\"height\":300,\"x_range\":{\"type\":\"object\",\"name\":\"Range1d\",\"id\":\"p1438\",\"attributes\":{\"start\":400,\"end\":1700}},\"y_range\":{\"type\":\"object\",\"name\":\"Range1d\",\"id\":\"p1440\",\"attributes\":{\"start\":100,\"end\":1e-06}},\"x_scale\":{\"type\":\"object\",\"name\":\"LinearScale\",\"id\":\"p1442\"},\"y_scale\":{\"type\":\"object\",\"name\":\"LogScale\",\"id\":\"p1444\"},\"title\":{\"type\":\"object\",\"name\":\"Title\",\"id\":\"p1431\",\"attributes\":{\"text\":\"Effect of LogKir\"}},\"renderers\":[{\"type\":\"object\",\"name\":\"GlyphRenderer\",\"id\":\"p1481\",\"attributes\":{\"data_source\":{\"type\":\"object\",\"name\":\"ColumnDataSource\",\"id\":\"p1475\",\"attributes\":{\"selected\":{\"type\":\"object\",\"name\":\"Selection\",\"id\":\"p1477\",\"attributes\":{\"indices\":[],\"line_indices\":[]}},\"selection_policy\":{\"type\":\"object\",\"name\":\"UnionRenderers\",\"id\":\"p1476\"},\"data\":{\"type\":\"map\",\"entries\":[[\"x\",{\"type\":\"ndarray\",\"array\":{\"type\":\"bytes\",\"data\":\"dOLAiBtdfkDm7zQiIV1+QO0Q6aMoXX5AYbHo0zJdfkD0nOlFQF1+QOjb8PpRXX5A/H/Vt2ldfkDSwLLuiV1+QEU/Y3K0XX5A9jQ2b+xdfkDWfCx8N15+QFcmNlOdXn5A8tbwtSNffkAAcByo1F9+QHotMszBYH5AvToqfANifkCFI0nQq2N+QOIpy0DaZX5A3eKMJMZofkDhOq2ru2x+QPDeBfvycX5AGIzNnM14fkCcZhNe9oF+QI4tfzNWjn5A0nn3U5SefkDDxi9x0rN+QFRYGHUF0H5A71NncMX1fkAuSaj+yCZ/QFTGDE0FZn9Aw36ScWy4f0A6VZ9qBhKAQOvOp0b5VYBAAfXcSMqqgECBHJkYyBSBQGy61ytXmIFAi/O/ZAE2gkD3/vMsG/CCQHvQxw2EyoNAqVASmxvIhEB9f+14W+aFQD61Z6l0JYdAusr01R2HiEAgHthtrguKQGqIM3ZNrotAzmK6xdhsjUDux8ZxmkWPQG8AbR4gmpBAGMNvhhmYkUBrO5U6ypiSQGbfTKSylpNAprMekBGKlECywl00DGyVQICyl6gRNZZA5qhTD7fblkCCfxZMw1iXQNl9k6lTr5dAdxwmXr/jl0BKBpakof2XQKvTLrtwCJhAUxinN1sOmEA=\"},\"shape\":[61],\"dtype\":\"float64\",\"order\":\"little\"}],[\"y\",{\"type\":\"ndarray\",\"array\":{\"type\":\"bytes\",\"data\":\"je21oPfGsD55sw9Sbl+2PjiXhuOm1b0+ZmRJe3zkwz6Uz1+H8IbKPhkttIXur9E+n0qHEBiW1z55rcSB7XPfPvFo44i1+OQ+V6CT5kn36z6DHjROiKXyPoC9G5qb3fg+veGbVFaUAD9fOCEn6hsGP0YdqRSeew0/bOwacXSoEz8tQxzr4jYaPzZEHDCOeiE/IybBYepOJz/grKKAAhUvPyzawulruTQ/d4bpsOSiOz9MsunMQm1CP4enYY2Rkkg//Knx0k1iUD9EVSO8MdlVP6xvMfqkIl0/DKxlkCFtYz+3kDPkxudpPwv0ke7ORXE/3x4kgJMIdz9oEbrwNbd+P3sUrkfheoQ/lSosK35Piz/M5V4cpzWSPw8Xf/RpSJg/cjqgTtwwoD8NcTaqQpelP5cmLWC4yqw/4Up0toEysz+amZmZmZm5P52a+9quEcE/P5924xDDxj/S3J5xhFrOPw9JSGITPdQ/UA3EVBP92j8eOBw8s/7hP5pdESQi/+c/AAAAAAAA8D9EgbqRGlb1Pw5HVBzVc/w/A0oDx5L4AkBTW9o6WEwJQFKI+hQs3hBAJkYjC2B+FkAAtRWt6v4dQAAAAAAAACRAlSEpNqGrKkBprLQxZcgxQIQcxHi3tjdAJ/KQSW6fP0A=\"},\"shape\":[61],\"dtype\":\"float64\",\"order\":\"little\"}]]}}},\"view\":{\"type\":\"object\",\"name\":\"CDSView\",\"id\":\"p1482\",\"attributes\":{\"filter\":{\"type\":\"object\",\"name\":\"AllIndices\",\"id\":\"p1483\"}}},\"glyph\":{\"type\":\"object\",\"name\":\"Line\",\"id\":\"p1478\",\"attributes\":{\"x\":{\"type\":\"field\",\"field\":\"x\"},\"y\":{\"type\":\"field\",\"field\":\"y\"},\"line_color\":\"#000003\"}},\"nonselection_glyph\":{\"type\":\"object\",\"name\":\"Line\",\"id\":\"p1479\",\"attributes\":{\"x\":{\"type\":\"field\",\"field\":\"x\"},\"y\":{\"type\":\"field\",\"field\":\"y\"},\"line_color\":\"#000003\",\"line_alpha\":0.1}},\"muted_glyph\":{\"type\":\"object\",\"name\":\"Line\",\"id\":\"p1480\",\"attributes\":{\"x\":{\"type\":\"field\",\"field\":\"x\"},\"y\":{\"type\":\"field\",\"field\":\"y\"},\"line_color\":\"#000003\",\"line_alpha\":0.2}}}},{\"type\":\"object\",\"name\":\"GlyphRenderer\",\"id\":\"p1490\",\"attributes\":{\"data_source\":{\"type\":\"object\",\"name\":\"ColumnDataSource\",\"id\":\"p1484\",\"attributes\":{\"selected\":{\"type\":\"object\",\"name\":\"Selection\",\"id\":\"p1486\",\"attributes\":{\"indices\":[],\"line_indices\":[]}},\"selection_policy\":{\"type\":\"object\",\"name\":\"UnionRenderers\",\"id\":\"p1485\"},\"data\":{\"type\":\"map\",\"entries\":[[\"x\",{\"type\":\"ndarray\",\"array\":{\"type\":\"bytes\",\"data\":\"2PjukjldfkCXD+yLSV1+QBtVKqNeXX5AKYz6bHpdfkBqkK1Dn11+QIBjxcTRXX5AYFfDcxRefkDRqgVObF5+QDdH+MHgXn5ArCVXYoBffkDQSH8bU2B+QM6fTKhoYX5AA4chcdhifkDdhrJS0GR+QEzf3RhpZ35A5zdVA9RqfkCElzIrWm9+QNNp9WCKdX5AyHMhgrB9fkB/UwZ4Y4h+QLX97XaBln5AZUW65ripfkCnsvbp4cJ+QMii+FSt435AN3pufIkOf0BxuCsBD0h/QD8/3mgpkn9AhU3yqtjwf0BxdQA6wjSAQC3wO5DvgoBABlW4Gu/jgEBkOBykp1qBQBFpmoua6oFAIiSj0d+ZgkDoYSb66maDQLl9vp5CU4RAoYOWyr5ghUBI028vrpOGQIOcD8VT54dA9qAt6RRbiUClhXotlu6KQL8npfgho4xAgMIA56hxjkDvq957NCuQQBtzDbhIJpFATU22bZMmkkBdRoy8UCaTQJ69dXfKH5RA1iYRrcELlUDXZpyUEt+VQCRaOv2DlJZADCaACi8ml0C/YXhBG5CXQJ+obc9D0JdAn39HmrXzl0Ccz8v6gASYQLm89aIbDJhAb9qfckARmEAaNTilMxeYQNlYoxLmHphABKz45gwpmEA=\"},\"shape\":[61],\"dtype\":\"float64\",\"order\":\"little\"}],[\"y\",{\"type\":\"ndarray\",\"array\":{\"type\":\"bytes\",\"data\":\"je21oPfGsD55sw9Sbl+2PjiXhuOm1b0+ZmRJe3zkwz6Uz1+H8IbKPhkttIXur9E+n0qHEBiW1z55rcSB7XPfPvFo44i1+OQ+V6CT5kn36z6DHjROiKXyPoC9G5qb3fg+veGbVFaUAD9fOCEn6hsGP0YdqRSeew0/bOwacXSoEz8tQxzr4jYaPzZEHDCOeiE/IybBYepOJz/grKKAAhUvPyzawulruTQ/d4bpsOSiOz9MsunMQm1CP4enYY2Rkkg//Knx0k1iUD9EVSO8MdlVP6xvMfqkIl0/DKxlkCFtYz+3kDPkxudpPwv0ke7ORXE/3x4kgJMIdz9oEbrwNbd+P3sUrkfheoQ/lSosK35Piz/M5V4cpzWSPw8Xf/RpSJg/cjqgTtwwoD8NcTaqQpelP5cmLWC4yqw/4Up0toEysz+amZmZmZm5P52a+9quEcE/P5924xDDxj/S3J5xhFrOPw9JSGITPdQ/UA3EVBP92j8eOBw8s/7hP5pdESQi/+c/AAAAAAAA8D9EgbqRGlb1Pw5HVBzVc/w/A0oDx5L4AkBTW9o6WEwJQFKI+hQs3hBAJkYjC2B+FkAAtRWt6v4dQAAAAAAAACRAlSEpNqGrKkBprLQxZcgxQIQcxHi3tjdAJ/KQSW6fP0A=\"},\"shape\":[61],\"dtype\":\"float64\",\"order\":\"little\"}]]}}},\"view\":{\"type\":\"object\",\"name\":\"CDSView\",\"id\":\"p1491\",\"attributes\":{\"filter\":{\"type\":\"object\",\"name\":\"AllIndices\",\"id\":\"p1492\"}}},\"glyph\":{\"type\":\"object\",\"name\":\"Line\",\"id\":\"p1487\",\"attributes\":{\"x\":{\"type\":\"field\",\"field\":\"x\"},\"y\":{\"type\":\"field\",\"field\":\"y\"},\"line_color\":\"#170F3C\"}},\"nonselection_glyph\":{\"type\":\"object\",\"name\":\"Line\",\"id\":\"p1488\",\"attributes\":{\"x\":{\"type\":\"field\",\"field\":\"x\"},\"y\":{\"type\":\"field\",\"field\":\"y\"},\"line_color\":\"#170F3C\",\"line_alpha\":0.1}},\"muted_glyph\":{\"type\":\"object\",\"name\":\"Line\",\"id\":\"p1489\",\"attributes\":{\"x\":{\"type\":\"field\",\"field\":\"x\"},\"y\":{\"type\":\"field\",\"field\":\"y\"},\"line_color\":\"#170F3C\",\"line_alpha\":0.2}}}},{\"type\":\"object\",\"name\":\"GlyphRenderer\",\"id\":\"p1499\",\"attributes\":{\"data_source\":{\"type\":\"object\",\"name\":\"ColumnDataSource\",\"id\":\"p1493\",\"attributes\":{\"selected\":{\"type\":\"object\",\"name\":\"Selection\",\"id\":\"p1495\",\"attributes\":{\"indices\":[],\"line_indices\":[]}},\"selection_policy\":{\"type\":\"object\",\"name\":\"UnionRenderers\",\"id\":\"p1494\"},\"data\":{\"type\":\"map\",\"entries\":[[\"x\",{\"type\":\"ndarray\",\"array\":{\"type\":\"bytes\",\"data\":\"IFOXI45dfkD7qhC+uV1+QFNp0hnzXX5Aoh+LDEJefkB/LGqfql5+QOH67nI0X35AlcKNuelffkC+qmor42B+QP/mIXstYn5ApgoTqOBjfkCjUlG8HGZ+QEZaG1EvaX5A6bzZ5z9tfkDKsPoumXJ+QKmUw2ueeX5AY/xDYz+DfkA0dC288o9+QNrYOQuZoH5AGifN01i2fkDSABLV89N+QDiFGvao+n5A7Lw239gsf0DNCQXggm1/QFDb2Em1w39AgGz0meQYgEBKpdEJR16AQDY2BffAtIBAe4jmmsEigUAf7+pkp6iBQCpWCRvbSIJArTXIA6oFg0BUJvld3eWDQL9yVeN35oRAdD6DpMIHhkC7reVH5kmHQCuPZnOCsYhAUh08GOo4ikAbyWFIO96LQJKx/3hGn41AHksrJip8j0D1XyL2IbaQQBhXCLqNtJFA8vbM7Ve1kkALP4jOHbKTQDD0BFAdpJRAqOkw1h6ElUBqhZZtkUqWQIdbKdub6pZAw4cZagVkl0DfRJrDIbeXQG051EGe6JdAJ8igggH/l0CtdqgPLwmYQDlv0xzrDphAhpeCW0QUmEB4FK7tMxuYQL+VN6ZVJJhA+/7bwk8wmECvCa3h9z+YQH2E6RpOVZhAseTbPD1xmEA=\"},\"shape\":[61],\"dtype\":\"float64\",\"order\":\"little\"}],[\"y\",{\"type\":\"ndarray\",\"array\":{\"type\":\"bytes\",\"data\":\"je21oPfGsD55sw9Sbl+2PjiXhuOm1b0+ZmRJe3zkwz6Uz1+H8IbKPhkttIXur9E+n0qHEBiW1z55rcSB7XPfPvFo44i1+OQ+V6CT5kn36z6DHjROiKXyPoC9G5qb3fg+veGbVFaUAD9fOCEn6hsGP0YdqRSeew0/bOwacXSoEz8tQxzr4jYaPzZEHDCOeiE/IybBYepOJz/grKKAAhUvPyzawulruTQ/d4bpsOSiOz9MsunMQm1CP4enYY2Rkkg//Knx0k1iUD9EVSO8MdlVP6xvMfqkIl0/DKxlkCFtYz+3kDPkxudpPwv0ke7ORXE/3x4kgJMIdz9oEbrwNbd+P3sUrkfheoQ/lSosK35Piz/M5V4cpzWSPw8Xf/RpSJg/cjqgTtwwoD8NcTaqQpelP5cmLWC4yqw/4Up0toEysz+amZmZmZm5P52a+9quEcE/P5924xDDxj/S3J5xhFrOPw9JSGITPdQ/UA3EVBP92j8eOBw8s/7hP5pdESQi/+c/AAAAAAAA8D9EgbqRGlb1Pw5HVBzVc/w/A0oDx5L4AkBTW9o6WEwJQFKI+hQs3hBAJkYjC2B+FkAAtRWt6v4dQAAAAAAAACRAlSEpNqGrKkBprLQxZcgxQIQcxHi3tjdAJ/KQSW6fP0A=\"},\"shape\":[61],\"dtype\":\"float64\",\"order\":\"little\"}]]}}},\"view\":{\"type\":\"object\",\"name\":\"CDSView\",\"id\":\"p1500\",\"attributes\":{\"filter\":{\"type\":\"object\",\"name\":\"AllIndices\",\"id\":\"p1501\"}}},\"glyph\":{\"type\":\"object\",\"name\":\"Line\",\"id\":\"p1496\",\"attributes\":{\"x\":{\"type\":\"field\",\"field\":\"x\"},\"y\":{\"type\":\"field\",\"field\":\"y\"},\"line_color\":\"#430F75\"}},\"nonselection_glyph\":{\"type\":\"object\",\"name\":\"Line\",\"id\":\"p1497\",\"attributes\":{\"x\":{\"type\":\"field\",\"field\":\"x\"},\"y\":{\"type\":\"field\",\"field\":\"y\"},\"line_color\":\"#430F75\",\"line_alpha\":0.1}},\"muted_glyph\":{\"type\":\"object\",\"name\":\"Line\",\"id\":\"p1498\",\"attributes\":{\"x\":{\"type\":\"field\",\"field\":\"x\"},\"y\":{\"type\":\"field\",\"field\":\"y\"},\"line_color\":\"#430F75\",\"line_alpha\":0.2}}}},{\"type\":\"object\",\"name\":\"GlyphRenderer\",\"id\":\"p1508\",\"attributes\":{\"data_source\":{\"type\":\"object\",\"name\":\"ColumnDataSource\",\"id\":\"p1502\",\"attributes\":{\"selected\":{\"type\":\"object\",\"name\":\"Selection\",\"id\":\"p1504\",\"attributes\":{\"indices\":[],\"line_indices\":[]}},\"selection_policy\":{\"type\":\"object\",\"name\":\"UnionRenderers\",\"id\":\"p1503\"},\"data\":{\"type\":\"map\",\"entries\":[[\"x\",{\"type\":\"ndarray\",\"array\":{\"type\":\"bytes\",\"data\":\"nU1k3nZefkAla/Z+8V5+QEF4yHOVX35A5FnCn21gfkASHYUHimF+QCNu60gNY35Anq84zhJlfkC7dMO5vGd+QE+v4y89a35AX2knXwBwfkBkcusvW3Z+QE86rbS2fn5ARuk2fayJfkC9XDAuhph+QL2lV0k/rH5AcpqOPAnGfkBGS/K0m+d+QPTt/FyZFH9A6vsjlIxPf0Dt4sPpYJt/QBKqOIMh/H9A0Esq/Q89gEBiMWQ+5oyAQCrPt9TJ74BAXqRpJqFogUCpy+NBdP2BQNFad6hur4JAl9juElJ/g0CU0+/um26EQJVCLPYlgoVAx8vtzR+4hkB6/0BOxw6IQGhln4Z5hYlAVcao/4Mei0CEduqrj9WMQOqQXn1Tpo5Ah+0QVnxGkEAaB6brvEKRQNUI7iAhQ5JA5W7PXIxCk0BEHbGhNTuUQMxN5E7UI5VAwjmbWZL0lUCpwb6k56aWQK/YVdYTNZdAxyh/W+mXl0CXxRuzItWXQDmwnwlq9pdAe5HW2OAFmEChEyKIqwyYQA/NZtTaEZhAU9MGjfAXmEDzqeCb0h+YQGuJjKyAKphAFe5GZLI4mEAItXTaRUuYQJItNnt7Y5hAZ1so8vqDmEBAxj/wpa6YQKg+5/Oq5ZhAECPazxMsmUA=\"},\"shape\":[61],\"dtype\":\"float64\",\"order\":\"little\"}],[\"y\",{\"type\":\"ndarray\",\"array\":{\"type\":\"bytes\",\"data\":\"je21oPfGsD55sw9Sbl+2PjiXhuOm1b0+ZmRJe3zkwz6Uz1+H8IbKPhkttIXur9E+n0qHEBiW1z55rcSB7XPfPvFo44i1+OQ+V6CT5kn36z6DHjROiKXyPoC9G5qb3fg+veGbVFaUAD9fOCEn6hsGP0YdqRSeew0/bOwacXSoEz8tQxzr4jYaPzZEHDCOeiE/IybBYepOJz/grKKAAhUvPyzawulruTQ/d4bpsOSiOz9MsunMQm1CP4enYY2Rkkg//Knx0k1iUD9EVSO8MdlVP6xvMfqkIl0/DKxlkCFtYz+3kDPkxudpPwv0ke7ORXE/3x4kgJMIdz9oEbrwNbd+P3sUrkfheoQ/lSosK35Piz/M5V4cpzWSPw8Xf/RpSJg/cjqgTtwwoD8NcTaqQpelP5cmLWC4yqw/4Up0toEysz+amZmZmZm5P52a+9quEcE/P5924xDDxj/S3J5xhFrOPw9JSGITPdQ/UA3EVBP92j8eOBw8s/7hP5pdESQi/+c/AAAAAAAA8D9EgbqRGlb1Pw5HVBzVc/w/A0oDx5L4AkBTW9o6WEwJQFKI+hQs3hBAJkYjC2B+FkAAtRWt6v4dQAAAAAAAACRAlSEpNqGrKkBprLQxZcgxQIQcxHi3tjdAJ/KQSW6fP0A=\"},\"shape\":[61],\"dtype\":\"float64\",\"order\":\"little\"}]]}}},\"view\":{\"type\":\"object\",\"name\":\"CDSView\",\"id\":\"p1509\",\"attributes\":{\"filter\":{\"type\":\"object\",\"name\":\"AllIndices\",\"id\":\"p1510\"}}},\"glyph\":{\"type\":\"object\",\"name\":\"Line\",\"id\":\"p1505\",\"attributes\":{\"x\":{\"type\":\"field\",\"field\":\"x\"},\"y\":{\"type\":\"field\",\"field\":\"y\"},\"line_color\":\"#711F81\"}},\"nonselection_glyph\":{\"type\":\"object\",\"name\":\"Line\",\"id\":\"p1506\",\"attributes\":{\"x\":{\"type\":\"field\",\"field\":\"x\"},\"y\":{\"type\":\"field\",\"field\":\"y\"},\"line_color\":\"#711F81\",\"line_alpha\":0.1}},\"muted_glyph\":{\"type\":\"object\",\"name\":\"Line\",\"id\":\"p1507\",\"attributes\":{\"x\":{\"type\":\"field\",\"field\":\"x\"},\"y\":{\"type\":\"field\",\"field\":\"y\"},\"line_color\":\"#711F81\",\"line_alpha\":0.2}}}},{\"type\":\"object\",\"name\":\"GlyphRenderer\",\"id\":\"p1517\",\"attributes\":{\"data_source\":{\"type\":\"object\",\"name\":\"ColumnDataSource\",\"id\":\"p1511\",\"attributes\":{\"selected\":{\"type\":\"object\",\"name\":\"Selection\",\"id\":\"p1513\",\"attributes\":{\"indices\":[],\"line_indices\":[]}},\"selection_policy\":{\"type\":\"object\",\"name\":\"UnionRenderers\",\"id\":\"p1512\"},\"data\":{\"type\":\"map\",\"entries\":[[\"x\",{\"type\":\"ndarray\",\"array\":{\"type\":\"bytes\",\"data\":\"AiijigRhfkBCkxl6V2J+QMXx3H8VZH5A/x4tNm5mfkCu0al9mGl+QPE+BiTEbX5ApYLvYj9zfkAzIH7qnXp+QCqSdGiIhH5A27rbRI+RfkDhN3zCnaJ+QEf7LvJruX5AT6kLNeLXfkCCts17jP9+QKowxb/oMn9ANlQt5oJ2f0DeNx8i/s5/QMaDScnCH4BAqHv7zJRmgECb5rnsXsCAQHX0Mx27MIFAziP+nfe4gUDDuFLRtFuCQOD9zK+1HYNALnwqrjYBhEDWlJgr1ASFQGv9GNApKYZAonN7Kflwh0CfU9gQ59uIQIMcoMIlZopAzAmQGikOjEBHV+cjqdONQE/Oj9q5so9AfL/XzSPSkEAX66DtAdGRQMbMwtud0ZJAsJ7D+IjNk0C7NOsPKb6UQJ8QBHgxnJVAnSOtBlldlkAoDv+mgPmWQASQHIhHb5dA5Quh3e++l0DY7T5MmOuXQAWKq2BhAJhAsBkiZO0JmEAfxv8Bew+YQHlazO38FJhAkGXrdiAcmED+7wRPfiWYQGDcb4jDMZhAlr7N/S5CmECB2fj6I1iYQMGLSg7FdJhAwAD/HeeZmEAXToXM5MqYQC82kKw1C5lATDSX5UldmUDcvlSGBsWZQN3D4MU/SZpAtd2517/vmkA=\"},\"shape\":[61],\"dtype\":\"float64\",\"order\":\"little\"}],[\"y\",{\"type\":\"ndarray\",\"array\":{\"type\":\"bytes\",\"data\":\"je21oPfGsD55sw9Sbl+2PjiXhuOm1b0+ZmRJe3zkwz6Uz1+H8IbKPhkttIXur9E+n0qHEBiW1z55rcSB7XPfPvFo44i1+OQ+V6CT5kn36z6DHjROiKXyPoC9G5qb3fg+veGbVFaUAD9fOCEn6hsGP0YdqRSeew0/bOwacXSoEz8tQxzr4jYaPzZEHDCOeiE/IybBYepOJz/grKKAAhUvPyzawulruTQ/d4bpsOSiOz9MsunMQm1CP4enYY2Rkkg//Knx0k1iUD9EVSO8MdlVP6xvMfqkIl0/DKxlkCFtYz+3kDPkxudpPwv0ke7ORXE/3x4kgJMIdz9oEbrwNbd+P3sUrkfheoQ/lSosK35Piz/M5V4cpzWSPw8Xf/RpSJg/cjqgTtwwoD8NcTaqQpelP5cmLWC4yqw/4Up0toEysz+amZmZmZm5P52a+9quEcE/P5924xDDxj/S3J5xhFrOPw9JSGITPdQ/UA3EVBP92j8eOBw8s/7hP5pdESQi/+c/AAAAAAAA8D9EgbqRGlb1Pw5HVBzVc/w/A0oDx5L4AkBTW9o6WEwJQFKI+hQs3hBAJkYjC2B+FkAAtRWt6v4dQAAAAAAAACRAlSEpNqGrKkBprLQxZcgxQIQcxHi3tjdAJ/KQSW6fP0A=\"},\"shape\":[61],\"dtype\":\"float64\",\"order\":\"little\"}]]}}},\"view\":{\"type\":\"object\",\"name\":\"CDSView\",\"id\":\"p1518\",\"attributes\":{\"filter\":{\"type\":\"object\",\"name\":\"AllIndices\",\"id\":\"p1519\"}}},\"glyph\":{\"type\":\"object\",\"name\":\"Line\",\"id\":\"p1514\",\"attributes\":{\"x\":{\"type\":\"field\",\"field\":\"x\"},\"y\":{\"type\":\"field\",\"field\":\"y\"},\"line_color\":\"#9E2E7E\"}},\"nonselection_glyph\":{\"type\":\"object\",\"name\":\"Line\",\"id\":\"p1515\",\"attributes\":{\"x\":{\"type\":\"field\",\"field\":\"x\"},\"y\":{\"type\":\"field\",\"field\":\"y\"},\"line_color\":\"#9E2E7E\",\"line_alpha\":0.1}},\"muted_glyph\":{\"type\":\"object\",\"name\":\"Line\",\"id\":\"p1516\",\"attributes\":{\"x\":{\"type\":\"field\",\"field\":\"x\"},\"y\":{\"type\":\"field\",\"field\":\"y\"},\"line_color\":\"#9E2E7E\",\"line_alpha\":0.2}}}},{\"type\":\"object\",\"name\":\"GlyphRenderer\",\"id\":\"p1526\",\"attributes\":{\"data_source\":{\"type\":\"object\",\"name\":\"ColumnDataSource\",\"id\":\"p1520\",\"attributes\":{\"selected\":{\"type\":\"object\",\"name\":\"Selection\",\"id\":\"p1522\",\"attributes\":{\"indices\":[],\"line_indices\":[]}},\"selection_policy\":{\"type\":\"object\",\"name\":\"UnionRenderers\",\"id\":\"p1521\"},\"data\":{\"type\":\"map\",\"entries\":[[\"x\",{\"type\":\"ndarray\",\"array\":{\"type\":\"bytes\",\"data\":\"KgqpWhBofkDRNlQzs2t+QDo7HJOmcH5A9nrh/it3fkDXADnnvH9+QEGgIiIdi35AxLty5YqafkAUBvWrxa5+QD2CJo8wyX5AW/EAZf7rfkCyYYs9qRp/QGM/HCcKV39Am4apapikf0CwJvULSgSAQC8iVMBdRYBAl3KM7NyWgEBOSbeOpPuAQAVRsbm2d4FATi4t+E0QgkCLkUt//cSCQERPtyu5l4NAewyMCmOLhECPAcIhjaOFQEXEa2yR3IZAcWJy1zo2iEC9HxAZN7GJQAgH19FxTotASMUvX/0HjUBSX7wT/tqOQGFBAm8cYpBAGZs+HzFfkUBdxCXUrl+SQG2XEv3HXpNAkTJSEPpVlEDEdLfw5juVQKwMmh4SCpZAKylDTEu5lkAAbxAQP0KXQM3vhXW3n5dAjOLJlgHal0DP4Pd4HvmXQKWNOxL0BphAhmpObTsNmECsvy02dRKYQIhx1XStGJhA/4bPq9sgmEDOZiBy9CuYQPp0oMODOphAo3KekYtNmECC74/IpWaYQEVJU2FdiJhAU4xXcBO0mEDMur99XOyYQEa8vvInNZlA1dFcZ1OUmUAmQqh/EAyaQLPc14/toJpA4ASBc15Zm0CZ8eHv+j2cQO/E/JfGTp1ACaYBS5KPnkA=\"},\"shape\":[61],\"dtype\":\"float64\",\"order\":\"little\"}],[\"y\",{\"type\":\"ndarray\",\"array\":{\"type\":\"bytes\",\"data\":\"je21oPfGsD55sw9Sbl+2PjiXhuOm1b0+ZmRJe3zkwz6Uz1+H8IbKPhkttIXur9E+n0qHEBiW1z55rcSB7XPfPvFo44i1+OQ+V6CT5kn36z6DHjROiKXyPoC9G5qb3fg+veGbVFaUAD9fOCEn6hsGP0YdqRSeew0/bOwacXSoEz8tQxzr4jYaPzZEHDCOeiE/IybBYepOJz/grKKAAhUvPyzawulruTQ/d4bpsOSiOz9MsunMQm1CP4enYY2Rkkg//Knx0k1iUD9EVSO8MdlVP6xvMfqkIl0/DKxlkCFtYz+3kDPkxudpPwv0ke7ORXE/3x4kgJMIdz9oEbrwNbd+P3sUrkfheoQ/lSosK35Piz/M5V4cpzWSPw8Xf/RpSJg/cjqgTtwwoD8NcTaqQpelP5cmLWC4yqw/4Up0toEysz+amZmZmZm5P52a+9quEcE/P5924xDDxj/S3J5xhFrOPw9JSGITPdQ/UA3EVBP92j8eOBw8s/7hP5pdESQi/+c/AAAAAAAA8D9EgbqRGlb1Pw5HVBzVc/w/A0oDx5L4AkBTW9o6WEwJQFKI+hQs3hBAJkYjC2B+FkAAtRWt6v4dQAAAAAAAACRAlSEpNqGrKkBprLQxZcgxQIQcxHi3tjdAJ/KQSW6fP0A=\"},\"shape\":[61],\"dtype\":\"float64\",\"order\":\"little\"}]]}}},\"view\":{\"type\":\"object\",\"name\":\"CDSView\",\"id\":\"p1527\",\"attributes\":{\"filter\":{\"type\":\"object\",\"name\":\"AllIndices\",\"id\":\"p1528\"}}},\"glyph\":{\"type\":\"object\",\"name\":\"Line\",\"id\":\"p1523\",\"attributes\":{\"x\":{\"type\":\"field\",\"field\":\"x\"},\"y\":{\"type\":\"field\",\"field\":\"y\"},\"line_color\":\"#CB3E71\"}},\"nonselection_glyph\":{\"type\":\"object\",\"name\":\"Line\",\"id\":\"p1524\",\"attributes\":{\"x\":{\"type\":\"field\",\"field\":\"x\"},\"y\":{\"type\":\"field\",\"field\":\"y\"},\"line_color\":\"#CB3E71\",\"line_alpha\":0.1}},\"muted_glyph\":{\"type\":\"object\",\"name\":\"Line\",\"id\":\"p1525\",\"attributes\":{\"x\":{\"type\":\"field\",\"field\":\"x\"},\"y\":{\"type\":\"field\",\"field\":\"y\"},\"line_color\":\"#CB3E71\",\"line_alpha\":0.2}}}},{\"type\":\"object\",\"name\":\"GlyphRenderer\",\"id\":\"p1535\",\"attributes\":{\"data_source\":{\"type\":\"object\",\"name\":\"ColumnDataSource\",\"id\":\"p1529\",\"attributes\":{\"selected\":{\"type\":\"object\",\"name\":\"Selection\",\"id\":\"p1531\",\"attributes\":{\"indices\":[],\"line_indices\":[]}},\"selection_policy\":{\"type\":\"object\",\"name\":\"UnionRenderers\",\"id\":\"p1530\"},\"data\":{\"type\":\"map\",\"entries\":[[\"x\",{\"type\":\"ndarray\",\"array\":{\"type\":\"bytes\",\"data\":\"uuYJHaR7fkDxJ6Vt0YV+QIIBis0rk35AtoR/IaykfkAS48ZEk7x+QM1RBZXQ235AzOeAAXAEf0B/MTvbEzl/QOP3Eme6f39AapRl+kbaf0ALm574oCaAQMRt6zMCb4BAv2C5pjnMgEBvYIGftD6BQIZYEddHyYFAsLb6I8JugkCMdJXIHDaDQAfSW/6PHIRA7bbbczAjhUBO4nPyykqGQJbWrLJsmIdAEBhKrksGiUCzGwRtYZOKQDeKGpJGPoxAriVFulMIjkB9UfSOSemPQAMfjaUl7pBAPtZGB3jtkUBN9QV82e2SQFT+/iL06JNARXXRzzTYlEADwZ4KE7SVQCCLMa68b5ZAysDUcmUIl0BFmB+miXqXQLVuEQiGxpdAbx6Xu0zul0DiS7Y+wQGYQLO8m7irCphANPURrwsQmECv+JrVuRWYQKm2KAANHZhAPkrS96YmmEBfWTpGPjOYQDJ897R0RJhAhS4I2/lamEDQMrnfTHiYQAF0+G9dnphAO8pdVpbRmEBnsWI1bROZQE1STWJSZ5lAe4ae22LRmUBuYkXuyFqaQNUZ7rCHBJtAv4Vh21vTm0BF286vI8ycQPREsKKk+p1AZr3fSWpbn0CyoRxioHigQE29+qtoX6FAdWjVQH9nokA=\"},\"shape\":[61],\"dtype\":\"float64\",\"order\":\"little\"}],[\"y\",{\"type\":\"ndarray\",\"array\":{\"type\":\"bytes\",\"data\":\"je21oPfGsD55sw9Sbl+2PjiXhuOm1b0+ZmRJe3zkwz6Uz1+H8IbKPhkttIXur9E+n0qHEBiW1z55rcSB7XPfPvFo44i1+OQ+V6CT5kn36z6DHjROiKXyPoC9G5qb3fg+veGbVFaUAD9fOCEn6hsGP0YdqRSeew0/bOwacXSoEz8tQxzr4jYaPzZEHDCOeiE/IybBYepOJz/grKKAAhUvPyzawulruTQ/d4bpsOSiOz9MsunMQm1CP4enYY2Rkkg//Knx0k1iUD9EVSO8MdlVP6xvMfqkIl0/DKxlkCFtYz+3kDPkxudpPwv0ke7ORXE/3x4kgJMIdz9oEbrwNbd+P3sUrkfheoQ/lSosK35Piz/M5V4cpzWSPw8Xf/RpSJg/cjqgTtwwoD8NcTaqQpelP5cmLWC4yqw/4Up0toEysz+amZmZmZm5P52a+9quEcE/P5924xDDxj/S3J5xhFrOPw9JSGITPdQ/UA3EVBP92j8eOBw8s/7hP5pdESQi/+c/AAAAAAAA8D9EgbqRGlb1Pw5HVBzVc/w/A0oDx5L4AkBTW9o6WEwJQFKI+hQs3hBAJkYjC2B+FkAAtRWt6v4dQAAAAAAAACRAlSEpNqGrKkBprLQxZcgxQIQcxHi3tjdAJ/KQSW6fP0A=\"},\"shape\":[61],\"dtype\":\"float64\",\"order\":\"little\"}]]}}},\"view\":{\"type\":\"object\",\"name\":\"CDSView\",\"id\":\"p1536\",\"attributes\":{\"filter\":{\"type\":\"object\",\"name\":\"AllIndices\",\"id\":\"p1537\"}}},\"glyph\":{\"type\":\"object\",\"name\":\"Line\",\"id\":\"p1532\",\"attributes\":{\"x\":{\"type\":\"field\",\"field\":\"x\"},\"y\":{\"type\":\"field\",\"field\":\"y\"},\"line_color\":\"#F0605D\"}},\"nonselection_glyph\":{\"type\":\"object\",\"name\":\"Line\",\"id\":\"p1533\",\"attributes\":{\"x\":{\"type\":\"field\",\"field\":\"x\"},\"y\":{\"type\":\"field\",\"field\":\"y\"},\"line_color\":\"#F0605D\",\"line_alpha\":0.1}},\"muted_glyph\":{\"type\":\"object\",\"name\":\"Line\",\"id\":\"p1534\",\"attributes\":{\"x\":{\"type\":\"field\",\"field\":\"x\"},\"y\":{\"type\":\"field\",\"field\":\"y\"},\"line_color\":\"#F0605D\",\"line_alpha\":0.2}}}},{\"type\":\"object\",\"name\":\"GlyphRenderer\",\"id\":\"p1544\",\"attributes\":{\"data_source\":{\"type\":\"object\",\"name\":\"ColumnDataSource\",\"id\":\"p1538\",\"attributes\":{\"selected\":{\"type\":\"object\",\"name\":\"Selection\",\"id\":\"p1540\",\"attributes\":{\"indices\":[],\"line_indices\":[]}},\"selection_policy\":{\"type\":\"object\",\"name\":\"UnionRenderers\",\"id\":\"p1539\"},\"data\":{\"type\":\"map\",\"entries\":[[\"x\",{\"type\":\"ndarray\",\"array\":{\"type\":\"bytes\",\"data\":\"a2aSDkyxfkAIar7hV8x+QKUitOrh8H5AcNUZHrkgf0DbghS6h15/QEgqj+vPrX9A9T1KOygLgECN+H2Dq02AQMyztJrToIBAccO2SH8HgUC4hcTyBoiBQOyQdq4nI4JAQMgfVozagkDxxX9EILCDQJIuz1K/qYRAhsBXTfTEhUDAvOkKAwGHQGTFo2CuXYhA7R50w3LeiUC4RwWkX36LQAoUdRJrOo1Aui0aqqgPj0DnoLdGHn6QQBgv11Kle5FA439dhzx8kkDzv1WdA3uTQBpzONAFcJRAupuKkvlTlUCV35jjkR+WQK6Qx/Ouy5ZAQXcTLoFNl0DStoyPhaeXQIL/d3rg3pdAZxFQ6NL7l0CoMLVmsgeYQG3BelLLDZhASrL0lw8TmEC+D6RcahmYQD/hnFQEIphAMkS0N2gtmEDh+/kiVTyYQD8wyEjRT5hAkZb+mS1qmEAjN37Qv4yYQGhSb/CAuZhA7zaYBw7zmEBH2nRvMD+ZQBbNGi+AoJlAELGq6LsamkBEezy4drKaQNlRFFXEcZtA+iCdIFlanEBYPwhSb2+dQEz+FbXNtJ5A9pZwi4MaoEDQmDZivvagQH5CO/dJ76FAOmSq9P0Eo0BVIpaX2DykQDRnTWuhlKVAb8IpJmcMp0A=\"},\"shape\":[61],\"dtype\":\"float64\",\"order\":\"little\"}],[\"y\",{\"type\":\"ndarray\",\"array\":{\"type\":\"bytes\",\"data\":\"je21oPfGsD55sw9Sbl+2PjiXhuOm1b0+ZmRJe3zkwz6Uz1+H8IbKPhkttIXur9E+n0qHEBiW1z55rcSB7XPfPvFo44i1+OQ+V6CT5kn36z6DHjROiKXyPoC9G5qb3fg+veGbVFaUAD9fOCEn6hsGP0YdqRSeew0/bOwacXSoEz8tQxzr4jYaPzZEHDCOeiE/IybBYepOJz/grKKAAhUvPyzawulruTQ/d4bpsOSiOz9MsunMQm1CP4enYY2Rkkg//Knx0k1iUD9EVSO8MdlVP6xvMfqkIl0/DKxlkCFtYz+3kDPkxudpPwv0ke7ORXE/3x4kgJMIdz9oEbrwNbd+P3sUrkfheoQ/lSosK35Piz/M5V4cpzWSPw8Xf/RpSJg/cjqgTtwwoD8NcTaqQpelP5cmLWC4yqw/4Up0toEysz+amZmZmZm5P52a+9quEcE/P5924xDDxj/S3J5xhFrOPw9JSGITPdQ/UA3EVBP92j8eOBw8s/7hP5pdESQi/+c/AAAAAAAA8D9EgbqRGlb1Pw5HVBzVc/w/A0oDx5L4AkBTW9o6WEwJQFKI+hQs3hBAJkYjC2B+FkAAtRWt6v4dQAAAAAAAACRAlSEpNqGrKkBprLQxZcgxQIQcxHi3tjdAJ/KQSW6fP0A=\"},\"shape\":[61],\"dtype\":\"float64\",\"order\":\"little\"}]]}}},\"view\":{\"type\":\"object\",\"name\":\"CDSView\",\"id\":\"p1545\",\"attributes\":{\"filter\":{\"type\":\"object\",\"name\":\"AllIndices\",\"id\":\"p1546\"}}},\"glyph\":{\"type\":\"object\",\"name\":\"Line\",\"id\":\"p1541\",\"attributes\":{\"x\":{\"type\":\"field\",\"field\":\"x\"},\"y\":{\"type\":\"field\",\"field\":\"y\"},\"line_color\":\"#FC9366\"}},\"nonselection_glyph\":{\"type\":\"object\",\"name\":\"Line\",\"id\":\"p1542\",\"attributes\":{\"x\":{\"type\":\"field\",\"field\":\"x\"},\"y\":{\"type\":\"field\",\"field\":\"y\"},\"line_color\":\"#FC9366\",\"line_alpha\":0.1}},\"muted_glyph\":{\"type\":\"object\",\"name\":\"Line\",\"id\":\"p1543\",\"attributes\":{\"x\":{\"type\":\"field\",\"field\":\"x\"},\"y\":{\"type\":\"field\",\"field\":\"y\"},\"line_color\":\"#FC9366\",\"line_alpha\":0.2}}}},{\"type\":\"object\",\"name\":\"GlyphRenderer\",\"id\":\"p1553\",\"attributes\":{\"data_source\":{\"type\":\"object\",\"name\":\"ColumnDataSource\",\"id\":\"p1547\",\"attributes\":{\"selected\":{\"type\":\"object\",\"name\":\"Selection\",\"id\":\"p1549\",\"attributes\":{\"indices\":[],\"line_indices\":[]}},\"selection_policy\":{\"type\":\"object\",\"name\":\"UnionRenderers\",\"id\":\"p1548\"},\"data\":{\"type\":\"map\",\"entries\":[[\"x\",{\"type\":\"ndarray\",\"array\":{\"type\":\"bytes\",\"data\":\"+HQzbpFAf0CRm/jn8Yh/QPjwq9KP5X9AUbLzJ38tgED5rhPi+HiAQOPauGAU2IBAaszOIa5MgUA6jSQQmNmBQGftzvpQhIJAO+td4YNOg0DhJ41O6TeEQATZHryMQYVAzdrxkDxvhkCOOd474L+HQITcu0uwMIlA5hpoF53AikD82F9FtHCMQBj0olD+PI5AV2qsoewPkECLfkJ9JwqRQMaRfroFCpJA1h1JHBUKk0D5XTpNXwSUQNG1t49A8pRA7ZOdz5LJlUCj8rVVIIKWQGtzqj5KF5dAhqAixMuFl0Cri7/rZMuXQAdP7yoB8ZdAvw3BHCEDmEC1XxUNaguYQNLn2BCmEJhA5ZZpvXYWmEDBB2aJ+R2YQH6kn6DPJ5hARuCTpQ81mEDOOSFsukaYQImDF7vPXZhA4NknsdR7mEAWOhDwyqOYQF9GNuBH2JhAnyw1vqQbmUBPcAPfWnGZQGX1oEQO4JlAAAGqFlJsmkD1VSKKTxmbQLjS9LzB65tAr1XaaczsnEA5ncQM4B+eQJSRHbN1hZ9AYaTHlyeQoEBXPqFUL3yhQJ1nZv7+hqJAj5jRmIGvo0AFKUAchfakQEwfii8mYKZALzhky6Hsp0DeFzUkG5upQJKs2aIIbatAxzazbP1nrUA=\"},\"shape\":[61],\"dtype\":\"float64\",\"order\":\"little\"}],[\"y\",{\"type\":\"ndarray\",\"array\":{\"type\":\"bytes\",\"data\":\"je21oPfGsD55sw9Sbl+2PjiXhuOm1b0+ZmRJe3zkwz6Uz1+H8IbKPhkttIXur9E+n0qHEBiW1z55rcSB7XPfPvFo44i1+OQ+V6CT5kn36z6DHjROiKXyPoC9G5qb3fg+veGbVFaUAD9fOCEn6hsGP0YdqRSeew0/bOwacXSoEz8tQxzr4jYaPzZEHDCOeiE/IybBYepOJz/grKKAAhUvPyzawulruTQ/d4bpsOSiOz9MsunMQm1CP4enYY2Rkkg//Knx0k1iUD9EVSO8MdlVP6xvMfqkIl0/DKxlkCFtYz+3kDPkxudpPwv0ke7ORXE/3x4kgJMIdz9oEbrwNbd+P3sUrkfheoQ/lSosK35Piz/M5V4cpzWSPw8Xf/RpSJg/cjqgTtwwoD8NcTaqQpelP5cmLWC4yqw/4Up0toEysz+amZmZmZm5P52a+9quEcE/P5924xDDxj/S3J5xhFrOPw9JSGITPdQ/UA3EVBP92j8eOBw8s/7hP5pdESQi/+c/AAAAAAAA8D9EgbqRGlb1Pw5HVBzVc/w/A0oDx5L4AkBTW9o6WEwJQFKI+hQs3hBAJkYjC2B+FkAAtRWt6v4dQAAAAAAAACRAlSEpNqGrKkBprLQxZcgxQIQcxHi3tjdAJ/KQSW6fP0A=\"},\"shape\":[61],\"dtype\":\"float64\",\"order\":\"little\"}]]}}},\"view\":{\"type\":\"object\",\"name\":\"CDSView\",\"id\":\"p1554\",\"attributes\":{\"filter\":{\"type\":\"object\",\"name\":\"AllIndices\",\"id\":\"p1555\"}}},\"glyph\":{\"type\":\"object\",\"name\":\"Line\",\"id\":\"p1550\",\"attributes\":{\"x\":{\"type\":\"field\",\"field\":\"x\"},\"y\":{\"type\":\"field\",\"field\":\"y\"},\"line_color\":\"#FEC78B\"}},\"nonselection_glyph\":{\"type\":\"object\",\"name\":\"Line\",\"id\":\"p1551\",\"attributes\":{\"x\":{\"type\":\"field\",\"field\":\"x\"},\"y\":{\"type\":\"field\",\"field\":\"y\"},\"line_color\":\"#FEC78B\",\"line_alpha\":0.1}},\"muted_glyph\":{\"type\":\"object\",\"name\":\"Line\",\"id\":\"p1552\",\"attributes\":{\"x\":{\"type\":\"field\",\"field\":\"x\"},\"y\":{\"type\":\"field\",\"field\":\"y\"},\"line_color\":\"#FEC78B\",\"line_alpha\":0.2}}}},{\"type\":\"object\",\"name\":\"GlyphRenderer\",\"id\":\"p1562\",\"attributes\":{\"data_source\":{\"type\":\"object\",\"name\":\"ColumnDataSource\",\"id\":\"p1556\",\"attributes\":{\"selected\":{\"type\":\"object\",\"name\":\"Selection\",\"id\":\"p1558\",\"attributes\":{\"indices\":[],\"line_indices\":[]}},\"selection_policy\":{\"type\":\"object\",\"name\":\"UnionRenderers\",\"id\":\"p1557\"},\"data\":{\"type\":\"map\",\"entries\":[[\"x\",{\"type\":\"ndarray\",\"array\":{\"type\":\"bytes\",\"data\":\"686nRvlVgEAB9dxIyqqAQIIcmRjIFIFAbLrXK1eYgUCM879kATaCQPj+8ywb8IJAe9DHDYTKg0CqUBKbG8iEQH5/7Xhb5oVAP7VnqXQlh0C6yvTVHYeIQCEe2G2uC4pAa4gzdk2ui0DQYrrF2GyNQPDHxnGaRY9AbwBtHiCakEAYw2+GGZiRQGs7lTrKmJJAZd9MpLKWk0Cmsx6QEYqUQLHCXTQMbJVAf7KXqBE1lkDmqFMPt9uWQIJ/FkzDWJdA2H2TqVOvl0B3HCZev+OXQEoGlqSh/ZdAq9Muu3AImEBTGKc3Ww6YQOiku/mpE5hAX8NwZEcamEB/O2r9LCOYQJchSP3bLphAyIJTgiY+mEB5L9o6eFKYQKE9bWu1bZhAAyWpPyKRmEB8GIdw7r6YQL8/65rG+phASfgq7DhJmUBZyNj2rKyZQPsfrVFnKZpAdWVRJTDGmkDTnqc2KoqbQF1QWFG3dpxAw7kTDBiQnUDcQCYOSN2eQKaZG8EKMqBA2mOASNwQoUCJw+GfEAyiQCln/5deJqNAefCEGPthpEBF5Dg6sLylQDir0WN3N6dABJ1nhJ3VqEB2H0PvNpqqQMHBcp1kg6xAueF1HP6SrkCXszee4mawQOAnckwqnLFA39ZTS4ToskA=\"},\"shape\":[61],\"dtype\":\"float64\",\"order\":\"little\"}],[\"y\",{\"type\":\"ndarray\",\"array\":{\"type\":\"bytes\",\"data\":\"je21oPfGsD55sw9Sbl+2PjiXhuOm1b0+ZmRJe3zkwz6Uz1+H8IbKPhkttIXur9E+n0qHEBiW1z55rcSB7XPfPvFo44i1+OQ+V6CT5kn36z6DHjROiKXyPoC9G5qb3fg+veGbVFaUAD9fOCEn6hsGP0YdqRSeew0/bOwacXSoEz8tQxzr4jYaPzZEHDCOeiE/IybBYepOJz/grKKAAhUvPyzawulruTQ/d4bpsOSiOz9MsunMQm1CP4enYY2Rkkg//Knx0k1iUD9EVSO8MdlVP6xvMfqkIl0/DKxlkCFtYz+3kDPkxudpPwv0ke7ORXE/3x4kgJMIdz9oEbrwNbd+P3sUrkfheoQ/lSosK35Piz/M5V4cpzWSPw8Xf/RpSJg/cjqgTtwwoD8NcTaqQpelP5cmLWC4yqw/4Up0toEysz+amZmZmZm5P52a+9quEcE/P5924xDDxj/S3J5xhFrOPw9JSGITPdQ/UA3EVBP92j8eOBw8s/7hP5pdESQi/+c/AAAAAAAA8D9EgbqRGlb1Pw5HVBzVc/w/A0oDx5L4AkBTW9o6WEwJQFKI+hQs3hBAJkYjC2B+FkAAtRWt6v4dQAAAAAAAACRAlSEpNqGrKkBprLQxZcgxQIQcxHi3tjdAJ/KQSW6fP0A=\"},\"shape\":[61],\"dtype\":\"float64\",\"order\":\"little\"}]]}}},\"view\":{\"type\":\"object\",\"name\":\"CDSView\",\"id\":\"p1563\",\"attributes\":{\"filter\":{\"type\":\"object\",\"name\":\"AllIndices\",\"id\":\"p1564\"}}},\"glyph\":{\"type\":\"object\",\"name\":\"Line\",\"id\":\"p1559\",\"attributes\":{\"x\":{\"type\":\"field\",\"field\":\"x\"},\"y\":{\"type\":\"field\",\"field\":\"y\"},\"line_color\":\"#FBFCBF\"}},\"nonselection_glyph\":{\"type\":\"object\",\"name\":\"Line\",\"id\":\"p1560\",\"attributes\":{\"x\":{\"type\":\"field\",\"field\":\"x\"},\"y\":{\"type\":\"field\",\"field\":\"y\"},\"line_color\":\"#FBFCBF\",\"line_alpha\":0.1}},\"muted_glyph\":{\"type\":\"object\",\"name\":\"Line\",\"id\":\"p1561\",\"attributes\":{\"x\":{\"type\":\"field\",\"field\":\"x\"},\"y\":{\"type\":\"field\",\"field\":\"y\"},\"line_color\":\"#FBFCBF\",\"line_alpha\":0.2}}}}],\"toolbar\":{\"type\":\"object\",\"name\":\"Toolbar\",\"id\":\"p1437\",\"attributes\":{\"tools\":[{\"type\":\"object\",\"name\":\"PanTool\",\"id\":\"p1460\"},{\"type\":\"object\",\"name\":\"WheelZoomTool\",\"id\":\"p1461\"},{\"type\":\"object\",\"name\":\"BoxZoomTool\",\"id\":\"p1462\",\"attributes\":{\"overlay\":{\"type\":\"object\",\"name\":\"BoxAnnotation\",\"id\":\"p1463\",\"attributes\":{\"syncable\":false,\"level\":\"overlay\",\"visible\":false,\"left_units\":\"canvas\",\"right_units\":\"canvas\",\"bottom_units\":\"canvas\",\"top_units\":\"canvas\",\"line_color\":\"black\",\"line_alpha\":1.0,\"line_width\":2,\"line_dash\":[4,4],\"fill_color\":\"lightgrey\",\"fill_alpha\":0.5}}}},{\"type\":\"object\",\"name\":\"SaveTool\",\"id\":\"p1464\"},{\"type\":\"object\",\"name\":\"ResetTool\",\"id\":\"p1465\"},{\"type\":\"object\",\"name\":\"HelpTool\",\"id\":\"p1466\"}]}},\"left\":[{\"type\":\"object\",\"name\":\"LogAxis\",\"id\":\"p1453\",\"attributes\":{\"ticker\":{\"type\":\"object\",\"name\":\"LogTicker\",\"id\":\"p1454\",\"attributes\":{\"num_minor_ticks\":10,\"mantissas\":[1,5]}},\"formatter\":{\"type\":\"object\",\"name\":\"LogTickFormatter\",\"id\":\"p1456\"},\"major_label_policy\":{\"type\":\"object\",\"name\":\"AllLabels\",\"id\":\"p1455\"}}}],\"below\":[{\"type\":\"object\",\"name\":\"LinearAxis\",\"id\":\"p1446\",\"attributes\":{\"ticker\":{\"type\":\"object\",\"name\":\"BasicTicker\",\"id\":\"p1447\",\"attributes\":{\"mantissas\":[1,2,5]}},\"formatter\":{\"type\":\"object\",\"name\":\"BasicTickFormatter\",\"id\":\"p1449\"},\"axis_label\":\"Temperature (K)\",\"major_label_policy\":{\"type\":\"object\",\"name\":\"AllLabels\",\"id\":\"p1448\"}}}],\"center\":[{\"type\":\"object\",\"name\":\"Grid\",\"id\":\"p1452\",\"attributes\":{\"axis\":{\"id\":\"p1446\"}}},{\"type\":\"object\",\"name\":\"Grid\",\"id\":\"p1459\",\"attributes\":{\"dimension\":1,\"axis\":{\"id\":\"p1453\"}}}]}},{\"type\":\"object\",\"name\":\"Figure\",\"id\":\"p1565\",\"attributes\":{\"width\":300,\"height\":300,\"x_range\":{\"type\":\"object\",\"name\":\"Range1d\",\"id\":\"p1575\",\"attributes\":{\"start\":400,\"end\":1700}},\"y_range\":{\"type\":\"object\",\"name\":\"Range1d\",\"id\":\"p1577\",\"attributes\":{\"start\":100,\"end\":1e-06}},\"x_scale\":{\"type\":\"object\",\"name\":\"LinearScale\",\"id\":\"p1579\"},\"y_scale\":{\"type\":\"object\",\"name\":\"LogScale\",\"id\":\"p1581\"},\"title\":{\"type\":\"object\",\"name\":\"Title\",\"id\":\"p1568\",\"attributes\":{\"text\":\"Effect of Tint\"}},\"renderers\":[{\"type\":\"object\",\"name\":\"GlyphRenderer\",\"id\":\"p1618\",\"attributes\":{\"data_source\":{\"type\":\"object\",\"name\":\"ColumnDataSource\",\"id\":\"p1612\",\"attributes\":{\"selected\":{\"type\":\"object\",\"name\":\"Selection\",\"id\":\"p1614\",\"attributes\":{\"indices\":[],\"line_indices\":[]}},\"selection_policy\":{\"type\":\"object\",\"name\":\"UnionRenderers\",\"id\":\"p1613\"},\"data\":{\"type\":\"map\",\"entries\":[[\"x\",{\"type\":\"ndarray\",\"array\":{\"type\":\"bytes\",\"data\":\"nW0xxXhbfkCL3VReflt+QMbtnN+FW35AgegJD5BbfkCFTEmAnVt+QH6wUTSvW35Al7Pg78ZbfkAJX+4k51t+QJsZO6YRXH5A+Hnon0lcfkBI9qaolFx+QGaB93n6XH5AFf0k1YBdfkC4Sl+9MV5+QKQVItQeX35ABWkHcmBgfkAlrk+uCGJ+QHy0cv82ZH5AV2oxuSJnfkDvSWMHGGt+QOmnugtPcH5AbnzzSil3fkANJoSIUYB+QG96/KuwjH5AFbja4u2cfkCS/ITOKrJ+QDW7tjxczn5ADpWzGBr0fkB9DS7lGiV/QKC2a6RTZH9AUBt1JLa2f0DUUM46KBGAQHrInT8XVYBAe7CDc+OpgEBDxzo82xOBQNWPJ8pil4FABFd78AM1gkBUyV/rEu+CQMpDNPZuyYNAVgmAWPfGhEBrit+4JeWFQPWVkt8qJIdAIppk+ryFiEC0QpjfMgqKQJTM01WzrItAWjlAdhtrjUBak23is0OPQCSJEygUmZBAL16gD/CWkUBUwFr2fJeSQKAr8Hw4lZNAbWI4P12IlECXCiK2DGqVQAqBm1uvMpZAvB/xEM7YlkABXcZZHVWXQDCkbtSqqpdA9RKBCLXdl0B0ho3XrvWXQBDTKu7a/ZdAnZb6SUUAmEA=\"},\"shape\":[61],\"dtype\":\"float64\",\"order\":\"little\"}],[\"y\",{\"type\":\"ndarray\",\"array\":{\"type\":\"bytes\",\"data\":\"je21oPfGsD55sw9Sbl+2PjiXhuOm1b0+ZmRJe3zkwz6Uz1+H8IbKPhkttIXur9E+n0qHEBiW1z55rcSB7XPfPvFo44i1+OQ+V6CT5kn36z6DHjROiKXyPoC9G5qb3fg+veGbVFaUAD9fOCEn6hsGP0YdqRSeew0/bOwacXSoEz8tQxzr4jYaPzZEHDCOeiE/IybBYepOJz/grKKAAhUvPyzawulruTQ/d4bpsOSiOz9MsunMQm1CP4enYY2Rkkg//Knx0k1iUD9EVSO8MdlVP6xvMfqkIl0/DKxlkCFtYz+3kDPkxudpPwv0ke7ORXE/3x4kgJMIdz9oEbrwNbd+P3sUrkfheoQ/lSosK35Piz/M5V4cpzWSPw8Xf/RpSJg/cjqgTtwwoD8NcTaqQpelP5cmLWC4yqw/4Up0toEysz+amZmZmZm5P52a+9quEcE/P5924xDDxj/S3J5xhFrOPw9JSGITPdQ/UA3EVBP92j8eOBw8s/7hP5pdESQi/+c/AAAAAAAA8D9EgbqRGlb1Pw5HVBzVc/w/A0oDx5L4AkBTW9o6WEwJQFKI+hQs3hBAJkYjC2B+FkAAtRWt6v4dQAAAAAAAACRAlSEpNqGrKkBprLQxZcgxQIQcxHi3tjdAJ/KQSW6fP0A=\"},\"shape\":[61],\"dtype\":\"float64\",\"order\":\"little\"}]]}}},\"view\":{\"type\":\"object\",\"name\":\"CDSView\",\"id\":\"p1619\",\"attributes\":{\"filter\":{\"type\":\"object\",\"name\":\"AllIndices\",\"id\":\"p1620\"}}},\"glyph\":{\"type\":\"object\",\"name\":\"Line\",\"id\":\"p1615\",\"attributes\":{\"x\":{\"type\":\"field\",\"field\":\"x\"},\"y\":{\"type\":\"field\",\"field\":\"y\"},\"line_color\":\"#000003\"}},\"nonselection_glyph\":{\"type\":\"object\",\"name\":\"Line\",\"id\":\"p1616\",\"attributes\":{\"x\":{\"type\":\"field\",\"field\":\"x\"},\"y\":{\"type\":\"field\",\"field\":\"y\"},\"line_color\":\"#000003\",\"line_alpha\":0.1}},\"muted_glyph\":{\"type\":\"object\",\"name\":\"Line\",\"id\":\"p1617\",\"attributes\":{\"x\":{\"type\":\"field\",\"field\":\"x\"},\"y\":{\"type\":\"field\",\"field\":\"y\"},\"line_color\":\"#000003\",\"line_alpha\":0.2}}}},{\"type\":\"object\",\"name\":\"GlyphRenderer\",\"id\":\"p1627\",\"attributes\":{\"data_source\":{\"type\":\"object\",\"name\":\"ColumnDataSource\",\"id\":\"p1621\",\"attributes\":{\"selected\":{\"type\":\"object\",\"name\":\"Selection\",\"id\":\"p1623\",\"attributes\":{\"indices\":[],\"line_indices\":[]}},\"selection_policy\":{\"type\":\"object\",\"name\":\"UnionRenderers\",\"id\":\"p1622\"},\"data\":{\"type\":\"map\",\"entries\":[[\"x\",{\"type\":\"ndarray\",\"array\":{\"type\":\"bytes\",\"data\":\"tWRJWABcfkAV7obxBVx+QNv68XINXH5Azm+OohdcfkCrewwUJVx+QDRiZ8g2XH5AtP9khE5cfkA7wQi6blx+QEKLGzyZXH5A2LrNNtFcfkA4zelAHF1+QD6uFBSCXX5APQu0cQhefkBlZCZduV5+QKR8OXimX35Ay7n4G+hgfkA8vfhfkGJ+QI7RQ7u+ZH5AGn2cgqpnfkBN4Tzjn2t+QAm03P/WcH5AzBP+XrF3fkDfwTLH2YB+QFzERyQ5jX5AiQ/HpnadfkAm5F31s7J+QDB36eblzn5AfhLNcqT0fkC9ocYjpiV/QGkbAQrgZH9AgfLQCkS3f0Bt+58pcBGAQKygwWxgVYBAl374Li6qgEDuSz7rJxSBQOlJf+ixl4FA9dHE/lU1gkBibvF4aO+CQAnhoavIyYNAP8cS91XHhEDKNxEBiuWFQNIglaSVJIdAd710Ny+GiEA6w37BrQqKQDcYlx04rYtAyTpJoqtrjUCUeY1pUUSPQCUvkOlqmZBAPNyZXlCXkUB1YTTd6JeSQEK98uyylZNAxv44heqIlEB1VURVsmqVQN41Afx0M5ZA0DT3U7/ZlkDeU+jWS1aXQI475TotrJdAQwxDDqrfl0CiflRWQviXQBtiipdJAZhA9J0ZNNcEmEA=\"},\"shape\":[61],\"dtype\":\"float64\",\"order\":\"little\"}],[\"y\",{\"type\":\"ndarray\",\"array\":{\"type\":\"bytes\",\"data\":\"je21oPfGsD55sw9Sbl+2PjiXhuOm1b0+ZmRJe3zkwz6Uz1+H8IbKPhkttIXur9E+n0qHEBiW1z55rcSB7XPfPvFo44i1+OQ+V6CT5kn36z6DHjROiKXyPoC9G5qb3fg+veGbVFaUAD9fOCEn6hsGP0YdqRSeew0/bOwacXSoEz8tQxzr4jYaPzZEHDCOeiE/IybBYepOJz/grKKAAhUvPyzawulruTQ/d4bpsOSiOz9MsunMQm1CP4enYY2Rkkg//Knx0k1iUD9EVSO8MdlVP6xvMfqkIl0/DKxlkCFtYz+3kDPkxudpPwv0ke7ORXE/3x4kgJMIdz9oEbrwNbd+P3sUrkfheoQ/lSosK35Piz/M5V4cpzWSPw8Xf/RpSJg/cjqgTtwwoD8NcTaqQpelP5cmLWC4yqw/4Up0toEysz+amZmZmZm5P52a+9quEcE/P5924xDDxj/S3J5xhFrOPw9JSGITPdQ/UA3EVBP92j8eOBw8s/7hP5pdESQi/+c/AAAAAAAA8D9EgbqRGlb1Pw5HVBzVc/w/A0oDx5L4AkBTW9o6WEwJQFKI+hQs3hBAJkYjC2B+FkAAtRWt6v4dQAAAAAAAACRAlSEpNqGrKkBprLQxZcgxQIQcxHi3tjdAJ/KQSW6fP0A=\"},\"shape\":[61],\"dtype\":\"float64\",\"order\":\"little\"}]]}}},\"view\":{\"type\":\"object\",\"name\":\"CDSView\",\"id\":\"p1628\",\"attributes\":{\"filter\":{\"type\":\"object\",\"name\":\"AllIndices\",\"id\":\"p1629\"}}},\"glyph\":{\"type\":\"object\",\"name\":\"Line\",\"id\":\"p1624\",\"attributes\":{\"x\":{\"type\":\"field\",\"field\":\"x\"},\"y\":{\"type\":\"field\",\"field\":\"y\"},\"line_color\":\"#170F3C\"}},\"nonselection_glyph\":{\"type\":\"object\",\"name\":\"Line\",\"id\":\"p1625\",\"attributes\":{\"x\":{\"type\":\"field\",\"field\":\"x\"},\"y\":{\"type\":\"field\",\"field\":\"y\"},\"line_color\":\"#170F3C\",\"line_alpha\":0.1}},\"muted_glyph\":{\"type\":\"object\",\"name\":\"Line\",\"id\":\"p1626\",\"attributes\":{\"x\":{\"type\":\"field\",\"field\":\"x\"},\"y\":{\"type\":\"field\",\"field\":\"y\"},\"line_color\":\"#170F3C\",\"line_alpha\":0.2}}}},{\"type\":\"object\",\"name\":\"GlyphRenderer\",\"id\":\"p1636\",\"attributes\":{\"data_source\":{\"type\":\"object\",\"name\":\"ColumnDataSource\",\"id\":\"p1630\",\"attributes\":{\"selected\":{\"type\":\"object\",\"name\":\"Selection\",\"id\":\"p1632\",\"attributes\":{\"indices\":[],\"line_indices\":[]}},\"selection_policy\":{\"type\":\"object\",\"name\":\"UnionRenderers\",\"id\":\"p1631\"},\"data\":{\"type\":\"map\",\"entries\":[[\"x\",{\"type\":\"ndarray\",\"array\":{\"type\":\"bytes\",\"data\":\"/akhVoddfkANeKrvjF1+QLNqenGUXX5AWMufoZ5dfkCwiNITrF1+QNhiG8m9XX5AlPhXhtVdfkD8j6y99V1+QFCK+kEgXn5AruCcP1hefkAMIKlNo15+QDjyKyYJX35A60rYio9ffkA6HZN/QGB+QEjrFqctYX5AEAK2W29ifkBp5Pe1F2R+QB1NjS5GZn5AXaMfHTJpfkB+0ueyJ21+QE1cjxVfcn5Aohm20Dl5fkBMnuOzYoJ+QGiHHrfCjn5Acma5EwGffkBIC5p/P7R+QMuL8+ty0H5AyNwfczP2fkBiCxC3Nyd/QKY5AvB0Zn9AwSh6Rt24f0A1KymdPxKAQEvFTHYzVoBAOy44tQWrgEDcRioSBRWBQIBeCBWWmIFAh0/To0I2gkBJkuEzX/CCQOrXl2LLyoNAAA9x12bIhECv4+A1q+aFQK2h1Y7JJYdAEGaVq3iHiED4BcIiEAyKQIyHjgm3rotAN15xZ0ttjUDE5mqxF0aPQHcpexhlmpBAJWMnGGaYkUDZLeYCIJmSQN+abfkTl5NAQYUF3IGKlEAPHfLWj2yVQIXhu7SuNZZAbTE8vXbclkCHaBuKs1mXQPoi+meGsJdAo4+G2kzll0DbqKVirP+XQJZEtE0oC5hA7JYI0fcRmEA=\"},\"shape\":[61],\"dtype\":\"float64\",\"order\":\"little\"}],[\"y\",{\"type\":\"ndarray\",\"array\":{\"type\":\"bytes\",\"data\":\"je21oPfGsD55sw9Sbl+2PjiXhuOm1b0+ZmRJe3zkwz6Uz1+H8IbKPhkttIXur9E+n0qHEBiW1z55rcSB7XPfPvFo44i1+OQ+V6CT5kn36z6DHjROiKXyPoC9G5qb3fg+veGbVFaUAD9fOCEn6hsGP0YdqRSeew0/bOwacXSoEz8tQxzr4jYaPzZEHDCOeiE/IybBYepOJz/grKKAAhUvPyzawulruTQ/d4bpsOSiOz9MsunMQm1CP4enYY2Rkkg//Knx0k1iUD9EVSO8MdlVP6xvMfqkIl0/DKxlkCFtYz+3kDPkxudpPwv0ke7ORXE/3x4kgJMIdz9oEbrwNbd+P3sUrkfheoQ/lSosK35Piz/M5V4cpzWSPw8Xf/RpSJg/cjqgTtwwoD8NcTaqQpelP5cmLWC4yqw/4Up0toEysz+amZmZmZm5P52a+9quEcE/P5924xDDxj/S3J5xhFrOPw9JSGITPdQ/UA3EVBP92j8eOBw8s/7hP5pdESQi/+c/AAAAAAAA8D9EgbqRGlb1Pw5HVBzVc/w/A0oDx5L4AkBTW9o6WEwJQFKI+hQs3hBAJkYjC2B+FkAAtRWt6v4dQAAAAAAAACRAlSEpNqGrKkBprLQxZcgxQIQcxHi3tjdAJ/KQSW6fP0A=\"},\"shape\":[61],\"dtype\":\"float64\",\"order\":\"little\"}]]}}},\"view\":{\"type\":\"object\",\"name\":\"CDSView\",\"id\":\"p1637\",\"attributes\":{\"filter\":{\"type\":\"object\",\"name\":\"AllIndices\",\"id\":\"p1638\"}}},\"glyph\":{\"type\":\"object\",\"name\":\"Line\",\"id\":\"p1633\",\"attributes\":{\"x\":{\"type\":\"field\",\"field\":\"x\"},\"y\":{\"type\":\"field\",\"field\":\"y\"},\"line_color\":\"#430F75\"}},\"nonselection_glyph\":{\"type\":\"object\",\"name\":\"Line\",\"id\":\"p1634\",\"attributes\":{\"x\":{\"type\":\"field\",\"field\":\"x\"},\"y\":{\"type\":\"field\",\"field\":\"y\"},\"line_color\":\"#430F75\",\"line_alpha\":0.1}},\"muted_glyph\":{\"type\":\"object\",\"name\":\"Line\",\"id\":\"p1635\",\"attributes\":{\"x\":{\"type\":\"field\",\"field\":\"x\"},\"y\":{\"type\":\"field\",\"field\":\"y\"},\"line_color\":\"#430F75\",\"line_alpha\":0.2}}}},{\"type\":\"object\",\"name\":\"GlyphRenderer\",\"id\":\"p1645\",\"attributes\":{\"data_source\":{\"type\":\"object\",\"name\":\"ColumnDataSource\",\"id\":\"p1639\",\"attributes\":{\"selected\":{\"type\":\"object\",\"name\":\"Selection\",\"id\":\"p1641\",\"attributes\":{\"indices\":[],\"line_indices\":[]}},\"selection_policy\":{\"type\":\"object\",\"name\":\"UnionRenderers\",\"id\":\"p1640\"},\"data\":{\"type\":\"map\",\"entries\":[[\"x\",{\"type\":\"ndarray\",\"array\":{\"type\":\"bytes\",\"data\":\"uqXYlN9gfkA+RwYv5WB+QFMts7HsYH5AyWME4/ZgfkDm0cJWBGF+QOC/FA4WYX5AM9QLzi1hfkB5QxQJTmF+QJMORZJ4YX5AnX1WlrBhfkAZfQKt+2F+QK3kOJFhYn5AgeBVBehifkDVz2QOmWN+QFmlJlGGZH5AOYy5KshlfkB+5ri1cGd+QFKCcm6faX5AU5HqsotsfkBGvxm9gXB+QCNBHLm5dX5AgQrGPZV8fkAJzj0uv4V+QC17T50gkn5A7sCJ12CifkBwSie0obd+QPnUBl7Y035Am9wSPJ35fkDgHgojpyp/QEyS7KLraX9ANWtdd128f0ArUMjqBRSAQNPyNJ4BWIBAS32YsN2sgED9IFxg6RaBQLffqcOJmoFAJdAU30g4gkAVkeSEe/KCQBe+0/EBzYNA7o1OabzKhEDZ3JGJJOmFQE3SmdlrKIdAfiJAH0qKiEDLr5QpGA+KQKkPJo39sYtA2LxE1NlwjUCHdclq+kmPQJ40aOSInJBAYaPdKcaakUD2nvo1yZuSQJP4ItYYmpNAzQUjc/2NlEAf4S7TpHCVQHnuJTGNOpZA50YusGfilkAsNRERJWGXQPD82xAGupdAGTnCgpnxl0A8l77l1A+YQEvp2zCgIJhAmQH9KXMumEA=\"},\"shape\":[61],\"dtype\":\"float64\",\"order\":\"little\"}],[\"y\",{\"type\":\"ndarray\",\"array\":{\"type\":\"bytes\",\"data\":\"je21oPfGsD55sw9Sbl+2PjiXhuOm1b0+ZmRJe3zkwz6Uz1+H8IbKPhkttIXur9E+n0qHEBiW1z55rcSB7XPfPvFo44i1+OQ+V6CT5kn36z6DHjROiKXyPoC9G5qb3fg+veGbVFaUAD9fOCEn6hsGP0YdqRSeew0/bOwacXSoEz8tQxzr4jYaPzZEHDCOeiE/IybBYepOJz/grKKAAhUvPyzawulruTQ/d4bpsOSiOz9MsunMQm1CP4enYY2Rkkg//Knx0k1iUD9EVSO8MdlVP6xvMfqkIl0/DKxlkCFtYz+3kDPkxudpPwv0ke7ORXE/3x4kgJMIdz9oEbrwNbd+P3sUrkfheoQ/lSosK35Piz/M5V4cpzWSPw8Xf/RpSJg/cjqgTtwwoD8NcTaqQpelP5cmLWC4yqw/4Up0toEysz+amZmZmZm5P52a+9quEcE/P5924xDDxj/S3J5xhFrOPw9JSGITPdQ/UA3EVBP92j8eOBw8s/7hP5pdESQi/+c/AAAAAAAA8D9EgbqRGlb1Pw5HVBzVc/w/A0oDx5L4AkBTW9o6WEwJQFKI+hQs3hBAJkYjC2B+FkAAtRWt6v4dQAAAAAAAACRAlSEpNqGrKkBprLQxZcgxQIQcxHi3tjdAJ/KQSW6fP0A=\"},\"shape\":[61],\"dtype\":\"float64\",\"order\":\"little\"}]]}}},\"view\":{\"type\":\"object\",\"name\":\"CDSView\",\"id\":\"p1646\",\"attributes\":{\"filter\":{\"type\":\"object\",\"name\":\"AllIndices\",\"id\":\"p1647\"}}},\"glyph\":{\"type\":\"object\",\"name\":\"Line\",\"id\":\"p1642\",\"attributes\":{\"x\":{\"type\":\"field\",\"field\":\"x\"},\"y\":{\"type\":\"field\",\"field\":\"y\"},\"line_color\":\"#711F81\"}},\"nonselection_glyph\":{\"type\":\"object\",\"name\":\"Line\",\"id\":\"p1643\",\"attributes\":{\"x\":{\"type\":\"field\",\"field\":\"x\"},\"y\":{\"type\":\"field\",\"field\":\"y\"},\"line_color\":\"#711F81\",\"line_alpha\":0.1}},\"muted_glyph\":{\"type\":\"object\",\"name\":\"Line\",\"id\":\"p1644\",\"attributes\":{\"x\":{\"type\":\"field\",\"field\":\"x\"},\"y\":{\"type\":\"field\",\"field\":\"y\"},\"line_color\":\"#711F81\",\"line_alpha\":0.2}}}},{\"type\":\"object\",\"name\":\"GlyphRenderer\",\"id\":\"p1654\",\"attributes\":{\"data_source\":{\"type\":\"object\",\"name\":\"ColumnDataSource\",\"id\":\"p1648\",\"attributes\":{\"selected\":{\"type\":\"object\",\"name\":\"Selection\",\"id\":\"p1650\",\"attributes\":{\"indices\":[],\"line_indices\":[]}},\"selection_policy\":{\"type\":\"object\",\"name\":\"UnionRenderers\",\"id\":\"p1649\"},\"data\":{\"type\":\"map\",\"entries\":[[\"x\",{\"type\":\"ndarray\",\"array\":{\"type\":\"bytes\",\"data\":\"bh87phhnfkCxZJtBHmd+QINY48UlZ35ACV5i+S9nfkAh7wBwPWd+QLZEHCtPZ35AGNEm8GZnfkD7mhIyh2d+QPZlWsSxZ35AOhFk1OlnfkCHVRv7NGh+QK2uFvWaaH5ApxnthSFpfkA6s8200ml+QNTtPSrAan5Ahb+PSAJsfkBkBzwuq21+QLGTSV7ab35AhQyPQsdyfkCQ7EslvnZ+QPVZmz73e35AkBEpOtSCfkDRuJwfAIx+QOcRkDNkmH5Au4ha5qeofkBiJzlN7b1+QDCrVP4p2n5A7eMH7/b/fkB3z5RSCzF/QAbbPVxdcH9AiFxZ2eDCf0D95zwoUxeAQK+4h3ddW4BA6++X0UuwgEAnoWlubhqBQKXox2wrnoFA66wYCg08gkAjUHbFaPaCQO273wMg0YNA6CadKhTPhEABS/fNvu2FQN01H1BSLYdAedkLTIiPiEDM2NLUuxSKQMEXvmoVuItApja7ZXd3jUChQWCxNFGPQJhoccODoJBAINTEBTGfkUCugkfnu6CSQENU27W1n5NAXOzyn3aUlEDsFAFtOniVQG0JcRSYQ5ZAcoynXW7tlkDvynvo8W6XQLVp1yCcy5dAFaEELFQImECEfxMInS2YQJ6jSjsMSJhArBG1e4BimEA=\"},\"shape\":[61],\"dtype\":\"float64\",\"order\":\"little\"}],[\"y\",{\"type\":\"ndarray\",\"array\":{\"type\":\"bytes\",\"data\":\"je21oPfGsD55sw9Sbl+2PjiXhuOm1b0+ZmRJe3zkwz6Uz1+H8IbKPhkttIXur9E+n0qHEBiW1z55rcSB7XPfPvFo44i1+OQ+V6CT5kn36z6DHjROiKXyPoC9G5qb3fg+veGbVFaUAD9fOCEn6hsGP0YdqRSeew0/bOwacXSoEz8tQxzr4jYaPzZEHDCOeiE/IybBYepOJz/grKKAAhUvPyzawulruTQ/d4bpsOSiOz9MsunMQm1CP4enYY2Rkkg//Knx0k1iUD9EVSO8MdlVP6xvMfqkIl0/DKxlkCFtYz+3kDPkxudpPwv0ke7ORXE/3x4kgJMIdz9oEbrwNbd+P3sUrkfheoQ/lSosK35Piz/M5V4cpzWSPw8Xf/RpSJg/cjqgTtwwoD8NcTaqQpelP5cmLWC4yqw/4Up0toEysz+amZmZmZm5P52a+9quEcE/P5924xDDxj/S3J5xhFrOPw9JSGITPdQ/UA3EVBP92j8eOBw8s/7hP5pdESQi/+c/AAAAAAAA8D9EgbqRGlb1Pw5HVBzVc/w/A0oDx5L4AkBTW9o6WEwJQFKI+hQs3hBAJkYjC2B+FkAAtRWt6v4dQAAAAAAAACRAlSEpNqGrKkBprLQxZcgxQIQcxHi3tjdAJ/KQSW6fP0A=\"},\"shape\":[61],\"dtype\":\"float64\",\"order\":\"little\"}]]}}},\"view\":{\"type\":\"object\",\"name\":\"CDSView\",\"id\":\"p1655\",\"attributes\":{\"filter\":{\"type\":\"object\",\"name\":\"AllIndices\",\"id\":\"p1656\"}}},\"glyph\":{\"type\":\"object\",\"name\":\"Line\",\"id\":\"p1651\",\"attributes\":{\"x\":{\"type\":\"field\",\"field\":\"x\"},\"y\":{\"type\":\"field\",\"field\":\"y\"},\"line_color\":\"#9E2E7E\"}},\"nonselection_glyph\":{\"type\":\"object\",\"name\":\"Line\",\"id\":\"p1652\",\"attributes\":{\"x\":{\"type\":\"field\",\"field\":\"x\"},\"y\":{\"type\":\"field\",\"field\":\"y\"},\"line_color\":\"#9E2E7E\",\"line_alpha\":0.1}},\"muted_glyph\":{\"type\":\"object\",\"name\":\"Line\",\"id\":\"p1653\",\"attributes\":{\"x\":{\"type\":\"field\",\"field\":\"x\"},\"y\":{\"type\":\"field\",\"field\":\"y\"},\"line_color\":\"#9E2E7E\",\"line_alpha\":0.2}}}},{\"type\":\"object\",\"name\":\"GlyphRenderer\",\"id\":\"p1663\",\"attributes\":{\"data_source\":{\"type\":\"object\",\"name\":\"ColumnDataSource\",\"id\":\"p1657\",\"attributes\":{\"selected\":{\"type\":\"object\",\"name\":\"Selection\",\"id\":\"p1659\",\"attributes\":{\"indices\":[],\"line_indices\":[]}},\"selection_policy\":{\"type\":\"object\",\"name\":\"UnionRenderers\",\"id\":\"p1658\"},\"data\":{\"type\":\"map\",\"entries\":[[\"x\",{\"type\":\"ndarray\",\"array\":{\"type\":\"bytes\",\"data\":\"sr0Z3XxxfkCx/Xl6gnF+QOFBcAGKcX5AT5+SOJRxfkDnRv6zoXF+QLwsbHWzcX5AumDwQstxfkCZWFyQ63F+QLBo0TEWcn5A6EXXVU5yfkBXPFiXmXJ+QKJxrLX/cn5Av4R4doZzfkCHG37kN3R+QAcJja4ldX5AouSmP2h2fkCLp7i8EXh+QN2YArRBen5AgoQYoy99fkCyA2fvJ4F+QH+jEOVihn5A2AaOUkKNfkClnXl8cZZ+QHPhlPrZon5AC2f2eCOzfkCyumN0cMh+QP/hJza35H5A7KBvoZEKf0B7gEmHtzt/QCYYjCsge39AkxWFJMHNf0C5UASW1hyAQMTtdUn5YIBAmc+7KAa2gEB6gXIMTyCBQAqMGs07pIFA6lfUBldCgkADiglZ9/yCQOnp7BYA2INABKgBiVTWhECn0DYybvWFQET1huGANYdA5qrtPkmYiED6dmwiJh6KQDaJbJJBwotA2QwHj4KCjUDifLYmRV2PQAd17zgop5BARmEKDZCmkUC359wZ/aiSQD650g0SqZNAALFHIUGflEAOCyAa3YSVQD6QDXylUpZAfZ4mj8P/lkBXDRPE2YWXQO+69Se76JdAEVK3+NgtmEADcMS9jl6YQCAZnOtviJhA+HMzYNy2mEA=\"},\"shape\":[61],\"dtype\":\"float64\",\"order\":\"little\"}],[\"y\",{\"type\":\"ndarray\",\"array\":{\"type\":\"bytes\",\"data\":\"je21oPfGsD55sw9Sbl+2PjiXhuOm1b0+ZmRJe3zkwz6Uz1+H8IbKPhkttIXur9E+n0qHEBiW1z55rcSB7XPfPvFo44i1+OQ+V6CT5kn36z6DHjROiKXyPoC9G5qb3fg+veGbVFaUAD9fOCEn6hsGP0YdqRSeew0/bOwacXSoEz8tQxzr4jYaPzZEHDCOeiE/IybBYepOJz/grKKAAhUvPyzawulruTQ/d4bpsOSiOz9MsunMQm1CP4enYY2Rkkg//Knx0k1iUD9EVSO8MdlVP6xvMfqkIl0/DKxlkCFtYz+3kDPkxudpPwv0ke7ORXE/3x4kgJMIdz9oEbrwNbd+P3sUrkfheoQ/lSosK35Piz/M5V4cpzWSPw8Xf/RpSJg/cjqgTtwwoD8NcTaqQpelP5cmLWC4yqw/4Up0toEysz+amZmZmZm5P52a+9quEcE/P5924xDDxj/S3J5xhFrOPw9JSGITPdQ/UA3EVBP92j8eOBw8s/7hP5pdESQi/+c/AAAAAAAA8D9EgbqRGlb1Pw5HVBzVc/w/A0oDx5L4AkBTW9o6WEwJQFKI+hQs3hBAJkYjC2B+FkAAtRWt6v4dQAAAAAAAACRAlSEpNqGrKkBprLQxZcgxQIQcxHi3tjdAJ/KQSW6fP0A=\"},\"shape\":[61],\"dtype\":\"float64\",\"order\":\"little\"}]]}}},\"view\":{\"type\":\"object\",\"name\":\"CDSView\",\"id\":\"p1664\",\"attributes\":{\"filter\":{\"type\":\"object\",\"name\":\"AllIndices\",\"id\":\"p1665\"}}},\"glyph\":{\"type\":\"object\",\"name\":\"Line\",\"id\":\"p1660\",\"attributes\":{\"x\":{\"type\":\"field\",\"field\":\"x\"},\"y\":{\"type\":\"field\",\"field\":\"y\"},\"line_color\":\"#CB3E71\"}},\"nonselection_glyph\":{\"type\":\"object\",\"name\":\"Line\",\"id\":\"p1661\",\"attributes\":{\"x\":{\"type\":\"field\",\"field\":\"x\"},\"y\":{\"type\":\"field\",\"field\":\"y\"},\"line_color\":\"#CB3E71\",\"line_alpha\":0.1}},\"muted_glyph\":{\"type\":\"object\",\"name\":\"Line\",\"id\":\"p1662\",\"attributes\":{\"x\":{\"type\":\"field\",\"field\":\"x\"},\"y\":{\"type\":\"field\",\"field\":\"y\"},\"line_color\":\"#CB3E71\",\"line_alpha\":0.2}}}},{\"type\":\"object\",\"name\":\"GlyphRenderer\",\"id\":\"p1672\",\"attributes\":{\"data_source\":{\"type\":\"object\",\"name\":\"ColumnDataSource\",\"id\":\"p1666\",\"attributes\":{\"selected\":{\"type\":\"object\",\"name\":\"Selection\",\"id\":\"p1668\",\"attributes\":{\"indices\":[],\"line_indices\":[]}},\"selection_policy\":{\"type\":\"object\",\"name\":\"UnionRenderers\",\"id\":\"p1667\"},\"data\":{\"type\":\"map\",\"entries\":[[\"x\",{\"type\":\"ndarray\",\"array\":{\"type\":\"bytes\",\"data\":\"U3ir94uBfkBrxCKYkYF+QP1wPSOZgX5Ays3+X6OBfkC9ftXisIF+QEszCK7CgX5A/LCkiNqBfkC9ptXn+oF+QHHEvaAlgn5AtpCk412CfkBvOYlOqYJ+QIIzBqUPg35AwEPsr5aDfkAZGYJ/SIR+QGyyT8w2hX5APFrCDnqGfkDsrb91JIh+QM6336BVin5AK801LEWNfkDm3yunP5F+QInC1nx9ln5ARxd0sWCdfkBl6MnnlKZ+QM3pFDgEs35AkdG7qlbDfkDxgntcr9h+QKoTZasF9X5AtjkX6vQaf0D/7G3dNUx/QB0iY27Bi39AISZH9Y/ef0BJrBDJWyWAQACh8yukaYBAwcfFMuC+gEAGga45ZCmBQKNJV8OarYFA1tDh/Q5MgkDOCJVFGQeDQDMhGuif4oNAGXrLFonhhEC2dgA4TgGGQMVVX0slQodA7nYqqs+liEATc7T2sSyKQBeQuYn40YtAN8S6hpGTjUBJJeb95m+PQEwdGd5psZBApeH99fCxkUAHS6nwubWSQHL2ffSBt5NA1StJv+KvlEAzVGevUZiVQNLsOCPLaZZAk9EHeOcbl0Ao7k+Y6qiXQDbwtpImFZhAtiS188xmmEDHlPrEXKiYQJvN/BSn6JhAH2v/OoEzmUA=\"},\"shape\":[61],\"dtype\":\"float64\",\"order\":\"little\"}],[\"y\",{\"type\":\"ndarray\",\"array\":{\"type\":\"bytes\",\"data\":\"je21oPfGsD55sw9Sbl+2PjiXhuOm1b0+ZmRJe3zkwz6Uz1+H8IbKPhkttIXur9E+n0qHEBiW1z55rcSB7XPfPvFo44i1+OQ+V6CT5kn36z6DHjROiKXyPoC9G5qb3fg+veGbVFaUAD9fOCEn6hsGP0YdqRSeew0/bOwacXSoEz8tQxzr4jYaPzZEHDCOeiE/IybBYepOJz/grKKAAhUvPyzawulruTQ/d4bpsOSiOz9MsunMQm1CP4enYY2Rkkg//Knx0k1iUD9EVSO8MdlVP6xvMfqkIl0/DKxlkCFtYz+3kDPkxudpPwv0ke7ORXE/3x4kgJMIdz9oEbrwNbd+P3sUrkfheoQ/lSosK35Piz/M5V4cpzWSPw8Xf/RpSJg/cjqgTtwwoD8NcTaqQpelP5cmLWC4yqw/4Up0toEysz+amZmZmZm5P52a+9quEcE/P5924xDDxj/S3J5xhFrOPw9JSGITPdQ/UA3EVBP92j8eOBw8s/7hP5pdESQi/+c/AAAAAAAA8D9EgbqRGlb1Pw5HVBzVc/w/A0oDx5L4AkBTW9o6WEwJQFKI+hQs3hBAJkYjC2B+FkAAtRWt6v4dQAAAAAAAACRAlSEpNqGrKkBprLQxZcgxQIQcxHi3tjdAJ/KQSW6fP0A=\"},\"shape\":[61],\"dtype\":\"float64\",\"order\":\"little\"}]]}}},\"view\":{\"type\":\"object\",\"name\":\"CDSView\",\"id\":\"p1673\",\"attributes\":{\"filter\":{\"type\":\"object\",\"name\":\"AllIndices\",\"id\":\"p1674\"}}},\"glyph\":{\"type\":\"object\",\"name\":\"Line\",\"id\":\"p1669\",\"attributes\":{\"x\":{\"type\":\"field\",\"field\":\"x\"},\"y\":{\"type\":\"field\",\"field\":\"y\"},\"line_color\":\"#F0605D\"}},\"nonselection_glyph\":{\"type\":\"object\",\"name\":\"Line\",\"id\":\"p1670\",\"attributes\":{\"x\":{\"type\":\"field\",\"field\":\"x\"},\"y\":{\"type\":\"field\",\"field\":\"y\"},\"line_color\":\"#F0605D\",\"line_alpha\":0.1}},\"muted_glyph\":{\"type\":\"object\",\"name\":\"Line\",\"id\":\"p1671\",\"attributes\":{\"x\":{\"type\":\"field\",\"field\":\"x\"},\"y\":{\"type\":\"field\",\"field\":\"y\"},\"line_color\":\"#F0605D\",\"line_alpha\":0.2}}}},{\"type\":\"object\",\"name\":\"GlyphRenderer\",\"id\":\"p1681\",\"attributes\":{\"data_source\":{\"type\":\"object\",\"name\":\"ColumnDataSource\",\"id\":\"p1675\",\"attributes\":{\"selected\":{\"type\":\"object\",\"name\":\"Selection\",\"id\":\"p1677\",\"attributes\":{\"indices\":[],\"line_indices\":[]}},\"selection_policy\":{\"type\":\"object\",\"name\":\"UnionRenderers\",\"id\":\"p1676\"},\"data\":{\"type\":\"map\",\"entries\":[[\"x\",{\"type\":\"ndarray\",\"array\":{\"type\":\"bytes\",\"data\":\"Dyn0m/KYfkDezOtA+Jh+QBo0D9L/mH5Ax8wAFwqZfkBK4aWkF5l+QHeYE34pmX5AvHrDa0GZfkCXHdfkYZl+QDgY6L+MmX5AgkzKL8WZfkDMGvrWEJp+QMZERn93mn5AsKYe9v6afkCzXdRTsZt+QEYJGF+gnH5Ae+Pjo+SdfkAgFqRfkJ9+QERFNEvDoX5A2lsVL7WkfkBYV9zXsqh+QO+/st30rX5AR0Iqk920fkDFaDckGb5+QDa9QGSSyn5ARXsm4vHafkDaRqyjW/B+QCl1EZrIDH9A6qQ2L9Yyf0CjZhqLPmR/QEiFKfz8o39AtjgX3w33f0Bf0rMjxjGAQG8PyGtFdoBAI/ycIsbLgEBOzG9NoDaBQLCH9k9Cu4FAxIs+LDhagkDGFFPF3BWDQFrlKb0a8oNAnmpOftzxhEBr15tBmxKGQPbnHzGQVIdAS7NWcIO5iEBve4z+4UGKQEc7LYTb6ItAAUSKa2isjUAI5TfwBouPQKO3BBhXwJBALKk0hH7CkUAkCIMWP8iSQGHVFLZ7zJNAxZ1HNAbIlEBy13NjhLSVQMqgY49Hi5ZA73hto4FEl0DTltdAUduXQAr2Cw+rVJhAGDODurC3mEB47QaHOxCZQJlZ/AZsbplA4Z77eUfemUA=\"},\"shape\":[61],\"dtype\":\"float64\",\"order\":\"little\"}],[\"y\",{\"type\":\"ndarray\",\"array\":{\"type\":\"bytes\",\"data\":\"je21oPfGsD55sw9Sbl+2PjiXhuOm1b0+ZmRJe3zkwz6Uz1+H8IbKPhkttIXur9E+n0qHEBiW1z55rcSB7XPfPvFo44i1+OQ+V6CT5kn36z6DHjROiKXyPoC9G5qb3fg+veGbVFaUAD9fOCEn6hsGP0YdqRSeew0/bOwacXSoEz8tQxzr4jYaPzZEHDCOeiE/IybBYepOJz/grKKAAhUvPyzawulruTQ/d4bpsOSiOz9MsunMQm1CP4enYY2Rkkg//Knx0k1iUD9EVSO8MdlVP6xvMfqkIl0/DKxlkCFtYz+3kDPkxudpPwv0ke7ORXE/3x4kgJMIdz9oEbrwNbd+P3sUrkfheoQ/lSosK35Piz/M5V4cpzWSPw8Xf/RpSJg/cjqgTtwwoD8NcTaqQpelP5cmLWC4yqw/4Up0toEysz+amZmZmZm5P52a+9quEcE/P5924xDDxj/S3J5xhFrOPw9JSGITPdQ/UA3EVBP92j8eOBw8s/7hP5pdESQi/+c/AAAAAAAA8D9EgbqRGlb1Pw5HVBzVc/w/A0oDx5L4AkBTW9o6WEwJQFKI+hQs3hBAJkYjC2B+FkAAtRWt6v4dQAAAAAAAACRAlSEpNqGrKkBprLQxZcgxQIQcxHi3tjdAJ/KQSW6fP0A=\"},\"shape\":[61],\"dtype\":\"float64\",\"order\":\"little\"}]]}}},\"view\":{\"type\":\"object\",\"name\":\"CDSView\",\"id\":\"p1682\",\"attributes\":{\"filter\":{\"type\":\"object\",\"name\":\"AllIndices\",\"id\":\"p1683\"}}},\"glyph\":{\"type\":\"object\",\"name\":\"Line\",\"id\":\"p1678\",\"attributes\":{\"x\":{\"type\":\"field\",\"field\":\"x\"},\"y\":{\"type\":\"field\",\"field\":\"y\"},\"line_color\":\"#FC9366\"}},\"nonselection_glyph\":{\"type\":\"object\",\"name\":\"Line\",\"id\":\"p1679\",\"attributes\":{\"x\":{\"type\":\"field\",\"field\":\"x\"},\"y\":{\"type\":\"field\",\"field\":\"y\"},\"line_color\":\"#FC9366\",\"line_alpha\":0.1}},\"muted_glyph\":{\"type\":\"object\",\"name\":\"Line\",\"id\":\"p1680\",\"attributes\":{\"x\":{\"type\":\"field\",\"field\":\"x\"},\"y\":{\"type\":\"field\",\"field\":\"y\"},\"line_color\":\"#FC9366\",\"line_alpha\":0.2}}}},{\"type\":\"object\",\"name\":\"GlyphRenderer\",\"id\":\"p1690\",\"attributes\":{\"data_source\":{\"type\":\"object\",\"name\":\"ColumnDataSource\",\"id\":\"p1684\",\"attributes\":{\"selected\":{\"type\":\"object\",\"name\":\"Selection\",\"id\":\"p1686\",\"attributes\":{\"indices\":[],\"line_indices\":[]}},\"selection_policy\":{\"type\":\"object\",\"name\":\"UnionRenderers\",\"id\":\"p1685\"},\"data\":{\"type\":\"map\",\"entries\":[[\"x\",{\"type\":\"ndarray\",\"array\":{\"type\":\"bytes\",\"data\":\"SGgl+H25fkDO8V6jg7l+QEK25TyLuX5AnlU5jZW5fkDUCuQpo7l+QLQAGhe1uX5A5GxOH825fkBM/l287bl+QPt268YYun5AJZZVdVG6fkCqRlZwnbp+QO0+XIoEu35AGAVEl4y7fkDbN4y6P7x+QO0zlM4vvX5A08ODenW+fkAjYfgPI8B+QMuQ7GpYwn5ALSCkkU3FfkCeUbylT8l+QGjcCX6Xzn5AGIIB2ofVfkDWPUukzd5+QJYLfLRU635AYZpjVMb7fkDFWrTNRxF/QMYTJELULX9AirKgAwxUf0DMk80nq4V/QB5LylGwxX9A17XbuY4MgEBhHGBBCkOAQEiPFNjVh4BAMU/vCLbdgEAbURnvB0mBQF9Pb1E/zoFAG/8YV+ltgkCALbtjZCqDQJkOThmhB4RAL7XnuY8IhUBan7o3qSqGQDg+GxcrbodA/jgy1ebUiEAvEwHuVF+KQNtKcIGpCIxAxBHEBuvOjUBC0M9Ps7CPQD944gsQ1ZBADZypGHbZkUB4zW567OGSQAM51QyJ6ZNAQreAxGjplEBtJzYycduVQLheetZiuZZAQe9tEzZ8l0A6kGlZHCCYQNMJqVzGqphAwjvmT2IkmUBoLtH3MZqZQEU9MhZ2HZpA7exFo+e5mkA=\"},\"shape\":[61],\"dtype\":\"float64\",\"order\":\"little\"}],[\"y\",{\"type\":\"ndarray\",\"array\":{\"type\":\"bytes\",\"data\":\"je21oPfGsD55sw9Sbl+2PjiXhuOm1b0+ZmRJe3zkwz6Uz1+H8IbKPhkttIXur9E+n0qHEBiW1z55rcSB7XPfPvFo44i1+OQ+V6CT5kn36z6DHjROiKXyPoC9G5qb3fg+veGbVFaUAD9fOCEn6hsGP0YdqRSeew0/bOwacXSoEz8tQxzr4jYaPzZEHDCOeiE/IybBYepOJz/grKKAAhUvPyzawulruTQ/d4bpsOSiOz9MsunMQm1CP4enYY2Rkkg//Knx0k1iUD9EVSO8MdlVP6xvMfqkIl0/DKxlkCFtYz+3kDPkxudpPwv0ke7ORXE/3x4kgJMIdz9oEbrwNbd+P3sUrkfheoQ/lSosK35Piz/M5V4cpzWSPw8Xf/RpSJg/cjqgTtwwoD8NcTaqQpelP5cmLWC4yqw/4Up0toEysz+amZmZmZm5P52a+9quEcE/P5924xDDxj/S3J5xhFrOPw9JSGITPdQ/UA3EVBP92j8eOBw8s/7hP5pdESQi/+c/AAAAAAAA8D9EgbqRGlb1Pw5HVBzVc/w/A0oDx5L4AkBTW9o6WEwJQFKI+hQs3hBAJkYjC2B+FkAAtRWt6v4dQAAAAAAAACRAlSEpNqGrKkBprLQxZcgxQIQcxHi3tjdAJ/KQSW6fP0A=\"},\"shape\":[61],\"dtype\":\"float64\",\"order\":\"little\"}]]}}},\"view\":{\"type\":\"object\",\"name\":\"CDSView\",\"id\":\"p1691\",\"attributes\":{\"filter\":{\"type\":\"object\",\"name\":\"AllIndices\",\"id\":\"p1692\"}}},\"glyph\":{\"type\":\"object\",\"name\":\"Line\",\"id\":\"p1687\",\"attributes\":{\"x\":{\"type\":\"field\",\"field\":\"x\"},\"y\":{\"type\":\"field\",\"field\":\"y\"},\"line_color\":\"#FEC78B\"}},\"nonselection_glyph\":{\"type\":\"object\",\"name\":\"Line\",\"id\":\"p1688\",\"attributes\":{\"x\":{\"type\":\"field\",\"field\":\"x\"},\"y\":{\"type\":\"field\",\"field\":\"y\"},\"line_color\":\"#FEC78B\",\"line_alpha\":0.1}},\"muted_glyph\":{\"type\":\"object\",\"name\":\"Line\",\"id\":\"p1689\",\"attributes\":{\"x\":{\"type\":\"field\",\"field\":\"x\"},\"y\":{\"type\":\"field\",\"field\":\"y\"},\"line_color\":\"#FEC78B\",\"line_alpha\":0.2}}}},{\"type\":\"object\",\"name\":\"GlyphRenderer\",\"id\":\"p1699\",\"attributes\":{\"data_source\":{\"type\":\"object\",\"name\":\"ColumnDataSource\",\"id\":\"p1693\",\"attributes\":{\"selected\":{\"type\":\"object\",\"name\":\"Selection\",\"id\":\"p1695\",\"attributes\":{\"indices\":[],\"line_indices\":[]}},\"selection_policy\":{\"type\":\"object\",\"name\":\"UnionRenderers\",\"id\":\"p1694\"},\"data\":{\"type\":\"map\",\"entries\":[[\"x\",{\"type\":\"ndarray\",\"array\":{\"type\":\"bytes\",\"data\":\"wHZOOAvlfkD+dObrEOV+QKI3pZAY5X5AhTUy8CLlfkBkQ/SgMOV+QGZrn6hC5X5ACDZL1FrlfkBiV3uhe+V+QPeci+um5X5AxKyX7d/lfkByGrJYLOZ+QN2u0gqU5n5AbqFt4BznfkB8v/QL0ed+QD2RGoLC6H5ADG5gDgrqfkAfomUduut+QJTBHbry7X5AEDpnPezwfkAAwZk69PR+QAZTW9xD+n5AqLbCcz4Bf0BcLYbqkQp/QGgNNnQrF39Al9OlVLUnf0ArOsWGVj1/QC+Y3RkNWn9AEMv0Qn2Af0ApPNarZbJ/QDdG8mvJ8n9A7tZ19lgjgEC5tr8rJVqAQGfcLs9Wn4BA2Rubrrb1gECLtxuxqGGBQD89xM+n54FALZUWt0KIgkArFXN13EWDQN5626ptJIRAQChcXO4mhUD6c3IQ10qGQDpU6QdrkIdAj1gVGYj5iEChMxLetYaKQLKlcjIuM4xADFDu7Qn9jUC9HEL8BuOPQBbO6ra68JBAVfzEBhr4kUBKq09bJQSTQHeL/RM0EJRAGFTI08IVlUB/qHlbBg+WQPIsCodI9pZAVNv6v3LFl0D+z9H693mYQCO3EA9MGplAqCnaEaivmUBNKtdtkUiaQGrU+Qv89ppAYf3RF8HFm0A=\"},\"shape\":[61],\"dtype\":\"float64\",\"order\":\"little\"}],[\"y\",{\"type\":\"ndarray\",\"array\":{\"type\":\"bytes\",\"data\":\"je21oPfGsD55sw9Sbl+2PjiXhuOm1b0+ZmRJe3zkwz6Uz1+H8IbKPhkttIXur9E+n0qHEBiW1z55rcSB7XPfPvFo44i1+OQ+V6CT5kn36z6DHjROiKXyPoC9G5qb3fg+veGbVFaUAD9fOCEn6hsGP0YdqRSeew0/bOwacXSoEz8tQxzr4jYaPzZEHDCOeiE/IybBYepOJz/grKKAAhUvPyzawulruTQ/d4bpsOSiOz9MsunMQm1CP4enYY2Rkkg//Knx0k1iUD9EVSO8MdlVP6xvMfqkIl0/DKxlkCFtYz+3kDPkxudpPwv0ke7ORXE/3x4kgJMIdz9oEbrwNbd+P3sUrkfheoQ/lSosK35Piz/M5V4cpzWSPw8Xf/RpSJg/cjqgTtwwoD8NcTaqQpelP5cmLWC4yqw/4Up0toEysz+amZmZmZm5P52a+9quEcE/P5924xDDxj/S3J5xhFrOPw9JSGITPdQ/UA3EVBP92j8eOBw8s/7hP5pdESQi/+c/AAAAAAAA8D9EgbqRGlb1Pw5HVBzVc/w/A0oDx5L4AkBTW9o6WEwJQFKI+hQs3hBAJkYjC2B+FkAAtRWt6v4dQAAAAAAAACRAlSEpNqGrKkBprLQxZcgxQIQcxHi3tjdAJ/KQSW6fP0A=\"},\"shape\":[61],\"dtype\":\"float64\",\"order\":\"little\"}]]}}},\"view\":{\"type\":\"object\",\"name\":\"CDSView\",\"id\":\"p1700\",\"attributes\":{\"filter\":{\"type\":\"object\",\"name\":\"AllIndices\",\"id\":\"p1701\"}}},\"glyph\":{\"type\":\"object\",\"name\":\"Line\",\"id\":\"p1696\",\"attributes\":{\"x\":{\"type\":\"field\",\"field\":\"x\"},\"y\":{\"type\":\"field\",\"field\":\"y\"},\"line_color\":\"#FBFCBF\"}},\"nonselection_glyph\":{\"type\":\"object\",\"name\":\"Line\",\"id\":\"p1697\",\"attributes\":{\"x\":{\"type\":\"field\",\"field\":\"x\"},\"y\":{\"type\":\"field\",\"field\":\"y\"},\"line_color\":\"#FBFCBF\",\"line_alpha\":0.1}},\"muted_glyph\":{\"type\":\"object\",\"name\":\"Line\",\"id\":\"p1698\",\"attributes\":{\"x\":{\"type\":\"field\",\"field\":\"x\"},\"y\":{\"type\":\"field\",\"field\":\"y\"},\"line_color\":\"#FBFCBF\",\"line_alpha\":0.2}}}}],\"toolbar\":{\"type\":\"object\",\"name\":\"Toolbar\",\"id\":\"p1574\",\"attributes\":{\"tools\":[{\"type\":\"object\",\"name\":\"PanTool\",\"id\":\"p1597\"},{\"type\":\"object\",\"name\":\"WheelZoomTool\",\"id\":\"p1598\"},{\"type\":\"object\",\"name\":\"BoxZoomTool\",\"id\":\"p1599\",\"attributes\":{\"overlay\":{\"type\":\"object\",\"name\":\"BoxAnnotation\",\"id\":\"p1600\",\"attributes\":{\"syncable\":false,\"level\":\"overlay\",\"visible\":false,\"left_units\":\"canvas\",\"right_units\":\"canvas\",\"bottom_units\":\"canvas\",\"top_units\":\"canvas\",\"line_color\":\"black\",\"line_alpha\":1.0,\"line_width\":2,\"line_dash\":[4,4],\"fill_color\":\"lightgrey\",\"fill_alpha\":0.5}}}},{\"type\":\"object\",\"name\":\"SaveTool\",\"id\":\"p1601\"},{\"type\":\"object\",\"name\":\"ResetTool\",\"id\":\"p1602\"},{\"type\":\"object\",\"name\":\"HelpTool\",\"id\":\"p1603\"}]}},\"left\":[{\"type\":\"object\",\"name\":\"LogAxis\",\"id\":\"p1590\",\"attributes\":{\"ticker\":{\"type\":\"object\",\"name\":\"LogTicker\",\"id\":\"p1591\",\"attributes\":{\"num_minor_ticks\":10,\"mantissas\":[1,5]}},\"formatter\":{\"type\":\"object\",\"name\":\"LogTickFormatter\",\"id\":\"p1593\"},\"major_label_policy\":{\"type\":\"object\",\"name\":\"AllLabels\",\"id\":\"p1592\"}}}],\"below\":[{\"type\":\"object\",\"name\":\"LinearAxis\",\"id\":\"p1583\",\"attributes\":{\"ticker\":{\"type\":\"object\",\"name\":\"BasicTicker\",\"id\":\"p1584\",\"attributes\":{\"mantissas\":[1,2,5]}},\"formatter\":{\"type\":\"object\",\"name\":\"BasicTickFormatter\",\"id\":\"p1586\"},\"axis_label\":\"Temperature (K)\",\"major_label_policy\":{\"type\":\"object\",\"name\":\"AllLabels\",\"id\":\"p1585\"}}}],\"center\":[{\"type\":\"object\",\"name\":\"Grid\",\"id\":\"p1589\",\"attributes\":{\"axis\":{\"id\":\"p1583\"}}},{\"type\":\"object\",\"name\":\"Grid\",\"id\":\"p1596\",\"attributes\":{\"dimension\":1,\"axis\":{\"id\":\"p1590\"}}}]}}]}}]}};\n",
       "  const render_items = [{\"docid\":\"7edd6234-8df7-4be3-a92b-6e2ece810294\",\"roots\":{\"p1702\":\"3ff3634e-92e2-4e2a-b3dd-fade1c8fc315\"},\"root_ids\":[\"p1702\"]}];\n",
       "  root.Bokeh.embed.embed_items_notebook(docs_json, render_items);\n",
       "  }\n",
       "  if (root.Bokeh !== undefined) {\n",
       "    embed_document(root);\n",
       "  } else {\n",
       "    let attempts = 0;\n",
       "    const timer = setInterval(function(root) {\n",
       "      if (root.Bokeh !== undefined) {\n",
       "        clearInterval(timer);\n",
       "        embed_document(root);\n",
       "      } else {\n",
       "        attempts++;\n",
       "        if (attempts > 100) {\n",
       "          clearInterval(timer);\n",
       "          console.log(\"Bokeh: ERROR: Unable to run BokehJS code because BokehJS library is missing\");\n",
       "        }\n",
       "      }\n",
       "    }, 10, root)\n",
       "  }\n",
       "})(window);"
      ],
      "application/vnd.bokehjs_exec.v0+json": ""
     },
     "metadata": {
      "application/vnd.bokehjs_exec.v0+json": {
       "id": "p1702"
      }
     },
     "output_type": "display_data"
    }
   ],
   "source": [
    "fig = [jpi.figure(width=300, height=300, y_axis_type='log', y_range=[100,1e-6],x_range=[400,1700],\n",
    "                  y_axis_label='Pressure(bars)',x_axis_label='Temperature (K)',\n",
    "                 title='Effect of logg1')]\n",
    "colors = jpi.pals.magma(10)\n",
    "for i, logg1 in enumerate(np.linspace(-2,2,10)):\n",
    "    hatp26.guillot_pt(576.17, T_int=100, logg1=logg1, logKir=-1.5)\n",
    "    fig[0].line(hatp26.inputs['atmosphere']['profile']['temperature'],\n",
    "            hatp26.inputs['atmosphere']['profile']['pressure'],color=colors[i])\n",
    "\n",
    "fig += [jpi.figure(width=300, height=300, y_axis_type='log', y_range=[100,1e-6],x_range=[400,1700], \n",
    "                 x_axis_label='Temperature (K)',title='Effect of LogKir')]\n",
    "for i,logKir in enumerate(np.linspace(-2,2,10)):\n",
    "    hatp26.guillot_pt(576.17, T_int=100, logg1=-2, logKir=logKir)\n",
    "    fig[1].line(hatp26.inputs['atmosphere']['profile']['temperature'],\n",
    "            hatp26.inputs['atmosphere']['profile']['pressure'], color=colors[i])\n",
    "        \n",
    "fig += [jpi.figure(width=300, height=300, y_axis_type='log', y_range=[100,1e-6],x_range=[400,1700], \n",
    "                 x_axis_label='Temperature (K)',title='Effect of Tint')]       \n",
    "for i,T_int in enumerate(np.linspace(50,300,10)):\n",
    "    hatp26.guillot_pt(576.17, T_int=T_int, logg1=-2, logKir=-2)\n",
    "    fig[2].line(hatp26.inputs['atmosphere']['profile']['temperature'],\n",
    "            hatp26.inputs['atmosphere']['profile']['pressure'], color=colors[i])\n",
    "\n",
    "jpi.show(jpi.row(fig))\n",
    "                "
   ]
  },
  {
   "cell_type": "markdown",
   "metadata": {},
   "source": [
    "# How do I return the output from photon attenuation plot? "
   ]
  },
  {
   "cell_type": "code",
   "execution_count": 10,
   "metadata": {
    "execution": {
     "iopub.execute_input": "2023-03-23T19:36:28.309827Z",
     "iopub.status.busy": "2023-03-23T19:36:28.309161Z",
     "iopub.status.idle": "2023-03-23T19:36:31.047495Z",
     "shell.execute_reply": "2023-03-23T19:36:31.046487Z"
    }
   },
   "outputs": [],
   "source": [
    "#first isolate the row \n",
    "hatp26_row = nexsci.loc[nexsci['hostname']=='HAT-P-26']\n",
    "\n",
    "#add it to load planet function with opacity\n",
    "opa = jdi.opannection(wave_range=[0.3,1])\n",
    "hatp26 = jdi.load_planet(hatp26_row,opa ,st_metfe=0)\n",
    "co = 1\n",
    "logfeh=2\n",
    "hatp26.chemeq_visscher(co,logfeh)\n",
    "df = hatp26.spectrum(opa, calculation='reflected',full_output=True)"
   ]
  },
  {
   "cell_type": "code",
   "execution_count": 11,
   "metadata": {
    "execution": {
     "iopub.execute_input": "2023-03-23T19:36:31.053356Z",
     "iopub.status.busy": "2023-03-23T19:36:31.052257Z",
     "iopub.status.idle": "2023-03-23T19:36:32.023713Z",
     "shell.execute_reply": "2023-03-23T19:36:32.022698Z"
    }
   },
   "outputs": [],
   "source": [
    "plot,wave,at_pressures_gas,at_pressures_cld,at_pressures_ray = jpi.photon_attenuation(df['full_output'],\n",
    "                                                                                     return_output=True)"
   ]
  },
  {
   "cell_type": "code",
   "execution_count": 12,
   "metadata": {
    "execution": {
     "iopub.execute_input": "2023-03-23T19:36:32.041157Z",
     "iopub.status.busy": "2023-03-23T19:36:32.040027Z",
     "iopub.status.idle": "2023-03-23T19:36:32.138114Z",
     "shell.execute_reply": "2023-03-23T19:36:32.137148Z"
    }
   },
   "outputs": [
    {
     "data": {
      "text/html": [
       "\n",
       "  <div id=\"0bdfb221-389a-40f5-b8d3-00d10d4e8119\" data-root-id=\"p3030\" style=\"display: contents;\"></div>\n"
      ]
     },
     "metadata": {},
     "output_type": "display_data"
    },
    {
     "data": {
      "application/javascript": [
       "(function(root) {\n",
       "  function embed_document(root) {\n",
       "  const docs_json = {\"ed2d21d3-fb44-4361-9549-e8afc9f8d5c2\":{\"version\":\"3.0.2\",\"title\":\"Bokeh Application\",\"defs\":[],\"roots\":[{\"type\":\"object\",\"name\":\"Figure\",\"id\":\"p3030\",\"attributes\":{\"width\":500,\"height\":250,\"x_range\":{\"type\":\"object\",\"name\":\"DataRange1d\",\"id\":\"p3032\"},\"y_range\":{\"type\":\"object\",\"name\":\"Range1d\",\"id\":\"p3041\",\"attributes\":{\"start\":10,\"end\":0.001}},\"x_scale\":{\"type\":\"object\",\"name\":\"LinearScale\",\"id\":\"p3043\"},\"y_scale\":{\"type\":\"object\",\"name\":\"LogScale\",\"id\":\"p3045\"},\"title\":{\"type\":\"object\",\"name\":\"Title\",\"id\":\"p3033\"},\"renderers\":[{\"type\":\"object\",\"name\":\"GlyphRenderer\",\"id\":\"p3082\",\"attributes\":{\"data_source\":{\"type\":\"object\",\"name\":\"ColumnDataSource\",\"id\":\"p3076\",\"attributes\":{\"selected\":{\"type\":\"object\",\"name\":\"Selection\",\"id\":\"p3078\",\"attributes\":{\"indices\":[],\"line_indices\":[]}},\"selection_policy\":{\"type\":\"object\",\"name\":\"UnionRenderers\",\"id\":\"p3077\"},\"data\":{\"type\":\"map\",\"entries\":[[\"x\",{\"type\":\"ndarray\",\"array\":{\"type\":\"bytes\",\"data\":\"aje9umj77z9XJEn5AcXvPwOLMsH3ju8/ZOMRdUlZ7z8AZIt49iPvP4Q6TTD+7u4/T8cNAmC67j8Y3IlUG4buP4H9go8vUu4/n6e9G5we7j9/lf9iYOvtP5MLDtB7uO0/BCWszu2F7T/rI5nLtVPtP2zEjjTTIe0/pJI/eEXw7D9sQ1UGDL/sP/EPb08mjuw/FhQgxZNd7D+Zr+3ZUy3sP/fpTQFm/es/Gtmlr8nN6z+xCkhafp7rP0HwcneDb+s/6k1PfthA6z/Nq+7mfBLrPyDKSSpw5Oo/4Rc/wrG26j8iLJEpQYnqP/RB5dsdXOo/4rbBVUcv6j/+i4wUvQLqP3jpiZZ+1uk/u6TaWouq6T8PyXrh4n7pP7giQKuEU+k/lszYOXAo6T8swMkPpf3oPyZobbAi0+g/RjXyn+io6D/FNVlj9n7oPwmvdIBLVeg/x7nmfecr6D+F4B/jyQLoP2nAXTjy2ec/a6ypBmCx5z/TUtfXEonnP/tkgzYKYec/cEESrkU55z9CoK7KxBHnP6RBSBmH6uY/wp6SJ4zD5j/bnAOE05zmP4NC0r1cduY/JW/1ZCdQ5j+ulCIKMyrmP19zzD5/BOY/0dchlQvf5T8OWwyg17nlP98kL/PilOU/G7DlIi1w5T8skULEtUvlP44+Dm18J+U/fNvFs4AD5T+NBJovwt/kP3WebXhAvOQ/w6bUJvuY5D+cBhPU8XXkP4ZnGxokU+Q/IgqOk5Ew5D/mnrfbOQ7kP9IgkI4c7OM/CrK5SDnK4z9sen+nj6jjPxGI1Egfh+M/r7FSy+dl4z/sejnO6ETjP4n6bPEhJOM/cMJ01ZID4z+nyXobO+PiPw1YSmUaw+I/9fNOVTCj4j+YUZOOfIPiP0tEwLT+Y+I/jrEbbLZE4j/ZhYdZoyXiPzurgCLFBuI/sQEebRvo4T9IWQ/gpcnhP/RtnCJkq+E/JOWj3FWN4T8VTZq2em/hP8sdiVnSUeE/yrsNb1w04T91fFihGBfhPxusK5sG+uA/s5XaBybd4D8zjEiTdsDgP5X15+n3o+A/dVe5uKmH4D9WZUqti2vgP3cQtXWdT+A/SZmewN4z4D95ojY9TxjgPxWLbDbd+d8/BlK+FXnD3z9OMPV5cY3fP344scXFV98/wi6eXHUi3z+XwXGjf+3eP2fF6f/juN4/S3PK2KGE3j+oqtyVuFDeP9o17J8nHd4/xxHGYO7p3T9cuDZDDLfdP/5tCLOAhN0/05EBHUtS3T/38OLuaiDdP3EcZpff7tw/GsI7hqi93D9ACAosxYzcPyHsavo0XNw/H6PqY/cr3D+9/gXcC/zbP17TKNdxzNs/s2Gsyiid2z/bwtUsMG7bP0BX1HSHP9s/DzjAGi4R2z9bq5iXI+PaP+eaQmVntdo/ig2H/viH2j8koxHf11raPywTb4MDLto/160LaXsB2j+23zEOP9XZP/S3CPJNqdk//nCSlKd92T+4+6p2S1LZPy+NBho5J9k/sS4wAXD82D9nUIiv79HYP1ReQ6m3p9g/vldoc8d92D8Fac+THlTYP8qHIJG8Ktg/hRHS8qAB2D9pbCdBy9jXP6CqLwU7sNc/3i/EyO+H1z86WYcW6V/XP04n43kmONc/qOoHf6cQ1z908uqya+nWP2M9RaNywtY/0iyS3rub1j8hOg70RnXWP0KutXMTT9Y/dVtD7iAp1j8lWS/1bgPWPwTCrRr93dU/L3St8cq41T+E09YN2JPVPxOOigMkb9U/m2LgZ65K1T8t6aXQdibVP9ldXdR8AtU/Ym08CsDe1D8LBCsKQLvUP2Eewmz8l9Q/DpxKy/R01D+jFLy/KFLUP3Guu+SXL9Q/R/ea1UEN1D80v1YuJuvTPzb1lYtEydM/34Woipyn0z/XO4bJLYbTP1yizeb3ZNM/kunCgfpD0z8=\"},\"shape\":[181],\"dtype\":\"float64\",\"order\":\"little\"}],[\"y\",{\"type\":\"ndarray\",\"array\":{\"type\":\"bytes\",\"data\":\"FpbIvGbrmj+dIwn9iN6XP5Xpf9FiAJY/T7xKJuM+lD9Oz/2+yZGUP7+wlV7B7Zc/pgUuV05MkT9d0NSBQ2KRP03quQVh65Q/8JZ2RocHjj8LTxli+WaRP4pCABQ/DJY/dy87rx9QoD+CGJeOcWWkP3zotHS2Fak/3S6q41dgqD9+E+2FJrOnP9KHDxgH0KU/3JumGL4dqz/63WoTPKGrPwQ/lKHovqk/jwczzJTqpz9WLWzHDLOmP6lBBPD9QaQ/yNd9GUlcoT/syPPnGX2hPzWtc9ppMJ0/j7F1ES7Fmj+ekEAIDciZP1YQLuInXJo/D+K7BxAVlT+b0R1OG9WTP9lENz5aiZU/YFHJOdOblT+c7SEkDtqTP07q8E1AJJI/+WBz7eTtkT9NAVjaLtKMP4vPBxrjhIY/KSW7vfJWZj+wag+MtwZzPwRBnbI1/Ik/5AYsqh4+jT9PXBT7RR2RP+MjMNXKrpE/2c62Rf0QkT++LVJOXS2QP8nQpZ+kZZE/MvMvyXa8kz+3o/MUmqWTP6uj+GvLq5M/FnQNyl52lj8kieNouiGWP8zdskgsg5c/a6B9ML4BmD/MrgjRiyyWPwUXf/RpSJg/BRd/9GlImD8FF3/0aUiYPwUXf/RpSJg/fO/TXdswmD/sS/p5Lr2XP1VqSHu+1JM/x+VeHKc1kj9O6vBNQCSSPz0NVt3MBZI/uXnojr0Wkj/H5V4cpzWSP8flXhynNZI/cQ+o5f3ukT8E2eeuuIiMP44qLCt+T4s/jyosK35Piz+luukpA8iJP6BHSo11HIY/GruwHwNnhD9toCL6vS+CP/STbgYnX34/tPsDqoZceT9JynyQnv1jPwAB+/4ErXQ/1v3WF9uefD9xEbrwNbd+P2Rii8LizYE/fhSuR+F6hD9+FK5H4XqEP34UrkfheoQ/2glVrQXLij+OKiwrfk+LP44qLCt+T4s/jyosK35Piz/mxp/oU86MP07q8E1AJJI/x+VeHKc1kj/H5V4cpzWSP8flXhynNZI/x+VeHKc1kj/H5V4cpzWSP8flXhynNZI/IcIV05OClD9CsXLYW2eYP+Rhv4jW16E/R55D//v2rD+OyW91gGa7PzXufca8U8c/ROpNdmyR8j9Uu6aE9Tz8P2YqFux98Pw/KaXu571s8T/fvb9sWHT6P7ewnxRhyfA/MCnfhb7+9T8mudZr6hjwPyAKjxScCfQ/dVJ9ZD076D96zzi7nhzwP6dHNH/BEvY/rPPz2aMA8j/mPwRCtKfnP+EPxKx3jPI/8v7x4ZpE4j8C2ZWXcfzkP/dYQtrq7OA/1EL9ZpuM4z9qn4hyo2fhP0eZZMWtWeY/6cWMm2pU5D+kZKMtf4/gP37tBpkG2OA/51VmoDvu2j83646ZDJ3QP6boHNvtetY/eIODDJol0T+Ok8fNSYDKPypfEbKqtsA/z+pifMmRqT9vr/NqjG6gP2pDKoZHv7o/6rXVqDSayD/M3J5xhFrOP6yJJ5huXsI/sggpI87Gwz98rr5Ff3G/Pwf6XtxYWsA/7ljhs0Iewz8URjSu3RXMP4xlIxND58s/cEjSaDNFvj+dO05p3621PzVMMmjMDsM/TEO5wadoxD8+/FYjUijJP9AFLJIjGcY/1WWJdnwAxT/CfAQkBhjCP+MSxL8tCsY/ouBdPJTSwD9hHbdGKga/P3kIo9gbYrY/jgwdoGyGsD9RzDjAnGmmP+dKdLaBMrM/+B8H+HU6rT+G3smwUcipPzGYv/bZb6A/dk3FtSVulT9ml/XYAp6DPwQBaB7MeZQ/z9cWO2smoD9HBdfEILqnP09nbHjo+aU/GFb2iDANsj+gzjGzPZW0P0x1YiJFKrg/7SmF2NXbuT+9IpMToUS1P2BZHXHHC7s/06lbAAebwD9E4plSMzC4P7nFcDI5x7A/IdfHOO9VtT8=\"},\"shape\":[181],\"dtype\":\"float64\",\"order\":\"little\"}]]}}},\"view\":{\"type\":\"object\",\"name\":\"CDSView\",\"id\":\"p3083\",\"attributes\":{\"filter\":{\"type\":\"object\",\"name\":\"AllIndices\",\"id\":\"p3084\"}}},\"glyph\":{\"type\":\"object\",\"name\":\"Line\",\"id\":\"p3079\",\"attributes\":{\"x\":{\"type\":\"field\",\"field\":\"x\"},\"y\":{\"type\":\"field\",\"field\":\"y\"},\"line_color\":\"#0072B2\",\"line_width\":4}},\"nonselection_glyph\":{\"type\":\"object\",\"name\":\"Line\",\"id\":\"p3080\",\"attributes\":{\"x\":{\"type\":\"field\",\"field\":\"x\"},\"y\":{\"type\":\"field\",\"field\":\"y\"},\"line_color\":\"#0072B2\",\"line_alpha\":0.1,\"line_width\":4}},\"muted_glyph\":{\"type\":\"object\",\"name\":\"Line\",\"id\":\"p3081\",\"attributes\":{\"x\":{\"type\":\"field\",\"field\":\"x\"},\"y\":{\"type\":\"field\",\"field\":\"y\"},\"line_color\":\"#0072B2\",\"line_alpha\":0.2,\"line_width\":4}}}},{\"type\":\"object\",\"name\":\"GlyphRenderer\",\"id\":\"p3107\",\"attributes\":{\"data_source\":{\"type\":\"object\",\"name\":\"ColumnDataSource\",\"id\":\"p3101\",\"attributes\":{\"selected\":{\"type\":\"object\",\"name\":\"Selection\",\"id\":\"p3103\",\"attributes\":{\"indices\":[],\"line_indices\":[]}},\"selection_policy\":{\"type\":\"object\",\"name\":\"UnionRenderers\",\"id\":\"p3102\"},\"data\":{\"type\":\"map\",\"entries\":[[\"x\",{\"type\":\"ndarray\",\"array\":{\"type\":\"bytes\",\"data\":\"aje9umj77z9XJEn5AcXvPwOLMsH3ju8/ZOMRdUlZ7z8AZIt49iPvP4Q6TTD+7u4/T8cNAmC67j8Y3IlUG4buP4H9go8vUu4/n6e9G5we7j9/lf9iYOvtP5MLDtB7uO0/BCWszu2F7T/rI5nLtVPtP2zEjjTTIe0/pJI/eEXw7D9sQ1UGDL/sP/EPb08mjuw/FhQgxZNd7D+Zr+3ZUy3sP/fpTQFm/es/Gtmlr8nN6z+xCkhafp7rP0HwcneDb+s/6k1PfthA6z/Nq+7mfBLrPyDKSSpw5Oo/4Rc/wrG26j8iLJEpQYnqP/RB5dsdXOo/4rbBVUcv6j/+i4wUvQLqP3jpiZZ+1uk/u6TaWouq6T8PyXrh4n7pP7giQKuEU+k/lszYOXAo6T8swMkPpf3oPyZobbAi0+g/RjXyn+io6D/FNVlj9n7oPwmvdIBLVeg/x7nmfecr6D+F4B/jyQLoP2nAXTjy2ec/a6ypBmCx5z/TUtfXEonnP/tkgzYKYec/cEESrkU55z9CoK7KxBHnP6RBSBmH6uY/wp6SJ4zD5j/bnAOE05zmP4NC0r1cduY/JW/1ZCdQ5j+ulCIKMyrmP19zzD5/BOY/0dchlQvf5T8OWwyg17nlP98kL/PilOU/G7DlIi1w5T8skULEtUvlP44+Dm18J+U/fNvFs4AD5T+NBJovwt/kP3WebXhAvOQ/w6bUJvuY5D+cBhPU8XXkP4ZnGxokU+Q/IgqOk5Ew5D/mnrfbOQ7kP9IgkI4c7OM/CrK5SDnK4z9sen+nj6jjPxGI1Egfh+M/r7FSy+dl4z/sejnO6ETjP4n6bPEhJOM/cMJ01ZID4z+nyXobO+PiPw1YSmUaw+I/9fNOVTCj4j+YUZOOfIPiP0tEwLT+Y+I/jrEbbLZE4j/ZhYdZoyXiPzurgCLFBuI/sQEebRvo4T9IWQ/gpcnhP/RtnCJkq+E/JOWj3FWN4T8VTZq2em/hP8sdiVnSUeE/yrsNb1w04T91fFihGBfhPxusK5sG+uA/s5XaBybd4D8zjEiTdsDgP5X15+n3o+A/dVe5uKmH4D9WZUqti2vgP3cQtXWdT+A/SZmewN4z4D95ojY9TxjgPxWLbDbd+d8/BlK+FXnD3z9OMPV5cY3fP344scXFV98/wi6eXHUi3z+XwXGjf+3eP2fF6f/juN4/S3PK2KGE3j+oqtyVuFDeP9o17J8nHd4/xxHGYO7p3T9cuDZDDLfdP/5tCLOAhN0/05EBHUtS3T/38OLuaiDdP3EcZpff7tw/GsI7hqi93D9ACAosxYzcPyHsavo0XNw/H6PqY/cr3D+9/gXcC/zbP17TKNdxzNs/s2Gsyiid2z/bwtUsMG7bP0BX1HSHP9s/DzjAGi4R2z9bq5iXI+PaP+eaQmVntdo/ig2H/viH2j8koxHf11raPywTb4MDLto/160LaXsB2j+23zEOP9XZP/S3CPJNqdk//nCSlKd92T+4+6p2S1LZPy+NBho5J9k/sS4wAXD82D9nUIiv79HYP1ReQ6m3p9g/vldoc8d92D8Fac+THlTYP8qHIJG8Ktg/hRHS8qAB2D9pbCdBy9jXP6CqLwU7sNc/3i/EyO+H1z86WYcW6V/XP04n43kmONc/qOoHf6cQ1z908uqya+nWP2M9RaNywtY/0iyS3rub1j8hOg70RnXWP0KutXMTT9Y/dVtD7iAp1j8lWS/1bgPWPwTCrRr93dU/L3St8cq41T+E09YN2JPVPxOOigMkb9U/m2LgZ65K1T8t6aXQdibVP9ldXdR8AtU/Ym08CsDe1D8LBCsKQLvUP2Eewmz8l9Q/DpxKy/R01D+jFLy/KFLUP3Guu+SXL9Q/R/ea1UEN1D80v1YuJuvTPzb1lYtEydM/34Woipyn0z/XO4bJLYbTP1yizeb3ZNM/kunCgfpD0z8=\"},\"shape\":[181],\"dtype\":\"float64\",\"order\":\"little\"}],[\"y\",{\"type\":\"ndarray\",\"array\":{\"type\":\"bytes\",\"data\":\"mSEpNqGrKkAr9S+3460oQAAAAAAAACRAAAAAAAAAJEAAAAAAAAAkQAAAAAAAACRAAAAAAAAAJEAAAAAAAAAkQAAAAAAAACRAAAAAAAAAJEAAAAAAAAAkQAAAAAAAACRAxixmX1RzHkAAtRWt6v4dQAC1Fa3q/h1AALUVrer+HUAAtRWt6v4dQAC1Fa3q/h1AALUVrer+HUAAtRWt6v4dQAC1Fa3q/h1AALUVrer+HUBBMBryqGcZQCxGIwtgfhZALEYjC2B+FkAsRiMLYH4WQCxGIwtgfhZALEYjC2B+FkAsRiMLYH4WQCxGIwtgfhZALEYjC2B+FkAsRiMLYH4WQIA2TZv15RRAVoj6FCzeEEBWiPoULN4QQFaI+hQs3hBAVoj6FCzeEEBWiPoULN4QQFaI+hQs3hBAVoj6FCzeEEBWiPoULN4QQFaI+hQs3hBAVoj6FCzeEEBFSojlie0JQE5b2jpYTAlAT1vaOlhMCUBOW9o6WEwJQE5b2jpYTAlAT1vaOlhMCUBOW9o6WEwJQE5b2jpYTAlAT1vaOlhMCUBOW9o6WEwJQG/HXSdRhQVAAUoDx5L4AkABSgPHkvgCQAFKA8eS+AJAAUoDx5L4AkABSgPHkvgCQAFKA8eS+AJAAUoDx5L4AkABSgPHkvgCQAFKA8eS+AJADW48oE2tAUAER1Qc1XP8PwRHVBzVc/w/BEdUHNVz/D8ER1Qc1XP8PwRHVBzVc/w/BEdUHNVz/D8ER1Qc1XP8PwRHVBzVc/w/BEdUHNVz/D8ER1Qc1XP8P/Hk6RvdwvU/QYG6kRpW9T9BgbqRGlb1P0GBupEaVvU/QYG6kRpW9T9BgbqRGlb1P0GBupEaVvU/QYG6kRpW9T9BgbqRGlb1P0GBupEaVvU/wFeQq3YF8j8AAAAAAADwPwAAAAAAAPA/AAAAAAAA8D8AAAAAAADwPwAAAAAAAPA/AAAAAAAA8D8AAAAAAADwPwAAAAAAAPA/AAAAAAAA8D9jvI7kZZztP5NdESQi/+c/k10RJCL/5z+TXREkIv/nP5NdESQi/+c/k10RJCL/5z+TXREkIv/nP5NdESQi/+c/k10RJCL/5z+TXREkIv/nP5NdESQi/+c/GzgcPLP+4T8bOBw8s/7hPxs4HDyz/uE/GzgcPLP+4T8bOBw8s/7hPxs4HDyz/uE/GzgcPLP+4T8bOBw8s/7hPxs4HDyz/uE/GzgcPLP+4T/jarwuuPHdP0UNxFQT/do/RQ3EVBP92j9FDcRUE/3aP0UNxFQT/do/RQ3EVBP92j9FDcRUE/3aP0UNxFQT/do/RQ3EVBP92j9FDcRUE/3aP2pRDKpMeNg/BklIYhM91D8GSUhiEz3UPwZJSGITPdQ/BklIYhM91D8GSUhiEz3UPwZJSGITPdQ/BklIYhM91D8GSUhiEz3UPwZJSGITPdQ/U2oSloru0z/M3J5xhFrOP8zcnnGEWs4/zdyecYRazj/M3J5xhFrOP8zcnnGEWs4/zdyecYRazj/M3J5xhFrOP8zcnnGEWs4/zdyecYRazj/M3J5xhFrOP+ju23ssk8g/P5924xDDxj8/n3bjEMPGPz+fduMQw8Y/P5924xDDxj8/n3bjEMPGPz+fduMQw8Y/P5924xDDxj8/n3bjEMPGPz+fduMQw8Y/1oWEgp4sxD+cmvvarhHBP5ya+9quEcE/nJr72q4RwT+cmvvarhHBP5ya+9quEcE/nJr72q4RwT+cmvvarhHBP5ya+9quEcE/nJr72q4RwT+i5PJPgJ/AP5GZmZmZmbk/kZmZmZmZuT+RmZmZmZm5P5GZmZmZmbk/kZmZmZmZuT+RmZmZmZm5P5GZmZmZmbk/kZmZmZmZuT+RmZmZmZm5P5GZmZmZmbk/dvY7iLLYtD/nSnS2gTKzP+dKdLaBMrM/50p0toEysz8=\"},\"shape\":[181],\"dtype\":\"float64\",\"order\":\"little\"}]]}}},\"view\":{\"type\":\"object\",\"name\":\"CDSView\",\"id\":\"p3108\",\"attributes\":{\"filter\":{\"type\":\"object\",\"name\":\"AllIndices\",\"id\":\"p3109\"}}},\"glyph\":{\"type\":\"object\",\"name\":\"Line\",\"id\":\"p3104\",\"attributes\":{\"x\":{\"type\":\"field\",\"field\":\"x\"},\"y\":{\"type\":\"field\",\"field\":\"y\"},\"line_color\":\"#E69F00\",\"line_width\":4}},\"nonselection_glyph\":{\"type\":\"object\",\"name\":\"Line\",\"id\":\"p3105\",\"attributes\":{\"x\":{\"type\":\"field\",\"field\":\"x\"},\"y\":{\"type\":\"field\",\"field\":\"y\"},\"line_color\":\"#E69F00\",\"line_alpha\":0.1,\"line_width\":4}},\"muted_glyph\":{\"type\":\"object\",\"name\":\"Line\",\"id\":\"p3106\",\"attributes\":{\"x\":{\"type\":\"field\",\"field\":\"x\"},\"y\":{\"type\":\"field\",\"field\":\"y\"},\"line_color\":\"#E69F00\",\"line_alpha\":0.2,\"line_width\":4}}}}],\"toolbar\":{\"type\":\"object\",\"name\":\"Toolbar\",\"id\":\"p3038\",\"attributes\":{\"tools\":[{\"type\":\"object\",\"name\":\"PanTool\",\"id\":\"p3061\"},{\"type\":\"object\",\"name\":\"WheelZoomTool\",\"id\":\"p3062\"},{\"type\":\"object\",\"name\":\"BoxZoomTool\",\"id\":\"p3063\",\"attributes\":{\"overlay\":{\"type\":\"object\",\"name\":\"BoxAnnotation\",\"id\":\"p3064\",\"attributes\":{\"syncable\":false,\"level\":\"overlay\",\"visible\":false,\"left_units\":\"canvas\",\"right_units\":\"canvas\",\"bottom_units\":\"canvas\",\"top_units\":\"canvas\",\"line_color\":\"black\",\"line_alpha\":1.0,\"line_width\":2,\"line_dash\":[4,4],\"fill_color\":\"lightgrey\",\"fill_alpha\":0.5}}}},{\"type\":\"object\",\"name\":\"SaveTool\",\"id\":\"p3065\"},{\"type\":\"object\",\"name\":\"ResetTool\",\"id\":\"p3066\"},{\"type\":\"object\",\"name\":\"HelpTool\",\"id\":\"p3067\"}]}},\"left\":[{\"type\":\"object\",\"name\":\"LogAxis\",\"id\":\"p3054\",\"attributes\":{\"ticker\":{\"type\":\"object\",\"name\":\"LogTicker\",\"id\":\"p3055\",\"attributes\":{\"num_minor_ticks\":10,\"mantissas\":[1,5]}},\"formatter\":{\"type\":\"object\",\"name\":\"LogTickFormatter\",\"id\":\"p3057\"},\"major_label_policy\":{\"type\":\"object\",\"name\":\"AllLabels\",\"id\":\"p3056\"}}}],\"below\":[{\"type\":\"object\",\"name\":\"LinearAxis\",\"id\":\"p3047\",\"attributes\":{\"ticker\":{\"type\":\"object\",\"name\":\"BasicTicker\",\"id\":\"p3048\",\"attributes\":{\"mantissas\":[1,2,5]}},\"formatter\":{\"type\":\"object\",\"name\":\"BasicTickFormatter\",\"id\":\"p3050\"},\"major_label_policy\":{\"type\":\"object\",\"name\":\"AllLabels\",\"id\":\"p3049\"}}}],\"center\":[{\"type\":\"object\",\"name\":\"Grid\",\"id\":\"p3053\",\"attributes\":{\"axis\":{\"id\":\"p3047\"}}},{\"type\":\"object\",\"name\":\"Grid\",\"id\":\"p3060\",\"attributes\":{\"dimension\":1,\"axis\":{\"id\":\"p3054\"}}},{\"type\":\"object\",\"name\":\"Legend\",\"id\":\"p3099\",\"attributes\":{\"items\":[{\"type\":\"object\",\"name\":\"LegendItem\",\"id\":\"p3100\",\"attributes\":{\"label\":{\"type\":\"value\",\"value\":\"Molecular\"},\"renderers\":[{\"id\":\"p3082\"}]}},{\"type\":\"object\",\"name\":\"LegendItem\",\"id\":\"p3129\",\"attributes\":{\"label\":{\"type\":\"value\",\"value\":\"Rayleigh\"},\"renderers\":[{\"id\":\"p3107\"}]}}]}}]}}]}};\n",
       "  const render_items = [{\"docid\":\"ed2d21d3-fb44-4361-9549-e8afc9f8d5c2\",\"roots\":{\"p3030\":\"0bdfb221-389a-40f5-b8d3-00d10d4e8119\"},\"root_ids\":[\"p3030\"]}];\n",
       "  root.Bokeh.embed.embed_items_notebook(docs_json, render_items);\n",
       "  }\n",
       "  if (root.Bokeh !== undefined) {\n",
       "    embed_document(root);\n",
       "  } else {\n",
       "    let attempts = 0;\n",
       "    const timer = setInterval(function(root) {\n",
       "      if (root.Bokeh !== undefined) {\n",
       "        clearInterval(timer);\n",
       "        embed_document(root);\n",
       "      } else {\n",
       "        attempts++;\n",
       "        if (attempts > 100) {\n",
       "          clearInterval(timer);\n",
       "          console.log(\"Bokeh: ERROR: Unable to run BokehJS code because BokehJS library is missing\");\n",
       "        }\n",
       "      }\n",
       "    }, 10, root)\n",
       "  }\n",
       "})(window);"
      ],
      "application/vnd.bokehjs_exec.v0+json": ""
     },
     "metadata": {
      "application/vnd.bokehjs_exec.v0+json": {
       "id": "p3030"
      }
     },
     "output_type": "display_data"
    }
   ],
   "source": [
    "#now you can make your own plot!\n",
    "fig = jpi.figure(y_axis_type='log',y_range=[10,1e-3],height=250, width=500)\n",
    "for i,iy,ilab in zip([0,1],[at_pressures_gas,at_pressures_ray ], ['Molecular','Rayleigh']):\n",
    "    x,y = jpi.mean_regrid(1e4/wave,iy, R=150)\n",
    "    fig.line(1e4/x,y,legend_label=ilab, line_width=4, color=jpi.Colorblind8[i])\n",
    "jpi.show(fig)"
   ]
  },
  {
   "cell_type": "markdown",
   "metadata": {},
   "source": [
    "# Can I use the phase angle function to specify a non-zero phase for thermal emission? \n",
    "\n",
    "The phase angle function computes the incoming and outgoing angles. However, non-zero phase functionality is specific to __reflected light observations only__. This might be confusing because of course it is possible to observe thermal emission of planet at non-zero phase. However, unlike reflected light, thermal emission radiates from the planet in all directions (regardless of phase angle). \n",
    "\n",
    "__Do not force the code to run at non-zero phase angles for thermal emission.__ "
   ]
  },
  {
   "cell_type": "markdown",
   "metadata": {},
   "source": [
    "# I'm confused about what opacity file to use\n",
    "\n",
    "Question: I'm confused about the opacity files. Version 1.0 (opacity.db) is the low res version that covers the \"useful\" wavelengths (0.3 to 14 micron) while version 2.0 has two files that cover the 0.6-6 micron at higher resolution and 4.8-15 micron. What should I download? And once I download it, where do I put them? If it's just the one file that seems straightforward in terms of where to put it but what happens when there are two files (or all 3) in the same folder?\n",
    "\n",
    "Answer: \n",
    "\n",
    "**What do I download?**\n",
    "\n",
    "The [low sampled files across a large wavelength range](https://zenodo.org/record/3759675#.Y8HVkezMLvU), which is on Zenodo as V1 is great for quick calculations that don't necessarily need to be accurate. For example: proposals, example models, any testing, retrievals on fake data. \n",
    "\n",
    "However, when comparing to real data, it's important to use higher sampling. [This tutorial](https://natashabatalha.github.io/picaso/notebooks/10_ResamplingOpacities.html) shows users estimated sampling errors. Therefore, it is important to have higher sampling files as well. The [higher sampling files are located here under V2](https://zenodo.org/record/6928501#.Y8HWH-zMLvU).  \n",
    "\n",
    "So depending on your use case, the answer might be: download both! \n",
    "\n",
    "**Where do I put all the files?**\n",
    "\n",
    "`PICASO` uses the function [`justdoit.opannection`](https://natashabatalha.github.io/picaso/picaso.html#picaso.justdoit.opannection) to grab the opacity file located in the reference directory [`opacities`](https://github.com/natashabatalha/picaso/tree/master/reference/opacities). In the installation instructions you will notice there is a step to place the zenodo file here. Just for completeness, internally, we specify the name of this [file here](https://github.com/natashabatalha/picaso/blob/891343fcc41faa345f8b85aaa8d50c4939c421a3/reference/config.json#L91). \n",
    "\n",
    "The general recommendation is to keep one \"default\" file in your `reference/opacities` folder so that you do not need to worry about always specifying a file when running the code. Then assign one place, easy to locate, where you include the rest of the files. In order to access these will need to point to this file path  using the `filename_db` keyword in `opannection`. \n"
   ]
  },
  {
   "cell_type": "markdown",
   "metadata": {},
   "source": [
    "# Has your question not been answered? Feel free to contact us! \n",
    "\n",
    "Submit an issue on Github: https://github.com/natashabatalha/picaso/issues"
   ]
  },
  {
   "cell_type": "code",
   "execution_count": null,
   "metadata": {},
   "outputs": [],
   "source": []
  }
 ],
 "metadata": {
  "kernelspec": {
   "display_name": "Python 3 (ipykernel)",
   "language": "python",
   "name": "python3"
  },
  "language_info": {
   "codemirror_mode": {
    "name": "ipython",
    "version": 3
   },
   "file_extension": ".py",
   "mimetype": "text/x-python",
   "name": "python",
   "nbconvert_exporter": "python",
   "pygments_lexer": "ipython3",
   "version": "3.8.12"
  },
  "toc": {
   "base_numbering": 1,
   "nav_menu": {},
   "number_sections": true,
   "sideBar": true,
   "skip_h1_title": false,
   "title_cell": "Table of Contents",
   "title_sidebar": "Contents",
   "toc_cell": true,
   "toc_position": {},
   "toc_section_display": true,
   "toc_window_display": false
  },
  "varInspector": {
   "cols": {
    "lenName": 16,
    "lenType": 16,
    "lenVar": 40
   },
   "kernels_config": {
    "python": {
     "delete_cmd_postfix": "",
     "delete_cmd_prefix": "del ",
     "library": "var_list.py",
     "varRefreshCmd": "print(var_dic_list())"
    },
    "r": {
     "delete_cmd_postfix": ") ",
     "delete_cmd_prefix": "rm(",
     "library": "var_list.r",
     "varRefreshCmd": "cat(var_dic_list()) "
    }
   },
   "types_to_exclude": [
    "module",
    "function",
    "builtin_function_or_method",
    "instance",
    "_Feature"
   ],
   "window_display": false
  }
 },
 "nbformat": 4,
 "nbformat_minor": 2
}
