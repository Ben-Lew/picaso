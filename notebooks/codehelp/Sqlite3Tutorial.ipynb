{
 "cells": [
  {
   "cell_type": "markdown",
   "metadata": {},
   "source": [
    "# SQLITE Tutorial\n",
    " \n",
    "\n",
    "This tutorial shows you how query the existing `opacity.db` and also shows you how to customize your own `opacity.db`\n",
    "\n",
    "A lot of this code is embedded in PICASO."
   ]
  },
  {
   "cell_type": "code",
   "execution_count": 1,
   "metadata": {
    "execution": {
     "iopub.execute_input": "2024-11-13T22:10:06.243828Z",
     "iopub.status.busy": "2024-11-13T22:10:06.243326Z",
     "iopub.status.idle": "2024-11-13T22:10:06.390016Z",
     "shell.execute_reply": "2024-11-13T22:10:06.389579Z"
    }
   },
   "outputs": [],
   "source": [
    "import sqlite3\n",
    "import io\n",
    "import numpy as np\n",
    "import os"
   ]
  },
  {
   "cell_type": "markdown",
   "metadata": {},
   "source": [
    "## Establishing a Connection to a Database"
   ]
  },
  {
   "cell_type": "code",
   "execution_count": 2,
   "metadata": {
    "execution": {
     "iopub.execute_input": "2024-11-13T22:10:06.392943Z",
     "iopub.status.busy": "2024-11-13T22:10:06.392710Z",
     "iopub.status.idle": "2024-11-13T22:10:06.396077Z",
     "shell.execute_reply": "2024-11-13T22:10:06.395727Z"
    }
   },
   "outputs": [],
   "source": [
    "#this is where your opacity file should be located if you've set your environments correctly\n",
    "db_filename = os.path.join(os.getenv('picaso_refdata'), 'opacities','opacities.db')\n",
    "\n",
    "#these functions are so that you can store your float arrays as bytes to minimize storage\n",
    "def adapt_array(arr):\n",
    "    out = io.BytesIO()\n",
    "    np.save(out, arr)\n",
    "    out.seek(0)\n",
    "    return sqlite3.Binary(out.read())\n",
    "\n",
    "def convert_array(text):\n",
    "    out = io.BytesIO(text)\n",
    "    out.seek(0)\n",
    "    return np.load(out)\n",
    "\n",
    "#tell sqlite what to do with an array\n",
    "sqlite3.register_adapter(np.ndarray, adapt_array)\n",
    "sqlite3.register_converter(\"array\", convert_array)"
   ]
  },
  {
   "cell_type": "code",
   "execution_count": 3,
   "metadata": {
    "execution": {
     "iopub.execute_input": "2024-11-13T22:10:06.398344Z",
     "iopub.status.busy": "2024-11-13T22:10:06.398163Z",
     "iopub.status.idle": "2024-11-13T22:10:06.400566Z",
     "shell.execute_reply": "2024-11-13T22:10:06.400187Z"
    }
   },
   "outputs": [],
   "source": [
    "#this will be how we execute commands to grab chunks of data\n",
    "#this is how you establish a connection to the db\n",
    "conn = sqlite3.connect(db_filename, detect_types=sqlite3.PARSE_DECLTYPES)\n",
    "cur = conn.cursor()\n",
    "\n",
    "#usually you want to close your database right after you open it using \n",
    "#conn.close()\n",
    "\n",
    "#for now, we will keep it open for the tutorial"
   ]
  },
  {
   "cell_type": "markdown",
   "metadata": {},
   "source": [
    "## Using `SELECT * FROM` to Query Items\n",
    "\n",
    "### Get from header"
   ]
  },
  {
   "cell_type": "code",
   "execution_count": 4,
   "metadata": {
    "execution": {
     "iopub.execute_input": "2024-11-13T22:10:06.402769Z",
     "iopub.status.busy": "2024-11-13T22:10:06.402580Z",
     "iopub.status.idle": "2024-11-13T22:10:07.331380Z",
     "shell.execute_reply": "2024-11-13T22:10:07.329930Z"
    }
   },
   "outputs": [],
   "source": [
    "#let's start by just grabbing all the info from the header\n",
    "header = cur.execute('SELECT * FROM header')\n",
    "cols = [description[0] for description in header.description]\n",
    "data = cur.fetchall()\n"
   ]
  },
  {
   "cell_type": "markdown",
   "metadata": {},
   "source": [
    "### Get Continuum Opacity"
   ]
  },
  {
   "cell_type": "code",
   "execution_count": 5,
   "metadata": {
    "execution": {
     "iopub.execute_input": "2024-11-13T22:10:07.336821Z",
     "iopub.status.busy": "2024-11-13T22:10:07.336328Z",
     "iopub.status.idle": "2024-11-13T22:10:07.350012Z",
     "shell.execute_reply": "2024-11-13T22:10:07.349339Z"
    }
   },
   "outputs": [
    {
     "name": "stdout",
     "output_type": "stream",
     "text": [
      "['H-bf' 'H-ff' 'H2-' 'H2CH4' 'H2H' 'H2H2' 'H2He' 'H2N2']\n"
     ]
    }
   ],
   "source": [
    "#what molecules exist? \n",
    "cur.execute('SELECT molecule FROM continuum')\n",
    "print(np.unique(cur.fetchall()))"
   ]
  },
  {
   "cell_type": "code",
   "execution_count": 6,
   "metadata": {
    "execution": {
     "iopub.execute_input": "2024-11-13T22:10:07.354481Z",
     "iopub.status.busy": "2024-11-13T22:10:07.354158Z",
     "iopub.status.idle": "2024-11-13T22:10:07.362555Z",
     "shell.execute_reply": "2024-11-13T22:10:07.362010Z"
    }
   },
   "outputs": [
    {
     "data": {
      "text/plain": [
       "array([ 75., 100., 125., 150., 175., 200., 225., 250., 275., 300.])"
      ]
     },
     "execution_count": 6,
     "metadata": {},
     "output_type": "execute_result"
    }
   ],
   "source": [
    "#what temperatures exist?\n",
    "cur.execute('SELECT temperature FROM continuum')\n",
    "cia_temperatures = np.unique(cur.fetchall())\n",
    "cia_temperatures[0:10]"
   ]
  },
  {
   "cell_type": "code",
   "execution_count": 7,
   "metadata": {
    "execution": {
     "iopub.execute_input": "2024-11-13T22:10:07.365469Z",
     "iopub.status.busy": "2024-11-13T22:10:07.365206Z",
     "iopub.status.idle": "2024-11-13T22:10:07.368813Z",
     "shell.execute_reply": "2024-11-13T22:10:07.368320Z"
    }
   },
   "outputs": [],
   "source": [
    "#wavenumber grid from header \n",
    "cur.execute('SELECT wavenumber_grid FROM header')\n",
    "wave_grid = cur.fetchone()[0]"
   ]
  },
  {
   "cell_type": "code",
   "execution_count": 8,
   "metadata": {
    "execution": {
     "iopub.execute_input": "2024-11-13T22:10:07.371477Z",
     "iopub.status.busy": "2024-11-13T22:10:07.371177Z",
     "iopub.status.idle": "2024-11-13T22:10:07.410456Z",
     "shell.execute_reply": "2024-11-13T22:10:07.409366Z"
    }
   },
   "outputs": [
    {
     "data": {
      "text/plain": [
       "[(array([3.93623018e-08, 3.93322996e-08, 3.93023172e-08, ...,\n",
       "         5.33778660e-51, 5.25551817e-51, 5.17450960e-51]),)]"
      ]
     },
     "execution_count": 8,
     "metadata": {},
     "output_type": "execute_result"
    }
   ],
   "source": [
    "#grab H2H2 at 300 K \n",
    "cur.execute('SELECT opacity FROM continuum WHERE molecule=? AND temperature=?',('H2H2',300))\n",
    "data = cur.fetchall()\n",
    "data"
   ]
  },
  {
   "cell_type": "code",
   "execution_count": 9,
   "metadata": {
    "execution": {
     "iopub.execute_input": "2024-11-13T22:10:07.415563Z",
     "iopub.status.busy": "2024-11-13T22:10:07.415133Z",
     "iopub.status.idle": "2024-11-13T22:10:07.433458Z",
     "shell.execute_reply": "2024-11-13T22:10:07.432703Z"
    }
   },
   "outputs": [
    {
     "data": {
      "text/plain": [
       "[('H2H2',\n",
       "  array([3.93623018e-08, 3.93322996e-08, 3.93023172e-08, ...,\n",
       "         5.33778660e-51, 5.25551817e-51, 5.17450960e-51])),\n",
       " ('H2He',\n",
       "  array([1.26478388e-08, 1.26383084e-08, 1.26287841e-08, ...,\n",
       "         1.00000000e-33, 1.00000000e-33, 1.00000000e-33])),\n",
       " ('H2H',\n",
       "  array([2.68622393e-06, 2.68506293e-06, 2.68390231e-06, ...,\n",
       "         1.00000000e-33, 1.00000000e-33, 1.00000000e-33])),\n",
       " ('H2CH4',\n",
       "  array([1.89543711e-08, 1.89330541e-08, 1.89117590e-08, ...,\n",
       "         1.00000000e-33, 1.00000000e-33, 1.00000000e-33])),\n",
       " ('H2N2',\n",
       "  array([7.47205007e-09, 7.46270631e-09, 7.45337329e-09, ...,\n",
       "         1.00000000e-33, 1.00000000e-33, 1.00000000e-33])),\n",
       " ('H2-', array([1.e-33, 1.e-33, 1.e-33, ..., 1.e-33, 1.e-33, 1.e-33])),\n",
       " ('H-bf', array([1.e-33, 1.e-33, 1.e-33, ..., 1.e-33, 1.e-33, 1.e-33])),\n",
       " ('H-ff', array([1.e-63, 1.e-63, 1.e-63, ..., 1.e-63, 1.e-63, 1.e-63]))]"
      ]
     },
     "execution_count": 9,
     "metadata": {},
     "output_type": "execute_result"
    }
   ],
   "source": [
    "#grab all opacity at 300 K \n",
    "cur.execute('SELECT molecule,opacity FROM continuum WHERE temperature=300')\n",
    "data = cur.fetchall()\n",
    "data"
   ]
  },
  {
   "cell_type": "markdown",
   "metadata": {},
   "source": [
    "### Get Molecular Opacity\n",
    "\n",
    "Molecular opacities are on a specific P-T grid so we book keep them by assigning indices to each pair e.g (1: 1e-6 bar, 75 K, 2:1e-6, 80K.. and so on) "
   ]
  },
  {
   "cell_type": "code",
   "execution_count": 10,
   "metadata": {
    "execution": {
     "iopub.execute_input": "2024-11-13T22:10:07.437802Z",
     "iopub.status.busy": "2024-11-13T22:10:07.437537Z",
     "iopub.status.idle": "2024-11-13T22:10:07.536195Z",
     "shell.execute_reply": "2024-11-13T22:10:07.535669Z"
    }
   },
   "outputs": [
    {
     "data": {
      "text/plain": [
       "[(1, 1e-06, 75.0),\n",
       " (2, 3e-06, 75.0),\n",
       " (3, 1e-05, 75.0),\n",
       " (4, 3e-05, 75.0),\n",
       " (5, 0.0001, 75.0),\n",
       " (6, 0.0003, 75.0),\n",
       " (7, 0.001, 75.0),\n",
       " (8, 0.003, 75.0),\n",
       " (9, 0.01, 75.0),\n",
       " (10, 0.03, 75.0)]"
      ]
     },
     "execution_count": 10,
     "metadata": {},
     "output_type": "execute_result"
    }
   ],
   "source": [
    "#get the PT grid with the corresponding grid \n",
    "cur.execute('SELECT ptid, pressure, temperature FROM molecular')\n",
    "data= cur.fetchall()\n",
    "pt_pairs = sorted(list(set(data)),key=lambda x: (x[0]) )\n",
    "pt_pairs[0:10]#example of the first 10 PT pairs "
   ]
  },
  {
   "cell_type": "code",
   "execution_count": 11,
   "metadata": {
    "execution": {
     "iopub.execute_input": "2024-11-13T22:10:07.540938Z",
     "iopub.status.busy": "2024-11-13T22:10:07.540674Z",
     "iopub.status.idle": "2024-11-13T22:10:07.611012Z",
     "shell.execute_reply": "2024-11-13T22:10:07.610438Z"
    }
   },
   "outputs": [
    {
     "name": "stdout",
     "output_type": "stream",
     "text": [
      "['AlH' 'C2H2' 'C2H4' 'C2H6' 'CH4' 'CO' 'CO2' 'CaH' 'CrH' 'Cs' 'Fe' 'FeH'\n",
      " 'H2' 'H2O' 'H2S' 'H3+' 'HCN' 'K' 'Li' 'LiCl' 'LiF' 'LiH' 'MgH' 'N2' 'N2O'\n",
      " 'NH3' 'Na' 'O2' 'O3' 'OCS' 'PH3' 'Rb' 'SiO' 'TiH' 'TiO' 'VO']\n"
     ]
    }
   ],
   "source": [
    "#what molecules exist? \n",
    "cur.execute('SELECT molecule FROM molecular')\n",
    "print(np.unique(cur.fetchall()))"
   ]
  },
  {
   "cell_type": "code",
   "execution_count": 12,
   "metadata": {
    "execution": {
     "iopub.execute_input": "2024-11-13T22:10:07.615748Z",
     "iopub.status.busy": "2024-11-13T22:10:07.615484Z",
     "iopub.status.idle": "2024-11-13T22:10:07.692481Z",
     "shell.execute_reply": "2024-11-13T22:10:07.691975Z"
    }
   },
   "outputs": [
    {
     "data": {
      "text/plain": [
       "[('H2O',\n",
       "  31,\n",
       "  array([1.61180990e-27, 1.15539216e-27, 8.68610646e-28, ...,\n",
       "         6.69523391e-32, 3.59004947e-30, 1.43350419e-30]))]"
      ]
     },
     "execution_count": 12,
     "metadata": {},
     "output_type": "execute_result"
    }
   ],
   "source": [
    "# grab the opacity at a specific temp and pressure \n",
    "grab_p = 0.1 # bar \n",
    "grab_t = 100 # kelvin \n",
    "import math\n",
    "\n",
    "#here's a little code to get out the correct pair (so we dont have to worry about getting the exact number right)\n",
    "ind_pt = [min(pt_pairs, key=lambda c: math.hypot(c[1]- coordinate[0], c[2]-coordinate[1]))[0] \n",
    "          for coordinate in  zip([grab_p],[grab_t])]\n",
    "\n",
    "cur.execute(\"\"\"SELECT molecule,ptid,opacity \n",
    "            FROM molecular \n",
    "            WHERE molecule = ?\n",
    "            AND ptid = ?\"\"\",('H2O',ind_pt[0]))\n",
    "data= cur.fetchall()\n",
    "data #gives you the molecule, ptid, and the opacity"
   ]
  },
  {
   "cell_type": "code",
   "execution_count": 13,
   "metadata": {
    "execution": {
     "iopub.execute_input": "2024-11-13T22:10:07.697169Z",
     "iopub.status.busy": "2024-11-13T22:10:07.696902Z",
     "iopub.status.idle": "2024-11-13T22:10:07.809805Z",
     "shell.execute_reply": "2024-11-13T22:10:07.809283Z"
    }
   },
   "outputs": [
    {
     "data": {
      "text/plain": [
       "[('CO2',\n",
       "  31,\n",
       "  array([1.43571297e-026, 3.25490659e-026, 3.43073124e-025, ...,\n",
       "         1.00000000e-100, 1.00000000e-100, 1.00000000e-100])),\n",
       " ('CO2',\n",
       "  233,\n",
       "  array([1.27941777e-025, 2.17916842e-025, 6.48936375e-025, ...,\n",
       "         1.00000000e-100, 1.00000000e-100, 1.00000000e-100])),\n",
       " ('CO2',\n",
       "  797,\n",
       "  array([1.53478614e-023, 1.54026464e-023, 1.54565221e-023, ...,\n",
       "         1.00000000e-100, 1.00000000e-100, 1.00000000e-100])),\n",
       " ('H2O',\n",
       "  31,\n",
       "  array([1.61180990e-27, 1.15539216e-27, 8.68610646e-28, ...,\n",
       "         6.69523391e-32, 3.59004947e-30, 1.43350419e-30])),\n",
       " ('H2O',\n",
       "  233,\n",
       "  array([4.22567213e-23, 4.64323856e-23, 5.21066789e-23, ...,\n",
       "         9.05000775e-31, 2.01006992e-30, 4.16153422e-30])),\n",
       " ('H2O',\n",
       "  797,\n",
       "  array([4.28000195e-21, 4.33488333e-21, 4.39892620e-21, ...,\n",
       "         6.75938219e-30, 6.30976171e-30, 7.28258852e-30]))]"
      ]
     },
     "execution_count": 13,
     "metadata": {},
     "output_type": "execute_result"
    }
   ],
   "source": [
    "grab_moles = ['H2O','CO2']\n",
    "grab_p = [0.1,1,100] # bar \n",
    "grab_t = [100,200,700] # kelvin \n",
    "\n",
    "#here's a little code to get out the correct pair (so we dont have to worry about getting the exact number right)\n",
    "ind_pt = [min(pt_pairs, key=lambda c: math.hypot(c[1]- coordinate[0], c[2]-coordinate[1]))[0] \n",
    "          for coordinate in  zip(grab_p,grab_t)]\n",
    "\n",
    "cur.execute(\"\"\"SELECT molecule,ptid,opacity \n",
    "            FROM molecular \n",
    "            WHERE molecule in {}\n",
    "            AND ptid in {}\"\"\".format(str(tuple(grab_moles)), str(tuple(ind_pt))))\n",
    "data= cur.fetchall()\n",
    "data #gives you the molecule, ptid, and the opacity"
   ]
  },
  {
   "cell_type": "code",
   "execution_count": 14,
   "metadata": {
    "execution": {
     "iopub.execute_input": "2024-11-13T22:10:07.814152Z",
     "iopub.status.busy": "2024-11-13T22:10:07.813884Z",
     "iopub.status.idle": "2024-11-13T22:10:07.816749Z",
     "shell.execute_reply": "2024-11-13T22:10:07.816268Z"
    }
   },
   "outputs": [],
   "source": [
    "#Dont forget to close your connection!!!!\n",
    "conn.close()"
   ]
  },
  {
   "cell_type": "markdown",
   "metadata": {},
   "source": [
    "## Creating a New Database from Scratch\n",
    "\n",
    "**Note on molecule names**: Because ``picaso`` uses dict formatting to handle opacities, users can easily swap in different molecules. \n",
    "\n",
    "For example, if I wanted to include CO2-H2 CIA absorption, I can add ``CO2H2`` to the molecules list below. However, it is only quasi-automated in this regaurd. Please contact natasha.e.batalha@gmail.com if you are adding new CIA to the code. \n",
    "\n",
    "**Exceptions**: The exceptions to this are non-CIA continuum opacities. Right now, the other sources of continuum enabled are ``H2-``, ``H-bf`` and ``H-ff`` which have odd-ball formatting since they aren't simple two molecules. _Please let me know if you want to see another continuum source added_.\n",
    "\n",
    "**Careful** with case sensitive molecules like **TiO**, **Na**. Make sure you get these right. "
   ]
  },
  {
   "cell_type": "code",
   "execution_count": 15,
   "metadata": {
    "execution": {
     "iopub.execute_input": "2024-11-13T22:10:07.820973Z",
     "iopub.status.busy": "2024-11-13T22:10:07.820736Z",
     "iopub.status.idle": "2024-11-13T22:10:07.824598Z",
     "shell.execute_reply": "2024-11-13T22:10:07.824118Z"
    }
   },
   "outputs": [],
   "source": [
    "db_filename = '/data/picaso_dbs/new_fake_opacity.db'\n",
    "conn = sqlite3.connect(db_filename, detect_types=sqlite3.PARSE_DECLTYPES)\n",
    "#same story with bytes and arrays\n",
    "def adapt_array(arr):\n",
    "    out = io.BytesIO()\n",
    "    np.save(out, arr)\n",
    "    out.seek(0)\n",
    "    return sqlite3.Binary(out.read())\n",
    "\n",
    "def convert_array(text):\n",
    "    out = io.BytesIO(text)\n",
    "    out.seek(0)\n",
    "    return np.load(out)\n",
    "\n",
    "#tell sqlite what to do with an array\n",
    "sqlite3.register_adapter(np.ndarray, adapt_array)\n",
    "sqlite3.register_converter(\"array\", convert_array)\n",
    "\n",
    "cur = conn.cursor()"
   ]
  },
  {
   "cell_type": "markdown",
   "metadata": {},
   "source": [
    "### Build Tables: header, continuum, and molecular tables\n",
    "\n",
    "It is **VERY** important that these tables are structured the same way. If you think something should be edited, ping natasha.e.batalha@gmail.com"
   ]
  },
  {
   "cell_type": "code",
   "execution_count": 16,
   "metadata": {
    "execution": {
     "iopub.execute_input": "2024-11-13T22:10:07.827592Z",
     "iopub.status.busy": "2024-11-13T22:10:07.827357Z",
     "iopub.status.idle": "2024-11-13T22:10:07.833185Z",
     "shell.execute_reply": "2024-11-13T22:10:07.832710Z"
    }
   },
   "outputs": [],
   "source": [
    "#header\n",
    "command=\"\"\"DROP TABLE IF EXISTS header;\n",
    "CREATE TABLE header (\n",
    "    id INTEGER PRIMARY KEY,\n",
    "    pressure_unit VARCHAR,\n",
    "    temperature_unit VARCHAR,\n",
    "    wavenumber_grid array,\n",
    "    continuum_unit VARCHAR,\n",
    "    molecular_unit VARCHAR\n",
    "    );\"\"\"\n",
    "\n",
    "cur.executescript(command)\n",
    "conn.commit()\n",
    "#molecular data table, note the existence of PTID which will be very important\n",
    "command = \"\"\"DROP TABLE IF EXISTS molecular;\n",
    "CREATE TABLE molecular (\n",
    "    id INTEGER PRIMARY KEY,\n",
    "    ptid INTEGER,\n",
    "    molecule VARCHAR ,\n",
    "    pressure FLOAT,\n",
    "    temperature FLOAT,\n",
    "    opacity array);\"\"\"\n",
    "\n",
    "cur.executescript(command)\n",
    "conn.commit()\n",
    "#continuum data table\n",
    "command = \"\"\"DROP TABLE IF EXISTS continuum;\n",
    "CREATE TABLE continuum (\n",
    "    id INTEGER PRIMARY KEY,\n",
    "    molecule VARCHAR ,\n",
    "    temperature FLOAT,\n",
    "    opacity array);\"\"\"\n",
    "\n",
    "cur.executescript(command)\n",
    "conn.commit() #this commits the changes to the database"
   ]
  },
  {
   "cell_type": "markdown",
   "metadata": {},
   "source": [
    "### Insert header info (unit and wave grid info!)\n",
    "\n",
    "The units **MUST** be the same. The wave grid can be whatever as long as it's consistent between continuum and molecular tables."
   ]
  },
  {
   "cell_type": "code",
   "execution_count": 17,
   "metadata": {
    "execution": {
     "iopub.execute_input": "2024-11-13T22:10:07.835822Z",
     "iopub.status.busy": "2024-11-13T22:10:07.835616Z",
     "iopub.status.idle": "2024-11-13T22:10:07.839532Z",
     "shell.execute_reply": "2024-11-13T22:10:07.839067Z"
    }
   },
   "outputs": [],
   "source": [
    "wave_grid = np.linspace(1e4/2, 1e4/0.5, 1000) #fake inverse cm wavenumber grid\n",
    "\n",
    "cur.execute('INSERT INTO header (pressure_unit, temperature_unit, wavenumber_grid, continuum_unit,molecular_unit) values (?,?,?,?,?)', \n",
    "            ('bar','kelvin', np.array(wave_grid), 'cm-1 amagat-2', 'cm2/molecule'))\n",
    "conn.commit()"
   ]
  },
  {
   "cell_type": "markdown",
   "metadata": {},
   "source": [
    "### Insert continuum opacity to database"
   ]
  },
  {
   "cell_type": "code",
   "execution_count": 18,
   "metadata": {
    "execution": {
     "iopub.execute_input": "2024-11-13T22:10:07.842068Z",
     "iopub.status.busy": "2024-11-13T22:10:07.841877Z",
     "iopub.status.idle": "2024-11-13T22:10:07.869279Z",
     "shell.execute_reply": "2024-11-13T22:10:07.868771Z"
    }
   },
   "outputs": [],
   "source": [
    "cia_temperature_grid = [100,300,500,700]\n",
    "#insert continuum\n",
    "for mol in ['H2H2', 'H2He', 'H2H', 'H2CH4', 'H2N2','H2-', 'H-bf', 'H-ff']:\n",
    "    for T in cia_temperature_grid:\n",
    "        OPACITY = wave_grid *0 + 1e-33 #INSERT YOUR OPACITY HERE\n",
    "        cur.execute('INSERT INTO continuum (molecule, temperature, opacity) values (?,?,?)', (mol,float(T), OPACITY))\n",
    "        conn.commit()"
   ]
  },
  {
   "cell_type": "markdown",
   "metadata": {},
   "source": [
    "### Insert molecular opacity to database\n",
    "\n",
    "Again, make sure that your molecules are **case-sensitive**: e.g. Sodium should be `Na` not `NA`"
   ]
  },
  {
   "cell_type": "code",
   "execution_count": 19,
   "metadata": {
    "execution": {
     "iopub.execute_input": "2024-11-13T22:10:07.872847Z",
     "iopub.status.busy": "2024-11-13T22:10:07.872607Z",
     "iopub.status.idle": "2024-11-13T22:10:07.876662Z",
     "shell.execute_reply": "2024-11-13T22:10:07.876206Z"
    }
   },
   "outputs": [
    {
     "data": {
      "text/plain": [
       "[[100, 0.1],\n",
       " [100, 1],\n",
       " [100, 100],\n",
       " [200, 0.1],\n",
       " [200, 1],\n",
       " [200, 100],\n",
       " [400, 0.1],\n",
       " [400, 1],\n",
       " [400, 100]]"
      ]
     },
     "execution_count": 19,
     "metadata": {},
     "output_type": "execute_result"
    }
   ],
   "source": [
    "#create a fake PT grid \n",
    "pts=[]\n",
    "for temp in [100,200,400]:\n",
    "    for pres in [0.1, 1, 100]:\n",
    "        pts += [[temp,pres]]\n",
    "pts"
   ]
  },
  {
   "cell_type": "code",
   "execution_count": 20,
   "metadata": {
    "execution": {
     "iopub.execute_input": "2024-11-13T22:10:07.882039Z",
     "iopub.status.busy": "2024-11-13T22:10:07.881845Z",
     "iopub.status.idle": "2024-11-13T22:10:07.905893Z",
     "shell.execute_reply": "2024-11-13T22:10:07.905407Z"
    }
   },
   "outputs": [],
   "source": [
    "#insert molecular\n",
    "for mol in ['H2O','CO2','CH4']:\n",
    "    i = 1 #NOTE THIS INDEX HERE IS CRUCIAL! It will be how we quickly locate opacities \n",
    "    for T,P in pts:\n",
    "        OPACITY = wave_grid *0 + 1e-33 #INSERT YOUR OPACITY HERE\n",
    "        cur.execute('INSERT INTO molecular (ptid, molecule, temperature, pressure,opacity) values (?,?,?,?,?)', (i,mol,float(T),float(P), OPACITY))\n",
    "        conn.commit()\n",
    "        i+=1"
   ]
  },
  {
   "cell_type": "code",
   "execution_count": 21,
   "metadata": {
    "execution": {
     "iopub.execute_input": "2024-11-13T22:10:07.909879Z",
     "iopub.status.busy": "2024-11-13T22:10:07.909674Z",
     "iopub.status.idle": "2024-11-13T22:10:07.912178Z",
     "shell.execute_reply": "2024-11-13T22:10:07.911684Z"
    }
   },
   "outputs": [],
   "source": [
    "#ALL DONE!!!\n",
    "conn.close()"
   ]
  }
 ],
 "metadata": {
  "kernelspec": {
   "display_name": "Python 3 (ipykernel)",
   "language": "python",
   "name": "python3"
  },
  "language_info": {
   "codemirror_mode": {
    "name": "ipython",
    "version": 3
   },
   "file_extension": ".py",
   "mimetype": "text/x-python",
   "name": "python",
   "nbconvert_exporter": "python",
   "pygments_lexer": "ipython3",
   "version": "3.11.8"
  },
  "varInspector": {
   "cols": {
    "lenName": 16,
    "lenType": 16,
    "lenVar": 40
   },
   "kernels_config": {
    "python": {
     "delete_cmd_postfix": "",
     "delete_cmd_prefix": "del ",
     "library": "var_list.py",
     "varRefreshCmd": "print(var_dic_list())"
    },
    "r": {
     "delete_cmd_postfix": ") ",
     "delete_cmd_prefix": "rm(",
     "library": "var_list.r",
     "varRefreshCmd": "cat(var_dic_list()) "
    }
   },
   "types_to_exclude": [
    "module",
    "function",
    "builtin_function_or_method",
    "instance",
    "_Feature"
   ],
   "window_display": false
  }
 },
 "nbformat": 4,
 "nbformat_minor": 4
}
