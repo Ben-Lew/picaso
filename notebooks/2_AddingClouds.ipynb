{
 "cells": [
  {
   "cell_type": "code",
   "execution_count": null,
   "metadata": {},
   "outputs": [],
   "source": [
    "import numpy as np\n",
    "import pandas as pd\n",
    "#picaso\n",
    "from picaso import justdoit as jdi \n",
    "from picaso import justplotit as jpi"
   ]
  },
  {
   "cell_type": "markdown",
   "metadata": {},
   "source": [
    "## Let's play around with adding clouds \n",
    "\n",
    "### Same inputs as before...\n"
   ]
  },
  {
   "cell_type": "code",
   "execution_count": null,
   "metadata": {},
   "outputs": [],
   "source": [
    "all_inputs = jdi.load_inputs()"
   ]
  },
  {
   "cell_type": "code",
   "execution_count": null,
   "metadata": {
    "collapsed": true
   },
   "outputs": [],
   "source": [
    "#gravity \n",
    "all_inputs['planet']['gravity'] = 25\n",
    "all_inputs['planet']['gravity_unit'] = 'm/(s**2)' #any astropy units are okay here \n",
    "#can also enter in radius and mass \n",
    "#all_inputs['planet']['mass']=1\n",
    "#all_inputs['planet']['mass_unit'] = 'M_earth' (radius would be the same but with 'radius' and 'radius_unit')\n",
    "\n",
    "#add star properties \n",
    "all_inputs['star']['temp'] = 6000 #kelvin\n",
    "all_inputs['star']['metal'] = 0.0122 #log metal\n",
    "all_inputs['star']['logg'] = 4.437 #log cgs\n",
    "\n",
    "all_inputs['atmosphere']['profile']['filepath'] = jdi.jupiter_pt() #this is a pointer to a preloaded PT profile \n",
    "                                                                   #to help guide us"
   ]
  },
  {
   "cell_type": "markdown",
   "metadata": {},
   "source": [
    "## Specify filepath"
   ]
  },
  {
   "cell_type": "code",
   "execution_count": null,
   "metadata": {
    "collapsed": true
   },
   "outputs": [],
   "source": [
    "all_inputs['atmosphere']['clouds']['filepath'] =  jdi.jupiter_cld()\n",
    "#run \n",
    "phase_angle = 0 #radians\n",
    "wno, alb = jdi.picaso(all_inputs, phase_angle)\n"
   ]
  },
  {
   "cell_type": "code",
   "execution_count": null,
   "metadata": {
    "collapsed": true
   },
   "outputs": [],
   "source": [
    "from bokeh.plotting import show\n",
    "show(jpi.spectrum(wno, alb))"
   ]
  },
  {
   "cell_type": "markdown",
   "metadata": {},
   "source": [
    "## Cloud input File Description\n",
    "\n",
    "We define our cloud properties by : \n",
    "\n",
    "1) **g0** : Asymmetry factor of the cloud (value between 0 - 1)\n",
    "\n",
    "2) **w0** : Single scattering albedo (value between 0 - 1)\n",
    "\n",
    "3) **opd** : Total extinction (tau) of each layer (**not** cumulative) \n",
    "\n",
    "\n",
    "### Cloud file specifications \n",
    "\n",
    "1) Pressure and temperature are specified at the boundaries of each level. Cloud parameters are specified for each slab. Therefore, your cloud file should have (number pt points -1) layers. \n",
    "\n",
    "2) Cloud files are pressure AND wavelength dependent. The file format should look something like:\n",
    "\n",
    "    nlayer nwave w0 g0 opd\n",
    "    \n",
    "    1      1     #  #  # \n",
    "    \n",
    "    1      2     #  #  #\n",
    "    \n",
    "    1      3     #  #  #\n",
    "    \n",
    "    .      .     .  .  .\n",
    "    \n",
    "    1      nwno  .  .  .\n",
    "    \n",
    "    2      1     .  .  .\n",
    "    .      .     .  .  .\n",
    "    npt-1  .     .  .  .\n",
    "\n",
    "3) Same as PT, whitespace with headers named as above in no particular order: \"g0\" \"w0\" \"opd\""
   ]
  },
  {
   "cell_type": "code",
   "execution_count": null,
   "metadata": {},
   "outputs": [],
   "source": [
    "#Let's look at the premade example\n",
    "cld = pd.read_csv(jdi.jupiter_cld(), delim_whitespace=True)\n",
    "cld.head()\n",
    "#note, it is not required that lvl wv and sigma be in there"
   ]
  },
  {
   "cell_type": "markdown",
   "metadata": {},
   "source": [
    "## Cloud Wavelength Grid \n",
    "\n",
    "Historically, the wavelength grid is input separately from the cloud file. Sorry! **\n",
    "\n",
    "**If you are using Ackerman & Marley code to produce these files, your output will always be on the 196 wavegrid and you can you use the default grid**\n",
    "\n",
    "If not follow the steps below"
   ]
  },
  {
   "cell_type": "code",
   "execution_count": null,
   "metadata": {
    "collapsed": true
   },
   "outputs": [],
   "source": [
    "all_inputs['atmosphere']['clouds']['wavenumber'] = np.linspace(10000,30000,200) #or whatever or grid is \n",
    "#OR \n",
    "#all_inputs['atmosphere']['clouds']['wavenumber'] = 'path/to/wave/grid'"
   ]
  }
 ],
 "metadata": {
  "kernelspec": {
   "display_name": "Python 3",
   "language": "python",
   "name": "python3"
  },
  "language_info": {
   "codemirror_mode": {
    "name": "ipython",
    "version": 3
   },
   "file_extension": ".py",
   "mimetype": "text/x-python",
   "name": "python",
   "nbconvert_exporter": "python",
   "pygments_lexer": "ipython3",
   "version": "3.6.6"
  }
 },
 "nbformat": 4,
 "nbformat_minor": 2
}
