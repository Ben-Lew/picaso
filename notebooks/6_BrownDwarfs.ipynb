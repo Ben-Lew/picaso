{
 "cells": [
  {
   "cell_type": "markdown",
   "metadata": {},
   "source": [
    "# Brown Dwarf Models\n",
    "\n",
    "Modeling brown dwarfs is very similar to modeling thermal emission for exoplanets. The only difference is there is no stellar input!\n",
    "\n",
    "In this tutorial you will learn:\n",
    "\n",
    "1. How to turn that feature off \n",
    "2. Query a profile from the [Sonora Grid](https://zenodo.org/record/1309035#.Xo5GbZNKjGJ). Note, this is note necessary -- just convenient! \n",
    "3. Create a Brown Dwarf Spectrum "
   ]
  },
  {
   "cell_type": "code",
   "execution_count": 1,
   "metadata": {
    "execution": {
     "iopub.execute_input": "2024-04-02T06:08:01.718174Z",
     "iopub.status.busy": "2024-04-02T06:08:01.717605Z",
     "iopub.status.idle": "2024-04-02T06:08:03.470658Z",
     "shell.execute_reply": "2024-04-02T06:08:03.470110Z"
    }
   },
   "outputs": [
    {
     "data": {
      "text/html": [
       "<style>\n",
       "        .bk-notebook-logo {\n",
       "            display: block;\n",
       "            width: 20px;\n",
       "            height: 20px;\n",
       "            background-image: url(data:image/png;base64,iVBORw0KGgoAAAANSUhEUgAAABQAAAAUCAYAAACNiR0NAAAABHNCSVQICAgIfAhkiAAAAAlwSFlzAAALEgAACxIB0t1+/AAAABx0RVh0U29mdHdhcmUAQWRvYmUgRmlyZXdvcmtzIENTNui8sowAAAOkSURBVDiNjZRtaJVlGMd/1/08zzln5zjP1LWcU9N0NkN8m2CYjpgQYQXqSs0I84OLIC0hkEKoPtiH3gmKoiJDU7QpLgoLjLIQCpEsNJ1vqUOdO7ppbuec5+V+rj4ctwzd8IIbbi6u+8f1539dt3A78eXC7QizUF7gyV1fD1Yqg4JWz84yffhm0qkFqBogB9rM8tZdtwVsPUhWhGcFJngGeWrPzHm5oaMmkfEg1usvLFyc8jLRqDOMru7AyC8saQr7GG7f5fvDeH7Ej8CM66nIF+8yngt6HWaKh7k49Soy9nXurCi1o3qUbS3zWfrYeQDTB/Qj6kX6Ybhw4B+bOYoLKCC9H3Nu/leUTZ1JdRWkkn2ldcCamzrcf47KKXdAJllSlxAOkRgyHsGC/zRday5Qld9DyoM4/q/rUoy/CXh3jzOu3bHUVZeU+DEn8FInkPBFlu3+nW3Nw0mk6vCDiWg8CeJaxEwuHS3+z5RgY+YBR6V1Z1nxSOfoaPa4LASWxxdNp+VWTk7+4vzaou8v8PN+xo+KY2xsw6une2frhw05CTYOmQvsEhjhWjn0bmXPjpE1+kplmmkP3suftwTubK9Vq22qKmrBhpY4jvd5afdRA3wGjFAgcnTK2s4hY0/GPNIb0nErGMCRxWOOX64Z8RAC4oCXdklmEvcL8o0BfkNK4lUg9HTl+oPlQxdNo3Mg4Nv175e/1LDGzZen30MEjRUtmXSfiTVu1kK8W4txyV6BMKlbgk3lMwYCiusNy9fVfvvwMxv8Ynl6vxoByANLTWplvuj/nF9m2+PDtt1eiHPBr1oIfhCChQMBw6Aw0UulqTKZdfVvfG7VcfIqLG9bcldL/+pdWTLxLUy8Qq38heUIjh4XlzZxzQm19lLFlr8vdQ97rjZVOLf8nclzckbcD4wxXMidpX30sFd37Fv/GtwwhzhxGVAprjbg0gCAEeIgwCZyTV2Z1REEW8O4py0wsjeloKoMr6iCY6dP92H6Vw/oTyICIthibxjm/DfN9lVz8IqtqKYLUXfoKVMVQVVJOElGjrnnUt9T9wbgp8AyYKaGlqingHZU/uG2NTZSVqwHQTWkx9hxjkpWDaCg6Ckj5qebgBVbT3V3NNXMSiWSDdGV3hrtzla7J+duwPOToIg42ChPQOQjspnSlp1V+Gjdged7+8UN5CRAV7a5EdFNwCjEaBR27b3W890TE7g24NAP/mMDXRWrGoFPQI9ls/MWO2dWFAar/xcOIImbbpA3zgAAAABJRU5ErkJggg==);\n",
       "        }\n",
       "    </style>\n",
       "    <div>\n",
       "        <a href=\"https://bokeh.org\" target=\"_blank\" class=\"bk-notebook-logo\"></a>\n",
       "        <span id=\"p1001\">Loading BokehJS ...</span>\n",
       "    </div>\n"
      ]
     },
     "metadata": {},
     "output_type": "display_data"
    },
    {
     "data": {
      "application/javascript": [
       "(function(root) {\n",
       "  function now() {\n",
       "    return new Date();\n",
       "  }\n",
       "\n",
       "  const force = true;\n",
       "\n",
       "  if (typeof root._bokeh_onload_callbacks === \"undefined\" || force === true) {\n",
       "    root._bokeh_onload_callbacks = [];\n",
       "    root._bokeh_is_loading = undefined;\n",
       "  }\n",
       "\n",
       "const JS_MIME_TYPE = 'application/javascript';\n",
       "  const HTML_MIME_TYPE = 'text/html';\n",
       "  const EXEC_MIME_TYPE = 'application/vnd.bokehjs_exec.v0+json';\n",
       "  const CLASS_NAME = 'output_bokeh rendered_html';\n",
       "\n",
       "  /**\n",
       "   * Render data to the DOM node\n",
       "   */\n",
       "  function render(props, node) {\n",
       "    const script = document.createElement(\"script\");\n",
       "    node.appendChild(script);\n",
       "  }\n",
       "\n",
       "  /**\n",
       "   * Handle when an output is cleared or removed\n",
       "   */\n",
       "  function handleClearOutput(event, handle) {\n",
       "    const cell = handle.cell;\n",
       "\n",
       "    const id = cell.output_area._bokeh_element_id;\n",
       "    const server_id = cell.output_area._bokeh_server_id;\n",
       "    // Clean up Bokeh references\n",
       "    if (id != null && id in Bokeh.index) {\n",
       "      Bokeh.index[id].model.document.clear();\n",
       "      delete Bokeh.index[id];\n",
       "    }\n",
       "\n",
       "    if (server_id !== undefined) {\n",
       "      // Clean up Bokeh references\n",
       "      const cmd_clean = \"from bokeh.io.state import curstate; print(curstate().uuid_to_server['\" + server_id + \"'].get_sessions()[0].document.roots[0]._id)\";\n",
       "      cell.notebook.kernel.execute(cmd_clean, {\n",
       "        iopub: {\n",
       "          output: function(msg) {\n",
       "            const id = msg.content.text.trim();\n",
       "            if (id in Bokeh.index) {\n",
       "              Bokeh.index[id].model.document.clear();\n",
       "              delete Bokeh.index[id];\n",
       "            }\n",
       "          }\n",
       "        }\n",
       "      });\n",
       "      // Destroy server and session\n",
       "      const cmd_destroy = \"import bokeh.io.notebook as ion; ion.destroy_server('\" + server_id + \"')\";\n",
       "      cell.notebook.kernel.execute(cmd_destroy);\n",
       "    }\n",
       "  }\n",
       "\n",
       "  /**\n",
       "   * Handle when a new output is added\n",
       "   */\n",
       "  function handleAddOutput(event, handle) {\n",
       "    const output_area = handle.output_area;\n",
       "    const output = handle.output;\n",
       "\n",
       "    // limit handleAddOutput to display_data with EXEC_MIME_TYPE content only\n",
       "    if ((output.output_type != \"display_data\") || (!Object.prototype.hasOwnProperty.call(output.data, EXEC_MIME_TYPE))) {\n",
       "      return\n",
       "    }\n",
       "\n",
       "    const toinsert = output_area.element.find(\".\" + CLASS_NAME.split(' ')[0]);\n",
       "\n",
       "    if (output.metadata[EXEC_MIME_TYPE][\"id\"] !== undefined) {\n",
       "      toinsert[toinsert.length - 1].firstChild.textContent = output.data[JS_MIME_TYPE];\n",
       "      // store reference to embed id on output_area\n",
       "      output_area._bokeh_element_id = output.metadata[EXEC_MIME_TYPE][\"id\"];\n",
       "    }\n",
       "    if (output.metadata[EXEC_MIME_TYPE][\"server_id\"] !== undefined) {\n",
       "      const bk_div = document.createElement(\"div\");\n",
       "      bk_div.innerHTML = output.data[HTML_MIME_TYPE];\n",
       "      const script_attrs = bk_div.children[0].attributes;\n",
       "      for (let i = 0; i < script_attrs.length; i++) {\n",
       "        toinsert[toinsert.length - 1].firstChild.setAttribute(script_attrs[i].name, script_attrs[i].value);\n",
       "        toinsert[toinsert.length - 1].firstChild.textContent = bk_div.children[0].textContent\n",
       "      }\n",
       "      // store reference to server id on output_area\n",
       "      output_area._bokeh_server_id = output.metadata[EXEC_MIME_TYPE][\"server_id\"];\n",
       "    }\n",
       "  }\n",
       "\n",
       "  function register_renderer(events, OutputArea) {\n",
       "\n",
       "    function append_mime(data, metadata, element) {\n",
       "      // create a DOM node to render to\n",
       "      const toinsert = this.create_output_subarea(\n",
       "        metadata,\n",
       "        CLASS_NAME,\n",
       "        EXEC_MIME_TYPE\n",
       "      );\n",
       "      this.keyboard_manager.register_events(toinsert);\n",
       "      // Render to node\n",
       "      const props = {data: data, metadata: metadata[EXEC_MIME_TYPE]};\n",
       "      render(props, toinsert[toinsert.length - 1]);\n",
       "      element.append(toinsert);\n",
       "      return toinsert\n",
       "    }\n",
       "\n",
       "    /* Handle when an output is cleared or removed */\n",
       "    events.on('clear_output.CodeCell', handleClearOutput);\n",
       "    events.on('delete.Cell', handleClearOutput);\n",
       "\n",
       "    /* Handle when a new output is added */\n",
       "    events.on('output_added.OutputArea', handleAddOutput);\n",
       "\n",
       "    /**\n",
       "     * Register the mime type and append_mime function with output_area\n",
       "     */\n",
       "    OutputArea.prototype.register_mime_type(EXEC_MIME_TYPE, append_mime, {\n",
       "      /* Is output safe? */\n",
       "      safe: true,\n",
       "      /* Index of renderer in `output_area.display_order` */\n",
       "      index: 0\n",
       "    });\n",
       "  }\n",
       "\n",
       "  // register the mime type if in Jupyter Notebook environment and previously unregistered\n",
       "  if (root.Jupyter !== undefined) {\n",
       "    const events = require('base/js/events');\n",
       "    const OutputArea = require('notebook/js/outputarea').OutputArea;\n",
       "\n",
       "    if (OutputArea.prototype.mime_types().indexOf(EXEC_MIME_TYPE) == -1) {\n",
       "      register_renderer(events, OutputArea);\n",
       "    }\n",
       "  }\n",
       "  if (typeof (root._bokeh_timeout) === \"undefined\" || force === true) {\n",
       "    root._bokeh_timeout = Date.now() + 5000;\n",
       "    root._bokeh_failed_load = false;\n",
       "  }\n",
       "\n",
       "  const NB_LOAD_WARNING = {'data': {'text/html':\n",
       "     \"<div style='background-color: #fdd'>\\n\"+\n",
       "     \"<p>\\n\"+\n",
       "     \"BokehJS does not appear to have successfully loaded. If loading BokehJS from CDN, this \\n\"+\n",
       "     \"may be due to a slow or bad network connection. Possible fixes:\\n\"+\n",
       "     \"</p>\\n\"+\n",
       "     \"<ul>\\n\"+\n",
       "     \"<li>re-rerun `output_notebook()` to attempt to load from CDN again, or</li>\\n\"+\n",
       "     \"<li>use INLINE resources instead, as so:</li>\\n\"+\n",
       "     \"</ul>\\n\"+\n",
       "     \"<code>\\n\"+\n",
       "     \"from bokeh.resources import INLINE\\n\"+\n",
       "     \"output_notebook(resources=INLINE)\\n\"+\n",
       "     \"</code>\\n\"+\n",
       "     \"</div>\"}};\n",
       "\n",
       "  function display_loaded() {\n",
       "    const el = document.getElementById(\"p1001\");\n",
       "    if (el != null) {\n",
       "      el.textContent = \"BokehJS is loading...\";\n",
       "    }\n",
       "    if (root.Bokeh !== undefined) {\n",
       "      if (el != null) {\n",
       "        el.textContent = \"BokehJS \" + root.Bokeh.version + \" successfully loaded.\";\n",
       "      }\n",
       "    } else if (Date.now() < root._bokeh_timeout) {\n",
       "      setTimeout(display_loaded, 100)\n",
       "    }\n",
       "  }\n",
       "\n",
       "  function run_callbacks() {\n",
       "    try {\n",
       "      root._bokeh_onload_callbacks.forEach(function(callback) {\n",
       "        if (callback != null)\n",
       "          callback();\n",
       "      });\n",
       "    } finally {\n",
       "      delete root._bokeh_onload_callbacks\n",
       "    }\n",
       "    console.debug(\"Bokeh: all callbacks have finished\");\n",
       "  }\n",
       "\n",
       "  function load_libs(css_urls, js_urls, callback) {\n",
       "    if (css_urls == null) css_urls = [];\n",
       "    if (js_urls == null) js_urls = [];\n",
       "\n",
       "    root._bokeh_onload_callbacks.push(callback);\n",
       "    if (root._bokeh_is_loading > 0) {\n",
       "      console.debug(\"Bokeh: BokehJS is being loaded, scheduling callback at\", now());\n",
       "      return null;\n",
       "    }\n",
       "    if (js_urls == null || js_urls.length === 0) {\n",
       "      run_callbacks();\n",
       "      return null;\n",
       "    }\n",
       "    console.debug(\"Bokeh: BokehJS not loaded, scheduling load and callback at\", now());\n",
       "    root._bokeh_is_loading = css_urls.length + js_urls.length;\n",
       "\n",
       "    function on_load() {\n",
       "      root._bokeh_is_loading--;\n",
       "      if (root._bokeh_is_loading === 0) {\n",
       "        console.debug(\"Bokeh: all BokehJS libraries/stylesheets loaded\");\n",
       "        run_callbacks()\n",
       "      }\n",
       "    }\n",
       "\n",
       "    function on_error(url) {\n",
       "      console.error(\"failed to load \" + url);\n",
       "    }\n",
       "\n",
       "    for (let i = 0; i < css_urls.length; i++) {\n",
       "      const url = css_urls[i];\n",
       "      const element = document.createElement(\"link\");\n",
       "      element.onload = on_load;\n",
       "      element.onerror = on_error.bind(null, url);\n",
       "      element.rel = \"stylesheet\";\n",
       "      element.type = \"text/css\";\n",
       "      element.href = url;\n",
       "      console.debug(\"Bokeh: injecting link tag for BokehJS stylesheet: \", url);\n",
       "      document.body.appendChild(element);\n",
       "    }\n",
       "\n",
       "    for (let i = 0; i < js_urls.length; i++) {\n",
       "      const url = js_urls[i];\n",
       "      const element = document.createElement('script');\n",
       "      element.onload = on_load;\n",
       "      element.onerror = on_error.bind(null, url);\n",
       "      element.async = false;\n",
       "      element.src = url;\n",
       "      console.debug(\"Bokeh: injecting script tag for BokehJS library: \", url);\n",
       "      document.head.appendChild(element);\n",
       "    }\n",
       "  };\n",
       "\n",
       "  function inject_raw_css(css) {\n",
       "    const element = document.createElement(\"style\");\n",
       "    element.appendChild(document.createTextNode(css));\n",
       "    document.body.appendChild(element);\n",
       "  }\n",
       "\n",
       "  const js_urls = [\"https://cdn.bokeh.org/bokeh/release/bokeh-3.0.2.min.js\", \"https://cdn.bokeh.org/bokeh/release/bokeh-gl-3.0.2.min.js\", \"https://cdn.bokeh.org/bokeh/release/bokeh-widgets-3.0.2.min.js\", \"https://cdn.bokeh.org/bokeh/release/bokeh-tables-3.0.2.min.js\", \"https://cdn.bokeh.org/bokeh/release/bokeh-mathjax-3.0.2.min.js\"];\n",
       "  const css_urls = [];\n",
       "\n",
       "  const inline_js = [    function(Bokeh) {\n",
       "      Bokeh.set_log_level(\"info\");\n",
       "    },\n",
       "function(Bokeh) {\n",
       "    }\n",
       "  ];\n",
       "\n",
       "  function run_inline_js() {\n",
       "    if (root.Bokeh !== undefined || force === true) {\n",
       "          for (let i = 0; i < inline_js.length; i++) {\n",
       "      inline_js[i].call(root, root.Bokeh);\n",
       "    }\n",
       "if (force === true) {\n",
       "        display_loaded();\n",
       "      }} else if (Date.now() < root._bokeh_timeout) {\n",
       "      setTimeout(run_inline_js, 100);\n",
       "    } else if (!root._bokeh_failed_load) {\n",
       "      console.log(\"Bokeh: BokehJS failed to load within specified timeout.\");\n",
       "      root._bokeh_failed_load = true;\n",
       "    } else if (force !== true) {\n",
       "      const cell = $(document.getElementById(\"p1001\")).parents('.cell').data().cell;\n",
       "      cell.output_area.append_execute_result(NB_LOAD_WARNING)\n",
       "    }\n",
       "  }\n",
       "\n",
       "  if (root._bokeh_is_loading === 0) {\n",
       "    console.debug(\"Bokeh: BokehJS loaded, going straight to plotting\");\n",
       "    run_inline_js();\n",
       "  } else {\n",
       "    load_libs(css_urls, js_urls, function() {\n",
       "      console.debug(\"Bokeh: BokehJS plotting callback run at\", now());\n",
       "      run_inline_js();\n",
       "    });\n",
       "  }\n",
       "}(window));"
      ],
      "application/vnd.bokehjs_load.v0+json": "(function(root) {\n  function now() {\n    return new Date();\n  }\n\n  const force = true;\n\n  if (typeof root._bokeh_onload_callbacks === \"undefined\" || force === true) {\n    root._bokeh_onload_callbacks = [];\n    root._bokeh_is_loading = undefined;\n  }\n\n\n  if (typeof (root._bokeh_timeout) === \"undefined\" || force === true) {\n    root._bokeh_timeout = Date.now() + 5000;\n    root._bokeh_failed_load = false;\n  }\n\n  const NB_LOAD_WARNING = {'data': {'text/html':\n     \"<div style='background-color: #fdd'>\\n\"+\n     \"<p>\\n\"+\n     \"BokehJS does not appear to have successfully loaded. If loading BokehJS from CDN, this \\n\"+\n     \"may be due to a slow or bad network connection. Possible fixes:\\n\"+\n     \"</p>\\n\"+\n     \"<ul>\\n\"+\n     \"<li>re-rerun `output_notebook()` to attempt to load from CDN again, or</li>\\n\"+\n     \"<li>use INLINE resources instead, as so:</li>\\n\"+\n     \"</ul>\\n\"+\n     \"<code>\\n\"+\n     \"from bokeh.resources import INLINE\\n\"+\n     \"output_notebook(resources=INLINE)\\n\"+\n     \"</code>\\n\"+\n     \"</div>\"}};\n\n  function display_loaded() {\n    const el = document.getElementById(\"p1001\");\n    if (el != null) {\n      el.textContent = \"BokehJS is loading...\";\n    }\n    if (root.Bokeh !== undefined) {\n      if (el != null) {\n        el.textContent = \"BokehJS \" + root.Bokeh.version + \" successfully loaded.\";\n      }\n    } else if (Date.now() < root._bokeh_timeout) {\n      setTimeout(display_loaded, 100)\n    }\n  }\n\n  function run_callbacks() {\n    try {\n      root._bokeh_onload_callbacks.forEach(function(callback) {\n        if (callback != null)\n          callback();\n      });\n    } finally {\n      delete root._bokeh_onload_callbacks\n    }\n    console.debug(\"Bokeh: all callbacks have finished\");\n  }\n\n  function load_libs(css_urls, js_urls, callback) {\n    if (css_urls == null) css_urls = [];\n    if (js_urls == null) js_urls = [];\n\n    root._bokeh_onload_callbacks.push(callback);\n    if (root._bokeh_is_loading > 0) {\n      console.debug(\"Bokeh: BokehJS is being loaded, scheduling callback at\", now());\n      return null;\n    }\n    if (js_urls == null || js_urls.length === 0) {\n      run_callbacks();\n      return null;\n    }\n    console.debug(\"Bokeh: BokehJS not loaded, scheduling load and callback at\", now());\n    root._bokeh_is_loading = css_urls.length + js_urls.length;\n\n    function on_load() {\n      root._bokeh_is_loading--;\n      if (root._bokeh_is_loading === 0) {\n        console.debug(\"Bokeh: all BokehJS libraries/stylesheets loaded\");\n        run_callbacks()\n      }\n    }\n\n    function on_error(url) {\n      console.error(\"failed to load \" + url);\n    }\n\n    for (let i = 0; i < css_urls.length; i++) {\n      const url = css_urls[i];\n      const element = document.createElement(\"link\");\n      element.onload = on_load;\n      element.onerror = on_error.bind(null, url);\n      element.rel = \"stylesheet\";\n      element.type = \"text/css\";\n      element.href = url;\n      console.debug(\"Bokeh: injecting link tag for BokehJS stylesheet: \", url);\n      document.body.appendChild(element);\n    }\n\n    for (let i = 0; i < js_urls.length; i++) {\n      const url = js_urls[i];\n      const element = document.createElement('script');\n      element.onload = on_load;\n      element.onerror = on_error.bind(null, url);\n      element.async = false;\n      element.src = url;\n      console.debug(\"Bokeh: injecting script tag for BokehJS library: \", url);\n      document.head.appendChild(element);\n    }\n  };\n\n  function inject_raw_css(css) {\n    const element = document.createElement(\"style\");\n    element.appendChild(document.createTextNode(css));\n    document.body.appendChild(element);\n  }\n\n  const js_urls = [\"https://cdn.bokeh.org/bokeh/release/bokeh-3.0.2.min.js\", \"https://cdn.bokeh.org/bokeh/release/bokeh-gl-3.0.2.min.js\", \"https://cdn.bokeh.org/bokeh/release/bokeh-widgets-3.0.2.min.js\", \"https://cdn.bokeh.org/bokeh/release/bokeh-tables-3.0.2.min.js\", \"https://cdn.bokeh.org/bokeh/release/bokeh-mathjax-3.0.2.min.js\"];\n  const css_urls = [];\n\n  const inline_js = [    function(Bokeh) {\n      Bokeh.set_log_level(\"info\");\n    },\nfunction(Bokeh) {\n    }\n  ];\n\n  function run_inline_js() {\n    if (root.Bokeh !== undefined || force === true) {\n          for (let i = 0; i < inline_js.length; i++) {\n      inline_js[i].call(root, root.Bokeh);\n    }\nif (force === true) {\n        display_loaded();\n      }} else if (Date.now() < root._bokeh_timeout) {\n      setTimeout(run_inline_js, 100);\n    } else if (!root._bokeh_failed_load) {\n      console.log(\"Bokeh: BokehJS failed to load within specified timeout.\");\n      root._bokeh_failed_load = true;\n    } else if (force !== true) {\n      const cell = $(document.getElementById(\"p1001\")).parents('.cell').data().cell;\n      cell.output_area.append_execute_result(NB_LOAD_WARNING)\n    }\n  }\n\n  if (root._bokeh_is_loading === 0) {\n    console.debug(\"Bokeh: BokehJS loaded, going straight to plotting\");\n    run_inline_js();\n  } else {\n    load_libs(css_urls, js_urls, function() {\n      console.debug(\"Bokeh: BokehJS plotting callback run at\", now());\n      run_inline_js();\n    });\n  }\n}(window));"
     },
     "metadata": {},
     "output_type": "display_data"
    }
   ],
   "source": [
    "import warnings\n",
    "warnings.filterwarnings('ignore')\n",
    "import numpy as np\n",
    "import pandas as pd\n",
    "import astropy.units as u\n",
    "\n",
    "#picaso\n",
    "from picaso import justdoit as jdi \n",
    "from picaso import justplotit as jpi\n",
    "#plotting\n",
    "from bokeh.io import output_notebook\n",
    "\n",
    "output_notebook()\n",
    "from bokeh.plotting import show,figure"
   ]
  },
  {
   "cell_type": "markdown",
   "metadata": {},
   "source": [
    "Start with the same inputs as before"
   ]
  },
  {
   "cell_type": "code",
   "execution_count": 2,
   "metadata": {
    "execution": {
     "iopub.execute_input": "2024-04-02T06:08:03.476687Z",
     "iopub.status.busy": "2024-04-02T06:08:03.476320Z",
     "iopub.status.idle": "2024-04-02T06:08:03.612235Z",
     "shell.execute_reply": "2024-04-02T06:08:03.611658Z"
    }
   },
   "outputs": [],
   "source": [
    "wave_range = [3,5]\n",
    "\n",
    "opa = jdi.opannection(wave_range=wave_range)\n",
    "\n",
    "bd = jdi.inputs(calculation='browndwarf')\n"
   ]
  },
  {
   "cell_type": "code",
   "execution_count": 3,
   "metadata": {
    "execution": {
     "iopub.execute_input": "2024-04-02T06:08:03.616897Z",
     "iopub.status.busy": "2024-04-02T06:08:03.616617Z",
     "iopub.status.idle": "2024-04-02T06:08:03.875777Z",
     "shell.execute_reply": "2024-04-02T06:08:03.874921Z"
    }
   },
   "outputs": [],
   "source": [
    "# Note here that we do not need to provide case.star, since there is none! \n",
    "bd.gravity(gravity=100 , gravity_unit=u.Unit('m/s**2'))\n",
    "\n",
    "#this is the integration setup that was used to compute the Sonora grid \n",
    "#take a look at Spherical Integration Tutorial to get a look at what these parameters do\n",
    "bd.phase_angle(0)\n"
   ]
  },
  {
   "cell_type": "markdown",
   "metadata": {},
   "source": [
    "## Download and Query from Sonora Profile Grid \n",
    "\n",
    "Download the profile files that are located in the [profile.tar file](https://zenodo.org/record/1309035#.Xo5GbZNKjGJ)\n",
    "\n",
    "Once you untar the file you can set the file path below. You do not need to unzip each profile. `picaso` will do that upon read in. `picaso` will find the nearest neighbor and attach it to your class. "
   ]
  },
  {
   "cell_type": "code",
   "execution_count": 4,
   "metadata": {
    "execution": {
     "iopub.execute_input": "2024-04-02T06:08:03.880529Z",
     "iopub.status.busy": "2024-04-02T06:08:03.880244Z",
     "iopub.status.idle": "2024-04-02T06:08:03.906622Z",
     "shell.execute_reply": "2024-04-02T06:08:03.905523Z"
    }
   },
   "outputs": [],
   "source": [
    "#point to where you untared your sonora profiles\n",
    "sonora_profile_db = '/data/sonora_profile/'\n",
    "Teff = 900 \n",
    "#this function will grab the gravity you have input above and find the nearest neighbor with the \n",
    "#note sonora chemistry grid is on the same opacity grid as our opacities (1060). \n",
    "bd.sonora(sonora_profile_db, Teff)"
   ]
  },
  {
   "cell_type": "markdown",
   "metadata": {},
   "source": [
    "Note if you have added anything to your atmosphere profile (`bd.inputs['atmosphere']['profile']`), `sonora` function will overwrite it! Therefore, **make sure that you add new column fields after running sonora.** "
   ]
  },
  {
   "cell_type": "markdown",
   "metadata": {},
   "source": [
    "## Run Spectrum"
   ]
  },
  {
   "cell_type": "code",
   "execution_count": 5,
   "metadata": {
    "execution": {
     "iopub.execute_input": "2024-04-02T06:08:03.911050Z",
     "iopub.status.busy": "2024-04-02T06:08:03.910788Z",
     "iopub.status.idle": "2024-04-02T06:08:05.238114Z",
     "shell.execute_reply": "2024-04-02T06:08:05.237257Z"
    }
   },
   "outputs": [],
   "source": [
    "df = bd.spectrum(opa, full_output=True)"
   ]
  },
  {
   "cell_type": "markdown",
   "metadata": {},
   "source": [
    "## Convert to $F_\\nu$ Units and Regrid\n",
    "\n",
    "`PICASO` outputs the raw flux as: \n",
    "\n",
    "$$ F_\\lambda ( \\frac{erc}{cm^2 * sec * cm}) $$\n",
    "\n",
    "Typical fluxes shown in several Brown Dwarf papers are: \n",
    "\n",
    "$$ F_\\nu ( \\frac{erc}{cm^2 * sec * Hz}) $$\n",
    "\n",
    "Below is a little example of how to convert units. \n",
    "\n",
    "**NOTE**: Some people like to plot out `Eddington Flux`, $H_\\nu$. This gets confusing as the units appear to be erg/cm2/s/Hz but you will notice a factor of four difference: \n",
    "\n",
    "$$H_\\nu = \\frac{F_\\nu}{4}$$"
   ]
  },
  {
   "cell_type": "code",
   "execution_count": 6,
   "metadata": {
    "execution": {
     "iopub.execute_input": "2024-04-02T06:08:05.242863Z",
     "iopub.status.busy": "2024-04-02T06:08:05.242588Z",
     "iopub.status.idle": "2024-04-02T06:08:05.249877Z",
     "shell.execute_reply": "2024-04-02T06:08:05.248849Z"
    }
   },
   "outputs": [],
   "source": [
    "x,y = df['wavenumber'], df['thermal'] #units of erg/cm2/s/cm\n",
    "\n",
    "xmicron = 1e4/x\n",
    "\n",
    "flamy = y*1e-8 #per anstrom instead of per cm\n",
    "sp = jdi.psyn.ArraySpectrum(xmicron, flamy, \n",
    "                            waveunits='um', \n",
    "                            fluxunits='FLAM')   \n",
    "sp.convert(\"um\")\n",
    "sp.convert('Fnu') #erg/cm2/s/Hz\n",
    "\n",
    "x = sp.wave #micron\n",
    "y= sp.flux #erg/cm2/s/Hz\n",
    "df['fluxnu'] = y \n",
    "x,y = jdi.mean_regrid(1e4/x, y, R=300) #wavenumber, erg/cm2/s/Hz\n",
    "df['regridy'] =  y\n",
    "df['regridx'] = x"
   ]
  },
  {
   "cell_type": "markdown",
   "metadata": {},
   "source": [
    "## Compare with Sonora Grid\n",
    "\n",
    "The corresponding spectra are also available at the same link above. `PICASO` doesn't provide query functions\n",
    "for this. So if you want to compare, you will have to read in the files as is done below"
   ]
  },
  {
   "cell_type": "code",
   "execution_count": 7,
   "metadata": {
    "execution": {
     "iopub.execute_input": "2024-04-02T06:08:05.253831Z",
     "iopub.status.busy": "2024-04-02T06:08:05.253588Z",
     "iopub.status.idle": "2024-04-02T06:08:05.355089Z",
     "shell.execute_reply": "2024-04-02T06:08:05.354513Z"
    }
   },
   "outputs": [],
   "source": [
    "son = pd.read_csv('sp_t900g100nc_m0.0',delim_whitespace=True, \n",
    "                 skiprows=3,header=None,names=['w','f'])\n",
    "sonx, sony =  jdi.mean_regrid(1e4/son['w'], son['f'], newx=x)"
   ]
  },
  {
   "cell_type": "code",
   "execution_count": 8,
   "metadata": {
    "execution": {
     "iopub.execute_input": "2024-04-02T06:08:05.359667Z",
     "iopub.status.busy": "2024-04-02T06:08:05.359388Z",
     "iopub.status.idle": "2024-04-02T06:08:05.414098Z",
     "shell.execute_reply": "2024-04-02T06:08:05.413633Z"
    },
    "scrolled": false
   },
   "outputs": [
    {
     "data": {
      "text/html": [
       "\n",
       "  <div id=\"13beaf5e-71fc-4c8f-ac93-3f185ae73a0b\" data-root-id=\"p1002\" style=\"display: contents;\"></div>\n"
      ]
     },
     "metadata": {},
     "output_type": "display_data"
    },
    {
     "data": {
      "application/javascript": [
       "(function(root) {\n",
       "  function embed_document(root) {\n",
       "  const docs_json = {\"6db655fb-8a53-40ec-8f85-f3d0fe65c0ae\":{\"version\":\"3.0.2\",\"title\":\"Bokeh Application\",\"defs\":[],\"roots\":[{\"type\":\"object\",\"name\":\"Figure\",\"id\":\"p1002\",\"attributes\":{\"width\":800,\"height\":345,\"x_range\":{\"type\":\"object\",\"name\":\"Range1d\",\"id\":\"p1011\",\"attributes\":{\"start\":3,\"end\":5}},\"y_range\":{\"type\":\"object\",\"name\":\"DataRange1d\",\"id\":\"p1004\"},\"x_scale\":{\"type\":\"object\",\"name\":\"LinearScale\",\"id\":\"p1015\"},\"y_scale\":{\"type\":\"object\",\"name\":\"LogScale\",\"id\":\"p1017\"},\"title\":{\"type\":\"object\",\"name\":\"Title\",\"id\":\"p1007\"},\"renderers\":[{\"type\":\"object\",\"name\":\"GlyphRenderer\",\"id\":\"p1054\",\"attributes\":{\"data_source\":{\"type\":\"object\",\"name\":\"ColumnDataSource\",\"id\":\"p1048\",\"attributes\":{\"selected\":{\"type\":\"object\",\"name\":\"Selection\",\"id\":\"p1049\",\"attributes\":{\"indices\":[],\"line_indices\":[]}},\"selection_policy\":{\"type\":\"object\",\"name\":\"UnionRenderers\",\"id\":\"p1050\"},\"data\":{\"type\":\"map\",\"entries\":[[\"x\",{\"type\":\"ndarray\",\"array\":{\"type\":\"bytes\",\"data\":\"jthOJMoEFEA2PbVDvPMTQB4rdeq84hNA2BEuDMzRE0BM7Imc6cATQMI3PY8VsBNA5uoG2E+fE0DjbLBqmI4TQHiMDTvvfRNAInf8PFRtE0A9sGVkx1wTQEAIPKVITBNA8ZN889c7E0Cioy5DdSsTQIS6Y4ggGxNA7oU3t9kKE0C21M/DoPoSQJKOXKJ16hJAfasXR1jaEkAhK0WmSMoSQFMMM7RGuhJAgkQ5ZVKqEkBJt7mta5oSQPItIIKSihJABE/i1sZ6EkDklX+gCGsSQGxKgdNXWxJAnHh6ZLRLEkA76AdIHjwSQJwU0HKVLBJATSSD2RkdEkDi4Npwqw0SQLqumi1K/hFA1ISPBPbuEUCm5I/qrt8RQP/Re9R00BFA6Mo8t0fBEUCVv8WHJ7IRQFcKEzsUoxFAl2cqxg2UEUDZ7RoeFIURQMMF/TcndhFALWLyCEdnEUA3+CWGc1gRQGL3y6SsSRFAv8EhWvI6EUAH5G2bRCwRQN0NAF6jHRFA/Qkxlw4PEUB4tmI8hgARQP78/0IK8hBAK8t8oJrjEEDRClZKN9UQQFSaETbgxhBADEU+WZW4EECqu3OpVqoQQJyMUhwknBBAihyEp/2NEEDKnrpA438QQN0Nsd3UcRBA9yMrdNJjEECOU/X521UQQOa/5GTxRxBArTXXqhI6EECbI7PBPywQQBeTZ594HhBA3iDsOb0QEEC99UCHDQMQQIB+3frS6g9A7lANJaLPD0BtpUR5iLQPQMmcx+OFmQ9AjSfrUJp+D0C19xStxWMPQGlyu+QHSQ9AvqFl5GAuD0CIJquY0BMPQDwqNO5W+Q5A3FC50fPeDkDkqgMwp8QOQFin7PVwqg5AyAVeEFGQDkBryFFsR3YOQFAm0vZTXA5Ag335nHZCDkBLRfJLrygOQHwA9/D9Dg5AxS9SeWL1DUAORF7S3NsNQOyQhelswg1AFj9CrBKpDUDgPh4Izo8NQNU6s+qedg1AS4qqQYVdDUAHJL36gEQNQPSQswOSKw1A2d5lSrgSDUAkk7u88/kMQLqdq0hE4QxA2Us83KnIDED7OoNlJLAMQNJLpdKzlwxAQZXWEVh/DEBrV1oREWcMQMXugr/eTgxAOMexCsE2DEBJT1fhtx4MQFvr8jHDBgxA3egS6+LuC0CscVT7FtcLQFp/Y1FfvwtAlM7627unC0CU0uOJLJALQI6o9kmxeAtAPwsaC0phC0BqRkO89kkLQH8qdky3MgtAMADFqosbC0AjfFDGcwQLQKyyR45v7QpAhwvo8X7WCkCrNX3gob8KQBMbYUnYqApAtNT7GyKSCkBTnsNHf3sKQIfKPLzvZApAr7b5aHNOCkAGv5o9CjgKQKwyzim0IQpAzkdQHXELCkDED+sHQfUJQExrdtkj3wlAv/7XgRnJCUBdJgPxIbMJQJrq+BY9nQlAefTH42qHCUDugYxHq3EJQFBacDL+WwlAzMKqlGNGCUDscoBe2zAJQB6JQ4BlGwlAS39T6gEGCUB0Hx2NsPAIQGB4Gllx2whARtLSPkTGCECSo9ouKbEIQKOF0xkgnAhAnSls8CiHCEBBTWCjQ3IIQNOveCNwXQhA/AaLYa5ICEDL83lO/jMIQKv3NNtfHwhAbmm4+NIKCEA=\"},\"shape\":[154],\"dtype\":\"float64\",\"order\":\"little\"}],[\"y\",{\"type\":\"ndarray\",\"array\":{\"type\":\"bytes\",\"data\":\"kQGFCrXglT6P/JFEcDSXPrROSVHMbJU+x7aSDmTIkT5RNWGtkISTPmzqy/jZE5s+MN54Ik++lz7bEMIJFyKXPkKtKiBu/5c+rufsN1Y2mz4JbSwuWeqUPlVB6s0wLpk+vfwSVh8Pmj4tVAtFwGWZPo340L8qGZY+LmtWb+jcmj7eP5nKzYafPjsL2YX8qJk+Id9JuDRSlz7DEGBjIxKePgvObzP4WZs+QDFVUlovmz5WRkhpcrmaPhWzRxsflp0+1B1o0JQamj5IDmA0LeOdPr5uv6Z+S58+H1OK1ptZmT6GegdnMbOdPsGnCtEnvJw+RaCshX1Alj7LXq3MiSqbPtY4km1LB50+YqQYTqZYnT4YBns4DvaaPkDJdjpVQZs+bjrKxFR6lz5bXGO0QLuZPl17IQ7C8Z8+D/kDuPh0mD7ujTHLSXebPmUbXje7AqA+H6W6qjL7nD4OWyoaWzeaPqJvEO/APJ4++y07Wwgplz4CNsJF3GyePqLFp4frRZw+cLQTKXmKnD4b7MHYgSybPt15Uvo01Js+Z18PIokrmT5Qse4VhsGcPsbt7v+X4Z0+2lFb81BJmz4IPsNxQ7GfPm19JR4zgJ0+198kj1Wonj7Rc3WI2IifPpwyl6QQbpo+aw41QHKKmz5oXWDPjludPg7CPRBG5Zo+Jw3Zjof2mT7GOjQMFa6XPt02fXkLy5U+A3BbULM+lT6ysz16MKmWPsywMelA7pI+SXH+y0ItkT5+SEP4dVSSPpbOjmb0K5A+Tn1xpEoJkj4TybeGMaOOPmHqouVBo4w+rsRNiZHIiz54SURu46qMPoEo8bapd4o+CG+hYqehij5L48yXuPqCPvb683gvA4w+bzHUosEShz7qgr8x+XiEPmPkyUPkvYI+Z+4iqQTWfz74QYeU0ieCPs3Y8sD9xoM+VZYFyZGtfz52FaMrGRJ+Piu+nf1V9n8+xiQl8dEhfT5I6z2d3ZV6Pl5xy+rWSno+efMj2W/Bdz4dTUMY+vh1PrhZhb37D3E+E6b7YFigbT6z7RRhwYBrPs+GUdyDUmU+8ERT/mRcaj6o2Mhjx4NnPsZCA1YRsGc+HYO0+BKPYz5IhFbHeuxhPig0XI32BGA+rAF1zeEuYz7Uz6Jer2tcPrTI1I2BPls+xY0hlNLRVz7M7iEy4TBTPjlUK0oAWVU+8//1/D0dTj7R7AfL8M5WPlmx48XRUVQ+Vga2TNPBUT7MYZN6+phTPpVflZeD61g+Ew12rGslUz6GFvJ6FMpSPhXA00L29lI+uOwWHWkUTz6oUp0OkilCPpgEd8tOVi0+2fE4xBLEIz4NTL37jXhIPk86QDTwulw+WmSykdMjXT6o1RMf0i5bPsuSboUEpVI+2YSJCW1vTz4VQtWdIJlLPrVaI78cLkg+Tu2Tmo4xTz44LCzPwfNJPu1uCFQr1ks+WoU078omSz73wiRifp1OPrCdClCnCE4+hRSfVuqfUT4qVxng00RVPk/CSr5Qslo+eDuOiQzmVj7rRwZAXcFjPtANYT7L6WM+JdQywXYTZD45RD0JmkBpPl588RU+Om4+7IxYCPoIcD6ESGALSLJyPrmN1CFc/XU+vPAqG7vYdj6wFVxP8od4PnJeloTyzHk+USwDW0Wfbj4=\"},\"shape\":[154],\"dtype\":\"float64\",\"order\":\"little\"}]]}}},\"view\":{\"type\":\"object\",\"name\":\"CDSView\",\"id\":\"p1055\",\"attributes\":{\"filter\":{\"type\":\"object\",\"name\":\"AllIndices\",\"id\":\"p1056\"}}},\"glyph\":{\"type\":\"object\",\"name\":\"Line\",\"id\":\"p1051\",\"attributes\":{\"x\":{\"type\":\"field\",\"field\":\"x\"},\"y\":{\"type\":\"field\",\"field\":\"y\"},\"line_color\":\"#0072B2\",\"line_width\":3}},\"nonselection_glyph\":{\"type\":\"object\",\"name\":\"Line\",\"id\":\"p1052\",\"attributes\":{\"x\":{\"type\":\"field\",\"field\":\"x\"},\"y\":{\"type\":\"field\",\"field\":\"y\"},\"line_color\":\"#0072B2\",\"line_alpha\":0.1,\"line_width\":3}},\"muted_glyph\":{\"type\":\"object\",\"name\":\"Line\",\"id\":\"p1053\",\"attributes\":{\"x\":{\"type\":\"field\",\"field\":\"x\"},\"y\":{\"type\":\"field\",\"field\":\"y\"},\"line_color\":\"#0072B2\",\"line_alpha\":0.2,\"line_width\":3}}}},{\"type\":\"object\",\"name\":\"GlyphRenderer\",\"id\":\"p1063\",\"attributes\":{\"data_source\":{\"type\":\"object\",\"name\":\"ColumnDataSource\",\"id\":\"p1057\",\"attributes\":{\"selected\":{\"type\":\"object\",\"name\":\"Selection\",\"id\":\"p1058\",\"attributes\":{\"indices\":[],\"line_indices\":[]}},\"selection_policy\":{\"type\":\"object\",\"name\":\"UnionRenderers\",\"id\":\"p1059\"},\"data\":{\"type\":\"map\",\"entries\":[[\"x\",{\"type\":\"ndarray\",\"array\":{\"type\":\"bytes\",\"data\":\"jthOJMoEFEA2PbVDvPMTQB4rdeq84hNA2BEuDMzRE0BM7Imc6cATQMI3PY8VsBNA5uoG2E+fE0DjbLBqmI4TQHiMDTvvfRNAInf8PFRtE0A9sGVkx1wTQEAIPKVITBNA8ZN889c7E0Cioy5DdSsTQIS6Y4ggGxNA7oU3t9kKE0C21M/DoPoSQJKOXKJ16hJAfasXR1jaEkAhK0WmSMoSQFMMM7RGuhJAgkQ5ZVKqEkBJt7mta5oSQPItIIKSihJABE/i1sZ6EkDklX+gCGsSQGxKgdNXWxJAnHh6ZLRLEkA76AdIHjwSQJwU0HKVLBJATSSD2RkdEkDi4Npwqw0SQLqumi1K/hFA1ISPBPbuEUCm5I/qrt8RQP/Re9R00BFA6Mo8t0fBEUCVv8WHJ7IRQFcKEzsUoxFAl2cqxg2UEUDZ7RoeFIURQMMF/TcndhFALWLyCEdnEUA3+CWGc1gRQGL3y6SsSRFAv8EhWvI6EUAH5G2bRCwRQN0NAF6jHRFA/Qkxlw4PEUB4tmI8hgARQP78/0IK8hBAK8t8oJrjEEDRClZKN9UQQFSaETbgxhBADEU+WZW4EECqu3OpVqoQQJyMUhwknBBAihyEp/2NEEDKnrpA438QQN0Nsd3UcRBA9yMrdNJjEECOU/X521UQQOa/5GTxRxBArTXXqhI6EECbI7PBPywQQBeTZ594HhBA3iDsOb0QEEC99UCHDQMQQIB+3frS6g9A7lANJaLPD0BtpUR5iLQPQMmcx+OFmQ9AjSfrUJp+D0C19xStxWMPQGlyu+QHSQ9AvqFl5GAuD0CIJquY0BMPQDwqNO5W+Q5A3FC50fPeDkDkqgMwp8QOQFin7PVwqg5AyAVeEFGQDkBryFFsR3YOQFAm0vZTXA5Ag335nHZCDkBLRfJLrygOQHwA9/D9Dg5AxS9SeWL1DUAORF7S3NsNQOyQhelswg1AFj9CrBKpDUDgPh4Izo8NQNU6s+qedg1AS4qqQYVdDUAHJL36gEQNQPSQswOSKw1A2d5lSrgSDUAkk7u88/kMQLqdq0hE4QxA2Us83KnIDED7OoNlJLAMQNJLpdKzlwxAQZXWEVh/DEBrV1oREWcMQMXugr/eTgxAOMexCsE2DEBJT1fhtx4MQFvr8jHDBgxA3egS6+LuC0CscVT7FtcLQFp/Y1FfvwtAlM7627unC0CU0uOJLJALQI6o9kmxeAtAPwsaC0phC0BqRkO89kkLQH8qdky3MgtAMADFqosbC0AjfFDGcwQLQKyyR45v7QpAhwvo8X7WCkCrNX3gob8KQBMbYUnYqApAtNT7GyKSCkBTnsNHf3sKQIfKPLzvZApAr7b5aHNOCkAGv5o9CjgKQKwyzim0IQpAzkdQHXELCkDED+sHQfUJQExrdtkj3wlAv/7XgRnJCUBdJgPxIbMJQJrq+BY9nQlAefTH42qHCUDugYxHq3EJQFBacDL+WwlAzMKqlGNGCUDscoBe2zAJQB6JQ4BlGwlAS39T6gEGCUB0Hx2NsPAIQGB4Gllx2whARtLSPkTGCECSo9ouKbEIQKOF0xkgnAhAnSls8CiHCEBBTWCjQ3IIQNOveCNwXQhA/AaLYa5ICEDL83lO/jMIQKv3NNtfHwhAbmm4+NIKCEA=\"},\"shape\":[154],\"dtype\":\"float64\",\"order\":\"little\"}],[\"y\",{\"type\":\"ndarray\",\"array\":{\"type\":\"bytes\",\"data\":\"PIjxDFDElT7sHREBM+2XPvtHuqhxyZU+QjCCxryykT7WEvSM7xmUPqC16w4sdJo+jPHTfFTnlT5W0MObXrmXPo4SvHkRUJg+zYdnMEJXmT5EkGIfTAmUPg9N0B5k2Zk+jBBi1SzfmD7DX9rbxFaYPvaquwkgdZU+pnSeOlufmT4s4McYOwKdPuhIIwZnSpg+NpkWnMK4lj4UQEOBpAidPm/dVcAp/Zo+5RDJrOgKmz5U+jw07J2YPuQGT6HSwpo+4eQVK/aOlz50fi3TwwmdPnGdJsRzjZ0+YOkRGIoumD6OmfmQ+Z2cPoYIGiu4UZw+DtF20KB2lT5XEg1SGHiZPrIBYN9DOps+aZ6qDEq8mT4BdyfJ0ReaPmnGW21gnZs+LGHo3I8zmD6pMDQHEHmYPu9hXS6TZ54+xZD/LMzElj6YDf6J5tOaPsFz5t48A50+3PbdrH1KmT5snO7nwMKaPmU9kWpgAZ4+jspwYWTWmD4GogV3s8ubPlGdLmRgD5s+t/JlsYtGmz5KB1lmVR+ZPjjbsIRopZs+TifxQTahmT4/UV6sEV6cPkZ7IM+IX5w+A+YH3w4Ynj64h/pnQTefPvLXV8+pnZw+sSMZJ2xKnz7sVTYUcRedPleFsDp9ups+ln33TJt7nD7xzLKMRPaaPkyM2mMPUJs+hlV4LXDemj6p6yP6NsWYPvIxbU/t1pc+8krm8YnSlj5I+QWP+raWPj3/4GUO/ZU+bR46LxJWkj6M2H6pyG2TPivjbu4qxJE+PX3fstWEkT7l0M8FseSPPknCjFatxo0+BQelFoDWjT5TDZPJ5ViLPoxAydRcaYs+ww+Lx44YiT5Nx0P7tQ+DPi5PbWB0AI8+z4rgeXqPiD7YK7RRoYqGPsNpVsCIi4M+OlroU7jCgD6PoGgBbd6BPrAKG9bCr4M+qmO749tFgT5NqM1fNGp9PqbdLyJXyn0+YWj/DzoSfT6zmtkMqLF8PkjLHyMol3c+jLhkzOrJdz5EyXDa2up1PvcIFh2wN3I+4rrB8Zg+cD5bR1byilhrPhsIHx4nWWg+zeqw+g5GaT4JrCeUoJBoPtOS31P35Wc+o16DMGbUYz6X/gw2kl5lPmjDUB/mpl8+EcP/O7JuYT7XaVzoF15dPgMXUyCNzF4+irnjkWOBWD7Ge6yQfQRVPmEjN6TqY1Q+5Cw+xeAkVD5tjn/Sp1BTPsz21l7L21I+gSXMy3PdVD5NqxJfWFxVPhZ6j7IRllQ+e9lDAnEUVj6GkTb1wvtWPuaqsjZ4blQ+D0ya8iCRTj660pxSNj9CPlPH3R5T5io+WJemU0xQJT7DLI1LufpHPuDeaZk6zlo+KjEIMJLrXD4U5uMSCUlYPgYdq++8ulU+ttshFxCMTD4lU/wKkXRLPl2CMN0f4ks+veQLWOwLTT4S3CKnqalMPmrOB+oCV0g+DaT4dUwtSj724aXmX8hNPgW0sc/UyUw+eh8XonoiUT5XT4IH54tWPo6WheY/O1o+OAGAcs3bWj6ZOrKn2JhjPnR+6zncDmE+aPvlvQ3WYz7xONeiITFoPvuO5f+tL28+zKkXtuAFcD7B8SKpZNRxPr2XaBNR0XM+z0IXkp97dz59RDITpjt5PqNo7yuZ1XU+njNzJqNlcD4=\"},\"shape\":[154],\"dtype\":\"float64\",\"order\":\"little\"}]]}}},\"view\":{\"type\":\"object\",\"name\":\"CDSView\",\"id\":\"p1064\",\"attributes\":{\"filter\":{\"type\":\"object\",\"name\":\"AllIndices\",\"id\":\"p1065\"}}},\"glyph\":{\"type\":\"object\",\"name\":\"Line\",\"id\":\"p1060\",\"attributes\":{\"x\":{\"type\":\"field\",\"field\":\"x\"},\"y\":{\"type\":\"field\",\"field\":\"y\"},\"line_color\":\"#E69F00\",\"line_width\":3}},\"nonselection_glyph\":{\"type\":\"object\",\"name\":\"Line\",\"id\":\"p1061\",\"attributes\":{\"x\":{\"type\":\"field\",\"field\":\"x\"},\"y\":{\"type\":\"field\",\"field\":\"y\"},\"line_color\":\"#E69F00\",\"line_alpha\":0.1,\"line_width\":3}},\"muted_glyph\":{\"type\":\"object\",\"name\":\"Line\",\"id\":\"p1062\",\"attributes\":{\"x\":{\"type\":\"field\",\"field\":\"x\"},\"y\":{\"type\":\"field\",\"field\":\"y\"},\"line_color\":\"#E69F00\",\"line_alpha\":0.2,\"line_width\":3}}}}],\"toolbar\":{\"type\":\"object\",\"name\":\"Toolbar\",\"id\":\"p1008\",\"attributes\":{\"tools\":[{\"type\":\"object\",\"name\":\"PanTool\",\"id\":\"p1033\"},{\"type\":\"object\",\"name\":\"WheelZoomTool\",\"id\":\"p1034\"},{\"type\":\"object\",\"name\":\"BoxZoomTool\",\"id\":\"p1035\",\"attributes\":{\"overlay\":{\"type\":\"object\",\"name\":\"BoxAnnotation\",\"id\":\"p1036\",\"attributes\":{\"syncable\":false,\"level\":\"overlay\",\"visible\":false,\"left_units\":\"canvas\",\"right_units\":\"canvas\",\"bottom_units\":\"canvas\",\"top_units\":\"canvas\",\"line_color\":\"black\",\"line_alpha\":1.0,\"line_width\":2,\"line_dash\":[4,4],\"fill_color\":\"lightgrey\",\"fill_alpha\":0.5}}}},{\"type\":\"object\",\"name\":\"SaveTool\",\"id\":\"p1037\"},{\"type\":\"object\",\"name\":\"ResetTool\",\"id\":\"p1038\"},{\"type\":\"object\",\"name\":\"HelpTool\",\"id\":\"p1039\"}]}},\"left\":[{\"type\":\"object\",\"name\":\"LogAxis\",\"id\":\"p1026\",\"attributes\":{\"ticker\":{\"type\":\"object\",\"name\":\"LogTicker\",\"id\":\"p1029\",\"attributes\":{\"num_minor_ticks\":10,\"mantissas\":[1,5]}},\"formatter\":{\"type\":\"object\",\"name\":\"LogTickFormatter\",\"id\":\"p1028\"},\"axis_label\":\"Spectrum\",\"axis_label_text_font\":\"times\",\"axis_label_text_font_size\":\"14pt\",\"axis_label_text_font_style\":\"bold\",\"major_label_policy\":{\"type\":\"object\",\"name\":\"AllLabels\",\"id\":\"p1027\"},\"major_label_text_font\":\"times\",\"major_label_text_font_size\":\"14pt\"}},{\"type\":\"object\",\"name\":\"Legend\",\"id\":\"p1066\",\"attributes\":{\"location\":[0,0],\"click_policy\":\"mute\",\"items\":[{\"type\":\"object\",\"name\":\"LegendItem\",\"id\":\"p1067\",\"attributes\":{\"label\":{\"type\":\"value\",\"value\":\"PICASO\"},\"renderers\":[{\"id\":\"p1054\"}]}},{\"type\":\"object\",\"name\":\"LegendItem\",\"id\":\"p1068\",\"attributes\":{\"label\":{\"type\":\"value\",\"value\":\"Sonora\"},\"renderers\":[{\"id\":\"p1063\"}]}}]}}],\"below\":[{\"type\":\"object\",\"name\":\"LinearAxis\",\"id\":\"p1019\",\"attributes\":{\"ticker\":{\"type\":\"object\",\"name\":\"BasicTicker\",\"id\":\"p1022\",\"attributes\":{\"mantissas\":[1,2,5]}},\"formatter\":{\"type\":\"object\",\"name\":\"BasicTickFormatter\",\"id\":\"p1021\"},\"axis_label\":\"Wavelength [\\u03bcm]\",\"axis_label_text_font\":\"times\",\"axis_label_text_font_size\":\"14pt\",\"axis_label_text_font_style\":\"bold\",\"major_label_policy\":{\"type\":\"object\",\"name\":\"AllLabels\",\"id\":\"p1020\"},\"major_label_text_font\":\"times\",\"major_label_text_font_size\":\"14pt\"}}],\"center\":[{\"type\":\"object\",\"name\":\"Grid\",\"id\":\"p1025\",\"attributes\":{\"axis\":{\"id\":\"p1019\"}}},{\"type\":\"object\",\"name\":\"Grid\",\"id\":\"p1032\",\"attributes\":{\"dimension\":1,\"axis\":{\"id\":\"p1026\"}}}]}}]}};\n",
       "  const render_items = [{\"docid\":\"6db655fb-8a53-40ec-8f85-f3d0fe65c0ae\",\"roots\":{\"p1002\":\"13beaf5e-71fc-4c8f-ac93-3f185ae73a0b\"},\"root_ids\":[\"p1002\"]}];\n",
       "  root.Bokeh.embed.embed_items_notebook(docs_json, render_items);\n",
       "  }\n",
       "  if (root.Bokeh !== undefined) {\n",
       "    embed_document(root);\n",
       "  } else {\n",
       "    let attempts = 0;\n",
       "    const timer = setInterval(function(root) {\n",
       "      if (root.Bokeh !== undefined) {\n",
       "        clearInterval(timer);\n",
       "        embed_document(root);\n",
       "      } else {\n",
       "        attempts++;\n",
       "        if (attempts > 100) {\n",
       "          clearInterval(timer);\n",
       "          console.log(\"Bokeh: ERROR: Unable to run BokehJS code because BokehJS library is missing\");\n",
       "        }\n",
       "      }\n",
       "    }, 10, root)\n",
       "  }\n",
       "})(window);"
      ],
      "application/vnd.bokehjs_exec.v0+json": ""
     },
     "metadata": {
      "application/vnd.bokehjs_exec.v0+json": {
       "id": "p1002"
      }
     },
     "output_type": "display_data"
    }
   ],
   "source": [
    "show(jpi.spectrum([x]*2,[df['regridy'], sony], legend=['PICASO', 'Sonora']\n",
    "                  ,plot_width=800,x_range=wave_range,y_axis_type='log'))\n"
   ]
  },
  {
   "cell_type": "markdown",
   "metadata": {},
   "source": [
    "## Thermal Contribution Function \n",
    "\n",
    "Contribution functions give us an understanding of where pressures flux is being emitted (e.g. [Lothringer et al 2018](https://iopscience.iop.org/article/10.3847/1538-4357/aadd9e#apjaadd9es3-3-1) Figure 12) "
   ]
  },
  {
   "cell_type": "code",
   "execution_count": 9,
   "metadata": {
    "execution": {
     "iopub.execute_input": "2024-04-02T06:08:05.419647Z",
     "iopub.status.busy": "2024-04-02T06:08:05.419395Z",
     "iopub.status.idle": "2024-04-02T06:08:06.614143Z",
     "shell.execute_reply": "2024-04-02T06:08:06.613528Z"
    }
   },
   "outputs": [
    {
     "data": {
      "image/png": "[encoded data removed]",
      "text/plain": [
       "<Figure size 1500x1000 with 2 Axes>"
      ]
     },
     "metadata": {},
     "output_type": "display_data"
    }
   ],
   "source": [
    "fig, ax, CF = jpi.thermal_contribution(df['full_output'], norm=jpi.colors.LogNorm(vmin=1e7, vmax=1e11))"
   ]
  },
  {
   "cell_type": "code",
   "execution_count": null,
   "metadata": {},
   "outputs": [],
   "source": []
  }
 ],
 "metadata": {
  "kernelspec": {
   "display_name": "Python 3 (ipykernel)",
   "language": "python",
   "name": "python3"
  },
  "language_info": {
   "codemirror_mode": {
    "name": "ipython",
    "version": 3
   },
   "file_extension": ".py",
   "mimetype": "text/x-python",
   "name": "python",
   "nbconvert_exporter": "python",
   "pygments_lexer": "ipython3",
   "version": "3.11.5"
  },
  "toc": {
   "base_numbering": 1,
   "nav_menu": {},
   "number_sections": true,
   "sideBar": true,
   "skip_h1_title": false,
   "title_cell": "Table of Contents",
   "title_sidebar": "Contents",
   "toc_cell": true,
   "toc_position": {},
   "toc_section_display": true,
   "toc_window_display": false
  },
  "varInspector": {
   "cols": {
    "lenName": 16,
    "lenType": 16,
    "lenVar": 40
   },
   "kernels_config": {
    "python": {
     "delete_cmd_postfix": "",
     "delete_cmd_prefix": "del ",
     "library": "var_list.py",
     "varRefreshCmd": "print(var_dic_list())"
    },
    "r": {
     "delete_cmd_postfix": ") ",
     "delete_cmd_prefix": "rm(",
     "library": "var_list.r",
     "varRefreshCmd": "cat(var_dic_list()) "
    }
   },
   "types_to_exclude": [
    "module",
    "function",
    "builtin_function_or_method",
    "instance",
    "_Feature"
   ],
   "window_display": false
  }
 },
 "nbformat": 4,
 "nbformat_minor": 2
}
