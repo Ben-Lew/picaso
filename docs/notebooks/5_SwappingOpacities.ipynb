{
 "cells": [
  {
   "cell_type": "markdown",
   "metadata": {},
   "source": [
    "# Creating new Opacity Databases \n",
    "\n",
    "``PICASO`` currently comes with one set of molecular and continuum opacities. The continuum opacity file is already included in the `reference/` directory. The molecular opacity file is included on [Open Science Framework](https://osf.io/hf8bp/). \n",
    "\n",
    "If you want to swap out opacities, this tutorial shows you how to make a correctly formatted `json` file that will compatible with `PICASO`\n",
    "\n",
    "Here you will learn how to create the correctly formatted database that ``picaso`` reads in for the **molecular.json** and **continuum.json**"
   ]
  },
  {
   "cell_type": "code",
   "execution_count": 1,
   "metadata": {},
   "outputs": [],
   "source": [
    "import json\n",
    "import numpy as np\n",
    "import os"
   ]
  },
  {
   "cell_type": "markdown",
   "metadata": {},
   "source": [
    "## Continuum Opacity Formatting : ``continuum.json``\n",
    "\n",
    "**Note on molecule names**: Because ``picaso`` uses dict formatting to handle opacities, users can easily swap in different molecules. \n",
    "\n",
    "For example, if I wanted to include CO2-H2 CIA absorption, I can add ``CO2H2`` to the molecules list below. \n",
    "\n",
    "**Exceptions**: The exceptions to this are non-CIA continuum opacities. Right now, the other sources of continuum enabled are ``H2-``, ``H-bf`` and ``H-ff`` which have odd-ball formatting since they aren't simple two molecules. _Please let me know if you want to see another continuum source added_.\n",
    "\n",
    "**Careful** with case sensitive molecules like **TiO**, **Na**. Make sure you get these right. "
   ]
  },
  {
   "cell_type": "code",
   "execution_count": 2,
   "metadata": {},
   "outputs": [],
   "source": [
    "wave_unit = 'cm-1'\n",
    "opacity_unit = 'cm-1 amagat-2'\n",
    "molecules = ['H2H2','H2He','H2CH4','H2-','H-bf','H-ff'] #and whatever else CO2H2\n",
    "temperatures = [300, 500, 1000, 2000] #Kelvin"
   ]
  },
  {
   "cell_type": "markdown",
   "metadata": {},
   "source": [
    "## Create Fake Continuum Dataset"
   ]
  },
  {
   "cell_type": "code",
   "execution_count": 3,
   "metadata": {},
   "outputs": [],
   "source": [
    "#start by filling in molcules for dict \n",
    "db_continuum = {m:{} for m in molecules}\n",
    "\n",
    "#add meta data\n",
    "db_continuum['wave_units'] =wave_unit\n",
    "db_continuum['opacity_unit'] =opacity_unit\n",
    "db_continuum['temperature_unit'] ='K'\n",
    "db_continuum['wavenumber_grid'] = list(np.linspace(20,30000,1000))#fake grid, make sure it's a list \n",
    "\n",
    "#add data\n",
    "fake_absorption = np.zeros(1000)+1e-30 #cm-1 amagat-2\n",
    "for m in molecules:\n",
    "    for t in temperatures: \n",
    "        db_continuum[m][str(t)] = list(fake_absorption)"
   ]
  },
  {
   "cell_type": "markdown",
   "metadata": {},
   "source": [
    "## Quick json Tutorial\n",
    "\n",
    "Let's make sure you know how to navigate your file"
   ]
  },
  {
   "cell_type": "code",
   "execution_count": 4,
   "metadata": {},
   "outputs": [
    {
     "name": "stdout",
     "output_type": "stream",
     "text": [
      "['H2H2', 'H2He', 'H2CH4', 'H2-', 'H-bf', 'H-ff', 'wave_units', 'opacity_unit', 'temperature_unit', 'wavenumber_grid']\n"
     ]
    }
   ],
   "source": [
    "#what molecules are in your database? \n",
    "print([i for i in db_continuum.keys()])"
   ]
  },
  {
   "cell_type": "code",
   "execution_count": 5,
   "metadata": {},
   "outputs": [
    {
     "name": "stdout",
     "output_type": "stream",
     "text": [
      "['300', '500', '1000', '2000']\n"
     ]
    }
   ],
   "source": [
    "#what temperatures are in your database? \n",
    "print([i for i in db_continuum['H2CH4'].keys()])"
   ]
  },
  {
   "cell_type": "code",
   "execution_count": 6,
   "metadata": {},
   "outputs": [
    {
     "name": "stdout",
     "output_type": "stream",
     "text": [
      "1000\n"
     ]
    }
   ],
   "source": [
    "#check to see if there is your temperature of interest\n",
    "opa = db_continuum.get('H2H2').get('300')\n",
    "print(len(opa))"
   ]
  },
  {
   "cell_type": "code",
   "execution_count": 7,
   "metadata": {},
   "outputs": [],
   "source": [
    "#get wavelength grid \n",
    "wave = db_continuum['wavenumber_grid']"
   ]
  },
  {
   "cell_type": "markdown",
   "metadata": {},
   "source": [
    "## Molecular Opacity Formatting: ``molecular.json``\n",
    "\n",
    "Because ``picaso`` uses ``dict`` formatting to handle opacities, users can add **any** new molecule to this database.\n",
    "\n",
    "**Careful** with case sensitive molecules like **TiO**, **Na**. Make sure you get these right. \n",
    "\n",
    "**Wave Grid** must be the same as **continuum.json**"
   ]
  },
  {
   "cell_type": "code",
   "execution_count": 8,
   "metadata": {},
   "outputs": [],
   "source": [
    "wave_unit = 'cm-1'\n",
    "opacity_unit = 'cm-2/g'\n",
    "molecules = ['H2','H','He','CH4','H2O','N2','TiO'] #and whatever else\n",
    "temperatures = [300, 500, 1000, 2000] #Kelvin\n",
    "pressures = [1e-6, 1, 10] #bars\n",
    "prssure_unit = 'bars'\n",
    "temperature_unit = 'K'"
   ]
  },
  {
   "cell_type": "markdown",
   "metadata": {},
   "source": [
    "### Create Molecular Dataset"
   ]
  },
  {
   "cell_type": "code",
   "execution_count": 9,
   "metadata": {},
   "outputs": [],
   "source": [
    "#initialize db with molcules and temps \n",
    "db_molecular = {m:{str(t):{} for t in temperatures} for m in molecules}\n",
    "\n",
    "#add meta data\n",
    "db_molecular['wave_units'] =wave_unit\n",
    "db_molecular['opacity_unit'] =opacity_unit\n",
    "db_molecular['prssure_unit'] =prssure_unit\n",
    "db_molecular['temperature_unit'] =temperature_unit\n",
    "db_molecular['wavenumber_grid'] = db_continuum['wavenumber_grid']#MUST be on same grid as continuum db!!!\n",
    "\n",
    "#add data\n",
    "fake_opacity = np.zeros(1000)+1e-30 #cm-2/g\n",
    "for m in molecules:\n",
    "    for t in temperatures: \n",
    "        for p in pressures:\n",
    "            db_molecular[m][str(t)][str(p)] = list(fake_opacity) "
   ]
  },
  {
   "cell_type": "code",
   "execution_count": null,
   "metadata": {},
   "outputs": [],
   "source": []
  }
 ],
 "metadata": {
  "kernelspec": {
   "display_name": "Python 3",
   "language": "python",
   "name": "python3"
  },
  "language_info": {
   "codemirror_mode": {
    "name": "ipython",
    "version": 3
   },
   "file_extension": ".py",
   "mimetype": "text/x-python",
   "name": "python",
   "nbconvert_exporter": "python",
   "pygments_lexer": "ipython3",
   "version": "3.6.6"
  }
 },
 "nbformat": 4,
 "nbformat_minor": 2
}
