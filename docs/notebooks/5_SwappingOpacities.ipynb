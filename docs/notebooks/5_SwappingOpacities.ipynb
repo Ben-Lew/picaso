{
 "cells": [
  {
   "cell_type": "markdown",
   "metadata": {},
   "source": [
    "# Creating new Opacity Databases \n",
    "\n",
    "``PICASO`` currently operates on a BYOO (Bring Your Own Opacities). \n",
    "\n",
    "Before you run the code, the continuum opacity and molecular opacity need to already be computed on the grid you are interested in. This makes the code faster, less clunky (note we are rolling out a better methodology for this soon). \n",
    "\n",
    "Here you will learn how to create the correctly formatted database that ``picaso`` reads in for the **molecular.hdf5** and **continuum.hdf5**"
   ]
  },
  {
   "cell_type": "code",
   "execution_count": 12,
   "metadata": {},
   "outputs": [],
   "source": [
    "import h5py\n",
    "import numpy as np\n",
    "import os"
   ]
  },
  {
   "cell_type": "markdown",
   "metadata": {},
   "source": [
    "## Continuum Opacity Formatting : ``continuum.hdf5``\n",
    "\n",
    "**Note on molecule names**: Because ``picaso`` uses dict formatting to handle opacities, users can easily swap in different molecules. \n",
    "\n",
    "For example, if I wanted to include CO2-H2 CIA absorption, I can add ``CO2H2`` to the molecules list below. \n",
    "\n",
    "**Exceptions**: The exceptions to this are non-CIA continuum opacities. Right now, the other sources of continuum enabled are ``H2-``, ``H-bf`` and ``H-ff`` which have odd-ball formatting since they aren't simple two molecules. _Please let me know if you want to see another continuum source added_.\n",
    "\n",
    "**Careful** with case sensitive molecules like **TiO**, **Na**. Make sure you get these right. "
   ]
  },
  {
   "cell_type": "code",
   "execution_count": 2,
   "metadata": {
    "collapsed": true
   },
   "outputs": [],
   "source": [
    "wave_unit = 'cm-1'\n",
    "opacity_unit = 'cm-1 amagat-2'\n",
    "molecules = ['H2H2','H2He','H2CH4','H2-','H-bf','H-ff'] #and whatever else CO2H2\n",
    "temperatures = [300, 500, 1000, 2000] #Kelvin"
   ]
  },
  {
   "cell_type": "markdown",
   "metadata": {},
   "source": [
    "### Initialize HDF5 database"
   ]
  },
  {
   "cell_type": "code",
   "execution_count": 3,
   "metadata": {},
   "outputs": [],
   "source": [
    "db_continuum = h5py.File(os.getenv('picaso_refdata')+'/new_continuum_db.hdf5', 'w')"
   ]
  },
  {
   "cell_type": "markdown",
   "metadata": {},
   "source": [
    "### Create Continuum Dataset"
   ]
  },
  {
   "cell_type": "code",
   "execution_count": 4,
   "metadata": {},
   "outputs": [],
   "source": [
    "#add meta data\n",
    "db_continuum.attrs['wave_units'] =wave_unit\n",
    "db_continuum.attrs['opacity_unit'] =opacity_unit\n",
    "db_continuum.attrs['temperature_unit'] ='K'\n",
    "db_continuum.attrs['wavenumber_grid'] = np.linspace(20,30000,1000)#fake grid \n",
    "\n",
    "#add data\n",
    "fake_absorption = np.zeros(1000)+1e-30 #cm-1 amagat-2\n",
    "for m in molecules:\n",
    "    for t in temperatures: \n",
    "        dset = db_continuum.create_dataset(m+'/'+str(t), data=fake_absorption, chunks=True)"
   ]
  },
  {
   "cell_type": "markdown",
   "metadata": {},
   "source": [
    "## Quick HDF5 Tutorial\n",
    "\n",
    "Let's make sure you know how to navigate your file"
   ]
  },
  {
   "cell_type": "code",
   "execution_count": 5,
   "metadata": {},
   "outputs": [
    {
     "name": "stdout",
     "output_type": "stream",
     "text": [
      "['H-bf', 'H-ff', 'H2-', 'H2CH4', 'H2H2', 'H2He']\n"
     ]
    }
   ],
   "source": [
    "#what molecules are in your database? \n",
    "print([i for i in db_continuum.keys()])"
   ]
  },
  {
   "cell_type": "code",
   "execution_count": 6,
   "metadata": {},
   "outputs": [
    {
     "name": "stdout",
     "output_type": "stream",
     "text": [
      "['1000', '2000', '300', '500']\n"
     ]
    }
   ],
   "source": [
    "#what temperatures are in your database? \n",
    "print([i for i in db_continuum['H2CH4'].keys()])"
   ]
  },
  {
   "cell_type": "code",
   "execution_count": 7,
   "metadata": {},
   "outputs": [
    {
     "data": {
      "text/plain": [
       "<HDF5 group \"/H2H2\" (4 members)>"
      ]
     },
     "execution_count": 7,
     "metadata": {},
     "output_type": "execute_result"
    }
   ],
   "source": [
    "#check to see if there is your temperature of interest\n",
    "db_continuum.get('H2H2')"
   ]
  },
  {
   "cell_type": "code",
   "execution_count": 8,
   "metadata": {},
   "outputs": [],
   "source": [
    "#get wavelength grid \n",
    "wave = db_continuum.attrs['wavenumber_grid']"
   ]
  },
  {
   "cell_type": "markdown",
   "metadata": {},
   "source": [
    "## Molecular Opacity Formatting: ``molecular.hdf5``\n",
    "\n",
    "Because ``picaso`` uses ``dict`` formatting to handle opacities, users can add **any** new molecule to this database.\n",
    "\n",
    "**Careful** with case sensitive molecules like **TiO**, **Na**. Make sure you get these right. \n",
    "\n",
    "**Wave Grid** must be the same as **continuum.hdf5**"
   ]
  },
  {
   "cell_type": "code",
   "execution_count": 9,
   "metadata": {
    "collapsed": true
   },
   "outputs": [],
   "source": [
    "wave_unit = 'cm-1'\n",
    "opacity_unit = 'cm-2/g'\n",
    "molecules = ['H2','H','He','CH4','H2O','N2','TiO'] #and whatever else\n",
    "temperatures = [300, 500, 1000, 2000] #Kelvin\n",
    "pressures = [1e-6, 1, 10] #bars\n",
    "prssure_unit = 'bars'\n",
    "temperature_unit = 'K'"
   ]
  },
  {
   "cell_type": "markdown",
   "metadata": {},
   "source": [
    "### Initialize HDF5 database"
   ]
  },
  {
   "cell_type": "code",
   "execution_count": 10,
   "metadata": {
    "collapsed": true
   },
   "outputs": [],
   "source": [
    "db_molecular = h5py.File(os.getenv('picaso_refdata')+'/new_molecular_db.hdf5', 'w')"
   ]
  },
  {
   "cell_type": "markdown",
   "metadata": {},
   "source": [
    "### Create Molecular Dataset"
   ]
  },
  {
   "cell_type": "code",
   "execution_count": 11,
   "metadata": {},
   "outputs": [],
   "source": [
    "#add meta data\n",
    "db_molecular.attrs['wave_units'] =wave_unit\n",
    "db_molecular.attrs['opacity_unit'] =opacity_unit\n",
    "db_molecular.attrs['prssure_unit'] =prssure_unit\n",
    "db_molecular.attrs['temperature_unit'] =temperature_unit\n",
    "db_molecular.attrs['wavenumber_grid'] = db_continuum.attrs['wavenumber_grid']#MUST be on same grid as continuum db!!!\n",
    "\n",
    "#add data\n",
    "fake_opacity = np.zeros(1000)+1e-30 #cm-2/g\n",
    "for m in molecules:\n",
    "    for t in temperatures: \n",
    "        for p in pressures:\n",
    "            dset = db_molecular.create_dataset(m+'/'+str(t)+'/'+str(p), data=fake_opacity, chunks=True)"
   ]
  }
 ],
 "metadata": {
  "kernelspec": {
   "display_name": "Python 3",
   "language": "python",
   "name": "python3"
  },
  "language_info": {
   "codemirror_mode": {
    "name": "ipython",
    "version": 3
   },
   "file_extension": ".py",
   "mimetype": "text/x-python",
   "name": "python",
   "nbconvert_exporter": "python",
   "pygments_lexer": "ipython3",
   "version": "3.6.6"
  }
 },
 "nbformat": 4,
 "nbformat_minor": 2
}
