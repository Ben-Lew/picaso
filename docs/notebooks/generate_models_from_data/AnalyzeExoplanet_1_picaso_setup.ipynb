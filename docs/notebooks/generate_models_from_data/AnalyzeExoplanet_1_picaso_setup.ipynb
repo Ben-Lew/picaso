{
 "cells": [
  {
   "cell_type": "markdown",
   "id": "un2r-8IJ4Fos",
   "metadata": {
    "id": "un2r-8IJ4Fos"
   },
   "source": [
    "# Getting Started with PICASO Installation and Downloads \n",
    "\n",
    "Author:  Dominic Doud (NASA Ames Research Center/UCSC)\n",
    "\n",
    "This tutorial takes you through the download and setup needed to run a small grid of climate and high resolution spectral models to match the WASP-39b analysis. It was created for the Sagan School tutorial which takes you through reproducing the analysis of the climate and chemical makeup of Wasp-39b.\n",
    "\n",
    "\n",
    "This notebook downloads and installs the needed files for Generating Models to Data using PICASO. This notebook only needs to be run **once** to get the needed files. "
   ]
  },
  {
   "cell_type": "markdown",
   "id": "b9ba3b9f",
   "metadata": {
    "id": "b9ba3b9f"
   },
   "source": [
    "## Initial Installation\n",
    "\n",
    "- [ ] First step is to install PICASO, following the steps [here](https://natashabatalha.github.io/picaso/installation.html).\n",
    "\n",
    "## WASP-39b Data Download\n",
    " \n",
    "- [ ] Define a path where these tutorial files will live so we have a home for the WASP-39b data and other files needed to do climate modeling \n",
    "\n",
    "If you prefer, you can also download the files [here](https://zenodo.org/record/6959427/files/JWST_ERS_1st_LOOK_PAPER_DATA.zip?download=1) and unzip it in your chosen directory."
   ]
  },
  {
   "cell_type": "code",
   "execution_count": 2,
   "id": "461648c5-fe69-4683-8ba3-7dcf87e4a8c2",
   "metadata": {},
   "outputs": [],
   "source": [
    "import os\n",
    "import zipfile"
   ]
  },
  {
   "cell_type": "code",
   "execution_count": 8,
   "id": "P_mk7nKI78GM",
   "metadata": {
    "id": "P_mk7nKI78GM"
   },
   "outputs": [
    {
     "name": "stdout",
     "output_type": "stream",
     "text": [
      "--2024-09-27 18:02:08--  https://zenodo.org/record/6959427/files/JWST_ERS_1st_LOOK_PAPER_DATA.zip?download=1\n",
      "Resolving zenodo.org (zenodo.org)... 188.185.79.172, 188.184.103.159, 188.184.98.238, ...\n",
      "Connecting to zenodo.org (zenodo.org)|188.185.79.172|:443... connected.\n",
      "HTTP request sent, awaiting response... 301 MOVED PERMANENTLY\n",
      "Location: /records/6959427/files/JWST_ERS_1st_LOOK_PAPER_DATA.zip [following]\n",
      "--2024-09-27 18:02:08--  https://zenodo.org/records/6959427/files/JWST_ERS_1st_LOOK_PAPER_DATA.zip\n",
      "Reusing existing connection to zenodo.org:443.\n",
      "HTTP request sent, awaiting response... 200 OK\n",
      "Length: 375091 (366K) [application/octet-stream]\n",
      "Saving to: ‘JWST_ERS_1st_LOOK_PAPER_DATA’\n",
      "\n",
      "JWST_ERS_1st_LOOK_P 100%[===================>] 366.30K   449KB/s    in 0.8s    \n",
      "\n",
      "2024-09-27 18:02:09 (449 KB/s) - ‘JWST_ERS_1st_LOOK_PAPER_DATA’ saved [375091/375091]\n",
      "\n"
     ]
    }
   ],
   "source": [
    "# where you will download the data\n",
    "picaso_tutorial_dir = 'exoplanet_modeling_tutorial_new'\n",
    "\n",
    "if not os.path.exists(picaso_tutorial_dir):\n",
    "    os.makedirs(picaso_tutorial_dir)\n",
    "\n",
    "# Download Eureka data file from ZENODO into the picaso_tutorial_dir you have defined above\n",
    "!wget -O JWST_ERS_1st_LOOK_PAPER_DATA \"https://zenodo.org/record/6959427/files/JWST_ERS_1st_LOOK_PAPER_DATA.zip?download=1\"\n",
    "with zipfile.ZipFile('JWST_ERS_1st_LOOK_PAPER_DATA', 'r') as zip_ref:\n",
    "    zip_ref.extractall('exoplanet_modeling_tutorial')\n",
    "os.remove(\"JWST_ERS_1st_LOOK_PAPER_DATA\")"
   ]
  },
  {
   "cell_type": "markdown",
   "id": "265f9d53-db6e-4011-84ac-9e217e97c379",
   "metadata": {},
   "source": [
    "## Which Route To Take?\n",
    "\n",
    "We tried to make it as easy and streamlined as possible for beginners and above. If you want a specialized, condensed file that is simplfied and will work on only one analysis then we recommend to continue with **1.4**. This is the best method for beginners (or those who want to spend less time with the install) to learn PICASO without being overwhelmed by the incredibly vast and modular way you can run and interact with PICASO.\n",
    "\n",
    "For intermediate and those with more expertise in climate modeling, PICASO and exoplanetary science, we recommend **1.5**. This route will have you set up PICASO in it's entirety and allow you to continue with your own individual analysis after the tutorial."
   ]
  },
  {
   "cell_type": "markdown",
   "id": "62c15bda-6291-4633-b74b-dd334497d469",
   "metadata": {},
   "source": [
    "## Fast Route: Condensed Learning Download Shortcut (beginners do this)\n",
    "\n",
    "In order to conduct a full climate model, high resolution spectra models, and cloud models there is a fair amount of data we need to currate first. You can follow individual tutorials to get fully setup. OR, if you are a beginner and want to jump right into this tutorial then you can download everything you need in this cell below.\n",
    "\n",
    "**Beginners!!**: We recommend taking this path so that you can jump right into the tutorial and start understanding the peices. "
   ]
  },
  {
   "cell_type": "code",
   "execution_count": 14,
   "id": "4bdffa71-109a-4637-873e-019d8f30f88d",
   "metadata": {},
   "outputs": [
    {
     "name": "stdout",
     "output_type": "stream",
     "text": [
      "--2024-10-01 19:41:10--  https://public.boxcloud.com/d/1/b1!Sm8XM_yjzugL0mtf-NNho4joqxxPOVFc1J_dI59V9fKDpcCZoMgvkaaKPcWC1Q01BkRg1d2IhDlim19WQRMw83zmsc-b5adRkbo-g8XpE5YyqZAEomark4ObRiUvHXo281K5ZcCbRMREfPUPpHYXe1gHqu0wQqhwfcIQotKUxLs240GgdwokgC69V7ro239p_pFLa_yCIkad0GnJmKZJvfup9mVFZnBehsPZHDV3RGwHQbY8x7VQ4I41kIUIRrsY5edolZEiyUig0FOludQpEe2DYN2IJGw0LnQ94hI_iRCRaOPWMDnwU2MCl0VTg7WWYeo0P6Lu_6UlwSOlahTK7smvpxzBjjSnkhxhyTKfI3QOD4sAS1MPoD7_qWGLkpRAiubB30HA3yIRnbizRdf4e4q_rhEIhirncoHie2tKzNSubzSme2qXsuHBGZkFdiurMCRZpKyuaE0fIILa70MtRnqT__EoEcOIMurxhfVi74QpSr8KOkj3oiuz3QWGPAvvPKihm_4oUDS2N0iuZ3GpwD8Hk8xNPSiKyOIvVd8MGMqmEQQ4dNcRN2mOACfmMiZ0K893biKFApsLNqfN8Z25jQS0Dg7Wb14V4lj9v1YLwu8gIMF4qpHGYjAlV7Kp4ABP9eSorTXhDAvCqD5Q4HqCyz-qoRHHSdUHzkgVIvdyjd5MQJtxcrfbM4PcQQ_APYBtOOoeZ_4nn6tJgfO-3ZUSLZnuyevlxgzth_kcI3j8reHSS4pUUegqhTFav7fqxtFDYgl0Y_ysRiKYU6fjHoIA3zUKiDaMdWttcVg-tzDdp4PzXHl6xfMeTuLI0ZE5ZrdiqfVCoajl83oB8Gba04g1OFTutM9_SzElftisV_xIhlbVOrH7ctLXO48-rkP0RyUbyEm37EJO_s6WwO4d6h3KmnvXzzvCZxaUXvUqWkFnsAkm_xcuwONpKPYHvysmEOMB3G6uJHNvSrmWiRY7QNttTL7Uojur5JLhh8rLCHzn-ulnNnZhn2ModtrTVyuHj2cAVPgup2tK5TI665OdHPn8MzYT2X4zd9X36dc-7ytDCbZFt1Z7_yJE7896lqJsFs1eDUUy0R9DNDSgPFRY2Ig3O4eINut67qnPu9Bd_qTAgzlAde66b3ooNw7rRlfEh4T19FvEO8Ga72JzlAp9VDw5s2zvpoUeeAdMycrOTqYJaak1Elqndsp-kHuIjT95bijABsNI3XuGPTJNbG2LfcfeKQdJ5VJRQutQa68S5E4shuJ2oN3Nq7Ws387vbPbFIX6ZnDgCIBHuR2Cqe7CnBEQjJ07LC9a5qGVPucijk5slNcAIshrFp8jsiPEN2o0e841c-jJRCBzsmUt8F6lBopDA7PeLLKSr91za-rxmRnmQW_om8vuQ/download\n",
      "Resolving public.boxcloud.com (public.boxcloud.com)... 74.112.186.164\n",
      "Connecting to public.boxcloud.com (public.boxcloud.com)|74.112.186.164|:443... connected.\n",
      "HTTP request sent, awaiting response... 200 OK\n",
      "Length: 5336054300 (5.0G) [application/zip]\n",
      "Saving to: ‘Sagan2023_v3.zip’\n",
      "\n",
      "Sagan2023_v3.zip    100%[===================>]   4.97G  68.2MB/s    in 78s     \n",
      "\n",
      "2024-10-01 19:42:29 (65.1 MB/s) - ‘Sagan2023_v3.zip’ saved [5336054300/5336054300]\n",
      "\n"
     ]
    }
   ],
   "source": [
    "#replace with ZENODO download link\n",
    "!wget -O Sagan2023_v3.zip https://public.boxcloud.com/d/1/b1!Sm8XM_yjzugL0mtf-NNho4joqxxPOVFc1J_dI59V9fKDpcCZoMgvkaaKPcWC1Q01BkRg1d2IhDlim19WQRMw83zmsc-b5adRkbo-g8XpE5YyqZAEomark4ObRiUvHXo281K5ZcCbRMREfPUPpHYXe1gHqu0wQqhwfcIQotKUxLs240GgdwokgC69V7ro239p_pFLa_yCIkad0GnJmKZJvfup9mVFZnBehsPZHDV3RGwHQbY8x7VQ4I41kIUIRrsY5edolZEiyUig0FOludQpEe2DYN2IJGw0LnQ94hI_iRCRaOPWMDnwU2MCl0VTg7WWYeo0P6Lu_6UlwSOlahTK7smvpxzBjjSnkhxhyTKfI3QOD4sAS1MPoD7_qWGLkpRAiubB30HA3yIRnbizRdf4e4q_rhEIhirncoHie2tKzNSubzSme2qXsuHBGZkFdiurMCRZpKyuaE0fIILa70MtRnqT__EoEcOIMurxhfVi74QpSr8KOkj3oiuz3QWGPAvvPKihm_4oUDS2N0iuZ3GpwD8Hk8xNPSiKyOIvVd8MGMqmEQQ4dNcRN2mOACfmMiZ0K893biKFApsLNqfN8Z25jQS0Dg7Wb14V4lj9v1YLwu8gIMF4qpHGYjAlV7Kp4ABP9eSorTXhDAvCqD5Q4HqCyz-qoRHHSdUHzkgVIvdyjd5MQJtxcrfbM4PcQQ_APYBtOOoeZ_4nn6tJgfO-3ZUSLZnuyevlxgzth_kcI3j8reHSS4pUUegqhTFav7fqxtFDYgl0Y_ysRiKYU6fjHoIA3zUKiDaMdWttcVg-tzDdp4PzXHl6xfMeTuLI0ZE5ZrdiqfVCoajl83oB8Gba04g1OFTutM9_SzElftisV_xIhlbVOrH7ctLXO48-rkP0RyUbyEm37EJO_s6WwO4d6h3KmnvXzzvCZxaUXvUqWkFnsAkm_xcuwONpKPYHvysmEOMB3G6uJHNvSrmWiRY7QNttTL7Uojur5JLhh8rLCHzn-ulnNnZhn2ModtrTVyuHj2cAVPgup2tK5TI665OdHPn8MzYT2X4zd9X36dc-7ytDCbZFt1Z7_yJE7896lqJsFs1eDUUy0R9DNDSgPFRY2Ig3O4eINut67qnPu9Bd_qTAgzlAde66b3ooNw7rRlfEh4T19FvEO8Ga72JzlAp9VDw5s2zvpoUeeAdMycrOTqYJaak1Elqndsp-kHuIjT95bijABsNI3XuGPTJNbG2LfcfeKQdJ5VJRQutQa68S5E4shuJ2oN3Nq7Ws387vbPbFIX6ZnDgCIBHuR2Cqe7CnBEQjJ07LC9a5qGVPucijk5slNcAIshrFp8jsiPEN2o0e841c-jJRCBzsmUt8F6lBopDA7PeLLKSr91za-rxmRnmQW_om8vuQ/download\n",
    "with zipfile.ZipFile('Sagan2023_v3.zip', 'r') as zip_ref:\n",
    "    zip_ref.extractall('exoplanet_modeling_tutorial_new')\n",
    "os.remove(\"Sagan2023_v3.zip\")"
   ]
  },
  {
   "cell_type": "markdown",
   "id": "f0a555f1-741d-4a3f-a8b9-febdd29e21bb",
   "metadata": {},
   "source": [
    "## Slower Route: step-by-step to get peices individually (intermediate expertise do this)\n",
    "\n",
    "- [ ] [Follow install instructions to get opacities, and stellar grid files](https://natashabatalha.github.io/picaso/installation.html#download-picaso-reference-data) and set environment variables\n",
    "- [ ] Follow instructions below to get correlated K files needed for climate modeling\n",
    "- [ ] Follow instructions below to get Virga cloud files "
   ]
  },
  {
   "cell_type": "markdown",
   "id": "f74f6e0d-b944-4bd4-aff4-37118618d108",
   "metadata": {},
   "source": [
    "### Downloading Correlated K Tables\n",
    "Now, we have to download the Correlated K Tables in order for PICASO to run a climate analysis. This is, again, explained in much deeper depth in the notebook [AnalyzeExoplanet_2_picaso.ipynb](www.google.com) and [AnalyzeExoplanet_3_picaso_grid_loop.ipynb](www.google.com). This cell below will download:\n",
    "\n",
    "- sonora_2020_feh+000_co_100_noTiOVO.data.196.tar.gz\n",
    "- sonora_2020_feh+000_co_250_noTiOVO.data.196.tar.gz\n",
    "- sonora_2020_feh+100_co_100_noTiOVO.data.196.tar.gz\n",
    "- sonora_2020_feh+100_co_250_noTiOVO.data.196.tar.gz\n",
    "\n",
    "\n",
    "which are sourced from [here](https://zenodo.org/records/7542068).\n",
    "\n",
    "Then, it will extract the files and create and move them to your `exoplanet_modeling_tutorial/correlated_k_tables/` directory."
   ]
  },
  {
   "cell_type": "code",
   "execution_count": 13,
   "id": "ab88f502-9749-44c4-b2cc-48a9a9970fc1",
   "metadata": {
    "scrolled": true
   },
   "outputs": [
    {
     "name": "stdout",
     "output_type": "stream",
     "text": [
      "--2024-10-01 19:38:01--  https://zenodo.org/records/7542068/files/sonora_2020_feh+100_co_100_noTiOVO.data.196.tar.gz?download=1\n",
      "Resolving zenodo.org (zenodo.org)... 188.184.103.159, 188.185.79.172, 188.184.98.238, ...\n",
      "Connecting to zenodo.org (zenodo.org)|188.184.103.159|:443... connected.\n",
      "HTTP request sent, awaiting response... 200 OK\n",
      "Length: 38990061 (37M) [application/octet-stream]\n",
      "Saving to: ‘sonora_2020_feh+100_co_100_noTiOVO.data.196.tar.gz’\n",
      "\n",
      "sonora_2020_feh+100 100%[===================>]  37.18M  3.38MB/s    in 13s     \n",
      "\n",
      "2024-10-01 19:38:14 (2.91 MB/s) - ‘sonora_2020_feh+100_co_100_noTiOVO.data.196.tar.gz’ saved [38990061/38990061]\n",
      "\n",
      "--2024-10-01 19:38:15--  https://zenodo.org/records/7542068/files/sonora_2020_feh+000_co_100_noTiOVO.data.196.tar.gz?download=1\n",
      "Resolving zenodo.org (zenodo.org)... 188.184.103.159, 188.184.98.238, 188.185.79.172, ...\n",
      "Connecting to zenodo.org (zenodo.org)|188.184.103.159|:443... connected.\n",
      "HTTP request sent, awaiting response... 200 OK\n",
      "Length: 38847596 (37M) [application/octet-stream]\n",
      "Saving to: ‘sonora_2020_feh+000_co_100_noTiOVO.data.196.tar.gz’\n",
      "\n",
      "sonora_2020_feh+000 100%[===================>]  37.05M  3.34MB/s    in 13s     \n",
      "\n",
      "2024-10-01 19:38:29 (2.87 MB/s) - ‘sonora_2020_feh+000_co_100_noTiOVO.data.196.tar.gz’ saved [38847596/38847596]\n",
      "\n",
      "--2024-10-01 19:38:30--  https://zenodo.org/records/7542068/files/sonora_2020_feh+100_co_250_noTiOVO.data.196.tar.gz?download=1\n",
      "Resolving zenodo.org (zenodo.org)... 188.185.79.172, 188.184.98.238, 188.184.103.159, ...\n",
      "Connecting to zenodo.org (zenodo.org)|188.185.79.172|:443... connected.\n",
      "HTTP request sent, awaiting response... 200 OK\n",
      "Length: 39052260 (37M) [application/octet-stream]\n",
      "Saving to: ‘sonora_2020_feh+100_co_250_noTiOVO.data.196.tar.gz’\n",
      "\n",
      "sonora_2020_feh+100 100%[===================>]  37.24M  3.60MB/s    in 11s     \n",
      "\n",
      "2024-10-01 19:38:42 (3.25 MB/s) - ‘sonora_2020_feh+100_co_250_noTiOVO.data.196.tar.gz’ saved [39052260/39052260]\n",
      "\n",
      "--2024-10-01 19:38:43--  https://zenodo.org/records/7542068/files/sonora_2020_feh+000_co_250_noTiOVO.data.196.tar.gz?download=1\n",
      "Resolving zenodo.org (zenodo.org)... 188.184.98.238, 188.184.103.159, 188.185.79.172, ...\n",
      "Connecting to zenodo.org (zenodo.org)|188.184.98.238|:443... connected.\n",
      "HTTP request sent, awaiting response... 200 OK\n",
      "Length: 38913439 (37M) [application/octet-stream]\n",
      "Saving to: ‘sonora_2020_feh+000_co_250_noTiOVO.data.196.tar.gz’\n",
      "\n",
      "sonora_2020_feh+000 100%[===================>]  37.11M  3.69MB/s    in 11s     \n",
      "\n",
      "2024-10-01 19:38:55 (3.34 MB/s) - ‘sonora_2020_feh+000_co_250_noTiOVO.data.196.tar.gz’ saved [38913439/38913439]\n",
      "\n"
     ]
    }
   ],
   "source": [
    "import tarfile \n",
    "correlated_k_table_dir='temp'\n",
    "CtoO_list=['100', '250']\n",
    "mh_list = ['+100', '+000']\n",
    "for CtoO in CtoO_list:\n",
    "    for mh in mh_list:\n",
    "        !wget -O sonora_2020_feh{mh}_co_{CtoO}_noTiOVO.data.196.tar.gz \"https://zenodo.org/records/7542068/files/sonora_2020_feh{mh}_co_{CtoO}_noTiOVO.data.196.tar.gz?download=1\"\n",
    "        file = tarfile.open(f'sonora_2020_feh{mh}_co_{CtoO}_noTiOVO.data.196.tar.gz')\n",
    "        file.extractall(correlated_k_table_dir)\n",
    "        file.close()\n",
    "        os.remove(f'sonora_2020_feh{mh}_co_{CtoO}_noTiOVO.data.196.tar.gz')"
   ]
  },
  {
   "cell_type": "markdown",
   "id": "42896f9e-bda8-47b3-ae8d-c9d29b9da589",
   "metadata": {},
   "source": [
    "## Downloading Virga files needed for cloud modeling\n",
    "\n",
    "[Virga](https://natashabatalha.github.io/virga/installation.html) is the main package utilized in cloud modeling and analysis. It has a similar layout to PICASO with similar classes but completely different functionality with a cloud modeling emphasis. Installing is simple using pip (which should be automatically installed, if the cell does not run install it [here](https://pip.pypa.io/en/stable/installation/)).\n",
    "\n",
    "**BEGINNERS!!!! Just run the first cell below, you already have all the proper virga files in the .zip file you downloaded earlier. (You might already have it if you ran `pip install picaso`.**)"
   ]
  },
  {
   "cell_type": "code",
   "execution_count": 8,
   "id": "1321b715-c512-4fff-a64d-479f31f18ee2",
   "metadata": {},
   "outputs": [
    {
     "name": "stdout",
     "output_type": "stream",
     "text": [
      "\u001b[33mDEPRECATION: Loading egg at /home/ddoud1/anaconda3/envs/picaso311/lib/python3.11/site-packages/sphinxcontrib_devhelp-1.0.6-py3.11.egg is deprecated. pip 24.3 will enforce this behaviour change. A possible replacement is to use pip for package installation.. Discussion can be found at https://github.com/pypa/pip/issues/12330\u001b[0m\u001b[33m\n",
      "\u001b[0m\u001b[33mDEPRECATION: Loading egg at /home/ddoud1/anaconda3/envs/picaso311/lib/python3.11/site-packages/bibtexparser-2.0.0b7-py3.11.egg is deprecated. pip 24.3 will enforce this behaviour change. A possible replacement is to use pip for package installation.. Discussion can be found at https://github.com/pypa/pip/issues/12330\u001b[0m\u001b[33m\n",
      "\u001b[0m\u001b[33mDEPRECATION: Loading egg at /home/ddoud1/anaconda3/envs/picaso311/lib/python3.11/site-packages/alabaster-0.7.16-py3.11.egg is deprecated. pip 24.3 will enforce this behaviour change. A possible replacement is to use pip for package installation.. Discussion can be found at https://github.com/pypa/pip/issues/12330\u001b[0m\u001b[33m\n",
      "\u001b[0m\u001b[33mDEPRECATION: Loading egg at /home/ddoud1/anaconda3/envs/picaso311/lib/python3.11/site-packages/xarray-2024.2.0-py3.11.egg is deprecated. pip 24.3 will enforce this behaviour change. A possible replacement is to use pip for package installation.. Discussion can be found at https://github.com/pypa/pip/issues/12330\u001b[0m\u001b[33m\n",
      "\u001b[0m\u001b[33mDEPRECATION: Loading egg at /home/ddoud1/anaconda3/envs/picaso311/lib/python3.11/site-packages/docutils-0.20.1-py3.11.egg is deprecated. pip 24.3 will enforce this behaviour change. A possible replacement is to use pip for package installation.. Discussion can be found at https://github.com/pypa/pip/issues/12330\u001b[0m\u001b[33m\n",
      "\u001b[0m\u001b[33mDEPRECATION: Loading egg at /home/ddoud1/anaconda3/envs/picaso311/lib/python3.11/site-packages/pysynphot-2.0.0-py3.11-linux-x86_64.egg is deprecated. pip 24.3 will enforce this behaviour change. A possible replacement is to use pip for package installation.. Discussion can be found at https://github.com/pypa/pip/issues/12330\u001b[0m\u001b[33m\n",
      "\u001b[0m\u001b[33mDEPRECATION: Loading egg at /home/ddoud1/anaconda3/envs/picaso311/lib/python3.11/site-packages/markdown_it_py-3.0.0-py3.11.egg is deprecated. pip 24.3 will enforce this behaviour change. A possible replacement is to use pip for package installation.. Discussion can be found at https://github.com/pypa/pip/issues/12330\u001b[0m\u001b[33m\n",
      "\u001b[0m\u001b[33mDEPRECATION: Loading egg at /home/ddoud1/anaconda3/envs/picaso311/lib/python3.11/site-packages/sphinxcontrib_htmlhelp-2.0.5-py3.11.egg is deprecated. pip 24.3 will enforce this behaviour change. A possible replacement is to use pip for package installation.. Discussion can be found at https://github.com/pypa/pip/issues/12330\u001b[0m\u001b[33m\n",
      "\u001b[0m\u001b[33mDEPRECATION: Loading egg at /home/ddoud1/anaconda3/envs/picaso311/lib/python3.11/site-packages/pylatexenc-3.0a21-py3.11.egg is deprecated. pip 24.3 will enforce this behaviour change. A possible replacement is to use pip for package installation.. Discussion can be found at https://github.com/pypa/pip/issues/12330\u001b[0m\u001b[33m\n",
      "\u001b[0m\u001b[33mDEPRECATION: Loading egg at /home/ddoud1/anaconda3/envs/picaso311/lib/python3.11/site-packages/scipy-1.12.0-py3.11-linux-x86_64.egg is deprecated. pip 24.3 will enforce this behaviour change. A possible replacement is to use pip for package installation.. Discussion can be found at https://github.com/pypa/pip/issues/12330\u001b[0m\u001b[33m\n",
      "\u001b[0m\u001b[33mDEPRECATION: Loading egg at /home/ddoud1/anaconda3/envs/picaso311/lib/python3.11/site-packages/cftime-1.6.3-py3.11-linux-x86_64.egg is deprecated. pip 24.3 will enforce this behaviour change. A possible replacement is to use pip for package installation.. Discussion can be found at https://github.com/pypa/pip/issues/12330\u001b[0m\u001b[33m\n",
      "\u001b[0m\u001b[33mDEPRECATION: Loading egg at /home/ddoud1/anaconda3/envs/picaso311/lib/python3.11/site-packages/linkify_it_py-2.0.3-py3.11.egg is deprecated. pip 24.3 will enforce this behaviour change. A possible replacement is to use pip for package installation.. Discussion can be found at https://github.com/pypa/pip/issues/12330\u001b[0m\u001b[33m\n",
      "\u001b[0m\u001b[33mDEPRECATION: Loading egg at /home/ddoud1/anaconda3/envs/picaso311/lib/python3.11/site-packages/numba-0.59.0-py3.11-linux-x86_64.egg is deprecated. pip 24.3 will enforce this behaviour change. A possible replacement is to use pip for package installation.. Discussion can be found at https://github.com/pypa/pip/issues/12330\u001b[0m\u001b[33m\n",
      "\u001b[0m\u001b[33mDEPRECATION: Loading egg at /home/ddoud1/anaconda3/envs/picaso311/lib/python3.11/site-packages/sphinxcontrib_qthelp-1.0.7-py3.11.egg is deprecated. pip 24.3 will enforce this behaviour change. A possible replacement is to use pip for package installation.. Discussion can be found at https://github.com/pypa/pip/issues/12330\u001b[0m\u001b[33m\n",
      "\u001b[0m\u001b[33mDEPRECATION: Loading egg at /home/ddoud1/anaconda3/envs/picaso311/lib/python3.11/site-packages/tqdm-4.66.2-py3.11.egg is deprecated. pip 24.3 will enforce this behaviour change. A possible replacement is to use pip for package installation.. Discussion can be found at https://github.com/pypa/pip/issues/12330\u001b[0m\u001b[33m\n",
      "\u001b[0m\u001b[33mDEPRECATION: Loading egg at /home/ddoud1/anaconda3/envs/picaso311/lib/python3.11/site-packages/astropy_iers_data-0.2024.3.4.0.30.17-py3.11.egg is deprecated. pip 24.3 will enforce this behaviour change. A possible replacement is to use pip for package installation.. Discussion can be found at https://github.com/pypa/pip/issues/12330\u001b[0m\u001b[33m\n",
      "\u001b[0m\u001b[33mDEPRECATION: Loading egg at /home/ddoud1/anaconda3/envs/picaso311/lib/python3.11/site-packages/h5netcdf-1.3.0-py3.11.egg is deprecated. pip 24.3 will enforce this behaviour change. A possible replacement is to use pip for package installation.. Discussion can be found at https://github.com/pypa/pip/issues/12330\u001b[0m\u001b[33m\n",
      "\u001b[0m\u001b[33mDEPRECATION: Loading egg at /home/ddoud1/anaconda3/envs/picaso311/lib/python3.11/site-packages/bokeh-3.2.2-py3.11.egg is deprecated. pip 24.3 will enforce this behaviour change. A possible replacement is to use pip for package installation.. Discussion can be found at https://github.com/pypa/pip/issues/12330\u001b[0m\u001b[33m\n",
      "\u001b[0m\u001b[33mDEPRECATION: Loading egg at /home/ddoud1/anaconda3/envs/picaso311/lib/python3.11/site-packages/Markdown-3.5.2-py3.11.egg is deprecated. pip 24.3 will enforce this behaviour change. A possible replacement is to use pip for package installation.. Discussion can be found at https://github.com/pypa/pip/issues/12330\u001b[0m\u001b[33m\n",
      "\u001b[0m\u001b[33mDEPRECATION: Loading egg at /home/ddoud1/anaconda3/envs/picaso311/lib/python3.11/site-packages/photutils-1.11.0-py3.11-linux-x86_64.egg is deprecated. pip 24.3 will enforce this behaviour change. A possible replacement is to use pip for package installation.. Discussion can be found at https://github.com/pypa/pip/issues/12330\u001b[0m\u001b[33m\n",
      "\u001b[0m\u001b[33mDEPRECATION: Loading egg at /home/ddoud1/anaconda3/envs/picaso311/lib/python3.11/site-packages/snowballstemmer-2.2.0-py3.11.egg is deprecated. pip 24.3 will enforce this behaviour change. A possible replacement is to use pip for package installation.. Discussion can be found at https://github.com/pypa/pip/issues/12330\u001b[0m\u001b[33m\n",
      "\u001b[0m\u001b[33mDEPRECATION: Loading egg at /home/ddoud1/anaconda3/envs/picaso311/lib/python3.11/site-packages/netCDF4-1.6.5-py3.11-linux-x86_64.egg is deprecated. pip 24.3 will enforce this behaviour change. A possible replacement is to use pip for package installation.. Discussion can be found at https://github.com/pypa/pip/issues/12330\u001b[0m\u001b[33m\n",
      "\u001b[0m\u001b[33mDEPRECATION: Loading egg at /home/ddoud1/anaconda3/envs/picaso311/lib/python3.11/site-packages/imagesize-1.4.1-py3.11.egg is deprecated. pip 24.3 will enforce this behaviour change. A possible replacement is to use pip for package installation.. Discussion can be found at https://github.com/pypa/pip/issues/12330\u001b[0m\u001b[33m\n",
      "\u001b[0m\u001b[33mDEPRECATION: Loading egg at /home/ddoud1/anaconda3/envs/picaso311/lib/python3.11/site-packages/mdit_py_plugins-0.4.0-py3.11.egg is deprecated. pip 24.3 will enforce this behaviour change. A possible replacement is to use pip for package installation.. Discussion can be found at https://github.com/pypa/pip/issues/12330\u001b[0m\u001b[33m\n",
      "\u001b[0m\u001b[33mDEPRECATION: Loading egg at /home/ddoud1/anaconda3/envs/picaso311/lib/python3.11/site-packages/joblib-1.3.2-py3.11.egg is deprecated. pip 24.3 will enforce this behaviour change. A possible replacement is to use pip for package installation.. Discussion can be found at https://github.com/pypa/pip/issues/12330\u001b[0m\u001b[33m\n",
      "\u001b[0m\u001b[33mDEPRECATION: Loading egg at /home/ddoud1/anaconda3/envs/picaso311/lib/python3.11/site-packages/PyMieScatt-1.8.1.1-py3.11.egg is deprecated. pip 24.3 will enforce this behaviour change. A possible replacement is to use pip for package installation.. Discussion can be found at https://github.com/pypa/pip/issues/12330\u001b[0m\u001b[33m\n",
      "\u001b[0m\u001b[33mDEPRECATION: Loading egg at /home/ddoud1/anaconda3/envs/picaso311/lib/python3.11/site-packages/sphinxcontrib_serializinghtml-1.1.10-py3.11.egg is deprecated. pip 24.3 will enforce this behaviour change. A possible replacement is to use pip for package installation.. Discussion can be found at https://github.com/pypa/pip/issues/12330\u001b[0m\u001b[33m\n",
      "\u001b[0m\u001b[33mDEPRECATION: Loading egg at /home/ddoud1/anaconda3/envs/picaso311/lib/python3.11/site-packages/sphinxcontrib_applehelp-1.0.8-py3.11.egg is deprecated. pip 24.3 will enforce this behaviour change. A possible replacement is to use pip for package installation.. Discussion can be found at https://github.com/pypa/pip/issues/12330\u001b[0m\u001b[33m\n",
      "\u001b[0m\u001b[33mDEPRECATION: Loading egg at /home/ddoud1/anaconda3/envs/picaso311/lib/python3.11/site-packages/astropy-6.0.0-py3.11-linux-x86_64.egg is deprecated. pip 24.3 will enforce this behaviour change. A possible replacement is to use pip for package installation.. Discussion can be found at https://github.com/pypa/pip/issues/12330\u001b[0m\u001b[33m\n",
      "\u001b[0m\u001b[33mDEPRECATION: Loading egg at /home/ddoud1/anaconda3/envs/picaso311/lib/python3.11/site-packages/fonttools-4.49.0-py3.11-linux-x86_64.egg is deprecated. pip 24.3 will enforce this behaviour change. A possible replacement is to use pip for package installation.. Discussion can be found at https://github.com/pypa/pip/issues/12330\u001b[0m\u001b[33m\n",
      "\u001b[0m\u001b[33mDEPRECATION: Loading egg at /home/ddoud1/anaconda3/envs/picaso311/lib/python3.11/site-packages/pyerfa-2.0.1.1-py3.11-linux-x86_64.egg is deprecated. pip 24.3 will enforce this behaviour change. A possible replacement is to use pip for package installation.. Discussion can be found at https://github.com/pypa/pip/issues/12330\u001b[0m\u001b[33m\n",
      "\u001b[0m\u001b[33mDEPRECATION: Loading egg at /home/ddoud1/anaconda3/envs/picaso311/lib/python3.11/site-packages/colorcet-3.1.0-py3.11.egg is deprecated. pip 24.3 will enforce this behaviour change. A possible replacement is to use pip for package installation.. Discussion can be found at https://github.com/pypa/pip/issues/12330\u001b[0m\u001b[33m\n",
      "\u001b[0m\u001b[33mDEPRECATION: Loading egg at /home/ddoud1/anaconda3/envs/picaso311/lib/python3.11/site-packages/param-2.1.0a2-py3.11.egg is deprecated. pip 24.3 will enforce this behaviour change. A possible replacement is to use pip for package installation.. Discussion can be found at https://github.com/pypa/pip/issues/12330\u001b[0m\u001b[33m\n",
      "\u001b[0m\u001b[33mDEPRECATION: Loading egg at /home/ddoud1/anaconda3/envs/picaso311/lib/python3.11/site-packages/shapely-2.0.3-py3.11-linux-x86_64.egg is deprecated. pip 24.3 will enforce this behaviour change. A possible replacement is to use pip for package installation.. Discussion can be found at https://github.com/pypa/pip/issues/12330\u001b[0m\u001b[33m\n",
      "\u001b[0m\u001b[33mDEPRECATION: Loading egg at /home/ddoud1/anaconda3/envs/picaso311/lib/python3.11/site-packages/pyviz_comms-3.0.1-py3.11.egg is deprecated. pip 24.3 will enforce this behaviour change. A possible replacement is to use pip for package installation.. Discussion can be found at https://github.com/pypa/pip/issues/12330\u001b[0m\u001b[33m\n",
      "\u001b[0m\u001b[33mDEPRECATION: Loading egg at /home/ddoud1/anaconda3/envs/picaso311/lib/python3.11/site-packages/llvmlite-0.42.0-py3.11-linux-x86_64.egg is deprecated. pip 24.3 will enforce this behaviour change. A possible replacement is to use pip for package installation.. Discussion can be found at https://github.com/pypa/pip/issues/12330\u001b[0m\u001b[33m\n",
      "\u001b[0m\u001b[33mDEPRECATION: Loading egg at /home/ddoud1/anaconda3/envs/picaso311/lib/python3.11/site-packages/holoviews-1.18.3-py3.11.egg is deprecated. pip 24.3 will enforce this behaviour change. A possible replacement is to use pip for package installation.. Discussion can be found at https://github.com/pypa/pip/issues/12330\u001b[0m\u001b[33m\n",
      "\u001b[0m\u001b[33mDEPRECATION: Loading egg at /home/ddoud1/anaconda3/envs/picaso311/lib/python3.11/site-packages/sphinx-7.2.6-py3.11.egg is deprecated. pip 24.3 will enforce this behaviour change. A possible replacement is to use pip for package installation.. Discussion can be found at https://github.com/pypa/pip/issues/12330\u001b[0m\u001b[33m\n",
      "\u001b[0m\u001b[33mDEPRECATION: Loading egg at /home/ddoud1/anaconda3/envs/picaso311/lib/python3.11/site-packages/sphinxcontrib_jsmath-1.0.1-py3.11.egg is deprecated. pip 24.3 will enforce this behaviour change. A possible replacement is to use pip for package installation.. Discussion can be found at https://github.com/pypa/pip/issues/12330\u001b[0m\u001b[33m\n",
      "\u001b[0m\u001b[33mDEPRECATION: Loading egg at /home/ddoud1/anaconda3/envs/picaso311/lib/python3.11/site-packages/h5py-3.10.0-py3.11-linux-x86_64.egg is deprecated. pip 24.3 will enforce this behaviour change. A possible replacement is to use pip for package installation.. Discussion can be found at https://github.com/pypa/pip/issues/12330\u001b[0m\u001b[33m\n",
      "\u001b[0m\u001b[33mDEPRECATION: Loading egg at /home/ddoud1/anaconda3/envs/picaso311/lib/python3.11/site-packages/panel-1.4.0b2-py3.11.egg is deprecated. pip 24.3 will enforce this behaviour change. A possible replacement is to use pip for package installation.. Discussion can be found at https://github.com/pypa/pip/issues/12330\u001b[0m\u001b[33m\n",
      "\u001b[0mRequirement already satisfied: virga-exo in /home/ddoud1/anaconda3/envs/picaso311/lib/python3.11/site-packages (0.4)\n",
      "Requirement already satisfied: numpy in /home/ddoud1/anaconda3/envs/picaso311/lib/python3.11/site-packages (from virga-exo) (1.26.4)\n",
      "Requirement already satisfied: pandas in /home/ddoud1/anaconda3/envs/picaso311/lib/python3.11/site-packages (from virga-exo) (2.2.1)\n",
      "Requirement already satisfied: bokeh in /home/ddoud1/anaconda3/envs/picaso311/lib/python3.11/site-packages/bokeh-3.2.2-py3.11.egg (from virga-exo) (3.2.2)\n",
      "Requirement already satisfied: joblib in /home/ddoud1/anaconda3/envs/picaso311/lib/python3.11/site-packages/joblib-1.3.2-py3.11.egg (from virga-exo) (1.3.2)\n",
      "Requirement already satisfied: photutils in /home/ddoud1/anaconda3/envs/picaso311/lib/python3.11/site-packages/photutils-1.11.0-py3.11-linux-x86_64.egg (from virga-exo) (1.11.0)\n",
      "Requirement already satisfied: astropy in /home/ddoud1/anaconda3/envs/picaso311/lib/python3.11/site-packages/astropy-6.0.0-py3.11-linux-x86_64.egg (from virga-exo) (6.0.0)\n",
      "Requirement already satisfied: scipy in /home/ddoud1/anaconda3/envs/picaso311/lib/python3.11/site-packages/scipy-1.12.0-py3.11-linux-x86_64.egg (from virga-exo) (1.12.0)\n",
      "Requirement already satisfied: PyMieScatt in /home/ddoud1/anaconda3/envs/picaso311/lib/python3.11/site-packages/PyMieScatt-1.8.1.1-py3.11.egg (from virga-exo) (1.8.1.1)\n",
      "Requirement already satisfied: pyerfa>=2.0 in /home/ddoud1/anaconda3/envs/picaso311/lib/python3.11/site-packages/pyerfa-2.0.1.1-py3.11-linux-x86_64.egg (from astropy->virga-exo) (2.0.1.1)\n",
      "Requirement already satisfied: astropy-iers-data>=0.2023.10.30.0.29.53 in /home/ddoud1/anaconda3/envs/picaso311/lib/python3.11/site-packages/astropy_iers_data-0.2024.3.4.0.30.17-py3.11.egg (from astropy->virga-exo) (0.2024.3.4.0.30.17)\n",
      "Requirement already satisfied: PyYAML>=3.13 in /home/ddoud1/anaconda3/envs/picaso311/lib/python3.11/site-packages (from astropy->virga-exo) (6.0.1)\n",
      "Requirement already satisfied: packaging>=19.0 in /home/ddoud1/anaconda3/envs/picaso311/lib/python3.11/site-packages (from astropy->virga-exo) (23.1)\n",
      "Requirement already satisfied: Jinja2>=2.9 in /home/ddoud1/anaconda3/envs/picaso311/lib/python3.11/site-packages (from bokeh->virga-exo) (3.1.3)\n",
      "Requirement already satisfied: contourpy>=1 in /home/ddoud1/anaconda3/envs/picaso311/lib/python3.11/site-packages (from bokeh->virga-exo) (1.2.0)\n",
      "Requirement already satisfied: pillow>=7.1.0 in /home/ddoud1/anaconda3/envs/picaso311/lib/python3.11/site-packages (from bokeh->virga-exo) (10.2.0)\n",
      "Requirement already satisfied: tornado>=5.1 in /home/ddoud1/anaconda3/envs/picaso311/lib/python3.11/site-packages (from bokeh->virga-exo) (6.3.3)\n",
      "Requirement already satisfied: xyzservices>=2021.09.1 in /home/ddoud1/anaconda3/envs/picaso311/lib/python3.11/site-packages (from bokeh->virga-exo) (2022.9.0)\n",
      "Requirement already satisfied: python-dateutil>=2.8.2 in /home/ddoud1/anaconda3/envs/picaso311/lib/python3.11/site-packages (from pandas->virga-exo) (2.8.2)\n",
      "Requirement already satisfied: pytz>=2020.1 in /home/ddoud1/anaconda3/envs/picaso311/lib/python3.11/site-packages (from pandas->virga-exo) (2023.3.post1)\n",
      "Requirement already satisfied: tzdata>=2022.7 in /home/ddoud1/anaconda3/envs/picaso311/lib/python3.11/site-packages (from pandas->virga-exo) (2023.3)\n",
      "Requirement already satisfied: matplotlib in /home/ddoud1/anaconda3/envs/picaso311/lib/python3.11/site-packages (from PyMieScatt->virga-exo) (3.8.0)\n",
      "Requirement already satisfied: shapely in /home/ddoud1/anaconda3/envs/picaso311/lib/python3.11/site-packages/shapely-2.0.3-py3.11-linux-x86_64.egg (from PyMieScatt->virga-exo) (2.0.3)\n",
      "Requirement already satisfied: MarkupSafe>=2.0 in /home/ddoud1/anaconda3/envs/picaso311/lib/python3.11/site-packages (from Jinja2>=2.9->bokeh->virga-exo) (2.1.3)\n",
      "Requirement already satisfied: six>=1.5 in /home/ddoud1/anaconda3/envs/picaso311/lib/python3.11/site-packages (from python-dateutil>=2.8.2->pandas->virga-exo) (1.16.0)\n",
      "Requirement already satisfied: cycler>=0.10 in /home/ddoud1/anaconda3/envs/picaso311/lib/python3.11/site-packages (from matplotlib->PyMieScatt->virga-exo) (0.11.0)\n",
      "Requirement already satisfied: fonttools>=4.22.0 in /home/ddoud1/anaconda3/envs/picaso311/lib/python3.11/site-packages/fonttools-4.49.0-py3.11-linux-x86_64.egg (from matplotlib->PyMieScatt->virga-exo) (4.49.0)\n",
      "Requirement already satisfied: kiwisolver>=1.0.1 in /home/ddoud1/anaconda3/envs/picaso311/lib/python3.11/site-packages (from matplotlib->PyMieScatt->virga-exo) (1.4.4)\n",
      "Requirement already satisfied: pyparsing>=2.3.1 in /home/ddoud1/anaconda3/envs/picaso311/lib/python3.11/site-packages (from matplotlib->PyMieScatt->virga-exo) (3.0.9)\n",
      "Note: you may need to restart the kernel to use updated packages.\n"
     ]
    }
   ],
   "source": [
    "pip install virga-exo"
   ]
  },
  {
   "cell_type": "code",
   "execution_count": 10,
   "id": "81ce45f5-2f92-4c37-ae55-ad460480fb0d",
   "metadata": {},
   "outputs": [
    {
     "name": "stdout",
     "output_type": "stream",
     "text": [
      "--2024-10-01 16:57:18--  https://zenodo.org/records/3758538/files/virga.zip?download=1\n",
      "Resolving zenodo.org (zenodo.org)... 188.184.98.238, 188.184.103.159, 188.185.79.172, ...\n",
      "Connecting to zenodo.org (zenodo.org)|188.184.98.238|:443... connected.\n",
      "HTTP request sent, awaiting response... 200 OK\n",
      "Length: 2823173 (2.7M) [application/octet-stream]\n",
      "Saving to: ‘virga.zip’\n",
      "\n",
      "virga.zip           100%[===================>]   2.69M  1.92MB/s    in 1.4s    \n",
      "\n",
      "2024-10-01 16:57:20 (1.92 MB/s) - ‘virga.zip’ saved [2823173/2823173]\n",
      "\n"
     ]
    }
   ],
   "source": [
    "# Store these in a directory you will remember, you will be calling it in the next notebook\n",
    "virga_dir='virga_dir'\n",
    "!wget -O virga.zip https://zenodo.org/records/3758538/files/virga.zip?download=1\n",
    "with zipfile.ZipFile('virga.zip', 'r') as zip_ref:\n",
    "    zip_ref.extractall(virga_dir)\n",
    "os.remove(\"virga.zip\")"
   ]
  }
 ],
 "metadata": {
  "colab": {
   "provenance": [
    {
     "file_id": "1iiuBZ-9eSg-ZGlT7WLODxID7alvtayrD",
     "timestamp": 1686694242813
    }
   ],
   "toc_visible": true
  },
  "kernelspec": {
   "display_name": "Python 3 (ipykernel)",
   "language": "python",
   "name": "python3"
  },
  "language_info": {
   "codemirror_mode": {
    "name": "ipython",
    "version": 3
   },
   "file_extension": ".py",
   "mimetype": "text/x-python",
   "name": "python",
   "nbconvert_exporter": "python",
   "pygments_lexer": "ipython3",
   "version": "3.11.8"
  },
  "toc": {
   "base_numbering": 1,
   "nav_menu": {},
   "number_sections": true,
   "sideBar": true,
   "skip_h1_title": false,
   "title_cell": "Table of Contents",
   "title_sidebar": "Contents",
   "toc_cell": true,
   "toc_position": {},
   "toc_section_display": true,
   "toc_window_display": false
  }
 },
 "nbformat": 4,
 "nbformat_minor": 5
}
