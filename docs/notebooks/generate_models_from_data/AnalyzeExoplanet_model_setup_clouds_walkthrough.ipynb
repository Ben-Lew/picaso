{
 "cells": [
  {
   "cell_type": "markdown",
   "id": "6f6da004-2fb1-47fe-b934-0e2ed17c2369",
   "metadata": {},
   "source": [
    "# Model Setup Script with Clouds \n",
    "\n",
    "You should already understand the basics of a `model_setup_cldfree.py` file. Here we will show how to add a case with a cloud retrieval, and identify the largest differences between a model setup with and without clouds."
   ]
  },
  {
   "cell_type": "markdown",
   "id": "4572634d-c9aa-48f8-9b8a-10a7d396babe",
   "metadata": {},
   "source": [
    "# Sets and Setups for Ultranest"
   ]
  },
  {
   "cell_type": "markdown",
   "id": "915cef03-9462-49ee-95e1-4064790192a6",
   "metadata": {},
   "source": [
    "## Param Set"
   ]
  },
  {
   "cell_type": "markdown",
   "id": "c127503d-8db4-4064-95f6-f246568428b6",
   "metadata": {},
   "source": [
    "You can see the biggest difference is that there is now a new line of code where we add the parameters associated with a typical `virga` run, that being `logkzz` and `fsed` (note that `offset_hst` and `offset_jwst` is data specific, you probably won't need it in your run)."
   ]
  },
  {
   "cell_type": "code",
   "execution_count": 1,
   "id": "9e13e3cd-6ca3-4bf5-841c-ecba467f5a77",
   "metadata": {},
   "outputs": [
    {
     "ename": "NameError",
     "evalue": "name 'grid_parameters_unique' is not defined",
     "output_type": "error",
     "traceback": [
      "\u001b[0;31m---------------------------------------------------------------------------\u001b[0m",
      "\u001b[0;31mNameError\u001b[0m                                 Traceback (most recent call last)",
      "Cell \u001b[0;32mIn[1], line 1\u001b[0m\n\u001b[0;32m----> 1\u001b[0m \u001b[38;5;28;01mclass\u001b[39;00m \u001b[38;5;21;01mparam_set\u001b[39;00m:\n\u001b[1;32m      2\u001b[0m \u001b[38;5;250m    \u001b[39m\u001b[38;5;124;03m\"\"\"\u001b[39;00m\n\u001b[1;32m      3\u001b[0m \u001b[38;5;124;03m    This is purely for book keeping what parameters you have run in each retrieval.\u001b[39;00m\n\u001b[1;32m      4\u001b[0m \u001b[38;5;124;03m    It helps if you keep variables uniform.\u001b[39;00m\n\u001b[0;32m   (...)\u001b[0m\n\u001b[1;32m      7\u001b[0m \u001b[38;5;124;03m    2) Make sure that the variable names here match the function names in model_set and prior_set\u001b[39;00m\n\u001b[1;32m      8\u001b[0m \u001b[38;5;124;03m    \"\"\"\u001b[39;00m\n\u001b[1;32m      9\u001b[0m     \u001b[38;5;66;03m#line='m,b' #simplest test model = blackbody: blackbody='Tiff'\u001b[39;00m\n",
      "Cell \u001b[0;32mIn[1], line 10\u001b[0m, in \u001b[0;36mparam_set\u001b[0;34m()\u001b[0m\n\u001b[1;32m      2\u001b[0m \u001b[38;5;250m\u001b[39m\u001b[38;5;124;03m\"\"\"\u001b[39;00m\n\u001b[1;32m      3\u001b[0m \u001b[38;5;124;03mThis is purely for book keeping what parameters you have run in each retrieval.\u001b[39;00m\n\u001b[1;32m      4\u001b[0m \u001b[38;5;124;03mIt helps if you keep variables uniform.\u001b[39;00m\n\u001b[0;32m   (...)\u001b[0m\n\u001b[1;32m      7\u001b[0m \u001b[38;5;124;03m2) Make sure that the variable names here match the function names in model_set and prior_set\u001b[39;00m\n\u001b[1;32m      8\u001b[0m \u001b[38;5;124;03m\"\"\"\u001b[39;00m\n\u001b[1;32m      9\u001b[0m \u001b[38;5;66;03m#line='m,b' #simplest test model = blackbody: blackbody='Tiff'\u001b[39;00m\n\u001b[0;32m---> 10\u001b[0m cld_free \u001b[38;5;241m=\u001b[39m \u001b[38;5;124m'\u001b[39m\u001b[38;5;124m,\u001b[39m\u001b[38;5;124m'\u001b[39m\u001b[38;5;241m.\u001b[39mjoin(grid_parameters_unique\u001b[38;5;241m.\u001b[39mkeys())\n\u001b[1;32m     11\u001b[0m \u001b[38;5;66;03m#now lets add a new model to explore. We want to fit for other parameters besides just the grid parameters \u001b[39;00m\n\u001b[1;32m     12\u001b[0m w_clds \u001b[38;5;241m=\u001b[39m \u001b[38;5;124m'\u001b[39m\u001b[38;5;124m,\u001b[39m\u001b[38;5;124m'\u001b[39m\u001b[38;5;241m.\u001b[39mjoin(grid_parameters_unique\u001b[38;5;241m.\u001b[39mkeys())\u001b[38;5;241m+\u001b[39m\u001b[38;5;124m'\u001b[39m\u001b[38;5;124m,fsed,kzz\u001b[39m\u001b[38;5;124m'\u001b[39m\n",
      "\u001b[0;31mNameError\u001b[0m: name 'grid_parameters_unique' is not defined"
     ]
    }
   ],
   "source": [
    "class param_set:\n",
    "    \"\"\"\n",
    "    This is purely for book keeping what parameters you have run in each retrieval.\n",
    "    It helps if you keep variables uniform.\n",
    "    THINGS TO CHECK:\n",
    "    1) Make sure that the variables here match how you are unpacking your cube in the model_set class and prior_set\n",
    "    2) Make sure that the variable names here match the function names in model_set and prior_set\n",
    "    \"\"\"\n",
    "    cld_free = ','.join(grid_parameters_unique.keys())+',offset_hst,offset_jwst'\n",
    "    cld_free_virga = ','.join(grid_parameters_unique.keys())+',offset_hst,offset_jwst,logkzz,fsed'"
   ]
  },
  {
   "cell_type": "markdown",
   "id": "5973b3b4-5320-406b-9581-562dcc5cacb1",
   "metadata": {},
   "source": [
    "## Guesses Set"
   ]
  },
  {
   "cell_type": "markdown",
   "id": "613f686b-5bd2-4847-a5b6-581c007afeca",
   "metadata": {},
   "source": [
    "There is now a line of code to obtain `virga` parameters."
   ]
  },
  {
   "cell_type": "code",
   "execution_count": null,
   "id": "56a881c5-15e8-4f9d-a1fe-5881d002501b",
   "metadata": {},
   "outputs": [],
   "source": [
    "class guesses_set: \n",
    "    \"\"\"\n",
    "    Optional! \n",
    "    This is only used if you want to test your initial functions before running \n",
    "    the full retrievals. See script test.py\n",
    "    \"\"\"\n",
    "    #completely random guesses just to make sure it runs\n",
    "    cld_free=[grid_parameters_unique[i][0]\n",
    "             for i in grid_parameters_unique.keys()] + [-.005,-.005]\n",
    "    cld_free_virga=[grid_parameters_unique[i][0]\n",
    "             for i in grid_parameters_unique.keys()] + [-.005,-.005,10,1]"
   ]
  },
  {
   "cell_type": "markdown",
   "id": "3597fc70-bdfe-49fc-bc4f-2c07f9c5644c",
   "metadata": {},
   "source": [
    "## Model Set"
   ]
  },
  {
   "cell_type": "markdown",
   "id": "e52d36dd-ad98-44f9-9354-5e18ccf9f42b",
   "metadata": {},
   "source": [
    "A whole other defintion has been created for specifically `virga`, where we first get our \"core\" parameters, or the parameters that are not related to `virga`. Next, we grab the P-T profile and chemical equilbirum from the non-virga run, and then add extra parameters for the clouds (`kzz`, `fsed`, etc). Finally, we recompute the spectrum (not climate!) in order to get the full model."
   ]
  },
  {
   "cell_type": "code",
   "execution_count": null,
   "id": "6dee0214-5a97-4ec7-a3ec-2ba95f333f12",
   "metadata": {},
   "outputs": [],
   "source": [
    "class model_set:\n",
    "    \"\"\"100e-6=1e-4\n",
    "    This is your full model set. It will include all the functions you want to test\n",
    "    for a particular data set.\n",
    "    \"\"\"     \n",
    "    def cld_free(cube): \n",
    "        final_goal = cube[0:len(grid_parameters_unique.keys())]\n",
    "        spectra_interp = lyz.custom_interp(final_goal, fitter, grid_name)\n",
    "        micron = fitter.wavelength[grid_name]\n",
    "        wno = 1e4/fitter.wavelength[grid_name] \n",
    "        return wno, spectra_interp\n",
    "\n",
    "    def cld_free_virga(cube,planet=planet_og):\n",
    "        #1) get core parametrs\n",
    "        final_goal = cube[0:len(grid_parameters_unique.keys())]\n",
    "        off_hst = cube[-4]\n",
    "        off_jwst = cube[-3]     \n",
    "        kzz = 10**cube[-2]\n",
    "        fsed = 10**cube[-1]  \n",
    "        \n",
    "        #2) from core parameters get PT profile and chemistry\n",
    "        dd,indz = tree.query(final_goal,k=1)\n",
    "        near = grid_points.iloc[indz]\n",
    "        file = os.path.join(location,\n",
    "            f\"wasp-17btint{near['tint']}-rfacv{near['heat_redis']}-mh{near['mh']}-cto{near['cto']}.nc\")\n",
    "        \n",
    "        ds = jdi.xr.load_dataset(file)\n",
    "        df = {'pressure':ds.coords['pressure'].values}\n",
    "        for i in [i for i in ds.data_vars.keys() if 'transit' not in i]:\n",
    "            if i not in ['opd','ssa','asy']:\n",
    "                #only get single coord pressure stuff\n",
    "                if (len(ds.data_vars[i].values.shape)==1 &\n",
    "                            ('pressure' in ds.data_vars[i].coords)):\n",
    "                    df[i]=ds.data_vars[i].values        \n",
    "        \n",
    "        #mh = 10**float(near['mh'])\n",
    "        \n",
    "        for i in opacity.keys(): planet[i].atmosphere(df=jdi.pd.DataFrame(df))    \n",
    "        \n",
    "        #3) bonus parameters: add clouds \n",
    "        for i in opacity.keys(): planet[i].inputs['atmosphere']['profile']['kz'] = kzz\n",
    "        for i in opacity.keys(): \n",
    "            planet[i].virga(['SiO2','Al2O3'], '/data/virga_dbs/virga_0,3_15_R300/', \n",
    "                 fsed=fsed, verbose=False,sig=1.2,\n",
    "                                                mh=1)#, gas_mmr={'SiO2':1e-5}) full_output=True only exists for virga_3d\n",
    "        \n",
    "        x = []\n",
    "        y = []\n",
    "        \n",
    "        #3) have to recompute the \"spectrum\" (not the climate!)\n",
    "        for i in opacity.keys(): \n",
    "            out = planet[i].spectrum(opacity[i], calculation='transmission',full_output=True)\n",
    "            x += list(out['wavenumber'])\n",
    "            y += list(out['transit_depth'])\n",
    "        \n",
    "        combined = sorted(zip(x, y), key=lambda pair: pair[0])\n",
    "\n",
    "        sorted_x = np.array([pair[0] for pair in combined])\n",
    "        sorted_y = np.array([pair[1] for pair in combined])\n",
    "        #adjust less than 2 micron for HST\n",
    "        sorted_y[1e4/sorted_x<2] = sorted_y[1e4/sorted_x<2]+off_hst\n",
    "        #adjust greater than 2 micron for JWST\n",
    "        sorted_y[1e4/sorted_x>=2] = sorted_y[1e4/sorted_x>=2]+off_jwst                \n",
    "        return sorted_x, sorted_y"
   ]
  },
  {
   "cell_type": "markdown",
   "id": "ecb4e125-135f-4bfd-a60f-a744febc8c2d",
   "metadata": {},
   "source": [
    "## Prior Set"
   ]
  },
  {
   "cell_type": "markdown",
   "id": "f80e3ae0-e80e-4e34-acea-0a58fa6263f6",
   "metadata": {},
   "source": [
    "Again, a new defintion for virga, where we shift JWST and HST offsets (specific only for our dataset, you shouldn't need it). After, we grab the parameters for `virga`, stored in the prior for use."
   ]
  },
  {
   "cell_type": "code",
   "execution_count": null,
   "id": "74043db2-4dec-4622-bded-86d1aa36502e",
   "metadata": {},
   "outputs": [],
   "source": [
    "class prior_set:\n",
    "    \"\"\"\n",
    "    Store all your priors. You should have the same exact function names in here as\n",
    "    you do in model_set and param_set\n",
    "\n",
    "    Make sure the order of the unpacked cube follows the unpacking in your model \n",
    "    set and in your parameter set. \n",
    "    #pymultinest: http://johannesbuchner.github.io/pymultinest-tutorial/example1.html\n",
    "    \"\"\"   \n",
    "    def cld_free(cube):#,ndim, nparams):\n",
    "        params = cube.copy()\n",
    "        for i,key in enumerate(grid_parameters_unique): \n",
    "            minn = np.min(grid_parameters_unique[key]) \n",
    "            maxx = np.max(grid_parameters_unique[key]) \n",
    "            params[i] = minn + (maxx-minn)*params[i]\n",
    "        return params\n",
    "\n",
    "\n",
    "    def cld_free_virga(cube):#,ndim, nparams):\n",
    "        params = cube.copy()\n",
    "        for i,key in enumerate(grid_parameters_unique): \n",
    "            minn = np.min(grid_parameters_unique[key]) \n",
    "            maxx = np.max(grid_parameters_unique[key]) \n",
    "            params[i] = minn + (maxx-minn)*params[i]\n",
    "        \n",
    "        #shift hst\n",
    "        i+=1;params[i] = -0.01*params[i]\n",
    "        #shift jwst\n",
    "        i+=1;params[i] = -0.01*params[i]\n",
    "        \n",
    "        #logkzz\n",
    "        i+=1;params[i] = 7 + 4*params[i]\n",
    "        #log fsed \n",
    "        i+=1;params[i] = -1 + 2*params[i]\n",
    "        return params"
   ]
  }
 ],
 "metadata": {
  "kernelspec": {
   "display_name": "Python 3 (ipykernel)",
   "language": "python",
   "name": "python3"
  },
  "language_info": {
   "codemirror_mode": {
    "name": "ipython",
    "version": 3
   },
   "file_extension": ".py",
   "mimetype": "text/x-python",
   "name": "python",
   "nbconvert_exporter": "python",
   "pygments_lexer": "ipython3",
   "version": "3.11.8"
  }
 },
 "nbformat": 4,
 "nbformat_minor": 5
}
