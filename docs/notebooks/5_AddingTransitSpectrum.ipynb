{
 "cells": [
  {
   "cell_type": "markdown",
   "metadata": {},
   "source": [
    "# Computing Transmission Spectroscopy\n",
    "\n",
    "Computing transmission spectroscopy is pretty much the same deal as the thermal emission/reflected light. There are just a couple tweaks we will have to make in order to make sure we have the full set of info. \n"
   ]
  },
  {
   "cell_type": "code",
   "execution_count": 1,
   "metadata": {},
   "outputs": [
    {
     "data": {
      "text/html": [
       "\n",
       "    <div class=\"bk-root\">\n",
       "        <a href=\"https://bokeh.org\" target=\"_blank\" class=\"bk-logo bk-logo-small bk-logo-notebook\"></a>\n",
       "        <span id=\"1002\">Loading BokehJS ...</span>\n",
       "    </div>"
      ]
     },
     "metadata": {},
     "output_type": "display_data"
    },
    {
     "data": {
      "application/javascript": [
       "\n",
       "(function(root) {\n",
       "  function now() {\n",
       "    return new Date();\n",
       "  }\n",
       "\n",
       "  var force = true;\n",
       "\n",
       "  if (typeof root._bokeh_onload_callbacks === \"undefined\" || force === true) {\n",
       "    root._bokeh_onload_callbacks = [];\n",
       "    root._bokeh_is_loading = undefined;\n",
       "  }\n",
       "\n",
       "  var JS_MIME_TYPE = 'application/javascript';\n",
       "  var HTML_MIME_TYPE = 'text/html';\n",
       "  var EXEC_MIME_TYPE = 'application/vnd.bokehjs_exec.v0+json';\n",
       "  var CLASS_NAME = 'output_bokeh rendered_html';\n",
       "\n",
       "  /**\n",
       "   * Render data to the DOM node\n",
       "   */\n",
       "  function render(props, node) {\n",
       "    var script = document.createElement(\"script\");\n",
       "    node.appendChild(script);\n",
       "  }\n",
       "\n",
       "  /**\n",
       "   * Handle when an output is cleared or removed\n",
       "   */\n",
       "  function handleClearOutput(event, handle) {\n",
       "    var cell = handle.cell;\n",
       "\n",
       "    var id = cell.output_area._bokeh_element_id;\n",
       "    var server_id = cell.output_area._bokeh_server_id;\n",
       "    // Clean up Bokeh references\n",
       "    if (id != null && id in Bokeh.index) {\n",
       "      Bokeh.index[id].model.document.clear();\n",
       "      delete Bokeh.index[id];\n",
       "    }\n",
       "\n",
       "    if (server_id !== undefined) {\n",
       "      // Clean up Bokeh references\n",
       "      var cmd = \"from bokeh.io.state import curstate; print(curstate().uuid_to_server['\" + server_id + \"'].get_sessions()[0].document.roots[0]._id)\";\n",
       "      cell.notebook.kernel.execute(cmd, {\n",
       "        iopub: {\n",
       "          output: function(msg) {\n",
       "            var id = msg.content.text.trim();\n",
       "            if (id in Bokeh.index) {\n",
       "              Bokeh.index[id].model.document.clear();\n",
       "              delete Bokeh.index[id];\n",
       "            }\n",
       "          }\n",
       "        }\n",
       "      });\n",
       "      // Destroy server and session\n",
       "      var cmd = \"import bokeh.io.notebook as ion; ion.destroy_server('\" + server_id + \"')\";\n",
       "      cell.notebook.kernel.execute(cmd);\n",
       "    }\n",
       "  }\n",
       "\n",
       "  /**\n",
       "   * Handle when a new output is added\n",
       "   */\n",
       "  function handleAddOutput(event, handle) {\n",
       "    var output_area = handle.output_area;\n",
       "    var output = handle.output;\n",
       "\n",
       "    // limit handleAddOutput to display_data with EXEC_MIME_TYPE content only\n",
       "    if ((output.output_type != \"display_data\") || (!Object.prototype.hasOwnProperty.call(output.data, EXEC_MIME_TYPE))) {\n",
       "      return\n",
       "    }\n",
       "\n",
       "    var toinsert = output_area.element.find(\".\" + CLASS_NAME.split(' ')[0]);\n",
       "\n",
       "    if (output.metadata[EXEC_MIME_TYPE][\"id\"] !== undefined) {\n",
       "      toinsert[toinsert.length - 1].firstChild.textContent = output.data[JS_MIME_TYPE];\n",
       "      // store reference to embed id on output_area\n",
       "      output_area._bokeh_element_id = output.metadata[EXEC_MIME_TYPE][\"id\"];\n",
       "    }\n",
       "    if (output.metadata[EXEC_MIME_TYPE][\"server_id\"] !== undefined) {\n",
       "      var bk_div = document.createElement(\"div\");\n",
       "      bk_div.innerHTML = output.data[HTML_MIME_TYPE];\n",
       "      var script_attrs = bk_div.children[0].attributes;\n",
       "      for (var i = 0; i < script_attrs.length; i++) {\n",
       "        toinsert[toinsert.length - 1].firstChild.setAttribute(script_attrs[i].name, script_attrs[i].value);\n",
       "        toinsert[toinsert.length - 1].firstChild.textContent = bk_div.children[0].textContent\n",
       "      }\n",
       "      // store reference to server id on output_area\n",
       "      output_area._bokeh_server_id = output.metadata[EXEC_MIME_TYPE][\"server_id\"];\n",
       "    }\n",
       "  }\n",
       "\n",
       "  function register_renderer(events, OutputArea) {\n",
       "\n",
       "    function append_mime(data, metadata, element) {\n",
       "      // create a DOM node to render to\n",
       "      var toinsert = this.create_output_subarea(\n",
       "        metadata,\n",
       "        CLASS_NAME,\n",
       "        EXEC_MIME_TYPE\n",
       "      );\n",
       "      this.keyboard_manager.register_events(toinsert);\n",
       "      // Render to node\n",
       "      var props = {data: data, metadata: metadata[EXEC_MIME_TYPE]};\n",
       "      render(props, toinsert[toinsert.length - 1]);\n",
       "      element.append(toinsert);\n",
       "      return toinsert\n",
       "    }\n",
       "\n",
       "    /* Handle when an output is cleared or removed */\n",
       "    events.on('clear_output.CodeCell', handleClearOutput);\n",
       "    events.on('delete.Cell', handleClearOutput);\n",
       "\n",
       "    /* Handle when a new output is added */\n",
       "    events.on('output_added.OutputArea', handleAddOutput);\n",
       "\n",
       "    /**\n",
       "     * Register the mime type and append_mime function with output_area\n",
       "     */\n",
       "    OutputArea.prototype.register_mime_type(EXEC_MIME_TYPE, append_mime, {\n",
       "      /* Is output safe? */\n",
       "      safe: true,\n",
       "      /* Index of renderer in `output_area.display_order` */\n",
       "      index: 0\n",
       "    });\n",
       "  }\n",
       "\n",
       "  // register the mime type if in Jupyter Notebook environment and previously unregistered\n",
       "  if (root.Jupyter !== undefined) {\n",
       "    var events = require('base/js/events');\n",
       "    var OutputArea = require('notebook/js/outputarea').OutputArea;\n",
       "\n",
       "    if (OutputArea.prototype.mime_types().indexOf(EXEC_MIME_TYPE) == -1) {\n",
       "      register_renderer(events, OutputArea);\n",
       "    }\n",
       "  }\n",
       "\n",
       "  \n",
       "  if (typeof (root._bokeh_timeout) === \"undefined\" || force === true) {\n",
       "    root._bokeh_timeout = Date.now() + 5000;\n",
       "    root._bokeh_failed_load = false;\n",
       "  }\n",
       "\n",
       "  var NB_LOAD_WARNING = {'data': {'text/html':\n",
       "     \"<div style='background-color: #fdd'>\\n\"+\n",
       "     \"<p>\\n\"+\n",
       "     \"BokehJS does not appear to have successfully loaded. If loading BokehJS from CDN, this \\n\"+\n",
       "     \"may be due to a slow or bad network connection. Possible fixes:\\n\"+\n",
       "     \"</p>\\n\"+\n",
       "     \"<ul>\\n\"+\n",
       "     \"<li>re-rerun `output_notebook()` to attempt to load from CDN again, or</li>\\n\"+\n",
       "     \"<li>use INLINE resources instead, as so:</li>\\n\"+\n",
       "     \"</ul>\\n\"+\n",
       "     \"<code>\\n\"+\n",
       "     \"from bokeh.resources import INLINE\\n\"+\n",
       "     \"output_notebook(resources=INLINE)\\n\"+\n",
       "     \"</code>\\n\"+\n",
       "     \"</div>\"}};\n",
       "\n",
       "  function display_loaded() {\n",
       "    var el = document.getElementById(\"1002\");\n",
       "    if (el != null) {\n",
       "      el.textContent = \"BokehJS is loading...\";\n",
       "    }\n",
       "    if (root.Bokeh !== undefined) {\n",
       "      if (el != null) {\n",
       "        el.textContent = \"BokehJS \" + root.Bokeh.version + \" successfully loaded.\";\n",
       "      }\n",
       "    } else if (Date.now() < root._bokeh_timeout) {\n",
       "      setTimeout(display_loaded, 100)\n",
       "    }\n",
       "  }\n",
       "\n",
       "\n",
       "  function run_callbacks() {\n",
       "    try {\n",
       "      root._bokeh_onload_callbacks.forEach(function(callback) {\n",
       "        if (callback != null)\n",
       "          callback();\n",
       "      });\n",
       "    } finally {\n",
       "      delete root._bokeh_onload_callbacks\n",
       "    }\n",
       "    console.debug(\"Bokeh: all callbacks have finished\");\n",
       "  }\n",
       "\n",
       "  function load_libs(css_urls, js_urls, callback) {\n",
       "    if (css_urls == null) css_urls = [];\n",
       "    if (js_urls == null) js_urls = [];\n",
       "\n",
       "    root._bokeh_onload_callbacks.push(callback);\n",
       "    if (root._bokeh_is_loading > 0) {\n",
       "      console.debug(\"Bokeh: BokehJS is being loaded, scheduling callback at\", now());\n",
       "      return null;\n",
       "    }\n",
       "    if (js_urls == null || js_urls.length === 0) {\n",
       "      run_callbacks();\n",
       "      return null;\n",
       "    }\n",
       "    console.debug(\"Bokeh: BokehJS not loaded, scheduling load and callback at\", now());\n",
       "    root._bokeh_is_loading = css_urls.length + js_urls.length;\n",
       "\n",
       "    function on_load() {\n",
       "      root._bokeh_is_loading--;\n",
       "      if (root._bokeh_is_loading === 0) {\n",
       "        console.debug(\"Bokeh: all BokehJS libraries/stylesheets loaded\");\n",
       "        run_callbacks()\n",
       "      }\n",
       "    }\n",
       "\n",
       "    function on_error(url) {\n",
       "      console.error(\"failed to load \" + url);\n",
       "    }\n",
       "\n",
       "    for (let i = 0; i < css_urls.length; i++) {\n",
       "      const url = css_urls[i];\n",
       "      const element = document.createElement(\"link\");\n",
       "      element.onload = on_load;\n",
       "      element.onerror = on_error.bind(null, url);\n",
       "      element.rel = \"stylesheet\";\n",
       "      element.type = \"text/css\";\n",
       "      element.href = url;\n",
       "      console.debug(\"Bokeh: injecting link tag for BokehJS stylesheet: \", url);\n",
       "      document.body.appendChild(element);\n",
       "    }\n",
       "\n",
       "    const hashes = {\"https://cdn.bokeh.org/bokeh/release/bokeh-2.3.3.min.js\": \"dM3QQsP+wXdHg42wTqW85BjZQdLNNIXqlPw/BgKoExPmTG7ZLML4EGqLMfqHT6ON\", \"https://cdn.bokeh.org/bokeh/release/bokeh-tables-2.3.3.min.js\": \"8x57I4YuIfu8XyZfFo0XVr2WAT8EK4rh/uDe3wF7YuW2FNUSNEpJbsPaB1nJ2fz2\", \"https://cdn.bokeh.org/bokeh/release/bokeh-widgets-2.3.3.min.js\": \"3QTqdz9LyAm2i0sG5XTePsHec3UHWwVsrOL68SYRoAXsafvfAyqtQ+h440+qIBhS\"};\n",
       "\n",
       "    for (let i = 0; i < js_urls.length; i++) {\n",
       "      const url = js_urls[i];\n",
       "      const element = document.createElement('script');\n",
       "      element.onload = on_load;\n",
       "      element.onerror = on_error.bind(null, url);\n",
       "      element.async = false;\n",
       "      element.src = url;\n",
       "      if (url in hashes) {\n",
       "        element.crossOrigin = \"anonymous\";\n",
       "        element.integrity = \"sha384-\" + hashes[url];\n",
       "      }\n",
       "      console.debug(\"Bokeh: injecting script tag for BokehJS library: \", url);\n",
       "      document.head.appendChild(element);\n",
       "    }\n",
       "  };\n",
       "\n",
       "  function inject_raw_css(css) {\n",
       "    const element = document.createElement(\"style\");\n",
       "    element.appendChild(document.createTextNode(css));\n",
       "    document.body.appendChild(element);\n",
       "  }\n",
       "\n",
       "  \n",
       "  var js_urls = [\"https://cdn.bokeh.org/bokeh/release/bokeh-2.3.3.min.js\", \"https://cdn.bokeh.org/bokeh/release/bokeh-widgets-2.3.3.min.js\", \"https://cdn.bokeh.org/bokeh/release/bokeh-tables-2.3.3.min.js\"];\n",
       "  var css_urls = [];\n",
       "  \n",
       "\n",
       "  var inline_js = [\n",
       "    function(Bokeh) {\n",
       "      Bokeh.set_log_level(\"info\");\n",
       "    },\n",
       "    function(Bokeh) {\n",
       "    \n",
       "    \n",
       "    }\n",
       "  ];\n",
       "\n",
       "  function run_inline_js() {\n",
       "    \n",
       "    if (root.Bokeh !== undefined || force === true) {\n",
       "      \n",
       "    for (var i = 0; i < inline_js.length; i++) {\n",
       "      inline_js[i].call(root, root.Bokeh);\n",
       "    }\n",
       "    if (force === true) {\n",
       "        display_loaded();\n",
       "      }} else if (Date.now() < root._bokeh_timeout) {\n",
       "      setTimeout(run_inline_js, 100);\n",
       "    } else if (!root._bokeh_failed_load) {\n",
       "      console.log(\"Bokeh: BokehJS failed to load within specified timeout.\");\n",
       "      root._bokeh_failed_load = true;\n",
       "    } else if (force !== true) {\n",
       "      var cell = $(document.getElementById(\"1002\")).parents('.cell').data().cell;\n",
       "      cell.output_area.append_execute_result(NB_LOAD_WARNING)\n",
       "    }\n",
       "\n",
       "  }\n",
       "\n",
       "  if (root._bokeh_is_loading === 0) {\n",
       "    console.debug(\"Bokeh: BokehJS loaded, going straight to plotting\");\n",
       "    run_inline_js();\n",
       "  } else {\n",
       "    load_libs(css_urls, js_urls, function() {\n",
       "      console.debug(\"Bokeh: BokehJS plotting callback run at\", now());\n",
       "      run_inline_js();\n",
       "    });\n",
       "  }\n",
       "}(window));"
      ],
      "application/vnd.bokehjs_load.v0+json": "\n(function(root) {\n  function now() {\n    return new Date();\n  }\n\n  var force = true;\n\n  if (typeof root._bokeh_onload_callbacks === \"undefined\" || force === true) {\n    root._bokeh_onload_callbacks = [];\n    root._bokeh_is_loading = undefined;\n  }\n\n  \n\n  \n  if (typeof (root._bokeh_timeout) === \"undefined\" || force === true) {\n    root._bokeh_timeout = Date.now() + 5000;\n    root._bokeh_failed_load = false;\n  }\n\n  var NB_LOAD_WARNING = {'data': {'text/html':\n     \"<div style='background-color: #fdd'>\\n\"+\n     \"<p>\\n\"+\n     \"BokehJS does not appear to have successfully loaded. If loading BokehJS from CDN, this \\n\"+\n     \"may be due to a slow or bad network connection. Possible fixes:\\n\"+\n     \"</p>\\n\"+\n     \"<ul>\\n\"+\n     \"<li>re-rerun `output_notebook()` to attempt to load from CDN again, or</li>\\n\"+\n     \"<li>use INLINE resources instead, as so:</li>\\n\"+\n     \"</ul>\\n\"+\n     \"<code>\\n\"+\n     \"from bokeh.resources import INLINE\\n\"+\n     \"output_notebook(resources=INLINE)\\n\"+\n     \"</code>\\n\"+\n     \"</div>\"}};\n\n  function display_loaded() {\n    var el = document.getElementById(\"1002\");\n    if (el != null) {\n      el.textContent = \"BokehJS is loading...\";\n    }\n    if (root.Bokeh !== undefined) {\n      if (el != null) {\n        el.textContent = \"BokehJS \" + root.Bokeh.version + \" successfully loaded.\";\n      }\n    } else if (Date.now() < root._bokeh_timeout) {\n      setTimeout(display_loaded, 100)\n    }\n  }\n\n\n  function run_callbacks() {\n    try {\n      root._bokeh_onload_callbacks.forEach(function(callback) {\n        if (callback != null)\n          callback();\n      });\n    } finally {\n      delete root._bokeh_onload_callbacks\n    }\n    console.debug(\"Bokeh: all callbacks have finished\");\n  }\n\n  function load_libs(css_urls, js_urls, callback) {\n    if (css_urls == null) css_urls = [];\n    if (js_urls == null) js_urls = [];\n\n    root._bokeh_onload_callbacks.push(callback);\n    if (root._bokeh_is_loading > 0) {\n      console.debug(\"Bokeh: BokehJS is being loaded, scheduling callback at\", now());\n      return null;\n    }\n    if (js_urls == null || js_urls.length === 0) {\n      run_callbacks();\n      return null;\n    }\n    console.debug(\"Bokeh: BokehJS not loaded, scheduling load and callback at\", now());\n    root._bokeh_is_loading = css_urls.length + js_urls.length;\n\n    function on_load() {\n      root._bokeh_is_loading--;\n      if (root._bokeh_is_loading === 0) {\n        console.debug(\"Bokeh: all BokehJS libraries/stylesheets loaded\");\n        run_callbacks()\n      }\n    }\n\n    function on_error(url) {\n      console.error(\"failed to load \" + url);\n    }\n\n    for (let i = 0; i < css_urls.length; i++) {\n      const url = css_urls[i];\n      const element = document.createElement(\"link\");\n      element.onload = on_load;\n      element.onerror = on_error.bind(null, url);\n      element.rel = \"stylesheet\";\n      element.type = \"text/css\";\n      element.href = url;\n      console.debug(\"Bokeh: injecting link tag for BokehJS stylesheet: \", url);\n      document.body.appendChild(element);\n    }\n\n    const hashes = {\"https://cdn.bokeh.org/bokeh/release/bokeh-2.3.3.min.js\": \"dM3QQsP+wXdHg42wTqW85BjZQdLNNIXqlPw/BgKoExPmTG7ZLML4EGqLMfqHT6ON\", \"https://cdn.bokeh.org/bokeh/release/bokeh-tables-2.3.3.min.js\": \"8x57I4YuIfu8XyZfFo0XVr2WAT8EK4rh/uDe3wF7YuW2FNUSNEpJbsPaB1nJ2fz2\", \"https://cdn.bokeh.org/bokeh/release/bokeh-widgets-2.3.3.min.js\": \"3QTqdz9LyAm2i0sG5XTePsHec3UHWwVsrOL68SYRoAXsafvfAyqtQ+h440+qIBhS\"};\n\n    for (let i = 0; i < js_urls.length; i++) {\n      const url = js_urls[i];\n      const element = document.createElement('script');\n      element.onload = on_load;\n      element.onerror = on_error.bind(null, url);\n      element.async = false;\n      element.src = url;\n      if (url in hashes) {\n        element.crossOrigin = \"anonymous\";\n        element.integrity = \"sha384-\" + hashes[url];\n      }\n      console.debug(\"Bokeh: injecting script tag for BokehJS library: \", url);\n      document.head.appendChild(element);\n    }\n  };\n\n  function inject_raw_css(css) {\n    const element = document.createElement(\"style\");\n    element.appendChild(document.createTextNode(css));\n    document.body.appendChild(element);\n  }\n\n  \n  var js_urls = [\"https://cdn.bokeh.org/bokeh/release/bokeh-2.3.3.min.js\", \"https://cdn.bokeh.org/bokeh/release/bokeh-widgets-2.3.3.min.js\", \"https://cdn.bokeh.org/bokeh/release/bokeh-tables-2.3.3.min.js\"];\n  var css_urls = [];\n  \n\n  var inline_js = [\n    function(Bokeh) {\n      Bokeh.set_log_level(\"info\");\n    },\n    function(Bokeh) {\n    \n    \n    }\n  ];\n\n  function run_inline_js() {\n    \n    if (root.Bokeh !== undefined || force === true) {\n      \n    for (var i = 0; i < inline_js.length; i++) {\n      inline_js[i].call(root, root.Bokeh);\n    }\n    if (force === true) {\n        display_loaded();\n      }} else if (Date.now() < root._bokeh_timeout) {\n      setTimeout(run_inline_js, 100);\n    } else if (!root._bokeh_failed_load) {\n      console.log(\"Bokeh: BokehJS failed to load within specified timeout.\");\n      root._bokeh_failed_load = true;\n    } else if (force !== true) {\n      var cell = $(document.getElementById(\"1002\")).parents('.cell').data().cell;\n      cell.output_area.append_execute_result(NB_LOAD_WARNING)\n    }\n\n  }\n\n  if (root._bokeh_is_loading === 0) {\n    console.debug(\"Bokeh: BokehJS loaded, going straight to plotting\");\n    run_inline_js();\n  } else {\n    load_libs(css_urls, js_urls, function() {\n      console.debug(\"Bokeh: BokehJS plotting callback run at\", now());\n      run_inline_js();\n    });\n  }\n}(window));"
     },
     "metadata": {},
     "output_type": "display_data"
    }
   ],
   "source": [
    "import numpy as np\n",
    "import pandas as pd\n",
    "\n",
    "#picaso\n",
    "from picaso import justdoit as jdi \n",
    "from picaso import justplotit as jpi\n",
    "\n",
    "#plotting\n",
    "jpi.output_notebook()\n"
   ]
  },
  {
   "cell_type": "markdown",
   "metadata": {},
   "source": [
    "We will use new Hot Jupiter template to guide us through the exercise. "
   ]
  },
  {
   "cell_type": "code",
   "execution_count": 2,
   "metadata": {},
   "outputs": [],
   "source": [
    "opa = jdi.opannection(wave_range=[0.6,2])\n",
    "\n",
    "case1 = jdi.inputs()\n",
    "\n",
    "case1.phase_angle(0) \n",
    "\n",
    "\n",
    "#here we are going to have to specify gravity through R and M since we need it in the Flux calc\n",
    "case1.gravity(mass=1, mass_unit=jdi.u.Unit('M_jup'), \n",
    "              radius=1.2, radius_unit=jdi.u.Unit('R_jup'))\n",
    "\n",
    "#here we are going to have to specify R as well\n",
    "case1.star(opa, 4000,0.0122,4.437,radius=0.7, radius_unit = jdi.u.Unit('R_sun') )\n",
    "\n",
    "#atmo\n",
    "case1.atmosphere(filename = jdi.HJ_pt(), delim_whitespace=True)"
   ]
  },
  {
   "cell_type": "markdown",
   "metadata": {},
   "source": [
    "## Return ``PICASO`` Full Ouput"
   ]
  },
  {
   "cell_type": "code",
   "execution_count": 3,
   "metadata": {},
   "outputs": [
    {
     "name": "stderr",
     "output_type": "stream",
     "text": [
      "/Users/nbatalh1/Documents/codes/PICASO/picaso/picaso/atmsetup.py:190: UserWarning: Ignoring x in input file, not a recognized molecule\n",
      "  warnings.warn(\"Ignoring %s in input file, not a recognized molecule\" % i, UserWarning)\n",
      "/Users/nbatalh1/Documents/codes/PICASO/picaso/picaso/atmsetup.py:190: UserWarning: Ignoring KZZ in input file, not a recognized molecule\n",
      "  warnings.warn(\"Ignoring %s in input file, not a recognized molecule\" % i, UserWarning)\n"
     ]
    }
   ],
   "source": [
    "df= case1.spectrum(opa, full_output=True,calculation='transmission') #note the new last key \n",
    "\n",
    "wno, rprs2  = df['wavenumber'] , df['transit_depth']\n",
    "wno, rprs2 = jdi.mean_regrid(wno, rprs2, R=150)\n",
    "full_output = df['full_output']\n"
   ]
  },
  {
   "cell_type": "markdown",
   "metadata": {},
   "source": [
    "Here we are getting a few error messages that our example `HJ_cld` had some unrecognized molecules. Looking them over, this looks okay! `x` is not a molecule, and neither is `Kzz`. The code has accurately identified non-molecules in our input."
   ]
  },
  {
   "cell_type": "markdown",
   "metadata": {},
   "source": [
    "## Analyzing Transit Spectroscopy Output\n"
   ]
  },
  {
   "cell_type": "markdown",
   "metadata": {},
   "source": [
    "### Can use the same plotting functionality as reflected light\n"
   ]
  },
  {
   "cell_type": "code",
   "execution_count": 4,
   "metadata": {},
   "outputs": [
    {
     "data": {
      "text/html": [
       "\n",
       "\n",
       "\n",
       "\n",
       "\n",
       "\n",
       "  <div class=\"bk-root\" id=\"6d59cfc0-cf12-47f9-8524-1822c6e87b38\" data-root-id=\"1003\"></div>\n"
      ]
     },
     "metadata": {},
     "output_type": "display_data"
    },
    {
     "data": {
      "application/javascript": [
       "(function(root) {\n",
       "  function embed_document(root) {\n",
       "    \n",
       "  var docs_json = {\"2f65adf7-9c6c-4ed1-b89c-9effb258121d\":{\"defs\":[],\"roots\":{\"references\":[{\"attributes\":{\"below\":[{\"id\":\"1014\"}],\"center\":[{\"id\":\"1017\"},{\"id\":\"1021\"}],\"height\":300,\"left\":[{\"id\":\"1018\"}],\"renderers\":[{\"id\":\"1039\"}],\"title\":{\"id\":\"1004\"},\"toolbar\":{\"id\":\"1029\"},\"width\":500,\"x_range\":{\"id\":\"1006\"},\"x_scale\":{\"id\":\"1010\"},\"y_range\":{\"id\":\"1008\"},\"y_scale\":{\"id\":\"1012\"}},\"id\":\"1003\",\"subtype\":\"Figure\",\"type\":\"Plot\"},{\"attributes\":{\"line_color\":\"#1f77b4\",\"line_width\":3,\"x\":{\"field\":\"x\"},\"y\":{\"field\":\"y\"}},\"id\":\"1037\",\"type\":\"Line\"},{\"attributes\":{},\"id\":\"1049\",\"type\":\"Selection\"},{\"attributes\":{},\"id\":\"1022\",\"type\":\"PanTool\"},{\"attributes\":{},\"id\":\"1050\",\"type\":\"UnionRenderers\"},{\"attributes\":{\"active_multi\":null,\"tools\":[{\"id\":\"1022\"},{\"id\":\"1023\"},{\"id\":\"1024\"},{\"id\":\"1025\"},{\"id\":\"1026\"},{\"id\":\"1027\"}]},\"id\":\"1029\",\"type\":\"Toolbar\"},{\"attributes\":{\"axis\":{\"id\":\"1018\"},\"dimension\":1,\"ticker\":null},\"id\":\"1021\",\"type\":\"Grid\"},{\"attributes\":{\"num_minor_ticks\":10},\"id\":\"1019\",\"type\":\"LogTicker\"},{\"attributes\":{\"data\":{\"x\":{\"__ndarray__\":\"NDMzMzN9iEC4HoXrUYuIQLgehetR2IhA4noUrkdEiUBI4XoUrsOJQNijcD0KRopANDMzMzPAikCQwvUoXCyLQAAAAAAAjotAAAAAAADvi0BmZmZmZlqMQHA9Ctej1YxAuB6F61FcjUAAAAAAAOONQFyPwvUoYI5A7FG4HoXPjkAzMzMzMy6PQGZmZmZmeo9ANDMzMzO4j0AAAAAAAPuPQML1KFyPLZBAXI/C9ahvkEAAAAAAgMCQQArXo3C9FZFAMzMzM7NmkUBwPQrXI7yRQB6F61G4JpJAMzMzM7OskkCF61G4nkiTQFyPwvWo8pNAAAAAAACllEAAAAAAAF2VQJqZmZkZGZZArkfhehTKlkBSuB6Fa2SXQAAAAACA7JdAj8L1KFxomEAK16NwPfGYQClcj8J1kplAuB6F69ExmkD2KFyPwr+aQDQzMzMzMptANDMzM7Okm0AUrkfheh2cQEjhehQud5xAXI/C9SimnEBSuB6Fa62cQKRwPQpXnZxA4XoUrkeEnEAzMzMzM2icQPYoXI9CTpxAzczMzMzznEA=\",\"dtype\":\"float64\",\"order\":\"little\",\"shape\":[52]},\"y\":{\"__ndarray__\":\"ZGuc9g4cyD5MxgdroxDRPg8Nq7E8KNg+PCi+azQZ4T64eH4SWjToPuEOwIbcIfE+Z0fnlcBA+D6YH2gliioBP9Sc7oPpTAg/Ql+zwzEzET+gljJTNVkYP2ZxYprjOyE/47vwko9lKD9bxrDhpkQxP5nUeP7hcTg/6iw3XFRNQT/T3tKpMH5IP1i/ozP/VVE/evcom4SKWD8yIkZ06F5hP/kHy8MMl2g/VofDFqNncT9hz+FLcKN4P3x0YW1acIE/X2vP28OviD9AhYSHRHmRP+ZaGzRwvJg/0yEEaB6CoT8CT0GG5sioP5UwcU3uirE/dGARDHnVuD8xiMFP55PBP9O3eEIG4sg/eGGlN7Kc0T9Ee1jImO7YP5XsWeOepeE/zbO0Jyb76D/JJeF0ba7xP1g6g2OjB/k/gxc9vHK3AUCvTMbddhQJQMNuAnVuwBFAzIQ6IyAhGUAKvmxdV8khQAlOitTELSlAXZNjGl7SMUD/kmg0gzo5QCwuSfFg20FAlZRAlEFHSUBXVyzIY+RRQEBcEvT/U1lAjhINn2btYUA=\",\"dtype\":\"float64\",\"order\":\"little\",\"shape\":[52]}},\"selected\":{\"id\":\"1049\"},\"selection_policy\":{\"id\":\"1050\"}},\"id\":\"1036\",\"type\":\"ColumnDataSource\"},{\"attributes\":{\"text\":\"Pressure-Temperature Profile\"},\"id\":\"1004\",\"type\":\"Title\"},{\"attributes\":{},\"id\":\"1046\",\"type\":\"BasicTickFormatter\"},{\"attributes\":{},\"id\":\"1006\",\"type\":\"DataRange1d\"},{\"attributes\":{\"overlay\":{\"id\":\"1028\"}},\"id\":\"1024\",\"type\":\"BoxZoomTool\"},{\"attributes\":{\"ticker\":null},\"id\":\"1043\",\"type\":\"LogTickFormatter\"},{\"attributes\":{},\"id\":\"1047\",\"type\":\"AllLabels\"},{\"attributes\":{},\"id\":\"1012\",\"type\":\"LogScale\"},{\"attributes\":{},\"id\":\"1026\",\"type\":\"ResetTool\"},{\"attributes\":{\"axis\":{\"id\":\"1014\"},\"ticker\":null},\"id\":\"1017\",\"type\":\"Grid\"},{\"attributes\":{\"axis_label\":\"Temperature (K)\",\"axis_label_text_font\":\"times\",\"axis_label_text_font_size\":\"14pt\",\"axis_label_text_font_style\":\"bold\",\"formatter\":{\"id\":\"1046\"},\"major_label_policy\":{\"id\":\"1047\"},\"major_label_text_font\":\"times\",\"major_label_text_font_size\":\"14pt\",\"ticker\":{\"id\":\"1015\"}},\"id\":\"1014\",\"type\":\"LinearAxis\"},{\"attributes\":{\"bottom_units\":\"screen\",\"fill_alpha\":0.5,\"fill_color\":\"lightgrey\",\"left_units\":\"screen\",\"level\":\"overlay\",\"line_alpha\":1.0,\"line_color\":\"black\",\"line_dash\":[4,4],\"line_width\":2,\"right_units\":\"screen\",\"syncable\":false,\"top_units\":\"screen\"},\"id\":\"1028\",\"type\":\"BoxAnnotation\"},{\"attributes\":{\"axis_label\":\"Pressure(Bars)\",\"axis_label_text_font\":\"times\",\"axis_label_text_font_size\":\"14pt\",\"axis_label_text_font_style\":\"bold\",\"formatter\":{\"id\":\"1043\"},\"major_label_policy\":{\"id\":\"1044\"},\"major_label_text_font\":\"times\",\"major_label_text_font_size\":\"14pt\",\"ticker\":{\"id\":\"1019\"}},\"id\":\"1018\",\"type\":\"LogAxis\"},{\"attributes\":{},\"id\":\"1027\",\"type\":\"HelpTool\"},{\"attributes\":{},\"id\":\"1025\",\"type\":\"SaveTool\"},{\"attributes\":{},\"id\":\"1023\",\"type\":\"WheelZoomTool\"},{\"attributes\":{\"source\":{\"id\":\"1036\"}},\"id\":\"1040\",\"type\":\"CDSView\"},{\"attributes\":{},\"id\":\"1044\",\"type\":\"AllLabels\"},{\"attributes\":{},\"id\":\"1010\",\"type\":\"LinearScale\"},{\"attributes\":{},\"id\":\"1015\",\"type\":\"BasicTicker\"},{\"attributes\":{\"data_source\":{\"id\":\"1036\"},\"glyph\":{\"id\":\"1037\"},\"hover_glyph\":null,\"muted_glyph\":null,\"nonselection_glyph\":{\"id\":\"1038\"},\"view\":{\"id\":\"1040\"}},\"id\":\"1039\",\"type\":\"GlyphRenderer\"},{\"attributes\":{\"end\":2.8740886833916594e-06,\"start\":143.41877701333254},\"id\":\"1008\",\"type\":\"Range1d\"},{\"attributes\":{\"line_alpha\":0.1,\"line_color\":\"#1f77b4\",\"line_width\":3,\"x\":{\"field\":\"x\"},\"y\":{\"field\":\"y\"}},\"id\":\"1038\",\"type\":\"Line\"}],\"root_ids\":[\"1003\"]},\"title\":\"Bokeh Application\",\"version\":\"2.3.3\"}};\n",
       "  var render_items = [{\"docid\":\"2f65adf7-9c6c-4ed1-b89c-9effb258121d\",\"root_ids\":[\"1003\"],\"roots\":{\"1003\":\"6d59cfc0-cf12-47f9-8524-1822c6e87b38\"}}];\n",
       "  root.Bokeh.embed.embed_items_notebook(docs_json, render_items);\n",
       "\n",
       "  }\n",
       "  if (root.Bokeh !== undefined) {\n",
       "    embed_document(root);\n",
       "  } else {\n",
       "    var attempts = 0;\n",
       "    var timer = setInterval(function(root) {\n",
       "      if (root.Bokeh !== undefined) {\n",
       "        clearInterval(timer);\n",
       "        embed_document(root);\n",
       "      } else {\n",
       "        attempts++;\n",
       "        if (attempts > 100) {\n",
       "          clearInterval(timer);\n",
       "          console.log(\"Bokeh: ERROR: Unable to run BokehJS code because BokehJS library is missing\");\n",
       "        }\n",
       "      }\n",
       "    }, 10, root)\n",
       "  }\n",
       "})(window);"
      ],
      "application/vnd.bokehjs_exec.v0+json": ""
     },
     "metadata": {
      "application/vnd.bokehjs_exec.v0+json": {
       "id": "1003"
      }
     },
     "output_type": "display_data"
    },
    {
     "data": {
      "text/html": [
       "\n",
       "\n",
       "\n",
       "\n",
       "\n",
       "\n",
       "  <div class=\"bk-root\" id=\"b8fd1ca7-5f74-4054-9911-d2ad2e88087a\" data-root-id=\"1101\"></div>\n"
      ]
     },
     "metadata": {},
     "output_type": "display_data"
    },
    {
     "data": {
      "application/javascript": [
       "(function(root) {\n",
       "  function embed_document(root) {\n",
       "    \n",
       "  var docs_json = {\"95673a55-783d-419b-93f6-4aaa34491a06\":{\"defs\":[],\"roots\":{\"references\":[{\"attributes\":{\"below\":[{\"id\":\"1112\"}],\"center\":[{\"id\":\"1115\"},{\"id\":\"1119\"}],\"height\":300,\"left\":[{\"id\":\"1116\"},{\"id\":\"1242\"}],\"renderers\":[{\"id\":\"1138\"},{\"id\":\"1144\"},{\"id\":\"1150\"},{\"id\":\"1156\"},{\"id\":\"1162\"},{\"id\":\"1168\"},{\"id\":\"1174\"},{\"id\":\"1180\"},{\"id\":\"1186\"},{\"id\":\"1192\"},{\"id\":\"1198\"},{\"id\":\"1204\"},{\"id\":\"1210\"},{\"id\":\"1216\"},{\"id\":\"1222\"},{\"id\":\"1228\"},{\"id\":\"1234\"},{\"id\":\"1240\"}],\"title\":{\"id\":\"1102\"},\"toolbar\":{\"id\":\"1127\"},\"width\":500,\"x_range\":{\"id\":\"1104\"},\"x_scale\":{\"id\":\"1108\"},\"y_range\":{\"id\":\"1106\"},\"y_scale\":{\"id\":\"1110\"}},\"id\":\"1101\",\"subtype\":\"Figure\",\"type\":\"Plot\"},{\"attributes\":{\"data\":{\"x\":{\"__ndarray__\":\"bvNiXb5LAj12coSVHE78PCpbk3kUFwY9OLVonhPbFj0J5HHry18qPUrOKWibWz09iJjflOPHTD1aBTPkAHRYPZ4AoxZZzmI92hPFJtFtbD2ePOwcrNV2PQIsbh+fJIQ9EN5Ru2h+kj3IUxaDwTegPclvu3Wp1qk9ChE8s7Rqsj0k1lz+RE+3PXInwNsHHbo9wpbJp8Spuj3avkQCZN+7PVD7WskePME9yW+7danWyT07ty5cKh3WPbLIQBkTseI9gGf2cEVG7T2HspVFtqP3PQnX5/kA1QY+7jrHdJWGGj4ODIoIlOYwPhq1xSGGxkU+xF5wWuwOWz5mzMXlHQNwPmJuLGVv4oE+6IhW0K8LkT4+INoLKHubPsoI9v90eqM+Ik/PEbJZqT5CJPf/Z1CxPoSmmaxZgLk+2hvfi+29wT76iXc+C1vGPpbxpaYTv8g+7UBjR18Yyz4uOjhc1LzNPigkgDib0Mw+NW2UL0cTyD7Buhpu+pLBPnh6KWXnp7c+xV5nxH6vrj4kpJYvLb+jPq5/saArb5k+piEz4sVsoD4=\",\"dtype\":\"float64\",\"order\":\"little\",\"shape\":[52]},\"y\":{\"__ndarray__\":\"ZGuc9g4cyD5MxgdroxDRPg8Nq7E8KNg+PCi+azQZ4T64eH4SWjToPuEOwIbcIfE+Z0fnlcBA+D6YH2gliioBP9Sc7oPpTAg/Ql+zwzEzET+gljJTNVkYP2ZxYprjOyE/47vwko9lKD9bxrDhpkQxP5nUeP7hcTg/6iw3XFRNQT/T3tKpMH5IP1i/ozP/VVE/evcom4SKWD8yIkZ06F5hP/kHy8MMl2g/VofDFqNncT9hz+FLcKN4P3x0YW1acIE/X2vP28OviD9AhYSHRHmRP+ZaGzRwvJg/0yEEaB6CoT8CT0GG5sioP5UwcU3uirE/dGARDHnVuD8xiMFP55PBP9O3eEIG4sg/eGGlN7Kc0T9Ee1jImO7YP5XsWeOepeE/zbO0Jyb76D/JJeF0ba7xP1g6g2OjB/k/gxc9vHK3AUCvTMbddhQJQMNuAnVuwBFAzIQ6IyAhGUAKvmxdV8khQAlOitTELSlAXZNjGl7SMUD/kmg0gzo5QCwuSfFg20FAlZRAlEFHSUBXVyzIY+RRQEBcEvT/U1lAjhINn2btYUA=\",\"dtype\":\"float64\",\"order\":\"little\",\"shape\":[52]}},\"selected\":{\"id\":\"1305\"},\"selection_policy\":{\"id\":\"1306\"}},\"id\":\"1212\",\"type\":\"ColumnDataSource\"},{\"attributes\":{\"axis\":{\"id\":\"1112\"},\"ticker\":null},\"id\":\"1115\",\"type\":\"Grid\"},{\"attributes\":{\"line_color\":\"#FC8E63\",\"line_width\":3,\"x\":{\"field\":\"x\"},\"y\":{\"field\":\"y\"}},\"id\":\"1213\",\"type\":\"Line\"},{\"attributes\":{},\"id\":\"1307\",\"type\":\"Selection\"},{\"attributes\":{},\"id\":\"1125\",\"type\":\"HelpTool\"},{\"attributes\":{\"line_alpha\":0.2,\"line_color\":\"#FC8E63\",\"line_width\":3,\"x\":{\"field\":\"x\"},\"y\":{\"field\":\"y\"}},\"id\":\"1215\",\"type\":\"Line\"},{\"attributes\":{\"line_alpha\":0.1,\"line_color\":\"#FDE1A3\",\"line_width\":3,\"x\":{\"field\":\"x\"},\"y\":{\"field\":\"y\"}},\"id\":\"1232\",\"type\":\"Line\"},{\"attributes\":{},\"id\":\"1308\",\"type\":\"UnionRenderers\"},{\"attributes\":{\"line_alpha\":0.1,\"line_color\":\"#FC8E63\",\"line_width\":3,\"x\":{\"field\":\"x\"},\"y\":{\"field\":\"y\"}},\"id\":\"1214\",\"type\":\"Line\"},{\"attributes\":{\"line_alpha\":0.2,\"line_color\":\"#FDE1A3\",\"line_width\":3,\"x\":{\"field\":\"x\"},\"y\":{\"field\":\"y\"}},\"id\":\"1233\",\"type\":\"Line\"},{\"attributes\":{\"text\":\"Mixing Ratios\"},\"id\":\"1102\",\"type\":\"Title\"},{\"attributes\":{\"source\":{\"id\":\"1212\"}},\"id\":\"1217\",\"type\":\"CDSView\"},{\"attributes\":{\"line_alpha\":0.1,\"line_color\":\"#FEC689\",\"line_width\":3,\"x\":{\"field\":\"x\"},\"y\":{\"field\":\"y\"}},\"id\":\"1226\",\"type\":\"Line\"},{\"attributes\":{\"line_alpha\":0.2,\"line_color\":\"#FEC689\",\"line_width\":3,\"x\":{\"field\":\"x\"},\"y\":{\"field\":\"y\"}},\"id\":\"1227\",\"type\":\"Line\"},{\"attributes\":{\"data\":{\"x\":{\"__ndarray__\":\"vvlRtNVJhTnTtVqFOLGCOWgNCZjUaJ05IoYPQwJ2wzn6AGT3i3/tOaDC6/5LSBQ6buDYMD2rNTpK/4sgXOpROu9fJ8+xTWk6CDnOA4fAgTqHXlsq1oicOuI76DyoALs6/7QDio8K2zocYdeAdUb4OtWIoSDYNBI7Prl5cUhXJjv2L79fkx82O2USdOA3rkE7UbISQLMtSDuk/+5Isb1ROw3BLMokJmI77CHhiExLejsXEKw1VOCXO8jBP9GDYLQ76GVPMzFCzjsOSUe1o/DoO/rZuyk7jQ08FItwxLdNODzEHfd8cfFmPGsw3sgotJU8ydVgwPAFwzyG/wPDvIDuPKGYpJL+eRU9GXbp7jaTNT0B8CQZTB1QPUrP4HVg8mI9TuArDHFDcz0YSA20DUGGPZTXnB1G1Jw9cAsb6R9+sD3vyBluCVa/PTwNK1BhZMc9uaEy5/fd0T2pX/tVqJTaPfT3E1CSFOA9CA87t6JK3j3/ClH/WJ/WPU/5Wc0MHM09gmn3bFdmwT0aYMU/b3O0PdgnjXQLvac9SjIyKPGUvD0=\",\"dtype\":\"float64\",\"order\":\"little\",\"shape\":[52]},\"y\":{\"__ndarray__\":\"ZGuc9g4cyD5MxgdroxDRPg8Nq7E8KNg+PCi+azQZ4T64eH4SWjToPuEOwIbcIfE+Z0fnlcBA+D6YH2gliioBP9Sc7oPpTAg/Ql+zwzEzET+gljJTNVkYP2ZxYprjOyE/47vwko9lKD9bxrDhpkQxP5nUeP7hcTg/6iw3XFRNQT/T3tKpMH5IP1i/ozP/VVE/evcom4SKWD8yIkZ06F5hP/kHy8MMl2g/VofDFqNncT9hz+FLcKN4P3x0YW1acIE/X2vP28OviD9AhYSHRHmRP+ZaGzRwvJg/0yEEaB6CoT8CT0GG5sioP5UwcU3uirE/dGARDHnVuD8xiMFP55PBP9O3eEIG4sg/eGGlN7Kc0T9Ee1jImO7YP5XsWeOepeE/zbO0Jyb76D/JJeF0ba7xP1g6g2OjB/k/gxc9vHK3AUCvTMbddhQJQMNuAnVuwBFAzIQ6IyAhGUAKvmxdV8khQAlOitTELSlAXZNjGl7SMUD/kmg0gzo5QCwuSfFg20FAlZRAlEFHSUBXVyzIY+RRQEBcEvT/U1lAjhINn2btYUA=\",\"dtype\":\"float64\",\"order\":\"little\",\"shape\":[52]}},\"selected\":{\"id\":\"1307\"},\"selection_policy\":{\"id\":\"1308\"}},\"id\":\"1218\",\"type\":\"ColumnDataSource\"},{\"attributes\":{\"data\":{\"x\":{\"__ndarray__\":\"K/OYTNyy4TpG/9cXOMjcOlvtncdG9u06AdIV9tXrBjvd5fpFB+MjO0DncqxcK0A7yBDo6H4EVjtWn3kXydtoOzhORpIZtXg7mIZfIV83iDuyf3p+7f2ZO05b+AOJf687An53J94IxDuDWaIs2rrXO1EaJ3UxtOg7sCnRi/Mx9jsoGwYL6fIAPGYPv0fzDwY86r2XVcGHCTxivFeQBLIOPAQPbxaEWhc8Sc1BbIMFJzydkdU7S+w6POj20yzvqk48yz+I/leFXzwRxKx8eB1xPOF4GIN0Aog8wqJR3gqGpTze21aJoqLFPIDNBo/26OU8E1RTwhXxBD23S2jUPcYiPfWbHdlV9j492psyGitfVD0QywgA54NlPfj4jFxtMXM9criJBsiyfj3b0A4rLYWKPfYcHtdeBpk9OFVWosK8pT0rME/KMoywPZw9a69kKrU9nLxqsVsauz1Q+1rJHjzBPfajDDgAo8I9zh21WSmFwD3EtG+Wvmi4PQwv4qGuKbA9774+pOpcpD2YBw01CTmZPTlx+5SqW489fK8hw6aemz0=\",\"dtype\":\"float64\",\"order\":\"little\",\"shape\":[52]},\"y\":{\"__ndarray__\":\"ZGuc9g4cyD5MxgdroxDRPg8Nq7E8KNg+PCi+azQZ4T64eH4SWjToPuEOwIbcIfE+Z0fnlcBA+D6YH2gliioBP9Sc7oPpTAg/Ql+zwzEzET+gljJTNVkYP2ZxYprjOyE/47vwko9lKD9bxrDhpkQxP5nUeP7hcTg/6iw3XFRNQT/T3tKpMH5IP1i/ozP/VVE/evcom4SKWD8yIkZ06F5hP/kHy8MMl2g/VofDFqNncT9hz+FLcKN4P3x0YW1acIE/X2vP28OviD9AhYSHRHmRP+ZaGzRwvJg/0yEEaB6CoT8CT0GG5sioP5UwcU3uirE/dGARDHnVuD8xiMFP55PBP9O3eEIG4sg/eGGlN7Kc0T9Ee1jImO7YP5XsWeOepeE/zbO0Jyb76D/JJeF0ba7xP1g6g2OjB/k/gxc9vHK3AUCvTMbddhQJQMNuAnVuwBFAzIQ6IyAhGUAKvmxdV8khQAlOitTELSlAXZNjGl7SMUD/kmg0gzo5QCwuSfFg20FAlZRAlEFHSUBXVyzIY+RRQEBcEvT/U1lAjhINn2btYUA=\",\"dtype\":\"float64\",\"order\":\"little\",\"shape\":[52]}},\"selected\":{\"id\":\"1309\"},\"selection_policy\":{\"id\":\"1310\"}},\"id\":\"1224\",\"type\":\"ColumnDataSource\"},{\"attributes\":{\"source\":{\"id\":\"1224\"}},\"id\":\"1229\",\"type\":\"CDSView\"},{\"attributes\":{\"line_color\":\"#FEC689\",\"line_width\":3,\"x\":{\"field\":\"x\"},\"y\":{\"field\":\"y\"}},\"id\":\"1225\",\"type\":\"Line\"},{\"attributes\":{\"line_color\":\"#FDE1A3\",\"line_width\":3,\"x\":{\"field\":\"x\"},\"y\":{\"field\":\"y\"}},\"id\":\"1231\",\"type\":\"Line\"},{\"attributes\":{\"axis\":{\"id\":\"1116\"},\"dimension\":1,\"ticker\":null},\"id\":\"1119\",\"type\":\"Grid\"},{\"attributes\":{\"data_source\":{\"id\":\"1230\"},\"glyph\":{\"id\":\"1231\"},\"hover_glyph\":null,\"muted_glyph\":{\"id\":\"1233\"},\"nonselection_glyph\":{\"id\":\"1232\"},\"view\":{\"id\":\"1235\"}},\"id\":\"1234\",\"type\":\"GlyphRenderer\"},{\"attributes\":{\"data_source\":{\"id\":\"1224\"},\"glyph\":{\"id\":\"1225\"},\"hover_glyph\":null,\"muted_glyph\":{\"id\":\"1227\"},\"nonselection_glyph\":{\"id\":\"1226\"},\"view\":{\"id\":\"1229\"}},\"id\":\"1228\",\"type\":\"GlyphRenderer\"},{\"attributes\":{\"data\":{\"x\":{\"__ndarray__\":\"unt2qY7qEzAClM+8MSMcMLYXI0BxQFIw11MZSzNyoDCXc/EBBQnxMGqTeIAQXDsxhxlUo919ejFfK7UxFziwMeaS+Kr/PN4xSFEJP4I7DDIENIfkxyhEMuNYQZ9tHoQy/eFl+e2PxDKwmIkheEQAMx8QgaOzNjIzdflPYizkWzPeS3a6jRd9MzCsAfCTsZUzPE9XDXOhqTP2awGMinDCM0n7AXdys+kzQkKhVqVTIDSAkJcA/O9cNP2XdMWYq5Q0BMcixTwiyDQdBFPLiXICNdJXsuxGIEw13pIgD5yRojUMtrtDgrv+NTx33ALQxFg2U8alI2N6sTbRBDsUOfYEN2BJPfWCtVQ3+0WdYRnxlDfqmD0FcsPJNzhJPTdvj/U3v/760ZCvHDimRfkrhD9LOOJIGqWaJX445HNa/R8gqDhqtsQlEpTMOP6+gU/09+Q4QJ+CdvkAAzmKFA9cULEcOTi6y7mNOy05HMHGDFiJMjnMMrtgExovOUNQjsIcGCQ5+dfT6wMrFznn24O00vAJOd4fXko2Pv04RBqL7ewGPjk=\",\"dtype\":\"float64\",\"order\":\"little\",\"shape\":[52]},\"y\":{\"__ndarray__\":\"ZGuc9g4cyD5MxgdroxDRPg8Nq7E8KNg+PCi+azQZ4T64eH4SWjToPuEOwIbcIfE+Z0fnlcBA+D6YH2gliioBP9Sc7oPpTAg/Ql+zwzEzET+gljJTNVkYP2ZxYprjOyE/47vwko9lKD9bxrDhpkQxP5nUeP7hcTg/6iw3XFRNQT/T3tKpMH5IP1i/ozP/VVE/evcom4SKWD8yIkZ06F5hP/kHy8MMl2g/VofDFqNncT9hz+FLcKN4P3x0YW1acIE/X2vP28OviD9AhYSHRHmRP+ZaGzRwvJg/0yEEaB6CoT8CT0GG5sioP5UwcU3uirE/dGARDHnVuD8xiMFP55PBP9O3eEIG4sg/eGGlN7Kc0T9Ee1jImO7YP5XsWeOepeE/zbO0Jyb76D/JJeF0ba7xP1g6g2OjB/k/gxc9vHK3AUCvTMbddhQJQMNuAnVuwBFAzIQ6IyAhGUAKvmxdV8khQAlOitTELSlAXZNjGl7SMUD/kmg0gzo5QCwuSfFg20FAlZRAlEFHSUBXVyzIY+RRQEBcEvT/U1lAjhINn2btYUA=\",\"dtype\":\"float64\",\"order\":\"little\",\"shape\":[52]}},\"selected\":{\"id\":\"1313\"},\"selection_policy\":{\"id\":\"1314\"}},\"id\":\"1236\",\"type\":\"ColumnDataSource\"},{\"attributes\":{},\"id\":\"1309\",\"type\":\"Selection\"},{\"attributes\":{\"data\":{\"x\":{\"__ndarray__\":\"r1eJ//UNwDqfIGVoMF3AOptB3sREVtI65w+cwTdf6DryoALS7CsBO1GyEkCzLRg7xktykGBGLzuCY6dl59RBO//f76/V31I7o+XmtKOBZDv7KSoBsGt1OyyHEQzYqoY7+3/T86k3mTsMSnWbCYirO3yL1Y6p3Ls72gKU2ungyTuGwIh78qnVO/pfyHCUhd87PhEQC0bH5DvP7hlXHF3sO81vAeyejPY7gGRJjfEyBTxJzUFsgwUXPJNtYPfcHyk8MJLNBXL8ODyyiiCTSJhJPMo/iP5XhV88LfmeYTMAdzx38bTTRCySPMByWAc5Q608AOdbE0egxjzkAZudQbzgPL42phBAgvc8Bs1+McJWDD1aE6CvKikdPWGB7anapyo94Bft3wSTNj0uKGNCKVZEPdDDv97+hlM9PYu0HB6uYT24SrHGeC9tPbZ3sDLNBXU9criJBsiyfj2C90lmyzWGPUNok1GJR4w9YEtaixPrjj3S2XZuTpmNPapoYOqM54k9EoHlDvK5hT1Vvws97vyBPWYqOryQpH09515edWSTiz0=\",\"dtype\":\"float64\",\"order\":\"little\",\"shape\":[52]},\"y\":{\"__ndarray__\":\"ZGuc9g4cyD5MxgdroxDRPg8Nq7E8KNg+PCi+azQZ4T64eH4SWjToPuEOwIbcIfE+Z0fnlcBA+D6YH2gliioBP9Sc7oPpTAg/Ql+zwzEzET+gljJTNVkYP2ZxYprjOyE/47vwko9lKD9bxrDhpkQxP5nUeP7hcTg/6iw3XFRNQT/T3tKpMH5IP1i/ozP/VVE/evcom4SKWD8yIkZ06F5hP/kHy8MMl2g/VofDFqNncT9hz+FLcKN4P3x0YW1acIE/X2vP28OviD9AhYSHRHmRP+ZaGzRwvJg/0yEEaB6CoT8CT0GG5sioP5UwcU3uirE/dGARDHnVuD8xiMFP55PBP9O3eEIG4sg/eGGlN7Kc0T9Ee1jImO7YP5XsWeOepeE/zbO0Jyb76D/JJeF0ba7xP1g6g2OjB/k/gxc9vHK3AUCvTMbddhQJQMNuAnVuwBFAzIQ6IyAhGUAKvmxdV8khQAlOitTELSlAXZNjGl7SMUD/kmg0gzo5QCwuSfFg20FAlZRAlEFHSUBXVyzIY+RRQEBcEvT/U1lAjhINn2btYUA=\",\"dtype\":\"float64\",\"order\":\"little\",\"shape\":[52]}},\"selected\":{\"id\":\"1311\"},\"selection_policy\":{\"id\":\"1312\"}},\"id\":\"1230\",\"type\":\"ColumnDataSource\"},{\"attributes\":{\"num_minor_ticks\":10},\"id\":\"1113\",\"type\":\"LogTicker\"},{\"attributes\":{\"source\":{\"id\":\"1230\"}},\"id\":\"1235\",\"type\":\"CDSView\"},{\"attributes\":{},\"id\":\"1310\",\"type\":\"UnionRenderers\"},{\"attributes\":{\"source\":{\"id\":\"1218\"}},\"id\":\"1223\",\"type\":\"CDSView\"},{\"attributes\":{\"data_source\":{\"id\":\"1236\"},\"glyph\":{\"id\":\"1237\"},\"hover_glyph\":null,\"muted_glyph\":{\"id\":\"1239\"},\"nonselection_glyph\":{\"id\":\"1238\"},\"view\":{\"id\":\"1241\"}},\"id\":\"1240\",\"type\":\"GlyphRenderer\"},{\"attributes\":{\"click_policy\":\"mute\",\"items\":[{\"id\":\"1243\"},{\"id\":\"1244\"},{\"id\":\"1245\"},{\"id\":\"1246\"},{\"id\":\"1247\"},{\"id\":\"1248\"},{\"id\":\"1249\"},{\"id\":\"1250\"},{\"id\":\"1251\"},{\"id\":\"1252\"},{\"id\":\"1253\"},{\"id\":\"1254\"},{\"id\":\"1255\"},{\"id\":\"1256\"},{\"id\":\"1257\"},{\"id\":\"1258\"},{\"id\":\"1259\"},{\"id\":\"1260\"}],\"location\":[0,-20]},\"id\":\"1242\",\"type\":\"Legend\"},{\"attributes\":{\"end\":100.0,\"start\":1e-20},\"id\":\"1104\",\"type\":\"Range1d\"},{\"attributes\":{\"line_color\":\"#FBFCBF\",\"line_width\":3,\"x\":{\"field\":\"x\"},\"y\":{\"field\":\"y\"}},\"id\":\"1237\",\"type\":\"Line\"},{\"attributes\":{\"line_color\":\"#FEAA74\",\"line_width\":3,\"x\":{\"field\":\"x\"},\"y\":{\"field\":\"y\"}},\"id\":\"1219\",\"type\":\"Line\"},{\"attributes\":{\"axis_label\":\"Pressure(Bars)\",\"formatter\":{\"id\":\"1273\"},\"major_label_policy\":{\"id\":\"1274\"},\"ticker\":{\"id\":\"1117\"}},\"id\":\"1116\",\"type\":\"LogAxis\"},{\"attributes\":{\"line_alpha\":0.2,\"line_color\":\"#FBFCBF\",\"line_width\":3,\"x\":{\"field\":\"x\"},\"y\":{\"field\":\"y\"}},\"id\":\"1239\",\"type\":\"Line\"},{\"attributes\":{\"line_alpha\":0.1,\"line_color\":\"#FBFCBF\",\"line_width\":3,\"x\":{\"field\":\"x\"},\"y\":{\"field\":\"y\"}},\"id\":\"1238\",\"type\":\"Line\"},{\"attributes\":{},\"id\":\"1110\",\"type\":\"LogScale\"},{\"attributes\":{\"source\":{\"id\":\"1236\"}},\"id\":\"1241\",\"type\":\"CDSView\"},{\"attributes\":{},\"id\":\"1124\",\"type\":\"ResetTool\"},{\"attributes\":{\"label\":{\"value\":\"H2\"},\"renderers\":[{\"id\":\"1138\"}]},\"id\":\"1243\",\"type\":\"LegendItem\"},{\"attributes\":{\"data_source\":{\"id\":\"1194\"},\"glyph\":{\"id\":\"1195\"},\"hover_glyph\":null,\"muted_glyph\":{\"id\":\"1197\"},\"nonselection_glyph\":{\"id\":\"1196\"},\"view\":{\"id\":\"1199\"}},\"id\":\"1198\",\"type\":\"GlyphRenderer\"},{\"attributes\":{\"label\":{\"value\":\"He\"},\"renderers\":[{\"id\":\"1144\"}]},\"id\":\"1244\",\"type\":\"LegendItem\"},{\"attributes\":{},\"id\":\"1311\",\"type\":\"Selection\"},{\"attributes\":{\"data\":{\"x\":{\"__ndarray__\":\"a0F5yhweBD4mWFkOblMRProvheBrrRY+Fk933BaZGT77a61a8eIaPnJuadjBhBw+K2mkKSsbID4QzYOkv8wjPkS7G1wP2yk+1/5MCI8SMT4atcUhhsY1PlJQVRv/aTo++n+vtPMzPz44CN8VnNJCPsBgzu6H6Uc+6UB+Cag2UD4MZzVfUJ9XPpsHcPYnamI+UlknfjIlbj4Mi6FC1Al4PsaYryPyg4E+WDD0/98Vhz65BbCg51GMPkIk9/9nUJE+xelZTS0Ulj5w4mJHDtGbPmhKnCk1+p8+Cnn9fG2ToD6XfJgvwiOgPv7cGWtU554+rtBbymb/nT5sln+4oeWdPlGPSVP4xJ4+38wsZcApoT5sIXJBUEqlPvKDYke9iaw+C3AZ7l4ZtD6qM84Rv4O7PgveZ8fTE8I+rEeOMupzyD6eLmIKnI3RPku6mCwPTts+NoFUUHID5T7Q+krWl1vwPgy9D1GWa/s+rEJeat83CT8O0CKAQAwZPy5QUmABTCk/ARdky/J1OT88wf7r3LRJPyi4WFGDaVg/xY8xdy0hXz8=\",\"dtype\":\"float64\",\"order\":\"little\",\"shape\":[52]},\"y\":{\"__ndarray__\":\"ZGuc9g4cyD5MxgdroxDRPg8Nq7E8KNg+PCi+azQZ4T64eH4SWjToPuEOwIbcIfE+Z0fnlcBA+D6YH2gliioBP9Sc7oPpTAg/Ql+zwzEzET+gljJTNVkYP2ZxYprjOyE/47vwko9lKD9bxrDhpkQxP5nUeP7hcTg/6iw3XFRNQT/T3tKpMH5IP1i/ozP/VVE/evcom4SKWD8yIkZ06F5hP/kHy8MMl2g/VofDFqNncT9hz+FLcKN4P3x0YW1acIE/X2vP28OviD9AhYSHRHmRP+ZaGzRwvJg/0yEEaB6CoT8CT0GG5sioP5UwcU3uirE/dGARDHnVuD8xiMFP55PBP9O3eEIG4sg/eGGlN7Kc0T9Ee1jImO7YP5XsWeOepeE/zbO0Jyb76D/JJeF0ba7xP1g6g2OjB/k/gxc9vHK3AUCvTMbddhQJQMNuAnVuwBFAzIQ6IyAhGUAKvmxdV8khQAlOitTELSlAXZNjGl7SMUD/kmg0gzo5QCwuSfFg20FAlZRAlEFHSUBXVyzIY+RRQEBcEvT/U1lAjhINn2btYUA=\",\"dtype\":\"float64\",\"order\":\"little\",\"shape\":[52]}},\"selected\":{\"id\":\"1289\"},\"selection_policy\":{\"id\":\"1290\"}},\"id\":\"1164\",\"type\":\"ColumnDataSource\"},{\"attributes\":{\"line_alpha\":0.2,\"line_color\":\"#4A1079\",\"line_width\":3,\"x\":{\"field\":\"x\"},\"y\":{\"field\":\"y\"}},\"id\":\"1161\",\"type\":\"Line\"},{\"attributes\":{},\"id\":\"1312\",\"type\":\"UnionRenderers\"},{\"attributes\":{\"num_minor_ticks\":10},\"id\":\"1117\",\"type\":\"LogTicker\"},{\"attributes\":{},\"id\":\"1108\",\"type\":\"LogScale\"},{\"attributes\":{\"label\":{\"value\":\"CO\"},\"renderers\":[{\"id\":\"1150\"}]},\"id\":\"1245\",\"type\":\"LegendItem\"},{\"attributes\":{\"end\":2.8740886833916594e-06,\"start\":143.41877701333254},\"id\":\"1106\",\"type\":\"Range1d\"},{\"attributes\":{\"axis_label\":\"Mixing Ratio(v/v)\",\"formatter\":{\"id\":\"1276\"},\"major_label_policy\":{\"id\":\"1277\"},\"ticker\":{\"id\":\"1113\"}},\"id\":\"1112\",\"type\":\"LogAxis\"},{\"attributes\":{\"label\":{\"value\":\"H2O\"},\"renderers\":[{\"id\":\"1156\"}]},\"id\":\"1246\",\"type\":\"LegendItem\"},{\"attributes\":{},\"id\":\"1121\",\"type\":\"WheelZoomTool\"},{\"attributes\":{},\"id\":\"1120\",\"type\":\"PanTool\"},{\"attributes\":{\"overlay\":{\"id\":\"1126\"}},\"id\":\"1122\",\"type\":\"BoxZoomTool\"},{\"attributes\":{\"label\":{\"value\":\"N2\"},\"renderers\":[{\"id\":\"1162\"}]},\"id\":\"1247\",\"type\":\"LegendItem\"},{\"attributes\":{},\"id\":\"1298\",\"type\":\"UnionRenderers\"},{\"attributes\":{},\"id\":\"1123\",\"type\":\"SaveTool\"},{\"attributes\":{\"label\":{\"value\":\"CH4\"},\"renderers\":[{\"id\":\"1168\"}]},\"id\":\"1248\",\"type\":\"LegendItem\"},{\"attributes\":{\"line_alpha\":0.2,\"line_color\":\"#301065\",\"line_width\":3,\"x\":{\"field\":\"x\"},\"y\":{\"field\":\"y\"}},\"id\":\"1155\",\"type\":\"Line\"},{\"attributes\":{\"data\":{\"x\":{\"__ndarray__\":\"dF5jl6jeaj90XmOXqN5qP3ReY5eo3mo/dF5jl6jeaj90XmOXqN5qP3ReY5eo3mo/dF5jl6jeaj90XmOXqN5qP3ReY5eo3mo/dF5jl6jeaj90XmOXqN5qP3ReY5eo3mo/dF5jl6jeaj90XmOXqN5qP3ReY5eo3mo/dF5jl6jeaj90XmOXqN5qP3ReY5eo3mo/dF5jl6jeaj90XmOXqN5qP3ReY5eo3mo/dF5jl6jeaj90XmOXqN5qP3ReY5eo3mo/dF5jl6jeaj90XmOXqN5qP3ReY5eo3mo/dF5jl6jeaj90XmOXqN5qP3ReY5eo3mo/dF5jl6jeaj90XmOXqN5qP3ReY5eo3mo/dF5jl6jeaj90XmOXqN5qP3ReY5eo3mo/dF5jl6jeaj90XmOXqN5qP3ReY5eo3mo/dF5jl6jeaj90XmOXqN5qP8Dsnjws1Go/C3va4a/Jaj8Le9rhr8lqPwt72uGvyWo/VgkWhzO/aj+il1Est7RqP+4ljdE6qmo/hEIEHEKVaj8cX3tmSYBqP/4JLlbUYGo/LUMc6+I2aj8=\",\"dtype\":\"float64\",\"order\":\"little\",\"shape\":[52]},\"y\":{\"__ndarray__\":\"ZGuc9g4cyD5MxgdroxDRPg8Nq7E8KNg+PCi+azQZ4T64eH4SWjToPuEOwIbcIfE+Z0fnlcBA+D6YH2gliioBP9Sc7oPpTAg/Ql+zwzEzET+gljJTNVkYP2ZxYprjOyE/47vwko9lKD9bxrDhpkQxP5nUeP7hcTg/6iw3XFRNQT/T3tKpMH5IP1i/ozP/VVE/evcom4SKWD8yIkZ06F5hP/kHy8MMl2g/VofDFqNncT9hz+FLcKN4P3x0YW1acIE/X2vP28OviD9AhYSHRHmRP+ZaGzRwvJg/0yEEaB6CoT8CT0GG5sioP5UwcU3uirE/dGARDHnVuD8xiMFP55PBP9O3eEIG4sg/eGGlN7Kc0T9Ee1jImO7YP5XsWeOepeE/zbO0Jyb76D/JJeF0ba7xP1g6g2OjB/k/gxc9vHK3AUCvTMbddhQJQMNuAnVuwBFAzIQ6IyAhGUAKvmxdV8khQAlOitTELSlAXZNjGl7SMUD/kmg0gzo5QCwuSfFg20FAlZRAlEFHSUBXVyzIY+RRQEBcEvT/U1lAjhINn2btYUA=\",\"dtype\":\"float64\",\"order\":\"little\",\"shape\":[52]}},\"selected\":{\"id\":\"1287\"},\"selection_policy\":{\"id\":\"1288\"}},\"id\":\"1158\",\"type\":\"ColumnDataSource\"},{\"attributes\":{\"label\":{\"value\":\"CO2\"},\"renderers\":[{\"id\":\"1174\"}]},\"id\":\"1249\",\"type\":\"LegendItem\"},{\"attributes\":{\"data_source\":{\"id\":\"1158\"},\"glyph\":{\"id\":\"1159\"},\"hover_glyph\":null,\"muted_glyph\":{\"id\":\"1161\"},\"nonselection_glyph\":{\"id\":\"1160\"},\"view\":{\"id\":\"1163\"}},\"id\":\"1162\",\"type\":\"GlyphRenderer\"},{\"attributes\":{\"line_alpha\":0.1,\"line_color\":\"#301065\",\"line_width\":3,\"x\":{\"field\":\"x\"},\"y\":{\"field\":\"y\"}},\"id\":\"1154\",\"type\":\"Line\"},{\"attributes\":{\"label\":{\"value\":\"H2S\"},\"renderers\":[{\"id\":\"1180\"}]},\"id\":\"1250\",\"type\":\"LegendItem\"},{\"attributes\":{\"line_alpha\":0.1,\"line_color\":\"#4A1079\",\"line_width\":3,\"x\":{\"field\":\"x\"},\"y\":{\"field\":\"y\"}},\"id\":\"1160\",\"type\":\"Line\"},{\"attributes\":{\"label\":{\"value\":\"Na\"},\"renderers\":[{\"id\":\"1186\"}]},\"id\":\"1251\",\"type\":\"LegendItem\"},{\"attributes\":{},\"id\":\"1313\",\"type\":\"Selection\"},{\"attributes\":{\"source\":{\"id\":\"1158\"}},\"id\":\"1163\",\"type\":\"CDSView\"},{\"attributes\":{\"line_alpha\":0.1,\"line_color\":\"#FEAA74\",\"line_width\":3,\"x\":{\"field\":\"x\"},\"y\":{\"field\":\"y\"}},\"id\":\"1220\",\"type\":\"Line\"},{\"attributes\":{\"source\":{\"id\":\"1152\"}},\"id\":\"1157\",\"type\":\"CDSView\"},{\"attributes\":{\"label\":{\"value\":\"NH3\"},\"renderers\":[{\"id\":\"1192\"}]},\"id\":\"1252\",\"type\":\"LegendItem\"},{\"attributes\":{\"line_color\":\"#4A1079\",\"line_width\":3,\"x\":{\"field\":\"x\"},\"y\":{\"field\":\"y\"}},\"id\":\"1159\",\"type\":\"Line\"},{\"attributes\":{},\"id\":\"1314\",\"type\":\"UnionRenderers\"},{\"attributes\":{\"label\":{\"value\":\"H\"},\"renderers\":[{\"id\":\"1198\"}]},\"id\":\"1253\",\"type\":\"LegendItem\"},{\"attributes\":{\"data_source\":{\"id\":\"1152\"},\"glyph\":{\"id\":\"1153\"},\"hover_glyph\":null,\"muted_glyph\":{\"id\":\"1155\"},\"nonselection_glyph\":{\"id\":\"1154\"},\"view\":{\"id\":\"1157\"}},\"id\":\"1156\",\"type\":\"GlyphRenderer\"},{\"attributes\":{\"data_source\":{\"id\":\"1164\"},\"glyph\":{\"id\":\"1165\"},\"hover_glyph\":null,\"muted_glyph\":{\"id\":\"1167\"},\"nonselection_glyph\":{\"id\":\"1166\"},\"view\":{\"id\":\"1169\"}},\"id\":\"1168\",\"type\":\"GlyphRenderer\"},{\"attributes\":{\"label\":{\"value\":\"PH3\"},\"renderers\":[{\"id\":\"1204\"}]},\"id\":\"1254\",\"type\":\"LegendItem\"},{\"attributes\":{\"line_alpha\":0.1,\"line_color\":\"#D9466A\",\"line_width\":3,\"x\":{\"field\":\"x\"},\"y\":{\"field\":\"y\"}},\"id\":\"1196\",\"type\":\"Line\"},{\"attributes\":{\"line_alpha\":0.2,\"line_color\":\"#FEAA74\",\"line_width\":3,\"x\":{\"field\":\"x\"},\"y\":{\"field\":\"y\"}},\"id\":\"1221\",\"type\":\"Line\"},{\"attributes\":{\"label\":{\"value\":\"K\"},\"renderers\":[{\"id\":\"1210\"}]},\"id\":\"1255\",\"type\":\"LegendItem\"},{\"attributes\":{\"bottom_units\":\"screen\",\"fill_alpha\":0.5,\"fill_color\":\"lightgrey\",\"left_units\":\"screen\",\"level\":\"overlay\",\"line_alpha\":1.0,\"line_color\":\"black\",\"line_dash\":[4,4],\"line_width\":2,\"right_units\":\"screen\",\"syncable\":false,\"top_units\":\"screen\"},\"id\":\"1126\",\"type\":\"BoxAnnotation\"},{\"attributes\":{\"label\":{\"value\":\"Fe\"},\"renderers\":[{\"id\":\"1216\"}]},\"id\":\"1256\",\"type\":\"LegendItem\"},{\"attributes\":{\"label\":{\"value\":\"TiO\"},\"renderers\":[{\"id\":\"1222\"}]},\"id\":\"1257\",\"type\":\"LegendItem\"},{\"attributes\":{\"label\":{\"value\":\"VO\"},\"renderers\":[{\"id\":\"1228\"}]},\"id\":\"1258\",\"type\":\"LegendItem\"},{\"attributes\":{\"active_multi\":null,\"tools\":[{\"id\":\"1120\"},{\"id\":\"1121\"},{\"id\":\"1122\"},{\"id\":\"1123\"},{\"id\":\"1124\"},{\"id\":\"1125\"}]},\"id\":\"1127\",\"type\":\"Toolbar\"},{\"attributes\":{\"label\":{\"value\":\"H-\"},\"renderers\":[{\"id\":\"1234\"}]},\"id\":\"1259\",\"type\":\"LegendItem\"},{\"attributes\":{\"label\":{\"value\":\"H+\"},\"renderers\":[{\"id\":\"1240\"}]},\"id\":\"1260\",\"type\":\"LegendItem\"},{\"attributes\":{\"line_alpha\":0.1,\"line_color\":\"#1A1041\",\"line_width\":3,\"x\":{\"field\":\"x\"},\"y\":{\"field\":\"y\"}},\"id\":\"1148\",\"type\":\"Line\"},{\"attributes\":{},\"id\":\"1279\",\"type\":\"Selection\"},{\"attributes\":{\"data\":{\"x\":{\"__ndarray__\":\"GQRWDi2y6T8ZBFYOLbLpPxkEVg4tsuk/GQRWDi2y6T+uR+F6FK7pP0SLbOf7qek/RIts5/up6T9Ei2zn+6npP0SLbOf7qek/RIts5/up6T9Ei2zn+6npP0SLbOf7qek/RIts5/up6T9Ei2zn+6npP0SLbOf7qek/RIts5/up6T9Ei2zn+6npP0SLbOf7qek/RIts5/up6T9Ei2zn+6npP0SLbOf7qek/RIts5/up6T/azvdT46XpP28Sg8DKoek/bxKDwMqh6T9vEoPAyqHpP28Sg8DKoek/bxKDwMqh6T9vEoPAyqHpP28Sg8DKoek/bxKDwMqh6T9vEoPAyqHpP28Sg8DKoek/bxKDwMqh6T9vEoPAyqHpP28Sg8DKoek/bxKDwMqh6T9vEoPAyqHpP28Sg8DKoek/bxKDwMqh6T9vEoPAyqHpP28Sg8DKoek/bxKDwMqh6T9vEoPAyqHpP28Sg8DKoek/bxKDwMqh6T9vEoPAyqHpPwRWDi2ynek/mpmZmZmZ6T8w3SQGgZXpP1pkO99Pjek/hutRuB6F6T8=\",\"dtype\":\"float64\",\"order\":\"little\",\"shape\":[52]},\"y\":{\"__ndarray__\":\"ZGuc9g4cyD5MxgdroxDRPg8Nq7E8KNg+PCi+azQZ4T64eH4SWjToPuEOwIbcIfE+Z0fnlcBA+D6YH2gliioBP9Sc7oPpTAg/Ql+zwzEzET+gljJTNVkYP2ZxYprjOyE/47vwko9lKD9bxrDhpkQxP5nUeP7hcTg/6iw3XFRNQT/T3tKpMH5IP1i/ozP/VVE/evcom4SKWD8yIkZ06F5hP/kHy8MMl2g/VofDFqNncT9hz+FLcKN4P3x0YW1acIE/X2vP28OviD9AhYSHRHmRP+ZaGzRwvJg/0yEEaB6CoT8CT0GG5sioP5UwcU3uirE/dGARDHnVuD8xiMFP55PBP9O3eEIG4sg/eGGlN7Kc0T9Ee1jImO7YP5XsWeOepeE/zbO0Jyb76D/JJeF0ba7xP1g6g2OjB/k/gxc9vHK3AUCvTMbddhQJQMNuAnVuwBFAzIQ6IyAhGUAKvmxdV8khQAlOitTELSlAXZNjGl7SMUD/kmg0gzo5QCwuSfFg20FAlZRAlEFHSUBXVyzIY+RRQEBcEvT/U1lAjhINn2btYUA=\",\"dtype\":\"float64\",\"order\":\"little\",\"shape\":[52]}},\"selected\":{\"id\":\"1279\"},\"selection_policy\":{\"id\":\"1280\"}},\"id\":\"1134\",\"type\":\"ColumnDataSource\"},{\"attributes\":{},\"id\":\"1280\",\"type\":\"UnionRenderers\"},{\"attributes\":{\"data_source\":{\"id\":\"1134\"},\"glyph\":{\"id\":\"1135\"},\"hover_glyph\":null,\"muted_glyph\":{\"id\":\"1137\"},\"nonselection_glyph\":{\"id\":\"1136\"},\"view\":{\"id\":\"1139\"}},\"id\":\"1138\",\"type\":\"GlyphRenderer\"},{\"attributes\":{\"line_alpha\":0.2,\"line_color\":\"#000003\",\"line_width\":3,\"x\":{\"field\":\"x\"},\"y\":{\"field\":\"y\"}},\"id\":\"1137\",\"type\":\"Line\"},{\"attributes\":{\"line_color\":\"#000003\",\"line_width\":3,\"x\":{\"field\":\"x\"},\"y\":{\"field\":\"y\"}},\"id\":\"1135\",\"type\":\"Line\"},{\"attributes\":{},\"id\":\"1289\",\"type\":\"Selection\"},{\"attributes\":{\"line_alpha\":0.1,\"line_color\":\"#000003\",\"line_width\":3,\"x\":{\"field\":\"x\"},\"y\":{\"field\":\"y\"}},\"id\":\"1136\",\"type\":\"Line\"},{\"attributes\":{\"source\":{\"id\":\"1134\"}},\"id\":\"1139\",\"type\":\"CDSView\"},{\"attributes\":{},\"id\":\"1290\",\"type\":\"UnionRenderers\"},{\"attributes\":{\"data_source\":{\"id\":\"1140\"},\"glyph\":{\"id\":\"1141\"},\"hover_glyph\":null,\"muted_glyph\":{\"id\":\"1143\"},\"nonselection_glyph\":{\"id\":\"1142\"},\"view\":{\"id\":\"1145\"}},\"id\":\"1144\",\"type\":\"GlyphRenderer\"},{\"attributes\":{\"line_alpha\":0.2,\"line_color\":\"#09071F\",\"line_width\":3,\"x\":{\"field\":\"x\"},\"y\":{\"field\":\"y\"}},\"id\":\"1143\",\"type\":\"Line\"},{\"attributes\":{},\"id\":\"1299\",\"type\":\"Selection\"},{\"attributes\":{\"data\":{\"x\":{\"__ndarray__\":\"f2q8dJMYxD9/arx0kxjEP39qvHSTGMQ/f2q8dJMYxD9/arx0kxjEP39qvHSTGMQ/f2q8dJMYxD9/arx0kxjEP39qvHSTGMQ/f2q8dJMYxD9/arx0kxjEP39qvHSTGMQ/f2q8dJMYxD9/arx0kxjEP39qvHSTGMQ/f2q8dJMYxD9/arx0kxjEP39qvHSTGMQ/f2q8dJMYxD9/arx0kxjEP39qvHSTGMQ/f2q8dJMYxD9/arx0kxjEP39qvHSTGMQ/f2q8dJMYxD9/arx0kxjEP39qvHSTGMQ/f2q8dJMYxD9/arx0kxjEP39qvHSTGMQ/f2q8dJMYxD9/arx0kxjEP39qvHSTGMQ/f2q8dJMYxD9/arx0kxjEP39qvHSTGMQ/f2q8dJMYxD9/arx0kxjEP39qvHSTGMQ/f2q8dJMYxD9/arx0kxjEP39qvHSTGMQ/f2q8dJMYxD9/arx0kxjEP39qvHSTGMQ/f2q8dJMYxD9/arx0kxjEP39qvHSTGMQ/f2q8dJMYxD8pXI/C9SjEP9NNYhBYOcQ/001iEFg5xD8=\",\"dtype\":\"float64\",\"order\":\"little\",\"shape\":[52]},\"y\":{\"__ndarray__\":\"ZGuc9g4cyD5MxgdroxDRPg8Nq7E8KNg+PCi+azQZ4T64eH4SWjToPuEOwIbcIfE+Z0fnlcBA+D6YH2gliioBP9Sc7oPpTAg/Ql+zwzEzET+gljJTNVkYP2ZxYprjOyE/47vwko9lKD9bxrDhpkQxP5nUeP7hcTg/6iw3XFRNQT/T3tKpMH5IP1i/ozP/VVE/evcom4SKWD8yIkZ06F5hP/kHy8MMl2g/VofDFqNncT9hz+FLcKN4P3x0YW1acIE/X2vP28OviD9AhYSHRHmRP+ZaGzRwvJg/0yEEaB6CoT8CT0GG5sioP5UwcU3uirE/dGARDHnVuD8xiMFP55PBP9O3eEIG4sg/eGGlN7Kc0T9Ee1jImO7YP5XsWeOepeE/zbO0Jyb76D/JJeF0ba7xP1g6g2OjB/k/gxc9vHK3AUCvTMbddhQJQMNuAnVuwBFAzIQ6IyAhGUAKvmxdV8khQAlOitTELSlAXZNjGl7SMUD/kmg0gzo5QCwuSfFg20FAlZRAlEFHSUBXVyzIY+RRQEBcEvT/U1lAjhINn2btYUA=\",\"dtype\":\"float64\",\"order\":\"little\",\"shape\":[52]}},\"selected\":{\"id\":\"1281\"},\"selection_policy\":{\"id\":\"1282\"}},\"id\":\"1140\",\"type\":\"ColumnDataSource\"},{\"attributes\":{\"line_color\":\"#09071F\",\"line_width\":3,\"x\":{\"field\":\"x\"},\"y\":{\"field\":\"y\"}},\"id\":\"1141\",\"type\":\"Line\"},{\"attributes\":{\"line_alpha\":0.1,\"line_color\":\"#09071F\",\"line_width\":3,\"x\":{\"field\":\"x\"},\"y\":{\"field\":\"y\"}},\"id\":\"1142\",\"type\":\"Line\"},{\"attributes\":{},\"id\":\"1300\",\"type\":\"UnionRenderers\"},{\"attributes\":{\"line_alpha\":0.2,\"line_color\":\"#1A1041\",\"line_width\":3,\"x\":{\"field\":\"x\"},\"y\":{\"field\":\"y\"}},\"id\":\"1149\",\"type\":\"Line\"},{\"attributes\":{\"source\":{\"id\":\"1140\"}},\"id\":\"1145\",\"type\":\"CDSView\"},{\"attributes\":{\"line_color\":\"#1A1041\",\"line_width\":3,\"x\":{\"field\":\"x\"},\"y\":{\"field\":\"y\"}},\"id\":\"1147\",\"type\":\"Line\"},{\"attributes\":{},\"id\":\"1281\",\"type\":\"Selection\"},{\"attributes\":{\"data_source\":{\"id\":\"1146\"},\"glyph\":{\"id\":\"1147\"},\"hover_glyph\":null,\"muted_glyph\":{\"id\":\"1149\"},\"nonselection_glyph\":{\"id\":\"1148\"},\"view\":{\"id\":\"1151\"}},\"id\":\"1150\",\"type\":\"GlyphRenderer\"},{\"attributes\":{\"line_alpha\":0.1,\"line_color\":\"#61187F\",\"line_width\":3,\"x\":{\"field\":\"x\"},\"y\":{\"field\":\"y\"}},\"id\":\"1166\",\"type\":\"Line\"},{\"attributes\":{},\"id\":\"1282\",\"type\":\"UnionRenderers\"},{\"attributes\":{\"data\":{\"x\":{\"__ndarray__\":\"hJ7Nqs/Vlj+Ens2qz9WWP8e6uI0G8JY/CtejcD0Klz8sZRniWBeXP2+BBMWPMZc/sp3vp8ZLlz/2udqK/WWXPxdIUPwYc5c/ONbFbTSAlz9aZDvfT42XP3zysFBrmpc/nYAmwoanlz++DpwzorSXP+CcEaW9wZc/AiuHFtnOlz8kufyH9NuXPyS5/If025c/JLn8h/Tblz8kufyH9NuXP0ZHcvkP6Zc/Z9Xnaiv2lz9n1edqK/aXP2fV52or9pc/iGNd3EYDmD+q8dJNYhCYP6rx0k1iEJg/qvHSTWIQmD/Mf0i/fR2YP+0NvjCZKpg/7Q2+MJkqmD/tDb4wmSqYP+0NvjCZKpg/DpwzorQ3mD8wKqkT0ESYPzAqqRPQRJg/MCqpE9BEmD8wKqkT0ESYPzAqqRPQRJg/MCqpE9BEmD8wKqkT0ESYPzAqqRPQRJg/MCqpE9BEmD8wKqkT0ESYPw6cM6K0N5g/7Q2+MJkqmD/tDb4wmSqYP2bV52or9pc/fPKwUGualz+QD3o2qz6XP1afq63YX5Y/gNk9eViolT8=\",\"dtype\":\"float64\",\"order\":\"little\",\"shape\":[52]},\"y\":{\"__ndarray__\":\"ZGuc9g4cyD5MxgdroxDRPg8Nq7E8KNg+PCi+azQZ4T64eH4SWjToPuEOwIbcIfE+Z0fnlcBA+D6YH2gliioBP9Sc7oPpTAg/Ql+zwzEzET+gljJTNVkYP2ZxYprjOyE/47vwko9lKD9bxrDhpkQxP5nUeP7hcTg/6iw3XFRNQT/T3tKpMH5IP1i/ozP/VVE/evcom4SKWD8yIkZ06F5hP/kHy8MMl2g/VofDFqNncT9hz+FLcKN4P3x0YW1acIE/X2vP28OviD9AhYSHRHmRP+ZaGzRwvJg/0yEEaB6CoT8CT0GG5sioP5UwcU3uirE/dGARDHnVuD8xiMFP55PBP9O3eEIG4sg/eGGlN7Kc0T9Ee1jImO7YP5XsWeOepeE/zbO0Jyb76D/JJeF0ba7xP1g6g2OjB/k/gxc9vHK3AUCvTMbddhQJQMNuAnVuwBFAzIQ6IyAhGUAKvmxdV8khQAlOitTELSlAXZNjGl7SMUD/kmg0gzo5QCwuSfFg20FAlZRAlEFHSUBXVyzIY+RRQEBcEvT/U1lAjhINn2btYUA=\",\"dtype\":\"float64\",\"order\":\"little\",\"shape\":[52]}},\"selected\":{\"id\":\"1283\"},\"selection_policy\":{\"id\":\"1284\"}},\"id\":\"1146\",\"type\":\"ColumnDataSource\"},{\"attributes\":{\"line_alpha\":0.1,\"line_color\":\"#792281\",\"line_width\":3,\"x\":{\"field\":\"x\"},\"y\":{\"field\":\"y\"}},\"id\":\"1172\",\"type\":\"Line\"},{\"attributes\":{\"source\":{\"id\":\"1146\"}},\"id\":\"1151\",\"type\":\"CDSView\"},{\"attributes\":{},\"id\":\"1291\",\"type\":\"Selection\"},{\"attributes\":{\"line_color\":\"#301065\",\"line_width\":3,\"x\":{\"field\":\"x\"},\"y\":{\"field\":\"y\"}},\"id\":\"1153\",\"type\":\"Line\"},{\"attributes\":{\"line_color\":\"#61187F\",\"line_width\":3,\"x\":{\"field\":\"x\"},\"y\":{\"field\":\"y\"}},\"id\":\"1165\",\"type\":\"Line\"},{\"attributes\":{},\"id\":\"1292\",\"type\":\"UnionRenderers\"},{\"attributes\":{\"line_alpha\":0.2,\"line_color\":\"#792281\",\"line_width\":3,\"x\":{\"field\":\"x\"},\"y\":{\"field\":\"y\"}},\"id\":\"1173\",\"type\":\"Line\"},{\"attributes\":{\"data\":{\"x\":{\"__ndarray__\":\"1CtlGeJYhz/UK2UZ4liHP1pkO99PjYc/JLn8h/Tbhz+q8dJNYhCIP+0NvjCZKog/MCqpE9BEiD+3Yn/ZPXmIPz2bVZ+rrYg/gLdAguLHiD/E0ytlGeKIPwfwFkhQ/Ig/SgwCK4cWiT+NKO0NvjCJP40o7Q2+MIk/0ETY8PRKiT8TYcPTK2WJPxNhw9MrZYk/E2HD0ytliT8TYcPTK2WJP1Z9rrZif4k/mpmZmZmZiT+amZmZmZmJP921hHzQs4k/INJvXwfOiT8g0m9fB86JPyDSb18Hzok/Y+5aQj7oiT+mCkYldQKKP6YKRiV1Aoo/pgpGJXUCij+mCkYldQKKP+omMQisHIo/LUMc6+I2ij8tQxzr4jaKPy1DHOviNoo/LUMc6+I2ij8tQxzr4jaKPy1DHOviNoo/LUMc6+I2ij8tQxzr4jaKPy1DHOviNoo/LUMc6+I2ij9wXwfOGVGKP7N78rBQa4o/s3vysFBrij/2l92Th4WKPwIJih9j7oo/2c73U+Oliz/ysFBrmneMP+JYF7fRAI4/TMgHPZtVjz8=\",\"dtype\":\"float64\",\"order\":\"little\",\"shape\":[52]},\"y\":{\"__ndarray__\":\"ZGuc9g4cyD5MxgdroxDRPg8Nq7E8KNg+PCi+azQZ4T64eH4SWjToPuEOwIbcIfE+Z0fnlcBA+D6YH2gliioBP9Sc7oPpTAg/Ql+zwzEzET+gljJTNVkYP2ZxYprjOyE/47vwko9lKD9bxrDhpkQxP5nUeP7hcTg/6iw3XFRNQT/T3tKpMH5IP1i/ozP/VVE/evcom4SKWD8yIkZ06F5hP/kHy8MMl2g/VofDFqNncT9hz+FLcKN4P3x0YW1acIE/X2vP28OviD9AhYSHRHmRP+ZaGzRwvJg/0yEEaB6CoT8CT0GG5sioP5UwcU3uirE/dGARDHnVuD8xiMFP55PBP9O3eEIG4sg/eGGlN7Kc0T9Ee1jImO7YP5XsWeOepeE/zbO0Jyb76D/JJeF0ba7xP1g6g2OjB/k/gxc9vHK3AUCvTMbddhQJQMNuAnVuwBFAzIQ6IyAhGUAKvmxdV8khQAlOitTELSlAXZNjGl7SMUD/kmg0gzo5QCwuSfFg20FAlZRAlEFHSUBXVyzIY+RRQEBcEvT/U1lAjhINn2btYUA=\",\"dtype\":\"float64\",\"order\":\"little\",\"shape\":[52]}},\"selected\":{\"id\":\"1285\"},\"selection_policy\":{\"id\":\"1286\"}},\"id\":\"1152\",\"type\":\"ColumnDataSource\"},{\"attributes\":{\"data_source\":{\"id\":\"1170\"},\"glyph\":{\"id\":\"1171\"},\"hover_glyph\":null,\"muted_glyph\":{\"id\":\"1173\"},\"nonselection_glyph\":{\"id\":\"1172\"},\"view\":{\"id\":\"1175\"}},\"id\":\"1174\",\"type\":\"GlyphRenderer\"},{\"attributes\":{},\"id\":\"1301\",\"type\":\"Selection\"},{\"attributes\":{\"line_alpha\":0.2,\"line_color\":\"#61187F\",\"line_width\":3,\"x\":{\"field\":\"x\"},\"y\":{\"field\":\"y\"}},\"id\":\"1167\",\"type\":\"Line\"},{\"attributes\":{\"source\":{\"id\":\"1164\"}},\"id\":\"1169\",\"type\":\"CDSView\"},{\"attributes\":{\"data\":{\"x\":{\"__ndarray__\":\"kZvhBnx+WD9W8UbmkT9YP8e6uI0G8FY/LBN+qZ83VT8miLoPQGpTP4vgfyvZsVE/WoKMgApHUD8UkWEVb2ROPxAGnnsPl0w/YhQEj2/vSj849YHknUNJP6bydoTTgkc/jh1U4jrGRT9AahMn9ztEPyxhbYyd8EI/2NR5VPzfQT9ExTh/EwpBP/IEwk6xakA/8Lvplh3iPz8GE38UdeY+P4CBIECGjj0/YAfOGVHaOz9uxmmIKvw5P2CWdmouNzg/CD4GK061Nj+emzbjNEQ1P2IyVTAqqTM/Sl0yjpHsMT8q499nXDgwP8qpnWFqSy0/0NA/wcWKKj9oO6buyi4oP7d9j/rrFSY/lgM91LZhJD/1gk9z8iIjPwra5PBJJyI/+py7XS9NIT/XFTPC24MgP46xE16CUx8/SKMCJ9vAHT+U2LW93ZIcP5bl6zL8pxs/dF5jl6jeGj8mKDT/ng4aP6AT503qcBk/gJO3bSkxGT/qO2Rvzi0ZP6AT503qcBk/SrzyDxHtGT9Nw0vLo3YaPyo25nXEIRs/t2v4zEhzGj8=\",\"dtype\":\"float64\",\"order\":\"little\",\"shape\":[52]},\"y\":{\"__ndarray__\":\"ZGuc9g4cyD5MxgdroxDRPg8Nq7E8KNg+PCi+azQZ4T64eH4SWjToPuEOwIbcIfE+Z0fnlcBA+D6YH2gliioBP9Sc7oPpTAg/Ql+zwzEzET+gljJTNVkYP2ZxYprjOyE/47vwko9lKD9bxrDhpkQxP5nUeP7hcTg/6iw3XFRNQT/T3tKpMH5IP1i/ozP/VVE/evcom4SKWD8yIkZ06F5hP/kHy8MMl2g/VofDFqNncT9hz+FLcKN4P3x0YW1acIE/X2vP28OviD9AhYSHRHmRP+ZaGzRwvJg/0yEEaB6CoT8CT0GG5sioP5UwcU3uirE/dGARDHnVuD8xiMFP55PBP9O3eEIG4sg/eGGlN7Kc0T9Ee1jImO7YP5XsWeOepeE/zbO0Jyb76D/JJeF0ba7xP1g6g2OjB/k/gxc9vHK3AUCvTMbddhQJQMNuAnVuwBFAzIQ6IyAhGUAKvmxdV8khQAlOitTELSlAXZNjGl7SMUD/kmg0gzo5QCwuSfFg20FAlZRAlEFHSUBXVyzIY+RRQEBcEvT/U1lAjhINn2btYUA=\",\"dtype\":\"float64\",\"order\":\"little\",\"shape\":[52]}},\"selected\":{\"id\":\"1291\"},\"selection_policy\":{\"id\":\"1292\"}},\"id\":\"1170\",\"type\":\"ColumnDataSource\"},{\"attributes\":{},\"id\":\"1302\",\"type\":\"UnionRenderers\"},{\"attributes\":{\"line_alpha\":0.1,\"line_color\":\"#912A80\",\"line_width\":3,\"x\":{\"field\":\"x\"},\"y\":{\"field\":\"y\"}},\"id\":\"1178\",\"type\":\"Line\"},{\"attributes\":{\"line_color\":\"#792281\",\"line_width\":3,\"x\":{\"field\":\"x\"},\"y\":{\"field\":\"y\"}},\"id\":\"1171\",\"type\":\"Line\"},{\"attributes\":{},\"id\":\"1283\",\"type\":\"Selection\"},{\"attributes\":{\"line_alpha\":0.2,\"line_color\":\"#912A80\",\"line_width\":3,\"x\":{\"field\":\"x\"},\"y\":{\"field\":\"y\"}},\"id\":\"1179\",\"type\":\"Line\"},{\"attributes\":{\"source\":{\"id\":\"1170\"}},\"id\":\"1175\",\"type\":\"CDSView\"},{\"attributes\":{\"data\":{\"x\":{\"__ndarray__\":\"1CtlGeJYVz9rSNxj6UNXP2tI3GPpQ1c/a0jcY+lDVz89D+7O2m1XP3i5iO/ErFc/SYCaWrbWVz8bR6zFpwBYP4QqNXugFVg/7Q2+MJkqWD/tDb4wmSpYP4QqNXugFVg/hCo1e6AVWD+EKjV7oBVYP+0NvjCZKlg/v9TPm4pUWD8ouFhRg2lYPyi4WFGDaVg/KLhYUYNpWD8ouFhRg2lYPyi4WFGDaVg/v9TPm4pUWD9W8UbmkT9YP7/Uz5uKVFg/KLhYUYNpWD8ouFhRg2lYPyi4WFGDaVg/KLhYUYNpWD8ouFhRg2lYPyi4WFGDaVg/KLhYUYNpWD8ouFhRg2lYP7/Uz5uKVFg/VvFG5pE/WD9W8UbmkT9YP1bxRuaRP1g/VvFG5pE/WD9W8UbmkT9YP+0NvjCZKlg/hCo1e6AVWD+EKjV7oBVYP4QqNXugFVg/hCo1e6AVWD+EKjV7oBVYP4QqNXugFVg/7Q2+MJkqWD9W8UbmkT9YP1bxRuaRP1g/v9TPm4pUWD8ouFhRg2lYP5Gb4QZ8flg/kZvhBnx+WD8=\",\"dtype\":\"float64\",\"order\":\"little\",\"shape\":[52]},\"y\":{\"__ndarray__\":\"ZGuc9g4cyD5MxgdroxDRPg8Nq7E8KNg+PCi+azQZ4T64eH4SWjToPuEOwIbcIfE+Z0fnlcBA+D6YH2gliioBP9Sc7oPpTAg/Ql+zwzEzET+gljJTNVkYP2ZxYprjOyE/47vwko9lKD9bxrDhpkQxP5nUeP7hcTg/6iw3XFRNQT/T3tKpMH5IP1i/ozP/VVE/evcom4SKWD8yIkZ06F5hP/kHy8MMl2g/VofDFqNncT9hz+FLcKN4P3x0YW1acIE/X2vP28OviD9AhYSHRHmRP+ZaGzRwvJg/0yEEaB6CoT8CT0GG5sioP5UwcU3uirE/dGARDHnVuD8xiMFP55PBP9O3eEIG4sg/eGGlN7Kc0T9Ee1jImO7YP5XsWeOepeE/zbO0Jyb76D/JJeF0ba7xP1g6g2OjB/k/gxc9vHK3AUCvTMbddhQJQMNuAnVuwBFAzIQ6IyAhGUAKvmxdV8khQAlOitTELSlAXZNjGl7SMUD/kmg0gzo5QCwuSfFg20FAlZRAlEFHSUBXVyzIY+RRQEBcEvT/U1lAjhINn2btYUA=\",\"dtype\":\"float64\",\"order\":\"little\",\"shape\":[52]}},\"selected\":{\"id\":\"1293\"},\"selection_policy\":{\"id\":\"1294\"}},\"id\":\"1176\",\"type\":\"ColumnDataSource\"},{\"attributes\":{},\"id\":\"1284\",\"type\":\"UnionRenderers\"},{\"attributes\":{\"data_source\":{\"id\":\"1176\"},\"glyph\":{\"id\":\"1177\"},\"hover_glyph\":null,\"muted_glyph\":{\"id\":\"1179\"},\"nonselection_glyph\":{\"id\":\"1178\"},\"view\":{\"id\":\"1181\"}},\"id\":\"1180\",\"type\":\"GlyphRenderer\"},{\"attributes\":{\"line_alpha\":0.1,\"line_color\":\"#A9327C\",\"line_width\":3,\"x\":{\"field\":\"x\"},\"y\":{\"field\":\"y\"}},\"id\":\"1184\",\"type\":\"Line\"},{\"attributes\":{\"line_color\":\"#912A80\",\"line_width\":3,\"x\":{\"field\":\"x\"},\"y\":{\"field\":\"y\"}},\"id\":\"1177\",\"type\":\"Line\"},{\"attributes\":{},\"id\":\"1293\",\"type\":\"Selection\"},{\"attributes\":{\"line_alpha\":0.2,\"line_color\":\"#A9327C\",\"line_width\":3,\"x\":{\"field\":\"x\"},\"y\":{\"field\":\"y\"}},\"id\":\"1185\",\"type\":\"Line\"},{\"attributes\":{\"source\":{\"id\":\"1176\"}},\"id\":\"1181\",\"type\":\"CDSView\"},{\"attributes\":{},\"id\":\"1294\",\"type\":\"UnionRenderers\"},{\"attributes\":{\"line_color\":\"#A9327C\",\"line_width\":3,\"x\":{\"field\":\"x\"},\"y\":{\"field\":\"y\"}},\"id\":\"1183\",\"type\":\"Line\"},{\"attributes\":{\"data_source\":{\"id\":\"1182\"},\"glyph\":{\"id\":\"1183\"},\"hover_glyph\":null,\"muted_glyph\":{\"id\":\"1185\"},\"nonselection_glyph\":{\"id\":\"1184\"},\"view\":{\"id\":\"1187\"}},\"id\":\"1186\",\"type\":\"GlyphRenderer\"},{\"attributes\":{},\"id\":\"1303\",\"type\":\"Selection\"},{\"attributes\":{\"data_source\":{\"id\":\"1218\"},\"glyph\":{\"id\":\"1219\"},\"hover_glyph\":null,\"muted_glyph\":{\"id\":\"1221\"},\"nonselection_glyph\":{\"id\":\"1220\"},\"view\":{\"id\":\"1223\"}},\"id\":\"1222\",\"type\":\"GlyphRenderer\"},{\"attributes\":{\"line_alpha\":0.1,\"line_color\":\"#C23A75\",\"line_width\":3,\"x\":{\"field\":\"x\"},\"y\":{\"field\":\"y\"}},\"id\":\"1190\",\"type\":\"Line\"},{\"attributes\":{\"data\":{\"x\":{\"__ndarray__\":\"mPIhqBq9+j7HxnIBHgf0PgGgL2JER/c+QpTUrq6v+j6Jo2HnXED+PvWCT3PyIgM/RKEKJM3ECT8sZ0pGKXwRP25PNR98zRc/RMU4fxMKIT+sWtJRDmYjP1YPmIdM+SA/2ubG9IQlHj8kD0QWaeIdPzSID+z4LyA/UvUrnQ/PIj/cEU4LXvQlPzNqvko+dic/M2q+Sj52Jz8zar5KPnYnP1oLs9DOaSY/lgM91LZhJD8YCtgORuwjP+5brROX4yU/WP58W7BUJz9Y/nxbsFQnP1j+fFuwVCc/WP58W7BUJz9Y/nxbsFQnP1j+fFuwVCc/WP58W7BUJz9Y/nxbsFQnP0a0HVN3ZSc/M2q+Sj52Jz8zar5KPnYnPzNqvko+dic/M2q+Sj52Jz8zar5KPnYnPzNqvko+dic/M2q+Sj52Jz9GtB1Td2UnP1j+fFuwVCc/akjcY+lDJz+Q3Jp0WyInP8e6uI0G8CY/EeM1r+qsJj9bC7PQzmkmP8rH7gIlBSY/XRjpRe1+JT/waOOItfgkP6lNnNzvUCQ/PJ6WH7jKIz8=\",\"dtype\":\"float64\",\"order\":\"little\",\"shape\":[52]},\"y\":{\"__ndarray__\":\"ZGuc9g4cyD5MxgdroxDRPg8Nq7E8KNg+PCi+azQZ4T64eH4SWjToPuEOwIbcIfE+Z0fnlcBA+D6YH2gliioBP9Sc7oPpTAg/Ql+zwzEzET+gljJTNVkYP2ZxYprjOyE/47vwko9lKD9bxrDhpkQxP5nUeP7hcTg/6iw3XFRNQT/T3tKpMH5IP1i/ozP/VVE/evcom4SKWD8yIkZ06F5hP/kHy8MMl2g/VofDFqNncT9hz+FLcKN4P3x0YW1acIE/X2vP28OviD9AhYSHRHmRP+ZaGzRwvJg/0yEEaB6CoT8CT0GG5sioP5UwcU3uirE/dGARDHnVuD8xiMFP55PBP9O3eEIG4sg/eGGlN7Kc0T9Ee1jImO7YP5XsWeOepeE/zbO0Jyb76D/JJeF0ba7xP1g6g2OjB/k/gxc9vHK3AUCvTMbddhQJQMNuAnVuwBFAzIQ6IyAhGUAKvmxdV8khQAlOitTELSlAXZNjGl7SMUD/kmg0gzo5QCwuSfFg20FAlZRAlEFHSUBXVyzIY+RRQEBcEvT/U1lAjhINn2btYUA=\",\"dtype\":\"float64\",\"order\":\"little\",\"shape\":[52]}},\"selected\":{\"id\":\"1295\"},\"selection_policy\":{\"id\":\"1296\"}},\"id\":\"1182\",\"type\":\"ColumnDataSource\"},{\"attributes\":{\"line_alpha\":0.2,\"line_color\":\"#C23A75\",\"line_width\":3,\"x\":{\"field\":\"x\"},\"y\":{\"field\":\"y\"}},\"id\":\"1191\",\"type\":\"Line\"},{\"attributes\":{},\"id\":\"1304\",\"type\":\"UnionRenderers\"},{\"attributes\":{\"source\":{\"id\":\"1182\"}},\"id\":\"1187\",\"type\":\"CDSView\"},{\"attributes\":{\"line_color\":\"#C23A75\",\"line_width\":3,\"x\":{\"field\":\"x\"},\"y\":{\"field\":\"y\"}},\"id\":\"1189\",\"type\":\"Line\"},{\"attributes\":{},\"id\":\"1285\",\"type\":\"Selection\"},{\"attributes\":{\"data_source\":{\"id\":\"1188\"},\"glyph\":{\"id\":\"1189\"},\"hover_glyph\":null,\"muted_glyph\":{\"id\":\"1191\"},\"nonselection_glyph\":{\"id\":\"1190\"},\"view\":{\"id\":\"1193\"}},\"id\":\"1192\",\"type\":\"GlyphRenderer\"},{\"attributes\":{\"source\":{\"id\":\"1194\"}},\"id\":\"1199\",\"type\":\"CDSView\"},{\"attributes\":{\"data\":{\"x\":{\"__ndarray__\":\"ljl11600/T12qrj9UBUEPnrIWFwUrwk+BmM/h5mpDz6evmhl0icTPnqBr19aRxc+oNoNWLrGHD7nDddm8B8iPmRL3R9eJic+jpjcVqGiLT6yeuoFXcoyPqjtU99SiTc+VBFPtypQPT6P7IbWqVlCPm9mxj/cNkc+CkiQFpvZTT7CTMyUhZhTPhjJx3uIF1o+rUmh90COYT4+BVK3sopnPqRTLy3e124+gCSmdAK0cz521LcdMbJ4PkAX9nwZAX8+mHO0oLOpgz4jIog1jdSIPhBVbUEzq44+grhhynZ0kj7WYa0jDNiVPt9BOtwRxZk+YgedKdeInj7dJrsdCjSiPoxrp6ZX3KU+KJLOERDLqj7UBSdotNGwPsa8EnEIj7U+9FYba5gEvD7Exfb/FgnCPhb2F+4a/MY+0MACdySHzT62hcaXeUDTPhHXezvTldk+2iAPVPj54D42d/S/XIvmPj975MV4g+4+94PLdPkg9T7MsPYc/dT9PtLvDGSHQgU/ZA+j1uphDj8U8GskCcIVP6wq6oKwCR8/GArYDkbsIz8=\",\"dtype\":\"float64\",\"order\":\"little\",\"shape\":[52]},\"y\":{\"__ndarray__\":\"ZGuc9g4cyD5MxgdroxDRPg8Nq7E8KNg+PCi+azQZ4T64eH4SWjToPuEOwIbcIfE+Z0fnlcBA+D6YH2gliioBP9Sc7oPpTAg/Ql+zwzEzET+gljJTNVkYP2ZxYprjOyE/47vwko9lKD9bxrDhpkQxP5nUeP7hcTg/6iw3XFRNQT/T3tKpMH5IP1i/ozP/VVE/evcom4SKWD8yIkZ06F5hP/kHy8MMl2g/VofDFqNncT9hz+FLcKN4P3x0YW1acIE/X2vP28OviD9AhYSHRHmRP+ZaGzRwvJg/0yEEaB6CoT8CT0GG5sioP5UwcU3uirE/dGARDHnVuD8xiMFP55PBP9O3eEIG4sg/eGGlN7Kc0T9Ee1jImO7YP5XsWeOepeE/zbO0Jyb76D/JJeF0ba7xP1g6g2OjB/k/gxc9vHK3AUCvTMbddhQJQMNuAnVuwBFAzIQ6IyAhGUAKvmxdV8khQAlOitTELSlAXZNjGl7SMUD/kmg0gzo5QCwuSfFg20FAlZRAlEFHSUBXVyzIY+RRQEBcEvT/U1lAjhINn2btYUA=\",\"dtype\":\"float64\",\"order\":\"little\",\"shape\":[52]}},\"selected\":{\"id\":\"1297\"},\"selection_policy\":{\"id\":\"1298\"}},\"id\":\"1188\",\"type\":\"ColumnDataSource\"},{\"attributes\":{\"ticker\":null},\"id\":\"1276\",\"type\":\"LogTickFormatter\"},{\"attributes\":{},\"id\":\"1286\",\"type\":\"UnionRenderers\"},{\"attributes\":{\"source\":{\"id\":\"1188\"}},\"id\":\"1193\",\"type\":\"CDSView\"},{\"attributes\":{\"line_color\":\"#D9466A\",\"line_width\":3,\"x\":{\"field\":\"x\"},\"y\":{\"field\":\"y\"}},\"id\":\"1195\",\"type\":\"Line\"},{\"attributes\":{},\"id\":\"1295\",\"type\":\"Selection\"},{\"attributes\":{\"line_alpha\":0.2,\"line_color\":\"#D9466A\",\"line_width\":3,\"x\":{\"field\":\"x\"},\"y\":{\"field\":\"y\"}},\"id\":\"1197\",\"type\":\"Line\"},{\"attributes\":{\"line_alpha\":0.2,\"line_color\":\"#EC585F\",\"line_width\":3,\"x\":{\"field\":\"x\"},\"y\":{\"field\":\"y\"}},\"id\":\"1203\",\"type\":\"Line\"},{\"attributes\":{},\"id\":\"1296\",\"type\":\"UnionRenderers\"},{\"attributes\":{\"data\":{\"x\":{\"__ndarray__\":\"jImMp7/VCj4OL9wReAQIPk+yrYi3oQ4+HqlmYGnDFj7nDddm8B8iPls4l5jFYyw+bh8dQyLPND4459s4SzI8Pggi6vYxEkI+hCJI4GbZRj7HH2r2F/VNPiu6TlNmq1Q+ljl11600XT5Vb/pjtC9kPjA8Qou9d2o+nlNThZRVcD5wUsTl2eVyPrjPn/f8cHQ+VLfSKrwEdT4oJpP98ep1Pp7RO/WGC3k+opsH9OWsfz7n2QD66puFPvmZGmv2dY0+kYpDWZ9Ckz5czYG4h5GZPgUtGu4AqKI+UmICd9M/rj7OyeYFMwG6PlkDrSO7kMY+toXGl3lA0z6O8uVoAgPgPnBQsSCDy+k+9YJPc/Ii8z7Hrv4Z79j5PsnfYupTMwA//J03XzZLAz/jJlk9FpEHP4KIefsYGA4/ojiRqje0Ej/cEU4LXvQVP7JjIxCv6xc/DMPsCiL3GT8ElfHvMy4cP7psdM5PcRw/yrVX1YFiGj+O1UG5yJgWP8CxZ89lahI/Dr6LUp1pDT+ErSNYZlsHPzF1/LxOjwI/KEEk6NQ6Bj8=\",\"dtype\":\"float64\",\"order\":\"little\",\"shape\":[52]},\"y\":{\"__ndarray__\":\"ZGuc9g4cyD5MxgdroxDRPg8Nq7E8KNg+PCi+azQZ4T64eH4SWjToPuEOwIbcIfE+Z0fnlcBA+D6YH2gliioBP9Sc7oPpTAg/Ql+zwzEzET+gljJTNVkYP2ZxYprjOyE/47vwko9lKD9bxrDhpkQxP5nUeP7hcTg/6iw3XFRNQT/T3tKpMH5IP1i/ozP/VVE/evcom4SKWD8yIkZ06F5hP/kHy8MMl2g/VofDFqNncT9hz+FLcKN4P3x0YW1acIE/X2vP28OviD9AhYSHRHmRP+ZaGzRwvJg/0yEEaB6CoT8CT0GG5sioP5UwcU3uirE/dGARDHnVuD8xiMFP55PBP9O3eEIG4sg/eGGlN7Kc0T9Ee1jImO7YP5XsWeOepeE/zbO0Jyb76D/JJeF0ba7xP1g6g2OjB/k/gxc9vHK3AUCvTMbddhQJQMNuAnVuwBFAzIQ6IyAhGUAKvmxdV8khQAlOitTELSlAXZNjGl7SMUD/kmg0gzo5QCwuSfFg20FAlZRAlEFHSUBXVyzIY+RRQEBcEvT/U1lAjhINn2btYUA=\",\"dtype\":\"float64\",\"order\":\"little\",\"shape\":[52]}},\"selected\":{\"id\":\"1299\"},\"selection_policy\":{\"id\":\"1300\"}},\"id\":\"1194\",\"type\":\"ColumnDataSource\"},{\"attributes\":{\"line_alpha\":0.1,\"line_color\":\"#EC585F\",\"line_width\":3,\"x\":{\"field\":\"x\"},\"y\":{\"field\":\"y\"}},\"id\":\"1202\",\"type\":\"Line\"},{\"attributes\":{\"line_color\":\"#EC585F\",\"line_width\":3,\"x\":{\"field\":\"x\"},\"y\":{\"field\":\"y\"}},\"id\":\"1201\",\"type\":\"Line\"},{\"attributes\":{},\"id\":\"1305\",\"type\":\"Selection\"},{\"attributes\":{\"data_source\":{\"id\":\"1200\"},\"glyph\":{\"id\":\"1201\"},\"hover_glyph\":null,\"muted_glyph\":{\"id\":\"1203\"},\"nonselection_glyph\":{\"id\":\"1202\"},\"view\":{\"id\":\"1205\"}},\"id\":\"1204\",\"type\":\"GlyphRenderer\"},{\"attributes\":{\"ticker\":null},\"id\":\"1273\",\"type\":\"LogTickFormatter\"},{\"attributes\":{\"line_alpha\":0.1,\"line_color\":\"#F7715B\",\"line_width\":3,\"x\":{\"field\":\"x\"},\"y\":{\"field\":\"y\"}},\"id\":\"1208\",\"type\":\"Line\"},{\"attributes\":{},\"id\":\"1274\",\"type\":\"AllLabels\"},{\"attributes\":{\"data\":{\"x\":{\"__ndarray__\":\"RnZtyzBuEz4EDUbb/XQaPqcYWOkkUiA+UHtZJdEyIz7jp4ghgfIlPh/wD10jKyk+KB/71qOMLT66oTLn990xPkghaqF+CDY+QA4kGuZFOz7gn+WIm6RAPoBhTkQ780M+yj4PP826Rz5mU4C4Q3RMPhCG2qcFZVE+tjvkoYiwVT5YgZ4pG6ZbPoKU9ebyCWI+VnjMxufqZz4WYkpsy3xvPocNF7wWG3Q+Ag51pUvieD6E90PWlBB+PlH22I6QHoI+xelZTS0Uhj5yiNSOxMaKPvRNN9yJio8+zYEgawbrkT6I+2DK1OWTPu7CcUH/ApY+sCUj6OFkmD56cUXW2C2bPmIHnSnXiJ4+CNOLNbedoT7waOOItfikPvC5jbLwiKk+JhDAF3Dgrz6gL94Lo4uzPrqHvpqHPLc+9FYba5gEvD7sZuuFp/zAPpLvraMFw8Q++HW3HeBqyT6sKuqCsAnPPiZKCHfjtNI+LEwAevGw1j4CjetCIFXcPmZR8eJxD+E+/6gT8VLB4z5ErcSX5NvmPixDHOviNuo+VuWMcnoo6z4=\",\"dtype\":\"float64\",\"order\":\"little\",\"shape\":[52]},\"y\":{\"__ndarray__\":\"ZGuc9g4cyD5MxgdroxDRPg8Nq7E8KNg+PCi+azQZ4T64eH4SWjToPuEOwIbcIfE+Z0fnlcBA+D6YH2gliioBP9Sc7oPpTAg/Ql+zwzEzET+gljJTNVkYP2ZxYprjOyE/47vwko9lKD9bxrDhpkQxP5nUeP7hcTg/6iw3XFRNQT/T3tKpMH5IP1i/ozP/VVE/evcom4SKWD8yIkZ06F5hP/kHy8MMl2g/VofDFqNncT9hz+FLcKN4P3x0YW1acIE/X2vP28OviD9AhYSHRHmRP+ZaGzRwvJg/0yEEaB6CoT8CT0GG5sioP5UwcU3uirE/dGARDHnVuD8xiMFP55PBP9O3eEIG4sg/eGGlN7Kc0T9Ee1jImO7YP5XsWeOepeE/zbO0Jyb76D/JJeF0ba7xP1g6g2OjB/k/gxc9vHK3AUCvTMbddhQJQMNuAnVuwBFAzIQ6IyAhGUAKvmxdV8khQAlOitTELSlAXZNjGl7SMUD/kmg0gzo5QCwuSfFg20FAlZRAlEFHSUBXVyzIY+RRQEBcEvT/U1lAjhINn2btYUA=\",\"dtype\":\"float64\",\"order\":\"little\",\"shape\":[52]}},\"selected\":{\"id\":\"1301\"},\"selection_policy\":{\"id\":\"1302\"}},\"id\":\"1200\",\"type\":\"ColumnDataSource\"},{\"attributes\":{},\"id\":\"1306\",\"type\":\"UnionRenderers\"},{\"attributes\":{\"line_alpha\":0.2,\"line_color\":\"#F7715B\",\"line_width\":3,\"x\":{\"field\":\"x\"},\"y\":{\"field\":\"y\"}},\"id\":\"1209\",\"type\":\"Line\"},{\"attributes\":{\"source\":{\"id\":\"1200\"}},\"id\":\"1205\",\"type\":\"CDSView\"},{\"attributes\":{\"line_color\":\"#F7715B\",\"line_width\":3,\"x\":{\"field\":\"x\"},\"y\":{\"field\":\"y\"}},\"id\":\"1207\",\"type\":\"Line\"},{\"attributes\":{},\"id\":\"1287\",\"type\":\"Selection\"},{\"attributes\":{\"data_source\":{\"id\":\"1206\"},\"glyph\":{\"id\":\"1207\"},\"hover_glyph\":null,\"muted_glyph\":{\"id\":\"1209\"},\"nonselection_glyph\":{\"id\":\"1208\"},\"view\":{\"id\":\"1211\"}},\"id\":\"1210\",\"type\":\"GlyphRenderer\"},{\"attributes\":{},\"id\":\"1288\",\"type\":\"UnionRenderers\"},{\"attributes\":{\"data\":{\"x\":{\"__ndarray__\":\"RMpoRx5GwD7b9VZNpdm7Pr6vPtzdHME+upCiKZa2wz56jumFEpjEPkStxJfk28Y+dmZpRLy3yj6a392I9srPPtkRf/vXRdM+6DQLtDuk2D5a8GgEl57bPtz/tt26Udo+vIg6nI462T6yXUZWI2DZPv+Lb0EZV9o+6SsnJS0q3D6QvknToGjePmkdVU0Qdd8+IwXkhVNq3z4AeSsi9WTfPiD6B/Q29N4+goh5+xgY3j4OuVuKki3ePoJ+GWsDoN8+nCi2QIpT4D45n3QBs2vgPnSM8YIEnOA+K2R0YSDf4D4WDozVSSrhPjaKON+AfeE+ith5fsXY4T7M4N7rWjHiPjF1/LxOj+I+hcM9XJPq4j4qVeQIACvjPnaIPbwAXuM+bF1JdpWD4z5iMlUwKqnjPtLxZkeJ4eM+HiXA+okU5D68m367sizkPojJ6SWlJOQ+MGucLDkX5D7YDE8zzQnkPnqTGU4d1OM+8nJDGctw4z6WCRqOQu3iPu5sl0+5NuI+UvsIV5ta4T7Gz1aQLIHgPoieMR9SBN8+goh5+xgY3j4=\",\"dtype\":\"float64\",\"order\":\"little\",\"shape\":[52]},\"y\":{\"__ndarray__\":\"ZGuc9g4cyD5MxgdroxDRPg8Nq7E8KNg+PCi+azQZ4T64eH4SWjToPuEOwIbcIfE+Z0fnlcBA+D6YH2gliioBP9Sc7oPpTAg/Ql+zwzEzET+gljJTNVkYP2ZxYprjOyE/47vwko9lKD9bxrDhpkQxP5nUeP7hcTg/6iw3XFRNQT/T3tKpMH5IP1i/ozP/VVE/evcom4SKWD8yIkZ06F5hP/kHy8MMl2g/VofDFqNncT9hz+FLcKN4P3x0YW1acIE/X2vP28OviD9AhYSHRHmRP+ZaGzRwvJg/0yEEaB6CoT8CT0GG5sioP5UwcU3uirE/dGARDHnVuD8xiMFP55PBP9O3eEIG4sg/eGGlN7Kc0T9Ee1jImO7YP5XsWeOepeE/zbO0Jyb76D/JJeF0ba7xP1g6g2OjB/k/gxc9vHK3AUCvTMbddhQJQMNuAnVuwBFAzIQ6IyAhGUAKvmxdV8khQAlOitTELSlAXZNjGl7SMUD/kmg0gzo5QCwuSfFg20FAlZRAlEFHSUBXVyzIY+RRQEBcEvT/U1lAjhINn2btYUA=\",\"dtype\":\"float64\",\"order\":\"little\",\"shape\":[52]}},\"selected\":{\"id\":\"1303\"},\"selection_policy\":{\"id\":\"1304\"}},\"id\":\"1206\",\"type\":\"ColumnDataSource\"},{\"attributes\":{\"source\":{\"id\":\"1206\"}},\"id\":\"1211\",\"type\":\"CDSView\"},{\"attributes\":{},\"id\":\"1297\",\"type\":\"Selection\"},{\"attributes\":{\"data_source\":{\"id\":\"1212\"},\"glyph\":{\"id\":\"1213\"},\"hover_glyph\":null,\"muted_glyph\":{\"id\":\"1215\"},\"nonselection_glyph\":{\"id\":\"1214\"},\"view\":{\"id\":\"1217\"}},\"id\":\"1216\",\"type\":\"GlyphRenderer\"},{\"attributes\":{},\"id\":\"1277\",\"type\":\"AllLabels\"}],\"root_ids\":[\"1101\"]},\"title\":\"Bokeh Application\",\"version\":\"2.3.3\"}};\n",
       "  var render_items = [{\"docid\":\"95673a55-783d-419b-93f6-4aaa34491a06\",\"root_ids\":[\"1101\"],\"roots\":{\"1101\":\"b8fd1ca7-5f74-4054-9911-d2ad2e88087a\"}}];\n",
       "  root.Bokeh.embed.embed_items_notebook(docs_json, render_items);\n",
       "\n",
       "  }\n",
       "  if (root.Bokeh !== undefined) {\n",
       "    embed_document(root);\n",
       "  } else {\n",
       "    var attempts = 0;\n",
       "    var timer = setInterval(function(root) {\n",
       "      if (root.Bokeh !== undefined) {\n",
       "        clearInterval(timer);\n",
       "        embed_document(root);\n",
       "      } else {\n",
       "        attempts++;\n",
       "        if (attempts > 100) {\n",
       "          clearInterval(timer);\n",
       "          console.log(\"Bokeh: ERROR: Unable to run BokehJS code because BokehJS library is missing\");\n",
       "        }\n",
       "      }\n",
       "    }, 10, root)\n",
       "  }\n",
       "})(window);"
      ],
      "application/vnd.bokehjs_exec.v0+json": ""
     },
     "metadata": {
      "application/vnd.bokehjs_exec.v0+json": {
       "id": "1101"
      }
     },
     "output_type": "display_data"
    }
   ],
   "source": [
    "jpi.show(jpi.pt(full_output,plot_width=500))\n",
    "jpi.show(jpi.mixing_ratio(full_output,plot_width=500))"
   ]
  },
  {
   "cell_type": "markdown",
   "metadata": {},
   "source": [
    "### Standard (Rp/Rs)^2"
   ]
  },
  {
   "cell_type": "code",
   "execution_count": 5,
   "metadata": {},
   "outputs": [
    {
     "data": {
      "text/html": [
       "\n",
       "\n",
       "\n",
       "\n",
       "\n",
       "\n",
       "  <div class=\"bk-root\" id=\"025fa0b1-10f1-4bd2-a0b4-b0a71bbf18d0\" data-root-id=\"1535\"></div>\n"
      ]
     },
     "metadata": {},
     "output_type": "display_data"
    },
    {
     "data": {
      "application/javascript": [
       "(function(root) {\n",
       "  function embed_document(root) {\n",
       "    \n",
       "  var docs_json = {\"eab11730-e389-471e-8460-0acf3982a344\":{\"defs\":[],\"roots\":{\"references\":[{\"attributes\":{\"below\":[{\"id\":\"1544\"}],\"center\":[{\"id\":\"1547\"},{\"id\":\"1551\"}],\"height\":345,\"left\":[{\"id\":\"1548\"}],\"renderers\":[{\"id\":\"1569\"}],\"title\":{\"id\":\"1626\"},\"toolbar\":{\"id\":\"1559\"},\"width\":500,\"x_range\":{\"id\":\"1536\"},\"x_scale\":{\"id\":\"1540\"},\"y_range\":{\"id\":\"1538\"},\"y_scale\":{\"id\":\"1542\"}},\"id\":\"1535\",\"subtype\":\"Figure\",\"type\":\"Plot\"},{\"attributes\":{},\"id\":\"1555\",\"type\":\"SaveTool\"},{\"attributes\":{\"source\":{\"id\":\"1566\"}},\"id\":\"1570\",\"type\":\"CDSView\"},{\"attributes\":{},\"id\":\"1556\",\"type\":\"ResetTool\"},{\"attributes\":{},\"id\":\"1631\",\"type\":\"BasicTickFormatter\"},{\"attributes\":{},\"id\":\"1632\",\"type\":\"AllLabels\"},{\"attributes\":{},\"id\":\"1626\",\"type\":\"Title\"},{\"attributes\":{},\"id\":\"1634\",\"type\":\"Selection\"},{\"attributes\":{},\"id\":\"1635\",\"type\":\"UnionRenderers\"},{\"attributes\":{\"bottom_units\":\"screen\",\"fill_alpha\":0.5,\"fill_color\":\"lightgrey\",\"left_units\":\"screen\",\"level\":\"overlay\",\"line_alpha\":1.0,\"line_color\":\"black\",\"line_dash\":[4,4],\"line_width\":2,\"right_units\":\"screen\",\"syncable\":false,\"top_units\":\"screen\"},\"id\":\"1558\",\"type\":\"BoxAnnotation\"},{\"attributes\":{},\"id\":\"1536\",\"type\":\"DataRange1d\"},{\"attributes\":{\"line_alpha\":0.1,\"line_color\":\"#0072B2\",\"line_width\":3,\"x\":{\"field\":\"x\"},\"y\":{\"field\":\"y\"}},\"id\":\"1568\",\"type\":\"Line\"},{\"attributes\":{\"data_source\":{\"id\":\"1566\"},\"glyph\":{\"id\":\"1567\"},\"hover_glyph\":null,\"muted_glyph\":null,\"nonselection_glyph\":{\"id\":\"1568\"},\"view\":{\"id\":\"1570\"}},\"id\":\"1569\",\"type\":\"GlyphRenderer\"},{\"attributes\":{},\"id\":\"1538\",\"type\":\"DataRange1d\"},{\"attributes\":{\"axis_label\":\"Wavelength [\\u03bcm]\",\"axis_label_text_font\":\"times\",\"axis_label_text_font_size\":\"14pt\",\"axis_label_text_font_style\":\"bold\",\"formatter\":{\"id\":\"1631\"},\"major_label_policy\":{\"id\":\"1632\"},\"major_label_text_font\":\"times\",\"major_label_text_font_size\":\"14pt\",\"ticker\":{\"id\":\"1545\"}},\"id\":\"1544\",\"type\":\"LinearAxis\"},{\"attributes\":{},\"id\":\"1542\",\"type\":\"LinearScale\"},{\"attributes\":{},\"id\":\"1540\",\"type\":\"LinearScale\"},{\"attributes\":{\"data\":{\"x\":{\"__ndarray__\":\"Wi4x8Af7/z8rVWHTocT/P7vn1j6Yjv8/ZjoslepY/z/iXAc6mCP/P+dSGJKg7v4/zE8XAwO6/j8f9cLzvoX+PzuU3svTUf4/7XIw9EAe/j/qEoDWBev9Pz98lN0huP0/vIoydZSF/T8fPhsKXVP9PzoNCgp7If0/6juz4+3v/D/dM8IGtb78Pyzg1+PPjfw/wguJ7D1d/D+KwlyT/iz8P1a1yksR/fs/kqA5inXN+z+dtf3DKp77P+gGV28wb/s/s/ZvA4ZA+z+EqFv4KhL7Pzh1FMce5Po/umF66WC2+j9cmFHa8Ij6P77kQBXOW/o/UjLQFvgu+j9rDWdcbgL6P9gmS2Qw1vk/CtqerT2q+T+4tV+4lX75PwIHZQU4U/k/EmdeFiQo+T8qS9JtWf34PzaXHI/X0vg/szJt/p2o+D8UoMZArH74P4OW/NsBVfg/BZ6yVp4r+D/7rVo4gQL4P/7NMwmq2fc/EblIUhix9z8bg26dy4j3P79AQ3XDYPc/b7EsZf849z/K61b5fhH3Pz8Ms75B6vY/5OX1QkfD9j+WtZYUj5z2P0DXzcIYdvY/Xn2T3eNP9j+sap717yn2PwKuYpw8BPY/T2AQZMne9T/GZJLflbn1Px4rjaKhlPU/+nNdQexv9T9aFxdRdUv1PzTNg2c8J/U/EPghG0ED9T+9cSMDg9/0PwVabLcBvPQ/deeR0LyY9D8eOtnns3X0P2AwNpfmUvQ/qj1KeVQw9D81Q2Mp/Q30P7xqekPg6/M/HQMzZP3J8z/yXtkoVKjzPxG1YS/khvM/9QJnFq1l8z8V8Sl9rkTzPw25jwPoI/M/uA0hSlkD8z8fBQnyAePyPz0EFJ3hwvI/m6yu7fei8j/Iy+SGRIPyP45MYAzHY/I/BSpoIn9E8j9sZN9tbCXyP7/3Q5SOBvI/FtStO+Xn8T/G180KcMnxP0rL7Kguq/E/xl7qvSCN8T9rKTzyRW/xP2uq7O6dUfE/ukuaXSg08T9xZnbo5BbxP9dIRDrT+fA/Jz5Y/vLc8D/kl5bgQ8DwP+a4co3Fo/A//CHusXeH8D8qgJf7WWvwP428iRhsT/A/yw1rt60z8D8mC2yHHhjwPyuCjXB8+e8/6Y579BjD7z+Jsjb8EY3vP9/bYOpmV+8/O6inIhci7z8PnMIJIu3uP6RecQWHuO4/zPh5fEWE7j+dFqfWXFDuPwxMxnzMHO4/jVym2JPp7T+dhRVVsrbtPyzM310nhO0/8EzNX/JR7T+dj6DIEiDtP+fcFAeI7uw/ZZfcilG97D89l5/EbozsP6GI+SXfW+w/CU14IaIr7D88X5oqt/vrPwg6zbUdzOs/u8FrONWc6z9IsLwo3W3rPygE8f00P+s/2HEiMNwQ6z//11E40uLqPz+2ZZAWteo/lKYos6iH6j9Z2UcciFrqP9yTUUi0Leo/gLGztCwB6j9jJ7rf8NTpP6KKjUgAqek/Bpkxb1p96T87xIPU/lHpP4a/OfrsJuk/5g/gYiT86D+tntiRpNHoP4dOWQttp+g/5ZJqVH196D/XCeby1FPoPzwYdW1zKug/VoiPS1gB6D+6KnoVg9jnP4p5RVTzr+c/DD7MkaiH5z+JOLJYol/nP3LKYjTgN+c/06IPsWEQ5z8Dba9bJunmP42B/MEtwuY/W5lzcneb5j8Tg1L8AnXmP6falu/PTuY/F8P83N0o5j9Tov1VLAPmP1Xfzuy63eU/UKJgNIm45T8Il1zAlpPlPz6xJCXjbuU/QfPR921K5T+INjPONiblP2L2yz49AuU/uBzT4IDe5D/W0DFMAbvkPzhIghm+l+Q/Y5kO4rZ05D+3kM8/61HkPz+Ha81aL+Q/gTs1JgUN5D85rCrm6erjPxP186kIyeM/Ry3iDmGn4z8ySO6y8oXjP8T3tzS9ZOM/6ZCEM8BD4z8=\",\"dtype\":\"float64\",\"order\":\"little\",\"shape\":[181]},\"y\":{\"__ndarray__\":\"Z0sRfJhI30Bu8yBRg0/fQLAXhbmQTt9AS+dyTUVM30D7qLxiFVLfQBiTBbSXTd9Asb4u3ps/30CIANOFcT/fQHYPXYDVS99APu5VeExF30AjyVd7wVDfQIc/Djx5R99AP2p6JkxH30DyeB9FTUDfQOKbxmwJQt9AWTlr7xJG30CLx9JUeDjfQBoVWz6qOd9AmbCDpA8t30CqtAZ5JxrfQLGLX3EKI99ANGPJAnse30Dx5TNNRBDfQKZsZF8VCt9AHW75eQH03kDbkyvBUfHeQL0cWWOm7N5AA9eG7iHy3kCudEwHNPTeQKNCFkko9d5AAlSivcz53kBAsF4nLP7eQHj+R4vn/t5AX+X9IiQI30COJrTpKgvfQLX/TS6QE99AWGM3W0wZ30DDVVbi6B/fQGwgme0fH99AATL6H5wx30ATFxYLjjPfQAtEUs9bO99Ao2LuH7A530DhK5IccD/fQOhJdjo0Pd9ASy4yNVhN30Bve+JBXVPfQN9cWvI9Td9AjYDJS1xP30BQ2N7kcVDfQPw24SDHX99ASpBm6NBh30Dtz6OE9VzfQKsLmf/kVt9AlLRnf09W30CPnlsTR1nfQC5A/24wWN9ArMbLBZNW30DU64Z0LFXfQAaTeUBlU99AFmdodBo+30Dn87fYKCjfQEFZ0D90Bd9ANmI0duD+3kAeGZQD1f3eQDO7Tbhl9d5Aqu8QJxvv3kAFQ4ddVe3eQEyEAdnJ7N5A74a50J7u3kCjdstdyuzeQA+LsWWn8d5Arq+QTZT43kABMNqIRfveQLCVHi3TBN9AmwzPWzID30CTN6vXCg3fQIhEhjLuEd9AIcDNnlwf30D38eK5+B/fQAPO7D5WLd9A9ozGoMAk30AoMX6uIyPfQLYGkaCVJd9AbS0738Ij30BcJyQHtzPfQF2X4UNSGd9Az6hrCVMt30AabZctGh3fQDpiI88YEN9ArQ9D4HMO30AqcyVexfbeQMQgjKZJ295AHOuOBYLS3kD+5f/ZW9PeQIpMKzm41t5AXhC7esfR3kBhoej6LNjeQGi+VYse1d5A0FKBU0Tc3kDOy4pkmeLeQH3LE/b47d5AO8u/rJfx3kBa37YxbfneQBXJZ3euAd9AY+5btpsK30ABkhTrUQ3fQJUCa4CJFd9A+wzkC5AO30DtsdaUyhDfQPOnvT4CH99AMJRD/K8e30A6QGWz6hzfQIU5RWbMI99ATf5y7lIj30CvyHOirB3fQH2yqLBP+d5AyixyfT/43kBovlBLXO7eQNQOQIUO695A5Iv6rDL03kAYuPwCyubeQCGsEoCl2N5ASsD0op7b3kCa0mVlj93eQAv/8uDr395A/DkRAcfj3kBF1N4wR+feQDe0zSrN6d5ADyipvJny3kCR5NiFePLeQIsoWduM995AcKzd7O383kAnaEhYx/jeQArCG+GB/N5A4q46HAcE30Chw60VUP7eQPm6Npco/d5A7eYsEFj93kDR6boaVgDfQNWAkRuzBt9ATfAf26kK30Aokp8mhhTfQEbsSZtePN9A7GsvxF4/30Dy8Bz/thDfQKDLA3/DC99AUrpYhiIK30C49eek0gXfQO/ZE0T5Bt9A7V63+fUF30AEPJ8jwAPfQDyWmKJQBN9AuEB2JjUG30DB72cGSgLfQDs2J93a+t5A1M3DQa743kD8Wuq2gPneQBs2i2Kp9t5AOelwa1T53kDf/2AhFPHeQEhpZ1xr8N5Agpn4yErx3kBwKVAVa/PeQIjWTZ1C9t5A2ldOXUn53kCbB0Tpr/zeQDILPRno/t5AjTY3GrwB30CAooBFmQTfQLMo1aHGBd9ACfAAeOoH30Aj8Q+cbgrfQOcsY3aHDd9A3oUhe78Q30CDZNZ4/hPfQJbE0wW1F99AqICmRKwb30Cyr7Dt8B/fQFVGliKsJN9Ah1tYImkq30A=\",\"dtype\":\"float64\",\"order\":\"little\",\"shape\":[181]}},\"selected\":{\"id\":\"1634\"},\"selection_policy\":{\"id\":\"1635\"}},\"id\":\"1566\",\"type\":\"ColumnDataSource\"},{\"attributes\":{\"axis\":{\"id\":\"1544\"},\"ticker\":null},\"id\":\"1547\",\"type\":\"Grid\"},{\"attributes\":{},\"id\":\"1545\",\"type\":\"BasicTicker\"},{\"attributes\":{},\"id\":\"1553\",\"type\":\"WheelZoomTool\"},{\"attributes\":{\"axis_label\":\"Spectrum\",\"axis_label_text_font\":\"times\",\"axis_label_text_font_size\":\"14pt\",\"axis_label_text_font_style\":\"bold\",\"formatter\":{\"id\":\"1628\"},\"major_label_policy\":{\"id\":\"1629\"},\"major_label_text_font\":\"times\",\"major_label_text_font_size\":\"14pt\",\"ticker\":{\"id\":\"1549\"}},\"id\":\"1548\",\"type\":\"LinearAxis\"},{\"attributes\":{\"axis\":{\"id\":\"1548\"},\"dimension\":1,\"ticker\":null},\"id\":\"1551\",\"type\":\"Grid\"},{\"attributes\":{\"line_color\":\"#0072B2\",\"line_width\":3,\"x\":{\"field\":\"x\"},\"y\":{\"field\":\"y\"}},\"id\":\"1567\",\"type\":\"Line\"},{\"attributes\":{},\"id\":\"1628\",\"type\":\"BasicTickFormatter\"},{\"attributes\":{},\"id\":\"1549\",\"type\":\"BasicTicker\"},{\"attributes\":{},\"id\":\"1629\",\"type\":\"AllLabels\"},{\"attributes\":{},\"id\":\"1557\",\"type\":\"HelpTool\"},{\"attributes\":{\"active_multi\":null,\"tools\":[{\"id\":\"1552\"},{\"id\":\"1553\"},{\"id\":\"1554\"},{\"id\":\"1555\"},{\"id\":\"1556\"},{\"id\":\"1557\"}]},\"id\":\"1559\",\"type\":\"Toolbar\"},{\"attributes\":{},\"id\":\"1552\",\"type\":\"PanTool\"},{\"attributes\":{\"overlay\":{\"id\":\"1558\"}},\"id\":\"1554\",\"type\":\"BoxZoomTool\"}],\"root_ids\":[\"1535\"]},\"title\":\"Bokeh Application\",\"version\":\"2.3.3\"}};\n",
       "  var render_items = [{\"docid\":\"eab11730-e389-471e-8460-0acf3982a344\",\"root_ids\":[\"1535\"],\"roots\":{\"1535\":\"025fa0b1-10f1-4bd2-a0b4-b0a71bbf18d0\"}}];\n",
       "  root.Bokeh.embed.embed_items_notebook(docs_json, render_items);\n",
       "\n",
       "  }\n",
       "  if (root.Bokeh !== undefined) {\n",
       "    embed_document(root);\n",
       "  } else {\n",
       "    var attempts = 0;\n",
       "    var timer = setInterval(function(root) {\n",
       "      if (root.Bokeh !== undefined) {\n",
       "        clearInterval(timer);\n",
       "        embed_document(root);\n",
       "      } else {\n",
       "        attempts++;\n",
       "        if (attempts > 100) {\n",
       "          clearInterval(timer);\n",
       "          console.log(\"Bokeh: ERROR: Unable to run BokehJS code because BokehJS library is missing\");\n",
       "        }\n",
       "      }\n",
       "    }, 10, root)\n",
       "  }\n",
       "})(window);"
      ],
      "application/vnd.bokehjs_exec.v0+json": ""
     },
     "metadata": {
      "application/vnd.bokehjs_exec.v0+json": {
       "id": "1535"
      }
     },
     "output_type": "display_data"
    }
   ],
   "source": [
    "jpi.show(jpi.spectrum(wno,rprs2*1e6,plot_width=500))"
   ]
  },
  {
   "cell_type": "markdown",
   "metadata": {},
   "source": [
    "## Adding Grey Cloud\n",
    "\n",
    "If you want to test the observability of your features against varying strengths of cloud optical depth, you can use the `cloud` box model function \n",
    "\n",
    "Remember: \n",
    "\n",
    "- `p` is the maximum cloud pressure in log. Max Pressure = 10^p bars \n",
    "- `dp` is the thickness in log. Minimum Pressure = 10^(p-dp) bars\n",
    "- In order to simulate an optically thick cloud deck, set `opd` arbitrarily large (>1)\n",
    "- In transit, the asymmetry and single scattering albedo are not used and can be set to anything between 0-1\n"
   ]
  },
  {
   "cell_type": "code",
   "execution_count": 6,
   "metadata": {},
   "outputs": [
    {
     "data": {
      "text/html": [
       "\n",
       "\n",
       "\n",
       "\n",
       "\n",
       "\n",
       "  <div class=\"bk-root\" id=\"13356363-a40c-4863-ade9-c5c258f7b12b\" data-root-id=\"1691\"></div>\n"
      ]
     },
     "metadata": {},
     "output_type": "display_data"
    },
    {
     "data": {
      "application/javascript": [
       "(function(root) {\n",
       "  function embed_document(root) {\n",
       "    \n",
       "  var docs_json = {\"53c21231-eb9a-4e34-93a5-0937c5642694\":{\"defs\":[],\"roots\":{\"references\":[{\"attributes\":{\"below\":[{\"id\":\"1700\"}],\"center\":[{\"id\":\"1703\"},{\"id\":\"1707\"}],\"height\":345,\"left\":[{\"id\":\"1704\"},{\"id\":\"1734\"}],\"renderers\":[{\"id\":\"1726\"},{\"id\":\"1732\"}],\"title\":{\"id\":\"1803\"},\"toolbar\":{\"id\":\"1715\"},\"width\":500,\"x_range\":{\"id\":\"1692\"},\"x_scale\":{\"id\":\"1696\"},\"y_range\":{\"id\":\"1694\"},\"y_scale\":{\"id\":\"1698\"}},\"id\":\"1691\",\"subtype\":\"Figure\",\"type\":\"Plot\"},{\"attributes\":{},\"id\":\"1713\",\"type\":\"HelpTool\"},{\"attributes\":{\"line_color\":\"#E69F00\",\"line_width\":3,\"x\":{\"field\":\"x\"},\"y\":{\"field\":\"y\"}},\"id\":\"1729\",\"type\":\"Line\"},{\"attributes\":{},\"id\":\"1806\",\"type\":\"AllLabels\"},{\"attributes\":{\"data\":{\"x\":{\"__ndarray__\":\"Wi4x8Af7/z8rVWHTocT/P7vn1j6Yjv8/ZjoslepY/z/iXAc6mCP/P+dSGJKg7v4/zE8XAwO6/j8f9cLzvoX+PzuU3svTUf4/7XIw9EAe/j/qEoDWBev9Pz98lN0huP0/vIoydZSF/T8fPhsKXVP9PzoNCgp7If0/6juz4+3v/D/dM8IGtb78Pyzg1+PPjfw/wguJ7D1d/D+KwlyT/iz8P1a1yksR/fs/kqA5inXN+z+dtf3DKp77P+gGV28wb/s/s/ZvA4ZA+z+EqFv4KhL7Pzh1FMce5Po/umF66WC2+j9cmFHa8Ij6P77kQBXOW/o/UjLQFvgu+j9rDWdcbgL6P9gmS2Qw1vk/CtqerT2q+T+4tV+4lX75PwIHZQU4U/k/EmdeFiQo+T8qS9JtWf34PzaXHI/X0vg/szJt/p2o+D8UoMZArH74P4OW/NsBVfg/BZ6yVp4r+D/7rVo4gQL4P/7NMwmq2fc/EblIUhix9z8bg26dy4j3P79AQ3XDYPc/b7EsZf849z/K61b5fhH3Pz8Ms75B6vY/5OX1QkfD9j+WtZYUj5z2P0DXzcIYdvY/Xn2T3eNP9j+sap717yn2PwKuYpw8BPY/T2AQZMne9T/GZJLflbn1Px4rjaKhlPU/+nNdQexv9T9aFxdRdUv1PzTNg2c8J/U/EPghG0ED9T+9cSMDg9/0PwVabLcBvPQ/deeR0LyY9D8eOtnns3X0P2AwNpfmUvQ/qj1KeVQw9D81Q2Mp/Q30P7xqekPg6/M/HQMzZP3J8z/yXtkoVKjzPxG1YS/khvM/9QJnFq1l8z8V8Sl9rkTzPw25jwPoI/M/uA0hSlkD8z8fBQnyAePyPz0EFJ3hwvI/m6yu7fei8j/Iy+SGRIPyP45MYAzHY/I/BSpoIn9E8j9sZN9tbCXyP7/3Q5SOBvI/FtStO+Xn8T/G180KcMnxP0rL7Kguq/E/xl7qvSCN8T9rKTzyRW/xP2uq7O6dUfE/ukuaXSg08T9xZnbo5BbxP9dIRDrT+fA/Jz5Y/vLc8D/kl5bgQ8DwP+a4co3Fo/A//CHusXeH8D8qgJf7WWvwP428iRhsT/A/yw1rt60z8D8mC2yHHhjwPyuCjXB8+e8/6Y579BjD7z+Jsjb8EY3vP9/bYOpmV+8/O6inIhci7z8PnMIJIu3uP6RecQWHuO4/zPh5fEWE7j+dFqfWXFDuPwxMxnzMHO4/jVym2JPp7T+dhRVVsrbtPyzM310nhO0/8EzNX/JR7T+dj6DIEiDtP+fcFAeI7uw/ZZfcilG97D89l5/EbozsP6GI+SXfW+w/CU14IaIr7D88X5oqt/vrPwg6zbUdzOs/u8FrONWc6z9IsLwo3W3rPygE8f00P+s/2HEiMNwQ6z//11E40uLqPz+2ZZAWteo/lKYos6iH6j9Z2UcciFrqP9yTUUi0Leo/gLGztCwB6j9jJ7rf8NTpP6KKjUgAqek/Bpkxb1p96T87xIPU/lHpP4a/OfrsJuk/5g/gYiT86D+tntiRpNHoP4dOWQttp+g/5ZJqVH196D/XCeby1FPoPzwYdW1zKug/VoiPS1gB6D+6KnoVg9jnP4p5RVTzr+c/DD7MkaiH5z+JOLJYol/nP3LKYjTgN+c/06IPsWEQ5z8Dba9bJunmP42B/MEtwuY/W5lzcneb5j8Tg1L8AnXmP6falu/PTuY/F8P83N0o5j9Tov1VLAPmP1Xfzuy63eU/UKJgNIm45T8Il1zAlpPlPz6xJCXjbuU/QfPR921K5T+INjPONiblP2L2yz49AuU/uBzT4IDe5D/W0DFMAbvkPzhIghm+l+Q/Y5kO4rZ05D+3kM8/61HkPz+Ha81aL+Q/gTs1JgUN5D85rCrm6erjPxP186kIyeM/Ry3iDmGn4z8ySO6y8oXjP8T3tzS9ZOM/6ZCEM8BD4z8=\",\"dtype\":\"float64\",\"order\":\"little\",\"shape\":[181]},\"y\":{\"__ndarray__\":\"jqk6sKGRWUC27qtedCBeQAwqCS4Vdl5Av63jyyIeXUBtCRr2NY5gQLdlhXpJYlxASGtYhgkjVECweWc8SLxTQJQAGccav1xAGADe6y4XVkDxDzA8MWRgQCXtoTTK8VlAvxBzsmGiWUCdN9GSH59VQOLaBpmJ5lZAn4iCcyBAWUC+hj2FTetPQJpfPPii0lFAK/wIVvdwRkDCCSnMH8IeQKQ9Un7BtDhA1jjl60YtK0BKJgsL1rohwN6zqNV9myzAYBDrjTdJRcB8GAkPv2NDwL750zmTtUfAE3klLGqTRcAKU5CrMRhGwLrt7IJi5UXAia1VNH0YRcBr1EbYa9dBwJAcmqo9J0XANZZo5TCQQMAaTczwnTdAwNTve7EhojPAnGSWAmRSLsBQS7CohO7Pv2JMSvs4BxTAj8WSyCS6PkDQYBqLtAhEQIlTfJ++XUxA2vmxxKdDT0AjhpukZF5RQBNRmITCBVFAaPeHBCOOXECT2neU1JNgQJXIHpa8+FtAV4BPh6eZXUAktEu9WnxeQLCXG5fvnGVAb+LmNujHZkBbVYnrkm1kQGBLZWEdlWJAn0cayoPmYkDpFkRgi+5iQCo4e4Cqx2JAflnIVLKnYkBLqqvYC0pjQKYiWCwzO2JAbmMpo/dlVUDK64xiopJFQC415xFwXDfAspiaeHUlPMCJ9Y4xa6E0wFbWsKxDCz3Ala+sKgGwPMDnHn9HbcZCwGITMyXP6kTAFT0vNKOKSMAHbeUgavdHwNLW3IX++kbAoyR4u4eoRMDF7W+cXgpDwNZZ6i+2Gz7AhcwFP8H8QcD4tsHDG103wLX3eC20tCvApANeZ/l57z8ofQA7VgknQGWysBGJh0NAEs4L4WSnMEA/hJ0APIU6QBlRZZXg5jVAiK/PZApULUDwrZ3e7BdOQBY1PWJcdiJANt9DIhidSEBCV/8iyW00QHCTQtHpzMM/weE8u6JhK8A0T3sSV9RBwNzMpoBAVknAhD77DRHTSsCqESLjL1pKwGrWB3fcIkrANs+voyH/S8ARouKIPKBLwF4m0Q65FkzA0GaBGLOJS8Dl64RPnCVLwK/vuJZAvUnABOboNiePSMCuchuvzFtFwG7ilnae/ULAzBkBxImrNsAWqg9OIJY0wCSUEObYsCLAYajuNtn0OsAcHAiIGsIJwBQ4VryyLilA1E+1mcE1KEACztcGnfIrQMipdIE/fjdAUnS2dW90M0Bme0d8UyRAQFbUsLn/NUDA1jtO3K6bP8AVH8IrXmdDwEtnPwW3A0bAswQGmrAtQMC0/QKRgNdGwP2nBBuze0zAj9BSBGYnTMAOd8HAVzZMwB+xvnFOOkzA2SRHkBX7S8DsRgmFjqVLwHRe6tpPbkvAoqerhGqcSMBIQdM8QtJIwHCgUwYTB0jAHp9ekiAURcAKKiiRT21HwCjO1ltNlUbAVwmg6OoiRMBjP83/ttZIwEirXAaNRErAp/JokTeUS8AxdjB0M8dLwF0VCbzLh0rA4BGxWij/SsCQzZNeNn9JwOjduddJWD5AOTk+S/HmSEBSMZbQlwtKwIpfpISbe0rA7bH0lg95ScCB6X0D+1RKwB6sM5SmmkjAm0pGI8HvR8Ck84bvmBtHwIsLsceNf0bALQYnY4nkRcBYuR6KhRRHwLsr085sjUrAu6rg2PHiSsArdg64/YdKwMf4W1pM4UvAFfBh1IFJScAaO00boYlMwNNV5Q35mEzADiHBNQ+hTMAlPM3e1o5MwGkDoLl/X0zA81LIwLYiTMCHR9EF+JFLwLh5Nj77oEvApPiERlA2S8AbVYbZcfBKwL755nBAcUvAI9avTqZ5S8CpBmikHlpLwDH6cI0I8UrAcDYrN7F3SsDlXmR6fP5JwCzOpZFUK0nAwH8feAYCSMB9bV+xHEVGwGsmEKcNk0PAp/pPfkU8PsA=\",\"dtype\":\"float64\",\"order\":\"little\",\"shape\":[181]}},\"selected\":{\"id\":\"1813\"},\"selection_policy\":{\"id\":\"1814\"}},\"id\":\"1728\",\"type\":\"ColumnDataSource\"},{\"attributes\":{\"axis\":{\"id\":\"1700\"},\"ticker\":null},\"id\":\"1703\",\"type\":\"Grid\"},{\"attributes\":{\"line_alpha\":0.2,\"line_color\":\"#E69F00\",\"line_width\":3,\"x\":{\"field\":\"x\"},\"y\":{\"field\":\"y\"}},\"id\":\"1731\",\"type\":\"Line\"},{\"attributes\":{\"line_color\":\"#0072B2\",\"line_width\":3,\"x\":{\"field\":\"x\"},\"y\":{\"field\":\"y\"}},\"id\":\"1723\",\"type\":\"Line\"},{\"attributes\":{},\"id\":\"1811\",\"type\":\"Selection\"},{\"attributes\":{},\"id\":\"1814\",\"type\":\"UnionRenderers\"},{\"attributes\":{},\"id\":\"1698\",\"type\":\"LinearScale\"},{\"attributes\":{},\"id\":\"1701\",\"type\":\"BasicTicker\"},{\"attributes\":{\"bottom_units\":\"screen\",\"fill_alpha\":0.5,\"fill_color\":\"lightgrey\",\"left_units\":\"screen\",\"level\":\"overlay\",\"line_alpha\":1.0,\"line_color\":\"black\",\"line_dash\":[4,4],\"line_width\":2,\"right_units\":\"screen\",\"syncable\":false,\"top_units\":\"screen\"},\"id\":\"1714\",\"type\":\"BoxAnnotation\"},{\"attributes\":{\"click_policy\":\"mute\",\"items\":[{\"id\":\"1735\"},{\"id\":\"1736\"}],\"location\":[0,0]},\"id\":\"1734\",\"type\":\"Legend\"},{\"attributes\":{\"active_multi\":null,\"tools\":[{\"id\":\"1708\"},{\"id\":\"1709\"},{\"id\":\"1710\"},{\"id\":\"1711\"},{\"id\":\"1712\"},{\"id\":\"1713\"}]},\"id\":\"1715\",\"type\":\"Toolbar\"},{\"attributes\":{},\"id\":\"1696\",\"type\":\"LinearScale\"},{\"attributes\":{},\"id\":\"1803\",\"type\":\"Title\"},{\"attributes\":{},\"id\":\"1708\",\"type\":\"PanTool\"},{\"attributes\":{\"label\":{\"value\":\"Grey cloud\"},\"renderers\":[{\"id\":\"1732\"}]},\"id\":\"1736\",\"type\":\"LegendItem\"},{\"attributes\":{},\"id\":\"1705\",\"type\":\"BasicTicker\"},{\"attributes\":{\"axis_label\":\"Wavelength [\\u03bcm]\",\"axis_label_text_font\":\"times\",\"axis_label_text_font_size\":\"14pt\",\"axis_label_text_font_style\":\"bold\",\"formatter\":{\"id\":\"1808\"},\"major_label_policy\":{\"id\":\"1809\"},\"major_label_text_font\":\"times\",\"major_label_text_font_size\":\"14pt\",\"ticker\":{\"id\":\"1701\"}},\"id\":\"1700\",\"type\":\"LinearAxis\"},{\"attributes\":{},\"id\":\"1709\",\"type\":\"WheelZoomTool\"},{\"attributes\":{},\"id\":\"1711\",\"type\":\"SaveTool\"},{\"attributes\":{\"source\":{\"id\":\"1722\"}},\"id\":\"1727\",\"type\":\"CDSView\"},{\"attributes\":{\"line_alpha\":0.2,\"line_color\":\"#0072B2\",\"line_width\":3,\"x\":{\"field\":\"x\"},\"y\":{\"field\":\"y\"}},\"id\":\"1725\",\"type\":\"Line\"},{\"attributes\":{},\"id\":\"1808\",\"type\":\"BasicTickFormatter\"},{\"attributes\":{},\"id\":\"1812\",\"type\":\"UnionRenderers\"},{\"attributes\":{\"line_alpha\":0.1,\"line_color\":\"#E69F00\",\"line_width\":3,\"x\":{\"field\":\"x\"},\"y\":{\"field\":\"y\"}},\"id\":\"1730\",\"type\":\"Line\"},{\"attributes\":{},\"id\":\"1813\",\"type\":\"Selection\"},{\"attributes\":{},\"id\":\"1809\",\"type\":\"AllLabels\"},{\"attributes\":{\"overlay\":{\"id\":\"1714\"}},\"id\":\"1710\",\"type\":\"BoxZoomTool\"},{\"attributes\":{},\"id\":\"1694\",\"type\":\"DataRange1d\"},{\"attributes\":{\"data_source\":{\"id\":\"1728\"},\"glyph\":{\"id\":\"1729\"},\"hover_glyph\":null,\"muted_glyph\":{\"id\":\"1731\"},\"nonselection_glyph\":{\"id\":\"1730\"},\"view\":{\"id\":\"1733\"}},\"id\":\"1732\",\"type\":\"GlyphRenderer\"},{\"attributes\":{},\"id\":\"1712\",\"type\":\"ResetTool\"},{\"attributes\":{\"axis\":{\"id\":\"1704\"},\"dimension\":1,\"ticker\":null},\"id\":\"1707\",\"type\":\"Grid\"},{\"attributes\":{},\"id\":\"1805\",\"type\":\"BasicTickFormatter\"},{\"attributes\":{\"data\":{\"x\":{\"__ndarray__\":\"Wi4x8Af7/z8rVWHTocT/P7vn1j6Yjv8/ZjoslepY/z/iXAc6mCP/P+dSGJKg7v4/zE8XAwO6/j8f9cLzvoX+PzuU3svTUf4/7XIw9EAe/j/qEoDWBev9Pz98lN0huP0/vIoydZSF/T8fPhsKXVP9PzoNCgp7If0/6juz4+3v/D/dM8IGtb78Pyzg1+PPjfw/wguJ7D1d/D+KwlyT/iz8P1a1yksR/fs/kqA5inXN+z+dtf3DKp77P+gGV28wb/s/s/ZvA4ZA+z+EqFv4KhL7Pzh1FMce5Po/umF66WC2+j9cmFHa8Ij6P77kQBXOW/o/UjLQFvgu+j9rDWdcbgL6P9gmS2Qw1vk/CtqerT2q+T+4tV+4lX75PwIHZQU4U/k/EmdeFiQo+T8qS9JtWf34PzaXHI/X0vg/szJt/p2o+D8UoMZArH74P4OW/NsBVfg/BZ6yVp4r+D/7rVo4gQL4P/7NMwmq2fc/EblIUhix9z8bg26dy4j3P79AQ3XDYPc/b7EsZf849z/K61b5fhH3Pz8Ms75B6vY/5OX1QkfD9j+WtZYUj5z2P0DXzcIYdvY/Xn2T3eNP9j+sap717yn2PwKuYpw8BPY/T2AQZMne9T/GZJLflbn1Px4rjaKhlPU/+nNdQexv9T9aFxdRdUv1PzTNg2c8J/U/EPghG0ED9T+9cSMDg9/0PwVabLcBvPQ/deeR0LyY9D8eOtnns3X0P2AwNpfmUvQ/qj1KeVQw9D81Q2Mp/Q30P7xqekPg6/M/HQMzZP3J8z/yXtkoVKjzPxG1YS/khvM/9QJnFq1l8z8V8Sl9rkTzPw25jwPoI/M/uA0hSlkD8z8fBQnyAePyPz0EFJ3hwvI/m6yu7fei8j/Iy+SGRIPyP45MYAzHY/I/BSpoIn9E8j9sZN9tbCXyP7/3Q5SOBvI/FtStO+Xn8T/G180KcMnxP0rL7Kguq/E/xl7qvSCN8T9rKTzyRW/xP2uq7O6dUfE/ukuaXSg08T9xZnbo5BbxP9dIRDrT+fA/Jz5Y/vLc8D/kl5bgQ8DwP+a4co3Fo/A//CHusXeH8D8qgJf7WWvwP428iRhsT/A/yw1rt60z8D8mC2yHHhjwPyuCjXB8+e8/6Y579BjD7z+Jsjb8EY3vP9/bYOpmV+8/O6inIhci7z8PnMIJIu3uP6RecQWHuO4/zPh5fEWE7j+dFqfWXFDuPwxMxnzMHO4/jVym2JPp7T+dhRVVsrbtPyzM310nhO0/8EzNX/JR7T+dj6DIEiDtP+fcFAeI7uw/ZZfcilG97D89l5/EbozsP6GI+SXfW+w/CU14IaIr7D88X5oqt/vrPwg6zbUdzOs/u8FrONWc6z9IsLwo3W3rPygE8f00P+s/2HEiMNwQ6z//11E40uLqPz+2ZZAWteo/lKYos6iH6j9Z2UcciFrqP9yTUUi0Leo/gLGztCwB6j9jJ7rf8NTpP6KKjUgAqek/Bpkxb1p96T87xIPU/lHpP4a/OfrsJuk/5g/gYiT86D+tntiRpNHoP4dOWQttp+g/5ZJqVH196D/XCeby1FPoPzwYdW1zKug/VoiPS1gB6D+6KnoVg9jnP4p5RVTzr+c/DD7MkaiH5z+JOLJYol/nP3LKYjTgN+c/06IPsWEQ5z8Dba9bJunmP42B/MEtwuY/W5lzcneb5j8Tg1L8AnXmP6falu/PTuY/F8P83N0o5j9Tov1VLAPmP1Xfzuy63eU/UKJgNIm45T8Il1zAlpPlPz6xJCXjbuU/QfPR921K5T+INjPONiblP2L2yz49AuU/uBzT4IDe5D/W0DFMAbvkPzhIghm+l+Q/Y5kO4rZ05D+3kM8/61HkPz+Ha81aL+Q/gTs1JgUN5D85rCrm6erjPxP186kIyeM/Ry3iDmGn4z8ySO6y8oXjP8T3tzS9ZOM/6ZCEM8BD4z8=\",\"dtype\":\"float64\",\"order\":\"little\",\"shape\":[181]},\"y\":{\"__ndarray__\":\"8+WzenvWakCB6YcC5ktuQHAKmjSa0m1AQdiBK+SsbED1r2LQ7pRvQGK+13QXVm1ARIttiSxYZkCRdo5bAENmQGHtlaD9dGxArVEFnXkwaUAFxPId++puQBX2LXnbRmpADVJDr1AwakBxq8oB4LBmQMYjXNXzjmdA4N6qJ7WTaUAo+HHbZ8ZiQFe/mJ9cX2NA/f3MZx8kWkB5PESrz+88QLMVqEPsHlBA4zH/WvseR0CyS+0/vzklwI7p7W5LrEHAH351IgvqXsDK3yf44cxgwCRvY+GQImPAD0yGSstkYMAi7W7PfbdewGf4oAU8w13AgpiPecceWcBqWzO9Xb9UwOIi5dP5A1TAMnj8O8SORcAPNPSebQI/wGxNg0MmlQRA3vX+bViDOUB+T+R0uvpJQCeiefrQaEhAzGVO3pqwXkDhuxn9QlFgQCs4MBslOGRAQ4Q/aU1iY0AOIyS7S0JmQFUmM61aJGVA5lclC1g2bUAI9aUxbxxwQAyiPJ82KW1A33jOVmM4bkB4WnrhL8NuQDbYVPHmNnNAwSur0li5c0BlFPvhf4JyQPMDSp9e/nBAQz70kv7YcED0vO6P45ZxQOQk13g6UXFAJ8T4K+DpcEBfDsLaO5BwQLvaa9duHnBAWL1BpneXZUDnSxCcUz1VQESzFJeK7krAJmWB5w4LVMDxfMqHgRZVwHNnKM7MhV3Aa/h5BS/oYcDsSlDKE8tiwKqnLw3WEGPAG1YuMVomYsDUezaokxBjwOtFLLUPomDATe0zizdXWsDKmbNB/KVXwKvVm/qvMEzAJgCumVJyT8CPIbDCtYI3wBJt4rNSqg/AUgy5YzPiSEDRuByOaRpKQF1o6tC5alpAaVupqhvVUUDKjE1iKThQQDsbI3UbqlJABtJJH1rXUEBJ4CEEwWVgQIgJzxb7mjlA/DPFT4RnWkAS/xL3UF1EQKQKC8SvlSbAUrdPY5PeMcD7cHD2JiZcwGlr4Ufv0GvA1R8+418acMCwzv6N1cdvwHuIS/ilGW7AJc80mAJJcMDBHKEZRV9twF2ZEuN85m7AnGVIzZhTa8C25otIEClowOUODIRHeWLA3y8MLuypYMBvQARlU35ZwMqFGrQNPVHAp3Dqf52fQMCSaEYdaGY2wOrQ93ja7yRAToFa3+RtMcDPcI0pggchwCywiENzLUhAlyphT+6IR0CEPrmSXP5DQIPqVSnh4FBALLIaV2lnUEAWKcqvOoJFQFkeMXPUm1nA+NC2qQesWsBTmZLlnEdiwGFj6u1/7mPATrdXIdi4XsBwwZUPwRBmwMm8m4QCI23APaiRE3Gma8C1gAjbD65qwMhHchTSf2nAdc9UBUKSZ8Akq4ceKtJlwNaxFyctj2TANMZdOeQoYMAqhX+hfzlgwBoQu8KpXlvAICs3Ppj9VcDnc3vTLCRawMeQIQCkaVbAS3JpwtHITcCj+R9ub5tUwFaiKOXtwlXA86387nSTVcDYyflgapVSwKeMxRTTcEjAtZzm91ODQMAWzug6GKoZQHxVBBeLuWRAjijEiZ85ZkDSQ5X3L6QhwEftX2AYoDzAApFShv2RQcA/xdtnwDFKwBhYExCC5EfAi1wJyRbrScDILU/5wlZOwNy+mgbFNU3A/8VFS71sScB82fOzfqFQwAJgrfSnEFjAqMYVWEM9WsAYn4gxzmpZwB2ArZAiQlzAGWL6qhmXWcAq3nHdsetgwIQpPVoUQGHApAylEV7QYMCNKrrLb4BfwP4SDc7nqFzAd8CLzSeiWcBPANzXmztWwDFp2N5rA1TAyA2t5GovUcD1NII2f6RMwN/PdY3GSUrA6yLnNRoCRsAC7+QX0vlAwHHR2uI6kDXACObt0k9gIcAogA6oOy8RQNTtg98CJjNApxk6FX+BQUAFLpgp0QpKQKS5YnqdwFFAVex3PJ19V0A=\",\"dtype\":\"float64\",\"order\":\"little\",\"shape\":[181]}},\"selected\":{\"id\":\"1811\"},\"selection_policy\":{\"id\":\"1812\"}},\"id\":\"1722\",\"type\":\"ColumnDataSource\"},{\"attributes\":{\"source\":{\"id\":\"1728\"}},\"id\":\"1733\",\"type\":\"CDSView\"},{\"attributes\":{},\"id\":\"1692\",\"type\":\"DataRange1d\"},{\"attributes\":{\"label\":{\"value\":\"Cloud free\"},\"renderers\":[{\"id\":\"1726\"}]},\"id\":\"1735\",\"type\":\"LegendItem\"},{\"attributes\":{\"data_source\":{\"id\":\"1722\"},\"glyph\":{\"id\":\"1723\"},\"hover_glyph\":null,\"muted_glyph\":{\"id\":\"1725\"},\"nonselection_glyph\":{\"id\":\"1724\"},\"view\":{\"id\":\"1727\"}},\"id\":\"1726\",\"type\":\"GlyphRenderer\"},{\"attributes\":{\"line_alpha\":0.1,\"line_color\":\"#0072B2\",\"line_width\":3,\"x\":{\"field\":\"x\"},\"y\":{\"field\":\"y\"}},\"id\":\"1724\",\"type\":\"Line\"},{\"attributes\":{\"axis_label\":\"Spectrum\",\"axis_label_text_font\":\"times\",\"axis_label_text_font_size\":\"14pt\",\"axis_label_text_font_style\":\"bold\",\"formatter\":{\"id\":\"1805\"},\"major_label_policy\":{\"id\":\"1806\"},\"major_label_text_font\":\"times\",\"major_label_text_font_size\":\"14pt\",\"ticker\":{\"id\":\"1705\"}},\"id\":\"1704\",\"type\":\"LinearAxis\"}],\"root_ids\":[\"1691\"]},\"title\":\"Bokeh Application\",\"version\":\"2.3.3\"}};\n",
       "  var render_items = [{\"docid\":\"53c21231-eb9a-4e34-93a5-0937c5642694\",\"root_ids\":[\"1691\"],\"roots\":{\"1691\":\"13356363-a40c-4863-ade9-c5c258f7b12b\"}}];\n",
       "  root.Bokeh.embed.embed_items_notebook(docs_json, render_items);\n",
       "\n",
       "  }\n",
       "  if (root.Bokeh !== undefined) {\n",
       "    embed_document(root);\n",
       "  } else {\n",
       "    var attempts = 0;\n",
       "    var timer = setInterval(function(root) {\n",
       "      if (root.Bokeh !== undefined) {\n",
       "        clearInterval(timer);\n",
       "        embed_document(root);\n",
       "      } else {\n",
       "        attempts++;\n",
       "        if (attempts > 100) {\n",
       "          clearInterval(timer);\n",
       "          console.log(\"Bokeh: ERROR: Unable to run BokehJS code because BokehJS library is missing\");\n",
       "        }\n",
       "      }\n",
       "    }, 10, root)\n",
       "  }\n",
       "})(window);"
      ],
      "application/vnd.bokehjs_exec.v0+json": ""
     },
     "metadata": {
      "application/vnd.bokehjs_exec.v0+json": {
       "id": "1691"
      }
     },
     "output_type": "display_data"
    }
   ],
   "source": [
    "case1.clouds(p = [1], dp=[4], opd=[1], g0=[0], w0=[0])\n",
    "\n",
    "df_gry= case1.spectrum(opa, full_output=True,calculation='transmission') #note the new last key \n",
    "\n",
    "wno, rprs2_gry  = df_gry['wavenumber'] , df_gry['transit_depth']\n",
    "wno, rprs2_gry = jdi.mean_regrid(wno, rprs2_gry, R=150)\n",
    "full_output_gry = df_gry['full_output']\n",
    "\n",
    "jpi.show(jpi.spectrum([wno, wno],[1e6*(rprs2-np.mean(rprs2))\n",
    "                              , (rprs2_gry-np.mean(rprs2_gry))*1e6],\n",
    "                  legend=['Cloud free','Grey cloud'],\n",
    "                  plot_width=500))\n"
   ]
  },
  {
   "cell_type": "markdown",
   "metadata": {},
   "source": [
    "## Adding Cloud From Model Output"
   ]
  },
  {
   "cell_type": "code",
   "execution_count": 7,
   "metadata": {},
   "outputs": [
    {
     "data": {
      "text/html": [
       "\n",
       "\n",
       "\n",
       "\n",
       "\n",
       "\n",
       "  <div class=\"bk-root\" id=\"e7692d6e-ec3a-41c9-b5cb-da794864e86a\" data-root-id=\"1880\"></div>\n"
      ]
     },
     "metadata": {},
     "output_type": "display_data"
    },
    {
     "data": {
      "application/javascript": [
       "(function(root) {\n",
       "  function embed_document(root) {\n",
       "    \n",
       "  var docs_json = {\"977d2961-a040-4ace-afdb-986c4ec5933b\":{\"defs\":[],\"roots\":{\"references\":[{\"attributes\":{\"below\":[{\"id\":\"1889\"}],\"center\":[{\"id\":\"1892\"},{\"id\":\"1896\"}],\"height\":345,\"left\":[{\"id\":\"1893\"},{\"id\":\"1929\"}],\"renderers\":[{\"id\":\"1915\"},{\"id\":\"1921\"},{\"id\":\"1927\"}],\"title\":{\"id\":\"2012\"},\"toolbar\":{\"id\":\"1904\"},\"width\":500,\"x_range\":{\"id\":\"1881\"},\"x_scale\":{\"id\":\"1885\"},\"y_range\":{\"id\":\"1883\"},\"y_scale\":{\"id\":\"1887\"}},\"id\":\"1880\",\"subtype\":\"Figure\",\"type\":\"Plot\"},{\"attributes\":{},\"id\":\"1901\",\"type\":\"ResetTool\"},{\"attributes\":{},\"id\":\"2017\",\"type\":\"BasicTickFormatter\"},{\"attributes\":{},\"id\":\"1883\",\"type\":\"DataRange1d\"},{\"attributes\":{\"line_alpha\":0.1,\"line_color\":\"#0072B2\",\"line_width\":3,\"x\":{\"field\":\"x\"},\"y\":{\"field\":\"y\"}},\"id\":\"1913\",\"type\":\"Line\"},{\"attributes\":{\"bottom_units\":\"screen\",\"fill_alpha\":0.5,\"fill_color\":\"lightgrey\",\"left_units\":\"screen\",\"level\":\"overlay\",\"line_alpha\":1.0,\"line_color\":\"black\",\"line_dash\":[4,4],\"line_width\":2,\"right_units\":\"screen\",\"syncable\":false,\"top_units\":\"screen\"},\"id\":\"1903\",\"type\":\"BoxAnnotation\"},{\"attributes\":{},\"id\":\"2024\",\"type\":\"Selection\"},{\"attributes\":{},\"id\":\"2012\",\"type\":\"Title\"},{\"attributes\":{\"data\":{\"x\":{\"__ndarray__\":\"Wi4x8Af7/z8rVWHTocT/P7vn1j6Yjv8/ZjoslepY/z/iXAc6mCP/P+dSGJKg7v4/zE8XAwO6/j8f9cLzvoX+PzuU3svTUf4/7XIw9EAe/j/qEoDWBev9Pz98lN0huP0/vIoydZSF/T8fPhsKXVP9PzoNCgp7If0/6juz4+3v/D/dM8IGtb78Pyzg1+PPjfw/wguJ7D1d/D+KwlyT/iz8P1a1yksR/fs/kqA5inXN+z+dtf3DKp77P+gGV28wb/s/s/ZvA4ZA+z+EqFv4KhL7Pzh1FMce5Po/umF66WC2+j9cmFHa8Ij6P77kQBXOW/o/UjLQFvgu+j9rDWdcbgL6P9gmS2Qw1vk/CtqerT2q+T+4tV+4lX75PwIHZQU4U/k/EmdeFiQo+T8qS9JtWf34PzaXHI/X0vg/szJt/p2o+D8UoMZArH74P4OW/NsBVfg/BZ6yVp4r+D/7rVo4gQL4P/7NMwmq2fc/EblIUhix9z8bg26dy4j3P79AQ3XDYPc/b7EsZf849z/K61b5fhH3Pz8Ms75B6vY/5OX1QkfD9j+WtZYUj5z2P0DXzcIYdvY/Xn2T3eNP9j+sap717yn2PwKuYpw8BPY/T2AQZMne9T/GZJLflbn1Px4rjaKhlPU/+nNdQexv9T9aFxdRdUv1PzTNg2c8J/U/EPghG0ED9T+9cSMDg9/0PwVabLcBvPQ/deeR0LyY9D8eOtnns3X0P2AwNpfmUvQ/qj1KeVQw9D81Q2Mp/Q30P7xqekPg6/M/HQMzZP3J8z/yXtkoVKjzPxG1YS/khvM/9QJnFq1l8z8V8Sl9rkTzPw25jwPoI/M/uA0hSlkD8z8fBQnyAePyPz0EFJ3hwvI/m6yu7fei8j/Iy+SGRIPyP45MYAzHY/I/BSpoIn9E8j9sZN9tbCXyP7/3Q5SOBvI/FtStO+Xn8T/G180KcMnxP0rL7Kguq/E/xl7qvSCN8T9rKTzyRW/xP2uq7O6dUfE/ukuaXSg08T9xZnbo5BbxP9dIRDrT+fA/Jz5Y/vLc8D/kl5bgQ8DwP+a4co3Fo/A//CHusXeH8D8qgJf7WWvwP428iRhsT/A/yw1rt60z8D8mC2yHHhjwPyuCjXB8+e8/6Y579BjD7z+Jsjb8EY3vP9/bYOpmV+8/O6inIhci7z8PnMIJIu3uP6RecQWHuO4/zPh5fEWE7j+dFqfWXFDuPwxMxnzMHO4/jVym2JPp7T+dhRVVsrbtPyzM310nhO0/8EzNX/JR7T+dj6DIEiDtP+fcFAeI7uw/ZZfcilG97D89l5/EbozsP6GI+SXfW+w/CU14IaIr7D88X5oqt/vrPwg6zbUdzOs/u8FrONWc6z9IsLwo3W3rPygE8f00P+s/2HEiMNwQ6z//11E40uLqPz+2ZZAWteo/lKYos6iH6j9Z2UcciFrqP9yTUUi0Leo/gLGztCwB6j9jJ7rf8NTpP6KKjUgAqek/Bpkxb1p96T87xIPU/lHpP4a/OfrsJuk/5g/gYiT86D+tntiRpNHoP4dOWQttp+g/5ZJqVH196D/XCeby1FPoPzwYdW1zKug/VoiPS1gB6D+6KnoVg9jnP4p5RVTzr+c/DD7MkaiH5z+JOLJYol/nP3LKYjTgN+c/06IPsWEQ5z8Dba9bJunmP42B/MEtwuY/W5lzcneb5j8Tg1L8AnXmP6falu/PTuY/F8P83N0o5j9Tov1VLAPmP1Xfzuy63eU/UKJgNIm45T8Il1zAlpPlPz6xJCXjbuU/QfPR921K5T+INjPONiblP2L2yz49AuU/uBzT4IDe5D/W0DFMAbvkPzhIghm+l+Q/Y5kO4rZ05D+3kM8/61HkPz+Ha81aL+Q/gTs1JgUN5D85rCrm6erjPxP186kIyeM/Ry3iDmGn4z8ySO6y8oXjP8T3tzS9ZOM/6ZCEM8BD4z8=\",\"dtype\":\"float64\",\"order\":\"little\",\"shape\":[181]},\"y\":{\"__ndarray__\":\"jqk6sKGRWUC27qtedCBeQAwqCS4Vdl5Av63jyyIeXUBtCRr2NY5gQLdlhXpJYlxASGtYhgkjVECweWc8SLxTQJQAGccav1xAGADe6y4XVkDxDzA8MWRgQCXtoTTK8VlAvxBzsmGiWUCdN9GSH59VQOLaBpmJ5lZAn4iCcyBAWUC+hj2FTetPQJpfPPii0lFAK/wIVvdwRkDCCSnMH8IeQKQ9Un7BtDhA1jjl60YtK0BKJgsL1rohwN6zqNV9myzAYBDrjTdJRcB8GAkPv2NDwL750zmTtUfAE3klLGqTRcAKU5CrMRhGwLrt7IJi5UXAia1VNH0YRcBr1EbYa9dBwJAcmqo9J0XANZZo5TCQQMAaTczwnTdAwNTve7EhojPAnGSWAmRSLsBQS7CohO7Pv2JMSvs4BxTAj8WSyCS6PkDQYBqLtAhEQIlTfJ++XUxA2vmxxKdDT0AjhpukZF5RQBNRmITCBVFAaPeHBCOOXECT2neU1JNgQJXIHpa8+FtAV4BPh6eZXUAktEu9WnxeQLCXG5fvnGVAb+LmNujHZkBbVYnrkm1kQGBLZWEdlWJAn0cayoPmYkDpFkRgi+5iQCo4e4Cqx2JAflnIVLKnYkBLqqvYC0pjQKYiWCwzO2JAbmMpo/dlVUDK64xiopJFQC415xFwXDfAspiaeHUlPMCJ9Y4xa6E0wFbWsKxDCz3Ala+sKgGwPMDnHn9HbcZCwGITMyXP6kTAFT0vNKOKSMAHbeUgavdHwNLW3IX++kbAoyR4u4eoRMDF7W+cXgpDwNZZ6i+2Gz7AhcwFP8H8QcD4tsHDG103wLX3eC20tCvApANeZ/l57z8ofQA7VgknQGWysBGJh0NAEs4L4WSnMEA/hJ0APIU6QBlRZZXg5jVAiK/PZApULUDwrZ3e7BdOQBY1PWJcdiJANt9DIhidSEBCV/8iyW00QHCTQtHpzMM/weE8u6JhK8A0T3sSV9RBwNzMpoBAVknAhD77DRHTSsCqESLjL1pKwGrWB3fcIkrANs+voyH/S8ARouKIPKBLwF4m0Q65FkzA0GaBGLOJS8Dl64RPnCVLwK/vuJZAvUnABOboNiePSMCuchuvzFtFwG7ilnae/ULAzBkBxImrNsAWqg9OIJY0wCSUEObYsCLAYajuNtn0OsAcHAiIGsIJwBQ4VryyLilA1E+1mcE1KEACztcGnfIrQMipdIE/fjdAUnS2dW90M0Bme0d8UyRAQFbUsLn/NUDA1jtO3K6bP8AVH8IrXmdDwEtnPwW3A0bAswQGmrAtQMC0/QKRgNdGwP2nBBuze0zAj9BSBGYnTMAOd8HAVzZMwB+xvnFOOkzA2SRHkBX7S8DsRgmFjqVLwHRe6tpPbkvAoqerhGqcSMBIQdM8QtJIwHCgUwYTB0jAHp9ekiAURcAKKiiRT21HwCjO1ltNlUbAVwmg6OoiRMBjP83/ttZIwEirXAaNRErAp/JokTeUS8AxdjB0M8dLwF0VCbzLh0rA4BGxWij/SsCQzZNeNn9JwOjduddJWD5AOTk+S/HmSEBSMZbQlwtKwIpfpISbe0rA7bH0lg95ScCB6X0D+1RKwB6sM5SmmkjAm0pGI8HvR8Ck84bvmBtHwIsLsceNf0bALQYnY4nkRcBYuR6KhRRHwLsr085sjUrAu6rg2PHiSsArdg64/YdKwMf4W1pM4UvAFfBh1IFJScAaO00boYlMwNNV5Q35mEzADiHBNQ+hTMAlPM3e1o5MwGkDoLl/X0zA81LIwLYiTMCHR9EF+JFLwLh5Nj77oEvApPiERlA2S8AbVYbZcfBKwL755nBAcUvAI9avTqZ5S8CpBmikHlpLwDH6cI0I8UrAcDYrN7F3SsDlXmR6fP5JwCzOpZFUK0nAwH8feAYCSMB9bV+xHEVGwGsmEKcNk0PAp/pPfkU8PsA=\",\"dtype\":\"float64\",\"order\":\"little\",\"shape\":[181]}},\"selected\":{\"id\":\"2022\"},\"selection_policy\":{\"id\":\"2023\"}},\"id\":\"1917\",\"type\":\"ColumnDataSource\"},{\"attributes\":{\"data_source\":{\"id\":\"1923\"},\"glyph\":{\"id\":\"1924\"},\"hover_glyph\":null,\"muted_glyph\":{\"id\":\"1926\"},\"nonselection_glyph\":{\"id\":\"1925\"},\"view\":{\"id\":\"1928\"}},\"id\":\"1927\",\"type\":\"GlyphRenderer\"},{\"attributes\":{\"line_color\":\"#F0E442\",\"line_width\":3,\"x\":{\"field\":\"x\"},\"y\":{\"field\":\"y\"}},\"id\":\"1924\",\"type\":\"Line\"},{\"attributes\":{\"axis\":{\"id\":\"1889\"},\"ticker\":null},\"id\":\"1892\",\"type\":\"Grid\"},{\"attributes\":{\"source\":{\"id\":\"1911\"}},\"id\":\"1916\",\"type\":\"CDSView\"},{\"attributes\":{},\"id\":\"1898\",\"type\":\"WheelZoomTool\"},{\"attributes\":{\"line_color\":\"#E69F00\",\"line_width\":3,\"x\":{\"field\":\"x\"},\"y\":{\"field\":\"y\"}},\"id\":\"1918\",\"type\":\"Line\"},{\"attributes\":{\"source\":{\"id\":\"1923\"}},\"id\":\"1928\",\"type\":\"CDSView\"},{\"attributes\":{},\"id\":\"1881\",\"type\":\"DataRange1d\"},{\"attributes\":{},\"id\":\"1887\",\"type\":\"LinearScale\"},{\"attributes\":{\"data_source\":{\"id\":\"1911\"},\"glyph\":{\"id\":\"1912\"},\"hover_glyph\":null,\"muted_glyph\":{\"id\":\"1914\"},\"nonselection_glyph\":{\"id\":\"1913\"},\"view\":{\"id\":\"1916\"}},\"id\":\"1915\",\"type\":\"GlyphRenderer\"},{\"attributes\":{},\"id\":\"1885\",\"type\":\"LinearScale\"},{\"attributes\":{\"line_alpha\":0.1,\"line_color\":\"#F0E442\",\"line_width\":3,\"x\":{\"field\":\"x\"},\"y\":{\"field\":\"y\"}},\"id\":\"1925\",\"type\":\"Line\"},{\"attributes\":{},\"id\":\"1890\",\"type\":\"BasicTicker\"},{\"attributes\":{},\"id\":\"1902\",\"type\":\"HelpTool\"},{\"attributes\":{},\"id\":\"1900\",\"type\":\"SaveTool\"},{\"attributes\":{\"line_color\":\"#0072B2\",\"line_width\":3,\"x\":{\"field\":\"x\"},\"y\":{\"field\":\"y\"}},\"id\":\"1912\",\"type\":\"Line\"},{\"attributes\":{},\"id\":\"2015\",\"type\":\"AllLabels\"},{\"attributes\":{\"data\":{\"x\":{\"__ndarray__\":\"Wi4x8Af7/z8rVWHTocT/P7vn1j6Yjv8/ZjoslepY/z/iXAc6mCP/P+dSGJKg7v4/zE8XAwO6/j8f9cLzvoX+PzuU3svTUf4/7XIw9EAe/j/qEoDWBev9Pz98lN0huP0/vIoydZSF/T8fPhsKXVP9PzoNCgp7If0/6juz4+3v/D/dM8IGtb78Pyzg1+PPjfw/wguJ7D1d/D+KwlyT/iz8P1a1yksR/fs/kqA5inXN+z+dtf3DKp77P+gGV28wb/s/s/ZvA4ZA+z+EqFv4KhL7Pzh1FMce5Po/umF66WC2+j9cmFHa8Ij6P77kQBXOW/o/UjLQFvgu+j9rDWdcbgL6P9gmS2Qw1vk/CtqerT2q+T+4tV+4lX75PwIHZQU4U/k/EmdeFiQo+T8qS9JtWf34PzaXHI/X0vg/szJt/p2o+D8UoMZArH74P4OW/NsBVfg/BZ6yVp4r+D/7rVo4gQL4P/7NMwmq2fc/EblIUhix9z8bg26dy4j3P79AQ3XDYPc/b7EsZf849z/K61b5fhH3Pz8Ms75B6vY/5OX1QkfD9j+WtZYUj5z2P0DXzcIYdvY/Xn2T3eNP9j+sap717yn2PwKuYpw8BPY/T2AQZMne9T/GZJLflbn1Px4rjaKhlPU/+nNdQexv9T9aFxdRdUv1PzTNg2c8J/U/EPghG0ED9T+9cSMDg9/0PwVabLcBvPQ/deeR0LyY9D8eOtnns3X0P2AwNpfmUvQ/qj1KeVQw9D81Q2Mp/Q30P7xqekPg6/M/HQMzZP3J8z/yXtkoVKjzPxG1YS/khvM/9QJnFq1l8z8V8Sl9rkTzPw25jwPoI/M/uA0hSlkD8z8fBQnyAePyPz0EFJ3hwvI/m6yu7fei8j/Iy+SGRIPyP45MYAzHY/I/BSpoIn9E8j9sZN9tbCXyP7/3Q5SOBvI/FtStO+Xn8T/G180KcMnxP0rL7Kguq/E/xl7qvSCN8T9rKTzyRW/xP2uq7O6dUfE/ukuaXSg08T9xZnbo5BbxP9dIRDrT+fA/Jz5Y/vLc8D/kl5bgQ8DwP+a4co3Fo/A//CHusXeH8D8qgJf7WWvwP428iRhsT/A/yw1rt60z8D8mC2yHHhjwPyuCjXB8+e8/6Y579BjD7z+Jsjb8EY3vP9/bYOpmV+8/O6inIhci7z8PnMIJIu3uP6RecQWHuO4/zPh5fEWE7j+dFqfWXFDuPwxMxnzMHO4/jVym2JPp7T+dhRVVsrbtPyzM310nhO0/8EzNX/JR7T+dj6DIEiDtP+fcFAeI7uw/ZZfcilG97D89l5/EbozsP6GI+SXfW+w/CU14IaIr7D88X5oqt/vrPwg6zbUdzOs/u8FrONWc6z9IsLwo3W3rPygE8f00P+s/2HEiMNwQ6z//11E40uLqPz+2ZZAWteo/lKYos6iH6j9Z2UcciFrqP9yTUUi0Leo/gLGztCwB6j9jJ7rf8NTpP6KKjUgAqek/Bpkxb1p96T87xIPU/lHpP4a/OfrsJuk/5g/gYiT86D+tntiRpNHoP4dOWQttp+g/5ZJqVH196D/XCeby1FPoPzwYdW1zKug/VoiPS1gB6D+6KnoVg9jnP4p5RVTzr+c/DD7MkaiH5z+JOLJYol/nP3LKYjTgN+c/06IPsWEQ5z8Dba9bJunmP42B/MEtwuY/W5lzcneb5j8Tg1L8AnXmP6falu/PTuY/F8P83N0o5j9Tov1VLAPmP1Xfzuy63eU/UKJgNIm45T8Il1zAlpPlPz6xJCXjbuU/QfPR921K5T+INjPONiblP2L2yz49AuU/uBzT4IDe5D/W0DFMAbvkPzhIghm+l+Q/Y5kO4rZ05D+3kM8/61HkPz+Ha81aL+Q/gTs1JgUN5D85rCrm6erjPxP186kIyeM/Ry3iDmGn4z8ySO6y8oXjP8T3tzS9ZOM/6ZCEM8BD4z8=\",\"dtype\":\"float64\",\"order\":\"little\",\"shape\":[181]},\"y\":{\"__ndarray__\":\"9FKHKH4bXcAUTBLsOelawMOrBylE/lnALInmPSRiWsBqPPmHkk5XwLTrujWvZlrAolFiQp9mXsChzOE4yH1dwGZQAzWbuljARNTowdDRXMCBI+7tI9JVwC3SDEPJWlnAyXtN4rzeWMCpXmvLjKVawGtWVyE6h1nAb4vdZmvqV8B9P0t+S7xcwO+zja46TVvAghqJ3V5YXsAm0N0V7+lgwI/ukre+LmDA8jzAkXqjYMCL+RM8jZxhwN5ZzsGmu2HAPFXv1f/RYsCBgO1BQFliwKhTcrCQkmLAHXL1LxkzYsCBU4gcrwViwCEueJcj0WHA3rm6kLF6YcCKR8+Ul/NgwPcHaM45BmHARM3g74lrYMAi8bJkTC5gwBWcg1cCs17A1VWcSRkdXsDXrqE9PjZcwJW7VLvsUlzAJ33r3oeFWMBxfW3AgCxXwIFvoLaN7FTAmKhzKZavU8ABy01cm6lSwJ9541jFLVLACCp8YCBgScA7dNgvU91DwGAC93H94UfAqKv+gWKkRcBRja7qQslDwKuuCoPd3CzAEJNjAOmYGsB8hO3lbSwtwNpT20pW5jHA0ps/EvorLcDvbzf7JhUwwAdwK7atgS3Ard3qhhKhKMBkuVOr4WcVwGWEaNCNOBzACPZgzRJqPsBt4t07vttGwDZaMGx0mFDAVy4gIqs5UMBdQOUzJwlOwGU1bJIdfk7AnT9xCjk8TcAO5j0qarpNwP5KnFA/Rk3ArqyWiCwZTcCTfJ3ux69LwG+tJNoTLUrA4Dcs9sR8SMAl+8GluBFHwA+W2gTN9UTAlgjVHqO/RMDZNFqOHwtCwEKk68BYsT7AAiiDyj7fOMCHfNWUq5szwIyWkXLDByHA0ex0TxNQKsBkXn0zRNQcwATV/79nlxrALoShM0p0HMA6+arf+ysiQN5kVs212gLA+kH+RenzJEDHKm2yfBwUQCZY1X/+lfU/+JGgp959179vN8lrKccFwHJACGwMTgrAGGUCl4er9b92Ym6Fe3r1P6i39w3e2Q5AYJb5vHaNFUAGzSlmDQofQK4haGfDniNAGXfN9nPAKEDayp5CoMYtQAO2UWmpujFAslrCfs1iNECGM3Wmy6M3QF7SrL4kmDpAGoM8ot6aP0DtvJ8RjRhBQLkEsSLiGkNAN65E6edvQkDxNWG0cPpFQE0ukkFAW0hAi7Mw2mI3SUAnVLFCR0lKQKgAjYNDxEtAIiTdLCF2TEBxXtklJ+pOQODLjozjiElAx7YDEnWNSkByIPdpDO1KQN68I5jYZktAnTjn2a5HTUA/DZJ6tA1NQOaj/XdbGk1AA88JPu0XTkDGSa9a5PtOQOwiIX1P109AJ2dwuZ1aUEAnPC7CisdQQAWFlMLwMlFABzdnXLfQUUBL7MvgNDpSQEYEYUJoslJArPgLS+NNU0BNOLEv+41TQNMDANih9VNAXXeHIaBqVEAxwwlHa3FUQPffD9rwrVRAy6FxCRPrVEDOw6bkKzZVQFI5UkArj1VAGzQ/ZYjNVUDDXer7RyRWQNJGa47MtVhA0r/XzFeXWUD4UptvfsZWQJdZP289/FZAgpIhyq9CV0CgQIJcUmtXQGmaWAIMt1dAzNI7Cyj1V0CF4GEO0jZYQHqNzu9kclhAXk9RaZCsWEDl+vW5y89YQINLNtte2VhA65lbBOMNWUC6BAjC7EpZQJf3jQoxcVlAAJyqp2jFWUDRavyukc9ZQPIa+CQbAVpAKQlf7p4yWkDN9uQMuGxaQF3oTyYvrFpAMjgo/VnrWkCUNUctWC1bQA0MYJKIZFtAy6kOnGGYW0DsFYqkkMlbQASrqKC28VtA5t6i3+YfXEAwOYir6E9cQF7wCZB8glxArUKeqhKsXEDOw9QRQsRcQGZrJ5u431xAqNHYhRcDXUB5+9M0aS9dQP7dqzlDZF1Anup4CPabXUA=\",\"dtype\":\"float64\",\"order\":\"little\",\"shape\":[181]}},\"selected\":{\"id\":\"2024\"},\"selection_policy\":{\"id\":\"2025\"}},\"id\":\"1923\",\"type\":\"ColumnDataSource\"},{\"attributes\":{\"active_multi\":null,\"tools\":[{\"id\":\"1897\"},{\"id\":\"1898\"},{\"id\":\"1899\"},{\"id\":\"1900\"},{\"id\":\"1901\"},{\"id\":\"1902\"}]},\"id\":\"1904\",\"type\":\"Toolbar\"},{\"attributes\":{},\"id\":\"2025\",\"type\":\"UnionRenderers\"},{\"attributes\":{\"source\":{\"id\":\"1917\"}},\"id\":\"1922\",\"type\":\"CDSView\"},{\"attributes\":{},\"id\":\"2021\",\"type\":\"UnionRenderers\"},{\"attributes\":{},\"id\":\"1897\",\"type\":\"PanTool\"},{\"attributes\":{\"line_alpha\":0.2,\"line_color\":\"#E69F00\",\"line_width\":3,\"x\":{\"field\":\"x\"},\"y\":{\"field\":\"y\"}},\"id\":\"1920\",\"type\":\"Line\"},{\"attributes\":{\"axis\":{\"id\":\"1893\"},\"dimension\":1,\"ticker\":null},\"id\":\"1896\",\"type\":\"Grid\"},{\"attributes\":{},\"id\":\"2014\",\"type\":\"BasicTickFormatter\"},{\"attributes\":{\"axis_label\":\"Spectrum\",\"axis_label_text_font\":\"times\",\"axis_label_text_font_size\":\"14pt\",\"axis_label_text_font_style\":\"bold\",\"formatter\":{\"id\":\"2014\"},\"major_label_policy\":{\"id\":\"2015\"},\"major_label_text_font\":\"times\",\"major_label_text_font_size\":\"14pt\",\"ticker\":{\"id\":\"1894\"}},\"id\":\"1893\",\"type\":\"LinearAxis\"},{\"attributes\":{\"line_alpha\":0.1,\"line_color\":\"#E69F00\",\"line_width\":3,\"x\":{\"field\":\"x\"},\"y\":{\"field\":\"y\"}},\"id\":\"1919\",\"type\":\"Line\"},{\"attributes\":{\"line_alpha\":0.2,\"line_color\":\"#0072B2\",\"line_width\":3,\"x\":{\"field\":\"x\"},\"y\":{\"field\":\"y\"}},\"id\":\"1914\",\"type\":\"Line\"},{\"attributes\":{\"label\":{\"value\":\"Virga Cloud\"},\"renderers\":[{\"id\":\"1927\"}]},\"id\":\"1932\",\"type\":\"LegendItem\"},{\"attributes\":{},\"id\":\"2020\",\"type\":\"Selection\"},{\"attributes\":{\"data_source\":{\"id\":\"1917\"},\"glyph\":{\"id\":\"1918\"},\"hover_glyph\":null,\"muted_glyph\":{\"id\":\"1920\"},\"nonselection_glyph\":{\"id\":\"1919\"},\"view\":{\"id\":\"1922\"}},\"id\":\"1921\",\"type\":\"GlyphRenderer\"},{\"attributes\":{},\"id\":\"2018\",\"type\":\"AllLabels\"},{\"attributes\":{},\"id\":\"2022\",\"type\":\"Selection\"},{\"attributes\":{},\"id\":\"2023\",\"type\":\"UnionRenderers\"},{\"attributes\":{\"line_alpha\":0.2,\"line_color\":\"#F0E442\",\"line_width\":3,\"x\":{\"field\":\"x\"},\"y\":{\"field\":\"y\"}},\"id\":\"1926\",\"type\":\"Line\"},{\"attributes\":{\"axis_label\":\"Wavelength [\\u03bcm]\",\"axis_label_text_font\":\"times\",\"axis_label_text_font_size\":\"14pt\",\"axis_label_text_font_style\":\"bold\",\"formatter\":{\"id\":\"2017\"},\"major_label_policy\":{\"id\":\"2018\"},\"major_label_text_font\":\"times\",\"major_label_text_font_size\":\"14pt\",\"ticker\":{\"id\":\"1890\"}},\"id\":\"1889\",\"type\":\"LinearAxis\"},{\"attributes\":{\"label\":{\"value\":\"Grey Cloud\"},\"renderers\":[{\"id\":\"1921\"}]},\"id\":\"1931\",\"type\":\"LegendItem\"},{\"attributes\":{\"click_policy\":\"mute\",\"items\":[{\"id\":\"1930\"},{\"id\":\"1931\"},{\"id\":\"1932\"}],\"location\":[0,0]},\"id\":\"1929\",\"type\":\"Legend\"},{\"attributes\":{\"overlay\":{\"id\":\"1903\"}},\"id\":\"1899\",\"type\":\"BoxZoomTool\"},{\"attributes\":{\"label\":{\"value\":\"Cloud Free\"},\"renderers\":[{\"id\":\"1915\"}]},\"id\":\"1930\",\"type\":\"LegendItem\"},{\"attributes\":{\"data\":{\"x\":{\"__ndarray__\":\"Wi4x8Af7/z8rVWHTocT/P7vn1j6Yjv8/ZjoslepY/z/iXAc6mCP/P+dSGJKg7v4/zE8XAwO6/j8f9cLzvoX+PzuU3svTUf4/7XIw9EAe/j/qEoDWBev9Pz98lN0huP0/vIoydZSF/T8fPhsKXVP9PzoNCgp7If0/6juz4+3v/D/dM8IGtb78Pyzg1+PPjfw/wguJ7D1d/D+KwlyT/iz8P1a1yksR/fs/kqA5inXN+z+dtf3DKp77P+gGV28wb/s/s/ZvA4ZA+z+EqFv4KhL7Pzh1FMce5Po/umF66WC2+j9cmFHa8Ij6P77kQBXOW/o/UjLQFvgu+j9rDWdcbgL6P9gmS2Qw1vk/CtqerT2q+T+4tV+4lX75PwIHZQU4U/k/EmdeFiQo+T8qS9JtWf34PzaXHI/X0vg/szJt/p2o+D8UoMZArH74P4OW/NsBVfg/BZ6yVp4r+D/7rVo4gQL4P/7NMwmq2fc/EblIUhix9z8bg26dy4j3P79AQ3XDYPc/b7EsZf849z/K61b5fhH3Pz8Ms75B6vY/5OX1QkfD9j+WtZYUj5z2P0DXzcIYdvY/Xn2T3eNP9j+sap717yn2PwKuYpw8BPY/T2AQZMne9T/GZJLflbn1Px4rjaKhlPU/+nNdQexv9T9aFxdRdUv1PzTNg2c8J/U/EPghG0ED9T+9cSMDg9/0PwVabLcBvPQ/deeR0LyY9D8eOtnns3X0P2AwNpfmUvQ/qj1KeVQw9D81Q2Mp/Q30P7xqekPg6/M/HQMzZP3J8z/yXtkoVKjzPxG1YS/khvM/9QJnFq1l8z8V8Sl9rkTzPw25jwPoI/M/uA0hSlkD8z8fBQnyAePyPz0EFJ3hwvI/m6yu7fei8j/Iy+SGRIPyP45MYAzHY/I/BSpoIn9E8j9sZN9tbCXyP7/3Q5SOBvI/FtStO+Xn8T/G180KcMnxP0rL7Kguq/E/xl7qvSCN8T9rKTzyRW/xP2uq7O6dUfE/ukuaXSg08T9xZnbo5BbxP9dIRDrT+fA/Jz5Y/vLc8D/kl5bgQ8DwP+a4co3Fo/A//CHusXeH8D8qgJf7WWvwP428iRhsT/A/yw1rt60z8D8mC2yHHhjwPyuCjXB8+e8/6Y579BjD7z+Jsjb8EY3vP9/bYOpmV+8/O6inIhci7z8PnMIJIu3uP6RecQWHuO4/zPh5fEWE7j+dFqfWXFDuPwxMxnzMHO4/jVym2JPp7T+dhRVVsrbtPyzM310nhO0/8EzNX/JR7T+dj6DIEiDtP+fcFAeI7uw/ZZfcilG97D89l5/EbozsP6GI+SXfW+w/CU14IaIr7D88X5oqt/vrPwg6zbUdzOs/u8FrONWc6z9IsLwo3W3rPygE8f00P+s/2HEiMNwQ6z//11E40uLqPz+2ZZAWteo/lKYos6iH6j9Z2UcciFrqP9yTUUi0Leo/gLGztCwB6j9jJ7rf8NTpP6KKjUgAqek/Bpkxb1p96T87xIPU/lHpP4a/OfrsJuk/5g/gYiT86D+tntiRpNHoP4dOWQttp+g/5ZJqVH196D/XCeby1FPoPzwYdW1zKug/VoiPS1gB6D+6KnoVg9jnP4p5RVTzr+c/DD7MkaiH5z+JOLJYol/nP3LKYjTgN+c/06IPsWEQ5z8Dba9bJunmP42B/MEtwuY/W5lzcneb5j8Tg1L8AnXmP6falu/PTuY/F8P83N0o5j9Tov1VLAPmP1Xfzuy63eU/UKJgNIm45T8Il1zAlpPlPz6xJCXjbuU/QfPR921K5T+INjPONiblP2L2yz49AuU/uBzT4IDe5D/W0DFMAbvkPzhIghm+l+Q/Y5kO4rZ05D+3kM8/61HkPz+Ha81aL+Q/gTs1JgUN5D85rCrm6erjPxP186kIyeM/Ry3iDmGn4z8ySO6y8oXjP8T3tzS9ZOM/6ZCEM8BD4z8=\",\"dtype\":\"float64\",\"order\":\"little\",\"shape\":[181]},\"y\":{\"__ndarray__\":\"8+WzenvWakCB6YcC5ktuQHAKmjSa0m1AQdiBK+SsbED1r2LQ7pRvQGK+13QXVm1ARIttiSxYZkCRdo5bAENmQGHtlaD9dGxArVEFnXkwaUAFxPId++puQBX2LXnbRmpADVJDr1AwakBxq8oB4LBmQMYjXNXzjmdA4N6qJ7WTaUAo+HHbZ8ZiQFe/mJ9cX2NA/f3MZx8kWkB5PESrz+88QLMVqEPsHlBA4zH/WvseR0CyS+0/vzklwI7p7W5LrEHAH351IgvqXsDK3yf44cxgwCRvY+GQImPAD0yGSstkYMAi7W7PfbdewGf4oAU8w13AgpiPecceWcBqWzO9Xb9UwOIi5dP5A1TAMnj8O8SORcAPNPSebQI/wGxNg0MmlQRA3vX+bViDOUB+T+R0uvpJQCeiefrQaEhAzGVO3pqwXkDhuxn9QlFgQCs4MBslOGRAQ4Q/aU1iY0AOIyS7S0JmQFUmM61aJGVA5lclC1g2bUAI9aUxbxxwQAyiPJ82KW1A33jOVmM4bkB4WnrhL8NuQDbYVPHmNnNAwSur0li5c0BlFPvhf4JyQPMDSp9e/nBAQz70kv7YcED0vO6P45ZxQOQk13g6UXFAJ8T4K+DpcEBfDsLaO5BwQLvaa9duHnBAWL1BpneXZUDnSxCcUz1VQESzFJeK7krAJmWB5w4LVMDxfMqHgRZVwHNnKM7MhV3Aa/h5BS/oYcDsSlDKE8tiwKqnLw3WEGPAG1YuMVomYsDUezaokxBjwOtFLLUPomDATe0zizdXWsDKmbNB/KVXwKvVm/qvMEzAJgCumVJyT8CPIbDCtYI3wBJt4rNSqg/AUgy5YzPiSEDRuByOaRpKQF1o6tC5alpAaVupqhvVUUDKjE1iKThQQDsbI3UbqlJABtJJH1rXUEBJ4CEEwWVgQIgJzxb7mjlA/DPFT4RnWkAS/xL3UF1EQKQKC8SvlSbAUrdPY5PeMcD7cHD2JiZcwGlr4Ufv0GvA1R8+418acMCwzv6N1cdvwHuIS/ilGW7AJc80mAJJcMDBHKEZRV9twF2ZEuN85m7AnGVIzZhTa8C25otIEClowOUODIRHeWLA3y8MLuypYMBvQARlU35ZwMqFGrQNPVHAp3Dqf52fQMCSaEYdaGY2wOrQ93ja7yRAToFa3+RtMcDPcI0pggchwCywiENzLUhAlyphT+6IR0CEPrmSXP5DQIPqVSnh4FBALLIaV2lnUEAWKcqvOoJFQFkeMXPUm1nA+NC2qQesWsBTmZLlnEdiwGFj6u1/7mPATrdXIdi4XsBwwZUPwRBmwMm8m4QCI23APaiRE3Gma8C1gAjbD65qwMhHchTSf2nAdc9UBUKSZ8Akq4ceKtJlwNaxFyctj2TANMZdOeQoYMAqhX+hfzlgwBoQu8KpXlvAICs3Ppj9VcDnc3vTLCRawMeQIQCkaVbAS3JpwtHITcCj+R9ub5tUwFaiKOXtwlXA86387nSTVcDYyflgapVSwKeMxRTTcEjAtZzm91ODQMAWzug6GKoZQHxVBBeLuWRAjijEiZ85ZkDSQ5X3L6QhwEftX2AYoDzAApFShv2RQcA/xdtnwDFKwBhYExCC5EfAi1wJyRbrScDILU/5wlZOwNy+mgbFNU3A/8VFS71sScB82fOzfqFQwAJgrfSnEFjAqMYVWEM9WsAYn4gxzmpZwB2ArZAiQlzAGWL6qhmXWcAq3nHdsetgwIQpPVoUQGHApAylEV7QYMCNKrrLb4BfwP4SDc7nqFzAd8CLzSeiWcBPANzXmztWwDFp2N5rA1TAyA2t5GovUcD1NII2f6RMwN/PdY3GSUrA6yLnNRoCRsAC7+QX0vlAwHHR2uI6kDXACObt0k9gIcAogA6oOy8RQNTtg98CJjNApxk6FX+BQUAFLpgp0QpKQKS5YnqdwFFAVex3PJ19V0A=\",\"dtype\":\"float64\",\"order\":\"little\",\"shape\":[181]}},\"selected\":{\"id\":\"2020\"},\"selection_policy\":{\"id\":\"2021\"}},\"id\":\"1911\",\"type\":\"ColumnDataSource\"},{\"attributes\":{},\"id\":\"1894\",\"type\":\"BasicTicker\"}],\"root_ids\":[\"1880\"]},\"title\":\"Bokeh Application\",\"version\":\"2.3.3\"}};\n",
       "  var render_items = [{\"docid\":\"977d2961-a040-4ace-afdb-986c4ec5933b\",\"root_ids\":[\"1880\"],\"roots\":{\"1880\":\"e7692d6e-ec3a-41c9-b5cb-da794864e86a\"}}];\n",
       "  root.Bokeh.embed.embed_items_notebook(docs_json, render_items);\n",
       "\n",
       "  }\n",
       "  if (root.Bokeh !== undefined) {\n",
       "    embed_document(root);\n",
       "  } else {\n",
       "    var attempts = 0;\n",
       "    var timer = setInterval(function(root) {\n",
       "      if (root.Bokeh !== undefined) {\n",
       "        clearInterval(timer);\n",
       "        embed_document(root);\n",
       "      } else {\n",
       "        attempts++;\n",
       "        if (attempts > 100) {\n",
       "          clearInterval(timer);\n",
       "          console.log(\"Bokeh: ERROR: Unable to run BokehJS code because BokehJS library is missing\");\n",
       "        }\n",
       "      }\n",
       "    }, 10, root)\n",
       "  }\n",
       "})(window);"
      ],
      "application/vnd.bokehjs_exec.v0+json": ""
     },
     "metadata": {
      "application/vnd.bokehjs_exec.v0+json": {
       "id": "1880"
      }
     },
     "output_type": "display_data"
    }
   ],
   "source": [
    "case1.clouds(filename = jdi.HJ_cld(), delim_whitespace=True)\n",
    "\n",
    "df_model= case1.spectrum(opa, full_output=True,calculation='transmission') #note the new last key \n",
    "\n",
    "wno, rprs2_model = df_model['wavenumber'] , df_model['transit_depth']\n",
    "wno, rprs2_model = jdi.mean_regrid(wno, rprs2_model, R=150)\n",
    "full_output_model = df_model['full_output']\n",
    "\n",
    "jpi.show(jpi.spectrum([wno, wno,wno],[1e6*(rprs2-np.mean(rprs2))\n",
    "                              , (rprs2_gry-np.mean(rprs2_gry))*1e6\n",
    "                             , (rprs2_model-np.mean(rprs2_model))*1e6],legend=['Cloud Free','Grey Cloud','Virga Cloud'],\n",
    "                  plot_width=500))\n"
   ]
  },
  {
   "cell_type": "markdown",
   "metadata": {},
   "source": [
    "## Adding Arbitrary Rayleigh Scattering \n",
    "\n",
    "All models will include Rayleigh scattering that is computed based on the atmospheric composition. H$_2$ gas giants would Rayleigh scattering from hydrogen, Earth-like composition planets would have Rayleigh scattering from nitrogen. Several hot Jupiter observations have revealed slopes that are enhanced, relative to Rayleigh. \n",
    "\n",
    "To simulate an enhanced scattering slope you can add your own parameterized opacity directly to the cloud routine. "
   ]
  },
  {
   "cell_type": "code",
   "execution_count": 8,
   "metadata": {},
   "outputs": [],
   "source": [
    "alpha = 4.5 #slope dependence for arbitrary rayleigh\n",
    "ref_wave = 0.3 #reference wave to set at what wavelength tau=ref_tau\n",
    "ref_tau = 5e-2\n",
    "\n",
    "wno_cld = jdi.get_cld_input_grid()\n",
    "wave= 1e4/wno_cld\n",
    "enhanced_rayleigh_opd =  np.concatenate([ref_tau*(wave/ref_wave)**(-alpha) for i in range(case1.nlevel-1)])"
   ]
  },
  {
   "cell_type": "code",
   "execution_count": 9,
   "metadata": {},
   "outputs": [
    {
     "data": {
      "text/html": [
       "\n",
       "\n",
       "\n",
       "\n",
       "\n",
       "\n",
       "  <div class=\"bk-root\" id=\"c6a14164-75e9-4ca1-a3c3-336f568b9ab4\" data-root-id=\"2101\"></div>\n"
      ]
     },
     "metadata": {},
     "output_type": "display_data"
    },
    {
     "data": {
      "application/javascript": [
       "(function(root) {\n",
       "  function embed_document(root) {\n",
       "    \n",
       "  var docs_json = {\"904f48e4-5d66-4cd6-a277-47779d794d9f\":{\"defs\":[],\"roots\":{\"references\":[{\"attributes\":{\"below\":[{\"id\":\"2110\"}],\"center\":[{\"id\":\"2113\"},{\"id\":\"2117\"}],\"height\":345,\"left\":[{\"id\":\"2114\"},{\"id\":\"2144\"}],\"renderers\":[{\"id\":\"2136\"},{\"id\":\"2142\"}],\"title\":{\"id\":\"2241\"},\"toolbar\":{\"id\":\"2125\"},\"x_range\":{\"id\":\"2102\"},\"x_scale\":{\"id\":\"2106\"},\"y_range\":{\"id\":\"2104\"},\"y_scale\":{\"id\":\"2108\"}},\"id\":\"2101\",\"subtype\":\"Figure\",\"type\":\"Plot\"},{\"attributes\":{},\"id\":\"2244\",\"type\":\"AllLabels\"},{\"attributes\":{\"axis\":{\"id\":\"2110\"},\"ticker\":null},\"id\":\"2113\",\"type\":\"Grid\"},{\"attributes\":{},\"id\":\"2115\",\"type\":\"BasicTicker\"},{\"attributes\":{\"data\":{\"x\":{\"__ndarray__\":\"Wi4x8Af7/z8rVWHTocT/P7vn1j6Yjv8/ZjoslepY/z/iXAc6mCP/P+dSGJKg7v4/zE8XAwO6/j8f9cLzvoX+PzuU3svTUf4/7XIw9EAe/j/qEoDWBev9Pz98lN0huP0/vIoydZSF/T8fPhsKXVP9PzoNCgp7If0/6juz4+3v/D/dM8IGtb78Pyzg1+PPjfw/wguJ7D1d/D+KwlyT/iz8P1a1yksR/fs/kqA5inXN+z+dtf3DKp77P+gGV28wb/s/s/ZvA4ZA+z+EqFv4KhL7Pzh1FMce5Po/umF66WC2+j9cmFHa8Ij6P77kQBXOW/o/UjLQFvgu+j9rDWdcbgL6P9gmS2Qw1vk/CtqerT2q+T+4tV+4lX75PwIHZQU4U/k/EmdeFiQo+T8qS9JtWf34PzaXHI/X0vg/szJt/p2o+D8UoMZArH74P4OW/NsBVfg/BZ6yVp4r+D/7rVo4gQL4P/7NMwmq2fc/EblIUhix9z8bg26dy4j3P79AQ3XDYPc/b7EsZf849z/K61b5fhH3Pz8Ms75B6vY/5OX1QkfD9j+WtZYUj5z2P0DXzcIYdvY/Xn2T3eNP9j+sap717yn2PwKuYpw8BPY/T2AQZMne9T/GZJLflbn1Px4rjaKhlPU/+nNdQexv9T9aFxdRdUv1PzTNg2c8J/U/EPghG0ED9T+9cSMDg9/0PwVabLcBvPQ/deeR0LyY9D8eOtnns3X0P2AwNpfmUvQ/qj1KeVQw9D81Q2Mp/Q30P7xqekPg6/M/HQMzZP3J8z/yXtkoVKjzPxG1YS/khvM/9QJnFq1l8z8V8Sl9rkTzPw25jwPoI/M/uA0hSlkD8z8fBQnyAePyPz0EFJ3hwvI/m6yu7fei8j/Iy+SGRIPyP45MYAzHY/I/BSpoIn9E8j9sZN9tbCXyP7/3Q5SOBvI/FtStO+Xn8T/G180KcMnxP0rL7Kguq/E/xl7qvSCN8T9rKTzyRW/xP2uq7O6dUfE/ukuaXSg08T9xZnbo5BbxP9dIRDrT+fA/Jz5Y/vLc8D/kl5bgQ8DwP+a4co3Fo/A//CHusXeH8D8qgJf7WWvwP428iRhsT/A/yw1rt60z8D8mC2yHHhjwPyuCjXB8+e8/6Y579BjD7z+Jsjb8EY3vP9/bYOpmV+8/O6inIhci7z8PnMIJIu3uP6RecQWHuO4/zPh5fEWE7j+dFqfWXFDuPwxMxnzMHO4/jVym2JPp7T+dhRVVsrbtPyzM310nhO0/8EzNX/JR7T+dj6DIEiDtP+fcFAeI7uw/ZZfcilG97D89l5/EbozsP6GI+SXfW+w/CU14IaIr7D88X5oqt/vrPwg6zbUdzOs/u8FrONWc6z9IsLwo3W3rPygE8f00P+s/2HEiMNwQ6z//11E40uLqPz+2ZZAWteo/lKYos6iH6j9Z2UcciFrqP9yTUUi0Leo/gLGztCwB6j9jJ7rf8NTpP6KKjUgAqek/Bpkxb1p96T87xIPU/lHpP4a/OfrsJuk/5g/gYiT86D+tntiRpNHoP4dOWQttp+g/5ZJqVH196D/XCeby1FPoPzwYdW1zKug/VoiPS1gB6D+6KnoVg9jnP4p5RVTzr+c/DD7MkaiH5z+JOLJYol/nP3LKYjTgN+c/06IPsWEQ5z8Dba9bJunmP42B/MEtwuY/W5lzcneb5j8Tg1L8AnXmP6falu/PTuY/F8P83N0o5j9Tov1VLAPmP1Xfzuy63eU/UKJgNIm45T8Il1zAlpPlPz6xJCXjbuU/QfPR921K5T+INjPONiblP2L2yz49AuU/uBzT4IDe5D/W0DFMAbvkPzhIghm+l+Q/Y5kO4rZ05D+3kM8/61HkPz+Ha81aL+Q/gTs1JgUN5D85rCrm6erjPxP186kIyeM/Ry3iDmGn4z8ySO6y8oXjP8T3tzS9ZOM/6ZCEM8BD4z8=\",\"dtype\":\"float64\",\"order\":\"little\",\"shape\":[181]},\"y\":{\"__ndarray__\":\"1p304A67YECNSagQGS5kQNKROnTLtmNAFOQtv7+TYkA6hXFAUXplQIKMMai4PmNAKRk4SsaUWEDLQ3oS5G5YQEbcKrCyY2JAWKeO1xlIXkDMPw0HNtpkQEx2ZtFrPWBAOH3ndBgpYEADuEVd9mBZQEvToCf8HltAfklO1u8mX0B3zmHAZ6RRQOlwJHhq2lJAY+GhDF1oOUAVa/7zNcxIwAMA8GleaCzAAdsxUnkbQMCMbSrC0B9WwGKjCKarOFzAI8ImPoMJacAEh18gXlhqwN3TbEsso2zAeAM4Ky/macB9PWapN9powFezbcs8W2jAUIbd2U8JZsBOp19ASNljwAQj0+H/dmPA9UCqg+O/XcD+KyCJi7ZawHnsa/vjXVLAJ2yrSrVQScBFP0zER1A4wIXzS8UqPzvAzBssEwv3RkC8438V6uRKQFDk8puYMFVA1loW1BiXU0A3k+zSIExZQCf8FbAnJFdAqla1TdmMY0DGxCrnsYlmQP1iuURMiWNADwMmt0yZZEBspC/QridlQMckFp3FuWxAb7mE+qLAbUA1lcjjbGBrQNV7ZOPUa2hABslIbR8paED/eyhGc59pQM1i1TciHWlAK2sokuhZaEDle3eydrRnQB2f+BQL3GZAyE41EATuWEB1OwNvWaQsQOkKogvlKV7AMy/v5aw3YsA2BtQ4CKdiwKLxTYdSrmbAuu7EdOmmacC+ZOFD9nBqwJ2Wzf6IoWrAno+uyhitacAb8PgrQXlqwAVez7T5C2jAfQ8M+oqgZMCOMTvhyz5jwImry67IJF3AquREMjCNXsC7IcU6au9UwOaFnjVhElDA9gl6aLh1KMD2syxHzWEiwIVQtDuhVEVAFVoK1JOhJEBAnWiFAOkTQOxNPE6BtC1A6QVB+poLIUB9+R0+IIhRQMgT5PuvdD3AIMsfa1+cR0DlmcvGEdAqwEwJj94V0k7A3je8hl3FUMCAAlFCgFZjwGHeidJT/m/AQ067nODxccDSOjwCx6ZxwMTKc3z+xnDAMM97ULnRccCp3e8Gwj5wwHy7c3vs13DAddhZ5CUybsAKPTIUnBhrwMQzk3eKtWXALb/TwGDaY8Bc/R4mKRVgwMMjL5mPSljAH3zAmSyST8A2e5Su7vJJwE1KmdFNrjTAsL4RXDw6RsAoeG5iRCNBwFuf9ZksCzJAZcsJ1lF8MkAVdeqYDMkrQKmlzCnz2ENAdesGNgrLQ0A6IQTWwSk2QAq8ypNy71nAMq6AvwpBWsCPTjoHBRRhwOsCZKtAMGLA/06bAeLWW8BzoSIOvEtjwHtjrVfx5WjAuVZGDfxAZ8DQ0LEPRgtmwFqUgFcuqGTApdGQqG6oYsDb9tNFA89gwNyOhAA2ul7A612YdiW3VsAZRR7Eof5VwFzQXlE0GVHALbRdeDPfR8DR4t9/tNJMwNtIsN/eNkXAsE1TwxjoLsBJV6yPVes9wAke/EJN6T3Avw5TDUHAOcB5CwjyMAgqwBoatcDK5iNARm89XsFfOUDLuc6w9xNNQKOKVYqzqGZAZQSQMQk9aEB5+BoP2TBNQBVNp/GIKUhAFTCwr0YLSEAGBB9Xb0ZEQB7oLZ4hM0hA/hoheLs1SUBBOtewurdIQK9jFHmbBExAhjQ0mvuCUEDGM8OG6HpOQIVbu2sSmEdAYIWQ6sDCR0Dkj4xBTq9LQKL0UyBFFktAbxHKzNPMUEDn9CXhh+1KQKecoR+ybU1AaWQRpz3RUEDQsalKxa9TQNK4tEpP9FZA8qqx991BWkBP7VEK77JdQMFvQGAJPGBAGMdYydPOYUAts4M3p1pjQAPGNA9jcmRAPx+Z0OPMZUANRZlG5ztnQJo4ISA9xWhA4bfIGohQakADswty+9trQBzKc5Ngd21AqNh/KN0cb0CQt+qGY2ZwQGOD07nMRHFAH+Xw2MM7ckA=\",\"dtype\":\"float64\",\"order\":\"little\",\"shape\":[181]}},\"selected\":{\"id\":\"2251\"},\"selection_policy\":{\"id\":\"2252\"}},\"id\":\"2138\",\"type\":\"ColumnDataSource\"},{\"attributes\":{\"click_policy\":\"mute\",\"items\":[{\"id\":\"2145\"},{\"id\":\"2146\"}],\"location\":[0,0]},\"id\":\"2144\",\"type\":\"Legend\"},{\"attributes\":{\"source\":{\"id\":\"2132\"}},\"id\":\"2137\",\"type\":\"CDSView\"},{\"attributes\":{\"line_alpha\":0.2,\"line_color\":\"#E69F00\",\"line_width\":3,\"x\":{\"field\":\"x\"},\"y\":{\"field\":\"y\"}},\"id\":\"2141\",\"type\":\"Line\"},{\"attributes\":{},\"id\":\"2121\",\"type\":\"SaveTool\"},{\"attributes\":{\"line_alpha\":0.2,\"line_color\":\"#0072B2\",\"line_width\":3,\"x\":{\"field\":\"x\"},\"y\":{\"field\":\"y\"}},\"id\":\"2135\",\"type\":\"Line\"},{\"attributes\":{\"ticker\":null},\"id\":\"2246\",\"type\":\"LogTickFormatter\"},{\"attributes\":{\"line_color\":\"#E69F00\",\"line_width\":3,\"x\":{\"field\":\"x\"},\"y\":{\"field\":\"y\"}},\"id\":\"2139\",\"type\":\"Line\"},{\"attributes\":{},\"id\":\"2104\",\"type\":\"DataRange1d\"},{\"attributes\":{\"active_multi\":null,\"tools\":[{\"id\":\"2118\"},{\"id\":\"2119\"},{\"id\":\"2120\"},{\"id\":\"2121\"},{\"id\":\"2122\"},{\"id\":\"2123\"}]},\"id\":\"2125\",\"type\":\"Toolbar\"},{\"attributes\":{},\"id\":\"2106\",\"type\":\"LogScale\"},{\"attributes\":{\"data_source\":{\"id\":\"2132\"},\"glyph\":{\"id\":\"2133\"},\"hover_glyph\":null,\"muted_glyph\":{\"id\":\"2135\"},\"nonselection_glyph\":{\"id\":\"2134\"},\"view\":{\"id\":\"2137\"}},\"id\":\"2136\",\"type\":\"GlyphRenderer\"},{\"attributes\":{\"line_alpha\":0.1,\"line_color\":\"#E69F00\",\"line_width\":3,\"x\":{\"field\":\"x\"},\"y\":{\"field\":\"y\"}},\"id\":\"2140\",\"type\":\"Line\"},{\"attributes\":{\"data\":{\"x\":{\"__ndarray__\":\"Wi4x8Af7/z8rVWHTocT/P7vn1j6Yjv8/ZjoslepY/z/iXAc6mCP/P+dSGJKg7v4/zE8XAwO6/j8f9cLzvoX+PzuU3svTUf4/7XIw9EAe/j/qEoDWBev9Pz98lN0huP0/vIoydZSF/T8fPhsKXVP9PzoNCgp7If0/6juz4+3v/D/dM8IGtb78Pyzg1+PPjfw/wguJ7D1d/D+KwlyT/iz8P1a1yksR/fs/kqA5inXN+z+dtf3DKp77P+gGV28wb/s/s/ZvA4ZA+z+EqFv4KhL7Pzh1FMce5Po/umF66WC2+j9cmFHa8Ij6P77kQBXOW/o/UjLQFvgu+j9rDWdcbgL6P9gmS2Qw1vk/CtqerT2q+T+4tV+4lX75PwIHZQU4U/k/EmdeFiQo+T8qS9JtWf34PzaXHI/X0vg/szJt/p2o+D8UoMZArH74P4OW/NsBVfg/BZ6yVp4r+D/7rVo4gQL4P/7NMwmq2fc/EblIUhix9z8bg26dy4j3P79AQ3XDYPc/b7EsZf849z/K61b5fhH3Pz8Ms75B6vY/5OX1QkfD9j+WtZYUj5z2P0DXzcIYdvY/Xn2T3eNP9j+sap717yn2PwKuYpw8BPY/T2AQZMne9T/GZJLflbn1Px4rjaKhlPU/+nNdQexv9T9aFxdRdUv1PzTNg2c8J/U/EPghG0ED9T+9cSMDg9/0PwVabLcBvPQ/deeR0LyY9D8eOtnns3X0P2AwNpfmUvQ/qj1KeVQw9D81Q2Mp/Q30P7xqekPg6/M/HQMzZP3J8z/yXtkoVKjzPxG1YS/khvM/9QJnFq1l8z8V8Sl9rkTzPw25jwPoI/M/uA0hSlkD8z8fBQnyAePyPz0EFJ3hwvI/m6yu7fei8j/Iy+SGRIPyP45MYAzHY/I/BSpoIn9E8j9sZN9tbCXyP7/3Q5SOBvI/FtStO+Xn8T/G180KcMnxP0rL7Kguq/E/xl7qvSCN8T9rKTzyRW/xP2uq7O6dUfE/ukuaXSg08T9xZnbo5BbxP9dIRDrT+fA/Jz5Y/vLc8D/kl5bgQ8DwP+a4co3Fo/A//CHusXeH8D8qgJf7WWvwP428iRhsT/A/yw1rt60z8D8mC2yHHhjwPyuCjXB8+e8/6Y579BjD7z+Jsjb8EY3vP9/bYOpmV+8/O6inIhci7z8PnMIJIu3uP6RecQWHuO4/zPh5fEWE7j+dFqfWXFDuPwxMxnzMHO4/jVym2JPp7T+dhRVVsrbtPyzM310nhO0/8EzNX/JR7T+dj6DIEiDtP+fcFAeI7uw/ZZfcilG97D89l5/EbozsP6GI+SXfW+w/CU14IaIr7D88X5oqt/vrPwg6zbUdzOs/u8FrONWc6z9IsLwo3W3rPygE8f00P+s/2HEiMNwQ6z//11E40uLqPz+2ZZAWteo/lKYos6iH6j9Z2UcciFrqP9yTUUi0Leo/gLGztCwB6j9jJ7rf8NTpP6KKjUgAqek/Bpkxb1p96T87xIPU/lHpP4a/OfrsJuk/5g/gYiT86D+tntiRpNHoP4dOWQttp+g/5ZJqVH196D/XCeby1FPoPzwYdW1zKug/VoiPS1gB6D+6KnoVg9jnP4p5RVTzr+c/DD7MkaiH5z+JOLJYol/nP3LKYjTgN+c/06IPsWEQ5z8Dba9bJunmP42B/MEtwuY/W5lzcneb5j8Tg1L8AnXmP6falu/PTuY/F8P83N0o5j9Tov1VLAPmP1Xfzuy63eU/UKJgNIm45T8Il1zAlpPlPz6xJCXjbuU/QfPR921K5T+INjPONiblP2L2yz49AuU/uBzT4IDe5D/W0DFMAbvkPzhIghm+l+Q/Y5kO4rZ05D+3kM8/61HkPz+Ha81aL+Q/gTs1JgUN5D85rCrm6erjPxP186kIyeM/Ry3iDmGn4z8ySO6y8oXjP8T3tzS9ZOM/6ZCEM8BD4z8=\",\"dtype\":\"float64\",\"order\":\"little\",\"shape\":[181]},\"y\":{\"__ndarray__\":\"8+WzenvWakCB6YcC5ktuQHAKmjSa0m1AQdiBK+SsbED1r2LQ7pRvQGK+13QXVm1ARIttiSxYZkCRdo5bAENmQGHtlaD9dGxArVEFnXkwaUAFxPId++puQBX2LXnbRmpADVJDr1AwakBxq8oB4LBmQMYjXNXzjmdA4N6qJ7WTaUAo+HHbZ8ZiQFe/mJ9cX2NA/f3MZx8kWkB5PESrz+88QLMVqEPsHlBA4zH/WvseR0CyS+0/vzklwI7p7W5LrEHAH351IgvqXsDK3yf44cxgwCRvY+GQImPAD0yGSstkYMAi7W7PfbdewGf4oAU8w13AgpiPecceWcBqWzO9Xb9UwOIi5dP5A1TAMnj8O8SORcAPNPSebQI/wGxNg0MmlQRA3vX+bViDOUB+T+R0uvpJQCeiefrQaEhAzGVO3pqwXkDhuxn9QlFgQCs4MBslOGRAQ4Q/aU1iY0AOIyS7S0JmQFUmM61aJGVA5lclC1g2bUAI9aUxbxxwQAyiPJ82KW1A33jOVmM4bkB4WnrhL8NuQDbYVPHmNnNAwSur0li5c0BlFPvhf4JyQPMDSp9e/nBAQz70kv7YcED0vO6P45ZxQOQk13g6UXFAJ8T4K+DpcEBfDsLaO5BwQLvaa9duHnBAWL1BpneXZUDnSxCcUz1VQESzFJeK7krAJmWB5w4LVMDxfMqHgRZVwHNnKM7MhV3Aa/h5BS/oYcDsSlDKE8tiwKqnLw3WEGPAG1YuMVomYsDUezaokxBjwOtFLLUPomDATe0zizdXWsDKmbNB/KVXwKvVm/qvMEzAJgCumVJyT8CPIbDCtYI3wBJt4rNSqg/AUgy5YzPiSEDRuByOaRpKQF1o6tC5alpAaVupqhvVUUDKjE1iKThQQDsbI3UbqlJABtJJH1rXUEBJ4CEEwWVgQIgJzxb7mjlA/DPFT4RnWkAS/xL3UF1EQKQKC8SvlSbAUrdPY5PeMcD7cHD2JiZcwGlr4Ufv0GvA1R8+418acMCwzv6N1cdvwHuIS/ilGW7AJc80mAJJcMDBHKEZRV9twF2ZEuN85m7AnGVIzZhTa8C25otIEClowOUODIRHeWLA3y8MLuypYMBvQARlU35ZwMqFGrQNPVHAp3Dqf52fQMCSaEYdaGY2wOrQ93ja7yRAToFa3+RtMcDPcI0pggchwCywiENzLUhAlyphT+6IR0CEPrmSXP5DQIPqVSnh4FBALLIaV2lnUEAWKcqvOoJFQFkeMXPUm1nA+NC2qQesWsBTmZLlnEdiwGFj6u1/7mPATrdXIdi4XsBwwZUPwRBmwMm8m4QCI23APaiRE3Gma8C1gAjbD65qwMhHchTSf2nAdc9UBUKSZ8Akq4ceKtJlwNaxFyctj2TANMZdOeQoYMAqhX+hfzlgwBoQu8KpXlvAICs3Ppj9VcDnc3vTLCRawMeQIQCkaVbAS3JpwtHITcCj+R9ub5tUwFaiKOXtwlXA86387nSTVcDYyflgapVSwKeMxRTTcEjAtZzm91ODQMAWzug6GKoZQHxVBBeLuWRAjijEiZ85ZkDSQ5X3L6QhwEftX2AYoDzAApFShv2RQcA/xdtnwDFKwBhYExCC5EfAi1wJyRbrScDILU/5wlZOwNy+mgbFNU3A/8VFS71sScB82fOzfqFQwAJgrfSnEFjAqMYVWEM9WsAYn4gxzmpZwB2ArZAiQlzAGWL6qhmXWcAq3nHdsetgwIQpPVoUQGHApAylEV7QYMCNKrrLb4BfwP4SDc7nqFzAd8CLzSeiWcBPANzXmztWwDFp2N5rA1TAyA2t5GovUcD1NII2f6RMwN/PdY3GSUrA6yLnNRoCRsAC7+QX0vlAwHHR2uI6kDXACObt0k9gIcAogA6oOy8RQNTtg98CJjNApxk6FX+BQUAFLpgp0QpKQKS5YnqdwFFAVex3PJ19V0A=\",\"dtype\":\"float64\",\"order\":\"little\",\"shape\":[181]}},\"selected\":{\"id\":\"2249\"},\"selection_policy\":{\"id\":\"2250\"}},\"id\":\"2132\",\"type\":\"ColumnDataSource\"},{\"attributes\":{\"line_color\":\"#0072B2\",\"line_width\":3,\"x\":{\"field\":\"x\"},\"y\":{\"field\":\"y\"}},\"id\":\"2133\",\"type\":\"Line\"},{\"attributes\":{},\"id\":\"2123\",\"type\":\"HelpTool\"},{\"attributes\":{\"source\":{\"id\":\"2138\"}},\"id\":\"2143\",\"type\":\"CDSView\"},{\"attributes\":{},\"id\":\"2249\",\"type\":\"Selection\"},{\"attributes\":{\"num_minor_ticks\":10},\"id\":\"2111\",\"type\":\"LogTicker\"},{\"attributes\":{},\"id\":\"2118\",\"type\":\"PanTool\"},{\"attributes\":{\"axis\":{\"id\":\"2114\"},\"dimension\":1,\"ticker\":null},\"id\":\"2117\",\"type\":\"Grid\"},{\"attributes\":{},\"id\":\"2108\",\"type\":\"LinearScale\"},{\"attributes\":{\"label\":{\"value\":\"H2 Rayleigh\"},\"renderers\":[{\"id\":\"2136\"}]},\"id\":\"2145\",\"type\":\"LegendItem\"},{\"attributes\":{},\"id\":\"2241\",\"type\":\"Title\"},{\"attributes\":{\"axis_label\":\"Spectrum\",\"axis_label_text_font\":\"times\",\"axis_label_text_font_size\":\"14pt\",\"axis_label_text_font_style\":\"bold\",\"formatter\":{\"id\":\"2243\"},\"major_label_policy\":{\"id\":\"2244\"},\"major_label_text_font\":\"times\",\"major_label_text_font_size\":\"14pt\",\"ticker\":{\"id\":\"2115\"}},\"id\":\"2114\",\"type\":\"LinearAxis\"},{\"attributes\":{},\"id\":\"2252\",\"type\":\"UnionRenderers\"},{\"attributes\":{},\"id\":\"2250\",\"type\":\"UnionRenderers\"},{\"attributes\":{},\"id\":\"2102\",\"type\":\"DataRange1d\"},{\"attributes\":{},\"id\":\"2247\",\"type\":\"AllLabels\"},{\"attributes\":{},\"id\":\"2251\",\"type\":\"Selection\"},{\"attributes\":{\"axis_label\":\"Wavelength [\\u03bcm]\",\"axis_label_text_font\":\"times\",\"axis_label_text_font_size\":\"14pt\",\"axis_label_text_font_style\":\"bold\",\"formatter\":{\"id\":\"2246\"},\"major_label_policy\":{\"id\":\"2247\"},\"major_label_text_font\":\"times\",\"major_label_text_font_size\":\"14pt\",\"ticker\":{\"id\":\"2111\"}},\"id\":\"2110\",\"type\":\"LogAxis\"},{\"attributes\":{},\"id\":\"2122\",\"type\":\"ResetTool\"},{\"attributes\":{},\"id\":\"2243\",\"type\":\"BasicTickFormatter\"},{\"attributes\":{\"bottom_units\":\"screen\",\"fill_alpha\":0.5,\"fill_color\":\"lightgrey\",\"left_units\":\"screen\",\"level\":\"overlay\",\"line_alpha\":1.0,\"line_color\":\"black\",\"line_dash\":[4,4],\"line_width\":2,\"right_units\":\"screen\",\"syncable\":false,\"top_units\":\"screen\"},\"id\":\"2124\",\"type\":\"BoxAnnotation\"},{\"attributes\":{\"overlay\":{\"id\":\"2124\"}},\"id\":\"2120\",\"type\":\"BoxZoomTool\"},{\"attributes\":{\"data_source\":{\"id\":\"2138\"},\"glyph\":{\"id\":\"2139\"},\"hover_glyph\":null,\"muted_glyph\":{\"id\":\"2141\"},\"nonselection_glyph\":{\"id\":\"2140\"},\"view\":{\"id\":\"2143\"}},\"id\":\"2142\",\"type\":\"GlyphRenderer\"},{\"attributes\":{},\"id\":\"2119\",\"type\":\"WheelZoomTool\"},{\"attributes\":{\"line_alpha\":0.1,\"line_color\":\"#0072B2\",\"line_width\":3,\"x\":{\"field\":\"x\"},\"y\":{\"field\":\"y\"}},\"id\":\"2134\",\"type\":\"Line\"},{\"attributes\":{\"label\":{\"value\":\"Enhanced Rayleigh\"},\"renderers\":[{\"id\":\"2142\"}]},\"id\":\"2146\",\"type\":\"LegendItem\"}],\"root_ids\":[\"2101\"]},\"title\":\"Bokeh Application\",\"version\":\"2.3.3\"}};\n",
       "  var render_items = [{\"docid\":\"904f48e4-5d66-4cd6-a277-47779d794d9f\",\"root_ids\":[\"2101\"],\"roots\":{\"2101\":\"c6a14164-75e9-4ca1-a3c3-336f568b9ab4\"}}];\n",
       "  root.Bokeh.embed.embed_items_notebook(docs_json, render_items);\n",
       "\n",
       "  }\n",
       "  if (root.Bokeh !== undefined) {\n",
       "    embed_document(root);\n",
       "  } else {\n",
       "    var attempts = 0;\n",
       "    var timer = setInterval(function(root) {\n",
       "      if (root.Bokeh !== undefined) {\n",
       "        clearInterval(timer);\n",
       "        embed_document(root);\n",
       "      } else {\n",
       "        attempts++;\n",
       "        if (attempts > 100) {\n",
       "          clearInterval(timer);\n",
       "          console.log(\"Bokeh: ERROR: Unable to run BokehJS code because BokehJS library is missing\");\n",
       "        }\n",
       "      }\n",
       "    }, 10, root)\n",
       "  }\n",
       "})(window);"
      ],
      "application/vnd.bokehjs_exec.v0+json": ""
     },
     "metadata": {
      "application/vnd.bokehjs_exec.v0+json": {
       "id": "2101"
      }
     },
     "output_type": "display_data"
    }
   ],
   "source": [
    "case1.clouds(df=pd.DataFrame({\n",
    "    'opd':enhanced_rayleigh_opd,\n",
    "    'g0':enhanced_rayleigh_opd*0,\n",
    "    'w0':enhanced_rayleigh_opd*0\n",
    "}))\n",
    "\n",
    "df_ray= case1.spectrum(opa, full_output=True,calculation='transmission') #note the new last key \n",
    "\n",
    "wno, rprs2_ray = df_ray['wavenumber'] , df_ray['transit_depth']\n",
    "wno, rprs2_ray = jdi.mean_regrid(wno, rprs2_ray, R=150)\n",
    "full_output_ray = df_ray['full_output']\n",
    "\n",
    "jpi.show(jpi.spectrum([wno, wno],[1e6*(rprs2-np.mean(rprs2))\n",
    "                             , (rprs2_ray-np.mean(rprs2_ray))*1e6],\n",
    "                  legend=['H2 Rayleigh','Enhanced Rayleigh'],\n",
    "                  plot_width=600,x_axis_type='log'))\n"
   ]
  },
  {
   "cell_type": "code",
   "execution_count": null,
   "metadata": {},
   "outputs": [],
   "source": []
  }
 ],
 "metadata": {
  "kernelspec": {
   "display_name": "Python 3 (ipykernel)",
   "language": "python",
   "name": "python3"
  },
  "language_info": {
   "codemirror_mode": {
    "name": "ipython",
    "version": 3
   },
   "file_extension": ".py",
   "mimetype": "text/x-python",
   "name": "python",
   "nbconvert_exporter": "python",
   "pygments_lexer": "ipython3",
   "version": "3.8.12"
  },
  "toc": {
   "base_numbering": 1,
   "nav_menu": {},
   "number_sections": true,
   "sideBar": true,
   "skip_h1_title": false,
   "title_cell": "Table of Contents",
   "title_sidebar": "Contents",
   "toc_cell": true,
   "toc_position": {},
   "toc_section_display": true,
   "toc_window_display": false
  }
 },
 "nbformat": 4,
 "nbformat_minor": 2
}
