{
 "cells": [
  {
   "cell_type": "markdown",
   "metadata": {},
   "source": [
    "# Computing Transmission Spectroscopy\n",
    "\n",
    "Computing transmission spectroscopy is pretty much the same deal as the thermal emission/reflected light. There are just a couple tweaks we will have to make in order to make sure we have the full set of info. \n"
   ]
  },
  {
   "cell_type": "code",
   "execution_count": 1,
   "metadata": {},
   "outputs": [
    {
     "data": {
      "text/html": [
       "\n",
       "    <div class=\"bk-root\">\n",
       "        <a href=\"https://bokeh.org\" target=\"_blank\" class=\"bk-logo bk-logo-small bk-logo-notebook\"></a>\n",
       "        <span id=\"1002\">Loading BokehJS ...</span>\n",
       "    </div>"
      ]
     },
     "metadata": {},
     "output_type": "display_data"
    },
    {
     "data": {
      "application/javascript": [
       "\n",
       "(function(root) {\n",
       "  function now() {\n",
       "    return new Date();\n",
       "  }\n",
       "\n",
       "  const force = true;\n",
       "\n",
       "  if (typeof root._bokeh_onload_callbacks === \"undefined\" || force === true) {\n",
       "    root._bokeh_onload_callbacks = [];\n",
       "    root._bokeh_is_loading = undefined;\n",
       "  }\n",
       "\n",
       "  const JS_MIME_TYPE = 'application/javascript';\n",
       "  const HTML_MIME_TYPE = 'text/html';\n",
       "  const EXEC_MIME_TYPE = 'application/vnd.bokehjs_exec.v0+json';\n",
       "  const CLASS_NAME = 'output_bokeh rendered_html';\n",
       "\n",
       "  /**\n",
       "   * Render data to the DOM node\n",
       "   */\n",
       "  function render(props, node) {\n",
       "    const script = document.createElement(\"script\");\n",
       "    node.appendChild(script);\n",
       "  }\n",
       "\n",
       "  /**\n",
       "   * Handle when an output is cleared or removed\n",
       "   */\n",
       "  function handleClearOutput(event, handle) {\n",
       "    const cell = handle.cell;\n",
       "\n",
       "    const id = cell.output_area._bokeh_element_id;\n",
       "    const server_id = cell.output_area._bokeh_server_id;\n",
       "    // Clean up Bokeh references\n",
       "    if (id != null && id in Bokeh.index) {\n",
       "      Bokeh.index[id].model.document.clear();\n",
       "      delete Bokeh.index[id];\n",
       "    }\n",
       "\n",
       "    if (server_id !== undefined) {\n",
       "      // Clean up Bokeh references\n",
       "      const cmd_clean = \"from bokeh.io.state import curstate; print(curstate().uuid_to_server['\" + server_id + \"'].get_sessions()[0].document.roots[0]._id)\";\n",
       "      cell.notebook.kernel.execute(cmd_clean, {\n",
       "        iopub: {\n",
       "          output: function(msg) {\n",
       "            const id = msg.content.text.trim();\n",
       "            if (id in Bokeh.index) {\n",
       "              Bokeh.index[id].model.document.clear();\n",
       "              delete Bokeh.index[id];\n",
       "            }\n",
       "          }\n",
       "        }\n",
       "      });\n",
       "      // Destroy server and session\n",
       "      const cmd_destroy = \"import bokeh.io.notebook as ion; ion.destroy_server('\" + server_id + \"')\";\n",
       "      cell.notebook.kernel.execute(cmd_destroy);\n",
       "    }\n",
       "  }\n",
       "\n",
       "  /**\n",
       "   * Handle when a new output is added\n",
       "   */\n",
       "  function handleAddOutput(event, handle) {\n",
       "    const output_area = handle.output_area;\n",
       "    const output = handle.output;\n",
       "\n",
       "    // limit handleAddOutput to display_data with EXEC_MIME_TYPE content only\n",
       "    if ((output.output_type != \"display_data\") || (!Object.prototype.hasOwnProperty.call(output.data, EXEC_MIME_TYPE))) {\n",
       "      return\n",
       "    }\n",
       "\n",
       "    const toinsert = output_area.element.find(\".\" + CLASS_NAME.split(' ')[0]);\n",
       "\n",
       "    if (output.metadata[EXEC_MIME_TYPE][\"id\"] !== undefined) {\n",
       "      toinsert[toinsert.length - 1].firstChild.textContent = output.data[JS_MIME_TYPE];\n",
       "      // store reference to embed id on output_area\n",
       "      output_area._bokeh_element_id = output.metadata[EXEC_MIME_TYPE][\"id\"];\n",
       "    }\n",
       "    if (output.metadata[EXEC_MIME_TYPE][\"server_id\"] !== undefined) {\n",
       "      const bk_div = document.createElement(\"div\");\n",
       "      bk_div.innerHTML = output.data[HTML_MIME_TYPE];\n",
       "      const script_attrs = bk_div.children[0].attributes;\n",
       "      for (let i = 0; i < script_attrs.length; i++) {\n",
       "        toinsert[toinsert.length - 1].firstChild.setAttribute(script_attrs[i].name, script_attrs[i].value);\n",
       "        toinsert[toinsert.length - 1].firstChild.textContent = bk_div.children[0].textContent\n",
       "      }\n",
       "      // store reference to server id on output_area\n",
       "      output_area._bokeh_server_id = output.metadata[EXEC_MIME_TYPE][\"server_id\"];\n",
       "    }\n",
       "  }\n",
       "\n",
       "  function register_renderer(events, OutputArea) {\n",
       "\n",
       "    function append_mime(data, metadata, element) {\n",
       "      // create a DOM node to render to\n",
       "      const toinsert = this.create_output_subarea(\n",
       "        metadata,\n",
       "        CLASS_NAME,\n",
       "        EXEC_MIME_TYPE\n",
       "      );\n",
       "      this.keyboard_manager.register_events(toinsert);\n",
       "      // Render to node\n",
       "      const props = {data: data, metadata: metadata[EXEC_MIME_TYPE]};\n",
       "      render(props, toinsert[toinsert.length - 1]);\n",
       "      element.append(toinsert);\n",
       "      return toinsert\n",
       "    }\n",
       "\n",
       "    /* Handle when an output is cleared or removed */\n",
       "    events.on('clear_output.CodeCell', handleClearOutput);\n",
       "    events.on('delete.Cell', handleClearOutput);\n",
       "\n",
       "    /* Handle when a new output is added */\n",
       "    events.on('output_added.OutputArea', handleAddOutput);\n",
       "\n",
       "    /**\n",
       "     * Register the mime type and append_mime function with output_area\n",
       "     */\n",
       "    OutputArea.prototype.register_mime_type(EXEC_MIME_TYPE, append_mime, {\n",
       "      /* Is output safe? */\n",
       "      safe: true,\n",
       "      /* Index of renderer in `output_area.display_order` */\n",
       "      index: 0\n",
       "    });\n",
       "  }\n",
       "\n",
       "  // register the mime type if in Jupyter Notebook environment and previously unregistered\n",
       "  if (root.Jupyter !== undefined) {\n",
       "    const events = require('base/js/events');\n",
       "    const OutputArea = require('notebook/js/outputarea').OutputArea;\n",
       "\n",
       "    if (OutputArea.prototype.mime_types().indexOf(EXEC_MIME_TYPE) == -1) {\n",
       "      register_renderer(events, OutputArea);\n",
       "    }\n",
       "  }\n",
       "\n",
       "  \n",
       "  if (typeof (root._bokeh_timeout) === \"undefined\" || force === true) {\n",
       "    root._bokeh_timeout = Date.now() + 5000;\n",
       "    root._bokeh_failed_load = false;\n",
       "  }\n",
       "\n",
       "  const NB_LOAD_WARNING = {'data': {'text/html':\n",
       "     \"<div style='background-color: #fdd'>\\n\"+\n",
       "     \"<p>\\n\"+\n",
       "     \"BokehJS does not appear to have successfully loaded. If loading BokehJS from CDN, this \\n\"+\n",
       "     \"may be due to a slow or bad network connection. Possible fixes:\\n\"+\n",
       "     \"</p>\\n\"+\n",
       "     \"<ul>\\n\"+\n",
       "     \"<li>re-rerun `output_notebook()` to attempt to load from CDN again, or</li>\\n\"+\n",
       "     \"<li>use INLINE resources instead, as so:</li>\\n\"+\n",
       "     \"</ul>\\n\"+\n",
       "     \"<code>\\n\"+\n",
       "     \"from bokeh.resources import INLINE\\n\"+\n",
       "     \"output_notebook(resources=INLINE)\\n\"+\n",
       "     \"</code>\\n\"+\n",
       "     \"</div>\"}};\n",
       "\n",
       "  function display_loaded() {\n",
       "    const el = document.getElementById(\"1002\");\n",
       "    if (el != null) {\n",
       "      el.textContent = \"BokehJS is loading...\";\n",
       "    }\n",
       "    if (root.Bokeh !== undefined) {\n",
       "      if (el != null) {\n",
       "        el.textContent = \"BokehJS \" + root.Bokeh.version + \" successfully loaded.\";\n",
       "      }\n",
       "    } else if (Date.now() < root._bokeh_timeout) {\n",
       "      setTimeout(display_loaded, 100)\n",
       "    }\n",
       "  }\n",
       "\n",
       "\n",
       "  function run_callbacks() {\n",
       "    try {\n",
       "      root._bokeh_onload_callbacks.forEach(function(callback) {\n",
       "        if (callback != null)\n",
       "          callback();\n",
       "      });\n",
       "    } finally {\n",
       "      delete root._bokeh_onload_callbacks\n",
       "    }\n",
       "    console.debug(\"Bokeh: all callbacks have finished\");\n",
       "  }\n",
       "\n",
       "  function load_libs(css_urls, js_urls, callback) {\n",
       "    if (css_urls == null) css_urls = [];\n",
       "    if (js_urls == null) js_urls = [];\n",
       "\n",
       "    root._bokeh_onload_callbacks.push(callback);\n",
       "    if (root._bokeh_is_loading > 0) {\n",
       "      console.debug(\"Bokeh: BokehJS is being loaded, scheduling callback at\", now());\n",
       "      return null;\n",
       "    }\n",
       "    if (js_urls == null || js_urls.length === 0) {\n",
       "      run_callbacks();\n",
       "      return null;\n",
       "    }\n",
       "    console.debug(\"Bokeh: BokehJS not loaded, scheduling load and callback at\", now());\n",
       "    root._bokeh_is_loading = css_urls.length + js_urls.length;\n",
       "\n",
       "    function on_load() {\n",
       "      root._bokeh_is_loading--;\n",
       "      if (root._bokeh_is_loading === 0) {\n",
       "        console.debug(\"Bokeh: all BokehJS libraries/stylesheets loaded\");\n",
       "        run_callbacks()\n",
       "      }\n",
       "    }\n",
       "\n",
       "    function on_error(url) {\n",
       "      console.error(\"failed to load \" + url);\n",
       "    }\n",
       "\n",
       "    for (let i = 0; i < css_urls.length; i++) {\n",
       "      const url = css_urls[i];\n",
       "      const element = document.createElement(\"link\");\n",
       "      element.onload = on_load;\n",
       "      element.onerror = on_error.bind(null, url);\n",
       "      element.rel = \"stylesheet\";\n",
       "      element.type = \"text/css\";\n",
       "      element.href = url;\n",
       "      console.debug(\"Bokeh: injecting link tag for BokehJS stylesheet: \", url);\n",
       "      document.body.appendChild(element);\n",
       "    }\n",
       "\n",
       "    for (let i = 0; i < js_urls.length; i++) {\n",
       "      const url = js_urls[i];\n",
       "      const element = document.createElement('script');\n",
       "      element.onload = on_load;\n",
       "      element.onerror = on_error.bind(null, url);\n",
       "      element.async = false;\n",
       "      element.src = url;\n",
       "      console.debug(\"Bokeh: injecting script tag for BokehJS library: \", url);\n",
       "      document.head.appendChild(element);\n",
       "    }\n",
       "  };\n",
       "\n",
       "  function inject_raw_css(css) {\n",
       "    const element = document.createElement(\"style\");\n",
       "    element.appendChild(document.createTextNode(css));\n",
       "    document.body.appendChild(element);\n",
       "  }\n",
       "\n",
       "  \n",
       "  const js_urls = [\"https://cdn.bokeh.org/bokeh/release/bokeh-2.4.2.min.js\", \"https://cdn.bokeh.org/bokeh/release/bokeh-gl-2.4.2.min.js\", \"https://cdn.bokeh.org/bokeh/release/bokeh-widgets-2.4.2.min.js\", \"https://cdn.bokeh.org/bokeh/release/bokeh-tables-2.4.2.min.js\", \"https://cdn.bokeh.org/bokeh/release/bokeh-mathjax-2.4.2.min.js\"];\n",
       "  const css_urls = [];\n",
       "  \n",
       "\n",
       "  const inline_js = [\n",
       "    function(Bokeh) {\n",
       "      Bokeh.set_log_level(\"info\");\n",
       "    },\n",
       "    function(Bokeh) {\n",
       "    \n",
       "    \n",
       "    }\n",
       "  ];\n",
       "\n",
       "  function run_inline_js() {\n",
       "    \n",
       "    if (root.Bokeh !== undefined || force === true) {\n",
       "      \n",
       "    for (let i = 0; i < inline_js.length; i++) {\n",
       "      inline_js[i].call(root, root.Bokeh);\n",
       "    }\n",
       "    if (force === true) {\n",
       "        display_loaded();\n",
       "      }} else if (Date.now() < root._bokeh_timeout) {\n",
       "      setTimeout(run_inline_js, 100);\n",
       "    } else if (!root._bokeh_failed_load) {\n",
       "      console.log(\"Bokeh: BokehJS failed to load within specified timeout.\");\n",
       "      root._bokeh_failed_load = true;\n",
       "    } else if (force !== true) {\n",
       "      const cell = $(document.getElementById(\"1002\")).parents('.cell').data().cell;\n",
       "      cell.output_area.append_execute_result(NB_LOAD_WARNING)\n",
       "    }\n",
       "\n",
       "  }\n",
       "\n",
       "  if (root._bokeh_is_loading === 0) {\n",
       "    console.debug(\"Bokeh: BokehJS loaded, going straight to plotting\");\n",
       "    run_inline_js();\n",
       "  } else {\n",
       "    load_libs(css_urls, js_urls, function() {\n",
       "      console.debug(\"Bokeh: BokehJS plotting callback run at\", now());\n",
       "      run_inline_js();\n",
       "    });\n",
       "  }\n",
       "}(window));"
      ],
      "application/vnd.bokehjs_load.v0+json": "\n(function(root) {\n  function now() {\n    return new Date();\n  }\n\n  const force = true;\n\n  if (typeof root._bokeh_onload_callbacks === \"undefined\" || force === true) {\n    root._bokeh_onload_callbacks = [];\n    root._bokeh_is_loading = undefined;\n  }\n\n  \n\n  \n  if (typeof (root._bokeh_timeout) === \"undefined\" || force === true) {\n    root._bokeh_timeout = Date.now() + 5000;\n    root._bokeh_failed_load = false;\n  }\n\n  const NB_LOAD_WARNING = {'data': {'text/html':\n     \"<div style='background-color: #fdd'>\\n\"+\n     \"<p>\\n\"+\n     \"BokehJS does not appear to have successfully loaded. If loading BokehJS from CDN, this \\n\"+\n     \"may be due to a slow or bad network connection. Possible fixes:\\n\"+\n     \"</p>\\n\"+\n     \"<ul>\\n\"+\n     \"<li>re-rerun `output_notebook()` to attempt to load from CDN again, or</li>\\n\"+\n     \"<li>use INLINE resources instead, as so:</li>\\n\"+\n     \"</ul>\\n\"+\n     \"<code>\\n\"+\n     \"from bokeh.resources import INLINE\\n\"+\n     \"output_notebook(resources=INLINE)\\n\"+\n     \"</code>\\n\"+\n     \"</div>\"}};\n\n  function display_loaded() {\n    const el = document.getElementById(\"1002\");\n    if (el != null) {\n      el.textContent = \"BokehJS is loading...\";\n    }\n    if (root.Bokeh !== undefined) {\n      if (el != null) {\n        el.textContent = \"BokehJS \" + root.Bokeh.version + \" successfully loaded.\";\n      }\n    } else if (Date.now() < root._bokeh_timeout) {\n      setTimeout(display_loaded, 100)\n    }\n  }\n\n\n  function run_callbacks() {\n    try {\n      root._bokeh_onload_callbacks.forEach(function(callback) {\n        if (callback != null)\n          callback();\n      });\n    } finally {\n      delete root._bokeh_onload_callbacks\n    }\n    console.debug(\"Bokeh: all callbacks have finished\");\n  }\n\n  function load_libs(css_urls, js_urls, callback) {\n    if (css_urls == null) css_urls = [];\n    if (js_urls == null) js_urls = [];\n\n    root._bokeh_onload_callbacks.push(callback);\n    if (root._bokeh_is_loading > 0) {\n      console.debug(\"Bokeh: BokehJS is being loaded, scheduling callback at\", now());\n      return null;\n    }\n    if (js_urls == null || js_urls.length === 0) {\n      run_callbacks();\n      return null;\n    }\n    console.debug(\"Bokeh: BokehJS not loaded, scheduling load and callback at\", now());\n    root._bokeh_is_loading = css_urls.length + js_urls.length;\n\n    function on_load() {\n      root._bokeh_is_loading--;\n      if (root._bokeh_is_loading === 0) {\n        console.debug(\"Bokeh: all BokehJS libraries/stylesheets loaded\");\n        run_callbacks()\n      }\n    }\n\n    function on_error(url) {\n      console.error(\"failed to load \" + url);\n    }\n\n    for (let i = 0; i < css_urls.length; i++) {\n      const url = css_urls[i];\n      const element = document.createElement(\"link\");\n      element.onload = on_load;\n      element.onerror = on_error.bind(null, url);\n      element.rel = \"stylesheet\";\n      element.type = \"text/css\";\n      element.href = url;\n      console.debug(\"Bokeh: injecting link tag for BokehJS stylesheet: \", url);\n      document.body.appendChild(element);\n    }\n\n    for (let i = 0; i < js_urls.length; i++) {\n      const url = js_urls[i];\n      const element = document.createElement('script');\n      element.onload = on_load;\n      element.onerror = on_error.bind(null, url);\n      element.async = false;\n      element.src = url;\n      console.debug(\"Bokeh: injecting script tag for BokehJS library: \", url);\n      document.head.appendChild(element);\n    }\n  };\n\n  function inject_raw_css(css) {\n    const element = document.createElement(\"style\");\n    element.appendChild(document.createTextNode(css));\n    document.body.appendChild(element);\n  }\n\n  \n  const js_urls = [\"https://cdn.bokeh.org/bokeh/release/bokeh-2.4.2.min.js\", \"https://cdn.bokeh.org/bokeh/release/bokeh-gl-2.4.2.min.js\", \"https://cdn.bokeh.org/bokeh/release/bokeh-widgets-2.4.2.min.js\", \"https://cdn.bokeh.org/bokeh/release/bokeh-tables-2.4.2.min.js\", \"https://cdn.bokeh.org/bokeh/release/bokeh-mathjax-2.4.2.min.js\"];\n  const css_urls = [];\n  \n\n  const inline_js = [\n    function(Bokeh) {\n      Bokeh.set_log_level(\"info\");\n    },\n    function(Bokeh) {\n    \n    \n    }\n  ];\n\n  function run_inline_js() {\n    \n    if (root.Bokeh !== undefined || force === true) {\n      \n    for (let i = 0; i < inline_js.length; i++) {\n      inline_js[i].call(root, root.Bokeh);\n    }\n    if (force === true) {\n        display_loaded();\n      }} else if (Date.now() < root._bokeh_timeout) {\n      setTimeout(run_inline_js, 100);\n    } else if (!root._bokeh_failed_load) {\n      console.log(\"Bokeh: BokehJS failed to load within specified timeout.\");\n      root._bokeh_failed_load = true;\n    } else if (force !== true) {\n      const cell = $(document.getElementById(\"1002\")).parents('.cell').data().cell;\n      cell.output_area.append_execute_result(NB_LOAD_WARNING)\n    }\n\n  }\n\n  if (root._bokeh_is_loading === 0) {\n    console.debug(\"Bokeh: BokehJS loaded, going straight to plotting\");\n    run_inline_js();\n  } else {\n    load_libs(css_urls, js_urls, function() {\n      console.debug(\"Bokeh: BokehJS plotting callback run at\", now());\n      run_inline_js();\n    });\n  }\n}(window));"
     },
     "metadata": {},
     "output_type": "display_data"
    }
   ],
   "source": [
    "import numpy as np\n",
    "import pandas as pd\n",
    "\n",
    "#picaso\n",
    "from picaso import justdoit as jdi \n",
    "from picaso import justplotit as jpi\n",
    "\n",
    "#plotting\n",
    "jpi.output_notebook()\n"
   ]
  },
  {
   "cell_type": "markdown",
   "metadata": {},
   "source": [
    "We will use new Hot Jupiter template to guide us through the exercise. "
   ]
  },
  {
   "cell_type": "code",
   "execution_count": 2,
   "metadata": {},
   "outputs": [],
   "source": [
    "opa = jdi.opannection(wave_range=[0.6,2])\n",
    "\n",
    "case1 = jdi.inputs()\n",
    "\n",
    "case1.phase_angle(0) \n",
    "\n",
    "\n",
    "#here we are going to have to specify gravity through R and M since we need it in the Flux calc\n",
    "case1.gravity(mass=1, mass_unit=jdi.u.Unit('M_jup'), \n",
    "              radius=1.2, radius_unit=jdi.u.Unit('R_jup'))\n",
    "\n",
    "#here we are going to have to specify R as well\n",
    "case1.star(opa, 4000,0.0122,4.437,radius=0.7, radius_unit = jdi.u.Unit('R_sun') )\n",
    "\n",
    "#atmo\n",
    "case1.atmosphere(filename = jdi.HJ_pt(), delim_whitespace=True)"
   ]
  },
  {
   "cell_type": "markdown",
   "metadata": {},
   "source": [
    "## Return ``PICASO`` Full Ouput"
   ]
  },
  {
   "cell_type": "code",
   "execution_count": 3,
   "metadata": {},
   "outputs": [
    {
     "name": "stderr",
     "output_type": "stream",
     "text": [
      "/Users/nbatalh1/Documents/codes/PICASO/picaso/picaso/atmsetup.py:190: UserWarning: Ignoring x in input file, not a recognized molecule\n",
      "  warnings.warn(\"Ignoring %s in input file, not a recognized molecule\" % i, UserWarning)\n",
      "/Users/nbatalh1/Documents/codes/PICASO/picaso/picaso/atmsetup.py:190: UserWarning: Ignoring KZZ in input file, not a recognized molecule\n",
      "  warnings.warn(\"Ignoring %s in input file, not a recognized molecule\" % i, UserWarning)\n"
     ]
    }
   ],
   "source": [
    "df= case1.spectrum(opa, full_output=True,calculation='transmission') #note the new last key \n",
    "\n",
    "wno, rprs2  = df['wavenumber'] , df['transit_depth']\n",
    "wno, rprs2 = jdi.mean_regrid(wno, rprs2, R=150)\n",
    "full_output = df['full_output']\n"
   ]
  },
  {
   "cell_type": "markdown",
   "metadata": {},
   "source": [
    "Here we are getting a few error messages that our example `HJ_cld` had some unrecognized molecules. Looking them over, this looks okay! `x` is not a molecule, and neither is `Kzz`. The code has accurately identified non-molecules in our input."
   ]
  },
  {
   "cell_type": "markdown",
   "metadata": {},
   "source": [
    "## Analyzing Transit Spectroscopy Output\n"
   ]
  },
  {
   "cell_type": "markdown",
   "metadata": {},
   "source": [
    "### Can use the same plotting functionality as reflected light\n"
   ]
  },
  {
   "cell_type": "code",
   "execution_count": 4,
   "metadata": {},
   "outputs": [
    {
     "data": {
      "text/html": [
       "\n",
       "\n",
       "\n",
       "\n",
       "\n",
       "\n",
       "  <div class=\"bk-root\" id=\"f25cf396-170b-41b6-b33a-68d9f54ff1bf\" data-root-id=\"1003\"></div>\n"
      ]
     },
     "metadata": {},
     "output_type": "display_data"
    },
    {
     "data": {
      "application/javascript": [
       "(function(root) {\n",
       "  function embed_document(root) {\n",
       "    \n",
       "  const docs_json = {\"a9737849-b548-4b47-93e1-51d4ee4c2ca7\":{\"defs\":[],\"roots\":{\"references\":[{\"attributes\":{\"below\":[{\"id\":\"1014\"}],\"center\":[{\"id\":\"1017\"},{\"id\":\"1021\"}],\"height\":300,\"left\":[{\"id\":\"1018\"}],\"renderers\":[{\"id\":\"1040\"}],\"title\":{\"id\":\"1004\"},\"toolbar\":{\"id\":\"1029\"},\"width\":500,\"x_range\":{\"id\":\"1006\"},\"x_scale\":{\"id\":\"1010\"},\"y_range\":{\"id\":\"1008\"},\"y_scale\":{\"id\":\"1012\"}},\"id\":\"1003\",\"subtype\":\"Figure\",\"type\":\"Plot\"},{\"attributes\":{\"tools\":[{\"id\":\"1022\"},{\"id\":\"1023\"},{\"id\":\"1024\"},{\"id\":\"1025\"},{\"id\":\"1026\"},{\"id\":\"1027\"}]},\"id\":\"1029\",\"type\":\"Toolbar\"},{\"attributes\":{\"ticker\":null},\"id\":\"1044\",\"type\":\"LogTickFormatter\"},{\"attributes\":{\"line_color\":\"#1f77b4\",\"line_width\":3,\"x\":{\"field\":\"x\"},\"y\":{\"field\":\"y\"}},\"id\":\"1037\",\"type\":\"Line\"},{\"attributes\":{},\"id\":\"1023\",\"type\":\"WheelZoomTool\"},{\"attributes\":{},\"id\":\"1025\",\"type\":\"SaveTool\"},{\"attributes\":{},\"id\":\"1049\",\"type\":\"UnionRenderers\"},{\"attributes\":{},\"id\":\"1050\",\"type\":\"Selection\"},{\"attributes\":{\"coordinates\":null,\"data_source\":{\"id\":\"1036\"},\"glyph\":{\"id\":\"1037\"},\"group\":null,\"hover_glyph\":null,\"muted_glyph\":{\"id\":\"1039\"},\"nonselection_glyph\":{\"id\":\"1038\"},\"view\":{\"id\":\"1041\"}},\"id\":\"1040\",\"type\":\"GlyphRenderer\"},{\"attributes\":{},\"id\":\"1012\",\"type\":\"LogScale\"},{\"attributes\":{\"bottom_units\":\"screen\",\"coordinates\":null,\"fill_alpha\":0.5,\"fill_color\":\"lightgrey\",\"group\":null,\"left_units\":\"screen\",\"level\":\"overlay\",\"line_alpha\":1.0,\"line_color\":\"black\",\"line_dash\":[4,4],\"line_width\":2,\"right_units\":\"screen\",\"syncable\":false,\"top_units\":\"screen\"},\"id\":\"1028\",\"type\":\"BoxAnnotation\"},{\"attributes\":{\"end\":2.8740886833916594e-06,\"start\":143.41877701333254},\"id\":\"1008\",\"type\":\"Range1d\"},{\"attributes\":{},\"id\":\"1010\",\"type\":\"LinearScale\"},{\"attributes\":{\"source\":{\"id\":\"1036\"}},\"id\":\"1041\",\"type\":\"CDSView\"},{\"attributes\":{},\"id\":\"1027\",\"type\":\"HelpTool\"},{\"attributes\":{\"axis\":{\"id\":\"1014\"},\"coordinates\":null,\"group\":null,\"ticker\":null},\"id\":\"1017\",\"type\":\"Grid\"},{\"attributes\":{\"axis_label\":\"Pressure(Bars)\",\"axis_label_text_font\":\"times\",\"axis_label_text_font_size\":\"14pt\",\"axis_label_text_font_style\":\"bold\",\"coordinates\":null,\"formatter\":{\"id\":\"1044\"},\"group\":null,\"major_label_policy\":{\"id\":\"1045\"},\"major_label_text_font\":\"times\",\"major_label_text_font_size\":\"14pt\",\"ticker\":{\"id\":\"1019\"}},\"id\":\"1018\",\"type\":\"LogAxis\"},{\"attributes\":{\"line_alpha\":0.1,\"line_color\":\"#1f77b4\",\"line_width\":3,\"x\":{\"field\":\"x\"},\"y\":{\"field\":\"y\"}},\"id\":\"1038\",\"type\":\"Line\"},{\"attributes\":{},\"id\":\"1015\",\"type\":\"BasicTicker\"},{\"attributes\":{\"coordinates\":null,\"group\":null,\"text\":\"Pressure-Temperature Profile\"},\"id\":\"1004\",\"type\":\"Title\"},{\"attributes\":{\"axis_label\":\"Temperature (K)\",\"axis_label_text_font\":\"times\",\"axis_label_text_font_size\":\"14pt\",\"axis_label_text_font_style\":\"bold\",\"coordinates\":null,\"formatter\":{\"id\":\"1047\"},\"group\":null,\"major_label_policy\":{\"id\":\"1048\"},\"major_label_text_font\":\"times\",\"major_label_text_font_size\":\"14pt\",\"ticker\":{\"id\":\"1015\"}},\"id\":\"1014\",\"type\":\"LinearAxis\"},{\"attributes\":{\"overlay\":{\"id\":\"1028\"}},\"id\":\"1024\",\"type\":\"BoxZoomTool\"},{\"attributes\":{},\"id\":\"1022\",\"type\":\"PanTool\"},{\"attributes\":{},\"id\":\"1047\",\"type\":\"BasicTickFormatter\"},{\"attributes\":{},\"id\":\"1006\",\"type\":\"DataRange1d\"},{\"attributes\":{\"num_minor_ticks\":10},\"id\":\"1019\",\"type\":\"LogTicker\"},{\"attributes\":{},\"id\":\"1048\",\"type\":\"AllLabels\"},{\"attributes\":{},\"id\":\"1045\",\"type\":\"AllLabels\"},{\"attributes\":{},\"id\":\"1026\",\"type\":\"ResetTool\"},{\"attributes\":{\"data\":{\"x\":{\"__ndarray__\":\"NDMzMzN9iEC4HoXrUYuIQLgehetR2IhA4noUrkdEiUBI4XoUrsOJQNijcD0KRopANDMzMzPAikCQwvUoXCyLQAAAAAAAjotAAAAAAADvi0BmZmZmZlqMQHA9Ctej1YxAuB6F61FcjUAAAAAAAOONQFyPwvUoYI5A7FG4HoXPjkAzMzMzMy6PQGZmZmZmeo9ANDMzMzO4j0AAAAAAAPuPQML1KFyPLZBAXI/C9ahvkEAAAAAAgMCQQArXo3C9FZFAMzMzM7NmkUBwPQrXI7yRQB6F61G4JpJAMzMzM7OskkCF61G4nkiTQFyPwvWo8pNAAAAAAACllEAAAAAAAF2VQJqZmZkZGZZArkfhehTKlkBSuB6Fa2SXQAAAAACA7JdAj8L1KFxomEAK16NwPfGYQClcj8J1kplAuB6F69ExmkD2KFyPwr+aQDQzMzMzMptANDMzM7Okm0AUrkfheh2cQEjhehQud5xAXI/C9SimnEBSuB6Fa62cQKRwPQpXnZxA4XoUrkeEnEAzMzMzM2icQPYoXI9CTpxAzczMzMzznEA=\",\"dtype\":\"float64\",\"order\":\"little\",\"shape\":[52]},\"y\":{\"__ndarray__\":\"ZGuc9g4cyD5MxgdroxDRPg8Nq7E8KNg+PCi+azQZ4T64eH4SWjToPuEOwIbcIfE+Z0fnlcBA+D6YH2gliioBP9Sc7oPpTAg/Ql+zwzEzET+gljJTNVkYP2ZxYprjOyE/47vwko9lKD9bxrDhpkQxP5nUeP7hcTg/6iw3XFRNQT/T3tKpMH5IP1i/ozP/VVE/evcom4SKWD8yIkZ06F5hP/kHy8MMl2g/VofDFqNncT9hz+FLcKN4P3x0YW1acIE/X2vP28OviD9AhYSHRHmRP+ZaGzRwvJg/0yEEaB6CoT8CT0GG5sioP5UwcU3uirE/dGARDHnVuD8xiMFP55PBP9O3eEIG4sg/eGGlN7Kc0T9Ee1jImO7YP5XsWeOepeE/zbO0Jyb76D/JJeF0ba7xP1g6g2OjB/k/gxc9vHK3AUCvTMbddhQJQMNuAnVuwBFAzIQ6IyAhGUAKvmxdV8khQAlOitTELSlAXZNjGl7SMUD/kmg0gzo5QCwuSfFg20FAlZRAlEFHSUBXVyzIY+RRQEBcEvT/U1lAjhINn2btYUA=\",\"dtype\":\"float64\",\"order\":\"little\",\"shape\":[52]}},\"selected\":{\"id\":\"1050\"},\"selection_policy\":{\"id\":\"1049\"}},\"id\":\"1036\",\"type\":\"ColumnDataSource\"},{\"attributes\":{\"line_alpha\":0.2,\"line_color\":\"#1f77b4\",\"line_width\":3,\"x\":{\"field\":\"x\"},\"y\":{\"field\":\"y\"}},\"id\":\"1039\",\"type\":\"Line\"},{\"attributes\":{\"axis\":{\"id\":\"1018\"},\"coordinates\":null,\"dimension\":1,\"group\":null,\"ticker\":null},\"id\":\"1021\",\"type\":\"Grid\"}],\"root_ids\":[\"1003\"]},\"title\":\"Bokeh Application\",\"version\":\"2.4.2\"}};\n",
       "  const render_items = [{\"docid\":\"a9737849-b548-4b47-93e1-51d4ee4c2ca7\",\"root_ids\":[\"1003\"],\"roots\":{\"1003\":\"f25cf396-170b-41b6-b33a-68d9f54ff1bf\"}}];\n",
       "  root.Bokeh.embed.embed_items_notebook(docs_json, render_items);\n",
       "\n",
       "  }\n",
       "  if (root.Bokeh !== undefined) {\n",
       "    embed_document(root);\n",
       "  } else {\n",
       "    let attempts = 0;\n",
       "    const timer = setInterval(function(root) {\n",
       "      if (root.Bokeh !== undefined) {\n",
       "        clearInterval(timer);\n",
       "        embed_document(root);\n",
       "      } else {\n",
       "        attempts++;\n",
       "        if (attempts > 100) {\n",
       "          clearInterval(timer);\n",
       "          console.log(\"Bokeh: ERROR: Unable to run BokehJS code because BokehJS library is missing\");\n",
       "        }\n",
       "      }\n",
       "    }, 10, root)\n",
       "  }\n",
       "})(window);"
      ],
      "application/vnd.bokehjs_exec.v0+json": ""
     },
     "metadata": {
      "application/vnd.bokehjs_exec.v0+json": {
       "id": "1003"
      }
     },
     "output_type": "display_data"
    },
    {
     "data": {
      "text/html": [
       "\n",
       "\n",
       "\n",
       "\n",
       "\n",
       "\n",
       "  <div class=\"bk-root\" id=\"698a7078-00a1-443a-8219-392df5edb164\" data-root-id=\"1102\"></div>\n"
      ]
     },
     "metadata": {},
     "output_type": "display_data"
    },
    {
     "data": {
      "application/javascript": [
       "(function(root) {\n",
       "  function embed_document(root) {\n",
       "    \n",
       "  const docs_json = {\"ffbea839-3c60-438d-bc66-21a7fcd24cdb\":{\"defs\":[],\"roots\":{\"references\":[{\"attributes\":{\"below\":[{\"id\":\"1113\"}],\"center\":[{\"id\":\"1116\"},{\"id\":\"1120\"}],\"height\":300,\"left\":[{\"id\":\"1117\"},{\"id\":\"1243\"}],\"renderers\":[{\"id\":\"1139\"},{\"id\":\"1145\"},{\"id\":\"1151\"},{\"id\":\"1157\"},{\"id\":\"1163\"},{\"id\":\"1169\"},{\"id\":\"1175\"},{\"id\":\"1181\"},{\"id\":\"1187\"},{\"id\":\"1193\"},{\"id\":\"1199\"},{\"id\":\"1205\"},{\"id\":\"1211\"},{\"id\":\"1217\"},{\"id\":\"1223\"},{\"id\":\"1229\"},{\"id\":\"1235\"},{\"id\":\"1241\"}],\"title\":{\"id\":\"1103\"},\"toolbar\":{\"id\":\"1128\"},\"width\":500,\"x_range\":{\"id\":\"1105\"},\"x_scale\":{\"id\":\"1109\"},\"y_range\":{\"id\":\"1107\"},\"y_scale\":{\"id\":\"1111\"}},\"id\":\"1102\",\"subtype\":\"Figure\",\"type\":\"Plot\"},{\"attributes\":{\"end\":100.0,\"start\":1e-20},\"id\":\"1105\",\"type\":\"Range1d\"},{\"attributes\":{},\"id\":\"1283\",\"type\":\"UnionRenderers\"},{\"attributes\":{},\"id\":\"1284\",\"type\":\"Selection\"},{\"attributes\":{},\"id\":\"1293\",\"type\":\"UnionRenderers\"},{\"attributes\":{\"tools\":[{\"id\":\"1121\"},{\"id\":\"1122\"},{\"id\":\"1123\"},{\"id\":\"1124\"},{\"id\":\"1125\"},{\"id\":\"1126\"}]},\"id\":\"1128\",\"type\":\"Toolbar\"},{\"attributes\":{\"coordinates\":null,\"data_source\":{\"id\":\"1135\"},\"glyph\":{\"id\":\"1136\"},\"group\":null,\"hover_glyph\":null,\"muted_glyph\":{\"id\":\"1138\"},\"nonselection_glyph\":{\"id\":\"1137\"},\"view\":{\"id\":\"1140\"}},\"id\":\"1139\",\"type\":\"GlyphRenderer\"},{\"attributes\":{},\"id\":\"1294\",\"type\":\"Selection\"},{\"attributes\":{\"data\":{\"x\":{\"__ndarray__\":\"GQRWDi2y6T8ZBFYOLbLpPxkEVg4tsuk/GQRWDi2y6T+uR+F6FK7pP0SLbOf7qek/RIts5/up6T9Ei2zn+6npP0SLbOf7qek/RIts5/up6T9Ei2zn+6npP0SLbOf7qek/RIts5/up6T9Ei2zn+6npP0SLbOf7qek/RIts5/up6T9Ei2zn+6npP0SLbOf7qek/RIts5/up6T9Ei2zn+6npP0SLbOf7qek/RIts5/up6T/azvdT46XpP28Sg8DKoek/bxKDwMqh6T9vEoPAyqHpP28Sg8DKoek/bxKDwMqh6T9vEoPAyqHpP28Sg8DKoek/bxKDwMqh6T9vEoPAyqHpP28Sg8DKoek/bxKDwMqh6T9vEoPAyqHpP28Sg8DKoek/bxKDwMqh6T9vEoPAyqHpP28Sg8DKoek/bxKDwMqh6T9vEoPAyqHpP28Sg8DKoek/bxKDwMqh6T9vEoPAyqHpP28Sg8DKoek/bxKDwMqh6T9vEoPAyqHpPwRWDi2ynek/mpmZmZmZ6T8w3SQGgZXpP1pkO99Pjek/hutRuB6F6T8=\",\"dtype\":\"float64\",\"order\":\"little\",\"shape\":[52]},\"y\":{\"__ndarray__\":\"ZGuc9g4cyD5MxgdroxDRPg8Nq7E8KNg+PCi+azQZ4T64eH4SWjToPuEOwIbcIfE+Z0fnlcBA+D6YH2gliioBP9Sc7oPpTAg/Ql+zwzEzET+gljJTNVkYP2ZxYprjOyE/47vwko9lKD9bxrDhpkQxP5nUeP7hcTg/6iw3XFRNQT/T3tKpMH5IP1i/ozP/VVE/evcom4SKWD8yIkZ06F5hP/kHy8MMl2g/VofDFqNncT9hz+FLcKN4P3x0YW1acIE/X2vP28OviD9AhYSHRHmRP+ZaGzRwvJg/0yEEaB6CoT8CT0GG5sioP5UwcU3uirE/dGARDHnVuD8xiMFP55PBP9O3eEIG4sg/eGGlN7Kc0T9Ee1jImO7YP5XsWeOepeE/zbO0Jyb76D/JJeF0ba7xP1g6g2OjB/k/gxc9vHK3AUCvTMbddhQJQMNuAnVuwBFAzIQ6IyAhGUAKvmxdV8khQAlOitTELSlAXZNjGl7SMUD/kmg0gzo5QCwuSfFg20FAlZRAlEFHSUBXVyzIY+RRQEBcEvT/U1lAjhINn2btYUA=\",\"dtype\":\"float64\",\"order\":\"little\",\"shape\":[52]}},\"selected\":{\"id\":\"1280\"},\"selection_policy\":{\"id\":\"1279\"}},\"id\":\"1135\",\"type\":\"ColumnDataSource\"},{\"attributes\":{\"label\":{\"value\":\"H\"},\"renderers\":[{\"id\":\"1199\"}]},\"id\":\"1254\",\"type\":\"LegendItem\"},{\"attributes\":{\"source\":{\"id\":\"1165\"}},\"id\":\"1170\",\"type\":\"CDSView\"},{\"attributes\":{\"coordinates\":null,\"data_source\":{\"id\":\"1141\"},\"glyph\":{\"id\":\"1142\"},\"group\":null,\"hover_glyph\":null,\"muted_glyph\":{\"id\":\"1144\"},\"nonselection_glyph\":{\"id\":\"1143\"},\"view\":{\"id\":\"1146\"}},\"id\":\"1145\",\"type\":\"GlyphRenderer\"},{\"attributes\":{\"click_policy\":\"mute\",\"coordinates\":null,\"group\":null,\"items\":[{\"id\":\"1244\"},{\"id\":\"1245\"},{\"id\":\"1246\"},{\"id\":\"1247\"},{\"id\":\"1248\"},{\"id\":\"1249\"},{\"id\":\"1250\"},{\"id\":\"1251\"},{\"id\":\"1252\"},{\"id\":\"1253\"},{\"id\":\"1254\"},{\"id\":\"1255\"},{\"id\":\"1256\"},{\"id\":\"1257\"},{\"id\":\"1258\"},{\"id\":\"1259\"},{\"id\":\"1260\"},{\"id\":\"1261\"}],\"location\":[0,-20]},\"id\":\"1243\",\"type\":\"Legend\"},{\"attributes\":{\"overlay\":{\"id\":\"1127\"}},\"id\":\"1123\",\"type\":\"BoxZoomTool\"},{\"attributes\":{\"label\":{\"value\":\"PH3\"},\"renderers\":[{\"id\":\"1205\"}]},\"id\":\"1255\",\"type\":\"LegendItem\"},{\"attributes\":{\"axis_label\":\"Pressure(Bars)\",\"coordinates\":null,\"formatter\":{\"id\":\"1274\"},\"group\":null,\"major_label_policy\":{\"id\":\"1275\"},\"ticker\":{\"id\":\"1118\"}},\"id\":\"1117\",\"type\":\"LogAxis\"},{\"attributes\":{\"line_color\":\"#000003\",\"line_width\":3,\"x\":{\"field\":\"x\"},\"y\":{\"field\":\"y\"}},\"id\":\"1136\",\"type\":\"Line\"},{\"attributes\":{\"axis_label\":\"Mixing Ratio(v/v)\",\"coordinates\":null,\"formatter\":{\"id\":\"1277\"},\"group\":null,\"major_label_policy\":{\"id\":\"1278\"},\"ticker\":{\"id\":\"1114\"}},\"id\":\"1113\",\"type\":\"LogAxis\"},{\"attributes\":{\"line_alpha\":0.1,\"line_color\":\"#000003\",\"line_width\":3,\"x\":{\"field\":\"x\"},\"y\":{\"field\":\"y\"}},\"id\":\"1137\",\"type\":\"Line\"},{\"attributes\":{\"label\":{\"value\":\"K\"},\"renderers\":[{\"id\":\"1211\"}]},\"id\":\"1256\",\"type\":\"LegendItem\"},{\"attributes\":{\"coordinates\":null,\"data_source\":{\"id\":\"1165\"},\"glyph\":{\"id\":\"1166\"},\"group\":null,\"hover_glyph\":null,\"muted_glyph\":{\"id\":\"1168\"},\"nonselection_glyph\":{\"id\":\"1167\"},\"view\":{\"id\":\"1170\"}},\"id\":\"1169\",\"type\":\"GlyphRenderer\"},{\"attributes\":{\"line_alpha\":0.2,\"line_color\":\"#000003\",\"line_width\":3,\"x\":{\"field\":\"x\"},\"y\":{\"field\":\"y\"}},\"id\":\"1138\",\"type\":\"Line\"},{\"attributes\":{},\"id\":\"1313\",\"type\":\"UnionRenderers\"},{\"attributes\":{\"source\":{\"id\":\"1135\"}},\"id\":\"1140\",\"type\":\"CDSView\"},{\"attributes\":{},\"id\":\"1125\",\"type\":\"ResetTool\"},{\"attributes\":{\"label\":{\"value\":\"Fe\"},\"renderers\":[{\"id\":\"1217\"}]},\"id\":\"1257\",\"type\":\"LegendItem\"},{\"attributes\":{},\"id\":\"1285\",\"type\":\"UnionRenderers\"},{\"attributes\":{\"line_color\":\"#61187F\",\"line_width\":3,\"x\":{\"field\":\"x\"},\"y\":{\"field\":\"y\"}},\"id\":\"1166\",\"type\":\"Line\"},{\"attributes\":{},\"id\":\"1314\",\"type\":\"Selection\"},{\"attributes\":{\"line_color\":\"#09071F\",\"line_width\":3,\"x\":{\"field\":\"x\"},\"y\":{\"field\":\"y\"}},\"id\":\"1142\",\"type\":\"Line\"},{\"attributes\":{\"label\":{\"value\":\"TiO\"},\"renderers\":[{\"id\":\"1223\"}]},\"id\":\"1258\",\"type\":\"LegendItem\"},{\"attributes\":{\"axis\":{\"id\":\"1117\"},\"coordinates\":null,\"dimension\":1,\"group\":null,\"ticker\":null},\"id\":\"1120\",\"type\":\"Grid\"},{\"attributes\":{},\"id\":\"1286\",\"type\":\"Selection\"},{\"attributes\":{\"line_alpha\":0.1,\"line_color\":\"#09071F\",\"line_width\":3,\"x\":{\"field\":\"x\"},\"y\":{\"field\":\"y\"}},\"id\":\"1143\",\"type\":\"Line\"},{\"attributes\":{},\"id\":\"1295\",\"type\":\"UnionRenderers\"},{\"attributes\":{\"data\":{\"x\":{\"__ndarray__\":\"f2q8dJMYxD9/arx0kxjEP39qvHSTGMQ/f2q8dJMYxD9/arx0kxjEP39qvHSTGMQ/f2q8dJMYxD9/arx0kxjEP39qvHSTGMQ/f2q8dJMYxD9/arx0kxjEP39qvHSTGMQ/f2q8dJMYxD9/arx0kxjEP39qvHSTGMQ/f2q8dJMYxD9/arx0kxjEP39qvHSTGMQ/f2q8dJMYxD9/arx0kxjEP39qvHSTGMQ/f2q8dJMYxD9/arx0kxjEP39qvHSTGMQ/f2q8dJMYxD9/arx0kxjEP39qvHSTGMQ/f2q8dJMYxD9/arx0kxjEP39qvHSTGMQ/f2q8dJMYxD9/arx0kxjEP39qvHSTGMQ/f2q8dJMYxD9/arx0kxjEP39qvHSTGMQ/f2q8dJMYxD9/arx0kxjEP39qvHSTGMQ/f2q8dJMYxD9/arx0kxjEP39qvHSTGMQ/f2q8dJMYxD9/arx0kxjEP39qvHSTGMQ/f2q8dJMYxD9/arx0kxjEP39qvHSTGMQ/f2q8dJMYxD8pXI/C9SjEP9NNYhBYOcQ/001iEFg5xD8=\",\"dtype\":\"float64\",\"order\":\"little\",\"shape\":[52]},\"y\":{\"__ndarray__\":\"ZGuc9g4cyD5MxgdroxDRPg8Nq7E8KNg+PCi+azQZ4T64eH4SWjToPuEOwIbcIfE+Z0fnlcBA+D6YH2gliioBP9Sc7oPpTAg/Ql+zwzEzET+gljJTNVkYP2ZxYprjOyE/47vwko9lKD9bxrDhpkQxP5nUeP7hcTg/6iw3XFRNQT/T3tKpMH5IP1i/ozP/VVE/evcom4SKWD8yIkZ06F5hP/kHy8MMl2g/VofDFqNncT9hz+FLcKN4P3x0YW1acIE/X2vP28OviD9AhYSHRHmRP+ZaGzRwvJg/0yEEaB6CoT8CT0GG5sioP5UwcU3uirE/dGARDHnVuD8xiMFP55PBP9O3eEIG4sg/eGGlN7Kc0T9Ee1jImO7YP5XsWeOepeE/zbO0Jyb76D/JJeF0ba7xP1g6g2OjB/k/gxc9vHK3AUCvTMbddhQJQMNuAnVuwBFAzIQ6IyAhGUAKvmxdV8khQAlOitTELSlAXZNjGl7SMUD/kmg0gzo5QCwuSfFg20FAlZRAlEFHSUBXVyzIY+RRQEBcEvT/U1lAjhINn2btYUA=\",\"dtype\":\"float64\",\"order\":\"little\",\"shape\":[52]}},\"selected\":{\"id\":\"1282\"},\"selection_policy\":{\"id\":\"1281\"}},\"id\":\"1141\",\"type\":\"ColumnDataSource\"},{\"attributes\":{\"label\":{\"value\":\"VO\"},\"renderers\":[{\"id\":\"1229\"}]},\"id\":\"1259\",\"type\":\"LegendItem\"},{\"attributes\":{\"line_alpha\":0.2,\"line_color\":\"#09071F\",\"line_width\":3,\"x\":{\"field\":\"x\"},\"y\":{\"field\":\"y\"}},\"id\":\"1144\",\"type\":\"Line\"},{\"attributes\":{\"source\":{\"id\":\"1141\"}},\"id\":\"1146\",\"type\":\"CDSView\"},{\"attributes\":{\"ticker\":null},\"id\":\"1274\",\"type\":\"LogTickFormatter\"},{\"attributes\":{},\"id\":\"1296\",\"type\":\"Selection\"},{\"attributes\":{\"line_color\":\"#1A1041\",\"line_width\":3,\"x\":{\"field\":\"x\"},\"y\":{\"field\":\"y\"}},\"id\":\"1148\",\"type\":\"Line\"},{\"attributes\":{\"label\":{\"value\":\"H-\"},\"renderers\":[{\"id\":\"1235\"}]},\"id\":\"1260\",\"type\":\"LegendItem\"},{\"attributes\":{\"data\":{\"x\":{\"__ndarray__\":\"RnZtyzBuEz4EDUbb/XQaPqcYWOkkUiA+UHtZJdEyIz7jp4ghgfIlPh/wD10jKyk+KB/71qOMLT66oTLn990xPkghaqF+CDY+QA4kGuZFOz7gn+WIm6RAPoBhTkQ780M+yj4PP826Rz5mU4C4Q3RMPhCG2qcFZVE+tjvkoYiwVT5YgZ4pG6ZbPoKU9ebyCWI+VnjMxufqZz4WYkpsy3xvPocNF7wWG3Q+Ag51pUvieD6E90PWlBB+PlH22I6QHoI+xelZTS0Uhj5yiNSOxMaKPvRNN9yJio8+zYEgawbrkT6I+2DK1OWTPu7CcUH/ApY+sCUj6OFkmD56cUXW2C2bPmIHnSnXiJ4+CNOLNbedoT7waOOItfikPvC5jbLwiKk+JhDAF3Dgrz6gL94Lo4uzPrqHvpqHPLc+9FYba5gEvD7sZuuFp/zAPpLvraMFw8Q++HW3HeBqyT6sKuqCsAnPPiZKCHfjtNI+LEwAevGw1j4CjetCIFXcPmZR8eJxD+E+/6gT8VLB4z5ErcSX5NvmPixDHOviNuo+VuWMcnoo6z4=\",\"dtype\":\"float64\",\"order\":\"little\",\"shape\":[52]},\"y\":{\"__ndarray__\":\"ZGuc9g4cyD5MxgdroxDRPg8Nq7E8KNg+PCi+azQZ4T64eH4SWjToPuEOwIbcIfE+Z0fnlcBA+D6YH2gliioBP9Sc7oPpTAg/Ql+zwzEzET+gljJTNVkYP2ZxYprjOyE/47vwko9lKD9bxrDhpkQxP5nUeP7hcTg/6iw3XFRNQT/T3tKpMH5IP1i/ozP/VVE/evcom4SKWD8yIkZ06F5hP/kHy8MMl2g/VofDFqNncT9hz+FLcKN4P3x0YW1acIE/X2vP28OviD9AhYSHRHmRP+ZaGzRwvJg/0yEEaB6CoT8CT0GG5sioP5UwcU3uirE/dGARDHnVuD8xiMFP55PBP9O3eEIG4sg/eGGlN7Kc0T9Ee1jImO7YP5XsWeOepeE/zbO0Jyb76D/JJeF0ba7xP1g6g2OjB/k/gxc9vHK3AUCvTMbddhQJQMNuAnVuwBFAzIQ6IyAhGUAKvmxdV8khQAlOitTELSlAXZNjGl7SMUD/kmg0gzo5QCwuSfFg20FAlZRAlEFHSUBXVyzIY+RRQEBcEvT/U1lAjhINn2btYUA=\",\"dtype\":\"float64\",\"order\":\"little\",\"shape\":[52]}},\"selected\":{\"id\":\"1302\"},\"selection_policy\":{\"id\":\"1301\"}},\"id\":\"1201\",\"type\":\"ColumnDataSource\"},{\"attributes\":{\"line_alpha\":0.2,\"line_color\":\"#1A1041\",\"line_width\":3,\"x\":{\"field\":\"x\"},\"y\":{\"field\":\"y\"}},\"id\":\"1150\",\"type\":\"Line\"},{\"attributes\":{},\"id\":\"1121\",\"type\":\"PanTool\"},{\"attributes\":{},\"id\":\"1275\",\"type\":\"AllLabels\"},{\"attributes\":{\"data\":{\"x\":{\"__ndarray__\":\"hJ7Nqs/Vlj+Ens2qz9WWP8e6uI0G8JY/CtejcD0Klz8sZRniWBeXP2+BBMWPMZc/sp3vp8ZLlz/2udqK/WWXPxdIUPwYc5c/ONbFbTSAlz9aZDvfT42XP3zysFBrmpc/nYAmwoanlz++DpwzorSXP+CcEaW9wZc/AiuHFtnOlz8kufyH9NuXPyS5/If025c/JLn8h/Tblz8kufyH9NuXP0ZHcvkP6Zc/Z9Xnaiv2lz9n1edqK/aXP2fV52or9pc/iGNd3EYDmD+q8dJNYhCYP6rx0k1iEJg/qvHSTWIQmD/Mf0i/fR2YP+0NvjCZKpg/7Q2+MJkqmD/tDb4wmSqYP+0NvjCZKpg/DpwzorQ3mD8wKqkT0ESYPzAqqRPQRJg/MCqpE9BEmD8wKqkT0ESYPzAqqRPQRJg/MCqpE9BEmD8wKqkT0ESYPzAqqRPQRJg/MCqpE9BEmD8wKqkT0ESYPw6cM6K0N5g/7Q2+MJkqmD/tDb4wmSqYP2bV52or9pc/fPKwUGualz+QD3o2qz6XP1afq63YX5Y/gNk9eViolT8=\",\"dtype\":\"float64\",\"order\":\"little\",\"shape\":[52]},\"y\":{\"__ndarray__\":\"ZGuc9g4cyD5MxgdroxDRPg8Nq7E8KNg+PCi+azQZ4T64eH4SWjToPuEOwIbcIfE+Z0fnlcBA+D6YH2gliioBP9Sc7oPpTAg/Ql+zwzEzET+gljJTNVkYP2ZxYprjOyE/47vwko9lKD9bxrDhpkQxP5nUeP7hcTg/6iw3XFRNQT/T3tKpMH5IP1i/ozP/VVE/evcom4SKWD8yIkZ06F5hP/kHy8MMl2g/VofDFqNncT9hz+FLcKN4P3x0YW1acIE/X2vP28OviD9AhYSHRHmRP+ZaGzRwvJg/0yEEaB6CoT8CT0GG5sioP5UwcU3uirE/dGARDHnVuD8xiMFP55PBP9O3eEIG4sg/eGGlN7Kc0T9Ee1jImO7YP5XsWeOepeE/zbO0Jyb76D/JJeF0ba7xP1g6g2OjB/k/gxc9vHK3AUCvTMbddhQJQMNuAnVuwBFAzIQ6IyAhGUAKvmxdV8khQAlOitTELSlAXZNjGl7SMUD/kmg0gzo5QCwuSfFg20FAlZRAlEFHSUBXVyzIY+RRQEBcEvT/U1lAjhINn2btYUA=\",\"dtype\":\"float64\",\"order\":\"little\",\"shape\":[52]}},\"selected\":{\"id\":\"1284\"},\"selection_policy\":{\"id\":\"1283\"}},\"id\":\"1147\",\"type\":\"ColumnDataSource\"},{\"attributes\":{\"label\":{\"value\":\"H+\"},\"renderers\":[{\"id\":\"1241\"}]},\"id\":\"1261\",\"type\":\"LegendItem\"},{\"attributes\":{\"num_minor_ticks\":10},\"id\":\"1114\",\"type\":\"LogTicker\"},{\"attributes\":{\"source\":{\"id\":\"1147\"}},\"id\":\"1152\",\"type\":\"CDSView\"},{\"attributes\":{\"line_color\":\"#301065\",\"line_width\":3,\"x\":{\"field\":\"x\"},\"y\":{\"field\":\"y\"}},\"id\":\"1154\",\"type\":\"Line\"},{\"attributes\":{\"line_alpha\":0.1,\"line_color\":\"#1A1041\",\"line_width\":3,\"x\":{\"field\":\"x\"},\"y\":{\"field\":\"y\"}},\"id\":\"1149\",\"type\":\"Line\"},{\"attributes\":{\"coordinates\":null,\"data_source\":{\"id\":\"1147\"},\"glyph\":{\"id\":\"1148\"},\"group\":null,\"hover_glyph\":null,\"muted_glyph\":{\"id\":\"1150\"},\"nonselection_glyph\":{\"id\":\"1149\"},\"view\":{\"id\":\"1152\"}},\"id\":\"1151\",\"type\":\"GlyphRenderer\"},{\"attributes\":{\"ticker\":null},\"id\":\"1277\",\"type\":\"LogTickFormatter\"},{\"attributes\":{\"line_alpha\":0.2,\"line_color\":\"#301065\",\"line_width\":3,\"x\":{\"field\":\"x\"},\"y\":{\"field\":\"y\"}},\"id\":\"1156\",\"type\":\"Line\"},{\"attributes\":{},\"id\":\"1287\",\"type\":\"UnionRenderers\"},{\"attributes\":{\"coordinates\":null,\"data_source\":{\"id\":\"1183\"},\"glyph\":{\"id\":\"1184\"},\"group\":null,\"hover_glyph\":null,\"muted_glyph\":{\"id\":\"1186\"},\"nonselection_glyph\":{\"id\":\"1185\"},\"view\":{\"id\":\"1188\"}},\"id\":\"1187\",\"type\":\"GlyphRenderer\"},{\"attributes\":{},\"id\":\"1278\",\"type\":\"AllLabels\"},{\"attributes\":{\"data\":{\"x\":{\"__ndarray__\":\"1CtlGeJYhz/UK2UZ4liHP1pkO99PjYc/JLn8h/Tbhz+q8dJNYhCIP+0NvjCZKog/MCqpE9BEiD+3Yn/ZPXmIPz2bVZ+rrYg/gLdAguLHiD/E0ytlGeKIPwfwFkhQ/Ig/SgwCK4cWiT+NKO0NvjCJP40o7Q2+MIk/0ETY8PRKiT8TYcPTK2WJPxNhw9MrZYk/E2HD0ytliT8TYcPTK2WJP1Z9rrZif4k/mpmZmZmZiT+amZmZmZmJP921hHzQs4k/INJvXwfOiT8g0m9fB86JPyDSb18Hzok/Y+5aQj7oiT+mCkYldQKKP6YKRiV1Aoo/pgpGJXUCij+mCkYldQKKP+omMQisHIo/LUMc6+I2ij8tQxzr4jaKPy1DHOviNoo/LUMc6+I2ij8tQxzr4jaKPy1DHOviNoo/LUMc6+I2ij8tQxzr4jaKPy1DHOviNoo/LUMc6+I2ij9wXwfOGVGKP7N78rBQa4o/s3vysFBrij/2l92Th4WKPwIJih9j7oo/2c73U+Oliz/ysFBrmneMP+JYF7fRAI4/TMgHPZtVjz8=\",\"dtype\":\"float64\",\"order\":\"little\",\"shape\":[52]},\"y\":{\"__ndarray__\":\"ZGuc9g4cyD5MxgdroxDRPg8Nq7E8KNg+PCi+azQZ4T64eH4SWjToPuEOwIbcIfE+Z0fnlcBA+D6YH2gliioBP9Sc7oPpTAg/Ql+zwzEzET+gljJTNVkYP2ZxYprjOyE/47vwko9lKD9bxrDhpkQxP5nUeP7hcTg/6iw3XFRNQT/T3tKpMH5IP1i/ozP/VVE/evcom4SKWD8yIkZ06F5hP/kHy8MMl2g/VofDFqNncT9hz+FLcKN4P3x0YW1acIE/X2vP28OviD9AhYSHRHmRP+ZaGzRwvJg/0yEEaB6CoT8CT0GG5sioP5UwcU3uirE/dGARDHnVuD8xiMFP55PBP9O3eEIG4sg/eGGlN7Kc0T9Ee1jImO7YP5XsWeOepeE/zbO0Jyb76D/JJeF0ba7xP1g6g2OjB/k/gxc9vHK3AUCvTMbddhQJQMNuAnVuwBFAzIQ6IyAhGUAKvmxdV8khQAlOitTELSlAXZNjGl7SMUD/kmg0gzo5QCwuSfFg20FAlZRAlEFHSUBXVyzIY+RRQEBcEvT/U1lAjhINn2btYUA=\",\"dtype\":\"float64\",\"order\":\"little\",\"shape\":[52]}},\"selected\":{\"id\":\"1286\"},\"selection_policy\":{\"id\":\"1285\"}},\"id\":\"1153\",\"type\":\"ColumnDataSource\"},{\"attributes\":{},\"id\":\"1312\",\"type\":\"Selection\"},{\"attributes\":{\"line_color\":\"#C23A75\",\"line_width\":3,\"x\":{\"field\":\"x\"},\"y\":{\"field\":\"y\"}},\"id\":\"1190\",\"type\":\"Line\"},{\"attributes\":{},\"id\":\"1288\",\"type\":\"Selection\"},{\"attributes\":{\"bottom_units\":\"screen\",\"coordinates\":null,\"fill_alpha\":0.5,\"fill_color\":\"lightgrey\",\"group\":null,\"left_units\":\"screen\",\"level\":\"overlay\",\"line_alpha\":1.0,\"line_color\":\"black\",\"line_dash\":[4,4],\"line_width\":2,\"right_units\":\"screen\",\"syncable\":false,\"top_units\":\"screen\"},\"id\":\"1127\",\"type\":\"BoxAnnotation\"},{\"attributes\":{\"source\":{\"id\":\"1153\"}},\"id\":\"1158\",\"type\":\"CDSView\"},{\"attributes\":{},\"id\":\"1297\",\"type\":\"UnionRenderers\"},{\"attributes\":{\"line_color\":\"#4A1079\",\"line_width\":3,\"x\":{\"field\":\"x\"},\"y\":{\"field\":\"y\"}},\"id\":\"1160\",\"type\":\"Line\"},{\"attributes\":{\"coordinates\":null,\"data_source\":{\"id\":\"1153\"},\"glyph\":{\"id\":\"1154\"},\"group\":null,\"hover_glyph\":null,\"muted_glyph\":{\"id\":\"1156\"},\"nonselection_glyph\":{\"id\":\"1155\"},\"view\":{\"id\":\"1158\"}},\"id\":\"1157\",\"type\":\"GlyphRenderer\"},{\"attributes\":{\"line_alpha\":0.1,\"line_color\":\"#301065\",\"line_width\":3,\"x\":{\"field\":\"x\"},\"y\":{\"field\":\"y\"}},\"id\":\"1155\",\"type\":\"Line\"},{\"attributes\":{},\"id\":\"1298\",\"type\":\"Selection\"},{\"attributes\":{\"coordinates\":null,\"data_source\":{\"id\":\"1189\"},\"glyph\":{\"id\":\"1190\"},\"group\":null,\"hover_glyph\":null,\"muted_glyph\":{\"id\":\"1192\"},\"nonselection_glyph\":{\"id\":\"1191\"},\"view\":{\"id\":\"1194\"}},\"id\":\"1193\",\"type\":\"GlyphRenderer\"},{\"attributes\":{\"line_alpha\":0.2,\"line_color\":\"#61187F\",\"line_width\":3,\"x\":{\"field\":\"x\"},\"y\":{\"field\":\"y\"}},\"id\":\"1168\",\"type\":\"Line\"},{\"attributes\":{\"line_alpha\":0.1,\"line_color\":\"#D9466A\",\"line_width\":3,\"x\":{\"field\":\"x\"},\"y\":{\"field\":\"y\"}},\"id\":\"1197\",\"type\":\"Line\"},{\"attributes\":{\"num_minor_ticks\":10},\"id\":\"1118\",\"type\":\"LogTicker\"},{\"attributes\":{\"line_alpha\":0.1,\"line_color\":\"#61187F\",\"line_width\":3,\"x\":{\"field\":\"x\"},\"y\":{\"field\":\"y\"}},\"id\":\"1167\",\"type\":\"Line\"},{\"attributes\":{\"data\":{\"x\":{\"__ndarray__\":\"ljl11600/T12qrj9UBUEPnrIWFwUrwk+BmM/h5mpDz6evmhl0icTPnqBr19aRxc+oNoNWLrGHD7nDddm8B8iPmRL3R9eJic+jpjcVqGiLT6yeuoFXcoyPqjtU99SiTc+VBFPtypQPT6P7IbWqVlCPm9mxj/cNkc+CkiQFpvZTT7CTMyUhZhTPhjJx3uIF1o+rUmh90COYT4+BVK3sopnPqRTLy3e124+gCSmdAK0cz521LcdMbJ4PkAX9nwZAX8+mHO0oLOpgz4jIog1jdSIPhBVbUEzq44+grhhynZ0kj7WYa0jDNiVPt9BOtwRxZk+YgedKdeInj7dJrsdCjSiPoxrp6ZX3KU+KJLOERDLqj7UBSdotNGwPsa8EnEIj7U+9FYba5gEvD7Exfb/FgnCPhb2F+4a/MY+0MACdySHzT62hcaXeUDTPhHXezvTldk+2iAPVPj54D42d/S/XIvmPj975MV4g+4+94PLdPkg9T7MsPYc/dT9PtLvDGSHQgU/ZA+j1uphDj8U8GskCcIVP6wq6oKwCR8/GArYDkbsIz8=\",\"dtype\":\"float64\",\"order\":\"little\",\"shape\":[52]},\"y\":{\"__ndarray__\":\"ZGuc9g4cyD5MxgdroxDRPg8Nq7E8KNg+PCi+azQZ4T64eH4SWjToPuEOwIbcIfE+Z0fnlcBA+D6YH2gliioBP9Sc7oPpTAg/Ql+zwzEzET+gljJTNVkYP2ZxYprjOyE/47vwko9lKD9bxrDhpkQxP5nUeP7hcTg/6iw3XFRNQT/T3tKpMH5IP1i/ozP/VVE/evcom4SKWD8yIkZ06F5hP/kHy8MMl2g/VofDFqNncT9hz+FLcKN4P3x0YW1acIE/X2vP28OviD9AhYSHRHmRP+ZaGzRwvJg/0yEEaB6CoT8CT0GG5sioP5UwcU3uirE/dGARDHnVuD8xiMFP55PBP9O3eEIG4sg/eGGlN7Kc0T9Ee1jImO7YP5XsWeOepeE/zbO0Jyb76D/JJeF0ba7xP1g6g2OjB/k/gxc9vHK3AUCvTMbddhQJQMNuAnVuwBFAzIQ6IyAhGUAKvmxdV8khQAlOitTELSlAXZNjGl7SMUD/kmg0gzo5QCwuSfFg20FAlZRAlEFHSUBXVyzIY+RRQEBcEvT/U1lAjhINn2btYUA=\",\"dtype\":\"float64\",\"order\":\"little\",\"shape\":[52]}},\"selected\":{\"id\":\"1298\"},\"selection_policy\":{\"id\":\"1297\"}},\"id\":\"1189\",\"type\":\"ColumnDataSource\"},{\"attributes\":{\"line_alpha\":0.2,\"line_color\":\"#4A1079\",\"line_width\":3,\"x\":{\"field\":\"x\"},\"y\":{\"field\":\"y\"}},\"id\":\"1162\",\"type\":\"Line\"},{\"attributes\":{},\"id\":\"1122\",\"type\":\"WheelZoomTool\"},{\"attributes\":{\"data\":{\"x\":{\"__ndarray__\":\"1CtlGeJYVz9rSNxj6UNXP2tI3GPpQ1c/a0jcY+lDVz89D+7O2m1XP3i5iO/ErFc/SYCaWrbWVz8bR6zFpwBYP4QqNXugFVg/7Q2+MJkqWD/tDb4wmSpYP4QqNXugFVg/hCo1e6AVWD+EKjV7oBVYP+0NvjCZKlg/v9TPm4pUWD8ouFhRg2lYPyi4WFGDaVg/KLhYUYNpWD8ouFhRg2lYPyi4WFGDaVg/v9TPm4pUWD9W8UbmkT9YP7/Uz5uKVFg/KLhYUYNpWD8ouFhRg2lYPyi4WFGDaVg/KLhYUYNpWD8ouFhRg2lYPyi4WFGDaVg/KLhYUYNpWD8ouFhRg2lYP7/Uz5uKVFg/VvFG5pE/WD9W8UbmkT9YP1bxRuaRP1g/VvFG5pE/WD9W8UbmkT9YP+0NvjCZKlg/hCo1e6AVWD+EKjV7oBVYP4QqNXugFVg/hCo1e6AVWD+EKjV7oBVYP4QqNXugFVg/7Q2+MJkqWD9W8UbmkT9YP1bxRuaRP1g/v9TPm4pUWD8ouFhRg2lYP5Gb4QZ8flg/kZvhBnx+WD8=\",\"dtype\":\"float64\",\"order\":\"little\",\"shape\":[52]},\"y\":{\"__ndarray__\":\"ZGuc9g4cyD5MxgdroxDRPg8Nq7E8KNg+PCi+azQZ4T64eH4SWjToPuEOwIbcIfE+Z0fnlcBA+D6YH2gliioBP9Sc7oPpTAg/Ql+zwzEzET+gljJTNVkYP2ZxYprjOyE/47vwko9lKD9bxrDhpkQxP5nUeP7hcTg/6iw3XFRNQT/T3tKpMH5IP1i/ozP/VVE/evcom4SKWD8yIkZ06F5hP/kHy8MMl2g/VofDFqNncT9hz+FLcKN4P3x0YW1acIE/X2vP28OviD9AhYSHRHmRP+ZaGzRwvJg/0yEEaB6CoT8CT0GG5sioP5UwcU3uirE/dGARDHnVuD8xiMFP55PBP9O3eEIG4sg/eGGlN7Kc0T9Ee1jImO7YP5XsWeOepeE/zbO0Jyb76D/JJeF0ba7xP1g6g2OjB/k/gxc9vHK3AUCvTMbddhQJQMNuAnVuwBFAzIQ6IyAhGUAKvmxdV8khQAlOitTELSlAXZNjGl7SMUD/kmg0gzo5QCwuSfFg20FAlZRAlEFHSUBXVyzIY+RRQEBcEvT/U1lAjhINn2btYUA=\",\"dtype\":\"float64\",\"order\":\"little\",\"shape\":[52]}},\"selected\":{\"id\":\"1294\"},\"selection_policy\":{\"id\":\"1293\"}},\"id\":\"1177\",\"type\":\"ColumnDataSource\"},{\"attributes\":{},\"id\":\"1126\",\"type\":\"HelpTool\"},{\"attributes\":{},\"id\":\"1279\",\"type\":\"UnionRenderers\"},{\"attributes\":{\"line_alpha\":0.1,\"line_color\":\"#792281\",\"line_width\":3,\"x\":{\"field\":\"x\"},\"y\":{\"field\":\"y\"}},\"id\":\"1173\",\"type\":\"Line\"},{\"attributes\":{\"coordinates\":null,\"data_source\":{\"id\":\"1201\"},\"glyph\":{\"id\":\"1202\"},\"group\":null,\"hover_glyph\":null,\"muted_glyph\":{\"id\":\"1204\"},\"nonselection_glyph\":{\"id\":\"1203\"},\"view\":{\"id\":\"1206\"}},\"id\":\"1205\",\"type\":\"GlyphRenderer\"},{\"attributes\":{\"data\":{\"x\":{\"__ndarray__\":\"dF5jl6jeaj90XmOXqN5qP3ReY5eo3mo/dF5jl6jeaj90XmOXqN5qP3ReY5eo3mo/dF5jl6jeaj90XmOXqN5qP3ReY5eo3mo/dF5jl6jeaj90XmOXqN5qP3ReY5eo3mo/dF5jl6jeaj90XmOXqN5qP3ReY5eo3mo/dF5jl6jeaj90XmOXqN5qP3ReY5eo3mo/dF5jl6jeaj90XmOXqN5qP3ReY5eo3mo/dF5jl6jeaj90XmOXqN5qP3ReY5eo3mo/dF5jl6jeaj90XmOXqN5qP3ReY5eo3mo/dF5jl6jeaj90XmOXqN5qP3ReY5eo3mo/dF5jl6jeaj90XmOXqN5qP3ReY5eo3mo/dF5jl6jeaj90XmOXqN5qP3ReY5eo3mo/dF5jl6jeaj90XmOXqN5qP3ReY5eo3mo/dF5jl6jeaj90XmOXqN5qP8Dsnjws1Go/C3va4a/Jaj8Le9rhr8lqPwt72uGvyWo/VgkWhzO/aj+il1Est7RqP+4ljdE6qmo/hEIEHEKVaj8cX3tmSYBqP/4JLlbUYGo/LUMc6+I2aj8=\",\"dtype\":\"float64\",\"order\":\"little\",\"shape\":[52]},\"y\":{\"__ndarray__\":\"ZGuc9g4cyD5MxgdroxDRPg8Nq7E8KNg+PCi+azQZ4T64eH4SWjToPuEOwIbcIfE+Z0fnlcBA+D6YH2gliioBP9Sc7oPpTAg/Ql+zwzEzET+gljJTNVkYP2ZxYprjOyE/47vwko9lKD9bxrDhpkQxP5nUeP7hcTg/6iw3XFRNQT/T3tKpMH5IP1i/ozP/VVE/evcom4SKWD8yIkZ06F5hP/kHy8MMl2g/VofDFqNncT9hz+FLcKN4P3x0YW1acIE/X2vP28OviD9AhYSHRHmRP+ZaGzRwvJg/0yEEaB6CoT8CT0GG5sioP5UwcU3uirE/dGARDHnVuD8xiMFP55PBP9O3eEIG4sg/eGGlN7Kc0T9Ee1jImO7YP5XsWeOepeE/zbO0Jyb76D/JJeF0ba7xP1g6g2OjB/k/gxc9vHK3AUCvTMbddhQJQMNuAnVuwBFAzIQ6IyAhGUAKvmxdV8khQAlOitTELSlAXZNjGl7SMUD/kmg0gzo5QCwuSfFg20FAlZRAlEFHSUBXVyzIY+RRQEBcEvT/U1lAjhINn2btYUA=\",\"dtype\":\"float64\",\"order\":\"little\",\"shape\":[52]}},\"selected\":{\"id\":\"1288\"},\"selection_policy\":{\"id\":\"1287\"}},\"id\":\"1159\",\"type\":\"ColumnDataSource\"},{\"attributes\":{},\"id\":\"1280\",\"type\":\"Selection\"},{\"attributes\":{},\"id\":\"1289\",\"type\":\"UnionRenderers\"},{\"attributes\":{},\"id\":\"1111\",\"type\":\"LogScale\"},{\"attributes\":{\"source\":{\"id\":\"1159\"}},\"id\":\"1164\",\"type\":\"CDSView\"},{\"attributes\":{\"source\":{\"id\":\"1195\"}},\"id\":\"1200\",\"type\":\"CDSView\"},{\"attributes\":{},\"id\":\"1290\",\"type\":\"Selection\"},{\"attributes\":{\"coordinates\":null,\"data_source\":{\"id\":\"1159\"},\"glyph\":{\"id\":\"1160\"},\"group\":null,\"hover_glyph\":null,\"muted_glyph\":{\"id\":\"1162\"},\"nonselection_glyph\":{\"id\":\"1161\"},\"view\":{\"id\":\"1164\"}},\"id\":\"1163\",\"type\":\"GlyphRenderer\"},{\"attributes\":{\"line_alpha\":0.1,\"line_color\":\"#4A1079\",\"line_width\":3,\"x\":{\"field\":\"x\"},\"y\":{\"field\":\"y\"}},\"id\":\"1161\",\"type\":\"Line\"},{\"attributes\":{},\"id\":\"1299\",\"type\":\"UnionRenderers\"},{\"attributes\":{\"coordinates\":null,\"group\":null,\"text\":\"Mixing Ratios\"},\"id\":\"1103\",\"type\":\"Title\"},{\"attributes\":{\"data\":{\"x\":{\"__ndarray__\":\"kZvhBnx+WD9W8UbmkT9YP8e6uI0G8FY/LBN+qZ83VT8miLoPQGpTP4vgfyvZsVE/WoKMgApHUD8UkWEVb2ROPxAGnnsPl0w/YhQEj2/vSj849YHknUNJP6bydoTTgkc/jh1U4jrGRT9AahMn9ztEPyxhbYyd8EI/2NR5VPzfQT9ExTh/EwpBP/IEwk6xakA/8Lvplh3iPz8GE38UdeY+P4CBIECGjj0/YAfOGVHaOz9uxmmIKvw5P2CWdmouNzg/CD4GK061Nj+emzbjNEQ1P2IyVTAqqTM/Sl0yjpHsMT8q499nXDgwP8qpnWFqSy0/0NA/wcWKKj9oO6buyi4oP7d9j/rrFSY/lgM91LZhJD/1gk9z8iIjPwra5PBJJyI/+py7XS9NIT/XFTPC24MgP46xE16CUx8/SKMCJ9vAHT+U2LW93ZIcP5bl6zL8pxs/dF5jl6jeGj8mKDT/ng4aP6AT503qcBk/gJO3bSkxGT/qO2Rvzi0ZP6AT503qcBk/SrzyDxHtGT9Nw0vLo3YaPyo25nXEIRs/t2v4zEhzGj8=\",\"dtype\":\"float64\",\"order\":\"little\",\"shape\":[52]},\"y\":{\"__ndarray__\":\"ZGuc9g4cyD5MxgdroxDRPg8Nq7E8KNg+PCi+azQZ4T64eH4SWjToPuEOwIbcIfE+Z0fnlcBA+D6YH2gliioBP9Sc7oPpTAg/Ql+zwzEzET+gljJTNVkYP2ZxYprjOyE/47vwko9lKD9bxrDhpkQxP5nUeP7hcTg/6iw3XFRNQT/T3tKpMH5IP1i/ozP/VVE/evcom4SKWD8yIkZ06F5hP/kHy8MMl2g/VofDFqNncT9hz+FLcKN4P3x0YW1acIE/X2vP28OviD9AhYSHRHmRP+ZaGzRwvJg/0yEEaB6CoT8CT0GG5sioP5UwcU3uirE/dGARDHnVuD8xiMFP55PBP9O3eEIG4sg/eGGlN7Kc0T9Ee1jImO7YP5XsWeOepeE/zbO0Jyb76D/JJeF0ba7xP1g6g2OjB/k/gxc9vHK3AUCvTMbddhQJQMNuAnVuwBFAzIQ6IyAhGUAKvmxdV8khQAlOitTELSlAXZNjGl7SMUD/kmg0gzo5QCwuSfFg20FAlZRAlEFHSUBXVyzIY+RRQEBcEvT/U1lAjhINn2btYUA=\",\"dtype\":\"float64\",\"order\":\"little\",\"shape\":[52]}},\"selected\":{\"id\":\"1292\"},\"selection_policy\":{\"id\":\"1291\"}},\"id\":\"1171\",\"type\":\"ColumnDataSource\"},{\"attributes\":{\"data\":{\"x\":{\"__ndarray__\":\"a0F5yhweBD4mWFkOblMRProvheBrrRY+Fk933BaZGT77a61a8eIaPnJuadjBhBw+K2mkKSsbID4QzYOkv8wjPkS7G1wP2yk+1/5MCI8SMT4atcUhhsY1PlJQVRv/aTo++n+vtPMzPz44CN8VnNJCPsBgzu6H6Uc+6UB+Cag2UD4MZzVfUJ9XPpsHcPYnamI+UlknfjIlbj4Mi6FC1Al4PsaYryPyg4E+WDD0/98Vhz65BbCg51GMPkIk9/9nUJE+xelZTS0Ulj5w4mJHDtGbPmhKnCk1+p8+Cnn9fG2ToD6XfJgvwiOgPv7cGWtU554+rtBbymb/nT5sln+4oeWdPlGPSVP4xJ4+38wsZcApoT5sIXJBUEqlPvKDYke9iaw+C3AZ7l4ZtD6qM84Rv4O7PgveZ8fTE8I+rEeOMupzyD6eLmIKnI3RPku6mCwPTts+NoFUUHID5T7Q+krWl1vwPgy9D1GWa/s+rEJeat83CT8O0CKAQAwZPy5QUmABTCk/ARdky/J1OT88wf7r3LRJPyi4WFGDaVg/xY8xdy0hXz8=\",\"dtype\":\"float64\",\"order\":\"little\",\"shape\":[52]},\"y\":{\"__ndarray__\":\"ZGuc9g4cyD5MxgdroxDRPg8Nq7E8KNg+PCi+azQZ4T64eH4SWjToPuEOwIbcIfE+Z0fnlcBA+D6YH2gliioBP9Sc7oPpTAg/Ql+zwzEzET+gljJTNVkYP2ZxYprjOyE/47vwko9lKD9bxrDhpkQxP5nUeP7hcTg/6iw3XFRNQT/T3tKpMH5IP1i/ozP/VVE/evcom4SKWD8yIkZ06F5hP/kHy8MMl2g/VofDFqNncT9hz+FLcKN4P3x0YW1acIE/X2vP28OviD9AhYSHRHmRP+ZaGzRwvJg/0yEEaB6CoT8CT0GG5sioP5UwcU3uirE/dGARDHnVuD8xiMFP55PBP9O3eEIG4sg/eGGlN7Kc0T9Ee1jImO7YP5XsWeOepeE/zbO0Jyb76D/JJeF0ba7xP1g6g2OjB/k/gxc9vHK3AUCvTMbddhQJQMNuAnVuwBFAzIQ6IyAhGUAKvmxdV8khQAlOitTELSlAXZNjGl7SMUD/kmg0gzo5QCwuSfFg20FAlZRAlEFHSUBXVyzIY+RRQEBcEvT/U1lAjhINn2btYUA=\",\"dtype\":\"float64\",\"order\":\"little\",\"shape\":[52]}},\"selected\":{\"id\":\"1290\"},\"selection_policy\":{\"id\":\"1289\"}},\"id\":\"1165\",\"type\":\"ColumnDataSource\"},{\"attributes\":{},\"id\":\"1300\",\"type\":\"Selection\"},{\"attributes\":{\"coordinates\":null,\"data_source\":{\"id\":\"1171\"},\"glyph\":{\"id\":\"1172\"},\"group\":null,\"hover_glyph\":null,\"muted_glyph\":{\"id\":\"1174\"},\"nonselection_glyph\":{\"id\":\"1173\"},\"view\":{\"id\":\"1176\"}},\"id\":\"1175\",\"type\":\"GlyphRenderer\"},{\"attributes\":{\"line_color\":\"#792281\",\"line_width\":3,\"x\":{\"field\":\"x\"},\"y\":{\"field\":\"y\"}},\"id\":\"1172\",\"type\":\"Line\"},{\"attributes\":{\"line_alpha\":0.2,\"line_color\":\"#792281\",\"line_width\":3,\"x\":{\"field\":\"x\"},\"y\":{\"field\":\"y\"}},\"id\":\"1174\",\"type\":\"Line\"},{\"attributes\":{\"source\":{\"id\":\"1171\"}},\"id\":\"1176\",\"type\":\"CDSView\"},{\"attributes\":{\"coordinates\":null,\"data_source\":{\"id\":\"1177\"},\"glyph\":{\"id\":\"1178\"},\"group\":null,\"hover_glyph\":null,\"muted_glyph\":{\"id\":\"1180\"},\"nonselection_glyph\":{\"id\":\"1179\"},\"view\":{\"id\":\"1182\"}},\"id\":\"1181\",\"type\":\"GlyphRenderer\"},{\"attributes\":{},\"id\":\"1281\",\"type\":\"UnionRenderers\"},{\"attributes\":{\"axis\":{\"id\":\"1113\"},\"coordinates\":null,\"group\":null,\"ticker\":null},\"id\":\"1116\",\"type\":\"Grid\"},{\"attributes\":{\"line_alpha\":0.2,\"line_color\":\"#912A80\",\"line_width\":3,\"x\":{\"field\":\"x\"},\"y\":{\"field\":\"y\"}},\"id\":\"1180\",\"type\":\"Line\"},{\"attributes\":{\"source\":{\"id\":\"1177\"}},\"id\":\"1182\",\"type\":\"CDSView\"},{\"attributes\":{\"line_color\":\"#912A80\",\"line_width\":3,\"x\":{\"field\":\"x\"},\"y\":{\"field\":\"y\"}},\"id\":\"1178\",\"type\":\"Line\"},{\"attributes\":{},\"id\":\"1124\",\"type\":\"SaveTool\"},{\"attributes\":{},\"id\":\"1282\",\"type\":\"Selection\"},{\"attributes\":{\"line_color\":\"#A9327C\",\"line_width\":3,\"x\":{\"field\":\"x\"},\"y\":{\"field\":\"y\"}},\"id\":\"1184\",\"type\":\"Line\"},{\"attributes\":{},\"id\":\"1291\",\"type\":\"UnionRenderers\"},{\"attributes\":{\"line_alpha\":0.1,\"line_color\":\"#912A80\",\"line_width\":3,\"x\":{\"field\":\"x\"},\"y\":{\"field\":\"y\"}},\"id\":\"1179\",\"type\":\"Line\"},{\"attributes\":{\"line_alpha\":0.2,\"line_color\":\"#A9327C\",\"line_width\":3,\"x\":{\"field\":\"x\"},\"y\":{\"field\":\"y\"}},\"id\":\"1186\",\"type\":\"Line\"},{\"attributes\":{\"data\":{\"x\":{\"__ndarray__\":\"mPIhqBq9+j7HxnIBHgf0PgGgL2JER/c+QpTUrq6v+j6Jo2HnXED+PvWCT3PyIgM/RKEKJM3ECT8sZ0pGKXwRP25PNR98zRc/RMU4fxMKIT+sWtJRDmYjP1YPmIdM+SA/2ubG9IQlHj8kD0QWaeIdPzSID+z4LyA/UvUrnQ/PIj/cEU4LXvQlPzNqvko+dic/M2q+Sj52Jz8zar5KPnYnP1oLs9DOaSY/lgM91LZhJD8YCtgORuwjP+5brROX4yU/WP58W7BUJz9Y/nxbsFQnP1j+fFuwVCc/WP58W7BUJz9Y/nxbsFQnP1j+fFuwVCc/WP58W7BUJz9Y/nxbsFQnP0a0HVN3ZSc/M2q+Sj52Jz8zar5KPnYnPzNqvko+dic/M2q+Sj52Jz8zar5KPnYnPzNqvko+dic/M2q+Sj52Jz9GtB1Td2UnP1j+fFuwVCc/akjcY+lDJz+Q3Jp0WyInP8e6uI0G8CY/EeM1r+qsJj9bC7PQzmkmP8rH7gIlBSY/XRjpRe1+JT/waOOItfgkP6lNnNzvUCQ/PJ6WH7jKIz8=\",\"dtype\":\"float64\",\"order\":\"little\",\"shape\":[52]},\"y\":{\"__ndarray__\":\"ZGuc9g4cyD5MxgdroxDRPg8Nq7E8KNg+PCi+azQZ4T64eH4SWjToPuEOwIbcIfE+Z0fnlcBA+D6YH2gliioBP9Sc7oPpTAg/Ql+zwzEzET+gljJTNVkYP2ZxYprjOyE/47vwko9lKD9bxrDhpkQxP5nUeP7hcTg/6iw3XFRNQT/T3tKpMH5IP1i/ozP/VVE/evcom4SKWD8yIkZ06F5hP/kHy8MMl2g/VofDFqNncT9hz+FLcKN4P3x0YW1acIE/X2vP28OviD9AhYSHRHmRP+ZaGzRwvJg/0yEEaB6CoT8CT0GG5sioP5UwcU3uirE/dGARDHnVuD8xiMFP55PBP9O3eEIG4sg/eGGlN7Kc0T9Ee1jImO7YP5XsWeOepeE/zbO0Jyb76D/JJeF0ba7xP1g6g2OjB/k/gxc9vHK3AUCvTMbddhQJQMNuAnVuwBFAzIQ6IyAhGUAKvmxdV8khQAlOitTELSlAXZNjGl7SMUD/kmg0gzo5QCwuSfFg20FAlZRAlEFHSUBXVyzIY+RRQEBcEvT/U1lAjhINn2btYUA=\",\"dtype\":\"float64\",\"order\":\"little\",\"shape\":[52]}},\"selected\":{\"id\":\"1296\"},\"selection_policy\":{\"id\":\"1295\"}},\"id\":\"1183\",\"type\":\"ColumnDataSource\"},{\"attributes\":{},\"id\":\"1292\",\"type\":\"Selection\"},{\"attributes\":{\"source\":{\"id\":\"1183\"}},\"id\":\"1188\",\"type\":\"CDSView\"},{\"attributes\":{\"line_alpha\":0.1,\"line_color\":\"#A9327C\",\"line_width\":3,\"x\":{\"field\":\"x\"},\"y\":{\"field\":\"y\"}},\"id\":\"1185\",\"type\":\"Line\"},{\"attributes\":{},\"id\":\"1301\",\"type\":\"UnionRenderers\"},{\"attributes\":{\"line_alpha\":0.2,\"line_color\":\"#C23A75\",\"line_width\":3,\"x\":{\"field\":\"x\"},\"y\":{\"field\":\"y\"}},\"id\":\"1192\",\"type\":\"Line\"},{\"attributes\":{\"source\":{\"id\":\"1189\"}},\"id\":\"1194\",\"type\":\"CDSView\"},{\"attributes\":{},\"id\":\"1109\",\"type\":\"LogScale\"},{\"attributes\":{},\"id\":\"1302\",\"type\":\"Selection\"},{\"attributes\":{\"line_color\":\"#D9466A\",\"line_width\":3,\"x\":{\"field\":\"x\"},\"y\":{\"field\":\"y\"}},\"id\":\"1196\",\"type\":\"Line\"},{\"attributes\":{\"line_alpha\":0.1,\"line_color\":\"#C23A75\",\"line_width\":3,\"x\":{\"field\":\"x\"},\"y\":{\"field\":\"y\"}},\"id\":\"1191\",\"type\":\"Line\"},{\"attributes\":{\"coordinates\":null,\"data_source\":{\"id\":\"1195\"},\"glyph\":{\"id\":\"1196\"},\"group\":null,\"hover_glyph\":null,\"muted_glyph\":{\"id\":\"1198\"},\"nonselection_glyph\":{\"id\":\"1197\"},\"view\":{\"id\":\"1200\"}},\"id\":\"1199\",\"type\":\"GlyphRenderer\"},{\"attributes\":{\"line_alpha\":0.2,\"line_color\":\"#D9466A\",\"line_width\":3,\"x\":{\"field\":\"x\"},\"y\":{\"field\":\"y\"}},\"id\":\"1198\",\"type\":\"Line\"},{\"attributes\":{\"data\":{\"x\":{\"__ndarray__\":\"jImMp7/VCj4OL9wReAQIPk+yrYi3oQ4+HqlmYGnDFj7nDddm8B8iPls4l5jFYyw+bh8dQyLPND4459s4SzI8Pggi6vYxEkI+hCJI4GbZRj7HH2r2F/VNPiu6TlNmq1Q+ljl11600XT5Vb/pjtC9kPjA8Qou9d2o+nlNThZRVcD5wUsTl2eVyPrjPn/f8cHQ+VLfSKrwEdT4oJpP98ep1Pp7RO/WGC3k+opsH9OWsfz7n2QD66puFPvmZGmv2dY0+kYpDWZ9Ckz5czYG4h5GZPgUtGu4AqKI+UmICd9M/rj7OyeYFMwG6PlkDrSO7kMY+toXGl3lA0z6O8uVoAgPgPnBQsSCDy+k+9YJPc/Ii8z7Hrv4Z79j5PsnfYupTMwA//J03XzZLAz/jJlk9FpEHP4KIefsYGA4/ojiRqje0Ej/cEU4LXvQVP7JjIxCv6xc/DMPsCiL3GT8ElfHvMy4cP7psdM5PcRw/yrVX1YFiGj+O1UG5yJgWP8CxZ89lahI/Dr6LUp1pDT+ErSNYZlsHPzF1/LxOjwI/KEEk6NQ6Bj8=\",\"dtype\":\"float64\",\"order\":\"little\",\"shape\":[52]},\"y\":{\"__ndarray__\":\"ZGuc9g4cyD5MxgdroxDRPg8Nq7E8KNg+PCi+azQZ4T64eH4SWjToPuEOwIbcIfE+Z0fnlcBA+D6YH2gliioBP9Sc7oPpTAg/Ql+zwzEzET+gljJTNVkYP2ZxYprjOyE/47vwko9lKD9bxrDhpkQxP5nUeP7hcTg/6iw3XFRNQT/T3tKpMH5IP1i/ozP/VVE/evcom4SKWD8yIkZ06F5hP/kHy8MMl2g/VofDFqNncT9hz+FLcKN4P3x0YW1acIE/X2vP28OviD9AhYSHRHmRP+ZaGzRwvJg/0yEEaB6CoT8CT0GG5sioP5UwcU3uirE/dGARDHnVuD8xiMFP55PBP9O3eEIG4sg/eGGlN7Kc0T9Ee1jImO7YP5XsWeOepeE/zbO0Jyb76D/JJeF0ba7xP1g6g2OjB/k/gxc9vHK3AUCvTMbddhQJQMNuAnVuwBFAzIQ6IyAhGUAKvmxdV8khQAlOitTELSlAXZNjGl7SMUD/kmg0gzo5QCwuSfFg20FAlZRAlEFHSUBXVyzIY+RRQEBcEvT/U1lAjhINn2btYUA=\",\"dtype\":\"float64\",\"order\":\"little\",\"shape\":[52]}},\"selected\":{\"id\":\"1300\"},\"selection_policy\":{\"id\":\"1299\"}},\"id\":\"1195\",\"type\":\"ColumnDataSource\"},{\"attributes\":{\"line_color\":\"#EC585F\",\"line_width\":3,\"x\":{\"field\":\"x\"},\"y\":{\"field\":\"y\"}},\"id\":\"1202\",\"type\":\"Line\"},{\"attributes\":{\"line_alpha\":0.1,\"line_color\":\"#EC585F\",\"line_width\":3,\"x\":{\"field\":\"x\"},\"y\":{\"field\":\"y\"}},\"id\":\"1203\",\"type\":\"Line\"},{\"attributes\":{\"line_alpha\":0.2,\"line_color\":\"#EC585F\",\"line_width\":3,\"x\":{\"field\":\"x\"},\"y\":{\"field\":\"y\"}},\"id\":\"1204\",\"type\":\"Line\"},{\"attributes\":{\"source\":{\"id\":\"1201\"}},\"id\":\"1206\",\"type\":\"CDSView\"},{\"attributes\":{\"line_color\":\"#F7715B\",\"line_width\":3,\"x\":{\"field\":\"x\"},\"y\":{\"field\":\"y\"}},\"id\":\"1208\",\"type\":\"Line\"},{\"attributes\":{\"data\":{\"x\":{\"__ndarray__\":\"RMpoRx5GwD7b9VZNpdm7Pr6vPtzdHME+upCiKZa2wz56jumFEpjEPkStxJfk28Y+dmZpRLy3yj6a392I9srPPtkRf/vXRdM+6DQLtDuk2D5a8GgEl57bPtz/tt26Udo+vIg6nI462T6yXUZWI2DZPv+Lb0EZV9o+6SsnJS0q3D6QvknToGjePmkdVU0Qdd8+IwXkhVNq3z4AeSsi9WTfPiD6B/Q29N4+goh5+xgY3j4OuVuKki3ePoJ+GWsDoN8+nCi2QIpT4D45n3QBs2vgPnSM8YIEnOA+K2R0YSDf4D4WDozVSSrhPjaKON+AfeE+ith5fsXY4T7M4N7rWjHiPjF1/LxOj+I+hcM9XJPq4j4qVeQIACvjPnaIPbwAXuM+bF1JdpWD4z5iMlUwKqnjPtLxZkeJ4eM+HiXA+okU5D68m367sizkPojJ6SWlJOQ+MGucLDkX5D7YDE8zzQnkPnqTGU4d1OM+8nJDGctw4z6WCRqOQu3iPu5sl0+5NuI+UvsIV5ta4T7Gz1aQLIHgPoieMR9SBN8+goh5+xgY3j4=\",\"dtype\":\"float64\",\"order\":\"little\",\"shape\":[52]},\"y\":{\"__ndarray__\":\"ZGuc9g4cyD5MxgdroxDRPg8Nq7E8KNg+PCi+azQZ4T64eH4SWjToPuEOwIbcIfE+Z0fnlcBA+D6YH2gliioBP9Sc7oPpTAg/Ql+zwzEzET+gljJTNVkYP2ZxYprjOyE/47vwko9lKD9bxrDhpkQxP5nUeP7hcTg/6iw3XFRNQT/T3tKpMH5IP1i/ozP/VVE/evcom4SKWD8yIkZ06F5hP/kHy8MMl2g/VofDFqNncT9hz+FLcKN4P3x0YW1acIE/X2vP28OviD9AhYSHRHmRP+ZaGzRwvJg/0yEEaB6CoT8CT0GG5sioP5UwcU3uirE/dGARDHnVuD8xiMFP55PBP9O3eEIG4sg/eGGlN7Kc0T9Ee1jImO7YP5XsWeOepeE/zbO0Jyb76D/JJeF0ba7xP1g6g2OjB/k/gxc9vHK3AUCvTMbddhQJQMNuAnVuwBFAzIQ6IyAhGUAKvmxdV8khQAlOitTELSlAXZNjGl7SMUD/kmg0gzo5QCwuSfFg20FAlZRAlEFHSUBXVyzIY+RRQEBcEvT/U1lAjhINn2btYUA=\",\"dtype\":\"float64\",\"order\":\"little\",\"shape\":[52]}},\"selected\":{\"id\":\"1304\"},\"selection_policy\":{\"id\":\"1303\"}},\"id\":\"1207\",\"type\":\"ColumnDataSource\"},{\"attributes\":{\"line_alpha\":0.2,\"line_color\":\"#F7715B\",\"line_width\":3,\"x\":{\"field\":\"x\"},\"y\":{\"field\":\"y\"}},\"id\":\"1210\",\"type\":\"Line\"},{\"attributes\":{\"source\":{\"id\":\"1207\"}},\"id\":\"1212\",\"type\":\"CDSView\"},{\"attributes\":{},\"id\":\"1303\",\"type\":\"UnionRenderers\"},{\"attributes\":{\"coordinates\":null,\"data_source\":{\"id\":\"1207\"},\"glyph\":{\"id\":\"1208\"},\"group\":null,\"hover_glyph\":null,\"muted_glyph\":{\"id\":\"1210\"},\"nonselection_glyph\":{\"id\":\"1209\"},\"view\":{\"id\":\"1212\"}},\"id\":\"1211\",\"type\":\"GlyphRenderer\"},{\"attributes\":{\"line_alpha\":0.1,\"line_color\":\"#F7715B\",\"line_width\":3,\"x\":{\"field\":\"x\"},\"y\":{\"field\":\"y\"}},\"id\":\"1209\",\"type\":\"Line\"},{\"attributes\":{},\"id\":\"1304\",\"type\":\"Selection\"},{\"attributes\":{\"coordinates\":null,\"data_source\":{\"id\":\"1213\"},\"glyph\":{\"id\":\"1214\"},\"group\":null,\"hover_glyph\":null,\"muted_glyph\":{\"id\":\"1216\"},\"nonselection_glyph\":{\"id\":\"1215\"},\"view\":{\"id\":\"1218\"}},\"id\":\"1217\",\"type\":\"GlyphRenderer\"},{\"attributes\":{\"line_color\":\"#FC8E63\",\"line_width\":3,\"x\":{\"field\":\"x\"},\"y\":{\"field\":\"y\"}},\"id\":\"1214\",\"type\":\"Line\"},{\"attributes\":{\"data\":{\"x\":{\"__ndarray__\":\"bvNiXb5LAj12coSVHE78PCpbk3kUFwY9OLVonhPbFj0J5HHry18qPUrOKWibWz09iJjflOPHTD1aBTPkAHRYPZ4AoxZZzmI92hPFJtFtbD2ePOwcrNV2PQIsbh+fJIQ9EN5Ru2h+kj3IUxaDwTegPclvu3Wp1qk9ChE8s7Rqsj0k1lz+RE+3PXInwNsHHbo9wpbJp8Spuj3avkQCZN+7PVD7WskePME9yW+7danWyT07ty5cKh3WPbLIQBkTseI9gGf2cEVG7T2HspVFtqP3PQnX5/kA1QY+7jrHdJWGGj4ODIoIlOYwPhq1xSGGxkU+xF5wWuwOWz5mzMXlHQNwPmJuLGVv4oE+6IhW0K8LkT4+INoLKHubPsoI9v90eqM+Ik/PEbJZqT5CJPf/Z1CxPoSmmaxZgLk+2hvfi+29wT76iXc+C1vGPpbxpaYTv8g+7UBjR18Yyz4uOjhc1LzNPigkgDib0Mw+NW2UL0cTyD7Buhpu+pLBPnh6KWXnp7c+xV5nxH6vrj4kpJYvLb+jPq5/saArb5k+piEz4sVsoD4=\",\"dtype\":\"float64\",\"order\":\"little\",\"shape\":[52]},\"y\":{\"__ndarray__\":\"ZGuc9g4cyD5MxgdroxDRPg8Nq7E8KNg+PCi+azQZ4T64eH4SWjToPuEOwIbcIfE+Z0fnlcBA+D6YH2gliioBP9Sc7oPpTAg/Ql+zwzEzET+gljJTNVkYP2ZxYprjOyE/47vwko9lKD9bxrDhpkQxP5nUeP7hcTg/6iw3XFRNQT/T3tKpMH5IP1i/ozP/VVE/evcom4SKWD8yIkZ06F5hP/kHy8MMl2g/VofDFqNncT9hz+FLcKN4P3x0YW1acIE/X2vP28OviD9AhYSHRHmRP+ZaGzRwvJg/0yEEaB6CoT8CT0GG5sioP5UwcU3uirE/dGARDHnVuD8xiMFP55PBP9O3eEIG4sg/eGGlN7Kc0T9Ee1jImO7YP5XsWeOepeE/zbO0Jyb76D/JJeF0ba7xP1g6g2OjB/k/gxc9vHK3AUCvTMbddhQJQMNuAnVuwBFAzIQ6IyAhGUAKvmxdV8khQAlOitTELSlAXZNjGl7SMUD/kmg0gzo5QCwuSfFg20FAlZRAlEFHSUBXVyzIY+RRQEBcEvT/U1lAjhINn2btYUA=\",\"dtype\":\"float64\",\"order\":\"little\",\"shape\":[52]}},\"selected\":{\"id\":\"1306\"},\"selection_policy\":{\"id\":\"1305\"}},\"id\":\"1213\",\"type\":\"ColumnDataSource\"},{\"attributes\":{\"line_alpha\":0.2,\"line_color\":\"#FC8E63\",\"line_width\":3,\"x\":{\"field\":\"x\"},\"y\":{\"field\":\"y\"}},\"id\":\"1216\",\"type\":\"Line\"},{\"attributes\":{\"line_color\":\"#FEAA74\",\"line_width\":3,\"x\":{\"field\":\"x\"},\"y\":{\"field\":\"y\"}},\"id\":\"1220\",\"type\":\"Line\"},{\"attributes\":{\"line_alpha\":0.1,\"line_color\":\"#FC8E63\",\"line_width\":3,\"x\":{\"field\":\"x\"},\"y\":{\"field\":\"y\"}},\"id\":\"1215\",\"type\":\"Line\"},{\"attributes\":{\"source\":{\"id\":\"1213\"}},\"id\":\"1218\",\"type\":\"CDSView\"},{\"attributes\":{\"line_alpha\":0.2,\"line_color\":\"#FEAA74\",\"line_width\":3,\"x\":{\"field\":\"x\"},\"y\":{\"field\":\"y\"}},\"id\":\"1222\",\"type\":\"Line\"},{\"attributes\":{\"data\":{\"x\":{\"__ndarray__\":\"vvlRtNVJhTnTtVqFOLGCOWgNCZjUaJ05IoYPQwJ2wzn6AGT3i3/tOaDC6/5LSBQ6buDYMD2rNTpK/4sgXOpROu9fJ8+xTWk6CDnOA4fAgTqHXlsq1oicOuI76DyoALs6/7QDio8K2zocYdeAdUb4OtWIoSDYNBI7Prl5cUhXJjv2L79fkx82O2USdOA3rkE7UbISQLMtSDuk/+5Isb1ROw3BLMokJmI77CHhiExLejsXEKw1VOCXO8jBP9GDYLQ76GVPMzFCzjsOSUe1o/DoO/rZuyk7jQ08FItwxLdNODzEHfd8cfFmPGsw3sgotJU8ydVgwPAFwzyG/wPDvIDuPKGYpJL+eRU9GXbp7jaTNT0B8CQZTB1QPUrP4HVg8mI9TuArDHFDcz0YSA20DUGGPZTXnB1G1Jw9cAsb6R9+sD3vyBluCVa/PTwNK1BhZMc9uaEy5/fd0T2pX/tVqJTaPfT3E1CSFOA9CA87t6JK3j3/ClH/WJ/WPU/5Wc0MHM09gmn3bFdmwT0aYMU/b3O0PdgnjXQLvac9SjIyKPGUvD0=\",\"dtype\":\"float64\",\"order\":\"little\",\"shape\":[52]},\"y\":{\"__ndarray__\":\"ZGuc9g4cyD5MxgdroxDRPg8Nq7E8KNg+PCi+azQZ4T64eH4SWjToPuEOwIbcIfE+Z0fnlcBA+D6YH2gliioBP9Sc7oPpTAg/Ql+zwzEzET+gljJTNVkYP2ZxYprjOyE/47vwko9lKD9bxrDhpkQxP5nUeP7hcTg/6iw3XFRNQT/T3tKpMH5IP1i/ozP/VVE/evcom4SKWD8yIkZ06F5hP/kHy8MMl2g/VofDFqNncT9hz+FLcKN4P3x0YW1acIE/X2vP28OviD9AhYSHRHmRP+ZaGzRwvJg/0yEEaB6CoT8CT0GG5sioP5UwcU3uirE/dGARDHnVuD8xiMFP55PBP9O3eEIG4sg/eGGlN7Kc0T9Ee1jImO7YP5XsWeOepeE/zbO0Jyb76D/JJeF0ba7xP1g6g2OjB/k/gxc9vHK3AUCvTMbddhQJQMNuAnVuwBFAzIQ6IyAhGUAKvmxdV8khQAlOitTELSlAXZNjGl7SMUD/kmg0gzo5QCwuSfFg20FAlZRAlEFHSUBXVyzIY+RRQEBcEvT/U1lAjhINn2btYUA=\",\"dtype\":\"float64\",\"order\":\"little\",\"shape\":[52]}},\"selected\":{\"id\":\"1308\"},\"selection_policy\":{\"id\":\"1307\"}},\"id\":\"1219\",\"type\":\"ColumnDataSource\"},{\"attributes\":{\"end\":2.8740886833916594e-06,\"start\":143.41877701333254},\"id\":\"1107\",\"type\":\"Range1d\"},{\"attributes\":{},\"id\":\"1305\",\"type\":\"UnionRenderers\"},{\"attributes\":{\"source\":{\"id\":\"1219\"}},\"id\":\"1224\",\"type\":\"CDSView\"},{\"attributes\":{\"line_color\":\"#FEC689\",\"line_width\":3,\"x\":{\"field\":\"x\"},\"y\":{\"field\":\"y\"}},\"id\":\"1226\",\"type\":\"Line\"},{\"attributes\":{\"coordinates\":null,\"data_source\":{\"id\":\"1219\"},\"glyph\":{\"id\":\"1220\"},\"group\":null,\"hover_glyph\":null,\"muted_glyph\":{\"id\":\"1222\"},\"nonselection_glyph\":{\"id\":\"1221\"},\"view\":{\"id\":\"1224\"}},\"id\":\"1223\",\"type\":\"GlyphRenderer\"},{\"attributes\":{},\"id\":\"1306\",\"type\":\"Selection\"},{\"attributes\":{\"line_alpha\":0.1,\"line_color\":\"#FEAA74\",\"line_width\":3,\"x\":{\"field\":\"x\"},\"y\":{\"field\":\"y\"}},\"id\":\"1221\",\"type\":\"Line\"},{\"attributes\":{\"line_alpha\":0.2,\"line_color\":\"#FEC689\",\"line_width\":3,\"x\":{\"field\":\"x\"},\"y\":{\"field\":\"y\"}},\"id\":\"1228\",\"type\":\"Line\"},{\"attributes\":{\"data\":{\"x\":{\"__ndarray__\":\"K/OYTNyy4TpG/9cXOMjcOlvtncdG9u06AdIV9tXrBjvd5fpFB+MjO0DncqxcK0A7yBDo6H4EVjtWn3kXydtoOzhORpIZtXg7mIZfIV83iDuyf3p+7f2ZO05b+AOJf687An53J94IxDuDWaIs2rrXO1EaJ3UxtOg7sCnRi/Mx9jsoGwYL6fIAPGYPv0fzDwY86r2XVcGHCTxivFeQBLIOPAQPbxaEWhc8Sc1BbIMFJzydkdU7S+w6POj20yzvqk48yz+I/leFXzwRxKx8eB1xPOF4GIN0Aog8wqJR3gqGpTze21aJoqLFPIDNBo/26OU8E1RTwhXxBD23S2jUPcYiPfWbHdlV9j492psyGitfVD0QywgA54NlPfj4jFxtMXM9criJBsiyfj3b0A4rLYWKPfYcHtdeBpk9OFVWosK8pT0rME/KMoywPZw9a69kKrU9nLxqsVsauz1Q+1rJHjzBPfajDDgAo8I9zh21WSmFwD3EtG+Wvmi4PQwv4qGuKbA9774+pOpcpD2YBw01CTmZPTlx+5SqW489fK8hw6aemz0=\",\"dtype\":\"float64\",\"order\":\"little\",\"shape\":[52]},\"y\":{\"__ndarray__\":\"ZGuc9g4cyD5MxgdroxDRPg8Nq7E8KNg+PCi+azQZ4T64eH4SWjToPuEOwIbcIfE+Z0fnlcBA+D6YH2gliioBP9Sc7oPpTAg/Ql+zwzEzET+gljJTNVkYP2ZxYprjOyE/47vwko9lKD9bxrDhpkQxP5nUeP7hcTg/6iw3XFRNQT/T3tKpMH5IP1i/ozP/VVE/evcom4SKWD8yIkZ06F5hP/kHy8MMl2g/VofDFqNncT9hz+FLcKN4P3x0YW1acIE/X2vP28OviD9AhYSHRHmRP+ZaGzRwvJg/0yEEaB6CoT8CT0GG5sioP5UwcU3uirE/dGARDHnVuD8xiMFP55PBP9O3eEIG4sg/eGGlN7Kc0T9Ee1jImO7YP5XsWeOepeE/zbO0Jyb76D/JJeF0ba7xP1g6g2OjB/k/gxc9vHK3AUCvTMbddhQJQMNuAnVuwBFAzIQ6IyAhGUAKvmxdV8khQAlOitTELSlAXZNjGl7SMUD/kmg0gzo5QCwuSfFg20FAlZRAlEFHSUBXVyzIY+RRQEBcEvT/U1lAjhINn2btYUA=\",\"dtype\":\"float64\",\"order\":\"little\",\"shape\":[52]}},\"selected\":{\"id\":\"1310\"},\"selection_policy\":{\"id\":\"1309\"}},\"id\":\"1225\",\"type\":\"ColumnDataSource\"},{\"attributes\":{\"source\":{\"id\":\"1225\"}},\"id\":\"1230\",\"type\":\"CDSView\"},{\"attributes\":{\"line_color\":\"#FDE1A3\",\"line_width\":3,\"x\":{\"field\":\"x\"},\"y\":{\"field\":\"y\"}},\"id\":\"1232\",\"type\":\"Line\"},{\"attributes\":{\"coordinates\":null,\"data_source\":{\"id\":\"1225\"},\"glyph\":{\"id\":\"1226\"},\"group\":null,\"hover_glyph\":null,\"muted_glyph\":{\"id\":\"1228\"},\"nonselection_glyph\":{\"id\":\"1227\"},\"view\":{\"id\":\"1230\"}},\"id\":\"1229\",\"type\":\"GlyphRenderer\"},{\"attributes\":{\"line_alpha\":0.1,\"line_color\":\"#FEC689\",\"line_width\":3,\"x\":{\"field\":\"x\"},\"y\":{\"field\":\"y\"}},\"id\":\"1227\",\"type\":\"Line\"},{\"attributes\":{\"line_alpha\":0.2,\"line_color\":\"#FDE1A3\",\"line_width\":3,\"x\":{\"field\":\"x\"},\"y\":{\"field\":\"y\"}},\"id\":\"1234\",\"type\":\"Line\"},{\"attributes\":{\"data\":{\"x\":{\"__ndarray__\":\"r1eJ//UNwDqfIGVoMF3AOptB3sREVtI65w+cwTdf6DryoALS7CsBO1GyEkCzLRg7xktykGBGLzuCY6dl59RBO//f76/V31I7o+XmtKOBZDv7KSoBsGt1OyyHEQzYqoY7+3/T86k3mTsMSnWbCYirO3yL1Y6p3Ls72gKU2ungyTuGwIh78qnVO/pfyHCUhd87PhEQC0bH5DvP7hlXHF3sO81vAeyejPY7gGRJjfEyBTxJzUFsgwUXPJNtYPfcHyk8MJLNBXL8ODyyiiCTSJhJPMo/iP5XhV88LfmeYTMAdzx38bTTRCySPMByWAc5Q608AOdbE0egxjzkAZudQbzgPL42phBAgvc8Bs1+McJWDD1aE6CvKikdPWGB7anapyo94Bft3wSTNj0uKGNCKVZEPdDDv97+hlM9PYu0HB6uYT24SrHGeC9tPbZ3sDLNBXU9criJBsiyfj2C90lmyzWGPUNok1GJR4w9YEtaixPrjj3S2XZuTpmNPapoYOqM54k9EoHlDvK5hT1Vvws97vyBPWYqOryQpH09515edWSTiz0=\",\"dtype\":\"float64\",\"order\":\"little\",\"shape\":[52]},\"y\":{\"__ndarray__\":\"ZGuc9g4cyD5MxgdroxDRPg8Nq7E8KNg+PCi+azQZ4T64eH4SWjToPuEOwIbcIfE+Z0fnlcBA+D6YH2gliioBP9Sc7oPpTAg/Ql+zwzEzET+gljJTNVkYP2ZxYprjOyE/47vwko9lKD9bxrDhpkQxP5nUeP7hcTg/6iw3XFRNQT/T3tKpMH5IP1i/ozP/VVE/evcom4SKWD8yIkZ06F5hP/kHy8MMl2g/VofDFqNncT9hz+FLcKN4P3x0YW1acIE/X2vP28OviD9AhYSHRHmRP+ZaGzRwvJg/0yEEaB6CoT8CT0GG5sioP5UwcU3uirE/dGARDHnVuD8xiMFP55PBP9O3eEIG4sg/eGGlN7Kc0T9Ee1jImO7YP5XsWeOepeE/zbO0Jyb76D/JJeF0ba7xP1g6g2OjB/k/gxc9vHK3AUCvTMbddhQJQMNuAnVuwBFAzIQ6IyAhGUAKvmxdV8khQAlOitTELSlAXZNjGl7SMUD/kmg0gzo5QCwuSfFg20FAlZRAlEFHSUBXVyzIY+RRQEBcEvT/U1lAjhINn2btYUA=\",\"dtype\":\"float64\",\"order\":\"little\",\"shape\":[52]}},\"selected\":{\"id\":\"1312\"},\"selection_policy\":{\"id\":\"1311\"}},\"id\":\"1231\",\"type\":\"ColumnDataSource\"},{\"attributes\":{\"source\":{\"id\":\"1231\"}},\"id\":\"1236\",\"type\":\"CDSView\"},{\"attributes\":{\"coordinates\":null,\"data_source\":{\"id\":\"1231\"},\"glyph\":{\"id\":\"1232\"},\"group\":null,\"hover_glyph\":null,\"muted_glyph\":{\"id\":\"1234\"},\"nonselection_glyph\":{\"id\":\"1233\"},\"view\":{\"id\":\"1236\"}},\"id\":\"1235\",\"type\":\"GlyphRenderer\"},{\"attributes\":{\"line_alpha\":0.1,\"line_color\":\"#FDE1A3\",\"line_width\":3,\"x\":{\"field\":\"x\"},\"y\":{\"field\":\"y\"}},\"id\":\"1233\",\"type\":\"Line\"},{\"attributes\":{},\"id\":\"1307\",\"type\":\"UnionRenderers\"},{\"attributes\":{\"coordinates\":null,\"data_source\":{\"id\":\"1237\"},\"glyph\":{\"id\":\"1238\"},\"group\":null,\"hover_glyph\":null,\"muted_glyph\":{\"id\":\"1240\"},\"nonselection_glyph\":{\"id\":\"1239\"},\"view\":{\"id\":\"1242\"}},\"id\":\"1241\",\"type\":\"GlyphRenderer\"},{\"attributes\":{},\"id\":\"1308\",\"type\":\"Selection\"},{\"attributes\":{\"line_color\":\"#FBFCBF\",\"line_width\":3,\"x\":{\"field\":\"x\"},\"y\":{\"field\":\"y\"}},\"id\":\"1238\",\"type\":\"Line\"},{\"attributes\":{\"data\":{\"x\":{\"__ndarray__\":\"unt2qY7qEzAClM+8MSMcMLYXI0BxQFIw11MZSzNyoDCXc/EBBQnxMGqTeIAQXDsxhxlUo919ejFfK7UxFziwMeaS+Kr/PN4xSFEJP4I7DDIENIfkxyhEMuNYQZ9tHoQy/eFl+e2PxDKwmIkheEQAMx8QgaOzNjIzdflPYizkWzPeS3a6jRd9MzCsAfCTsZUzPE9XDXOhqTP2awGMinDCM0n7AXdys+kzQkKhVqVTIDSAkJcA/O9cNP2XdMWYq5Q0BMcixTwiyDQdBFPLiXICNdJXsuxGIEw13pIgD5yRojUMtrtDgrv+NTx33ALQxFg2U8alI2N6sTbRBDsUOfYEN2BJPfWCtVQ3+0WdYRnxlDfqmD0FcsPJNzhJPTdvj/U3v/760ZCvHDimRfkrhD9LOOJIGqWaJX445HNa/R8gqDhqtsQlEpTMOP6+gU/09+Q4QJ+CdvkAAzmKFA9cULEcOTi6y7mNOy05HMHGDFiJMjnMMrtgExovOUNQjsIcGCQ5+dfT6wMrFznn24O00vAJOd4fXko2Pv04RBqL7ewGPjk=\",\"dtype\":\"float64\",\"order\":\"little\",\"shape\":[52]},\"y\":{\"__ndarray__\":\"ZGuc9g4cyD5MxgdroxDRPg8Nq7E8KNg+PCi+azQZ4T64eH4SWjToPuEOwIbcIfE+Z0fnlcBA+D6YH2gliioBP9Sc7oPpTAg/Ql+zwzEzET+gljJTNVkYP2ZxYprjOyE/47vwko9lKD9bxrDhpkQxP5nUeP7hcTg/6iw3XFRNQT/T3tKpMH5IP1i/ozP/VVE/evcom4SKWD8yIkZ06F5hP/kHy8MMl2g/VofDFqNncT9hz+FLcKN4P3x0YW1acIE/X2vP28OviD9AhYSHRHmRP+ZaGzRwvJg/0yEEaB6CoT8CT0GG5sioP5UwcU3uirE/dGARDHnVuD8xiMFP55PBP9O3eEIG4sg/eGGlN7Kc0T9Ee1jImO7YP5XsWeOepeE/zbO0Jyb76D/JJeF0ba7xP1g6g2OjB/k/gxc9vHK3AUCvTMbddhQJQMNuAnVuwBFAzIQ6IyAhGUAKvmxdV8khQAlOitTELSlAXZNjGl7SMUD/kmg0gzo5QCwuSfFg20FAlZRAlEFHSUBXVyzIY+RRQEBcEvT/U1lAjhINn2btYUA=\",\"dtype\":\"float64\",\"order\":\"little\",\"shape\":[52]}},\"selected\":{\"id\":\"1314\"},\"selection_policy\":{\"id\":\"1313\"}},\"id\":\"1237\",\"type\":\"ColumnDataSource\"},{\"attributes\":{\"line_alpha\":0.2,\"line_color\":\"#FBFCBF\",\"line_width\":3,\"x\":{\"field\":\"x\"},\"y\":{\"field\":\"y\"}},\"id\":\"1240\",\"type\":\"Line\"},{\"attributes\":{\"label\":{\"value\":\"H2\"},\"renderers\":[{\"id\":\"1139\"}]},\"id\":\"1244\",\"type\":\"LegendItem\"},{\"attributes\":{\"line_alpha\":0.1,\"line_color\":\"#FBFCBF\",\"line_width\":3,\"x\":{\"field\":\"x\"},\"y\":{\"field\":\"y\"}},\"id\":\"1239\",\"type\":\"Line\"},{\"attributes\":{\"source\":{\"id\":\"1237\"}},\"id\":\"1242\",\"type\":\"CDSView\"},{\"attributes\":{\"label\":{\"value\":\"NH3\"},\"renderers\":[{\"id\":\"1193\"}]},\"id\":\"1253\",\"type\":\"LegendItem\"},{\"attributes\":{\"label\":{\"value\":\"He\"},\"renderers\":[{\"id\":\"1145\"}]},\"id\":\"1245\",\"type\":\"LegendItem\"},{\"attributes\":{},\"id\":\"1309\",\"type\":\"UnionRenderers\"},{\"attributes\":{},\"id\":\"1310\",\"type\":\"Selection\"},{\"attributes\":{\"label\":{\"value\":\"CO\"},\"renderers\":[{\"id\":\"1151\"}]},\"id\":\"1246\",\"type\":\"LegendItem\"},{\"attributes\":{\"label\":{\"value\":\"H2O\"},\"renderers\":[{\"id\":\"1157\"}]},\"id\":\"1247\",\"type\":\"LegendItem\"},{\"attributes\":{\"label\":{\"value\":\"N2\"},\"renderers\":[{\"id\":\"1163\"}]},\"id\":\"1248\",\"type\":\"LegendItem\"},{\"attributes\":{\"label\":{\"value\":\"CH4\"},\"renderers\":[{\"id\":\"1169\"}]},\"id\":\"1249\",\"type\":\"LegendItem\"},{\"attributes\":{\"label\":{\"value\":\"CO2\"},\"renderers\":[{\"id\":\"1175\"}]},\"id\":\"1250\",\"type\":\"LegendItem\"},{\"attributes\":{},\"id\":\"1311\",\"type\":\"UnionRenderers\"},{\"attributes\":{\"label\":{\"value\":\"H2S\"},\"renderers\":[{\"id\":\"1181\"}]},\"id\":\"1251\",\"type\":\"LegendItem\"},{\"attributes\":{\"label\":{\"value\":\"Na\"},\"renderers\":[{\"id\":\"1187\"}]},\"id\":\"1252\",\"type\":\"LegendItem\"}],\"root_ids\":[\"1102\"]},\"title\":\"Bokeh Application\",\"version\":\"2.4.2\"}};\n",
       "  const render_items = [{\"docid\":\"ffbea839-3c60-438d-bc66-21a7fcd24cdb\",\"root_ids\":[\"1102\"],\"roots\":{\"1102\":\"698a7078-00a1-443a-8219-392df5edb164\"}}];\n",
       "  root.Bokeh.embed.embed_items_notebook(docs_json, render_items);\n",
       "\n",
       "  }\n",
       "  if (root.Bokeh !== undefined) {\n",
       "    embed_document(root);\n",
       "  } else {\n",
       "    let attempts = 0;\n",
       "    const timer = setInterval(function(root) {\n",
       "      if (root.Bokeh !== undefined) {\n",
       "        clearInterval(timer);\n",
       "        embed_document(root);\n",
       "      } else {\n",
       "        attempts++;\n",
       "        if (attempts > 100) {\n",
       "          clearInterval(timer);\n",
       "          console.log(\"Bokeh: ERROR: Unable to run BokehJS code because BokehJS library is missing\");\n",
       "        }\n",
       "      }\n",
       "    }, 10, root)\n",
       "  }\n",
       "})(window);"
      ],
      "application/vnd.bokehjs_exec.v0+json": ""
     },
     "metadata": {
      "application/vnd.bokehjs_exec.v0+json": {
       "id": "1102"
      }
     },
     "output_type": "display_data"
    }
   ],
   "source": [
    "jpi.show(jpi.pt(full_output,plot_width=500))\n",
    "jpi.show(jpi.mixing_ratio(full_output,plot_width=500))"
   ]
  },
  {
   "cell_type": "markdown",
   "metadata": {},
   "source": [
    "### Standard (Rp/Rs)^2"
   ]
  },
  {
   "cell_type": "code",
   "execution_count": 5,
   "metadata": {},
   "outputs": [
    {
     "data": {
      "text/html": [
       "\n",
       "\n",
       "\n",
       "\n",
       "\n",
       "\n",
       "  <div class=\"bk-root\" id=\"a023b954-84ae-4456-b6d6-f4260e6bd15d\" data-root-id=\"1536\"></div>\n"
      ]
     },
     "metadata": {},
     "output_type": "display_data"
    },
    {
     "data": {
      "application/javascript": [
       "(function(root) {\n",
       "  function embed_document(root) {\n",
       "    \n",
       "  const docs_json = {\"afc79de5-cdae-4b71-ad8f-ba5c9f1115a4\":{\"defs\":[],\"roots\":{\"references\":[{\"attributes\":{\"below\":[{\"id\":\"1545\"}],\"center\":[{\"id\":\"1548\"},{\"id\":\"1552\"}],\"height\":345,\"left\":[{\"id\":\"1549\"}],\"renderers\":[{\"id\":\"1571\"}],\"title\":{\"id\":\"1627\"},\"toolbar\":{\"id\":\"1560\"},\"width\":500,\"x_range\":{\"id\":\"1537\"},\"x_scale\":{\"id\":\"1541\"},\"y_range\":{\"id\":\"1539\"},\"y_scale\":{\"id\":\"1543\"}},\"id\":\"1536\",\"subtype\":\"Figure\",\"type\":\"Plot\"},{\"attributes\":{},\"id\":\"1558\",\"type\":\"HelpTool\"},{\"attributes\":{},\"id\":\"1635\",\"type\":\"UnionRenderers\"},{\"attributes\":{\"bottom_units\":\"screen\",\"coordinates\":null,\"fill_alpha\":0.5,\"fill_color\":\"lightgrey\",\"group\":null,\"left_units\":\"screen\",\"level\":\"overlay\",\"line_alpha\":1.0,\"line_color\":\"black\",\"line_dash\":[4,4],\"line_width\":2,\"right_units\":\"screen\",\"syncable\":false,\"top_units\":\"screen\"},\"id\":\"1559\",\"type\":\"BoxAnnotation\"},{\"attributes\":{},\"id\":\"1557\",\"type\":\"ResetTool\"},{\"attributes\":{},\"id\":\"1636\",\"type\":\"Selection\"},{\"attributes\":{\"axis\":{\"id\":\"1549\"},\"coordinates\":null,\"dimension\":1,\"group\":null,\"ticker\":null},\"id\":\"1552\",\"type\":\"Grid\"},{\"attributes\":{},\"id\":\"1556\",\"type\":\"SaveTool\"},{\"attributes\":{\"line_alpha\":0.1,\"line_color\":\"#0072B2\",\"line_width\":3,\"x\":{\"field\":\"x\"},\"y\":{\"field\":\"y\"}},\"id\":\"1569\",\"type\":\"Line\"},{\"attributes\":{},\"id\":\"1554\",\"type\":\"WheelZoomTool\"},{\"attributes\":{\"line_alpha\":0.2,\"line_color\":\"#0072B2\",\"line_width\":3,\"x\":{\"field\":\"x\"},\"y\":{\"field\":\"y\"}},\"id\":\"1570\",\"type\":\"Line\"},{\"attributes\":{},\"id\":\"1537\",\"type\":\"DataRange1d\"},{\"attributes\":{\"line_color\":\"#0072B2\",\"line_width\":3,\"x\":{\"field\":\"x\"},\"y\":{\"field\":\"y\"}},\"id\":\"1568\",\"type\":\"Line\"},{\"attributes\":{\"coordinates\":null,\"data_source\":{\"id\":\"1567\"},\"glyph\":{\"id\":\"1568\"},\"group\":null,\"hover_glyph\":null,\"muted_glyph\":{\"id\":\"1570\"},\"nonselection_glyph\":{\"id\":\"1569\"},\"view\":{\"id\":\"1572\"}},\"id\":\"1571\",\"type\":\"GlyphRenderer\"},{\"attributes\":{},\"id\":\"1539\",\"type\":\"DataRange1d\"},{\"attributes\":{},\"id\":\"1630\",\"type\":\"BasicTickFormatter\"},{\"attributes\":{},\"id\":\"1553\",\"type\":\"PanTool\"},{\"attributes\":{\"axis_label\":\"Wavelength [\\u03bcm]\",\"axis_label_text_font\":\"times\",\"axis_label_text_font_size\":\"14pt\",\"axis_label_text_font_style\":\"bold\",\"coordinates\":null,\"formatter\":{\"id\":\"1633\"},\"group\":null,\"major_label_policy\":{\"id\":\"1634\"},\"major_label_text_font\":\"times\",\"major_label_text_font_size\":\"14pt\",\"ticker\":{\"id\":\"1546\"}},\"id\":\"1545\",\"type\":\"LinearAxis\"},{\"attributes\":{},\"id\":\"1543\",\"type\":\"LinearScale\"},{\"attributes\":{},\"id\":\"1541\",\"type\":\"LinearScale\"},{\"attributes\":{\"overlay\":{\"id\":\"1559\"}},\"id\":\"1555\",\"type\":\"BoxZoomTool\"},{\"attributes\":{},\"id\":\"1631\",\"type\":\"AllLabels\"},{\"attributes\":{},\"id\":\"1550\",\"type\":\"BasicTicker\"},{\"attributes\":{\"data\":{\"x\":{\"__ndarray__\":\"Wi4x8Af7/z8rVWHTocT/P7vn1j6Yjv8/ZjoslepY/z/iXAc6mCP/P+dSGJKg7v4/zE8XAwO6/j8f9cLzvoX+PzuU3svTUf4/7XIw9EAe/j/qEoDWBev9Pz98lN0huP0/vIoydZSF/T8fPhsKXVP9PzoNCgp7If0/6juz4+3v/D/dM8IGtb78Pyzg1+PPjfw/wguJ7D1d/D+KwlyT/iz8P1a1yksR/fs/kqA5inXN+z+dtf3DKp77P+gGV28wb/s/s/ZvA4ZA+z+EqFv4KhL7Pzh1FMce5Po/umF66WC2+j9cmFHa8Ij6P77kQBXOW/o/UjLQFvgu+j9rDWdcbgL6P9gmS2Qw1vk/CtqerT2q+T+4tV+4lX75PwIHZQU4U/k/EmdeFiQo+T8qS9JtWf34PzaXHI/X0vg/szJt/p2o+D8UoMZArH74P4OW/NsBVfg/BZ6yVp4r+D/7rVo4gQL4P/7NMwmq2fc/EblIUhix9z8bg26dy4j3P79AQ3XDYPc/b7EsZf849z/K61b5fhH3Pz8Ms75B6vY/5OX1QkfD9j+WtZYUj5z2P0DXzcIYdvY/Xn2T3eNP9j+sap717yn2PwKuYpw8BPY/T2AQZMne9T/GZJLflbn1Px4rjaKhlPU/+nNdQexv9T9aFxdRdUv1PzTNg2c8J/U/EPghG0ED9T+9cSMDg9/0PwVabLcBvPQ/deeR0LyY9D8eOtnns3X0P2AwNpfmUvQ/qj1KeVQw9D81Q2Mp/Q30P7xqekPg6/M/HQMzZP3J8z/yXtkoVKjzPxG1YS/khvM/9QJnFq1l8z8V8Sl9rkTzPw25jwPoI/M/uA0hSlkD8z8fBQnyAePyPz0EFJ3hwvI/m6yu7fei8j/Iy+SGRIPyP45MYAzHY/I/BSpoIn9E8j9sZN9tbCXyP7/3Q5SOBvI/FtStO+Xn8T/G180KcMnxP0rL7Kguq/E/xl7qvSCN8T9rKTzyRW/xP2uq7O6dUfE/ukuaXSg08T9xZnbo5BbxP9dIRDrT+fA/Jz5Y/vLc8D/kl5bgQ8DwP+a4co3Fo/A//CHusXeH8D8qgJf7WWvwP428iRhsT/A/yw1rt60z8D8mC2yHHhjwPyuCjXB8+e8/6Y579BjD7z+Jsjb8EY3vP9/bYOpmV+8/O6inIhci7z8PnMIJIu3uP6RecQWHuO4/zPh5fEWE7j+dFqfWXFDuPwxMxnzMHO4/jVym2JPp7T+dhRVVsrbtPyzM310nhO0/8EzNX/JR7T+dj6DIEiDtP+fcFAeI7uw/ZZfcilG97D89l5/EbozsP6GI+SXfW+w/CU14IaIr7D88X5oqt/vrPwg6zbUdzOs/u8FrONWc6z9IsLwo3W3rPygE8f00P+s/2HEiMNwQ6z//11E40uLqPz+2ZZAWteo/lKYos6iH6j9Z2UcciFrqP9yTUUi0Leo/gLGztCwB6j9jJ7rf8NTpP6KKjUgAqek/Bpkxb1p96T87xIPU/lHpP4a/OfrsJuk/5g/gYiT86D+tntiRpNHoP4dOWQttp+g/5ZJqVH196D/XCeby1FPoPzwYdW1zKug/VoiPS1gB6D+6KnoVg9jnP4p5RVTzr+c/DD7MkaiH5z+JOLJYol/nP3LKYjTgN+c/06IPsWEQ5z8Dba9bJunmP42B/MEtwuY/W5lzcneb5j8Tg1L8AnXmP6falu/PTuY/F8P83N0o5j9Tov1VLAPmP1Xfzuy63eU/UKJgNIm45T8Il1zAlpPlPz6xJCXjbuU/QfPR921K5T+INjPONiblP2L2yz49AuU/uBzT4IDe5D/W0DFMAbvkPzhIghm+l+Q/Y5kO4rZ05D+3kM8/61HkPz+Ha81aL+Q/gTs1JgUN5D85rCrm6erjPxP186kIyeM/Ry3iDmGn4z8ySO6y8oXjP8T3tzS9ZOM/6ZCEM8BD4z8=\",\"dtype\":\"float64\",\"order\":\"little\",\"shape\":[181]},\"y\":{\"__ndarray__\":\"FlGaImZI30BbAQ21L0/fQExRnJlPTt9AvKXrehZM30DW1jcC7VHfQLCPLAVdTd9AOQSo/Ws/30B7otL4Tz/fQLFzaAOWS99AosedhSlF30AY32D1olDfQH6xbcJHR99A9ZzvnjBH30Az5pFLJ0DfQPIhSQPaQd9AuFg2mOhF30AeOMDyXjjfQIab2r1pOd9AAgaN5dss30AFiOKSFBrfQKwZ5sLYIt9AQacf/UEe30BwmBpsIBDfQJ/P2FTyCd9ASADBMOTz3kD/H2U5O/HeQBxHJT6G7N5AI0UxjgXy3kDFbavp/fPeQF+cPeb09N5A2uWNk4D53kBpDn/f3P3eQBqwy2Wb/t5Al78FS8sH30AEwzTS2grfQIrM5CxVE99A2BqVkwIZ30DuLM0YoB/fQLjnirjPHt9A5aRmElIx30CmDSULODPfQEtdLCESO99AY958mFw530Ax7D+UJD/fQOSsXebxPN9Am2ARxwtN30DJxOPPClPfQN0doK8FTd9AII0AkSlP30AnYRGDK1DfQE7/SfSRX99AcoD0YZ9h30BckL1er1zfQFt1JJG2Vt9AeBsEoCRW30AjxCVzHVnfQKRv9o4JWN9AbeFZillW30DkdDsqFlXfQD0xyVBMU99AuzDGEvo930CnIVwJAijfQN6Ogp9yBd9ABPq1RNf+3kDnp52C2/3eQPbvJ1J89d5AxH6j1Szv3kDSHUeLVe3eQJH3ihuq7N5A9u8mPXru3kDiqAPVluzeQKSHTr9+8d5AgmxK42v43kA4PojSHPveQEPWVqWmBN9AqDMGTxED30Ce9zNF2wzfQG7/WKPBEd9ASMFGqDwf30BC4T3V1R/fQJFB5Js2Ld9AOfMbCqkk30DFEOZGEyPfQOnZPqx6Jd9AnJ8DpLQj30DDM/COpTPfQCT9Tn9CGd9AGR1xy0At30CUKgPuFx3fQJCIb7QiEN9AG/fuLGMO30CR4n5AxfbeQGQnUt9b295AwnRM25fS3kBE/WjyZ9PeQA93p37B1t5AVskpPc3R3kBYktUSKNjeQGDh+cAa1d5AiphsHjfc3kDPua8GfeLeQEJMXavQ7d5ARax6gIPx3kCPtm/VXPneQOaR0IymAd9AiS9DvZQK30AEpaKBOw3fQNdofz16Fd9AzrWwJn8O30BLFfLI0BDfQHRGZS75Ht9AbQHc4LAe30BUopKx7hzfQE/i3WbBI99AwiDu6Fcj30BAWKx/zR3fQF1xZ82O+d5AJVFk9ZX43kB6ciZa0e7eQK5d8wKB695AqFb6kpP03kBjE8X6UOfeQAIUM9ZP2d5AYTIa5jXc3kDrL20yFd7eQKW4x7Zb4N5AcjAC7Bzk3kDw9kOQjOfeQMYvGD0F6t5AL8gHyrry3kAa1tylkvLeQHvpW9GM995ACUzC2dD83kDLkuO5jfjeQD8INDUY/N5AcbDg2YED30Ckg2zkhf3eQG9eV9cf/N5A2yofPB783kBf6egZK//eQI90WvTvBd9Aj5AyzVgK30BwrwAYihTfQEGcI2EGPd9ABzTuLN8/30ClcLtirhDfQNyR5hJ4C99A8JZ2npQJ30BlUbfV9ATfQJmhI2YPBt9AkC24ugAF30Clpma6ugLfQPnk5JNmA99Ao2yZPm0F30BAfTvyeQHfQEnx/ZPq+d5A24pJTrD33kCKq/eqg/jeQNOcXZ6o9d5Arrpfa4H43kBKzXHgXPDeQIng/v3A795AVapyFYPw3kC5r/yzcPLeQOZlnj4Y9d5A2bg/Ov333kABWPqZWvveQBK9FamZ/d5AtvuH+IwA30C9pOP7nwPfQNFBIFn7BN9A4ObKbFsH30BZqlksGwrfQPJkgA5lDd9AYR22QroQ30BDOLByAxTfQC+X7yy6F99AMmYq4Lsb30BqDA5AKiDfQPpGvZAvJd9ATWl4xTEr30A=\",\"dtype\":\"float64\",\"order\":\"little\",\"shape\":[181]}},\"selected\":{\"id\":\"1636\"},\"selection_policy\":{\"id\":\"1635\"}},\"id\":\"1567\",\"type\":\"ColumnDataSource\"},{\"attributes\":{},\"id\":\"1546\",\"type\":\"BasicTicker\"},{\"attributes\":{},\"id\":\"1633\",\"type\":\"BasicTickFormatter\"},{\"attributes\":{\"tools\":[{\"id\":\"1553\"},{\"id\":\"1554\"},{\"id\":\"1555\"},{\"id\":\"1556\"},{\"id\":\"1557\"},{\"id\":\"1558\"}]},\"id\":\"1560\",\"type\":\"Toolbar\"},{\"attributes\":{\"axis_label\":\"Spectrum\",\"axis_label_text_font\":\"times\",\"axis_label_text_font_size\":\"14pt\",\"axis_label_text_font_style\":\"bold\",\"coordinates\":null,\"formatter\":{\"id\":\"1630\"},\"group\":null,\"major_label_policy\":{\"id\":\"1631\"},\"major_label_text_font\":\"times\",\"major_label_text_font_size\":\"14pt\",\"ticker\":{\"id\":\"1550\"}},\"id\":\"1549\",\"type\":\"LinearAxis\"},{\"attributes\":{\"coordinates\":null,\"group\":null},\"id\":\"1627\",\"type\":\"Title\"},{\"attributes\":{\"axis\":{\"id\":\"1545\"},\"coordinates\":null,\"group\":null,\"ticker\":null},\"id\":\"1548\",\"type\":\"Grid\"},{\"attributes\":{\"source\":{\"id\":\"1567\"}},\"id\":\"1572\",\"type\":\"CDSView\"},{\"attributes\":{},\"id\":\"1634\",\"type\":\"AllLabels\"}],\"root_ids\":[\"1536\"]},\"title\":\"Bokeh Application\",\"version\":\"2.4.2\"}};\n",
       "  const render_items = [{\"docid\":\"afc79de5-cdae-4b71-ad8f-ba5c9f1115a4\",\"root_ids\":[\"1536\"],\"roots\":{\"1536\":\"a023b954-84ae-4456-b6d6-f4260e6bd15d\"}}];\n",
       "  root.Bokeh.embed.embed_items_notebook(docs_json, render_items);\n",
       "\n",
       "  }\n",
       "  if (root.Bokeh !== undefined) {\n",
       "    embed_document(root);\n",
       "  } else {\n",
       "    let attempts = 0;\n",
       "    const timer = setInterval(function(root) {\n",
       "      if (root.Bokeh !== undefined) {\n",
       "        clearInterval(timer);\n",
       "        embed_document(root);\n",
       "      } else {\n",
       "        attempts++;\n",
       "        if (attempts > 100) {\n",
       "          clearInterval(timer);\n",
       "          console.log(\"Bokeh: ERROR: Unable to run BokehJS code because BokehJS library is missing\");\n",
       "        }\n",
       "      }\n",
       "    }, 10, root)\n",
       "  }\n",
       "})(window);"
      ],
      "application/vnd.bokehjs_exec.v0+json": ""
     },
     "metadata": {
      "application/vnd.bokehjs_exec.v0+json": {
       "id": "1536"
      }
     },
     "output_type": "display_data"
    }
   ],
   "source": [
    "jpi.show(jpi.spectrum(wno,rprs2*1e6,plot_width=500))"
   ]
  },
  {
   "cell_type": "markdown",
   "metadata": {},
   "source": [
    "## Adding Grey Cloud\n",
    "\n",
    "If you want to test the observability of your features against varying strengths of cloud optical depth, you can use the `cloud` box model function \n",
    "\n",
    "Remember: \n",
    "\n",
    "- `p` is the maximum cloud pressure in log. Max Pressure = 10^p bars \n",
    "- `dp` is the thickness in log. Minimum Pressure = 10^(p-dp) bars\n",
    "- In order to simulate an optically thick cloud deck, set `opd` arbitrarily large (>1)\n",
    "- In transit, the asymmetry and single scattering albedo are not used and can be set to anything between 0-1\n"
   ]
  },
  {
   "cell_type": "code",
   "execution_count": 6,
   "metadata": {},
   "outputs": [
    {
     "data": {
      "text/html": [
       "\n",
       "\n",
       "\n",
       "\n",
       "\n",
       "\n",
       "  <div class=\"bk-root\" id=\"15bfa9fe-131d-4bbd-a8ce-07957655910b\" data-root-id=\"1693\"></div>\n"
      ]
     },
     "metadata": {},
     "output_type": "display_data"
    },
    {
     "data": {
      "application/javascript": [
       "(function(root) {\n",
       "  function embed_document(root) {\n",
       "    \n",
       "  const docs_json = {\"e2a244b9-2a6d-4114-9e0a-7938a63a2773\":{\"defs\":[],\"roots\":{\"references\":[{\"attributes\":{\"below\":[{\"id\":\"1702\"}],\"center\":[{\"id\":\"1705\"},{\"id\":\"1709\"}],\"height\":345,\"left\":[{\"id\":\"1706\"},{\"id\":\"1736\"}],\"renderers\":[{\"id\":\"1728\"},{\"id\":\"1734\"}],\"title\":{\"id\":\"1804\"},\"toolbar\":{\"id\":\"1717\"},\"width\":500,\"x_range\":{\"id\":\"1694\"},\"x_scale\":{\"id\":\"1698\"},\"y_range\":{\"id\":\"1696\"},\"y_scale\":{\"id\":\"1700\"}},\"id\":\"1693\",\"subtype\":\"Figure\",\"type\":\"Plot\"},{\"attributes\":{},\"id\":\"1808\",\"type\":\"AllLabels\"},{\"attributes\":{\"label\":{\"value\":\"Grey cloud\"},\"renderers\":[{\"id\":\"1734\"}]},\"id\":\"1738\",\"type\":\"LegendItem\"},{\"attributes\":{\"line_color\":\"#E69F00\",\"line_width\":3,\"x\":{\"field\":\"x\"},\"y\":{\"field\":\"y\"}},\"id\":\"1731\",\"type\":\"Line\"},{\"attributes\":{},\"id\":\"1696\",\"type\":\"DataRange1d\"},{\"attributes\":{\"line_alpha\":0.2,\"line_color\":\"#E69F00\",\"line_width\":3,\"x\":{\"field\":\"x\"},\"y\":{\"field\":\"y\"}},\"id\":\"1733\",\"type\":\"Line\"},{\"attributes\":{},\"id\":\"1813\",\"type\":\"Selection\"},{\"attributes\":{},\"id\":\"1694\",\"type\":\"DataRange1d\"},{\"attributes\":{},\"id\":\"1710\",\"type\":\"PanTool\"},{\"attributes\":{\"axis\":{\"id\":\"1706\"},\"coordinates\":null,\"dimension\":1,\"group\":null,\"ticker\":null},\"id\":\"1709\",\"type\":\"Grid\"},{\"attributes\":{},\"id\":\"1811\",\"type\":\"AllLabels\"},{\"attributes\":{},\"id\":\"1707\",\"type\":\"BasicTicker\"},{\"attributes\":{},\"id\":\"1714\",\"type\":\"ResetTool\"},{\"attributes\":{\"tools\":[{\"id\":\"1710\"},{\"id\":\"1711\"},{\"id\":\"1712\"},{\"id\":\"1713\"},{\"id\":\"1714\"},{\"id\":\"1715\"}]},\"id\":\"1717\",\"type\":\"Toolbar\"},{\"attributes\":{\"data\":{\"x\":{\"__ndarray__\":\"Wi4x8Af7/z8rVWHTocT/P7vn1j6Yjv8/ZjoslepY/z/iXAc6mCP/P+dSGJKg7v4/zE8XAwO6/j8f9cLzvoX+PzuU3svTUf4/7XIw9EAe/j/qEoDWBev9Pz98lN0huP0/vIoydZSF/T8fPhsKXVP9PzoNCgp7If0/6juz4+3v/D/dM8IGtb78Pyzg1+PPjfw/wguJ7D1d/D+KwlyT/iz8P1a1yksR/fs/kqA5inXN+z+dtf3DKp77P+gGV28wb/s/s/ZvA4ZA+z+EqFv4KhL7Pzh1FMce5Po/umF66WC2+j9cmFHa8Ij6P77kQBXOW/o/UjLQFvgu+j9rDWdcbgL6P9gmS2Qw1vk/CtqerT2q+T+4tV+4lX75PwIHZQU4U/k/EmdeFiQo+T8qS9JtWf34PzaXHI/X0vg/szJt/p2o+D8UoMZArH74P4OW/NsBVfg/BZ6yVp4r+D/7rVo4gQL4P/7NMwmq2fc/EblIUhix9z8bg26dy4j3P79AQ3XDYPc/b7EsZf849z/K61b5fhH3Pz8Ms75B6vY/5OX1QkfD9j+WtZYUj5z2P0DXzcIYdvY/Xn2T3eNP9j+sap717yn2PwKuYpw8BPY/T2AQZMne9T/GZJLflbn1Px4rjaKhlPU/+nNdQexv9T9aFxdRdUv1PzTNg2c8J/U/EPghG0ED9T+9cSMDg9/0PwVabLcBvPQ/deeR0LyY9D8eOtnns3X0P2AwNpfmUvQ/qj1KeVQw9D81Q2Mp/Q30P7xqekPg6/M/HQMzZP3J8z/yXtkoVKjzPxG1YS/khvM/9QJnFq1l8z8V8Sl9rkTzPw25jwPoI/M/uA0hSlkD8z8fBQnyAePyPz0EFJ3hwvI/m6yu7fei8j/Iy+SGRIPyP45MYAzHY/I/BSpoIn9E8j9sZN9tbCXyP7/3Q5SOBvI/FtStO+Xn8T/G180KcMnxP0rL7Kguq/E/xl7qvSCN8T9rKTzyRW/xP2uq7O6dUfE/ukuaXSg08T9xZnbo5BbxP9dIRDrT+fA/Jz5Y/vLc8D/kl5bgQ8DwP+a4co3Fo/A//CHusXeH8D8qgJf7WWvwP428iRhsT/A/yw1rt60z8D8mC2yHHhjwPyuCjXB8+e8/6Y579BjD7z+Jsjb8EY3vP9/bYOpmV+8/O6inIhci7z8PnMIJIu3uP6RecQWHuO4/zPh5fEWE7j+dFqfWXFDuPwxMxnzMHO4/jVym2JPp7T+dhRVVsrbtPyzM310nhO0/8EzNX/JR7T+dj6DIEiDtP+fcFAeI7uw/ZZfcilG97D89l5/EbozsP6GI+SXfW+w/CU14IaIr7D88X5oqt/vrPwg6zbUdzOs/u8FrONWc6z9IsLwo3W3rPygE8f00P+s/2HEiMNwQ6z//11E40uLqPz+2ZZAWteo/lKYos6iH6j9Z2UcciFrqP9yTUUi0Leo/gLGztCwB6j9jJ7rf8NTpP6KKjUgAqek/Bpkxb1p96T87xIPU/lHpP4a/OfrsJuk/5g/gYiT86D+tntiRpNHoP4dOWQttp+g/5ZJqVH196D/XCeby1FPoPzwYdW1zKug/VoiPS1gB6D+6KnoVg9jnP4p5RVTzr+c/DD7MkaiH5z+JOLJYol/nP3LKYjTgN+c/06IPsWEQ5z8Dba9bJunmP42B/MEtwuY/W5lzcneb5j8Tg1L8AnXmP6falu/PTuY/F8P83N0o5j9Tov1VLAPmP1Xfzuy63eU/UKJgNIm45T8Il1zAlpPlPz6xJCXjbuU/QfPR921K5T+INjPONiblP2L2yz49AuU/uBzT4IDe5D/W0DFMAbvkPzhIghm+l+Q/Y5kO4rZ05D+3kM8/61HkPz+Ha81aL+Q/gTs1JgUN5D85rCrm6erjPxP186kIyeM/Ry3iDmGn4z8ySO6y8oXjP8T3tzS9ZOM/6ZCEM8BD4z8=\",\"dtype\":\"float64\",\"order\":\"little\",\"shape\":[181]},\"y\":{\"__ndarray__\":\"32VjKCzYakAxiLth9TxuQKuAY6nnzG1A6bgNUViwbEC+RSb3m5tvQI+ygnGdU21A/fY8rxlbZkBCGIxEF01mQCizdI8ccGxAdKseqt05aUCOZqqLlfZuQMmZExL8SGpADVUJU2o9akAI9C2kwLhmQPLTy38ckmdA0TZn9maZaUC16VY7lNRiQKadiMj5WWNAS7d7QxsmWkCk6vZjIns9QHZhj5z4IlBA0uw5rGUYR0CI04538aokwBJYdeHqhkHAUgKKiJnRXsD1JTVySL1gwEuXIRLGF2PAzpMiDB5YYMDThRye4LdewEzr7QvkwF3AwHCkuzY1WcDP4XvK6thUwBUx2n1kGlTAImeVh/7URcCpGh1T4Gs/wFfhR2hT7ANA/jVCLiUzOUB0R0UHndRJQG3auoLcM0hA+JkaHUicXkCCrcFtIEFgQEiAaXErLmRADQyqGWdTY0As8zD7ZDdmQJZMEQoOHmVAHijrY/4qbUCRn45mQRVwQCjJSavyJ21Ap2qBW+M5bkAIbutj3LpuQMpAHYAKN3NA84m96mW6c0BlhAEdZX5yQCPEurYxAHFAQkukbrXbcED5dQ436plxQERWOSvxVHFAisgVBPDocEBGpnr8F5hwQKq86Z+hJXBAKjhTPiSiZUBvXJcSP0xVQLDY9o1VhkrAikaQk4XeU8BgY+KrR9pUwBxUmiF4OV3AVcMFU3rEYcA7PDaBH7BiwOpcSV/XBWPAfypNkcYdYsBttPCieg9jwE1TgX2Fm2DAxcgd/+ZJWsA+EkzB95hXwLQPaOVJHkzAjEWthvZIT8CPsEpWFGo3wNGVWxHehA7A6vlt+rsNSUDY7a3oFUBKQLtGt5rRgFpAxu5o0j/zUUDMeoacfF1QQEGeT/XhxFJA9FAVutn+UEAKvFRT4ndgQLBlyxXUMjpAP86SJwGLWkB7kkBzR8REQOfTDdCumCTACMBManVKMcARuqfKifBbwDdzsXv1rGvAB2JFv3sHcMCEg0bw66ZvwPGdCdEl+m3AFT3wRyM6cMAt+fu520ZtwCd11KeEzW7AZuB47lU/a8C2PejMYRxowDUEH3aPcmLAlAJv5ySZYMDsu9PZ9FhZwENk+Hg9D1HA5YO1DBpCQMA7HJWbIuk1wG1m9K6ZIyZAJPJRY47aMMCS/U93FVAewJtTeDfIhkhAN0XuJC32R0CWEzCSznFEQIAEWJScC1FAxneWpB6iUEBy6pvFai9GQM/tGOL8JlnARiU55dQfWsCH6IsROPJhwIlOFqtjmmPAxqIzTzciXsDiczvCZ7JlwIYkOwv6smzAuvSrF/I/a8CjLy3uS1BqwPPS6MAJLWnAXuysI29MZ8CArckCnZRlwFRCrZhGWGTA7RvCQQD7X8CKGFo2khFgwI7PoO34KFvAikE+h/DkVcCLf/dlEChawGgLghWVnVbAJbSz0eBnTsCRpgbd5S9VwKbbK/LylVbAUW9fKo6XVsAO7KBgsIpTwGt2K96ri0nAuHfzLfq5QMCMUFJy20QdQGf7CG1LKGVANd5UUrGUZkAeLM1wPDsgwBi54Yvd9jzAyrXmpVdCQsC5y3Ek6YFLwDNj0UvITEnA/HW5Ih9qS8D2S8fFH/ZPwFOiSslsnk7A8U47YBeRSsBQCg0O2DtRwJsBmUs2y1jAx2///3sFW8BxwN5RHzJawKp37esrDV3AtZzP6V40WsA3gN7rdCxhwLzgVCVmemHA0Ppva1oZYcCSSG0miyJgwP5kJKuLnV3AmHHRCZC4WsCpSTJPMFtXwAY5zTMhHFXAl5SOwdEoUsA8G8vLnCtOwInykFLidEvA7tVG/bq0RsDX4r/fOzVBwFNilSTvQjXANpvONnm4H8Begt9qhtoUQOCRM5iKETRAnc+3wSsMQkB/PgSJ6+hKQOWvvHPGeVJAyALfLvt7WEA=\",\"dtype\":\"float64\",\"order\":\"little\",\"shape\":[181]}},\"selected\":{\"id\":\"1813\"},\"selection_policy\":{\"id\":\"1812\"}},\"id\":\"1724\",\"type\":\"ColumnDataSource\"},{\"attributes\":{},\"id\":\"1814\",\"type\":\"UnionRenderers\"},{\"attributes\":{},\"id\":\"1815\",\"type\":\"Selection\"},{\"attributes\":{\"coordinates\":null,\"data_source\":{\"id\":\"1724\"},\"glyph\":{\"id\":\"1725\"},\"group\":null,\"hover_glyph\":null,\"muted_glyph\":{\"id\":\"1727\"},\"nonselection_glyph\":{\"id\":\"1726\"},\"view\":{\"id\":\"1729\"}},\"id\":\"1728\",\"type\":\"GlyphRenderer\"},{\"attributes\":{\"source\":{\"id\":\"1730\"}},\"id\":\"1735\",\"type\":\"CDSView\"},{\"attributes\":{\"label\":{\"value\":\"Cloud free\"},\"renderers\":[{\"id\":\"1728\"}]},\"id\":\"1737\",\"type\":\"LegendItem\"},{\"attributes\":{\"coordinates\":null,\"group\":null},\"id\":\"1804\",\"type\":\"Title\"},{\"attributes\":{\"line_alpha\":0.2,\"line_color\":\"#0072B2\",\"line_width\":3,\"x\":{\"field\":\"x\"},\"y\":{\"field\":\"y\"}},\"id\":\"1727\",\"type\":\"Line\"},{\"attributes\":{},\"id\":\"1713\",\"type\":\"SaveTool\"},{\"attributes\":{\"line_color\":\"#0072B2\",\"line_width\":3,\"x\":{\"field\":\"x\"},\"y\":{\"field\":\"y\"}},\"id\":\"1725\",\"type\":\"Line\"},{\"attributes\":{},\"id\":\"1711\",\"type\":\"WheelZoomTool\"},{\"attributes\":{\"click_policy\":\"mute\",\"coordinates\":null,\"group\":null,\"items\":[{\"id\":\"1737\"},{\"id\":\"1738\"}],\"location\":[0,0]},\"id\":\"1736\",\"type\":\"Legend\"},{\"attributes\":{},\"id\":\"1703\",\"type\":\"BasicTicker\"},{\"attributes\":{\"coordinates\":null,\"data_source\":{\"id\":\"1730\"},\"glyph\":{\"id\":\"1731\"},\"group\":null,\"hover_glyph\":null,\"muted_glyph\":{\"id\":\"1733\"},\"nonselection_glyph\":{\"id\":\"1732\"},\"view\":{\"id\":\"1735\"}},\"id\":\"1734\",\"type\":\"GlyphRenderer\"},{\"attributes\":{},\"id\":\"1807\",\"type\":\"BasicTickFormatter\"},{\"attributes\":{},\"id\":\"1810\",\"type\":\"BasicTickFormatter\"},{\"attributes\":{\"axis_label\":\"Wavelength [\\u03bcm]\",\"axis_label_text_font\":\"times\",\"axis_label_text_font_size\":\"14pt\",\"axis_label_text_font_style\":\"bold\",\"coordinates\":null,\"formatter\":{\"id\":\"1810\"},\"group\":null,\"major_label_policy\":{\"id\":\"1811\"},\"major_label_text_font\":\"times\",\"major_label_text_font_size\":\"14pt\",\"ticker\":{\"id\":\"1703\"}},\"id\":\"1702\",\"type\":\"LinearAxis\"},{\"attributes\":{},\"id\":\"1812\",\"type\":\"UnionRenderers\"},{\"attributes\":{},\"id\":\"1715\",\"type\":\"HelpTool\"},{\"attributes\":{\"axis\":{\"id\":\"1702\"},\"coordinates\":null,\"group\":null,\"ticker\":null},\"id\":\"1705\",\"type\":\"Grid\"},{\"attributes\":{\"bottom_units\":\"screen\",\"coordinates\":null,\"fill_alpha\":0.5,\"fill_color\":\"lightgrey\",\"group\":null,\"left_units\":\"screen\",\"level\":\"overlay\",\"line_alpha\":1.0,\"line_color\":\"black\",\"line_dash\":[4,4],\"line_width\":2,\"right_units\":\"screen\",\"syncable\":false,\"top_units\":\"screen\"},\"id\":\"1716\",\"type\":\"BoxAnnotation\"},{\"attributes\":{\"line_alpha\":0.1,\"line_color\":\"#E69F00\",\"line_width\":3,\"x\":{\"field\":\"x\"},\"y\":{\"field\":\"y\"}},\"id\":\"1732\",\"type\":\"Line\"},{\"attributes\":{\"overlay\":{\"id\":\"1716\"}},\"id\":\"1712\",\"type\":\"BoxZoomTool\"},{\"attributes\":{\"source\":{\"id\":\"1724\"}},\"id\":\"1729\",\"type\":\"CDSView\"},{\"attributes\":{},\"id\":\"1698\",\"type\":\"LinearScale\"},{\"attributes\":{\"data\":{\"x\":{\"__ndarray__\":\"Wi4x8Af7/z8rVWHTocT/P7vn1j6Yjv8/ZjoslepY/z/iXAc6mCP/P+dSGJKg7v4/zE8XAwO6/j8f9cLzvoX+PzuU3svTUf4/7XIw9EAe/j/qEoDWBev9Pz98lN0huP0/vIoydZSF/T8fPhsKXVP9PzoNCgp7If0/6juz4+3v/D/dM8IGtb78Pyzg1+PPjfw/wguJ7D1d/D+KwlyT/iz8P1a1yksR/fs/kqA5inXN+z+dtf3DKp77P+gGV28wb/s/s/ZvA4ZA+z+EqFv4KhL7Pzh1FMce5Po/umF66WC2+j9cmFHa8Ij6P77kQBXOW/o/UjLQFvgu+j9rDWdcbgL6P9gmS2Qw1vk/CtqerT2q+T+4tV+4lX75PwIHZQU4U/k/EmdeFiQo+T8qS9JtWf34PzaXHI/X0vg/szJt/p2o+D8UoMZArH74P4OW/NsBVfg/BZ6yVp4r+D/7rVo4gQL4P/7NMwmq2fc/EblIUhix9z8bg26dy4j3P79AQ3XDYPc/b7EsZf849z/K61b5fhH3Pz8Ms75B6vY/5OX1QkfD9j+WtZYUj5z2P0DXzcIYdvY/Xn2T3eNP9j+sap717yn2PwKuYpw8BPY/T2AQZMne9T/GZJLflbn1Px4rjaKhlPU/+nNdQexv9T9aFxdRdUv1PzTNg2c8J/U/EPghG0ED9T+9cSMDg9/0PwVabLcBvPQ/deeR0LyY9D8eOtnns3X0P2AwNpfmUvQ/qj1KeVQw9D81Q2Mp/Q30P7xqekPg6/M/HQMzZP3J8z/yXtkoVKjzPxG1YS/khvM/9QJnFq1l8z8V8Sl9rkTzPw25jwPoI/M/uA0hSlkD8z8fBQnyAePyPz0EFJ3hwvI/m6yu7fei8j/Iy+SGRIPyP45MYAzHY/I/BSpoIn9E8j9sZN9tbCXyP7/3Q5SOBvI/FtStO+Xn8T/G180KcMnxP0rL7Kguq/E/xl7qvSCN8T9rKTzyRW/xP2uq7O6dUfE/ukuaXSg08T9xZnbo5BbxP9dIRDrT+fA/Jz5Y/vLc8D/kl5bgQ8DwP+a4co3Fo/A//CHusXeH8D8qgJf7WWvwP428iRhsT/A/yw1rt60z8D8mC2yHHhjwPyuCjXB8+e8/6Y579BjD7z+Jsjb8EY3vP9/bYOpmV+8/O6inIhci7z8PnMIJIu3uP6RecQWHuO4/zPh5fEWE7j+dFqfWXFDuPwxMxnzMHO4/jVym2JPp7T+dhRVVsrbtPyzM310nhO0/8EzNX/JR7T+dj6DIEiDtP+fcFAeI7uw/ZZfcilG97D89l5/EbozsP6GI+SXfW+w/CU14IaIr7D88X5oqt/vrPwg6zbUdzOs/u8FrONWc6z9IsLwo3W3rPygE8f00P+s/2HEiMNwQ6z//11E40uLqPz+2ZZAWteo/lKYos6iH6j9Z2UcciFrqP9yTUUi0Leo/gLGztCwB6j9jJ7rf8NTpP6KKjUgAqek/Bpkxb1p96T87xIPU/lHpP4a/OfrsJuk/5g/gYiT86D+tntiRpNHoP4dOWQttp+g/5ZJqVH196D/XCeby1FPoPzwYdW1zKug/VoiPS1gB6D+6KnoVg9jnP4p5RVTzr+c/DD7MkaiH5z+JOLJYol/nP3LKYjTgN+c/06IPsWEQ5z8Dba9bJunmP42B/MEtwuY/W5lzcneb5j8Tg1L8AnXmP6falu/PTuY/F8P83N0o5j9Tov1VLAPmP1Xfzuy63eU/UKJgNIm45T8Il1zAlpPlPz6xJCXjbuU/QfPR921K5T+INjPONiblP2L2yz49AuU/uBzT4IDe5D/W0DFMAbvkPzhIghm+l+Q/Y5kO4rZ05D+3kM8/61HkPz+Ha81aL+Q/gTs1JgUN5D85rCrm6erjPxP186kIyeM/Ry3iDmGn4z8ySO6y8oXjP8T3tzS9ZOM/6ZCEM8BD4z8=\",\"dtype\":\"float64\",\"order\":\"little\",\"shape\":[181]},\"y\":{\"__ndarray__\":\"7KXEwRNQWUClP1ll/8ldQAqzLL1UO15A/rtErpPrXEDwpBhqcXBgQBlZPVvqF1xA7xtpNnXoU0BS5PBQinZTQOhnaYFiblxAAzNVPrzSVUAgvAOhUU1gQE7JI1mEsFlAaGdyXZtoWUDwc2dZFm1VQJxrzpGdrFZAlpOtSi8BWUCOwH7Ppp9PQJeiuZZ3iVFAnHnzp0gGRkCB8w0BHHscQDtYzbY57DdAHuhdOv4xKkBnT3fa1qgiwKG8LDiLqS3AXrJVZjlRRcADYL8nNExDwHzMbeSbmkfA7O6hiOV7RcBPv09cwv1FwHP8Zxxh4EXAxMROBRwRRcD9tiNqltZBwLuGZlfiNkXA8N8rw77BQMDRL+X00mFAwEVWe+ppKDTAGd93/7cAMMBiwYw2SvH0v6QcZ4m/+xjAUY6goEVEPUATgE0nLVVDQAv/qjPZkUtAMCTjLzysTkCS+ew4NwBRQDW8NQLjqlBA08tv/8FBXEAuujBe6WdgQOVQLWmrtVtA+C2zjMFZXUDJ+LvCXS1eQNs6kgpog2VACWJjobyrZkDo+Bj9hklkQLhZ+SGUfGJAD5U8nHTSYkCOnU/Iw9tiQDITO/sss2JAvquOXOGPYkA0of0RbkBjQN8VVL+vL2JASNRdJ3lMVUAlF2lCq2dFQG3qTgCfYzfA43h/ga0TPMBWSqBToXY0wNB0JPohyTzAA3BYQetcPMDkaH4RQZ9CwNZBW7wBx0TAeea32pJpSMA0p5XmJNBHwAMWsORV00bApq/YbrSIRMBHDf/Mru1CwNaoBmkxCj7AGkXVMyT/QcBzceRb+ZQ3wJJ/IpziRyzAeHON8U0I4j+fYNNQYmMmQGk39BH6WkNAQlZX40tgMEBBgJaYkWo6QN9PnFu3ojVA1M1iU0yvLECIBbA2IwVOQMT2WMA6liJAPnnvnomaSEC51CrTv1A0QFDShnu09cw/5TQKsDZRK8AqruC7xLFBwFD402PYFUnAD0EzGF2PSsCExoWm7xZKwIHzypMv4UnAuSU2us27S8A8tYaCG2BLwN5M54jd1kvAQME7SCFRS8BqRQWcNfFKwN4Tn0CIlUnAG4L0DlxySMD267eOkFFFwHSLyUR980LAqDHDmd+eNsCUqZJvaXc0wPg7uUQrqiLAPbc50mcEO8DpBN+NQKsIwPSycBeFnilAWBzLF5SHKEC/dNXyvkcsQMAH26/+szdAI6Gb6nahM0DlnyUhxURAQOKViavNAEDAoGN4a44lP8AJqXaXRSFDwCDrPL6iv0XAAaJMqgDiP8DDxZnW+5VGwOl1+pxuMkzAxbuhZ6HdS8Dhl93P++1LwKFzE3zH8kvAbcxZpZy2S8C+wHxZaWFLwANGY69oKkvAS0XPndVgSMBcWCTYnpBIwCver/ojxEfAVGqnBOrURMDcJ6QACyhHwP7zVRULUUbAp+6eXoDhQ8DJLCGrrpJIwB5ATo5N90nAZTJUHIBIS8C2pmYsVHpLwD7jNU46O0rAa+NIXDWySsDkQiefOC9JwNTTP/IKQUBA5T2mX4bZSUDMEBPGjbtJwK0Sl/nOMErAN+il99U0ScAy6SUTbQxKwPyNlopWVkjAMjivGSSnR8D1QVUk2NFGwJ0rltd9NEbAXxMIHvmaRcBpydtnUtBGwIsZunymQErAR3FummGWSsDaPAHW2DlKwH6tQAynlUvASHyX50b8SMAc7+t/tj1MwPT9jHIaTUzAqI8iNYlVTMDNenOUn0NMwAwQri68FEzA4MSc6F3YS8Dz5XV++UZLwKrBIhwBVkvAm4cqCmnrSsBaMo43DqZKwCw7Ip7WJ0vAOtxJt70wS8CoFzOdyhFLwFYr+vliqUrA+HEa+5cwSsDTN0laxrdJwFdowq9u5EjAFsH3PGK5R8B1rrfWJvhFwM9Kk/R/OkPAJ4OUGr1IPcA=\",\"dtype\":\"float64\",\"order\":\"little\",\"shape\":[181]}},\"selected\":{\"id\":\"1815\"},\"selection_policy\":{\"id\":\"1814\"}},\"id\":\"1730\",\"type\":\"ColumnDataSource\"},{\"attributes\":{\"axis_label\":\"Spectrum\",\"axis_label_text_font\":\"times\",\"axis_label_text_font_size\":\"14pt\",\"axis_label_text_font_style\":\"bold\",\"coordinates\":null,\"formatter\":{\"id\":\"1807\"},\"group\":null,\"major_label_policy\":{\"id\":\"1808\"},\"major_label_text_font\":\"times\",\"major_label_text_font_size\":\"14pt\",\"ticker\":{\"id\":\"1707\"}},\"id\":\"1706\",\"type\":\"LinearAxis\"},{\"attributes\":{},\"id\":\"1700\",\"type\":\"LinearScale\"},{\"attributes\":{\"line_alpha\":0.1,\"line_color\":\"#0072B2\",\"line_width\":3,\"x\":{\"field\":\"x\"},\"y\":{\"field\":\"y\"}},\"id\":\"1726\",\"type\":\"Line\"}],\"root_ids\":[\"1693\"]},\"title\":\"Bokeh Application\",\"version\":\"2.4.2\"}};\n",
       "  const render_items = [{\"docid\":\"e2a244b9-2a6d-4114-9e0a-7938a63a2773\",\"root_ids\":[\"1693\"],\"roots\":{\"1693\":\"15bfa9fe-131d-4bbd-a8ce-07957655910b\"}}];\n",
       "  root.Bokeh.embed.embed_items_notebook(docs_json, render_items);\n",
       "\n",
       "  }\n",
       "  if (root.Bokeh !== undefined) {\n",
       "    embed_document(root);\n",
       "  } else {\n",
       "    let attempts = 0;\n",
       "    const timer = setInterval(function(root) {\n",
       "      if (root.Bokeh !== undefined) {\n",
       "        clearInterval(timer);\n",
       "        embed_document(root);\n",
       "      } else {\n",
       "        attempts++;\n",
       "        if (attempts > 100) {\n",
       "          clearInterval(timer);\n",
       "          console.log(\"Bokeh: ERROR: Unable to run BokehJS code because BokehJS library is missing\");\n",
       "        }\n",
       "      }\n",
       "    }, 10, root)\n",
       "  }\n",
       "})(window);"
      ],
      "application/vnd.bokehjs_exec.v0+json": ""
     },
     "metadata": {
      "application/vnd.bokehjs_exec.v0+json": {
       "id": "1693"
      }
     },
     "output_type": "display_data"
    }
   ],
   "source": [
    "case1.clouds(p = [1], dp=[4], opd=[1], g0=[0], w0=[0])\n",
    "\n",
    "df_gry= case1.spectrum(opa, full_output=True,calculation='transmission') #note the new last key \n",
    "\n",
    "wno, rprs2_gry  = df_gry['wavenumber'] , df_gry['transit_depth']\n",
    "wno, rprs2_gry = jdi.mean_regrid(wno, rprs2_gry, R=150)\n",
    "full_output_gry = df_gry['full_output']\n",
    "\n",
    "jpi.show(jpi.spectrum([wno, wno],[1e6*(rprs2-np.mean(rprs2))\n",
    "                              , (rprs2_gry-np.mean(rprs2_gry))*1e6],\n",
    "                  legend=['Cloud free','Grey cloud'],\n",
    "                  plot_width=500))\n"
   ]
  },
  {
   "cell_type": "markdown",
   "metadata": {},
   "source": [
    "## Adding Cloud From Model Output"
   ]
  },
  {
   "cell_type": "code",
   "execution_count": 7,
   "metadata": {},
   "outputs": [
    {
     "data": {
      "text/html": [
       "\n",
       "\n",
       "\n",
       "\n",
       "\n",
       "\n",
       "  <div class=\"bk-root\" id=\"73f114f0-da1a-4a51-b54c-1985a51e3f6f\" data-root-id=\"1882\"></div>\n"
      ]
     },
     "metadata": {},
     "output_type": "display_data"
    },
    {
     "data": {
      "application/javascript": [
       "(function(root) {\n",
       "  function embed_document(root) {\n",
       "    \n",
       "  const docs_json = {\"644160b2-8ff6-4662-8d78-2e1174541620\":{\"defs\":[],\"roots\":{\"references\":[{\"attributes\":{\"below\":[{\"id\":\"1891\"}],\"center\":[{\"id\":\"1894\"},{\"id\":\"1898\"}],\"height\":345,\"left\":[{\"id\":\"1895\"},{\"id\":\"1931\"}],\"renderers\":[{\"id\":\"1917\"},{\"id\":\"1923\"},{\"id\":\"1929\"}],\"title\":{\"id\":\"2013\"},\"toolbar\":{\"id\":\"1906\"},\"width\":500,\"x_range\":{\"id\":\"1883\"},\"x_scale\":{\"id\":\"1887\"},\"y_range\":{\"id\":\"1885\"},\"y_scale\":{\"id\":\"1889\"}},\"id\":\"1882\",\"subtype\":\"Figure\",\"type\":\"Plot\"},{\"attributes\":{\"label\":{\"value\":\"Cloud Free\"},\"renderers\":[{\"id\":\"1917\"}]},\"id\":\"1932\",\"type\":\"LegendItem\"},{\"attributes\":{\"coordinates\":null,\"group\":null},\"id\":\"2013\",\"type\":\"Title\"},{\"attributes\":{},\"id\":\"2024\",\"type\":\"Selection\"},{\"attributes\":{\"tools\":[{\"id\":\"1899\"},{\"id\":\"1900\"},{\"id\":\"1901\"},{\"id\":\"1902\"},{\"id\":\"1903\"},{\"id\":\"1904\"}]},\"id\":\"1906\",\"type\":\"Toolbar\"},{\"attributes\":{\"line_color\":\"#0072B2\",\"line_width\":3,\"x\":{\"field\":\"x\"},\"y\":{\"field\":\"y\"}},\"id\":\"1914\",\"type\":\"Line\"},{\"attributes\":{\"click_policy\":\"mute\",\"coordinates\":null,\"group\":null,\"items\":[{\"id\":\"1932\"},{\"id\":\"1933\"},{\"id\":\"1934\"}],\"location\":[0,0]},\"id\":\"1931\",\"type\":\"Legend\"},{\"attributes\":{},\"id\":\"1900\",\"type\":\"WheelZoomTool\"},{\"attributes\":{\"data\":{\"x\":{\"__ndarray__\":\"Wi4x8Af7/z8rVWHTocT/P7vn1j6Yjv8/ZjoslepY/z/iXAc6mCP/P+dSGJKg7v4/zE8XAwO6/j8f9cLzvoX+PzuU3svTUf4/7XIw9EAe/j/qEoDWBev9Pz98lN0huP0/vIoydZSF/T8fPhsKXVP9PzoNCgp7If0/6juz4+3v/D/dM8IGtb78Pyzg1+PPjfw/wguJ7D1d/D+KwlyT/iz8P1a1yksR/fs/kqA5inXN+z+dtf3DKp77P+gGV28wb/s/s/ZvA4ZA+z+EqFv4KhL7Pzh1FMce5Po/umF66WC2+j9cmFHa8Ij6P77kQBXOW/o/UjLQFvgu+j9rDWdcbgL6P9gmS2Qw1vk/CtqerT2q+T+4tV+4lX75PwIHZQU4U/k/EmdeFiQo+T8qS9JtWf34PzaXHI/X0vg/szJt/p2o+D8UoMZArH74P4OW/NsBVfg/BZ6yVp4r+D/7rVo4gQL4P/7NMwmq2fc/EblIUhix9z8bg26dy4j3P79AQ3XDYPc/b7EsZf849z/K61b5fhH3Pz8Ms75B6vY/5OX1QkfD9j+WtZYUj5z2P0DXzcIYdvY/Xn2T3eNP9j+sap717yn2PwKuYpw8BPY/T2AQZMne9T/GZJLflbn1Px4rjaKhlPU/+nNdQexv9T9aFxdRdUv1PzTNg2c8J/U/EPghG0ED9T+9cSMDg9/0PwVabLcBvPQ/deeR0LyY9D8eOtnns3X0P2AwNpfmUvQ/qj1KeVQw9D81Q2Mp/Q30P7xqekPg6/M/HQMzZP3J8z/yXtkoVKjzPxG1YS/khvM/9QJnFq1l8z8V8Sl9rkTzPw25jwPoI/M/uA0hSlkD8z8fBQnyAePyPz0EFJ3hwvI/m6yu7fei8j/Iy+SGRIPyP45MYAzHY/I/BSpoIn9E8j9sZN9tbCXyP7/3Q5SOBvI/FtStO+Xn8T/G180KcMnxP0rL7Kguq/E/xl7qvSCN8T9rKTzyRW/xP2uq7O6dUfE/ukuaXSg08T9xZnbo5BbxP9dIRDrT+fA/Jz5Y/vLc8D/kl5bgQ8DwP+a4co3Fo/A//CHusXeH8D8qgJf7WWvwP428iRhsT/A/yw1rt60z8D8mC2yHHhjwPyuCjXB8+e8/6Y579BjD7z+Jsjb8EY3vP9/bYOpmV+8/O6inIhci7z8PnMIJIu3uP6RecQWHuO4/zPh5fEWE7j+dFqfWXFDuPwxMxnzMHO4/jVym2JPp7T+dhRVVsrbtPyzM310nhO0/8EzNX/JR7T+dj6DIEiDtP+fcFAeI7uw/ZZfcilG97D89l5/EbozsP6GI+SXfW+w/CU14IaIr7D88X5oqt/vrPwg6zbUdzOs/u8FrONWc6z9IsLwo3W3rPygE8f00P+s/2HEiMNwQ6z//11E40uLqPz+2ZZAWteo/lKYos6iH6j9Z2UcciFrqP9yTUUi0Leo/gLGztCwB6j9jJ7rf8NTpP6KKjUgAqek/Bpkxb1p96T87xIPU/lHpP4a/OfrsJuk/5g/gYiT86D+tntiRpNHoP4dOWQttp+g/5ZJqVH196D/XCeby1FPoPzwYdW1zKug/VoiPS1gB6D+6KnoVg9jnP4p5RVTzr+c/DD7MkaiH5z+JOLJYol/nP3LKYjTgN+c/06IPsWEQ5z8Dba9bJunmP42B/MEtwuY/W5lzcneb5j8Tg1L8AnXmP6falu/PTuY/F8P83N0o5j9Tov1VLAPmP1Xfzuy63eU/UKJgNIm45T8Il1zAlpPlPz6xJCXjbuU/QfPR921K5T+INjPONiblP2L2yz49AuU/uBzT4IDe5D/W0DFMAbvkPzhIghm+l+Q/Y5kO4rZ05D+3kM8/61HkPz+Ha81aL+Q/gTs1JgUN5D85rCrm6erjPxP186kIyeM/Ry3iDmGn4z8ySO6y8oXjP8T3tzS9ZOM/6ZCEM8BD4z8=\",\"dtype\":\"float64\",\"order\":\"little\",\"shape\":[181]},\"y\":{\"__ndarray__\":\"32VjKCzYakAxiLth9TxuQKuAY6nnzG1A6bgNUViwbEC+RSb3m5tvQI+ygnGdU21A/fY8rxlbZkBCGIxEF01mQCizdI8ccGxAdKseqt05aUCOZqqLlfZuQMmZExL8SGpADVUJU2o9akAI9C2kwLhmQPLTy38ckmdA0TZn9maZaUC16VY7lNRiQKadiMj5WWNAS7d7QxsmWkCk6vZjIns9QHZhj5z4IlBA0uw5rGUYR0CI04538aokwBJYdeHqhkHAUgKKiJnRXsD1JTVySL1gwEuXIRLGF2PAzpMiDB5YYMDThRye4LdewEzr7QvkwF3AwHCkuzY1WcDP4XvK6thUwBUx2n1kGlTAImeVh/7URcCpGh1T4Gs/wFfhR2hT7ANA/jVCLiUzOUB0R0UHndRJQG3auoLcM0hA+JkaHUicXkCCrcFtIEFgQEiAaXErLmRADQyqGWdTY0As8zD7ZDdmQJZMEQoOHmVAHijrY/4qbUCRn45mQRVwQCjJSavyJ21Ap2qBW+M5bkAIbutj3LpuQMpAHYAKN3NA84m96mW6c0BlhAEdZX5yQCPEurYxAHFAQkukbrXbcED5dQ436plxQERWOSvxVHFAisgVBPDocEBGpnr8F5hwQKq86Z+hJXBAKjhTPiSiZUBvXJcSP0xVQLDY9o1VhkrAikaQk4XeU8BgY+KrR9pUwBxUmiF4OV3AVcMFU3rEYcA7PDaBH7BiwOpcSV/XBWPAfypNkcYdYsBttPCieg9jwE1TgX2Fm2DAxcgd/+ZJWsA+EkzB95hXwLQPaOVJHkzAjEWthvZIT8CPsEpWFGo3wNGVWxHehA7A6vlt+rsNSUDY7a3oFUBKQLtGt5rRgFpAxu5o0j/zUUDMeoacfF1QQEGeT/XhxFJA9FAVutn+UEAKvFRT4ndgQLBlyxXUMjpAP86SJwGLWkB7kkBzR8REQOfTDdCumCTACMBManVKMcARuqfKifBbwDdzsXv1rGvAB2JFv3sHcMCEg0bw66ZvwPGdCdEl+m3AFT3wRyM6cMAt+fu520ZtwCd11KeEzW7AZuB47lU/a8C2PejMYRxowDUEH3aPcmLAlAJv5ySZYMDsu9PZ9FhZwENk+Hg9D1HA5YO1DBpCQMA7HJWbIuk1wG1m9K6ZIyZAJPJRY47aMMCS/U93FVAewJtTeDfIhkhAN0XuJC32R0CWEzCSznFEQIAEWJScC1FAxneWpB6iUEBy6pvFai9GQM/tGOL8JlnARiU55dQfWsCH6IsROPJhwIlOFqtjmmPAxqIzTzciXsDiczvCZ7JlwIYkOwv6smzAuvSrF/I/a8CjLy3uS1BqwPPS6MAJLWnAXuysI29MZ8CArckCnZRlwFRCrZhGWGTA7RvCQQD7X8CKGFo2khFgwI7PoO34KFvAikE+h/DkVcCLf/dlEChawGgLghWVnVbAJbSz0eBnTsCRpgbd5S9VwKbbK/LylVbAUW9fKo6XVsAO7KBgsIpTwGt2K96ri0nAuHfzLfq5QMCMUFJy20QdQGf7CG1LKGVANd5UUrGUZkAeLM1wPDsgwBi54Yvd9jzAyrXmpVdCQsC5y3Ek6YFLwDNj0UvITEnA/HW5Ih9qS8D2S8fFH/ZPwFOiSslsnk7A8U47YBeRSsBQCg0O2DtRwJsBmUs2y1jAx2///3sFW8BxwN5RHzJawKp37esrDV3AtZzP6V40WsA3gN7rdCxhwLzgVCVmemHA0Ppva1oZYcCSSG0miyJgwP5kJKuLnV3AmHHRCZC4WsCpSTJPMFtXwAY5zTMhHFXAl5SOwdEoUsA8G8vLnCtOwInykFLidEvA7tVG/bq0RsDX4r/fOzVBwFNilSTvQjXANpvONnm4H8Begt9qhtoUQOCRM5iKETRAnc+3wSsMQkB/PgSJ6+hKQOWvvHPGeVJAyALfLvt7WEA=\",\"dtype\":\"float64\",\"order\":\"little\",\"shape\":[181]}},\"selected\":{\"id\":\"2022\"},\"selection_policy\":{\"id\":\"2021\"}},\"id\":\"1913\",\"type\":\"ColumnDataSource\"},{\"attributes\":{},\"id\":\"1885\",\"type\":\"DataRange1d\"},{\"attributes\":{},\"id\":\"1892\",\"type\":\"BasicTicker\"},{\"attributes\":{\"line_alpha\":0.1,\"line_color\":\"#E69F00\",\"line_width\":3,\"x\":{\"field\":\"x\"},\"y\":{\"field\":\"y\"}},\"id\":\"1921\",\"type\":\"Line\"},{\"attributes\":{\"data\":{\"x\":{\"__ndarray__\":\"Wi4x8Af7/z8rVWHTocT/P7vn1j6Yjv8/ZjoslepY/z/iXAc6mCP/P+dSGJKg7v4/zE8XAwO6/j8f9cLzvoX+PzuU3svTUf4/7XIw9EAe/j/qEoDWBev9Pz98lN0huP0/vIoydZSF/T8fPhsKXVP9PzoNCgp7If0/6juz4+3v/D/dM8IGtb78Pyzg1+PPjfw/wguJ7D1d/D+KwlyT/iz8P1a1yksR/fs/kqA5inXN+z+dtf3DKp77P+gGV28wb/s/s/ZvA4ZA+z+EqFv4KhL7Pzh1FMce5Po/umF66WC2+j9cmFHa8Ij6P77kQBXOW/o/UjLQFvgu+j9rDWdcbgL6P9gmS2Qw1vk/CtqerT2q+T+4tV+4lX75PwIHZQU4U/k/EmdeFiQo+T8qS9JtWf34PzaXHI/X0vg/szJt/p2o+D8UoMZArH74P4OW/NsBVfg/BZ6yVp4r+D/7rVo4gQL4P/7NMwmq2fc/EblIUhix9z8bg26dy4j3P79AQ3XDYPc/b7EsZf849z/K61b5fhH3Pz8Ms75B6vY/5OX1QkfD9j+WtZYUj5z2P0DXzcIYdvY/Xn2T3eNP9j+sap717yn2PwKuYpw8BPY/T2AQZMne9T/GZJLflbn1Px4rjaKhlPU/+nNdQexv9T9aFxdRdUv1PzTNg2c8J/U/EPghG0ED9T+9cSMDg9/0PwVabLcBvPQ/deeR0LyY9D8eOtnns3X0P2AwNpfmUvQ/qj1KeVQw9D81Q2Mp/Q30P7xqekPg6/M/HQMzZP3J8z/yXtkoVKjzPxG1YS/khvM/9QJnFq1l8z8V8Sl9rkTzPw25jwPoI/M/uA0hSlkD8z8fBQnyAePyPz0EFJ3hwvI/m6yu7fei8j/Iy+SGRIPyP45MYAzHY/I/BSpoIn9E8j9sZN9tbCXyP7/3Q5SOBvI/FtStO+Xn8T/G180KcMnxP0rL7Kguq/E/xl7qvSCN8T9rKTzyRW/xP2uq7O6dUfE/ukuaXSg08T9xZnbo5BbxP9dIRDrT+fA/Jz5Y/vLc8D/kl5bgQ8DwP+a4co3Fo/A//CHusXeH8D8qgJf7WWvwP428iRhsT/A/yw1rt60z8D8mC2yHHhjwPyuCjXB8+e8/6Y579BjD7z+Jsjb8EY3vP9/bYOpmV+8/O6inIhci7z8PnMIJIu3uP6RecQWHuO4/zPh5fEWE7j+dFqfWXFDuPwxMxnzMHO4/jVym2JPp7T+dhRVVsrbtPyzM310nhO0/8EzNX/JR7T+dj6DIEiDtP+fcFAeI7uw/ZZfcilG97D89l5/EbozsP6GI+SXfW+w/CU14IaIr7D88X5oqt/vrPwg6zbUdzOs/u8FrONWc6z9IsLwo3W3rPygE8f00P+s/2HEiMNwQ6z//11E40uLqPz+2ZZAWteo/lKYos6iH6j9Z2UcciFrqP9yTUUi0Leo/gLGztCwB6j9jJ7rf8NTpP6KKjUgAqek/Bpkxb1p96T87xIPU/lHpP4a/OfrsJuk/5g/gYiT86D+tntiRpNHoP4dOWQttp+g/5ZJqVH196D/XCeby1FPoPzwYdW1zKug/VoiPS1gB6D+6KnoVg9jnP4p5RVTzr+c/DD7MkaiH5z+JOLJYol/nP3LKYjTgN+c/06IPsWEQ5z8Dba9bJunmP42B/MEtwuY/W5lzcneb5j8Tg1L8AnXmP6falu/PTuY/F8P83N0o5j9Tov1VLAPmP1Xfzuy63eU/UKJgNIm45T8Il1zAlpPlPz6xJCXjbuU/QfPR921K5T+INjPONiblP2L2yz49AuU/uBzT4IDe5D/W0DFMAbvkPzhIghm+l+Q/Y5kO4rZ05D+3kM8/61HkPz+Ha81aL+Q/gTs1JgUN5D85rCrm6erjPxP186kIyeM/Ry3iDmGn4z8ySO6y8oXjP8T3tzS9ZOM/6ZCEM8BD4z8=\",\"dtype\":\"float64\",\"order\":\"little\",\"shape\":[181]},\"y\":{\"__ndarray__\":\"7KXEwRNQWUClP1ll/8ldQAqzLL1UO15A/rtErpPrXEDwpBhqcXBgQBlZPVvqF1xA7xtpNnXoU0BS5PBQinZTQOhnaYFiblxAAzNVPrzSVUAgvAOhUU1gQE7JI1mEsFlAaGdyXZtoWUDwc2dZFm1VQJxrzpGdrFZAlpOtSi8BWUCOwH7Ppp9PQJeiuZZ3iVFAnHnzp0gGRkCB8w0BHHscQDtYzbY57DdAHuhdOv4xKkBnT3fa1qgiwKG8LDiLqS3AXrJVZjlRRcADYL8nNExDwHzMbeSbmkfA7O6hiOV7RcBPv09cwv1FwHP8Zxxh4EXAxMROBRwRRcD9tiNqltZBwLuGZlfiNkXA8N8rw77BQMDRL+X00mFAwEVWe+ppKDTAGd93/7cAMMBiwYw2SvH0v6QcZ4m/+xjAUY6goEVEPUATgE0nLVVDQAv/qjPZkUtAMCTjLzysTkCS+ew4NwBRQDW8NQLjqlBA08tv/8FBXEAuujBe6WdgQOVQLWmrtVtA+C2zjMFZXUDJ+LvCXS1eQNs6kgpog2VACWJjobyrZkDo+Bj9hklkQLhZ+SGUfGJAD5U8nHTSYkCOnU/Iw9tiQDITO/sss2JAvquOXOGPYkA0of0RbkBjQN8VVL+vL2JASNRdJ3lMVUAlF2lCq2dFQG3qTgCfYzfA43h/ga0TPMBWSqBToXY0wNB0JPohyTzAA3BYQetcPMDkaH4RQZ9CwNZBW7wBx0TAeea32pJpSMA0p5XmJNBHwAMWsORV00bApq/YbrSIRMBHDf/Mru1CwNaoBmkxCj7AGkXVMyT/QcBzceRb+ZQ3wJJ/IpziRyzAeHON8U0I4j+fYNNQYmMmQGk39BH6WkNAQlZX40tgMEBBgJaYkWo6QN9PnFu3ojVA1M1iU0yvLECIBbA2IwVOQMT2WMA6liJAPnnvnomaSEC51CrTv1A0QFDShnu09cw/5TQKsDZRK8AqruC7xLFBwFD402PYFUnAD0EzGF2PSsCExoWm7xZKwIHzypMv4UnAuSU2us27S8A8tYaCG2BLwN5M54jd1kvAQME7SCFRS8BqRQWcNfFKwN4Tn0CIlUnAG4L0DlxySMD267eOkFFFwHSLyUR980LAqDHDmd+eNsCUqZJvaXc0wPg7uUQrqiLAPbc50mcEO8DpBN+NQKsIwPSycBeFnilAWBzLF5SHKEC/dNXyvkcsQMAH26/+szdAI6Gb6nahM0DlnyUhxURAQOKViavNAEDAoGN4a44lP8AJqXaXRSFDwCDrPL6iv0XAAaJMqgDiP8DDxZnW+5VGwOl1+pxuMkzAxbuhZ6HdS8Dhl93P++1LwKFzE3zH8kvAbcxZpZy2S8C+wHxZaWFLwANGY69oKkvAS0XPndVgSMBcWCTYnpBIwCver/ojxEfAVGqnBOrURMDcJ6QACyhHwP7zVRULUUbAp+6eXoDhQ8DJLCGrrpJIwB5ATo5N90nAZTJUHIBIS8C2pmYsVHpLwD7jNU46O0rAa+NIXDWySsDkQiefOC9JwNTTP/IKQUBA5T2mX4bZSUDMEBPGjbtJwK0Sl/nOMErAN+il99U0ScAy6SUTbQxKwPyNlopWVkjAMjivGSSnR8D1QVUk2NFGwJ0rltd9NEbAXxMIHvmaRcBpydtnUtBGwIsZunymQErAR3FummGWSsDaPAHW2DlKwH6tQAynlUvASHyX50b8SMAc7+t/tj1MwPT9jHIaTUzAqI8iNYlVTMDNenOUn0NMwAwQri68FEzA4MSc6F3YS8Dz5XV++UZLwKrBIhwBVkvAm4cqCmnrSsBaMo43DqZKwCw7Ip7WJ0vAOtxJt70wS8CoFzOdyhFLwFYr+vliqUrA+HEa+5cwSsDTN0laxrdJwFdowq9u5EjAFsH3PGK5R8B1rrfWJvhFwM9Kk/R/OkPAJ4OUGr1IPcA=\",\"dtype\":\"float64\",\"order\":\"little\",\"shape\":[181]}},\"selected\":{\"id\":\"2024\"},\"selection_policy\":{\"id\":\"2023\"}},\"id\":\"1919\",\"type\":\"ColumnDataSource\"},{\"attributes\":{\"coordinates\":null,\"data_source\":{\"id\":\"1925\"},\"glyph\":{\"id\":\"1926\"},\"group\":null,\"hover_glyph\":null,\"muted_glyph\":{\"id\":\"1928\"},\"nonselection_glyph\":{\"id\":\"1927\"},\"view\":{\"id\":\"1930\"}},\"id\":\"1929\",\"type\":\"GlyphRenderer\"},{\"attributes\":{},\"id\":\"2019\",\"type\":\"BasicTickFormatter\"},{\"attributes\":{\"line_alpha\":0.2,\"line_color\":\"#E69F00\",\"line_width\":3,\"x\":{\"field\":\"x\"},\"y\":{\"field\":\"y\"}},\"id\":\"1922\",\"type\":\"Line\"},{\"attributes\":{\"coordinates\":null,\"data_source\":{\"id\":\"1913\"},\"glyph\":{\"id\":\"1914\"},\"group\":null,\"hover_glyph\":null,\"muted_glyph\":{\"id\":\"1916\"},\"nonselection_glyph\":{\"id\":\"1915\"},\"view\":{\"id\":\"1918\"}},\"id\":\"1917\",\"type\":\"GlyphRenderer\"},{\"attributes\":{},\"id\":\"2016\",\"type\":\"BasicTickFormatter\"},{\"attributes\":{\"line_color\":\"#E69F00\",\"line_width\":3,\"x\":{\"field\":\"x\"},\"y\":{\"field\":\"y\"}},\"id\":\"1920\",\"type\":\"Line\"},{\"attributes\":{},\"id\":\"1899\",\"type\":\"PanTool\"},{\"attributes\":{},\"id\":\"1889\",\"type\":\"LinearScale\"},{\"attributes\":{},\"id\":\"2022\",\"type\":\"Selection\"},{\"attributes\":{\"source\":{\"id\":\"1925\"}},\"id\":\"1930\",\"type\":\"CDSView\"},{\"attributes\":{\"data\":{\"x\":{\"__ndarray__\":\"Wi4x8Af7/z8rVWHTocT/P7vn1j6Yjv8/ZjoslepY/z/iXAc6mCP/P+dSGJKg7v4/zE8XAwO6/j8f9cLzvoX+PzuU3svTUf4/7XIw9EAe/j/qEoDWBev9Pz98lN0huP0/vIoydZSF/T8fPhsKXVP9PzoNCgp7If0/6juz4+3v/D/dM8IGtb78Pyzg1+PPjfw/wguJ7D1d/D+KwlyT/iz8P1a1yksR/fs/kqA5inXN+z+dtf3DKp77P+gGV28wb/s/s/ZvA4ZA+z+EqFv4KhL7Pzh1FMce5Po/umF66WC2+j9cmFHa8Ij6P77kQBXOW/o/UjLQFvgu+j9rDWdcbgL6P9gmS2Qw1vk/CtqerT2q+T+4tV+4lX75PwIHZQU4U/k/EmdeFiQo+T8qS9JtWf34PzaXHI/X0vg/szJt/p2o+D8UoMZArH74P4OW/NsBVfg/BZ6yVp4r+D/7rVo4gQL4P/7NMwmq2fc/EblIUhix9z8bg26dy4j3P79AQ3XDYPc/b7EsZf849z/K61b5fhH3Pz8Ms75B6vY/5OX1QkfD9j+WtZYUj5z2P0DXzcIYdvY/Xn2T3eNP9j+sap717yn2PwKuYpw8BPY/T2AQZMne9T/GZJLflbn1Px4rjaKhlPU/+nNdQexv9T9aFxdRdUv1PzTNg2c8J/U/EPghG0ED9T+9cSMDg9/0PwVabLcBvPQ/deeR0LyY9D8eOtnns3X0P2AwNpfmUvQ/qj1KeVQw9D81Q2Mp/Q30P7xqekPg6/M/HQMzZP3J8z/yXtkoVKjzPxG1YS/khvM/9QJnFq1l8z8V8Sl9rkTzPw25jwPoI/M/uA0hSlkD8z8fBQnyAePyPz0EFJ3hwvI/m6yu7fei8j/Iy+SGRIPyP45MYAzHY/I/BSpoIn9E8j9sZN9tbCXyP7/3Q5SOBvI/FtStO+Xn8T/G180KcMnxP0rL7Kguq/E/xl7qvSCN8T9rKTzyRW/xP2uq7O6dUfE/ukuaXSg08T9xZnbo5BbxP9dIRDrT+fA/Jz5Y/vLc8D/kl5bgQ8DwP+a4co3Fo/A//CHusXeH8D8qgJf7WWvwP428iRhsT/A/yw1rt60z8D8mC2yHHhjwPyuCjXB8+e8/6Y579BjD7z+Jsjb8EY3vP9/bYOpmV+8/O6inIhci7z8PnMIJIu3uP6RecQWHuO4/zPh5fEWE7j+dFqfWXFDuPwxMxnzMHO4/jVym2JPp7T+dhRVVsrbtPyzM310nhO0/8EzNX/JR7T+dj6DIEiDtP+fcFAeI7uw/ZZfcilG97D89l5/EbozsP6GI+SXfW+w/CU14IaIr7D88X5oqt/vrPwg6zbUdzOs/u8FrONWc6z9IsLwo3W3rPygE8f00P+s/2HEiMNwQ6z//11E40uLqPz+2ZZAWteo/lKYos6iH6j9Z2UcciFrqP9yTUUi0Leo/gLGztCwB6j9jJ7rf8NTpP6KKjUgAqek/Bpkxb1p96T87xIPU/lHpP4a/OfrsJuk/5g/gYiT86D+tntiRpNHoP4dOWQttp+g/5ZJqVH196D/XCeby1FPoPzwYdW1zKug/VoiPS1gB6D+6KnoVg9jnP4p5RVTzr+c/DD7MkaiH5z+JOLJYol/nP3LKYjTgN+c/06IPsWEQ5z8Dba9bJunmP42B/MEtwuY/W5lzcneb5j8Tg1L8AnXmP6falu/PTuY/F8P83N0o5j9Tov1VLAPmP1Xfzuy63eU/UKJgNIm45T8Il1zAlpPlPz6xJCXjbuU/QfPR921K5T+INjPONiblP2L2yz49AuU/uBzT4IDe5D/W0DFMAbvkPzhIghm+l+Q/Y5kO4rZ05D+3kM8/61HkPz+Ha81aL+Q/gTs1JgUN5D85rCrm6erjPxP186kIyeM/Ry3iDmGn4z8ySO6y8oXjP8T3tzS9ZOM/6ZCEM8BD4z8=\",\"dtype\":\"float64\",\"order\":\"little\",\"shape\":[181]},\"y\":{\"__ndarray__\":\"rHnY7181XcAIdryhgxBbwKLqM3FXG1rAZXSWEWF6WsBLPBlL/WVXwKk5IO4niFrAhQjooEd6XsCc5NxRE5NdwKNOhG8H3FjAJqhjXxzpXMAGKSkG7ehVwKxvtf+HdVnA+c/t26XyWMD5lqw0ZLlawKV+DcRxn1nAEkIXggkAWMC5RVH6O8hcwKhpx5WxZlvAgkPek7VsXsAoG1qCWu1gwB+p4TE2N2DAqCqYnZGoYMCVMu5jsJ9hwMhzoKLtv2HAZy7TF4PRYsDu4W4tM1diwC+C9F00kGLANVzPN/YwYsB9jBVriwNiwFvnmxLQz2HALa1D1Xt5YcDZVY2LzfJgwLyfB0j1BWHAoSgBBfhsYMA7kaa+my9gwGxtNaqct17AhI/1w0wmXsAWUKc460JcwCq9H8+RYlzA7LoEImmaWMBYj8n9O0JXwAoUg3XtBVXAuVzNUKTFU8Bi8Yj+L8NSwJOVa6TuRVLAmBV0hf6PScBHdS2EuhFEwDe2RX/zBkjAEnje2PfPRcAlN7e9sP9DwLoHXPAJeC3AEeshi13dG8B7s5USBtwtwGVlmhkLIzLAb8y/V0GeLcCCRM/x30gwwHDScrq48S3AznCcDXQZKcBWdtTx7OwVwMDY9rOS0BzAEBLlM6KAPsCyTmGkWeRGwNe069K4lVDA+0rHsc41UMAiyeps6ABOwFvW9wjmck7AGzhWe6AvTcBOY0ngBq5NwAS2x0YYOk3AWGtDRG0MTcAYKqQFMaJLwPAwslQ7H0rA77JAWihwSMA5EqgZkgVHwD2zZQbH7ETAw8F5G3S4RMBEjpM8hwhCwMSKN2y+sD7ApQ/smtDlOMCG0TAzPaAzwB6vjE6OFyHAaMSfQw5XKsBg0LHZ0L0cwITmaNSIjBrA8K/9g+5zHMBN60ViDjUiQMNrm1nUSgLAo1AwDrEGJUBoXevf7zsUQPRyTFMyl/Y/0BkB6BIb079yJ+3jru8EwGGJ2W6ZLgnAHIJ9K9Vc87/C/4Z9D8f3P0FlmxvH/A9A0JZ3jmUhFkD1JtAd65ofQJC+a2wg5yNAwpzXh2gFKUDwCUolygkuQOF+Xlk/2TFAF9PVzap+NEDsy/b337o3QPAMbKdvrzpA2V96dV2wP0D4sccCiCRBQAHoUhopJUNAxDUeQJ15QkBqIVsatgZGQK4tCY3NaEhALBnBFmpESUB0OD0FcFZKQLajhA710UtAHniKLIGDTEDrEpuwmvdOQJXgRRfZmUlA7oaaHDGfSkA3jLeuIQBLQOacLHqoeUtAY4Nt0dhZTUB4WNioPCBNQFfU3B2/LU1AWKY4ul4rTkBX/90OOQ9PQF7SoOWV6k9AXw/jaR9kUEB4BLwsC9FQQAAGt/BwPFFAG7BNIdHZUUCuWiCbnkNSQMFxZY/iu1JAEhOztzhXU0B1uOh/nZdTQDhk3P9D/1NAvXT4Hh90VEAfIPMTFXtUQNjI+9UKuFRAQY1Jlzb1VEDTX91Ie0BVQG0r7X2imVVAC/khgV7YVUCYjyhuRzBWQMExdIYGylhAP23IZ06pWUBnRWGP8tFWQFeqRff1BldALsu71t5MV0BuucWshnVXQF0ARe33wFdATBY1Div/V0CIS/A01UBYQK38CNVrfFhATMvz3nq2WECYLpLWg9lYQM9zlNJn41hAL4H8ZOsXWUDHpRqmAVVZQMtOm8Mxe1lAuC6nEm3PWUDRjXm0jNlZQAaYn/IUC1pAdSYbxZg8WkAEO+rCtHZaQH6ch2gvtlpAiCTM81/1WkDbtfwWbTdbQKR08BerbltABPwxl5OiW0CRUpZ10dNbQCbg93kL/FtAGCGx51YqXEAXNpzFeVpcQJ/bpJc1jVxAw6FRKQG3XEBS4UUGes9cQPRVClBR61xAPmA5bTEPXUCocdOcKDxdQAcxOMXecV1A2m0+b+mqXUA=\",\"dtype\":\"float64\",\"order\":\"little\",\"shape\":[181]}},\"selected\":{\"id\":\"2026\"},\"selection_policy\":{\"id\":\"2025\"}},\"id\":\"1925\",\"type\":\"ColumnDataSource\"},{\"attributes\":{\"axis_label\":\"Spectrum\",\"axis_label_text_font\":\"times\",\"axis_label_text_font_size\":\"14pt\",\"axis_label_text_font_style\":\"bold\",\"coordinates\":null,\"formatter\":{\"id\":\"2016\"},\"group\":null,\"major_label_policy\":{\"id\":\"2017\"},\"major_label_text_font\":\"times\",\"major_label_text_font_size\":\"14pt\",\"ticker\":{\"id\":\"1896\"}},\"id\":\"1895\",\"type\":\"LinearAxis\"},{\"attributes\":{},\"id\":\"1902\",\"type\":\"SaveTool\"},{\"attributes\":{},\"id\":\"1887\",\"type\":\"LinearScale\"},{\"attributes\":{\"axis\":{\"id\":\"1891\"},\"coordinates\":null,\"group\":null,\"ticker\":null},\"id\":\"1894\",\"type\":\"Grid\"},{\"attributes\":{},\"id\":\"1896\",\"type\":\"BasicTicker\"},{\"attributes\":{\"source\":{\"id\":\"1913\"}},\"id\":\"1918\",\"type\":\"CDSView\"},{\"attributes\":{\"axis_label\":\"Wavelength [\\u03bcm]\",\"axis_label_text_font\":\"times\",\"axis_label_text_font_size\":\"14pt\",\"axis_label_text_font_style\":\"bold\",\"coordinates\":null,\"formatter\":{\"id\":\"2019\"},\"group\":null,\"major_label_policy\":{\"id\":\"2020\"},\"major_label_text_font\":\"times\",\"major_label_text_font_size\":\"14pt\",\"ticker\":{\"id\":\"1892\"}},\"id\":\"1891\",\"type\":\"LinearAxis\"},{\"attributes\":{\"line_alpha\":0.2,\"line_color\":\"#F0E442\",\"line_width\":3,\"x\":{\"field\":\"x\"},\"y\":{\"field\":\"y\"}},\"id\":\"1928\",\"type\":\"Line\"},{\"attributes\":{},\"id\":\"2020\",\"type\":\"AllLabels\"},{\"attributes\":{},\"id\":\"1883\",\"type\":\"DataRange1d\"},{\"attributes\":{},\"id\":\"2017\",\"type\":\"AllLabels\"},{\"attributes\":{},\"id\":\"2025\",\"type\":\"UnionRenderers\"},{\"attributes\":{},\"id\":\"2026\",\"type\":\"Selection\"},{\"attributes\":{},\"id\":\"1903\",\"type\":\"ResetTool\"},{\"attributes\":{},\"id\":\"1904\",\"type\":\"HelpTool\"},{\"attributes\":{\"line_alpha\":0.1,\"line_color\":\"#F0E442\",\"line_width\":3,\"x\":{\"field\":\"x\"},\"y\":{\"field\":\"y\"}},\"id\":\"1927\",\"type\":\"Line\"},{\"attributes\":{\"line_alpha\":0.2,\"line_color\":\"#0072B2\",\"line_width\":3,\"x\":{\"field\":\"x\"},\"y\":{\"field\":\"y\"}},\"id\":\"1916\",\"type\":\"Line\"},{\"attributes\":{\"label\":{\"value\":\"Grey Cloud\"},\"renderers\":[{\"id\":\"1923\"}]},\"id\":\"1933\",\"type\":\"LegendItem\"},{\"attributes\":{},\"id\":\"2023\",\"type\":\"UnionRenderers\"},{\"attributes\":{\"axis\":{\"id\":\"1895\"},\"coordinates\":null,\"dimension\":1,\"group\":null,\"ticker\":null},\"id\":\"1898\",\"type\":\"Grid\"},{\"attributes\":{\"overlay\":{\"id\":\"1905\"}},\"id\":\"1901\",\"type\":\"BoxZoomTool\"},{\"attributes\":{\"coordinates\":null,\"data_source\":{\"id\":\"1919\"},\"glyph\":{\"id\":\"1920\"},\"group\":null,\"hover_glyph\":null,\"muted_glyph\":{\"id\":\"1922\"},\"nonselection_glyph\":{\"id\":\"1921\"},\"view\":{\"id\":\"1924\"}},\"id\":\"1923\",\"type\":\"GlyphRenderer\"},{\"attributes\":{},\"id\":\"2021\",\"type\":\"UnionRenderers\"},{\"attributes\":{\"bottom_units\":\"screen\",\"coordinates\":null,\"fill_alpha\":0.5,\"fill_color\":\"lightgrey\",\"group\":null,\"left_units\":\"screen\",\"level\":\"overlay\",\"line_alpha\":1.0,\"line_color\":\"black\",\"line_dash\":[4,4],\"line_width\":2,\"right_units\":\"screen\",\"syncable\":false,\"top_units\":\"screen\"},\"id\":\"1905\",\"type\":\"BoxAnnotation\"},{\"attributes\":{\"line_alpha\":0.1,\"line_color\":\"#0072B2\",\"line_width\":3,\"x\":{\"field\":\"x\"},\"y\":{\"field\":\"y\"}},\"id\":\"1915\",\"type\":\"Line\"},{\"attributes\":{\"label\":{\"value\":\"Virga Cloud\"},\"renderers\":[{\"id\":\"1929\"}]},\"id\":\"1934\",\"type\":\"LegendItem\"},{\"attributes\":{\"source\":{\"id\":\"1919\"}},\"id\":\"1924\",\"type\":\"CDSView\"},{\"attributes\":{\"line_color\":\"#F0E442\",\"line_width\":3,\"x\":{\"field\":\"x\"},\"y\":{\"field\":\"y\"}},\"id\":\"1926\",\"type\":\"Line\"}],\"root_ids\":[\"1882\"]},\"title\":\"Bokeh Application\",\"version\":\"2.4.2\"}};\n",
       "  const render_items = [{\"docid\":\"644160b2-8ff6-4662-8d78-2e1174541620\",\"root_ids\":[\"1882\"],\"roots\":{\"1882\":\"73f114f0-da1a-4a51-b54c-1985a51e3f6f\"}}];\n",
       "  root.Bokeh.embed.embed_items_notebook(docs_json, render_items);\n",
       "\n",
       "  }\n",
       "  if (root.Bokeh !== undefined) {\n",
       "    embed_document(root);\n",
       "  } else {\n",
       "    let attempts = 0;\n",
       "    const timer = setInterval(function(root) {\n",
       "      if (root.Bokeh !== undefined) {\n",
       "        clearInterval(timer);\n",
       "        embed_document(root);\n",
       "      } else {\n",
       "        attempts++;\n",
       "        if (attempts > 100) {\n",
       "          clearInterval(timer);\n",
       "          console.log(\"Bokeh: ERROR: Unable to run BokehJS code because BokehJS library is missing\");\n",
       "        }\n",
       "      }\n",
       "    }, 10, root)\n",
       "  }\n",
       "})(window);"
      ],
      "application/vnd.bokehjs_exec.v0+json": ""
     },
     "metadata": {
      "application/vnd.bokehjs_exec.v0+json": {
       "id": "1882"
      }
     },
     "output_type": "display_data"
    }
   ],
   "source": [
    "case1.clouds(filename = jdi.HJ_cld(), delim_whitespace=True)\n",
    "\n",
    "df_model= case1.spectrum(opa, full_output=True,calculation='transmission') #note the new last key \n",
    "\n",
    "wno, rprs2_model = df_model['wavenumber'] , df_model['transit_depth']\n",
    "wno, rprs2_model = jdi.mean_regrid(wno, rprs2_model, R=150)\n",
    "full_output_model = df_model['full_output']\n",
    "\n",
    "jpi.show(jpi.spectrum([wno, wno,wno],[1e6*(rprs2-np.mean(rprs2))\n",
    "                              , (rprs2_gry-np.mean(rprs2_gry))*1e6\n",
    "                             , (rprs2_model-np.mean(rprs2_model))*1e6],legend=['Cloud Free','Grey Cloud','Virga Cloud'],\n",
    "                  plot_width=500))\n"
   ]
  },
  {
   "cell_type": "markdown",
   "metadata": {},
   "source": [
    "## Adding Arbitrary Rayleigh Scattering \n",
    "\n",
    "All models will include Rayleigh scattering that is computed based on the atmospheric composition. H$_2$ gas giants would Rayleigh scattering from hydrogen, Earth-like composition planets would have Rayleigh scattering from nitrogen. Several hot Jupiter observations have revealed slopes that are enhanced, relative to Rayleigh. \n",
    "\n",
    "To simulate an enhanced scattering slope you can add your own parameterized opacity directly to the cloud routine. "
   ]
  },
  {
   "cell_type": "code",
   "execution_count": 8,
   "metadata": {},
   "outputs": [],
   "source": [
    "alpha = 4.5 #slope dependence for arbitrary rayleigh\n",
    "ref_wave = 0.3 #reference wave to set at what wavelength tau=ref_tau\n",
    "ref_tau = 5e-2\n",
    "\n",
    "wno_cld = jdi.get_cld_input_grid()\n",
    "wave= 1e4/wno_cld\n",
    "enhanced_rayleigh_opd =  np.concatenate([ref_tau*(wave/ref_wave)**(-alpha) for i in range(case1.nlevel-1)])"
   ]
  },
  {
   "cell_type": "code",
   "execution_count": 9,
   "metadata": {},
   "outputs": [
    {
     "data": {
      "text/html": [
       "\n",
       "\n",
       "\n",
       "\n",
       "\n",
       "\n",
       "  <div class=\"bk-root\" id=\"1d363e18-7d72-4aee-b201-c76862eb7daf\" data-root-id=\"2103\"></div>\n"
      ]
     },
     "metadata": {},
     "output_type": "display_data"
    },
    {
     "data": {
      "application/javascript": [
       "(function(root) {\n",
       "  function embed_document(root) {\n",
       "    \n",
       "  const docs_json = {\"567eda98-ab2a-41a1-994e-b0d1ae5ac1f8\":{\"defs\":[],\"roots\":{\"references\":[{\"attributes\":{\"below\":[{\"id\":\"2112\"}],\"center\":[{\"id\":\"2115\"},{\"id\":\"2119\"}],\"height\":345,\"left\":[{\"id\":\"2116\"},{\"id\":\"2146\"}],\"renderers\":[{\"id\":\"2138\"},{\"id\":\"2144\"}],\"title\":{\"id\":\"2242\"},\"toolbar\":{\"id\":\"2127\"},\"x_range\":{\"id\":\"2104\"},\"x_scale\":{\"id\":\"2108\"},\"y_range\":{\"id\":\"2106\"},\"y_scale\":{\"id\":\"2110\"}},\"id\":\"2103\",\"subtype\":\"Figure\",\"type\":\"Plot\"},{\"attributes\":{},\"id\":\"2124\",\"type\":\"ResetTool\"},{\"attributes\":{},\"id\":\"2250\",\"type\":\"UnionRenderers\"},{\"attributes\":{\"coordinates\":null,\"data_source\":{\"id\":\"2140\"},\"glyph\":{\"id\":\"2141\"},\"group\":null,\"hover_glyph\":null,\"muted_glyph\":{\"id\":\"2143\"},\"nonselection_glyph\":{\"id\":\"2142\"},\"view\":{\"id\":\"2145\"}},\"id\":\"2144\",\"type\":\"GlyphRenderer\"},{\"attributes\":{},\"id\":\"2245\",\"type\":\"BasicTickFormatter\"},{\"attributes\":{\"line_alpha\":0.2,\"line_color\":\"#0072B2\",\"line_width\":3,\"x\":{\"field\":\"x\"},\"y\":{\"field\":\"y\"}},\"id\":\"2137\",\"type\":\"Line\"},{\"attributes\":{\"line_alpha\":0.1,\"line_color\":\"#E69F00\",\"line_width\":3,\"x\":{\"field\":\"x\"},\"y\":{\"field\":\"y\"}},\"id\":\"2142\",\"type\":\"Line\"},{\"attributes\":{\"axis_label\":\"Wavelength [\\u03bcm]\",\"axis_label_text_font\":\"times\",\"axis_label_text_font_size\":\"14pt\",\"axis_label_text_font_style\":\"bold\",\"coordinates\":null,\"formatter\":{\"id\":\"2248\"},\"group\":null,\"major_label_policy\":{\"id\":\"2249\"},\"major_label_text_font\":\"times\",\"major_label_text_font_size\":\"14pt\",\"ticker\":{\"id\":\"2113\"}},\"id\":\"2112\",\"type\":\"LogAxis\"},{\"attributes\":{\"data\":{\"x\":{\"__ndarray__\":\"Wi4x8Af7/z8rVWHTocT/P7vn1j6Yjv8/ZjoslepY/z/iXAc6mCP/P+dSGJKg7v4/zE8XAwO6/j8f9cLzvoX+PzuU3svTUf4/7XIw9EAe/j/qEoDWBev9Pz98lN0huP0/vIoydZSF/T8fPhsKXVP9PzoNCgp7If0/6juz4+3v/D/dM8IGtb78Pyzg1+PPjfw/wguJ7D1d/D+KwlyT/iz8P1a1yksR/fs/kqA5inXN+z+dtf3DKp77P+gGV28wb/s/s/ZvA4ZA+z+EqFv4KhL7Pzh1FMce5Po/umF66WC2+j9cmFHa8Ij6P77kQBXOW/o/UjLQFvgu+j9rDWdcbgL6P9gmS2Qw1vk/CtqerT2q+T+4tV+4lX75PwIHZQU4U/k/EmdeFiQo+T8qS9JtWf34PzaXHI/X0vg/szJt/p2o+D8UoMZArH74P4OW/NsBVfg/BZ6yVp4r+D/7rVo4gQL4P/7NMwmq2fc/EblIUhix9z8bg26dy4j3P79AQ3XDYPc/b7EsZf849z/K61b5fhH3Pz8Ms75B6vY/5OX1QkfD9j+WtZYUj5z2P0DXzcIYdvY/Xn2T3eNP9j+sap717yn2PwKuYpw8BPY/T2AQZMne9T/GZJLflbn1Px4rjaKhlPU/+nNdQexv9T9aFxdRdUv1PzTNg2c8J/U/EPghG0ED9T+9cSMDg9/0PwVabLcBvPQ/deeR0LyY9D8eOtnns3X0P2AwNpfmUvQ/qj1KeVQw9D81Q2Mp/Q30P7xqekPg6/M/HQMzZP3J8z/yXtkoVKjzPxG1YS/khvM/9QJnFq1l8z8V8Sl9rkTzPw25jwPoI/M/uA0hSlkD8z8fBQnyAePyPz0EFJ3hwvI/m6yu7fei8j/Iy+SGRIPyP45MYAzHY/I/BSpoIn9E8j9sZN9tbCXyP7/3Q5SOBvI/FtStO+Xn8T/G180KcMnxP0rL7Kguq/E/xl7qvSCN8T9rKTzyRW/xP2uq7O6dUfE/ukuaXSg08T9xZnbo5BbxP9dIRDrT+fA/Jz5Y/vLc8D/kl5bgQ8DwP+a4co3Fo/A//CHusXeH8D8qgJf7WWvwP428iRhsT/A/yw1rt60z8D8mC2yHHhjwPyuCjXB8+e8/6Y579BjD7z+Jsjb8EY3vP9/bYOpmV+8/O6inIhci7z8PnMIJIu3uP6RecQWHuO4/zPh5fEWE7j+dFqfWXFDuPwxMxnzMHO4/jVym2JPp7T+dhRVVsrbtPyzM310nhO0/8EzNX/JR7T+dj6DIEiDtP+fcFAeI7uw/ZZfcilG97D89l5/EbozsP6GI+SXfW+w/CU14IaIr7D88X5oqt/vrPwg6zbUdzOs/u8FrONWc6z9IsLwo3W3rPygE8f00P+s/2HEiMNwQ6z//11E40uLqPz+2ZZAWteo/lKYos6iH6j9Z2UcciFrqP9yTUUi0Leo/gLGztCwB6j9jJ7rf8NTpP6KKjUgAqek/Bpkxb1p96T87xIPU/lHpP4a/OfrsJuk/5g/gYiT86D+tntiRpNHoP4dOWQttp+g/5ZJqVH196D/XCeby1FPoPzwYdW1zKug/VoiPS1gB6D+6KnoVg9jnP4p5RVTzr+c/DD7MkaiH5z+JOLJYol/nP3LKYjTgN+c/06IPsWEQ5z8Dba9bJunmP42B/MEtwuY/W5lzcneb5j8Tg1L8AnXmP6falu/PTuY/F8P83N0o5j9Tov1VLAPmP1Xfzuy63eU/UKJgNIm45T8Il1zAlpPlPz6xJCXjbuU/QfPR921K5T+INjPONiblP2L2yz49AuU/uBzT4IDe5D/W0DFMAbvkPzhIghm+l+Q/Y5kO4rZ05D+3kM8/61HkPz+Ha81aL+Q/gTs1JgUN5D85rCrm6erjPxP186kIyeM/Ry3iDmGn4z8ySO6y8oXjP8T3tzS9ZOM/6ZCEM8BD4z8=\",\"dtype\":\"float64\",\"order\":\"little\",\"shape\":[181]},\"y\":{\"__ndarray__\":\"lq0QF+u1YEA2SAqOYxhkQIS6jvxMqmNAURnRvF+QYkANjVyFJXplQBPf1g1wNWNAxyNUW/+MWEDoD67gXHVYQPeorbUIWGJA+crksi9NXkAq9cKY895kQM+98La9OGBAPNbWA1UvYEA9P68XD2NZQP+M+Mu0F1tAU6eRBLIkX0CBdgcaDbNRQNP7BJMtwlJA+sHToCg6OUDS6K8ZCaJIwEm449Q3tCzARu8E1+M8QMAKyD1zjBtWwG4h5VaVM1zAvllrEBcEacBVblQhl09qwFOajpUmn2zA1IX+U0vgacCWNDjMDOFowDhtz922YGjALBUpAAcbZsAvDnjIh+xjwLwUmbGviGPA/t/L6szvXcCLbr7ixN1awH16oj9JcFLAKmZw2LGSScCc+gDmXtA4wMIrtw553DvAXtV0aXm0RkC8bqzs0opKQNNoQU2uD1VAGvWqzYpsU0DEhMltbylZQBSxk1qMCldAt6sHIhd7Y0DS9WJH+nRmQBjWmWx8gWNAw+zXQTWUZEDAsnxK7xhlQOKXLQeCs2xAqM1YWCq8bUD5Izt611FrQNWK+KjsaGhA1bWhqfUnaEBBKZRp7Z5pQMFZZWf1HWlAV4J42aRRaEAHJNshaL1nQFy44Ei242ZAlxM/ySf2WEDi2o/FurMsQBLtnRi2A17AedWnUT4oYsBE8YIOA5BiwLrFPA+Cj2bAN0FjjHuKacD9fVLa+1xqwGstimb0nGrAH3/JHc+qacAG1ghPJ35qwI7RQbqbC2jAlOyB/gqgZMDlem20bD5jwIfBBLSpJ13ASReu7g+FXsDNpUXMMPVUwIjbwoJEFVDAKJnVppssKMDyH4SMDi8iwBORr8R3Z0VA6G9odgkrJUDoBWpIBmoVQMTTzMAhJS5A793ODCzcIUBoLg+gMp9RQHRKbGxQET3At9aYxT/JR0Aw20L2E6UpwIaHyTV1cE7AJfC9tVmtUMCo2YP6tEJjwCc8wdD64W/A62/KEeDiccCUeAMzC5pxwCDeOEvsunDAeTWPUXfGccD5UvuP9DVwwB8EpvveznDAH0ecMFckbsD/GF4bsBFrwO08usv9s2XA3dxGoLHPY8APVDLNxwhgwPluAgwaKljAWJP5nLhPT8Cv1rrfz8tJwBRttMieRjTA9tS7g0AJRsB687cVcMlAwPyctlKIiTJAJCnrzpIdM0AC3vEvkSAtQABuoBjPFERArwmRO7UiRECeDIwULjg3QAlaPJj6kVnA7RDx3ePPWcAsT4axps5gwFQHdq077GHAZMbwtCxeW8DSHCXNuf9iwCwIom6Vi2jAhDd3eODuZsCZMfoessBlwB08M3/sZmTACNDKQv9xYsA7g6XAfZ9gwLIbEwtJZl7ANgaVxfF1VsAGW0ogLsNVwPcvzbh88lDAbPO4JDK/R8Cm8xiuKN9MwIa7ZHKwjEXA2iVxeQBxMMDXv+Da2rY/wIf62Ng9NkDAoii6yCXPPMAN+6cj67wvwHfrzH1opiBA4Dky+PQROUBRaZD4P2pNQDfeLFBF+2ZAdAwx8pKAaEAjThf60nRNQCVg42VvEEhAYAoaRxqYR0CYItzWK2lDQHuOPU0SSUdAK9JzYWBASEDYLmYxAbFHQIRWecKTJUtAWccM+SMrUEABI075CsRNQGu2SLtvvEZAevJZ04faRkCTpNMA4MxKQOEOvCysM0pAIihbrnh4UEDauy1JN2dKQBx3rRIy+UxAhmZCtZOIUEACS29f+k1TQIuzT7Hye1ZA8ezeNUe7WUA0ygYoPytdQBGB3Jdz919Avy28GQyYYUAWr1XzbzJjQPIEHjtWVmRAAbfXkNG/ZUD22ks5Cz1nQMT7NIWi0WhAOYxUS29jakCdCG4AK/FrQL06a2vTjG1A6mWzRdw0b0ByLRjiyHZwQHBd/8eKXHFAWVlja/dZckA=\",\"dtype\":\"float64\",\"order\":\"little\",\"shape\":[181]}},\"selected\":{\"id\":\"2253\"},\"selection_policy\":{\"id\":\"2252\"}},\"id\":\"2140\",\"type\":\"ColumnDataSource\"},{\"attributes\":{\"line_alpha\":0.2,\"line_color\":\"#E69F00\",\"line_width\":3,\"x\":{\"field\":\"x\"},\"y\":{\"field\":\"y\"}},\"id\":\"2143\",\"type\":\"Line\"},{\"attributes\":{},\"id\":\"2108\",\"type\":\"LogScale\"},{\"attributes\":{},\"id\":\"2252\",\"type\":\"UnionRenderers\"},{\"attributes\":{},\"id\":\"2251\",\"type\":\"Selection\"},{\"attributes\":{\"num_minor_ticks\":10},\"id\":\"2113\",\"type\":\"LogTicker\"},{\"attributes\":{},\"id\":\"2104\",\"type\":\"DataRange1d\"},{\"attributes\":{\"line_color\":\"#E69F00\",\"line_width\":3,\"x\":{\"field\":\"x\"},\"y\":{\"field\":\"y\"}},\"id\":\"2141\",\"type\":\"Line\"},{\"attributes\":{},\"id\":\"2110\",\"type\":\"LinearScale\"},{\"attributes\":{\"data\":{\"x\":{\"__ndarray__\":\"Wi4x8Af7/z8rVWHTocT/P7vn1j6Yjv8/ZjoslepY/z/iXAc6mCP/P+dSGJKg7v4/zE8XAwO6/j8f9cLzvoX+PzuU3svTUf4/7XIw9EAe/j/qEoDWBev9Pz98lN0huP0/vIoydZSF/T8fPhsKXVP9PzoNCgp7If0/6juz4+3v/D/dM8IGtb78Pyzg1+PPjfw/wguJ7D1d/D+KwlyT/iz8P1a1yksR/fs/kqA5inXN+z+dtf3DKp77P+gGV28wb/s/s/ZvA4ZA+z+EqFv4KhL7Pzh1FMce5Po/umF66WC2+j9cmFHa8Ij6P77kQBXOW/o/UjLQFvgu+j9rDWdcbgL6P9gmS2Qw1vk/CtqerT2q+T+4tV+4lX75PwIHZQU4U/k/EmdeFiQo+T8qS9JtWf34PzaXHI/X0vg/szJt/p2o+D8UoMZArH74P4OW/NsBVfg/BZ6yVp4r+D/7rVo4gQL4P/7NMwmq2fc/EblIUhix9z8bg26dy4j3P79AQ3XDYPc/b7EsZf849z/K61b5fhH3Pz8Ms75B6vY/5OX1QkfD9j+WtZYUj5z2P0DXzcIYdvY/Xn2T3eNP9j+sap717yn2PwKuYpw8BPY/T2AQZMne9T/GZJLflbn1Px4rjaKhlPU/+nNdQexv9T9aFxdRdUv1PzTNg2c8J/U/EPghG0ED9T+9cSMDg9/0PwVabLcBvPQ/deeR0LyY9D8eOtnns3X0P2AwNpfmUvQ/qj1KeVQw9D81Q2Mp/Q30P7xqekPg6/M/HQMzZP3J8z/yXtkoVKjzPxG1YS/khvM/9QJnFq1l8z8V8Sl9rkTzPw25jwPoI/M/uA0hSlkD8z8fBQnyAePyPz0EFJ3hwvI/m6yu7fei8j/Iy+SGRIPyP45MYAzHY/I/BSpoIn9E8j9sZN9tbCXyP7/3Q5SOBvI/FtStO+Xn8T/G180KcMnxP0rL7Kguq/E/xl7qvSCN8T9rKTzyRW/xP2uq7O6dUfE/ukuaXSg08T9xZnbo5BbxP9dIRDrT+fA/Jz5Y/vLc8D/kl5bgQ8DwP+a4co3Fo/A//CHusXeH8D8qgJf7WWvwP428iRhsT/A/yw1rt60z8D8mC2yHHhjwPyuCjXB8+e8/6Y579BjD7z+Jsjb8EY3vP9/bYOpmV+8/O6inIhci7z8PnMIJIu3uP6RecQWHuO4/zPh5fEWE7j+dFqfWXFDuPwxMxnzMHO4/jVym2JPp7T+dhRVVsrbtPyzM310nhO0/8EzNX/JR7T+dj6DIEiDtP+fcFAeI7uw/ZZfcilG97D89l5/EbozsP6GI+SXfW+w/CU14IaIr7D88X5oqt/vrPwg6zbUdzOs/u8FrONWc6z9IsLwo3W3rPygE8f00P+s/2HEiMNwQ6z//11E40uLqPz+2ZZAWteo/lKYos6iH6j9Z2UcciFrqP9yTUUi0Leo/gLGztCwB6j9jJ7rf8NTpP6KKjUgAqek/Bpkxb1p96T87xIPU/lHpP4a/OfrsJuk/5g/gYiT86D+tntiRpNHoP4dOWQttp+g/5ZJqVH196D/XCeby1FPoPzwYdW1zKug/VoiPS1gB6D+6KnoVg9jnP4p5RVTzr+c/DD7MkaiH5z+JOLJYol/nP3LKYjTgN+c/06IPsWEQ5z8Dba9bJunmP42B/MEtwuY/W5lzcneb5j8Tg1L8AnXmP6falu/PTuY/F8P83N0o5j9Tov1VLAPmP1Xfzuy63eU/UKJgNIm45T8Il1zAlpPlPz6xJCXjbuU/QfPR921K5T+INjPONiblP2L2yz49AuU/uBzT4IDe5D/W0DFMAbvkPzhIghm+l+Q/Y5kO4rZ05D+3kM8/61HkPz+Ha81aL+Q/gTs1JgUN5D85rCrm6erjPxP186kIyeM/Ry3iDmGn4z8ySO6y8oXjP8T3tzS9ZOM/6ZCEM8BD4z8=\",\"dtype\":\"float64\",\"order\":\"little\",\"shape\":[181]},\"y\":{\"__ndarray__\":\"32VjKCzYakAxiLth9TxuQKuAY6nnzG1A6bgNUViwbEC+RSb3m5tvQI+ygnGdU21A/fY8rxlbZkBCGIxEF01mQCizdI8ccGxAdKseqt05aUCOZqqLlfZuQMmZExL8SGpADVUJU2o9akAI9C2kwLhmQPLTy38ckmdA0TZn9maZaUC16VY7lNRiQKadiMj5WWNAS7d7QxsmWkCk6vZjIns9QHZhj5z4IlBA0uw5rGUYR0CI04538aokwBJYdeHqhkHAUgKKiJnRXsD1JTVySL1gwEuXIRLGF2PAzpMiDB5YYMDThRye4LdewEzr7QvkwF3AwHCkuzY1WcDP4XvK6thUwBUx2n1kGlTAImeVh/7URcCpGh1T4Gs/wFfhR2hT7ANA/jVCLiUzOUB0R0UHndRJQG3auoLcM0hA+JkaHUicXkCCrcFtIEFgQEiAaXErLmRADQyqGWdTY0As8zD7ZDdmQJZMEQoOHmVAHijrY/4qbUCRn45mQRVwQCjJSavyJ21Ap2qBW+M5bkAIbutj3LpuQMpAHYAKN3NA84m96mW6c0BlhAEdZX5yQCPEurYxAHFAQkukbrXbcED5dQ436plxQERWOSvxVHFAisgVBPDocEBGpnr8F5hwQKq86Z+hJXBAKjhTPiSiZUBvXJcSP0xVQLDY9o1VhkrAikaQk4XeU8BgY+KrR9pUwBxUmiF4OV3AVcMFU3rEYcA7PDaBH7BiwOpcSV/XBWPAfypNkcYdYsBttPCieg9jwE1TgX2Fm2DAxcgd/+ZJWsA+EkzB95hXwLQPaOVJHkzAjEWthvZIT8CPsEpWFGo3wNGVWxHehA7A6vlt+rsNSUDY7a3oFUBKQLtGt5rRgFpAxu5o0j/zUUDMeoacfF1QQEGeT/XhxFJA9FAVutn+UEAKvFRT4ndgQLBlyxXUMjpAP86SJwGLWkB7kkBzR8REQOfTDdCumCTACMBManVKMcARuqfKifBbwDdzsXv1rGvAB2JFv3sHcMCEg0bw66ZvwPGdCdEl+m3AFT3wRyM6cMAt+fu520ZtwCd11KeEzW7AZuB47lU/a8C2PejMYRxowDUEH3aPcmLAlAJv5ySZYMDsu9PZ9FhZwENk+Hg9D1HA5YO1DBpCQMA7HJWbIuk1wG1m9K6ZIyZAJPJRY47aMMCS/U93FVAewJtTeDfIhkhAN0XuJC32R0CWEzCSznFEQIAEWJScC1FAxneWpB6iUEBy6pvFai9GQM/tGOL8JlnARiU55dQfWsCH6IsROPJhwIlOFqtjmmPAxqIzTzciXsDiczvCZ7JlwIYkOwv6smzAuvSrF/I/a8CjLy3uS1BqwPPS6MAJLWnAXuysI29MZ8CArckCnZRlwFRCrZhGWGTA7RvCQQD7X8CKGFo2khFgwI7PoO34KFvAikE+h/DkVcCLf/dlEChawGgLghWVnVbAJbSz0eBnTsCRpgbd5S9VwKbbK/LylVbAUW9fKo6XVsAO7KBgsIpTwGt2K96ri0nAuHfzLfq5QMCMUFJy20QdQGf7CG1LKGVANd5UUrGUZkAeLM1wPDsgwBi54Yvd9jzAyrXmpVdCQsC5y3Ek6YFLwDNj0UvITEnA/HW5Ih9qS8D2S8fFH/ZPwFOiSslsnk7A8U47YBeRSsBQCg0O2DtRwJsBmUs2y1jAx2///3sFW8BxwN5RHzJawKp37esrDV3AtZzP6V40WsA3gN7rdCxhwLzgVCVmemHA0Ppva1oZYcCSSG0miyJgwP5kJKuLnV3AmHHRCZC4WsCpSTJPMFtXwAY5zTMhHFXAl5SOwdEoUsA8G8vLnCtOwInykFLidEvA7tVG/bq0RsDX4r/fOzVBwFNilSTvQjXANpvONnm4H8Begt9qhtoUQOCRM5iKETRAnc+3wSsMQkB/PgSJ6+hKQOWvvHPGeVJAyALfLvt7WEA=\",\"dtype\":\"float64\",\"order\":\"little\",\"shape\":[181]}},\"selected\":{\"id\":\"2251\"},\"selection_policy\":{\"id\":\"2250\"}},\"id\":\"2134\",\"type\":\"ColumnDataSource\"},{\"attributes\":{\"label\":{\"value\":\"H2 Rayleigh\"},\"renderers\":[{\"id\":\"2138\"}]},\"id\":\"2147\",\"type\":\"LegendItem\"},{\"attributes\":{},\"id\":\"2106\",\"type\":\"DataRange1d\"},{\"attributes\":{\"coordinates\":null,\"data_source\":{\"id\":\"2134\"},\"glyph\":{\"id\":\"2135\"},\"group\":null,\"hover_glyph\":null,\"muted_glyph\":{\"id\":\"2137\"},\"nonselection_glyph\":{\"id\":\"2136\"},\"view\":{\"id\":\"2139\"}},\"id\":\"2138\",\"type\":\"GlyphRenderer\"},{\"attributes\":{},\"id\":\"2121\",\"type\":\"WheelZoomTool\"},{\"attributes\":{\"click_policy\":\"mute\",\"coordinates\":null,\"group\":null,\"items\":[{\"id\":\"2147\"},{\"id\":\"2148\"}],\"location\":[0,0]},\"id\":\"2146\",\"type\":\"Legend\"},{\"attributes\":{\"bottom_units\":\"screen\",\"coordinates\":null,\"fill_alpha\":0.5,\"fill_color\":\"lightgrey\",\"group\":null,\"left_units\":\"screen\",\"level\":\"overlay\",\"line_alpha\":1.0,\"line_color\":\"black\",\"line_dash\":[4,4],\"line_width\":2,\"right_units\":\"screen\",\"syncable\":false,\"top_units\":\"screen\"},\"id\":\"2126\",\"type\":\"BoxAnnotation\"},{\"attributes\":{},\"id\":\"2123\",\"type\":\"SaveTool\"},{\"attributes\":{\"tools\":[{\"id\":\"2120\"},{\"id\":\"2121\"},{\"id\":\"2122\"},{\"id\":\"2123\"},{\"id\":\"2124\"},{\"id\":\"2125\"}]},\"id\":\"2127\",\"type\":\"Toolbar\"},{\"attributes\":{\"source\":{\"id\":\"2140\"}},\"id\":\"2145\",\"type\":\"CDSView\"},{\"attributes\":{\"axis\":{\"id\":\"2112\"},\"coordinates\":null,\"group\":null,\"ticker\":null},\"id\":\"2115\",\"type\":\"Grid\"},{\"attributes\":{},\"id\":\"2253\",\"type\":\"Selection\"},{\"attributes\":{\"axis\":{\"id\":\"2116\"},\"coordinates\":null,\"dimension\":1,\"group\":null,\"ticker\":null},\"id\":\"2119\",\"type\":\"Grid\"},{\"attributes\":{\"label\":{\"value\":\"Enhanced Rayleigh\"},\"renderers\":[{\"id\":\"2144\"}]},\"id\":\"2148\",\"type\":\"LegendItem\"},{\"attributes\":{\"line_color\":\"#0072B2\",\"line_width\":3,\"x\":{\"field\":\"x\"},\"y\":{\"field\":\"y\"}},\"id\":\"2135\",\"type\":\"Line\"},{\"attributes\":{\"ticker\":null},\"id\":\"2248\",\"type\":\"LogTickFormatter\"},{\"attributes\":{\"overlay\":{\"id\":\"2126\"}},\"id\":\"2122\",\"type\":\"BoxZoomTool\"},{\"attributes\":{\"line_alpha\":0.1,\"line_color\":\"#0072B2\",\"line_width\":3,\"x\":{\"field\":\"x\"},\"y\":{\"field\":\"y\"}},\"id\":\"2136\",\"type\":\"Line\"},{\"attributes\":{},\"id\":\"2125\",\"type\":\"HelpTool\"},{\"attributes\":{\"source\":{\"id\":\"2134\"}},\"id\":\"2139\",\"type\":\"CDSView\"},{\"attributes\":{},\"id\":\"2120\",\"type\":\"PanTool\"},{\"attributes\":{},\"id\":\"2246\",\"type\":\"AllLabels\"},{\"attributes\":{\"axis_label\":\"Spectrum\",\"axis_label_text_font\":\"times\",\"axis_label_text_font_size\":\"14pt\",\"axis_label_text_font_style\":\"bold\",\"coordinates\":null,\"formatter\":{\"id\":\"2245\"},\"group\":null,\"major_label_policy\":{\"id\":\"2246\"},\"major_label_text_font\":\"times\",\"major_label_text_font_size\":\"14pt\",\"ticker\":{\"id\":\"2117\"}},\"id\":\"2116\",\"type\":\"LinearAxis\"},{\"attributes\":{},\"id\":\"2117\",\"type\":\"BasicTicker\"},{\"attributes\":{\"coordinates\":null,\"group\":null},\"id\":\"2242\",\"type\":\"Title\"},{\"attributes\":{},\"id\":\"2249\",\"type\":\"AllLabels\"}],\"root_ids\":[\"2103\"]},\"title\":\"Bokeh Application\",\"version\":\"2.4.2\"}};\n",
       "  const render_items = [{\"docid\":\"567eda98-ab2a-41a1-994e-b0d1ae5ac1f8\",\"root_ids\":[\"2103\"],\"roots\":{\"2103\":\"1d363e18-7d72-4aee-b201-c76862eb7daf\"}}];\n",
       "  root.Bokeh.embed.embed_items_notebook(docs_json, render_items);\n",
       "\n",
       "  }\n",
       "  if (root.Bokeh !== undefined) {\n",
       "    embed_document(root);\n",
       "  } else {\n",
       "    let attempts = 0;\n",
       "    const timer = setInterval(function(root) {\n",
       "      if (root.Bokeh !== undefined) {\n",
       "        clearInterval(timer);\n",
       "        embed_document(root);\n",
       "      } else {\n",
       "        attempts++;\n",
       "        if (attempts > 100) {\n",
       "          clearInterval(timer);\n",
       "          console.log(\"Bokeh: ERROR: Unable to run BokehJS code because BokehJS library is missing\");\n",
       "        }\n",
       "      }\n",
       "    }, 10, root)\n",
       "  }\n",
       "})(window);"
      ],
      "application/vnd.bokehjs_exec.v0+json": ""
     },
     "metadata": {
      "application/vnd.bokehjs_exec.v0+json": {
       "id": "2103"
      }
     },
     "output_type": "display_data"
    }
   ],
   "source": [
    "case1.clouds(df=pd.DataFrame({\n",
    "    'opd':enhanced_rayleigh_opd,\n",
    "    'g0':enhanced_rayleigh_opd*0,\n",
    "    'w0':enhanced_rayleigh_opd*0\n",
    "}))\n",
    "\n",
    "df_ray= case1.spectrum(opa, full_output=True,calculation='transmission') #note the new last key \n",
    "\n",
    "wno, rprs2_ray = df_ray['wavenumber'] , df_ray['transit_depth']\n",
    "wno, rprs2_ray = jdi.mean_regrid(wno, rprs2_ray, R=150)\n",
    "full_output_ray = df_ray['full_output']\n",
    "\n",
    "jpi.show(jpi.spectrum([wno, wno],[1e6*(rprs2-np.mean(rprs2))\n",
    "                             , (rprs2_ray-np.mean(rprs2_ray))*1e6],\n",
    "                  legend=['H2 Rayleigh','Enhanced Rayleigh'],\n",
    "                  plot_width=600,x_axis_type='log'))\n"
   ]
  }
 ],
 "metadata": {
  "kernelspec": {
   "display_name": "Python 3 (ipykernel)",
   "language": "python",
   "name": "python3"
  },
  "language_info": {
   "codemirror_mode": {
    "name": "ipython",
    "version": 3
   },
   "file_extension": ".py",
   "mimetype": "text/x-python",
   "name": "python",
   "nbconvert_exporter": "python",
   "pygments_lexer": "ipython3",
   "version": "3.8.12"
  },
  "toc": {
   "base_numbering": 1,
   "nav_menu": {},
   "number_sections": true,
   "sideBar": true,
   "skip_h1_title": false,
   "title_cell": "Table of Contents",
   "title_sidebar": "Contents",
   "toc_cell": true,
   "toc_position": {},
   "toc_section_display": true,
   "toc_window_display": false
  }
 },
 "nbformat": 4,
 "nbformat_minor": 2
}
