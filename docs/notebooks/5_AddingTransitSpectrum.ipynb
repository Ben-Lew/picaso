{
 "cells": [
  {
   "cell_type": "markdown",
   "metadata": {},
   "source": [
    "# Computing Transmission Spectroscopy\n",
    "\n",
    "Computing transmission spectroscopy is pretty much the same deal as the thermal emission/reflected light. There are just a couple tweaks we will have to make in order to make sure we have the full set of info. \n"
   ]
  },
  {
   "cell_type": "code",
   "execution_count": 1,
   "metadata": {},
   "outputs": [
    {
     "data": {
      "text/html": [
       "\n",
       "    <div class=\"bk-root\">\n",
       "        <a href=\"https://bokeh.org\" target=\"_blank\" class=\"bk-logo bk-logo-small bk-logo-notebook\"></a>\n",
       "        <span id=\"1002\">Loading BokehJS ...</span>\n",
       "    </div>"
      ]
     },
     "metadata": {},
     "output_type": "display_data"
    },
    {
     "data": {
      "application/javascript": [
       "\n",
       "(function(root) {\n",
       "  function now() {\n",
       "    return new Date();\n",
       "  }\n",
       "\n",
       "  var force = true;\n",
       "\n",
       "  if (typeof root._bokeh_onload_callbacks === \"undefined\" || force === true) {\n",
       "    root._bokeh_onload_callbacks = [];\n",
       "    root._bokeh_is_loading = undefined;\n",
       "  }\n",
       "\n",
       "  var JS_MIME_TYPE = 'application/javascript';\n",
       "  var HTML_MIME_TYPE = 'text/html';\n",
       "  var EXEC_MIME_TYPE = 'application/vnd.bokehjs_exec.v0+json';\n",
       "  var CLASS_NAME = 'output_bokeh rendered_html';\n",
       "\n",
       "  /**\n",
       "   * Render data to the DOM node\n",
       "   */\n",
       "  function render(props, node) {\n",
       "    var script = document.createElement(\"script\");\n",
       "    node.appendChild(script);\n",
       "  }\n",
       "\n",
       "  /**\n",
       "   * Handle when an output is cleared or removed\n",
       "   */\n",
       "  function handleClearOutput(event, handle) {\n",
       "    var cell = handle.cell;\n",
       "\n",
       "    var id = cell.output_area._bokeh_element_id;\n",
       "    var server_id = cell.output_area._bokeh_server_id;\n",
       "    // Clean up Bokeh references\n",
       "    if (id != null && id in Bokeh.index) {\n",
       "      Bokeh.index[id].model.document.clear();\n",
       "      delete Bokeh.index[id];\n",
       "    }\n",
       "\n",
       "    if (server_id !== undefined) {\n",
       "      // Clean up Bokeh references\n",
       "      var cmd = \"from bokeh.io.state import curstate; print(curstate().uuid_to_server['\" + server_id + \"'].get_sessions()[0].document.roots[0]._id)\";\n",
       "      cell.notebook.kernel.execute(cmd, {\n",
       "        iopub: {\n",
       "          output: function(msg) {\n",
       "            var id = msg.content.text.trim();\n",
       "            if (id in Bokeh.index) {\n",
       "              Bokeh.index[id].model.document.clear();\n",
       "              delete Bokeh.index[id];\n",
       "            }\n",
       "          }\n",
       "        }\n",
       "      });\n",
       "      // Destroy server and session\n",
       "      var cmd = \"import bokeh.io.notebook as ion; ion.destroy_server('\" + server_id + \"')\";\n",
       "      cell.notebook.kernel.execute(cmd);\n",
       "    }\n",
       "  }\n",
       "\n",
       "  /**\n",
       "   * Handle when a new output is added\n",
       "   */\n",
       "  function handleAddOutput(event, handle) {\n",
       "    var output_area = handle.output_area;\n",
       "    var output = handle.output;\n",
       "\n",
       "    // limit handleAddOutput to display_data with EXEC_MIME_TYPE content only\n",
       "    if ((output.output_type != \"display_data\") || (!Object.prototype.hasOwnProperty.call(output.data, EXEC_MIME_TYPE))) {\n",
       "      return\n",
       "    }\n",
       "\n",
       "    var toinsert = output_area.element.find(\".\" + CLASS_NAME.split(' ')[0]);\n",
       "\n",
       "    if (output.metadata[EXEC_MIME_TYPE][\"id\"] !== undefined) {\n",
       "      toinsert[toinsert.length - 1].firstChild.textContent = output.data[JS_MIME_TYPE];\n",
       "      // store reference to embed id on output_area\n",
       "      output_area._bokeh_element_id = output.metadata[EXEC_MIME_TYPE][\"id\"];\n",
       "    }\n",
       "    if (output.metadata[EXEC_MIME_TYPE][\"server_id\"] !== undefined) {\n",
       "      var bk_div = document.createElement(\"div\");\n",
       "      bk_div.innerHTML = output.data[HTML_MIME_TYPE];\n",
       "      var script_attrs = bk_div.children[0].attributes;\n",
       "      for (var i = 0; i < script_attrs.length; i++) {\n",
       "        toinsert[toinsert.length - 1].firstChild.setAttribute(script_attrs[i].name, script_attrs[i].value);\n",
       "        toinsert[toinsert.length - 1].firstChild.textContent = bk_div.children[0].textContent\n",
       "      }\n",
       "      // store reference to server id on output_area\n",
       "      output_area._bokeh_server_id = output.metadata[EXEC_MIME_TYPE][\"server_id\"];\n",
       "    }\n",
       "  }\n",
       "\n",
       "  function register_renderer(events, OutputArea) {\n",
       "\n",
       "    function append_mime(data, metadata, element) {\n",
       "      // create a DOM node to render to\n",
       "      var toinsert = this.create_output_subarea(\n",
       "        metadata,\n",
       "        CLASS_NAME,\n",
       "        EXEC_MIME_TYPE\n",
       "      );\n",
       "      this.keyboard_manager.register_events(toinsert);\n",
       "      // Render to node\n",
       "      var props = {data: data, metadata: metadata[EXEC_MIME_TYPE]};\n",
       "      render(props, toinsert[toinsert.length - 1]);\n",
       "      element.append(toinsert);\n",
       "      return toinsert\n",
       "    }\n",
       "\n",
       "    /* Handle when an output is cleared or removed */\n",
       "    events.on('clear_output.CodeCell', handleClearOutput);\n",
       "    events.on('delete.Cell', handleClearOutput);\n",
       "\n",
       "    /* Handle when a new output is added */\n",
       "    events.on('output_added.OutputArea', handleAddOutput);\n",
       "\n",
       "    /**\n",
       "     * Register the mime type and append_mime function with output_area\n",
       "     */\n",
       "    OutputArea.prototype.register_mime_type(EXEC_MIME_TYPE, append_mime, {\n",
       "      /* Is output safe? */\n",
       "      safe: true,\n",
       "      /* Index of renderer in `output_area.display_order` */\n",
       "      index: 0\n",
       "    });\n",
       "  }\n",
       "\n",
       "  // register the mime type if in Jupyter Notebook environment and previously unregistered\n",
       "  if (root.Jupyter !== undefined) {\n",
       "    var events = require('base/js/events');\n",
       "    var OutputArea = require('notebook/js/outputarea').OutputArea;\n",
       "\n",
       "    if (OutputArea.prototype.mime_types().indexOf(EXEC_MIME_TYPE) == -1) {\n",
       "      register_renderer(events, OutputArea);\n",
       "    }\n",
       "  }\n",
       "\n",
       "  \n",
       "  if (typeof (root._bokeh_timeout) === \"undefined\" || force === true) {\n",
       "    root._bokeh_timeout = Date.now() + 5000;\n",
       "    root._bokeh_failed_load = false;\n",
       "  }\n",
       "\n",
       "  var NB_LOAD_WARNING = {'data': {'text/html':\n",
       "     \"<div style='background-color: #fdd'>\\n\"+\n",
       "     \"<p>\\n\"+\n",
       "     \"BokehJS does not appear to have successfully loaded. If loading BokehJS from CDN, this \\n\"+\n",
       "     \"may be due to a slow or bad network connection. Possible fixes:\\n\"+\n",
       "     \"</p>\\n\"+\n",
       "     \"<ul>\\n\"+\n",
       "     \"<li>re-rerun `output_notebook()` to attempt to load from CDN again, or</li>\\n\"+\n",
       "     \"<li>use INLINE resources instead, as so:</li>\\n\"+\n",
       "     \"</ul>\\n\"+\n",
       "     \"<code>\\n\"+\n",
       "     \"from bokeh.resources import INLINE\\n\"+\n",
       "     \"output_notebook(resources=INLINE)\\n\"+\n",
       "     \"</code>\\n\"+\n",
       "     \"</div>\"}};\n",
       "\n",
       "  function display_loaded() {\n",
       "    var el = document.getElementById(\"1002\");\n",
       "    if (el != null) {\n",
       "      el.textContent = \"BokehJS is loading...\";\n",
       "    }\n",
       "    if (root.Bokeh !== undefined) {\n",
       "      if (el != null) {\n",
       "        el.textContent = \"BokehJS \" + root.Bokeh.version + \" successfully loaded.\";\n",
       "      }\n",
       "    } else if (Date.now() < root._bokeh_timeout) {\n",
       "      setTimeout(display_loaded, 100)\n",
       "    }\n",
       "  }\n",
       "\n",
       "\n",
       "  function run_callbacks() {\n",
       "    try {\n",
       "      root._bokeh_onload_callbacks.forEach(function(callback) {\n",
       "        if (callback != null)\n",
       "          callback();\n",
       "      });\n",
       "    } finally {\n",
       "      delete root._bokeh_onload_callbacks\n",
       "    }\n",
       "    console.debug(\"Bokeh: all callbacks have finished\");\n",
       "  }\n",
       "\n",
       "  function load_libs(css_urls, js_urls, callback) {\n",
       "    if (css_urls == null) css_urls = [];\n",
       "    if (js_urls == null) js_urls = [];\n",
       "\n",
       "    root._bokeh_onload_callbacks.push(callback);\n",
       "    if (root._bokeh_is_loading > 0) {\n",
       "      console.debug(\"Bokeh: BokehJS is being loaded, scheduling callback at\", now());\n",
       "      return null;\n",
       "    }\n",
       "    if (js_urls == null || js_urls.length === 0) {\n",
       "      run_callbacks();\n",
       "      return null;\n",
       "    }\n",
       "    console.debug(\"Bokeh: BokehJS not loaded, scheduling load and callback at\", now());\n",
       "    root._bokeh_is_loading = css_urls.length + js_urls.length;\n",
       "\n",
       "    function on_load() {\n",
       "      root._bokeh_is_loading--;\n",
       "      if (root._bokeh_is_loading === 0) {\n",
       "        console.debug(\"Bokeh: all BokehJS libraries/stylesheets loaded\");\n",
       "        run_callbacks()\n",
       "      }\n",
       "    }\n",
       "\n",
       "    function on_error(url) {\n",
       "      console.error(\"failed to load \" + url);\n",
       "    }\n",
       "\n",
       "    for (let i = 0; i < css_urls.length; i++) {\n",
       "      const url = css_urls[i];\n",
       "      const element = document.createElement(\"link\");\n",
       "      element.onload = on_load;\n",
       "      element.onerror = on_error.bind(null, url);\n",
       "      element.rel = \"stylesheet\";\n",
       "      element.type = \"text/css\";\n",
       "      element.href = url;\n",
       "      console.debug(\"Bokeh: injecting link tag for BokehJS stylesheet: \", url);\n",
       "      document.body.appendChild(element);\n",
       "    }\n",
       "\n",
       "    const hashes = {\"https://cdn.bokeh.org/bokeh/release/bokeh-2.3.3.min.js\": \"dM3QQsP+wXdHg42wTqW85BjZQdLNNIXqlPw/BgKoExPmTG7ZLML4EGqLMfqHT6ON\", \"https://cdn.bokeh.org/bokeh/release/bokeh-tables-2.3.3.min.js\": \"8x57I4YuIfu8XyZfFo0XVr2WAT8EK4rh/uDe3wF7YuW2FNUSNEpJbsPaB1nJ2fz2\", \"https://cdn.bokeh.org/bokeh/release/bokeh-widgets-2.3.3.min.js\": \"3QTqdz9LyAm2i0sG5XTePsHec3UHWwVsrOL68SYRoAXsafvfAyqtQ+h440+qIBhS\"};\n",
       "\n",
       "    for (let i = 0; i < js_urls.length; i++) {\n",
       "      const url = js_urls[i];\n",
       "      const element = document.createElement('script');\n",
       "      element.onload = on_load;\n",
       "      element.onerror = on_error.bind(null, url);\n",
       "      element.async = false;\n",
       "      element.src = url;\n",
       "      if (url in hashes) {\n",
       "        element.crossOrigin = \"anonymous\";\n",
       "        element.integrity = \"sha384-\" + hashes[url];\n",
       "      }\n",
       "      console.debug(\"Bokeh: injecting script tag for BokehJS library: \", url);\n",
       "      document.head.appendChild(element);\n",
       "    }\n",
       "  };\n",
       "\n",
       "  function inject_raw_css(css) {\n",
       "    const element = document.createElement(\"style\");\n",
       "    element.appendChild(document.createTextNode(css));\n",
       "    document.body.appendChild(element);\n",
       "  }\n",
       "\n",
       "  \n",
       "  var js_urls = [\"https://cdn.bokeh.org/bokeh/release/bokeh-2.3.3.min.js\", \"https://cdn.bokeh.org/bokeh/release/bokeh-widgets-2.3.3.min.js\", \"https://cdn.bokeh.org/bokeh/release/bokeh-tables-2.3.3.min.js\"];\n",
       "  var css_urls = [];\n",
       "  \n",
       "\n",
       "  var inline_js = [\n",
       "    function(Bokeh) {\n",
       "      Bokeh.set_log_level(\"info\");\n",
       "    },\n",
       "    function(Bokeh) {\n",
       "    \n",
       "    \n",
       "    }\n",
       "  ];\n",
       "\n",
       "  function run_inline_js() {\n",
       "    \n",
       "    if (root.Bokeh !== undefined || force === true) {\n",
       "      \n",
       "    for (var i = 0; i < inline_js.length; i++) {\n",
       "      inline_js[i].call(root, root.Bokeh);\n",
       "    }\n",
       "    if (force === true) {\n",
       "        display_loaded();\n",
       "      }} else if (Date.now() < root._bokeh_timeout) {\n",
       "      setTimeout(run_inline_js, 100);\n",
       "    } else if (!root._bokeh_failed_load) {\n",
       "      console.log(\"Bokeh: BokehJS failed to load within specified timeout.\");\n",
       "      root._bokeh_failed_load = true;\n",
       "    } else if (force !== true) {\n",
       "      var cell = $(document.getElementById(\"1002\")).parents('.cell').data().cell;\n",
       "      cell.output_area.append_execute_result(NB_LOAD_WARNING)\n",
       "    }\n",
       "\n",
       "  }\n",
       "\n",
       "  if (root._bokeh_is_loading === 0) {\n",
       "    console.debug(\"Bokeh: BokehJS loaded, going straight to plotting\");\n",
       "    run_inline_js();\n",
       "  } else {\n",
       "    load_libs(css_urls, js_urls, function() {\n",
       "      console.debug(\"Bokeh: BokehJS plotting callback run at\", now());\n",
       "      run_inline_js();\n",
       "    });\n",
       "  }\n",
       "}(window));"
      ],
      "application/vnd.bokehjs_load.v0+json": "\n(function(root) {\n  function now() {\n    return new Date();\n  }\n\n  var force = true;\n\n  if (typeof root._bokeh_onload_callbacks === \"undefined\" || force === true) {\n    root._bokeh_onload_callbacks = [];\n    root._bokeh_is_loading = undefined;\n  }\n\n  \n\n  \n  if (typeof (root._bokeh_timeout) === \"undefined\" || force === true) {\n    root._bokeh_timeout = Date.now() + 5000;\n    root._bokeh_failed_load = false;\n  }\n\n  var NB_LOAD_WARNING = {'data': {'text/html':\n     \"<div style='background-color: #fdd'>\\n\"+\n     \"<p>\\n\"+\n     \"BokehJS does not appear to have successfully loaded. If loading BokehJS from CDN, this \\n\"+\n     \"may be due to a slow or bad network connection. Possible fixes:\\n\"+\n     \"</p>\\n\"+\n     \"<ul>\\n\"+\n     \"<li>re-rerun `output_notebook()` to attempt to load from CDN again, or</li>\\n\"+\n     \"<li>use INLINE resources instead, as so:</li>\\n\"+\n     \"</ul>\\n\"+\n     \"<code>\\n\"+\n     \"from bokeh.resources import INLINE\\n\"+\n     \"output_notebook(resources=INLINE)\\n\"+\n     \"</code>\\n\"+\n     \"</div>\"}};\n\n  function display_loaded() {\n    var el = document.getElementById(\"1002\");\n    if (el != null) {\n      el.textContent = \"BokehJS is loading...\";\n    }\n    if (root.Bokeh !== undefined) {\n      if (el != null) {\n        el.textContent = \"BokehJS \" + root.Bokeh.version + \" successfully loaded.\";\n      }\n    } else if (Date.now() < root._bokeh_timeout) {\n      setTimeout(display_loaded, 100)\n    }\n  }\n\n\n  function run_callbacks() {\n    try {\n      root._bokeh_onload_callbacks.forEach(function(callback) {\n        if (callback != null)\n          callback();\n      });\n    } finally {\n      delete root._bokeh_onload_callbacks\n    }\n    console.debug(\"Bokeh: all callbacks have finished\");\n  }\n\n  function load_libs(css_urls, js_urls, callback) {\n    if (css_urls == null) css_urls = [];\n    if (js_urls == null) js_urls = [];\n\n    root._bokeh_onload_callbacks.push(callback);\n    if (root._bokeh_is_loading > 0) {\n      console.debug(\"Bokeh: BokehJS is being loaded, scheduling callback at\", now());\n      return null;\n    }\n    if (js_urls == null || js_urls.length === 0) {\n      run_callbacks();\n      return null;\n    }\n    console.debug(\"Bokeh: BokehJS not loaded, scheduling load and callback at\", now());\n    root._bokeh_is_loading = css_urls.length + js_urls.length;\n\n    function on_load() {\n      root._bokeh_is_loading--;\n      if (root._bokeh_is_loading === 0) {\n        console.debug(\"Bokeh: all BokehJS libraries/stylesheets loaded\");\n        run_callbacks()\n      }\n    }\n\n    function on_error(url) {\n      console.error(\"failed to load \" + url);\n    }\n\n    for (let i = 0; i < css_urls.length; i++) {\n      const url = css_urls[i];\n      const element = document.createElement(\"link\");\n      element.onload = on_load;\n      element.onerror = on_error.bind(null, url);\n      element.rel = \"stylesheet\";\n      element.type = \"text/css\";\n      element.href = url;\n      console.debug(\"Bokeh: injecting link tag for BokehJS stylesheet: \", url);\n      document.body.appendChild(element);\n    }\n\n    const hashes = {\"https://cdn.bokeh.org/bokeh/release/bokeh-2.3.3.min.js\": \"dM3QQsP+wXdHg42wTqW85BjZQdLNNIXqlPw/BgKoExPmTG7ZLML4EGqLMfqHT6ON\", \"https://cdn.bokeh.org/bokeh/release/bokeh-tables-2.3.3.min.js\": \"8x57I4YuIfu8XyZfFo0XVr2WAT8EK4rh/uDe3wF7YuW2FNUSNEpJbsPaB1nJ2fz2\", \"https://cdn.bokeh.org/bokeh/release/bokeh-widgets-2.3.3.min.js\": \"3QTqdz9LyAm2i0sG5XTePsHec3UHWwVsrOL68SYRoAXsafvfAyqtQ+h440+qIBhS\"};\n\n    for (let i = 0; i < js_urls.length; i++) {\n      const url = js_urls[i];\n      const element = document.createElement('script');\n      element.onload = on_load;\n      element.onerror = on_error.bind(null, url);\n      element.async = false;\n      element.src = url;\n      if (url in hashes) {\n        element.crossOrigin = \"anonymous\";\n        element.integrity = \"sha384-\" + hashes[url];\n      }\n      console.debug(\"Bokeh: injecting script tag for BokehJS library: \", url);\n      document.head.appendChild(element);\n    }\n  };\n\n  function inject_raw_css(css) {\n    const element = document.createElement(\"style\");\n    element.appendChild(document.createTextNode(css));\n    document.body.appendChild(element);\n  }\n\n  \n  var js_urls = [\"https://cdn.bokeh.org/bokeh/release/bokeh-2.3.3.min.js\", \"https://cdn.bokeh.org/bokeh/release/bokeh-widgets-2.3.3.min.js\", \"https://cdn.bokeh.org/bokeh/release/bokeh-tables-2.3.3.min.js\"];\n  var css_urls = [];\n  \n\n  var inline_js = [\n    function(Bokeh) {\n      Bokeh.set_log_level(\"info\");\n    },\n    function(Bokeh) {\n    \n    \n    }\n  ];\n\n  function run_inline_js() {\n    \n    if (root.Bokeh !== undefined || force === true) {\n      \n    for (var i = 0; i < inline_js.length; i++) {\n      inline_js[i].call(root, root.Bokeh);\n    }\n    if (force === true) {\n        display_loaded();\n      }} else if (Date.now() < root._bokeh_timeout) {\n      setTimeout(run_inline_js, 100);\n    } else if (!root._bokeh_failed_load) {\n      console.log(\"Bokeh: BokehJS failed to load within specified timeout.\");\n      root._bokeh_failed_load = true;\n    } else if (force !== true) {\n      var cell = $(document.getElementById(\"1002\")).parents('.cell').data().cell;\n      cell.output_area.append_execute_result(NB_LOAD_WARNING)\n    }\n\n  }\n\n  if (root._bokeh_is_loading === 0) {\n    console.debug(\"Bokeh: BokehJS loaded, going straight to plotting\");\n    run_inline_js();\n  } else {\n    load_libs(css_urls, js_urls, function() {\n      console.debug(\"Bokeh: BokehJS plotting callback run at\", now());\n      run_inline_js();\n    });\n  }\n}(window));"
     },
     "metadata": {},
     "output_type": "display_data"
    }
   ],
   "source": [
    "import numpy as np\n",
    "import pandas as pd\n",
    "\n",
    "#picaso\n",
    "from picaso import justdoit as jdi \n",
    "from picaso import justplotit as jpi\n",
    "\n",
    "#plotting\n",
    "jpi.output_notebook()\n"
   ]
  },
  {
   "cell_type": "markdown",
   "metadata": {},
   "source": [
    "We will use new Hot Jupiter template to guide us through the exercise. "
   ]
  },
  {
   "cell_type": "code",
   "execution_count": 2,
   "metadata": {},
   "outputs": [],
   "source": [
    "opa = jdi.opannection(wave_range=[0.6,5])\n",
    "\n",
    "case1 = jdi.inputs()\n",
    "\n",
    "case1.phase_angle(0) \n",
    "\n",
    "\n",
    "#here we are going to have to specify gravity through R and M since we need it in the Flux calc\n",
    "case1.gravity(mass=1, mass_unit=jdi.u.Unit('M_jup'), \n",
    "              radius=1.2, radius_unit=jdi.u.Unit('R_jup'))\n",
    "\n",
    "#here we are going to have to specify R as well\n",
    "case1.star(opa, 4000,0.0122,4.437,radius=0.7, radius_unit = jdi.u.Unit('R_sun') )\n",
    "\n",
    "#atmo\n",
    "case1.atmosphere(filename = jdi.HJ_pt(), delim_whitespace=True)"
   ]
  },
  {
   "cell_type": "markdown",
   "metadata": {},
   "source": [
    "## Reference Pressure \n",
    "\n",
    "The reference pressure sets the level of your radius. It is needed to compute the altitude and altitude-dependent gravity. PICASO default is 1 bar but for gas giant calculations its more common to use 10 bar. This is easy to swap. If you are running terrestrial planet models you want your reference pressure to be the highest pressure in your user-specified grid. "
   ]
  },
  {
   "cell_type": "code",
   "execution_count": 3,
   "metadata": {},
   "outputs": [],
   "source": [
    "case1.approx(p_reference=10)"
   ]
  },
  {
   "cell_type": "markdown",
   "metadata": {},
   "source": [
    "## Return ``PICASO`` Full Ouput"
   ]
  },
  {
   "cell_type": "code",
   "execution_count": 4,
   "metadata": {},
   "outputs": [
    {
     "name": "stderr",
     "output_type": "stream",
     "text": [
      "/Users/nbatalh1/Documents/codes/PICASO/picaso/picaso/atmsetup.py:190: UserWarning: Ignoring x in input file, not a recognized molecule\n",
      "  warnings.warn(\"Ignoring %s in input file, not a recognized molecule\" % i, UserWarning)\n",
      "/Users/nbatalh1/Documents/codes/PICASO/picaso/picaso/atmsetup.py:190: UserWarning: Ignoring KZZ in input file, not a recognized molecule\n",
      "  warnings.warn(\"Ignoring %s in input file, not a recognized molecule\" % i, UserWarning)\n"
     ]
    }
   ],
   "source": [
    "df= case1.spectrum(opa, full_output=True,calculation='transmission') #note the new last key \n",
    "\n",
    "wno, rprs2  = df['wavenumber'] , df['transit_depth']\n",
    "wno, rprs2 = jdi.mean_regrid(wno, rprs2, R=150)\n",
    "full_output = df['full_output']\n"
   ]
  },
  {
   "cell_type": "markdown",
   "metadata": {},
   "source": [
    "Here we are getting a few error messages that our example `HJ_cld` had some unrecognized molecules. Looking them over, this looks okay! `x` is not a molecule, and neither is `Kzz`. The code has accurately identified non-molecules in our input."
   ]
  },
  {
   "cell_type": "markdown",
   "metadata": {},
   "source": [
    "## Analyzing Transit Spectroscopy Output\n"
   ]
  },
  {
   "cell_type": "markdown",
   "metadata": {},
   "source": [
    "### Can use the same plotting functionality as reflected light\n"
   ]
  },
  {
   "cell_type": "code",
   "execution_count": 5,
   "metadata": {},
   "outputs": [
    {
     "data": {
      "text/html": [
       "\n",
       "\n",
       "\n",
       "\n",
       "\n",
       "\n",
       "  <div class=\"bk-root\" id=\"5c0fb39e-aec0-4ba8-b9ac-fe4db766b42c\" data-root-id=\"1003\"></div>\n"
      ]
     },
     "metadata": {},
     "output_type": "display_data"
    },
    {
     "data": {
      "application/javascript": [
       "(function(root) {\n",
       "  function embed_document(root) {\n",
       "    \n",
       "  var docs_json = {\"0c3debf0-78a3-40c2-aeca-b87f95004777\":{\"defs\":[],\"roots\":{\"references\":[{\"attributes\":{\"below\":[{\"id\":\"1014\"}],\"center\":[{\"id\":\"1017\"},{\"id\":\"1021\"}],\"height\":300,\"left\":[{\"id\":\"1018\"}],\"renderers\":[{\"id\":\"1039\"}],\"title\":{\"id\":\"1004\"},\"toolbar\":{\"id\":\"1029\"},\"width\":500,\"x_range\":{\"id\":\"1006\"},\"x_scale\":{\"id\":\"1010\"},\"y_range\":{\"id\":\"1008\"},\"y_scale\":{\"id\":\"1012\"}},\"id\":\"1003\",\"subtype\":\"Figure\",\"type\":\"Plot\"},{\"attributes\":{\"active_multi\":null,\"tools\":[{\"id\":\"1022\"},{\"id\":\"1023\"},{\"id\":\"1024\"},{\"id\":\"1025\"},{\"id\":\"1026\"},{\"id\":\"1027\"}]},\"id\":\"1029\",\"type\":\"Toolbar\"},{\"attributes\":{},\"id\":\"1026\",\"type\":\"ResetTool\"},{\"attributes\":{},\"id\":\"1027\",\"type\":\"HelpTool\"},{\"attributes\":{\"num_minor_ticks\":10},\"id\":\"1019\",\"type\":\"LogTicker\"},{\"attributes\":{},\"id\":\"1025\",\"type\":\"SaveTool\"},{\"attributes\":{},\"id\":\"1047\",\"type\":\"AllLabels\"},{\"attributes\":{\"source\":{\"id\":\"1036\"}},\"id\":\"1040\",\"type\":\"CDSView\"},{\"attributes\":{\"line_color\":\"#1f77b4\",\"line_width\":3,\"x\":{\"field\":\"x\"},\"y\":{\"field\":\"y\"}},\"id\":\"1037\",\"type\":\"Line\"},{\"attributes\":{},\"id\":\"1010\",\"type\":\"LinearScale\"},{\"attributes\":{},\"id\":\"1006\",\"type\":\"DataRange1d\"},{\"attributes\":{\"line_alpha\":0.1,\"line_color\":\"#1f77b4\",\"line_width\":3,\"x\":{\"field\":\"x\"},\"y\":{\"field\":\"y\"}},\"id\":\"1038\",\"type\":\"Line\"},{\"attributes\":{},\"id\":\"1050\",\"type\":\"Selection\"},{\"attributes\":{},\"id\":\"1049\",\"type\":\"UnionRenderers\"},{\"attributes\":{\"overlay\":{\"id\":\"1028\"}},\"id\":\"1024\",\"type\":\"BoxZoomTool\"},{\"attributes\":{},\"id\":\"1023\",\"type\":\"WheelZoomTool\"},{\"attributes\":{\"text\":\"Pressure-Temperature Profile\"},\"id\":\"1004\",\"type\":\"Title\"},{\"attributes\":{},\"id\":\"1015\",\"type\":\"BasicTicker\"},{\"attributes\":{},\"id\":\"1022\",\"type\":\"PanTool\"},{\"attributes\":{},\"id\":\"1044\",\"type\":\"AllLabels\"},{\"attributes\":{\"data_source\":{\"id\":\"1036\"},\"glyph\":{\"id\":\"1037\"},\"hover_glyph\":null,\"muted_glyph\":null,\"nonselection_glyph\":{\"id\":\"1038\"},\"view\":{\"id\":\"1040\"}},\"id\":\"1039\",\"type\":\"GlyphRenderer\"},{\"attributes\":{\"ticker\":null},\"id\":\"1042\",\"type\":\"LogTickFormatter\"},{\"attributes\":{\"end\":2.8740886833916594e-06,\"start\":143.41877701333254},\"id\":\"1008\",\"type\":\"Range1d\"},{\"attributes\":{},\"id\":\"1012\",\"type\":\"LogScale\"},{\"attributes\":{\"axis\":{\"id\":\"1014\"},\"ticker\":null},\"id\":\"1017\",\"type\":\"Grid\"},{\"attributes\":{\"axis_label\":\"Pressure(Bars)\",\"axis_label_text_font\":\"times\",\"axis_label_text_font_size\":\"14pt\",\"axis_label_text_font_style\":\"bold\",\"formatter\":{\"id\":\"1042\"},\"major_label_policy\":{\"id\":\"1044\"},\"major_label_text_font\":\"times\",\"major_label_text_font_size\":\"14pt\",\"ticker\":{\"id\":\"1019\"}},\"id\":\"1018\",\"type\":\"LogAxis\"},{\"attributes\":{\"axis_label\":\"Temperature (K)\",\"axis_label_text_font\":\"times\",\"axis_label_text_font_size\":\"14pt\",\"axis_label_text_font_style\":\"bold\",\"formatter\":{\"id\":\"1045\"},\"major_label_policy\":{\"id\":\"1047\"},\"major_label_text_font\":\"times\",\"major_label_text_font_size\":\"14pt\",\"ticker\":{\"id\":\"1015\"}},\"id\":\"1014\",\"type\":\"LinearAxis\"},{\"attributes\":{\"bottom_units\":\"screen\",\"fill_alpha\":0.5,\"fill_color\":\"lightgrey\",\"left_units\":\"screen\",\"level\":\"overlay\",\"line_alpha\":1.0,\"line_color\":\"black\",\"line_dash\":[4,4],\"line_width\":2,\"right_units\":\"screen\",\"syncable\":false,\"top_units\":\"screen\"},\"id\":\"1028\",\"type\":\"BoxAnnotation\"},{\"attributes\":{\"data\":{\"x\":{\"__ndarray__\":\"NDMzMzN9iEC4HoXrUYuIQLgehetR2IhA4noUrkdEiUBI4XoUrsOJQNijcD0KRopANDMzMzPAikCQwvUoXCyLQAAAAAAAjotAAAAAAADvi0BmZmZmZlqMQHA9Ctej1YxAuB6F61FcjUAAAAAAAOONQFyPwvUoYI5A7FG4HoXPjkAzMzMzMy6PQGZmZmZmeo9ANDMzMzO4j0AAAAAAAPuPQML1KFyPLZBAXI/C9ahvkEAAAAAAgMCQQArXo3C9FZFAMzMzM7NmkUBwPQrXI7yRQB6F61G4JpJAMzMzM7OskkCF61G4nkiTQFyPwvWo8pNAAAAAAACllEAAAAAAAF2VQJqZmZkZGZZArkfhehTKlkBSuB6Fa2SXQAAAAACA7JdAj8L1KFxomEAK16NwPfGYQClcj8J1kplAuB6F69ExmkD2KFyPwr+aQDQzMzMzMptANDMzM7Okm0AUrkfheh2cQEjhehQud5xAXI/C9SimnEBSuB6Fa62cQKRwPQpXnZxA4XoUrkeEnEAzMzMzM2icQPYoXI9CTpxAzczMzMzznEA=\",\"dtype\":\"float64\",\"order\":\"little\",\"shape\":[52]},\"y\":{\"__ndarray__\":\"ZGuc9g4cyD5MxgdroxDRPg8Nq7E8KNg+PCi+azQZ4T64eH4SWjToPuEOwIbcIfE+Z0fnlcBA+D6YH2gliioBP9Sc7oPpTAg/Ql+zwzEzET+gljJTNVkYP2ZxYprjOyE/47vwko9lKD9bxrDhpkQxP5nUeP7hcTg/6iw3XFRNQT/T3tKpMH5IP1i/ozP/VVE/evcom4SKWD8yIkZ06F5hP/kHy8MMl2g/VofDFqNncT9hz+FLcKN4P3x0YW1acIE/X2vP28OviD9AhYSHRHmRP+ZaGzRwvJg/0yEEaB6CoT8CT0GG5sioP5UwcU3uirE/dGARDHnVuD8xiMFP55PBP9O3eEIG4sg/eGGlN7Kc0T9Ee1jImO7YP5XsWeOepeE/zbO0Jyb76D/JJeF0ba7xP1g6g2OjB/k/gxc9vHK3AUCvTMbddhQJQMNuAnVuwBFAzIQ6IyAhGUAKvmxdV8khQAlOitTELSlAXZNjGl7SMUD/kmg0gzo5QCwuSfFg20FAlZRAlEFHSUBXVyzIY+RRQEBcEvT/U1lAjhINn2btYUA=\",\"dtype\":\"float64\",\"order\":\"little\",\"shape\":[52]}},\"selected\":{\"id\":\"1050\"},\"selection_policy\":{\"id\":\"1049\"}},\"id\":\"1036\",\"type\":\"ColumnDataSource\"},{\"attributes\":{\"axis\":{\"id\":\"1018\"},\"dimension\":1,\"ticker\":null},\"id\":\"1021\",\"type\":\"Grid\"},{\"attributes\":{},\"id\":\"1045\",\"type\":\"BasicTickFormatter\"}],\"root_ids\":[\"1003\"]},\"title\":\"Bokeh Application\",\"version\":\"2.3.3\"}};\n",
       "  var render_items = [{\"docid\":\"0c3debf0-78a3-40c2-aeca-b87f95004777\",\"root_ids\":[\"1003\"],\"roots\":{\"1003\":\"5c0fb39e-aec0-4ba8-b9ac-fe4db766b42c\"}}];\n",
       "  root.Bokeh.embed.embed_items_notebook(docs_json, render_items);\n",
       "\n",
       "  }\n",
       "  if (root.Bokeh !== undefined) {\n",
       "    embed_document(root);\n",
       "  } else {\n",
       "    var attempts = 0;\n",
       "    var timer = setInterval(function(root) {\n",
       "      if (root.Bokeh !== undefined) {\n",
       "        clearInterval(timer);\n",
       "        embed_document(root);\n",
       "      } else {\n",
       "        attempts++;\n",
       "        if (attempts > 100) {\n",
       "          clearInterval(timer);\n",
       "          console.log(\"Bokeh: ERROR: Unable to run BokehJS code because BokehJS library is missing\");\n",
       "        }\n",
       "      }\n",
       "    }, 10, root)\n",
       "  }\n",
       "})(window);"
      ],
      "application/vnd.bokehjs_exec.v0+json": ""
     },
     "metadata": {
      "application/vnd.bokehjs_exec.v0+json": {
       "id": "1003"
      }
     },
     "output_type": "display_data"
    },
    {
     "data": {
      "text/html": [
       "\n",
       "\n",
       "\n",
       "\n",
       "\n",
       "\n",
       "  <div class=\"bk-root\" id=\"1f0f7d10-27f1-44e7-af31-9702aff2e0df\" data-root-id=\"1101\"></div>\n"
      ]
     },
     "metadata": {},
     "output_type": "display_data"
    },
    {
     "data": {
      "application/javascript": [
       "(function(root) {\n",
       "  function embed_document(root) {\n",
       "    \n",
       "  var docs_json = {\"5c65cd2c-7d1b-4da0-b92f-3609996c6e34\":{\"defs\":[],\"roots\":{\"references\":[{\"attributes\":{\"below\":[{\"id\":\"1112\"}],\"center\":[{\"id\":\"1115\"},{\"id\":\"1119\"}],\"height\":300,\"left\":[{\"id\":\"1116\"},{\"id\":\"1242\"}],\"renderers\":[{\"id\":\"1138\"},{\"id\":\"1144\"},{\"id\":\"1150\"},{\"id\":\"1156\"},{\"id\":\"1162\"},{\"id\":\"1168\"},{\"id\":\"1174\"},{\"id\":\"1180\"},{\"id\":\"1186\"},{\"id\":\"1192\"},{\"id\":\"1198\"},{\"id\":\"1204\"},{\"id\":\"1210\"},{\"id\":\"1216\"},{\"id\":\"1222\"},{\"id\":\"1228\"},{\"id\":\"1234\"},{\"id\":\"1240\"}],\"title\":{\"id\":\"1102\"},\"toolbar\":{\"id\":\"1127\"},\"width\":500,\"x_range\":{\"id\":\"1104\"},\"x_scale\":{\"id\":\"1108\"},\"y_range\":{\"id\":\"1106\"},\"y_scale\":{\"id\":\"1110\"}},\"id\":\"1101\",\"subtype\":\"Figure\",\"type\":\"Plot\"},{\"attributes\":{\"data_source\":{\"id\":\"1218\"},\"glyph\":{\"id\":\"1219\"},\"hover_glyph\":null,\"muted_glyph\":{\"id\":\"1221\"},\"nonselection_glyph\":{\"id\":\"1220\"},\"view\":{\"id\":\"1223\"}},\"id\":\"1222\",\"type\":\"GlyphRenderer\"},{\"attributes\":{\"line_color\":\"#09071F\",\"line_width\":3,\"x\":{\"field\":\"x\"},\"y\":{\"field\":\"y\"}},\"id\":\"1141\",\"type\":\"Line\"},{\"attributes\":{\"source\":{\"id\":\"1140\"}},\"id\":\"1145\",\"type\":\"CDSView\"},{\"attributes\":{\"data\":{\"x\":{\"__ndarray__\":\"K/OYTNyy4TpG/9cXOMjcOlvtncdG9u06AdIV9tXrBjvd5fpFB+MjO0DncqxcK0A7yBDo6H4EVjtWn3kXydtoOzhORpIZtXg7mIZfIV83iDuyf3p+7f2ZO05b+AOJf687An53J94IxDuDWaIs2rrXO1EaJ3UxtOg7sCnRi/Mx9jsoGwYL6fIAPGYPv0fzDwY86r2XVcGHCTxivFeQBLIOPAQPbxaEWhc8Sc1BbIMFJzydkdU7S+w6POj20yzvqk48yz+I/leFXzwRxKx8eB1xPOF4GIN0Aog8wqJR3gqGpTze21aJoqLFPIDNBo/26OU8E1RTwhXxBD23S2jUPcYiPfWbHdlV9j492psyGitfVD0QywgA54NlPfj4jFxtMXM9criJBsiyfj3b0A4rLYWKPfYcHtdeBpk9OFVWosK8pT0rME/KMoywPZw9a69kKrU9nLxqsVsauz1Q+1rJHjzBPfajDDgAo8I9zh21WSmFwD3EtG+Wvmi4PQwv4qGuKbA9774+pOpcpD2YBw01CTmZPTlx+5SqW489fK8hw6aemz0=\",\"dtype\":\"float64\",\"order\":\"little\",\"shape\":[52]},\"y\":{\"__ndarray__\":\"ZGuc9g4cyD5MxgdroxDRPg8Nq7E8KNg+PCi+azQZ4T64eH4SWjToPuEOwIbcIfE+Z0fnlcBA+D6YH2gliioBP9Sc7oPpTAg/Ql+zwzEzET+gljJTNVkYP2ZxYprjOyE/47vwko9lKD9bxrDhpkQxP5nUeP7hcTg/6iw3XFRNQT/T3tKpMH5IP1i/ozP/VVE/evcom4SKWD8yIkZ06F5hP/kHy8MMl2g/VofDFqNncT9hz+FLcKN4P3x0YW1acIE/X2vP28OviD9AhYSHRHmRP+ZaGzRwvJg/0yEEaB6CoT8CT0GG5sioP5UwcU3uirE/dGARDHnVuD8xiMFP55PBP9O3eEIG4sg/eGGlN7Kc0T9Ee1jImO7YP5XsWeOepeE/zbO0Jyb76D/JJeF0ba7xP1g6g2OjB/k/gxc9vHK3AUCvTMbddhQJQMNuAnVuwBFAzIQ6IyAhGUAKvmxdV8khQAlOitTELSlAXZNjGl7SMUD/kmg0gzo5QCwuSfFg20FAlZRAlEFHSUBXVyzIY+RRQEBcEvT/U1lAjhINn2btYUA=\",\"dtype\":\"float64\",\"order\":\"little\",\"shape\":[52]}},\"selected\":{\"id\":\"1310\"},\"selection_policy\":{\"id\":\"1309\"}},\"id\":\"1224\",\"type\":\"ColumnDataSource\"},{\"attributes\":{},\"id\":\"1279\",\"type\":\"UnionRenderers\"},{\"attributes\":{},\"id\":\"1301\",\"type\":\"UnionRenderers\"},{\"attributes\":{\"line_alpha\":0.1,\"line_color\":\"#000003\",\"line_width\":3,\"x\":{\"field\":\"x\"},\"y\":{\"field\":\"y\"}},\"id\":\"1136\",\"type\":\"Line\"},{\"attributes\":{\"data\":{\"x\":{\"__ndarray__\":\"GQRWDi2y6T8ZBFYOLbLpPxkEVg4tsuk/GQRWDi2y6T+uR+F6FK7pP0SLbOf7qek/RIts5/up6T9Ei2zn+6npP0SLbOf7qek/RIts5/up6T9Ei2zn+6npP0SLbOf7qek/RIts5/up6T9Ei2zn+6npP0SLbOf7qek/RIts5/up6T9Ei2zn+6npP0SLbOf7qek/RIts5/up6T9Ei2zn+6npP0SLbOf7qek/RIts5/up6T/azvdT46XpP28Sg8DKoek/bxKDwMqh6T9vEoPAyqHpP28Sg8DKoek/bxKDwMqh6T9vEoPAyqHpP28Sg8DKoek/bxKDwMqh6T9vEoPAyqHpP28Sg8DKoek/bxKDwMqh6T9vEoPAyqHpP28Sg8DKoek/bxKDwMqh6T9vEoPAyqHpP28Sg8DKoek/bxKDwMqh6T9vEoPAyqHpP28Sg8DKoek/bxKDwMqh6T9vEoPAyqHpP28Sg8DKoek/bxKDwMqh6T9vEoPAyqHpPwRWDi2ynek/mpmZmZmZ6T8w3SQGgZXpP1pkO99Pjek/hutRuB6F6T8=\",\"dtype\":\"float64\",\"order\":\"little\",\"shape\":[52]},\"y\":{\"__ndarray__\":\"ZGuc9g4cyD5MxgdroxDRPg8Nq7E8KNg+PCi+azQZ4T64eH4SWjToPuEOwIbcIfE+Z0fnlcBA+D6YH2gliioBP9Sc7oPpTAg/Ql+zwzEzET+gljJTNVkYP2ZxYprjOyE/47vwko9lKD9bxrDhpkQxP5nUeP7hcTg/6iw3XFRNQT/T3tKpMH5IP1i/ozP/VVE/evcom4SKWD8yIkZ06F5hP/kHy8MMl2g/VofDFqNncT9hz+FLcKN4P3x0YW1acIE/X2vP28OviD9AhYSHRHmRP+ZaGzRwvJg/0yEEaB6CoT8CT0GG5sioP5UwcU3uirE/dGARDHnVuD8xiMFP55PBP9O3eEIG4sg/eGGlN7Kc0T9Ee1jImO7YP5XsWeOepeE/zbO0Jyb76D/JJeF0ba7xP1g6g2OjB/k/gxc9vHK3AUCvTMbddhQJQMNuAnVuwBFAzIQ6IyAhGUAKvmxdV8khQAlOitTELSlAXZNjGl7SMUD/kmg0gzo5QCwuSfFg20FAlZRAlEFHSUBXVyzIY+RRQEBcEvT/U1lAjhINn2btYUA=\",\"dtype\":\"float64\",\"order\":\"little\",\"shape\":[52]}},\"selected\":{\"id\":\"1280\"},\"selection_policy\":{\"id\":\"1279\"}},\"id\":\"1134\",\"type\":\"ColumnDataSource\"},{\"attributes\":{\"line_alpha\":0.1,\"line_color\":\"#09071F\",\"line_width\":3,\"x\":{\"field\":\"x\"},\"y\":{\"field\":\"y\"}},\"id\":\"1142\",\"type\":\"Line\"},{\"attributes\":{\"data\":{\"x\":{\"__ndarray__\":\"vvlRtNVJhTnTtVqFOLGCOWgNCZjUaJ05IoYPQwJ2wzn6AGT3i3/tOaDC6/5LSBQ6buDYMD2rNTpK/4sgXOpROu9fJ8+xTWk6CDnOA4fAgTqHXlsq1oicOuI76DyoALs6/7QDio8K2zocYdeAdUb4OtWIoSDYNBI7Prl5cUhXJjv2L79fkx82O2USdOA3rkE7UbISQLMtSDuk/+5Isb1ROw3BLMokJmI77CHhiExLejsXEKw1VOCXO8jBP9GDYLQ76GVPMzFCzjsOSUe1o/DoO/rZuyk7jQ08FItwxLdNODzEHfd8cfFmPGsw3sgotJU8ydVgwPAFwzyG/wPDvIDuPKGYpJL+eRU9GXbp7jaTNT0B8CQZTB1QPUrP4HVg8mI9TuArDHFDcz0YSA20DUGGPZTXnB1G1Jw9cAsb6R9+sD3vyBluCVa/PTwNK1BhZMc9uaEy5/fd0T2pX/tVqJTaPfT3E1CSFOA9CA87t6JK3j3/ClH/WJ/WPU/5Wc0MHM09gmn3bFdmwT0aYMU/b3O0PdgnjXQLvac9SjIyKPGUvD0=\",\"dtype\":\"float64\",\"order\":\"little\",\"shape\":[52]},\"y\":{\"__ndarray__\":\"ZGuc9g4cyD5MxgdroxDRPg8Nq7E8KNg+PCi+azQZ4T64eH4SWjToPuEOwIbcIfE+Z0fnlcBA+D6YH2gliioBP9Sc7oPpTAg/Ql+zwzEzET+gljJTNVkYP2ZxYprjOyE/47vwko9lKD9bxrDhpkQxP5nUeP7hcTg/6iw3XFRNQT/T3tKpMH5IP1i/ozP/VVE/evcom4SKWD8yIkZ06F5hP/kHy8MMl2g/VofDFqNncT9hz+FLcKN4P3x0YW1acIE/X2vP28OviD9AhYSHRHmRP+ZaGzRwvJg/0yEEaB6CoT8CT0GG5sioP5UwcU3uirE/dGARDHnVuD8xiMFP55PBP9O3eEIG4sg/eGGlN7Kc0T9Ee1jImO7YP5XsWeOepeE/zbO0Jyb76D/JJeF0ba7xP1g6g2OjB/k/gxc9vHK3AUCvTMbddhQJQMNuAnVuwBFAzIQ6IyAhGUAKvmxdV8khQAlOitTELSlAXZNjGl7SMUD/kmg0gzo5QCwuSfFg20FAlZRAlEFHSUBXVyzIY+RRQEBcEvT/U1lAjhINn2btYUA=\",\"dtype\":\"float64\",\"order\":\"little\",\"shape\":[52]}},\"selected\":{\"id\":\"1308\"},\"selection_policy\":{\"id\":\"1307\"}},\"id\":\"1218\",\"type\":\"ColumnDataSource\"},{\"attributes\":{\"data\":{\"x\":{\"__ndarray__\":\"jImMp7/VCj4OL9wReAQIPk+yrYi3oQ4+HqlmYGnDFj7nDddm8B8iPls4l5jFYyw+bh8dQyLPND4459s4SzI8Pggi6vYxEkI+hCJI4GbZRj7HH2r2F/VNPiu6TlNmq1Q+ljl11600XT5Vb/pjtC9kPjA8Qou9d2o+nlNThZRVcD5wUsTl2eVyPrjPn/f8cHQ+VLfSKrwEdT4oJpP98ep1Pp7RO/WGC3k+opsH9OWsfz7n2QD66puFPvmZGmv2dY0+kYpDWZ9Ckz5czYG4h5GZPgUtGu4AqKI+UmICd9M/rj7OyeYFMwG6PlkDrSO7kMY+toXGl3lA0z6O8uVoAgPgPnBQsSCDy+k+9YJPc/Ii8z7Hrv4Z79j5PsnfYupTMwA//J03XzZLAz/jJlk9FpEHP4KIefsYGA4/ojiRqje0Ej/cEU4LXvQVP7JjIxCv6xc/DMPsCiL3GT8ElfHvMy4cP7psdM5PcRw/yrVX1YFiGj+O1UG5yJgWP8CxZ89lahI/Dr6LUp1pDT+ErSNYZlsHPzF1/LxOjwI/KEEk6NQ6Bj8=\",\"dtype\":\"float64\",\"order\":\"little\",\"shape\":[52]},\"y\":{\"__ndarray__\":\"ZGuc9g4cyD5MxgdroxDRPg8Nq7E8KNg+PCi+azQZ4T64eH4SWjToPuEOwIbcIfE+Z0fnlcBA+D6YH2gliioBP9Sc7oPpTAg/Ql+zwzEzET+gljJTNVkYP2ZxYprjOyE/47vwko9lKD9bxrDhpkQxP5nUeP7hcTg/6iw3XFRNQT/T3tKpMH5IP1i/ozP/VVE/evcom4SKWD8yIkZ06F5hP/kHy8MMl2g/VofDFqNncT9hz+FLcKN4P3x0YW1acIE/X2vP28OviD9AhYSHRHmRP+ZaGzRwvJg/0yEEaB6CoT8CT0GG5sioP5UwcU3uirE/dGARDHnVuD8xiMFP55PBP9O3eEIG4sg/eGGlN7Kc0T9Ee1jImO7YP5XsWeOepeE/zbO0Jyb76D/JJeF0ba7xP1g6g2OjB/k/gxc9vHK3AUCvTMbddhQJQMNuAnVuwBFAzIQ6IyAhGUAKvmxdV8khQAlOitTELSlAXZNjGl7SMUD/kmg0gzo5QCwuSfFg20FAlZRAlEFHSUBXVyzIY+RRQEBcEvT/U1lAjhINn2btYUA=\",\"dtype\":\"float64\",\"order\":\"little\",\"shape\":[52]}},\"selected\":{\"id\":\"1300\"},\"selection_policy\":{\"id\":\"1299\"}},\"id\":\"1194\",\"type\":\"ColumnDataSource\"},{\"attributes\":{\"data_source\":{\"id\":\"1170\"},\"glyph\":{\"id\":\"1171\"},\"hover_glyph\":null,\"muted_glyph\":{\"id\":\"1173\"},\"nonselection_glyph\":{\"id\":\"1172\"},\"view\":{\"id\":\"1175\"}},\"id\":\"1174\",\"type\":\"GlyphRenderer\"},{\"attributes\":{\"active_multi\":null,\"tools\":[{\"id\":\"1120\"},{\"id\":\"1121\"},{\"id\":\"1122\"},{\"id\":\"1123\"},{\"id\":\"1124\"},{\"id\":\"1125\"}]},\"id\":\"1127\",\"type\":\"Toolbar\"},{\"attributes\":{\"line_alpha\":0.2,\"line_color\":\"#FEAA74\",\"line_width\":3,\"x\":{\"field\":\"x\"},\"y\":{\"field\":\"y\"}},\"id\":\"1221\",\"type\":\"Line\"},{\"attributes\":{\"source\":{\"id\":\"1212\"}},\"id\":\"1217\",\"type\":\"CDSView\"},{\"attributes\":{},\"id\":\"1277\",\"type\":\"AllLabels\"},{\"attributes\":{},\"id\":\"1281\",\"type\":\"UnionRenderers\"},{\"attributes\":{},\"id\":\"1283\",\"type\":\"UnionRenderers\"},{\"attributes\":{\"line_alpha\":0.2,\"line_color\":\"#09071F\",\"line_width\":3,\"x\":{\"field\":\"x\"},\"y\":{\"field\":\"y\"}},\"id\":\"1143\",\"type\":\"Line\"},{\"attributes\":{\"ticker\":null},\"id\":\"1275\",\"type\":\"LogTickFormatter\"},{\"attributes\":{},\"id\":\"1280\",\"type\":\"Selection\"},{\"attributes\":{\"line_color\":\"#1A1041\",\"line_width\":3,\"x\":{\"field\":\"x\"},\"y\":{\"field\":\"y\"}},\"id\":\"1147\",\"type\":\"Line\"},{\"attributes\":{\"data_source\":{\"id\":\"1134\"},\"glyph\":{\"id\":\"1135\"},\"hover_glyph\":null,\"muted_glyph\":{\"id\":\"1137\"},\"nonselection_glyph\":{\"id\":\"1136\"},\"view\":{\"id\":\"1139\"}},\"id\":\"1138\",\"type\":\"GlyphRenderer\"},{\"attributes\":{\"source\":{\"id\":\"1218\"}},\"id\":\"1223\",\"type\":\"CDSView\"},{\"attributes\":{},\"id\":\"1286\",\"type\":\"Selection\"},{\"attributes\":{},\"id\":\"1291\",\"type\":\"UnionRenderers\"},{\"attributes\":{\"source\":{\"id\":\"1152\"}},\"id\":\"1157\",\"type\":\"CDSView\"},{\"attributes\":{\"line_alpha\":0.1,\"line_color\":\"#FC8E63\",\"line_width\":3,\"x\":{\"field\":\"x\"},\"y\":{\"field\":\"y\"}},\"id\":\"1214\",\"type\":\"Line\"},{\"attributes\":{},\"id\":\"1284\",\"type\":\"Selection\"},{\"attributes\":{\"line_color\":\"#FEAA74\",\"line_width\":3,\"x\":{\"field\":\"x\"},\"y\":{\"field\":\"y\"}},\"id\":\"1219\",\"type\":\"Line\"},{\"attributes\":{\"source\":{\"id\":\"1134\"}},\"id\":\"1139\",\"type\":\"CDSView\"},{\"attributes\":{\"line_alpha\":0.1,\"line_color\":\"#FEAA74\",\"line_width\":3,\"x\":{\"field\":\"x\"},\"y\":{\"field\":\"y\"}},\"id\":\"1220\",\"type\":\"Line\"},{\"attributes\":{\"line_alpha\":0.1,\"line_color\":\"#61187F\",\"line_width\":3,\"x\":{\"field\":\"x\"},\"y\":{\"field\":\"y\"}},\"id\":\"1166\",\"type\":\"Line\"},{\"attributes\":{\"line_alpha\":0.1,\"line_color\":\"#EC585F\",\"line_width\":3,\"x\":{\"field\":\"x\"},\"y\":{\"field\":\"y\"}},\"id\":\"1202\",\"type\":\"Line\"},{\"attributes\":{\"data_source\":{\"id\":\"1140\"},\"glyph\":{\"id\":\"1141\"},\"hover_glyph\":null,\"muted_glyph\":{\"id\":\"1143\"},\"nonselection_glyph\":{\"id\":\"1142\"},\"view\":{\"id\":\"1145\"}},\"id\":\"1144\",\"type\":\"GlyphRenderer\"},{\"attributes\":{\"line_alpha\":0.1,\"line_color\":\"#C23A75\",\"line_width\":3,\"x\":{\"field\":\"x\"},\"y\":{\"field\":\"y\"}},\"id\":\"1190\",\"type\":\"Line\"},{\"attributes\":{},\"id\":\"1287\",\"type\":\"UnionRenderers\"},{\"attributes\":{},\"id\":\"1292\",\"type\":\"Selection\"},{\"attributes\":{\"line_color\":\"#000003\",\"line_width\":3,\"x\":{\"field\":\"x\"},\"y\":{\"field\":\"y\"}},\"id\":\"1135\",\"type\":\"Line\"},{\"attributes\":{\"data\":{\"x\":{\"__ndarray__\":\"f2q8dJMYxD9/arx0kxjEP39qvHSTGMQ/f2q8dJMYxD9/arx0kxjEP39qvHSTGMQ/f2q8dJMYxD9/arx0kxjEP39qvHSTGMQ/f2q8dJMYxD9/arx0kxjEP39qvHSTGMQ/f2q8dJMYxD9/arx0kxjEP39qvHSTGMQ/f2q8dJMYxD9/arx0kxjEP39qvHSTGMQ/f2q8dJMYxD9/arx0kxjEP39qvHSTGMQ/f2q8dJMYxD9/arx0kxjEP39qvHSTGMQ/f2q8dJMYxD9/arx0kxjEP39qvHSTGMQ/f2q8dJMYxD9/arx0kxjEP39qvHSTGMQ/f2q8dJMYxD9/arx0kxjEP39qvHSTGMQ/f2q8dJMYxD9/arx0kxjEP39qvHSTGMQ/f2q8dJMYxD9/arx0kxjEP39qvHSTGMQ/f2q8dJMYxD9/arx0kxjEP39qvHSTGMQ/f2q8dJMYxD9/arx0kxjEP39qvHSTGMQ/f2q8dJMYxD9/arx0kxjEP39qvHSTGMQ/f2q8dJMYxD8pXI/C9SjEP9NNYhBYOcQ/001iEFg5xD8=\",\"dtype\":\"float64\",\"order\":\"little\",\"shape\":[52]},\"y\":{\"__ndarray__\":\"ZGuc9g4cyD5MxgdroxDRPg8Nq7E8KNg+PCi+azQZ4T64eH4SWjToPuEOwIbcIfE+Z0fnlcBA+D6YH2gliioBP9Sc7oPpTAg/Ql+zwzEzET+gljJTNVkYP2ZxYprjOyE/47vwko9lKD9bxrDhpkQxP5nUeP7hcTg/6iw3XFRNQT/T3tKpMH5IP1i/ozP/VVE/evcom4SKWD8yIkZ06F5hP/kHy8MMl2g/VofDFqNncT9hz+FLcKN4P3x0YW1acIE/X2vP28OviD9AhYSHRHmRP+ZaGzRwvJg/0yEEaB6CoT8CT0GG5sioP5UwcU3uirE/dGARDHnVuD8xiMFP55PBP9O3eEIG4sg/eGGlN7Kc0T9Ee1jImO7YP5XsWeOepeE/zbO0Jyb76D/JJeF0ba7xP1g6g2OjB/k/gxc9vHK3AUCvTMbddhQJQMNuAnVuwBFAzIQ6IyAhGUAKvmxdV8khQAlOitTELSlAXZNjGl7SMUD/kmg0gzo5QCwuSfFg20FAlZRAlEFHSUBXVyzIY+RRQEBcEvT/U1lAjhINn2btYUA=\",\"dtype\":\"float64\",\"order\":\"little\",\"shape\":[52]}},\"selected\":{\"id\":\"1282\"},\"selection_policy\":{\"id\":\"1281\"}},\"id\":\"1140\",\"type\":\"ColumnDataSource\"},{\"attributes\":{\"line_color\":\"#301065\",\"line_width\":3,\"x\":{\"field\":\"x\"},\"y\":{\"field\":\"y\"}},\"id\":\"1153\",\"type\":\"Line\"},{\"attributes\":{\"line_alpha\":0.2,\"line_color\":\"#A9327C\",\"line_width\":3,\"x\":{\"field\":\"x\"},\"y\":{\"field\":\"y\"}},\"id\":\"1185\",\"type\":\"Line\"},{\"attributes\":{\"data_source\":{\"id\":\"1182\"},\"glyph\":{\"id\":\"1183\"},\"hover_glyph\":null,\"muted_glyph\":{\"id\":\"1185\"},\"nonselection_glyph\":{\"id\":\"1184\"},\"view\":{\"id\":\"1187\"}},\"id\":\"1186\",\"type\":\"GlyphRenderer\"},{\"attributes\":{\"line_alpha\":0.2,\"line_color\":\"#000003\",\"line_width\":3,\"x\":{\"field\":\"x\"},\"y\":{\"field\":\"y\"}},\"id\":\"1137\",\"type\":\"Line\"},{\"attributes\":{\"source\":{\"id\":\"1176\"}},\"id\":\"1181\",\"type\":\"CDSView\"},{\"attributes\":{},\"id\":\"1302\",\"type\":\"Selection\"},{\"attributes\":{\"line_color\":\"#A9327C\",\"line_width\":3,\"x\":{\"field\":\"x\"},\"y\":{\"field\":\"y\"}},\"id\":\"1183\",\"type\":\"Line\"},{\"attributes\":{\"data\":{\"x\":{\"__ndarray__\":\"RMpoRx5GwD7b9VZNpdm7Pr6vPtzdHME+upCiKZa2wz56jumFEpjEPkStxJfk28Y+dmZpRLy3yj6a392I9srPPtkRf/vXRdM+6DQLtDuk2D5a8GgEl57bPtz/tt26Udo+vIg6nI462T6yXUZWI2DZPv+Lb0EZV9o+6SsnJS0q3D6QvknToGjePmkdVU0Qdd8+IwXkhVNq3z4AeSsi9WTfPiD6B/Q29N4+goh5+xgY3j4OuVuKki3ePoJ+GWsDoN8+nCi2QIpT4D45n3QBs2vgPnSM8YIEnOA+K2R0YSDf4D4WDozVSSrhPjaKON+AfeE+ith5fsXY4T7M4N7rWjHiPjF1/LxOj+I+hcM9XJPq4j4qVeQIACvjPnaIPbwAXuM+bF1JdpWD4z5iMlUwKqnjPtLxZkeJ4eM+HiXA+okU5D68m367sizkPojJ6SWlJOQ+MGucLDkX5D7YDE8zzQnkPnqTGU4d1OM+8nJDGctw4z6WCRqOQu3iPu5sl0+5NuI+UvsIV5ta4T7Gz1aQLIHgPoieMR9SBN8+goh5+xgY3j4=\",\"dtype\":\"float64\",\"order\":\"little\",\"shape\":[52]},\"y\":{\"__ndarray__\":\"ZGuc9g4cyD5MxgdroxDRPg8Nq7E8KNg+PCi+azQZ4T64eH4SWjToPuEOwIbcIfE+Z0fnlcBA+D6YH2gliioBP9Sc7oPpTAg/Ql+zwzEzET+gljJTNVkYP2ZxYprjOyE/47vwko9lKD9bxrDhpkQxP5nUeP7hcTg/6iw3XFRNQT/T3tKpMH5IP1i/ozP/VVE/evcom4SKWD8yIkZ06F5hP/kHy8MMl2g/VofDFqNncT9hz+FLcKN4P3x0YW1acIE/X2vP28OviD9AhYSHRHmRP+ZaGzRwvJg/0yEEaB6CoT8CT0GG5sioP5UwcU3uirE/dGARDHnVuD8xiMFP55PBP9O3eEIG4sg/eGGlN7Kc0T9Ee1jImO7YP5XsWeOepeE/zbO0Jyb76D/JJeF0ba7xP1g6g2OjB/k/gxc9vHK3AUCvTMbddhQJQMNuAnVuwBFAzIQ6IyAhGUAKvmxdV8khQAlOitTELSlAXZNjGl7SMUD/kmg0gzo5QCwuSfFg20FAlZRAlEFHSUBXVyzIY+RRQEBcEvT/U1lAjhINn2btYUA=\",\"dtype\":\"float64\",\"order\":\"little\",\"shape\":[52]}},\"selected\":{\"id\":\"1304\"},\"selection_policy\":{\"id\":\"1303\"}},\"id\":\"1206\",\"type\":\"ColumnDataSource\"},{\"attributes\":{\"line_alpha\":0.1,\"line_color\":\"#912A80\",\"line_width\":3,\"x\":{\"field\":\"x\"},\"y\":{\"field\":\"y\"}},\"id\":\"1178\",\"type\":\"Line\"},{\"attributes\":{},\"id\":\"1125\",\"type\":\"HelpTool\"},{\"attributes\":{\"source\":{\"id\":\"1206\"}},\"id\":\"1211\",\"type\":\"CDSView\"},{\"attributes\":{\"line_alpha\":0.1,\"line_color\":\"#FEC689\",\"line_width\":3,\"x\":{\"field\":\"x\"},\"y\":{\"field\":\"y\"}},\"id\":\"1226\",\"type\":\"Line\"},{\"attributes\":{\"data_source\":{\"id\":\"1146\"},\"glyph\":{\"id\":\"1147\"},\"hover_glyph\":null,\"muted_glyph\":{\"id\":\"1149\"},\"nonselection_glyph\":{\"id\":\"1148\"},\"view\":{\"id\":\"1151\"}},\"id\":\"1150\",\"type\":\"GlyphRenderer\"},{\"attributes\":{\"line_alpha\":0.2,\"line_color\":\"#792281\",\"line_width\":3,\"x\":{\"field\":\"x\"},\"y\":{\"field\":\"y\"}},\"id\":\"1173\",\"type\":\"Line\"},{\"attributes\":{\"data\":{\"x\":{\"__ndarray__\":\"bvNiXb5LAj12coSVHE78PCpbk3kUFwY9OLVonhPbFj0J5HHry18qPUrOKWibWz09iJjflOPHTD1aBTPkAHRYPZ4AoxZZzmI92hPFJtFtbD2ePOwcrNV2PQIsbh+fJIQ9EN5Ru2h+kj3IUxaDwTegPclvu3Wp1qk9ChE8s7Rqsj0k1lz+RE+3PXInwNsHHbo9wpbJp8Spuj3avkQCZN+7PVD7WskePME9yW+7danWyT07ty5cKh3WPbLIQBkTseI9gGf2cEVG7T2HspVFtqP3PQnX5/kA1QY+7jrHdJWGGj4ODIoIlOYwPhq1xSGGxkU+xF5wWuwOWz5mzMXlHQNwPmJuLGVv4oE+6IhW0K8LkT4+INoLKHubPsoI9v90eqM+Ik/PEbJZqT5CJPf/Z1CxPoSmmaxZgLk+2hvfi+29wT76iXc+C1vGPpbxpaYTv8g+7UBjR18Yyz4uOjhc1LzNPigkgDib0Mw+NW2UL0cTyD7Buhpu+pLBPnh6KWXnp7c+xV5nxH6vrj4kpJYvLb+jPq5/saArb5k+piEz4sVsoD4=\",\"dtype\":\"float64\",\"order\":\"little\",\"shape\":[52]},\"y\":{\"__ndarray__\":\"ZGuc9g4cyD5MxgdroxDRPg8Nq7E8KNg+PCi+azQZ4T64eH4SWjToPuEOwIbcIfE+Z0fnlcBA+D6YH2gliioBP9Sc7oPpTAg/Ql+zwzEzET+gljJTNVkYP2ZxYprjOyE/47vwko9lKD9bxrDhpkQxP5nUeP7hcTg/6iw3XFRNQT/T3tKpMH5IP1i/ozP/VVE/evcom4SKWD8yIkZ06F5hP/kHy8MMl2g/VofDFqNncT9hz+FLcKN4P3x0YW1acIE/X2vP28OviD9AhYSHRHmRP+ZaGzRwvJg/0yEEaB6CoT8CT0GG5sioP5UwcU3uirE/dGARDHnVuD8xiMFP55PBP9O3eEIG4sg/eGGlN7Kc0T9Ee1jImO7YP5XsWeOepeE/zbO0Jyb76D/JJeF0ba7xP1g6g2OjB/k/gxc9vHK3AUCvTMbddhQJQMNuAnVuwBFAzIQ6IyAhGUAKvmxdV8khQAlOitTELSlAXZNjGl7SMUD/kmg0gzo5QCwuSfFg20FAlZRAlEFHSUBXVyzIY+RRQEBcEvT/U1lAjhINn2btYUA=\",\"dtype\":\"float64\",\"order\":\"little\",\"shape\":[52]}},\"selected\":{\"id\":\"1306\"},\"selection_policy\":{\"id\":\"1305\"}},\"id\":\"1212\",\"type\":\"ColumnDataSource\"},{\"attributes\":{},\"id\":\"1293\",\"type\":\"UnionRenderers\"},{\"attributes\":{\"line_alpha\":0.1,\"line_color\":\"#A9327C\",\"line_width\":3,\"x\":{\"field\":\"x\"},\"y\":{\"field\":\"y\"}},\"id\":\"1184\",\"type\":\"Line\"},{\"attributes\":{},\"id\":\"1294\",\"type\":\"Selection\"},{\"attributes\":{\"line_alpha\":0.2,\"line_color\":\"#301065\",\"line_width\":3,\"x\":{\"field\":\"x\"},\"y\":{\"field\":\"y\"}},\"id\":\"1155\",\"type\":\"Line\"},{\"attributes\":{\"data_source\":{\"id\":\"1212\"},\"glyph\":{\"id\":\"1213\"},\"hover_glyph\":null,\"muted_glyph\":{\"id\":\"1215\"},\"nonselection_glyph\":{\"id\":\"1214\"},\"view\":{\"id\":\"1217\"}},\"id\":\"1216\",\"type\":\"GlyphRenderer\"},{\"attributes\":{\"data_source\":{\"id\":\"1206\"},\"glyph\":{\"id\":\"1207\"},\"hover_glyph\":null,\"muted_glyph\":{\"id\":\"1209\"},\"nonselection_glyph\":{\"id\":\"1208\"},\"view\":{\"id\":\"1211\"}},\"id\":\"1210\",\"type\":\"GlyphRenderer\"},{\"attributes\":{\"line_color\":\"#912A80\",\"line_width\":3,\"x\":{\"field\":\"x\"},\"y\":{\"field\":\"y\"}},\"id\":\"1177\",\"type\":\"Line\"},{\"attributes\":{\"data\":{\"x\":{\"__ndarray__\":\"1CtlGeJYhz/UK2UZ4liHP1pkO99PjYc/JLn8h/Tbhz+q8dJNYhCIP+0NvjCZKog/MCqpE9BEiD+3Yn/ZPXmIPz2bVZ+rrYg/gLdAguLHiD/E0ytlGeKIPwfwFkhQ/Ig/SgwCK4cWiT+NKO0NvjCJP40o7Q2+MIk/0ETY8PRKiT8TYcPTK2WJPxNhw9MrZYk/E2HD0ytliT8TYcPTK2WJP1Z9rrZif4k/mpmZmZmZiT+amZmZmZmJP921hHzQs4k/INJvXwfOiT8g0m9fB86JPyDSb18Hzok/Y+5aQj7oiT+mCkYldQKKP6YKRiV1Aoo/pgpGJXUCij+mCkYldQKKP+omMQisHIo/LUMc6+I2ij8tQxzr4jaKPy1DHOviNoo/LUMc6+I2ij8tQxzr4jaKPy1DHOviNoo/LUMc6+I2ij8tQxzr4jaKPy1DHOviNoo/LUMc6+I2ij9wXwfOGVGKP7N78rBQa4o/s3vysFBrij/2l92Th4WKPwIJih9j7oo/2c73U+Oliz/ysFBrmneMP+JYF7fRAI4/TMgHPZtVjz8=\",\"dtype\":\"float64\",\"order\":\"little\",\"shape\":[52]},\"y\":{\"__ndarray__\":\"ZGuc9g4cyD5MxgdroxDRPg8Nq7E8KNg+PCi+azQZ4T64eH4SWjToPuEOwIbcIfE+Z0fnlcBA+D6YH2gliioBP9Sc7oPpTAg/Ql+zwzEzET+gljJTNVkYP2ZxYprjOyE/47vwko9lKD9bxrDhpkQxP5nUeP7hcTg/6iw3XFRNQT/T3tKpMH5IP1i/ozP/VVE/evcom4SKWD8yIkZ06F5hP/kHy8MMl2g/VofDFqNncT9hz+FLcKN4P3x0YW1acIE/X2vP28OviD9AhYSHRHmRP+ZaGzRwvJg/0yEEaB6CoT8CT0GG5sioP5UwcU3uirE/dGARDHnVuD8xiMFP55PBP9O3eEIG4sg/eGGlN7Kc0T9Ee1jImO7YP5XsWeOepeE/zbO0Jyb76D/JJeF0ba7xP1g6g2OjB/k/gxc9vHK3AUCvTMbddhQJQMNuAnVuwBFAzIQ6IyAhGUAKvmxdV8khQAlOitTELSlAXZNjGl7SMUD/kmg0gzo5QCwuSfFg20FAlZRAlEFHSUBXVyzIY+RRQEBcEvT/U1lAjhINn2btYUA=\",\"dtype\":\"float64\",\"order\":\"little\",\"shape\":[52]}},\"selected\":{\"id\":\"1286\"},\"selection_policy\":{\"id\":\"1285\"}},\"id\":\"1152\",\"type\":\"ColumnDataSource\"},{\"attributes\":{\"data\":{\"x\":{\"__ndarray__\":\"1CtlGeJYVz9rSNxj6UNXP2tI3GPpQ1c/a0jcY+lDVz89D+7O2m1XP3i5iO/ErFc/SYCaWrbWVz8bR6zFpwBYP4QqNXugFVg/7Q2+MJkqWD/tDb4wmSpYP4QqNXugFVg/hCo1e6AVWD+EKjV7oBVYP+0NvjCZKlg/v9TPm4pUWD8ouFhRg2lYPyi4WFGDaVg/KLhYUYNpWD8ouFhRg2lYPyi4WFGDaVg/v9TPm4pUWD9W8UbmkT9YP7/Uz5uKVFg/KLhYUYNpWD8ouFhRg2lYPyi4WFGDaVg/KLhYUYNpWD8ouFhRg2lYPyi4WFGDaVg/KLhYUYNpWD8ouFhRg2lYP7/Uz5uKVFg/VvFG5pE/WD9W8UbmkT9YP1bxRuaRP1g/VvFG5pE/WD9W8UbmkT9YP+0NvjCZKlg/hCo1e6AVWD+EKjV7oBVYP4QqNXugFVg/hCo1e6AVWD+EKjV7oBVYP4QqNXugFVg/7Q2+MJkqWD9W8UbmkT9YP1bxRuaRP1g/v9TPm4pUWD8ouFhRg2lYP5Gb4QZ8flg/kZvhBnx+WD8=\",\"dtype\":\"float64\",\"order\":\"little\",\"shape\":[52]},\"y\":{\"__ndarray__\":\"ZGuc9g4cyD5MxgdroxDRPg8Nq7E8KNg+PCi+azQZ4T64eH4SWjToPuEOwIbcIfE+Z0fnlcBA+D6YH2gliioBP9Sc7oPpTAg/Ql+zwzEzET+gljJTNVkYP2ZxYprjOyE/47vwko9lKD9bxrDhpkQxP5nUeP7hcTg/6iw3XFRNQT/T3tKpMH5IP1i/ozP/VVE/evcom4SKWD8yIkZ06F5hP/kHy8MMl2g/VofDFqNncT9hz+FLcKN4P3x0YW1acIE/X2vP28OviD9AhYSHRHmRP+ZaGzRwvJg/0yEEaB6CoT8CT0GG5sioP5UwcU3uirE/dGARDHnVuD8xiMFP55PBP9O3eEIG4sg/eGGlN7Kc0T9Ee1jImO7YP5XsWeOepeE/zbO0Jyb76D/JJeF0ba7xP1g6g2OjB/k/gxc9vHK3AUCvTMbddhQJQMNuAnVuwBFAzIQ6IyAhGUAKvmxdV8khQAlOitTELSlAXZNjGl7SMUD/kmg0gzo5QCwuSfFg20FAlZRAlEFHSUBXVyzIY+RRQEBcEvT/U1lAjhINn2btYUA=\",\"dtype\":\"float64\",\"order\":\"little\",\"shape\":[52]}},\"selected\":{\"id\":\"1294\"},\"selection_policy\":{\"id\":\"1293\"}},\"id\":\"1176\",\"type\":\"ColumnDataSource\"},{\"attributes\":{\"source\":{\"id\":\"1146\"}},\"id\":\"1151\",\"type\":\"CDSView\"},{\"attributes\":{\"line_alpha\":0.2,\"line_color\":\"#912A80\",\"line_width\":3,\"x\":{\"field\":\"x\"},\"y\":{\"field\":\"y\"}},\"id\":\"1179\",\"type\":\"Line\"},{\"attributes\":{},\"id\":\"1299\",\"type\":\"UnionRenderers\"},{\"attributes\":{\"line_color\":\"#F7715B\",\"line_width\":3,\"x\":{\"field\":\"x\"},\"y\":{\"field\":\"y\"}},\"id\":\"1207\",\"type\":\"Line\"},{\"attributes\":{\"line_alpha\":0.2,\"line_color\":\"#F7715B\",\"line_width\":3,\"x\":{\"field\":\"x\"},\"y\":{\"field\":\"y\"}},\"id\":\"1209\",\"type\":\"Line\"},{\"attributes\":{\"line_alpha\":0.1,\"line_color\":\"#F7715B\",\"line_width\":3,\"x\":{\"field\":\"x\"},\"y\":{\"field\":\"y\"}},\"id\":\"1208\",\"type\":\"Line\"},{\"attributes\":{\"line_alpha\":0.2,\"line_color\":\"#61187F\",\"line_width\":3,\"x\":{\"field\":\"x\"},\"y\":{\"field\":\"y\"}},\"id\":\"1167\",\"type\":\"Line\"},{\"attributes\":{\"source\":{\"id\":\"1200\"}},\"id\":\"1205\",\"type\":\"CDSView\"},{\"attributes\":{\"source\":{\"id\":\"1158\"}},\"id\":\"1163\",\"type\":\"CDSView\"},{\"attributes\":{\"data\":{\"x\":{\"__ndarray__\":\"RnZtyzBuEz4EDUbb/XQaPqcYWOkkUiA+UHtZJdEyIz7jp4ghgfIlPh/wD10jKyk+KB/71qOMLT66oTLn990xPkghaqF+CDY+QA4kGuZFOz7gn+WIm6RAPoBhTkQ780M+yj4PP826Rz5mU4C4Q3RMPhCG2qcFZVE+tjvkoYiwVT5YgZ4pG6ZbPoKU9ebyCWI+VnjMxufqZz4WYkpsy3xvPocNF7wWG3Q+Ag51pUvieD6E90PWlBB+PlH22I6QHoI+xelZTS0Uhj5yiNSOxMaKPvRNN9yJio8+zYEgawbrkT6I+2DK1OWTPu7CcUH/ApY+sCUj6OFkmD56cUXW2C2bPmIHnSnXiJ4+CNOLNbedoT7waOOItfikPvC5jbLwiKk+JhDAF3Dgrz6gL94Lo4uzPrqHvpqHPLc+9FYba5gEvD7sZuuFp/zAPpLvraMFw8Q++HW3HeBqyT6sKuqCsAnPPiZKCHfjtNI+LEwAevGw1j4CjetCIFXcPmZR8eJxD+E+/6gT8VLB4z5ErcSX5NvmPixDHOviNuo+VuWMcnoo6z4=\",\"dtype\":\"float64\",\"order\":\"little\",\"shape\":[52]},\"y\":{\"__ndarray__\":\"ZGuc9g4cyD5MxgdroxDRPg8Nq7E8KNg+PCi+azQZ4T64eH4SWjToPuEOwIbcIfE+Z0fnlcBA+D6YH2gliioBP9Sc7oPpTAg/Ql+zwzEzET+gljJTNVkYP2ZxYprjOyE/47vwko9lKD9bxrDhpkQxP5nUeP7hcTg/6iw3XFRNQT/T3tKpMH5IP1i/ozP/VVE/evcom4SKWD8yIkZ06F5hP/kHy8MMl2g/VofDFqNncT9hz+FLcKN4P3x0YW1acIE/X2vP28OviD9AhYSHRHmRP+ZaGzRwvJg/0yEEaB6CoT8CT0GG5sioP5UwcU3uirE/dGARDHnVuD8xiMFP55PBP9O3eEIG4sg/eGGlN7Kc0T9Ee1jImO7YP5XsWeOepeE/zbO0Jyb76D/JJeF0ba7xP1g6g2OjB/k/gxc9vHK3AUCvTMbddhQJQMNuAnVuwBFAzIQ6IyAhGUAKvmxdV8khQAlOitTELSlAXZNjGl7SMUD/kmg0gzo5QCwuSfFg20FAlZRAlEFHSUBXVyzIY+RRQEBcEvT/U1lAjhINn2btYUA=\",\"dtype\":\"float64\",\"order\":\"little\",\"shape\":[52]}},\"selected\":{\"id\":\"1302\"},\"selection_policy\":{\"id\":\"1301\"}},\"id\":\"1200\",\"type\":\"ColumnDataSource\"},{\"attributes\":{\"source\":{\"id\":\"1194\"}},\"id\":\"1199\",\"type\":\"CDSView\"},{\"attributes\":{\"line_alpha\":0.2,\"line_color\":\"#1A1041\",\"line_width\":3,\"x\":{\"field\":\"x\"},\"y\":{\"field\":\"y\"}},\"id\":\"1149\",\"type\":\"Line\"},{\"attributes\":{\"line_color\":\"#FC8E63\",\"line_width\":3,\"x\":{\"field\":\"x\"},\"y\":{\"field\":\"y\"}},\"id\":\"1213\",\"type\":\"Line\"},{\"attributes\":{\"data\":{\"x\":{\"__ndarray__\":\"a0F5yhweBD4mWFkOblMRProvheBrrRY+Fk933BaZGT77a61a8eIaPnJuadjBhBw+K2mkKSsbID4QzYOkv8wjPkS7G1wP2yk+1/5MCI8SMT4atcUhhsY1PlJQVRv/aTo++n+vtPMzPz44CN8VnNJCPsBgzu6H6Uc+6UB+Cag2UD4MZzVfUJ9XPpsHcPYnamI+UlknfjIlbj4Mi6FC1Al4PsaYryPyg4E+WDD0/98Vhz65BbCg51GMPkIk9/9nUJE+xelZTS0Ulj5w4mJHDtGbPmhKnCk1+p8+Cnn9fG2ToD6XfJgvwiOgPv7cGWtU554+rtBbymb/nT5sln+4oeWdPlGPSVP4xJ4+38wsZcApoT5sIXJBUEqlPvKDYke9iaw+C3AZ7l4ZtD6qM84Rv4O7PgveZ8fTE8I+rEeOMupzyD6eLmIKnI3RPku6mCwPTts+NoFUUHID5T7Q+krWl1vwPgy9D1GWa/s+rEJeat83CT8O0CKAQAwZPy5QUmABTCk/ARdky/J1OT88wf7r3LRJPyi4WFGDaVg/xY8xdy0hXz8=\",\"dtype\":\"float64\",\"order\":\"little\",\"shape\":[52]},\"y\":{\"__ndarray__\":\"ZGuc9g4cyD5MxgdroxDRPg8Nq7E8KNg+PCi+azQZ4T64eH4SWjToPuEOwIbcIfE+Z0fnlcBA+D6YH2gliioBP9Sc7oPpTAg/Ql+zwzEzET+gljJTNVkYP2ZxYprjOyE/47vwko9lKD9bxrDhpkQxP5nUeP7hcTg/6iw3XFRNQT/T3tKpMH5IP1i/ozP/VVE/evcom4SKWD8yIkZ06F5hP/kHy8MMl2g/VofDFqNncT9hz+FLcKN4P3x0YW1acIE/X2vP28OviD9AhYSHRHmRP+ZaGzRwvJg/0yEEaB6CoT8CT0GG5sioP5UwcU3uirE/dGARDHnVuD8xiMFP55PBP9O3eEIG4sg/eGGlN7Kc0T9Ee1jImO7YP5XsWeOepeE/zbO0Jyb76D/JJeF0ba7xP1g6g2OjB/k/gxc9vHK3AUCvTMbddhQJQMNuAnVuwBFAzIQ6IyAhGUAKvmxdV8khQAlOitTELSlAXZNjGl7SMUD/kmg0gzo5QCwuSfFg20FAlZRAlEFHSUBXVyzIY+RRQEBcEvT/U1lAjhINn2btYUA=\",\"dtype\":\"float64\",\"order\":\"little\",\"shape\":[52]}},\"selected\":{\"id\":\"1290\"},\"selection_policy\":{\"id\":\"1289\"}},\"id\":\"1164\",\"type\":\"ColumnDataSource\"},{\"attributes\":{\"line_color\":\"#792281\",\"line_width\":3,\"x\":{\"field\":\"x\"},\"y\":{\"field\":\"y\"}},\"id\":\"1171\",\"type\":\"Line\"},{\"attributes\":{\"source\":{\"id\":\"1170\"}},\"id\":\"1175\",\"type\":\"CDSView\"},{\"attributes\":{},\"id\":\"1297\",\"type\":\"UnionRenderers\"},{\"attributes\":{\"data\":{\"x\":{\"__ndarray__\":\"dF5jl6jeaj90XmOXqN5qP3ReY5eo3mo/dF5jl6jeaj90XmOXqN5qP3ReY5eo3mo/dF5jl6jeaj90XmOXqN5qP3ReY5eo3mo/dF5jl6jeaj90XmOXqN5qP3ReY5eo3mo/dF5jl6jeaj90XmOXqN5qP3ReY5eo3mo/dF5jl6jeaj90XmOXqN5qP3ReY5eo3mo/dF5jl6jeaj90XmOXqN5qP3ReY5eo3mo/dF5jl6jeaj90XmOXqN5qP3ReY5eo3mo/dF5jl6jeaj90XmOXqN5qP3ReY5eo3mo/dF5jl6jeaj90XmOXqN5qP3ReY5eo3mo/dF5jl6jeaj90XmOXqN5qP3ReY5eo3mo/dF5jl6jeaj90XmOXqN5qP3ReY5eo3mo/dF5jl6jeaj90XmOXqN5qP3ReY5eo3mo/dF5jl6jeaj90XmOXqN5qP8Dsnjws1Go/C3va4a/Jaj8Le9rhr8lqPwt72uGvyWo/VgkWhzO/aj+il1Est7RqP+4ljdE6qmo/hEIEHEKVaj8cX3tmSYBqP/4JLlbUYGo/LUMc6+I2aj8=\",\"dtype\":\"float64\",\"order\":\"little\",\"shape\":[52]},\"y\":{\"__ndarray__\":\"ZGuc9g4cyD5MxgdroxDRPg8Nq7E8KNg+PCi+azQZ4T64eH4SWjToPuEOwIbcIfE+Z0fnlcBA+D6YH2gliioBP9Sc7oPpTAg/Ql+zwzEzET+gljJTNVkYP2ZxYprjOyE/47vwko9lKD9bxrDhpkQxP5nUeP7hcTg/6iw3XFRNQT/T3tKpMH5IP1i/ozP/VVE/evcom4SKWD8yIkZ06F5hP/kHy8MMl2g/VofDFqNncT9hz+FLcKN4P3x0YW1acIE/X2vP28OviD9AhYSHRHmRP+ZaGzRwvJg/0yEEaB6CoT8CT0GG5sioP5UwcU3uirE/dGARDHnVuD8xiMFP55PBP9O3eEIG4sg/eGGlN7Kc0T9Ee1jImO7YP5XsWeOepeE/zbO0Jyb76D/JJeF0ba7xP1g6g2OjB/k/gxc9vHK3AUCvTMbddhQJQMNuAnVuwBFAzIQ6IyAhGUAKvmxdV8khQAlOitTELSlAXZNjGl7SMUD/kmg0gzo5QCwuSfFg20FAlZRAlEFHSUBXVyzIY+RRQEBcEvT/U1lAjhINn2btYUA=\",\"dtype\":\"float64\",\"order\":\"little\",\"shape\":[52]}},\"selected\":{\"id\":\"1288\"},\"selection_policy\":{\"id\":\"1287\"}},\"id\":\"1158\",\"type\":\"ColumnDataSource\"},{\"attributes\":{\"line_alpha\":0.2,\"line_color\":\"#FC8E63\",\"line_width\":3,\"x\":{\"field\":\"x\"},\"y\":{\"field\":\"y\"}},\"id\":\"1215\",\"type\":\"Line\"},{\"attributes\":{\"data_source\":{\"id\":\"1200\"},\"glyph\":{\"id\":\"1201\"},\"hover_glyph\":null,\"muted_glyph\":{\"id\":\"1203\"},\"nonselection_glyph\":{\"id\":\"1202\"},\"view\":{\"id\":\"1205\"}},\"id\":\"1204\",\"type\":\"GlyphRenderer\"},{\"attributes\":{\"data_source\":{\"id\":\"1158\"},\"glyph\":{\"id\":\"1159\"},\"hover_glyph\":null,\"muted_glyph\":{\"id\":\"1161\"},\"nonselection_glyph\":{\"id\":\"1160\"},\"view\":{\"id\":\"1163\"}},\"id\":\"1162\",\"type\":\"GlyphRenderer\"},{\"attributes\":{\"line_alpha\":0.1,\"line_color\":\"#1A1041\",\"line_width\":3,\"x\":{\"field\":\"x\"},\"y\":{\"field\":\"y\"}},\"id\":\"1148\",\"type\":\"Line\"},{\"attributes\":{\"line_color\":\"#EC585F\",\"line_width\":3,\"x\":{\"field\":\"x\"},\"y\":{\"field\":\"y\"}},\"id\":\"1201\",\"type\":\"Line\"},{\"attributes\":{},\"id\":\"1288\",\"type\":\"Selection\"},{\"attributes\":{\"source\":{\"id\":\"1164\"}},\"id\":\"1169\",\"type\":\"CDSView\"},{\"attributes\":{\"line_alpha\":0.2,\"line_color\":\"#EC585F\",\"line_width\":3,\"x\":{\"field\":\"x\"},\"y\":{\"field\":\"y\"}},\"id\":\"1203\",\"type\":\"Line\"},{\"attributes\":{\"data\":{\"x\":{\"__ndarray__\":\"hJ7Nqs/Vlj+Ens2qz9WWP8e6uI0G8JY/CtejcD0Klz8sZRniWBeXP2+BBMWPMZc/sp3vp8ZLlz/2udqK/WWXPxdIUPwYc5c/ONbFbTSAlz9aZDvfT42XP3zysFBrmpc/nYAmwoanlz++DpwzorSXP+CcEaW9wZc/AiuHFtnOlz8kufyH9NuXPyS5/If025c/JLn8h/Tblz8kufyH9NuXP0ZHcvkP6Zc/Z9Xnaiv2lz9n1edqK/aXP2fV52or9pc/iGNd3EYDmD+q8dJNYhCYP6rx0k1iEJg/qvHSTWIQmD/Mf0i/fR2YP+0NvjCZKpg/7Q2+MJkqmD/tDb4wmSqYP+0NvjCZKpg/DpwzorQ3mD8wKqkT0ESYPzAqqRPQRJg/MCqpE9BEmD8wKqkT0ESYPzAqqRPQRJg/MCqpE9BEmD8wKqkT0ESYPzAqqRPQRJg/MCqpE9BEmD8wKqkT0ESYPw6cM6K0N5g/7Q2+MJkqmD/tDb4wmSqYP2bV52or9pc/fPKwUGualz+QD3o2qz6XP1afq63YX5Y/gNk9eViolT8=\",\"dtype\":\"float64\",\"order\":\"little\",\"shape\":[52]},\"y\":{\"__ndarray__\":\"ZGuc9g4cyD5MxgdroxDRPg8Nq7E8KNg+PCi+azQZ4T64eH4SWjToPuEOwIbcIfE+Z0fnlcBA+D6YH2gliioBP9Sc7oPpTAg/Ql+zwzEzET+gljJTNVkYP2ZxYprjOyE/47vwko9lKD9bxrDhpkQxP5nUeP7hcTg/6iw3XFRNQT/T3tKpMH5IP1i/ozP/VVE/evcom4SKWD8yIkZ06F5hP/kHy8MMl2g/VofDFqNncT9hz+FLcKN4P3x0YW1acIE/X2vP28OviD9AhYSHRHmRP+ZaGzRwvJg/0yEEaB6CoT8CT0GG5sioP5UwcU3uirE/dGARDHnVuD8xiMFP55PBP9O3eEIG4sg/eGGlN7Kc0T9Ee1jImO7YP5XsWeOepeE/zbO0Jyb76D/JJeF0ba7xP1g6g2OjB/k/gxc9vHK3AUCvTMbddhQJQMNuAnVuwBFAzIQ6IyAhGUAKvmxdV8khQAlOitTELSlAXZNjGl7SMUD/kmg0gzo5QCwuSfFg20FAlZRAlEFHSUBXVyzIY+RRQEBcEvT/U1lAjhINn2btYUA=\",\"dtype\":\"float64\",\"order\":\"little\",\"shape\":[52]}},\"selected\":{\"id\":\"1284\"},\"selection_policy\":{\"id\":\"1283\"}},\"id\":\"1146\",\"type\":\"ColumnDataSource\"},{\"attributes\":{\"data\":{\"x\":{\"__ndarray__\":\"mPIhqBq9+j7HxnIBHgf0PgGgL2JER/c+QpTUrq6v+j6Jo2HnXED+PvWCT3PyIgM/RKEKJM3ECT8sZ0pGKXwRP25PNR98zRc/RMU4fxMKIT+sWtJRDmYjP1YPmIdM+SA/2ubG9IQlHj8kD0QWaeIdPzSID+z4LyA/UvUrnQ/PIj/cEU4LXvQlPzNqvko+dic/M2q+Sj52Jz8zar5KPnYnP1oLs9DOaSY/lgM91LZhJD8YCtgORuwjP+5brROX4yU/WP58W7BUJz9Y/nxbsFQnP1j+fFuwVCc/WP58W7BUJz9Y/nxbsFQnP1j+fFuwVCc/WP58W7BUJz9Y/nxbsFQnP0a0HVN3ZSc/M2q+Sj52Jz8zar5KPnYnPzNqvko+dic/M2q+Sj52Jz8zar5KPnYnPzNqvko+dic/M2q+Sj52Jz9GtB1Td2UnP1j+fFuwVCc/akjcY+lDJz+Q3Jp0WyInP8e6uI0G8CY/EeM1r+qsJj9bC7PQzmkmP8rH7gIlBSY/XRjpRe1+JT/waOOItfgkP6lNnNzvUCQ/PJ6WH7jKIz8=\",\"dtype\":\"float64\",\"order\":\"little\",\"shape\":[52]},\"y\":{\"__ndarray__\":\"ZGuc9g4cyD5MxgdroxDRPg8Nq7E8KNg+PCi+azQZ4T64eH4SWjToPuEOwIbcIfE+Z0fnlcBA+D6YH2gliioBP9Sc7oPpTAg/Ql+zwzEzET+gljJTNVkYP2ZxYprjOyE/47vwko9lKD9bxrDhpkQxP5nUeP7hcTg/6iw3XFRNQT/T3tKpMH5IP1i/ozP/VVE/evcom4SKWD8yIkZ06F5hP/kHy8MMl2g/VofDFqNncT9hz+FLcKN4P3x0YW1acIE/X2vP28OviD9AhYSHRHmRP+ZaGzRwvJg/0yEEaB6CoT8CT0GG5sioP5UwcU3uirE/dGARDHnVuD8xiMFP55PBP9O3eEIG4sg/eGGlN7Kc0T9Ee1jImO7YP5XsWeOepeE/zbO0Jyb76D/JJeF0ba7xP1g6g2OjB/k/gxc9vHK3AUCvTMbddhQJQMNuAnVuwBFAzIQ6IyAhGUAKvmxdV8khQAlOitTELSlAXZNjGl7SMUD/kmg0gzo5QCwuSfFg20FAlZRAlEFHSUBXVyzIY+RRQEBcEvT/U1lAjhINn2btYUA=\",\"dtype\":\"float64\",\"order\":\"little\",\"shape\":[52]}},\"selected\":{\"id\":\"1296\"},\"selection_policy\":{\"id\":\"1295\"}},\"id\":\"1182\",\"type\":\"ColumnDataSource\"},{\"attributes\":{\"data_source\":{\"id\":\"1152\"},\"glyph\":{\"id\":\"1153\"},\"hover_glyph\":null,\"muted_glyph\":{\"id\":\"1155\"},\"nonselection_glyph\":{\"id\":\"1154\"},\"view\":{\"id\":\"1157\"}},\"id\":\"1156\",\"type\":\"GlyphRenderer\"},{\"attributes\":{\"ticker\":null},\"id\":\"1272\",\"type\":\"LogTickFormatter\"},{\"attributes\":{\"line_alpha\":0.2,\"line_color\":\"#4A1079\",\"line_width\":3,\"x\":{\"field\":\"x\"},\"y\":{\"field\":\"y\"}},\"id\":\"1161\",\"type\":\"Line\"},{\"attributes\":{\"source\":{\"id\":\"1182\"}},\"id\":\"1187\",\"type\":\"CDSView\"},{\"attributes\":{\"line_color\":\"#C23A75\",\"line_width\":3,\"x\":{\"field\":\"x\"},\"y\":{\"field\":\"y\"}},\"id\":\"1189\",\"type\":\"Line\"},{\"attributes\":{\"line_alpha\":0.1,\"line_color\":\"#4A1079\",\"line_width\":3,\"x\":{\"field\":\"x\"},\"y\":{\"field\":\"y\"}},\"id\":\"1160\",\"type\":\"Line\"},{\"attributes\":{\"data_source\":{\"id\":\"1176\"},\"glyph\":{\"id\":\"1177\"},\"hover_glyph\":null,\"muted_glyph\":{\"id\":\"1179\"},\"nonselection_glyph\":{\"id\":\"1178\"},\"view\":{\"id\":\"1181\"}},\"id\":\"1180\",\"type\":\"GlyphRenderer\"},{\"attributes\":{\"line_color\":\"#4A1079\",\"line_width\":3,\"x\":{\"field\":\"x\"},\"y\":{\"field\":\"y\"}},\"id\":\"1159\",\"type\":\"Line\"},{\"attributes\":{\"line_alpha\":0.2,\"line_color\":\"#C23A75\",\"line_width\":3,\"x\":{\"field\":\"x\"},\"y\":{\"field\":\"y\"}},\"id\":\"1191\",\"type\":\"Line\"},{\"attributes\":{\"data_source\":{\"id\":\"1188\"},\"glyph\":{\"id\":\"1189\"},\"hover_glyph\":null,\"muted_glyph\":{\"id\":\"1191\"},\"nonselection_glyph\":{\"id\":\"1190\"},\"view\":{\"id\":\"1193\"}},\"id\":\"1192\",\"type\":\"GlyphRenderer\"},{\"attributes\":{},\"id\":\"1300\",\"type\":\"Selection\"},{\"attributes\":{\"line_color\":\"#61187F\",\"line_width\":3,\"x\":{\"field\":\"x\"},\"y\":{\"field\":\"y\"}},\"id\":\"1165\",\"type\":\"Line\"},{\"attributes\":{\"line_color\":\"#FEC689\",\"line_width\":3,\"x\":{\"field\":\"x\"},\"y\":{\"field\":\"y\"}},\"id\":\"1225\",\"type\":\"Line\"},{\"attributes\":{\"line_alpha\":0.1,\"line_color\":\"#301065\",\"line_width\":3,\"x\":{\"field\":\"x\"},\"y\":{\"field\":\"y\"}},\"id\":\"1154\",\"type\":\"Line\"},{\"attributes\":{\"line_alpha\":0.1,\"line_color\":\"#792281\",\"line_width\":3,\"x\":{\"field\":\"x\"},\"y\":{\"field\":\"y\"}},\"id\":\"1172\",\"type\":\"Line\"},{\"attributes\":{\"data\":{\"x\":{\"__ndarray__\":\"kZvhBnx+WD9W8UbmkT9YP8e6uI0G8FY/LBN+qZ83VT8miLoPQGpTP4vgfyvZsVE/WoKMgApHUD8UkWEVb2ROPxAGnnsPl0w/YhQEj2/vSj849YHknUNJP6bydoTTgkc/jh1U4jrGRT9AahMn9ztEPyxhbYyd8EI/2NR5VPzfQT9ExTh/EwpBP/IEwk6xakA/8Lvplh3iPz8GE38UdeY+P4CBIECGjj0/YAfOGVHaOz9uxmmIKvw5P2CWdmouNzg/CD4GK061Nj+emzbjNEQ1P2IyVTAqqTM/Sl0yjpHsMT8q499nXDgwP8qpnWFqSy0/0NA/wcWKKj9oO6buyi4oP7d9j/rrFSY/lgM91LZhJD/1gk9z8iIjPwra5PBJJyI/+py7XS9NIT/XFTPC24MgP46xE16CUx8/SKMCJ9vAHT+U2LW93ZIcP5bl6zL8pxs/dF5jl6jeGj8mKDT/ng4aP6AT503qcBk/gJO3bSkxGT/qO2Rvzi0ZP6AT503qcBk/SrzyDxHtGT9Nw0vLo3YaPyo25nXEIRs/t2v4zEhzGj8=\",\"dtype\":\"float64\",\"order\":\"little\",\"shape\":[52]},\"y\":{\"__ndarray__\":\"ZGuc9g4cyD5MxgdroxDRPg8Nq7E8KNg+PCi+azQZ4T64eH4SWjToPuEOwIbcIfE+Z0fnlcBA+D6YH2gliioBP9Sc7oPpTAg/Ql+zwzEzET+gljJTNVkYP2ZxYprjOyE/47vwko9lKD9bxrDhpkQxP5nUeP7hcTg/6iw3XFRNQT/T3tKpMH5IP1i/ozP/VVE/evcom4SKWD8yIkZ06F5hP/kHy8MMl2g/VofDFqNncT9hz+FLcKN4P3x0YW1acIE/X2vP28OviD9AhYSHRHmRP+ZaGzRwvJg/0yEEaB6CoT8CT0GG5sioP5UwcU3uirE/dGARDHnVuD8xiMFP55PBP9O3eEIG4sg/eGGlN7Kc0T9Ee1jImO7YP5XsWeOepeE/zbO0Jyb76D/JJeF0ba7xP1g6g2OjB/k/gxc9vHK3AUCvTMbddhQJQMNuAnVuwBFAzIQ6IyAhGUAKvmxdV8khQAlOitTELSlAXZNjGl7SMUD/kmg0gzo5QCwuSfFg20FAlZRAlEFHSUBXVyzIY+RRQEBcEvT/U1lAjhINn2btYUA=\",\"dtype\":\"float64\",\"order\":\"little\",\"shape\":[52]}},\"selected\":{\"id\":\"1292\"},\"selection_policy\":{\"id\":\"1291\"}},\"id\":\"1170\",\"type\":\"ColumnDataSource\"},{\"attributes\":{\"data_source\":{\"id\":\"1164\"},\"glyph\":{\"id\":\"1165\"},\"hover_glyph\":null,\"muted_glyph\":{\"id\":\"1167\"},\"nonselection_glyph\":{\"id\":\"1166\"},\"view\":{\"id\":\"1169\"}},\"id\":\"1168\",\"type\":\"GlyphRenderer\"},{\"attributes\":{},\"id\":\"1285\",\"type\":\"UnionRenderers\"},{\"attributes\":{},\"id\":\"1274\",\"type\":\"AllLabels\"},{\"attributes\":{\"data\":{\"x\":{\"__ndarray__\":\"ljl11600/T12qrj9UBUEPnrIWFwUrwk+BmM/h5mpDz6evmhl0icTPnqBr19aRxc+oNoNWLrGHD7nDddm8B8iPmRL3R9eJic+jpjcVqGiLT6yeuoFXcoyPqjtU99SiTc+VBFPtypQPT6P7IbWqVlCPm9mxj/cNkc+CkiQFpvZTT7CTMyUhZhTPhjJx3uIF1o+rUmh90COYT4+BVK3sopnPqRTLy3e124+gCSmdAK0cz521LcdMbJ4PkAX9nwZAX8+mHO0oLOpgz4jIog1jdSIPhBVbUEzq44+grhhynZ0kj7WYa0jDNiVPt9BOtwRxZk+YgedKdeInj7dJrsdCjSiPoxrp6ZX3KU+KJLOERDLqj7UBSdotNGwPsa8EnEIj7U+9FYba5gEvD7Exfb/FgnCPhb2F+4a/MY+0MACdySHzT62hcaXeUDTPhHXezvTldk+2iAPVPj54D42d/S/XIvmPj975MV4g+4+94PLdPkg9T7MsPYc/dT9PtLvDGSHQgU/ZA+j1uphDj8U8GskCcIVP6wq6oKwCR8/GArYDkbsIz8=\",\"dtype\":\"float64\",\"order\":\"little\",\"shape\":[52]},\"y\":{\"__ndarray__\":\"ZGuc9g4cyD5MxgdroxDRPg8Nq7E8KNg+PCi+azQZ4T64eH4SWjToPuEOwIbcIfE+Z0fnlcBA+D6YH2gliioBP9Sc7oPpTAg/Ql+zwzEzET+gljJTNVkYP2ZxYprjOyE/47vwko9lKD9bxrDhpkQxP5nUeP7hcTg/6iw3XFRNQT/T3tKpMH5IP1i/ozP/VVE/evcom4SKWD8yIkZ06F5hP/kHy8MMl2g/VofDFqNncT9hz+FLcKN4P3x0YW1acIE/X2vP28OviD9AhYSHRHmRP+ZaGzRwvJg/0yEEaB6CoT8CT0GG5sioP5UwcU3uirE/dGARDHnVuD8xiMFP55PBP9O3eEIG4sg/eGGlN7Kc0T9Ee1jImO7YP5XsWeOepeE/zbO0Jyb76D/JJeF0ba7xP1g6g2OjB/k/gxc9vHK3AUCvTMbddhQJQMNuAnVuwBFAzIQ6IyAhGUAKvmxdV8khQAlOitTELSlAXZNjGl7SMUD/kmg0gzo5QCwuSfFg20FAlZRAlEFHSUBXVyzIY+RRQEBcEvT/U1lAjhINn2btYUA=\",\"dtype\":\"float64\",\"order\":\"little\",\"shape\":[52]}},\"selected\":{\"id\":\"1298\"},\"selection_policy\":{\"id\":\"1297\"}},\"id\":\"1188\",\"type\":\"ColumnDataSource\"},{\"attributes\":{\"line_alpha\":0.1,\"line_color\":\"#D9466A\",\"line_width\":3,\"x\":{\"field\":\"x\"},\"y\":{\"field\":\"y\"}},\"id\":\"1196\",\"type\":\"Line\"},{\"attributes\":{\"source\":{\"id\":\"1188\"}},\"id\":\"1193\",\"type\":\"CDSView\"},{\"attributes\":{\"bottom_units\":\"screen\",\"fill_alpha\":0.5,\"fill_color\":\"lightgrey\",\"left_units\":\"screen\",\"level\":\"overlay\",\"line_alpha\":1.0,\"line_color\":\"black\",\"line_dash\":[4,4],\"line_width\":2,\"right_units\":\"screen\",\"syncable\":false,\"top_units\":\"screen\"},\"id\":\"1126\",\"type\":\"BoxAnnotation\"},{\"attributes\":{\"line_color\":\"#D9466A\",\"line_width\":3,\"x\":{\"field\":\"x\"},\"y\":{\"field\":\"y\"}},\"id\":\"1195\",\"type\":\"Line\"},{\"attributes\":{\"line_alpha\":0.2,\"line_color\":\"#D9466A\",\"line_width\":3,\"x\":{\"field\":\"x\"},\"y\":{\"field\":\"y\"}},\"id\":\"1197\",\"type\":\"Line\"},{\"attributes\":{},\"id\":\"1298\",\"type\":\"Selection\"},{\"attributes\":{\"data_source\":{\"id\":\"1194\"},\"glyph\":{\"id\":\"1195\"},\"hover_glyph\":null,\"muted_glyph\":{\"id\":\"1197\"},\"nonselection_glyph\":{\"id\":\"1196\"},\"view\":{\"id\":\"1199\"}},\"id\":\"1198\",\"type\":\"GlyphRenderer\"},{\"attributes\":{},\"id\":\"1282\",\"type\":\"Selection\"},{\"attributes\":{},\"id\":\"1308\",\"type\":\"Selection\"},{\"attributes\":{},\"id\":\"1313\",\"type\":\"UnionRenderers\"},{\"attributes\":{},\"id\":\"1303\",\"type\":\"UnionRenderers\"},{\"attributes\":{\"label\":{\"value\":\"H-\"},\"renderers\":[{\"id\":\"1234\"}]},\"id\":\"1259\",\"type\":\"LegendItem\"},{\"attributes\":{},\"id\":\"1304\",\"type\":\"Selection\"},{\"attributes\":{},\"id\":\"1314\",\"type\":\"Selection\"},{\"attributes\":{\"label\":{\"value\":\"H+\"},\"renderers\":[{\"id\":\"1240\"}]},\"id\":\"1260\",\"type\":\"LegendItem\"},{\"attributes\":{},\"id\":\"1295\",\"type\":\"UnionRenderers\"},{\"attributes\":{},\"id\":\"1307\",\"type\":\"UnionRenderers\"},{\"attributes\":{\"label\":{\"value\":\"VO\"},\"renderers\":[{\"id\":\"1228\"}]},\"id\":\"1258\",\"type\":\"LegendItem\"},{\"attributes\":{\"label\":{\"value\":\"TiO\"},\"renderers\":[{\"id\":\"1222\"}]},\"id\":\"1257\",\"type\":\"LegendItem\"},{\"attributes\":{\"label\":{\"value\":\"Fe\"},\"renderers\":[{\"id\":\"1216\"}]},\"id\":\"1256\",\"type\":\"LegendItem\"},{\"attributes\":{},\"id\":\"1305\",\"type\":\"UnionRenderers\"},{\"attributes\":{\"label\":{\"value\":\"PH3\"},\"renderers\":[{\"id\":\"1204\"}]},\"id\":\"1254\",\"type\":\"LegendItem\"},{\"attributes\":{\"text\":\"Mixing Ratios\"},\"id\":\"1102\",\"type\":\"Title\"},{\"attributes\":{},\"id\":\"1121\",\"type\":\"WheelZoomTool\"},{\"attributes\":{},\"id\":\"1306\",\"type\":\"Selection\"},{\"attributes\":{},\"id\":\"1108\",\"type\":\"LogScale\"},{\"attributes\":{\"line_alpha\":0.1,\"line_color\":\"#FDE1A3\",\"line_width\":3,\"x\":{\"field\":\"x\"},\"y\":{\"field\":\"y\"}},\"id\":\"1232\",\"type\":\"Line\"},{\"attributes\":{\"num_minor_ticks\":10},\"id\":\"1117\",\"type\":\"LogTicker\"},{\"attributes\":{\"label\":{\"value\":\"H\"},\"renderers\":[{\"id\":\"1198\"}]},\"id\":\"1253\",\"type\":\"LegendItem\"},{\"attributes\":{\"end\":100.0,\"start\":1e-20},\"id\":\"1104\",\"type\":\"Range1d\"},{\"attributes\":{},\"id\":\"1124\",\"type\":\"ResetTool\"},{\"attributes\":{},\"id\":\"1120\",\"type\":\"PanTool\"},{\"attributes\":{\"overlay\":{\"id\":\"1126\"}},\"id\":\"1122\",\"type\":\"BoxZoomTool\"},{\"attributes\":{\"label\":{\"value\":\"CH4\"},\"renderers\":[{\"id\":\"1168\"}]},\"id\":\"1248\",\"type\":\"LegendItem\"},{\"attributes\":{},\"id\":\"1310\",\"type\":\"Selection\"},{\"attributes\":{\"axis\":{\"id\":\"1112\"},\"ticker\":null},\"id\":\"1115\",\"type\":\"Grid\"},{\"attributes\":{\"label\":{\"value\":\"H2O\"},\"renderers\":[{\"id\":\"1156\"}]},\"id\":\"1246\",\"type\":\"LegendItem\"},{\"attributes\":{\"axis_label\":\"Mixing Ratio(v/v)\",\"formatter\":{\"id\":\"1275\"},\"major_label_policy\":{\"id\":\"1277\"},\"ticker\":{\"id\":\"1113\"}},\"id\":\"1112\",\"type\":\"LogAxis\"},{\"attributes\":{},\"id\":\"1123\",\"type\":\"SaveTool\"},{\"attributes\":{\"label\":{\"value\":\"Na\"},\"renderers\":[{\"id\":\"1186\"}]},\"id\":\"1251\",\"type\":\"LegendItem\"},{\"attributes\":{\"axis_label\":\"Pressure(Bars)\",\"formatter\":{\"id\":\"1272\"},\"major_label_policy\":{\"id\":\"1274\"},\"ticker\":{\"id\":\"1117\"}},\"id\":\"1116\",\"type\":\"LogAxis\"},{\"attributes\":{},\"id\":\"1110\",\"type\":\"LogScale\"},{\"attributes\":{\"label\":{\"value\":\"NH3\"},\"renderers\":[{\"id\":\"1192\"}]},\"id\":\"1252\",\"type\":\"LegendItem\"},{\"attributes\":{},\"id\":\"1309\",\"type\":\"UnionRenderers\"},{\"attributes\":{\"end\":2.8740886833916594e-06,\"start\":143.41877701333254},\"id\":\"1106\",\"type\":\"Range1d\"},{\"attributes\":{\"label\":{\"value\":\"H2S\"},\"renderers\":[{\"id\":\"1180\"}]},\"id\":\"1250\",\"type\":\"LegendItem\"},{\"attributes\":{\"label\":{\"value\":\"CO2\"},\"renderers\":[{\"id\":\"1174\"}]},\"id\":\"1249\",\"type\":\"LegendItem\"},{\"attributes\":{\"label\":{\"value\":\"N2\"},\"renderers\":[{\"id\":\"1162\"}]},\"id\":\"1247\",\"type\":\"LegendItem\"},{\"attributes\":{\"axis\":{\"id\":\"1116\"},\"dimension\":1,\"ticker\":null},\"id\":\"1119\",\"type\":\"Grid\"},{\"attributes\":{\"label\":{\"value\":\"CO\"},\"renderers\":[{\"id\":\"1150\"}]},\"id\":\"1245\",\"type\":\"LegendItem\"},{\"attributes\":{\"num_minor_ticks\":10},\"id\":\"1113\",\"type\":\"LogTicker\"},{\"attributes\":{\"data_source\":{\"id\":\"1224\"},\"glyph\":{\"id\":\"1225\"},\"hover_glyph\":null,\"muted_glyph\":{\"id\":\"1227\"},\"nonselection_glyph\":{\"id\":\"1226\"},\"view\":{\"id\":\"1229\"}},\"id\":\"1228\",\"type\":\"GlyphRenderer\"},{\"attributes\":{\"line_alpha\":0.2,\"line_color\":\"#FEC689\",\"line_width\":3,\"x\":{\"field\":\"x\"},\"y\":{\"field\":\"y\"}},\"id\":\"1227\",\"type\":\"Line\"},{\"attributes\":{\"data_source\":{\"id\":\"1236\"},\"glyph\":{\"id\":\"1237\"},\"hover_glyph\":null,\"muted_glyph\":{\"id\":\"1239\"},\"nonselection_glyph\":{\"id\":\"1238\"},\"view\":{\"id\":\"1241\"}},\"id\":\"1240\",\"type\":\"GlyphRenderer\"},{\"attributes\":{\"label\":{\"value\":\"H2\"},\"renderers\":[{\"id\":\"1138\"}]},\"id\":\"1243\",\"type\":\"LegendItem\"},{\"attributes\":{\"line_alpha\":0.1,\"line_color\":\"#FBFCBF\",\"line_width\":3,\"x\":{\"field\":\"x\"},\"y\":{\"field\":\"y\"}},\"id\":\"1238\",\"type\":\"Line\"},{\"attributes\":{\"click_policy\":\"mute\",\"items\":[{\"id\":\"1243\"},{\"id\":\"1244\"},{\"id\":\"1245\"},{\"id\":\"1246\"},{\"id\":\"1247\"},{\"id\":\"1248\"},{\"id\":\"1249\"},{\"id\":\"1250\"},{\"id\":\"1251\"},{\"id\":\"1252\"},{\"id\":\"1253\"},{\"id\":\"1254\"},{\"id\":\"1255\"},{\"id\":\"1256\"},{\"id\":\"1257\"},{\"id\":\"1258\"},{\"id\":\"1259\"},{\"id\":\"1260\"}],\"location\":[0,-20]},\"id\":\"1242\",\"type\":\"Legend\"},{\"attributes\":{\"label\":{\"value\":\"K\"},\"renderers\":[{\"id\":\"1210\"}]},\"id\":\"1255\",\"type\":\"LegendItem\"},{\"attributes\":{\"source\":{\"id\":\"1224\"}},\"id\":\"1229\",\"type\":\"CDSView\"},{\"attributes\":{},\"id\":\"1311\",\"type\":\"UnionRenderers\"},{\"attributes\":{\"line_color\":\"#FBFCBF\",\"line_width\":3,\"x\":{\"field\":\"x\"},\"y\":{\"field\":\"y\"}},\"id\":\"1237\",\"type\":\"Line\"},{\"attributes\":{},\"id\":\"1296\",\"type\":\"Selection\"},{\"attributes\":{},\"id\":\"1312\",\"type\":\"Selection\"},{\"attributes\":{\"data\":{\"x\":{\"__ndarray__\":\"r1eJ//UNwDqfIGVoMF3AOptB3sREVtI65w+cwTdf6DryoALS7CsBO1GyEkCzLRg7xktykGBGLzuCY6dl59RBO//f76/V31I7o+XmtKOBZDv7KSoBsGt1OyyHEQzYqoY7+3/T86k3mTsMSnWbCYirO3yL1Y6p3Ls72gKU2ungyTuGwIh78qnVO/pfyHCUhd87PhEQC0bH5DvP7hlXHF3sO81vAeyejPY7gGRJjfEyBTxJzUFsgwUXPJNtYPfcHyk8MJLNBXL8ODyyiiCTSJhJPMo/iP5XhV88LfmeYTMAdzx38bTTRCySPMByWAc5Q608AOdbE0egxjzkAZudQbzgPL42phBAgvc8Bs1+McJWDD1aE6CvKikdPWGB7anapyo94Bft3wSTNj0uKGNCKVZEPdDDv97+hlM9PYu0HB6uYT24SrHGeC9tPbZ3sDLNBXU9criJBsiyfj2C90lmyzWGPUNok1GJR4w9YEtaixPrjj3S2XZuTpmNPapoYOqM54k9EoHlDvK5hT1Vvws97vyBPWYqOryQpH09515edWSTiz0=\",\"dtype\":\"float64\",\"order\":\"little\",\"shape\":[52]},\"y\":{\"__ndarray__\":\"ZGuc9g4cyD5MxgdroxDRPg8Nq7E8KNg+PCi+azQZ4T64eH4SWjToPuEOwIbcIfE+Z0fnlcBA+D6YH2gliioBP9Sc7oPpTAg/Ql+zwzEzET+gljJTNVkYP2ZxYprjOyE/47vwko9lKD9bxrDhpkQxP5nUeP7hcTg/6iw3XFRNQT/T3tKpMH5IP1i/ozP/VVE/evcom4SKWD8yIkZ06F5hP/kHy8MMl2g/VofDFqNncT9hz+FLcKN4P3x0YW1acIE/X2vP28OviD9AhYSHRHmRP+ZaGzRwvJg/0yEEaB6CoT8CT0GG5sioP5UwcU3uirE/dGARDHnVuD8xiMFP55PBP9O3eEIG4sg/eGGlN7Kc0T9Ee1jImO7YP5XsWeOepeE/zbO0Jyb76D/JJeF0ba7xP1g6g2OjB/k/gxc9vHK3AUCvTMbddhQJQMNuAnVuwBFAzIQ6IyAhGUAKvmxdV8khQAlOitTELSlAXZNjGl7SMUD/kmg0gzo5QCwuSfFg20FAlZRAlEFHSUBXVyzIY+RRQEBcEvT/U1lAjhINn2btYUA=\",\"dtype\":\"float64\",\"order\":\"little\",\"shape\":[52]}},\"selected\":{\"id\":\"1312\"},\"selection_policy\":{\"id\":\"1311\"}},\"id\":\"1230\",\"type\":\"ColumnDataSource\"},{\"attributes\":{\"source\":{\"id\":\"1236\"}},\"id\":\"1241\",\"type\":\"CDSView\"},{\"attributes\":{},\"id\":\"1290\",\"type\":\"Selection\"},{\"attributes\":{\"line_alpha\":0.2,\"line_color\":\"#FBFCBF\",\"line_width\":3,\"x\":{\"field\":\"x\"},\"y\":{\"field\":\"y\"}},\"id\":\"1239\",\"type\":\"Line\"},{\"attributes\":{},\"id\":\"1289\",\"type\":\"UnionRenderers\"},{\"attributes\":{\"label\":{\"value\":\"He\"},\"renderers\":[{\"id\":\"1144\"}]},\"id\":\"1244\",\"type\":\"LegendItem\"},{\"attributes\":{\"data\":{\"x\":{\"__ndarray__\":\"unt2qY7qEzAClM+8MSMcMLYXI0BxQFIw11MZSzNyoDCXc/EBBQnxMGqTeIAQXDsxhxlUo919ejFfK7UxFziwMeaS+Kr/PN4xSFEJP4I7DDIENIfkxyhEMuNYQZ9tHoQy/eFl+e2PxDKwmIkheEQAMx8QgaOzNjIzdflPYizkWzPeS3a6jRd9MzCsAfCTsZUzPE9XDXOhqTP2awGMinDCM0n7AXdys+kzQkKhVqVTIDSAkJcA/O9cNP2XdMWYq5Q0BMcixTwiyDQdBFPLiXICNdJXsuxGIEw13pIgD5yRojUMtrtDgrv+NTx33ALQxFg2U8alI2N6sTbRBDsUOfYEN2BJPfWCtVQ3+0WdYRnxlDfqmD0FcsPJNzhJPTdvj/U3v/760ZCvHDimRfkrhD9LOOJIGqWaJX445HNa/R8gqDhqtsQlEpTMOP6+gU/09+Q4QJ+CdvkAAzmKFA9cULEcOTi6y7mNOy05HMHGDFiJMjnMMrtgExovOUNQjsIcGCQ5+dfT6wMrFznn24O00vAJOd4fXko2Pv04RBqL7ewGPjk=\",\"dtype\":\"float64\",\"order\":\"little\",\"shape\":[52]},\"y\":{\"__ndarray__\":\"ZGuc9g4cyD5MxgdroxDRPg8Nq7E8KNg+PCi+azQZ4T64eH4SWjToPuEOwIbcIfE+Z0fnlcBA+D6YH2gliioBP9Sc7oPpTAg/Ql+zwzEzET+gljJTNVkYP2ZxYprjOyE/47vwko9lKD9bxrDhpkQxP5nUeP7hcTg/6iw3XFRNQT/T3tKpMH5IP1i/ozP/VVE/evcom4SKWD8yIkZ06F5hP/kHy8MMl2g/VofDFqNncT9hz+FLcKN4P3x0YW1acIE/X2vP28OviD9AhYSHRHmRP+ZaGzRwvJg/0yEEaB6CoT8CT0GG5sioP5UwcU3uirE/dGARDHnVuD8xiMFP55PBP9O3eEIG4sg/eGGlN7Kc0T9Ee1jImO7YP5XsWeOepeE/zbO0Jyb76D/JJeF0ba7xP1g6g2OjB/k/gxc9vHK3AUCvTMbddhQJQMNuAnVuwBFAzIQ6IyAhGUAKvmxdV8khQAlOitTELSlAXZNjGl7SMUD/kmg0gzo5QCwuSfFg20FAlZRAlEFHSUBXVyzIY+RRQEBcEvT/U1lAjhINn2btYUA=\",\"dtype\":\"float64\",\"order\":\"little\",\"shape\":[52]}},\"selected\":{\"id\":\"1314\"},\"selection_policy\":{\"id\":\"1313\"}},\"id\":\"1236\",\"type\":\"ColumnDataSource\"},{\"attributes\":{\"source\":{\"id\":\"1230\"}},\"id\":\"1235\",\"type\":\"CDSView\"},{\"attributes\":{\"line_alpha\":0.2,\"line_color\":\"#FDE1A3\",\"line_width\":3,\"x\":{\"field\":\"x\"},\"y\":{\"field\":\"y\"}},\"id\":\"1233\",\"type\":\"Line\"},{\"attributes\":{\"data_source\":{\"id\":\"1230\"},\"glyph\":{\"id\":\"1231\"},\"hover_glyph\":null,\"muted_glyph\":{\"id\":\"1233\"},\"nonselection_glyph\":{\"id\":\"1232\"},\"view\":{\"id\":\"1235\"}},\"id\":\"1234\",\"type\":\"GlyphRenderer\"},{\"attributes\":{\"line_color\":\"#FDE1A3\",\"line_width\":3,\"x\":{\"field\":\"x\"},\"y\":{\"field\":\"y\"}},\"id\":\"1231\",\"type\":\"Line\"}],\"root_ids\":[\"1101\"]},\"title\":\"Bokeh Application\",\"version\":\"2.3.3\"}};\n",
       "  var render_items = [{\"docid\":\"5c65cd2c-7d1b-4da0-b92f-3609996c6e34\",\"root_ids\":[\"1101\"],\"roots\":{\"1101\":\"1f0f7d10-27f1-44e7-af31-9702aff2e0df\"}}];\n",
       "  root.Bokeh.embed.embed_items_notebook(docs_json, render_items);\n",
       "\n",
       "  }\n",
       "  if (root.Bokeh !== undefined) {\n",
       "    embed_document(root);\n",
       "  } else {\n",
       "    var attempts = 0;\n",
       "    var timer = setInterval(function(root) {\n",
       "      if (root.Bokeh !== undefined) {\n",
       "        clearInterval(timer);\n",
       "        embed_document(root);\n",
       "      } else {\n",
       "        attempts++;\n",
       "        if (attempts > 100) {\n",
       "          clearInterval(timer);\n",
       "          console.log(\"Bokeh: ERROR: Unable to run BokehJS code because BokehJS library is missing\");\n",
       "        }\n",
       "      }\n",
       "    }, 10, root)\n",
       "  }\n",
       "})(window);"
      ],
      "application/vnd.bokehjs_exec.v0+json": ""
     },
     "metadata": {
      "application/vnd.bokehjs_exec.v0+json": {
       "id": "1101"
      }
     },
     "output_type": "display_data"
    }
   ],
   "source": [
    "jpi.show(jpi.pt(full_output,plot_width=500))\n",
    "jpi.show(jpi.mixing_ratio(full_output,plot_width=500))"
   ]
  },
  {
   "cell_type": "markdown",
   "metadata": {},
   "source": [
    "### Standard (Rp/Rs)^2"
   ]
  },
  {
   "cell_type": "code",
   "execution_count": 6,
   "metadata": {},
   "outputs": [
    {
     "data": {
      "text/html": [
       "\n",
       "\n",
       "\n",
       "\n",
       "\n",
       "\n",
       "  <div class=\"bk-root\" id=\"1765b388-bd92-4a76-9b2c-b49bd74e9b54\" data-root-id=\"1535\"></div>\n"
      ]
     },
     "metadata": {},
     "output_type": "display_data"
    },
    {
     "data": {
      "application/javascript": [
       "(function(root) {\n",
       "  function embed_document(root) {\n",
       "    \n",
       "  var docs_json = {\"5eccf8d1-83d6-4557-82ef-a5fae8db13c7\":{\"defs\":[],\"roots\":{\"references\":[{\"attributes\":{\"below\":[{\"id\":\"1544\"}],\"center\":[{\"id\":\"1547\"},{\"id\":\"1551\"}],\"height\":345,\"left\":[{\"id\":\"1548\"}],\"renderers\":[{\"id\":\"1569\"}],\"title\":{\"id\":\"1625\"},\"toolbar\":{\"id\":\"1559\"},\"width\":500,\"x_range\":{\"id\":\"1536\"},\"x_scale\":{\"id\":\"1540\"},\"y_range\":{\"id\":\"1538\"},\"y_scale\":{\"id\":\"1542\"}},\"id\":\"1535\",\"subtype\":\"Figure\",\"type\":\"Plot\"},{\"attributes\":{\"source\":{\"id\":\"1566\"}},\"id\":\"1570\",\"type\":\"CDSView\"},{\"attributes\":{\"line_alpha\":0.1,\"line_color\":\"#0072B2\",\"line_width\":3,\"x\":{\"field\":\"x\"},\"y\":{\"field\":\"y\"}},\"id\":\"1568\",\"type\":\"Line\"},{\"attributes\":{\"bottom_units\":\"screen\",\"fill_alpha\":0.5,\"fill_color\":\"lightgrey\",\"left_units\":\"screen\",\"level\":\"overlay\",\"line_alpha\":1.0,\"line_color\":\"black\",\"line_dash\":[4,4],\"line_width\":2,\"right_units\":\"screen\",\"syncable\":false,\"top_units\":\"screen\"},\"id\":\"1558\",\"type\":\"BoxAnnotation\"},{\"attributes\":{},\"id\":\"1536\",\"type\":\"DataRange1d\"},{\"attributes\":{\"data_source\":{\"id\":\"1566\"},\"glyph\":{\"id\":\"1567\"},\"hover_glyph\":null,\"muted_glyph\":null,\"nonselection_glyph\":{\"id\":\"1568\"},\"view\":{\"id\":\"1570\"}},\"id\":\"1569\",\"type\":\"GlyphRenderer\"},{\"attributes\":{},\"id\":\"1538\",\"type\":\"DataRange1d\"},{\"attributes\":{},\"id\":\"1555\",\"type\":\"SaveTool\"},{\"attributes\":{\"axis_label\":\"Wavelength [\\u03bcm]\",\"axis_label_text_font\":\"times\",\"axis_label_text_font_size\":\"14pt\",\"axis_label_text_font_style\":\"bold\",\"formatter\":{\"id\":\"1630\"},\"major_label_policy\":{\"id\":\"1632\"},\"major_label_text_font\":\"times\",\"major_label_text_font_size\":\"14pt\",\"ticker\":{\"id\":\"1545\"}},\"id\":\"1544\",\"type\":\"LinearAxis\"},{\"attributes\":{},\"id\":\"1634\",\"type\":\"UnionRenderers\"},{\"attributes\":{},\"id\":\"1542\",\"type\":\"LinearScale\"},{\"attributes\":{},\"id\":\"1540\",\"type\":\"LinearScale\"},{\"attributes\":{},\"id\":\"1635\",\"type\":\"Selection\"},{\"attributes\":{\"data\":{\"x\":{\"__ndarray__\":\"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\",\"dtype\":\"float64\",\"order\":\"little\",\"shape\":[319]},\"y\":{\"__ndarray__\":\"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\",\"dtype\":\"float64\",\"order\":\"little\",\"shape\":[319]}},\"selected\":{\"id\":\"1635\"},\"selection_policy\":{\"id\":\"1634\"}},\"id\":\"1566\",\"type\":\"ColumnDataSource\"},{\"attributes\":{},\"id\":\"1545\",\"type\":\"BasicTicker\"},{\"attributes\":{\"axis\":{\"id\":\"1544\"},\"ticker\":null},\"id\":\"1547\",\"type\":\"Grid\"},{\"attributes\":{},\"id\":\"1553\",\"type\":\"WheelZoomTool\"},{\"attributes\":{},\"id\":\"1627\",\"type\":\"BasicTickFormatter\"},{\"attributes\":{\"axis_label\":\"Spectrum\",\"axis_label_text_font\":\"times\",\"axis_label_text_font_size\":\"14pt\",\"axis_label_text_font_style\":\"bold\",\"formatter\":{\"id\":\"1627\"},\"major_label_policy\":{\"id\":\"1629\"},\"major_label_text_font\":\"times\",\"major_label_text_font_size\":\"14pt\",\"ticker\":{\"id\":\"1549\"}},\"id\":\"1548\",\"type\":\"LinearAxis\"},{\"attributes\":{},\"id\":\"1629\",\"type\":\"AllLabels\"},{\"attributes\":{},\"id\":\"1625\",\"type\":\"Title\"},{\"attributes\":{\"axis\":{\"id\":\"1548\"},\"dimension\":1,\"ticker\":null},\"id\":\"1551\",\"type\":\"Grid\"},{\"attributes\":{},\"id\":\"1549\",\"type\":\"BasicTicker\"},{\"attributes\":{\"active_multi\":null,\"tools\":[{\"id\":\"1552\"},{\"id\":\"1553\"},{\"id\":\"1554\"},{\"id\":\"1555\"},{\"id\":\"1556\"},{\"id\":\"1557\"}]},\"id\":\"1559\",\"type\":\"Toolbar\"},{\"attributes\":{},\"id\":\"1557\",\"type\":\"HelpTool\"},{\"attributes\":{},\"id\":\"1552\",\"type\":\"PanTool\"},{\"attributes\":{\"overlay\":{\"id\":\"1558\"}},\"id\":\"1554\",\"type\":\"BoxZoomTool\"},{\"attributes\":{},\"id\":\"1556\",\"type\":\"ResetTool\"},{\"attributes\":{},\"id\":\"1630\",\"type\":\"BasicTickFormatter\"},{\"attributes\":{},\"id\":\"1632\",\"type\":\"AllLabels\"},{\"attributes\":{\"line_color\":\"#0072B2\",\"line_width\":3,\"x\":{\"field\":\"x\"},\"y\":{\"field\":\"y\"}},\"id\":\"1567\",\"type\":\"Line\"}],\"root_ids\":[\"1535\"]},\"title\":\"Bokeh Application\",\"version\":\"2.3.3\"}};\n",
       "  var render_items = [{\"docid\":\"5eccf8d1-83d6-4557-82ef-a5fae8db13c7\",\"root_ids\":[\"1535\"],\"roots\":{\"1535\":\"1765b388-bd92-4a76-9b2c-b49bd74e9b54\"}}];\n",
       "  root.Bokeh.embed.embed_items_notebook(docs_json, render_items);\n",
       "\n",
       "  }\n",
       "  if (root.Bokeh !== undefined) {\n",
       "    embed_document(root);\n",
       "  } else {\n",
       "    var attempts = 0;\n",
       "    var timer = setInterval(function(root) {\n",
       "      if (root.Bokeh !== undefined) {\n",
       "        clearInterval(timer);\n",
       "        embed_document(root);\n",
       "      } else {\n",
       "        attempts++;\n",
       "        if (attempts > 100) {\n",
       "          clearInterval(timer);\n",
       "          console.log(\"Bokeh: ERROR: Unable to run BokehJS code because BokehJS library is missing\");\n",
       "        }\n",
       "      }\n",
       "    }, 10, root)\n",
       "  }\n",
       "})(window);"
      ],
      "application/vnd.bokehjs_exec.v0+json": ""
     },
     "metadata": {
      "application/vnd.bokehjs_exec.v0+json": {
       "id": "1535"
      }
     },
     "output_type": "display_data"
    }
   ],
   "source": [
    "jpi.show(jpi.spectrum(wno,rprs2*1e6,plot_width=500))"
   ]
  },
  {
   "cell_type": "markdown",
   "metadata": {},
   "source": [
    "## Adding Grey Cloud\n",
    "\n",
    "If you want to test the observability of your features against varying strengths of cloud optical depth, you can use the `cloud` box model function \n",
    "\n",
    "Remember: \n",
    "\n",
    "- `p` is the maximum cloud pressure in log. Max Pressure = 10^p bars \n",
    "- `dp` is the thickness in log. Minimum Pressure = 10^(p-dp) bars\n",
    "- In order to simulate an optically thick cloud deck, set `opd` arbitrarily large (>1)\n",
    "- In transit, the asymmetry and single scattering albedo are not used and can be set to anything between 0-1\n"
   ]
  },
  {
   "cell_type": "code",
   "execution_count": 7,
   "metadata": {},
   "outputs": [
    {
     "name": "stderr",
     "output_type": "stream",
     "text": [
      "/Users/nbatalh1/Documents/codes/PICASO/picaso/picaso/atmsetup.py:190: UserWarning: Ignoring x in input file, not a recognized molecule\n",
      "  warnings.warn(\"Ignoring %s in input file, not a recognized molecule\" % i, UserWarning)\n",
      "/Users/nbatalh1/Documents/codes/PICASO/picaso/picaso/atmsetup.py:190: UserWarning: Ignoring KZZ in input file, not a recognized molecule\n",
      "  warnings.warn(\"Ignoring %s in input file, not a recognized molecule\" % i, UserWarning)\n"
     ]
    },
    {
     "data": {
      "text/html": [
       "\n",
       "\n",
       "\n",
       "\n",
       "\n",
       "\n",
       "  <div class=\"bk-root\" id=\"d4bfba11-7fa7-4428-bca6-f9ad841f6968\" data-root-id=\"1691\"></div>\n"
      ]
     },
     "metadata": {},
     "output_type": "display_data"
    },
    {
     "data": {
      "application/javascript": [
       "(function(root) {\n",
       "  function embed_document(root) {\n",
       "    \n",
       "  var docs_json = {\"40539228-122d-4870-aeaa-a3e799a07ae7\":{\"defs\":[],\"roots\":{\"references\":[{\"attributes\":{\"below\":[{\"id\":\"1700\"}],\"center\":[{\"id\":\"1703\"},{\"id\":\"1707\"}],\"height\":345,\"left\":[{\"id\":\"1704\"},{\"id\":\"1734\"}],\"renderers\":[{\"id\":\"1726\"},{\"id\":\"1732\"}],\"title\":{\"id\":\"1802\"},\"toolbar\":{\"id\":\"1715\"},\"width\":500,\"x_range\":{\"id\":\"1692\"},\"x_scale\":{\"id\":\"1696\"},\"y_range\":{\"id\":\"1694\"},\"y_scale\":{\"id\":\"1698\"}},\"id\":\"1691\",\"subtype\":\"Figure\",\"type\":\"Plot\"},{\"attributes\":{\"source\":{\"id\":\"1722\"}},\"id\":\"1727\",\"type\":\"CDSView\"},{\"attributes\":{\"axis\":{\"id\":\"1700\"},\"ticker\":null},\"id\":\"1703\",\"type\":\"Grid\"},{\"attributes\":{},\"id\":\"1807\",\"type\":\"BasicTickFormatter\"},{\"attributes\":{\"line_alpha\":0.1,\"line_color\":\"#0072B2\",\"line_width\":3,\"x\":{\"field\":\"x\"},\"y\":{\"field\":\"y\"}},\"id\":\"1724\",\"type\":\"Line\"},{\"attributes\":{\"axis_label\":\"Spectrum\",\"axis_label_text_font\":\"times\",\"axis_label_text_font_size\":\"14pt\",\"axis_label_text_font_style\":\"bold\",\"formatter\":{\"id\":\"1804\"},\"major_label_policy\":{\"id\":\"1806\"},\"major_label_text_font\":\"times\",\"major_label_text_font_size\":\"14pt\",\"ticker\":{\"id\":\"1705\"}},\"id\":\"1704\",\"type\":\"LinearAxis\"},{\"attributes\":{},\"id\":\"1712\",\"type\":\"ResetTool\"},{\"attributes\":{},\"id\":\"1813\",\"type\":\"UnionRenderers\"},{\"attributes\":{\"line_alpha\":0.2,\"line_color\":\"#0072B2\",\"line_width\":3,\"x\":{\"field\":\"x\"},\"y\":{\"field\":\"y\"}},\"id\":\"1725\",\"type\":\"Line\"},{\"attributes\":{},\"id\":\"1698\",\"type\":\"LinearScale\"},{\"attributes\":{\"overlay\":{\"id\":\"1714\"}},\"id\":\"1710\",\"type\":\"BoxZoomTool\"},{\"attributes\":{},\"id\":\"1713\",\"type\":\"HelpTool\"},{\"attributes\":{\"line_color\":\"#E69F00\",\"line_width\":3,\"x\":{\"field\":\"x\"},\"y\":{\"field\":\"y\"}},\"id\":\"1729\",\"type\":\"Line\"},{\"attributes\":{},\"id\":\"1809\",\"type\":\"AllLabels\"},{\"attributes\":{},\"id\":\"1806\",\"type\":\"AllLabels\"},{\"attributes\":{},\"id\":\"1709\",\"type\":\"WheelZoomTool\"},{\"attributes\":{\"line_color\":\"#0072B2\",\"line_width\":3,\"x\":{\"field\":\"x\"},\"y\":{\"field\":\"y\"}},\"id\":\"1723\",\"type\":\"Line\"},{\"attributes\":{},\"id\":\"1711\",\"type\":\"SaveTool\"},{\"attributes\":{\"axis_label\":\"Wavelength [\\u03bcm]\",\"axis_label_text_font\":\"times\",\"axis_label_text_font_size\":\"14pt\",\"axis_label_text_font_style\":\"bold\",\"formatter\":{\"id\":\"1807\"},\"major_label_policy\":{\"id\":\"1809\"},\"major_label_text_font\":\"times\",\"major_label_text_font_size\":\"14pt\",\"ticker\":{\"id\":\"1701\"}},\"id\":\"1700\",\"type\":\"LinearAxis\"},{\"attributes\":{},\"id\":\"1696\",\"type\":\"LinearScale\"},{\"attributes\":{},\"id\":\"1692\",\"type\":\"DataRange1d\"},{\"attributes\":{\"line_alpha\":0.2,\"line_color\":\"#E69F00\",\"line_width\":3,\"x\":{\"field\":\"x\"},\"y\":{\"field\":\"y\"}},\"id\":\"1731\",\"type\":\"Line\"},{\"attributes\":{\"data\":{\"x\":{\"__ndarray__\":\"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\",\"dtype\":\"float64\",\"order\":\"little\",\"shape\":[319]},\"y\":{\"__ndarray__\":\"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\",\"dtype\":\"float64\",\"order\":\"little\",\"shape\":[319]}},\"selected\":{\"id\":\"1814\"},\"selection_policy\":{\"id\":\"1813\"}},\"id\":\"1728\",\"type\":\"ColumnDataSource\"},{\"attributes\":{\"click_policy\":\"mute\",\"items\":[{\"id\":\"1735\"},{\"id\":\"1736\"}],\"location\":[0,0]},\"id\":\"1734\",\"type\":\"Legend\"},{\"attributes\":{\"active_multi\":null,\"tools\":[{\"id\":\"1708\"},{\"id\":\"1709\"},{\"id\":\"1710\"},{\"id\":\"1711\"},{\"id\":\"1712\"},{\"id\":\"1713\"}]},\"id\":\"1715\",\"type\":\"Toolbar\"},{\"attributes\":{\"label\":{\"value\":\"Grey cloud\"},\"renderers\":[{\"id\":\"1732\"}]},\"id\":\"1736\",\"type\":\"LegendItem\"},{\"attributes\":{\"axis\":{\"id\":\"1704\"},\"dimension\":1,\"ticker\":null},\"id\":\"1707\",\"type\":\"Grid\"},{\"attributes\":{\"source\":{\"id\":\"1728\"}},\"id\":\"1733\",\"type\":\"CDSView\"},{\"attributes\":{},\"id\":\"1705\",\"type\":\"BasicTicker\"},{\"attributes\":{\"line_alpha\":0.1,\"line_color\":\"#E69F00\",\"line_width\":3,\"x\":{\"field\":\"x\"},\"y\":{\"field\":\"y\"}},\"id\":\"1730\",\"type\":\"Line\"},{\"attributes\":{},\"id\":\"1694\",\"type\":\"DataRange1d\"},{\"attributes\":{\"data_source\":{\"id\":\"1722\"},\"glyph\":{\"id\":\"1723\"},\"hover_glyph\":null,\"muted_glyph\":{\"id\":\"1725\"},\"nonselection_glyph\":{\"id\":\"1724\"},\"view\":{\"id\":\"1727\"}},\"id\":\"1726\",\"type\":\"GlyphRenderer\"},{\"attributes\":{\"bottom_units\":\"screen\",\"fill_alpha\":0.5,\"fill_color\":\"lightgrey\",\"left_units\":\"screen\",\"level\":\"overlay\",\"line_alpha\":1.0,\"line_color\":\"black\",\"line_dash\":[4,4],\"line_width\":2,\"right_units\":\"screen\",\"syncable\":false,\"top_units\":\"screen\"},\"id\":\"1714\",\"type\":\"BoxAnnotation\"},{\"attributes\":{},\"id\":\"1811\",\"type\":\"UnionRenderers\"},{\"attributes\":{},\"id\":\"1701\",\"type\":\"BasicTicker\"},{\"attributes\":{\"data_source\":{\"id\":\"1728\"},\"glyph\":{\"id\":\"1729\"},\"hover_glyph\":null,\"muted_glyph\":{\"id\":\"1731\"},\"nonselection_glyph\":{\"id\":\"1730\"},\"view\":{\"id\":\"1733\"}},\"id\":\"1732\",\"type\":\"GlyphRenderer\"},{\"attributes\":{\"data\":{\"x\":{\"__ndarray__\":\"uAWzU+0PFEBmc9Ahze0TQGbrKvzmyxNAYTYFgDqqE0BzEUpLx4gTQHwQi/yMZxNAWIL/MotGE0DzVoOOwSUTQEcHlq8vBRNAJn9ZN9XkEkDvCJHHscQSQA47oALFpBJAUOeJiw6FEkANDO8FjmUSQBTHDRZDRhJAbkrAYC0nEkDd0nuLTAgSQCKgTzyg6RFABe/jGSjLEUAW9XjL46wRQDHe5fjSjhFAtsuXSvVwEUBq1ZBpSlMRQCEMZ//RNRFABH5DtosYEUCKPOE4d/sQQBxkjDKU3hBAXCUhT+LBEEAQ0Ao7YaUQQLDfQqMQiRBAlAlQNfBsEEC0TEWf/1AQQA4DwY8+NRBAk/TrtawZEEBv1/CCk/wPQBGXQsUqxg9AoE5SlB6QD0CQt7JSbloPQK9TAmQZJQ9AoKXpLB/wDkBlbBkTf7sOQOThSH04hw5Adfwz00pTDkBVs5l9tR8OQCFGOuZ37A1AKYfVd5G5DUC0KCmeAYcNQDcN78XHVA1AT5rbXOMiDUCnDpzRU/EMQK7a1JMYwAxAGfwfFDGPDEA7XAvEnF4MQBcxFxZbLgxAPWG0fWv+C0Bg6kJvzc4LQKBKEGCAnwtAlOxVxoNwC0D1lTcZ10ELQP/YwdB5EwtAdojoZWvlCkBALoVSq7cKQLGEVRE5igpAYPL5HRRdCkCVCPT0OzAKQEUEpROwAwpAolFM+G/XCUApEgYie6sJQC2lyRDRfwlA9zJoRXFUCUBHOotBWykJQGEgs4eO/ghAdsM1mwrUCECPDz0Az6kIQNWVxTvbfwhARiad0y5WCEDDa2FOySwIQIWKfjOqAwhA4cAtC9HaB0BxCnRePbIHQHvFILfuiQdAtVrMn+RhB0BJ59ajHjoHQCfpZk+cEgdAj+1nL13rBkDhQYnRYMQGQKemPMSmnQZAzQS1li53BkAWJeXY91AGQLxpfhsCKwZAMorv70wFBkAmUWPo198FQIRcv5eiugVAut+ikayVBUAGaGVq9XAFQN6iFbd8TAVAdiZ4DUIoBUBRPAYERQQFQOOt7DGF4ARAOJMKLwK9BECsI/CTu5kEQKWI3fmwdgRAQ7LB+uFTBEAaLjkxTjEEQN7/jDj1DgRACnyxrNbsA0B4JEUq8soDQOKGj05HqQNAYB2At9WHA0C9MK0DnWYDQMC8UtKcRQNASlZRw9QkA0BgEy13RAQDQA51DI/r4wJAHVO3rMnDAkCgyZVy3qMCQGQor4MphAJAFeSog6pkAkBEicUWYUUCQC2x4+FMJgJAS/h8im0HAkCl9qS2wugBQOY5CA1MygFAK0HrNAmsAUCReinW+Y0BQHlCNJkdcAFAeeQRJ3RSAUAQnlwp/TQBQPeiQUq4FwFAKCOANKX6AECNUmiTw90AQFNy2hITwQBA4NtFX5OkAEByDaglRIgAQE64ixMlbABAmNAH1zVQAEC7nr4edjQAQGnS3JnlGABAWi4x8Af7/z8rVWHTocT/P7vn1j6Yjv8/ZjoslepY/z/iXAc6mCP/P+dSGJKg7v4/zE8XAwO6/j8f9cLzvoX+PzuU3svTUf4/7XIw9EAe/j/qEoDWBev9Pz98lN0huP0/vIoydZSF/T8fPhsKXVP9PzoNCgp7If0/6juz4+3v/D/dM8IGtb78Pyzg1+PPjfw/wguJ7D1d/D+KwlyT/iz8P1a1yksR/fs/kqA5inXN+z+dtf3DKp77P+gGV28wb/s/s/ZvA4ZA+z+EqFv4KhL7Pzh1FMce5Po/umF66WC2+j9cmFHa8Ij6P77kQBXOW/o/UjLQFvgu+j9rDWdcbgL6P9gmS2Qw1vk/CtqerT2q+T+4tV+4lX75PwIHZQU4U/k/EmdeFiQo+T8qS9JtWf34PzaXHI/X0vg/szJt/p2o+D8UoMZArH74P4OW/NsBVfg/BZ6yVp4r+D/7rVo4gQL4P/7NMwmq2fc/EblIUhix9z8bg26dy4j3P79AQ3XDYPc/b7EsZf849z/K61b5fhH3Pz8Ms75B6vY/5OX1QkfD9j+WtZYUj5z2P0DXzcIYdvY/Xn2T3eNP9j+sap717yn2PwKuYpw8BPY/T2AQZMne9T/GZJLflbn1Px4rjaKhlPU/+nNdQexv9T9aFxdRdUv1PzTNg2c8J/U/EPghG0ED9T+9cSMDg9/0PwVabLcBvPQ/deeR0LyY9D8eOtnns3X0P2AwNpfmUvQ/qj1KeVQw9D81Q2Mp/Q30P7xqekPg6/M/HQMzZP3J8z/yXtkoVKjzPxG1YS/khvM/9QJnFq1l8z8V8Sl9rkTzPw25jwPoI/M/uA0hSlkD8z8fBQnyAePyPz0EFJ3hwvI/m6yu7fei8j/Iy+SGRIPyP45MYAzHY/I/BSpoIn9E8j9sZN9tbCXyP7/3Q5SOBvI/FtStO+Xn8T/G180KcMnxP0rL7Kguq/E/xl7qvSCN8T9rKTzyRW/xP2uq7O6dUfE/ukuaXSg08T9xZnbo5BbxP9dIRDrT+fA/Jz5Y/vLc8D/kl5bgQ8DwP+a4co3Fo/A//CHusXeH8D8qgJf7WWvwP428iRhsT/A/yw1rt60z8D8mC2yHHhjwPyuCjXB8+e8/6Y579BjD7z+Jsjb8EY3vP9/bYOpmV+8/O6inIhci7z8PnMIJIu3uP6RecQWHuO4/zPh5fEWE7j+dFqfWXFDuPwxMxnzMHO4/jVym2JPp7T+dhRVVsrbtPyzM310nhO0/8EzNX/JR7T+dj6DIEiDtP+fcFAeI7uw/ZZfcilG97D89l5/EbozsP6GI+SXfW+w/CU14IaIr7D88X5oqt/vrPwg6zbUdzOs/u8FrONWc6z9IsLwo3W3rPygE8f00P+s/2HEiMNwQ6z//11E40uLqPz+2ZZAWteo/lKYos6iH6j9Z2UcciFrqP9yTUUi0Leo/gLGztCwB6j9jJ7rf8NTpP6KKjUgAqek/Bpkxb1p96T87xIPU/lHpP4a/OfrsJuk/5g/gYiT86D+tntiRpNHoP4dOWQttp+g/5ZJqVH196D/XCeby1FPoPzwYdW1zKug/VoiPS1gB6D+6KnoVg9jnP4p5RVTzr+c/DD7MkaiH5z+JOLJYol/nP3LKYjTgN+c/06IPsWEQ5z8Dba9bJunmP42B/MEtwuY/W5lzcneb5j8Tg1L8AnXmP6falu/PTuY/F8P83N0o5j9Tov1VLAPmP1Xfzuy63eU/UKJgNIm45T8Il1zAlpPlPz6xJCXjbuU/QfPR921K5T+INjPONiblP2L2yz49AuU/uBzT4IDe5D/W0DFMAbvkPzhIghm+l+Q/Y5kO4rZ05D+3kM8/61HkPz+Ha81aL+Q/gTs1JgUN5D85rCrm6erjPxP186kIyeM/Ry3iDmGn4z8ySO6y8oXjP8T3tzS9ZOM/6ZCEM8BD4z8=\",\"dtype\":\"float64\",\"order\":\"little\",\"shape\":[319]},\"y\":{\"__ndarray__\":\"gK8mufrNaUCi779QnV9iQPrMoq0AGWVAzWus/AF8ZEBNfjxYzMNpQAeLskWCQGhAgsc07teFa0A6GIi9S79pQFRKoJrTOWdAM2bOFDaXb0B6pIu/UGNsQBSTj9HTl3BA0Kfteq2+c0DXsbNi8Yd2QMFCmRbMvHlAH72r2z8IfUCgNJFG4sZ+QBby5AgiHYBAnztj/fgHgUAnThlLcl+BQIBVM4FWuIFAyptouZPigUA6fv7CxJeBQG22KK+OiYBAteYwDwV/f0DzrdoM3+57QNbp+9uKlnFAhkZ0m88TXkBFamx22eQ5wO2OPZd9MFLAdblMMpPAVMACdsZ4SdJVwOpMrCepfF7AoJnAcdavY8CJ3mL4mrZnwGdghbaDvmrAxZQVCLWUacBC0WRUXcVrwBcTYI9ZJGzAhpgvtAowbcC0fGDgxaFiwDY0WEaT2WbAbGzcntV8ZcCGDj48InZkwAUgQAL0XmTA4ukatFBDYsAKAzQMs5dgwBEfhSaJpVnAp8f3Qy9UVMDiNQMKINBUwNnL8XoFMlHADM/keH2PS8ClafVpA7hJwE8drgjQajnAscMcEBJhQsDIoqsv/0XQP0GD+UKy6QLAzsqYWP44OUDJGO5/Rbs3QD9OkVFs4D5AtqzHXm6PPUDg8EjmX2BGQMLyUQQORkxAdtwQd/xNTkD59l4GDrBOQFG6WIY83D9AIWmHBRgCVUD0Up13URFaQDoNQFUvcVVATM2CmMrcWUAz5yCCM6RmQIehuRDMj2FAaedrgg7QY0B5xGYyidliQJrvVC5QumVA8hS8TtDda0C9oxCNMcRoQF/nq7U08G5AcmDsp9/zcEDCS2S1MA5uQGYoCBELPnNAZgVN/XYSdUDwYszcLst1QIygeDqovHZAW/8vB868dkBcE2Af1xh5QKDaBx1NwHhArPmTHf/LeEAH0g8X6MV3QBmT8oVlG3dAWj8XqwnteEDo2Q9iNTx5QNw7DxapmXpAqLzD7PSoeUB4ZqQTeDx6QJ72tCa1bXdAefjpdD5obkBngACxjuhsQAcYwXIrBGpAtrCEGaMCaECUF3eDBetsQLi8roVrUWlAkmlTVKnRaUD3az11ka9pQF10VoEphWRAhEkl6cetZUC4HsglEhtfQAhVjDX3clFA1HtF4sXbV0DqDnGov3E8QBTLKMuZoEVAAoFqFwvTNEDatTWCEtBBwOh7kz+ZminAfQefKMDrQsBCD6v1wYlOwOyp11cAS1TAZe5Vz1jZWsC8HFRAaBxlwFn9Fhb3bmDA2iKQf5tSZMC7d4+l0uNjwLO7/Sb57GHANonrjtC/Y8DesrxA2wpmwD83svN1OWHAJiwGf+YVYMDrJjsbHhNfwLrzepUDI1nAHSp2hRm/ScA3IQwccOA2wCgo3YPKhOg/urW9XZcgMkDlTbm29rtFQKMGnbfQQFdAvS+BTsbqY0CETxBgyhJiQJ7a4rLXaF5AybVkprR4YkDRRqm8PNpjQOckQ9zSXmNAdUJzGL0xYkClfO6X0iplQLjgOwqI32JAC+LBkghwV0BdqECQBkRXQHrsiRJu92FAmS3IuW5CXUArgApJNHpkQF/aS/MSeF9AKxc08HBKX0Dpl9px7yNYQIDcQcra6VlAGpsUsAYLXkCp4yf78iRQQLxV5OPsW1FAr8k6jdvwMUBigMsNt61NwLvSGLiY/zbA/pr9OpDORMBB6kYgPu9YwNNTxahBQV/ALI6nAR/pasAKvA8YqEhswOwokY7eqm7AHezyR2Tda8CPxlvxFc5qwDcgmvPRUWrAlUnQ56bxZ8CWpYoIlbVlwB6D4uIQVmXA4Hbk99idYMCcNELv+yJewEdSN9CMjlXA/wjTHrBiT8BQjVQFruJBwJAoFGRhfkPA1gO4CoBMQkAiSW1cxkVGQJOp54fcHFNAfxeq3GBmUUAI7H8yOkdXQNTi8g1m/lRAIZgGTIe+YkD9qRFofdFlQCJbMazRsWJAleCkMf7GY0ClLHTGX1RkQFANxRhYKWxA+tOwb+MybUCU71jtSrhqQLI2/BNOn2dA1X8J1BlSZ0DUf+poMNhoQA2641RSSWhAsWnXrq91Z0A7PKmCO71mQEdAnt2g1GVAJVwFb7jpVUAYLV1WQRUAwEd6iSQb/GHA1StV2MNYZcB3gOM0qeFlwHC59fHlMGrAWZopct5obcAyGAiDy09uwKZo6PG0l27AM7wpmIWnbcAUmkYURZduwL3Mu/w2GmzATKpHV9uPaMBTlFd47C9nwNQPIDQMTmLAh0OtodQiY8ApAsL6jzZcwH5QK5hQN1fAm7KeaDr3QsBsjp2tqbpBwFdpBLSmMjNArbqc1cbHL8AuQRhcd4A2wPSGl/gj+ijA5vGDJOryM8DeszHb06FGQMvUiRRHT0/A49xPwRImM0BLNaxe0JlHwA2xuKkeFlnA4mfBTpTDWsDJHUfClXtpwATtbDX0w3PAD/LJwsYCdsBGyYj1b8t1wAovbA9873TAFJW48u0ydsDK7k8/QZB0wD9YVVOHWHXAziRN4tmEc8BTqQc7aeZxwHI5uEf9+23ASdiel0YibMCAbk18FSFowLWd7Bog6GPAnsANjw2wXsB+J+4XTepbwCjChafIhFPA+ZdRh96lWsBt4f5H+F5YwJJpn/jkqUPABGrkXWBRRMBHwelOMfNHwIlyzA6yvjPAIJ9X4u2wNcCIf1K5e2pGwLrQELQcMGjAlfEl13u7aMCwLSGiAsptwJ3sXHznem/A+8YH3hHPasCtk/gj1tVwwOWGNCc2dHTAPXgwt6Cxc8Dtq2hq0TJzwEUMDp1dmHLA2v3FJ++bccAk3dcbrLZwwJx7w7yHEXDA/OC4iNCia8AddDk+NLRrwKICBTR7GmnAwIfJFpZaZsBBiEOOCHtowOtZl2zykmbAjsMDsDq6YsC/uGzJY6hlwFR1TiYxQWbANLVXO6crZsCM7fPTGKZkwBoAYseTZWHAJxMAXJu/XsCwreWy06pUwNKOm3iID1RASaOrxLghV0APBdRSvI5YwK3MXhhYnl3AYV2dY0tGX8CpnqQ2etdhwGSyHAOzPmHAocRXZfXBYcCbxc9E5+JiwLkN80Npl2LAzmNV4TCeYcADOk0f3p9jwEk1KyD+bWfA7cLZNZ6LaMAKDzx6tx9owHs6AgASlGnA3DgVYtc1aMAm2aeOAW9swNIHsgNHxWzAz+/NQ1dTbMDt+ADZcj1rwFhraDH7yWnADdT74o4+aMB9ElXHFYJmwLl/DM53YGXAUnb5bvPuY8Ah4EgGRXhiwC/HKpU/32HAYKWyvIvHYMAY/CUqmPxewDJs86BH0VvAwkv7x02GWMDdAbWS7jRVwGBXzrzyaVHATqQw1pK7SsBy5SxNkQVCwEzc9MZMtjDANaAkDLAQG0A=\",\"dtype\":\"float64\",\"order\":\"little\",\"shape\":[319]}},\"selected\":{\"id\":\"1812\"},\"selection_policy\":{\"id\":\"1811\"}},\"id\":\"1722\",\"type\":\"ColumnDataSource\"},{\"attributes\":{},\"id\":\"1804\",\"type\":\"BasicTickFormatter\"},{\"attributes\":{},\"id\":\"1802\",\"type\":\"Title\"},{\"attributes\":{},\"id\":\"1814\",\"type\":\"Selection\"},{\"attributes\":{\"label\":{\"value\":\"Cloud free\"},\"renderers\":[{\"id\":\"1726\"}]},\"id\":\"1735\",\"type\":\"LegendItem\"},{\"attributes\":{},\"id\":\"1812\",\"type\":\"Selection\"},{\"attributes\":{},\"id\":\"1708\",\"type\":\"PanTool\"}],\"root_ids\":[\"1691\"]},\"title\":\"Bokeh Application\",\"version\":\"2.3.3\"}};\n",
       "  var render_items = [{\"docid\":\"40539228-122d-4870-aeaa-a3e799a07ae7\",\"root_ids\":[\"1691\"],\"roots\":{\"1691\":\"d4bfba11-7fa7-4428-bca6-f9ad841f6968\"}}];\n",
       "  root.Bokeh.embed.embed_items_notebook(docs_json, render_items);\n",
       "\n",
       "  }\n",
       "  if (root.Bokeh !== undefined) {\n",
       "    embed_document(root);\n",
       "  } else {\n",
       "    var attempts = 0;\n",
       "    var timer = setInterval(function(root) {\n",
       "      if (root.Bokeh !== undefined) {\n",
       "        clearInterval(timer);\n",
       "        embed_document(root);\n",
       "      } else {\n",
       "        attempts++;\n",
       "        if (attempts > 100) {\n",
       "          clearInterval(timer);\n",
       "          console.log(\"Bokeh: ERROR: Unable to run BokehJS code because BokehJS library is missing\");\n",
       "        }\n",
       "      }\n",
       "    }, 10, root)\n",
       "  }\n",
       "})(window);"
      ],
      "application/vnd.bokehjs_exec.v0+json": ""
     },
     "metadata": {
      "application/vnd.bokehjs_exec.v0+json": {
       "id": "1691"
      }
     },
     "output_type": "display_data"
    }
   ],
   "source": [
    "case1.clouds(p = [1], dp=[4], opd=[1], g0=[0], w0=[0])\n",
    "\n",
    "df_gry= case1.spectrum(opa, full_output=True,calculation='transmission') #note the new last key \n",
    "\n",
    "wno, rprs2_gry  = df_gry['wavenumber'] , df_gry['transit_depth']\n",
    "wno, rprs2_gry = jdi.mean_regrid(wno, rprs2_gry, R=150)\n",
    "full_output_gry = df_gry['full_output']\n",
    "\n",
    "jpi.show(jpi.spectrum([wno, wno],[1e6*(rprs2-np.mean(rprs2))\n",
    "                              , (rprs2_gry-np.mean(rprs2_gry))*1e6],\n",
    "                  legend=['Cloud free','Grey cloud'],\n",
    "                  plot_width=500))\n"
   ]
  },
  {
   "cell_type": "markdown",
   "metadata": {},
   "source": [
    "## Adding Cloud From Model Output"
   ]
  },
  {
   "cell_type": "code",
   "execution_count": 8,
   "metadata": {},
   "outputs": [
    {
     "data": {
      "text/html": [
       "\n",
       "\n",
       "\n",
       "\n",
       "\n",
       "\n",
       "  <div class=\"bk-root\" id=\"7177576b-fe8b-48b1-bc20-bc97b45052e0\" data-root-id=\"1880\"></div>\n"
      ]
     },
     "metadata": {},
     "output_type": "display_data"
    },
    {
     "data": {
      "application/javascript": [
       "(function(root) {\n",
       "  function embed_document(root) {\n",
       "    \n",
       "  var docs_json = {\"98ae559c-62e7-402c-b7df-d06d9c9801f9\":{\"defs\":[],\"roots\":{\"references\":[{\"attributes\":{\"below\":[{\"id\":\"1889\"}],\"center\":[{\"id\":\"1892\"},{\"id\":\"1896\"}],\"height\":345,\"left\":[{\"id\":\"1893\"},{\"id\":\"1929\"}],\"renderers\":[{\"id\":\"1915\"},{\"id\":\"1921\"},{\"id\":\"1927\"}],\"title\":{\"id\":\"2011\"},\"toolbar\":{\"id\":\"1904\"},\"width\":500,\"x_range\":{\"id\":\"1881\"},\"x_scale\":{\"id\":\"1885\"},\"y_range\":{\"id\":\"1883\"},\"y_scale\":{\"id\":\"1887\"}},\"id\":\"1880\",\"subtype\":\"Figure\",\"type\":\"Plot\"},{\"attributes\":{},\"id\":\"1894\",\"type\":\"BasicTicker\"},{\"attributes\":{},\"id\":\"2015\",\"type\":\"AllLabels\"},{\"attributes\":{\"line_color\":\"#E69F00\",\"line_width\":3,\"x\":{\"field\":\"x\"},\"y\":{\"field\":\"y\"}},\"id\":\"1918\",\"type\":\"Line\"},{\"attributes\":{\"data\":{\"x\":{\"__ndarray__\":\"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\",\"dtype\":\"float64\",\"order\":\"little\",\"shape\":[319]},\"y\":{\"__ndarray__\":\"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\",\"dtype\":\"float64\",\"order\":\"little\",\"shape\":[319]}},\"selected\":{\"id\":\"2023\"},\"selection_policy\":{\"id\":\"2022\"}},\"id\":\"1917\",\"type\":\"ColumnDataSource\"},{\"attributes\":{},\"id\":\"2013\",\"type\":\"BasicTickFormatter\"},{\"attributes\":{},\"id\":\"1887\",\"type\":\"LinearScale\"},{\"attributes\":{\"axis_label\":\"Wavelength [\\u03bcm]\",\"axis_label_text_font\":\"times\",\"axis_label_text_font_size\":\"14pt\",\"axis_label_text_font_style\":\"bold\",\"formatter\":{\"id\":\"2016\"},\"major_label_policy\":{\"id\":\"2018\"},\"major_label_text_font\":\"times\",\"major_label_text_font_size\":\"14pt\",\"ticker\":{\"id\":\"1890\"}},\"id\":\"1889\",\"type\":\"LinearAxis\"},{\"attributes\":{},\"id\":\"1901\",\"type\":\"ResetTool\"},{\"attributes\":{},\"id\":\"2016\",\"type\":\"BasicTickFormatter\"},{\"attributes\":{\"data\":{\"x\":{\"__ndarray__\":\"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\",\"dtype\":\"float64\",\"order\":\"little\",\"shape\":[319]},\"y\":{\"__ndarray__\":\"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\",\"dtype\":\"float64\",\"order\":\"little\",\"shape\":[319]}},\"selected\":{\"id\":\"2021\"},\"selection_policy\":{\"id\":\"2020\"}},\"id\":\"1911\",\"type\":\"ColumnDataSource\"},{\"attributes\":{},\"id\":\"2024\",\"type\":\"UnionRenderers\"},{\"attributes\":{\"data_source\":{\"id\":\"1917\"},\"glyph\":{\"id\":\"1918\"},\"hover_glyph\":null,\"muted_glyph\":{\"id\":\"1920\"},\"nonselection_glyph\":{\"id\":\"1919\"},\"view\":{\"id\":\"1922\"}},\"id\":\"1921\",\"type\":\"GlyphRenderer\"},{\"attributes\":{\"axis\":{\"id\":\"1889\"},\"ticker\":null},\"id\":\"1892\",\"type\":\"Grid\"},{\"attributes\":{\"line_alpha\":0.1,\"line_color\":\"#0072B2\",\"line_width\":3,\"x\":{\"field\":\"x\"},\"y\":{\"field\":\"y\"}},\"id\":\"1913\",\"type\":\"Line\"},{\"attributes\":{},\"id\":\"1890\",\"type\":\"BasicTicker\"},{\"attributes\":{},\"id\":\"1885\",\"type\":\"LinearScale\"},{\"attributes\":{\"label\":{\"value\":\"Cloud Free\"},\"renderers\":[{\"id\":\"1915\"}]},\"id\":\"1930\",\"type\":\"LegendItem\"},{\"attributes\":{\"data_source\":{\"id\":\"1923\"},\"glyph\":{\"id\":\"1924\"},\"hover_glyph\":null,\"muted_glyph\":{\"id\":\"1926\"},\"nonselection_glyph\":{\"id\":\"1925\"},\"view\":{\"id\":\"1928\"}},\"id\":\"1927\",\"type\":\"GlyphRenderer\"},{\"attributes\":{},\"id\":\"2020\",\"type\":\"UnionRenderers\"},{\"attributes\":{\"line_alpha\":0.2,\"line_color\":\"#E69F00\",\"line_width\":3,\"x\":{\"field\":\"x\"},\"y\":{\"field\":\"y\"}},\"id\":\"1920\",\"type\":\"Line\"},{\"attributes\":{\"axis_label\":\"Spectrum\",\"axis_label_text_font\":\"times\",\"axis_label_text_font_size\":\"14pt\",\"axis_label_text_font_style\":\"bold\",\"formatter\":{\"id\":\"2013\"},\"major_label_policy\":{\"id\":\"2015\"},\"major_label_text_font\":\"times\",\"major_label_text_font_size\":\"14pt\",\"ticker\":{\"id\":\"1894\"}},\"id\":\"1893\",\"type\":\"LinearAxis\"},{\"attributes\":{\"data\":{\"x\":{\"__ndarray__\":\"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\",\"dtype\":\"float64\",\"order\":\"little\",\"shape\":[319]},\"y\":{\"__ndarray__\":\"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\",\"dtype\":\"float64\",\"order\":\"little\",\"shape\":[319]}},\"selected\":{\"id\":\"2025\"},\"selection_policy\":{\"id\":\"2024\"}},\"id\":\"1923\",\"type\":\"ColumnDataSource\"},{\"attributes\":{\"line_alpha\":0.2,\"line_color\":\"#0072B2\",\"line_width\":3,\"x\":{\"field\":\"x\"},\"y\":{\"field\":\"y\"}},\"id\":\"1914\",\"type\":\"Line\"},{\"attributes\":{\"line_alpha\":0.1,\"line_color\":\"#E69F00\",\"line_width\":3,\"x\":{\"field\":\"x\"},\"y\":{\"field\":\"y\"}},\"id\":\"1919\",\"type\":\"Line\"},{\"attributes\":{},\"id\":\"1902\",\"type\":\"HelpTool\"},{\"attributes\":{},\"id\":\"2022\",\"type\":\"UnionRenderers\"},{\"attributes\":{\"line_alpha\":0.2,\"line_color\":\"#F0E442\",\"line_width\":3,\"x\":{\"field\":\"x\"},\"y\":{\"field\":\"y\"}},\"id\":\"1926\",\"type\":\"Line\"},{\"attributes\":{\"label\":{\"value\":\"Virga Cloud\"},\"renderers\":[{\"id\":\"1927\"}]},\"id\":\"1932\",\"type\":\"LegendItem\"},{\"attributes\":{\"line_alpha\":0.1,\"line_color\":\"#F0E442\",\"line_width\":3,\"x\":{\"field\":\"x\"},\"y\":{\"field\":\"y\"}},\"id\":\"1925\",\"type\":\"Line\"},{\"attributes\":{},\"id\":\"1897\",\"type\":\"PanTool\"},{\"attributes\":{},\"id\":\"1881\",\"type\":\"DataRange1d\"},{\"attributes\":{},\"id\":\"1883\",\"type\":\"DataRange1d\"},{\"attributes\":{},\"id\":\"1898\",\"type\":\"WheelZoomTool\"},{\"attributes\":{\"active_multi\":null,\"tools\":[{\"id\":\"1897\"},{\"id\":\"1898\"},{\"id\":\"1899\"},{\"id\":\"1900\"},{\"id\":\"1901\"},{\"id\":\"1902\"}]},\"id\":\"1904\",\"type\":\"Toolbar\"},{\"attributes\":{\"data_source\":{\"id\":\"1911\"},\"glyph\":{\"id\":\"1912\"},\"hover_glyph\":null,\"muted_glyph\":{\"id\":\"1914\"},\"nonselection_glyph\":{\"id\":\"1913\"},\"view\":{\"id\":\"1916\"}},\"id\":\"1915\",\"type\":\"GlyphRenderer\"},{\"attributes\":{\"line_color\":\"#0072B2\",\"line_width\":3,\"x\":{\"field\":\"x\"},\"y\":{\"field\":\"y\"}},\"id\":\"1912\",\"type\":\"Line\"},{\"attributes\":{\"source\":{\"id\":\"1917\"}},\"id\":\"1922\",\"type\":\"CDSView\"},{\"attributes\":{\"source\":{\"id\":\"1923\"}},\"id\":\"1928\",\"type\":\"CDSView\"},{\"attributes\":{},\"id\":\"2023\",\"type\":\"Selection\"},{\"attributes\":{\"source\":{\"id\":\"1911\"}},\"id\":\"1916\",\"type\":\"CDSView\"},{\"attributes\":{},\"id\":\"2025\",\"type\":\"Selection\"},{\"attributes\":{\"label\":{\"value\":\"Grey Cloud\"},\"renderers\":[{\"id\":\"1921\"}]},\"id\":\"1931\",\"type\":\"LegendItem\"},{\"attributes\":{\"click_policy\":\"mute\",\"items\":[{\"id\":\"1930\"},{\"id\":\"1931\"},{\"id\":\"1932\"}],\"location\":[0,0]},\"id\":\"1929\",\"type\":\"Legend\"},{\"attributes\":{\"line_color\":\"#F0E442\",\"line_width\":3,\"x\":{\"field\":\"x\"},\"y\":{\"field\":\"y\"}},\"id\":\"1924\",\"type\":\"Line\"},{\"attributes\":{\"bottom_units\":\"screen\",\"fill_alpha\":0.5,\"fill_color\":\"lightgrey\",\"left_units\":\"screen\",\"level\":\"overlay\",\"line_alpha\":1.0,\"line_color\":\"black\",\"line_dash\":[4,4],\"line_width\":2,\"right_units\":\"screen\",\"syncable\":false,\"top_units\":\"screen\"},\"id\":\"1903\",\"type\":\"BoxAnnotation\"},{\"attributes\":{\"axis\":{\"id\":\"1893\"},\"dimension\":1,\"ticker\":null},\"id\":\"1896\",\"type\":\"Grid\"},{\"attributes\":{},\"id\":\"2021\",\"type\":\"Selection\"},{\"attributes\":{},\"id\":\"1900\",\"type\":\"SaveTool\"},{\"attributes\":{},\"id\":\"2018\",\"type\":\"AllLabels\"},{\"attributes\":{\"overlay\":{\"id\":\"1903\"}},\"id\":\"1899\",\"type\":\"BoxZoomTool\"},{\"attributes\":{},\"id\":\"2011\",\"type\":\"Title\"}],\"root_ids\":[\"1880\"]},\"title\":\"Bokeh Application\",\"version\":\"2.3.3\"}};\n",
       "  var render_items = [{\"docid\":\"98ae559c-62e7-402c-b7df-d06d9c9801f9\",\"root_ids\":[\"1880\"],\"roots\":{\"1880\":\"7177576b-fe8b-48b1-bc20-bc97b45052e0\"}}];\n",
       "  root.Bokeh.embed.embed_items_notebook(docs_json, render_items);\n",
       "\n",
       "  }\n",
       "  if (root.Bokeh !== undefined) {\n",
       "    embed_document(root);\n",
       "  } else {\n",
       "    var attempts = 0;\n",
       "    var timer = setInterval(function(root) {\n",
       "      if (root.Bokeh !== undefined) {\n",
       "        clearInterval(timer);\n",
       "        embed_document(root);\n",
       "      } else {\n",
       "        attempts++;\n",
       "        if (attempts > 100) {\n",
       "          clearInterval(timer);\n",
       "          console.log(\"Bokeh: ERROR: Unable to run BokehJS code because BokehJS library is missing\");\n",
       "        }\n",
       "      }\n",
       "    }, 10, root)\n",
       "  }\n",
       "})(window);"
      ],
      "application/vnd.bokehjs_exec.v0+json": ""
     },
     "metadata": {
      "application/vnd.bokehjs_exec.v0+json": {
       "id": "1880"
      }
     },
     "output_type": "display_data"
    }
   ],
   "source": [
    "case1.clouds(filename = jdi.HJ_cld(), delim_whitespace=True)\n",
    "\n",
    "df_model= case1.spectrum(opa, full_output=True,calculation='transmission') #note the new last key \n",
    "\n",
    "wno, rprs2_model = df_model['wavenumber'] , df_model['transit_depth']\n",
    "wno, rprs2_model = jdi.mean_regrid(wno, rprs2_model, R=150)\n",
    "full_output_model = df_model['full_output']\n",
    "\n",
    "jpi.show(jpi.spectrum([wno, wno,wno],[1e6*(rprs2-np.mean(rprs2))\n",
    "                              , (rprs2_gry-np.mean(rprs2_gry))*1e6\n",
    "                             , (rprs2_model-np.mean(rprs2_model))*1e6],legend=['Cloud Free','Grey Cloud','Virga Cloud'],\n",
    "                  plot_width=500))\n"
   ]
  },
  {
   "cell_type": "markdown",
   "metadata": {},
   "source": [
    "## Adding Arbitrary Rayleigh Scattering \n",
    "\n",
    "All models will include Rayleigh scattering that is computed based on the atmospheric composition. H$_2$ gas giants would have Rayleigh scattering from hydrogen, Earth-like composition planets would have Rayleigh scattering from nitrogen. Several hot Jupiter observations have revealed slopes that are enhanced, relative to Rayleigh. \n",
    "\n",
    "To simulate an enhanced scattering slope you can add your own parameterized opacity directly to the cloud routine. "
   ]
  },
  {
   "cell_type": "code",
   "execution_count": 9,
   "metadata": {},
   "outputs": [],
   "source": [
    "alpha = 4.5 #slope dependence for arbitrary rayleigh\n",
    "ref_wave = 0.3 #reference wave to set at what wavelength tau=ref_tau\n",
    "ref_tau = 5e-2\n",
    "\n",
    "wno_cld = jdi.get_cld_input_grid()\n",
    "wave= 1e4/wno_cld\n",
    "enhanced_rayleigh_opd =  np.concatenate([ref_tau*(wave/ref_wave)**(-alpha) for i in range(case1.nlevel-1)])"
   ]
  },
  {
   "cell_type": "code",
   "execution_count": 10,
   "metadata": {},
   "outputs": [
    {
     "data": {
      "text/html": [
       "\n",
       "\n",
       "\n",
       "\n",
       "\n",
       "\n",
       "  <div class=\"bk-root\" id=\"9eac72e9-f884-4f63-aec7-5d6c36fd42a6\" data-root-id=\"2101\"></div>\n"
      ]
     },
     "metadata": {},
     "output_type": "display_data"
    },
    {
     "data": {
      "application/javascript": [
       "(function(root) {\n",
       "  function embed_document(root) {\n",
       "    \n",
       "  var docs_json = {\"794d9cb1-e897-4f65-9274-c89b2bbced6f\":{\"defs\":[],\"roots\":{\"references\":[{\"attributes\":{\"below\":[{\"id\":\"2110\"}],\"center\":[{\"id\":\"2113\"},{\"id\":\"2117\"}],\"height\":345,\"left\":[{\"id\":\"2114\"},{\"id\":\"2144\"}],\"renderers\":[{\"id\":\"2136\"},{\"id\":\"2142\"}],\"title\":{\"id\":\"2240\"},\"toolbar\":{\"id\":\"2125\"},\"x_range\":{\"id\":\"2102\"},\"x_scale\":{\"id\":\"2106\"},\"y_range\":{\"id\":\"2104\"},\"y_scale\":{\"id\":\"2108\"}},\"id\":\"2101\",\"subtype\":\"Figure\",\"type\":\"Plot\"},{\"attributes\":{},\"id\":\"2252\",\"type\":\"Selection\"},{\"attributes\":{\"bottom_units\":\"screen\",\"fill_alpha\":0.5,\"fill_color\":\"lightgrey\",\"left_units\":\"screen\",\"level\":\"overlay\",\"line_alpha\":1.0,\"line_color\":\"black\",\"line_dash\":[4,4],\"line_width\":2,\"right_units\":\"screen\",\"syncable\":false,\"top_units\":\"screen\"},\"id\":\"2124\",\"type\":\"BoxAnnotation\"},{\"attributes\":{},\"id\":\"2123\",\"type\":\"HelpTool\"},{\"attributes\":{\"data\":{\"x\":{\"__ndarray__\":\"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\",\"dtype\":\"float64\",\"order\":\"little\",\"shape\":[319]},\"y\":{\"__ndarray__\":\"gK8mufrNaUCi779QnV9iQPrMoq0AGWVAzWus/AF8ZEBNfjxYzMNpQAeLskWCQGhAgsc07teFa0A6GIi9S79pQFRKoJrTOWdAM2bOFDaXb0B6pIu/UGNsQBSTj9HTl3BA0Kfteq2+c0DXsbNi8Yd2QMFCmRbMvHlAH72r2z8IfUCgNJFG4sZ+QBby5AgiHYBAnztj/fgHgUAnThlLcl+BQIBVM4FWuIFAyptouZPigUA6fv7CxJeBQG22KK+OiYBAteYwDwV/f0DzrdoM3+57QNbp+9uKlnFAhkZ0m88TXkBFamx22eQ5wO2OPZd9MFLAdblMMpPAVMACdsZ4SdJVwOpMrCepfF7AoJnAcdavY8CJ3mL4mrZnwGdghbaDvmrAxZQVCLWUacBC0WRUXcVrwBcTYI9ZJGzAhpgvtAowbcC0fGDgxaFiwDY0WEaT2WbAbGzcntV8ZcCGDj48InZkwAUgQAL0XmTA4ukatFBDYsAKAzQMs5dgwBEfhSaJpVnAp8f3Qy9UVMDiNQMKINBUwNnL8XoFMlHADM/keH2PS8ClafVpA7hJwE8drgjQajnAscMcEBJhQsDIoqsv/0XQP0GD+UKy6QLAzsqYWP44OUDJGO5/Rbs3QD9OkVFs4D5AtqzHXm6PPUDg8EjmX2BGQMLyUQQORkxAdtwQd/xNTkD59l4GDrBOQFG6WIY83D9AIWmHBRgCVUD0Up13URFaQDoNQFUvcVVATM2CmMrcWUAz5yCCM6RmQIehuRDMj2FAaedrgg7QY0B5xGYyidliQJrvVC5QumVA8hS8TtDda0C9oxCNMcRoQF/nq7U08G5AcmDsp9/zcEDCS2S1MA5uQGYoCBELPnNAZgVN/XYSdUDwYszcLst1QIygeDqovHZAW/8vB868dkBcE2Af1xh5QKDaBx1NwHhArPmTHf/LeEAH0g8X6MV3QBmT8oVlG3dAWj8XqwnteEDo2Q9iNTx5QNw7DxapmXpAqLzD7PSoeUB4ZqQTeDx6QJ72tCa1bXdAefjpdD5obkBngACxjuhsQAcYwXIrBGpAtrCEGaMCaECUF3eDBetsQLi8roVrUWlAkmlTVKnRaUD3az11ka9pQF10VoEphWRAhEkl6cetZUC4HsglEhtfQAhVjDX3clFA1HtF4sXbV0DqDnGov3E8QBTLKMuZoEVAAoFqFwvTNEDatTWCEtBBwOh7kz+ZminAfQefKMDrQsBCD6v1wYlOwOyp11cAS1TAZe5Vz1jZWsC8HFRAaBxlwFn9Fhb3bmDA2iKQf5tSZMC7d4+l0uNjwLO7/Sb57GHANonrjtC/Y8DesrxA2wpmwD83svN1OWHAJiwGf+YVYMDrJjsbHhNfwLrzepUDI1nAHSp2hRm/ScA3IQwccOA2wCgo3YPKhOg/urW9XZcgMkDlTbm29rtFQKMGnbfQQFdAvS+BTsbqY0CETxBgyhJiQJ7a4rLXaF5AybVkprR4YkDRRqm8PNpjQOckQ9zSXmNAdUJzGL0xYkClfO6X0iplQLjgOwqI32JAC+LBkghwV0BdqECQBkRXQHrsiRJu92FAmS3IuW5CXUArgApJNHpkQF/aS/MSeF9AKxc08HBKX0Dpl9px7yNYQIDcQcra6VlAGpsUsAYLXkCp4yf78iRQQLxV5OPsW1FAr8k6jdvwMUBigMsNt61NwLvSGLiY/zbA/pr9OpDORMBB6kYgPu9YwNNTxahBQV/ALI6nAR/pasAKvA8YqEhswOwokY7eqm7AHezyR2Tda8CPxlvxFc5qwDcgmvPRUWrAlUnQ56bxZ8CWpYoIlbVlwB6D4uIQVmXA4Hbk99idYMCcNELv+yJewEdSN9CMjlXA/wjTHrBiT8BQjVQFruJBwJAoFGRhfkPA1gO4CoBMQkAiSW1cxkVGQJOp54fcHFNAfxeq3GBmUUAI7H8yOkdXQNTi8g1m/lRAIZgGTIe+YkD9qRFofdFlQCJbMazRsWJAleCkMf7GY0ClLHTGX1RkQFANxRhYKWxA+tOwb+MybUCU71jtSrhqQLI2/BNOn2dA1X8J1BlSZ0DUf+poMNhoQA2641RSSWhAsWnXrq91Z0A7PKmCO71mQEdAnt2g1GVAJVwFb7jpVUAYLV1WQRUAwEd6iSQb/GHA1StV2MNYZcB3gOM0qeFlwHC59fHlMGrAWZopct5obcAyGAiDy09uwKZo6PG0l27AM7wpmIWnbcAUmkYURZduwL3Mu/w2GmzATKpHV9uPaMBTlFd47C9nwNQPIDQMTmLAh0OtodQiY8ApAsL6jzZcwH5QK5hQN1fAm7KeaDr3QsBsjp2tqbpBwFdpBLSmMjNArbqc1cbHL8AuQRhcd4A2wPSGl/gj+ijA5vGDJOryM8DeszHb06FGQMvUiRRHT0/A49xPwRImM0BLNaxe0JlHwA2xuKkeFlnA4mfBTpTDWsDJHUfClXtpwATtbDX0w3PAD/LJwsYCdsBGyYj1b8t1wAovbA9873TAFJW48u0ydsDK7k8/QZB0wD9YVVOHWHXAziRN4tmEc8BTqQc7aeZxwHI5uEf9+23ASdiel0YibMCAbk18FSFowLWd7Bog6GPAnsANjw2wXsB+J+4XTepbwCjChafIhFPA+ZdRh96lWsBt4f5H+F5YwJJpn/jkqUPABGrkXWBRRMBHwelOMfNHwIlyzA6yvjPAIJ9X4u2wNcCIf1K5e2pGwLrQELQcMGjAlfEl13u7aMCwLSGiAsptwJ3sXHznem/A+8YH3hHPasCtk/gj1tVwwOWGNCc2dHTAPXgwt6Cxc8Dtq2hq0TJzwEUMDp1dmHLA2v3FJ++bccAk3dcbrLZwwJx7w7yHEXDA/OC4iNCia8AddDk+NLRrwKICBTR7GmnAwIfJFpZaZsBBiEOOCHtowOtZl2zykmbAjsMDsDq6YsC/uGzJY6hlwFR1TiYxQWbANLVXO6crZsCM7fPTGKZkwBoAYseTZWHAJxMAXJu/XsCwreWy06pUwNKOm3iID1RASaOrxLghV0APBdRSvI5YwK3MXhhYnl3AYV2dY0tGX8CpnqQ2etdhwGSyHAOzPmHAocRXZfXBYcCbxc9E5+JiwLkN80Npl2LAzmNV4TCeYcADOk0f3p9jwEk1KyD+bWfA7cLZNZ6LaMAKDzx6tx9owHs6AgASlGnA3DgVYtc1aMAm2aeOAW9swNIHsgNHxWzAz+/NQ1dTbMDt+ADZcj1rwFhraDH7yWnADdT74o4+aMB9ElXHFYJmwLl/DM53YGXAUnb5bvPuY8Ah4EgGRXhiwC/HKpU/32HAYKWyvIvHYMAY/CUqmPxewDJs86BH0VvAwkv7x02GWMDdAbWS7jRVwGBXzrzyaVHATqQw1pK7SsBy5SxNkQVCwEzc9MZMtjDANaAkDLAQG0A=\",\"dtype\":\"float64\",\"order\":\"little\",\"shape\":[319]}},\"selected\":{\"id\":\"2250\"},\"selection_policy\":{\"id\":\"2249\"}},\"id\":\"2132\",\"type\":\"ColumnDataSource\"},{\"attributes\":{},\"id\":\"2119\",\"type\":\"WheelZoomTool\"},{\"attributes\":{},\"id\":\"2250\",\"type\":\"Selection\"},{\"attributes\":{\"data\":{\"x\":{\"__ndarray__\":\"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\",\"dtype\":\"float64\",\"order\":\"little\",\"shape\":[319]},\"y\":{\"__ndarray__\":\"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\",\"dtype\":\"float64\",\"order\":\"little\",\"shape\":[319]}},\"selected\":{\"id\":\"2252\"},\"selection_policy\":{\"id\":\"2251\"}},\"id\":\"2138\",\"type\":\"ColumnDataSource\"},{\"attributes\":{\"axis_label\":\"Wavelength [\\u03bcm]\",\"axis_label_text_font\":\"times\",\"axis_label_text_font_size\":\"14pt\",\"axis_label_text_font_style\":\"bold\",\"formatter\":{\"id\":\"2245\"},\"major_label_policy\":{\"id\":\"2247\"},\"major_label_text_font\":\"times\",\"major_label_text_font_size\":\"14pt\",\"ticker\":{\"id\":\"2111\"}},\"id\":\"2110\",\"type\":\"LogAxis\"},{\"attributes\":{},\"id\":\"2247\",\"type\":\"AllLabels\"},{\"attributes\":{\"active_multi\":null,\"tools\":[{\"id\":\"2118\"},{\"id\":\"2119\"},{\"id\":\"2120\"},{\"id\":\"2121\"},{\"id\":\"2122\"},{\"id\":\"2123\"}]},\"id\":\"2125\",\"type\":\"Toolbar\"},{\"attributes\":{},\"id\":\"2249\",\"type\":\"UnionRenderers\"},{\"attributes\":{\"line_alpha\":0.1,\"line_color\":\"#E69F00\",\"line_width\":3,\"x\":{\"field\":\"x\"},\"y\":{\"field\":\"y\"}},\"id\":\"2140\",\"type\":\"Line\"},{\"attributes\":{\"source\":{\"id\":\"2132\"}},\"id\":\"2137\",\"type\":\"CDSView\"},{\"attributes\":{},\"id\":\"2121\",\"type\":\"SaveTool\"},{\"attributes\":{\"axis\":{\"id\":\"2110\"},\"ticker\":null},\"id\":\"2113\",\"type\":\"Grid\"},{\"attributes\":{},\"id\":\"2244\",\"type\":\"AllLabels\"},{\"attributes\":{},\"id\":\"2106\",\"type\":\"LogScale\"},{\"attributes\":{},\"id\":\"2115\",\"type\":\"BasicTicker\"},{\"attributes\":{\"ticker\":null},\"id\":\"2245\",\"type\":\"LogTickFormatter\"},{\"attributes\":{},\"id\":\"2102\",\"type\":\"DataRange1d\"},{\"attributes\":{\"axis\":{\"id\":\"2114\"},\"dimension\":1,\"ticker\":null},\"id\":\"2117\",\"type\":\"Grid\"},{\"attributes\":{\"data_source\":{\"id\":\"2132\"},\"glyph\":{\"id\":\"2133\"},\"hover_glyph\":null,\"muted_glyph\":{\"id\":\"2135\"},\"nonselection_glyph\":{\"id\":\"2134\"},\"view\":{\"id\":\"2137\"}},\"id\":\"2136\",\"type\":\"GlyphRenderer\"},{\"attributes\":{\"line_alpha\":0.1,\"line_color\":\"#0072B2\",\"line_width\":3,\"x\":{\"field\":\"x\"},\"y\":{\"field\":\"y\"}},\"id\":\"2134\",\"type\":\"Line\"},{\"attributes\":{},\"id\":\"2122\",\"type\":\"ResetTool\"},{\"attributes\":{\"label\":{\"value\":\"Enhanced Rayleigh\"},\"renderers\":[{\"id\":\"2142\"}]},\"id\":\"2146\",\"type\":\"LegendItem\"},{\"attributes\":{\"click_policy\":\"mute\",\"items\":[{\"id\":\"2145\"},{\"id\":\"2146\"}],\"location\":[0,0]},\"id\":\"2144\",\"type\":\"Legend\"},{\"attributes\":{},\"id\":\"2108\",\"type\":\"LinearScale\"},{\"attributes\":{\"overlay\":{\"id\":\"2124\"}},\"id\":\"2120\",\"type\":\"BoxZoomTool\"},{\"attributes\":{\"line_alpha\":0.2,\"line_color\":\"#0072B2\",\"line_width\":3,\"x\":{\"field\":\"x\"},\"y\":{\"field\":\"y\"}},\"id\":\"2135\",\"type\":\"Line\"},{\"attributes\":{\"line_alpha\":0.2,\"line_color\":\"#E69F00\",\"line_width\":3,\"x\":{\"field\":\"x\"},\"y\":{\"field\":\"y\"}},\"id\":\"2141\",\"type\":\"Line\"},{\"attributes\":{\"source\":{\"id\":\"2138\"}},\"id\":\"2143\",\"type\":\"CDSView\"},{\"attributes\":{\"line_color\":\"#0072B2\",\"line_width\":3,\"x\":{\"field\":\"x\"},\"y\":{\"field\":\"y\"}},\"id\":\"2133\",\"type\":\"Line\"},{\"attributes\":{\"num_minor_ticks\":10},\"id\":\"2111\",\"type\":\"LogTicker\"},{\"attributes\":{},\"id\":\"2240\",\"type\":\"Title\"},{\"attributes\":{\"data_source\":{\"id\":\"2138\"},\"glyph\":{\"id\":\"2139\"},\"hover_glyph\":null,\"muted_glyph\":{\"id\":\"2141\"},\"nonselection_glyph\":{\"id\":\"2140\"},\"view\":{\"id\":\"2143\"}},\"id\":\"2142\",\"type\":\"GlyphRenderer\"},{\"attributes\":{\"label\":{\"value\":\"H2 Rayleigh\"},\"renderers\":[{\"id\":\"2136\"}]},\"id\":\"2145\",\"type\":\"LegendItem\"},{\"attributes\":{},\"id\":\"2104\",\"type\":\"DataRange1d\"},{\"attributes\":{},\"id\":\"2242\",\"type\":\"BasicTickFormatter\"},{\"attributes\":{},\"id\":\"2118\",\"type\":\"PanTool\"},{\"attributes\":{\"line_color\":\"#E69F00\",\"line_width\":3,\"x\":{\"field\":\"x\"},\"y\":{\"field\":\"y\"}},\"id\":\"2139\",\"type\":\"Line\"},{\"attributes\":{},\"id\":\"2251\",\"type\":\"UnionRenderers\"},{\"attributes\":{\"axis_label\":\"Spectrum\",\"axis_label_text_font\":\"times\",\"axis_label_text_font_size\":\"14pt\",\"axis_label_text_font_style\":\"bold\",\"formatter\":{\"id\":\"2242\"},\"major_label_policy\":{\"id\":\"2244\"},\"major_label_text_font\":\"times\",\"major_label_text_font_size\":\"14pt\",\"ticker\":{\"id\":\"2115\"}},\"id\":\"2114\",\"type\":\"LinearAxis\"}],\"root_ids\":[\"2101\"]},\"title\":\"Bokeh Application\",\"version\":\"2.3.3\"}};\n",
       "  var render_items = [{\"docid\":\"794d9cb1-e897-4f65-9274-c89b2bbced6f\",\"root_ids\":[\"2101\"],\"roots\":{\"2101\":\"9eac72e9-f884-4f63-aec7-5d6c36fd42a6\"}}];\n",
       "  root.Bokeh.embed.embed_items_notebook(docs_json, render_items);\n",
       "\n",
       "  }\n",
       "  if (root.Bokeh !== undefined) {\n",
       "    embed_document(root);\n",
       "  } else {\n",
       "    var attempts = 0;\n",
       "    var timer = setInterval(function(root) {\n",
       "      if (root.Bokeh !== undefined) {\n",
       "        clearInterval(timer);\n",
       "        embed_document(root);\n",
       "      } else {\n",
       "        attempts++;\n",
       "        if (attempts > 100) {\n",
       "          clearInterval(timer);\n",
       "          console.log(\"Bokeh: ERROR: Unable to run BokehJS code because BokehJS library is missing\");\n",
       "        }\n",
       "      }\n",
       "    }, 10, root)\n",
       "  }\n",
       "})(window);"
      ],
      "application/vnd.bokehjs_exec.v0+json": ""
     },
     "metadata": {
      "application/vnd.bokehjs_exec.v0+json": {
       "id": "2101"
      }
     },
     "output_type": "display_data"
    }
   ],
   "source": [
    "case1.clouds(df=pd.DataFrame({\n",
    "    'opd':enhanced_rayleigh_opd,\n",
    "    'g0':enhanced_rayleigh_opd*0,\n",
    "    'w0':enhanced_rayleigh_opd*0\n",
    "}))\n",
    "\n",
    "df_ray= case1.spectrum(opa, full_output=True,calculation='transmission') #note the new last key \n",
    "\n",
    "wno, rprs2_ray = df_ray['wavenumber'] , df_ray['transit_depth']\n",
    "wno, rprs2_ray = jdi.mean_regrid(wno, rprs2_ray, R=150)\n",
    "full_output_ray = df_ray['full_output']\n",
    "\n",
    "jpi.show(jpi.spectrum([wno, wno],[1e6*(rprs2-np.mean(rprs2))\n",
    "                             , (rprs2_ray-np.mean(rprs2_ray))*1e6],\n",
    "                  legend=['H2 Rayleigh','Enhanced Rayleigh'],\n",
    "                  plot_width=600,x_axis_type='log'))\n"
   ]
  },
  {
   "cell_type": "code",
   "execution_count": null,
   "metadata": {},
   "outputs": [],
   "source": []
  }
 ],
 "metadata": {
  "kernelspec": {
   "display_name": "Python 3 (ipykernel)",
   "language": "python",
   "name": "python3"
  },
  "language_info": {
   "codemirror_mode": {
    "name": "ipython",
    "version": 3
   },
   "file_extension": ".py",
   "mimetype": "text/x-python",
   "name": "python",
   "nbconvert_exporter": "python",
   "pygments_lexer": "ipython3",
   "version": "3.8.12"
  },
  "toc": {
   "base_numbering": 1,
   "nav_menu": {},
   "number_sections": true,
   "sideBar": true,
   "skip_h1_title": false,
   "title_cell": "Table of Contents",
   "title_sidebar": "Contents",
   "toc_cell": true,
   "toc_position": {},
   "toc_section_display": true,
   "toc_window_display": false
  }
 },
 "nbformat": 4,
 "nbformat_minor": 2
}
