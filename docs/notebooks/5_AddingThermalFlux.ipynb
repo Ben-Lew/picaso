{
 "cells": [
  {
   "cell_type": "markdown",
   "metadata": {},
   "source": [
    "# Computing Thermal Flux\n",
    "\n",
    "Computing thermal flux is pretty much the same deal as the reflected light. There are just a couple tweaks we will have to make in order to make sure we have the full set of info. "
   ]
  },
  {
   "cell_type": "code",
   "execution_count": 1,
   "metadata": {},
   "outputs": [
    {
     "data": {
      "text/html": [
       "\n",
       "    <div class=\"bk-root\">\n",
       "        <a href=\"https://bokeh.org\" target=\"_blank\" class=\"bk-logo bk-logo-small bk-logo-notebook\"></a>\n",
       "        <span id=\"1002\">Loading BokehJS ...</span>\n",
       "    </div>"
      ]
     },
     "metadata": {},
     "output_type": "display_data"
    },
    {
     "data": {
      "application/javascript": [
       "\n",
       "(function(root) {\n",
       "  function now() {\n",
       "    return new Date();\n",
       "  }\n",
       "\n",
       "  var force = true;\n",
       "\n",
       "  if (typeof root._bokeh_onload_callbacks === \"undefined\" || force === true) {\n",
       "    root._bokeh_onload_callbacks = [];\n",
       "    root._bokeh_is_loading = undefined;\n",
       "  }\n",
       "\n",
       "  var JS_MIME_TYPE = 'application/javascript';\n",
       "  var HTML_MIME_TYPE = 'text/html';\n",
       "  var EXEC_MIME_TYPE = 'application/vnd.bokehjs_exec.v0+json';\n",
       "  var CLASS_NAME = 'output_bokeh rendered_html';\n",
       "\n",
       "  /**\n",
       "   * Render data to the DOM node\n",
       "   */\n",
       "  function render(props, node) {\n",
       "    var script = document.createElement(\"script\");\n",
       "    node.appendChild(script);\n",
       "  }\n",
       "\n",
       "  /**\n",
       "   * Handle when an output is cleared or removed\n",
       "   */\n",
       "  function handleClearOutput(event, handle) {\n",
       "    var cell = handle.cell;\n",
       "\n",
       "    var id = cell.output_area._bokeh_element_id;\n",
       "    var server_id = cell.output_area._bokeh_server_id;\n",
       "    // Clean up Bokeh references\n",
       "    if (id != null && id in Bokeh.index) {\n",
       "      Bokeh.index[id].model.document.clear();\n",
       "      delete Bokeh.index[id];\n",
       "    }\n",
       "\n",
       "    if (server_id !== undefined) {\n",
       "      // Clean up Bokeh references\n",
       "      var cmd = \"from bokeh.io.state import curstate; print(curstate().uuid_to_server['\" + server_id + \"'].get_sessions()[0].document.roots[0]._id)\";\n",
       "      cell.notebook.kernel.execute(cmd, {\n",
       "        iopub: {\n",
       "          output: function(msg) {\n",
       "            var id = msg.content.text.trim();\n",
       "            if (id in Bokeh.index) {\n",
       "              Bokeh.index[id].model.document.clear();\n",
       "              delete Bokeh.index[id];\n",
       "            }\n",
       "          }\n",
       "        }\n",
       "      });\n",
       "      // Destroy server and session\n",
       "      var cmd = \"import bokeh.io.notebook as ion; ion.destroy_server('\" + server_id + \"')\";\n",
       "      cell.notebook.kernel.execute(cmd);\n",
       "    }\n",
       "  }\n",
       "\n",
       "  /**\n",
       "   * Handle when a new output is added\n",
       "   */\n",
       "  function handleAddOutput(event, handle) {\n",
       "    var output_area = handle.output_area;\n",
       "    var output = handle.output;\n",
       "\n",
       "    // limit handleAddOutput to display_data with EXEC_MIME_TYPE content only\n",
       "    if ((output.output_type != \"display_data\") || (!Object.prototype.hasOwnProperty.call(output.data, EXEC_MIME_TYPE))) {\n",
       "      return\n",
       "    }\n",
       "\n",
       "    var toinsert = output_area.element.find(\".\" + CLASS_NAME.split(' ')[0]);\n",
       "\n",
       "    if (output.metadata[EXEC_MIME_TYPE][\"id\"] !== undefined) {\n",
       "      toinsert[toinsert.length - 1].firstChild.textContent = output.data[JS_MIME_TYPE];\n",
       "      // store reference to embed id on output_area\n",
       "      output_area._bokeh_element_id = output.metadata[EXEC_MIME_TYPE][\"id\"];\n",
       "    }\n",
       "    if (output.metadata[EXEC_MIME_TYPE][\"server_id\"] !== undefined) {\n",
       "      var bk_div = document.createElement(\"div\");\n",
       "      bk_div.innerHTML = output.data[HTML_MIME_TYPE];\n",
       "      var script_attrs = bk_div.children[0].attributes;\n",
       "      for (var i = 0; i < script_attrs.length; i++) {\n",
       "        toinsert[toinsert.length - 1].firstChild.setAttribute(script_attrs[i].name, script_attrs[i].value);\n",
       "        toinsert[toinsert.length - 1].firstChild.textContent = bk_div.children[0].textContent\n",
       "      }\n",
       "      // store reference to server id on output_area\n",
       "      output_area._bokeh_server_id = output.metadata[EXEC_MIME_TYPE][\"server_id\"];\n",
       "    }\n",
       "  }\n",
       "\n",
       "  function register_renderer(events, OutputArea) {\n",
       "\n",
       "    function append_mime(data, metadata, element) {\n",
       "      // create a DOM node to render to\n",
       "      var toinsert = this.create_output_subarea(\n",
       "        metadata,\n",
       "        CLASS_NAME,\n",
       "        EXEC_MIME_TYPE\n",
       "      );\n",
       "      this.keyboard_manager.register_events(toinsert);\n",
       "      // Render to node\n",
       "      var props = {data: data, metadata: metadata[EXEC_MIME_TYPE]};\n",
       "      render(props, toinsert[toinsert.length - 1]);\n",
       "      element.append(toinsert);\n",
       "      return toinsert\n",
       "    }\n",
       "\n",
       "    /* Handle when an output is cleared or removed */\n",
       "    events.on('clear_output.CodeCell', handleClearOutput);\n",
       "    events.on('delete.Cell', handleClearOutput);\n",
       "\n",
       "    /* Handle when a new output is added */\n",
       "    events.on('output_added.OutputArea', handleAddOutput);\n",
       "\n",
       "    /**\n",
       "     * Register the mime type and append_mime function with output_area\n",
       "     */\n",
       "    OutputArea.prototype.register_mime_type(EXEC_MIME_TYPE, append_mime, {\n",
       "      /* Is output safe? */\n",
       "      safe: true,\n",
       "      /* Index of renderer in `output_area.display_order` */\n",
       "      index: 0\n",
       "    });\n",
       "  }\n",
       "\n",
       "  // register the mime type if in Jupyter Notebook environment and previously unregistered\n",
       "  if (root.Jupyter !== undefined) {\n",
       "    var events = require('base/js/events');\n",
       "    var OutputArea = require('notebook/js/outputarea').OutputArea;\n",
       "\n",
       "    if (OutputArea.prototype.mime_types().indexOf(EXEC_MIME_TYPE) == -1) {\n",
       "      register_renderer(events, OutputArea);\n",
       "    }\n",
       "  }\n",
       "\n",
       "  \n",
       "  if (typeof (root._bokeh_timeout) === \"undefined\" || force === true) {\n",
       "    root._bokeh_timeout = Date.now() + 5000;\n",
       "    root._bokeh_failed_load = false;\n",
       "  }\n",
       "\n",
       "  var NB_LOAD_WARNING = {'data': {'text/html':\n",
       "     \"<div style='background-color: #fdd'>\\n\"+\n",
       "     \"<p>\\n\"+\n",
       "     \"BokehJS does not appear to have successfully loaded. If loading BokehJS from CDN, this \\n\"+\n",
       "     \"may be due to a slow or bad network connection. Possible fixes:\\n\"+\n",
       "     \"</p>\\n\"+\n",
       "     \"<ul>\\n\"+\n",
       "     \"<li>re-rerun `output_notebook()` to attempt to load from CDN again, or</li>\\n\"+\n",
       "     \"<li>use INLINE resources instead, as so:</li>\\n\"+\n",
       "     \"</ul>\\n\"+\n",
       "     \"<code>\\n\"+\n",
       "     \"from bokeh.resources import INLINE\\n\"+\n",
       "     \"output_notebook(resources=INLINE)\\n\"+\n",
       "     \"</code>\\n\"+\n",
       "     \"</div>\"}};\n",
       "\n",
       "  function display_loaded() {\n",
       "    var el = document.getElementById(\"1002\");\n",
       "    if (el != null) {\n",
       "      el.textContent = \"BokehJS is loading...\";\n",
       "    }\n",
       "    if (root.Bokeh !== undefined) {\n",
       "      if (el != null) {\n",
       "        el.textContent = \"BokehJS \" + root.Bokeh.version + \" successfully loaded.\";\n",
       "      }\n",
       "    } else if (Date.now() < root._bokeh_timeout) {\n",
       "      setTimeout(display_loaded, 100)\n",
       "    }\n",
       "  }\n",
       "\n",
       "\n",
       "  function run_callbacks() {\n",
       "    try {\n",
       "      root._bokeh_onload_callbacks.forEach(function(callback) {\n",
       "        if (callback != null)\n",
       "          callback();\n",
       "      });\n",
       "    } finally {\n",
       "      delete root._bokeh_onload_callbacks\n",
       "    }\n",
       "    console.debug(\"Bokeh: all callbacks have finished\");\n",
       "  }\n",
       "\n",
       "  function load_libs(css_urls, js_urls, callback) {\n",
       "    if (css_urls == null) css_urls = [];\n",
       "    if (js_urls == null) js_urls = [];\n",
       "\n",
       "    root._bokeh_onload_callbacks.push(callback);\n",
       "    if (root._bokeh_is_loading > 0) {\n",
       "      console.debug(\"Bokeh: BokehJS is being loaded, scheduling callback at\", now());\n",
       "      return null;\n",
       "    }\n",
       "    if (js_urls == null || js_urls.length === 0) {\n",
       "      run_callbacks();\n",
       "      return null;\n",
       "    }\n",
       "    console.debug(\"Bokeh: BokehJS not loaded, scheduling load and callback at\", now());\n",
       "    root._bokeh_is_loading = css_urls.length + js_urls.length;\n",
       "\n",
       "    function on_load() {\n",
       "      root._bokeh_is_loading--;\n",
       "      if (root._bokeh_is_loading === 0) {\n",
       "        console.debug(\"Bokeh: all BokehJS libraries/stylesheets loaded\");\n",
       "        run_callbacks()\n",
       "      }\n",
       "    }\n",
       "\n",
       "    function on_error(url) {\n",
       "      console.error(\"failed to load \" + url);\n",
       "    }\n",
       "\n",
       "    for (let i = 0; i < css_urls.length; i++) {\n",
       "      const url = css_urls[i];\n",
       "      const element = document.createElement(\"link\");\n",
       "      element.onload = on_load;\n",
       "      element.onerror = on_error.bind(null, url);\n",
       "      element.rel = \"stylesheet\";\n",
       "      element.type = \"text/css\";\n",
       "      element.href = url;\n",
       "      console.debug(\"Bokeh: injecting link tag for BokehJS stylesheet: \", url);\n",
       "      document.body.appendChild(element);\n",
       "    }\n",
       "\n",
       "    const hashes = {\"https://cdn.bokeh.org/bokeh/release/bokeh-2.3.3.min.js\": \"dM3QQsP+wXdHg42wTqW85BjZQdLNNIXqlPw/BgKoExPmTG7ZLML4EGqLMfqHT6ON\", \"https://cdn.bokeh.org/bokeh/release/bokeh-tables-2.3.3.min.js\": \"8x57I4YuIfu8XyZfFo0XVr2WAT8EK4rh/uDe3wF7YuW2FNUSNEpJbsPaB1nJ2fz2\", \"https://cdn.bokeh.org/bokeh/release/bokeh-widgets-2.3.3.min.js\": \"3QTqdz9LyAm2i0sG5XTePsHec3UHWwVsrOL68SYRoAXsafvfAyqtQ+h440+qIBhS\"};\n",
       "\n",
       "    for (let i = 0; i < js_urls.length; i++) {\n",
       "      const url = js_urls[i];\n",
       "      const element = document.createElement('script');\n",
       "      element.onload = on_load;\n",
       "      element.onerror = on_error.bind(null, url);\n",
       "      element.async = false;\n",
       "      element.src = url;\n",
       "      if (url in hashes) {\n",
       "        element.crossOrigin = \"anonymous\";\n",
       "        element.integrity = \"sha384-\" + hashes[url];\n",
       "      }\n",
       "      console.debug(\"Bokeh: injecting script tag for BokehJS library: \", url);\n",
       "      document.head.appendChild(element);\n",
       "    }\n",
       "  };\n",
       "\n",
       "  function inject_raw_css(css) {\n",
       "    const element = document.createElement(\"style\");\n",
       "    element.appendChild(document.createTextNode(css));\n",
       "    document.body.appendChild(element);\n",
       "  }\n",
       "\n",
       "  \n",
       "  var js_urls = [\"https://cdn.bokeh.org/bokeh/release/bokeh-2.3.3.min.js\", \"https://cdn.bokeh.org/bokeh/release/bokeh-widgets-2.3.3.min.js\", \"https://cdn.bokeh.org/bokeh/release/bokeh-tables-2.3.3.min.js\"];\n",
       "  var css_urls = [];\n",
       "  \n",
       "\n",
       "  var inline_js = [\n",
       "    function(Bokeh) {\n",
       "      Bokeh.set_log_level(\"info\");\n",
       "    },\n",
       "    function(Bokeh) {\n",
       "    \n",
       "    \n",
       "    }\n",
       "  ];\n",
       "\n",
       "  function run_inline_js() {\n",
       "    \n",
       "    if (root.Bokeh !== undefined || force === true) {\n",
       "      \n",
       "    for (var i = 0; i < inline_js.length; i++) {\n",
       "      inline_js[i].call(root, root.Bokeh);\n",
       "    }\n",
       "    if (force === true) {\n",
       "        display_loaded();\n",
       "      }} else if (Date.now() < root._bokeh_timeout) {\n",
       "      setTimeout(run_inline_js, 100);\n",
       "    } else if (!root._bokeh_failed_load) {\n",
       "      console.log(\"Bokeh: BokehJS failed to load within specified timeout.\");\n",
       "      root._bokeh_failed_load = true;\n",
       "    } else if (force !== true) {\n",
       "      var cell = $(document.getElementById(\"1002\")).parents('.cell').data().cell;\n",
       "      cell.output_area.append_execute_result(NB_LOAD_WARNING)\n",
       "    }\n",
       "\n",
       "  }\n",
       "\n",
       "  if (root._bokeh_is_loading === 0) {\n",
       "    console.debug(\"Bokeh: BokehJS loaded, going straight to plotting\");\n",
       "    run_inline_js();\n",
       "  } else {\n",
       "    load_libs(css_urls, js_urls, function() {\n",
       "      console.debug(\"Bokeh: BokehJS plotting callback run at\", now());\n",
       "      run_inline_js();\n",
       "    });\n",
       "  }\n",
       "}(window));"
      ],
      "application/vnd.bokehjs_load.v0+json": "\n(function(root) {\n  function now() {\n    return new Date();\n  }\n\n  var force = true;\n\n  if (typeof root._bokeh_onload_callbacks === \"undefined\" || force === true) {\n    root._bokeh_onload_callbacks = [];\n    root._bokeh_is_loading = undefined;\n  }\n\n  \n\n  \n  if (typeof (root._bokeh_timeout) === \"undefined\" || force === true) {\n    root._bokeh_timeout = Date.now() + 5000;\n    root._bokeh_failed_load = false;\n  }\n\n  var NB_LOAD_WARNING = {'data': {'text/html':\n     \"<div style='background-color: #fdd'>\\n\"+\n     \"<p>\\n\"+\n     \"BokehJS does not appear to have successfully loaded. If loading BokehJS from CDN, this \\n\"+\n     \"may be due to a slow or bad network connection. Possible fixes:\\n\"+\n     \"</p>\\n\"+\n     \"<ul>\\n\"+\n     \"<li>re-rerun `output_notebook()` to attempt to load from CDN again, or</li>\\n\"+\n     \"<li>use INLINE resources instead, as so:</li>\\n\"+\n     \"</ul>\\n\"+\n     \"<code>\\n\"+\n     \"from bokeh.resources import INLINE\\n\"+\n     \"output_notebook(resources=INLINE)\\n\"+\n     \"</code>\\n\"+\n     \"</div>\"}};\n\n  function display_loaded() {\n    var el = document.getElementById(\"1002\");\n    if (el != null) {\n      el.textContent = \"BokehJS is loading...\";\n    }\n    if (root.Bokeh !== undefined) {\n      if (el != null) {\n        el.textContent = \"BokehJS \" + root.Bokeh.version + \" successfully loaded.\";\n      }\n    } else if (Date.now() < root._bokeh_timeout) {\n      setTimeout(display_loaded, 100)\n    }\n  }\n\n\n  function run_callbacks() {\n    try {\n      root._bokeh_onload_callbacks.forEach(function(callback) {\n        if (callback != null)\n          callback();\n      });\n    } finally {\n      delete root._bokeh_onload_callbacks\n    }\n    console.debug(\"Bokeh: all callbacks have finished\");\n  }\n\n  function load_libs(css_urls, js_urls, callback) {\n    if (css_urls == null) css_urls = [];\n    if (js_urls == null) js_urls = [];\n\n    root._bokeh_onload_callbacks.push(callback);\n    if (root._bokeh_is_loading > 0) {\n      console.debug(\"Bokeh: BokehJS is being loaded, scheduling callback at\", now());\n      return null;\n    }\n    if (js_urls == null || js_urls.length === 0) {\n      run_callbacks();\n      return null;\n    }\n    console.debug(\"Bokeh: BokehJS not loaded, scheduling load and callback at\", now());\n    root._bokeh_is_loading = css_urls.length + js_urls.length;\n\n    function on_load() {\n      root._bokeh_is_loading--;\n      if (root._bokeh_is_loading === 0) {\n        console.debug(\"Bokeh: all BokehJS libraries/stylesheets loaded\");\n        run_callbacks()\n      }\n    }\n\n    function on_error(url) {\n      console.error(\"failed to load \" + url);\n    }\n\n    for (let i = 0; i < css_urls.length; i++) {\n      const url = css_urls[i];\n      const element = document.createElement(\"link\");\n      element.onload = on_load;\n      element.onerror = on_error.bind(null, url);\n      element.rel = \"stylesheet\";\n      element.type = \"text/css\";\n      element.href = url;\n      console.debug(\"Bokeh: injecting link tag for BokehJS stylesheet: \", url);\n      document.body.appendChild(element);\n    }\n\n    const hashes = {\"https://cdn.bokeh.org/bokeh/release/bokeh-2.3.3.min.js\": \"dM3QQsP+wXdHg42wTqW85BjZQdLNNIXqlPw/BgKoExPmTG7ZLML4EGqLMfqHT6ON\", \"https://cdn.bokeh.org/bokeh/release/bokeh-tables-2.3.3.min.js\": \"8x57I4YuIfu8XyZfFo0XVr2WAT8EK4rh/uDe3wF7YuW2FNUSNEpJbsPaB1nJ2fz2\", \"https://cdn.bokeh.org/bokeh/release/bokeh-widgets-2.3.3.min.js\": \"3QTqdz9LyAm2i0sG5XTePsHec3UHWwVsrOL68SYRoAXsafvfAyqtQ+h440+qIBhS\"};\n\n    for (let i = 0; i < js_urls.length; i++) {\n      const url = js_urls[i];\n      const element = document.createElement('script');\n      element.onload = on_load;\n      element.onerror = on_error.bind(null, url);\n      element.async = false;\n      element.src = url;\n      if (url in hashes) {\n        element.crossOrigin = \"anonymous\";\n        element.integrity = \"sha384-\" + hashes[url];\n      }\n      console.debug(\"Bokeh: injecting script tag for BokehJS library: \", url);\n      document.head.appendChild(element);\n    }\n  };\n\n  function inject_raw_css(css) {\n    const element = document.createElement(\"style\");\n    element.appendChild(document.createTextNode(css));\n    document.body.appendChild(element);\n  }\n\n  \n  var js_urls = [\"https://cdn.bokeh.org/bokeh/release/bokeh-2.3.3.min.js\", \"https://cdn.bokeh.org/bokeh/release/bokeh-widgets-2.3.3.min.js\", \"https://cdn.bokeh.org/bokeh/release/bokeh-tables-2.3.3.min.js\"];\n  var css_urls = [];\n  \n\n  var inline_js = [\n    function(Bokeh) {\n      Bokeh.set_log_level(\"info\");\n    },\n    function(Bokeh) {\n    \n    \n    }\n  ];\n\n  function run_inline_js() {\n    \n    if (root.Bokeh !== undefined || force === true) {\n      \n    for (var i = 0; i < inline_js.length; i++) {\n      inline_js[i].call(root, root.Bokeh);\n    }\n    if (force === true) {\n        display_loaded();\n      }} else if (Date.now() < root._bokeh_timeout) {\n      setTimeout(run_inline_js, 100);\n    } else if (!root._bokeh_failed_load) {\n      console.log(\"Bokeh: BokehJS failed to load within specified timeout.\");\n      root._bokeh_failed_load = true;\n    } else if (force !== true) {\n      var cell = $(document.getElementById(\"1002\")).parents('.cell').data().cell;\n      cell.output_area.append_execute_result(NB_LOAD_WARNING)\n    }\n\n  }\n\n  if (root._bokeh_is_loading === 0) {\n    console.debug(\"Bokeh: BokehJS loaded, going straight to plotting\");\n    run_inline_js();\n  } else {\n    load_libs(css_urls, js_urls, function() {\n      console.debug(\"Bokeh: BokehJS plotting callback run at\", now());\n      run_inline_js();\n    });\n  }\n}(window));"
     },
     "metadata": {},
     "output_type": "display_data"
    }
   ],
   "source": [
    "import warnings\n",
    "warnings.filterwarnings('ignore')\n",
    "#picaso\n",
    "from picaso import justdoit as jdi \n",
    "from picaso import justplotit as jpi\n",
    "\n",
    "#plotting\n",
    "jpi.output_notebook()"
   ]
  },
  {
   "cell_type": "markdown",
   "metadata": {},
   "source": [
    "We will use new Hot Jupiter template to guide us through the exercise. "
   ]
  },
  {
   "cell_type": "code",
   "execution_count": 2,
   "metadata": {},
   "outputs": [],
   "source": [
    "opa = jdi.opannection(wave_range=[3,5])\n",
    "\n",
    "case1 = jdi.inputs()\n",
    "\n",
    "case1.phase_angle(0) \n",
    "\n",
    "\n",
    "#here we are going to have to specify gravity through R and M since we need it in the Flux calc\n",
    "case1.gravity(mass=1, mass_unit=jdi.u.Unit('M_jup'), \n",
    "              radius=1.2, radius_unit=jdi.u.Unit('R_jup'))\n",
    "\n",
    "#here we are going to have to specify R as well\n",
    "case1.star(opa, 4000,0.0122,4.437,radius=0.7, radius_unit = jdi.u.Unit('R_sun') )\n",
    "\n",
    "#atmo\n",
    "case1.atmosphere(filename = jdi.HJ_pt(), delim_whitespace=True)\n",
    "case1.clouds(filename = jdi.HJ_cld(), delim_whitespace=True)"
   ]
  },
  {
   "cell_type": "markdown",
   "metadata": {},
   "source": [
    "## Return ``PICASO`` Full Ouput"
   ]
  },
  {
   "cell_type": "code",
   "execution_count": 3,
   "metadata": {},
   "outputs": [],
   "source": [
    "df= case1.spectrum(opa, full_output=True,calculation='thermal') #note the new last key \n",
    "\n",
    "wno, fpfs , fp = df['wavenumber'] , df['fpfs_thermal'], df['thermal']\n",
    "wno, fpfs = jdi.mean_regrid(wno, fpfs, R=150)\n",
    "wno, fp = jdi.mean_regrid(wno, fpfs, R=150)\n",
    "full_output = df['full_output']\n"
   ]
  },
  {
   "cell_type": "markdown",
   "metadata": {},
   "source": [
    "Here we are getting a few error messages that our example `HJ_cld` had some unrecognized molecules. Looking them over, this looks okay! `x` is not a molecule, and neither is `Kzz`. The code has accurately identified non-molecules in our input."
   ]
  },
  {
   "cell_type": "markdown",
   "metadata": {},
   "source": [
    "## Analyzing Thermal Emission Output\n",
    "\n",
    "All the functionality that we used for reflected light we will also be able to use for thermal emission\n",
    "\n",
    "### Mixing Ratios and Pressure Temperature plots"
   ]
  },
  {
   "cell_type": "code",
   "execution_count": 4,
   "metadata": {},
   "outputs": [
    {
     "data": {
      "text/html": [
       "\n",
       "\n",
       "\n",
       "\n",
       "\n",
       "\n",
       "  <div class=\"bk-root\" id=\"908a520b-7cfc-42bc-b8f9-019637e21193\" data-root-id=\"1201\"></div>\n"
      ]
     },
     "metadata": {},
     "output_type": "display_data"
    },
    {
     "data": {
      "application/javascript": [
       "(function(root) {\n",
       "  function embed_document(root) {\n",
       "    \n",
       "  var docs_json = {\"05b85daf-97d4-4aa0-b091-ac14fae96cfb\":{\"defs\":[],\"roots\":{\"references\":[{\"attributes\":{\"children\":[{\"id\":\"1003\"},{\"id\":\"1163\"}]},\"id\":\"1201\",\"type\":\"Row\"},{\"attributes\":{\"label\":{\"value\":\"VO\"},\"renderers\":[{\"id\":\"1130\"}]},\"id\":\"1160\",\"type\":\"LegendItem\"},{\"attributes\":{\"data\":{\"x\":{\"__ndarray__\":\"mPIhqBq9+j7HxnIBHgf0PgGgL2JER/c+QpTUrq6v+j6Jo2HnXED+PvWCT3PyIgM/RKEKJM3ECT8sZ0pGKXwRP25PNR98zRc/RMU4fxMKIT+sWtJRDmYjP1YPmIdM+SA/2ubG9IQlHj8kD0QWaeIdPzSID+z4LyA/UvUrnQ/PIj/cEU4LXvQlPzNqvko+dic/M2q+Sj52Jz8zar5KPnYnP1oLs9DOaSY/lgM91LZhJD8YCtgORuwjP+5brROX4yU/WP58W7BUJz9Y/nxbsFQnP1j+fFuwVCc/WP58W7BUJz9Y/nxbsFQnP1j+fFuwVCc/WP58W7BUJz9Y/nxbsFQnP0a0HVN3ZSc/M2q+Sj52Jz8zar5KPnYnPzNqvko+dic/M2q+Sj52Jz8zar5KPnYnPzNqvko+dic/M2q+Sj52Jz9GtB1Td2UnP1j+fFuwVCc/akjcY+lDJz+Q3Jp0WyInP8e6uI0G8CY/EeM1r+qsJj9bC7PQzmkmP8rH7gIlBSY/XRjpRe1+JT/waOOItfgkP6lNnNzvUCQ/PJ6WH7jKIz8=\",\"dtype\":\"float64\",\"order\":\"little\",\"shape\":[52]},\"y\":{\"__ndarray__\":\"ZGuc9g4cyD5MxgdroxDRPg8Nq7E8KNg+PCi+azQZ4T64eH4SWjToPuEOwIbcIfE+Z0fnlcBA+D6YH2gliioBP9Sc7oPpTAg/Ql+zwzEzET+gljJTNVkYP2ZxYprjOyE/47vwko9lKD9bxrDhpkQxP5nUeP7hcTg/6iw3XFRNQT/T3tKpMH5IP1i/ozP/VVE/evcom4SKWD8yIkZ06F5hP/kHy8MMl2g/VofDFqNncT9hz+FLcKN4P3x0YW1acIE/X2vP28OviD9AhYSHRHmRP+ZaGzRwvJg/0yEEaB6CoT8CT0GG5sioP5UwcU3uirE/dGARDHnVuD8xiMFP55PBP9O3eEIG4sg/eGGlN7Kc0T9Ee1jImO7YP5XsWeOepeE/zbO0Jyb76D/JJeF0ba7xP1g6g2OjB/k/gxc9vHK3AUCvTMbddhQJQMNuAnVuwBFAzIQ6IyAhGUAKvmxdV8khQAlOitTELSlAXZNjGl7SMUD/kmg0gzo5QCwuSfFg20FAlZRAlEFHSUBXVyzIY+RRQEBcEvT/U1lAjhINn2btYUA=\",\"dtype\":\"float64\",\"order\":\"little\",\"shape\":[52]}},\"selected\":{\"id\":\"1234\"},\"selection_policy\":{\"id\":\"1233\"}},\"id\":\"1084\",\"type\":\"ColumnDataSource\"},{\"attributes\":{},\"id\":\"1243\",\"type\":\"UnionRenderers\"},{\"attributes\":{\"label\":{\"value\":\"Fe\"},\"renderers\":[{\"id\":\"1118\"}]},\"id\":\"1158\",\"type\":\"LegendItem\"},{\"attributes\":{},\"id\":\"1244\",\"type\":\"Selection\"},{\"attributes\":{\"data_source\":{\"id\":\"1084\"},\"glyph\":{\"id\":\"1085\"},\"hover_glyph\":null,\"muted_glyph\":{\"id\":\"1087\"},\"nonselection_glyph\":{\"id\":\"1086\"},\"view\":{\"id\":\"1089\"}},\"id\":\"1088\",\"type\":\"GlyphRenderer\"},{\"attributes\":{\"line_alpha\":0.1,\"line_color\":\"#EC585F\",\"line_width\":3,\"x\":{\"field\":\"x\"},\"y\":{\"field\":\"y\"}},\"id\":\"1104\",\"type\":\"Line\"},{\"attributes\":{\"overlay\":{\"id\":\"1188\"}},\"id\":\"1184\",\"type\":\"BoxZoomTool\"},{\"attributes\":{\"ticker\":null},\"id\":\"1205\",\"type\":\"LogTickFormatter\"},{\"attributes\":{},\"id\":\"1175\",\"type\":\"BasicTicker\"},{\"attributes\":{\"num_minor_ticks\":10},\"id\":\"1179\",\"type\":\"LogTicker\"},{\"attributes\":{},\"id\":\"1206\",\"type\":\"AllLabels\"},{\"attributes\":{\"line_color\":\"#C23A75\",\"line_width\":3,\"x\":{\"field\":\"x\"},\"y\":{\"field\":\"y\"}},\"id\":\"1091\",\"type\":\"Line\"},{\"attributes\":{},\"id\":\"1186\",\"type\":\"ResetTool\"},{\"attributes\":{\"active_multi\":null,\"tools\":[{\"id\":\"1182\"},{\"id\":\"1183\"},{\"id\":\"1184\"},{\"id\":\"1185\"},{\"id\":\"1186\"},{\"id\":\"1187\"}]},\"id\":\"1189\",\"type\":\"Toolbar\"},{\"attributes\":{\"line_alpha\":0.2,\"line_color\":\"#A9327C\",\"line_width\":3,\"x\":{\"field\":\"x\"},\"y\":{\"field\":\"y\"}},\"id\":\"1087\",\"type\":\"Line\"},{\"attributes\":{\"line_alpha\":0.1,\"line_color\":\"#912A80\",\"line_width\":3,\"x\":{\"field\":\"x\"},\"y\":{\"field\":\"y\"}},\"id\":\"1080\",\"type\":\"Line\"},{\"attributes\":{\"data\":{\"x\":{\"__ndarray__\":\"NDMzMzN9iEC4HoXrUYuIQLgehetR2IhA4noUrkdEiUBI4XoUrsOJQNijcD0KRopANDMzMzPAikCQwvUoXCyLQAAAAAAAjotAAAAAAADvi0BmZmZmZlqMQHA9Ctej1YxAuB6F61FcjUAAAAAAAOONQFyPwvUoYI5A7FG4HoXPjkAzMzMzMy6PQGZmZmZmeo9ANDMzMzO4j0AAAAAAAPuPQML1KFyPLZBAXI/C9ahvkEAAAAAAgMCQQArXo3C9FZFAMzMzM7NmkUBwPQrXI7yRQB6F61G4JpJAMzMzM7OskkCF61G4nkiTQFyPwvWo8pNAAAAAAACllEAAAAAAAF2VQJqZmZkZGZZArkfhehTKlkBSuB6Fa2SXQAAAAACA7JdAj8L1KFxomEAK16NwPfGYQClcj8J1kplAuB6F69ExmkD2KFyPwr+aQDQzMzMzMptANDMzM7Okm0AUrkfheh2cQEjhehQud5xAXI/C9SimnEBSuB6Fa62cQKRwPQpXnZxA4XoUrkeEnEAzMzMzM2icQPYoXI9CTpxAzczMzMzznEA=\",\"dtype\":\"float64\",\"order\":\"little\",\"shape\":[52]},\"y\":{\"__ndarray__\":\"ZGuc9g4cyD5MxgdroxDRPg8Nq7E8KNg+PCi+azQZ4T64eH4SWjToPuEOwIbcIfE+Z0fnlcBA+D6YH2gliioBP9Sc7oPpTAg/Ql+zwzEzET+gljJTNVkYP2ZxYprjOyE/47vwko9lKD9bxrDhpkQxP5nUeP7hcTg/6iw3XFRNQT/T3tKpMH5IP1i/ozP/VVE/evcom4SKWD8yIkZ06F5hP/kHy8MMl2g/VofDFqNncT9hz+FLcKN4P3x0YW1acIE/X2vP28OviD9AhYSHRHmRP+ZaGzRwvJg/0yEEaB6CoT8CT0GG5sioP5UwcU3uirE/dGARDHnVuD8xiMFP55PBP9O3eEIG4sg/eGGlN7Kc0T9Ee1jImO7YP5XsWeOepeE/zbO0Jyb76D/JJeF0ba7xP1g6g2OjB/k/gxc9vHK3AUCvTMbddhQJQMNuAnVuwBFAzIQ6IyAhGUAKvmxdV8khQAlOitTELSlAXZNjGl7SMUD/kmg0gzo5QCwuSfFg20FAlZRAlEFHSUBXVyzIY+RRQEBcEvT/U1lAjhINn2btYUA=\",\"dtype\":\"float64\",\"order\":\"little\",\"shape\":[52]}},\"selected\":{\"id\":\"1255\"},\"selection_policy\":{\"id\":\"1254\"}},\"id\":\"1196\",\"type\":\"ColumnDataSource\"},{\"attributes\":{\"line_alpha\":0.2,\"line_color\":\"#C23A75\",\"line_width\":3,\"x\":{\"field\":\"x\"},\"y\":{\"field\":\"y\"}},\"id\":\"1093\",\"type\":\"Line\"},{\"attributes\":{},\"id\":\"1183\",\"type\":\"WheelZoomTool\"},{\"attributes\":{},\"id\":\"1235\",\"type\":\"UnionRenderers\"},{\"attributes\":{\"label\":{\"value\":\"H+\"},\"renderers\":[{\"id\":\"1142\"}]},\"id\":\"1162\",\"type\":\"LegendItem\"},{\"attributes\":{\"ticker\":null},\"id\":\"1208\",\"type\":\"LogTickFormatter\"},{\"attributes\":{\"line_alpha\":0.2,\"line_color\":\"#912A80\",\"line_width\":3,\"x\":{\"field\":\"x\"},\"y\":{\"field\":\"y\"}},\"id\":\"1081\",\"type\":\"Line\"},{\"attributes\":{\"ticker\":null},\"id\":\"1211\",\"type\":\"LogTickFormatter\"},{\"attributes\":{},\"id\":\"1236\",\"type\":\"Selection\"},{\"attributes\":{},\"id\":\"1209\",\"type\":\"AllLabels\"},{\"attributes\":{},\"id\":\"1182\",\"type\":\"PanTool\"},{\"attributes\":{\"line_color\":\"#F7715B\",\"line_width\":3,\"x\":{\"field\":\"x\"},\"y\":{\"field\":\"y\"}},\"id\":\"1109\",\"type\":\"Line\"},{\"attributes\":{},\"id\":\"1212\",\"type\":\"AllLabels\"},{\"attributes\":{\"bottom_units\":\"screen\",\"fill_alpha\":0.5,\"fill_color\":\"lightgrey\",\"left_units\":\"screen\",\"level\":\"overlay\",\"line_alpha\":1.0,\"line_color\":\"black\",\"line_dash\":[4,4],\"line_width\":2,\"right_units\":\"screen\",\"syncable\":false,\"top_units\":\"screen\"},\"id\":\"1188\",\"type\":\"BoxAnnotation\"},{\"attributes\":{\"axis_label\":\"Pressure(Bars)\",\"axis_label_text_font\":\"times\",\"axis_label_text_font_size\":\"14pt\",\"axis_label_text_font_style\":\"bold\",\"formatter\":{\"id\":\"1211\"},\"major_label_policy\":{\"id\":\"1212\"},\"major_label_text_font\":\"times\",\"major_label_text_font_size\":\"14pt\",\"ticker\":{\"id\":\"1179\"}},\"id\":\"1178\",\"type\":\"LogAxis\"},{\"attributes\":{\"data_source\":{\"id\":\"1126\"},\"glyph\":{\"id\":\"1127\"},\"hover_glyph\":null,\"muted_glyph\":{\"id\":\"1129\"},\"nonselection_glyph\":{\"id\":\"1128\"},\"view\":{\"id\":\"1131\"}},\"id\":\"1130\",\"type\":\"GlyphRenderer\"},{\"attributes\":{\"label\":{\"value\":\"PH3\"},\"renderers\":[{\"id\":\"1106\"}]},\"id\":\"1156\",\"type\":\"LegendItem\"},{\"attributes\":{},\"id\":\"1245\",\"type\":\"UnionRenderers\"},{\"attributes\":{\"source\":{\"id\":\"1084\"}},\"id\":\"1089\",\"type\":\"CDSView\"},{\"attributes\":{},\"id\":\"1187\",\"type\":\"HelpTool\"},{\"attributes\":{},\"id\":\"1214\",\"type\":\"BasicTickFormatter\"},{\"attributes\":{},\"id\":\"1246\",\"type\":\"Selection\"},{\"attributes\":{},\"id\":\"1185\",\"type\":\"SaveTool\"},{\"attributes\":{},\"id\":\"1215\",\"type\":\"AllLabels\"},{\"attributes\":{\"data_source\":{\"id\":\"1196\"},\"glyph\":{\"id\":\"1197\"},\"hover_glyph\":null,\"muted_glyph\":null,\"nonselection_glyph\":{\"id\":\"1198\"},\"view\":{\"id\":\"1200\"}},\"id\":\"1199\",\"type\":\"GlyphRenderer\"},{\"attributes\":{\"label\":{\"value\":\"NH3\"},\"renderers\":[{\"id\":\"1094\"}]},\"id\":\"1154\",\"type\":\"LegendItem\"},{\"attributes\":{\"source\":{\"id\":\"1078\"}},\"id\":\"1083\",\"type\":\"CDSView\"},{\"attributes\":{\"axis\":{\"id\":\"1178\"},\"dimension\":1,\"ticker\":null},\"id\":\"1181\",\"type\":\"Grid\"},{\"attributes\":{\"line_alpha\":0.1,\"line_color\":\"#D9466A\",\"line_width\":3,\"x\":{\"field\":\"x\"},\"y\":{\"field\":\"y\"}},\"id\":\"1098\",\"type\":\"Line\"},{\"attributes\":{\"label\":{\"value\":\"H2S\"},\"renderers\":[{\"id\":\"1082\"}]},\"id\":\"1152\",\"type\":\"LegendItem\"},{\"attributes\":{\"line_alpha\":0.2,\"line_color\":\"#D9466A\",\"line_width\":3,\"x\":{\"field\":\"x\"},\"y\":{\"field\":\"y\"}},\"id\":\"1099\",\"type\":\"Line\"},{\"attributes\":{\"line_color\":\"#A9327C\",\"line_width\":3,\"x\":{\"field\":\"x\"},\"y\":{\"field\":\"y\"}},\"id\":\"1085\",\"type\":\"Line\"},{\"attributes\":{\"data\":{\"x\":{\"__ndarray__\":\"jImMp7/VCj4OL9wReAQIPk+yrYi3oQ4+HqlmYGnDFj7nDddm8B8iPls4l5jFYyw+bh8dQyLPND4459s4SzI8Pggi6vYxEkI+hCJI4GbZRj7HH2r2F/VNPiu6TlNmq1Q+ljl11600XT5Vb/pjtC9kPjA8Qou9d2o+nlNThZRVcD5wUsTl2eVyPrjPn/f8cHQ+VLfSKrwEdT4oJpP98ep1Pp7RO/WGC3k+opsH9OWsfz7n2QD66puFPvmZGmv2dY0+kYpDWZ9Ckz5czYG4h5GZPgUtGu4AqKI+UmICd9M/rj7OyeYFMwG6PlkDrSO7kMY+toXGl3lA0z6O8uVoAgPgPnBQsSCDy+k+9YJPc/Ii8z7Hrv4Z79j5PsnfYupTMwA//J03XzZLAz/jJlk9FpEHP4KIefsYGA4/ojiRqje0Ej/cEU4LXvQVP7JjIxCv6xc/DMPsCiL3GT8ElfHvMy4cP7psdM5PcRw/yrVX1YFiGj+O1UG5yJgWP8CxZ89lahI/Dr6LUp1pDT+ErSNYZlsHPzF1/LxOjwI/KEEk6NQ6Bj8=\",\"dtype\":\"float64\",\"order\":\"little\",\"shape\":[52]},\"y\":{\"__ndarray__\":\"ZGuc9g4cyD5MxgdroxDRPg8Nq7E8KNg+PCi+azQZ4T64eH4SWjToPuEOwIbcIfE+Z0fnlcBA+D6YH2gliioBP9Sc7oPpTAg/Ql+zwzEzET+gljJTNVkYP2ZxYprjOyE/47vwko9lKD9bxrDhpkQxP5nUeP7hcTg/6iw3XFRNQT/T3tKpMH5IP1i/ozP/VVE/evcom4SKWD8yIkZ06F5hP/kHy8MMl2g/VofDFqNncT9hz+FLcKN4P3x0YW1acIE/X2vP28OviD9AhYSHRHmRP+ZaGzRwvJg/0yEEaB6CoT8CT0GG5sioP5UwcU3uirE/dGARDHnVuD8xiMFP55PBP9O3eEIG4sg/eGGlN7Kc0T9Ee1jImO7YP5XsWeOepeE/zbO0Jyb76D/JJeF0ba7xP1g6g2OjB/k/gxc9vHK3AUCvTMbddhQJQMNuAnVuwBFAzIQ6IyAhGUAKvmxdV8khQAlOitTELSlAXZNjGl7SMUD/kmg0gzo5QCwuSfFg20FAlZRAlEFHSUBXVyzIY+RRQEBcEvT/U1lAjhINn2btYUA=\",\"dtype\":\"float64\",\"order\":\"little\",\"shape\":[52]}},\"selected\":{\"id\":\"1238\"},\"selection_policy\":{\"id\":\"1237\"}},\"id\":\"1096\",\"type\":\"ColumnDataSource\"},{\"attributes\":{},\"id\":\"1237\",\"type\":\"UnionRenderers\"},{\"attributes\":{\"label\":{\"value\":\"CH4\"},\"renderers\":[{\"id\":\"1070\"}]},\"id\":\"1150\",\"type\":\"LegendItem\"},{\"attributes\":{\"line_alpha\":0.1,\"line_color\":\"#A9327C\",\"line_width\":3,\"x\":{\"field\":\"x\"},\"y\":{\"field\":\"y\"}},\"id\":\"1086\",\"type\":\"Line\"},{\"attributes\":{},\"id\":\"1238\",\"type\":\"Selection\"},{\"attributes\":{\"data_source\":{\"id\":\"1090\"},\"glyph\":{\"id\":\"1091\"},\"hover_glyph\":null,\"muted_glyph\":{\"id\":\"1093\"},\"nonselection_glyph\":{\"id\":\"1092\"},\"view\":{\"id\":\"1095\"}},\"id\":\"1094\",\"type\":\"GlyphRenderer\"},{\"attributes\":{\"axis_label\":\"Temperature (K)\",\"axis_label_text_font\":\"times\",\"axis_label_text_font_size\":\"14pt\",\"axis_label_text_font_style\":\"bold\",\"formatter\":{\"id\":\"1214\"},\"major_label_policy\":{\"id\":\"1215\"},\"major_label_text_font\":\"times\",\"major_label_text_font_size\":\"14pt\",\"ticker\":{\"id\":\"1175\"}},\"id\":\"1174\",\"type\":\"LinearAxis\"},{\"attributes\":{\"label\":{\"value\":\"H2O\"},\"renderers\":[{\"id\":\"1058\"}]},\"id\":\"1148\",\"type\":\"LegendItem\"},{\"attributes\":{\"source\":{\"id\":\"1102\"}},\"id\":\"1107\",\"type\":\"CDSView\"},{\"attributes\":{},\"id\":\"1247\",\"type\":\"UnionRenderers\"},{\"attributes\":{\"axis\":{\"id\":\"1174\"},\"ticker\":null},\"id\":\"1177\",\"type\":\"Grid\"},{\"attributes\":{\"line_color\":\"#D9466A\",\"line_width\":3,\"x\":{\"field\":\"x\"},\"y\":{\"field\":\"y\"}},\"id\":\"1097\",\"type\":\"Line\"},{\"attributes\":{},\"id\":\"1248\",\"type\":\"Selection\"},{\"attributes\":{\"source\":{\"id\":\"1096\"}},\"id\":\"1101\",\"type\":\"CDSView\"},{\"attributes\":{\"data\":{\"x\":{\"__ndarray__\":\"ljl11600/T12qrj9UBUEPnrIWFwUrwk+BmM/h5mpDz6evmhl0icTPnqBr19aRxc+oNoNWLrGHD7nDddm8B8iPmRL3R9eJic+jpjcVqGiLT6yeuoFXcoyPqjtU99SiTc+VBFPtypQPT6P7IbWqVlCPm9mxj/cNkc+CkiQFpvZTT7CTMyUhZhTPhjJx3uIF1o+rUmh90COYT4+BVK3sopnPqRTLy3e124+gCSmdAK0cz521LcdMbJ4PkAX9nwZAX8+mHO0oLOpgz4jIog1jdSIPhBVbUEzq44+grhhynZ0kj7WYa0jDNiVPt9BOtwRxZk+YgedKdeInj7dJrsdCjSiPoxrp6ZX3KU+KJLOERDLqj7UBSdotNGwPsa8EnEIj7U+9FYba5gEvD7Exfb/FgnCPhb2F+4a/MY+0MACdySHzT62hcaXeUDTPhHXezvTldk+2iAPVPj54D42d/S/XIvmPj975MV4g+4+94PLdPkg9T7MsPYc/dT9PtLvDGSHQgU/ZA+j1uphDj8U8GskCcIVP6wq6oKwCR8/GArYDkbsIz8=\",\"dtype\":\"float64\",\"order\":\"little\",\"shape\":[52]},\"y\":{\"__ndarray__\":\"ZGuc9g4cyD5MxgdroxDRPg8Nq7E8KNg+PCi+azQZ4T64eH4SWjToPuEOwIbcIfE+Z0fnlcBA+D6YH2gliioBP9Sc7oPpTAg/Ql+zwzEzET+gljJTNVkYP2ZxYprjOyE/47vwko9lKD9bxrDhpkQxP5nUeP7hcTg/6iw3XFRNQT/T3tKpMH5IP1i/ozP/VVE/evcom4SKWD8yIkZ06F5hP/kHy8MMl2g/VofDFqNncT9hz+FLcKN4P3x0YW1acIE/X2vP28OviD9AhYSHRHmRP+ZaGzRwvJg/0yEEaB6CoT8CT0GG5sioP5UwcU3uirE/dGARDHnVuD8xiMFP55PBP9O3eEIG4sg/eGGlN7Kc0T9Ee1jImO7YP5XsWeOepeE/zbO0Jyb76D/JJeF0ba7xP1g6g2OjB/k/gxc9vHK3AUCvTMbddhQJQMNuAnVuwBFAzIQ6IyAhGUAKvmxdV8khQAlOitTELSlAXZNjGl7SMUD/kmg0gzo5QCwuSfFg20FAlZRAlEFHSUBXVyzIY+RRQEBcEvT/U1lAjhINn2btYUA=\",\"dtype\":\"float64\",\"order\":\"little\",\"shape\":[52]}},\"selected\":{\"id\":\"1236\"},\"selection_policy\":{\"id\":\"1235\"}},\"id\":\"1090\",\"type\":\"ColumnDataSource\"},{\"attributes\":{\"label\":{\"value\":\"H-\"},\"renderers\":[{\"id\":\"1136\"}]},\"id\":\"1161\",\"type\":\"LegendItem\"},{\"attributes\":{\"data\":{\"x\":{\"__ndarray__\":\"RnZtyzBuEz4EDUbb/XQaPqcYWOkkUiA+UHtZJdEyIz7jp4ghgfIlPh/wD10jKyk+KB/71qOMLT66oTLn990xPkghaqF+CDY+QA4kGuZFOz7gn+WIm6RAPoBhTkQ780M+yj4PP826Rz5mU4C4Q3RMPhCG2qcFZVE+tjvkoYiwVT5YgZ4pG6ZbPoKU9ebyCWI+VnjMxufqZz4WYkpsy3xvPocNF7wWG3Q+Ag51pUvieD6E90PWlBB+PlH22I6QHoI+xelZTS0Uhj5yiNSOxMaKPvRNN9yJio8+zYEgawbrkT6I+2DK1OWTPu7CcUH/ApY+sCUj6OFkmD56cUXW2C2bPmIHnSnXiJ4+CNOLNbedoT7waOOItfikPvC5jbLwiKk+JhDAF3Dgrz6gL94Lo4uzPrqHvpqHPLc+9FYba5gEvD7sZuuFp/zAPpLvraMFw8Q++HW3HeBqyT6sKuqCsAnPPiZKCHfjtNI+LEwAevGw1j4CjetCIFXcPmZR8eJxD+E+/6gT8VLB4z5ErcSX5NvmPixDHOviNuo+VuWMcnoo6z4=\",\"dtype\":\"float64\",\"order\":\"little\",\"shape\":[52]},\"y\":{\"__ndarray__\":\"ZGuc9g4cyD5MxgdroxDRPg8Nq7E8KNg+PCi+azQZ4T64eH4SWjToPuEOwIbcIfE+Z0fnlcBA+D6YH2gliioBP9Sc7oPpTAg/Ql+zwzEzET+gljJTNVkYP2ZxYprjOyE/47vwko9lKD9bxrDhpkQxP5nUeP7hcTg/6iw3XFRNQT/T3tKpMH5IP1i/ozP/VVE/evcom4SKWD8yIkZ06F5hP/kHy8MMl2g/VofDFqNncT9hz+FLcKN4P3x0YW1acIE/X2vP28OviD9AhYSHRHmRP+ZaGzRwvJg/0yEEaB6CoT8CT0GG5sioP5UwcU3uirE/dGARDHnVuD8xiMFP55PBP9O3eEIG4sg/eGGlN7Kc0T9Ee1jImO7YP5XsWeOepeE/zbO0Jyb76D/JJeF0ba7xP1g6g2OjB/k/gxc9vHK3AUCvTMbddhQJQMNuAnVuwBFAzIQ6IyAhGUAKvmxdV8khQAlOitTELSlAXZNjGl7SMUD/kmg0gzo5QCwuSfFg20FAlZRAlEFHSUBXVyzIY+RRQEBcEvT/U1lAjhINn2btYUA=\",\"dtype\":\"float64\",\"order\":\"little\",\"shape\":[52]}},\"selected\":{\"id\":\"1240\"},\"selection_policy\":{\"id\":\"1239\"}},\"id\":\"1102\",\"type\":\"ColumnDataSource\"},{\"attributes\":{\"line_color\":\"#1f77b4\",\"line_width\":3,\"x\":{\"field\":\"x\"},\"y\":{\"field\":\"y\"}},\"id\":\"1197\",\"type\":\"Line\"},{\"attributes\":{\"data\":{\"x\":{\"__ndarray__\":\"RMpoRx5GwD7b9VZNpdm7Pr6vPtzdHME+upCiKZa2wz56jumFEpjEPkStxJfk28Y+dmZpRLy3yj6a392I9srPPtkRf/vXRdM+6DQLtDuk2D5a8GgEl57bPtz/tt26Udo+vIg6nI462T6yXUZWI2DZPv+Lb0EZV9o+6SsnJS0q3D6QvknToGjePmkdVU0Qdd8+IwXkhVNq3z4AeSsi9WTfPiD6B/Q29N4+goh5+xgY3j4OuVuKki3ePoJ+GWsDoN8+nCi2QIpT4D45n3QBs2vgPnSM8YIEnOA+K2R0YSDf4D4WDozVSSrhPjaKON+AfeE+ith5fsXY4T7M4N7rWjHiPjF1/LxOj+I+hcM9XJPq4j4qVeQIACvjPnaIPbwAXuM+bF1JdpWD4z5iMlUwKqnjPtLxZkeJ4eM+HiXA+okU5D68m367sizkPojJ6SWlJOQ+MGucLDkX5D7YDE8zzQnkPnqTGU4d1OM+8nJDGctw4z6WCRqOQu3iPu5sl0+5NuI+UvsIV5ta4T7Gz1aQLIHgPoieMR9SBN8+goh5+xgY3j4=\",\"dtype\":\"float64\",\"order\":\"little\",\"shape\":[52]},\"y\":{\"__ndarray__\":\"ZGuc9g4cyD5MxgdroxDRPg8Nq7E8KNg+PCi+azQZ4T64eH4SWjToPuEOwIbcIfE+Z0fnlcBA+D6YH2gliioBP9Sc7oPpTAg/Ql+zwzEzET+gljJTNVkYP2ZxYprjOyE/47vwko9lKD9bxrDhpkQxP5nUeP7hcTg/6iw3XFRNQT/T3tKpMH5IP1i/ozP/VVE/evcom4SKWD8yIkZ06F5hP/kHy8MMl2g/VofDFqNncT9hz+FLcKN4P3x0YW1acIE/X2vP28OviD9AhYSHRHmRP+ZaGzRwvJg/0yEEaB6CoT8CT0GG5sioP5UwcU3uirE/dGARDHnVuD8xiMFP55PBP9O3eEIG4sg/eGGlN7Kc0T9Ee1jImO7YP5XsWeOepeE/zbO0Jyb76D/JJeF0ba7xP1g6g2OjB/k/gxc9vHK3AUCvTMbddhQJQMNuAnVuwBFAzIQ6IyAhGUAKvmxdV8khQAlOitTELSlAXZNjGl7SMUD/kmg0gzo5QCwuSfFg20FAlZRAlEFHSUBXVyzIY+RRQEBcEvT/U1lAjhINn2btYUA=\",\"dtype\":\"float64\",\"order\":\"little\",\"shape\":[52]}},\"selected\":{\"id\":\"1242\"},\"selection_policy\":{\"id\":\"1241\"}},\"id\":\"1108\",\"type\":\"ColumnDataSource\"},{\"attributes\":{},\"id\":\"1170\",\"type\":\"LinearScale\"},{\"attributes\":{\"line_color\":\"#EC585F\",\"line_width\":3,\"x\":{\"field\":\"x\"},\"y\":{\"field\":\"y\"}},\"id\":\"1103\",\"type\":\"Line\"},{\"attributes\":{\"source\":{\"id\":\"1196\"}},\"id\":\"1200\",\"type\":\"CDSView\"},{\"attributes\":{\"line_alpha\":0.1,\"line_color\":\"#1f77b4\",\"line_width\":3,\"x\":{\"field\":\"x\"},\"y\":{\"field\":\"y\"}},\"id\":\"1198\",\"type\":\"Line\"},{\"attributes\":{\"data_source\":{\"id\":\"1108\"},\"glyph\":{\"id\":\"1109\"},\"hover_glyph\":null,\"muted_glyph\":{\"id\":\"1111\"},\"nonselection_glyph\":{\"id\":\"1110\"},\"view\":{\"id\":\"1113\"}},\"id\":\"1112\",\"type\":\"GlyphRenderer\"},{\"attributes\":{\"line_alpha\":0.1,\"line_color\":\"#FC8E63\",\"line_width\":3,\"x\":{\"field\":\"x\"},\"y\":{\"field\":\"y\"}},\"id\":\"1116\",\"type\":\"Line\"},{\"attributes\":{\"label\":{\"value\":\"TiO\"},\"renderers\":[{\"id\":\"1124\"}]},\"id\":\"1159\",\"type\":\"LegendItem\"},{\"attributes\":{\"line_alpha\":0.2,\"line_color\":\"#EC585F\",\"line_width\":3,\"x\":{\"field\":\"x\"},\"y\":{\"field\":\"y\"}},\"id\":\"1105\",\"type\":\"Line\"},{\"attributes\":{},\"id\":\"1239\",\"type\":\"UnionRenderers\"},{\"attributes\":{\"label\":{\"value\":\"H2\"},\"renderers\":[{\"id\":\"1040\"}]},\"id\":\"1145\",\"type\":\"LegendItem\"},{\"attributes\":{\"source\":{\"id\":\"1090\"}},\"id\":\"1095\",\"type\":\"CDSView\"},{\"attributes\":{},\"id\":\"1240\",\"type\":\"Selection\"},{\"attributes\":{\"data_source\":{\"id\":\"1102\"},\"glyph\":{\"id\":\"1103\"},\"hover_glyph\":null,\"muted_glyph\":{\"id\":\"1105\"},\"nonselection_glyph\":{\"id\":\"1104\"},\"view\":{\"id\":\"1107\"}},\"id\":\"1106\",\"type\":\"GlyphRenderer\"},{\"attributes\":{\"label\":{\"value\":\"K\"},\"renderers\":[{\"id\":\"1112\"}]},\"id\":\"1157\",\"type\":\"LegendItem\"},{\"attributes\":{\"line_alpha\":0.1,\"line_color\":\"#FEAA74\",\"line_width\":3,\"x\":{\"field\":\"x\"},\"y\":{\"field\":\"y\"}},\"id\":\"1122\",\"type\":\"Line\"},{\"attributes\":{},\"id\":\"1249\",\"type\":\"UnionRenderers\"},{\"attributes\":{},\"id\":\"1250\",\"type\":\"Selection\"},{\"attributes\":{\"data_source\":{\"id\":\"1096\"},\"glyph\":{\"id\":\"1097\"},\"hover_glyph\":null,\"muted_glyph\":{\"id\":\"1099\"},\"nonselection_glyph\":{\"id\":\"1098\"},\"view\":{\"id\":\"1101\"}},\"id\":\"1100\",\"type\":\"GlyphRenderer\"},{\"attributes\":{\"label\":{\"value\":\"H\"},\"renderers\":[{\"id\":\"1100\"}]},\"id\":\"1155\",\"type\":\"LegendItem\"},{\"attributes\":{\"source\":{\"id\":\"1120\"}},\"id\":\"1125\",\"type\":\"CDSView\"},{\"attributes\":{\"data\":{\"x\":{\"__ndarray__\":\"bvNiXb5LAj12coSVHE78PCpbk3kUFwY9OLVonhPbFj0J5HHry18qPUrOKWibWz09iJjflOPHTD1aBTPkAHRYPZ4AoxZZzmI92hPFJtFtbD2ePOwcrNV2PQIsbh+fJIQ9EN5Ru2h+kj3IUxaDwTegPclvu3Wp1qk9ChE8s7Rqsj0k1lz+RE+3PXInwNsHHbo9wpbJp8Spuj3avkQCZN+7PVD7WskePME9yW+7danWyT07ty5cKh3WPbLIQBkTseI9gGf2cEVG7T2HspVFtqP3PQnX5/kA1QY+7jrHdJWGGj4ODIoIlOYwPhq1xSGGxkU+xF5wWuwOWz5mzMXlHQNwPmJuLGVv4oE+6IhW0K8LkT4+INoLKHubPsoI9v90eqM+Ik/PEbJZqT5CJPf/Z1CxPoSmmaxZgLk+2hvfi+29wT76iXc+C1vGPpbxpaYTv8g+7UBjR18Yyz4uOjhc1LzNPigkgDib0Mw+NW2UL0cTyD7Buhpu+pLBPnh6KWXnp7c+xV5nxH6vrj4kpJYvLb+jPq5/saArb5k+piEz4sVsoD4=\",\"dtype\":\"float64\",\"order\":\"little\",\"shape\":[52]},\"y\":{\"__ndarray__\":\"ZGuc9g4cyD5MxgdroxDRPg8Nq7E8KNg+PCi+azQZ4T64eH4SWjToPuEOwIbcIfE+Z0fnlcBA+D6YH2gliioBP9Sc7oPpTAg/Ql+zwzEzET+gljJTNVkYP2ZxYprjOyE/47vwko9lKD9bxrDhpkQxP5nUeP7hcTg/6iw3XFRNQT/T3tKpMH5IP1i/ozP/VVE/evcom4SKWD8yIkZ06F5hP/kHy8MMl2g/VofDFqNncT9hz+FLcKN4P3x0YW1acIE/X2vP28OviD9AhYSHRHmRP+ZaGzRwvJg/0yEEaB6CoT8CT0GG5sioP5UwcU3uirE/dGARDHnVuD8xiMFP55PBP9O3eEIG4sg/eGGlN7Kc0T9Ee1jImO7YP5XsWeOepeE/zbO0Jyb76D/JJeF0ba7xP1g6g2OjB/k/gxc9vHK3AUCvTMbddhQJQMNuAnVuwBFAzIQ6IyAhGUAKvmxdV8khQAlOitTELSlAXZNjGl7SMUD/kmg0gzo5QCwuSfFg20FAlZRAlEFHSUBXVyzIY+RRQEBcEvT/U1lAjhINn2btYUA=\",\"dtype\":\"float64\",\"order\":\"little\",\"shape\":[52]}},\"selected\":{\"id\":\"1244\"},\"selection_policy\":{\"id\":\"1243\"}},\"id\":\"1114\",\"type\":\"ColumnDataSource\"},{\"attributes\":{\"line_alpha\":0.1,\"line_color\":\"#C23A75\",\"line_width\":3,\"x\":{\"field\":\"x\"},\"y\":{\"field\":\"y\"}},\"id\":\"1092\",\"type\":\"Line\"},{\"attributes\":{\"data_source\":{\"id\":\"1138\"},\"glyph\":{\"id\":\"1139\"},\"hover_glyph\":null,\"muted_glyph\":{\"id\":\"1141\"},\"nonselection_glyph\":{\"id\":\"1140\"},\"view\":{\"id\":\"1143\"}},\"id\":\"1142\",\"type\":\"GlyphRenderer\"},{\"attributes\":{\"label\":{\"value\":\"Na\"},\"renderers\":[{\"id\":\"1088\"}]},\"id\":\"1153\",\"type\":\"LegendItem\"},{\"attributes\":{\"line_alpha\":0.1,\"line_color\":\"#000003\",\"line_width\":3,\"x\":{\"field\":\"x\"},\"y\":{\"field\":\"y\"}},\"id\":\"1038\",\"type\":\"Line\"},{\"attributes\":{\"line_color\":\"#000003\",\"line_width\":3,\"x\":{\"field\":\"x\"},\"y\":{\"field\":\"y\"}},\"id\":\"1037\",\"type\":\"Line\"},{\"attributes\":{\"line_alpha\":0.1,\"line_color\":\"#F7715B\",\"line_width\":3,\"x\":{\"field\":\"x\"},\"y\":{\"field\":\"y\"}},\"id\":\"1110\",\"type\":\"Line\"},{\"attributes\":{\"line_color\":\"#FEAA74\",\"line_width\":3,\"x\":{\"field\":\"x\"},\"y\":{\"field\":\"y\"}},\"id\":\"1121\",\"type\":\"Line\"},{\"attributes\":{\"line_alpha\":0.2,\"line_color\":\"#FEAA74\",\"line_width\":3,\"x\":{\"field\":\"x\"},\"y\":{\"field\":\"y\"}},\"id\":\"1123\",\"type\":\"Line\"},{\"attributes\":{},\"id\":\"1241\",\"type\":\"UnionRenderers\"},{\"attributes\":{\"label\":{\"value\":\"CO2\"},\"renderers\":[{\"id\":\"1076\"}]},\"id\":\"1151\",\"type\":\"LegendItem\"},{\"attributes\":{\"line_color\":\"#FC8E63\",\"line_width\":3,\"x\":{\"field\":\"x\"},\"y\":{\"field\":\"y\"}},\"id\":\"1115\",\"type\":\"Line\"},{\"attributes\":{\"bottom_units\":\"screen\",\"fill_alpha\":0.5,\"fill_color\":\"lightgrey\",\"left_units\":\"screen\",\"level\":\"overlay\",\"line_alpha\":1.0,\"line_color\":\"black\",\"line_dash\":[4,4],\"line_width\":2,\"right_units\":\"screen\",\"syncable\":false,\"top_units\":\"screen\"},\"id\":\"1028\",\"type\":\"BoxAnnotation\"},{\"attributes\":{\"data_source\":{\"id\":\"1120\"},\"glyph\":{\"id\":\"1121\"},\"hover_glyph\":null,\"muted_glyph\":{\"id\":\"1123\"},\"nonselection_glyph\":{\"id\":\"1122\"},\"view\":{\"id\":\"1125\"}},\"id\":\"1124\",\"type\":\"GlyphRenderer\"},{\"attributes\":{},\"id\":\"1166\",\"type\":\"DataRange1d\"},{\"attributes\":{},\"id\":\"1242\",\"type\":\"Selection\"},{\"attributes\":{\"label\":{\"value\":\"He\"},\"renderers\":[{\"id\":\"1046\"}]},\"id\":\"1146\",\"type\":\"LegendItem\"},{\"attributes\":{\"data\":{\"x\":{\"__ndarray__\":\"vvlRtNVJhTnTtVqFOLGCOWgNCZjUaJ05IoYPQwJ2wzn6AGT3i3/tOaDC6/5LSBQ6buDYMD2rNTpK/4sgXOpROu9fJ8+xTWk6CDnOA4fAgTqHXlsq1oicOuI76DyoALs6/7QDio8K2zocYdeAdUb4OtWIoSDYNBI7Prl5cUhXJjv2L79fkx82O2USdOA3rkE7UbISQLMtSDuk/+5Isb1ROw3BLMokJmI77CHhiExLejsXEKw1VOCXO8jBP9GDYLQ76GVPMzFCzjsOSUe1o/DoO/rZuyk7jQ08FItwxLdNODzEHfd8cfFmPGsw3sgotJU8ydVgwPAFwzyG/wPDvIDuPKGYpJL+eRU9GXbp7jaTNT0B8CQZTB1QPUrP4HVg8mI9TuArDHFDcz0YSA20DUGGPZTXnB1G1Jw9cAsb6R9+sD3vyBluCVa/PTwNK1BhZMc9uaEy5/fd0T2pX/tVqJTaPfT3E1CSFOA9CA87t6JK3j3/ClH/WJ/WPU/5Wc0MHM09gmn3bFdmwT0aYMU/b3O0PdgnjXQLvac9SjIyKPGUvD0=\",\"dtype\":\"float64\",\"order\":\"little\",\"shape\":[52]},\"y\":{\"__ndarray__\":\"ZGuc9g4cyD5MxgdroxDRPg8Nq7E8KNg+PCi+azQZ4T64eH4SWjToPuEOwIbcIfE+Z0fnlcBA+D6YH2gliioBP9Sc7oPpTAg/Ql+zwzEzET+gljJTNVkYP2ZxYprjOyE/47vwko9lKD9bxrDhpkQxP5nUeP7hcTg/6iw3XFRNQT/T3tKpMH5IP1i/ozP/VVE/evcom4SKWD8yIkZ06F5hP/kHy8MMl2g/VofDFqNncT9hz+FLcKN4P3x0YW1acIE/X2vP28OviD9AhYSHRHmRP+ZaGzRwvJg/0yEEaB6CoT8CT0GG5sioP5UwcU3uirE/dGARDHnVuD8xiMFP55PBP9O3eEIG4sg/eGGlN7Kc0T9Ee1jImO7YP5XsWeOepeE/zbO0Jyb76D/JJeF0ba7xP1g6g2OjB/k/gxc9vHK3AUCvTMbddhQJQMNuAnVuwBFAzIQ6IyAhGUAKvmxdV8khQAlOitTELSlAXZNjGl7SMUD/kmg0gzo5QCwuSfFg20FAlZRAlEFHSUBXVyzIY+RRQEBcEvT/U1lAjhINn2btYUA=\",\"dtype\":\"float64\",\"order\":\"little\",\"shape\":[52]}},\"selected\":{\"id\":\"1246\"},\"selection_policy\":{\"id\":\"1245\"}},\"id\":\"1120\",\"type\":\"ColumnDataSource\"},{\"attributes\":{\"line_alpha\":0.2,\"line_color\":\"#FC8E63\",\"line_width\":3,\"x\":{\"field\":\"x\"},\"y\":{\"field\":\"y\"}},\"id\":\"1117\",\"type\":\"Line\"},{\"attributes\":{},\"id\":\"1251\",\"type\":\"UnionRenderers\"},{\"attributes\":{\"label\":{\"value\":\"N2\"},\"renderers\":[{\"id\":\"1064\"}]},\"id\":\"1149\",\"type\":\"LegendItem\"},{\"attributes\":{\"data\":{\"x\":{\"__ndarray__\":\"K/OYTNyy4TpG/9cXOMjcOlvtncdG9u06AdIV9tXrBjvd5fpFB+MjO0DncqxcK0A7yBDo6H4EVjtWn3kXydtoOzhORpIZtXg7mIZfIV83iDuyf3p+7f2ZO05b+AOJf687An53J94IxDuDWaIs2rrXO1EaJ3UxtOg7sCnRi/Mx9jsoGwYL6fIAPGYPv0fzDwY86r2XVcGHCTxivFeQBLIOPAQPbxaEWhc8Sc1BbIMFJzydkdU7S+w6POj20yzvqk48yz+I/leFXzwRxKx8eB1xPOF4GIN0Aog8wqJR3gqGpTze21aJoqLFPIDNBo/26OU8E1RTwhXxBD23S2jUPcYiPfWbHdlV9j492psyGitfVD0QywgA54NlPfj4jFxtMXM9criJBsiyfj3b0A4rLYWKPfYcHtdeBpk9OFVWosK8pT0rME/KMoywPZw9a69kKrU9nLxqsVsauz1Q+1rJHjzBPfajDDgAo8I9zh21WSmFwD3EtG+Wvmi4PQwv4qGuKbA9774+pOpcpD2YBw01CTmZPTlx+5SqW489fK8hw6aemz0=\",\"dtype\":\"float64\",\"order\":\"little\",\"shape\":[52]},\"y\":{\"__ndarray__\":\"ZGuc9g4cyD5MxgdroxDRPg8Nq7E8KNg+PCi+azQZ4T64eH4SWjToPuEOwIbcIfE+Z0fnlcBA+D6YH2gliioBP9Sc7oPpTAg/Ql+zwzEzET+gljJTNVkYP2ZxYprjOyE/47vwko9lKD9bxrDhpkQxP5nUeP7hcTg/6iw3XFRNQT/T3tKpMH5IP1i/ozP/VVE/evcom4SKWD8yIkZ06F5hP/kHy8MMl2g/VofDFqNncT9hz+FLcKN4P3x0YW1acIE/X2vP28OviD9AhYSHRHmRP+ZaGzRwvJg/0yEEaB6CoT8CT0GG5sioP5UwcU3uirE/dGARDHnVuD8xiMFP55PBP9O3eEIG4sg/eGGlN7Kc0T9Ee1jImO7YP5XsWeOepeE/zbO0Jyb76D/JJeF0ba7xP1g6g2OjB/k/gxc9vHK3AUCvTMbddhQJQMNuAnVuwBFAzIQ6IyAhGUAKvmxdV8khQAlOitTELSlAXZNjGl7SMUD/kmg0gzo5QCwuSfFg20FAlZRAlEFHSUBXVyzIY+RRQEBcEvT/U1lAjhINn2btYUA=\",\"dtype\":\"float64\",\"order\":\"little\",\"shape\":[52]}},\"selected\":{\"id\":\"1248\"},\"selection_policy\":{\"id\":\"1247\"}},\"id\":\"1126\",\"type\":\"ColumnDataSource\"},{\"attributes\":{\"line_alpha\":0.2,\"line_color\":\"#FEC689\",\"line_width\":3,\"x\":{\"field\":\"x\"},\"y\":{\"field\":\"y\"}},\"id\":\"1129\",\"type\":\"Line\"},{\"attributes\":{},\"id\":\"1252\",\"type\":\"Selection\"},{\"attributes\":{\"end\":2.8740886833916594e-06,\"start\":143.41877701333254},\"id\":\"1168\",\"type\":\"Range1d\"},{\"attributes\":{\"data_source\":{\"id\":\"1036\"},\"glyph\":{\"id\":\"1037\"},\"hover_glyph\":null,\"muted_glyph\":{\"id\":\"1039\"},\"nonselection_glyph\":{\"id\":\"1038\"},\"view\":{\"id\":\"1041\"}},\"id\":\"1040\",\"type\":\"GlyphRenderer\"},{\"attributes\":{\"label\":{\"value\":\"CO\"},\"renderers\":[{\"id\":\"1052\"}]},\"id\":\"1147\",\"type\":\"LegendItem\"},{\"attributes\":{\"source\":{\"id\":\"1138\"}},\"id\":\"1143\",\"type\":\"CDSView\"},{\"attributes\":{},\"id\":\"1172\",\"type\":\"LogScale\"},{\"attributes\":{\"line_alpha\":0.2,\"line_color\":\"#FBFCBF\",\"line_width\":3,\"x\":{\"field\":\"x\"},\"y\":{\"field\":\"y\"}},\"id\":\"1141\",\"type\":\"Line\"},{\"attributes\":{\"source\":{\"id\":\"1114\"}},\"id\":\"1119\",\"type\":\"CDSView\"},{\"attributes\":{\"line_alpha\":0.2,\"line_color\":\"#1A1041\",\"line_width\":3,\"x\":{\"field\":\"x\"},\"y\":{\"field\":\"y\"}},\"id\":\"1051\",\"type\":\"Line\"},{\"attributes\":{\"data_source\":{\"id\":\"1054\"},\"glyph\":{\"id\":\"1055\"},\"hover_glyph\":null,\"muted_glyph\":{\"id\":\"1057\"},\"nonselection_glyph\":{\"id\":\"1056\"},\"view\":{\"id\":\"1059\"}},\"id\":\"1058\",\"type\":\"GlyphRenderer\"},{\"attributes\":{\"end\":100.0,\"start\":1e-20},\"id\":\"1006\",\"type\":\"Range1d\"},{\"attributes\":{\"axis\":{\"id\":\"1018\"},\"dimension\":1,\"ticker\":null},\"id\":\"1021\",\"type\":\"Grid\"},{\"attributes\":{\"end\":2.8740886833916594e-06,\"start\":143.41877701333254},\"id\":\"1008\",\"type\":\"Range1d\"},{\"attributes\":{\"data_source\":{\"id\":\"1078\"},\"glyph\":{\"id\":\"1079\"},\"hover_glyph\":null,\"muted_glyph\":{\"id\":\"1081\"},\"nonselection_glyph\":{\"id\":\"1080\"},\"view\":{\"id\":\"1083\"}},\"id\":\"1082\",\"type\":\"GlyphRenderer\"},{\"attributes\":{\"line_alpha\":0.2,\"line_color\":\"#000003\",\"line_width\":3,\"x\":{\"field\":\"x\"},\"y\":{\"field\":\"y\"}},\"id\":\"1039\",\"type\":\"Line\"},{\"attributes\":{},\"id\":\"1225\",\"type\":\"UnionRenderers\"},{\"attributes\":{\"overlay\":{\"id\":\"1028\"}},\"id\":\"1024\",\"type\":\"BoxZoomTool\"},{\"attributes\":{},\"id\":\"1226\",\"type\":\"Selection\"},{\"attributes\":{\"data\":{\"x\":{\"__ndarray__\":\"dF5jl6jeaj90XmOXqN5qP3ReY5eo3mo/dF5jl6jeaj90XmOXqN5qP3ReY5eo3mo/dF5jl6jeaj90XmOXqN5qP3ReY5eo3mo/dF5jl6jeaj90XmOXqN5qP3ReY5eo3mo/dF5jl6jeaj90XmOXqN5qP3ReY5eo3mo/dF5jl6jeaj90XmOXqN5qP3ReY5eo3mo/dF5jl6jeaj90XmOXqN5qP3ReY5eo3mo/dF5jl6jeaj90XmOXqN5qP3ReY5eo3mo/dF5jl6jeaj90XmOXqN5qP3ReY5eo3mo/dF5jl6jeaj90XmOXqN5qP3ReY5eo3mo/dF5jl6jeaj90XmOXqN5qP3ReY5eo3mo/dF5jl6jeaj90XmOXqN5qP3ReY5eo3mo/dF5jl6jeaj90XmOXqN5qP3ReY5eo3mo/dF5jl6jeaj90XmOXqN5qP8Dsnjws1Go/C3va4a/Jaj8Le9rhr8lqPwt72uGvyWo/VgkWhzO/aj+il1Est7RqP+4ljdE6qmo/hEIEHEKVaj8cX3tmSYBqP/4JLlbUYGo/LUMc6+I2aj8=\",\"dtype\":\"float64\",\"order\":\"little\",\"shape\":[52]},\"y\":{\"__ndarray__\":\"ZGuc9g4cyD5MxgdroxDRPg8Nq7E8KNg+PCi+azQZ4T64eH4SWjToPuEOwIbcIfE+Z0fnlcBA+D6YH2gliioBP9Sc7oPpTAg/Ql+zwzEzET+gljJTNVkYP2ZxYprjOyE/47vwko9lKD9bxrDhpkQxP5nUeP7hcTg/6iw3XFRNQT/T3tKpMH5IP1i/ozP/VVE/evcom4SKWD8yIkZ06F5hP/kHy8MMl2g/VofDFqNncT9hz+FLcKN4P3x0YW1acIE/X2vP28OviD9AhYSHRHmRP+ZaGzRwvJg/0yEEaB6CoT8CT0GG5sioP5UwcU3uirE/dGARDHnVuD8xiMFP55PBP9O3eEIG4sg/eGGlN7Kc0T9Ee1jImO7YP5XsWeOepeE/zbO0Jyb76D/JJeF0ba7xP1g6g2OjB/k/gxc9vHK3AUCvTMbddhQJQMNuAnVuwBFAzIQ6IyAhGUAKvmxdV8khQAlOitTELSlAXZNjGl7SMUD/kmg0gzo5QCwuSfFg20FAlZRAlEFHSUBXVyzIY+RRQEBcEvT/U1lAjhINn2btYUA=\",\"dtype\":\"float64\",\"order\":\"little\",\"shape\":[52]}},\"selected\":{\"id\":\"1226\"},\"selection_policy\":{\"id\":\"1225\"}},\"id\":\"1060\",\"type\":\"ColumnDataSource\"},{\"attributes\":{\"axis_label\":\"Mixing Ratio(v/v)\",\"formatter\":{\"id\":\"1208\"},\"major_label_policy\":{\"id\":\"1209\"},\"ticker\":{\"id\":\"1015\"}},\"id\":\"1014\",\"type\":\"LogAxis\"},{\"attributes\":{\"data\":{\"x\":{\"__ndarray__\":\"hJ7Nqs/Vlj+Ens2qz9WWP8e6uI0G8JY/CtejcD0Klz8sZRniWBeXP2+BBMWPMZc/sp3vp8ZLlz/2udqK/WWXPxdIUPwYc5c/ONbFbTSAlz9aZDvfT42XP3zysFBrmpc/nYAmwoanlz++DpwzorSXP+CcEaW9wZc/AiuHFtnOlz8kufyH9NuXPyS5/If025c/JLn8h/Tblz8kufyH9NuXP0ZHcvkP6Zc/Z9Xnaiv2lz9n1edqK/aXP2fV52or9pc/iGNd3EYDmD+q8dJNYhCYP6rx0k1iEJg/qvHSTWIQmD/Mf0i/fR2YP+0NvjCZKpg/7Q2+MJkqmD/tDb4wmSqYP+0NvjCZKpg/DpwzorQ3mD8wKqkT0ESYPzAqqRPQRJg/MCqpE9BEmD8wKqkT0ESYPzAqqRPQRJg/MCqpE9BEmD8wKqkT0ESYPzAqqRPQRJg/MCqpE9BEmD8wKqkT0ESYPw6cM6K0N5g/7Q2+MJkqmD/tDb4wmSqYP2bV52or9pc/fPKwUGualz+QD3o2qz6XP1afq63YX5Y/gNk9eViolT8=\",\"dtype\":\"float64\",\"order\":\"little\",\"shape\":[52]},\"y\":{\"__ndarray__\":\"ZGuc9g4cyD5MxgdroxDRPg8Nq7E8KNg+PCi+azQZ4T64eH4SWjToPuEOwIbcIfE+Z0fnlcBA+D6YH2gliioBP9Sc7oPpTAg/Ql+zwzEzET+gljJTNVkYP2ZxYprjOyE/47vwko9lKD9bxrDhpkQxP5nUeP7hcTg/6iw3XFRNQT/T3tKpMH5IP1i/ozP/VVE/evcom4SKWD8yIkZ06F5hP/kHy8MMl2g/VofDFqNncT9hz+FLcKN4P3x0YW1acIE/X2vP28OviD9AhYSHRHmRP+ZaGzRwvJg/0yEEaB6CoT8CT0GG5sioP5UwcU3uirE/dGARDHnVuD8xiMFP55PBP9O3eEIG4sg/eGGlN7Kc0T9Ee1jImO7YP5XsWeOepeE/zbO0Jyb76D/JJeF0ba7xP1g6g2OjB/k/gxc9vHK3AUCvTMbddhQJQMNuAnVuwBFAzIQ6IyAhGUAKvmxdV8khQAlOitTELSlAXZNjGl7SMUD/kmg0gzo5QCwuSfFg20FAlZRAlEFHSUBXVyzIY+RRQEBcEvT/U1lAjhINn2btYUA=\",\"dtype\":\"float64\",\"order\":\"little\",\"shape\":[52]}},\"selected\":{\"id\":\"1222\"},\"selection_policy\":{\"id\":\"1221\"}},\"id\":\"1048\",\"type\":\"ColumnDataSource\"},{\"attributes\":{\"source\":{\"id\":\"1132\"}},\"id\":\"1137\",\"type\":\"CDSView\"},{\"attributes\":{\"line_alpha\":0.1,\"line_color\":\"#FBFCBF\",\"line_width\":3,\"x\":{\"field\":\"x\"},\"y\":{\"field\":\"y\"}},\"id\":\"1140\",\"type\":\"Line\"},{\"attributes\":{\"line_alpha\":0.1,\"line_color\":\"#09071F\",\"line_width\":3,\"x\":{\"field\":\"x\"},\"y\":{\"field\":\"y\"}},\"id\":\"1044\",\"type\":\"Line\"},{\"attributes\":{\"line_color\":\"#FDE1A3\",\"line_width\":3,\"x\":{\"field\":\"x\"},\"y\":{\"field\":\"y\"}},\"id\":\"1133\",\"type\":\"Line\"},{\"attributes\":{},\"id\":\"1217\",\"type\":\"UnionRenderers\"},{\"attributes\":{\"source\":{\"id\":\"1072\"}},\"id\":\"1077\",\"type\":\"CDSView\"},{\"attributes\":{\"line_alpha\":0.1,\"line_color\":\"#FEC689\",\"line_width\":3,\"x\":{\"field\":\"x\"},\"y\":{\"field\":\"y\"}},\"id\":\"1128\",\"type\":\"Line\"},{\"attributes\":{},\"id\":\"1218\",\"type\":\"Selection\"},{\"attributes\":{},\"id\":\"1026\",\"type\":\"ResetTool\"},{\"attributes\":{\"source\":{\"id\":\"1042\"}},\"id\":\"1047\",\"type\":\"CDSView\"},{\"attributes\":{\"below\":[{\"id\":\"1014\"}],\"center\":[{\"id\":\"1017\"},{\"id\":\"1021\"}],\"height\":500,\"left\":[{\"id\":\"1018\"},{\"id\":\"1144\"}],\"renderers\":[{\"id\":\"1040\"},{\"id\":\"1046\"},{\"id\":\"1052\"},{\"id\":\"1058\"},{\"id\":\"1064\"},{\"id\":\"1070\"},{\"id\":\"1076\"},{\"id\":\"1082\"},{\"id\":\"1088\"},{\"id\":\"1094\"},{\"id\":\"1100\"},{\"id\":\"1106\"},{\"id\":\"1112\"},{\"id\":\"1118\"},{\"id\":\"1124\"},{\"id\":\"1130\"},{\"id\":\"1136\"},{\"id\":\"1142\"}],\"title\":{\"id\":\"1004\"},\"toolbar\":{\"id\":\"1029\"},\"width\":400,\"x_range\":{\"id\":\"1006\"},\"x_scale\":{\"id\":\"1010\"},\"y_range\":{\"id\":\"1008\"},\"y_scale\":{\"id\":\"1012\"}},\"id\":\"1003\",\"subtype\":\"Figure\",\"type\":\"Plot\"},{\"attributes\":{\"line_color\":\"#FEC689\",\"line_width\":3,\"x\":{\"field\":\"x\"},\"y\":{\"field\":\"y\"}},\"id\":\"1127\",\"type\":\"Line\"},{\"attributes\":{},\"id\":\"1254\",\"type\":\"UnionRenderers\"},{\"attributes\":{\"data\":{\"x\":{\"__ndarray__\":\"unt2qY7qEzAClM+8MSMcMLYXI0BxQFIw11MZSzNyoDCXc/EBBQnxMGqTeIAQXDsxhxlUo919ejFfK7UxFziwMeaS+Kr/PN4xSFEJP4I7DDIENIfkxyhEMuNYQZ9tHoQy/eFl+e2PxDKwmIkheEQAMx8QgaOzNjIzdflPYizkWzPeS3a6jRd9MzCsAfCTsZUzPE9XDXOhqTP2awGMinDCM0n7AXdys+kzQkKhVqVTIDSAkJcA/O9cNP2XdMWYq5Q0BMcixTwiyDQdBFPLiXICNdJXsuxGIEw13pIgD5yRojUMtrtDgrv+NTx33ALQxFg2U8alI2N6sTbRBDsUOfYEN2BJPfWCtVQ3+0WdYRnxlDfqmD0FcsPJNzhJPTdvj/U3v/760ZCvHDimRfkrhD9LOOJIGqWaJX445HNa/R8gqDhqtsQlEpTMOP6+gU/09+Q4QJ+CdvkAAzmKFA9cULEcOTi6y7mNOy05HMHGDFiJMjnMMrtgExovOUNQjsIcGCQ5+dfT6wMrFznn24O00vAJOd4fXko2Pv04RBqL7ewGPjk=\",\"dtype\":\"float64\",\"order\":\"little\",\"shape\":[52]},\"y\":{\"__ndarray__\":\"ZGuc9g4cyD5MxgdroxDRPg8Nq7E8KNg+PCi+azQZ4T64eH4SWjToPuEOwIbcIfE+Z0fnlcBA+D6YH2gliioBP9Sc7oPpTAg/Ql+zwzEzET+gljJTNVkYP2ZxYprjOyE/47vwko9lKD9bxrDhpkQxP5nUeP7hcTg/6iw3XFRNQT/T3tKpMH5IP1i/ozP/VVE/evcom4SKWD8yIkZ06F5hP/kHy8MMl2g/VofDFqNncT9hz+FLcKN4P3x0YW1acIE/X2vP28OviD9AhYSHRHmRP+ZaGzRwvJg/0yEEaB6CoT8CT0GG5sioP5UwcU3uirE/dGARDHnVuD8xiMFP55PBP9O3eEIG4sg/eGGlN7Kc0T9Ee1jImO7YP5XsWeOepeE/zbO0Jyb76D/JJeF0ba7xP1g6g2OjB/k/gxc9vHK3AUCvTMbddhQJQMNuAnVuwBFAzIQ6IyAhGUAKvmxdV8khQAlOitTELSlAXZNjGl7SMUD/kmg0gzo5QCwuSfFg20FAlZRAlEFHSUBXVyzIY+RRQEBcEvT/U1lAjhINn2btYUA=\",\"dtype\":\"float64\",\"order\":\"little\",\"shape\":[52]}},\"selected\":{\"id\":\"1252\"},\"selection_policy\":{\"id\":\"1251\"}},\"id\":\"1138\",\"type\":\"ColumnDataSource\"},{\"attributes\":{},\"id\":\"1227\",\"type\":\"UnionRenderers\"},{\"attributes\":{\"line_color\":\"#792281\",\"line_width\":3,\"x\":{\"field\":\"x\"},\"y\":{\"field\":\"y\"}},\"id\":\"1073\",\"type\":\"Line\"},{\"attributes\":{},\"id\":\"1255\",\"type\":\"Selection\"},{\"attributes\":{\"data_source\":{\"id\":\"1060\"},\"glyph\":{\"id\":\"1061\"},\"hover_glyph\":null,\"muted_glyph\":{\"id\":\"1063\"},\"nonselection_glyph\":{\"id\":\"1062\"},\"view\":{\"id\":\"1065\"}},\"id\":\"1064\",\"type\":\"GlyphRenderer\"},{\"attributes\":{},\"id\":\"1228\",\"type\":\"Selection\"},{\"attributes\":{\"line_color\":\"#09071F\",\"line_width\":3,\"x\":{\"field\":\"x\"},\"y\":{\"field\":\"y\"}},\"id\":\"1043\",\"type\":\"Line\"},{\"attributes\":{\"line_color\":\"#301065\",\"line_width\":3,\"x\":{\"field\":\"x\"},\"y\":{\"field\":\"y\"}},\"id\":\"1055\",\"type\":\"Line\"},{\"attributes\":{\"text\":\"Pressure-Temperature Profile\"},\"id\":\"1164\",\"type\":\"Title\"},{\"attributes\":{\"line_alpha\":0.2,\"line_color\":\"#301065\",\"line_width\":3,\"x\":{\"field\":\"x\"},\"y\":{\"field\":\"y\"}},\"id\":\"1057\",\"type\":\"Line\"},{\"attributes\":{\"active_multi\":null,\"tools\":[{\"id\":\"1022\"},{\"id\":\"1023\"},{\"id\":\"1024\"},{\"id\":\"1025\"},{\"id\":\"1026\"},{\"id\":\"1027\"}]},\"id\":\"1029\",\"type\":\"Toolbar\"},{\"attributes\":{},\"id\":\"1010\",\"type\":\"LogScale\"},{\"attributes\":{\"line_alpha\":0.2,\"line_color\":\"#61187F\",\"line_width\":3,\"x\":{\"field\":\"x\"},\"y\":{\"field\":\"y\"}},\"id\":\"1069\",\"type\":\"Line\"},{\"attributes\":{\"text\":\"Mixing Ratios\"},\"id\":\"1004\",\"type\":\"Title\"},{\"attributes\":{\"line_alpha\":0.1,\"line_color\":\"#301065\",\"line_width\":3,\"x\":{\"field\":\"x\"},\"y\":{\"field\":\"y\"}},\"id\":\"1056\",\"type\":\"Line\"},{\"attributes\":{},\"id\":\"1025\",\"type\":\"SaveTool\"},{\"attributes\":{},\"id\":\"1219\",\"type\":\"UnionRenderers\"},{\"attributes\":{\"data\":{\"x\":{\"__ndarray__\":\"r1eJ//UNwDqfIGVoMF3AOptB3sREVtI65w+cwTdf6DryoALS7CsBO1GyEkCzLRg7xktykGBGLzuCY6dl59RBO//f76/V31I7o+XmtKOBZDv7KSoBsGt1OyyHEQzYqoY7+3/T86k3mTsMSnWbCYirO3yL1Y6p3Ls72gKU2ungyTuGwIh78qnVO/pfyHCUhd87PhEQC0bH5DvP7hlXHF3sO81vAeyejPY7gGRJjfEyBTxJzUFsgwUXPJNtYPfcHyk8MJLNBXL8ODyyiiCTSJhJPMo/iP5XhV88LfmeYTMAdzx38bTTRCySPMByWAc5Q608AOdbE0egxjzkAZudQbzgPL42phBAgvc8Bs1+McJWDD1aE6CvKikdPWGB7anapyo94Bft3wSTNj0uKGNCKVZEPdDDv97+hlM9PYu0HB6uYT24SrHGeC9tPbZ3sDLNBXU9criJBsiyfj2C90lmyzWGPUNok1GJR4w9YEtaixPrjj3S2XZuTpmNPapoYOqM54k9EoHlDvK5hT1Vvws97vyBPWYqOryQpH09515edWSTiz0=\",\"dtype\":\"float64\",\"order\":\"little\",\"shape\":[52]},\"y\":{\"__ndarray__\":\"ZGuc9g4cyD5MxgdroxDRPg8Nq7E8KNg+PCi+azQZ4T64eH4SWjToPuEOwIbcIfE+Z0fnlcBA+D6YH2gliioBP9Sc7oPpTAg/Ql+zwzEzET+gljJTNVkYP2ZxYprjOyE/47vwko9lKD9bxrDhpkQxP5nUeP7hcTg/6iw3XFRNQT/T3tKpMH5IP1i/ozP/VVE/evcom4SKWD8yIkZ06F5hP/kHy8MMl2g/VofDFqNncT9hz+FLcKN4P3x0YW1acIE/X2vP28OviD9AhYSHRHmRP+ZaGzRwvJg/0yEEaB6CoT8CT0GG5sioP5UwcU3uirE/dGARDHnVuD8xiMFP55PBP9O3eEIG4sg/eGGlN7Kc0T9Ee1jImO7YP5XsWeOepeE/zbO0Jyb76D/JJeF0ba7xP1g6g2OjB/k/gxc9vHK3AUCvTMbddhQJQMNuAnVuwBFAzIQ6IyAhGUAKvmxdV8khQAlOitTELSlAXZNjGl7SMUD/kmg0gzo5QCwuSfFg20FAlZRAlEFHSUBXVyzIY+RRQEBcEvT/U1lAjhINn2btYUA=\",\"dtype\":\"float64\",\"order\":\"little\",\"shape\":[52]}},\"selected\":{\"id\":\"1250\"},\"selection_policy\":{\"id\":\"1249\"}},\"id\":\"1132\",\"type\":\"ColumnDataSource\"},{\"attributes\":{\"line_color\":\"#4A1079\",\"line_width\":3,\"x\":{\"field\":\"x\"},\"y\":{\"field\":\"y\"}},\"id\":\"1061\",\"type\":\"Line\"},{\"attributes\":{},\"id\":\"1220\",\"type\":\"Selection\"},{\"attributes\":{\"source\":{\"id\":\"1048\"}},\"id\":\"1053\",\"type\":\"CDSView\"},{\"attributes\":{\"line_alpha\":0.2,\"line_color\":\"#F7715B\",\"line_width\":3,\"x\":{\"field\":\"x\"},\"y\":{\"field\":\"y\"}},\"id\":\"1111\",\"type\":\"Line\"},{\"attributes\":{\"source\":{\"id\":\"1126\"}},\"id\":\"1131\",\"type\":\"CDSView\"},{\"attributes\":{\"line_alpha\":0.2,\"line_color\":\"#09071F\",\"line_width\":3,\"x\":{\"field\":\"x\"},\"y\":{\"field\":\"y\"}},\"id\":\"1045\",\"type\":\"Line\"},{\"attributes\":{\"source\":{\"id\":\"1054\"}},\"id\":\"1059\",\"type\":\"CDSView\"},{\"attributes\":{},\"id\":\"1022\",\"type\":\"PanTool\"},{\"attributes\":{},\"id\":\"1012\",\"type\":\"LogScale\"},{\"attributes\":{\"line_alpha\":0.2,\"line_color\":\"#4A1079\",\"line_width\":3,\"x\":{\"field\":\"x\"},\"y\":{\"field\":\"y\"}},\"id\":\"1063\",\"type\":\"Line\"},{\"attributes\":{},\"id\":\"1023\",\"type\":\"WheelZoomTool\"},{\"attributes\":{},\"id\":\"1229\",\"type\":\"UnionRenderers\"},{\"attributes\":{\"num_minor_ticks\":10},\"id\":\"1015\",\"type\":\"LogTicker\"},{\"attributes\":{},\"id\":\"1230\",\"type\":\"Selection\"},{\"attributes\":{\"source\":{\"id\":\"1108\"}},\"id\":\"1113\",\"type\":\"CDSView\"},{\"attributes\":{\"source\":{\"id\":\"1066\"}},\"id\":\"1071\",\"type\":\"CDSView\"},{\"attributes\":{\"line_alpha\":0.1,\"line_color\":\"#1A1041\",\"line_width\":3,\"x\":{\"field\":\"x\"},\"y\":{\"field\":\"y\"}},\"id\":\"1050\",\"type\":\"Line\"},{\"attributes\":{\"line_color\":\"#1A1041\",\"line_width\":3,\"x\":{\"field\":\"x\"},\"y\":{\"field\":\"y\"}},\"id\":\"1049\",\"type\":\"Line\"},{\"attributes\":{\"data_source\":{\"id\":\"1042\"},\"glyph\":{\"id\":\"1043\"},\"hover_glyph\":null,\"muted_glyph\":{\"id\":\"1045\"},\"nonselection_glyph\":{\"id\":\"1044\"},\"view\":{\"id\":\"1047\"}},\"id\":\"1046\",\"type\":\"GlyphRenderer\"},{\"attributes\":{\"data\":{\"x\":{\"__ndarray__\":\"a0F5yhweBD4mWFkOblMRProvheBrrRY+Fk933BaZGT77a61a8eIaPnJuadjBhBw+K2mkKSsbID4QzYOkv8wjPkS7G1wP2yk+1/5MCI8SMT4atcUhhsY1PlJQVRv/aTo++n+vtPMzPz44CN8VnNJCPsBgzu6H6Uc+6UB+Cag2UD4MZzVfUJ9XPpsHcPYnamI+UlknfjIlbj4Mi6FC1Al4PsaYryPyg4E+WDD0/98Vhz65BbCg51GMPkIk9/9nUJE+xelZTS0Ulj5w4mJHDtGbPmhKnCk1+p8+Cnn9fG2ToD6XfJgvwiOgPv7cGWtU554+rtBbymb/nT5sln+4oeWdPlGPSVP4xJ4+38wsZcApoT5sIXJBUEqlPvKDYke9iaw+C3AZ7l4ZtD6qM84Rv4O7PgveZ8fTE8I+rEeOMupzyD6eLmIKnI3RPku6mCwPTts+NoFUUHID5T7Q+krWl1vwPgy9D1GWa/s+rEJeat83CT8O0CKAQAwZPy5QUmABTCk/ARdky/J1OT88wf7r3LRJPyi4WFGDaVg/xY8xdy0hXz8=\",\"dtype\":\"float64\",\"order\":\"little\",\"shape\":[52]},\"y\":{\"__ndarray__\":\"ZGuc9g4cyD5MxgdroxDRPg8Nq7E8KNg+PCi+azQZ4T64eH4SWjToPuEOwIbcIfE+Z0fnlcBA+D6YH2gliioBP9Sc7oPpTAg/Ql+zwzEzET+gljJTNVkYP2ZxYprjOyE/47vwko9lKD9bxrDhpkQxP5nUeP7hcTg/6iw3XFRNQT/T3tKpMH5IP1i/ozP/VVE/evcom4SKWD8yIkZ06F5hP/kHy8MMl2g/VofDFqNncT9hz+FLcKN4P3x0YW1acIE/X2vP28OviD9AhYSHRHmRP+ZaGzRwvJg/0yEEaB6CoT8CT0GG5sioP5UwcU3uirE/dGARDHnVuD8xiMFP55PBP9O3eEIG4sg/eGGlN7Kc0T9Ee1jImO7YP5XsWeOepeE/zbO0Jyb76D/JJeF0ba7xP1g6g2OjB/k/gxc9vHK3AUCvTMbddhQJQMNuAnVuwBFAzIQ6IyAhGUAKvmxdV8khQAlOitTELSlAXZNjGl7SMUD/kmg0gzo5QCwuSfFg20FAlZRAlEFHSUBXVyzIY+RRQEBcEvT/U1lAjhINn2btYUA=\",\"dtype\":\"float64\",\"order\":\"little\",\"shape\":[52]}},\"selected\":{\"id\":\"1228\"},\"selection_policy\":{\"id\":\"1227\"}},\"id\":\"1066\",\"type\":\"ColumnDataSource\"},{\"attributes\":{},\"id\":\"1221\",\"type\":\"UnionRenderers\"},{\"attributes\":{},\"id\":\"1027\",\"type\":\"HelpTool\"},{\"attributes\":{\"data\":{\"x\":{\"__ndarray__\":\"kZvhBnx+WD9W8UbmkT9YP8e6uI0G8FY/LBN+qZ83VT8miLoPQGpTP4vgfyvZsVE/WoKMgApHUD8UkWEVb2ROPxAGnnsPl0w/YhQEj2/vSj849YHknUNJP6bydoTTgkc/jh1U4jrGRT9AahMn9ztEPyxhbYyd8EI/2NR5VPzfQT9ExTh/EwpBP/IEwk6xakA/8Lvplh3iPz8GE38UdeY+P4CBIECGjj0/YAfOGVHaOz9uxmmIKvw5P2CWdmouNzg/CD4GK061Nj+emzbjNEQ1P2IyVTAqqTM/Sl0yjpHsMT8q499nXDgwP8qpnWFqSy0/0NA/wcWKKj9oO6buyi4oP7d9j/rrFSY/lgM91LZhJD/1gk9z8iIjPwra5PBJJyI/+py7XS9NIT/XFTPC24MgP46xE16CUx8/SKMCJ9vAHT+U2LW93ZIcP5bl6zL8pxs/dF5jl6jeGj8mKDT/ng4aP6AT503qcBk/gJO3bSkxGT/qO2Rvzi0ZP6AT503qcBk/SrzyDxHtGT9Nw0vLo3YaPyo25nXEIRs/t2v4zEhzGj8=\",\"dtype\":\"float64\",\"order\":\"little\",\"shape\":[52]},\"y\":{\"__ndarray__\":\"ZGuc9g4cyD5MxgdroxDRPg8Nq7E8KNg+PCi+azQZ4T64eH4SWjToPuEOwIbcIfE+Z0fnlcBA+D6YH2gliioBP9Sc7oPpTAg/Ql+zwzEzET+gljJTNVkYP2ZxYprjOyE/47vwko9lKD9bxrDhpkQxP5nUeP7hcTg/6iw3XFRNQT/T3tKpMH5IP1i/ozP/VVE/evcom4SKWD8yIkZ06F5hP/kHy8MMl2g/VofDFqNncT9hz+FLcKN4P3x0YW1acIE/X2vP28OviD9AhYSHRHmRP+ZaGzRwvJg/0yEEaB6CoT8CT0GG5sioP5UwcU3uirE/dGARDHnVuD8xiMFP55PBP9O3eEIG4sg/eGGlN7Kc0T9Ee1jImO7YP5XsWeOepeE/zbO0Jyb76D/JJeF0ba7xP1g6g2OjB/k/gxc9vHK3AUCvTMbddhQJQMNuAnVuwBFAzIQ6IyAhGUAKvmxdV8khQAlOitTELSlAXZNjGl7SMUD/kmg0gzo5QCwuSfFg20FAlZRAlEFHSUBXVyzIY+RRQEBcEvT/U1lAjhINn2btYUA=\",\"dtype\":\"float64\",\"order\":\"little\",\"shape\":[52]}},\"selected\":{\"id\":\"1230\"},\"selection_policy\":{\"id\":\"1229\"}},\"id\":\"1072\",\"type\":\"ColumnDataSource\"},{\"attributes\":{\"data_source\":{\"id\":\"1132\"},\"glyph\":{\"id\":\"1133\"},\"hover_glyph\":null,\"muted_glyph\":{\"id\":\"1135\"},\"nonselection_glyph\":{\"id\":\"1134\"},\"view\":{\"id\":\"1137\"}},\"id\":\"1136\",\"type\":\"GlyphRenderer\"},{\"attributes\":{\"source\":{\"id\":\"1036\"}},\"id\":\"1041\",\"type\":\"CDSView\"},{\"attributes\":{},\"id\":\"1222\",\"type\":\"Selection\"},{\"attributes\":{\"data\":{\"x\":{\"__ndarray__\":\"f2q8dJMYxD9/arx0kxjEP39qvHSTGMQ/f2q8dJMYxD9/arx0kxjEP39qvHSTGMQ/f2q8dJMYxD9/arx0kxjEP39qvHSTGMQ/f2q8dJMYxD9/arx0kxjEP39qvHSTGMQ/f2q8dJMYxD9/arx0kxjEP39qvHSTGMQ/f2q8dJMYxD9/arx0kxjEP39qvHSTGMQ/f2q8dJMYxD9/arx0kxjEP39qvHSTGMQ/f2q8dJMYxD9/arx0kxjEP39qvHSTGMQ/f2q8dJMYxD9/arx0kxjEP39qvHSTGMQ/f2q8dJMYxD9/arx0kxjEP39qvHSTGMQ/f2q8dJMYxD9/arx0kxjEP39qvHSTGMQ/f2q8dJMYxD9/arx0kxjEP39qvHSTGMQ/f2q8dJMYxD9/arx0kxjEP39qvHSTGMQ/f2q8dJMYxD9/arx0kxjEP39qvHSTGMQ/f2q8dJMYxD9/arx0kxjEP39qvHSTGMQ/f2q8dJMYxD9/arx0kxjEP39qvHSTGMQ/f2q8dJMYxD8pXI/C9SjEP9NNYhBYOcQ/001iEFg5xD8=\",\"dtype\":\"float64\",\"order\":\"little\",\"shape\":[52]},\"y\":{\"__ndarray__\":\"ZGuc9g4cyD5MxgdroxDRPg8Nq7E8KNg+PCi+azQZ4T64eH4SWjToPuEOwIbcIfE+Z0fnlcBA+D6YH2gliioBP9Sc7oPpTAg/Ql+zwzEzET+gljJTNVkYP2ZxYprjOyE/47vwko9lKD9bxrDhpkQxP5nUeP7hcTg/6iw3XFRNQT/T3tKpMH5IP1i/ozP/VVE/evcom4SKWD8yIkZ06F5hP/kHy8MMl2g/VofDFqNncT9hz+FLcKN4P3x0YW1acIE/X2vP28OviD9AhYSHRHmRP+ZaGzRwvJg/0yEEaB6CoT8CT0GG5sioP5UwcU3uirE/dGARDHnVuD8xiMFP55PBP9O3eEIG4sg/eGGlN7Kc0T9Ee1jImO7YP5XsWeOepeE/zbO0Jyb76D/JJeF0ba7xP1g6g2OjB/k/gxc9vHK3AUCvTMbddhQJQMNuAnVuwBFAzIQ6IyAhGUAKvmxdV8khQAlOitTELSlAXZNjGl7SMUD/kmg0gzo5QCwuSfFg20FAlZRAlEFHSUBXVyzIY+RRQEBcEvT/U1lAjhINn2btYUA=\",\"dtype\":\"float64\",\"order\":\"little\",\"shape\":[52]}},\"selected\":{\"id\":\"1220\"},\"selection_policy\":{\"id\":\"1219\"}},\"id\":\"1042\",\"type\":\"ColumnDataSource\"},{\"attributes\":{\"source\":{\"id\":\"1060\"}},\"id\":\"1065\",\"type\":\"CDSView\"},{\"attributes\":{\"line_alpha\":0.1,\"line_color\":\"#792281\",\"line_width\":3,\"x\":{\"field\":\"x\"},\"y\":{\"field\":\"y\"}},\"id\":\"1074\",\"type\":\"Line\"},{\"attributes\":{},\"id\":\"1231\",\"type\":\"UnionRenderers\"},{\"attributes\":{\"data\":{\"x\":{\"__ndarray__\":\"1CtlGeJYVz9rSNxj6UNXP2tI3GPpQ1c/a0jcY+lDVz89D+7O2m1XP3i5iO/ErFc/SYCaWrbWVz8bR6zFpwBYP4QqNXugFVg/7Q2+MJkqWD/tDb4wmSpYP4QqNXugFVg/hCo1e6AVWD+EKjV7oBVYP+0NvjCZKlg/v9TPm4pUWD8ouFhRg2lYPyi4WFGDaVg/KLhYUYNpWD8ouFhRg2lYPyi4WFGDaVg/v9TPm4pUWD9W8UbmkT9YP7/Uz5uKVFg/KLhYUYNpWD8ouFhRg2lYPyi4WFGDaVg/KLhYUYNpWD8ouFhRg2lYPyi4WFGDaVg/KLhYUYNpWD8ouFhRg2lYP7/Uz5uKVFg/VvFG5pE/WD9W8UbmkT9YP1bxRuaRP1g/VvFG5pE/WD9W8UbmkT9YP+0NvjCZKlg/hCo1e6AVWD+EKjV7oBVYP4QqNXugFVg/hCo1e6AVWD+EKjV7oBVYP4QqNXugFVg/7Q2+MJkqWD9W8UbmkT9YP1bxRuaRP1g/v9TPm4pUWD8ouFhRg2lYP5Gb4QZ8flg/kZvhBnx+WD8=\",\"dtype\":\"float64\",\"order\":\"little\",\"shape\":[52]},\"y\":{\"__ndarray__\":\"ZGuc9g4cyD5MxgdroxDRPg8Nq7E8KNg+PCi+azQZ4T64eH4SWjToPuEOwIbcIfE+Z0fnlcBA+D6YH2gliioBP9Sc7oPpTAg/Ql+zwzEzET+gljJTNVkYP2ZxYprjOyE/47vwko9lKD9bxrDhpkQxP5nUeP7hcTg/6iw3XFRNQT/T3tKpMH5IP1i/ozP/VVE/evcom4SKWD8yIkZ06F5hP/kHy8MMl2g/VofDFqNncT9hz+FLcKN4P3x0YW1acIE/X2vP28OviD9AhYSHRHmRP+ZaGzRwvJg/0yEEaB6CoT8CT0GG5sioP5UwcU3uirE/dGARDHnVuD8xiMFP55PBP9O3eEIG4sg/eGGlN7Kc0T9Ee1jImO7YP5XsWeOepeE/zbO0Jyb76D/JJeF0ba7xP1g6g2OjB/k/gxc9vHK3AUCvTMbddhQJQMNuAnVuwBFAzIQ6IyAhGUAKvmxdV8khQAlOitTELSlAXZNjGl7SMUD/kmg0gzo5QCwuSfFg20FAlZRAlEFHSUBXVyzIY+RRQEBcEvT/U1lAjhINn2btYUA=\",\"dtype\":\"float64\",\"order\":\"little\",\"shape\":[52]}},\"selected\":{\"id\":\"1232\"},\"selection_policy\":{\"id\":\"1231\"}},\"id\":\"1078\",\"type\":\"ColumnDataSource\"},{\"attributes\":{\"data_source\":{\"id\":\"1114\"},\"glyph\":{\"id\":\"1115\"},\"hover_glyph\":null,\"muted_glyph\":{\"id\":\"1117\"},\"nonselection_glyph\":{\"id\":\"1116\"},\"view\":{\"id\":\"1119\"}},\"id\":\"1118\",\"type\":\"GlyphRenderer\"},{\"attributes\":{},\"id\":\"1232\",\"type\":\"Selection\"},{\"attributes\":{\"below\":[{\"id\":\"1174\"}],\"center\":[{\"id\":\"1177\"},{\"id\":\"1181\"}],\"height\":500,\"left\":[{\"id\":\"1178\"}],\"renderers\":[{\"id\":\"1199\"}],\"title\":{\"id\":\"1164\"},\"toolbar\":{\"id\":\"1189\"},\"width\":400,\"x_range\":{\"id\":\"1166\"},\"x_scale\":{\"id\":\"1170\"},\"y_range\":{\"id\":\"1168\"},\"y_scale\":{\"id\":\"1172\"}},\"id\":\"1163\",\"subtype\":\"Figure\",\"type\":\"Plot\"},{\"attributes\":{\"data_source\":{\"id\":\"1048\"},\"glyph\":{\"id\":\"1049\"},\"hover_glyph\":null,\"muted_glyph\":{\"id\":\"1051\"},\"nonselection_glyph\":{\"id\":\"1050\"},\"view\":{\"id\":\"1053\"}},\"id\":\"1052\",\"type\":\"GlyphRenderer\"},{\"attributes\":{\"data_source\":{\"id\":\"1066\"},\"glyph\":{\"id\":\"1067\"},\"hover_glyph\":null,\"muted_glyph\":{\"id\":\"1069\"},\"nonselection_glyph\":{\"id\":\"1068\"},\"view\":{\"id\":\"1071\"}},\"id\":\"1070\",\"type\":\"GlyphRenderer\"},{\"attributes\":{\"click_policy\":\"mute\",\"items\":[{\"id\":\"1145\"},{\"id\":\"1146\"},{\"id\":\"1147\"},{\"id\":\"1148\"},{\"id\":\"1149\"},{\"id\":\"1150\"},{\"id\":\"1151\"},{\"id\":\"1152\"},{\"id\":\"1153\"},{\"id\":\"1154\"},{\"id\":\"1155\"},{\"id\":\"1156\"},{\"id\":\"1157\"},{\"id\":\"1158\"},{\"id\":\"1159\"},{\"id\":\"1160\"},{\"id\":\"1161\"},{\"id\":\"1162\"}],\"location\":[0,-20]},\"id\":\"1144\",\"type\":\"Legend\"},{\"attributes\":{\"axis\":{\"id\":\"1014\"},\"ticker\":null},\"id\":\"1017\",\"type\":\"Grid\"},{\"attributes\":{\"line_alpha\":0.1,\"line_color\":\"#4A1079\",\"line_width\":3,\"x\":{\"field\":\"x\"},\"y\":{\"field\":\"y\"}},\"id\":\"1062\",\"type\":\"Line\"},{\"attributes\":{\"line_alpha\":0.2,\"line_color\":\"#FDE1A3\",\"line_width\":3,\"x\":{\"field\":\"x\"},\"y\":{\"field\":\"y\"}},\"id\":\"1135\",\"type\":\"Line\"},{\"attributes\":{\"line_color\":\"#912A80\",\"line_width\":3,\"x\":{\"field\":\"x\"},\"y\":{\"field\":\"y\"}},\"id\":\"1079\",\"type\":\"Line\"},{\"attributes\":{\"line_alpha\":0.2,\"line_color\":\"#792281\",\"line_width\":3,\"x\":{\"field\":\"x\"},\"y\":{\"field\":\"y\"}},\"id\":\"1075\",\"type\":\"Line\"},{\"attributes\":{},\"id\":\"1223\",\"type\":\"UnionRenderers\"},{\"attributes\":{\"data\":{\"x\":{\"__ndarray__\":\"GQRWDi2y6T8ZBFYOLbLpPxkEVg4tsuk/GQRWDi2y6T+uR+F6FK7pP0SLbOf7qek/RIts5/up6T9Ei2zn+6npP0SLbOf7qek/RIts5/up6T9Ei2zn+6npP0SLbOf7qek/RIts5/up6T9Ei2zn+6npP0SLbOf7qek/RIts5/up6T9Ei2zn+6npP0SLbOf7qek/RIts5/up6T9Ei2zn+6npP0SLbOf7qek/RIts5/up6T/azvdT46XpP28Sg8DKoek/bxKDwMqh6T9vEoPAyqHpP28Sg8DKoek/bxKDwMqh6T9vEoPAyqHpP28Sg8DKoek/bxKDwMqh6T9vEoPAyqHpP28Sg8DKoek/bxKDwMqh6T9vEoPAyqHpP28Sg8DKoek/bxKDwMqh6T9vEoPAyqHpP28Sg8DKoek/bxKDwMqh6T9vEoPAyqHpP28Sg8DKoek/bxKDwMqh6T9vEoPAyqHpP28Sg8DKoek/bxKDwMqh6T9vEoPAyqHpPwRWDi2ynek/mpmZmZmZ6T8w3SQGgZXpP1pkO99Pjek/hutRuB6F6T8=\",\"dtype\":\"float64\",\"order\":\"little\",\"shape\":[52]},\"y\":{\"__ndarray__\":\"ZGuc9g4cyD5MxgdroxDRPg8Nq7E8KNg+PCi+azQZ4T64eH4SWjToPuEOwIbcIfE+Z0fnlcBA+D6YH2gliioBP9Sc7oPpTAg/Ql+zwzEzET+gljJTNVkYP2ZxYprjOyE/47vwko9lKD9bxrDhpkQxP5nUeP7hcTg/6iw3XFRNQT/T3tKpMH5IP1i/ozP/VVE/evcom4SKWD8yIkZ06F5hP/kHy8MMl2g/VofDFqNncT9hz+FLcKN4P3x0YW1acIE/X2vP28OviD9AhYSHRHmRP+ZaGzRwvJg/0yEEaB6CoT8CT0GG5sioP5UwcU3uirE/dGARDHnVuD8xiMFP55PBP9O3eEIG4sg/eGGlN7Kc0T9Ee1jImO7YP5XsWeOepeE/zbO0Jyb76D/JJeF0ba7xP1g6g2OjB/k/gxc9vHK3AUCvTMbddhQJQMNuAnVuwBFAzIQ6IyAhGUAKvmxdV8khQAlOitTELSlAXZNjGl7SMUD/kmg0gzo5QCwuSfFg20FAlZRAlEFHSUBXVyzIY+RRQEBcEvT/U1lAjhINn2btYUA=\",\"dtype\":\"float64\",\"order\":\"little\",\"shape\":[52]}},\"selected\":{\"id\":\"1218\"},\"selection_policy\":{\"id\":\"1217\"}},\"id\":\"1036\",\"type\":\"ColumnDataSource\"},{\"attributes\":{\"line_color\":\"#FBFCBF\",\"line_width\":3,\"x\":{\"field\":\"x\"},\"y\":{\"field\":\"y\"}},\"id\":\"1139\",\"type\":\"Line\"},{\"attributes\":{},\"id\":\"1224\",\"type\":\"Selection\"},{\"attributes\":{\"line_color\":\"#61187F\",\"line_width\":3,\"x\":{\"field\":\"x\"},\"y\":{\"field\":\"y\"}},\"id\":\"1067\",\"type\":\"Line\"},{\"attributes\":{\"num_minor_ticks\":10},\"id\":\"1019\",\"type\":\"LogTicker\"},{\"attributes\":{\"data\":{\"x\":{\"__ndarray__\":\"1CtlGeJYhz/UK2UZ4liHP1pkO99PjYc/JLn8h/Tbhz+q8dJNYhCIP+0NvjCZKog/MCqpE9BEiD+3Yn/ZPXmIPz2bVZ+rrYg/gLdAguLHiD/E0ytlGeKIPwfwFkhQ/Ig/SgwCK4cWiT+NKO0NvjCJP40o7Q2+MIk/0ETY8PRKiT8TYcPTK2WJPxNhw9MrZYk/E2HD0ytliT8TYcPTK2WJP1Z9rrZif4k/mpmZmZmZiT+amZmZmZmJP921hHzQs4k/INJvXwfOiT8g0m9fB86JPyDSb18Hzok/Y+5aQj7oiT+mCkYldQKKP6YKRiV1Aoo/pgpGJXUCij+mCkYldQKKP+omMQisHIo/LUMc6+I2ij8tQxzr4jaKPy1DHOviNoo/LUMc6+I2ij8tQxzr4jaKPy1DHOviNoo/LUMc6+I2ij8tQxzr4jaKPy1DHOviNoo/LUMc6+I2ij9wXwfOGVGKP7N78rBQa4o/s3vysFBrij/2l92Th4WKPwIJih9j7oo/2c73U+Oliz/ysFBrmneMP+JYF7fRAI4/TMgHPZtVjz8=\",\"dtype\":\"float64\",\"order\":\"little\",\"shape\":[52]},\"y\":{\"__ndarray__\":\"ZGuc9g4cyD5MxgdroxDRPg8Nq7E8KNg+PCi+azQZ4T64eH4SWjToPuEOwIbcIfE+Z0fnlcBA+D6YH2gliioBP9Sc7oPpTAg/Ql+zwzEzET+gljJTNVkYP2ZxYprjOyE/47vwko9lKD9bxrDhpkQxP5nUeP7hcTg/6iw3XFRNQT/T3tKpMH5IP1i/ozP/VVE/evcom4SKWD8yIkZ06F5hP/kHy8MMl2g/VofDFqNncT9hz+FLcKN4P3x0YW1acIE/X2vP28OviD9AhYSHRHmRP+ZaGzRwvJg/0yEEaB6CoT8CT0GG5sioP5UwcU3uirE/dGARDHnVuD8xiMFP55PBP9O3eEIG4sg/eGGlN7Kc0T9Ee1jImO7YP5XsWeOepeE/zbO0Jyb76D/JJeF0ba7xP1g6g2OjB/k/gxc9vHK3AUCvTMbddhQJQMNuAnVuwBFAzIQ6IyAhGUAKvmxdV8khQAlOitTELSlAXZNjGl7SMUD/kmg0gzo5QCwuSfFg20FAlZRAlEFHSUBXVyzIY+RRQEBcEvT/U1lAjhINn2btYUA=\",\"dtype\":\"float64\",\"order\":\"little\",\"shape\":[52]}},\"selected\":{\"id\":\"1224\"},\"selection_policy\":{\"id\":\"1223\"}},\"id\":\"1054\",\"type\":\"ColumnDataSource\"},{\"attributes\":{},\"id\":\"1233\",\"type\":\"UnionRenderers\"},{\"attributes\":{\"axis_label\":\"Pressure(Bars)\",\"formatter\":{\"id\":\"1205\"},\"major_label_policy\":{\"id\":\"1206\"},\"ticker\":{\"id\":\"1019\"}},\"id\":\"1018\",\"type\":\"LogAxis\"},{\"attributes\":{\"line_alpha\":0.1,\"line_color\":\"#61187F\",\"line_width\":3,\"x\":{\"field\":\"x\"},\"y\":{\"field\":\"y\"}},\"id\":\"1068\",\"type\":\"Line\"},{\"attributes\":{},\"id\":\"1234\",\"type\":\"Selection\"},{\"attributes\":{\"line_alpha\":0.1,\"line_color\":\"#FDE1A3\",\"line_width\":3,\"x\":{\"field\":\"x\"},\"y\":{\"field\":\"y\"}},\"id\":\"1134\",\"type\":\"Line\"},{\"attributes\":{\"data_source\":{\"id\":\"1072\"},\"glyph\":{\"id\":\"1073\"},\"hover_glyph\":null,\"muted_glyph\":{\"id\":\"1075\"},\"nonselection_glyph\":{\"id\":\"1074\"},\"view\":{\"id\":\"1077\"}},\"id\":\"1076\",\"type\":\"GlyphRenderer\"}],\"root_ids\":[\"1201\"]},\"title\":\"Bokeh Application\",\"version\":\"2.3.3\"}};\n",
       "  var render_items = [{\"docid\":\"05b85daf-97d4-4aa0-b091-ac14fae96cfb\",\"root_ids\":[\"1201\"],\"roots\":{\"1201\":\"908a520b-7cfc-42bc-b8f9-019637e21193\"}}];\n",
       "  root.Bokeh.embed.embed_items_notebook(docs_json, render_items);\n",
       "\n",
       "  }\n",
       "  if (root.Bokeh !== undefined) {\n",
       "    embed_document(root);\n",
       "  } else {\n",
       "    var attempts = 0;\n",
       "    var timer = setInterval(function(root) {\n",
       "      if (root.Bokeh !== undefined) {\n",
       "        clearInterval(timer);\n",
       "        embed_document(root);\n",
       "      } else {\n",
       "        attempts++;\n",
       "        if (attempts > 100) {\n",
       "          clearInterval(timer);\n",
       "          console.log(\"Bokeh: ERROR: Unable to run BokehJS code because BokehJS library is missing\");\n",
       "        }\n",
       "      }\n",
       "    }, 10, root)\n",
       "  }\n",
       "})(window);"
      ],
      "application/vnd.bokehjs_exec.v0+json": ""
     },
     "metadata": {
      "application/vnd.bokehjs_exec.v0+json": {
       "id": "1201"
      }
     },
     "output_type": "display_data"
    }
   ],
   "source": [
    "jpi.show(jpi.row(\n",
    "    jpi.mixing_ratio(full_output, plot_height=500), \n",
    "    jpi.pt(full_output, plot_height=500)))\n",
    "#can also input any key word argument acceptable for bokeh.figure: \n",
    "#show(jpi.mixing_ratio(full_output, plot_width=500, y_axis_type='linear',y_range=[10,1e-3])) "
   ]
  },
  {
   "cell_type": "markdown",
   "metadata": {},
   "source": [
    "## Standard Relative Flux Fp/Fs\n",
    "\n",
    "The same function as reflected light will work with any of the thermal emission output"
   ]
  },
  {
   "cell_type": "code",
   "execution_count": 5,
   "metadata": {},
   "outputs": [
    {
     "data": {
      "text/html": [
       "\n",
       "\n",
       "\n",
       "\n",
       "\n",
       "\n",
       "  <div class=\"bk-root\" id=\"758a79bd-b480-4459-9423-88db20424fe4\" data-root-id=\"1526\"></div>\n"
      ]
     },
     "metadata": {},
     "output_type": "display_data"
    },
    {
     "data": {
      "application/javascript": [
       "(function(root) {\n",
       "  function embed_document(root) {\n",
       "    \n",
       "  var docs_json = {\"0a65ea05-b37d-4cb4-a011-26e269e8bff5\":{\"defs\":[],\"roots\":{\"references\":[{\"attributes\":{\"below\":[{\"id\":\"1535\"}],\"center\":[{\"id\":\"1538\"},{\"id\":\"1542\"}],\"height\":345,\"left\":[{\"id\":\"1539\"}],\"renderers\":[{\"id\":\"1560\"}],\"title\":{\"id\":\"1617\"},\"toolbar\":{\"id\":\"1550\"},\"width\":500,\"x_range\":{\"id\":\"1527\"},\"x_scale\":{\"id\":\"1531\"},\"y_range\":{\"id\":\"1529\"},\"y_scale\":{\"id\":\"1533\"}},\"id\":\"1526\",\"subtype\":\"Figure\",\"type\":\"Plot\"},{\"attributes\":{\"data_source\":{\"id\":\"1557\"},\"glyph\":{\"id\":\"1558\"},\"hover_glyph\":null,\"muted_glyph\":null,\"nonselection_glyph\":{\"id\":\"1559\"},\"view\":{\"id\":\"1561\"}},\"id\":\"1560\",\"type\":\"GlyphRenderer\"},{\"attributes\":{},\"id\":\"1527\",\"type\":\"DataRange1d\"},{\"attributes\":{\"active_multi\":null,\"tools\":[{\"id\":\"1543\"},{\"id\":\"1544\"},{\"id\":\"1545\"},{\"id\":\"1546\"},{\"id\":\"1547\"},{\"id\":\"1548\"}]},\"id\":\"1550\",\"type\":\"Toolbar\"},{\"attributes\":{\"data\":{\"x\":{\"__ndarray__\":\"IQ6NsNYMFEACkYm/u+oTQAp/09HayBNAGNS8hDOnE0CrZj92xYUTQFnK+0SQZBNAKzQ4kJNDE0DlYN/3ziITQCt9fxxCAhNAeQ9Jn+zhEkD+4w0izsESQEz6P0fmoRJAznTwsTSCEkAkis4FuWISQDZ4JudyQxJAHXng+mEkEkDNuX/mhQUSQIFSIVDe5hFA80B73mrIEUA9ZNs4K6oRQIh6JgcfjBFAayDX8UVuEUD10fyhn1ARQHrtOsErMxFABrjH+ekVEUBzY2v22fgQQD8Wf2L72xBA7vTr6U2/EEAiLSo50aIQQFACQP2EhhBABtzA42hqEEDjVcyafE4QQA9RDdG/MhBAYQe5NTIXEED/PxzxpvcPQEOLp5NGwQ9Au3yxtEKLD0DuCeW2mlUPQIfH+P1NIA9ADyKt7lvrDkDAmcruw7YOQFYBIGWFgg5A1r+AuZ9ODkBRFcNUEhsOQJNivqDc5w1Ax3NJCP60DUADzjj3dYINQKz/XNpDUA1AxPOAH2ceDUANSGg13+wMQPqlzYuruwxAfh5hk8uKDECaiMa9PloMQLLik30EKgxAq7ZPRhz6C0C3gG+MhcoLQPUYVsU/mwtAlx9SZ0psC0Dta5zppD0LQOx9VsRODwtAdPKIcEfhCkAz+iFojrMKQB7T8yUjhgpAiESzJQVZCkDOHfbjMywKQIu3Md6u/wlAY3e5knXTCUBHVr2Ah6cJQERpSCjkewlA0Gw/CotQCUCUUl+oeyUJQJrRO4W1+ghACfk9JDjQCEAzxaIJA6YIQCK3eboVfAhAem6jvG9SCEDFRdCWECkIQA==\",\"dtype\":\"float64\",\"order\":\"little\",\"shape\":[77]},\"y\":{\"__ndarray__\":\"r4QbRysPo0CNu7eRQaSiQGQfnQZHZqJA31BGEmv/oUCIzhSEmdWhQCXDdmPbhqFAp5pYtUlkoUCbxJWwOhuhQOBIhvaLaaBAIj3EqGO1oEBecLEOQ3+gQJMGJrim459AdfKd/CIknkDppK/zCZycQPkqTsFeQZpAnOJBjwC2mEAFUqbeGBGXQDekKOET7pRAEXajA8TgkkCRj/7QSNeRQEA1THhViZBArWzQHtiij0CMra6ErT6QQF3r9fmAF5BAjU8tZ3PGkEA9BSPK7G6TQECVJdROCZdAv4O+1uAzmUC+Tg9xH3OZQIUlnbGY+5hAT+VRLsvomEBmmbpEbKWYQHu4Vf/DCJhAB0lCDe2ol0AZbrIu2laXQIX4XvM21pZAYpTt+XZ+lkDdJH8sb1CWQKtAcmiix5VADT7/tSqmlUDI93+IGXyVQOPQEQ0lM5VAJ15ZcWgblUDF480Gc+WUQJQBl6bhx5RAGlIPJJ+HlEDxofh5fQWUQAjo7tlY3ZNAo563hICMk0BB7H9pDGmTQPgPt6MsG5NAHNvRoPntkkAgFsym/L+SQLkWHCiHaZJAiOtBoE77kUAAMWWWBXSRQDTFzJmTSpFA5dT7MpsOkUBBDTYDn+CQQHbVreOQq5BAc1zItctgkEA8AeYM5V+QQO2CMAIBCJBAzjHWjEUZkEA8EStFA6WPQLbQUbWfDo9AszOrR3nWjUBk8JOb7ZCNQICedGj/141AMW5DpceHi0BLBbn02FSLQLTD2P9DxIpAyZdst/ecikCphhh//GyJQFR/hu8bSohABrUoi7zVh0BvZkOKt7iGQA==\",\"dtype\":\"float64\",\"order\":\"little\",\"shape\":[77]}},\"selected\":{\"id\":\"1626\"},\"selection_policy\":{\"id\":\"1625\"}},\"id\":\"1557\",\"type\":\"ColumnDataSource\"},{\"attributes\":{\"axis_label\":\"Wavelength [\\u03bcm]\",\"axis_label_text_font\":\"times\",\"axis_label_text_font_size\":\"14pt\",\"axis_label_text_font_style\":\"bold\",\"formatter\":{\"id\":\"1622\"},\"major_label_policy\":{\"id\":\"1623\"},\"major_label_text_font\":\"times\",\"major_label_text_font_size\":\"14pt\",\"ticker\":{\"id\":\"1536\"}},\"id\":\"1535\",\"type\":\"LinearAxis\"},{\"attributes\":{\"ticker\":null},\"id\":\"1619\",\"type\":\"LogTickFormatter\"},{\"attributes\":{},\"id\":\"1529\",\"type\":\"DataRange1d\"},{\"attributes\":{},\"id\":\"1620\",\"type\":\"AllLabels\"},{\"attributes\":{},\"id\":\"1533\",\"type\":\"LogScale\"},{\"attributes\":{\"line_alpha\":0.1,\"line_color\":\"#0072B2\",\"line_width\":3,\"x\":{\"field\":\"x\"},\"y\":{\"field\":\"y\"}},\"id\":\"1559\",\"type\":\"Line\"},{\"attributes\":{},\"id\":\"1531\",\"type\":\"LinearScale\"},{\"attributes\":{},\"id\":\"1622\",\"type\":\"BasicTickFormatter\"},{\"attributes\":{\"axis\":{\"id\":\"1535\"},\"ticker\":null},\"id\":\"1538\",\"type\":\"Grid\"},{\"attributes\":{\"source\":{\"id\":\"1557\"}},\"id\":\"1561\",\"type\":\"CDSView\"},{\"attributes\":{},\"id\":\"1548\",\"type\":\"HelpTool\"},{\"attributes\":{},\"id\":\"1623\",\"type\":\"AllLabels\"},{\"attributes\":{\"line_color\":\"#0072B2\",\"line_width\":3,\"x\":{\"field\":\"x\"},\"y\":{\"field\":\"y\"}},\"id\":\"1558\",\"type\":\"Line\"},{\"attributes\":{},\"id\":\"1626\",\"type\":\"Selection\"},{\"attributes\":{\"axis_label\":\"Spectrum\",\"axis_label_text_font\":\"times\",\"axis_label_text_font_size\":\"14pt\",\"axis_label_text_font_style\":\"bold\",\"formatter\":{\"id\":\"1619\"},\"major_label_policy\":{\"id\":\"1620\"},\"major_label_text_font\":\"times\",\"major_label_text_font_size\":\"14pt\",\"ticker\":{\"id\":\"1540\"}},\"id\":\"1539\",\"type\":\"LogAxis\"},{\"attributes\":{\"axis\":{\"id\":\"1539\"},\"dimension\":1,\"ticker\":null},\"id\":\"1542\",\"type\":\"Grid\"},{\"attributes\":{\"num_minor_ticks\":10},\"id\":\"1540\",\"type\":\"LogTicker\"},{\"attributes\":{\"bottom_units\":\"screen\",\"fill_alpha\":0.5,\"fill_color\":\"lightgrey\",\"left_units\":\"screen\",\"level\":\"overlay\",\"line_alpha\":1.0,\"line_color\":\"black\",\"line_dash\":[4,4],\"line_width\":2,\"right_units\":\"screen\",\"syncable\":false,\"top_units\":\"screen\"},\"id\":\"1549\",\"type\":\"BoxAnnotation\"},{\"attributes\":{},\"id\":\"1544\",\"type\":\"WheelZoomTool\"},{\"attributes\":{},\"id\":\"1543\",\"type\":\"PanTool\"},{\"attributes\":{},\"id\":\"1617\",\"type\":\"Title\"},{\"attributes\":{\"overlay\":{\"id\":\"1549\"}},\"id\":\"1545\",\"type\":\"BoxZoomTool\"},{\"attributes\":{},\"id\":\"1546\",\"type\":\"SaveTool\"},{\"attributes\":{},\"id\":\"1547\",\"type\":\"ResetTool\"},{\"attributes\":{},\"id\":\"1625\",\"type\":\"UnionRenderers\"},{\"attributes\":{},\"id\":\"1536\",\"type\":\"BasicTicker\"}],\"root_ids\":[\"1526\"]},\"title\":\"Bokeh Application\",\"version\":\"2.3.3\"}};\n",
       "  var render_items = [{\"docid\":\"0a65ea05-b37d-4cb4-a011-26e269e8bff5\",\"root_ids\":[\"1526\"],\"roots\":{\"1526\":\"758a79bd-b480-4459-9423-88db20424fe4\"}}];\n",
       "  root.Bokeh.embed.embed_items_notebook(docs_json, render_items);\n",
       "\n",
       "  }\n",
       "  if (root.Bokeh !== undefined) {\n",
       "    embed_document(root);\n",
       "  } else {\n",
       "    var attempts = 0;\n",
       "    var timer = setInterval(function(root) {\n",
       "      if (root.Bokeh !== undefined) {\n",
       "        clearInterval(timer);\n",
       "        embed_document(root);\n",
       "      } else {\n",
       "        attempts++;\n",
       "        if (attempts > 100) {\n",
       "          clearInterval(timer);\n",
       "          console.log(\"Bokeh: ERROR: Unable to run BokehJS code because BokehJS library is missing\");\n",
       "        }\n",
       "      }\n",
       "    }, 10, root)\n",
       "  }\n",
       "})(window);"
      ],
      "application/vnd.bokehjs_exec.v0+json": ""
     },
     "metadata": {
      "application/vnd.bokehjs_exec.v0+json": {
       "id": "1526"
      }
     },
     "output_type": "display_data"
    }
   ],
   "source": [
    "jpi.show(jpi.spectrum(wno,fpfs*1e6,plot_width=500,y_axis_type='log'))"
   ]
  },
  {
   "cell_type": "markdown",
   "metadata": {},
   "source": [
    "## Exploring Thermal Emission Spectrum\n",
    "\n",
    "This is a useful plot to see the interplay between the computed flux and blackbodies of temperatures at various pressures along the PT profile. \n",
    "\n",
    "When you specify a pressure here, it will find the corresponding temperature along the PT profile and plot that blackbody. "
   ]
  },
  {
   "cell_type": "code",
   "execution_count": 6,
   "metadata": {},
   "outputs": [
    {
     "data": {
      "text/html": [
       "\n",
       "\n",
       "\n",
       "\n",
       "\n",
       "\n",
       "  <div class=\"bk-root\" id=\"1c7f8fac-4830-4a07-8597-39c3089eaaa5\" data-root-id=\"1682\"></div>\n"
      ]
     },
     "metadata": {},
     "output_type": "display_data"
    },
    {
     "data": {
      "application/javascript": [
       "(function(root) {\n",
       "  function embed_document(root) {\n",
       "    \n",
       "  var docs_json = {\"754b3b8c-2e26-45a6-bf7b-d20c883569a0\":{\"defs\":[],\"roots\":{\"references\":[{\"attributes\":{\"below\":[{\"id\":\"1693\"}],\"center\":[{\"id\":\"1696\"},{\"id\":\"1700\"},{\"id\":\"1737\"}],\"height\":400,\"left\":[{\"id\":\"1697\"}],\"renderers\":[{\"id\":\"1718\"},{\"id\":\"1723\"},{\"id\":\"1742\"},{\"id\":\"1762\"}],\"title\":{\"id\":\"1683\"},\"toolbar\":{\"id\":\"1708\"},\"width\":500,\"x_range\":{\"id\":\"1685\"},\"x_scale\":{\"id\":\"1689\"},\"y_range\":{\"id\":\"1687\"},\"y_scale\":{\"id\":\"1691\"}},\"id\":\"1682\",\"subtype\":\"Figure\",\"type\":\"Plot\"},{\"attributes\":{\"num_minor_ticks\":10},\"id\":\"1698\",\"type\":\"LogTicker\"},{\"attributes\":{\"line_alpha\":0.5,\"line_color\":\"#B53679\",\"line_width\":4,\"x\":{\"field\":\"x\"},\"y\":{\"field\":\"y\"}},\"id\":\"1740\",\"type\":\"Line\"},{\"attributes\":{\"active_multi\":null,\"tools\":[{\"id\":\"1701\"},{\"id\":\"1702\"},{\"id\":\"1703\"},{\"id\":\"1704\"},{\"id\":\"1705\"},{\"id\":\"1706\"}]},\"id\":\"1708\",\"type\":\"Toolbar\"},{\"attributes\":{\"data\":{\"x\":{\"__ndarray__\":\"l08LOMn7E0ALiK5Iy9kTQJYpSCsHuBNAZx1+fXyWE0CHmJ3dKnUTQEf/meoRVBNAjcoLRDEzE0ANby+KiBITQFdG5F0X8hJAwXmrYN3REkAq76Y02rESQJA3mHwNkhJAfH/f23ZyEkAxgXr2FVMSQK54A3HqMxJAehmw8PMUEkArhlAbMvYRQL1JTpek1xFAmlKrC0u5EUBl7wAgJZsRQH3NfnwyfRFAM/npyXJfEUC735ux5UERQMNSgd2KJBFAv40Z+GEHEUDbPHWsauoQQJiFNaakzRBACRGLkQ+xEEC6FzUbq5QQQCtvgPB2eBBA9ZhGv3JcEEB50+w1nkAQQDksYwP5JBBAsJMj14IJEECf5WHCdtwPQP6DLKREpg9AVUPLtW5wD0C56G5a9DoPQMr0UvbUBQ9A5t277g/RDkCKTfWppJwOQJdgUI+SaA5Ak+ohB9k0DkDwu8B6dwEOQCzrg1Rtzg1A5SDB/7mbDUDW5sroXGkNQLf57nxVNw1A5510KqMFDUAC95pgRdQMQDtil487owxAi9OTKIVyDEClNa2dIUIMQK3M8WEQEgxAsZtf6VDiC0DWzOKo4rILQEUcVBbFgwtAwUV3qPdUC0DsdPnWeSYLQC64bxpL+ApAUXZV7GrKCkCm5grH2JwKQNCL0yWUbwpAKLHUhJxCCkCq6hNh8RUKQHWXdTiS6QlA0ma7iX69CUDC34LUtZEJQAjrQ5k3ZglAsV9PWQM7CUAWks2WGBAJQFHlvNR25QhAHl/wlh27CEAqPg5iDJEIQM2SjrtCZwhAH9q5KcA9CEBwm6czhBQIQA==\",\"dtype\":\"float64\",\"order\":\"little\",\"shape\":[77]},\"y\":{\"__ndarray__\":\"gtXDzLwFMUJ7A7S/Az8xQtEFM9eKeDFCHDCAfU6yMUIBw8/+SuwxQjE/I4l8JjJCDKMnLN9gMkIB0hnZbpsyQtBksWIn1jJCDSISfQQRM0K6XsS9AUwzQtaFtJsahzNCigY6b0rCM0LK5yVyjP0zQtA/2b/bODRCnM1jVTN0NELu8aoRjq80QgNEmbXm6jRCHv5W5DcmNUIwfIsjfGE1QkIGqNutnDVCeB48WMfXNUJ+iVPIwhI2Qh9G3j6aTTZC7qYis0eINkLNvzkBxcI2Ql9VluoL/TZCzHuWFhY3N0KsDiAT3XA3QtspSFVaqjdCk8cFOofjN0Lhpe8GXRw4Qu+RBevUVDhCFTSF/+eMOEJ4dMpIj8Q4Qk6MO7fD+zhCn9NAKH4yOUJaV0hnt2g5QuY/1S5onjlCNwubKYnTOULamKTzEgg6QoMChxv+OzpCozWgI0NvOkJDPmGD2qE6QpUtpKi80zpCo4EN+eEEO0L17XjTQjU7QsVecZHXZDtCtAu0iJiTO0JbZ74MfsE7Qsa0ZnCA7jtCLAR/B5gaPEL5UoIovUU8QkqESy7obzxC+eDVeRGZPEJxxwZ0McE8QtcsgI9A6DxC6Yp7SjcOPUJAz6wwDjM9QhLZLN29Vj1COg1r/D55PUKQgCVOipo9QmcyZ6eYuj1CZcqL9GLZPUJnRkg74vY9Qjz+t5wPEz5CbF1tV+QtPkIkrIXJWUc+Qsg6v3JpXz5Cdj2R9gx2PkI5n0QePos+Qi0ODdv2nj5Cp30hSDGxPkKHVdOs58E+QlyAo34U0T5Ct4ZUY7LePkIb4PgyvOo+Qg==\",\"dtype\":\"float64\",\"order\":\"little\",\"shape\":[77]}},\"selected\":{\"id\":\"1757\"},\"selection_policy\":{\"id\":\"1756\"}},\"id\":\"1739\",\"type\":\"ColumnDataSource\"},{\"attributes\":{\"data\":{\"x\":{\"__ndarray__\":\"l08LOMn7E0ALiK5Iy9kTQJYpSCsHuBNAZx1+fXyWE0CHmJ3dKnUTQEf/meoRVBNAjcoLRDEzE0ANby+KiBITQFdG5F0X8hJAwXmrYN3REkAq76Y02rESQJA3mHwNkhJAfH/f23ZyEkAxgXr2FVMSQK54A3HqMxJAehmw8PMUEkArhlAbMvYRQL1JTpek1xFAmlKrC0u5EUBl7wAgJZsRQH3NfnwyfRFAM/npyXJfEUC735ux5UERQMNSgd2KJBFAv40Z+GEHEUDbPHWsauoQQJiFNaakzRBACRGLkQ+xEEC6FzUbq5QQQCtvgPB2eBBA9ZhGv3JcEEB50+w1nkAQQDksYwP5JBBAsJMj14IJEECf5WHCdtwPQP6DLKREpg9AVUPLtW5wD0C56G5a9DoPQMr0UvbUBQ9A5t277g/RDkCKTfWppJwOQJdgUI+SaA5Ak+ohB9k0DkDwu8B6dwEOQCzrg1Rtzg1A5SDB/7mbDUDW5sroXGkNQLf57nxVNw1A5510KqMFDUAC95pgRdQMQDtil487owxAi9OTKIVyDEClNa2dIUIMQK3M8WEQEgxAsZtf6VDiC0DWzOKo4rILQEUcVBbFgwtAwUV3qPdUC0DsdPnWeSYLQC64bxpL+ApAUXZV7GrKCkCm5grH2JwKQNCL0yWUbwpAKLHUhJxCCkCq6hNh8RUKQHWXdTiS6QlA0ma7iX69CUDC34LUtZEJQAjrQ5k3ZglAsV9PWQM7CUAWks2WGBAJQFHlvNR25QhAHl/wlh27CEAqPg5iDJEIQM2SjrtCZwhAH9q5KcA9CEBwm6czhBQIQA==\",\"dtype\":\"float64\",\"order\":\"little\",\"shape\":[77]},\"y\":{\"__ndarray__\":\"Nog6Uj0pMkKBniNVphUyQjkYgNE6QzJCXnbHLNtVMkI9qCqdUZQyQj8aCAlY5TJCCjlqZ2IAM0K12LQsHCgzQp6fz2Xc6DJCneVJJ2+QM0JJ0atVnsIzQleegB/cZDNCm4fOg3+iMkIBjUqsew0yQm5X2CEHCTFC/ags8ulWMEJu/ynO4qAvQjy4F9Hjji1CXlaOQWWpK0LBpn6fATsrQrUbZxt8YSpCdlfeez2XKkL1IdXLQGUsQonc72EJ5C1CJS4ZIzpUMELXvnfOgX8zQgWk+jfekDdCCp80x11uOkKK/xK5aYs7Qk9VkViQuDtCMzCwi8pRPEK/zU5Z/Lc8QksH3bveCT1CEvRon/VfPUKdbxrxCqg9QoFmI2HbGj5CKXio5vVVPkLoBDYJXcc+Qj6mZVCh0D5CIjKVnWpfP0JggddTZs8/QvRLuTfpHEBCbDzSKHVVQEJTCMSJtpxAQieRJi3RzEBCWraNOi3xQELUjsd21vRAQr8Ih2PdLEFCYuqS7N9HQULUWTuRJJtBQiIl5/3TiUFCAatxLsfcQUITCGSvF/1BQuKNOJ/IA0JCRYGtu9oQQkJeTNfgxchBQv6p2vhV9kFCd2neCHgXQkL6VCTIYA5CQkgLUEoiUEJCTdzozSc9QkKcNBgLGYVCQpymlNMdf0JCIxuLXDvMQkKQ1JY4j+FCQtUJHIi4xUJC8XrkauFjQkK/rt0jOXBCQgpC2x4w70JCA6efpu/FQUJOdLnGi+NBQrxEvmAY7kFCbJA584kAQkKxMFbIT71BQlvdQv3gPEFCL/EXxi9CQULr3YIy4t1AQg==\",\"dtype\":\"float64\",\"order\":\"little\",\"shape\":[77]}},\"selected\":{\"id\":\"1734\"},\"selection_policy\":{\"id\":\"1733\"}},\"id\":\"1715\",\"type\":\"ColumnDataSource\"},{\"attributes\":{},\"id\":\"1702\",\"type\":\"WheelZoomTool\"},{\"attributes\":{\"line_alpha\":0.1,\"line_color\":\"#B53679\",\"line_width\":4,\"x\":{\"field\":\"x\"},\"y\":{\"field\":\"y\"}},\"id\":\"1741\",\"type\":\"Line\"},{\"attributes\":{},\"id\":\"1701\",\"type\":\"PanTool\"},{\"attributes\":{\"label\":{\"value\":\"1093 K at 0.01 bars\"},\"renderers\":[{\"id\":\"1762\"}]},\"id\":\"1780\",\"type\":\"LegendItem\"},{\"attributes\":{\"overlay\":{\"id\":\"1707\"}},\"id\":\"1703\",\"type\":\"BoxZoomTool\"},{\"attributes\":{\"data\":{\"x\":{\"__ndarray__\":\"l08LOMn7E0ALiK5Iy9kTQJYpSCsHuBNAZx1+fXyWE0CHmJ3dKnUTQEf/meoRVBNAjcoLRDEzE0ANby+KiBITQFdG5F0X8hJAwXmrYN3REkAq76Y02rESQJA3mHwNkhJAfH/f23ZyEkAxgXr2FVMSQK54A3HqMxJAehmw8PMUEkArhlAbMvYRQL1JTpek1xFAmlKrC0u5EUBl7wAgJZsRQH3NfnwyfRFAM/npyXJfEUC735ux5UERQMNSgd2KJBFAv40Z+GEHEUDbPHWsauoQQJiFNaakzRBACRGLkQ+xEEC6FzUbq5QQQCtvgPB2eBBA9ZhGv3JcEEB50+w1nkAQQDksYwP5JBBAsJMj14IJEECf5WHCdtwPQP6DLKREpg9AVUPLtW5wD0C56G5a9DoPQMr0UvbUBQ9A5t277g/RDkCKTfWppJwOQJdgUI+SaA5Ak+ohB9k0DkDwu8B6dwEOQCzrg1Rtzg1A5SDB/7mbDUDW5sroXGkNQLf57nxVNw1A5510KqMFDUAC95pgRdQMQDtil487owxAi9OTKIVyDEClNa2dIUIMQK3M8WEQEgxAsZtf6VDiC0DWzOKo4rILQEUcVBbFgwtAwUV3qPdUC0DsdPnWeSYLQC64bxpL+ApAUXZV7GrKCkCm5grH2JwKQNCL0yWUbwpAKLHUhJxCCkCq6hNh8RUKQHWXdTiS6QlA0ma7iX69CUDC34LUtZEJQAjrQ5k3ZglAsV9PWQM7CUAWks2WGBAJQFHlvNR25QhAHl/wlh27CEAqPg5iDJEIQM2SjrtCZwhAH9q5KcA9CEBwm6czhBQIQA==\",\"dtype\":\"float64\",\"order\":\"little\",\"shape\":[77]},\"y\":{\"__ndarray__\":\"2CEbxt9wKEJbjyDNP7coQpSjtAOZ/ShCkm4Q9uRDKUKToawNHYopQvvroZE60ClC4cwUpzYWKkKCGK1RClwqQv9uGXSuoSpCF9+e0BvnKkLt7bQJSywrQkc5rqI0cStCOedtANG1K0KlEypqGPorQqdnOwoDPixCAwT67oiBLEK75KcLosQsQj3eaDlGBy1CllJIOG1JLUIBt0ywDostQoL+mDIizC1Ci/mbOp8MLkIftU0vfUwuQhrfemSziy5CETAeHDnKLkIq1ceHBQgvQu7OEsoPRS9CyzMo+E6BL0IuP1AburwvQpoPkTJI9y9Cj3ctGngYMEL9/SCI1DQwQpR/Yti0UDBCRJyQfhRsMEIacJnt7oYwQjkLsZg/oTBCqPlN9AG7MEK/ryt3MdQwQsasUpvJ7DBCkCAm38UEMUKp3XbGIRwxQoJdm9vYMjFCJpiMsOZIMULNbAfgRl4xQlZVsg71cjFCmBlH7OyGMULRNMA0KpoxQpuaibGorDFCXoW0OmS+MUIP9C24WM8xQsZ59yKC3zFCNP1hhtzuMULtAkoBZP0xQu0ZVccUCzJCdP0vIusXMkJx/cxy4yMyQqY5ojL6LjJC4jnn9Cs5MkJpatFndUIyQjsAz1XTSjJC7sa/pkJSMkLvVithwFgyQs8wdKtJXjJCJjgHzdtiMkJ5BocvdGYyQoaN8l8QaTJC3H3GD65qMkKl5hgWS2syQoGBrnDlajJCsh0JRXtpMkJGnG7hCmcyQvrv572SYzJCGJM3fRFfMkL75cbthVkyQjHqiQrvUjJC6M7Y+0tLMkLFxD4YnEIyQg==\",\"dtype\":\"float64\",\"order\":\"little\",\"shape\":[77]}},\"selected\":{\"id\":\"1736\"},\"selection_policy\":{\"id\":\"1735\"}},\"id\":\"1720\",\"type\":\"ColumnDataSource\"},{\"attributes\":{},\"id\":\"1735\",\"type\":\"UnionRenderers\"},{\"attributes\":{\"line_width\":4,\"x\":{\"field\":\"x\"},\"y\":{\"field\":\"y\"}},\"id\":\"1716\",\"type\":\"Line\"},{\"attributes\":{},\"id\":\"1704\",\"type\":\"SaveTool\"},{\"attributes\":{},\"id\":\"1736\",\"type\":\"Selection\"},{\"attributes\":{},\"id\":\"1705\",\"type\":\"ResetTool\"},{\"attributes\":{\"label\":{\"value\":\"1007 K at 0.001 bars\"},\"renderers\":[{\"id\":\"1742\"}]},\"id\":\"1758\",\"type\":\"LegendItem\"},{\"attributes\":{\"source\":{\"id\":\"1715\"}},\"id\":\"1719\",\"type\":\"CDSView\"},{\"attributes\":{\"line_alpha\":0.1,\"line_width\":4,\"x\":{\"field\":\"x\"},\"y\":{\"field\":\"y\"}},\"id\":\"1717\",\"type\":\"Line\"},{\"attributes\":{},\"id\":\"1778\",\"type\":\"UnionRenderers\"},{\"attributes\":{},\"id\":\"1779\",\"type\":\"Selection\"},{\"attributes\":{\"ticker\":null},\"id\":\"1727\",\"type\":\"LogTickFormatter\"},{\"attributes\":{\"line_alpha\":0.5,\"line_color\":\"#000003\",\"line_width\":4,\"x\":{\"field\":\"x\"},\"y\":{\"field\":\"y\"}},\"id\":\"1721\",\"type\":\"Line\"},{\"attributes\":{},\"id\":\"1728\",\"type\":\"AllLabels\"},{\"attributes\":{\"source\":{\"id\":\"1720\"}},\"id\":\"1724\",\"type\":\"CDSView\"},{\"attributes\":{\"ticker\":null},\"id\":\"1730\",\"type\":\"LogTickFormatter\"},{\"attributes\":{},\"id\":\"1756\",\"type\":\"UnionRenderers\"},{\"attributes\":{\"label\":{\"value\":\"907 K at 0.0001 bars\"},\"renderers\":[{\"id\":\"1723\"}]},\"id\":\"1738\",\"type\":\"LegendItem\"},{\"attributes\":{},\"id\":\"1731\",\"type\":\"AllLabels\"},{\"attributes\":{\"items\":[{\"id\":\"1738\"},{\"id\":\"1758\"},{\"id\":\"1780\"}]},\"id\":\"1737\",\"type\":\"Legend\"},{\"attributes\":{},\"id\":\"1757\",\"type\":\"Selection\"},{\"attributes\":{\"line_alpha\":0.1,\"line_color\":\"#000003\",\"line_width\":4,\"x\":{\"field\":\"x\"},\"y\":{\"field\":\"y\"}},\"id\":\"1722\",\"type\":\"Line\"},{\"attributes\":{\"data_source\":{\"id\":\"1720\"},\"glyph\":{\"id\":\"1721\"},\"hover_glyph\":null,\"muted_glyph\":null,\"nonselection_glyph\":{\"id\":\"1722\"},\"view\":{\"id\":\"1724\"}},\"id\":\"1723\",\"type\":\"GlyphRenderer\"},{\"attributes\":{\"bottom_units\":\"screen\",\"fill_alpha\":0.5,\"fill_color\":\"lightgrey\",\"left_units\":\"screen\",\"level\":\"overlay\",\"line_alpha\":1.0,\"line_color\":\"black\",\"line_dash\":[4,4],\"line_width\":2,\"right_units\":\"screen\",\"syncable\":false,\"top_units\":\"screen\"},\"id\":\"1707\",\"type\":\"BoxAnnotation\"},{\"attributes\":{\"text\":\"Outgoing Thermal Radiation\"},\"id\":\"1683\",\"type\":\"Title\"},{\"attributes\":{\"data_source\":{\"id\":\"1715\"},\"glyph\":{\"id\":\"1716\"},\"hover_glyph\":null,\"muted_glyph\":null,\"nonselection_glyph\":{\"id\":\"1717\"},\"view\":{\"id\":\"1719\"}},\"id\":\"1718\",\"type\":\"GlyphRenderer\"},{\"attributes\":{},\"id\":\"1685\",\"type\":\"DataRange1d\"},{\"attributes\":{},\"id\":\"1691\",\"type\":\"LogScale\"},{\"attributes\":{},\"id\":\"1733\",\"type\":\"UnionRenderers\"},{\"attributes\":{\"axis_label\":\"Flux (erg/s/cm^3)\",\"formatter\":{\"id\":\"1727\"},\"major_label_policy\":{\"id\":\"1728\"},\"ticker\":{\"id\":\"1698\"}},\"id\":\"1697\",\"type\":\"LogAxis\"},{\"attributes\":{},\"id\":\"1687\",\"type\":\"DataRange1d\"},{\"attributes\":{},\"id\":\"1734\",\"type\":\"Selection\"},{\"attributes\":{},\"id\":\"1689\",\"type\":\"LogScale\"},{\"attributes\":{\"axis_label\":\"Wavelength [\\u03bcm]\",\"formatter\":{\"id\":\"1730\"},\"major_label_policy\":{\"id\":\"1731\"},\"ticker\":{\"id\":\"1694\"}},\"id\":\"1693\",\"type\":\"LogAxis\"},{\"attributes\":{\"num_minor_ticks\":10},\"id\":\"1694\",\"type\":\"LogTicker\"},{\"attributes\":{\"source\":{\"id\":\"1759\"}},\"id\":\"1763\",\"type\":\"CDSView\"},{\"attributes\":{\"axis\":{\"id\":\"1693\"},\"ticker\":null},\"id\":\"1696\",\"type\":\"Grid\"},{\"attributes\":{\"source\":{\"id\":\"1739\"}},\"id\":\"1743\",\"type\":\"CDSView\"},{\"attributes\":{\"line_alpha\":0.1,\"line_color\":\"#FBFCBF\",\"line_width\":4,\"x\":{\"field\":\"x\"},\"y\":{\"field\":\"y\"}},\"id\":\"1761\",\"type\":\"Line\"},{\"attributes\":{\"data_source\":{\"id\":\"1739\"},\"glyph\":{\"id\":\"1740\"},\"hover_glyph\":null,\"muted_glyph\":null,\"nonselection_glyph\":{\"id\":\"1741\"},\"view\":{\"id\":\"1743\"}},\"id\":\"1742\",\"type\":\"GlyphRenderer\"},{\"attributes\":{},\"id\":\"1706\",\"type\":\"HelpTool\"},{\"attributes\":{\"line_alpha\":0.5,\"line_color\":\"#FBFCBF\",\"line_width\":4,\"x\":{\"field\":\"x\"},\"y\":{\"field\":\"y\"}},\"id\":\"1760\",\"type\":\"Line\"},{\"attributes\":{\"data_source\":{\"id\":\"1759\"},\"glyph\":{\"id\":\"1760\"},\"hover_glyph\":null,\"muted_glyph\":null,\"nonselection_glyph\":{\"id\":\"1761\"},\"view\":{\"id\":\"1763\"}},\"id\":\"1762\",\"type\":\"GlyphRenderer\"},{\"attributes\":{\"data\":{\"x\":{\"__ndarray__\":\"l08LOMn7E0ALiK5Iy9kTQJYpSCsHuBNAZx1+fXyWE0CHmJ3dKnUTQEf/meoRVBNAjcoLRDEzE0ANby+KiBITQFdG5F0X8hJAwXmrYN3REkAq76Y02rESQJA3mHwNkhJAfH/f23ZyEkAxgXr2FVMSQK54A3HqMxJAehmw8PMUEkArhlAbMvYRQL1JTpek1xFAmlKrC0u5EUBl7wAgJZsRQH3NfnwyfRFAM/npyXJfEUC735ux5UERQMNSgd2KJBFAv40Z+GEHEUDbPHWsauoQQJiFNaakzRBACRGLkQ+xEEC6FzUbq5QQQCtvgPB2eBBA9ZhGv3JcEEB50+w1nkAQQDksYwP5JBBAsJMj14IJEECf5WHCdtwPQP6DLKREpg9AVUPLtW5wD0C56G5a9DoPQMr0UvbUBQ9A5t277g/RDkCKTfWppJwOQJdgUI+SaA5Ak+ohB9k0DkDwu8B6dwEOQCzrg1Rtzg1A5SDB/7mbDUDW5sroXGkNQLf57nxVNw1A5510KqMFDUAC95pgRdQMQDtil487owxAi9OTKIVyDEClNa2dIUIMQK3M8WEQEgxAsZtf6VDiC0DWzOKo4rILQEUcVBbFgwtAwUV3qPdUC0DsdPnWeSYLQC64bxpL+ApAUXZV7GrKCkCm5grH2JwKQNCL0yWUbwpAKLHUhJxCCkCq6hNh8RUKQHWXdTiS6QlA0ma7iX69CUDC34LUtZEJQAjrQ5k3ZglAsV9PWQM7CUAWks2WGBAJQFHlvNR25QhAHl/wlh27CEAqPg5iDJEIQM2SjrtCZwhAH9q5KcA9CEBwm6czhBQIQA==\",\"dtype\":\"float64\",\"order\":\"little\",\"shape\":[77]},\"y\":{\"__ndarray__\":\"ev7t9aanNUKXG7rA3fc1QrB1C8WpSDZCSOxTqgeaNkKUEOvv8+s2Qpy/gexqPjdCjmCazWiRN0KyGAaX6eQ3QhhIZyLpODhCu6O5HmONOEJTQ+APU+I4QvH5OU60NzlCX1I8BoKNOUJAiRU4t+M5QvvfVbdOOjpC3aOgKkOROkJ+R2ULj+g6QvnqoKUsQDtCLLKoFxaYO0JBR/1RRfA7Qj7pJxe0SDxCA2ah+1uhPEI5X8NlNvo8Quw5xI08Uz1CRxi+fWesPUJ2PMERsAU+Quky8vcOXz5CNyK0sHy4PkKknN+O8RE/QjVQBrhlaz9CU+7DJNHEP0J1Uo7QFQ9AQtK/dGa2O0BCQIMpDkZoQEJYNi1swJRAQiTQuA8hwUBCe0QRc2PtQELw3+L7ghlBQtOEpPt6RUFC9+oCsEZxQULcAlRD4ZxBQr6aEs1FyEFCq2FiUm/zQULIYpzGWB5CQsAQ5Av9SEJCZPbE81ZzQkIXH9k/YZ1CQkpHeKIWx0JCm+Fvv3HwQkLU+sMsbRlDQocDeXMDQkNCxYJmEC9qQ0IkshJ16pFDQo3/lggwuUNCrG2NKPrfQ0JHyAYqQwZEQnqdiVoFLERCx+gZATtRREKlWUlf3nVEQlsZULLpmURCSPEtNFe9REL+rNMcIeBEQuaPVKNBAkVC3bAf/7IjRULeCUFpb0RFQi8Fqh1xZEVC80uBXLKDRUITlnlrLaJFQrg1L5fcv0VC8ROMNLrcRUL5zjGiwPhFQsml6UnqE0ZCBtcZojEuRkI7FUAvkUdGQv+rcIUDYEZCWO7ZSYN3RkLof0s0C45GQg==\",\"dtype\":\"float64\",\"order\":\"little\",\"shape\":[77]}},\"selected\":{\"id\":\"1779\"},\"selection_policy\":{\"id\":\"1778\"}},\"id\":\"1759\",\"type\":\"ColumnDataSource\"},{\"attributes\":{\"axis\":{\"id\":\"1697\"},\"dimension\":1,\"ticker\":null},\"id\":\"1700\",\"type\":\"Grid\"}],\"root_ids\":[\"1682\"]},\"title\":\"Bokeh Application\",\"version\":\"2.3.3\"}};\n",
       "  var render_items = [{\"docid\":\"754b3b8c-2e26-45a6-bf7b-d20c883569a0\",\"root_ids\":[\"1682\"],\"roots\":{\"1682\":\"1c7f8fac-4830-4a07-8597-39c3089eaaa5\"}}];\n",
       "  root.Bokeh.embed.embed_items_notebook(docs_json, render_items);\n",
       "\n",
       "  }\n",
       "  if (root.Bokeh !== undefined) {\n",
       "    embed_document(root);\n",
       "  } else {\n",
       "    var attempts = 0;\n",
       "    var timer = setInterval(function(root) {\n",
       "      if (root.Bokeh !== undefined) {\n",
       "        clearInterval(timer);\n",
       "        embed_document(root);\n",
       "      } else {\n",
       "        attempts++;\n",
       "        if (attempts > 100) {\n",
       "          clearInterval(timer);\n",
       "          console.log(\"Bokeh: ERROR: Unable to run BokehJS code because BokehJS library is missing\");\n",
       "        }\n",
       "      }\n",
       "    }, 10, root)\n",
       "  }\n",
       "})(window);"
      ],
      "application/vnd.bokehjs_exec.v0+json": ""
     },
     "metadata": {
      "application/vnd.bokehjs_exec.v0+json": {
       "id": "1682"
      }
     },
     "output_type": "display_data"
    }
   ],
   "source": [
    "jpi.show(jpi.flux_at_top(df, pressures=[1e-4, 1e-3, 1e-2], R=150,  plot_width=500, plot_height=400))"
   ]
  },
  {
   "cell_type": "markdown",
   "metadata": {},
   "source": [
    "## Thermal Contribution Function\n",
    "\n",
    "Contribution functions give us an understanding of where pressures flux is being emitted (e.g. [Lothringer et al 2018](https://iopscience.iop.org/article/10.3847/1538-4357/aadd9e#apjaadd9es3-3-1) Figure 12) "
   ]
  },
  {
   "cell_type": "code",
   "execution_count": 7,
   "metadata": {},
   "outputs": [
    {
     "data": {
      "image/png": "[encoded data removed]",
      "text/plain": [
       "<Figure size 432x288 with 2 Axes>"
      ]
     },
     "metadata": {
      "needs_background": "light"
     },
     "output_type": "display_data"
    }
   ],
   "source": [
    "fig, ax, CF = jpi.thermal_contribution(df['full_output'], norm=jpi.colors.LogNorm(vmin=1e10, vmax=1e14))"
   ]
  },
  {
   "cell_type": "code",
   "execution_count": null,
   "metadata": {},
   "outputs": [],
   "source": []
  }
 ],
 "metadata": {
  "kernelspec": {
   "display_name": "Python 3 (ipykernel)",
   "language": "python",
   "name": "python3"
  },
  "language_info": {
   "codemirror_mode": {
    "name": "ipython",
    "version": 3
   },
   "file_extension": ".py",
   "mimetype": "text/x-python",
   "name": "python",
   "nbconvert_exporter": "python",
   "pygments_lexer": "ipython3",
   "version": "3.8.12"
  },
  "toc": {
   "base_numbering": 1,
   "nav_menu": {},
   "number_sections": true,
   "sideBar": true,
   "skip_h1_title": false,
   "title_cell": "Table of Contents",
   "title_sidebar": "Contents",
   "toc_cell": true,
   "toc_position": {},
   "toc_section_display": true,
   "toc_window_display": false
  }
 },
 "nbformat": 4,
 "nbformat_minor": 2
}
