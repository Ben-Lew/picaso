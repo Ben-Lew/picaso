{
 "cells": [
  {
   "cell_type": "markdown",
   "id": "772bda22-c7ca-493e-945c-225421b3b8d0",
   "metadata": {},
   "source": [
    "# Creating a Grid of Models to use with `GridFitter`\n",
    "\n",
    "Author:  Dominic Doud (NASA Ames Research Center)"
   ]
  },
  {
   "cell_type": "markdown",
   "id": "5da93e79-2881-4fe0-9e91-ef35ef520a78",
   "metadata": {},
   "source": [
    "You should already be familiar with:  \n",
    "- how to output create a climate model \n",
    "- how to post process a high resolution spectral model from that climate model\n",
    "- xarray file formats\n",
    "- It is **very important you already understand how to analyze and diagnose the valididy of climate models**. Here we will use a streamlined function to trigger the creation of many models. However, there is always a chance that some of the climate runs do not converge. Therefore, it is important to you go back and assess each of these models. \n",
    "\n",
    "The main goal of this notebook will be to create a mini mini grid of models that is on a function of :\n",
    "\n",
    "- Metallicity (mh)\n",
    "- Carbon to Oxygen Ratio (cto)\n",
    "- Heat redistribution (heat_redis)\n",
    "- Internal Heat (tint)\n",
    "\n",
    "Take a look at some papers which have created climate grids for recommendation on how to determine what values for each of these. Here in this notebook we will simply run two of each, just to show how the function works. \n",
    "\n",
    "- WASP-39 b (e.g. [Alderson et al 2023](https://ui.adsabs.harvard.edu/abs/2023Natur.614..664A/abstract))\n",
    "- WASP-17 b (e.g. [Grant et al 2023](https://ui.adsabs.harvard.edu/abs/2023ApJ...956L..32G/abstract))\n",
    "\n"
   ]
  },
  {
   "cell_type": "markdown",
   "id": "b396933b-9f7b-4152-95d7-2547b5e192ca",
   "metadata": {},
   "source": [
    "## Create function to run climates \n",
    "\n",
    "If you dont understand these inputs we encourage you to complete the basic climate tutorials first! "
   ]
  },
  {
   "cell_type": "code",
   "execution_count": null,
   "id": "4636e9f8-9c98-4db2-a9a0-0802e5c4d49f",
   "metadata": {},
   "outputs": [],
   "source": [
    "def run_climate(base_case_name, array_save_dir, mh, CtoO, \n",
    "                t_int, star_temp, star_metal, star_radius, \n",
    "                star_logg, semi_major, nlevel, nstr_upper,\n",
    "                rfacv, opacity_ph, teq, \n",
    "                planet_mass, planet_radius,\n",
    "                resume=False, nofczns=1):\n",
    "    #check if done already and want to skip:\n",
    "    #create file name\n",
    "    print(\"Running climate\")\n",
    "\n",
    "    #let's create a nice naming scheme based on our parameters\n",
    "    savefile=base_case_name+\"_climate_tint\"+str(t_int)+\"_rfacv\"+str(rfacv)+\"_mh\"+mh+\"_cto\"+CtoO+\".nc\"\n",
    "\n",
    "    #let's make sure we dont repeat ourselves if a file already exists \n",
    "    if (resume & os.path.exists(os.path.join(array_save_dir,'climate',savefile))): \n",
    "        print('Skipping',savefile,', file already exists')\n",
    "        return\n",
    "    else:\n",
    "        \n",
    "        #This is setting up the problem for a planet \n",
    "        case_name = jdi.inputs(calculation=\"planet\", climate = True)\n",
    "        case_name.star(opacity_ph, temp=star_temp,metal=star_metal,logg=star_logg,\n",
    "                        radius=star_radius, semi_major= semi_major ,\n",
    "                        database='phoenix', radius_unit = jdi.u.Unit('R_sun'), semi_major_unit = jdi.u.AU)\n",
    "        case_name.gravity(mass=planet_mass, mass_unit=jdi.u.Unit('M_jup'), \n",
    "                      radius=planet_radius, radius_unit=jdi.u.Unit('R_jup'))\n",
    "        case_name.effective_temp(t_int)\n",
    "\n",
    "        #setup mechanism to create initial guesses\n",
    "        pt = case_name.guillot_pt(teq, nlevel=nlevel, T_int = t_int, p_bottom=2, p_top=-6) \n",
    "        temp_guess = pt['temperature'].values \n",
    "        pressure = pt['pressure'].values\n",
    "    \n",
    "        #time to find convection zone. let's assume it always at depth\n",
    "        nstr_deep = nlevel -2 # this is always the case\n",
    "        nstr = np.array([0,nstr_upper,nstr_deep,0,0,0]) # initial guess of convective zones\n",
    "        \n",
    "        case_name.inputs_climate(temp_guess=temp_guess, pressure=pressure, \n",
    "                          nstr=nstr, nofczns=nofczns, rfacv=rfacv)\n",
    "\n",
    "        #here we are setting with_spec to False as we are going to do this ourselves later \n",
    "        out = case_name.climate(opacity_ph, save_all_profiles=True, with_spec=False) \n",
    "\n",
    "        #make folder if needed\n",
    "        print(\"Saving xarray: \" + savefile)\n",
    "        #in add output you can add any extra meta data fields you want to have in your xarray file\n",
    "        climate_xarray = jdi.output_xarray(df, case_name, add_output={'author': 'Awesome Scientist'}, \n",
    "                          savefile=os.path.join(array_save_dir,\"climate\",savefile))\n",
    "\n",
    "        return savefile,climate_xarray\n",
    "\n"
   ]
  },
  {
   "cell_type": "markdown",
   "id": "40f22a81-8ab4-47b2-841e-ca2fc62e410e",
   "metadata": {},
   "source": [
    "## Create Function to Post-Process High Res Spectra"
   ]
  },
  {
   "cell_type": "code",
   "execution_count": null,
   "id": "2f3ceb34-4123-410e-93f4-8fa6a383a9ab",
   "metadata": {},
   "outputs": [],
   "source": [
    "def hi_res_spec_xarr(savefile, climate_xarray, opacity_highres):\n",
    "    \n",
    "    #make sure we have the same naming system for this file\n",
    "    spec_savefile = savefile.replace('climate','spectra')\n",
    "    \n",
    "    #let's make sure we dont repeat ourselves if a file already exists \n",
    "    if (resume & os.path.exists(os.path.join(array_save_dir,'spectra',spec_savefile))): \n",
    "        print('Skipping',spec_savefile,', file already exists')\n",
    "        return\n",
    "    else:    \n",
    "        #we can directly input our climate xarray\n",
    "        hi_res = jdi.input_xarray(climate_xarray,opa_mon, calculation='planet')\n",
    "        #at this point you could consider post processing clouds if you wish! \n",
    "        #hi_res.clouds(... )\n",
    "        df_spec = hi_res.spectrum(opacity_highres, calculation='thermal+transmission', \n",
    "                                  full_output=True)\n",
    "        preserve_hires = jdi.output_xarray(df_spec, hi_res,\n",
    "                                  savefile=os.path.join(array_save_dir,\"spectra\",spec_savefile))\n",
    "        print('Done!', spec_savefile)"
   ]
  },
  {
   "cell_type": "code",
   "execution_count": null,
   "id": "91354990-7a29-4eac-85c2-2bcedff68a96",
   "metadata": {},
   "outputs": [],
   "source": [
    "import os\n",
    "from picaso import justdoit as jdi\n",
    "from picaso import justplotit as jpi\n",
    "import numpy as np"
   ]
  },
  {
   "cell_type": "markdown",
   "id": "31e3e458-628d-49f9-8236-6e597e78389f",
   "metadata": {},
   "source": [
    "## Set Inputs and Trigger Loop! "
   ]
  },
  {
   "cell_type": "code",
   "execution_count": null,
   "id": "c4da03f2-aeb6-41d1-b4c8-276be748d281",
   "metadata": {
    "scrolled": true
   },
   "outputs": [],
   "source": [
    "correlated_k_dir ='/data/kcoeff_2020_v3/' \n",
    "array_save_dir ='/data/test/tutorial'\n",
    "mh_list = ['+000', '+100'] \n",
    "CtoO_list = ['100', '250']\n",
    "rfacv_list=[0.5]\n",
    "t_int_list=[200, 300]\n",
    "\n",
    "#continue where left off? Or restart? \n",
    "resume=False\n",
    "\n",
    "#other variables\n",
    "base_case_name='wasp-39b' #tag name for filenames \n",
    "R=100 #resolution power\n",
    "\n",
    "#wav range for high res spectra \n",
    "min_wav=3\n",
    "max_wav=15\n",
    "\n",
    "nlevel = 91 # number of atmospheric layers we want\n",
    "nstr_upper = 85 #upper bound on first radiative convective boundary\n",
    "\n",
    "#planet/star params\n",
    "star_temp = 5400\n",
    "star_metal = 0.01\n",
    "star_radius = 0.9\n",
    "star_logg = 4.45\n",
    "\n",
    "wasp_mass=0.28\n",
    "wasp_radius=1.27\n",
    "teq=1120.55\n",
    "semi_major=0.0486\n",
    "\n",
    "#define what resampled opacities you want to use \n",
    "opacity_hires = jdi.opannection(wave_range=[min_wav,max_wav])\n",
    "\n",
    "\n",
    "#Trigger mega loop !\n",
    "for mh in mh_list:\n",
    "    for CtoO in CtoO_list:\n",
    "        for rfacv in rfacv_list:\n",
    "            for t_int in t_int_list:\n",
    "                #grab k table opacities\n",
    "                print(mh, CtoO,rfacv,t_int)\n",
    "                ph_db = os.path.join(\n",
    "                    correlated_k_dir,f'sonora_2020_feh{mh}_co_{CtoO}_noTiOVO.data.196')\n",
    "                print(ph_db)\n",
    "                opacity_ph = jdi.opannection(ck_db=ph_db)\n",
    "                #get climate xarray\n",
    "                savefile, climate_xarray = run_climate(base_case_name, array_save_dir, mh, CtoO, t_int, star_temp, star_metal,\n",
    "                            star_radius, star_logg, semi_major, nlevel, nstr_upper, rfacv, opacity_ph, teq=teq,\n",
    "                            planet_mass=wasp_mass, planet_radius=wasp_radius, resume=resume)\n",
    "                #get hi res xarray\n",
    "                hi_res_spec_xarr(savefile,climate_xarray, opacity_hires)"
   ]
  }
 ],
 "metadata": {
  "kernelspec": {
   "display_name": "Python 3 (ipykernel)",
   "language": "python",
   "name": "python3"
  },
  "language_info": {
   "codemirror_mode": {
    "name": "ipython",
    "version": 3
   },
   "file_extension": ".py",
   "mimetype": "text/x-python",
   "name": "python",
   "nbconvert_exporter": "python",
   "pygments_lexer": "ipython3",
   "version": "3.11.5"
  }
 },
 "nbformat": 4,
 "nbformat_minor": 5
}
