{
 "cells": [
  {
   "cell_type": "markdown",
   "metadata": {},
   "source": [
    "# One-Dimensional Climate Models: Brown Dwarfs w/ Disequilibrium Chemistry at Solar M/H and C/O\n",
    "\n",
    "In this tutorial you will learn how to run 1d climate models with the effects of disequilibrium chemistry as was done in [Mukherjee et al. 2022](https://ui.adsabs.harvard.edu/abs/2022arXiv220814317M/abstract) (note this should also be cited if using this code/tutorial). \n",
    "\n",
    "What you should already be familiar with: \n",
    "\n",
    "- [basics of running/analyzing thermal spectra](https://natashabatalha.github.io/picaso/tutorials.html#basics-of-thermal-emission)\n",
    "- [how to analyze thermal emission spectra](https://natashabatalha.github.io/picaso/notebooks/workshops/ERS2021/ThermalEmissionTutorial.html)\n",
    "- [how to run a basic 1d brown dwarf tutorial](https://natashabatalha.github.io/picaso/notebooks/climate/12a_BrownDwarf.html)\n",
    "\n",
    "\n",
    "What you will need to download to use this tutorial: \n",
    "\n",
    "1. [Download the m+0.0_co1.0.data.196](https://zenodo.org/record/6708165/files/m%2B0.0_co1.0.data.196.tar.zip?download=1) (28.4 Mb) 1060 196 Correlated-K table from Roxana Lupu to be used by the climate code for opacity. **This is an older version of the C-K tables used in the first two tutorials and you will only need the solar C/O and solar M/H file as we have not yet enabled any chemical composition**\n",
    "2. [Download](https://zenodo.org/record/5063476/files/structures_m%2B0.0.tar.gz?download=1) the sonora bobcat cloud free `structures_` file so that you can have a simple starting guess \n",
    "3. (Optional)[Download](http://perso.ens-lyon.fr/isabelle.baraffe/ATMO2020/ATMO_2020_models.tar.gz) the [Phillips et al. 2020](https://ui.adsabs.harvard.edu/abs/2020A%26A...637A..38P/abstract) models if you want to benchmark the diseq runs with an independent code\n",
    "\n"
   ]
  },
  {
   "cell_type": "code",
   "execution_count": 1,
   "metadata": {},
   "outputs": [],
   "source": [
    "import warnings\n",
    "warnings.filterwarnings('ignore')\n",
    "import picaso.justdoit as jdi\n",
    "import picaso.justplotit as jpi\n",
    "import astropy.units as u\n",
    "import numpy as np\n",
    "import matplotlib.pyplot as plt\n",
    "%matplotlib inline"
   ]
  },
  {
   "cell_type": "code",
   "execution_count": 2,
   "metadata": {},
   "outputs": [],
   "source": [
    "ck_db = f'/Users/nbatalh1/Documents/data/m+0.0_co1.0.data.196'\n",
    "\n",
    "#sonora bobcat cloud free structures file\n",
    "sonora_profile_db = '/Users/nbatalh1/Documents/data/sonora_bobcat/structures_m+0.0/'\n",
    "phillips_2020_db = '/Users/nbatalh1/Documents/data/ATMO_2020_models/'"
   ]
  },
  {
   "cell_type": "markdown",
   "metadata": {},
   "source": [
    "## Starting up the Run"
   ]
  },
  {
   "cell_type": "code",
   "execution_count": 3,
   "metadata": {},
   "outputs": [],
   "source": [
    "# Notice The keyword ck is set to True because you want to use the correlated-k opacities for your calculation\n",
    "# and not the line by line opacities\n",
    "opacity_ck = jdi.opannection(ck_db=ck_db) # grab your opacities"
   ]
  },
  {
   "cell_type": "markdown",
   "metadata": {},
   "source": [
    "This should all look familiar as it is the same steps taken for the regular brown dwarf run."
   ]
  },
  {
   "cell_type": "code",
   "execution_count": 4,
   "metadata": {},
   "outputs": [],
   "source": [
    "cl_run = jdi.inputs(calculation=\"browndwarf\", climate = True) # start a calculation \n",
    "\n",
    "#note you need to put the climate keyword to be True in order to do so\n",
    "# now you need to add these parameters to your calculation  \n",
    "\n",
    "teff= 700 # Effective Temperature of your Brown Dwarf in K\n",
    "grav = 3160 # Gravity of your brown dwarf in m/s/s \n",
    "\n",
    "cl_run.gravity(gravity=grav, gravity_unit=u.Unit('m/(s**2)')) # input gravity\n",
    "cl_run.effective_temp(teff) # input effective temperature"
   ]
  },
  {
   "cell_type": "markdown",
   "metadata": {},
   "source": [
    "## Initial T(P)  Guess \n",
    "\n",
    "All same as before"
   ]
  },
  {
   "cell_type": "code",
   "execution_count": 5,
   "metadata": {},
   "outputs": [],
   "source": [
    "nlevel = 91 # number of plane-parallel levels in your code\n",
    "\n",
    "#Lets set the max and min at 1e-4 bars and 500 bars\n",
    "\n",
    "#Pmin = 1e-4 #bars\n",
    "#Pmax = 500 #bars\n",
    "#pressure=np.logspace(np.log10(Pmin),np.log10(Pmax),nlevel) # set your pressure grid\n",
    "\n",
    "pressure_bobcat,temp_bobcat = np.loadtxt(jdi.os.path.join(\n",
    "                            sonora_profile_db,f\"t{teff}g{grav}nc_m0.0.dat\"),\n",
    "                            usecols=[1,2],unpack=True, skiprows = 1)\n",
    "kz = temp_bobcat*0 + 1e4\n",
    "self_consistent_kzz = False"
   ]
  },
  {
   "cell_type": "markdown",
   "metadata": {},
   "source": [
    "## Initial Convective Zone Guess\n",
    "\n",
    "This is all the same as the original Brown Dwarf tutorial. Here we will be a little more conservative with our convective zone guess as this is our first Disequilibrium run. "
   ]
  },
  {
   "cell_type": "code",
   "execution_count": 6,
   "metadata": {},
   "outputs": [],
   "source": [
    "nofczns = 1 # number of convective zones initially. Let's not play with this for now.\n",
    "\n",
    "nstr_upper = 86 # top most level of guessed convective zone (we are just guessing nlevel-5)\n",
    "nstr_deep = nlevel -2 # this is always the case. Dont change this\n",
    "nstr = np.array([0,nstr_upper,nstr_deep,0,0,0]) # initial guess of convective zones\n",
    "\n",
    "# Here are some other parameters needed for the code.\n",
    "rfacv = 0.0 #we are focused on a brown dwarf so let's keep this as is"
   ]
  },
  {
   "cell_type": "markdown",
   "metadata": {},
   "source": [
    "All the same here as well. "
   ]
  },
  {
   "cell_type": "code",
   "execution_count": 7,
   "metadata": {},
   "outputs": [],
   "source": [
    "cl_run.inputs_climate(temp_guess= temp_bobcat, pressure= pressure_bobcat, \n",
    "                      nstr = nstr, nofczns = nofczns , rfacv = rfacv)"
   ]
  },
  {
   "cell_type": "markdown",
   "metadata": {},
   "source": [
    "## Run the Climate Code with disequilibrium chemistry\n",
    "\n",
    "### Setting K$_{zz}$\n",
    "\n",
    "We will add one more concept which is the addition of  K$_{zz}$ [cm$^2$/s]. K$_{zz}$ is the eddy diffusion constant, which sets the strength of vertical mixing. In `PICASO` we have two options for  K$_{zz}$: \n",
    " \n",
    " 1. Constant value: sets a constant at every atmospheric layer\n",
    " 2. Self consistent (see Eqn. 27 and 28 in [Mukherjee et al 2022](https://arxiv.org/pdf/2208.07836.pdf))\n",
    "\n",
    "**New code parameters**: \n",
    "\n",
    "0. `diseq_chem=True` : First we will turn on disequilibrium chemistry\n",
    "1. `self_consistent_kzz` : (True/False) This solves self consistently for \n",
    "2. `save_all_kzz` : (True/False) Similar to `save_all_profiles` this saves your intermediate k_zz values if you are trying to solve for a `self_consistent_kzz=True`.\n",
    "3. `kz` : constant value if `self_consistent_kzz=False`\n",
    "\n",
    "### On the fly mixing \n",
    "\n",
    "In [Mukherjee et al. 2022](https://ui.adsabs.harvard.edu/abs/2022arXiv220814317M/abstract) on-the-fly mixing of CO, CH4, NH3, and H2O was considered. There are some important assumptions for version 1 that the user needs to be aware: \n",
    "\n",
    "1. We only allow solar C/O and solar M/H \n",
    "2. Only CO, CH4, NH3, and H2O will be mixed on the fly. \n",
    "\n",
    "Soon we will make this more flexible but want to make sure that V1 of the climate code is well-behaved for users before we open it up to all gases. "
   ]
  },
  {
   "cell_type": "code",
   "execution_count": 8,
   "metadata": {},
   "outputs": [
    {
     "name": "stdout",
     "output_type": "stream",
     "text": [
      "Iteration number  0 , min , max temp  220.37853535863343 2157.2023051116967 , flux balance  1.4321186537961034e-06\n",
      "Iteration number  1 , min , max temp  220.1017634936712 2157.186839743511 , flux balance  3.6298329124114754e-10\n",
      "In t_start: Converged Solution in iterations  1\n",
      "Big iteration is  220.1017634936712 0\n",
      "Iteration number  0 , min , max temp  220.5273270433216 2157.9067469165043 , flux balance  3.509789314204546e-08\n",
      "In t_start: Converged Solution in iterations  0\n",
      "Profile converged\n",
      "Iteration number  0 , min , max temp  220.58432395171542 2157.9960553146507 , flux balance  4.159136319763609e-09\n",
      "In t_start: Converged Solution in iterations  0\n",
      "Big iteration is  220.58432395171542 0\n",
      "Iteration number  0 , min , max temp  220.5915905689744 2158.005848583862 , flux balance  9.313327906959213e-10\n",
      "In t_start: Converged Solution in iterations  0\n",
      "Profile converged\n",
      "Iteration number  0 , min , max temp  220.5927368754032 2156.4807243401556 , flux balance  -6.426656068376268e-09\n",
      "In t_start: Converged Solution in iterations  0\n",
      "Big iteration is  220.5927368754032 0\n",
      "Iteration number  0 , min , max temp  220.59309558764093 2156.4960206378246 , flux balance  -6.927604207311125e-10\n",
      "In t_start: Converged Solution in iterations  0\n",
      "Profile converged\n",
      "final [ 0 85 89  0  0  0]\n",
      " We are already at a root, tolf , test =  5e-05 ,  1.0416278095895274e-05\n",
      "Big iteration is  220.59309558764093 0\n",
      " We are already at a root, tolf , test =  5e-05 ,  1.0416278095895274e-05\n",
      "Profile converged\n",
      "YAY ! ENDING WITH CONVERGENCE\n",
      "1 conv Zone, so making small adjustment\n",
      "New NSTR status is  [ 0 87 89  0  0  0]\n",
      "Quench Levels are CO, CO2, NH3, HCN, PH3  [78 71 81 77]\n",
      "PH3 quenched at level 76\n",
      "661\n",
      "DOING DISEQ CALCULATIONS NOW\n",
      "PH3 quenched at level 76\n",
      "Iteration number  0 , min , max temp  218.78817152839642 2169.462581086566 , flux balance  0.006635656735278115\n",
      "Iteration number  1 , min , max temp  219.0302750335384 2169.292389002253 , flux balance  4.116423508594511e-05\n",
      "Iteration number  2 , min , max temp  219.03152331183915 2169.2923258751466 , flux balance  8.664250980901208e-09\n",
      "In t_start: Converged Solution in iterations  2\n",
      "PH3 quenched at level 76\n",
      "Quench Levels are CO, CO2, NH3, HCN  [78 71 81 77]\n",
      "Big iteration is  219.03152331183915 0\n",
      "Iteration number  0 , min , max temp  216.98005505723333 2169.413515574907 , flux balance  0.0004489678204296811\n",
      "Iteration number  1 , min , max temp  216.95843384373327 2169.413997099951 , flux balance  2.078482956223567e-07\n",
      "In t_start: Converged Solution in iterations  1\n",
      "PH3 quenched at level 76\n",
      "Quench Levels are CO, CO2, NH3, HCN  [78 71 81 77]\n",
      "Profile converged\n",
      "PH3 quenched at level 76\n",
      "Iteration number  0 , min , max temp  216.1109710658991 2155.5363721608956 , flux balance  3.6509869944896474e-05\n",
      "In t_start: Converged Solution in iterations  0\n",
      "PH3 quenched at level 76\n",
      "Quench Levels are CO, CO2, NH3, HCN  [78 71 81 77]\n",
      "Big iteration is  216.1109710658991 0\n",
      "Iteration number  0 , min , max temp  215.8328757254892 2155.47022070135 , flux balance  3.346783782196641e-06\n",
      "In t_start: Converged Solution in iterations  0\n",
      "PH3 quenched at level 76\n",
      "Quench Levels are CO, CO2, NH3, HCN  [78 71 81 77]\n",
      "Profile converged\n",
      "PH3 quenched at level 76\n",
      "Iteration number  0 , min , max temp  215.74759826620328 2152.9694033044325 , flux balance  3.728234336089751e-07\n",
      "In t_start: Converged Solution in iterations  0\n",
      "PH3 quenched at level 76\n",
      "Quench Levels are CO, CO2, NH3, HCN  [78 71 81 77]\n",
      "Big iteration is  215.74759826620328 0\n",
      "Iteration number  0 , min , max temp  215.7228237997909 2152.9802019505855 , flux balance  5.843014471871784e-08\n",
      "In t_start: Converged Solution in iterations  0\n",
      "PH3 quenched at level 76\n",
      "Quench Levels are CO, CO2, NH3, HCN  [78 71 81 77]\n",
      "Profile converged\n",
      " convection zone status\n",
      "0 85 89 0 0 0\n",
      "1\n",
      "[ 0 72 72 72 85 89]\n",
      "PH3 quenched at level 76\n",
      "Iteration number  0 , min , max temp  215.7135920982338 2152.973377817694 , flux balance  4.0844698849861946e-07\n",
      "In t_start: Converged Solution in iterations  0\n",
      "PH3 quenched at level 76\n",
      "Quench Levels are CO, CO2, NH3, HCN  [78 71 81 77]\n",
      "Big iteration is  215.7135920982338 0\n",
      "Iteration number  0 , min , max temp  215.71235330879793 2152.9741149535203 , flux balance  -9.630964117809062e-09\n",
      "In t_start: Converged Solution in iterations  0\n",
      "PH3 quenched at level 76\n",
      "Quench Levels are CO, CO2, NH3, HCN  [78 71 81 77]\n",
      "Profile converged\n",
      "Grow Phase : Upper Zone\n",
      "[ 0 71 72 72 85 89]\n",
      "PH3 quenched at level 76\n",
      "Iteration number  0 , min , max temp  215.72916465435475 2152.9422988149654 , flux balance  2.011088016164654e-06\n",
      "In t_start: Converged Solution in iterations  0\n",
      "PH3 quenched at level 76\n",
      "Quench Levels are CO, CO2, NH3, HCN  [78 71 81 77]\n",
      "Big iteration is  215.72916465435475 0\n",
      "Iteration number  0 , min , max temp  215.73574451483316 2152.938680464692 , flux balance  -1.9834335154402686e-08\n",
      "In t_start: Converged Solution in iterations  0\n",
      "PH3 quenched at level 76\n",
      "Quench Levels are CO, CO2, NH3, HCN  [78 71 81 77]\n",
      "Profile converged\n",
      "[ 0 71 73 73 85 89]\n",
      "PH3 quenched at level 76\n",
      "Iteration number  0 , min , max temp  215.77554247634293 2152.8963984958036 , flux balance  2.222189078271006e-07\n",
      "In t_start: Converged Solution in iterations  0\n",
      "PH3 quenched at level 76\n",
      "Quench Levels are CO, CO2, NH3, HCN  [78 71 81 77]\n",
      "Big iteration is  215.77554247634293 0\n",
      "Iteration number  0 , min , max temp  215.785386984878 2152.8859101499274 , flux balance  -7.579754346594153e-08\n",
      "In t_start: Converged Solution in iterations  0\n",
      "PH3 quenched at level 76\n",
      "Quench Levels are CO, CO2, NH3, HCN  [78 71 81 77]\n",
      "Profile converged\n",
      "[ 0 70 73 73 85 89]\n",
      "PH3 quenched at level 76\n",
      "Iteration number  0 , min , max temp  215.8154952633034 2152.84119820506 , flux balance  -5.769850542663014e-07\n",
      "In t_start: Converged Solution in iterations  0\n",
      "PH3 quenched at level 76\n",
      "Quench Levels are CO, CO2, NH3, HCN  [78 71 81 77]\n",
      "Big iteration is  215.8154952633034 0\n",
      "Iteration number  0 , min , max temp  215.82995808844737 2152.8357632365064 , flux balance  -3.0722128018325394e-07\n",
      "In t_start: Converged Solution in iterations  0\n",
      "PH3 quenched at level 76\n",
      "Quench Levels are CO, CO2, NH3, HCN  [78 71 81 77]\n",
      "Profile converged\n",
      "[ 0 69 73 73 85 89]\n",
      "PH3 quenched at level 76\n",
      "Iteration number  0 , min , max temp  215.84584179366576 2152.8217507229097 , flux balance  -1.2466848467610948e-06\n",
      "In t_start: Converged Solution in iterations  0\n",
      "PH3 quenched at level 76\n",
      "Quench Levels are CO, CO2, NH3, HCN  [78 71 81 77]\n",
      "Big iteration is  215.84584179366576 0\n",
      "Iteration number  0 , min , max temp  215.85304529570928 2152.8220009530482 , flux balance  -2.692714055357418e-07\n",
      "In t_start: Converged Solution in iterations  0\n",
      "PH3 quenched at level 76\n",
      "Quench Levels are CO, CO2, NH3, HCN  [78 71 81 77]\n",
      "Profile converged\n",
      "[ 0 69 74 74 85 89]\n",
      "PH3 quenched at level 76\n",
      "Iteration number  0 , min , max temp  215.86504189701307 2152.831306168202 , flux balance  4.074836410709678e-06\n",
      "In t_start: Converged Solution in iterations  0\n",
      "PH3 quenched at level 76\n",
      "Quench Levels are CO, CO2, NH3, HCN  [78 71 81 77]\n",
      "Big iteration is  215.86504189701307 0\n",
      "Iteration number  0 , min , max temp  215.8674518370037 2152.8215821567373 , flux balance  1.057393790294071e-08\n",
      "In t_start: Converged Solution in iterations  0\n",
      "PH3 quenched at level 76\n",
      "Quench Levels are CO, CO2, NH3, HCN  [78 71 81 77]\n",
      "Profile converged\n",
      "[ 0 68 74 74 85 89]\n",
      "PH3 quenched at level 76\n",
      "Iteration number  0 , min , max temp  215.85304089732384 2152.864290379212 , flux balance  1.3985729391870582e-05\n",
      "In t_start: Converged Solution in iterations  0\n",
      "PH3 quenched at level 76\n",
      "Quench Levels are CO, CO2, NH3, HCN  [78 71 81 77]\n",
      "Big iteration is  215.85304089732384 0\n",
      "Iteration number  0 , min , max temp  215.84071285008454 2152.854557177782 , flux balance  1.3798711668259324e-06\n",
      "In t_start: Converged Solution in iterations  0\n",
      "PH3 quenched at level 76\n",
      "Quench Levels are CO, CO2, NH3, HCN  [78 71 81 77]\n",
      "Profile converged\n",
      "final [ 0 68 74 74 85 89]\n",
      "PH3 quenched at level 76\n",
      "Iteration number  0 , min , max temp  215.83777169476593 2152.8608431209677 , flux balance  5.277089327954568e-06\n",
      "In t_start: Converged Solution in iterations  0\n",
      "PH3 quenched at level 76\n",
      "Quench Levels are CO, CO2, NH3, HCN  [78 71 81 77]\n",
      "Big iteration is  215.83777169476593 0\n",
      "Iteration number  0 , min , max temp  215.83352440840727 2152.848839151562 , flux balance  2.3841208342611992e-07\n",
      "In t_start: Converged Solution in iterations  0\n",
      "PH3 quenched at level 76\n",
      "Quench Levels are CO, CO2, NH3, HCN  [78 71 81 77]\n"
     ]
    },
    {
     "name": "stdout",
     "output_type": "stream",
     "text": [
      "Profile converged\n",
      "YAY ! ENDING WITH CONVERGENCE\n",
      "PH3 quenched at level 76\n"
     ]
    }
   ],
   "source": [
    "out = cl_run.climate(opacity_ck, save_all_profiles=True,with_spec=True,\n",
    "                    diseq_chem=True, kz=kz)"
   ]
  },
  {
   "cell_type": "code",
   "execution_count": 11,
   "metadata": {},
   "outputs": [
    {
     "data": {
      "text/plain": [
       "dict_keys(['diseq_out', 'pressure', 'temperature', 'ptchem_df', 'dtdp', 'cvz_locs', 'flux', 'all_profiles', 'spectrum_output'])"
      ]
     },
     "execution_count": 11,
     "metadata": {},
     "output_type": "execute_result"
    }
   ],
   "source": [
    "out.keys()"
   ]
  },
  {
   "cell_type": "markdown",
   "metadata": {},
   "source": [
    "## Benchmark with Phillips et al 2020\n",
    "With all model runs it is important to benchmark with previously published models, especially with an independent model. We can benchmark the PICASo runs with the work from [Phillips et al 2020](https://ui.adsabs.harvard.edu/abs/2020A%26A...637A..38P/abstract) to create the ATMO 2020 grid. "
   ]
  },
  {
   "cell_type": "code",
   "execution_count": 10,
   "metadata": {},
   "outputs": [
    {
     "data": {
      "text/plain": [
       "Text(0.5, 1.0, 'T$_{\\\\rm eff}$= 700 K, log(g)=5.5, K$_{\\\\rm zz}$=1e4')"
      ]
     },
     "execution_count": 10,
     "metadata": {},
     "output_type": "execute_result"
    },
    {
     "data": {
      "image/png": "[encoded data removed]",
      "text/plain": [
       "<Figure size 720x720 with 1 Axes>"
      ]
     },
     "metadata": {
      "needs_background": "light"
     },
     "output_type": "display_data"
    }
   ],
   "source": [
    "pphil_deq,tphil_deq = np.loadtxt(jdi.os.path.join(phillips_2020_db, \n",
    "                                              #phillips directory structre\n",
    "                                             'atmosphere_models','NEQ_strong_compositions',\n",
    "                                             'chem_T700_lg5.5_NEQ_strong.txt')\n",
    "                                ,usecols=[1,2],unpack=True)\n",
    "\n",
    "plt.figure(figsize=(10,10))\n",
    "plt.ylabel(\"Pressure [Bars]\", fontsize=25)\n",
    "plt.xlabel('Temperature [K]', fontsize=25)\n",
    "plt.ylim(500,1e-4)\n",
    "plt.xlim(100,2500)\n",
    "\n",
    "plt.semilogy(out['temperature'],out['pressure'],color=\"r\",linewidth=3,label=\"Our Run\")\n",
    "\n",
    "plt.semilogy(tphil_deq,pphil_deq,color=\"k\",linestyle=\"--\",linewidth=3,label=\"Phillips et al 2020\")\n",
    "\n",
    "\n",
    "plt.minorticks_on()\n",
    "plt.tick_params(axis='both',which='major',length =30, width=2,direction='in',labelsize=23)\n",
    "plt.tick_params(axis='both',which='minor',length =10, width=2,direction='in',labelsize=23)\n",
    "\n",
    "plt.legend(fontsize=15)\n",
    "\n",
    "plt.title(r\"T$_{\\rm eff}$= 700 K, log(g)=5.5, K$_{\\rm zz}$=1e4\",fontsize=25)\n",
    "\n"
   ]
  }
 ],
 "metadata": {
  "kernelspec": {
   "display_name": "Python 3 (ipykernel)",
   "language": "python",
   "name": "python3"
  },
  "language_info": {
   "codemirror_mode": {
    "name": "ipython",
    "version": 3
   },
   "file_extension": ".py",
   "mimetype": "text/x-python",
   "name": "python",
   "nbconvert_exporter": "python",
   "pygments_lexer": "ipython3",
   "version": "3.8.12"
  },
  "toc": {
   "base_numbering": 1,
   "nav_menu": {},
   "number_sections": true,
   "sideBar": true,
   "skip_h1_title": false,
   "title_cell": "Table of Contents",
   "title_sidebar": "Contents",
   "toc_cell": true,
   "toc_position": {},
   "toc_section_display": true,
   "toc_window_display": false
  }
 },
 "nbformat": 4,
 "nbformat_minor": 4
}
