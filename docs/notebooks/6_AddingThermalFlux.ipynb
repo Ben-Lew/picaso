{
 "cells": [
  {
   "cell_type": "markdown",
   "metadata": {},
   "source": [
    "# Computing Thermal Flux\n",
    "\n",
    "Computing thermal flux is pretty much the same deal as the reflected light. There are just a couple tweaks we will have to make in order to make sure we have the full set of info. "
   ]
  },
  {
   "cell_type": "code",
   "execution_count": null,
   "metadata": {},
   "outputs": [],
   "source": [
    "import warnings\n",
    "warnings.filterwarnings('ignore')\n",
    "import numpy as np\n",
    "import pandas as pd\n",
    "import astropy.units as u\n",
    "#picaso\n",
    "from picaso import justdoit as jdi \n",
    "from picaso import justplotit as jpi\n",
    "\n",
    "#plotting\n",
    "from bokeh.io import output_notebook\n",
    "from bokeh.layouts import column, row\n",
    "output_notebook()\n",
    "from bokeh.plotting import show"
   ]
  },
  {
   "cell_type": "markdown",
   "metadata": {},
   "source": [
    "We will use new Hot Jupiter template to guide us through the exercise. "
   ]
  },
  {
   "cell_type": "code",
   "execution_count": null,
   "metadata": {},
   "outputs": [],
   "source": [
    "opa = jdi.opannection()\n",
    "\n",
    "case1 = jdi.inputs()\n",
    "\n",
    "case1.phase_angle(0,num_gangle=8, num_tangle=2)\n",
    "\n",
    "\n",
    "#here we are going to have to specify gravity through R and M since we need it in the Flux calc\n",
    "case1.gravity(mass=1, mass_unit=u.Unit('M_jup'), radius=1.2, radius_unit=u.Unit('R_jup'))\n",
    "\n",
    "#here we are going to have to specify R as well\n",
    "case1.star(opa, 4000,0.0122,4.437,radius=0.7, radius_unit = u.Unit('R_sun') )\n",
    "\n",
    "#atmo\n",
    "case1.atmosphere(filename = jdi.HJ_pt(), delim_whitespace=True)\n",
    "case1.clouds(filename = jdi.HJ_cld(), delim_whitespace=True)"
   ]
  },
  {
   "cell_type": "markdown",
   "metadata": {},
   "source": [
    "## Return ``PICASO`` Full Ouput"
   ]
  },
  {
   "cell_type": "code",
   "execution_count": null,
   "metadata": {},
   "outputs": [],
   "source": [
    "wno,fpfs , fp, full_output= case1.spectrum(opa, full_output=True,calculation='thermal') #note the new last key "
   ]
  },
  {
   "cell_type": "markdown",
   "metadata": {},
   "source": [
    "## All the same plots work as before with reflected light\n",
    "\n",
    "### E.g. Mixing Ratios, PT"
   ]
  },
  {
   "cell_type": "code",
   "execution_count": null,
   "metadata": {},
   "outputs": [],
   "source": [
    "show(row(jpi.mixing_ratio(full_output), jpi.pt(full_output)))\n",
    "#can also input any key word argument acceptable for bokeh.figure: \n",
    "#show(jpi.mixing_ratio(full_output, plot_width=500, y_axis_type='linear',y_range=[10,1e-3])) "
   ]
  },
  {
   "cell_type": "markdown",
   "metadata": {},
   "source": [
    "## Standard Relative Flux Fp/Fs"
   ]
  },
  {
   "cell_type": "code",
   "execution_count": null,
   "metadata": {},
   "outputs": [],
   "source": [
    "show(jpi.spectrum(wno,fpfs*1e6,plot_width=500,y_axis_type='log'))"
   ]
  },
  {
   "cell_type": "markdown",
   "metadata": {},
   "source": [
    "## New plots specific to thermal\n",
    "\n",
    "### Thermal Flux Plot with Black Bodies\n",
    "\n",
    "This is a useful plot to see the interplay between the computed flux and blackbodies at various pressures along the PT profile. \n",
    "\n",
    "When you specify a pressure here, it will find the corresponding temperature along the PT profile and plot that blackbody. "
   ]
  },
  {
   "cell_type": "code",
   "execution_count": null,
   "metadata": {},
   "outputs": [],
   "source": [
    "show(jpi.flux_at_top(full_output, pressures=[1e-3, 1e-1], plot_width=500, plot_height=400))"
   ]
  },
  {
   "cell_type": "code",
   "execution_count": null,
   "metadata": {},
   "outputs": [],
   "source": []
  }
 ],
 "metadata": {
  "kernelspec": {
   "display_name": "Python 3",
   "language": "python",
   "name": "python3"
  },
  "language_info": {
   "codemirror_mode": {
    "name": "ipython",
    "version": 3
   },
   "file_extension": ".py",
   "mimetype": "text/x-python",
   "name": "python",
   "nbconvert_exporter": "python",
   "pygments_lexer": "ipython3",
   "version": "3.7.5"
  }
 },
 "nbformat": 4,
 "nbformat_minor": 2
}
