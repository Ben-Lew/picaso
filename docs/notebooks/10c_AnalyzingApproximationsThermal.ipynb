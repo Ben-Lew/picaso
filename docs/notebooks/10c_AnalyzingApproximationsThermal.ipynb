{
 "cells": [
  {
   "cell_type": "markdown",
   "metadata": {},
   "source": [
    "# Approximations for Spherical Harmonics Radiative Transfer in Thermal Emission \n",
    "\n",
    "In [Rooney et al 2023](add-link) we rigorously derive the spherical harmonics method for thermal emission and benchmark the 2-term and 4-term method (SH4) against [Toon et al. 1989](https://ui.adsabs.harvard.edu/abs/1989JGR....9416287T/abstract) and CDISORT. Here, we provide the code to reproduce the analysis that compares Toon89 with the higher fidelity 4-term spherical harmonics method for thermal emission spectroscopy. \n",
    "\n",
    "Note that all comparisons with `CDISORT` are precomputed following Rooney et al's calculations, which used [V1 opacities](https://zenodo.org/record/3759675#.Y_aJROzMI8Y). "
   ]
  },
  {
   "cell_type": "code",
   "execution_count": 1,
   "metadata": {},
   "outputs": [
    {
     "data": {
      "text/html": [
       "<style>\n",
       "        .bk-notebook-logo {\n",
       "            display: block;\n",
       "            width: 20px;\n",
       "            height: 20px;\n",
       "            background-image: url(data:image/png;base64,iVBORw0KGgoAAAANSUhEUgAAABQAAAAUCAYAAACNiR0NAAAABHNCSVQICAgIfAhkiAAAAAlwSFlzAAALEgAACxIB0t1+/AAAABx0RVh0U29mdHdhcmUAQWRvYmUgRmlyZXdvcmtzIENTNui8sowAAAOkSURBVDiNjZRtaJVlGMd/1/08zzln5zjP1LWcU9N0NkN8m2CYjpgQYQXqSs0I84OLIC0hkEKoPtiH3gmKoiJDU7QpLgoLjLIQCpEsNJ1vqUOdO7ppbuec5+V+rj4ctwzd8IIbbi6u+8f1539dt3A78eXC7QizUF7gyV1fD1Yqg4JWz84yffhm0qkFqBogB9rM8tZdtwVsPUhWhGcFJngGeWrPzHm5oaMmkfEg1usvLFyc8jLRqDOMru7AyC8saQr7GG7f5fvDeH7Ej8CM66nIF+8yngt6HWaKh7k49Soy9nXurCi1o3qUbS3zWfrYeQDTB/Qj6kX6Ybhw4B+bOYoLKCC9H3Nu/leUTZ1JdRWkkn2ldcCamzrcf47KKXdAJllSlxAOkRgyHsGC/zRday5Qld9DyoM4/q/rUoy/CXh3jzOu3bHUVZeU+DEn8FInkPBFlu3+nW3Nw0mk6vCDiWg8CeJaxEwuHS3+z5RgY+YBR6V1Z1nxSOfoaPa4LASWxxdNp+VWTk7+4vzaou8v8PN+xo+KY2xsw6une2frhw05CTYOmQvsEhjhWjn0bmXPjpE1+kplmmkP3suftwTubK9Vq22qKmrBhpY4jvd5afdRA3wGjFAgcnTK2s4hY0/GPNIb0nErGMCRxWOOX64Z8RAC4oCXdklmEvcL8o0BfkNK4lUg9HTl+oPlQxdNo3Mg4Nv175e/1LDGzZen30MEjRUtmXSfiTVu1kK8W4txyV6BMKlbgk3lMwYCiusNy9fVfvvwMxv8Ynl6vxoByANLTWplvuj/nF9m2+PDtt1eiHPBr1oIfhCChQMBw6Aw0UulqTKZdfVvfG7VcfIqLG9bcldL/+pdWTLxLUy8Qq38heUIjh4XlzZxzQm19lLFlr8vdQ97rjZVOLf8nclzckbcD4wxXMidpX30sFd37Fv/GtwwhzhxGVAprjbg0gCAEeIgwCZyTV2Z1REEW8O4py0wsjeloKoMr6iCY6dP92H6Vw/oTyICIthibxjm/DfN9lVz8IqtqKYLUXfoKVMVQVVJOElGjrnnUt9T9wbgp8AyYKaGlqingHZU/uG2NTZSVqwHQTWkx9hxjkpWDaCg6Ckj5qebgBVbT3V3NNXMSiWSDdGV3hrtzla7J+duwPOToIg42ChPQOQjspnSlp1V+Gjdged7+8UN5CRAV7a5EdFNwCjEaBR27b3W890TE7g24NAP/mMDXRWrGoFPQI9ls/MWO2dWFAar/xcOIImbbpA3zgAAAABJRU5ErkJggg==);\n",
       "        }\n",
       "    </style>\n",
       "    <div>\n",
       "        <a href=\"https://bokeh.org\" target=\"_blank\" class=\"bk-notebook-logo\"></a>\n",
       "        <span id=\"p1001\">Loading BokehJS ...</span>\n",
       "    </div>\n"
      ]
     },
     "metadata": {},
     "output_type": "display_data"
    },
    {
     "data": {
      "application/javascript": [
       "(function(root) {\n",
       "  function now() {\n",
       "    return new Date();\n",
       "  }\n",
       "\n",
       "  const force = true;\n",
       "\n",
       "  if (typeof root._bokeh_onload_callbacks === \"undefined\" || force === true) {\n",
       "    root._bokeh_onload_callbacks = [];\n",
       "    root._bokeh_is_loading = undefined;\n",
       "  }\n",
       "\n",
       "const JS_MIME_TYPE = 'application/javascript';\n",
       "  const HTML_MIME_TYPE = 'text/html';\n",
       "  const EXEC_MIME_TYPE = 'application/vnd.bokehjs_exec.v0+json';\n",
       "  const CLASS_NAME = 'output_bokeh rendered_html';\n",
       "\n",
       "  /**\n",
       "   * Render data to the DOM node\n",
       "   */\n",
       "  function render(props, node) {\n",
       "    const script = document.createElement(\"script\");\n",
       "    node.appendChild(script);\n",
       "  }\n",
       "\n",
       "  /**\n",
       "   * Handle when an output is cleared or removed\n",
       "   */\n",
       "  function handleClearOutput(event, handle) {\n",
       "    const cell = handle.cell;\n",
       "\n",
       "    const id = cell.output_area._bokeh_element_id;\n",
       "    const server_id = cell.output_area._bokeh_server_id;\n",
       "    // Clean up Bokeh references\n",
       "    if (id != null && id in Bokeh.index) {\n",
       "      Bokeh.index[id].model.document.clear();\n",
       "      delete Bokeh.index[id];\n",
       "    }\n",
       "\n",
       "    if (server_id !== undefined) {\n",
       "      // Clean up Bokeh references\n",
       "      const cmd_clean = \"from bokeh.io.state import curstate; print(curstate().uuid_to_server['\" + server_id + \"'].get_sessions()[0].document.roots[0]._id)\";\n",
       "      cell.notebook.kernel.execute(cmd_clean, {\n",
       "        iopub: {\n",
       "          output: function(msg) {\n",
       "            const id = msg.content.text.trim();\n",
       "            if (id in Bokeh.index) {\n",
       "              Bokeh.index[id].model.document.clear();\n",
       "              delete Bokeh.index[id];\n",
       "            }\n",
       "          }\n",
       "        }\n",
       "      });\n",
       "      // Destroy server and session\n",
       "      const cmd_destroy = \"import bokeh.io.notebook as ion; ion.destroy_server('\" + server_id + \"')\";\n",
       "      cell.notebook.kernel.execute(cmd_destroy);\n",
       "    }\n",
       "  }\n",
       "\n",
       "  /**\n",
       "   * Handle when a new output is added\n",
       "   */\n",
       "  function handleAddOutput(event, handle) {\n",
       "    const output_area = handle.output_area;\n",
       "    const output = handle.output;\n",
       "\n",
       "    // limit handleAddOutput to display_data with EXEC_MIME_TYPE content only\n",
       "    if ((output.output_type != \"display_data\") || (!Object.prototype.hasOwnProperty.call(output.data, EXEC_MIME_TYPE))) {\n",
       "      return\n",
       "    }\n",
       "\n",
       "    const toinsert = output_area.element.find(\".\" + CLASS_NAME.split(' ')[0]);\n",
       "\n",
       "    if (output.metadata[EXEC_MIME_TYPE][\"id\"] !== undefined) {\n",
       "      toinsert[toinsert.length - 1].firstChild.textContent = output.data[JS_MIME_TYPE];\n",
       "      // store reference to embed id on output_area\n",
       "      output_area._bokeh_element_id = output.metadata[EXEC_MIME_TYPE][\"id\"];\n",
       "    }\n",
       "    if (output.metadata[EXEC_MIME_TYPE][\"server_id\"] !== undefined) {\n",
       "      const bk_div = document.createElement(\"div\");\n",
       "      bk_div.innerHTML = output.data[HTML_MIME_TYPE];\n",
       "      const script_attrs = bk_div.children[0].attributes;\n",
       "      for (let i = 0; i < script_attrs.length; i++) {\n",
       "        toinsert[toinsert.length - 1].firstChild.setAttribute(script_attrs[i].name, script_attrs[i].value);\n",
       "        toinsert[toinsert.length - 1].firstChild.textContent = bk_div.children[0].textContent\n",
       "      }\n",
       "      // store reference to server id on output_area\n",
       "      output_area._bokeh_server_id = output.metadata[EXEC_MIME_TYPE][\"server_id\"];\n",
       "    }\n",
       "  }\n",
       "\n",
       "  function register_renderer(events, OutputArea) {\n",
       "\n",
       "    function append_mime(data, metadata, element) {\n",
       "      // create a DOM node to render to\n",
       "      const toinsert = this.create_output_subarea(\n",
       "        metadata,\n",
       "        CLASS_NAME,\n",
       "        EXEC_MIME_TYPE\n",
       "      );\n",
       "      this.keyboard_manager.register_events(toinsert);\n",
       "      // Render to node\n",
       "      const props = {data: data, metadata: metadata[EXEC_MIME_TYPE]};\n",
       "      render(props, toinsert[toinsert.length - 1]);\n",
       "      element.append(toinsert);\n",
       "      return toinsert\n",
       "    }\n",
       "\n",
       "    /* Handle when an output is cleared or removed */\n",
       "    events.on('clear_output.CodeCell', handleClearOutput);\n",
       "    events.on('delete.Cell', handleClearOutput);\n",
       "\n",
       "    /* Handle when a new output is added */\n",
       "    events.on('output_added.OutputArea', handleAddOutput);\n",
       "\n",
       "    /**\n",
       "     * Register the mime type and append_mime function with output_area\n",
       "     */\n",
       "    OutputArea.prototype.register_mime_type(EXEC_MIME_TYPE, append_mime, {\n",
       "      /* Is output safe? */\n",
       "      safe: true,\n",
       "      /* Index of renderer in `output_area.display_order` */\n",
       "      index: 0\n",
       "    });\n",
       "  }\n",
       "\n",
       "  // register the mime type if in Jupyter Notebook environment and previously unregistered\n",
       "  if (root.Jupyter !== undefined) {\n",
       "    const events = require('base/js/events');\n",
       "    const OutputArea = require('notebook/js/outputarea').OutputArea;\n",
       "\n",
       "    if (OutputArea.prototype.mime_types().indexOf(EXEC_MIME_TYPE) == -1) {\n",
       "      register_renderer(events, OutputArea);\n",
       "    }\n",
       "  }\n",
       "  if (typeof (root._bokeh_timeout) === \"undefined\" || force === true) {\n",
       "    root._bokeh_timeout = Date.now() + 5000;\n",
       "    root._bokeh_failed_load = false;\n",
       "  }\n",
       "\n",
       "  const NB_LOAD_WARNING = {'data': {'text/html':\n",
       "     \"<div style='background-color: #fdd'>\\n\"+\n",
       "     \"<p>\\n\"+\n",
       "     \"BokehJS does not appear to have successfully loaded. If loading BokehJS from CDN, this \\n\"+\n",
       "     \"may be due to a slow or bad network connection. Possible fixes:\\n\"+\n",
       "     \"</p>\\n\"+\n",
       "     \"<ul>\\n\"+\n",
       "     \"<li>re-rerun `output_notebook()` to attempt to load from CDN again, or</li>\\n\"+\n",
       "     \"<li>use INLINE resources instead, as so:</li>\\n\"+\n",
       "     \"</ul>\\n\"+\n",
       "     \"<code>\\n\"+\n",
       "     \"from bokeh.resources import INLINE\\n\"+\n",
       "     \"output_notebook(resources=INLINE)\\n\"+\n",
       "     \"</code>\\n\"+\n",
       "     \"</div>\"}};\n",
       "\n",
       "  function display_loaded() {\n",
       "    const el = document.getElementById(\"p1001\");\n",
       "    if (el != null) {\n",
       "      el.textContent = \"BokehJS is loading...\";\n",
       "    }\n",
       "    if (root.Bokeh !== undefined) {\n",
       "      if (el != null) {\n",
       "        el.textContent = \"BokehJS \" + root.Bokeh.version + \" successfully loaded.\";\n",
       "      }\n",
       "    } else if (Date.now() < root._bokeh_timeout) {\n",
       "      setTimeout(display_loaded, 100)\n",
       "    }\n",
       "  }\n",
       "\n",
       "  function run_callbacks() {\n",
       "    try {\n",
       "      root._bokeh_onload_callbacks.forEach(function(callback) {\n",
       "        if (callback != null)\n",
       "          callback();\n",
       "      });\n",
       "    } finally {\n",
       "      delete root._bokeh_onload_callbacks\n",
       "    }\n",
       "    console.debug(\"Bokeh: all callbacks have finished\");\n",
       "  }\n",
       "\n",
       "  function load_libs(css_urls, js_urls, callback) {\n",
       "    if (css_urls == null) css_urls = [];\n",
       "    if (js_urls == null) js_urls = [];\n",
       "\n",
       "    root._bokeh_onload_callbacks.push(callback);\n",
       "    if (root._bokeh_is_loading > 0) {\n",
       "      console.debug(\"Bokeh: BokehJS is being loaded, scheduling callback at\", now());\n",
       "      return null;\n",
       "    }\n",
       "    if (js_urls == null || js_urls.length === 0) {\n",
       "      run_callbacks();\n",
       "      return null;\n",
       "    }\n",
       "    console.debug(\"Bokeh: BokehJS not loaded, scheduling load and callback at\", now());\n",
       "    root._bokeh_is_loading = css_urls.length + js_urls.length;\n",
       "\n",
       "    function on_load() {\n",
       "      root._bokeh_is_loading--;\n",
       "      if (root._bokeh_is_loading === 0) {\n",
       "        console.debug(\"Bokeh: all BokehJS libraries/stylesheets loaded\");\n",
       "        run_callbacks()\n",
       "      }\n",
       "    }\n",
       "\n",
       "    function on_error(url) {\n",
       "      console.error(\"failed to load \" + url);\n",
       "    }\n",
       "\n",
       "    for (let i = 0; i < css_urls.length; i++) {\n",
       "      const url = css_urls[i];\n",
       "      const element = document.createElement(\"link\");\n",
       "      element.onload = on_load;\n",
       "      element.onerror = on_error.bind(null, url);\n",
       "      element.rel = \"stylesheet\";\n",
       "      element.type = \"text/css\";\n",
       "      element.href = url;\n",
       "      console.debug(\"Bokeh: injecting link tag for BokehJS stylesheet: \", url);\n",
       "      document.body.appendChild(element);\n",
       "    }\n",
       "\n",
       "    for (let i = 0; i < js_urls.length; i++) {\n",
       "      const url = js_urls[i];\n",
       "      const element = document.createElement('script');\n",
       "      element.onload = on_load;\n",
       "      element.onerror = on_error.bind(null, url);\n",
       "      element.async = false;\n",
       "      element.src = url;\n",
       "      console.debug(\"Bokeh: injecting script tag for BokehJS library: \", url);\n",
       "      document.head.appendChild(element);\n",
       "    }\n",
       "  };\n",
       "\n",
       "  function inject_raw_css(css) {\n",
       "    const element = document.createElement(\"style\");\n",
       "    element.appendChild(document.createTextNode(css));\n",
       "    document.body.appendChild(element);\n",
       "  }\n",
       "\n",
       "  const js_urls = [\"https://cdn.bokeh.org/bokeh/release/bokeh-3.0.3.min.js\", \"https://cdn.bokeh.org/bokeh/release/bokeh-gl-3.0.3.min.js\", \"https://cdn.bokeh.org/bokeh/release/bokeh-widgets-3.0.3.min.js\", \"https://cdn.bokeh.org/bokeh/release/bokeh-tables-3.0.3.min.js\", \"https://cdn.bokeh.org/bokeh/release/bokeh-mathjax-3.0.3.min.js\"];\n",
       "  const css_urls = [];\n",
       "\n",
       "  const inline_js = [    function(Bokeh) {\n",
       "      Bokeh.set_log_level(\"info\");\n",
       "    },\n",
       "function(Bokeh) {\n",
       "    }\n",
       "  ];\n",
       "\n",
       "  function run_inline_js() {\n",
       "    if (root.Bokeh !== undefined || force === true) {\n",
       "          for (let i = 0; i < inline_js.length; i++) {\n",
       "      inline_js[i].call(root, root.Bokeh);\n",
       "    }\n",
       "if (force === true) {\n",
       "        display_loaded();\n",
       "      }} else if (Date.now() < root._bokeh_timeout) {\n",
       "      setTimeout(run_inline_js, 100);\n",
       "    } else if (!root._bokeh_failed_load) {\n",
       "      console.log(\"Bokeh: BokehJS failed to load within specified timeout.\");\n",
       "      root._bokeh_failed_load = true;\n",
       "    } else if (force !== true) {\n",
       "      const cell = $(document.getElementById(\"p1001\")).parents('.cell').data().cell;\n",
       "      cell.output_area.append_execute_result(NB_LOAD_WARNING)\n",
       "    }\n",
       "  }\n",
       "\n",
       "  if (root._bokeh_is_loading === 0) {\n",
       "    console.debug(\"Bokeh: BokehJS loaded, going straight to plotting\");\n",
       "    run_inline_js();\n",
       "  } else {\n",
       "    load_libs(css_urls, js_urls, function() {\n",
       "      console.debug(\"Bokeh: BokehJS plotting callback run at\", now());\n",
       "      run_inline_js();\n",
       "    });\n",
       "  }\n",
       "}(window));"
      ],
      "application/vnd.bokehjs_load.v0+json": "(function(root) {\n  function now() {\n    return new Date();\n  }\n\n  const force = true;\n\n  if (typeof root._bokeh_onload_callbacks === \"undefined\" || force === true) {\n    root._bokeh_onload_callbacks = [];\n    root._bokeh_is_loading = undefined;\n  }\n\n\n  if (typeof (root._bokeh_timeout) === \"undefined\" || force === true) {\n    root._bokeh_timeout = Date.now() + 5000;\n    root._bokeh_failed_load = false;\n  }\n\n  const NB_LOAD_WARNING = {'data': {'text/html':\n     \"<div style='background-color: #fdd'>\\n\"+\n     \"<p>\\n\"+\n     \"BokehJS does not appear to have successfully loaded. If loading BokehJS from CDN, this \\n\"+\n     \"may be due to a slow or bad network connection. Possible fixes:\\n\"+\n     \"</p>\\n\"+\n     \"<ul>\\n\"+\n     \"<li>re-rerun `output_notebook()` to attempt to load from CDN again, or</li>\\n\"+\n     \"<li>use INLINE resources instead, as so:</li>\\n\"+\n     \"</ul>\\n\"+\n     \"<code>\\n\"+\n     \"from bokeh.resources import INLINE\\n\"+\n     \"output_notebook(resources=INLINE)\\n\"+\n     \"</code>\\n\"+\n     \"</div>\"}};\n\n  function display_loaded() {\n    const el = document.getElementById(\"p1001\");\n    if (el != null) {\n      el.textContent = \"BokehJS is loading...\";\n    }\n    if (root.Bokeh !== undefined) {\n      if (el != null) {\n        el.textContent = \"BokehJS \" + root.Bokeh.version + \" successfully loaded.\";\n      }\n    } else if (Date.now() < root._bokeh_timeout) {\n      setTimeout(display_loaded, 100)\n    }\n  }\n\n  function run_callbacks() {\n    try {\n      root._bokeh_onload_callbacks.forEach(function(callback) {\n        if (callback != null)\n          callback();\n      });\n    } finally {\n      delete root._bokeh_onload_callbacks\n    }\n    console.debug(\"Bokeh: all callbacks have finished\");\n  }\n\n  function load_libs(css_urls, js_urls, callback) {\n    if (css_urls == null) css_urls = [];\n    if (js_urls == null) js_urls = [];\n\n    root._bokeh_onload_callbacks.push(callback);\n    if (root._bokeh_is_loading > 0) {\n      console.debug(\"Bokeh: BokehJS is being loaded, scheduling callback at\", now());\n      return null;\n    }\n    if (js_urls == null || js_urls.length === 0) {\n      run_callbacks();\n      return null;\n    }\n    console.debug(\"Bokeh: BokehJS not loaded, scheduling load and callback at\", now());\n    root._bokeh_is_loading = css_urls.length + js_urls.length;\n\n    function on_load() {\n      root._bokeh_is_loading--;\n      if (root._bokeh_is_loading === 0) {\n        console.debug(\"Bokeh: all BokehJS libraries/stylesheets loaded\");\n        run_callbacks()\n      }\n    }\n\n    function on_error(url) {\n      console.error(\"failed to load \" + url);\n    }\n\n    for (let i = 0; i < css_urls.length; i++) {\n      const url = css_urls[i];\n      const element = document.createElement(\"link\");\n      element.onload = on_load;\n      element.onerror = on_error.bind(null, url);\n      element.rel = \"stylesheet\";\n      element.type = \"text/css\";\n      element.href = url;\n      console.debug(\"Bokeh: injecting link tag for BokehJS stylesheet: \", url);\n      document.body.appendChild(element);\n    }\n\n    for (let i = 0; i < js_urls.length; i++) {\n      const url = js_urls[i];\n      const element = document.createElement('script');\n      element.onload = on_load;\n      element.onerror = on_error.bind(null, url);\n      element.async = false;\n      element.src = url;\n      console.debug(\"Bokeh: injecting script tag for BokehJS library: \", url);\n      document.head.appendChild(element);\n    }\n  };\n\n  function inject_raw_css(css) {\n    const element = document.createElement(\"style\");\n    element.appendChild(document.createTextNode(css));\n    document.body.appendChild(element);\n  }\n\n  const js_urls = [\"https://cdn.bokeh.org/bokeh/release/bokeh-3.0.3.min.js\", \"https://cdn.bokeh.org/bokeh/release/bokeh-gl-3.0.3.min.js\", \"https://cdn.bokeh.org/bokeh/release/bokeh-widgets-3.0.3.min.js\", \"https://cdn.bokeh.org/bokeh/release/bokeh-tables-3.0.3.min.js\", \"https://cdn.bokeh.org/bokeh/release/bokeh-mathjax-3.0.3.min.js\"];\n  const css_urls = [];\n\n  const inline_js = [    function(Bokeh) {\n      Bokeh.set_log_level(\"info\");\n    },\nfunction(Bokeh) {\n    }\n  ];\n\n  function run_inline_js() {\n    if (root.Bokeh !== undefined || force === true) {\n          for (let i = 0; i < inline_js.length; i++) {\n      inline_js[i].call(root, root.Bokeh);\n    }\nif (force === true) {\n        display_loaded();\n      }} else if (Date.now() < root._bokeh_timeout) {\n      setTimeout(run_inline_js, 100);\n    } else if (!root._bokeh_failed_load) {\n      console.log(\"Bokeh: BokehJS failed to load within specified timeout.\");\n      root._bokeh_failed_load = true;\n    } else if (force !== true) {\n      const cell = $(document.getElementById(\"p1001\")).parents('.cell').data().cell;\n      cell.output_area.append_execute_result(NB_LOAD_WARNING)\n    }\n  }\n\n  if (root._bokeh_is_loading === 0) {\n    console.debug(\"Bokeh: BokehJS loaded, going straight to plotting\");\n    run_inline_js();\n  } else {\n    load_libs(css_urls, js_urls, function() {\n      console.debug(\"Bokeh: BokehJS plotting callback run at\", now());\n      run_inline_js();\n    });\n  }\n}(window));"
     },
     "metadata": {},
     "output_type": "display_data"
    }
   ],
   "source": [
    "import numpy as np\n",
    "import pandas as pd\n",
    "import astropy.units as u\n",
    "\n",
    "#picaso\n",
    "from picaso import justdoit as jdi \n",
    "from picaso import justplotit as jpi\n",
    "\n",
    "jpi.output_notebook()"
   ]
  },
  {
   "cell_type": "markdown",
   "metadata": {},
   "source": [
    "\n",
    "## Setting up Brown Dwarf Comparison\n",
    "\n",
    "Within the PICASO repository there exists a simple benchmark brown dwarf case that we used in the paper to compare the code. We will start by setting that up. "
   ]
  },
  {
   "cell_type": "code",
   "execution_count": 2,
   "metadata": {},
   "outputs": [],
   "source": [
    "wave_range = [.7,14]\n",
    "opa = jdi.opannection(wave_range=wave_range)#, resample=100)\n",
    "bd = jdi.inputs(calculation='browndwarf')\n",
    "\n",
    "bd.phase_angle(0)\n",
    "grav = 200\n",
    "bd.gravity(gravity=grav , gravity_unit=u.Unit('m/s**2'))\n",
    "bd.surface_reflect(0,opa.wno)\n",
    "\n",
    "#brown dwarf PT and CLD provide a pressure-temperature profile and cloud profile \n",
    "#from a standard brown dwarf case with Teff~1270 K and fsed = 1 courtesy of C. Morley @ UT Austin\n",
    "bd.atmosphere(filename=jdi.brown_dwarf_pt(), delim_whitespace=True)\n",
    "bd.clouds(filename=jdi.brown_dwarf_cld(), delim_whitespace=True)\n"
   ]
  },
  {
   "cell_type": "markdown",
   "metadata": {},
   "source": [
    "### Using the `jdi.approx` function to setup different test cases\n",
    "\n",
    "Similar to the reflected light problem, we can use the `approx` key to setup different methods of computing the thermal radiative transfer"
   ]
  },
  {
   "cell_type": "code",
   "execution_count": 3,
   "metadata": {},
   "outputs": [
    {
     "name": "stderr",
     "output_type": "stream",
     "text": [
      "/Users/nbatalh1/Documents/codes/PICASO/picaso/picaso/atmsetup.py:190: UserWarning: Ignoring LVL in input file, not a recognized molecule\n",
      "  warnings.warn(\"Ignoring %s in input file, not a recognized molecule\" % i, UserWarning)\n",
      "/Users/nbatalh1/Documents/codes/PICASO/picaso/picaso/atmsetup.py:190: UserWarning: Ignoring MUXX in input file, not a recognized molecule\n",
      "  warnings.warn(\"Ignoring %s in input file, not a recognized molecule\" % i, UserWarning)\n",
      "/Users/nbatalh1/Documents/codes/PICASO/picaso/picaso/atmsetup.py:190: UserWarning: Ignoring LVL in input file, not a recognized molecule\n",
      "  warnings.warn(\"Ignoring %s in input file, not a recognized molecule\" % i, UserWarning)\n",
      "/Users/nbatalh1/Documents/codes/PICASO/picaso/picaso/atmsetup.py:190: UserWarning: Ignoring MUXX in input file, not a recognized molecule\n",
      "  warnings.warn(\"Ignoring %s in input file, not a recognized molecule\" % i, UserWarning)\n"
     ]
    }
   ],
   "source": [
    "dfs = []; labels = []; \n",
    "# PICASO Original Methodology using Toon source function technique \n",
    "dfs += [bd.spectrum(opa, full_output=True, \n",
    "                    calculation='thermal')\n",
    "       ]; labels += [\"PICASO Toon89\"]\n",
    "\n",
    "# 2-term Spherical harmonics\n",
    "bd.approx(rt_method = 'SH', stream=2)\n",
    "two_lin = bd.spectrum(opa, full_output=True, \n",
    "                      calculation='thermal')\n",
    "dfs += [two_lin]; labels += [\"SH2\"]\n",
    "\n",
    "# 4-term Spherical Harmonics\n",
    "bd.approx(rt_method = 'SH', stream=4)\n",
    "four_lin = bd.spectrum(opa, full_output=True, \n",
    "                       calculation='thermal')\n",
    "dfs += [four_lin]; labels += [\"SH4\"]\n"
   ]
  },
  {
   "cell_type": "markdown",
   "metadata": {},
   "source": [
    "Simple regridding and plotting, as we normally do"
   ]
  },
  {
   "cell_type": "code",
   "execution_count": 4,
   "metadata": {},
   "outputs": [],
   "source": [
    "xs = []; ys = []; labs = [];\n",
    "for df, i in zip(dfs, range(len(dfs))):\n",
    "    x,y = df['wavenumber'], df['thermal'] #units of erg/cm2/s/cm\n",
    "    xflux,yflux = jdi.mean_regrid(x, y, R=150)\n",
    "    xs += [xflux]\n",
    "    ys += [yflux]\n",
    "    labs += [labels[i]]"
   ]
  },
  {
   "cell_type": "markdown",
   "metadata": {},
   "source": [
    "### External Testing with `CDISROT` for Validation\n",
    "\n",
    "Reproduction of Figure 2b, Rooney et al. \n",
    "\n",
    "In Rooney et al., we tested `PICASO` against a higher order code, `CDISORT`. Here is a code snippet to grab it from the code base"
   ]
  },
  {
   "cell_type": "code",
   "execution_count": 5,
   "metadata": {},
   "outputs": [],
   "source": [
    "# # read in my disort profile\n",
    "disort_output = jdi.os.path.join(jdi.__refdata__, 'base_cases','testing','cdisort_output_1270_cloudy.spec')\n",
    "son = pd.read_csv(disort_output,\n",
    "                    delim_whitespace=True, skiprows=2,header=None,names=['1','2','3'])\n",
    "sonx, sony, flx =  np.array(1e4/son['1']), np.array(son['2']), np.array(son['3'])\n",
    "sonx_,sony_ = jdi.mean_regrid(sonx, sony*1e1, newx=xs[0]) \n",
    "xs += [sonx_]; ys += [sony_]; labs += ['DISORT16']\n"
   ]
  },
  {
   "cell_type": "code",
   "execution_count": 6,
   "metadata": {},
   "outputs": [
    {
     "data": {
      "text/html": [
       "\n",
       "  <div id=\"b2c692ad-ce0a-4d85-aa5c-8783cd385107\" data-root-id=\"p1002\" style=\"display: contents;\"></div>\n"
      ]
     },
     "metadata": {},
     "output_type": "display_data"
    },
    {
     "data": {
      "application/javascript": [
       "(function(root) {\n",
       "  function embed_document(root) {\n",
       "  const docs_json = {\"419f5a8a-fd9b-47e4-b873-dfc7775658ff\":{\"version\":\"3.0.3\",\"title\":\"Bokeh Application\",\"defs\":[],\"roots\":[{\"type\":\"object\",\"name\":\"Figure\",\"id\":\"p1002\",\"attributes\":{\"width\":800,\"height\":345,\"x_range\":{\"type\":\"object\",\"name\":\"Range1d\",\"id\":\"p1011\",\"attributes\":{\"start\":0.7,\"end\":14}},\"y_range\":{\"type\":\"object\",\"name\":\"DataRange1d\",\"id\":\"p1004\"},\"x_scale\":{\"type\":\"object\",\"name\":\"LogScale\",\"id\":\"p1015\"},\"y_scale\":{\"type\":\"object\",\"name\":\"LinearScale\",\"id\":\"p1017\"},\"title\":{\"type\":\"object\",\"name\":\"Title\",\"id\":\"p1008\"},\"renderers\":[{\"type\":\"object\",\"name\":\"GlyphRenderer\",\"id\":\"p1054\",\"attributes\":{\"data_source\":{\"type\":\"object\",\"name\":\"ColumnDataSource\",\"id\":\"p1048\",\"attributes\":{\"selected\":{\"type\":\"object\",\"name\":\"Selection\",\"id\":\"p1050\",\"attributes\":{\"indices\":[],\"line_indices\":[]}},\"selection_policy\":{\"type\":\"object\",\"name\":\"UnionRenderers\",\"id\":\"p1049\"},\"data\":{\"type\":\"map\",\"entries\":[[\"x\",{\"type\":\"ndarray\",\"array\":{\"type\":\"bytes\",\"data\":\"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\"},\"shape\":[450],\"dtype\":\"float64\",\"order\":\"little\"}],[\"y\",{\"type\":\"ndarray\",\"array\":{\"type\":\"bytes\",\"data\":\"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\"},\"shape\":[450],\"dtype\":\"float64\",\"order\":\"little\"}]]}}},\"view\":{\"type\":\"object\",\"name\":\"CDSView\",\"id\":\"p1055\",\"attributes\":{\"filter\":{\"type\":\"object\",\"name\":\"AllIndices\",\"id\":\"p1056\"}}},\"glyph\":{\"type\":\"object\",\"name\":\"Line\",\"id\":\"p1051\",\"attributes\":{\"x\":{\"type\":\"field\",\"field\":\"x\"},\"y\":{\"type\":\"field\",\"field\":\"y\"},\"line_color\":\"#0072B2\",\"line_width\":3}},\"nonselection_glyph\":{\"type\":\"object\",\"name\":\"Line\",\"id\":\"p1052\",\"attributes\":{\"x\":{\"type\":\"field\",\"field\":\"x\"},\"y\":{\"type\":\"field\",\"field\":\"y\"},\"line_color\":\"#0072B2\",\"line_alpha\":0.1,\"line_width\":3}},\"muted_glyph\":{\"type\":\"object\",\"name\":\"Line\",\"id\":\"p1053\",\"attributes\":{\"x\":{\"type\":\"field\",\"field\":\"x\"},\"y\":{\"type\":\"field\",\"field\":\"y\"},\"line_color\":\"#0072B2\",\"line_alpha\":0.2,\"line_width\":3}}}},{\"type\":\"object\",\"name\":\"GlyphRenderer\",\"id\":\"p1063\",\"attributes\":{\"data_source\":{\"type\":\"object\",\"name\":\"ColumnDataSource\",\"id\":\"p1057\",\"attributes\":{\"selected\":{\"type\":\"object\",\"name\":\"Selection\",\"id\":\"p1059\",\"attributes\":{\"indices\":[],\"line_indices\":[]}},\"selection_policy\":{\"type\":\"object\",\"name\":\"UnionRenderers\",\"id\":\"p1058\"},\"data\":{\"type\":\"map\",\"entries\":[[\"x\",{\"type\":\"ndarray\",\"array\":{\"type\":\"bytes\",\"data\":\"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\"},\"shape\":[450],\"dtype\":\"float64\",\"order\":\"little\"}],[\"y\",{\"type\":\"ndarray\",\"array\":{\"type\":\"bytes\",\"data\":\"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\"},\"shape\":[450],\"dtype\":\"float64\",\"order\":\"little\"}]]}}},\"view\":{\"type\":\"object\",\"name\":\"CDSView\",\"id\":\"p1064\",\"attributes\":{\"filter\":{\"type\":\"object\",\"name\":\"AllIndices\",\"id\":\"p1065\"}}},\"glyph\":{\"type\":\"object\",\"name\":\"Line\",\"id\":\"p1060\",\"attributes\":{\"x\":{\"type\":\"field\",\"field\":\"x\"},\"y\":{\"type\":\"field\",\"field\":\"y\"},\"line_color\":\"#E69F00\",\"line_width\":3}},\"nonselection_glyph\":{\"type\":\"object\",\"name\":\"Line\",\"id\":\"p1061\",\"attributes\":{\"x\":{\"type\":\"field\",\"field\":\"x\"},\"y\":{\"type\":\"field\",\"field\":\"y\"},\"line_color\":\"#E69F00\",\"line_alpha\":0.1,\"line_width\":3}},\"muted_glyph\":{\"type\":\"object\",\"name\":\"Line\",\"id\":\"p1062\",\"attributes\":{\"x\":{\"type\":\"field\",\"field\":\"x\"},\"y\":{\"type\":\"field\",\"field\":\"y\"},\"line_color\":\"#E69F00\",\"line_alpha\":0.2,\"line_width\":3}}}},{\"type\":\"object\",\"name\":\"GlyphRenderer\",\"id\":\"p1072\",\"attributes\":{\"data_source\":{\"type\":\"object\",\"name\":\"ColumnDataSource\",\"id\":\"p1066\",\"attributes\":{\"selected\":{\"type\":\"object\",\"name\":\"Selection\",\"id\":\"p1068\",\"attributes\":{\"indices\":[],\"line_indices\":[]}},\"selection_policy\":{\"type\":\"object\",\"name\":\"UnionRenderers\",\"id\":\"p1067\"},\"data\":{\"type\":\"map\",\"entries\":[[\"x\",{\"type\":\"ndarray\",\"array\":{\"type\":\"bytes\",\"data\":\"rOR8OioHLEBGr/VLfdcrQC/b+nUhqCtAuciaLhZ5K0CLfM7sWkorQI8QeCjvGytAaSdhWtLtKkCwYjn8A8AqQKfblIiDkipAqJ7qelBlKkAWKZNPajgqQN/pxoPQCypAmsSclYLfKUARlwgEgLMpQG/B2U7IhylA2LC59lpcKUB6bCp9NzEpQColhWRdBilAXcf4L8zbKECbj4hjg7EoQF2hCoSChyhAS6AmF8ldKEDhS1SjVjQoQHMd2q8qCyhAhejLxETiJ0CEfQlrpLknQMJOPSxJkSdAzRfbkjJpJ0APhx4qYEEnQKvpCX7RGSdAqdlkG4byJkBU7rqPfcsmQN5uWmm3pCZAOgdTNzN+JkAYf3SJ8FcmQDFzTfDuMSZAnxAq/S0MJkBt0hJCreYlQEtBy1FswSVAYLXQv2qcJUA7GlkgqHclQNi0UQgkUyVAx+tdDd4uJUBVEdbF1QolQNYvxsgK5yRA7NfsrXzDJEDa8LkNK6AkQOSKTYEVfSRApLN2ojtaJEBkTLILnTckQGviKVg5FSRAUImyIxDzI0Aut8sKIdEjQNMinqprryNA36P6oO+NI0C/FFmMrGwjQKA21wuiSyNAOZc3v88qI0BzeOBGNQojQP252kPS6SJAqMTQV6bJIkCpdw0lsakiQJwXe07yiSJAbT+id2lqIkD90qhEFksiQJvzUFr4KyJAPfb3XQ8NIkCDW5X1Wu4hQHjJucfazyFAEgeOe46xIUBr+dG4dZMhQLWi2yeQdSFA5yKWcd1XIUAPuoA/XTohQGLMrTsPHSFA8efBEPP/IEAKzPJpCOMgQDxyBvNOxiBABhlSWMapIEAkULlGbo0gQHcGrWtGcSBAj5kqdU5VIEDI5roRhjkgQAZecfDsHSBA9BXrwIICIEDcw5tmjs4fQLfSjvBzmB9AX4EYgrViH0C+B65+Ui0fQNHkzkpK+B5AuxkDTJzDHkDOZ9noR48eQKWR5YhMWx5AIp++lKknHkB1JP11XvQdQPmLOZdqwR1AE2MKZM2OHUDbqQJJhlwdQMElsLOUKh1A77aZEvj4HECesD3Vr8ccQB80EGy7lhxAyI55SBpmHECYmtTcyzUcQKUhbZzPBRxAS0R++yTWG0AI4jBvy6YbQBoFmm3CdxtAwlC5bQlJG0A+cnfnnxobQFqUpFOF7BpAs9X2K7m+GkCSwQjrOpEaQFjLVwwKZBpAisxCDCY3GkBxhQhojgoaQDIgxp1C3hlAhLZ1LEKyGUDh2eyTjIYZQCse21QhWxlA5qbI8P8vGUDMthTqJwUZQOxB9MOY2hhAH4JwAlKwGEADjmUqU4YYQEfygMGbXBhAX01ATiszGECb7e9XAQoYQI5xqWYd4RdA2GpSA3+4F0A5A5u3JZAXQPOj/A0RaBdAdZ+4kUBAF0BV3dbOsxgXQIOIJFJq8RZAvb8yqWPKFkA+SFVin6MWQKlCoQwdfRZAHeLrN9xWFkCAJcl03DAWQPeSilQdCxZAf/U9aZ7lFUCwHKxFX8AVQJ+eV31fmxVA3pt7pJ52FUCRhQpQHFIVQKTlrBXYLRVAAinAi9EJFUDsa1VJCOYUQFZIMOZ7whRAQ6bF+iufFEAxjjogGHwUQIT9YvA/WRRA5LzABaM2FECpOIL7QBQUQChbgW0Z8hNAAmlC+CvQE0Bi3/I4eK4TQB5UaM39jBNA0VcfVLxrE0DIWTpss0oTQOqNgLXiKRNAatRc0EkJE0Bgo9xd6OgSQD3yrv+9yBJADycjWMqoEkChBSgKDYkSQGKgSrmFaRJAH0u1CTRKEkCDjy6gFysSQGYjGCIwDBJA0uBtNX3tEUDcv8SA/s4RQCXSSauzsBFAK0DBXJySEUA/SIU9uHQRQEM/hfYGVxFAC5NEMYg5EUBzztmXOxwRQCef7dQg/xBAB925kzfiEEBEkwiAf8UQQA8LM0b4qBBA9Ncgk6GMEEDV5UYUe3AQQHOIpneEVBBApYzMa704EEASS9CfJR0QQIu8UsO8ARBA1B/7DAXND0AggwQ07ZYPQL5oMl4xYQ9AhpgB79ArD0CIFPlKy/YOQC9UqNcfwg5AZ4Kl+82NDkDHvose1VkOQKhh+ag0Jg5APEOOBOzyDUCNBeqb+r8NQF5hqtpfjQ1A+3VpLRtbDUDlG7wBLCkNQFQ6MMaR9wxAlB9L6kvGDEAu3IfeWZUMQOKgVRS7ZAxAYh8W/m40DEDY7RsPdQQMQB7tqLvM1AtAtbHseHWlC0B37wK9bnYLQOzn8f63RwtAUtuotlAZC0BQfP5cOOsKQDlmr2tuvQpABZZcXfKPCkDS5Ymtw2IKQP6KnNjhNQpA1JbZW0wJCkDDeWS1At0JQByJPWQEsQlAWIdA6FCFCUDYLiPC51kJQB2/c3PILglAhIyXfvIDCUBjkslmZdkIQKIHGbAgrwhAuvVn3yOFCEAS0ml6blsIQNIZogcAMghA+e9iDtgICEDmvcsW9t8HQCfWx6lZtwdAnhkNUQKPB0D6nhqX72YHQG5cNwchPwdAvNNwLZYXB0B3wJmWTvAGQIzISNBJyQZA+i7XaIeiBkDQiF/vBnwGQFh0vPPHVQZAZlKHBsovBkDoARe5DAoGQIidfp2P5AVAhzuMRlK/BUCnr8dHVJoFQDxPcTWVdQVAUbeApBRRBUDulKMq0iwFQF5vPF7NCAVAlnRh1gXlBECVR9sqe8EEQOPQI/QsngRA/BBlyxp7BEDP9HdKRFgEQCos4wupNQRAMwLaqkgTBEDFNzvDIvEDQMzfj/E2zwNAkD0K04StA0DqpIQFDIwDQGBcgCfMagNAL4Ek2MRJA0Ax7Ty39SgDQKYeOWVeCANA2SErg/7nAkCgfMay1ccCQLAbX5bjpwJAyEHo0CeIAkChePMFomgCQLyDr9lRSQJA71Tn8DYqAkC5AgHxUAsCQF3A/H+f7AFAv9dzRCLOAUD9pJfl2K8BQLuTMAvDkQFAOx6dXeBzAUAVztCFMFYBQK4+Uy2zOAFAWiE//mcbAUAmQ0GjTv4AQFqUl8dm4QBAjzEQF7DEAEB3bgg+KqgAQD/ia+nUiwBAlXWzxq9vAEBAcuSDulMAQFyUj8/0NwBAKB3QWF4cAEBi50rP9gAAQHj6WsZ7y/8/t19aimaV/z/HYAxNrV//PxVV9XFPKv8/YcGjXUz1/j8Fk651o8D+PypesyBUjP4/Bp9Uxl1Y/j8T/jfPvyT+Py+XBKV58f0/rUNhsoq+/T9g5/Ji8ov9P2nAWiOwWf0/CLo0YcMn/T8mwhWLK/b8P9EhihDoxPw/c9gTYviT/D/i+SjxW2P8Py8PMjASM/w/QHqIkhoD/D8X3HSMdNP7P+x9LZMfpPs/37zUHBt1+z9veHegZkb7P4uDC5YBGPs/Whhuduvp+j+gTmK7I7z6P7CUj9+pjvo/FiuAXn1h+j+5op+0nTT6P5tdOV8KCPo/JBJ33MLb+T/0UF+rxq/5PzkN1EsVhPk/gSeRPq5Y+T8E+yoFkS35P3DtDCK9Avk/IAF4GDLY+D+6aYFs7634P0kjEaP0g/g/qovgQUFa+D9n/njP1DD4P+9yMtOuB/g/Hx0y1c7e9z8sEGleNLb3P9fjkvjejfc/8ls0Ls5l9z8xEpqKAT73Pzoi15l4Fvc/AtjD6DLv9j9aYPwEMMj2P8h733xvofY/hDON3/B69j+7kOW8s1T2P+5Vh6W3LvY/krrOKvwI9j+/KNTegOP1Pxr9alRFvvU/0EggH0mZ9T+6lTnTi3T1P42sswUNUPU/KF1BTMwr9T/6SEo9yQf1P2ev6W8D5PQ/RTzte3rA9D9d2NP5LZ30P+x7zIIdevQ/LQO1sEhX9D/bBBkerzT0P6uqMGZQEvQ/xYvfJCzw8z8kibP2Qc7zP/Or43iRrPM/0AVPSRqL8z/1knsG3GnzP04elU/WSPM/dydsxAgo8z9+ynQFcwfzP66pxbMU5/I/CdkWce3G8j+vy8Df/KbyPxpDu6JCh/I/HECcXb5n8j+x9Za0b0jyP6C9ekxWKfI/3A6yynEK8j+sdUHVwevxP46NxhJGzfE/4/x2Kv6u8T9Gch/E6ZDxP7KjIogIc/E/Qk94H1pV8T+4Pawz3jfxP6lG3W6UGvE/Wla8e3z98D9AdYsFluDwPyzRHLjgw/A/IsjRP1yn8D+79JlJCIvwP0A88oLkbvA/S97jmfBS8D8QhgM9LDfwPzNdcBuXG/A/MyDT5DAA8D/KaLqS8snvPw9/j/Pfk+8/noGlTile7z8WV4gHzijvP44GzoLN8+4/8/IUJie/7j9QGQJY2oruPyFSP4DmVu4/n5V5B0sj7j/8Ql9XB/DtP4Jqntoave0/tBrj/ISK7T82sNUqRVjtP6koGdJaJu0/VnhJYcX07D+y4vlHhMPsP7ZVs/aWkuw/9cfy3vxh7D+OmSdztTHsP8r3sSbAAew/ikPhbRzS6z9gevK9yaLrP2OiDo3Hc+s/sjhJUhVF6z+hop6FshbrP4uh8p+e6Oo/TMkOG9m66j9J+aBxYY3qPyrYOR83YOo/DVJLoFkz6j9fGSdyyAbqPzcq/RKD2uk/NlDaAYmu6T/urqa+2YLpP9BMJMp0V+k/gKDtpVks6T+1IHTUhwHpP4DW/tj+1ug//vGoN76s6D+BYWB1xYLoPxBr5BcUWeg/VUjEpakv6D/gxF2mhQboP8je26Gn3ec/omk1IQ+15z/Gsyuuu4znP+ctSdOsZOc/7xTgG+I85z8nHgkUWxXnP5slokgX7uY/xN5MRxbH5j9jh22eV6DmP5mcKd3aeeY/\"},\"shape\":[450],\"dtype\":\"float64\",\"order\":\"little\"}],[\"y\",{\"type\":\"ndarray\",\"array\":{\"type\":\"bytes\",\"data\":\"pAR3vUHr8EF7EFA1Q3fxQRvGkB4o5vFB8wakCVDw8UHUPRyJ387yQV1GAj07RfNB8SKNEWES80EvfVIo3Xb0QQuGBHDCLPRBpwI87sZY9UH72McVZsb1QRaR4KEMCvZBVXL709sU90FbP72/I1b3QSLMkNwFk/dBP8+xOkiy+EHnqKAsYKr4Qa5T8mV5TflBMGyQsRCz+UGla05u4hT7QQjymi8DlftBAyxHVS51/EEsml0Y8vX8QXNv02Cy0f1BS3z3wSl0/kEQ0uffwAf/QRx0TC53zf9BjaAFoYY8AEI6eXqeUcIAQjZ50dp8EwFCUSpOyVnEAUK/aPboOkACQueR5avEdwJClzVhJKMAA0Knk/iBozkDQuWDp/5y3ANCTpYLVpChA0IzxDyn6oAEQuXiM4M/MAVCcUWXq+/nBUI8Qmh5JVEGQkcZcdSj5AZCfR0rwLo3B0I1dcQ45/QHQo6SV34dAQhCHop9axyOCEKbju0ggyoJQncx2/OcNQpChtiaPhguC0K80LaWpGwLQkKmbaRJQgxCBT2eLST/DEJGLWibEKwMQieqC75ZIQ5CNddAHvAKD0K5a2n4EKEPQuWaKxUuBBBCeIVzJ8ljEELnCK0G2rsQQsI7KCCZGxFCdggjzmFyEUK/M7533O8RQlJ6UyOOFhJCAPWmTO6kEkLSvyqFCAYTQg6YWK49HRNCC0duOMLhE0IfaJvHnosTQgOD6kWIoBRCpueDDBV6FEKr0pXwKH0UQsucPu1r5RRCcHR3UzJBFUK/ivM39CwVQn12WxA7JBVCcDOHE+BJFUJiLTpbxgcWQo2F7nWBlhVCR3NcFIdAFUK9tuz/Z7AWQl7foht9CxZCM4ubyQAWFkJLMPa5gSwXQhT7EY92YRZCK6Sapk0YF0J8nlPmP6oXQsg0YLd9hRZCZWu0LBaBFkID71EcyScVQh78ezMScBRCiHZXHxV2FkJHA5+wVTUaQnCgkQJggBpC838OZYwXG0J9HCIhnnAaQsJMN0lNFhpC6X48PgOXGkKzTGVxLXIaQnchhFOqdhxCXSveQnL9HELKtEfRqTwfQlJoBIv2DyBCx3JYMK6mIEKB1kdNoS0hQlPCsvKVKiJCFOIQZUaAIkK+E6Y5qYMjQn8VhcV/ByJCFRnh2vNRIkJ1NLh6/wQkQmIbCG+3RiRCqf5vbqpaJELSq7WXV3IiQubhu1pw0CNCDuBsuyWNJULXYpauyXAlQh5v3yh6niZCHhT0MifuJ0LuZz5hCXQqQiYDkGxVQytC7L7zEANDLEJl2FSjszssQoTLQenRmC1CKVF13TFwLEKERLzXNvIsQnH0QvzzGS5CSEi0FyAaLEIJk4R02O0uQsOlVEw7Ny5ChlLrhF6LLkK1hrQVNEUuQsGcTO52xS5C1l3+Ty8KMEIuW/fOqIQwQhIJs0FVdC9CF+HSCzPeMEI7rUESgZMwQnAZTK5E2jFCr6hxFe89MUJ6tAoIZwwyQq5UZsR3uTJCUqzsTf54M0LQdvblEOoyQpHbCCxKpTNClsgnevlWNEIz8ywL1Uo1QglNF57qKTVCMzTYPAY4NkIYBlfjLe41QjDHyavTUjZC4Hz0QsWnNkKFnTm0lKI2QpabD/OSKzhCLM1YrV+AN0I9iCNG/GM4Qj61vPm0qThCw/MddNwIOEJ4gxyiHJ44QsiBgwrwvThC+82kwCIxOUJ3AFxnCpE5Qt9dCbQgijlCoe1W32hTOkJa7RBO62s6QnJ8nUw73jtC0ljb22ihPEKgB3Idyzo8QjnrsSZarzpC7YlSfH0iO0LV7ut2rMo7Qkxfms/pCj1Cxq5EZYZ6PkK5DRheTZk+Qqh4zE7OKEBC/3t7V/bOP0LLQMX71KtAQimRv1ByLEFCxuZfa391QUJqGyHfcdlBQuyiVQsStUJCIUgzegNDRELWdFJLtaZFQtKZ5CTnaEZCWvdEdCp8R0JRD+MYMd1HQvIxJnsQckhCf1ZwUczhSEJ2MGXmeIlJQnVDLdXH6ElCTRhGbNxpSkIN101Q9OdKQgSm/1rOT0tCHlrXeAu1S0LbZkOfBytMQryCx+6PZExCtqz59N6uTEK86/BafsJMQul2lCdBTE1CpoIUzrVmTULITJlEZEBNQitEn0CswU1CtcEmV+lPTULpGG2DEdZMQng0P4SgVkxCchY7Rwy8S0LeBPoKTkxLQg1J1FCWB0lCOvpXQLpOSUIK2R9hNLpIQvzNXUBtOElChT3egpBcSEKsU7QJsyhHQtb17mljDkhC1VbumgljSUJj9hWu+bBHQv2S8fidtzlCEKXWyGpBPELe23r79HtMQjoWTi3xBU1C6Z2N8Y9pSkLDca1WVaRIQmJbVvW8DEdC/UdIjkl9R0JGz9/LQ2dIQpd9VtRhGEdCPdOMSe5xTELplKJxQC9NQoMzHt9KFk9CNuSyek1yUEL7pTNQgRhQQtEcQh73OFFCkDN9GjZEUEJH1O0BbjhOQkeUzvz2e1BCDzz8VpfCTkLRy1cPLHBNQjNtHp4W4E5Cctbgmeo5T0KLKwBoMpZQQjPloXk01U1CcN11OfIZTkKu0VKXPBdMQt8vzHb3805CHcIDDQkjT0KKe+WVsMRQQp1sEmIP21BCHXV0qZKEUELxOgumFnVOQkSMYADvulBCxHz2AZnpUULLcWXImhZTQkkSfFU7MVNCDbiDqfKrUkKalIn1lYRSQoHqaMi05VFClkYJ/ilhUkIL6+YsoQdSQkFLVKiuI1NC4cdcICuLU0IOK2ZdnypVQqrdHW5rjlZChlk8OyXbV0JWtKZZfmFXQvePvPllmFlCKxpdP/qvWUKsz6Ev1JxZQjTZ9GMHg1lCzdh5XuwhW0JnXr95QvdaQgEVmpCJ31pCGAGx5if8W0KjCucm5E5dQmIJdMn1pV9C7ZlTQ0bqXkK4TSRWX3BgQiUrBrgEfWBCmH7O/sURYUJ2msZ3cSJhQnitbIZdnWFChPnizj88YkL93Omqp2RiQt2tDxaBa2JCVIngNK+ZYkJ3qdQXpYFiQirDsNuSg2JCl4AKK39TYkIP787CwO9hQqmBa8TpmmFCKTggNeAtYUJS/OkFh9ZfQj2h3IZXbmBCMvUIYsISYEK1fZTrXxJfQjVjz3979F1CUDBwba8eXUJexGY+cPtdQuSyax1vAF1CA5sB42MDXkJD7XMJGr9eQlpOplvvXl9CR0LtOBAJXkI8ySIYCPJeQtcKsTs/IVxC7SimnOfOW0JCKDZf2+BdQqn0RTgVi11CJ0IkYmc0XUJ/tP49VmReQkoP/fy0OF9CzjeXg8RnYELBSzeL3e5gQhoRS2K8g2JCW68xhIr+YkK86n06ebxjQkvK4+BHvWRCRNeWtlxWZUL1rYOZHA5nQtmdo7VijWdCjmj0ekRXaELu4yMBoBFoQjHaGK38EGhC0hgBzOLSZ0I26mTW1lFnQltvVppMz2ZC+LRa9nTcZkLyNbkXwF1mQrh15nc74WVCSCFuiUtzZUIKSSS8hrxkQuBFNQf7I2RCyEN/P82oY0JbKmDPt5tiQr/NugiEt2FCc5o/9dohYUIE81iuxl5gQpPTqWWx3F9CYHmBn4EiX0JoTEljkRteQhN1o+lO2FlCf/MdT4yqXEIec+doi5NbQsslD9SKnFpCUD+wfemSV0LsOGeeBlZVQtrroCaMG1dCw+UHsPSpV0KBM9HeYX5YQg0vNz+hWFhCf4z+3DbqWEL7EMH3ASNYQmzWEMPg81VCcG9QDuabV0IF6/Evq5taQpziLl2yH2FC9RQqb+IWaEJ88WU45KRpQpD96Ay7wWlCQoNiRtI0akJgM8fwqpxpQuqAEv0AE2lC+riJbfc9aEJna5qIP5FnQttJM/cDcWhCaFcMwYWcZkLlmGQjDnJpQkNPFfPHgWhCZxXis6E7Z0ITwva6IgpmQr5aBvgok2RCtNRYMSUjY0IDI8dqmgJiQil0vMTdoGFC+C/avci0YELzeB52AmBhQjpYDSj55WBCKDDpl9GfYELEVXwXzUlgQrSyufhTJF1CYiPQYdQ/YELbaQPjz5tcQsSMHrSjxVxCbTwSpMTCXUL8OG8x70xjQucnly8fLWZCFlIq+uoYaUI1wLutwMNnQmn8HSfTEWVCViLuzYejYUKu0FHFYHtgQihQwIFtMGFCSEDMJtHuYUJjNkeQvHxgQpDdSrjdN15C802lB2bIXEKFHNQ3A2lcQhY7lsFCbFpCTLBSwKcAW0IuMZfOVSlYQjnma/ReqFZCcWo7J5/hVEJdYkb+iOhUQgVFvPMfiVZCpqAj6AJ2VEJ5kwxdffpSQsGkDJsIvFFCxu0ytEyVUEKmaoIAxv9OQouIFQwGN0xCF02y7GeXUEKJgkGZMkpVQqV3FIL4T1NCrn0LVjZnUEJiaVKHYAFNQl95gaG0JEtCpXyP5oTdS0JlJcUr8N1PQj3V7/9bx0lCL3IGxhPERkLpMqRD2m1FQkOMsFwXcERCNNVAk2EZQ0JVjHOOyl5CQuX89OKRXkVCCPiufKZERELls4WP/FRDQgYN/mPyMURCATPyeesgR0KKsHY7N/JDQjOwMDftXD5CquD/ho9mOEISvqz4Eks2QqmzTadfpDVC+iMSYoK2N0LE5HCVbpg4QqNMG35eLTZCyjj3C6yRNELEU9HO0hk0QkTNQ3Gt6jNC2pMHNf9dNUKrtCpynzoyQnEUSNEyJS9CrIwgg4PzMEKwkGJ6U9swQvKpgdCMkjBCy0I2ZVRbLEKgItr2pMknQikmBbprJCVCEsF/s+V3I0LUkT8oNA0kQkmDYI4lfiZC\"},\"shape\":[450],\"dtype\":\"float64\",\"order\":\"little\"}]]}}},\"view\":{\"type\":\"object\",\"name\":\"CDSView\",\"id\":\"p1073\",\"attributes\":{\"filter\":{\"type\":\"object\",\"name\":\"AllIndices\",\"id\":\"p1074\"}}},\"glyph\":{\"type\":\"object\",\"name\":\"Line\",\"id\":\"p1069\",\"attributes\":{\"x\":{\"type\":\"field\",\"field\":\"x\"},\"y\":{\"type\":\"field\",\"field\":\"y\"},\"line_color\":\"#F0E442\",\"line_width\":3}},\"nonselection_glyph\":{\"type\":\"object\",\"name\":\"Line\",\"id\":\"p1070\",\"attributes\":{\"x\":{\"type\":\"field\",\"field\":\"x\"},\"y\":{\"type\":\"field\",\"field\":\"y\"},\"line_color\":\"#F0E442\",\"line_alpha\":0.1,\"line_width\":3}},\"muted_glyph\":{\"type\":\"object\",\"name\":\"Line\",\"id\":\"p1071\",\"attributes\":{\"x\":{\"type\":\"field\",\"field\":\"x\"},\"y\":{\"type\":\"field\",\"field\":\"y\"},\"line_color\":\"#F0E442\",\"line_alpha\":0.2,\"line_width\":3}}}},{\"type\":\"object\",\"name\":\"GlyphRenderer\",\"id\":\"p1081\",\"attributes\":{\"data_source\":{\"type\":\"object\",\"name\":\"ColumnDataSource\",\"id\":\"p1075\",\"attributes\":{\"selected\":{\"type\":\"object\",\"name\":\"Selection\",\"id\":\"p1077\",\"attributes\":{\"indices\":[],\"line_indices\":[]}},\"selection_policy\":{\"type\":\"object\",\"name\":\"UnionRenderers\",\"id\":\"p1076\"},\"data\":{\"type\":\"map\",\"entries\":[[\"x\",{\"type\":\"ndarray\",\"array\":{\"type\":\"bytes\",\"data\":\"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\"},\"shape\":[450],\"dtype\":\"float64\",\"order\":\"little\"}],[\"y\",{\"type\":\"ndarray\",\"array\":{\"type\":\"bytes\",\"data\":\"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\"},\"shape\":[450],\"dtype\":\"float64\",\"order\":\"little\"}]]}}},\"view\":{\"type\":\"object\",\"name\":\"CDSView\",\"id\":\"p1082\",\"attributes\":{\"filter\":{\"type\":\"object\",\"name\":\"AllIndices\",\"id\":\"p1083\"}}},\"glyph\":{\"type\":\"object\",\"name\":\"Line\",\"id\":\"p1078\",\"attributes\":{\"x\":{\"type\":\"field\",\"field\":\"x\"},\"y\":{\"type\":\"field\",\"field\":\"y\"},\"line_color\":\"#009E73\",\"line_width\":3}},\"nonselection_glyph\":{\"type\":\"object\",\"name\":\"Line\",\"id\":\"p1079\",\"attributes\":{\"x\":{\"type\":\"field\",\"field\":\"x\"},\"y\":{\"type\":\"field\",\"field\":\"y\"},\"line_color\":\"#009E73\",\"line_alpha\":0.1,\"line_width\":3}},\"muted_glyph\":{\"type\":\"object\",\"name\":\"Line\",\"id\":\"p1080\",\"attributes\":{\"x\":{\"type\":\"field\",\"field\":\"x\"},\"y\":{\"type\":\"field\",\"field\":\"y\"},\"line_color\":\"#009E73\",\"line_alpha\":0.2,\"line_width\":3}}}}],\"toolbar\":{\"type\":\"object\",\"name\":\"Toolbar\",\"id\":\"p1009\",\"attributes\":{\"tools\":[{\"type\":\"object\",\"name\":\"PanTool\",\"id\":\"p1033\"},{\"type\":\"object\",\"name\":\"WheelZoomTool\",\"id\":\"p1034\"},{\"type\":\"object\",\"name\":\"BoxZoomTool\",\"id\":\"p1035\",\"attributes\":{\"overlay\":{\"type\":\"object\",\"name\":\"BoxAnnotation\",\"id\":\"p1036\",\"attributes\":{\"syncable\":false,\"level\":\"overlay\",\"visible\":false,\"left_units\":\"canvas\",\"right_units\":\"canvas\",\"bottom_units\":\"canvas\",\"top_units\":\"canvas\",\"line_color\":\"black\",\"line_alpha\":1.0,\"line_width\":2,\"line_dash\":[4,4],\"fill_color\":\"lightgrey\",\"fill_alpha\":0.5}}}},{\"type\":\"object\",\"name\":\"SaveTool\",\"id\":\"p1037\"},{\"type\":\"object\",\"name\":\"ResetTool\",\"id\":\"p1038\"},{\"type\":\"object\",\"name\":\"HelpTool\",\"id\":\"p1039\"}]}},\"left\":[{\"type\":\"object\",\"name\":\"LinearAxis\",\"id\":\"p1026\",\"attributes\":{\"ticker\":{\"type\":\"object\",\"name\":\"BasicTicker\",\"id\":\"p1028\",\"attributes\":{\"mantissas\":[1,2,5]}},\"formatter\":{\"type\":\"object\",\"name\":\"BasicTickFormatter\",\"id\":\"p1029\"},\"axis_label\":\"Spectrum\",\"axis_label_text_font\":\"times\",\"axis_label_text_font_size\":\"14pt\",\"axis_label_text_font_style\":\"bold\",\"major_label_policy\":{\"type\":\"object\",\"name\":\"AllLabels\",\"id\":\"p1027\"},\"major_label_text_font\":\"times\",\"major_label_text_font_size\":\"14pt\"}},{\"type\":\"object\",\"name\":\"Legend\",\"id\":\"p1084\",\"attributes\":{\"location\":[0,0],\"click_policy\":\"mute\",\"items\":[{\"type\":\"object\",\"name\":\"LegendItem\",\"id\":\"p1085\",\"attributes\":{\"label\":{\"type\":\"value\",\"value\":\"PICASO Toon89\"},\"renderers\":[{\"id\":\"p1054\"}]}},{\"type\":\"object\",\"name\":\"LegendItem\",\"id\":\"p1086\",\"attributes\":{\"label\":{\"type\":\"value\",\"value\":\"SH2\"},\"renderers\":[{\"id\":\"p1063\"}]}},{\"type\":\"object\",\"name\":\"LegendItem\",\"id\":\"p1087\",\"attributes\":{\"label\":{\"type\":\"value\",\"value\":\"SH4\"},\"renderers\":[{\"id\":\"p1072\"}]}},{\"type\":\"object\",\"name\":\"LegendItem\",\"id\":\"p1088\",\"attributes\":{\"label\":{\"type\":\"value\",\"value\":\"DISORT16\"},\"renderers\":[{\"id\":\"p1081\"}]}}]}}],\"below\":[{\"type\":\"object\",\"name\":\"LogAxis\",\"id\":\"p1019\",\"attributes\":{\"ticker\":{\"type\":\"object\",\"name\":\"LogTicker\",\"id\":\"p1021\",\"attributes\":{\"num_minor_ticks\":10,\"mantissas\":[1,5]}},\"formatter\":{\"type\":\"object\",\"name\":\"LogTickFormatter\",\"id\":\"p1022\"},\"axis_label\":\"Wavelength [\\u03bcm]\",\"axis_label_text_font\":\"times\",\"axis_label_text_font_size\":\"14pt\",\"axis_label_text_font_style\":\"bold\",\"major_label_policy\":{\"type\":\"object\",\"name\":\"AllLabels\",\"id\":\"p1020\"},\"major_label_text_font\":\"times\",\"major_label_text_font_size\":\"14pt\"}}],\"center\":[{\"type\":\"object\",\"name\":\"Grid\",\"id\":\"p1025\",\"attributes\":{\"axis\":{\"id\":\"p1019\"}}},{\"type\":\"object\",\"name\":\"Grid\",\"id\":\"p1032\",\"attributes\":{\"dimension\":1,\"axis\":{\"id\":\"p1026\"}}}]}}]}};\n",
       "  const render_items = [{\"docid\":\"419f5a8a-fd9b-47e4-b873-dfc7775658ff\",\"roots\":{\"p1002\":\"b2c692ad-ce0a-4d85-aa5c-8783cd385107\"},\"root_ids\":[\"p1002\"]}];\n",
       "  root.Bokeh.embed.embed_items_notebook(docs_json, render_items);\n",
       "  }\n",
       "  if (root.Bokeh !== undefined) {\n",
       "    embed_document(root);\n",
       "  } else {\n",
       "    let attempts = 0;\n",
       "    const timer = setInterval(function(root) {\n",
       "      if (root.Bokeh !== undefined) {\n",
       "        clearInterval(timer);\n",
       "        embed_document(root);\n",
       "      } else {\n",
       "        attempts++;\n",
       "        if (attempts > 100) {\n",
       "          clearInterval(timer);\n",
       "          console.log(\"Bokeh: ERROR: Unable to run BokehJS code because BokehJS library is missing\");\n",
       "        }\n",
       "      }\n",
       "    }, 10, root)\n",
       "  }\n",
       "})(window);"
      ],
      "application/vnd.bokehjs_exec.v0+json": ""
     },
     "metadata": {
      "application/vnd.bokehjs_exec.v0+json": {
       "id": "p1002"
      }
     },
     "output_type": "display_data"
    }
   ],
   "source": [
    "fig = jpi.spectrum(xs,ys,legend=labs\n",
    "                  ,plot_width=800,x_range=wave_range,x_axis_type='log')\n",
    "jpi.show(fig)\n"
   ]
  },
  {
   "cell_type": "markdown",
   "metadata": {},
   "source": [
    "## Setting up Jupiter-like Case\n",
    "\n",
    "Within the PICASO repository there exists a simple benchmark code jupiter-like case that we used in the paper to compare the code. We will start by setting that up.  "
   ]
  },
  {
   "cell_type": "code",
   "execution_count": 7,
   "metadata": {},
   "outputs": [],
   "source": [
    "wave_range = [5,14]\n",
    "opa = jdi.opannection(wave_range=wave_range)#, resample=100)\n",
    "planet = jdi.inputs()\n",
    "\n",
    "planet.phase_angle(0)\n",
    "grav = 25\n",
    "planet.gravity(gravity=grav , gravity_unit=u.Unit('m/s**2'))\n",
    "# bd.surface_reflect(0,opa.wno)\n",
    "planet.star(opa, 5000,0,4.0) #opacity db, pysynphot database, temp, metallicity, logg\n",
    "\n",
    "planet.atmosphere(filename= jdi.jupiter_pt(), delim_whitespace=True)\n",
    "\n",
    "planet.clouds( filename= jdi.jupiter_cld(), delim_whitespace=True)\n"
   ]
  },
  {
   "cell_type": "markdown",
   "metadata": {},
   "source": [
    "### Using the `jdi.approx` function to setup different test cases\n",
    "\n",
    "Similar to the reflected light problem, we can use the `approx` key to setup different methods of computing the thermal radiative transfer"
   ]
  },
  {
   "cell_type": "code",
   "execution_count": 8,
   "metadata": {},
   "outputs": [],
   "source": [
    "dfs = []; labels = []; \n",
    "# PICASO\n",
    "dfs += [planet.spectrum(opa, full_output=True, calculation='thermal')\n",
    "                        ]; labels += [\"PICASO\"]\n",
    "\n",
    "# 2-stream\n",
    "planet.approx(rt_method = 'SH', stream=2)\n",
    "two_lin = planet.spectrum(opa, full_output=True, calculation='thermal')\n",
    "dfs += [two_lin]; labels += [\"SH2\"]\n",
    "\n",
    "# 4-stream \n",
    "planet.approx(rt_method = 'SH', stream=4)\n",
    "four_lin = planet.spectrum(opa, full_output=True, calculation='thermal')\n",
    "dfs += [four_lin]; labels += [\"SH4\"]"
   ]
  },
  {
   "cell_type": "code",
   "execution_count": 9,
   "metadata": {},
   "outputs": [],
   "source": [
    "xs = []; ys = []; labs = [];\n",
    "for df, i in zip(dfs, range(len(dfs))):\n",
    "    x,y = df['wavenumber'], df['thermal'] #units of erg/cm2/s/cm\n",
    "    xflux,yflux = jdi.mean_regrid(x, y, R=150)\n",
    "    xs += [xflux]\n",
    "    ys += [yflux]\n",
    "    labs += [labels[i]]"
   ]
  },
  {
   "cell_type": "markdown",
   "metadata": {},
   "source": [
    "### External Testing with `CDISROT` for Validation\n",
    "\n",
    "Reproduction of Figure bb, Rooney et al. \n",
    "\n",
    "In Rooney et al., we tested `PICASO` against a higher order code, `CDISORT`. Here is a code snippet to grab it from the code base"
   ]
  },
  {
   "cell_type": "code",
   "execution_count": 10,
   "metadata": {},
   "outputs": [],
   "source": [
    "# # read in my disort profile\n",
    "disort_output = jdi.os.path.join(jdi.__refdata__, 'base_cases','testing','cdisort_output_jupiter_cloudy.spec')\n",
    "son = pd.read_csv(disort_output,\n",
    "                    delim_whitespace=True, skiprows=2,header=None,names=['1','2','3'])\n",
    "sonx, sony, flx =  np.array(1e4/son['1']), np.array(son['2']), np.array(son['3'])\n",
    "sonx_,sony_ = jdi.mean_regrid(sonx, sony*1e1, newx=xs[0]) \n",
    "xs += [sonx_]; ys += [sony_]; labs += ['DISORT16']"
   ]
  },
  {
   "cell_type": "code",
   "execution_count": 11,
   "metadata": {},
   "outputs": [
    {
     "data": {
      "text/html": [
       "\n",
       "  <div id=\"9cf8a615-5e39-4e55-9d62-c4ca81961001\" data-root-id=\"p1283\" style=\"display: contents;\"></div>\n"
      ]
     },
     "metadata": {},
     "output_type": "display_data"
    },
    {
     "data": {
      "application/javascript": [
       "(function(root) {\n",
       "  function embed_document(root) {\n",
       "  const docs_json = {\"1cff4329-a88f-46c7-bbcf-e87c888ff6b2\":{\"version\":\"3.0.3\",\"title\":\"Bokeh Application\",\"defs\":[],\"roots\":[{\"type\":\"object\",\"name\":\"Figure\",\"id\":\"p1283\",\"attributes\":{\"width\":800,\"height\":345,\"x_range\":{\"type\":\"object\",\"name\":\"Range1d\",\"id\":\"p1292\",\"attributes\":{\"start\":5,\"end\":14}},\"y_range\":{\"type\":\"object\",\"name\":\"DataRange1d\",\"id\":\"p1285\"},\"x_scale\":{\"type\":\"object\",\"name\":\"LogScale\",\"id\":\"p1296\"},\"y_scale\":{\"type\":\"object\",\"name\":\"LinearScale\",\"id\":\"p1298\"},\"title\":{\"type\":\"object\",\"name\":\"Title\",\"id\":\"p1289\"},\"renderers\":[{\"type\":\"object\",\"name\":\"GlyphRenderer\",\"id\":\"p1335\",\"attributes\":{\"data_source\":{\"type\":\"object\",\"name\":\"ColumnDataSource\",\"id\":\"p1329\",\"attributes\":{\"selected\":{\"type\":\"object\",\"name\":\"Selection\",\"id\":\"p1331\",\"attributes\":{\"indices\":[],\"line_indices\":[]}},\"selection_policy\":{\"type\":\"object\",\"name\":\"UnionRenderers\",\"id\":\"p1330\"},\"data\":{\"type\":\"map\",\"entries\":[[\"x\",{\"type\":\"ndarray\",\"array\":{\"type\":\"bytes\",\"data\":\"j7hLi9wCLEATorruNtMrQL9SQl7ioytAAFkGUN50K0CSwxQ7KkYrQKWSZJfFFytAnCvU3a/pKkB3zyeI6LsqQNQTCBFvjipAi14A9EJhKkDfY32tYzQqQD+ny7rQBypAl/4VmonbKUAdGGTKja8pQLECmcvcgylArrhxHnZYKUA/rYNEWS0pQCVcO8CFAilA9tvaFPvXKEC+cnjGuK0oQBYt/Vm+gyhAoncjVQtaKEDgunU+nzAoQGz5TJ15ByhAiHDP+ZneJ0AOO+/c/7UnQJ/2aNCqjSdANGvCXpplJ0DoNEkTzj0nQBdwEXpFFidAsWf0HwDvJkDWRY+S/ccmQKXGQWA9oSZATe0sGL96JkA/uzFKglQmQKHp74aGLiZA46TEX8sIJkB9SslmUOMlQNMo0i4VviVAN0FtSxmZJUANDOFQXHQlQAE/K9TdTyVAVpX/ap0rJUBMmsarmgclQI51nC3V4yRAqrlPiEzAJECaNGBUAJ0kQEnC/SrweSRAGyEHphtXJEBuyAhggjQkQCXBO/QjEiRAE4CE/v/vI0BqwnEbFs4jQBJsO+hlrCNA9GfBAu+KI0AiiooJsWkjQPNzw5urSCNA/Xk9Wd4nI0Dki23iSAcjQBkea9jq5iJAZBXv3MPGIkBLtFKS06YiQESKjpsZhyJAyGQ5nJVnIkAXQoc4R0giQOhFSBUuKSJAwK/n10kKIkAo02ommushQIsRcKcezSFA5NUtAteuIUAgknHewpAhQDy+nuThciFACdmtvTNVIUC7aisTuDchQBEJN49uGiFANV2C3Fb9IEBCK1CmcOAgQHJbc5i7wyBA8AROXzenIEBFetCn44ogQHFXeB/AbiBAi5FPdMxSIEASiOtUCDcgQMEXbHBzGyBA/K56dg0AIECpx5IurMkfQCEXJAeakx9Aj6cq2eNdH0ACujMIiSgfQLit1viI8x5AczuzEOO+HkDTs2+2looeQKpAt1GjVh5ARSk4SwgjHkCwGaIMxe8dQN5spADZvB1Av3nskkOKHUBC4yMwBFgdQBrr7kUaJh1Ag8fqQoX0HEDF+6uWRMMcQIKzvLFXkhxA4iCbBb5hHEB43bcEdzEcQPdNdCKCARxAjwgh097RG0AVPvyLjKIbQNslMMOKcxtAMmzR79hEG0Cdo92JdhYbQKO4OQpj6BpAUGiw6p26GkBFufClJo0aQGd3jLf8XxpAJbL2mx8zGkBLPYLQjgYaQGE0YNNJ2hlAk4CeI1CuGUAaYSZBoYIZQCX2uqw8VxlAPc735yEsGUAddk91UAEZQAQLCtjH1hhAac9DlIesGEAgwusuj4IYQOg3wi3eWBhAU3dXF3QvGEAPVwpzUAYYQJHeBsly3RdA/uhEotq0F0CHyoaIh4wXQPb3VwZ5ZBdAk7ALp648F0BLqrv2JxUXQCDARoLk7RZAyKJP1+PGFkCXizuEJaAWQJPxMBipeRZAw0AWI25TFkCvk5A1dC0WQPtuAuG6BxZAQX+Kt0HiFUD9WAJMCL0VQKE6/TEOmBVAx9DG/VJzFUB3/GFE1k4VQIibh5uXKhVAEFOlmZYGFUDdW9zV0uIUQAtRAOhLvxRAjwCWaAGcFEDLPdLw8ngUQCe2mBogVhRAqMd6gIgzFEB3Wba9KxEUQA==\"},\"shape\":[155],\"dtype\":\"float64\",\"order\":\"little\"}],[\"y\",{\"type\":\"ndarray\",\"array\":{\"type\":\"bytes\",\"data\":\"5OXltOm7V0G015wx+whYQRZXT4ILR1dBe5V3X4zWV0FMUxMAMdlXQSKqG9LfkFdB+ha5w3M4VkEmRtZibSJXQUK8DkA7W1dBgdzSVHptVkEvHFMnMetVQbGHXDxvjVNB7OG8aAv2VEGRWUqyyl5RQR4NVAahwFRBaind6wpzTkHwrjvbvz5OQXSDBW5ZRVNBsxT+N1WOUEHRfntdwqhHQXL2Pu67o0RBHktUpb7kU0GqWVfuAz1HQRTD9MxawztBYEV0pTDLUEG5AIyBxZlPQWLGkezhwDpBfzf26ys7QEHIZuPrlgdOQZub1qsQtkFBC+TW8WFcOUHMsoiqk1JOQVrt17neU0ZBHnvcZIdbNEGi/DwFtbxBQUKWxtZnQUhBhTI5A1CDNUGp/6sen+BCQezkaDRqUjxBqu+rpkCnLkGd5wZ/AmcxQZeNnHfslzdB+q7o0YjrNkGvfLI8mdEpQepL4IQxRzRB917Qe7crLUGJ3LFudtAnQWVeRMM/KDhBoJJFNYiVP0HIZVhgiBUqQdxcGFieTzBB4IpnE46ZL0Gbozp5y4UhQaISceoTETFBe3gLZjrkLUGUSpGt5BIgQePZWP5PqStBKrySAP7KIkEIO8cOxnocQcn9BmVNMjBBuu1m2gjtIEEtyzuqZYwgQVRdAm2h4S9B/WBwHku/IUEe46AyJPApQRnuGqZ5MjBBr+juPWgeNUGG59MthBw1QX/8NFdSPzRBIq1STe3GQkEP+yNu7YI2QYN63LfaGUdBPK+7mxy5Q0G/jXEcS3RCQWhLi00RRkdB9q7/x0lwREEW73MYjO9HQezNIIpNlkNB59nGSrSYQkEL4+YRbgtCQVscDMv84TlB3eKThQlYNUEiqDlc0z4qQTgc3A3RwxNBqq+yHVCyDEHqvcETnMf/QDNHHYWRNvZAiHMinFBo9UCPBkSVl5TyQDXxh2tU8fJAASe8UKID+0BVt18+XZvwQLgR35HLAO5AHidLCd6i5kDLCSb1CefvQOAaXcLeFPBAHen63fGR8EDbsZDnKM0EQbkUFUW6kR1Bcw/j8e4wKkGdhm3/q3wyQeL/QmNBVC9BEqChpljWLkGO70z0iTQuQXwTryuENS1BABwwyXLRJEELDLKlhgcoQcM3f6aVsSFBvwTlniohGkE2vnKV3VgdQa9ymyWPbxZBsR46hu2CBUHSScVPKksQQWqFmvLubfhAepybavN280AZgicSvNvXQDZ1ZZFnYORA3riBt9LD4UDMOcPRBIjmQDqyt4sLreVAjOM8a/fR4kCSKRQJIFvmQDxv+ufYiNVAE5n2HUTOyUBVNZ2qc7DEQOnSbIJWW8NAPdO+io0m2EBy0B0rE7fWQK9hxnzLpc5AxUMg9CT44UDVMdnMCwrJQMF1hvFvX8lAuS8Zo0eqzUAY3ph5GEjdQCdLpoH+adlAUovBf1nz6UCZq1eRvN7pQOOPVNPDZvRAtjHpSsNp9kDMXk9OF8v/QEPJlYQbXABBRxyJ8uPnBkF9XbI5mN8EQdd+3J+EOwlBzVNJbudxBUHuNaSI9boAQaBRj1X5yAVB35+9jI3xBEEuNMa9wTwDQWorcuhKugJB8Zkv2Fd8AUFpUO449JcAQfo8BwMPQP9A0D6JPbNg/UAOSkgTiVz7QA==\"},\"shape\":[155],\"dtype\":\"float64\",\"order\":\"little\"}]]}}},\"view\":{\"type\":\"object\",\"name\":\"CDSView\",\"id\":\"p1336\",\"attributes\":{\"filter\":{\"type\":\"object\",\"name\":\"AllIndices\",\"id\":\"p1337\"}}},\"glyph\":{\"type\":\"object\",\"name\":\"Line\",\"id\":\"p1332\",\"attributes\":{\"x\":{\"type\":\"field\",\"field\":\"x\"},\"y\":{\"type\":\"field\",\"field\":\"y\"},\"line_color\":\"#0072B2\",\"line_width\":3}},\"nonselection_glyph\":{\"type\":\"object\",\"name\":\"Line\",\"id\":\"p1333\",\"attributes\":{\"x\":{\"type\":\"field\",\"field\":\"x\"},\"y\":{\"type\":\"field\",\"field\":\"y\"},\"line_color\":\"#0072B2\",\"line_alpha\":0.1,\"line_width\":3}},\"muted_glyph\":{\"type\":\"object\",\"name\":\"Line\",\"id\":\"p1334\",\"attributes\":{\"x\":{\"type\":\"field\",\"field\":\"x\"},\"y\":{\"type\":\"field\",\"field\":\"y\"},\"line_color\":\"#0072B2\",\"line_alpha\":0.2,\"line_width\":3}}}},{\"type\":\"object\",\"name\":\"GlyphRenderer\",\"id\":\"p1344\",\"attributes\":{\"data_source\":{\"type\":\"object\",\"name\":\"ColumnDataSource\",\"id\":\"p1338\",\"attributes\":{\"selected\":{\"type\":\"object\",\"name\":\"Selection\",\"id\":\"p1340\",\"attributes\":{\"indices\":[],\"line_indices\":[]}},\"selection_policy\":{\"type\":\"object\",\"name\":\"UnionRenderers\",\"id\":\"p1339\"},\"data\":{\"type\":\"map\",\"entries\":[[\"x\",{\"type\":\"ndarray\",\"array\":{\"type\":\"bytes\",\"data\":\"j7hLi9wCLEATorruNtMrQL9SQl7ioytAAFkGUN50K0CSwxQ7KkYrQKWSZJfFFytAnCvU3a/pKkB3zyeI6LsqQNQTCBFvjipAi14A9EJhKkDfY32tYzQqQD+ny7rQBypAl/4VmonbKUAdGGTKja8pQLECmcvcgylArrhxHnZYKUA/rYNEWS0pQCVcO8CFAilA9tvaFPvXKEC+cnjGuK0oQBYt/Vm+gyhAoncjVQtaKEDgunU+nzAoQGz5TJ15ByhAiHDP+ZneJ0AOO+/c/7UnQJ/2aNCqjSdANGvCXpplJ0DoNEkTzj0nQBdwEXpFFidAsWf0HwDvJkDWRY+S/ccmQKXGQWA9oSZATe0sGL96JkA/uzFKglQmQKHp74aGLiZA46TEX8sIJkB9SslmUOMlQNMo0i4VviVAN0FtSxmZJUANDOFQXHQlQAE/K9TdTyVAVpX/ap0rJUBMmsarmgclQI51nC3V4yRAqrlPiEzAJECaNGBUAJ0kQEnC/SrweSRAGyEHphtXJEBuyAhggjQkQCXBO/QjEiRAE4CE/v/vI0BqwnEbFs4jQBJsO+hlrCNA9GfBAu+KI0AiiooJsWkjQPNzw5urSCNA/Xk9Wd4nI0Dki23iSAcjQBkea9jq5iJAZBXv3MPGIkBLtFKS06YiQESKjpsZhyJAyGQ5nJVnIkAXQoc4R0giQOhFSBUuKSJAwK/n10kKIkAo02ommushQIsRcKcezSFA5NUtAteuIUAgknHewpAhQDy+nuThciFACdmtvTNVIUC7aisTuDchQBEJN49uGiFANV2C3Fb9IEBCK1CmcOAgQHJbc5i7wyBA8AROXzenIEBFetCn44ogQHFXeB/AbiBAi5FPdMxSIEASiOtUCDcgQMEXbHBzGyBA/K56dg0AIECpx5IurMkfQCEXJAeakx9Aj6cq2eNdH0ACujMIiSgfQLit1viI8x5AczuzEOO+HkDTs2+2looeQKpAt1GjVh5ARSk4SwgjHkCwGaIMxe8dQN5spADZvB1Av3nskkOKHUBC4yMwBFgdQBrr7kUaJh1Ag8fqQoX0HEDF+6uWRMMcQIKzvLFXkhxA4iCbBb5hHEB43bcEdzEcQPdNdCKCARxAjwgh097RG0AVPvyLjKIbQNslMMOKcxtAMmzR79hEG0Cdo92JdhYbQKO4OQpj6BpAUGiw6p26GkBFufClJo0aQGd3jLf8XxpAJbL2mx8zGkBLPYLQjgYaQGE0YNNJ2hlAk4CeI1CuGUAaYSZBoYIZQCX2uqw8VxlAPc735yEsGUAddk91UAEZQAQLCtjH1hhAac9DlIesGEAgwusuj4IYQOg3wi3eWBhAU3dXF3QvGEAPVwpzUAYYQJHeBsly3RdA/uhEotq0F0CHyoaIh4wXQPb3VwZ5ZBdAk7ALp648F0BLqrv2JxUXQCDARoLk7RZAyKJP1+PGFkCXizuEJaAWQJPxMBipeRZAw0AWI25TFkCvk5A1dC0WQPtuAuG6BxZAQX+Kt0HiFUD9WAJMCL0VQKE6/TEOmBVAx9DG/VJzFUB3/GFE1k4VQIibh5uXKhVAEFOlmZYGFUDdW9zV0uIUQAtRAOhLvxRAjwCWaAGcFEDLPdLw8ngUQCe2mBogVhRAqMd6gIgzFEB3Wba9KxEUQA==\"},\"shape\":[155],\"dtype\":\"float64\",\"order\":\"little\"}],[\"y\",{\"type\":\"ndarray\",\"array\":{\"type\":\"bytes\",\"data\":\"fSOIJe5eWEG1nkRV6rZYQYuwZSqp4ldBuaWpsz6DWEH173TJNohYQW4Uv7E7PVhBSngVjVbJVkG0VgvX5clXQeNUs5YGEVhBNl8pRVoTV0HEj9YCQYNWQZZA/AcKBlRBJyZoQjyKVUF0DCmI0rdRQZAC1FJYX1VB7iDdkpUCT0HKGrGETMNOQVTEnOrW3lNBdB6qB1IBUUGeP4xZHvJHQY7VkMML20RBGSIZ9jaRVEGUDzfM2qFHQbacMo1O2jtBU3lHp3pQUUHgzaIzzz5QQd7/JLGK1zpBA/McJ7pnQEGTtybwBfROQbah3BKp9EFB5HXnpOB6OUE82sm4il5PQblHFA+/3UZBfQMMNEdwNEGnME9ORxhCQSbEi1i8/EhBUKSDN7CjNUGcqMerRjxDQe3ywVINoTxBNhxgiWGwLkGPtlK8MW8xQS+ZCa7szzdBioNqqFUrN0HzmwYIWdspQakKVxm0aTRBhI7XDT0wLUGB/WMwwdUnQewe7ddBpDhBAailv3pSQEFRWqtUwTUqQScE1XBKhjBBuZilvmP/L0Gsj0jUVIghQTber9pYYzFBBJYNJ2pXLkG2ZyIcExcgQZLMFFlF+ytBDXkq7WngIkGY36C+vo8cQcgTx01SkDBB9wajMa4EIUHn0xFhJaEgQcNoxSpKVjBBLl6HNq3oIUEP/mvSMXAqQY12YAqOyjBB8MNRCr0ANkHU/kDjPAU2QcilUAaTNzVBM0XYh/8QREG615TbEJ03Qfg3+9zpEUlB0S4MpaI+RUHhhSZo4gJEQczoue1hi0lBtk7BIwBMRkGwAwPQxnVKQWpTXMdyZEVBHVnnOphuREHnQcG+XMJDQTy976nwHzxB6IqKt6cJN0FIy33fjgEsQdQx0j55cxRBpenOsHh3DUHQORZRTwIAQUbOK+ydTfZAaUwzikx19UBjP8ltsJryQBSW5F/g+fJA+FzTujM6+0DVUZvfpbbwQLRkzG7wKO5A3kckpM+p5kDfRVkavPrvQCcvJeG1K/BAb/STDSGr8ECGdjwuBaAFQR5Ra11V3B9BeB31w4L0LEEYRkiuhM80QWakLH+drzFBYHg+kq1hMUFaX3gWtfMwQfbul5SWejBB2QjNGqw8J0EJalutNiArQXu4tChVtSNBiM9Gb7bMHEEpeAvWVFkgQXfOqZjTuhhBEmC3TQw0B0ELZrG/T7MRQbF8ds9QF/pAVhPFCkWe9EBUdt6pcCbYQPMibjx1LeVARAAHkFpp4kCE1G6LlNbnQOi+fe6XCOdAYRj+s3UH5ECdA8erA/znQLlL1Y+PLdZA35d80rz2yUB98aLn5sTEQB90Ku9WgsNA/Bd7VDxU2UCwbeBJ+zjYQNKC/4kGAtBASY0BK7zh40BEjuanoTLKQPtUpYjUrspAHSxGYj7Jz0AMaPg7SCngQLw9xo5AD9xAwb6VEFxR7UBzxcAuCDvtQOoccSLggPdAnUpPvAf5+UBpaWti+KoCQeY7q5xsaQNBCRtJoOCTC0GZ59YankMJQf+qF73c+g5BxMslRHZFCkFVxG/ToLYEQXPmsCz39gpB1RdZpaoTCkHjZc2oKfEHQXevaSLgaQdB1N/9EZPkBUEOjqyRjeAEQYex0vJ2rgNBKSu6FA+RAkHm+Z0ltU4BQQ==\"},\"shape\":[155],\"dtype\":\"float64\",\"order\":\"little\"}]]}}},\"view\":{\"type\":\"object\",\"name\":\"CDSView\",\"id\":\"p1345\",\"attributes\":{\"filter\":{\"type\":\"object\",\"name\":\"AllIndices\",\"id\":\"p1346\"}}},\"glyph\":{\"type\":\"object\",\"name\":\"Line\",\"id\":\"p1341\",\"attributes\":{\"x\":{\"type\":\"field\",\"field\":\"x\"},\"y\":{\"type\":\"field\",\"field\":\"y\"},\"line_color\":\"#E69F00\",\"line_width\":3}},\"nonselection_glyph\":{\"type\":\"object\",\"name\":\"Line\",\"id\":\"p1342\",\"attributes\":{\"x\":{\"type\":\"field\",\"field\":\"x\"},\"y\":{\"type\":\"field\",\"field\":\"y\"},\"line_color\":\"#E69F00\",\"line_alpha\":0.1,\"line_width\":3}},\"muted_glyph\":{\"type\":\"object\",\"name\":\"Line\",\"id\":\"p1343\",\"attributes\":{\"x\":{\"type\":\"field\",\"field\":\"x\"},\"y\":{\"type\":\"field\",\"field\":\"y\"},\"line_color\":\"#E69F00\",\"line_alpha\":0.2,\"line_width\":3}}}},{\"type\":\"object\",\"name\":\"GlyphRenderer\",\"id\":\"p1353\",\"attributes\":{\"data_source\":{\"type\":\"object\",\"name\":\"ColumnDataSource\",\"id\":\"p1347\",\"attributes\":{\"selected\":{\"type\":\"object\",\"name\":\"Selection\",\"id\":\"p1349\",\"attributes\":{\"indices\":[],\"line_indices\":[]}},\"selection_policy\":{\"type\":\"object\",\"name\":\"UnionRenderers\",\"id\":\"p1348\"},\"data\":{\"type\":\"map\",\"entries\":[[\"x\",{\"type\":\"ndarray\",\"array\":{\"type\":\"bytes\",\"data\":\"j7hLi9wCLEATorruNtMrQL9SQl7ioytAAFkGUN50K0CSwxQ7KkYrQKWSZJfFFytAnCvU3a/pKkB3zyeI6LsqQNQTCBFvjipAi14A9EJhKkDfY32tYzQqQD+ny7rQBypAl/4VmonbKUAdGGTKja8pQLECmcvcgylArrhxHnZYKUA/rYNEWS0pQCVcO8CFAilA9tvaFPvXKEC+cnjGuK0oQBYt/Vm+gyhAoncjVQtaKEDgunU+nzAoQGz5TJ15ByhAiHDP+ZneJ0AOO+/c/7UnQJ/2aNCqjSdANGvCXpplJ0DoNEkTzj0nQBdwEXpFFidAsWf0HwDvJkDWRY+S/ccmQKXGQWA9oSZATe0sGL96JkA/uzFKglQmQKHp74aGLiZA46TEX8sIJkB9SslmUOMlQNMo0i4VviVAN0FtSxmZJUANDOFQXHQlQAE/K9TdTyVAVpX/ap0rJUBMmsarmgclQI51nC3V4yRAqrlPiEzAJECaNGBUAJ0kQEnC/SrweSRAGyEHphtXJEBuyAhggjQkQCXBO/QjEiRAE4CE/v/vI0BqwnEbFs4jQBJsO+hlrCNA9GfBAu+KI0AiiooJsWkjQPNzw5urSCNA/Xk9Wd4nI0Dki23iSAcjQBkea9jq5iJAZBXv3MPGIkBLtFKS06YiQESKjpsZhyJAyGQ5nJVnIkAXQoc4R0giQOhFSBUuKSJAwK/n10kKIkAo02ommushQIsRcKcezSFA5NUtAteuIUAgknHewpAhQDy+nuThciFACdmtvTNVIUC7aisTuDchQBEJN49uGiFANV2C3Fb9IEBCK1CmcOAgQHJbc5i7wyBA8AROXzenIEBFetCn44ogQHFXeB/AbiBAi5FPdMxSIEASiOtUCDcgQMEXbHBzGyBA/K56dg0AIECpx5IurMkfQCEXJAeakx9Aj6cq2eNdH0ACujMIiSgfQLit1viI8x5AczuzEOO+HkDTs2+2looeQKpAt1GjVh5ARSk4SwgjHkCwGaIMxe8dQN5spADZvB1Av3nskkOKHUBC4yMwBFgdQBrr7kUaJh1Ag8fqQoX0HEDF+6uWRMMcQIKzvLFXkhxA4iCbBb5hHEB43bcEdzEcQPdNdCKCARxAjwgh097RG0AVPvyLjKIbQNslMMOKcxtAMmzR79hEG0Cdo92JdhYbQKO4OQpj6BpAUGiw6p26GkBFufClJo0aQGd3jLf8XxpAJbL2mx8zGkBLPYLQjgYaQGE0YNNJ2hlAk4CeI1CuGUAaYSZBoYIZQCX2uqw8VxlAPc735yEsGUAddk91UAEZQAQLCtjH1hhAac9DlIesGEAgwusuj4IYQOg3wi3eWBhAU3dXF3QvGEAPVwpzUAYYQJHeBsly3RdA/uhEotq0F0CHyoaIh4wXQPb3VwZ5ZBdAk7ALp648F0BLqrv2JxUXQCDARoLk7RZAyKJP1+PGFkCXizuEJaAWQJPxMBipeRZAw0AWI25TFkCvk5A1dC0WQPtuAuG6BxZAQX+Kt0HiFUD9WAJMCL0VQKE6/TEOmBVAx9DG/VJzFUB3/GFE1k4VQIibh5uXKhVAEFOlmZYGFUDdW9zV0uIUQAtRAOhLvxRAjwCWaAGcFEDLPdLw8ngUQCe2mBogVhRAqMd6gIgzFEB3Wba9KxEUQA==\"},\"shape\":[155],\"dtype\":\"float64\",\"order\":\"little\"}],[\"y\",{\"type\":\"ndarray\",\"array\":{\"type\":\"bytes\",\"data\":\"L96SHjdWWEEUqKeRxq1YQTXUjiuz2VdBsdX/mXt5WEHtJ9OgFX5YQR2rlATxMlhBT8ts2iDAVkG+LLt4m79XQQAi9+4zBlhBEMR8RAAJV0HETNssSXlWQQ6WW/C2/VNBUhAO/MWAVUE/KUV82LBRQc23Y8NyVVVBwr0AVzz3TkHK0K+RerhOQf3V0lRz1VNBMIaiYND5UEGbete2kupHQeWFh52Z1ERBuozPl1+HVEGKeyJzpJlHQalFahmN0ztBMJ6Zp8pIUUHjCQDIFzhQQazEVWgv0TpBUsQ22XFjQEGNrTDKR+dOQdIIzIND70FBr0nlwgh0OUGZQy+0m1FPQdpGLyOj1UZB4kmZJY5sNEF/RNB4cxJCQRLnWVSW80hBbn72x+edNUGj/qw9GTZDQXj5Z2XglzxBeDF6z3esLkGLBxzGi24xQQ7Nmy7WyDdBj0cdDa8kN0FXwMPCsNYpQax/NF/CYzRBm7celiYvLUHxGM6DKtMnQfPVIEYgnjhB5gKXGmdOQEG0Du+sPTEqQTWuZLzfgjBBIKuk2hv5L0FhNukqbIchQRQvVBuRYDFBTVTkYw5TLkGTEmHTKhYgQXLp6nEZ+CtBWXbkDlDeIkHUKUTJsowcQc6nJGg6jTBBk6Co5+kBIUGo0M8bB54gQZbIr0MVUzBBlgrTIa7mIUHdb0YFpGwqQQ+pJmIcxzBBkmXI7AP8NUFRiILYTv81QUGj2du8MDVB4sRpPt4EREENqp3b/ZI3QR7mz/rR/EhBsQR2K6ktRUFwwtKbR/FDQQsu8Jf8cUlBeh1fD741RkES991fKlhKQThpLchxTkVBjTX/WUNZREHhcsFefa1DQdGdMtnvBTxBqigKGA72NkHlVJ7Xku8rQWmyV31+bhRBv7LjJQ5yDUHvM+gJRAAAQVsFjOCnS/ZAiURfefBy9UCDbpCOMpnyQPNsGIBf+PJAaNqH0Lk5+0AU9ai0WrXwQNA8a8jSJe5A1RlaLOen5kBfMWrGQ/nvQFceq3bXKvBACK/UtKWp8EChqhmf8JoFQQ/wZnN7yB9BohszA7fdLEG1XkLTz7s0QbPmDYpmoDFBoGSOBDZTMUG/ikj7AOUwQQfx2phubDBB3UwWJaorJ0FKA0+QwgkrQRv/jhrHpiNBuXMYbgu7HEHwxPU+JE4gQfNsYzkYqxhB7rEGYRwrB0Hun+tp4qkRQSmpWRaFEPpA3gJ/8q6Z9ECAjJYKYCXYQPtSn+cLLOVACEK5Uo5o4kBV4xpRX9TnQIB9PJMxB+dATB9EHf4F5EBPJnuXX/jnQN+NUjHFLNZAC9pKJHP2yUCum9LZcMTEQGpx3uT5gcNANaWZUINT2UAOJoOVuzjYQEpRf81SAtBAz3j8t8Pe40DQWlKhnDLKQIqpGGJ4r8pAEhadv93Ez0BjVruPgSXgQHxqOEw/BtxA9vk/oqlC7UDEdttIoyjtQDm7nmzvbvdAYq+ZLMLi+UAweKg2cpcCQbAfuOFnVANBX3f2E4ltC0GgeqNLhyEJQYkwW53Yyg5BW2Cu8GwcCkG61IMVJ5oEQXo4pcA2yApBfB+FcTHmCUGnuVDeE8YHQa7eQ3aWPwdBSB0kZFO8BUEUADFW17oEQaP3jj44igNBbhYE5iVvAkGn8NBucS4BQQ==\"},\"shape\":[155],\"dtype\":\"float64\",\"order\":\"little\"}]]}}},\"view\":{\"type\":\"object\",\"name\":\"CDSView\",\"id\":\"p1354\",\"attributes\":{\"filter\":{\"type\":\"object\",\"name\":\"AllIndices\",\"id\":\"p1355\"}}},\"glyph\":{\"type\":\"object\",\"name\":\"Line\",\"id\":\"p1350\",\"attributes\":{\"x\":{\"type\":\"field\",\"field\":\"x\"},\"y\":{\"type\":\"field\",\"field\":\"y\"},\"line_color\":\"#F0E442\",\"line_width\":3}},\"nonselection_glyph\":{\"type\":\"object\",\"name\":\"Line\",\"id\":\"p1351\",\"attributes\":{\"x\":{\"type\":\"field\",\"field\":\"x\"},\"y\":{\"type\":\"field\",\"field\":\"y\"},\"line_color\":\"#F0E442\",\"line_alpha\":0.1,\"line_width\":3}},\"muted_glyph\":{\"type\":\"object\",\"name\":\"Line\",\"id\":\"p1352\",\"attributes\":{\"x\":{\"type\":\"field\",\"field\":\"x\"},\"y\":{\"type\":\"field\",\"field\":\"y\"},\"line_color\":\"#F0E442\",\"line_alpha\":0.2,\"line_width\":3}}}},{\"type\":\"object\",\"name\":\"GlyphRenderer\",\"id\":\"p1362\",\"attributes\":{\"data_source\":{\"type\":\"object\",\"name\":\"ColumnDataSource\",\"id\":\"p1356\",\"attributes\":{\"selected\":{\"type\":\"object\",\"name\":\"Selection\",\"id\":\"p1358\",\"attributes\":{\"indices\":[],\"line_indices\":[]}},\"selection_policy\":{\"type\":\"object\",\"name\":\"UnionRenderers\",\"id\":\"p1357\"},\"data\":{\"type\":\"map\",\"entries\":[[\"x\",{\"type\":\"ndarray\",\"array\":{\"type\":\"bytes\",\"data\":\"j7hLi9wCLEBbMcOrItMrQFXlwT3OoytA+U7CUcp0K0C74NJeFkYrQNv96tyxFytAI27pRJzpKkBQ1JIQ1bsqQBsnkLpbjipAzCxtvi9hKkB5+ZaYUDQqQLxvWsa9BypADMTixXbbKUCIAjgWe68pQFmXPTfKgylAiNmwqWNYKUBMmCfvRi0pQNmqDopzAilAl4Ko/ejXKEDRvwvOpq0oQL/IIYCsgyhADmOlmflZKECvTyGhjTAoQBfp7h1oByhA0cM0mIjeJ0BnUeWY7rUnQJeFvamZjSdA531DVYllJ0BqK8UmvT0nQOb+Vqo0FidAJpfSbO/uJkCTcdX77McmQAudv+UsoSZA7G6yua56JkBPOo8HclQmQHEJ9l92LiZAU1lEVLsIJkB115N2QOMlQLghuVkFviVAZ4hCkQmZJUBX0naxTHQlQB8DVE/OTyVAbCOOAI4rJUBgC45biwclQAUvcPfF4yRAzGwDbD3AJEAK3sdR8ZwkQImp7UHheSRACdhT1gxXJEDNKoepczQkQBX0wFYVEiRAnPHlefHvI0D+KIWvB84jQBDG1pRXrCNALfu6x+CKI0Bl47jmomkjQJBm/ZCdSCNASh9aZtAnI0DOQkQHOwcjQKeK0xTd5iJARSDBMLbGIkBfimb9xaYiQCmcvB0MhyJAY2ZaNYhnIkAtKnToOUgiQJ9N2tsgKSJANVL4tDwKIkD8zNMZjeshQHVgC7ERzSFARLjVIcquIUCQhgAUtpAhQB2D7y/VciFAImybHidVIUDCCJGJqzchQEYt8BpiGiFA9cBqfUr9IEChxUNcZOAgQM9gTmOvwyBAiubsPiunIEDd5Q+c14ogQNQ2NSi0biBAPQpnkcBSIEDd+jqG/DYgQFIg0bVnGyBAgiPTzwEAIEA0qeYIlckfQDWF1wiDkx9A5qj6Ac1dH0A/x91XcigfQKmwGG9y8x5AUY5Lrcy+HkCDIB15gIoeQPj/ODqNVh5ANeJNWfIiHkCz4AtAr+8dQCTDIlnDvB1AekxAEC6KHUDoig7S7lcdQLsqMgwFJh1ACsxILXD0HEBEW+ekL8McQIVsmONCkhxAupnaWqlhHECN4x59YjEcQBEVx71tARxALyokkcrRG0DKuHRseKIbQI9c48V2cxtAhCWFFMVEG0AzCVjQYhYbQIlWQXJP6BpASSwMdIq6GkAp8mdQE40aQHzU5oLpXxpAfEL8hwwzGkAeb/vcewYaQHHUFQA32hlAhLlZcD2uGUDVurCtjoIZQDtV3jgqVxlASHN+kw8sGUAm/QNAPgEZQOJqt8G11hhAKVm1nHWsGEBwIO1VfYIYQHhuH3PMWBhAQeLcemIvGEBRqoT0PgYYQFwlQ2hh3RdAOIUQX8m0F0AtdK9idowXQIu8q/1nZBdAk/JYu508F0CXINEnFxUXQGx188/T7RZAEvViQdPGFkCTK4UKFaAWQCXigLqYeRZAbtY84V1TFkANdF4PZC0WQDOQSNaqBxZAeycayDHiFUDcHa13+LwVQL8AlXj+lxVAKcsdX0NzFUAKrErAxk4VQJ/O1DGIKhVA2SQqSocGFUDqM2ygw+IUQMXibsw8vxRAuUq3ZvKbFEAEinoI5HgUQGmYnEsRVhRAxx2vynkzFEB3Wba9KxEUQA==\"},\"shape\":[155],\"dtype\":\"float64\",\"order\":\"little\"}],[\"y\",{\"type\":\"ndarray\",\"array\":{\"type\":\"bytes\",\"data\":\"gnZytViDWEFyg7Y3qOZYQQoYtZ+NO1hBgAlCtCWzWEFk1RFgqrNYQYCz/Q9Sf1hBUKhr/mL9VkFdFlsLcPVXQQH+TgMAL1hBPv5hwNppV0GpFVA8g6VWQaWgynbAKVRBQk8ZSe+zVUH2Cj5EXvZRQY7AQvuyalVBNSXPbncdT0Hn8v7ohvdOQeONNXOnH1RBC6PAW+D6UEF8tGwCA3RIQd10GGEQGEVBtmTP0s26VEH2J7vHHxtIQfTek9thOjxBryAXuwV3UUFMrWuhiklQQV6LbmPNuzpBR5NnJui+QEFMS6ZaeztPQaYFcJ0LXkJB2XwL9JiHOkFnaKGcyrFPQd5jhwQa8UZBEuIE7nh4NEENCZr5TIdCQUwTP4zTO0lBHEYx5CPNNUE9a0ErIYhDQQuvdLe2Zz1Bagk4nS8sMEEmuxAITh4yQUa32P0pjDhB+BGvl5qSN0Fm6AD1O88qQRX9rXjCtjRBQumPYLRjLkGvpGpZNpMoQdDdgEwSJjlB7hv8yQNsQEEG5Uo9dnQqQad/ZZ7M3DBBrgRlyi8sMEFlwBa6ShkhQYBLIJgZpTFBJUun90JNLkFUIpMouTcgQSnxy9F5nyxBPnmOYnDQI0GgyU44ypEcQRHcXI0v4DBBLlHWVO5NIUH8k2PdAYUgQexLtCYUhzBBITpIqNIOIkFU/GkskbkqQaLA6BkbwzBBdoIMW+wRNkHKPn1Xr+I1QZSUxH8P5jRB4AmZao8FREE7NogKjcI3Qb3EwwBF/UhBADwh3680RUGqV7wsxvFDQbhOitp/GEpBjSB82hteRkH/AAmRJy5KQfJvMvGU0ERBEc5aDjFrREFIKpSOaBhDQVIeO9oNczxBBTyuTizeNkHNFVRWI0AsQZCzchoRDxVBcjQeISiBDUH1voXMcTT/QLGfgc0Um/VA51APENrH9UCOcxIFA4XyQD0eFpg1p/ZAm3YkmRrI/ECNmGesagXwQGMEZE4qwexAenUwd0AD6UBtnB0VJtPwQMXHXvUVIvBAQ7iyAiCW70CEjveFtBcFQbEZ9WZhFSBBRUIzBGzSLEF1QPh2s1o0QarBAtjDrjFBZ6JLZ6FaMUFdWBM9eJwwQaJbCdY4sDBBKoX1CV/AJ0HoJAF195kqQdDDPGTnVSNBdzKHWcDUHEEBZXhRtn8gQeU4rm5kexhBqQQhFr+QB0Edd/okXJIRQfFCtSztt/pAFHFdhn9B9UBIxFChjgjYQEH8mBM36eRAAMKU5N+z4UBlxWEPJhzoQOHsHbn0vuZA9SLFTDol5EC0O+GK99boQKBJucg4gtdAsOD2wgKuxUDbpL+RyE/EQKcVwEDMjMVA9a+wfqJ12UDEsnpXZojXQBUnC3YkqM9A9fu/0rrr40AuYBpM7z3KQDwfy9PyBMtAbtatIkTK0EDn7+Iv7grfQIRw7IspkN1AJ50MBdWE7EB8/n53sIbtQO47+iUDt/ZAUa0Pj+ci+kD99CzCgbcCQVsCyw3BjwNBpFEkbfuTC0E+lS6eY9EIQWCuiAmCnA5BHHfzkRtkCkGJ9KbJ6yIFQUNh5EX4tApBUIew+bTpCUGkUqKOwbIHQQaknxcINQdB56f+hgOxBUHqcan6WbkEQW4W1IUyggNBUgbsjlhrAkFuuFSHaDEBQQ==\"},\"shape\":[155],\"dtype\":\"float64\",\"order\":\"little\"}]]}}},\"view\":{\"type\":\"object\",\"name\":\"CDSView\",\"id\":\"p1363\",\"attributes\":{\"filter\":{\"type\":\"object\",\"name\":\"AllIndices\",\"id\":\"p1364\"}}},\"glyph\":{\"type\":\"object\",\"name\":\"Line\",\"id\":\"p1359\",\"attributes\":{\"x\":{\"type\":\"field\",\"field\":\"x\"},\"y\":{\"type\":\"field\",\"field\":\"y\"},\"line_color\":\"#009E73\",\"line_width\":3}},\"nonselection_glyph\":{\"type\":\"object\",\"name\":\"Line\",\"id\":\"p1360\",\"attributes\":{\"x\":{\"type\":\"field\",\"field\":\"x\"},\"y\":{\"type\":\"field\",\"field\":\"y\"},\"line_color\":\"#009E73\",\"line_alpha\":0.1,\"line_width\":3}},\"muted_glyph\":{\"type\":\"object\",\"name\":\"Line\",\"id\":\"p1361\",\"attributes\":{\"x\":{\"type\":\"field\",\"field\":\"x\"},\"y\":{\"type\":\"field\",\"field\":\"y\"},\"line_color\":\"#009E73\",\"line_alpha\":0.2,\"line_width\":3}}}}],\"toolbar\":{\"type\":\"object\",\"name\":\"Toolbar\",\"id\":\"p1290\",\"attributes\":{\"tools\":[{\"type\":\"object\",\"name\":\"PanTool\",\"id\":\"p1314\"},{\"type\":\"object\",\"name\":\"WheelZoomTool\",\"id\":\"p1315\"},{\"type\":\"object\",\"name\":\"BoxZoomTool\",\"id\":\"p1316\",\"attributes\":{\"overlay\":{\"type\":\"object\",\"name\":\"BoxAnnotation\",\"id\":\"p1317\",\"attributes\":{\"syncable\":false,\"level\":\"overlay\",\"visible\":false,\"left_units\":\"canvas\",\"right_units\":\"canvas\",\"bottom_units\":\"canvas\",\"top_units\":\"canvas\",\"line_color\":\"black\",\"line_alpha\":1.0,\"line_width\":2,\"line_dash\":[4,4],\"fill_color\":\"lightgrey\",\"fill_alpha\":0.5}}}},{\"type\":\"object\",\"name\":\"SaveTool\",\"id\":\"p1318\"},{\"type\":\"object\",\"name\":\"ResetTool\",\"id\":\"p1319\"},{\"type\":\"object\",\"name\":\"HelpTool\",\"id\":\"p1320\"}]}},\"left\":[{\"type\":\"object\",\"name\":\"LinearAxis\",\"id\":\"p1307\",\"attributes\":{\"ticker\":{\"type\":\"object\",\"name\":\"BasicTicker\",\"id\":\"p1309\",\"attributes\":{\"mantissas\":[1,2,5]}},\"formatter\":{\"type\":\"object\",\"name\":\"BasicTickFormatter\",\"id\":\"p1310\"},\"axis_label\":\"Spectrum\",\"axis_label_text_font\":\"times\",\"axis_label_text_font_size\":\"14pt\",\"axis_label_text_font_style\":\"bold\",\"major_label_policy\":{\"type\":\"object\",\"name\":\"AllLabels\",\"id\":\"p1308\"},\"major_label_text_font\":\"times\",\"major_label_text_font_size\":\"14pt\"}},{\"type\":\"object\",\"name\":\"Legend\",\"id\":\"p1365\",\"attributes\":{\"location\":[0,0],\"click_policy\":\"mute\",\"items\":[{\"type\":\"object\",\"name\":\"LegendItem\",\"id\":\"p1366\",\"attributes\":{\"label\":{\"type\":\"value\",\"value\":\"PICASO\"},\"renderers\":[{\"id\":\"p1335\"}]}},{\"type\":\"object\",\"name\":\"LegendItem\",\"id\":\"p1367\",\"attributes\":{\"label\":{\"type\":\"value\",\"value\":\"SH2\"},\"renderers\":[{\"id\":\"p1344\"}]}},{\"type\":\"object\",\"name\":\"LegendItem\",\"id\":\"p1368\",\"attributes\":{\"label\":{\"type\":\"value\",\"value\":\"SH4\"},\"renderers\":[{\"id\":\"p1353\"}]}},{\"type\":\"object\",\"name\":\"LegendItem\",\"id\":\"p1369\",\"attributes\":{\"label\":{\"type\":\"value\",\"value\":\"DISORT16\"},\"renderers\":[{\"id\":\"p1362\"}]}}]}}],\"below\":[{\"type\":\"object\",\"name\":\"LogAxis\",\"id\":\"p1300\",\"attributes\":{\"ticker\":{\"type\":\"object\",\"name\":\"LogTicker\",\"id\":\"p1302\",\"attributes\":{\"num_minor_ticks\":10,\"mantissas\":[1,5]}},\"formatter\":{\"type\":\"object\",\"name\":\"LogTickFormatter\",\"id\":\"p1303\"},\"axis_label\":\"Wavelength [\\u03bcm]\",\"axis_label_text_font\":\"times\",\"axis_label_text_font_size\":\"14pt\",\"axis_label_text_font_style\":\"bold\",\"major_label_policy\":{\"type\":\"object\",\"name\":\"AllLabels\",\"id\":\"p1301\"},\"major_label_text_font\":\"times\",\"major_label_text_font_size\":\"14pt\"}}],\"center\":[{\"type\":\"object\",\"name\":\"Grid\",\"id\":\"p1306\",\"attributes\":{\"axis\":{\"id\":\"p1300\"}}},{\"type\":\"object\",\"name\":\"Grid\",\"id\":\"p1313\",\"attributes\":{\"dimension\":1,\"axis\":{\"id\":\"p1307\"}}}]}}]}};\n",
       "  const render_items = [{\"docid\":\"1cff4329-a88f-46c7-bbcf-e87c888ff6b2\",\"roots\":{\"p1283\":\"9cf8a615-5e39-4e55-9d62-c4ca81961001\"},\"root_ids\":[\"p1283\"]}];\n",
       "  root.Bokeh.embed.embed_items_notebook(docs_json, render_items);\n",
       "  }\n",
       "  if (root.Bokeh !== undefined) {\n",
       "    embed_document(root);\n",
       "  } else {\n",
       "    let attempts = 0;\n",
       "    const timer = setInterval(function(root) {\n",
       "      if (root.Bokeh !== undefined) {\n",
       "        clearInterval(timer);\n",
       "        embed_document(root);\n",
       "      } else {\n",
       "        attempts++;\n",
       "        if (attempts > 100) {\n",
       "          clearInterval(timer);\n",
       "          console.log(\"Bokeh: ERROR: Unable to run BokehJS code because BokehJS library is missing\");\n",
       "        }\n",
       "      }\n",
       "    }, 10, root)\n",
       "  }\n",
       "})(window);"
      ],
      "application/vnd.bokehjs_exec.v0+json": ""
     },
     "metadata": {
      "application/vnd.bokehjs_exec.v0+json": {
       "id": "p1283"
      }
     },
     "output_type": "display_data"
    }
   ],
   "source": [
    "fig = jpi.spectrum(xs,ys,legend=labs\n",
    "                  ,plot_width=800,x_range=wave_range,x_axis_type='log')\n",
    "jpi.show(fig)"
   ]
  },
  {
   "cell_type": "markdown",
   "metadata": {},
   "source": [
    "We can directly compare all of them. Interestingly enough, this figure shows better agreement between the methods (compared to the Brown Dwarf case). As we explain in Rooney, this is because the Toon89 methodology is better suited for scattering regimes in the limit of single scattering -> 1 and -> 0. We will explore this further below. "
   ]
  },
  {
   "cell_type": "markdown",
   "metadata": {},
   "source": [
    "# Dependence of Radiative Transfer Method on Scattering Parameters\n",
    "\n",
    "As we alluded to above, there is a large accuracy dependence on single scattering and on single scattering and asymmetry. We can run `PICASO` Toon89 methodology, along with SH2 and SH4 and compare with a precomputed cdisort 32-stream calculation. \n",
    "\n",
    "For this we will use a pre-built test function included in `picaso.test` (this will take some time as it is computing many radiative transfer calculations."
   ]
  },
  {
   "cell_type": "code",
   "execution_count": 12,
   "metadata": {},
   "outputs": [],
   "source": [
    "import picaso.test as ptest"
   ]
  },
  {
   "cell_type": "code",
   "execution_count": 13,
   "metadata": {},
   "outputs": [
    {
     "name": "stderr",
     "output_type": "stream",
     "text": [
      "/Users/nbatalh1/Documents/codes/PICASO/picaso/picaso/atmsetup.py:190: UserWarning: Ignoring LVL in input file, not a recognized molecule\n",
      "  warnings.warn(\"Ignoring %s in input file, not a recognized molecule\" % i, UserWarning)\n",
      "/Users/nbatalh1/Documents/codes/PICASO/picaso/picaso/atmsetup.py:190: UserWarning: Ignoring MUXX in input file, not a recognized molecule\n",
      "  warnings.warn(\"Ignoring %s in input file, not a recognized molecule\" % i, UserWarning)\n"
     ]
    }
   ],
   "source": [
    "# Toon quadrature\n",
    "Toon_quad = ptest.thermal_sh_test(method=\"toon\",\n",
    "                                  tau=0.2)\n",
    "# SH 2-term\n",
    "SH2 = ptest.thermal_sh_test(method=\"SH\", \n",
    "                            stream=2, tau=0.2)\n",
    "\n",
    "# SH 4-term\n",
    "SH4 = ptest.thermal_sh_test(method='SH',\n",
    "                            stream=4, tau=0.2)"
   ]
  },
  {
   "cell_type": "markdown",
   "metadata": {},
   "source": [
    "Let's load the cdisort pre computed test file that we have in the `PICASO` reference files. Note that since this is precomputed, minor differences might occur based on what it is in the Rooney paper. "
   ]
  },
  {
   "cell_type": "code",
   "execution_count": 14,
   "metadata": {},
   "outputs": [],
   "source": [
    "data_disort32 = jdi.pd.read_csv(jdi.os.path.join(jdi.__refdata__, 'base_cases','testing', \n",
    "                                         'cdisort32str_1270K_tau02.csv'),index_col=0)"
   ]
  },
  {
   "cell_type": "code",
   "execution_count": 15,
   "metadata": {},
   "outputs": [],
   "source": [
    "compare_picaso_disort32 = (data_disort32-Toon_quad)/data_disort32*100   \n",
    "compare_SH4_disort32 = (data_disort32-SH4)/data_disort32*100  \n",
    "compare_SH2_disort32 = (data_disort32-SH2)/data_disort32*100  "
   ]
  },
  {
   "cell_type": "markdown",
   "metadata": {},
   "source": [
    "## Plot heatmap comparing radiative transfer methods\n",
    "\n",
    "Reproduce Figure 6 in Rooney et al. 2023 Part II Thermal. \n",
    "\n",
    "The efficacy of Toon large depends on the strength of the scattering. When single scattering approaches 1 or 0, Toon89 can be a very effective RT method. However, for intermediate values large errors (>10%) are visible when compared to DISORT 32 stream. "
   ]
  },
  {
   "cell_type": "code",
   "execution_count": 17,
   "metadata": {},
   "outputs": [
    {
     "data": {
      "text/html": [
       "\n",
       "  <div id=\"0e3fc9e1-390b-4f33-a643-f72cead67385\" data-root-id=\"p1776\" style=\"display: contents;\"></div>\n"
      ]
     },
     "metadata": {},
     "output_type": "display_data"
    },
    {
     "data": {
      "application/javascript": [
       "(function(root) {\n",
       "  function embed_document(root) {\n",
       "  const docs_json = {\"c518d5b6-5f23-4623-ba4d-6062598e3c5b\":{\"version\":\"3.0.3\",\"title\":\"Bokeh Application\",\"defs\":[],\"roots\":[{\"type\":\"object\",\"name\":\"Row\",\"id\":\"p1776\",\"attributes\":{\"children\":[{\"type\":\"object\",\"name\":\"Figure\",\"id\":\"p1594\",\"attributes\":{\"width\":300,\"height\":400,\"x_range\":{\"type\":\"object\",\"name\":\"FactorRange\",\"id\":\"p1604\",\"attributes\":{\"factors\":[\"0.0\",\"0.1\",\"0.2\",\"0.3\",\"0.4\",\"0.5\",\"0.6\",\"0.7\",\"0.8\",\"0.9\"]}},\"y_range\":{\"type\":\"object\",\"name\":\"FactorRange\",\"id\":\"p1606\",\"attributes\":{\"factors\":[\"0.1\",\"0.2\",\"0.3\",\"0.4\",\"0.5\",\"0.6\",\"0.7\",\"0.8\",\"0.90\",\"0.950\",\"0.990\",\"0.999\",\"1.0\"]}},\"x_scale\":{\"type\":\"object\",\"name\":\"CategoricalScale\",\"id\":\"p1608\"},\"y_scale\":{\"type\":\"object\",\"name\":\"CategoricalScale\",\"id\":\"p1610\"},\"title\":{\"type\":\"object\",\"name\":\"Title\",\"id\":\"p1597\",\"attributes\":{\"text\":\"Toon89\"}},\"renderers\":[{\"type\":\"object\",\"name\":\"GlyphRenderer\",\"id\":\"p1648\",\"attributes\":{\"data_source\":{\"type\":\"object\",\"name\":\"ColumnDataSource\",\"id\":\"p1639\",\"attributes\":{\"selected\":{\"type\":\"object\",\"name\":\"Selection\",\"id\":\"p1641\",\"attributes\":{\"indices\":[],\"line_indices\":[]}},\"selection_policy\":{\"type\":\"object\",\"name\":\"UnionRenderers\",\"id\":\"p1640\"},\"data\":{\"type\":\"map\",\"entries\":[[\"index\",{\"type\":\"ndarray\",\"array\":{\"type\":\"bytes\",\"data\":\"AAAAAAEAAAACAAAAAwAAAAQAAAAFAAAABgAAAAcAAAAIAAAACQAAAAoAAAALAAAADAAAAA0AAAAOAAAADwAAABAAAAARAAAAEgAAABMAAAAUAAAAFQAAABYAAAAXAAAAGAAAABkAAAAaAAAAGwAAABwAAAAdAAAAHgAAAB8AAAAgAAAAIQAAACIAAAAjAAAAJAAAACUAAAAmAAAAJwAAACgAAAApAAAAKgAAACsAAAAsAAAALQAAAC4AAAAvAAAAMAAAADEAAAAyAAAAMwAAADQAAAA1AAAANgAAADcAAAA4AAAAOQAAADoAAAA7AAAAPAAAAD0AAAA+AAAAPwAAAEAAAABBAAAAQgAAAEMAAABEAAAARQAAAEYAAABHAAAASAAAAEkAAABKAAAASwAAAEwAAABNAAAATgAAAE8AAABQAAAAUQAAAFIAAABTAAAAVAAAAFUAAABWAAAAVwAAAFgAAABZAAAAWgAAAFsAAABcAAAAXQAAAF4AAABfAAAAYAAAAGEAAABiAAAAYwAAAGQAAABlAAAAZgAAAGcAAABoAAAAaQAAAGoAAABrAAAAbAAAAG0AAABuAAAAbwAAAHAAAABxAAAAcgAAAHMAAAB0AAAAdQAAAHYAAAB3AAAAeAAAAHkAAAB6AAAAewAAAHwAAAB9AAAAfgAAAH8AAACAAAAAgQAAAA==\"},\"shape\":[130],\"dtype\":\"int32\",\"order\":\"little\"}],[\"g0\",{\"type\":\"ndarray\",\"array\":[\"0.0\",\"0.0\",\"0.0\",\"0.0\",\"0.0\",\"0.0\",\"0.0\",\"0.0\",\"0.0\",\"0.0\",\"0.0\",\"0.0\",\"0.0\",\"0.1\",\"0.1\",\"0.1\",\"0.1\",\"0.1\",\"0.1\",\"0.1\",\"0.1\",\"0.1\",\"0.1\",\"0.1\",\"0.1\",\"0.1\",\"0.2\",\"0.2\",\"0.2\",\"0.2\",\"0.2\",\"0.2\",\"0.2\",\"0.2\",\"0.2\",\"0.2\",\"0.2\",\"0.2\",\"0.2\",\"0.3\",\"0.3\",\"0.3\",\"0.3\",\"0.3\",\"0.3\",\"0.3\",\"0.3\",\"0.3\",\"0.3\",\"0.3\",\"0.3\",\"0.3\",\"0.4\",\"0.4\",\"0.4\",\"0.4\",\"0.4\",\"0.4\",\"0.4\",\"0.4\",\"0.4\",\"0.4\",\"0.4\",\"0.4\",\"0.4\",\"0.5\",\"0.5\",\"0.5\",\"0.5\",\"0.5\",\"0.5\",\"0.5\",\"0.5\",\"0.5\",\"0.5\",\"0.5\",\"0.5\",\"0.5\",\"0.6\",\"0.6\",\"0.6\",\"0.6\",\"0.6\",\"0.6\",\"0.6\",\"0.6\",\"0.6\",\"0.6\",\"0.6\",\"0.6\",\"0.6\",\"0.7\",\"0.7\",\"0.7\",\"0.7\",\"0.7\",\"0.7\",\"0.7\",\"0.7\",\"0.7\",\"0.7\",\"0.7\",\"0.7\",\"0.7\",\"0.8\",\"0.8\",\"0.8\",\"0.8\",\"0.8\",\"0.8\",\"0.8\",\"0.8\",\"0.8\",\"0.8\",\"0.8\",\"0.8\",\"0.8\",\"0.9\",\"0.9\",\"0.9\",\"0.9\",\"0.9\",\"0.9\",\"0.9\",\"0.9\",\"0.9\",\"0.9\",\"0.9\",\"0.9\",\"0.9\"],\"shape\":[130],\"dtype\":\"object\",\"order\":\"little\"}],[\"w0\",{\"type\":\"ndarray\",\"array\":[\"1.0\",\"0.999\",\"0.990\",\"0.950\",\"0.90\",\"0.8\",\"0.7\",\"0.6\",\"0.5\",\"0.4\",\"0.3\",\"0.2\",\"0.1\",\"1.0\",\"0.999\",\"0.990\",\"0.950\",\"0.90\",\"0.8\",\"0.7\",\"0.6\",\"0.5\",\"0.4\",\"0.3\",\"0.2\",\"0.1\",\"1.0\",\"0.999\",\"0.990\",\"0.950\",\"0.90\",\"0.8\",\"0.7\",\"0.6\",\"0.5\",\"0.4\",\"0.3\",\"0.2\",\"0.1\",\"1.0\",\"0.999\",\"0.990\",\"0.950\",\"0.90\",\"0.8\",\"0.7\",\"0.6\",\"0.5\",\"0.4\",\"0.3\",\"0.2\",\"0.1\",\"1.0\",\"0.999\",\"0.990\",\"0.950\",\"0.90\",\"0.8\",\"0.7\",\"0.6\",\"0.5\",\"0.4\",\"0.3\",\"0.2\",\"0.1\",\"1.0\",\"0.999\",\"0.990\",\"0.950\",\"0.90\",\"0.8\",\"0.7\",\"0.6\",\"0.5\",\"0.4\",\"0.3\",\"0.2\",\"0.1\",\"1.0\",\"0.999\",\"0.990\",\"0.950\",\"0.90\",\"0.8\",\"0.7\",\"0.6\",\"0.5\",\"0.4\",\"0.3\",\"0.2\",\"0.1\",\"1.0\",\"0.999\",\"0.990\",\"0.950\",\"0.90\",\"0.8\",\"0.7\",\"0.6\",\"0.5\",\"0.4\",\"0.3\",\"0.2\",\"0.1\",\"1.0\",\"0.999\",\"0.990\",\"0.950\",\"0.90\",\"0.8\",\"0.7\",\"0.6\",\"0.5\",\"0.4\",\"0.3\",\"0.2\",\"0.1\",\"1.0\",\"0.999\",\"0.990\",\"0.950\",\"0.90\",\"0.8\",\"0.7\",\"0.6\",\"0.5\",\"0.4\",\"0.3\",\"0.2\",\"0.1\"],\"shape\":[130],\"dtype\":\"object\",\"order\":\"little\"}],[\"albedo\",{\"type\":\"ndarray\",\"array\":[-4.160383932365344,-2.263737592286681,9.121743761259633,27.16965822968434,33.00685032689098,28.424728481330945,19.089641190162013,11.62402465497563,6.463005095347124,2.909791100604422,0.3808431613931191,-1.4927893487430302,-2.934167311069444,-2.308300975970159,-0.6293593073903602,9.777822465743217,27.448271216490806,34.2355852164535,31.775853290972,22.790679766880555,14.613925933713972,8.600711929525975,4.345733983658402,1.2892278861239939,-0.9751951023722091,-2.7095909291314046,-0.5146354643730198,0.9524658391373585,10.36332867023195,27.590268904571253,35.30659897335474,35.25592441055632,27.06248197759272,18.27697777633202,11.283248936726705,6.150437711965465,2.417680372269173,-0.3444684281535789,-2.4423105094703477,1.1981384948131422,2.4594433347217457,10.853816138901545,27.555721850003156,36.168025027912186,38.747837100485114,31.85918724055145,22.686624518171755,14.615810812926819,8.403923151185658,3.811137365883002,0.4184756003979597,-2.1272809293586175,2.794133198261296,3.855938478828492,11.212246015662705,27.29421230094364,36.76787605034012,42.12950764415474,37.08528403360523,27.89048400546646,18.7137923585779,11.204728070179906,5.526665965095076,1.3375917182335608,-1.7584838393989357,4.212630182307985,5.081641901628407,11.37827149024094,26.735551717303835,37.048955693023814,45.2871942490832,42.595320990801454,33.88802225764284,23.69237048591683,14.671322733464947,7.636573314431501,2.443093672232078,-1.3286851866701377,5.342475718801892,6.026139135327944,11.244563439423546,25.771920314485776,36.93991184710611,48.13062534869798,48.20897834202418,40.607789295944734,29.64748201400127,18.940979385819837,10.232095895349175,3.7733192063664682,-0.8291265433940674,5.956372789336354,6.46372852953191,10.596695402810669,24.21726904410303,36.33664485440373,50.60756897570017,53.743243901499895,47.892894549134255,36.62565222936042,24.162878923493768,13.427222276884779,5.377158663377448,-0.2491226133889629,5.50645052200701,5.850767004363934,8.928122664994902,21.69338652952593,35.05275821608044,52.71347410861411,59.054711148463845,55.50415870182047,44.581683355778,30.47939509675856,17.36116623450163,7.317072743145012,0.42444256373535144,2.2725038798844,2.4828946028737744,4.683656918296938,17.206091352739943,32.636175265041025,54.46905808844631,64.06506462271115,63.137804155147535,53.3238009631887,37.98381445664945,22.19519748832484,9.672394848471601,1.2077346827240782],\"shape\":[130],\"dtype\":\"object\",\"order\":\"little\"}]]}}},\"view\":{\"type\":\"object\",\"name\":\"CDSView\",\"id\":\"p1649\",\"attributes\":{\"filter\":{\"type\":\"object\",\"name\":\"AllIndices\",\"id\":\"p1650\"}}},\"glyph\":{\"type\":\"object\",\"name\":\"Rect\",\"id\":\"p1645\",\"attributes\":{\"x\":{\"type\":\"field\",\"field\":\"g0\"},\"y\":{\"type\":\"field\",\"field\":\"w0\"},\"width\":{\"type\":\"value\",\"value\":1},\"height\":{\"type\":\"value\",\"value\":1},\"line_color\":{\"type\":\"value\",\"value\":null},\"fill_color\":{\"type\":\"field\",\"field\":\"albedo\",\"transform\":{\"type\":\"object\",\"name\":\"LinearColorMapper\",\"id\":\"p1593\",\"attributes\":{\"palette\":[\"#EFF821\",\"#FCCC25\",\"#FCA635\",\"#F1824C\",\"#E06461\",\"#CA4678\",\"#B02A8F\",\"#8F0DA3\",\"#6A00A7\",\"#40039C\",\"#0C0786\"],\"low\":-5,\"high\":60}}}}},\"nonselection_glyph\":{\"type\":\"object\",\"name\":\"Rect\",\"id\":\"p1646\",\"attributes\":{\"x\":{\"type\":\"field\",\"field\":\"g0\"},\"y\":{\"type\":\"field\",\"field\":\"w0\"},\"width\":{\"type\":\"value\",\"value\":1},\"height\":{\"type\":\"value\",\"value\":1},\"line_color\":{\"type\":\"value\",\"value\":null},\"line_alpha\":{\"type\":\"value\",\"value\":0.1},\"fill_color\":{\"type\":\"field\",\"field\":\"albedo\",\"transform\":{\"id\":\"p1593\"}},\"fill_alpha\":{\"type\":\"value\",\"value\":0.1},\"hatch_alpha\":{\"type\":\"value\",\"value\":0.1}}},\"muted_glyph\":{\"type\":\"object\",\"name\":\"Rect\",\"id\":\"p1647\",\"attributes\":{\"x\":{\"type\":\"field\",\"field\":\"g0\"},\"y\":{\"type\":\"field\",\"field\":\"w0\"},\"width\":{\"type\":\"value\",\"value\":1},\"height\":{\"type\":\"value\",\"value\":1},\"line_color\":{\"type\":\"value\",\"value\":null},\"line_alpha\":{\"type\":\"value\",\"value\":0.2},\"fill_color\":{\"type\":\"field\",\"field\":\"albedo\",\"transform\":{\"id\":\"p1593\"}},\"fill_alpha\":{\"type\":\"value\",\"value\":0.2},\"hatch_alpha\":{\"type\":\"value\",\"value\":0.2}}}}}],\"toolbar\":{\"type\":\"object\",\"name\":\"Toolbar\",\"id\":\"p1602\",\"attributes\":{\"tools\":[{\"type\":\"object\",\"name\":\"HoverTool\",\"id\":\"p1624\",\"attributes\":{\"renderers\":\"auto\"}},{\"type\":\"object\",\"name\":\"SaveTool\",\"id\":\"p1625\"},{\"type\":\"object\",\"name\":\"PanTool\",\"id\":\"p1626\"},{\"type\":\"object\",\"name\":\"BoxZoomTool\",\"id\":\"p1627\",\"attributes\":{\"overlay\":{\"type\":\"object\",\"name\":\"BoxAnnotation\",\"id\":\"p1628\",\"attributes\":{\"syncable\":false,\"level\":\"overlay\",\"visible\":false,\"left_units\":\"canvas\",\"right_units\":\"canvas\",\"bottom_units\":\"canvas\",\"top_units\":\"canvas\",\"line_color\":\"black\",\"line_alpha\":1.0,\"line_width\":2,\"line_dash\":[4,4],\"fill_color\":\"lightgrey\",\"fill_alpha\":0.5}}}},{\"type\":\"object\",\"name\":\"ResetTool\",\"id\":\"p1629\"},{\"type\":\"object\",\"name\":\"WheelZoomTool\",\"id\":\"p1630\"}]}},\"toolbar_location\":\"below\",\"left\":[{\"type\":\"object\",\"name\":\"CategoricalAxis\",\"id\":\"p1618\",\"attributes\":{\"ticker\":{\"type\":\"object\",\"name\":\"CategoricalTicker\",\"id\":\"p1620\"},\"formatter\":{\"type\":\"object\",\"name\":\"CategoricalTickFormatter\",\"id\":\"p1621\"},\"axis_label\":\"Single Scattering Albedo\",\"major_label_standoff\":0,\"major_label_policy\":{\"type\":\"object\",\"name\":\"AllLabels\",\"id\":\"p1619\"},\"major_label_text_font_size\":\"12px\",\"axis_line_color\":null,\"major_tick_line_color\":null}}],\"above\":[{\"type\":\"object\",\"name\":\"CategoricalAxis\",\"id\":\"p1612\",\"attributes\":{\"ticker\":{\"type\":\"object\",\"name\":\"CategoricalTicker\",\"id\":\"p1614\"},\"formatter\":{\"type\":\"object\",\"name\":\"CategoricalTickFormatter\",\"id\":\"p1615\"},\"axis_label\":\"Asymmetry\",\"major_label_standoff\":0,\"major_label_orientation\":1.0471975511965976,\"major_label_policy\":{\"type\":\"object\",\"name\":\"AllLabels\",\"id\":\"p1613\"},\"major_label_text_font_size\":\"12px\",\"axis_line_color\":null,\"major_tick_line_color\":null}}],\"below\":[{\"type\":\"object\",\"name\":\"ColorBar\",\"id\":\"p1652\",\"attributes\":{\"location\":[0,0],\"ticker\":{\"type\":\"object\",\"name\":\"BasicTicker\",\"id\":\"p1651\",\"attributes\":{\"desired_num_ticks\":11,\"mantissas\":[1,2,5]}},\"major_label_policy\":{\"type\":\"object\",\"name\":\"NoOverlap\",\"id\":\"p1653\"},\"major_label_text_font_size\":\"12px\",\"label_standoff\":6,\"color_mapper\":{\"id\":\"p1593\"}}}],\"center\":[{\"type\":\"object\",\"name\":\"Grid\",\"id\":\"p1617\",\"attributes\":{\"axis\":{\"id\":\"p1612\"},\"grid_line_color\":null}},{\"type\":\"object\",\"name\":\"Grid\",\"id\":\"p1623\",\"attributes\":{\"dimension\":1,\"axis\":{\"id\":\"p1618\"},\"grid_line_color\":null}}]}},{\"type\":\"object\",\"name\":\"Figure\",\"id\":\"p1655\",\"attributes\":{\"width\":300,\"height\":400,\"x_range\":{\"type\":\"object\",\"name\":\"FactorRange\",\"id\":\"p1665\",\"attributes\":{\"factors\":[\"0.0\",\"0.1\",\"0.2\",\"0.3\",\"0.4\",\"0.5\",\"0.6\",\"0.7\",\"0.8\",\"0.9\"]}},\"y_range\":{\"type\":\"object\",\"name\":\"FactorRange\",\"id\":\"p1667\",\"attributes\":{\"factors\":[\"0.1\",\"0.2\",\"0.3\",\"0.4\",\"0.5\",\"0.6\",\"0.7\",\"0.8\",\"0.90\",\"0.950\",\"0.990\",\"0.999\",\"1.0\"]}},\"x_scale\":{\"type\":\"object\",\"name\":\"CategoricalScale\",\"id\":\"p1669\"},\"y_scale\":{\"type\":\"object\",\"name\":\"CategoricalScale\",\"id\":\"p1671\"},\"title\":{\"type\":\"object\",\"name\":\"Title\",\"id\":\"p1658\",\"attributes\":{\"text\":\"SH4\"}},\"renderers\":[{\"type\":\"object\",\"name\":\"GlyphRenderer\",\"id\":\"p1709\",\"attributes\":{\"data_source\":{\"type\":\"object\",\"name\":\"ColumnDataSource\",\"id\":\"p1700\",\"attributes\":{\"selected\":{\"type\":\"object\",\"name\":\"Selection\",\"id\":\"p1702\",\"attributes\":{\"indices\":[],\"line_indices\":[]}},\"selection_policy\":{\"type\":\"object\",\"name\":\"UnionRenderers\",\"id\":\"p1701\"},\"data\":{\"type\":\"map\",\"entries\":[[\"index\",{\"type\":\"ndarray\",\"array\":{\"type\":\"bytes\",\"data\":\"AAAAAAEAAAACAAAAAwAAAAQAAAAFAAAABgAAAAcAAAAIAAAACQAAAAoAAAALAAAADAAAAA0AAAAOAAAADwAAABAAAAARAAAAEgAAABMAAAAUAAAAFQAAABYAAAAXAAAAGAAAABkAAAAaAAAAGwAAABwAAAAdAAAAHgAAAB8AAAAgAAAAIQAAACIAAAAjAAAAJAAAACUAAAAmAAAAJwAAACgAAAApAAAAKgAAACsAAAAsAAAALQAAAC4AAAAvAAAAMAAAADEAAAAyAAAAMwAAADQAAAA1AAAANgAAADcAAAA4AAAAOQAAADoAAAA7AAAAPAAAAD0AAAA+AAAAPwAAAEAAAABBAAAAQgAAAEMAAABEAAAARQAAAEYAAABHAAAASAAAAEkAAABKAAAASwAAAEwAAABNAAAATgAAAE8AAABQAAAAUQAAAFIAAABTAAAAVAAAAFUAAABWAAAAVwAAAFgAAABZAAAAWgAAAFsAAABcAAAAXQAAAF4AAABfAAAAYAAAAGEAAABiAAAAYwAAAGQAAABlAAAAZgAAAGcAAABoAAAAaQAAAGoAAABrAAAAbAAAAG0AAABuAAAAbwAAAHAAAABxAAAAcgAAAHMAAAB0AAAAdQAAAHYAAAB3AAAAeAAAAHkAAAB6AAAAewAAAHwAAAB9AAAAfgAAAH8AAACAAAAAgQAAAA==\"},\"shape\":[130],\"dtype\":\"int32\",\"order\":\"little\"}],[\"g0\",{\"type\":\"ndarray\",\"array\":[\"0.0\",\"0.0\",\"0.0\",\"0.0\",\"0.0\",\"0.0\",\"0.0\",\"0.0\",\"0.0\",\"0.0\",\"0.0\",\"0.0\",\"0.0\",\"0.1\",\"0.1\",\"0.1\",\"0.1\",\"0.1\",\"0.1\",\"0.1\",\"0.1\",\"0.1\",\"0.1\",\"0.1\",\"0.1\",\"0.1\",\"0.2\",\"0.2\",\"0.2\",\"0.2\",\"0.2\",\"0.2\",\"0.2\",\"0.2\",\"0.2\",\"0.2\",\"0.2\",\"0.2\",\"0.2\",\"0.3\",\"0.3\",\"0.3\",\"0.3\",\"0.3\",\"0.3\",\"0.3\",\"0.3\",\"0.3\",\"0.3\",\"0.3\",\"0.3\",\"0.3\",\"0.4\",\"0.4\",\"0.4\",\"0.4\",\"0.4\",\"0.4\",\"0.4\",\"0.4\",\"0.4\",\"0.4\",\"0.4\",\"0.4\",\"0.4\",\"0.5\",\"0.5\",\"0.5\",\"0.5\",\"0.5\",\"0.5\",\"0.5\",\"0.5\",\"0.5\",\"0.5\",\"0.5\",\"0.5\",\"0.5\",\"0.6\",\"0.6\",\"0.6\",\"0.6\",\"0.6\",\"0.6\",\"0.6\",\"0.6\",\"0.6\",\"0.6\",\"0.6\",\"0.6\",\"0.6\",\"0.7\",\"0.7\",\"0.7\",\"0.7\",\"0.7\",\"0.7\",\"0.7\",\"0.7\",\"0.7\",\"0.7\",\"0.7\",\"0.7\",\"0.7\",\"0.8\",\"0.8\",\"0.8\",\"0.8\",\"0.8\",\"0.8\",\"0.8\",\"0.8\",\"0.8\",\"0.8\",\"0.8\",\"0.8\",\"0.8\",\"0.9\",\"0.9\",\"0.9\",\"0.9\",\"0.9\",\"0.9\",\"0.9\",\"0.9\",\"0.9\",\"0.9\",\"0.9\",\"0.9\",\"0.9\"],\"shape\":[130],\"dtype\":\"object\",\"order\":\"little\"}],[\"w0\",{\"type\":\"ndarray\",\"array\":[\"1.0\",\"0.999\",\"0.990\",\"0.950\",\"0.90\",\"0.8\",\"0.7\",\"0.6\",\"0.5\",\"0.4\",\"0.3\",\"0.2\",\"0.1\",\"1.0\",\"0.999\",\"0.990\",\"0.950\",\"0.90\",\"0.8\",\"0.7\",\"0.6\",\"0.5\",\"0.4\",\"0.3\",\"0.2\",\"0.1\",\"1.0\",\"0.999\",\"0.990\",\"0.950\",\"0.90\",\"0.8\",\"0.7\",\"0.6\",\"0.5\",\"0.4\",\"0.3\",\"0.2\",\"0.1\",\"1.0\",\"0.999\",\"0.990\",\"0.950\",\"0.90\",\"0.8\",\"0.7\",\"0.6\",\"0.5\",\"0.4\",\"0.3\",\"0.2\",\"0.1\",\"1.0\",\"0.999\",\"0.990\",\"0.950\",\"0.90\",\"0.8\",\"0.7\",\"0.6\",\"0.5\",\"0.4\",\"0.3\",\"0.2\",\"0.1\",\"1.0\",\"0.999\",\"0.990\",\"0.950\",\"0.90\",\"0.8\",\"0.7\",\"0.6\",\"0.5\",\"0.4\",\"0.3\",\"0.2\",\"0.1\",\"1.0\",\"0.999\",\"0.990\",\"0.950\",\"0.90\",\"0.8\",\"0.7\",\"0.6\",\"0.5\",\"0.4\",\"0.3\",\"0.2\",\"0.1\",\"1.0\",\"0.999\",\"0.990\",\"0.950\",\"0.90\",\"0.8\",\"0.7\",\"0.6\",\"0.5\",\"0.4\",\"0.3\",\"0.2\",\"0.1\",\"1.0\",\"0.999\",\"0.990\",\"0.950\",\"0.90\",\"0.8\",\"0.7\",\"0.6\",\"0.5\",\"0.4\",\"0.3\",\"0.2\",\"0.1\",\"1.0\",\"0.999\",\"0.990\",\"0.950\",\"0.90\",\"0.8\",\"0.7\",\"0.6\",\"0.5\",\"0.4\",\"0.3\",\"0.2\",\"0.1\"],\"shape\":[130],\"dtype\":\"object\",\"order\":\"little\"}],[\"albedo\",{\"type\":\"ndarray\",\"array\":[-5.6529234974439335,-5.58927683048075,-5.022119890555542,-2.8827724614749437,-0.9018610971814395,1.4419376523847052,2.2199957365629976,2.2111143292991877,1.8998905830345396,1.4946228126056333,1.0752733871453588,0.6711398890958988,0.2919051720579065,-5.680588617350592,-5.624782174063245,-5.124603620863299,-3.2150896292916995,-1.4318565142228565,0.7911841135174102,1.6822162645361314,1.8142596712050085,1.6128029200884162,1.2894253759214558,0.9341950818710002,0.583279754215191,0.25031976483805296,-5.715784536655734,-5.66757739758586,-5.23242577277589,-3.5436311232908544,-1.9481611873607512,0.13394496378776174,1.1156368686383633,1.3920563263223313,1.3111377745076043,1.0780865927653431,0.7917967762885267,0.49615349956593474,0.20968797090976324,-5.758377793739234,-5.7175376968061205,-5.345522938330611,-3.8688198157808036,-2.4497360537432877,-0.5195565837996909,0.5268489396435212,0.9453550499620527,0.9943618731523955,0.8603500479980927,0.6480865365881806,0.40978021862745795,0.1699626001299226,-5.808329834850766,-5.774643367234756,-5.464018528710985,-4.192006910998228,-2.938498989212268,-1.1637876041653359,-0.07937206476231504,0.4731901508598182,0.6600936147221536,0.6347867472547033,0.5025299528165994,0.323968708664463,0.13101687007347898,-5.866332529567847,-5.839611233977897,-5.588876370659328,-4.51599476651863,-3.4197037924373292,-1.8004826896674118,-0.7036966226656632,-0.030266000849769447,0.30155864507421853,0.3971364597459951,0.35323467399335257,0.2380142351245515,0.09258349542873269,-5.934787659221242,-5.914879982088617,-5.722787294452037,-4.84517231923652,-3.9010989451198608,-2.438751316598404,-1.354573595756223,-0.5782315838131067,-0.09493708681145943,0.13852041713126761,0.19610068962770594,0.15041692953247757,0.05419390504328636,-6.019812872729837,-6.006583894873544,-5.871843878107975,-5.184886249973393,-4.389940537702395,-3.092030767820988,-2.048672902946494,-1.1928627524915028,-0.5520047792778043,-0.15613798568125908,0.0241304267437215,0.05868561551717493,0.015140400946987646,-6.1358419584219215,-6.129093342752634,-6.048730020528897,-5.534076597455517,-4.8759976217666825,-3.760006245642142,-2.8009361303309834,-1.8993523431434476,-1.0973392709388856,-0.506206418716331,-0.1716846982757483,-0.040382370009172844,-0.02550558253575184,-6.318573354436387,-6.3185787893029834,-6.283897577655251,-5.827494042472409,-5.209128050375475,-4.302262444396,-3.535124643856532,-2.6587758230817573,-1.7146510969737454,-0.9080041205677449,-0.39173275759528575,-0.14816627289924697,-0.06867031956867622],\"shape\":[130],\"dtype\":\"object\",\"order\":\"little\"}]]}}},\"view\":{\"type\":\"object\",\"name\":\"CDSView\",\"id\":\"p1710\",\"attributes\":{\"filter\":{\"type\":\"object\",\"name\":\"AllIndices\",\"id\":\"p1711\"}}},\"glyph\":{\"type\":\"object\",\"name\":\"Rect\",\"id\":\"p1706\",\"attributes\":{\"x\":{\"type\":\"field\",\"field\":\"g0\"},\"y\":{\"type\":\"field\",\"field\":\"w0\"},\"width\":{\"type\":\"value\",\"value\":1},\"height\":{\"type\":\"value\",\"value\":1},\"line_color\":{\"type\":\"value\",\"value\":null},\"fill_color\":{\"type\":\"field\",\"field\":\"albedo\",\"transform\":{\"type\":\"object\",\"name\":\"LinearColorMapper\",\"id\":\"p1654\",\"attributes\":{\"palette\":[\"#440154\",\"#482374\",\"#404387\",\"#345E8D\",\"#29788E\",\"#208F8C\",\"#22A784\",\"#42BE71\",\"#79D151\",\"#BADE27\",\"#FDE724\"],\"low\":-6,\"high\":2}}}}},\"nonselection_glyph\":{\"type\":\"object\",\"name\":\"Rect\",\"id\":\"p1707\",\"attributes\":{\"x\":{\"type\":\"field\",\"field\":\"g0\"},\"y\":{\"type\":\"field\",\"field\":\"w0\"},\"width\":{\"type\":\"value\",\"value\":1},\"height\":{\"type\":\"value\",\"value\":1},\"line_color\":{\"type\":\"value\",\"value\":null},\"line_alpha\":{\"type\":\"value\",\"value\":0.1},\"fill_color\":{\"type\":\"field\",\"field\":\"albedo\",\"transform\":{\"id\":\"p1654\"}},\"fill_alpha\":{\"type\":\"value\",\"value\":0.1},\"hatch_alpha\":{\"type\":\"value\",\"value\":0.1}}},\"muted_glyph\":{\"type\":\"object\",\"name\":\"Rect\",\"id\":\"p1708\",\"attributes\":{\"x\":{\"type\":\"field\",\"field\":\"g0\"},\"y\":{\"type\":\"field\",\"field\":\"w0\"},\"width\":{\"type\":\"value\",\"value\":1},\"height\":{\"type\":\"value\",\"value\":1},\"line_color\":{\"type\":\"value\",\"value\":null},\"line_alpha\":{\"type\":\"value\",\"value\":0.2},\"fill_color\":{\"type\":\"field\",\"field\":\"albedo\",\"transform\":{\"id\":\"p1654\"}},\"fill_alpha\":{\"type\":\"value\",\"value\":0.2},\"hatch_alpha\":{\"type\":\"value\",\"value\":0.2}}}}}],\"toolbar\":{\"type\":\"object\",\"name\":\"Toolbar\",\"id\":\"p1663\",\"attributes\":{\"tools\":[{\"type\":\"object\",\"name\":\"HoverTool\",\"id\":\"p1685\",\"attributes\":{\"renderers\":\"auto\"}},{\"type\":\"object\",\"name\":\"SaveTool\",\"id\":\"p1686\"},{\"type\":\"object\",\"name\":\"PanTool\",\"id\":\"p1687\"},{\"type\":\"object\",\"name\":\"BoxZoomTool\",\"id\":\"p1688\",\"attributes\":{\"overlay\":{\"type\":\"object\",\"name\":\"BoxAnnotation\",\"id\":\"p1689\",\"attributes\":{\"syncable\":false,\"level\":\"overlay\",\"visible\":false,\"left_units\":\"canvas\",\"right_units\":\"canvas\",\"bottom_units\":\"canvas\",\"top_units\":\"canvas\",\"line_color\":\"black\",\"line_alpha\":1.0,\"line_width\":2,\"line_dash\":[4,4],\"fill_color\":\"lightgrey\",\"fill_alpha\":0.5}}}},{\"type\":\"object\",\"name\":\"ResetTool\",\"id\":\"p1690\"},{\"type\":\"object\",\"name\":\"WheelZoomTool\",\"id\":\"p1691\"}]}},\"toolbar_location\":\"below\",\"left\":[{\"type\":\"object\",\"name\":\"CategoricalAxis\",\"id\":\"p1679\",\"attributes\":{\"ticker\":{\"type\":\"object\",\"name\":\"CategoricalTicker\",\"id\":\"p1681\"},\"formatter\":{\"type\":\"object\",\"name\":\"CategoricalTickFormatter\",\"id\":\"p1682\"},\"axis_label\":\"Single Scattering Albedo\",\"major_label_standoff\":0,\"major_label_policy\":{\"type\":\"object\",\"name\":\"AllLabels\",\"id\":\"p1680\"},\"major_label_text_font_size\":\"12px\",\"axis_line_color\":null,\"major_tick_line_color\":null}}],\"above\":[{\"type\":\"object\",\"name\":\"CategoricalAxis\",\"id\":\"p1673\",\"attributes\":{\"ticker\":{\"type\":\"object\",\"name\":\"CategoricalTicker\",\"id\":\"p1675\"},\"formatter\":{\"type\":\"object\",\"name\":\"CategoricalTickFormatter\",\"id\":\"p1676\"},\"axis_label\":\"Asymmetry\",\"major_label_standoff\":0,\"major_label_orientation\":1.0471975511965976,\"major_label_policy\":{\"type\":\"object\",\"name\":\"AllLabels\",\"id\":\"p1674\"},\"major_label_text_font_size\":\"12px\",\"axis_line_color\":null,\"major_tick_line_color\":null}}],\"below\":[{\"type\":\"object\",\"name\":\"ColorBar\",\"id\":\"p1713\",\"attributes\":{\"location\":[0,0],\"ticker\":{\"type\":\"object\",\"name\":\"BasicTicker\",\"id\":\"p1712\",\"attributes\":{\"desired_num_ticks\":11,\"mantissas\":[1,2,5]}},\"major_label_policy\":{\"type\":\"object\",\"name\":\"NoOverlap\",\"id\":\"p1714\"},\"major_label_text_font_size\":\"12px\",\"label_standoff\":6,\"color_mapper\":{\"id\":\"p1654\"}}}],\"center\":[{\"type\":\"object\",\"name\":\"Grid\",\"id\":\"p1678\",\"attributes\":{\"axis\":{\"id\":\"p1673\"},\"grid_line_color\":null}},{\"type\":\"object\",\"name\":\"Grid\",\"id\":\"p1684\",\"attributes\":{\"dimension\":1,\"axis\":{\"id\":\"p1679\"},\"grid_line_color\":null}}]}},{\"type\":\"object\",\"name\":\"Figure\",\"id\":\"p1716\",\"attributes\":{\"width\":300,\"height\":400,\"x_range\":{\"type\":\"object\",\"name\":\"FactorRange\",\"id\":\"p1726\",\"attributes\":{\"factors\":[\"0.0\",\"0.1\",\"0.2\",\"0.3\",\"0.4\",\"0.5\",\"0.6\",\"0.7\",\"0.8\",\"0.9\"]}},\"y_range\":{\"type\":\"object\",\"name\":\"FactorRange\",\"id\":\"p1728\",\"attributes\":{\"factors\":[\"0.1\",\"0.2\",\"0.3\",\"0.4\",\"0.5\",\"0.6\",\"0.7\",\"0.8\",\"0.90\",\"0.950\",\"0.990\",\"0.999\",\"1.0\"]}},\"x_scale\":{\"type\":\"object\",\"name\":\"CategoricalScale\",\"id\":\"p1730\"},\"y_scale\":{\"type\":\"object\",\"name\":\"CategoricalScale\",\"id\":\"p1732\"},\"title\":{\"type\":\"object\",\"name\":\"Title\",\"id\":\"p1719\",\"attributes\":{\"text\":\"Diff between Toon89 and SH4\"}},\"renderers\":[{\"type\":\"object\",\"name\":\"GlyphRenderer\",\"id\":\"p1770\",\"attributes\":{\"data_source\":{\"type\":\"object\",\"name\":\"ColumnDataSource\",\"id\":\"p1761\",\"attributes\":{\"selected\":{\"type\":\"object\",\"name\":\"Selection\",\"id\":\"p1763\",\"attributes\":{\"indices\":[],\"line_indices\":[]}},\"selection_policy\":{\"type\":\"object\",\"name\":\"UnionRenderers\",\"id\":\"p1762\"},\"data\":{\"type\":\"map\",\"entries\":[[\"index\",{\"type\":\"ndarray\",\"array\":{\"type\":\"bytes\",\"data\":\"AAAAAAEAAAACAAAAAwAAAAQAAAAFAAAABgAAAAcAAAAIAAAACQAAAAoAAAALAAAADAAAAA0AAAAOAAAADwAAABAAAAARAAAAEgAAABMAAAAUAAAAFQAAABYAAAAXAAAAGAAAABkAAAAaAAAAGwAAABwAAAAdAAAAHgAAAB8AAAAgAAAAIQAAACIAAAAjAAAAJAAAACUAAAAmAAAAJwAAACgAAAApAAAAKgAAACsAAAAsAAAALQAAAC4AAAAvAAAAMAAAADEAAAAyAAAAMwAAADQAAAA1AAAANgAAADcAAAA4AAAAOQAAADoAAAA7AAAAPAAAAD0AAAA+AAAAPwAAAEAAAABBAAAAQgAAAEMAAABEAAAARQAAAEYAAABHAAAASAAAAEkAAABKAAAASwAAAEwAAABNAAAATgAAAE8AAABQAAAAUQAAAFIAAABTAAAAVAAAAFUAAABWAAAAVwAAAFgAAABZAAAAWgAAAFsAAABcAAAAXQAAAF4AAABfAAAAYAAAAGEAAABiAAAAYwAAAGQAAABlAAAAZgAAAGcAAABoAAAAaQAAAGoAAABrAAAAbAAAAG0AAABuAAAAbwAAAHAAAABxAAAAcgAAAHMAAAB0AAAAdQAAAHYAAAB3AAAAeAAAAHkAAAB6AAAAewAAAHwAAAB9AAAAfgAAAH8AAACAAAAAgQAAAA==\"},\"shape\":[130],\"dtype\":\"int32\",\"order\":\"little\"}],[\"g0\",{\"type\":\"ndarray\",\"array\":[\"0.0\",\"0.0\",\"0.0\",\"0.0\",\"0.0\",\"0.0\",\"0.0\",\"0.0\",\"0.0\",\"0.0\",\"0.0\",\"0.0\",\"0.0\",\"0.1\",\"0.1\",\"0.1\",\"0.1\",\"0.1\",\"0.1\",\"0.1\",\"0.1\",\"0.1\",\"0.1\",\"0.1\",\"0.1\",\"0.1\",\"0.2\",\"0.2\",\"0.2\",\"0.2\",\"0.2\",\"0.2\",\"0.2\",\"0.2\",\"0.2\",\"0.2\",\"0.2\",\"0.2\",\"0.2\",\"0.3\",\"0.3\",\"0.3\",\"0.3\",\"0.3\",\"0.3\",\"0.3\",\"0.3\",\"0.3\",\"0.3\",\"0.3\",\"0.3\",\"0.3\",\"0.4\",\"0.4\",\"0.4\",\"0.4\",\"0.4\",\"0.4\",\"0.4\",\"0.4\",\"0.4\",\"0.4\",\"0.4\",\"0.4\",\"0.4\",\"0.5\",\"0.5\",\"0.5\",\"0.5\",\"0.5\",\"0.5\",\"0.5\",\"0.5\",\"0.5\",\"0.5\",\"0.5\",\"0.5\",\"0.5\",\"0.6\",\"0.6\",\"0.6\",\"0.6\",\"0.6\",\"0.6\",\"0.6\",\"0.6\",\"0.6\",\"0.6\",\"0.6\",\"0.6\",\"0.6\",\"0.7\",\"0.7\",\"0.7\",\"0.7\",\"0.7\",\"0.7\",\"0.7\",\"0.7\",\"0.7\",\"0.7\",\"0.7\",\"0.7\",\"0.7\",\"0.8\",\"0.8\",\"0.8\",\"0.8\",\"0.8\",\"0.8\",\"0.8\",\"0.8\",\"0.8\",\"0.8\",\"0.8\",\"0.8\",\"0.8\",\"0.9\",\"0.9\",\"0.9\",\"0.9\",\"0.9\",\"0.9\",\"0.9\",\"0.9\",\"0.9\",\"0.9\",\"0.9\",\"0.9\",\"0.9\"],\"shape\":[130],\"dtype\":\"object\",\"order\":\"little\"}],[\"w0\",{\"type\":\"ndarray\",\"array\":[\"1.0\",\"0.999\",\"0.990\",\"0.950\",\"0.90\",\"0.8\",\"0.7\",\"0.6\",\"0.5\",\"0.4\",\"0.3\",\"0.2\",\"0.1\",\"1.0\",\"0.999\",\"0.990\",\"0.950\",\"0.90\",\"0.8\",\"0.7\",\"0.6\",\"0.5\",\"0.4\",\"0.3\",\"0.2\",\"0.1\",\"1.0\",\"0.999\",\"0.990\",\"0.950\",\"0.90\",\"0.8\",\"0.7\",\"0.6\",\"0.5\",\"0.4\",\"0.3\",\"0.2\",\"0.1\",\"1.0\",\"0.999\",\"0.990\",\"0.950\",\"0.90\",\"0.8\",\"0.7\",\"0.6\",\"0.5\",\"0.4\",\"0.3\",\"0.2\",\"0.1\",\"1.0\",\"0.999\",\"0.990\",\"0.950\",\"0.90\",\"0.8\",\"0.7\",\"0.6\",\"0.5\",\"0.4\",\"0.3\",\"0.2\",\"0.1\",\"1.0\",\"0.999\",\"0.990\",\"0.950\",\"0.90\",\"0.8\",\"0.7\",\"0.6\",\"0.5\",\"0.4\",\"0.3\",\"0.2\",\"0.1\",\"1.0\",\"0.999\",\"0.990\",\"0.950\",\"0.90\",\"0.8\",\"0.7\",\"0.6\",\"0.5\",\"0.4\",\"0.3\",\"0.2\",\"0.1\",\"1.0\",\"0.999\",\"0.990\",\"0.950\",\"0.90\",\"0.8\",\"0.7\",\"0.6\",\"0.5\",\"0.4\",\"0.3\",\"0.2\",\"0.1\",\"1.0\",\"0.999\",\"0.990\",\"0.950\",\"0.90\",\"0.8\",\"0.7\",\"0.6\",\"0.5\",\"0.4\",\"0.3\",\"0.2\",\"0.1\",\"1.0\",\"0.999\",\"0.990\",\"0.950\",\"0.90\",\"0.8\",\"0.7\",\"0.6\",\"0.5\",\"0.4\",\"0.3\",\"0.2\",\"0.1\"],\"shape\":[130],\"dtype\":\"object\",\"order\":\"little\"}],[\"albedo\",{\"type\":\"ndarray\",\"array\":[1.492539565078589,3.325539238194069,14.143863651815176,30.052430691159284,33.908711424072415,26.98279082894624,16.869645453599016,9.412910325676442,4.563114512312584,1.4151682879987886,-0.6944302257522397,-2.163929237838929,-3.2260724831273504,3.3722876413804332,4.995422866672885,14.902426086606516,30.663360845782506,35.66744173067636,30.98466917745459,21.108463502344424,12.799666262508964,6.987909009437558,3.056308607736946,0.35503280425299366,-1.5584748565874,-2.9599106939694577,5.201149072282714,6.620043236723219,15.595754443007838,31.133900027862108,37.25476016071549,35.121979446768556,25.946845108954356,16.88492145000969,9.9721111622191,5.072351119200122,1.6258835959806464,-0.8406219277195137,-2.651998480380111,6.9565162885523755,8.176981031527866,16.199339077232157,31.42454166578396,38.61776108165547,39.267393684284805,31.332338300907928,21.7412694682097,13.621448939774423,7.5435731031875655,3.1630508292948214,0.008695381770501776,-2.29724352948854,8.602463033112063,9.630581846063247,16.67626454437369,31.48621921194187,39.70637503955239,43.29329524832008,37.164656098367544,27.41729385460664,18.053698743855747,10.569941322925203,5.024136012278477,1.013623009569098,-1.8895007094724148,10.078962711875832,10.921253135606303,16.96714786090027,31.251546483822466,40.468659485461146,47.08767693875061,43.299017613467115,33.91828825849261,23.39081184084261,14.274186273718952,7.283338640438148,2.2050794371075266,-1.4212686820988705,11.277263378023134,11.94101911741656,16.967350733875584,30.617092633722294,40.84101079222597,50.56937666529639,49.5635519377804,41.18602087975784,29.74241910081273,18.80245896868857,10.03599520572147,3.6229022768339907,-0.8833204484373538,11.97618566206619,12.470312424405453,16.468539280918645,29.402155294076422,40.726585392106124,53.699599743521155,55.79191680444639,49.085757301625755,37.17765700863822,24.319016909175026,13.403091850141058,5.318473047860273,-0.26426301433595056,11.642292480428932,11.979860347116569,14.976852685523799,27.227463126981448,39.92875583784712,56.47348035425625,61.85564727879483,57.40351104496392,45.679022626716886,30.98560151547489,17.53285093277738,7.3574551131541845,0.4499481462711033,8.591077234320787,8.801473392176758,10.96755449595219,23.033585395212352,37.8453033154165,58.77132053284231,67.60018926656768,65.79657997822929,55.03845206016245,38.891818577217194,22.586930245920126,9.820561121370847,1.2764050022927544],\"shape\":[130],\"dtype\":\"object\",\"order\":\"little\"}]]}}},\"view\":{\"type\":\"object\",\"name\":\"CDSView\",\"id\":\"p1771\",\"attributes\":{\"filter\":{\"type\":\"object\",\"name\":\"AllIndices\",\"id\":\"p1772\"}}},\"glyph\":{\"type\":\"object\",\"name\":\"Rect\",\"id\":\"p1767\",\"attributes\":{\"x\":{\"type\":\"field\",\"field\":\"g0\"},\"y\":{\"type\":\"field\",\"field\":\"w0\"},\"width\":{\"type\":\"value\",\"value\":1},\"height\":{\"type\":\"value\",\"value\":1},\"line_color\":{\"type\":\"value\",\"value\":null},\"fill_color\":{\"type\":\"field\",\"field\":\"albedo\",\"transform\":{\"type\":\"object\",\"name\":\"LinearColorMapper\",\"id\":\"p1715\",\"attributes\":{\"palette\":[\"#053061\",\"#2166ac\",\"#4393c3\",\"#92c5de\",\"#d1e5f0\",\"#f7f7f7\",\"#fddbc7\",\"#f4a582\",\"#d6604d\",\"#b2182b\",\"#67001f\"],\"low\":-60,\"high\":60}}}}},\"nonselection_glyph\":{\"type\":\"object\",\"name\":\"Rect\",\"id\":\"p1768\",\"attributes\":{\"x\":{\"type\":\"field\",\"field\":\"g0\"},\"y\":{\"type\":\"field\",\"field\":\"w0\"},\"width\":{\"type\":\"value\",\"value\":1},\"height\":{\"type\":\"value\",\"value\":1},\"line_color\":{\"type\":\"value\",\"value\":null},\"line_alpha\":{\"type\":\"value\",\"value\":0.1},\"fill_color\":{\"type\":\"field\",\"field\":\"albedo\",\"transform\":{\"id\":\"p1715\"}},\"fill_alpha\":{\"type\":\"value\",\"value\":0.1},\"hatch_alpha\":{\"type\":\"value\",\"value\":0.1}}},\"muted_glyph\":{\"type\":\"object\",\"name\":\"Rect\",\"id\":\"p1769\",\"attributes\":{\"x\":{\"type\":\"field\",\"field\":\"g0\"},\"y\":{\"type\":\"field\",\"field\":\"w0\"},\"width\":{\"type\":\"value\",\"value\":1},\"height\":{\"type\":\"value\",\"value\":1},\"line_color\":{\"type\":\"value\",\"value\":null},\"line_alpha\":{\"type\":\"value\",\"value\":0.2},\"fill_color\":{\"type\":\"field\",\"field\":\"albedo\",\"transform\":{\"id\":\"p1715\"}},\"fill_alpha\":{\"type\":\"value\",\"value\":0.2},\"hatch_alpha\":{\"type\":\"value\",\"value\":0.2}}}}}],\"toolbar\":{\"type\":\"object\",\"name\":\"Toolbar\",\"id\":\"p1724\",\"attributes\":{\"tools\":[{\"type\":\"object\",\"name\":\"HoverTool\",\"id\":\"p1746\",\"attributes\":{\"renderers\":\"auto\"}},{\"type\":\"object\",\"name\":\"SaveTool\",\"id\":\"p1747\"},{\"type\":\"object\",\"name\":\"PanTool\",\"id\":\"p1748\"},{\"type\":\"object\",\"name\":\"BoxZoomTool\",\"id\":\"p1749\",\"attributes\":{\"overlay\":{\"type\":\"object\",\"name\":\"BoxAnnotation\",\"id\":\"p1750\",\"attributes\":{\"syncable\":false,\"level\":\"overlay\",\"visible\":false,\"left_units\":\"canvas\",\"right_units\":\"canvas\",\"bottom_units\":\"canvas\",\"top_units\":\"canvas\",\"line_color\":\"black\",\"line_alpha\":1.0,\"line_width\":2,\"line_dash\":[4,4],\"fill_color\":\"lightgrey\",\"fill_alpha\":0.5}}}},{\"type\":\"object\",\"name\":\"ResetTool\",\"id\":\"p1751\"},{\"type\":\"object\",\"name\":\"WheelZoomTool\",\"id\":\"p1752\"}]}},\"toolbar_location\":\"below\",\"left\":[{\"type\":\"object\",\"name\":\"CategoricalAxis\",\"id\":\"p1740\",\"attributes\":{\"ticker\":{\"type\":\"object\",\"name\":\"CategoricalTicker\",\"id\":\"p1742\"},\"formatter\":{\"type\":\"object\",\"name\":\"CategoricalTickFormatter\",\"id\":\"p1743\"},\"axis_label\":\"Single Scattering Albedo\",\"major_label_standoff\":0,\"major_label_policy\":{\"type\":\"object\",\"name\":\"AllLabels\",\"id\":\"p1741\"},\"major_label_text_font_size\":\"12px\",\"axis_line_color\":null,\"major_tick_line_color\":null}}],\"above\":[{\"type\":\"object\",\"name\":\"CategoricalAxis\",\"id\":\"p1734\",\"attributes\":{\"ticker\":{\"type\":\"object\",\"name\":\"CategoricalTicker\",\"id\":\"p1736\"},\"formatter\":{\"type\":\"object\",\"name\":\"CategoricalTickFormatter\",\"id\":\"p1737\"},\"axis_label\":\"Asymmetry\",\"major_label_standoff\":0,\"major_label_orientation\":1.0471975511965976,\"major_label_policy\":{\"type\":\"object\",\"name\":\"AllLabels\",\"id\":\"p1735\"},\"major_label_text_font_size\":\"12px\",\"axis_line_color\":null,\"major_tick_line_color\":null}}],\"below\":[{\"type\":\"object\",\"name\":\"ColorBar\",\"id\":\"p1774\",\"attributes\":{\"location\":[0,0],\"ticker\":{\"type\":\"object\",\"name\":\"BasicTicker\",\"id\":\"p1773\",\"attributes\":{\"desired_num_ticks\":11,\"mantissas\":[1,2,5]}},\"major_label_policy\":{\"type\":\"object\",\"name\":\"NoOverlap\",\"id\":\"p1775\"},\"major_label_text_font_size\":\"12px\",\"label_standoff\":6,\"color_mapper\":{\"id\":\"p1715\"}}}],\"center\":[{\"type\":\"object\",\"name\":\"Grid\",\"id\":\"p1739\",\"attributes\":{\"axis\":{\"id\":\"p1734\"},\"grid_line_color\":null}},{\"type\":\"object\",\"name\":\"Grid\",\"id\":\"p1745\",\"attributes\":{\"dimension\":1,\"axis\":{\"id\":\"p1740\"},\"grid_line_color\":null}}]}}]}}]}};\n",
       "  const render_items = [{\"docid\":\"c518d5b6-5f23-4623-ba4d-6062598e3c5b\",\"roots\":{\"p1776\":\"0e3fc9e1-390b-4f33-a643-f72cead67385\"},\"root_ids\":[\"p1776\"]}];\n",
       "  root.Bokeh.embed.embed_items_notebook(docs_json, render_items);\n",
       "  }\n",
       "  if (root.Bokeh !== undefined) {\n",
       "    embed_document(root);\n",
       "  } else {\n",
       "    let attempts = 0;\n",
       "    const timer = setInterval(function(root) {\n",
       "      if (root.Bokeh !== undefined) {\n",
       "        clearInterval(timer);\n",
       "        embed_document(root);\n",
       "      } else {\n",
       "        attempts++;\n",
       "        if (attempts > 100) {\n",
       "          clearInterval(timer);\n",
       "          console.log(\"Bokeh: ERROR: Unable to run BokehJS code because BokehJS library is missing\");\n",
       "        }\n",
       "      }\n",
       "    }, 10, root)\n",
       "  }\n",
       "})(window);"
      ],
      "application/vnd.bokehjs_exec.v0+json": ""
     },
     "metadata": {
      "application/vnd.bokehjs_exec.v0+json": {
       "id": "p1776"
      }
     },
     "output_type": "display_data"
    }
   ],
   "source": [
    "toon89_fig = jpi.rt_heatmap(\n",
    "    compare_picaso_disort32.iloc[:-1,[0,1,3,5,6,7,8,9,10,11,12,13,14]], \n",
    "    cmap_kwargs={'palette':jpi.pals.plasma(11)[::-1], 'low':-5,'high':60},\n",
    "    figure_kwargs={'title':'Toon89'}\n",
    ")\n",
    "\n",
    "sh4_fig = jpi.rt_heatmap(\n",
    "    compare_SH4_disort32.iloc[:-1,[0,1,3,5,6,7,8,9,10,11,12,13,14]], \n",
    "    cmap_kwargs={'palette':jpi.pals.viridis(11), 'low':-6,'high':2},\n",
    "    figure_kwargs={'title':'SH4'}\n",
    ")\n",
    "\n",
    "diff_fig = jpi.rt_heatmap((compare_picaso_disort32.iloc[:-1,[0,1,3,5,6,7,8,9,10,11,12,13,14]] - \n",
    "                    compare_SH4_disort32.iloc[:-1,[0,1,3,5,6,7,8,9,10,11,12,13,14]] \n",
    "                           ), \n",
    "    cmap_kwargs={'palette':jpi.pals.RdBu[11], 'low':-60,'high':60},\n",
    "    figure_kwargs={'title':'Diff between Toon89 and SH4'}\n",
    ")\n",
    "\n",
    "jpi.show(jpi.row([toon89_fig, sh4_fig, diff_fig]))"
   ]
  }
 ],
 "metadata": {
  "kernelspec": {
   "display_name": "Python 3 (ipykernel)",
   "language": "python",
   "name": "python3"
  },
  "language_info": {
   "codemirror_mode": {
    "name": "ipython",
    "version": 3
   },
   "file_extension": ".py",
   "mimetype": "text/x-python",
   "name": "python",
   "nbconvert_exporter": "python",
   "pygments_lexer": "ipython3",
   "version": "3.8.12"
  },
  "toc": {
   "base_numbering": 1,
   "nav_menu": {},
   "number_sections": true,
   "sideBar": true,
   "skip_h1_title": false,
   "title_cell": "Table of Contents",
   "title_sidebar": "Contents",
   "toc_cell": true,
   "toc_position": {},
   "toc_section_display": true,
   "toc_window_display": false
  }
 },
 "nbformat": 4,
 "nbformat_minor": 2
}
