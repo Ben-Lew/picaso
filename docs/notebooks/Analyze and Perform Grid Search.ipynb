{
 "cells": [
  {
   "cell_type": "markdown",
   "metadata": {
    "toc": true
   },
   "source": [
    "<h1>Table of Contents<span class=\"tocSkip\"></span></h1>\n",
    "<div class=\"toc\"><ul class=\"toc-item\"><li><span><a href=\"#How-to-Fit-Grid-Models-to-Data\" data-toc-modified-id=\"How-to-Fit-Grid-Models-to-Data-1\"><span class=\"toc-item-num\">1&nbsp;&nbsp;</span>How to Fit Grid Models to Data</a></span><ul class=\"toc-item\"><li><span><a href=\"#Define-Paths-To-Data-and-Models\" data-toc-modified-id=\"Define-Paths-To-Data-and-Models-1.1\"><span class=\"toc-item-num\">1.1&nbsp;&nbsp;</span>Define Paths To Data and Models</a></span></li><li><span><a href=\"#Add-Available-Grids-to-Test\" data-toc-modified-id=\"Add-Available-Grids-to-Test-1.2\"><span class=\"toc-item-num\">1.2&nbsp;&nbsp;</span>Add Available Grids to Test</a></span></li><li><span><a href=\"#Add-Datasets-to-Explore\" data-toc-modified-id=\"Add-Datasets-to-Explore-1.3\"><span class=\"toc-item-num\">1.3&nbsp;&nbsp;</span>Add Datasets to Explore</a></span></li><li><span><a href=\"#Compute-$\\chi_{red}^2$-and-Retrieve-Single-Best-Fit\" data-toc-modified-id=\"Compute-$\\chi_{red}^2$-and-Retrieve-Single-Best-Fit-1.4\"><span class=\"toc-item-num\">1.4&nbsp;&nbsp;</span>Compute $\\chi_{red}^2$ and Retrieve Single Best Fit</a></span></li><li><span><a href=\"#Analyze-Single-Best-Fits\" data-toc-modified-id=\"Analyze-Single-Best-Fits-1.5\"><span class=\"toc-item-num\">1.5&nbsp;&nbsp;</span>Analyze Single Best Fits</a></span></li><li><span><a href=\"#Interpret-Best-Fit\" data-toc-modified-id=\"Interpret-Best-Fit-1.6\"><span class=\"toc-item-num\">1.6&nbsp;&nbsp;</span>Interpret Best Fit</a></span></li><li><span><a href=\"#Quantify-Molecular-Detection\" data-toc-modified-id=\"Quantify-Molecular-Detection-1.7\"><span class=\"toc-item-num\">1.7&nbsp;&nbsp;</span>Quantify Molecular Detection</a></span></li></ul></li></ul></div>"
   ]
  },
  {
   "cell_type": "markdown",
   "metadata": {},
   "source": [
    "# How to Fit Grid Models to Data\n",
    "\n",
    "Author: Sagnick Mukherjee ([email](samukher@ucsc.edu)/[website](https://sagnickm.github.io/))\n",
    "\n",
    "Citation: [ERS Team Collab, 2022](add paper link)\n",
    "\n",
    "In this notebook, we show how to use the `PICASO`-formatted grid models to interpret the WASP-39b data from the Early Release Science Program. \n",
    "\n",
    "**Helpful knowledge before running this notebook:**\n",
    "\n",
    "- [How to use xarray files](https://natashabatalha.github.io/picaso/notebooks/codehelp/data_uniformity_tutorial.html) \n",
    "- [Basic PICASO knowledge of how to compute transit spectra](https://natashabatalha.github.io/picaso/notebooks/workshops/ESO2021/ESO_Tutorial.html)\n",
    "\n",
    "**Need to do before running this notebook**\n",
    "\n",
    "In order to use this notebook you will have to: \n",
    "\n",
    "- [Download and unpack the zenodo grid models](final link)\n",
    "- [Download the final planet spectrum](final link) \n"
   ]
  },
  {
   "cell_type": "code",
   "execution_count": null,
   "metadata": {},
   "outputs": [],
   "source": [
    "import numpy as np\n",
    "import os\n",
    "\n",
    "import picaso.justdoit as jdi\n",
    "import picaso.justplotit as jpi\n",
    "import picaso.analyze as lyz\n",
    "jpi.output_notebook()"
   ]
  },
  {
   "cell_type": "markdown",
   "metadata": {},
   "source": [
    "## Define Paths To Data and Models\n",
    "\n",
    "You should have four folders in your `model_dir`: \n",
    "\n",
    "1. `cld_free_R=3000_0,6-6um/`: 192 models \n",
    "2. `cldy_R=3000_0,6-6um/`: 3840 models \n",
    "3. `cld_free_photo_R=3000_0,6-6um/`: 116 models\n",
    "4. `cldy_photo_R=3000_0,6-6um/`: 580 models \n"
   ]
  },
  {
   "cell_type": "code",
   "execution_count": null,
   "metadata": {},
   "outputs": [],
   "source": [
    "#should have sub folders similar to above\n",
    "model_dir = \"/Users/nbatalh1/Documents/data/planets/WASP-39b/\"\n",
    "#agnostic to where it is, just make sure you point to the right data file\n",
    "data_file = os.path.join(model_dir,\"w39_prism_firefly_trans_spec_20July2022_v1.txt\")\n",
    "\n",
    "wlgrid_center,rprs_data2,wlgrid_width, e_rprs2 = np.loadtxt(data_file,usecols=[0,1,2,3],unpack=True,skiprows=1)\n",
    "\n",
    "#for now, we are only going to fit 3-5 um\n",
    "wh =  np.where(wlgrid_center < 3.0)\n",
    "wlgrid_center = np.delete(wlgrid_center,wh[0])\n",
    "wlgrid_width = np.delete(wlgrid_width,wh[0])\n",
    "rprs_data2 = np.delete(rprs_data2,wh[0])\n",
    "e_rprs2 = np.delete(e_rprs2,wh[0])\n",
    "reduction_name = \"Firefly\""
   ]
  },
  {
   "cell_type": "code",
   "execution_count": null,
   "metadata": {},
   "outputs": [],
   "source": [
    "f=jpi.plot_errorbar(wlgrid_center, rprs_data2,e_rprs2, plot_type='matplotlib',\n",
    "                   plot_kwargs={'ylabel':r'(R$_p$/R$_*$)$^2$'})#plot_type='bokeh' also available\n",
    "#jpi.show(f) #if using bokeh (note if using bokeh need those key words (e.g. y_axis_label instead of ylabel))"
   ]
  },
  {
   "cell_type": "markdown",
   "metadata": {},
   "source": [
    "## Add Available Grids to Test"
   ]
  },
  {
   "cell_type": "markdown",
   "metadata": {},
   "source": [
    "First step will be to load your first grid into the `GridFitter` class. You can do this easily by supplying the function a directory location, and grid name (`grid_name`). \n",
    "\n",
    "The only purpose of `grid_name` is in case you add more grids to your `GridFitter` function, it will be easy to keep track of what parameters go with what grid.  "
   ]
  },
  {
   "cell_type": "code",
   "execution_count": null,
   "metadata": {},
   "outputs": [],
   "source": [
    "grid_name = \"picaso\"\n",
    "location = os.path.join(model_dir,\"cld_free_R=3000_0,6-6um\")\n",
    "fitter = lyz.GridFitter(grid_name,location, verbose=True)"
   ]
  },
  {
   "cell_type": "code",
   "execution_count": null,
   "metadata": {},
   "outputs": [],
   "source": [
    "fitter.grid_params['picaso']['planet_params'].keys()"
   ]
  },
  {
   "cell_type": "code",
   "execution_count": null,
   "metadata": {},
   "outputs": [],
   "source": [
    "location = os.path.join(model_dir,\"cldy_R=3000_0,6-6um\")\n",
    "fitter.add_grid('picaso_cldy', location)#"
   ]
  },
  {
   "cell_type": "markdown",
   "metadata": {},
   "source": [
    "### Explore the parameters of the grid"
   ]
  },
  {
   "cell_type": "code",
   "execution_count": null,
   "metadata": {},
   "outputs": [],
   "source": [
    "fitter.grids #what grids exist"
   ]
  },
  {
   "cell_type": "code",
   "execution_count": null,
   "metadata": {},
   "outputs": [],
   "source": [
    "fitter.overview['picaso']#top level info from the attrs "
   ]
  },
  {
   "cell_type": "code",
   "execution_count": null,
   "metadata": {},
   "outputs": [],
   "source": [
    "print(fitter.grid_params['picaso']['planet_params']['tint'][0], #this full list can be cross referened against the file list \n",
    "fitter.list_of_files['picaso'][0])\n",
    "#in this case we can verify against the filename, though that might always not be the case "
   ]
  },
  {
   "cell_type": "markdown",
   "metadata": {},
   "source": [
    "## Add Datasets to Explore"
   ]
  },
  {
   "cell_type": "code",
   "execution_count": null,
   "metadata": {},
   "outputs": [],
   "source": [
    "fitter.add_data('firefly',wlgrid_center, wlgrid_width, rprs_data2, e_rprs2)"
   ]
  },
  {
   "cell_type": "markdown",
   "metadata": {},
   "source": [
    "## Compute $\\chi_{red}^2$ and Retrieve Single Best Fit"
   ]
  },
  {
   "cell_type": "code",
   "execution_count": null,
   "metadata": {},
   "outputs": [],
   "source": [
    "fitter.fit_grid('picaso','firefly')\n",
    "fitter.fit_grid('picaso_cldy','firefly')"
   ]
  },
  {
   "cell_type": "code",
   "execution_count": null,
   "metadata": {},
   "outputs": [],
   "source": [
    "out = fitter.as_dict()#allows you to easily grab data\n",
    "out.keys()"
   ]
  },
  {
   "cell_type": "code",
   "execution_count": null,
   "metadata": {},
   "outputs": [],
   "source": [
    "### Use rank order to get the top best fit or other parameters\n",
    "#top 5 best fit models\n",
    "np.array(out['list_of_files']['picaso']\n",
    "        )[out['rank_order']['picaso']['firefly']][0:5]\n",
    "\n",
    "#top 5 best fit chi sqs\n",
    "np.array(out['chi_sqs']['picaso']['firefly']\n",
    "        )[out['rank_order']['picaso']['firefly']][0:5]"
   ]
  },
  {
   "cell_type": "markdown",
   "metadata": {},
   "source": [
    "## Analyze Single Best Fits"
   ]
  },
  {
   "cell_type": "code",
   "execution_count": null,
   "metadata": {},
   "outputs": [],
   "source": [
    "fig,ax = fitter.plot_best_fit(['picaso'],'firefly')"
   ]
  },
  {
   "cell_type": "code",
   "execution_count": null,
   "metadata": {},
   "outputs": [],
   "source": [
    "best_fit = fitter.print_best_fit('picaso','firefly')"
   ]
  },
  {
   "cell_type": "code",
   "execution_count": null,
   "metadata": {},
   "outputs": [],
   "source": [
    "f,a=fitter.plot_posteriors('picaso','firefly',['tint','mh','cto'], \n",
    "               x_label_style={'tint':r\"T$_{\\rm int}$ [K]\",\n",
    "                              'mh':\"log[M/H]\", 'cto':r\"C/O [$\\times$Solar]\"}, \n",
    "               x_axis_type={'tint':r\"linear\",\n",
    "                              'mh':\"log\", 'cto':r\"linear\"})\n",
    "f,a=fitter.plot_posteriors('picaso_cldy','firefly',['tint','mh','cto'], \n",
    "               x_label_style={'tint':r\"T$_{\\rm int}$ [K]\",\n",
    "                              'mh':\"log[M/H]\", 'cto':r\"C/O [$\\times$Solar]\"}, \n",
    "               x_axis_type={'tint':r\"linear\",\n",
    "                              'mh':\"log\", 'cto':r\"linear\"}, fig=f, ax=a)"
   ]
  },
  {
   "cell_type": "markdown",
   "metadata": {},
   "source": [
    "## Interpret Best Fit"
   ]
  },
  {
   "cell_type": "code",
   "execution_count": null,
   "metadata": {},
   "outputs": [],
   "source": [
    "#grab top model \n",
    "top_model_file  = np.array(out['list_of_files']['picaso_cldy']\n",
    "        )[out['rank_order']['picaso_cldy']['firefly']][0]\n",
    "\n",
    "xr_usr = jdi.xr.load_dataset(top_model_file)\n",
    "\n",
    "opa = jdi.opannection()\n",
    "case = jdi.input_xarray(xr_usr, opa)\n",
    "#if you need to rerun your spectrum \n",
    "#out = case.spectrum(opa,calculation='transmisson')"
   ]
  },
  {
   "cell_type": "markdown",
   "metadata": {},
   "source": [
    "### See Contribution From Each Molecule"
   ]
  },
  {
   "cell_type": "code",
   "execution_count": null,
   "metadata": {},
   "outputs": [],
   "source": [
    "#copy atmo before modifying and rerunning picaso\n",
    "og_atmo = jdi.copy.deepcopy(case.inputs['atmosphere']['profile'])\n",
    "#atmo\n",
    "w,f,l =[],[],[]\n",
    "for iex in ['CH4','H2O','CO2',None]:\n",
    "    case.atmosphere(df = og_atmo,exclude_mol=iex, delim_whitespace=True)\n",
    "    df= case.spectrum(opa, full_output=True,calculation='transmission') #note the new last key \n",
    "    wno, rprs2  = df['wavenumber'] , df['transit_depth']\n",
    "    wno, rprs2 = jdi.mean_regrid(wno, rprs2, R=150)\n",
    "    w +=[wno]\n",
    "    f+=[rprs2]\n",
    "    if iex==None: \n",
    "        leg='all'\n",
    "    else: \n",
    "        leg = f'No {iex}'\n",
    "    l+=[leg]\n",
    "jpi.show(jpi.spectrum(w,f,legend=l))"
   ]
  },
  {
   "cell_type": "code",
   "execution_count": null,
   "metadata": {},
   "outputs": [],
   "source": [
    "fitter.data['firefly'].keys()"
   ]
  },
  {
   "cell_type": "markdown",
   "metadata": {},
   "source": [
    "## Quantify Molecular Detection"
   ]
  },
  {
   "cell_type": "code",
   "execution_count": null,
   "metadata": {},
   "outputs": [],
   "source": [
    "#grab file to test \n",
    "top_model_file  = np.array(out['list_of_files']['picaso_cldy']\n",
    "        )[out['rank_order']['picaso_cldy']['firefly']][0]\n",
    "\n",
    "min_wave = 3 #min wave to search for gauss peak\n",
    "max_wave = 5 #max wave to search for gauss peak\n",
    "out = fitter.detection_test('CO2',min_wave,max_wave,'picaso_cldy','firefly',\n",
    "                     top_model_file,\n",
    "                     #opa_kwargs={wave_range=[]}#this is where you input arguments for opannection\n",
    "                     plot=True)"
   ]
  },
  {
   "cell_type": "code",
   "execution_count": null,
   "metadata": {},
   "outputs": [],
   "source": [
    "out['sigma']"
   ]
  }
 ],
 "metadata": {
  "kernelspec": {
   "display_name": "Python 3 (ipykernel)",
   "language": "python",
   "name": "python3"
  },
  "language_info": {
   "codemirror_mode": {
    "name": "ipython",
    "version": 3
   },
   "file_extension": ".py",
   "mimetype": "text/x-python",
   "name": "python",
   "nbconvert_exporter": "python",
   "pygments_lexer": "ipython3",
   "version": "3.8.12"
  },
  "toc": {
   "base_numbering": 1,
   "nav_menu": {},
   "number_sections": true,
   "sideBar": true,
   "skip_h1_title": false,
   "title_cell": "Table of Contents",
   "title_sidebar": "Contents",
   "toc_cell": true,
   "toc_position": {},
   "toc_section_display": true,
   "toc_window_display": false
  }
 },
 "nbformat": 4,
 "nbformat_minor": 4
}
