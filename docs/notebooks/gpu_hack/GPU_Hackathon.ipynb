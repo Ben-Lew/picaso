{
 "cells": [
  {
   "cell_type": "markdown",
   "id": "b9263323",
   "metadata": {
    "toc": true
   },
   "source": [
    "<h1>Table of Contents<span class=\"tocSkip\"></span></h1>\n",
    "<div class=\"toc\"><ul class=\"toc-item\"><li><span><a href=\"#Setup-&amp;-Installation\" data-toc-modified-id=\"Setup-&amp;-Installation-1\"><span class=\"toc-item-num\">1&nbsp;&nbsp;</span>Setup &amp; Installation</a></span></li><li><span><a href=\"#GPU-Hackathon\" data-toc-modified-id=\"GPU-Hackathon-2\"><span class=\"toc-item-num\">2&nbsp;&nbsp;</span>GPU Hackathon</a></span><ul class=\"toc-item\"><li><span><a href=\"#Reflected-Light-Functions\" data-toc-modified-id=\"Reflected-Light-Functions-2.1\"><span class=\"toc-item-num\">2.1&nbsp;&nbsp;</span>Reflected Light Functions</a></span></li><li><span><a href=\"#Thermal-Emission-Functions\" data-toc-modified-id=\"Thermal-Emission-Functions-2.2\"><span class=\"toc-item-num\">2.2&nbsp;&nbsp;</span>Thermal Emission Functions</a></span></li><li><span><a href=\"#Transmission--Functions\" data-toc-modified-id=\"Transmission--Functions-2.3\"><span class=\"toc-item-num\">2.3&nbsp;&nbsp;</span>Transmission  Functions</a></span></li></ul></li><li><span><a href=\"#Initial-Setup-of-PICASO\" data-toc-modified-id=\"Initial-Setup-of-PICASO-3\"><span class=\"toc-item-num\">3&nbsp;&nbsp;</span>Initial Setup of <code>PICASO</code></a></span><ul class=\"toc-item\"><li><span><a href=\"#Reflected-Light-Run\" data-toc-modified-id=\"Reflected-Light-Run-3.1\"><span class=\"toc-item-num\">3.1&nbsp;&nbsp;</span>Reflected Light Run</a></span></li><li><span><a href=\"#Thermal-Emission-Run\" data-toc-modified-id=\"Thermal-Emission-Run-3.2\"><span class=\"toc-item-num\">3.2&nbsp;&nbsp;</span>Thermal Emission Run</a></span></li><li><span><a href=\"#Transmission-Run\" data-toc-modified-id=\"Transmission-Run-3.3\"><span class=\"toc-item-num\">3.3&nbsp;&nbsp;</span>Transmission Run</a></span></li></ul></li><li><span><a href=\"#GPU-Test-Functions-Directly\" data-toc-modified-id=\"GPU-Test-Functions-Directly-4\"><span class=\"toc-item-num\">4&nbsp;&nbsp;</span>GPU Test Functions Directly</a></span></li></ul></div>"
   ]
  },
  {
   "cell_type": "markdown",
   "id": "c3ca49bb",
   "metadata": {},
   "source": [
    "# Setup & Installation\n",
    "\n",
    "1. Fork: https://github.com/natashabatalha/picaso\n",
    "2. `git checkout gpu_hack`\n",
    "3. `python setup.py develop`\n",
    "4. [Download reference data & setup environment variables](https://natashabatalha.github.io/picaso/installation.html#download-reference-documentation)\n",
    "5. This notebook can be downloaded here"
   ]
  },
  {
   "cell_type": "markdown",
   "id": "b4744d02",
   "metadata": {},
   "source": [
    "# GPU Hackathon \n",
    "\n",
    "There are three functions that we want to enable GPU capability for the three different kinds of planet observations: reflected light, thermal emission, and transmission spectroscopy.\n",
    "\n",
    "![](https://natashabatalha.github.io/picaso/_images/usecases.png)\n",
    "\n",
    "## Reflected Light Functions\n",
    "\n",
    "Function to focus on: [get_reflected_1d](https://github.com/natashabatalha/picaso/blob/fb2d48a2f2201ba104b3cd7235a7709764b2582a/picaso/fluxes.py#L827)\n",
    "\n",
    "Functions that it calls: \n",
    "\n",
    "- [setup_tri_diag](https://github.com/natashabatalha/picaso/blob/fb2d48a2f2201ba104b3cd7235a7709764b2582a/picaso/fluxes.py#L240)\n",
    "\n",
    "This sets up matries for a tridiagonal matrix problem \n",
    "\n",
    "- [solve_tri_diag](https://github.com/natashabatalha/picaso/blob/fb2d48a2f2201ba104b3cd7235a7709764b2582a/picaso/fluxes.py#L445) \n",
    "\n",
    "This is the tridiagonal matrix solver \n",
    "\n",
    "\n",
    "## Thermal Emission Functions\n",
    "\n",
    "Function to focus on: [get_thermal_1d](https://github.com/natashabatalha/picaso/blob/fb2d48a2f2201ba104b3cd7235a7709764b2582a/picaso/fluxes.py#L1357)\n",
    "\n",
    "Functions that it calls (same as reflected_1d). \n",
    "\n",
    "## Transmission  Functions\n",
    "\n",
    "Function to focus on: [get_transit_1d](https://github.com/natashabatalha/picaso/blob/fb2d48a2f2201ba104b3cd7235a7709764b2582a/picaso/fluxes.py#L1793)\n",
    "\n",
    "No function calls\n",
    "\n",
    "\n",
    "# Initial Setup of `PICASO`\n",
    "\n",
    "\n",
    "More reading on these functions can be [found here](https://natashabatalha.github.io/picaso/notebooks/1_GetStarted.html). "
   ]
  },
  {
   "cell_type": "code",
   "execution_count": 1,
   "id": "48b41ac6",
   "metadata": {},
   "outputs": [
    {
     "data": {
      "text/html": [
       "\n",
       "    <div class=\"bk-root\">\n",
       "        <a href=\"https://bokeh.org\" target=\"_blank\" class=\"bk-logo bk-logo-small bk-logo-notebook\"></a>\n",
       "        <span id=\"1002\">Loading BokehJS ...</span>\n",
       "    </div>"
      ]
     },
     "metadata": {},
     "output_type": "display_data"
    },
    {
     "data": {
      "application/javascript": [
       "\n",
       "(function(root) {\n",
       "  function now() {\n",
       "    return new Date();\n",
       "  }\n",
       "\n",
       "  var force = true;\n",
       "\n",
       "  if (typeof root._bokeh_onload_callbacks === \"undefined\" || force === true) {\n",
       "    root._bokeh_onload_callbacks = [];\n",
       "    root._bokeh_is_loading = undefined;\n",
       "  }\n",
       "\n",
       "  var JS_MIME_TYPE = 'application/javascript';\n",
       "  var HTML_MIME_TYPE = 'text/html';\n",
       "  var EXEC_MIME_TYPE = 'application/vnd.bokehjs_exec.v0+json';\n",
       "  var CLASS_NAME = 'output_bokeh rendered_html';\n",
       "\n",
       "  /**\n",
       "   * Render data to the DOM node\n",
       "   */\n",
       "  function render(props, node) {\n",
       "    var script = document.createElement(\"script\");\n",
       "    node.appendChild(script);\n",
       "  }\n",
       "\n",
       "  /**\n",
       "   * Handle when an output is cleared or removed\n",
       "   */\n",
       "  function handleClearOutput(event, handle) {\n",
       "    var cell = handle.cell;\n",
       "\n",
       "    var id = cell.output_area._bokeh_element_id;\n",
       "    var server_id = cell.output_area._bokeh_server_id;\n",
       "    // Clean up Bokeh references\n",
       "    if (id != null && id in Bokeh.index) {\n",
       "      Bokeh.index[id].model.document.clear();\n",
       "      delete Bokeh.index[id];\n",
       "    }\n",
       "\n",
       "    if (server_id !== undefined) {\n",
       "      // Clean up Bokeh references\n",
       "      var cmd = \"from bokeh.io.state import curstate; print(curstate().uuid_to_server['\" + server_id + \"'].get_sessions()[0].document.roots[0]._id)\";\n",
       "      cell.notebook.kernel.execute(cmd, {\n",
       "        iopub: {\n",
       "          output: function(msg) {\n",
       "            var id = msg.content.text.trim();\n",
       "            if (id in Bokeh.index) {\n",
       "              Bokeh.index[id].model.document.clear();\n",
       "              delete Bokeh.index[id];\n",
       "            }\n",
       "          }\n",
       "        }\n",
       "      });\n",
       "      // Destroy server and session\n",
       "      var cmd = \"import bokeh.io.notebook as ion; ion.destroy_server('\" + server_id + \"')\";\n",
       "      cell.notebook.kernel.execute(cmd);\n",
       "    }\n",
       "  }\n",
       "\n",
       "  /**\n",
       "   * Handle when a new output is added\n",
       "   */\n",
       "  function handleAddOutput(event, handle) {\n",
       "    var output_area = handle.output_area;\n",
       "    var output = handle.output;\n",
       "\n",
       "    // limit handleAddOutput to display_data with EXEC_MIME_TYPE content only\n",
       "    if ((output.output_type != \"display_data\") || (!Object.prototype.hasOwnProperty.call(output.data, EXEC_MIME_TYPE))) {\n",
       "      return\n",
       "    }\n",
       "\n",
       "    var toinsert = output_area.element.find(\".\" + CLASS_NAME.split(' ')[0]);\n",
       "\n",
       "    if (output.metadata[EXEC_MIME_TYPE][\"id\"] !== undefined) {\n",
       "      toinsert[toinsert.length - 1].firstChild.textContent = output.data[JS_MIME_TYPE];\n",
       "      // store reference to embed id on output_area\n",
       "      output_area._bokeh_element_id = output.metadata[EXEC_MIME_TYPE][\"id\"];\n",
       "    }\n",
       "    if (output.metadata[EXEC_MIME_TYPE][\"server_id\"] !== undefined) {\n",
       "      var bk_div = document.createElement(\"div\");\n",
       "      bk_div.innerHTML = output.data[HTML_MIME_TYPE];\n",
       "      var script_attrs = bk_div.children[0].attributes;\n",
       "      for (var i = 0; i < script_attrs.length; i++) {\n",
       "        toinsert[toinsert.length - 1].firstChild.setAttribute(script_attrs[i].name, script_attrs[i].value);\n",
       "        toinsert[toinsert.length - 1].firstChild.textContent = bk_div.children[0].textContent\n",
       "      }\n",
       "      // store reference to server id on output_area\n",
       "      output_area._bokeh_server_id = output.metadata[EXEC_MIME_TYPE][\"server_id\"];\n",
       "    }\n",
       "  }\n",
       "\n",
       "  function register_renderer(events, OutputArea) {\n",
       "\n",
       "    function append_mime(data, metadata, element) {\n",
       "      // create a DOM node to render to\n",
       "      var toinsert = this.create_output_subarea(\n",
       "        metadata,\n",
       "        CLASS_NAME,\n",
       "        EXEC_MIME_TYPE\n",
       "      );\n",
       "      this.keyboard_manager.register_events(toinsert);\n",
       "      // Render to node\n",
       "      var props = {data: data, metadata: metadata[EXEC_MIME_TYPE]};\n",
       "      render(props, toinsert[toinsert.length - 1]);\n",
       "      element.append(toinsert);\n",
       "      return toinsert\n",
       "    }\n",
       "\n",
       "    /* Handle when an output is cleared or removed */\n",
       "    events.on('clear_output.CodeCell', handleClearOutput);\n",
       "    events.on('delete.Cell', handleClearOutput);\n",
       "\n",
       "    /* Handle when a new output is added */\n",
       "    events.on('output_added.OutputArea', handleAddOutput);\n",
       "\n",
       "    /**\n",
       "     * Register the mime type and append_mime function with output_area\n",
       "     */\n",
       "    OutputArea.prototype.register_mime_type(EXEC_MIME_TYPE, append_mime, {\n",
       "      /* Is output safe? */\n",
       "      safe: true,\n",
       "      /* Index of renderer in `output_area.display_order` */\n",
       "      index: 0\n",
       "    });\n",
       "  }\n",
       "\n",
       "  // register the mime type if in Jupyter Notebook environment and previously unregistered\n",
       "  if (root.Jupyter !== undefined) {\n",
       "    var events = require('base/js/events');\n",
       "    var OutputArea = require('notebook/js/outputarea').OutputArea;\n",
       "\n",
       "    if (OutputArea.prototype.mime_types().indexOf(EXEC_MIME_TYPE) == -1) {\n",
       "      register_renderer(events, OutputArea);\n",
       "    }\n",
       "  }\n",
       "\n",
       "  \n",
       "  if (typeof (root._bokeh_timeout) === \"undefined\" || force === true) {\n",
       "    root._bokeh_timeout = Date.now() + 5000;\n",
       "    root._bokeh_failed_load = false;\n",
       "  }\n",
       "\n",
       "  var NB_LOAD_WARNING = {'data': {'text/html':\n",
       "     \"<div style='background-color: #fdd'>\\n\"+\n",
       "     \"<p>\\n\"+\n",
       "     \"BokehJS does not appear to have successfully loaded. If loading BokehJS from CDN, this \\n\"+\n",
       "     \"may be due to a slow or bad network connection. Possible fixes:\\n\"+\n",
       "     \"</p>\\n\"+\n",
       "     \"<ul>\\n\"+\n",
       "     \"<li>re-rerun `output_notebook()` to attempt to load from CDN again, or</li>\\n\"+\n",
       "     \"<li>use INLINE resources instead, as so:</li>\\n\"+\n",
       "     \"</ul>\\n\"+\n",
       "     \"<code>\\n\"+\n",
       "     \"from bokeh.resources import INLINE\\n\"+\n",
       "     \"output_notebook(resources=INLINE)\\n\"+\n",
       "     \"</code>\\n\"+\n",
       "     \"</div>\"}};\n",
       "\n",
       "  function display_loaded() {\n",
       "    var el = document.getElementById(\"1002\");\n",
       "    if (el != null) {\n",
       "      el.textContent = \"BokehJS is loading...\";\n",
       "    }\n",
       "    if (root.Bokeh !== undefined) {\n",
       "      if (el != null) {\n",
       "        el.textContent = \"BokehJS \" + root.Bokeh.version + \" successfully loaded.\";\n",
       "      }\n",
       "    } else if (Date.now() < root._bokeh_timeout) {\n",
       "      setTimeout(display_loaded, 100)\n",
       "    }\n",
       "  }\n",
       "\n",
       "\n",
       "  function run_callbacks() {\n",
       "    try {\n",
       "      root._bokeh_onload_callbacks.forEach(function(callback) {\n",
       "        if (callback != null)\n",
       "          callback();\n",
       "      });\n",
       "    } finally {\n",
       "      delete root._bokeh_onload_callbacks\n",
       "    }\n",
       "    console.debug(\"Bokeh: all callbacks have finished\");\n",
       "  }\n",
       "\n",
       "  function load_libs(css_urls, js_urls, callback) {\n",
       "    if (css_urls == null) css_urls = [];\n",
       "    if (js_urls == null) js_urls = [];\n",
       "\n",
       "    root._bokeh_onload_callbacks.push(callback);\n",
       "    if (root._bokeh_is_loading > 0) {\n",
       "      console.debug(\"Bokeh: BokehJS is being loaded, scheduling callback at\", now());\n",
       "      return null;\n",
       "    }\n",
       "    if (js_urls == null || js_urls.length === 0) {\n",
       "      run_callbacks();\n",
       "      return null;\n",
       "    }\n",
       "    console.debug(\"Bokeh: BokehJS not loaded, scheduling load and callback at\", now());\n",
       "    root._bokeh_is_loading = css_urls.length + js_urls.length;\n",
       "\n",
       "    function on_load() {\n",
       "      root._bokeh_is_loading--;\n",
       "      if (root._bokeh_is_loading === 0) {\n",
       "        console.debug(\"Bokeh: all BokehJS libraries/stylesheets loaded\");\n",
       "        run_callbacks()\n",
       "      }\n",
       "    }\n",
       "\n",
       "    function on_error(url) {\n",
       "      console.error(\"failed to load \" + url);\n",
       "    }\n",
       "\n",
       "    for (let i = 0; i < css_urls.length; i++) {\n",
       "      const url = css_urls[i];\n",
       "      const element = document.createElement(\"link\");\n",
       "      element.onload = on_load;\n",
       "      element.onerror = on_error.bind(null, url);\n",
       "      element.rel = \"stylesheet\";\n",
       "      element.type = \"text/css\";\n",
       "      element.href = url;\n",
       "      console.debug(\"Bokeh: injecting link tag for BokehJS stylesheet: \", url);\n",
       "      document.body.appendChild(element);\n",
       "    }\n",
       "\n",
       "    const hashes = {\"https://cdn.bokeh.org/bokeh/release/bokeh-2.3.3.min.js\": \"dM3QQsP+wXdHg42wTqW85BjZQdLNNIXqlPw/BgKoExPmTG7ZLML4EGqLMfqHT6ON\", \"https://cdn.bokeh.org/bokeh/release/bokeh-tables-2.3.3.min.js\": \"8x57I4YuIfu8XyZfFo0XVr2WAT8EK4rh/uDe3wF7YuW2FNUSNEpJbsPaB1nJ2fz2\", \"https://cdn.bokeh.org/bokeh/release/bokeh-widgets-2.3.3.min.js\": \"3QTqdz9LyAm2i0sG5XTePsHec3UHWwVsrOL68SYRoAXsafvfAyqtQ+h440+qIBhS\"};\n",
       "\n",
       "    for (let i = 0; i < js_urls.length; i++) {\n",
       "      const url = js_urls[i];\n",
       "      const element = document.createElement('script');\n",
       "      element.onload = on_load;\n",
       "      element.onerror = on_error.bind(null, url);\n",
       "      element.async = false;\n",
       "      element.src = url;\n",
       "      if (url in hashes) {\n",
       "        element.crossOrigin = \"anonymous\";\n",
       "        element.integrity = \"sha384-\" + hashes[url];\n",
       "      }\n",
       "      console.debug(\"Bokeh: injecting script tag for BokehJS library: \", url);\n",
       "      document.head.appendChild(element);\n",
       "    }\n",
       "  };\n",
       "\n",
       "  function inject_raw_css(css) {\n",
       "    const element = document.createElement(\"style\");\n",
       "    element.appendChild(document.createTextNode(css));\n",
       "    document.body.appendChild(element);\n",
       "  }\n",
       "\n",
       "  \n",
       "  var js_urls = [\"https://cdn.bokeh.org/bokeh/release/bokeh-2.3.3.min.js\", \"https://cdn.bokeh.org/bokeh/release/bokeh-widgets-2.3.3.min.js\", \"https://cdn.bokeh.org/bokeh/release/bokeh-tables-2.3.3.min.js\"];\n",
       "  var css_urls = [];\n",
       "  \n",
       "\n",
       "  var inline_js = [\n",
       "    function(Bokeh) {\n",
       "      Bokeh.set_log_level(\"info\");\n",
       "    },\n",
       "    function(Bokeh) {\n",
       "    \n",
       "    \n",
       "    }\n",
       "  ];\n",
       "\n",
       "  function run_inline_js() {\n",
       "    \n",
       "    if (root.Bokeh !== undefined || force === true) {\n",
       "      \n",
       "    for (var i = 0; i < inline_js.length; i++) {\n",
       "      inline_js[i].call(root, root.Bokeh);\n",
       "    }\n",
       "    if (force === true) {\n",
       "        display_loaded();\n",
       "      }} else if (Date.now() < root._bokeh_timeout) {\n",
       "      setTimeout(run_inline_js, 100);\n",
       "    } else if (!root._bokeh_failed_load) {\n",
       "      console.log(\"Bokeh: BokehJS failed to load within specified timeout.\");\n",
       "      root._bokeh_failed_load = true;\n",
       "    } else if (force !== true) {\n",
       "      var cell = $(document.getElementById(\"1002\")).parents('.cell').data().cell;\n",
       "      cell.output_area.append_execute_result(NB_LOAD_WARNING)\n",
       "    }\n",
       "\n",
       "  }\n",
       "\n",
       "  if (root._bokeh_is_loading === 0) {\n",
       "    console.debug(\"Bokeh: BokehJS loaded, going straight to plotting\");\n",
       "    run_inline_js();\n",
       "  } else {\n",
       "    load_libs(css_urls, js_urls, function() {\n",
       "      console.debug(\"Bokeh: BokehJS plotting callback run at\", now());\n",
       "      run_inline_js();\n",
       "    });\n",
       "  }\n",
       "}(window));"
      ],
      "application/vnd.bokehjs_load.v0+json": "\n(function(root) {\n  function now() {\n    return new Date();\n  }\n\n  var force = true;\n\n  if (typeof root._bokeh_onload_callbacks === \"undefined\" || force === true) {\n    root._bokeh_onload_callbacks = [];\n    root._bokeh_is_loading = undefined;\n  }\n\n  \n\n  \n  if (typeof (root._bokeh_timeout) === \"undefined\" || force === true) {\n    root._bokeh_timeout = Date.now() + 5000;\n    root._bokeh_failed_load = false;\n  }\n\n  var NB_LOAD_WARNING = {'data': {'text/html':\n     \"<div style='background-color: #fdd'>\\n\"+\n     \"<p>\\n\"+\n     \"BokehJS does not appear to have successfully loaded. If loading BokehJS from CDN, this \\n\"+\n     \"may be due to a slow or bad network connection. Possible fixes:\\n\"+\n     \"</p>\\n\"+\n     \"<ul>\\n\"+\n     \"<li>re-rerun `output_notebook()` to attempt to load from CDN again, or</li>\\n\"+\n     \"<li>use INLINE resources instead, as so:</li>\\n\"+\n     \"</ul>\\n\"+\n     \"<code>\\n\"+\n     \"from bokeh.resources import INLINE\\n\"+\n     \"output_notebook(resources=INLINE)\\n\"+\n     \"</code>\\n\"+\n     \"</div>\"}};\n\n  function display_loaded() {\n    var el = document.getElementById(\"1002\");\n    if (el != null) {\n      el.textContent = \"BokehJS is loading...\";\n    }\n    if (root.Bokeh !== undefined) {\n      if (el != null) {\n        el.textContent = \"BokehJS \" + root.Bokeh.version + \" successfully loaded.\";\n      }\n    } else if (Date.now() < root._bokeh_timeout) {\n      setTimeout(display_loaded, 100)\n    }\n  }\n\n\n  function run_callbacks() {\n    try {\n      root._bokeh_onload_callbacks.forEach(function(callback) {\n        if (callback != null)\n          callback();\n      });\n    } finally {\n      delete root._bokeh_onload_callbacks\n    }\n    console.debug(\"Bokeh: all callbacks have finished\");\n  }\n\n  function load_libs(css_urls, js_urls, callback) {\n    if (css_urls == null) css_urls = [];\n    if (js_urls == null) js_urls = [];\n\n    root._bokeh_onload_callbacks.push(callback);\n    if (root._bokeh_is_loading > 0) {\n      console.debug(\"Bokeh: BokehJS is being loaded, scheduling callback at\", now());\n      return null;\n    }\n    if (js_urls == null || js_urls.length === 0) {\n      run_callbacks();\n      return null;\n    }\n    console.debug(\"Bokeh: BokehJS not loaded, scheduling load and callback at\", now());\n    root._bokeh_is_loading = css_urls.length + js_urls.length;\n\n    function on_load() {\n      root._bokeh_is_loading--;\n      if (root._bokeh_is_loading === 0) {\n        console.debug(\"Bokeh: all BokehJS libraries/stylesheets loaded\");\n        run_callbacks()\n      }\n    }\n\n    function on_error(url) {\n      console.error(\"failed to load \" + url);\n    }\n\n    for (let i = 0; i < css_urls.length; i++) {\n      const url = css_urls[i];\n      const element = document.createElement(\"link\");\n      element.onload = on_load;\n      element.onerror = on_error.bind(null, url);\n      element.rel = \"stylesheet\";\n      element.type = \"text/css\";\n      element.href = url;\n      console.debug(\"Bokeh: injecting link tag for BokehJS stylesheet: \", url);\n      document.body.appendChild(element);\n    }\n\n    const hashes = {\"https://cdn.bokeh.org/bokeh/release/bokeh-2.3.3.min.js\": \"dM3QQsP+wXdHg42wTqW85BjZQdLNNIXqlPw/BgKoExPmTG7ZLML4EGqLMfqHT6ON\", \"https://cdn.bokeh.org/bokeh/release/bokeh-tables-2.3.3.min.js\": \"8x57I4YuIfu8XyZfFo0XVr2WAT8EK4rh/uDe3wF7YuW2FNUSNEpJbsPaB1nJ2fz2\", \"https://cdn.bokeh.org/bokeh/release/bokeh-widgets-2.3.3.min.js\": \"3QTqdz9LyAm2i0sG5XTePsHec3UHWwVsrOL68SYRoAXsafvfAyqtQ+h440+qIBhS\"};\n\n    for (let i = 0; i < js_urls.length; i++) {\n      const url = js_urls[i];\n      const element = document.createElement('script');\n      element.onload = on_load;\n      element.onerror = on_error.bind(null, url);\n      element.async = false;\n      element.src = url;\n      if (url in hashes) {\n        element.crossOrigin = \"anonymous\";\n        element.integrity = \"sha384-\" + hashes[url];\n      }\n      console.debug(\"Bokeh: injecting script tag for BokehJS library: \", url);\n      document.head.appendChild(element);\n    }\n  };\n\n  function inject_raw_css(css) {\n    const element = document.createElement(\"style\");\n    element.appendChild(document.createTextNode(css));\n    document.body.appendChild(element);\n  }\n\n  \n  var js_urls = [\"https://cdn.bokeh.org/bokeh/release/bokeh-2.3.3.min.js\", \"https://cdn.bokeh.org/bokeh/release/bokeh-widgets-2.3.3.min.js\", \"https://cdn.bokeh.org/bokeh/release/bokeh-tables-2.3.3.min.js\"];\n  var css_urls = [];\n  \n\n  var inline_js = [\n    function(Bokeh) {\n      Bokeh.set_log_level(\"info\");\n    },\n    function(Bokeh) {\n    \n    \n    }\n  ];\n\n  function run_inline_js() {\n    \n    if (root.Bokeh !== undefined || force === true) {\n      \n    for (var i = 0; i < inline_js.length; i++) {\n      inline_js[i].call(root, root.Bokeh);\n    }\n    if (force === true) {\n        display_loaded();\n      }} else if (Date.now() < root._bokeh_timeout) {\n      setTimeout(run_inline_js, 100);\n    } else if (!root._bokeh_failed_load) {\n      console.log(\"Bokeh: BokehJS failed to load within specified timeout.\");\n      root._bokeh_failed_load = true;\n    } else if (force !== true) {\n      var cell = $(document.getElementById(\"1002\")).parents('.cell').data().cell;\n      cell.output_area.append_execute_result(NB_LOAD_WARNING)\n    }\n\n  }\n\n  if (root._bokeh_is_loading === 0) {\n    console.debug(\"Bokeh: BokehJS loaded, going straight to plotting\");\n    run_inline_js();\n  } else {\n    load_libs(css_urls, js_urls, function() {\n      console.debug(\"Bokeh: BokehJS plotting callback run at\", now());\n      run_inline_js();\n    });\n  }\n}(window));"
     },
     "metadata": {},
     "output_type": "display_data"
    }
   ],
   "source": [
    "#picaso\n",
    "from picaso import justdoit as jdi \n",
    "from picaso import justplotit as jpi\n",
    "import numpy as np\n",
    "\n",
    "jpi.output_notebook()"
   ]
  },
  {
   "cell_type": "markdown",
   "id": "20b4c3e0",
   "metadata": {},
   "source": [
    "The speed of the calculation will depend on how big this opacity bundle is. Specifically: \n",
    "\n",
    "1. Number of wavelength points in the calculation\n",
    "2. Number of pressure layers "
   ]
  },
  {
   "cell_type": "code",
   "execution_count": 2,
   "id": "e86b2f0c",
   "metadata": {},
   "outputs": [],
   "source": [
    "opacity = jdi.opannection(wave_range=[0.3,1]) #We can use wave_range to control the number of wave points"
   ]
  },
  {
   "cell_type": "code",
   "execution_count": 3,
   "id": "b2b0a6a4",
   "metadata": {},
   "outputs": [
    {
     "data": {
      "text/plain": [
       "18242"
      ]
     },
     "execution_count": 3,
     "metadata": {},
     "output_type": "execute_result"
    }
   ],
   "source": [
    "opacity.nwno"
   ]
  },
  {
   "cell_type": "code",
   "execution_count": 4,
   "id": "f0653c74",
   "metadata": {},
   "outputs": [],
   "source": [
    "start_case = jdi.inputs()\n",
    "#phase angle \n",
    "start_case.phase_angle(0) #radians\n",
    "\n",
    "#define gravity\n",
    "start_case.gravity(radius=1, radius_unit=jdi.u.Unit('R_jup'),\n",
    "                   mass=1, mass_unit=jdi.u.Unit('M_jup'),\n",
    "                  ) #any astropy units available\n",
    "start_case.inputs['surface_reflect'] = 0 \n",
    "start_case.inputs['hard_surface'] = 0 \n",
    "#define star \n",
    "start_case.star(opacity, 5000,0,4.0) #opacity db, pysynphot database, temp, metallicity, logg "
   ]
  },
  {
   "cell_type": "code",
   "execution_count": 5,
   "id": "b3acab96",
   "metadata": {},
   "outputs": [],
   "source": [
    "#set atmospheric chemistry with this example case\n",
    "start_case.atmosphere(filename=jdi.jupiter_pt(), delim_whitespace=True)"
   ]
  },
  {
   "cell_type": "markdown",
   "id": "7acb5c88",
   "metadata": {},
   "source": [
    "Sets layers which defines next dimension"
   ]
  },
  {
   "cell_type": "code",
   "execution_count": 6,
   "id": "38cbcf33",
   "metadata": {},
   "outputs": [
    {
     "data": {
      "text/plain": [
       "61"
      ]
     },
     "execution_count": 6,
     "metadata": {},
     "output_type": "execute_result"
    }
   ],
   "source": [
    "#61 pressure levels \n",
    "start_case.inputs['atmosphere']['profile'].shape[0]"
   ]
  },
  {
   "cell_type": "markdown",
   "id": "bf037d6e",
   "metadata": {},
   "source": [
    "## Reflected Light Run "
   ]
  },
  {
   "cell_type": "code",
   "execution_count": 7,
   "id": "608a46fb",
   "metadata": {},
   "outputs": [],
   "source": [
    "df = start_case.spectrum(opacity,calculation='reflected')"
   ]
  },
  {
   "cell_type": "markdown",
   "id": "5d30e3e8",
   "metadata": {},
   "source": [
    "## Thermal Emission Run "
   ]
  },
  {
   "cell_type": "code",
   "execution_count": 8,
   "id": "9449d011",
   "metadata": {},
   "outputs": [],
   "source": [
    "df = start_case.spectrum(opacity,calculation='thermal')"
   ]
  },
  {
   "cell_type": "markdown",
   "id": "c0557d3e",
   "metadata": {},
   "source": [
    "## Transmission Run "
   ]
  },
  {
   "cell_type": "code",
   "execution_count": 9,
   "id": "74160fde",
   "metadata": {},
   "outputs": [],
   "source": [
    "df = start_case.spectrum(opacity,calculation='transmission')"
   ]
  },
  {
   "cell_type": "markdown",
   "id": "dd1c6fa6",
   "metadata": {},
   "source": [
    "# GPU Test Functions Directly\n",
    "\n",
    "The function above does a lot of initial setup. However, the focus of this hackathon should only be the three functions. So in `gpu_hack` I have created a dummy function called `gpu_test` that produces the output for the three functions that we want to test. \n",
    "\n"
   ]
  },
  {
   "cell_type": "code",
   "execution_count": 10,
   "id": "a9569290",
   "metadata": {},
   "outputs": [],
   "source": [
    "reflected_input, thermal_input, transmission_input = jdi.gpu_test(start_case, opacity\n",
    ")"
   ]
  },
  {
   "cell_type": "markdown",
   "id": "adc1e46f",
   "metadata": {},
   "source": [
    "### get_thermal_1d (priority # 1)"
   ]
  },
  {
   "cell_type": "code",
   "execution_count": 12,
   "id": "75e4f7fb",
   "metadata": {},
   "outputs": [],
   "source": [
    "out = jdi.get_thermal_1d(*thermal_input)"
   ]
  },
  {
   "cell_type": "markdown",
   "id": "becf0714",
   "metadata": {},
   "source": [
    "### get_transit_1d (priority # 2)"
   ]
  },
  {
   "cell_type": "code",
   "execution_count": 13,
   "id": "e161b604",
   "metadata": {},
   "outputs": [],
   "source": [
    "out = jdi.get_transit_1d(*transmission_input)"
   ]
  },
  {
   "cell_type": "markdown",
   "id": "f1a3267d",
   "metadata": {},
   "source": [
    "### get_reflected_1d (priority # 3) \n"
   ]
  },
  {
   "cell_type": "code",
   "execution_count": 11,
   "id": "c6fe3339",
   "metadata": {},
   "outputs": [],
   "source": [
    "out = jdi.get_reflected_1d(*reflected_input)"
   ]
  }
 ],
 "metadata": {
  "kernelspec": {
   "display_name": "Python 3 (ipykernel)",
   "language": "python",
   "name": "python3"
  },
  "language_info": {
   "codemirror_mode": {
    "name": "ipython",
    "version": 3
   },
   "file_extension": ".py",
   "mimetype": "text/x-python",
   "name": "python",
   "nbconvert_exporter": "python",
   "pygments_lexer": "ipython3",
   "version": "3.8.12"
  },
  "toc": {
   "base_numbering": 1,
   "nav_menu": {},
   "number_sections": true,
   "sideBar": true,
   "skip_h1_title": false,
   "title_cell": "Table of Contents",
   "title_sidebar": "Contents",
   "toc_cell": true,
   "toc_position": {},
   "toc_section_display": true,
   "toc_window_display": false
  }
 },
 "nbformat": 4,
 "nbformat_minor": 5
}
