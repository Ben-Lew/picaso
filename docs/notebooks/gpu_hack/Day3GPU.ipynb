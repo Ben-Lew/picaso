{
 "cells": [
  {
   "cell_type": "markdown",
   "id": "71830690",
   "metadata": {
    "toc": true
   },
   "source": [
    "<h1>Table of Contents<span class=\"tocSkip\"></span></h1>\n",
    "<div class=\"toc\"><ul class=\"toc-item\"><li><span><a href=\"#Get-function-inputs\" data-toc-modified-id=\"Get-function-inputs-1\"><span class=\"toc-item-num\">1&nbsp;&nbsp;</span>Get function inputs</a></span></li><li><span><a href=\"#Break-Down-Thermal-Funtions\" data-toc-modified-id=\"Break-Down-Thermal-Funtions-2\"><span class=\"toc-item-num\">2&nbsp;&nbsp;</span>Break Down Thermal Funtions</a></span></li><li><span><a href=\"#Cuda/CuPy-for-Tridiagonal-Piece-of-Code\" data-toc-modified-id=\"Cuda/CuPy-for-Tridiagonal-Piece-of-Code-3\"><span class=\"toc-item-num\">3&nbsp;&nbsp;</span>Cuda/CuPy for Tridiagonal Piece of Code</a></span></li></ul></div>"
   ]
  },
  {
   "cell_type": "code",
   "execution_count": null,
   "id": "113ed822-1c1f-432c-a719-f5fce14ad54e",
   "metadata": {},
   "outputs": [],
   "source": [
    "import numpy as np\n",
    "#import cupy as cp\n",
    "#import nvtx\n",
    "import pickle as pk\n",
    "#import os \n",
    "#os.environ['picaso_refdata'] = '/nobackup/nbatalh1/reference_data/picaso/reference'\n",
    "#os.environ['PYSYN_CDBS'] ='/nobackup/nbatalh1/reference_data/grp/hst/cdbs'\n",
    "#picaso\n",
    "from picaso import justdoit as jdi \n",
    "from picaso import justplotit as jpi\n",
    "\n",
    "#from numba import vectorize, float64,int32,float32,int64\n",
    "#from numba import guvectorize,jit"
   ]
  },
  {
   "cell_type": "markdown",
   "id": "e6430377-6d1d-4679-92d1-3944831474f3",
   "metadata": {},
   "source": [
    "## Get function inputs"
   ]
  },
  {
   "cell_type": "code",
   "execution_count": null,
   "id": "3e5546b8-6266-45f6-a698-5a5a671bea3c",
   "metadata": {},
   "outputs": [],
   "source": [
    "opacity = jdi.opannection(\n",
    "#filename_db='/nobackup/nbatalh1/reference_data/picaso/reference/opacities/all_opacities_0.6_6_R60000.db'\n",
    ")#wave_range=[0.3,1]) #We can use wave_range to control the number of wave points\n",
    "start_case = jdi.inputs()\n",
    "#phase angle \n",
    "start_case.phase_angle(0) #radians\n",
    "\n",
    "#define gravity\n",
    "start_case.gravity(radius=1, radius_unit=jdi.u.Unit('R_jup'),\n",
    "                   mass=1, mass_unit=jdi.u.Unit('M_jup'),\n",
    "                  ) #any astropy units available\n",
    "start_case.inputs['surface_reflect'] = 0 \n",
    "start_case.inputs['hard_surface'] = 0 \n",
    "#define star \n",
    "start_case.star(opacity, 5000,0,4.0, radius=1, radius_unit=jdi.u.Unit('R_sun')) #opacity db, pysynphot database, temp, metallicity, logg \n",
    "start_case.atmosphere(filename=jdi.jupiter_pt(), delim_whitespace=True)\n",
    "reflected_input, thermal_input, transmission_input = jdi.gpu_test(start_case, opacity)"
   ]
  },
  {
   "cell_type": "markdown",
   "id": "8c610d9f-1347-4fc7-88dc-51f766438c82",
   "metadata": {},
   "source": [
    "## Break Down Thermal Funtions"
   ]
  },
  {
   "cell_type": "code",
   "execution_count": null,
   "id": "e5daed87",
   "metadata": {},
   "outputs": [],
   "source": [
    "from picaso.fluxes import pre_get_thermal_1d, tri_get_thermal_1d, post_get_thermal_1d"
   ]
  },
  {
   "cell_type": "code",
   "execution_count": null,
   "id": "6ef59e2c",
   "metadata": {},
   "outputs": [],
   "source": [
    "for_tri,pre_out = pre_get_thermal_1d(*thermal_input)\n",
    "tri_out=tri_get_thermal_1d(*for_tri)\n",
    "thermal = post_get_thermal_1d(pre_out, tri_out)"
   ]
  },
  {
   "cell_type": "markdown",
   "id": "b76775d3",
   "metadata": {},
   "source": [
    "## Cuda/CuPy for Tridiagonal Piece of Code "
   ]
  },
  {
   "cell_type": "code",
   "execution_count": null,
   "id": "07548aa9",
   "metadata": {},
   "outputs": [],
   "source": [
    "def  tri_get_thermal_1d(A, B, C, D,nlayer, nwno):#input for_tri\n",
    "\n",
    "    positive = zeros((nlayer, nwno))\n",
    "    negative = zeros((nlayer, nwno))\n",
    "\n",
    "    #========================= Start loop over wavelength =========================\n",
    "    L = nlayer+nlayer\n",
    "    for w in range(nwno):\n",
    "        #coefficient of posive and negative exponential terms \n",
    "        X = tri_diag_solve(L, A[:,w], B[:,w], C[:,w], D[:,w])\n",
    "        #unmix the coefficients\n",
    "        positive[:,w] = X[::2] + X[1::2] #Y1+Y2 in toon (table 3)\n",
    "        negative[:,w] = X[::2] - X[1::2] #Y1-Y2 in toon (table 3)\n",
    "\n",
    "    return positive, negative\n",
    "\n",
    "#@jit(nopython=True, cache=True)\n",
    "def tri_diag_solve(l, a, b, c, d):\n",
    "    AS, DS, CS, DS,XK = zeros(l), zeros(l), zeros(l), zeros(l), zeros(l) # copy arrays\n",
    "\n",
    "    AS[-1] = a[-1]/b[-1]\n",
    "    DS[-1] = d[-1]/b[-1]\n",
    "\n",
    "    for i in range(l-2, -1, -1):\n",
    "        x = 1.0 / (b[i] - c[i] * AS[i+1])\n",
    "        AS[i] = a[i] * x\n",
    "        DS[i] = (d[i]-c[i] * DS[i+1]) * x\n",
    "    XK[0] = DS[0]\n",
    "    for i in range(1,l):\n",
    "        XK[i] = DS[i] - AS[i] * XK[i-1]\n",
    "    return XK"
   ]
  }
 ],
 "metadata": {
  "kernelspec": {
   "display_name": "Python 3 (ipykernel)",
   "language": "python",
   "name": "python3"
  },
  "language_info": {
   "codemirror_mode": {
    "name": "ipython",
    "version": 3
   },
   "file_extension": ".py",
   "mimetype": "text/x-python",
   "name": "python",
   "nbconvert_exporter": "python",
   "pygments_lexer": "ipython3",
   "version": "3.8.12"
  },
  "toc": {
   "base_numbering": 1,
   "nav_menu": {},
   "number_sections": true,
   "sideBar": true,
   "skip_h1_title": false,
   "title_cell": "Table of Contents",
   "title_sidebar": "Contents",
   "toc_cell": true,
   "toc_position": {},
   "toc_section_display": true,
   "toc_window_display": false
  }
 },
 "nbformat": 4,
 "nbformat_minor": 5
}
