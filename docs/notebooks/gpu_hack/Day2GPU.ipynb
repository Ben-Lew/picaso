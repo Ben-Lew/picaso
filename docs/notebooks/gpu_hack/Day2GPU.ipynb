{
 "cells": [
  {
   "cell_type": "code",
   "execution_count": 36,
   "id": "113ed822-1c1f-432c-a719-f5fce14ad54e",
   "metadata": {},
   "outputs": [],
   "source": [
    "import numpy as np\n",
    "import cupy as cp\n",
    "import nvtx\n",
    "import pickle as pk\n",
    "import os \n",
    "os.environ['picaso_refdata'] = '/nobackup/nbatalh1/reference_data/picaso/reference'\n",
    "os.environ['PYSYN_CDBS'] ='/nobackup/nbatalh1/reference_data/grp/hst/cdbs'\n",
    "#picaso\n",
    "from picaso import justdoit as jdi \n",
    "from picaso import justplotit as jpi\n",
    "\n",
    "from numba import vectorize, float64,int32,float32,int64\n",
    "from numba import guvectorize,jit"
   ]
  },
  {
   "cell_type": "markdown",
   "id": "e6430377-6d1d-4679-92d1-3944831474f3",
   "metadata": {},
   "source": [
    "## Get function inputs"
   ]
  },
  {
   "cell_type": "code",
   "execution_count": 37,
   "id": "3e5546b8-6266-45f6-a698-5a5a671bea3c",
   "metadata": {},
   "outputs": [
    {
     "name": "stderr",
     "output_type": "stream",
     "text": [
      "\n",
      "KeyboardInterrupt\n",
      "\n"
     ]
    }
   ],
   "source": [
    "opacity = jdi.opannection(\n",
    "filename_db='/nobackup/nbatalh1/reference_data/picaso/reference/opacities/all_opacities_0.6_6_R60000.db'\n",
    ")#wave_range=[0.3,1]) #We can use wave_range to control the number of wave points\n",
    "start_case = jdi.inputs()\n",
    "#phase angle \n",
    "start_case.phase_angle(0) #radians\n",
    "\n",
    "#define gravity\n",
    "start_case.gravity(radius=1, radius_unit=jdi.u.Unit('R_jup'),\n",
    "                   mass=1, mass_unit=jdi.u.Unit('M_jup'),\n",
    "                  ) #any astropy units available\n",
    "start_case.inputs['surface_reflect'] = 0 \n",
    "start_case.inputs['hard_surface'] = 0 \n",
    "#define star \n",
    "start_case.star(opacity, 5000,0,4.0, radius=1, radius_unit=jdi.u.Unit('R_sun')) #opacity db, pysynphot database, temp, metallicity, logg \n",
    "start_case.atmosphere(filename=jdi.jupiter_pt(), delim_whitespace=True)\n",
    "reflected_input, thermal_input, transmission_input = jdi.gpu_test(start_case, opacity)"
   ]
  },
  {
   "cell_type": "markdown",
   "id": "8c610d9f-1347-4fc7-88dc-51f766438c82",
   "metadata": {},
   "source": [
    "## Compare jit/nopython against cupy"
   ]
  },
  {
   "cell_type": "code",
   "execution_count": 34,
   "id": "c3655cb2-7eb7-4147-badb-687f3abc7fe0",
   "metadata": {},
   "outputs": [
    {
     "data": {
      "text/plain": [
       "array([0.01058588, 0.01058619, 0.01058676, ..., 0.01057601, 0.01057601,\n",
       "       0.01057601])"
      ]
     },
     "execution_count": 34,
     "metadata": {},
     "output_type": "execute_result"
    }
   ],
   "source": [
    "#@jit(nopython=True, cache=True)\n",
    "def get_transit_1d_cupy(z, dz,nlevel, nwno, rstar, mmw, k_b,amu,\n",
    "                    player, tlayer, colden, DTAU):\n",
    "    z = cp.asarray(z)\n",
    "    dz = cp.asarray(dz)\n",
    "    mmw = cp.asarray(mmw)\n",
    "    player = cp.asarray(player)\n",
    "    tlayer = cp.asarray(tlayer)\n",
    "    colden= cp.asarray(colden)\n",
    "    DTAU= cp.asarray(DTAU)\n",
    "    \n",
    "    mmw = mmw * amu #make sure mmw in grams\n",
    "\n",
    "    delta_length=cp.zeros((nlevel,nlevel))\n",
    "    for i in range(nlevel):\n",
    "        for j in range(i):\n",
    "            reference_shell = z[i]\n",
    "            inner_shell = z[i-j]\n",
    "            outer_shell = z[i-j-1]\n",
    "            #this is the path length between two layers \n",
    "            #essentially tangent from the inner_shell and toward \n",
    "            #line of sight to the outer shell\n",
    "            integrate_segment=(cp.power(cp.power(outer_shell,2)-cp.power(reference_shell,2), 0.5)-\n",
    "                    cp.power(cp.power(inner_shell,2)-cp.power(reference_shell,2), 0.5))\n",
    "            #make sure to use the pressure and temperature  \n",
    "            #between inner and outer shell\n",
    "            #this is the same index as outer shell because ind = 0 is the outer-\n",
    "            #most layer \n",
    "            delta_length[i,j]=integrate_segment*player[i-j-1]/tlayer[i-j-1]/k_b\n",
    "    #remove column density and mmw from DTAU which was calculated in \n",
    "    #optics because line of site integration is diff for transit\n",
    "    #TAU = array([DTAU[:,i]  / colden * mmw  for i in range(nwno)])\n",
    "    TAU = cp.zeros((nwno, nlevel-1))\n",
    "    for i in range(nwno):\n",
    "        TAU[i,:] = DTAU[:,i]  / colden * mmw \n",
    "    transmitted=cp.zeros((nwno, nlevel))+1.0\n",
    "    for i in range(nlevel):\n",
    "        TAUALL=cp.zeros(nwno)#0.\n",
    "        for j in range(i):\n",
    "            #two because symmetry of sphere\n",
    "            TAUALL = TAUALL + 2*TAU[:,i-j-1]*delta_length[i,j]\n",
    "        transmitted[:,i]=cp.exp(-TAUALL)\n",
    "\n",
    "    F=(((min(z))/(rstar))**2 + \n",
    "        2./(rstar)**2.*cp.dot((1.-transmitted),z*dz))\n",
    "\n",
    "    return F"
   ]
  },
  {
   "cell_type": "code",
   "execution_count": 35,
   "id": "a284941f-e4a9-44d9-a204-68418dd4480f",
   "metadata": {},
   "outputs": [
    {
     "name": "stdout",
     "output_type": "stream",
     "text": [
      "1.87 s ± 4.09 ms per loop (mean ± std. dev. of 7 runs, 1 loop each)\n",
      "5.17 s ± 19.9 ms per loop (mean ± std. dev. of 7 runs, 1 loop each)\n"
     ]
    }
   ],
   "source": [
    "%timeit jdi.get_transit_1d(*transmission_input)\n",
    "%timeit get_transit_1d_cupy(*transmission_input)"
   ]
  },
  {
   "cell_type": "markdown",
   "id": "9788dc54-3e11-4cc0-9ad7-901685b6f6fc",
   "metadata": {},
   "source": [
    "## guvectorize, vectorize, jit examples"
   ]
  },
  {
   "cell_type": "code",
   "execution_count": 38,
   "id": "758d1076-c771-4874-843a-1d7566efae99",
   "metadata": {},
   "outputs": [],
   "source": [
    "@guvectorize([(float64[:], float64[:], float64[:])], '(n),(n)->(n)',target='cuda')#, nopython=True,target='parallel')\n",
    "def g_vc(x, y, res):\n",
    "    for i in range(x.shape[0]):\n",
    "        res[i] = x[i] + y[i]\n",
    "\n",
    "@jit(nopython=True)\n",
    "def g_c(x, y):\n",
    "    res = np.zeros(x.shape[0])\n",
    "    for i in range(x.shape[0]):\n",
    "        res[i] = x[i] + y[i]\n",
    "    return res\n",
    "\n",
    "@guvectorize(['void(float64[:], float64[:], float64[:])'],'(n),(n)->(n)')\n",
    "def g_v(x, y, res):\n",
    "    res[:] = x + y"
   ]
  },
  {
   "cell_type": "code",
   "execution_count": 39,
   "id": "3719fb8c-4093-457b-8b40-aa1c47e2d205",
   "metadata": {},
   "outputs": [],
   "source": [
    "t = np.random.randn(1000000)"
   ]
  },
  {
   "cell_type": "code",
   "execution_count": 41,
   "id": "bae17f1d-8ff0-424e-80ab-7233a053873b",
   "metadata": {},
   "outputs": [
    {
     "name": "stderr",
     "output_type": "stream",
     "text": [
      "/home4/nbatalh1/.conda/envs/picaso38/lib/python3.8/site-packages/numba-0.56.2-py3.8-linux-x86_64.egg/numba/cuda/dispatcher.py:488: NumbaPerformanceWarning: Grid size 1 will likely result in GPU under-utilization due to low occupancy.\n",
      "  warn(NumbaPerformanceWarning(msg))\n"
     ]
    },
    {
     "name": "stdout",
     "output_type": "stream",
     "text": [
      "128 ms ± 49.4 µs per loop (mean ± std. dev. of 7 runs, 10 loops each)\n",
      "1.17 ms ± 309 ns per loop (mean ± std. dev. of 7 runs, 1,000 loops each)\n",
      "1.6 ms ± 3.42 µs per loop (mean ± std. dev. of 7 runs, 1,000 loops each)\n"
     ]
    }
   ],
   "source": [
    "%timeit u1 = g_vc(t,t)\n",
    "%timeit u2 =  g_c(t,t)\n",
    "%timeit u3 = g_v(t,t)\n",
    "u1 = g_vc(t,t)\n",
    "u2 =  g_c(t,t)\n",
    "u3 = g_v(t,t)"
   ]
  },
  {
   "cell_type": "markdown",
   "id": "962519b3-5f5f-489b-b547-be55280c8c70",
   "metadata": {},
   "source": [
    "## Transform get_transit_1d using vectorize/guvectorize"
   ]
  },
  {
   "cell_type": "code",
   "execution_count": null,
   "id": "665dfc81-51e4-4575-b2f3-704f9f5ef49e",
   "metadata": {},
   "outputs": [],
   "source": []
  }
 ],
 "metadata": {
  "kernelspec": {
   "display_name": "Python 3 (ipykernel)",
   "language": "python",
   "name": "python3"
  },
  "language_info": {
   "codemirror_mode": {
    "name": "ipython",
    "version": 3
   },
   "file_extension": ".py",
   "mimetype": "text/x-python",
   "name": "python",
   "nbconvert_exporter": "python",
   "pygments_lexer": "ipython3",
   "version": "3.8.13"
  }
 },
 "nbformat": 4,
 "nbformat_minor": 5
}
