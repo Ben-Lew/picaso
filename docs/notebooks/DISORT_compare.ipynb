{
 "cells": [
  {
   "cell_type": "code",
   "execution_count": 1,
   "metadata": {},
   "outputs": [
    {
     "data": {
      "text/html": [
       "\n",
       "    <div class=\"bk-root\">\n",
       "        <a href=\"https://bokeh.org\" target=\"_blank\" class=\"bk-logo bk-logo-small bk-logo-notebook\"></a>\n",
       "        <span id=\"1001\">Loading BokehJS ...</span>\n",
       "    </div>"
      ]
     },
     "metadata": {},
     "output_type": "display_data"
    },
    {
     "data": {
      "application/javascript": [
       "\n",
       "(function(root) {\n",
       "  function now() {\n",
       "    return new Date();\n",
       "  }\n",
       "\n",
       "  var force = true;\n",
       "\n",
       "  if (typeof root._bokeh_onload_callbacks === \"undefined\" || force === true) {\n",
       "    root._bokeh_onload_callbacks = [];\n",
       "    root._bokeh_is_loading = undefined;\n",
       "  }\n",
       "\n",
       "  var JS_MIME_TYPE = 'application/javascript';\n",
       "  var HTML_MIME_TYPE = 'text/html';\n",
       "  var EXEC_MIME_TYPE = 'application/vnd.bokehjs_exec.v0+json';\n",
       "  var CLASS_NAME = 'output_bokeh rendered_html';\n",
       "\n",
       "  /**\n",
       "   * Render data to the DOM node\n",
       "   */\n",
       "  function render(props, node) {\n",
       "    var script = document.createElement(\"script\");\n",
       "    node.appendChild(script);\n",
       "  }\n",
       "\n",
       "  /**\n",
       "   * Handle when an output is cleared or removed\n",
       "   */\n",
       "  function handleClearOutput(event, handle) {\n",
       "    var cell = handle.cell;\n",
       "\n",
       "    var id = cell.output_area._bokeh_element_id;\n",
       "    var server_id = cell.output_area._bokeh_server_id;\n",
       "    // Clean up Bokeh references\n",
       "    if (id != null && id in Bokeh.index) {\n",
       "      Bokeh.index[id].model.document.clear();\n",
       "      delete Bokeh.index[id];\n",
       "    }\n",
       "\n",
       "    if (server_id !== undefined) {\n",
       "      // Clean up Bokeh references\n",
       "      var cmd = \"from bokeh.io.state import curstate; print(curstate().uuid_to_server['\" + server_id + \"'].get_sessions()[0].document.roots[0]._id)\";\n",
       "      cell.notebook.kernel.execute(cmd, {\n",
       "        iopub: {\n",
       "          output: function(msg) {\n",
       "            var id = msg.content.text.trim();\n",
       "            if (id in Bokeh.index) {\n",
       "              Bokeh.index[id].model.document.clear();\n",
       "              delete Bokeh.index[id];\n",
       "            }\n",
       "          }\n",
       "        }\n",
       "      });\n",
       "      // Destroy server and session\n",
       "      var cmd = \"import bokeh.io.notebook as ion; ion.destroy_server('\" + server_id + \"')\";\n",
       "      cell.notebook.kernel.execute(cmd);\n",
       "    }\n",
       "  }\n",
       "\n",
       "  /**\n",
       "   * Handle when a new output is added\n",
       "   */\n",
       "  function handleAddOutput(event, handle) {\n",
       "    var output_area = handle.output_area;\n",
       "    var output = handle.output;\n",
       "\n",
       "    // limit handleAddOutput to display_data with EXEC_MIME_TYPE content only\n",
       "    if ((output.output_type != \"display_data\") || (!output.data.hasOwnProperty(EXEC_MIME_TYPE))) {\n",
       "      return\n",
       "    }\n",
       "\n",
       "    var toinsert = output_area.element.find(\".\" + CLASS_NAME.split(' ')[0]);\n",
       "\n",
       "    if (output.metadata[EXEC_MIME_TYPE][\"id\"] !== undefined) {\n",
       "      toinsert[toinsert.length - 1].firstChild.textContent = output.data[JS_MIME_TYPE];\n",
       "      // store reference to embed id on output_area\n",
       "      output_area._bokeh_element_id = output.metadata[EXEC_MIME_TYPE][\"id\"];\n",
       "    }\n",
       "    if (output.metadata[EXEC_MIME_TYPE][\"server_id\"] !== undefined) {\n",
       "      var bk_div = document.createElement(\"div\");\n",
       "      bk_div.innerHTML = output.data[HTML_MIME_TYPE];\n",
       "      var script_attrs = bk_div.children[0].attributes;\n",
       "      for (var i = 0; i < script_attrs.length; i++) {\n",
       "        toinsert[toinsert.length - 1].firstChild.setAttribute(script_attrs[i].name, script_attrs[i].value);\n",
       "        toinsert[toinsert.length - 1].firstChild.textContent = bk_div.children[0].textContent\n",
       "      }\n",
       "      // store reference to server id on output_area\n",
       "      output_area._bokeh_server_id = output.metadata[EXEC_MIME_TYPE][\"server_id\"];\n",
       "    }\n",
       "  }\n",
       "\n",
       "  function register_renderer(events, OutputArea) {\n",
       "\n",
       "    function append_mime(data, metadata, element) {\n",
       "      // create a DOM node to render to\n",
       "      var toinsert = this.create_output_subarea(\n",
       "        metadata,\n",
       "        CLASS_NAME,\n",
       "        EXEC_MIME_TYPE\n",
       "      );\n",
       "      this.keyboard_manager.register_events(toinsert);\n",
       "      // Render to node\n",
       "      var props = {data: data, metadata: metadata[EXEC_MIME_TYPE]};\n",
       "      render(props, toinsert[toinsert.length - 1]);\n",
       "      element.append(toinsert);\n",
       "      return toinsert\n",
       "    }\n",
       "\n",
       "    /* Handle when an output is cleared or removed */\n",
       "    events.on('clear_output.CodeCell', handleClearOutput);\n",
       "    events.on('delete.Cell', handleClearOutput);\n",
       "\n",
       "    /* Handle when a new output is added */\n",
       "    events.on('output_added.OutputArea', handleAddOutput);\n",
       "\n",
       "    /**\n",
       "     * Register the mime type and append_mime function with output_area\n",
       "     */\n",
       "    OutputArea.prototype.register_mime_type(EXEC_MIME_TYPE, append_mime, {\n",
       "      /* Is output safe? */\n",
       "      safe: true,\n",
       "      /* Index of renderer in `output_area.display_order` */\n",
       "      index: 0\n",
       "    });\n",
       "  }\n",
       "\n",
       "  // register the mime type if in Jupyter Notebook environment and previously unregistered\n",
       "  if (root.Jupyter !== undefined) {\n",
       "    var events = require('base/js/events');\n",
       "    var OutputArea = require('notebook/js/outputarea').OutputArea;\n",
       "\n",
       "    if (OutputArea.prototype.mime_types().indexOf(EXEC_MIME_TYPE) == -1) {\n",
       "      register_renderer(events, OutputArea);\n",
       "    }\n",
       "  }\n",
       "\n",
       "  \n",
       "  if (typeof (root._bokeh_timeout) === \"undefined\" || force === true) {\n",
       "    root._bokeh_timeout = Date.now() + 5000;\n",
       "    root._bokeh_failed_load = false;\n",
       "  }\n",
       "\n",
       "  var NB_LOAD_WARNING = {'data': {'text/html':\n",
       "     \"<div style='background-color: #fdd'>\\n\"+\n",
       "     \"<p>\\n\"+\n",
       "     \"BokehJS does not appear to have successfully loaded. If loading BokehJS from CDN, this \\n\"+\n",
       "     \"may be due to a slow or bad network connection. Possible fixes:\\n\"+\n",
       "     \"</p>\\n\"+\n",
       "     \"<ul>\\n\"+\n",
       "     \"<li>re-rerun `output_notebook()` to attempt to load from CDN again, or</li>\\n\"+\n",
       "     \"<li>use INLINE resources instead, as so:</li>\\n\"+\n",
       "     \"</ul>\\n\"+\n",
       "     \"<code>\\n\"+\n",
       "     \"from bokeh.resources import INLINE\\n\"+\n",
       "     \"output_notebook(resources=INLINE)\\n\"+\n",
       "     \"</code>\\n\"+\n",
       "     \"</div>\"}};\n",
       "\n",
       "  function display_loaded() {\n",
       "    var el = document.getElementById(\"1001\");\n",
       "    if (el != null) {\n",
       "      el.textContent = \"BokehJS is loading...\";\n",
       "    }\n",
       "    if (root.Bokeh !== undefined) {\n",
       "      if (el != null) {\n",
       "        el.textContent = \"BokehJS \" + root.Bokeh.version + \" successfully loaded.\";\n",
       "      }\n",
       "    } else if (Date.now() < root._bokeh_timeout) {\n",
       "      setTimeout(display_loaded, 100)\n",
       "    }\n",
       "  }\n",
       "\n",
       "\n",
       "  function run_callbacks() {\n",
       "    try {\n",
       "      root._bokeh_onload_callbacks.forEach(function(callback) {\n",
       "        if (callback != null)\n",
       "          callback();\n",
       "      });\n",
       "    } finally {\n",
       "      delete root._bokeh_onload_callbacks\n",
       "    }\n",
       "    console.debug(\"Bokeh: all callbacks have finished\");\n",
       "  }\n",
       "\n",
       "  function load_libs(css_urls, js_urls, callback) {\n",
       "    if (css_urls == null) css_urls = [];\n",
       "    if (js_urls == null) js_urls = [];\n",
       "\n",
       "    root._bokeh_onload_callbacks.push(callback);\n",
       "    if (root._bokeh_is_loading > 0) {\n",
       "      console.debug(\"Bokeh: BokehJS is being loaded, scheduling callback at\", now());\n",
       "      return null;\n",
       "    }\n",
       "    if (js_urls == null || js_urls.length === 0) {\n",
       "      run_callbacks();\n",
       "      return null;\n",
       "    }\n",
       "    console.debug(\"Bokeh: BokehJS not loaded, scheduling load and callback at\", now());\n",
       "    root._bokeh_is_loading = css_urls.length + js_urls.length;\n",
       "\n",
       "    function on_load() {\n",
       "      root._bokeh_is_loading--;\n",
       "      if (root._bokeh_is_loading === 0) {\n",
       "        console.debug(\"Bokeh: all BokehJS libraries/stylesheets loaded\");\n",
       "        run_callbacks()\n",
       "      }\n",
       "    }\n",
       "\n",
       "    function on_error() {\n",
       "      console.error(\"failed to load \" + url);\n",
       "    }\n",
       "\n",
       "    for (var i = 0; i < css_urls.length; i++) {\n",
       "      var url = css_urls[i];\n",
       "      const element = document.createElement(\"link\");\n",
       "      element.onload = on_load;\n",
       "      element.onerror = on_error;\n",
       "      element.rel = \"stylesheet\";\n",
       "      element.type = \"text/css\";\n",
       "      element.href = url;\n",
       "      console.debug(\"Bokeh: injecting link tag for BokehJS stylesheet: \", url);\n",
       "      document.body.appendChild(element);\n",
       "    }\n",
       "\n",
       "    const hashes = {\"https://cdn.bokeh.org/bokeh/release/bokeh-2.2.3.min.js\": \"T2yuo9Oe71Cz/I4X9Ac5+gpEa5a8PpJCDlqKYO0CfAuEszu1JrXLl8YugMqYe3sM\", \"https://cdn.bokeh.org/bokeh/release/bokeh-widgets-2.2.3.min.js\": \"98GDGJ0kOMCUMUePhksaQ/GYgB3+NH9h996V88sh3aOiUNX3N+fLXAtry6xctSZ6\", \"https://cdn.bokeh.org/bokeh/release/bokeh-tables-2.2.3.min.js\": \"89bArO+nlbP3sgakeHjCo1JYxYR5wufVgA3IbUvDY+K7w4zyxJqssu7wVnfeKCq8\"};\n",
       "\n",
       "    for (var i = 0; i < js_urls.length; i++) {\n",
       "      var url = js_urls[i];\n",
       "      var element = document.createElement('script');\n",
       "      element.onload = on_load;\n",
       "      element.onerror = on_error;\n",
       "      element.async = false;\n",
       "      element.src = url;\n",
       "      if (url in hashes) {\n",
       "        element.crossOrigin = \"anonymous\";\n",
       "        element.integrity = \"sha384-\" + hashes[url];\n",
       "      }\n",
       "      console.debug(\"Bokeh: injecting script tag for BokehJS library: \", url);\n",
       "      document.head.appendChild(element);\n",
       "    }\n",
       "  };\n",
       "\n",
       "  function inject_raw_css(css) {\n",
       "    const element = document.createElement(\"style\");\n",
       "    element.appendChild(document.createTextNode(css));\n",
       "    document.body.appendChild(element);\n",
       "  }\n",
       "\n",
       "  \n",
       "  var js_urls = [\"https://cdn.bokeh.org/bokeh/release/bokeh-2.2.3.min.js\", \"https://cdn.bokeh.org/bokeh/release/bokeh-widgets-2.2.3.min.js\", \"https://cdn.bokeh.org/bokeh/release/bokeh-tables-2.2.3.min.js\"];\n",
       "  var css_urls = [];\n",
       "  \n",
       "\n",
       "  var inline_js = [\n",
       "    function(Bokeh) {\n",
       "      Bokeh.set_log_level(\"info\");\n",
       "    },\n",
       "    function(Bokeh) {\n",
       "    \n",
       "    \n",
       "    }\n",
       "  ];\n",
       "\n",
       "  function run_inline_js() {\n",
       "    \n",
       "    if (root.Bokeh !== undefined || force === true) {\n",
       "      \n",
       "    for (var i = 0; i < inline_js.length; i++) {\n",
       "      inline_js[i].call(root, root.Bokeh);\n",
       "    }\n",
       "    if (force === true) {\n",
       "        display_loaded();\n",
       "      }} else if (Date.now() < root._bokeh_timeout) {\n",
       "      setTimeout(run_inline_js, 100);\n",
       "    } else if (!root._bokeh_failed_load) {\n",
       "      console.log(\"Bokeh: BokehJS failed to load within specified timeout.\");\n",
       "      root._bokeh_failed_load = true;\n",
       "    } else if (force !== true) {\n",
       "      var cell = $(document.getElementById(\"1001\")).parents('.cell').data().cell;\n",
       "      cell.output_area.append_execute_result(NB_LOAD_WARNING)\n",
       "    }\n",
       "\n",
       "  }\n",
       "\n",
       "  if (root._bokeh_is_loading === 0) {\n",
       "    console.debug(\"Bokeh: BokehJS loaded, going straight to plotting\");\n",
       "    run_inline_js();\n",
       "  } else {\n",
       "    load_libs(css_urls, js_urls, function() {\n",
       "      console.debug(\"Bokeh: BokehJS plotting callback run at\", now());\n",
       "      run_inline_js();\n",
       "    });\n",
       "  }\n",
       "}(window));"
      ],
      "application/vnd.bokehjs_load.v0+json": "\n(function(root) {\n  function now() {\n    return new Date();\n  }\n\n  var force = true;\n\n  if (typeof root._bokeh_onload_callbacks === \"undefined\" || force === true) {\n    root._bokeh_onload_callbacks = [];\n    root._bokeh_is_loading = undefined;\n  }\n\n  \n\n  \n  if (typeof (root._bokeh_timeout) === \"undefined\" || force === true) {\n    root._bokeh_timeout = Date.now() + 5000;\n    root._bokeh_failed_load = false;\n  }\n\n  var NB_LOAD_WARNING = {'data': {'text/html':\n     \"<div style='background-color: #fdd'>\\n\"+\n     \"<p>\\n\"+\n     \"BokehJS does not appear to have successfully loaded. If loading BokehJS from CDN, this \\n\"+\n     \"may be due to a slow or bad network connection. Possible fixes:\\n\"+\n     \"</p>\\n\"+\n     \"<ul>\\n\"+\n     \"<li>re-rerun `output_notebook()` to attempt to load from CDN again, or</li>\\n\"+\n     \"<li>use INLINE resources instead, as so:</li>\\n\"+\n     \"</ul>\\n\"+\n     \"<code>\\n\"+\n     \"from bokeh.resources import INLINE\\n\"+\n     \"output_notebook(resources=INLINE)\\n\"+\n     \"</code>\\n\"+\n     \"</div>\"}};\n\n  function display_loaded() {\n    var el = document.getElementById(\"1001\");\n    if (el != null) {\n      el.textContent = \"BokehJS is loading...\";\n    }\n    if (root.Bokeh !== undefined) {\n      if (el != null) {\n        el.textContent = \"BokehJS \" + root.Bokeh.version + \" successfully loaded.\";\n      }\n    } else if (Date.now() < root._bokeh_timeout) {\n      setTimeout(display_loaded, 100)\n    }\n  }\n\n\n  function run_callbacks() {\n    try {\n      root._bokeh_onload_callbacks.forEach(function(callback) {\n        if (callback != null)\n          callback();\n      });\n    } finally {\n      delete root._bokeh_onload_callbacks\n    }\n    console.debug(\"Bokeh: all callbacks have finished\");\n  }\n\n  function load_libs(css_urls, js_urls, callback) {\n    if (css_urls == null) css_urls = [];\n    if (js_urls == null) js_urls = [];\n\n    root._bokeh_onload_callbacks.push(callback);\n    if (root._bokeh_is_loading > 0) {\n      console.debug(\"Bokeh: BokehJS is being loaded, scheduling callback at\", now());\n      return null;\n    }\n    if (js_urls == null || js_urls.length === 0) {\n      run_callbacks();\n      return null;\n    }\n    console.debug(\"Bokeh: BokehJS not loaded, scheduling load and callback at\", now());\n    root._bokeh_is_loading = css_urls.length + js_urls.length;\n\n    function on_load() {\n      root._bokeh_is_loading--;\n      if (root._bokeh_is_loading === 0) {\n        console.debug(\"Bokeh: all BokehJS libraries/stylesheets loaded\");\n        run_callbacks()\n      }\n    }\n\n    function on_error() {\n      console.error(\"failed to load \" + url);\n    }\n\n    for (var i = 0; i < css_urls.length; i++) {\n      var url = css_urls[i];\n      const element = document.createElement(\"link\");\n      element.onload = on_load;\n      element.onerror = on_error;\n      element.rel = \"stylesheet\";\n      element.type = \"text/css\";\n      element.href = url;\n      console.debug(\"Bokeh: injecting link tag for BokehJS stylesheet: \", url);\n      document.body.appendChild(element);\n    }\n\n    const hashes = {\"https://cdn.bokeh.org/bokeh/release/bokeh-2.2.3.min.js\": \"T2yuo9Oe71Cz/I4X9Ac5+gpEa5a8PpJCDlqKYO0CfAuEszu1JrXLl8YugMqYe3sM\", \"https://cdn.bokeh.org/bokeh/release/bokeh-widgets-2.2.3.min.js\": \"98GDGJ0kOMCUMUePhksaQ/GYgB3+NH9h996V88sh3aOiUNX3N+fLXAtry6xctSZ6\", \"https://cdn.bokeh.org/bokeh/release/bokeh-tables-2.2.3.min.js\": \"89bArO+nlbP3sgakeHjCo1JYxYR5wufVgA3IbUvDY+K7w4zyxJqssu7wVnfeKCq8\"};\n\n    for (var i = 0; i < js_urls.length; i++) {\n      var url = js_urls[i];\n      var element = document.createElement('script');\n      element.onload = on_load;\n      element.onerror = on_error;\n      element.async = false;\n      element.src = url;\n      if (url in hashes) {\n        element.crossOrigin = \"anonymous\";\n        element.integrity = \"sha384-\" + hashes[url];\n      }\n      console.debug(\"Bokeh: injecting script tag for BokehJS library: \", url);\n      document.head.appendChild(element);\n    }\n  };\n\n  function inject_raw_css(css) {\n    const element = document.createElement(\"style\");\n    element.appendChild(document.createTextNode(css));\n    document.body.appendChild(element);\n  }\n\n  \n  var js_urls = [\"https://cdn.bokeh.org/bokeh/release/bokeh-2.2.3.min.js\", \"https://cdn.bokeh.org/bokeh/release/bokeh-widgets-2.2.3.min.js\", \"https://cdn.bokeh.org/bokeh/release/bokeh-tables-2.2.3.min.js\"];\n  var css_urls = [];\n  \n\n  var inline_js = [\n    function(Bokeh) {\n      Bokeh.set_log_level(\"info\");\n    },\n    function(Bokeh) {\n    \n    \n    }\n  ];\n\n  function run_inline_js() {\n    \n    if (root.Bokeh !== undefined || force === true) {\n      \n    for (var i = 0; i < inline_js.length; i++) {\n      inline_js[i].call(root, root.Bokeh);\n    }\n    if (force === true) {\n        display_loaded();\n      }} else if (Date.now() < root._bokeh_timeout) {\n      setTimeout(run_inline_js, 100);\n    } else if (!root._bokeh_failed_load) {\n      console.log(\"Bokeh: BokehJS failed to load within specified timeout.\");\n      root._bokeh_failed_load = true;\n    } else if (force !== true) {\n      var cell = $(document.getElementById(\"1001\")).parents('.cell').data().cell;\n      cell.output_area.append_execute_result(NB_LOAD_WARNING)\n    }\n\n  }\n\n  if (root._bokeh_is_loading === 0) {\n    console.debug(\"Bokeh: BokehJS loaded, going straight to plotting\");\n    run_inline_js();\n  } else {\n    load_libs(css_urls, js_urls, function() {\n      console.debug(\"Bokeh: BokehJS plotting callback run at\", now());\n      run_inline_js();\n    });\n  }\n}(window));"
     },
     "metadata": {},
     "output_type": "display_data"
    },
    {
     "name": "stderr",
     "output_type": "stream",
     "text": [
      "/Users/crooney/anaconda3/envs/conda_venv/lib/python3.8/site-packages/pysynphot-1.0.0-py3.8-macosx-10.9-x86_64.egg/pysynphot/locations.py:345: UserWarning: Extinction files not found in /Users/crooney/Documents/codes/all-data/stellar/grp/hst/cdbs/extinction\n",
      "  warnings.warn('Extinction files not found in %s' % (extdir, ))\n",
      "/Users/crooney/anaconda3/envs/conda_venv/lib/python3.8/site-packages/pysynphot-1.0.0-py3.8-macosx-10.9-x86_64.egg/pysynphot/refs.py:117: UserWarning: No graph or component tables found; functionality will be SEVERELY crippled. No files found for /Users/crooney/Documents/codes/all-data/stellar/grp/hst/cdbs/mtab/*_tmg.fits\n",
      "  warnings.warn('No graph or component tables found; '\n",
      "/Users/crooney/anaconda3/envs/conda_venv/lib/python3.8/site-packages/pysynphot-1.0.0-py3.8-macosx-10.9-x86_64.egg/pysynphot/refs.py:124: UserWarning: No thermal tables found, no thermal calculations can be performed. No files found for /Users/crooney/Documents/codes/all-data/stellar/grp/hst/cdbs/mtab/*_tmt.fits\n",
      "  warnings.warn('No thermal tables found, '\n"
     ]
    }
   ],
   "source": [
    "from math import pi\n",
    "\n",
    "import pandas as pd\n",
    "\n",
    "from bokeh.io import show\n",
    "from bokeh.models import BasicTicker, ColorBar, LinearColorMapper, PrintfTickFormatter\n",
    "from bokeh.plotting import figure\n",
    "from bokeh.sampledata.unemployment1948 import data\n",
    "from bokeh.palettes import viridis\n",
    "from bokeh.io import output_notebook\n",
    "output_notebook()\n",
    "import picaso.justplotit as jpi\n",
    "\n",
    "import picaso.picaso_data as ptest\n",
    "import picaso.disort_disco as dtest\n",
    "\n",
    "import numpy as np"
   ]
  },
  {
   "cell_type": "code",
   "execution_count": 3,
   "metadata": {},
   "outputs": [
    {
     "name": "stdout",
     "output_type": "stream",
     "text": [
      "YOU ARE REQUESTING RESAMPLING!!\n",
      "RUN DISORT CODE NOW\n",
      "YOU ARE REQUESTING RESAMPLING!!\n",
      "RUN DISORT CODE NOW\n",
      "YOU ARE REQUESTING RESAMPLING!!\n",
      "RUN DISORT CODE NOW\n"
     ]
    }
   ],
   "source": [
    "DE = True\n",
    "\n",
    "# Toon quadrature\n",
    "Toon_quad = ptest.picaso_albedos(output_dir='Toon_quad.csv', delta_eddington=True, disort_data=True)\n",
    "# Toon eddington\n",
    "# Toon_edd = ptest.picaso_albedos(output_dir= 'Toon_eddd.csv',Toon_coefficients =\"eddington\", delta_eddington=DE)\n",
    "# SH 2-stream\n",
    "SH2 = ptest.picaso_albedos(output_dir='SH2.csv',method=\"SH\", delta_eddington=DE, rayleigh=False, disort_data=True)\n",
    "# SH 4-stream\n",
    "SH4 = ptest.picaso_albedos(output_dir='SH4.csv',method='SH', stream=4, delta_eddington=True, rayleigh=False, disort_data=True)"
   ]
  },
  {
   "cell_type": "code",
   "execution_count": null,
   "metadata": {},
   "outputs": [],
   "source": [
    "disort = dtest.disort_albedos(output_dir='disort.csv')"
   ]
  },
  {
   "cell_type": "code",
   "execution_count": 4,
   "metadata": {},
   "outputs": [],
   "source": [
    "# read in data from picaso function\n",
    "data_old = pd.read_csv('DLUGACH_TEST.csv',index_col=0)\n",
    "data_disort = pd.read_csv('disort.csv',index_col=0)\n",
    "data_SH2 = pd.read_csv('SH2.csv',index_col=0)\n",
    "data_SH4 = pd.read_csv('SH4.csv',index_col=0)\n",
    "data_quad = pd.read_csv('Toon_quad.csv',index_col=0)\n",
    "data_edd = pd.read_csv('Toon_eddd.csv',index_col=0)\n",
    "\n",
    "#If you want to compare two different files for the heatmap just do this\n",
    "data_compare = data_old\n",
    "compare_quad = (data_compare-data_quad)/data_compare*100   \n",
    "compare_edd = (data_compare-data_edd)/data_compare*100   \n",
    "compare_SH2 = (data_compare-data_SH2)/data_compare*100 \n",
    "compare_SH4 = (data_compare-data_SH4)/data_compare*100  \n",
    "compare_SH = (data_SH2-data_SH4)/data_SH2*100    \n",
    "\n",
    "quad_SH4 = (data_quad-data_SH4)/data_quad*100 \n",
    "quad_SH2 = (data_quad-data_SH2)/data_quad*100 \n",
    "edd_SH2 = (data_edd-data_SH2)/data_edd*100 \n",
    "\n",
    "disort_dlugach = (data_old-data_disort)/data_old*100 "
   ]
  },
  {
   "cell_type": "code",
   "execution_count": null,
   "metadata": {},
   "outputs": [],
   "source": [
    "show(jpi.create_heat_map(disort_dlugach, rayleigh=True))"
   ]
  },
  {
   "cell_type": "code",
   "execution_count": 5,
   "metadata": {},
   "outputs": [
    {
     "data": {
      "text/html": [
       "\n",
       "\n",
       "\n",
       "\n",
       "\n",
       "\n",
       "  <div class=\"bk-root\" id=\"f009cca0-b1b7-48ab-9a9e-8ae93eb08491\" data-root-id=\"1003\"></div>\n"
      ]
     },
     "metadata": {},
     "output_type": "display_data"
    },
    {
     "data": {
      "application/javascript": [
       "(function(root) {\n",
       "  function embed_document(root) {\n",
       "    \n",
       "  var docs_json = {\"428593c6-8eb3-417f-99de-71f4fc63a1f2\":{\"roots\":{\"references\":[{\"attributes\":{\"above\":[{\"id\":\"1012\"}],\"center\":[{\"id\":\"1014\"},{\"id\":\"1017\"}],\"left\":[{\"id\":\"1015\"}],\"plot_height\":300,\"plot_width\":300,\"renderers\":[{\"id\":\"1036\"}],\"right\":[{\"id\":\"1039\"}],\"title\":{\"id\":\"1042\"},\"toolbar\":{\"id\":\"1025\"},\"toolbar_location\":\"below\",\"x_range\":{\"id\":\"1004\"},\"x_scale\":{\"id\":\"1008\"},\"y_range\":{\"id\":\"1006\"},\"y_scale\":{\"id\":\"1010\"}},\"id\":\"1003\",\"subtype\":\"Figure\",\"type\":\"Plot\"},{\"attributes\":{},\"id\":\"1010\",\"type\":\"CategoricalScale\"},{\"attributes\":{},\"id\":\"1050\",\"type\":\"Selection\"},{\"attributes\":{\"axis_line_color\":null,\"formatter\":{\"id\":\"1044\"},\"major_label_standoff\":0,\"major_label_text_font_size\":\"12px\",\"major_tick_line_color\":null,\"ticker\":{\"id\":\"1016\"}},\"id\":\"1015\",\"type\":\"CategoricalAxis\"},{\"attributes\":{\"text\":\"\"},\"id\":\"1042\",\"type\":\"Title\"},{\"attributes\":{\"source\":{\"id\":\"1032\"}},\"id\":\"1037\",\"type\":\"CDSView\"},{\"attributes\":{\"high\":34.44462689364523,\"low\":-34.44462689364523,\"palette\":[\"#1a1a1a\",\"#4d4d4d\",\"#878787\",\"#bababa\",\"#e0e0e0\",\"#ffffff\",\"#fddbc7\",\"#f4a582\",\"#d6604d\",\"#b2182b\",\"#67001f\"]},\"id\":\"1002\",\"type\":\"LinearColorMapper\"},{\"attributes\":{\"axis_line_color\":null,\"formatter\":{\"id\":\"1047\"},\"major_label_orientation\":1.0471975511965976,\"major_label_standoff\":0,\"major_label_text_font_size\":\"12px\",\"major_tick_line_color\":null,\"ticker\":{\"id\":\"1013\"}},\"id\":\"1012\",\"type\":\"CategoricalAxis\"},{\"attributes\":{},\"id\":\"1047\",\"type\":\"CategoricalTickFormatter\"},{\"attributes\":{\"color_mapper\":{\"id\":\"1002\"},\"formatter\":{\"id\":\"1045\"},\"label_standoff\":6,\"location\":[0,0],\"major_label_text_font_size\":\"12px\",\"ticker\":{\"id\":\"1038\"}},\"id\":\"1039\",\"type\":\"ColorBar\"},{\"attributes\":{\"fill_alpha\":{\"value\":0.1},\"fill_color\":{\"field\":\"albedo\",\"transform\":{\"id\":\"1002\"}},\"height\":{\"units\":\"data\",\"value\":1},\"line_alpha\":{\"value\":0.1},\"line_color\":{\"value\":null},\"width\":{\"units\":\"data\",\"value\":1},\"x\":{\"field\":\"g0\"},\"y\":{\"field\":\"w0\"}},\"id\":\"1035\",\"type\":\"Rect\"},{\"attributes\":{},\"id\":\"1044\",\"type\":\"CategoricalTickFormatter\"},{\"attributes\":{\"data\":{\"albedo\":{\"__ndarray__\":\"zh/W5FI54L9FDDayPtrkv58bGgvrNOi/WCtHuj7j6L/d4B3XTdnnvx9IGh2UTuG/mMQDMpq2yr+w2FFePGbQP8vWUDwwsOA/W19FyeE54z+vxXFc4d3kP8d4h75JveU/Zrglhjny5T+dvkKLG28JwJsvQ/Xf5ArAfkI9UHjLDMBJqWsH/hsOwEQGjELp6g/AKgEirJnSEcCJ0qUPYisUwBK9ap+HuBfAsFafmMcIGsB2UWyDy7YawKRlOOETDxvAahEOAwcOG8AvvCvl9K8awAO3Czc48BTAZGr+c1VhFsAAJOk3yfIYwGloFP9lHhvAODI838aZHsBCXZ0+N3cjwFFbQE+EAynALUMHOwOAMMA4jKGy/MQywIxWF4a7TjPAJnZ5LQp4M8CYr/dyU0UzwA/XJ+qFuzLADqN0UY+jFsDxd0NUsk8YwMdyAXnUixvAhjsUKGBdHsCfDlSVq3whwFQdvOj4ESfA0hiV6JNzLsA6Bpi9l1E0wPlK8MV65jbA75a3m81bN8A5msm67lA3wM96qiDr0DbAHDK7y1nnNcBLihrpRG4YwGY2gNMyYhrA5yLs3PWeHsAKfjO7ITghwIRbuJ0SZiTAV5dpNX0nLMAdtSg7ZRgzwP+UdivOgDnAut7yoj0SPMDaAW/2US08wJXIwUZIoTvAKq9OOEGHOsDufwAulvc4wPigwqqLiBrAhTxH3BTPHMDRJ+S7p2chwDXSLBidOSTAh+AiJWAAKcAK7PZ5A0oywNV/yZjWYTnAdCUljd+EQMBtkLeI6ThBwGCqSi+WwUDAXiysHVrQP8D6fo+noo49wG1sMG136zrA\",\"dtype\":\"float64\",\"order\":\"little\",\"shape\":[78]},\"g0\":[\"0.0\",\"0.0\",\"0.0\",\"0.0\",\"0.0\",\"0.0\",\"0.0\",\"0.0\",\"0.0\",\"0.0\",\"0.0\",\"0.0\",\"0.0\",\"0.5\",\"0.5\",\"0.5\",\"0.5\",\"0.5\",\"0.5\",\"0.5\",\"0.5\",\"0.5\",\"0.5\",\"0.5\",\"0.5\",\"0.5\",\"0.75\",\"0.75\",\"0.75\",\"0.75\",\"0.75\",\"0.75\",\"0.75\",\"0.75\",\"0.75\",\"0.75\",\"0.75\",\"0.75\",\"0.75\",\"0.8\",\"0.8\",\"0.8\",\"0.8\",\"0.8\",\"0.8\",\"0.8\",\"0.8\",\"0.8\",\"0.8\",\"0.8\",\"0.8\",\"0.8\",\"0.85\",\"0.85\",\"0.85\",\"0.85\",\"0.85\",\"0.85\",\"0.85\",\"0.85\",\"0.85\",\"0.85\",\"0.85\",\"0.85\",\"0.85\",\"0.9\",\"0.9\",\"0.9\",\"0.9\",\"0.9\",\"0.9\",\"0.9\",\"0.9\",\"0.9\",\"0.9\",\"0.9\",\"0.9\",\"0.9\"],\"index\":[0,1,2,3,4,5,6,7,8,9,10,11,12,13,14,15,16,17,18,19,20,21,22,23,24,25,26,27,28,29,30,31,32,33,34,35,36,37,38,39,40,41,42,43,44,45,46,47,48,49,50,51,52,53,54,55,56,57,58,59,60,61,62,63,64,65,66,67,68,69,70,71,72,73,74,75,76,77],\"w0\":[\"1.000\",\"0.999\",\"0.995\",\"0.990\",\"0.980\",\"0.950\",\"0.900\",\"0.800\",\"0.700\",\"0.65\",\"0.60\",\"0.55\",\"0.50\",\"1.000\",\"0.999\",\"0.995\",\"0.990\",\"0.980\",\"0.950\",\"0.900\",\"0.800\",\"0.700\",\"0.65\",\"0.60\",\"0.55\",\"0.50\",\"1.000\",\"0.999\",\"0.995\",\"0.990\",\"0.980\",\"0.950\",\"0.900\",\"0.800\",\"0.700\",\"0.65\",\"0.60\",\"0.55\",\"0.50\",\"1.000\",\"0.999\",\"0.995\",\"0.990\",\"0.980\",\"0.950\",\"0.900\",\"0.800\",\"0.700\",\"0.65\",\"0.60\",\"0.55\",\"0.50\",\"1.000\",\"0.999\",\"0.995\",\"0.990\",\"0.980\",\"0.950\",\"0.900\",\"0.800\",\"0.700\",\"0.65\",\"0.60\",\"0.55\",\"0.50\",\"1.000\",\"0.999\",\"0.995\",\"0.990\",\"0.980\",\"0.950\",\"0.900\",\"0.800\",\"0.700\",\"0.65\",\"0.60\",\"0.55\",\"0.50\"]},\"selected\":{\"id\":\"1050\"},\"selection_policy\":{\"id\":\"1049\"}},\"id\":\"1032\",\"type\":\"ColumnDataSource\"},{\"attributes\":{\"callback\":null},\"id\":\"1018\",\"type\":\"HoverTool\"},{\"attributes\":{},\"id\":\"1008\",\"type\":\"CategoricalScale\"},{\"attributes\":{\"fill_color\":{\"field\":\"albedo\",\"transform\":{\"id\":\"1002\"}},\"height\":{\"units\":\"data\",\"value\":1},\"line_color\":{\"value\":null},\"width\":{\"units\":\"data\",\"value\":1},\"x\":{\"field\":\"g0\"},\"y\":{\"field\":\"w0\"}},\"id\":\"1034\",\"type\":\"Rect\"},{\"attributes\":{},\"id\":\"1020\",\"type\":\"PanTool\"},{\"attributes\":{\"desired_num_ticks\":11},\"id\":\"1038\",\"type\":\"BasicTicker\"},{\"attributes\":{\"factors\":[\"0.50\",\"0.55\",\"0.60\",\"0.65\",\"0.700\",\"0.800\",\"0.900\",\"0.950\",\"0.980\",\"0.990\",\"0.995\",\"0.999\",\"1.000\"]},\"id\":\"1006\",\"type\":\"FactorRange\"},{\"attributes\":{\"axis\":{\"id\":\"1012\"},\"grid_line_color\":null,\"ticker\":null},\"id\":\"1014\",\"type\":\"Grid\"},{\"attributes\":{\"bottom_units\":\"screen\",\"fill_alpha\":0.5,\"fill_color\":\"lightgrey\",\"left_units\":\"screen\",\"level\":\"overlay\",\"line_alpha\":1.0,\"line_color\":\"black\",\"line_dash\":[4,4],\"line_width\":2,\"right_units\":\"screen\",\"top_units\":\"screen\"},\"id\":\"1024\",\"type\":\"BoxAnnotation\"},{\"attributes\":{\"overlay\":{\"id\":\"1024\"}},\"id\":\"1021\",\"type\":\"BoxZoomTool\"},{\"attributes\":{},\"id\":\"1049\",\"type\":\"UnionRenderers\"},{\"attributes\":{},\"id\":\"1045\",\"type\":\"BasicTickFormatter\"},{\"attributes\":{},\"id\":\"1023\",\"type\":\"WheelZoomTool\"},{\"attributes\":{\"factors\":[\"0.0\",\"0.5\",\"0.75\",\"0.8\",\"0.85\",\"0.9\"]},\"id\":\"1004\",\"type\":\"FactorRange\"},{\"attributes\":{},\"id\":\"1013\",\"type\":\"CategoricalTicker\"},{\"attributes\":{\"axis\":{\"id\":\"1015\"},\"dimension\":1,\"grid_line_color\":null,\"ticker\":null},\"id\":\"1017\",\"type\":\"Grid\"},{\"attributes\":{},\"id\":\"1019\",\"type\":\"SaveTool\"},{\"attributes\":{},\"id\":\"1016\",\"type\":\"CategoricalTicker\"},{\"attributes\":{\"active_drag\":\"auto\",\"active_inspect\":\"auto\",\"active_multi\":null,\"active_scroll\":\"auto\",\"active_tap\":\"auto\",\"tools\":[{\"id\":\"1018\"},{\"id\":\"1019\"},{\"id\":\"1020\"},{\"id\":\"1021\"},{\"id\":\"1022\"},{\"id\":\"1023\"}]},\"id\":\"1025\",\"type\":\"Toolbar\"},{\"attributes\":{},\"id\":\"1022\",\"type\":\"ResetTool\"},{\"attributes\":{\"data_source\":{\"id\":\"1032\"},\"glyph\":{\"id\":\"1034\"},\"hover_glyph\":null,\"muted_glyph\":null,\"nonselection_glyph\":{\"id\":\"1035\"},\"selection_glyph\":null,\"view\":{\"id\":\"1037\"}},\"id\":\"1036\",\"type\":\"GlyphRenderer\"}],\"root_ids\":[\"1003\"]},\"title\":\"Bokeh Application\",\"version\":\"2.2.3\"}};\n",
       "  var render_items = [{\"docid\":\"428593c6-8eb3-417f-99de-71f4fc63a1f2\",\"root_ids\":[\"1003\"],\"roots\":{\"1003\":\"f009cca0-b1b7-48ab-9a9e-8ae93eb08491\"}}];\n",
       "  root.Bokeh.embed.embed_items_notebook(docs_json, render_items);\n",
       "\n",
       "  }\n",
       "  if (root.Bokeh !== undefined) {\n",
       "    embed_document(root);\n",
       "  } else {\n",
       "    var attempts = 0;\n",
       "    var timer = setInterval(function(root) {\n",
       "      if (root.Bokeh !== undefined) {\n",
       "        clearInterval(timer);\n",
       "        embed_document(root);\n",
       "      } else {\n",
       "        attempts++;\n",
       "        if (attempts > 100) {\n",
       "          clearInterval(timer);\n",
       "          console.log(\"Bokeh: ERROR: Unable to run BokehJS code because BokehJS library is missing\");\n",
       "        }\n",
       "      }\n",
       "    }, 10, root)\n",
       "  }\n",
       "})(window);"
      ],
      "application/vnd.bokehjs_exec.v0+json": ""
     },
     "metadata": {
      "application/vnd.bokehjs_exec.v0+json": {
       "id": "1003"
      }
     },
     "output_type": "display_data"
    }
   ],
   "source": [
    "show(jpi.create_heat_map(quad_SH4, rayleigh=False))"
   ]
  },
  {
   "cell_type": "code",
   "execution_count": 7,
   "metadata": {},
   "outputs": [
    {
     "data": {
      "text/html": [
       "\n",
       "\n",
       "\n",
       "\n",
       "\n",
       "\n",
       "  <div class=\"bk-root\" id=\"252a9bba-ae24-4256-a040-f397037fb69e\" data-root-id=\"1211\"></div>\n"
      ]
     },
     "metadata": {},
     "output_type": "display_data"
    },
    {
     "data": {
      "application/javascript": [
       "(function(root) {\n",
       "  function embed_document(root) {\n",
       "    \n",
       "  var docs_json = {\"c227c598-7112-4ebf-8718-f37fc99e71f3\":{\"roots\":{\"references\":[{\"attributes\":{\"above\":[{\"id\":\"1220\"}],\"center\":[{\"id\":\"1222\"},{\"id\":\"1225\"}],\"left\":[{\"id\":\"1223\"}],\"plot_height\":300,\"plot_width\":300,\"renderers\":[{\"id\":\"1244\"}],\"right\":[{\"id\":\"1247\"}],\"title\":{\"id\":\"1270\"},\"toolbar\":{\"id\":\"1233\"},\"toolbar_location\":\"below\",\"x_range\":{\"id\":\"1212\"},\"x_scale\":{\"id\":\"1216\"},\"y_range\":{\"id\":\"1214\"},\"y_scale\":{\"id\":\"1218\"}},\"id\":\"1211\",\"subtype\":\"Figure\",\"type\":\"Plot\"},{\"attributes\":{\"axis_line_color\":null,\"formatter\":{\"id\":\"1272\"},\"major_label_standoff\":0,\"major_label_text_font_size\":\"12px\",\"major_tick_line_color\":null,\"ticker\":{\"id\":\"1224\"}},\"id\":\"1223\",\"type\":\"CategoricalAxis\"},{\"attributes\":{\"fill_alpha\":{\"value\":0.1},\"fill_color\":{\"field\":\"albedo\",\"transform\":{\"id\":\"1210\"}},\"height\":{\"units\":\"data\",\"value\":1},\"line_alpha\":{\"value\":0.1},\"line_color\":{\"value\":null},\"width\":{\"units\":\"data\",\"value\":1},\"x\":{\"field\":\"g0\"},\"y\":{\"field\":\"w0\"}},\"id\":\"1243\",\"type\":\"Rect\"},{\"attributes\":{\"bottom_units\":\"screen\",\"fill_alpha\":0.5,\"fill_color\":\"lightgrey\",\"left_units\":\"screen\",\"level\":\"overlay\",\"line_alpha\":1.0,\"line_color\":\"black\",\"line_dash\":[4,4],\"line_width\":2,\"right_units\":\"screen\",\"top_units\":\"screen\"},\"id\":\"1232\",\"type\":\"BoxAnnotation\"},{\"attributes\":{\"text\":\"\"},\"id\":\"1270\",\"type\":\"Title\"},{\"attributes\":{\"desired_num_ticks\":11},\"id\":\"1246\",\"type\":\"BasicTicker\"},{\"attributes\":{},\"id\":\"1277\",\"type\":\"UnionRenderers\"},{\"attributes\":{},\"id\":\"1275\",\"type\":\"CategoricalTickFormatter\"},{\"attributes\":{\"fill_color\":{\"field\":\"albedo\",\"transform\":{\"id\":\"1210\"}},\"height\":{\"units\":\"data\",\"value\":1},\"line_color\":{\"value\":null},\"width\":{\"units\":\"data\",\"value\":1},\"x\":{\"field\":\"g0\"},\"y\":{\"field\":\"w0\"}},\"id\":\"1242\",\"type\":\"Rect\"},{\"attributes\":{\"data_source\":{\"id\":\"1240\"},\"glyph\":{\"id\":\"1242\"},\"hover_glyph\":null,\"muted_glyph\":null,\"nonselection_glyph\":{\"id\":\"1243\"},\"selection_glyph\":null,\"view\":{\"id\":\"1245\"}},\"id\":\"1244\",\"type\":\"GlyphRenderer\"},{\"attributes\":{\"data\":{\"albedo\":{\"__ndarray__\":\"867PN51DEUAvYcypSQISQOOAkbrB1xJA97GQhhlWE0CHrvd0p9sTQK1MEh0TWBRAMI6LIUUgFEDgS7vou6ESQC0YbXy2pxBAx/xrG9IqD0AUn8H/NPQMQEWn/xDirwpA30ec+r9gCEBMA0NZkmUSQILl8SBkkhRAR9lQEhZaF0C92QwYtTIZQIetK06XfhtA0EL8p+cSH0Bdk+FjG9sgQPZpzx8CiCFAuficPsAPIUA39pR5KY8gQCeEddrv0x9AqpL5jx5IHkB4AMcqSoAcQAVEl/wk1BJAl9Wdk4kOFkBBchq2zmYaQMyeF5r1QR1Ayx8+O/FkIEDuO4lkJyQjQB7a1vMTLyVADF44Fps8JkDvJWnL8HclQHgjL0r/qSRALIIne6KlI0DL2oqf4XMiQMSecogqHCFAPWmlaCYHE0BYd5Vg3ZYWQEhXNiuedxtAtEt/vAymHkAmV/KvBUchQNnnPe1bSCRAr8ouAgB2JkC8KxYaJmknQACcPVyhUSZAuJCGTgpRJUAbmWq2TRgkQKcSdt4zsyJA0Wfh+Y8rIUDGUa+pBloTQKnrolXuVxdAmmNeAgnyHEAeoLas9EYgQI0mPbPodyJATXr5H0XGJUAb9MAW5AwoQFIYe5NhrihA0gQcSyoBJ0BWWP4Clq8lQFjN5aPJKCRAPJbw7pR8IkAYQp+A7rcgQLcMwjqs9hNAaOtp+9CPGEAGPS+Xy0IfQMYkRMNvviFAPKaAvtZCJECZpa1pM+onQN4MOMEBJSpAie1YBVLtKUClEwlluyInQOL2gL+0SyVAd2ZpRsxQI0CvXRvD0EYhQLwAEqnBeh5A\",\"dtype\":\"float64\",\"order\":\"little\",\"shape\":[78]},\"g0\":[\"0.0\",\"0.0\",\"0.0\",\"0.0\",\"0.0\",\"0.0\",\"0.0\",\"0.0\",\"0.0\",\"0.0\",\"0.0\",\"0.0\",\"0.0\",\"0.5\",\"0.5\",\"0.5\",\"0.5\",\"0.5\",\"0.5\",\"0.5\",\"0.5\",\"0.5\",\"0.5\",\"0.5\",\"0.5\",\"0.5\",\"0.75\",\"0.75\",\"0.75\",\"0.75\",\"0.75\",\"0.75\",\"0.75\",\"0.75\",\"0.75\",\"0.75\",\"0.75\",\"0.75\",\"0.75\",\"0.8\",\"0.8\",\"0.8\",\"0.8\",\"0.8\",\"0.8\",\"0.8\",\"0.8\",\"0.8\",\"0.8\",\"0.8\",\"0.8\",\"0.8\",\"0.85\",\"0.85\",\"0.85\",\"0.85\",\"0.85\",\"0.85\",\"0.85\",\"0.85\",\"0.85\",\"0.85\",\"0.85\",\"0.85\",\"0.85\",\"0.9\",\"0.9\",\"0.9\",\"0.9\",\"0.9\",\"0.9\",\"0.9\",\"0.9\",\"0.9\",\"0.9\",\"0.9\",\"0.9\",\"0.9\"],\"index\":[0,1,2,3,4,5,6,7,8,9,10,11,12,13,14,15,16,17,18,19,20,21,22,23,24,25,26,27,28,29,30,31,32,33,34,35,36,37,38,39,40,41,42,43,44,45,46,47,48,49,50,51,52,53,54,55,56,57,58,59,60,61,62,63,64,65,66,67,68,69,70,71,72,73,74,75,76,77],\"w0\":[\"1.000\",\"0.999\",\"0.995\",\"0.990\",\"0.980\",\"0.950\",\"0.900\",\"0.800\",\"0.700\",\"0.65\",\"0.60\",\"0.55\",\"0.50\",\"1.000\",\"0.999\",\"0.995\",\"0.990\",\"0.980\",\"0.950\",\"0.900\",\"0.800\",\"0.700\",\"0.65\",\"0.60\",\"0.55\",\"0.50\",\"1.000\",\"0.999\",\"0.995\",\"0.990\",\"0.980\",\"0.950\",\"0.900\",\"0.800\",\"0.700\",\"0.65\",\"0.60\",\"0.55\",\"0.50\",\"1.000\",\"0.999\",\"0.995\",\"0.990\",\"0.980\",\"0.950\",\"0.900\",\"0.800\",\"0.700\",\"0.65\",\"0.60\",\"0.55\",\"0.50\",\"1.000\",\"0.999\",\"0.995\",\"0.990\",\"0.980\",\"0.950\",\"0.900\",\"0.800\",\"0.700\",\"0.65\",\"0.60\",\"0.55\",\"0.50\",\"1.000\",\"0.999\",\"0.995\",\"0.990\",\"0.980\",\"0.950\",\"0.900\",\"0.800\",\"0.700\",\"0.65\",\"0.60\",\"0.55\",\"0.50\"]},\"selected\":{\"id\":\"1278\"},\"selection_policy\":{\"id\":\"1277\"}},\"id\":\"1240\",\"type\":\"ColumnDataSource\"},{\"attributes\":{\"axis\":{\"id\":\"1223\"},\"dimension\":1,\"grid_line_color\":null,\"ticker\":null},\"id\":\"1225\",\"type\":\"Grid\"},{\"attributes\":{\"callback\":null},\"id\":\"1226\",\"type\":\"HoverTool\"},{\"attributes\":{},\"id\":\"1228\",\"type\":\"PanTool\"},{\"attributes\":{\"overlay\":{\"id\":\"1232\"}},\"id\":\"1229\",\"type\":\"BoxZoomTool\"},{\"attributes\":{},\"id\":\"1278\",\"type\":\"Selection\"},{\"attributes\":{},\"id\":\"1224\",\"type\":\"CategoricalTicker\"},{\"attributes\":{\"active_drag\":\"auto\",\"active_inspect\":\"auto\",\"active_multi\":null,\"active_scroll\":\"auto\",\"active_tap\":\"auto\",\"tools\":[{\"id\":\"1226\"},{\"id\":\"1227\"},{\"id\":\"1228\"},{\"id\":\"1229\"},{\"id\":\"1230\"},{\"id\":\"1231\"}]},\"id\":\"1233\",\"type\":\"Toolbar\"},{\"attributes\":{\"high\":13.072279012767861,\"low\":-13.072279012767861,\"palette\":[\"#1a1a1a\",\"#4d4d4d\",\"#878787\",\"#bababa\",\"#e0e0e0\",\"#ffffff\",\"#fddbc7\",\"#f4a582\",\"#d6604d\",\"#b2182b\",\"#67001f\"]},\"id\":\"1210\",\"type\":\"LinearColorMapper\"},{\"attributes\":{},\"id\":\"1272\",\"type\":\"CategoricalTickFormatter\"},{\"attributes\":{\"axis_line_color\":null,\"formatter\":{\"id\":\"1275\"},\"major_label_orientation\":1.0471975511965976,\"major_label_standoff\":0,\"major_label_text_font_size\":\"12px\",\"major_tick_line_color\":null,\"ticker\":{\"id\":\"1221\"}},\"id\":\"1220\",\"type\":\"CategoricalAxis\"},{\"attributes\":{\"color_mapper\":{\"id\":\"1210\"},\"formatter\":{\"id\":\"1273\"},\"label_standoff\":6,\"location\":[0,0],\"major_label_text_font_size\":\"12px\",\"ticker\":{\"id\":\"1246\"}},\"id\":\"1247\",\"type\":\"ColorBar\"},{\"attributes\":{},\"id\":\"1216\",\"type\":\"CategoricalScale\"},{\"attributes\":{},\"id\":\"1227\",\"type\":\"SaveTool\"},{\"attributes\":{},\"id\":\"1218\",\"type\":\"CategoricalScale\"},{\"attributes\":{\"factors\":[\"0.50\",\"0.55\",\"0.60\",\"0.65\",\"0.700\",\"0.800\",\"0.900\",\"0.950\",\"0.980\",\"0.990\",\"0.995\",\"0.999\",\"1.000\"]},\"id\":\"1214\",\"type\":\"FactorRange\"},{\"attributes\":{},\"id\":\"1230\",\"type\":\"ResetTool\"},{\"attributes\":{\"source\":{\"id\":\"1240\"}},\"id\":\"1245\",\"type\":\"CDSView\"},{\"attributes\":{},\"id\":\"1231\",\"type\":\"WheelZoomTool\"},{\"attributes\":{\"factors\":[\"0.0\",\"0.5\",\"0.75\",\"0.8\",\"0.85\",\"0.9\"]},\"id\":\"1212\",\"type\":\"FactorRange\"},{\"attributes\":{},\"id\":\"1221\",\"type\":\"CategoricalTicker\"},{\"attributes\":{},\"id\":\"1273\",\"type\":\"BasicTickFormatter\"},{\"attributes\":{\"axis\":{\"id\":\"1220\"},\"grid_line_color\":null,\"ticker\":null},\"id\":\"1222\",\"type\":\"Grid\"}],\"root_ids\":[\"1211\"]},\"title\":\"Bokeh Application\",\"version\":\"2.2.3\"}};\n",
       "  var render_items = [{\"docid\":\"c227c598-7112-4ebf-8718-f37fc99e71f3\",\"root_ids\":[\"1211\"],\"roots\":{\"1211\":\"252a9bba-ae24-4256-a040-f397037fb69e\"}}];\n",
       "  root.Bokeh.embed.embed_items_notebook(docs_json, render_items);\n",
       "\n",
       "  }\n",
       "  if (root.Bokeh !== undefined) {\n",
       "    embed_document(root);\n",
       "  } else {\n",
       "    var attempts = 0;\n",
       "    var timer = setInterval(function(root) {\n",
       "      if (root.Bokeh !== undefined) {\n",
       "        clearInterval(timer);\n",
       "        embed_document(root);\n",
       "      } else {\n",
       "        attempts++;\n",
       "        if (attempts > 100) {\n",
       "          clearInterval(timer);\n",
       "          console.log(\"Bokeh: ERROR: Unable to run BokehJS code because BokehJS library is missing\");\n",
       "        }\n",
       "      }\n",
       "    }, 10, root)\n",
       "  }\n",
       "})(window);"
      ],
      "application/vnd.bokehjs_exec.v0+json": ""
     },
     "metadata": {
      "application/vnd.bokehjs_exec.v0+json": {
       "id": "1211"
      }
     },
     "output_type": "display_data"
    }
   ],
   "source": [
    "show(jpi.create_heat_map(quad_SH2, rayleigh=False))"
   ]
  },
  {
   "cell_type": "code",
   "execution_count": null,
   "metadata": {},
   "outputs": [],
   "source": [
    "show(jpi.create_heat_map(compare_SH, rayleigh=False))"
   ]
  },
  {
   "cell_type": "code",
   "execution_count": 13,
   "metadata": {},
   "outputs": [],
   "source": [
    "import pickle as pk\n",
    "toon_dir = '/Users/crooney/Documents/codes/pyDISORT/test/picaso_data/'\n",
    "disort_dir = '/Users/crooney/Documents/codes/picaso/docs/notebooks/disort_data/'\n",
    "# disortDE_dir = '/Users/crooney/Documents/codes/picaso/docs/notebooks/disort_data/DE/'\n",
    "disort4_dir = '/Users/crooney/Documents/codes/picaso/docs/notebooks/disort_data/2_streams/'\n",
    "SH2_dir = '/Users/crooney/Documents/codes/pyDISORT/test/picaso_data/SH2/'\n",
    "SH4_dir = '/Users/crooney/Documents/codes/pyDISORT/test/picaso_data/SH4/'\n",
    "\n",
    "for w0 in [.6]:\n",
    "    filename = 'data_0.000_%.3f.pk' % w0\n",
    "    Toon = pk.load(open(toon_dir + filename,'rb'))\n",
    "    Disort_4 = pk.load(open(disort4_dir + filename,'rb'), encoding = 'bytes')\n",
    "#     Disort_DE = pk.load(open(disortDE_dir + filename,'rb'), encoding = 'bytes')\n",
    "    Disort = pk.load(open(disort_dir + filename,'rb'), encoding = 'bytes')\n",
    "    SH2 = pk.load(open(SH2_dir + filename,'rb'), encoding = 'bytes')\n",
    "    SH4 = pk.load(open(SH4_dir + filename,'rb'), encoding = 'bytes')"
   ]
  },
  {
   "cell_type": "code",
   "execution_count": 14,
   "metadata": {},
   "outputs": [
    {
     "data": {
      "text/plain": [
       "array([0.04311634, 0.04266091, 0.04120737, 0.03800263, 0.03189158])"
      ]
     },
     "execution_count": 14,
     "metadata": {},
     "output_type": "execute_result"
    }
   ],
   "source": [
    "n=0\n",
    "Toon['xint_at_top'][:,0,0]"
   ]
  },
  {
   "cell_type": "code",
   "execution_count": 15,
   "metadata": {},
   "outputs": [
    {
     "data": {
      "text/plain": [
       "array([0.0411573 , 0.04076376, 0.03950373, 0.03670278, 0.0312624 ])"
      ]
     },
     "execution_count": 15,
     "metadata": {},
     "output_type": "execute_result"
    }
   ],
   "source": [
    "SH2['xint_at_top'][:,0,0]"
   ]
  },
  {
   "cell_type": "code",
   "execution_count": 16,
   "metadata": {},
   "outputs": [
    {
     "data": {
      "text/plain": [
       "array([0.04219923, 0.04182542, 0.04062336, 0.03791445, 0.03241386])"
      ]
     },
     "execution_count": 16,
     "metadata": {},
     "output_type": "execute_result"
    }
   ],
   "source": [
    "SH4['xint_at_top'][:,0,0]"
   ]
  },
  {
   "cell_type": "code",
   "execution_count": 17,
   "metadata": {},
   "outputs": [
    {
     "data": {
      "text/plain": [
       "array([0.04253294, 0.04217136, 0.04101064, 0.03840519, 0.03314142])"
      ]
     },
     "execution_count": 17,
     "metadata": {},
     "output_type": "execute_result"
    }
   ],
   "source": [
    "Disort[b'xint_at_top'][:,0,0]"
   ]
  },
  {
   "cell_type": "code",
   "execution_count": null,
   "metadata": {},
   "outputs": [],
   "source": [
    "Disort_4[b'xint_at_top'][:,0,0]"
   ]
  },
  {
   "cell_type": "code",
   "execution_count": null,
   "metadata": {},
   "outputs": [],
   "source": [
    "Toon['flux'][::2,0]"
   ]
  },
  {
   "cell_type": "code",
   "execution_count": null,
   "metadata": {},
   "outputs": [],
   "source": [
    "SH2['flux'].shape"
   ]
  },
  {
   "cell_type": "code",
   "execution_count": null,
   "metadata": {},
   "outputs": [],
   "source": [
    "SH4['intensity'][0,0,:,0]"
   ]
  },
  {
   "cell_type": "code",
   "execution_count": null,
   "metadata": {},
   "outputs": [],
   "source": [
    "def L2_error(a,b):\n",
    "    error = np.sqrt(np.sum((a-b)**2))/np.sqrt(np.sum(b**2))\n",
    "    return error"
   ]
  },
  {
   "cell_type": "code",
   "execution_count": null,
   "metadata": {},
   "outputs": [],
   "source": []
  }
 ],
 "metadata": {
  "kernelspec": {
   "display_name": "Python 3",
   "language": "python",
   "name": "python3"
  },
  "language_info": {
   "codemirror_mode": {
    "name": "ipython",
    "version": 3
   },
   "file_extension": ".py",
   "mimetype": "text/x-python",
   "name": "python",
   "nbconvert_exporter": "python",
   "pygments_lexer": "ipython3",
   "version": "3.8.5"
  }
 },
 "nbformat": 4,
 "nbformat_minor": 2
}
