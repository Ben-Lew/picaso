{
 "cells": [
  {
   "cell_type": "code",
   "execution_count": 1,
   "metadata": {},
   "outputs": [
    {
     "data": {
      "text/html": [
       "\n",
       "    <div class=\"bk-root\">\n",
       "        <a href=\"https://bokeh.org\" target=\"_blank\" class=\"bk-logo bk-logo-small bk-logo-notebook\"></a>\n",
       "        <span id=\"1001\">Loading BokehJS ...</span>\n",
       "    </div>"
      ]
     },
     "metadata": {},
     "output_type": "display_data"
    },
    {
     "data": {
      "application/javascript": [
       "\n",
       "(function(root) {\n",
       "  function now() {\n",
       "    return new Date();\n",
       "  }\n",
       "\n",
       "  var force = true;\n",
       "\n",
       "  if (typeof root._bokeh_onload_callbacks === \"undefined\" || force === true) {\n",
       "    root._bokeh_onload_callbacks = [];\n",
       "    root._bokeh_is_loading = undefined;\n",
       "  }\n",
       "\n",
       "  var JS_MIME_TYPE = 'application/javascript';\n",
       "  var HTML_MIME_TYPE = 'text/html';\n",
       "  var EXEC_MIME_TYPE = 'application/vnd.bokehjs_exec.v0+json';\n",
       "  var CLASS_NAME = 'output_bokeh rendered_html';\n",
       "\n",
       "  /**\n",
       "   * Render data to the DOM node\n",
       "   */\n",
       "  function render(props, node) {\n",
       "    var script = document.createElement(\"script\");\n",
       "    node.appendChild(script);\n",
       "  }\n",
       "\n",
       "  /**\n",
       "   * Handle when an output is cleared or removed\n",
       "   */\n",
       "  function handleClearOutput(event, handle) {\n",
       "    var cell = handle.cell;\n",
       "\n",
       "    var id = cell.output_area._bokeh_element_id;\n",
       "    var server_id = cell.output_area._bokeh_server_id;\n",
       "    // Clean up Bokeh references\n",
       "    if (id != null && id in Bokeh.index) {\n",
       "      Bokeh.index[id].model.document.clear();\n",
       "      delete Bokeh.index[id];\n",
       "    }\n",
       "\n",
       "    if (server_id !== undefined) {\n",
       "      // Clean up Bokeh references\n",
       "      var cmd = \"from bokeh.io.state import curstate; print(curstate().uuid_to_server['\" + server_id + \"'].get_sessions()[0].document.roots[0]._id)\";\n",
       "      cell.notebook.kernel.execute(cmd, {\n",
       "        iopub: {\n",
       "          output: function(msg) {\n",
       "            var id = msg.content.text.trim();\n",
       "            if (id in Bokeh.index) {\n",
       "              Bokeh.index[id].model.document.clear();\n",
       "              delete Bokeh.index[id];\n",
       "            }\n",
       "          }\n",
       "        }\n",
       "      });\n",
       "      // Destroy server and session\n",
       "      var cmd = \"import bokeh.io.notebook as ion; ion.destroy_server('\" + server_id + \"')\";\n",
       "      cell.notebook.kernel.execute(cmd);\n",
       "    }\n",
       "  }\n",
       "\n",
       "  /**\n",
       "   * Handle when a new output is added\n",
       "   */\n",
       "  function handleAddOutput(event, handle) {\n",
       "    var output_area = handle.output_area;\n",
       "    var output = handle.output;\n",
       "\n",
       "    // limit handleAddOutput to display_data with EXEC_MIME_TYPE content only\n",
       "    if ((output.output_type != \"display_data\") || (!output.data.hasOwnProperty(EXEC_MIME_TYPE))) {\n",
       "      return\n",
       "    }\n",
       "\n",
       "    var toinsert = output_area.element.find(\".\" + CLASS_NAME.split(' ')[0]);\n",
       "\n",
       "    if (output.metadata[EXEC_MIME_TYPE][\"id\"] !== undefined) {\n",
       "      toinsert[toinsert.length - 1].firstChild.textContent = output.data[JS_MIME_TYPE];\n",
       "      // store reference to embed id on output_area\n",
       "      output_area._bokeh_element_id = output.metadata[EXEC_MIME_TYPE][\"id\"];\n",
       "    }\n",
       "    if (output.metadata[EXEC_MIME_TYPE][\"server_id\"] !== undefined) {\n",
       "      var bk_div = document.createElement(\"div\");\n",
       "      bk_div.innerHTML = output.data[HTML_MIME_TYPE];\n",
       "      var script_attrs = bk_div.children[0].attributes;\n",
       "      for (var i = 0; i < script_attrs.length; i++) {\n",
       "        toinsert[toinsert.length - 1].firstChild.setAttribute(script_attrs[i].name, script_attrs[i].value);\n",
       "        toinsert[toinsert.length - 1].firstChild.textContent = bk_div.children[0].textContent\n",
       "      }\n",
       "      // store reference to server id on output_area\n",
       "      output_area._bokeh_server_id = output.metadata[EXEC_MIME_TYPE][\"server_id\"];\n",
       "    }\n",
       "  }\n",
       "\n",
       "  function register_renderer(events, OutputArea) {\n",
       "\n",
       "    function append_mime(data, metadata, element) {\n",
       "      // create a DOM node to render to\n",
       "      var toinsert = this.create_output_subarea(\n",
       "        metadata,\n",
       "        CLASS_NAME,\n",
       "        EXEC_MIME_TYPE\n",
       "      );\n",
       "      this.keyboard_manager.register_events(toinsert);\n",
       "      // Render to node\n",
       "      var props = {data: data, metadata: metadata[EXEC_MIME_TYPE]};\n",
       "      render(props, toinsert[toinsert.length - 1]);\n",
       "      element.append(toinsert);\n",
       "      return toinsert\n",
       "    }\n",
       "\n",
       "    /* Handle when an output is cleared or removed */\n",
       "    events.on('clear_output.CodeCell', handleClearOutput);\n",
       "    events.on('delete.Cell', handleClearOutput);\n",
       "\n",
       "    /* Handle when a new output is added */\n",
       "    events.on('output_added.OutputArea', handleAddOutput);\n",
       "\n",
       "    /**\n",
       "     * Register the mime type and append_mime function with output_area\n",
       "     */\n",
       "    OutputArea.prototype.register_mime_type(EXEC_MIME_TYPE, append_mime, {\n",
       "      /* Is output safe? */\n",
       "      safe: true,\n",
       "      /* Index of renderer in `output_area.display_order` */\n",
       "      index: 0\n",
       "    });\n",
       "  }\n",
       "\n",
       "  // register the mime type if in Jupyter Notebook environment and previously unregistered\n",
       "  if (root.Jupyter !== undefined) {\n",
       "    var events = require('base/js/events');\n",
       "    var OutputArea = require('notebook/js/outputarea').OutputArea;\n",
       "\n",
       "    if (OutputArea.prototype.mime_types().indexOf(EXEC_MIME_TYPE) == -1) {\n",
       "      register_renderer(events, OutputArea);\n",
       "    }\n",
       "  }\n",
       "\n",
       "  \n",
       "  if (typeof (root._bokeh_timeout) === \"undefined\" || force === true) {\n",
       "    root._bokeh_timeout = Date.now() + 5000;\n",
       "    root._bokeh_failed_load = false;\n",
       "  }\n",
       "\n",
       "  var NB_LOAD_WARNING = {'data': {'text/html':\n",
       "     \"<div style='background-color: #fdd'>\\n\"+\n",
       "     \"<p>\\n\"+\n",
       "     \"BokehJS does not appear to have successfully loaded. If loading BokehJS from CDN, this \\n\"+\n",
       "     \"may be due to a slow or bad network connection. Possible fixes:\\n\"+\n",
       "     \"</p>\\n\"+\n",
       "     \"<ul>\\n\"+\n",
       "     \"<li>re-rerun `output_notebook()` to attempt to load from CDN again, or</li>\\n\"+\n",
       "     \"<li>use INLINE resources instead, as so:</li>\\n\"+\n",
       "     \"</ul>\\n\"+\n",
       "     \"<code>\\n\"+\n",
       "     \"from bokeh.resources import INLINE\\n\"+\n",
       "     \"output_notebook(resources=INLINE)\\n\"+\n",
       "     \"</code>\\n\"+\n",
       "     \"</div>\"}};\n",
       "\n",
       "  function display_loaded() {\n",
       "    var el = document.getElementById(\"1001\");\n",
       "    if (el != null) {\n",
       "      el.textContent = \"BokehJS is loading...\";\n",
       "    }\n",
       "    if (root.Bokeh !== undefined) {\n",
       "      if (el != null) {\n",
       "        el.textContent = \"BokehJS \" + root.Bokeh.version + \" successfully loaded.\";\n",
       "      }\n",
       "    } else if (Date.now() < root._bokeh_timeout) {\n",
       "      setTimeout(display_loaded, 100)\n",
       "    }\n",
       "  }\n",
       "\n",
       "\n",
       "  function run_callbacks() {\n",
       "    try {\n",
       "      root._bokeh_onload_callbacks.forEach(function(callback) {\n",
       "        if (callback != null)\n",
       "          callback();\n",
       "      });\n",
       "    } finally {\n",
       "      delete root._bokeh_onload_callbacks\n",
       "    }\n",
       "    console.debug(\"Bokeh: all callbacks have finished\");\n",
       "  }\n",
       "\n",
       "  function load_libs(css_urls, js_urls, callback) {\n",
       "    if (css_urls == null) css_urls = [];\n",
       "    if (js_urls == null) js_urls = [];\n",
       "\n",
       "    root._bokeh_onload_callbacks.push(callback);\n",
       "    if (root._bokeh_is_loading > 0) {\n",
       "      console.debug(\"Bokeh: BokehJS is being loaded, scheduling callback at\", now());\n",
       "      return null;\n",
       "    }\n",
       "    if (js_urls == null || js_urls.length === 0) {\n",
       "      run_callbacks();\n",
       "      return null;\n",
       "    }\n",
       "    console.debug(\"Bokeh: BokehJS not loaded, scheduling load and callback at\", now());\n",
       "    root._bokeh_is_loading = css_urls.length + js_urls.length;\n",
       "\n",
       "    function on_load() {\n",
       "      root._bokeh_is_loading--;\n",
       "      if (root._bokeh_is_loading === 0) {\n",
       "        console.debug(\"Bokeh: all BokehJS libraries/stylesheets loaded\");\n",
       "        run_callbacks()\n",
       "      }\n",
       "    }\n",
       "\n",
       "    function on_error() {\n",
       "      console.error(\"failed to load \" + url);\n",
       "    }\n",
       "\n",
       "    for (var i = 0; i < css_urls.length; i++) {\n",
       "      var url = css_urls[i];\n",
       "      const element = document.createElement(\"link\");\n",
       "      element.onload = on_load;\n",
       "      element.onerror = on_error;\n",
       "      element.rel = \"stylesheet\";\n",
       "      element.type = \"text/css\";\n",
       "      element.href = url;\n",
       "      console.debug(\"Bokeh: injecting link tag for BokehJS stylesheet: \", url);\n",
       "      document.body.appendChild(element);\n",
       "    }\n",
       "\n",
       "    const hashes = {\"https://cdn.bokeh.org/bokeh/release/bokeh-2.2.1.min.js\": \"qkRvDQVAIfzsJo40iRBbxt6sttt0hv4lh74DG7OK4MCHv4C5oohXYoHUM5W11uqS\", \"https://cdn.bokeh.org/bokeh/release/bokeh-widgets-2.2.1.min.js\": \"Sb7Mr06a9TNlet/GEBeKaf5xH3eb6AlCzwjtU82wNPyDrnfoiVl26qnvlKjmcAd+\", \"https://cdn.bokeh.org/bokeh/release/bokeh-tables-2.2.1.min.js\": \"HaJ15vgfmcfRtB4c4YBOI4f1MUujukqInOWVqZJZZGK7Q+ivud0OKGSTn/Vm2iso\"};\n",
       "\n",
       "    for (var i = 0; i < js_urls.length; i++) {\n",
       "      var url = js_urls[i];\n",
       "      var element = document.createElement('script');\n",
       "      element.onload = on_load;\n",
       "      element.onerror = on_error;\n",
       "      element.async = false;\n",
       "      element.src = url;\n",
       "      if (url in hashes) {\n",
       "        element.crossOrigin = \"anonymous\";\n",
       "        element.integrity = \"sha384-\" + hashes[url];\n",
       "      }\n",
       "      console.debug(\"Bokeh: injecting script tag for BokehJS library: \", url);\n",
       "      document.head.appendChild(element);\n",
       "    }\n",
       "  };\n",
       "\n",
       "  function inject_raw_css(css) {\n",
       "    const element = document.createElement(\"style\");\n",
       "    element.appendChild(document.createTextNode(css));\n",
       "    document.body.appendChild(element);\n",
       "  }\n",
       "\n",
       "  \n",
       "  var js_urls = [\"https://cdn.bokeh.org/bokeh/release/bokeh-2.2.1.min.js\", \"https://cdn.bokeh.org/bokeh/release/bokeh-widgets-2.2.1.min.js\", \"https://cdn.bokeh.org/bokeh/release/bokeh-tables-2.2.1.min.js\"];\n",
       "  var css_urls = [];\n",
       "  \n",
       "\n",
       "  var inline_js = [\n",
       "    function(Bokeh) {\n",
       "      Bokeh.set_log_level(\"info\");\n",
       "    },\n",
       "    function(Bokeh) {\n",
       "    \n",
       "    \n",
       "    }\n",
       "  ];\n",
       "\n",
       "  function run_inline_js() {\n",
       "    \n",
       "    if (root.Bokeh !== undefined || force === true) {\n",
       "      \n",
       "    for (var i = 0; i < inline_js.length; i++) {\n",
       "      inline_js[i].call(root, root.Bokeh);\n",
       "    }\n",
       "    if (force === true) {\n",
       "        display_loaded();\n",
       "      }} else if (Date.now() < root._bokeh_timeout) {\n",
       "      setTimeout(run_inline_js, 100);\n",
       "    } else if (!root._bokeh_failed_load) {\n",
       "      console.log(\"Bokeh: BokehJS failed to load within specified timeout.\");\n",
       "      root._bokeh_failed_load = true;\n",
       "    } else if (force !== true) {\n",
       "      var cell = $(document.getElementById(\"1001\")).parents('.cell').data().cell;\n",
       "      cell.output_area.append_execute_result(NB_LOAD_WARNING)\n",
       "    }\n",
       "\n",
       "  }\n",
       "\n",
       "  if (root._bokeh_is_loading === 0) {\n",
       "    console.debug(\"Bokeh: BokehJS loaded, going straight to plotting\");\n",
       "    run_inline_js();\n",
       "  } else {\n",
       "    load_libs(css_urls, js_urls, function() {\n",
       "      console.debug(\"Bokeh: BokehJS plotting callback run at\", now());\n",
       "      run_inline_js();\n",
       "    });\n",
       "  }\n",
       "}(window));"
      ],
      "application/vnd.bokehjs_load.v0+json": "\n(function(root) {\n  function now() {\n    return new Date();\n  }\n\n  var force = true;\n\n  if (typeof root._bokeh_onload_callbacks === \"undefined\" || force === true) {\n    root._bokeh_onload_callbacks = [];\n    root._bokeh_is_loading = undefined;\n  }\n\n  \n\n  \n  if (typeof (root._bokeh_timeout) === \"undefined\" || force === true) {\n    root._bokeh_timeout = Date.now() + 5000;\n    root._bokeh_failed_load = false;\n  }\n\n  var NB_LOAD_WARNING = {'data': {'text/html':\n     \"<div style='background-color: #fdd'>\\n\"+\n     \"<p>\\n\"+\n     \"BokehJS does not appear to have successfully loaded. If loading BokehJS from CDN, this \\n\"+\n     \"may be due to a slow or bad network connection. Possible fixes:\\n\"+\n     \"</p>\\n\"+\n     \"<ul>\\n\"+\n     \"<li>re-rerun `output_notebook()` to attempt to load from CDN again, or</li>\\n\"+\n     \"<li>use INLINE resources instead, as so:</li>\\n\"+\n     \"</ul>\\n\"+\n     \"<code>\\n\"+\n     \"from bokeh.resources import INLINE\\n\"+\n     \"output_notebook(resources=INLINE)\\n\"+\n     \"</code>\\n\"+\n     \"</div>\"}};\n\n  function display_loaded() {\n    var el = document.getElementById(\"1001\");\n    if (el != null) {\n      el.textContent = \"BokehJS is loading...\";\n    }\n    if (root.Bokeh !== undefined) {\n      if (el != null) {\n        el.textContent = \"BokehJS \" + root.Bokeh.version + \" successfully loaded.\";\n      }\n    } else if (Date.now() < root._bokeh_timeout) {\n      setTimeout(display_loaded, 100)\n    }\n  }\n\n\n  function run_callbacks() {\n    try {\n      root._bokeh_onload_callbacks.forEach(function(callback) {\n        if (callback != null)\n          callback();\n      });\n    } finally {\n      delete root._bokeh_onload_callbacks\n    }\n    console.debug(\"Bokeh: all callbacks have finished\");\n  }\n\n  function load_libs(css_urls, js_urls, callback) {\n    if (css_urls == null) css_urls = [];\n    if (js_urls == null) js_urls = [];\n\n    root._bokeh_onload_callbacks.push(callback);\n    if (root._bokeh_is_loading > 0) {\n      console.debug(\"Bokeh: BokehJS is being loaded, scheduling callback at\", now());\n      return null;\n    }\n    if (js_urls == null || js_urls.length === 0) {\n      run_callbacks();\n      return null;\n    }\n    console.debug(\"Bokeh: BokehJS not loaded, scheduling load and callback at\", now());\n    root._bokeh_is_loading = css_urls.length + js_urls.length;\n\n    function on_load() {\n      root._bokeh_is_loading--;\n      if (root._bokeh_is_loading === 0) {\n        console.debug(\"Bokeh: all BokehJS libraries/stylesheets loaded\");\n        run_callbacks()\n      }\n    }\n\n    function on_error() {\n      console.error(\"failed to load \" + url);\n    }\n\n    for (var i = 0; i < css_urls.length; i++) {\n      var url = css_urls[i];\n      const element = document.createElement(\"link\");\n      element.onload = on_load;\n      element.onerror = on_error;\n      element.rel = \"stylesheet\";\n      element.type = \"text/css\";\n      element.href = url;\n      console.debug(\"Bokeh: injecting link tag for BokehJS stylesheet: \", url);\n      document.body.appendChild(element);\n    }\n\n    const hashes = {\"https://cdn.bokeh.org/bokeh/release/bokeh-2.2.1.min.js\": \"qkRvDQVAIfzsJo40iRBbxt6sttt0hv4lh74DG7OK4MCHv4C5oohXYoHUM5W11uqS\", \"https://cdn.bokeh.org/bokeh/release/bokeh-widgets-2.2.1.min.js\": \"Sb7Mr06a9TNlet/GEBeKaf5xH3eb6AlCzwjtU82wNPyDrnfoiVl26qnvlKjmcAd+\", \"https://cdn.bokeh.org/bokeh/release/bokeh-tables-2.2.1.min.js\": \"HaJ15vgfmcfRtB4c4YBOI4f1MUujukqInOWVqZJZZGK7Q+ivud0OKGSTn/Vm2iso\"};\n\n    for (var i = 0; i < js_urls.length; i++) {\n      var url = js_urls[i];\n      var element = document.createElement('script');\n      element.onload = on_load;\n      element.onerror = on_error;\n      element.async = false;\n      element.src = url;\n      if (url in hashes) {\n        element.crossOrigin = \"anonymous\";\n        element.integrity = \"sha384-\" + hashes[url];\n      }\n      console.debug(\"Bokeh: injecting script tag for BokehJS library: \", url);\n      document.head.appendChild(element);\n    }\n  };\n\n  function inject_raw_css(css) {\n    const element = document.createElement(\"style\");\n    element.appendChild(document.createTextNode(css));\n    document.body.appendChild(element);\n  }\n\n  \n  var js_urls = [\"https://cdn.bokeh.org/bokeh/release/bokeh-2.2.1.min.js\", \"https://cdn.bokeh.org/bokeh/release/bokeh-widgets-2.2.1.min.js\", \"https://cdn.bokeh.org/bokeh/release/bokeh-tables-2.2.1.min.js\"];\n  var css_urls = [];\n  \n\n  var inline_js = [\n    function(Bokeh) {\n      Bokeh.set_log_level(\"info\");\n    },\n    function(Bokeh) {\n    \n    \n    }\n  ];\n\n  function run_inline_js() {\n    \n    if (root.Bokeh !== undefined || force === true) {\n      \n    for (var i = 0; i < inline_js.length; i++) {\n      inline_js[i].call(root, root.Bokeh);\n    }\n    if (force === true) {\n        display_loaded();\n      }} else if (Date.now() < root._bokeh_timeout) {\n      setTimeout(run_inline_js, 100);\n    } else if (!root._bokeh_failed_load) {\n      console.log(\"Bokeh: BokehJS failed to load within specified timeout.\");\n      root._bokeh_failed_load = true;\n    } else if (force !== true) {\n      var cell = $(document.getElementById(\"1001\")).parents('.cell').data().cell;\n      cell.output_area.append_execute_result(NB_LOAD_WARNING)\n    }\n\n  }\n\n  if (root._bokeh_is_loading === 0) {\n    console.debug(\"Bokeh: BokehJS loaded, going straight to plotting\");\n    run_inline_js();\n  } else {\n    load_libs(css_urls, js_urls, function() {\n      console.debug(\"Bokeh: BokehJS plotting callback run at\", now());\n      run_inline_js();\n    });\n  }\n}(window));"
     },
     "metadata": {},
     "output_type": "display_data"
    },
    {
     "name": "stderr",
     "output_type": "stream",
     "text": [
      "/Users/crooney/anaconda3/envs/conda_venv/lib/python3.7/site-packages/pysynphot/locations.py:345: UserWarning: Extinction files not found in /Users/crooney/Documents/codes/all-data/stellar/grp/hst/cdbs/extinction\n",
      "  warnings.warn('Extinction files not found in %s' % (extdir, ))\n",
      "/Users/crooney/anaconda3/envs/conda_venv/lib/python3.7/site-packages/pysynphot/refs.py:118: UserWarning: No graph or component tables found; functionality will be SEVERELY crippled. No files found for /Users/crooney/Documents/codes/all-data/stellar/grp/hst/cdbs/mtab/*_tmg.fits\n",
      "  'functionality will be SEVERELY crippled. ' + str(e))\n",
      "/Users/crooney/anaconda3/envs/conda_venv/lib/python3.7/site-packages/pysynphot/refs.py:125: UserWarning: No thermal tables found, no thermal calculations can be performed. No files found for /Users/crooney/Documents/codes/all-data/stellar/grp/hst/cdbs/mtab/*_tmt.fits\n",
      "  'no thermal calculations can be performed. ' + str(e))\n"
     ]
    }
   ],
   "source": [
    "from math import pi\n",
    "\n",
    "import pandas as pd\n",
    "\n",
    "from bokeh.io import show\n",
    "from bokeh.models import BasicTicker, ColorBar, LinearColorMapper, PrintfTickFormatter\n",
    "from bokeh.plotting import figure\n",
    "from bokeh.sampledata.unemployment1948 import data\n",
    "from bokeh.palettes import viridis\n",
    "from bokeh.io import output_notebook\n",
    "output_notebook()\n",
    "import picaso.justplotit as jpi\n",
    "\n",
    "import picaso.picaso_data as ptest\n",
    "import picaso.disort_disco as dtest\n",
    "\n",
    "import numpy as np"
   ]
  },
  {
   "cell_type": "code",
   "execution_count": 2,
   "metadata": {},
   "outputs": [
    {
     "name": "stdout",
     "output_type": "stream",
     "text": [
      "YOU ARE REQUESTING RESAMPLING!!\n",
      "NO DATA GENERATED FOR DISORT\n",
      "YOU ARE REQUESTING RESAMPLING!!\n",
      "NO DATA GENERATED FOR DISORT\n",
      "YOU ARE REQUESTING RESAMPLING!!\n",
      "NO DATA GENERATED FOR DISORT\n",
      "YOU ARE REQUESTING RESAMPLING!!\n",
      "NO DATA GENERATED FOR DISORT\n"
     ]
    }
   ],
   "source": [
    "# Toon quadrature\n",
    "Toon_quad = ptest.picaso_albedos(output_dir='Toon_quad.csv', delta_eddington=True, disort_data=False)\n",
    "# Toon eddington\n",
    "Toon_edd = ptest.picaso_albedos(output_dir= 'Toon_eddd.csv',Toon_coefficients =\"eddington\", delta_eddington=True)\n",
    "# SH 2-stream\n",
    "SH2 = ptest.picaso_albedos(output_dir='SH2.csv',method=\"SH\", delta_eddington=True, rayleigh=False)\n",
    "# SH 4-stream\n",
    "SH4 = ptest.picaso_albedos(output_dir='SH4.csv',method='SH', stream=4, delta_eddington=True, rayleigh=False)"
   ]
  },
  {
   "cell_type": "code",
   "execution_count": 3,
   "metadata": {},
   "outputs": [],
   "source": [
    "# disort = dtest.disort_albedos(output_dir='disort.csv')"
   ]
  },
  {
   "cell_type": "code",
   "execution_count": 4,
   "metadata": {},
   "outputs": [],
   "source": [
    "# read in data from picaso function\n",
    "data_old = pd.read_csv('DLUGACH_TEST.csv',index_col=0)\n",
    "# data_disort = pd.read_csv('disort.csv',index_col=0)\n",
    "data_SH2 = pd.read_csv('SH2.csv',index_col=0)\n",
    "data_SH4 = pd.read_csv('SH4.csv',index_col=0)\n",
    "data_quad = pd.read_csv('Toon_quad.csv',index_col=0)\n",
    "data_edd = pd.read_csv('Toon_eddd.csv',index_col=0)\n",
    "\n",
    "#If you want to compare two different files for the heatmap just do this\n",
    "data_compare = data_old\n",
    "compare_quad = (data_compare-data_quad)/data_compare*100   \n",
    "compare_edd = (data_compare-data_edd)/data_compare*100   \n",
    "compare_SH2 = (data_compare-data_SH2)/data_compare*100 \n",
    "compare_SH4 = (data_compare-data_SH4)/data_compare*100  \n",
    "compare_SH = (data_SH2-data_SH4)/data_SH2*100    \n",
    "\n",
    "quad_SH4 = (data_quad-data_SH4)/data_quad*100 \n",
    "quad_SH2 = (data_quad-data_SH2)/data_quad*100 \n",
    "edd_SH2 = (data_edd-data_SH2)/data_edd*100 \n",
    "\n",
    "# disort_dlugach = (data_old-data_disort)/data_old*100 "
   ]
  },
  {
   "cell_type": "code",
   "execution_count": 5,
   "metadata": {},
   "outputs": [
    {
     "data": {
      "text/html": [
       "\n",
       "\n",
       "\n",
       "\n",
       "\n",
       "\n",
       "  <div class=\"bk-root\" id=\"c619c583-990f-4763-90c1-17a9acd98cdf\" data-root-id=\"1003\"></div>\n"
      ]
     },
     "metadata": {},
     "output_type": "display_data"
    },
    {
     "data": {
      "application/javascript": [
       "(function(root) {\n",
       "  function embed_document(root) {\n",
       "    \n",
       "  var docs_json = {\"9633a8f9-0f08-4b1e-b02a-1c2c6d52c7bc\":{\"roots\":{\"references\":[{\"attributes\":{\"above\":[{\"id\":\"1012\"}],\"center\":[{\"id\":\"1014\"},{\"id\":\"1017\"}],\"left\":[{\"id\":\"1015\"}],\"plot_height\":300,\"plot_width\":300,\"renderers\":[{\"id\":\"1036\"}],\"right\":[{\"id\":\"1039\"}],\"title\":{\"id\":\"1041\"},\"toolbar\":{\"id\":\"1025\"},\"toolbar_location\":\"below\",\"x_range\":{\"id\":\"1004\"},\"x_scale\":{\"id\":\"1008\"},\"y_range\":{\"id\":\"1006\"},\"y_scale\":{\"id\":\"1010\"}},\"id\":\"1003\",\"subtype\":\"Figure\",\"type\":\"Plot\"},{\"attributes\":{},\"id\":\"1010\",\"type\":\"CategoricalScale\"},{\"attributes\":{\"active_drag\":\"auto\",\"active_inspect\":\"auto\",\"active_multi\":null,\"active_scroll\":\"auto\",\"active_tap\":\"auto\",\"tools\":[{\"id\":\"1018\"},{\"id\":\"1019\"},{\"id\":\"1020\"},{\"id\":\"1021\"},{\"id\":\"1022\"},{\"id\":\"1023\"}]},\"id\":\"1025\",\"type\":\"Toolbar\"},{\"attributes\":{\"factors\":[\"0.700\",\"0.800\",\"0.900\",\"0.950\",\"0.980\",\"0.990\",\"0.995\",\"0.999\",\"1.000\"]},\"id\":\"1006\",\"type\":\"FactorRange\"},{\"attributes\":{},\"id\":\"1047\",\"type\":\"BasicTickFormatter\"},{\"attributes\":{},\"id\":\"1049\",\"type\":\"UnionRenderers\"},{\"attributes\":{},\"id\":\"1022\",\"type\":\"ResetTool\"},{\"attributes\":{},\"id\":\"1019\",\"type\":\"SaveTool\"},{\"attributes\":{},\"id\":\"1023\",\"type\":\"WheelZoomTool\"},{\"attributes\":{\"factors\":[\"0.0\",\"0.5\",\"0.75\",\"0.8\",\"0.85\",\"0.9\"]},\"id\":\"1004\",\"type\":\"FactorRange\"},{\"attributes\":{\"bottom_units\":\"screen\",\"fill_alpha\":0.5,\"fill_color\":\"lightgrey\",\"left_units\":\"screen\",\"level\":\"overlay\",\"line_alpha\":1.0,\"line_color\":\"black\",\"line_dash\":[4,4],\"line_width\":2,\"right_units\":\"screen\",\"top_units\":\"screen\"},\"id\":\"1024\",\"type\":\"BoxAnnotation\"},{\"attributes\":{\"callback\":null},\"id\":\"1018\",\"type\":\"HoverTool\"},{\"attributes\":{\"fill_color\":{\"field\":\"albedo\",\"transform\":{\"id\":\"1002\"}},\"height\":{\"units\":\"data\",\"value\":1},\"line_color\":{\"value\":null},\"width\":{\"units\":\"data\",\"value\":1},\"x\":{\"field\":\"g0\"},\"y\":{\"field\":\"w0\"}},\"id\":\"1034\",\"type\":\"Rect\"},{\"attributes\":{\"data\":{\"albedo\":{\"__ndarray__\":\"yO/Jk5rX7T89JUa0/Ez1P+v6TnDNovo/RqvwDKfCAUBH7lW5R50DQCHU/wVHeAJAEEdg+FEuAkAAVX4IuS8CQAP1VL8iQwZA/nw3/IvDEMAFKZIjRPcNwHxgLEysmQLAmEdgXU5I9L//ih6KrZrZv0BM3twjtcE/LEFZxMEJ2T9zmWf4pJLmP6TkZXoaOQRAsVe1vprVIMCejBWsjgYkwAYxh/wZKSHAt8+hNYVNGcAKqNCCwVkOwHC2PAwhoAXAvYn4G+lwAMBJnwqLTu3wv4l4uTZZXwhAAgXJJOexGsButHqjKgonwIIKEeYGoSTA96RPzuSUHcDDaMk7orgUwAM1BLu+bAzA6FzXLgAzBcB9qIGUhOr4vwKrDYs1AQxAF9oUf5LzEsCNJ+ukBe4hwKvRWawMYiXAB5OsDhdCI8CrcjO83+0YwDGm8XPsZhLAkD+9dJEqDMA0xnhdUMkMwGWEHOYVeBJAcXRFdWvKEkCGB3eOsOILwALUxB3+VyjArYufW1hqJcAU+eHngwshwHzrhv/rABnAMTA8ZaZ8EsAEEzg/JlsCwKgu2HX/4RtA\",\"dtype\":\"float64\",\"order\":\"little\",\"shape\":[54]},\"g0\":[\"0.0\",\"0.0\",\"0.0\",\"0.0\",\"0.0\",\"0.0\",\"0.0\",\"0.0\",\"0.0\",\"0.5\",\"0.5\",\"0.5\",\"0.5\",\"0.5\",\"0.5\",\"0.5\",\"0.5\",\"0.5\",\"0.75\",\"0.75\",\"0.75\",\"0.75\",\"0.75\",\"0.75\",\"0.75\",\"0.75\",\"0.75\",\"0.8\",\"0.8\",\"0.8\",\"0.8\",\"0.8\",\"0.8\",\"0.8\",\"0.8\",\"0.8\",\"0.85\",\"0.85\",\"0.85\",\"0.85\",\"0.85\",\"0.85\",\"0.85\",\"0.85\",\"0.85\",\"0.9\",\"0.9\",\"0.9\",\"0.9\",\"0.9\",\"0.9\",\"0.9\",\"0.9\",\"0.9\"],\"index\":[0,1,2,3,4,5,6,7,8,9,10,11,12,13,14,15,16,17,18,19,20,21,22,23,24,25,26,27,28,29,30,31,32,33,34,35,36,37,38,39,40,41,42,43,44,45,46,47,48,49,50,51,52,53],\"w0\":[\"0.700\",\"0.800\",\"0.900\",\"0.950\",\"0.980\",\"0.990\",\"0.995\",\"0.999\",\"1.000\",\"0.700\",\"0.800\",\"0.900\",\"0.950\",\"0.980\",\"0.990\",\"0.995\",\"0.999\",\"1.000\",\"0.700\",\"0.800\",\"0.900\",\"0.950\",\"0.980\",\"0.990\",\"0.995\",\"0.999\",\"1.000\",\"0.700\",\"0.800\",\"0.900\",\"0.950\",\"0.980\",\"0.990\",\"0.995\",\"0.999\",\"1.000\",\"0.700\",\"0.800\",\"0.900\",\"0.950\",\"0.980\",\"0.990\",\"0.995\",\"0.999\",\"1.000\",\"0.700\",\"0.800\",\"0.900\",\"0.950\",\"0.980\",\"0.990\",\"0.995\",\"0.999\",\"1.000\"]},\"selected\":{\"id\":\"1050\"},\"selection_policy\":{\"id\":\"1049\"}},\"id\":\"1032\",\"type\":\"ColumnDataSource\"},{\"attributes\":{},\"id\":\"1044\",\"type\":\"CategoricalTickFormatter\"},{\"attributes\":{},\"id\":\"1046\",\"type\":\"CategoricalTickFormatter\"},{\"attributes\":{},\"id\":\"1050\",\"type\":\"Selection\"},{\"attributes\":{\"data_source\":{\"id\":\"1032\"},\"glyph\":{\"id\":\"1034\"},\"hover_glyph\":null,\"muted_glyph\":null,\"nonselection_glyph\":{\"id\":\"1035\"},\"selection_glyph\":null,\"view\":{\"id\":\"1037\"}},\"id\":\"1036\",\"type\":\"GlyphRenderer\"},{\"attributes\":{\"fill_alpha\":{\"value\":0.1},\"fill_color\":{\"field\":\"albedo\",\"transform\":{\"id\":\"1002\"}},\"height\":{\"units\":\"data\",\"value\":1},\"line_alpha\":{\"value\":0.1},\"line_color\":{\"value\":null},\"width\":{\"units\":\"data\",\"value\":1},\"x\":{\"field\":\"g0\"},\"y\":{\"field\":\"w0\"}},\"id\":\"1035\",\"type\":\"Rect\"},{\"attributes\":{\"axis_line_color\":null,\"formatter\":{\"id\":\"1046\"},\"major_label_orientation\":1.0471975511965976,\"major_label_standoff\":0,\"major_label_text_font_size\":\"12px\",\"major_tick_line_color\":null,\"ticker\":{\"id\":\"1013\"}},\"id\":\"1012\",\"type\":\"CategoricalAxis\"},{\"attributes\":{\"text\":\"\"},\"id\":\"1041\",\"type\":\"Title\"},{\"attributes\":{},\"id\":\"1016\",\"type\":\"CategoricalTicker\"},{\"attributes\":{\"source\":{\"id\":\"1032\"}},\"id\":\"1037\",\"type\":\"CDSView\"},{\"attributes\":{\"axis\":{\"id\":\"1012\"},\"grid_line_color\":null,\"ticker\":null},\"id\":\"1014\",\"type\":\"Grid\"},{\"attributes\":{},\"id\":\"1020\",\"type\":\"PanTool\"},{\"attributes\":{\"overlay\":{\"id\":\"1024\"}},\"id\":\"1021\",\"type\":\"BoxZoomTool\"},{\"attributes\":{\"high\":12.1718606283921,\"low\":-12.1718606283921,\"palette\":[\"#1a1a1a\",\"#4d4d4d\",\"#878787\",\"#bababa\",\"#e0e0e0\",\"#ffffff\",\"#fddbc7\",\"#f4a582\",\"#d6604d\",\"#b2182b\",\"#67001f\"]},\"id\":\"1002\",\"type\":\"LinearColorMapper\"},{\"attributes\":{\"axis\":{\"id\":\"1015\"},\"dimension\":1,\"grid_line_color\":null,\"ticker\":null},\"id\":\"1017\",\"type\":\"Grid\"},{\"attributes\":{\"desired_num_ticks\":11},\"id\":\"1038\",\"type\":\"BasicTicker\"},{\"attributes\":{\"axis_line_color\":null,\"formatter\":{\"id\":\"1044\"},\"major_label_standoff\":0,\"major_label_text_font_size\":\"12px\",\"major_tick_line_color\":null,\"ticker\":{\"id\":\"1016\"}},\"id\":\"1015\",\"type\":\"CategoricalAxis\"},{\"attributes\":{},\"id\":\"1008\",\"type\":\"CategoricalScale\"},{\"attributes\":{},\"id\":\"1013\",\"type\":\"CategoricalTicker\"},{\"attributes\":{\"color_mapper\":{\"id\":\"1002\"},\"formatter\":{\"id\":\"1047\"},\"label_standoff\":6,\"location\":[0,0],\"major_label_text_font_size\":\"12px\",\"ticker\":{\"id\":\"1038\"}},\"id\":\"1039\",\"type\":\"ColorBar\"}],\"root_ids\":[\"1003\"]},\"title\":\"Bokeh Application\",\"version\":\"2.2.1\"}};\n",
       "  var render_items = [{\"docid\":\"9633a8f9-0f08-4b1e-b02a-1c2c6d52c7bc\",\"root_ids\":[\"1003\"],\"roots\":{\"1003\":\"c619c583-990f-4763-90c1-17a9acd98cdf\"}}];\n",
       "  root.Bokeh.embed.embed_items_notebook(docs_json, render_items);\n",
       "\n",
       "  }\n",
       "  if (root.Bokeh !== undefined) {\n",
       "    embed_document(root);\n",
       "  } else {\n",
       "    var attempts = 0;\n",
       "    var timer = setInterval(function(root) {\n",
       "      if (root.Bokeh !== undefined) {\n",
       "        clearInterval(timer);\n",
       "        embed_document(root);\n",
       "      } else {\n",
       "        attempts++;\n",
       "        if (attempts > 100) {\n",
       "          clearInterval(timer);\n",
       "          console.log(\"Bokeh: ERROR: Unable to run BokehJS code because BokehJS library is missing\");\n",
       "        }\n",
       "      }\n",
       "    }, 10, root)\n",
       "  }\n",
       "})(window);"
      ],
      "application/vnd.bokehjs_exec.v0+json": ""
     },
     "metadata": {
      "application/vnd.bokehjs_exec.v0+json": {
       "id": "1003"
      }
     },
     "output_type": "display_data"
    }
   ],
   "source": [
    "show(jpi.create_heat_map(compare_quad, rayleigh=False))"
   ]
  },
  {
   "cell_type": "code",
   "execution_count": 6,
   "metadata": {},
   "outputs": [
    {
     "data": {
      "text/html": [
       "\n",
       "\n",
       "\n",
       "\n",
       "\n",
       "\n",
       "  <div class=\"bk-root\" id=\"ba178e8c-12fa-4e06-b7b6-4aa574f0ad40\" data-root-id=\"1102\"></div>\n"
      ]
     },
     "metadata": {},
     "output_type": "display_data"
    },
    {
     "data": {
      "application/javascript": [
       "(function(root) {\n",
       "  function embed_document(root) {\n",
       "    \n",
       "  var docs_json = {\"82e4ee07-356b-40f1-85fc-c2423f0c6cb7\":{\"roots\":{\"references\":[{\"attributes\":{\"above\":[{\"id\":\"1111\"}],\"center\":[{\"id\":\"1113\"},{\"id\":\"1116\"}],\"left\":[{\"id\":\"1114\"}],\"plot_height\":300,\"plot_width\":300,\"renderers\":[{\"id\":\"1135\"}],\"right\":[{\"id\":\"1138\"}],\"title\":{\"id\":\"1150\"},\"toolbar\":{\"id\":\"1124\"},\"toolbar_location\":\"below\",\"x_range\":{\"id\":\"1103\"},\"x_scale\":{\"id\":\"1107\"},\"y_range\":{\"id\":\"1105\"},\"y_scale\":{\"id\":\"1109\"}},\"id\":\"1102\",\"subtype\":\"Figure\",\"type\":\"Plot\"},{\"attributes\":{\"color_mapper\":{\"id\":\"1101\"},\"formatter\":{\"id\":\"1156\"},\"label_standoff\":6,\"location\":[0,0],\"major_label_text_font_size\":\"12px\",\"ticker\":{\"id\":\"1137\"}},\"id\":\"1138\",\"type\":\"ColorBar\"},{\"attributes\":{},\"id\":\"1158\",\"type\":\"UnionRenderers\"},{\"attributes\":{},\"id\":\"1121\",\"type\":\"ResetTool\"},{\"attributes\":{\"active_drag\":\"auto\",\"active_inspect\":\"auto\",\"active_multi\":null,\"active_scroll\":\"auto\",\"active_tap\":\"auto\",\"tools\":[{\"id\":\"1117\"},{\"id\":\"1118\"},{\"id\":\"1119\"},{\"id\":\"1120\"},{\"id\":\"1121\"},{\"id\":\"1122\"}]},\"id\":\"1124\",\"type\":\"Toolbar\"},{\"attributes\":{\"bottom_units\":\"screen\",\"fill_alpha\":0.5,\"fill_color\":\"lightgrey\",\"left_units\":\"screen\",\"level\":\"overlay\",\"line_alpha\":1.0,\"line_color\":\"black\",\"line_dash\":[4,4],\"line_width\":2,\"right_units\":\"screen\",\"top_units\":\"screen\"},\"id\":\"1123\",\"type\":\"BoxAnnotation\"},{\"attributes\":{\"fill_color\":{\"field\":\"albedo\",\"transform\":{\"id\":\"1101\"}},\"height\":{\"units\":\"data\",\"value\":1},\"line_color\":{\"value\":null},\"width\":{\"units\":\"data\",\"value\":1},\"x\":{\"field\":\"g0\"},\"y\":{\"field\":\"w0\"}},\"id\":\"1133\",\"type\":\"Rect\"},{\"attributes\":{},\"id\":\"1155\",\"type\":\"CategoricalTickFormatter\"},{\"attributes\":{},\"id\":\"1118\",\"type\":\"SaveTool\"},{\"attributes\":{},\"id\":\"1109\",\"type\":\"CategoricalScale\"},{\"attributes\":{\"axis\":{\"id\":\"1114\"},\"dimension\":1,\"grid_line_color\":null,\"ticker\":null},\"id\":\"1116\",\"type\":\"Grid\"},{\"attributes\":{\"factors\":[\"0.0\",\"0.5\",\"0.75\",\"0.8\",\"0.85\",\"0.9\"]},\"id\":\"1103\",\"type\":\"FactorRange\"},{\"attributes\":{},\"id\":\"1153\",\"type\":\"CategoricalTickFormatter\"},{\"attributes\":{},\"id\":\"1115\",\"type\":\"CategoricalTicker\"},{\"attributes\":{\"factors\":[\"0.700\",\"0.800\",\"0.900\",\"0.950\",\"0.980\",\"0.990\",\"0.995\",\"0.999\",\"1.000\"]},\"id\":\"1105\",\"type\":\"FactorRange\"},{\"attributes\":{},\"id\":\"1112\",\"type\":\"CategoricalTicker\"},{\"attributes\":{\"callback\":null},\"id\":\"1117\",\"type\":\"HoverTool\"},{\"attributes\":{\"axis\":{\"id\":\"1111\"},\"grid_line_color\":null,\"ticker\":null},\"id\":\"1113\",\"type\":\"Grid\"},{\"attributes\":{\"fill_alpha\":{\"value\":0.1},\"fill_color\":{\"field\":\"albedo\",\"transform\":{\"id\":\"1101\"}},\"height\":{\"units\":\"data\",\"value\":1},\"line_alpha\":{\"value\":0.1},\"line_color\":{\"value\":null},\"width\":{\"units\":\"data\",\"value\":1},\"x\":{\"field\":\"g0\"},\"y\":{\"field\":\"w0\"}},\"id\":\"1134\",\"type\":\"Rect\"},{\"attributes\":{},\"id\":\"1159\",\"type\":\"Selection\"},{\"attributes\":{},\"id\":\"1119\",\"type\":\"PanTool\"},{\"attributes\":{\"axis_line_color\":null,\"formatter\":{\"id\":\"1155\"},\"major_label_orientation\":1.0471975511965976,\"major_label_standoff\":0,\"major_label_text_font_size\":\"12px\",\"major_tick_line_color\":null,\"ticker\":{\"id\":\"1112\"}},\"id\":\"1111\",\"type\":\"CategoricalAxis\"},{\"attributes\":{\"data_source\":{\"id\":\"1131\"},\"glyph\":{\"id\":\"1133\"},\"hover_glyph\":null,\"muted_glyph\":null,\"nonselection_glyph\":{\"id\":\"1134\"},\"selection_glyph\":null,\"view\":{\"id\":\"1136\"}},\"id\":\"1135\",\"type\":\"GlyphRenderer\"},{\"attributes\":{\"text\":\"\"},\"id\":\"1150\",\"type\":\"Title\"},{\"attributes\":{},\"id\":\"1122\",\"type\":\"WheelZoomTool\"},{\"attributes\":{\"high\":40.643525029909696,\"low\":-40.643525029909696,\"palette\":[\"#1a1a1a\",\"#4d4d4d\",\"#878787\",\"#bababa\",\"#e0e0e0\",\"#ffffff\",\"#fddbc7\",\"#f4a582\",\"#d6604d\",\"#b2182b\",\"#67001f\"]},\"id\":\"1101\",\"type\":\"LinearColorMapper\"},{\"attributes\":{},\"id\":\"1107\",\"type\":\"CategoricalScale\"},{\"attributes\":{\"overlay\":{\"id\":\"1123\"}},\"id\":\"1120\",\"type\":\"BoxZoomTool\"},{\"attributes\":{\"desired_num_ticks\":11},\"id\":\"1137\",\"type\":\"BasicTicker\"},{\"attributes\":{\"source\":{\"id\":\"1131\"}},\"id\":\"1136\",\"type\":\"CDSView\"},{\"attributes\":{},\"id\":\"1156\",\"type\":\"BasicTickFormatter\"},{\"attributes\":{\"data\":{\"albedo\":{\"__ndarray__\":\"lEL5vvkv9z/s8NHGklj5PxbyoDc1Wvc/79qJOzIP+z8u+N7NwJj7P3H9HdF6yPg/md/M8ZiI+D8IgQgWAC/6P8dZnAKzUQJAz5zljtLxJcDxdVvXz8sjwAnmICNF8B3AmCtAxoMeF8Bnwbird58RwJQvcP0B9gzAwkt5YmmNCcD48q3TpQ8FwNo4TuCkReK/gygtCjzEPMBuDtbHOyo8wDAXjWUHKTbADb3fhpmsMMAxkL1l7XcnwNgy0oQQVSPArIu+xD/XIMB2r4rwRdkawMyWcIV8OgDAUTqJmTMaP8AK/EUu8hZBwPTKVQtXHDvAa784SJjIM8AYQ6Rw5MAswHkUYs740ybAZzUFNhlwI8BklwGzPusewKAPg0hOYP+/QHqT1s0RQcBIM6/ljmBCwMgHJikQ1D/Ak3AaD8wPOcAlqhaBOxExwBj5WONjNivAJooBZR7kJsBirJ0i8twkwLkKi9mgVfO/rBlbnPwgPMCkvHVactZCwE7PNgdfUkTAnts/uoX0PsCGCdRdrhY2wObcG2zc/jDAggu0kuhzK8CYQ4Ff8FIjwFFaWd2Fl+k/\",\"dtype\":\"float64\",\"order\":\"little\",\"shape\":[54]},\"g0\":[\"0.0\",\"0.0\",\"0.0\",\"0.0\",\"0.0\",\"0.0\",\"0.0\",\"0.0\",\"0.0\",\"0.5\",\"0.5\",\"0.5\",\"0.5\",\"0.5\",\"0.5\",\"0.5\",\"0.5\",\"0.5\",\"0.75\",\"0.75\",\"0.75\",\"0.75\",\"0.75\",\"0.75\",\"0.75\",\"0.75\",\"0.75\",\"0.8\",\"0.8\",\"0.8\",\"0.8\",\"0.8\",\"0.8\",\"0.8\",\"0.8\",\"0.8\",\"0.85\",\"0.85\",\"0.85\",\"0.85\",\"0.85\",\"0.85\",\"0.85\",\"0.85\",\"0.85\",\"0.9\",\"0.9\",\"0.9\",\"0.9\",\"0.9\",\"0.9\",\"0.9\",\"0.9\",\"0.9\"],\"index\":[0,1,2,3,4,5,6,7,8,9,10,11,12,13,14,15,16,17,18,19,20,21,22,23,24,25,26,27,28,29,30,31,32,33,34,35,36,37,38,39,40,41,42,43,44,45,46,47,48,49,50,51,52,53],\"w0\":[\"0.700\",\"0.800\",\"0.900\",\"0.950\",\"0.980\",\"0.990\",\"0.995\",\"0.999\",\"1.000\",\"0.700\",\"0.800\",\"0.900\",\"0.950\",\"0.980\",\"0.990\",\"0.995\",\"0.999\",\"1.000\",\"0.700\",\"0.800\",\"0.900\",\"0.950\",\"0.980\",\"0.990\",\"0.995\",\"0.999\",\"1.000\",\"0.700\",\"0.800\",\"0.900\",\"0.950\",\"0.980\",\"0.990\",\"0.995\",\"0.999\",\"1.000\",\"0.700\",\"0.800\",\"0.900\",\"0.950\",\"0.980\",\"0.990\",\"0.995\",\"0.999\",\"1.000\",\"0.700\",\"0.800\",\"0.900\",\"0.950\",\"0.980\",\"0.990\",\"0.995\",\"0.999\",\"1.000\"]},\"selected\":{\"id\":\"1159\"},\"selection_policy\":{\"id\":\"1158\"}},\"id\":\"1131\",\"type\":\"ColumnDataSource\"},{\"attributes\":{\"axis_line_color\":null,\"formatter\":{\"id\":\"1153\"},\"major_label_standoff\":0,\"major_label_text_font_size\":\"12px\",\"major_tick_line_color\":null,\"ticker\":{\"id\":\"1115\"}},\"id\":\"1114\",\"type\":\"CategoricalAxis\"}],\"root_ids\":[\"1102\"]},\"title\":\"Bokeh Application\",\"version\":\"2.2.1\"}};\n",
       "  var render_items = [{\"docid\":\"82e4ee07-356b-40f1-85fc-c2423f0c6cb7\",\"root_ids\":[\"1102\"],\"roots\":{\"1102\":\"ba178e8c-12fa-4e06-b7b6-4aa574f0ad40\"}}];\n",
       "  root.Bokeh.embed.embed_items_notebook(docs_json, render_items);\n",
       "\n",
       "  }\n",
       "  if (root.Bokeh !== undefined) {\n",
       "    embed_document(root);\n",
       "  } else {\n",
       "    var attempts = 0;\n",
       "    var timer = setInterval(function(root) {\n",
       "      if (root.Bokeh !== undefined) {\n",
       "        clearInterval(timer);\n",
       "        embed_document(root);\n",
       "      } else {\n",
       "        attempts++;\n",
       "        if (attempts > 100) {\n",
       "          clearInterval(timer);\n",
       "          console.log(\"Bokeh: ERROR: Unable to run BokehJS code because BokehJS library is missing\");\n",
       "        }\n",
       "      }\n",
       "    }, 10, root)\n",
       "  }\n",
       "})(window);"
      ],
      "application/vnd.bokehjs_exec.v0+json": ""
     },
     "metadata": {
      "application/vnd.bokehjs_exec.v0+json": {
       "id": "1102"
      }
     },
     "output_type": "display_data"
    }
   ],
   "source": [
    "show(jpi.create_heat_map(compare_SH4, rayleigh=False))"
   ]
  },
  {
   "cell_type": "code",
   "execution_count": 7,
   "metadata": {},
   "outputs": [
    {
     "data": {
      "text/html": [
       "\n",
       "\n",
       "\n",
       "\n",
       "\n",
       "\n",
       "  <div class=\"bk-root\" id=\"0bcdbf72-38f7-44cd-9b91-9e399d1f7074\" data-root-id=\"1211\"></div>\n"
      ]
     },
     "metadata": {},
     "output_type": "display_data"
    },
    {
     "data": {
      "application/javascript": [
       "(function(root) {\n",
       "  function embed_document(root) {\n",
       "    \n",
       "  var docs_json = {\"fab0f501-a108-4f4c-bc7d-1ef9deff5e00\":{\"roots\":{\"references\":[{\"attributes\":{\"above\":[{\"id\":\"1220\"}],\"center\":[{\"id\":\"1222\"},{\"id\":\"1225\"}],\"left\":[{\"id\":\"1223\"}],\"plot_height\":300,\"plot_width\":300,\"renderers\":[{\"id\":\"1244\"}],\"right\":[{\"id\":\"1247\"}],\"title\":{\"id\":\"1269\"},\"toolbar\":{\"id\":\"1233\"},\"toolbar_location\":\"below\",\"x_range\":{\"id\":\"1212\"},\"x_scale\":{\"id\":\"1216\"},\"y_range\":{\"id\":\"1214\"},\"y_scale\":{\"id\":\"1218\"}},\"id\":\"1211\",\"subtype\":\"Figure\",\"type\":\"Plot\"},{\"attributes\":{},\"id\":\"1230\",\"type\":\"ResetTool\"},{\"attributes\":{},\"id\":\"1231\",\"type\":\"WheelZoomTool\"},{\"attributes\":{\"high\":34.44462689364423,\"low\":-34.44462689364423,\"palette\":[\"#1a1a1a\",\"#4d4d4d\",\"#878787\",\"#bababa\",\"#e0e0e0\",\"#ffffff\",\"#fddbc7\",\"#f4a582\",\"#d6604d\",\"#b2182b\",\"#67001f\"]},\"id\":\"1210\",\"type\":\"LinearColorMapper\"},{\"attributes\":{\"callback\":null},\"id\":\"1226\",\"type\":\"HoverTool\"},{\"attributes\":{\"fill_alpha\":{\"value\":0.1},\"fill_color\":{\"field\":\"albedo\",\"transform\":{\"id\":\"1210\"}},\"height\":{\"units\":\"data\",\"value\":1},\"line_alpha\":{\"value\":0.1},\"line_color\":{\"value\":null},\"width\":{\"units\":\"data\",\"value\":1},\"x\":{\"field\":\"g0\"},\"y\":{\"field\":\"w0\"}},\"id\":\"1243\",\"type\":\"Rect\"},{\"attributes\":{},\"id\":\"1218\",\"type\":\"CategoricalScale\"},{\"attributes\":{},\"id\":\"1224\",\"type\":\"CategoricalTicker\"},{\"attributes\":{\"source\":{\"id\":\"1240\"}},\"id\":\"1245\",\"type\":\"CDSView\"},{\"attributes\":{\"text\":\"\"},\"id\":\"1269\",\"type\":\"Title\"},{\"attributes\":{\"data\":{\"albedo\":{\"__ndarray__\":\"DxfW5FI54L9pDzayPtrkv+0aGgvrNOi/Fi9Huj7j6L803x3XTdnnvyRJGh2UTuG/4bwDMpq2yr8901FePGbQPy3WUDwwsOA/jlxFyeE54z8YyHFc4d3kP2F3h75JveU/d7klhjny5T8qwkKLG28JwPIvQ/Xf5ArAFkQ9UHjLDMCCqmsH/hsOwJ4FjELp6g/AEwEirJnSEcC40qUPYisUwLm8ap+HuBfAaVafmMcIGsClUWyDy7YawPZlOOETDxvAQhAOAwcOG8B6uivl9K8awKm4Czc48BTA8Wn+c1VhFsBkJOk3yfIYwGloFP9lHhvAszI838aZHsAIXZ0+N3cjwNZaQE+EAynAJUMHOwOAMMAtjKGy/MQywMJWF4a7TjPAGHZ5LQp4M8Cyr/dyU0UzwDzXJ+qFuzLAzKR0UY+jFsCTd0NUsk8YwKlyAXnUixvA7zsUKGBdHsDtDlSVq3whwJMdvOj4ESfAdRmV6JNzLsBIBpi9l1E0wPZK8MV65jbABJe3m81bN8BFmsm67lA3wGx7qiDr0DbAsTK7y1nnNcDZhhrpRG4YwB42gNMyYhrA5iLs3PWeHsA7fjO7ITghwLhbuJ0SZiTAVJdpNX0nLMCBtSg7ZRgzwAiVdivOgDnAmN7yoj0SPMClAW/2US08wLXIwUZIoTvApq5OOEGHOsAwfwAulvc4wIs60KqLiBrA0ztH3BTPHMD0J+S7p2chwCjSLBidOSTAl+AiJWAAKcDr6/Z5A0oywMF/yZjWYTnAcSUljd+EQMDgj7eI6ThBwE2qSi+WwUDAACusHVrQP8BEfY+noo49wBBrMG136zrA\",\"dtype\":\"float64\",\"order\":\"little\",\"shape\":[78]},\"g0\":[\"0.0\",\"0.0\",\"0.0\",\"0.0\",\"0.0\",\"0.0\",\"0.0\",\"0.0\",\"0.0\",\"0.0\",\"0.0\",\"0.0\",\"0.0\",\"0.5\",\"0.5\",\"0.5\",\"0.5\",\"0.5\",\"0.5\",\"0.5\",\"0.5\",\"0.5\",\"0.5\",\"0.5\",\"0.5\",\"0.5\",\"0.75\",\"0.75\",\"0.75\",\"0.75\",\"0.75\",\"0.75\",\"0.75\",\"0.75\",\"0.75\",\"0.75\",\"0.75\",\"0.75\",\"0.75\",\"0.8\",\"0.8\",\"0.8\",\"0.8\",\"0.8\",\"0.8\",\"0.8\",\"0.8\",\"0.8\",\"0.8\",\"0.8\",\"0.8\",\"0.8\",\"0.85\",\"0.85\",\"0.85\",\"0.85\",\"0.85\",\"0.85\",\"0.85\",\"0.85\",\"0.85\",\"0.85\",\"0.85\",\"0.85\",\"0.85\",\"0.9\",\"0.9\",\"0.9\",\"0.9\",\"0.9\",\"0.9\",\"0.9\",\"0.9\",\"0.9\",\"0.9\",\"0.9\",\"0.9\",\"0.9\"],\"index\":[0,1,2,3,4,5,6,7,8,9,10,11,12,13,14,15,16,17,18,19,20,21,22,23,24,25,26,27,28,29,30,31,32,33,34,35,36,37,38,39,40,41,42,43,44,45,46,47,48,49,50,51,52,53,54,55,56,57,58,59,60,61,62,63,64,65,66,67,68,69,70,71,72,73,74,75,76,77],\"w0\":[\"1.000\",\"0.999\",\"0.995\",\"0.990\",\"0.980\",\"0.950\",\"0.900\",\"0.800\",\"0.700\",\"0.65\",\"0.60\",\"0.55\",\"0.50\",\"1.000\",\"0.999\",\"0.995\",\"0.990\",\"0.980\",\"0.950\",\"0.900\",\"0.800\",\"0.700\",\"0.65\",\"0.60\",\"0.55\",\"0.50\",\"1.000\",\"0.999\",\"0.995\",\"0.990\",\"0.980\",\"0.950\",\"0.900\",\"0.800\",\"0.700\",\"0.65\",\"0.60\",\"0.55\",\"0.50\",\"1.000\",\"0.999\",\"0.995\",\"0.990\",\"0.980\",\"0.950\",\"0.900\",\"0.800\",\"0.700\",\"0.65\",\"0.60\",\"0.55\",\"0.50\",\"1.000\",\"0.999\",\"0.995\",\"0.990\",\"0.980\",\"0.950\",\"0.900\",\"0.800\",\"0.700\",\"0.65\",\"0.60\",\"0.55\",\"0.50\",\"1.000\",\"0.999\",\"0.995\",\"0.990\",\"0.980\",\"0.950\",\"0.900\",\"0.800\",\"0.700\",\"0.65\",\"0.60\",\"0.55\",\"0.50\"]},\"selected\":{\"id\":\"1278\"},\"selection_policy\":{\"id\":\"1277\"}},\"id\":\"1240\",\"type\":\"ColumnDataSource\"},{\"attributes\":{\"overlay\":{\"id\":\"1232\"}},\"id\":\"1229\",\"type\":\"BoxZoomTool\"},{\"attributes\":{\"factors\":[\"0.0\",\"0.5\",\"0.75\",\"0.8\",\"0.85\",\"0.9\"]},\"id\":\"1212\",\"type\":\"FactorRange\"},{\"attributes\":{},\"id\":\"1216\",\"type\":\"CategoricalScale\"},{\"attributes\":{\"active_drag\":\"auto\",\"active_inspect\":\"auto\",\"active_multi\":null,\"active_scroll\":\"auto\",\"active_tap\":\"auto\",\"tools\":[{\"id\":\"1226\"},{\"id\":\"1227\"},{\"id\":\"1228\"},{\"id\":\"1229\"},{\"id\":\"1230\"},{\"id\":\"1231\"}]},\"id\":\"1233\",\"type\":\"Toolbar\"},{\"attributes\":{\"color_mapper\":{\"id\":\"1210\"},\"formatter\":{\"id\":\"1275\"},\"label_standoff\":6,\"location\":[0,0],\"major_label_text_font_size\":\"12px\",\"ticker\":{\"id\":\"1246\"}},\"id\":\"1247\",\"type\":\"ColorBar\"},{\"attributes\":{\"data_source\":{\"id\":\"1240\"},\"glyph\":{\"id\":\"1242\"},\"hover_glyph\":null,\"muted_glyph\":null,\"nonselection_glyph\":{\"id\":\"1243\"},\"selection_glyph\":null,\"view\":{\"id\":\"1245\"}},\"id\":\"1244\",\"type\":\"GlyphRenderer\"},{\"attributes\":{},\"id\":\"1228\",\"type\":\"PanTool\"},{\"attributes\":{},\"id\":\"1221\",\"type\":\"CategoricalTicker\"},{\"attributes\":{\"axis\":{\"id\":\"1223\"},\"dimension\":1,\"grid_line_color\":null,\"ticker\":null},\"id\":\"1225\",\"type\":\"Grid\"},{\"attributes\":{\"axis_line_color\":null,\"formatter\":{\"id\":\"1272\"},\"major_label_standoff\":0,\"major_label_text_font_size\":\"12px\",\"major_tick_line_color\":null,\"ticker\":{\"id\":\"1224\"}},\"id\":\"1223\",\"type\":\"CategoricalAxis\"},{\"attributes\":{},\"id\":\"1277\",\"type\":\"UnionRenderers\"},{\"attributes\":{},\"id\":\"1275\",\"type\":\"BasicTickFormatter\"},{\"attributes\":{},\"id\":\"1274\",\"type\":\"CategoricalTickFormatter\"},{\"attributes\":{\"factors\":[\"0.50\",\"0.55\",\"0.60\",\"0.65\",\"0.700\",\"0.800\",\"0.900\",\"0.950\",\"0.980\",\"0.990\",\"0.995\",\"0.999\",\"1.000\"]},\"id\":\"1214\",\"type\":\"FactorRange\"},{\"attributes\":{},\"id\":\"1227\",\"type\":\"SaveTool\"},{\"attributes\":{\"axis_line_color\":null,\"formatter\":{\"id\":\"1274\"},\"major_label_orientation\":1.0471975511965976,\"major_label_standoff\":0,\"major_label_text_font_size\":\"12px\",\"major_tick_line_color\":null,\"ticker\":{\"id\":\"1221\"}},\"id\":\"1220\",\"type\":\"CategoricalAxis\"},{\"attributes\":{\"bottom_units\":\"screen\",\"fill_alpha\":0.5,\"fill_color\":\"lightgrey\",\"left_units\":\"screen\",\"level\":\"overlay\",\"line_alpha\":1.0,\"line_color\":\"black\",\"line_dash\":[4,4],\"line_width\":2,\"right_units\":\"screen\",\"top_units\":\"screen\"},\"id\":\"1232\",\"type\":\"BoxAnnotation\"},{\"attributes\":{},\"id\":\"1272\",\"type\":\"CategoricalTickFormatter\"},{\"attributes\":{\"desired_num_ticks\":11},\"id\":\"1246\",\"type\":\"BasicTicker\"},{\"attributes\":{\"fill_color\":{\"field\":\"albedo\",\"transform\":{\"id\":\"1210\"}},\"height\":{\"units\":\"data\",\"value\":1},\"line_color\":{\"value\":null},\"width\":{\"units\":\"data\",\"value\":1},\"x\":{\"field\":\"g0\"},\"y\":{\"field\":\"w0\"}},\"id\":\"1242\",\"type\":\"Rect\"},{\"attributes\":{},\"id\":\"1278\",\"type\":\"Selection\"},{\"attributes\":{\"axis\":{\"id\":\"1220\"},\"grid_line_color\":null,\"ticker\":null},\"id\":\"1222\",\"type\":\"Grid\"}],\"root_ids\":[\"1211\"]},\"title\":\"Bokeh Application\",\"version\":\"2.2.1\"}};\n",
       "  var render_items = [{\"docid\":\"fab0f501-a108-4f4c-bc7d-1ef9deff5e00\",\"root_ids\":[\"1211\"],\"roots\":{\"1211\":\"0bcdbf72-38f7-44cd-9b91-9e399d1f7074\"}}];\n",
       "  root.Bokeh.embed.embed_items_notebook(docs_json, render_items);\n",
       "\n",
       "  }\n",
       "  if (root.Bokeh !== undefined) {\n",
       "    embed_document(root);\n",
       "  } else {\n",
       "    var attempts = 0;\n",
       "    var timer = setInterval(function(root) {\n",
       "      if (root.Bokeh !== undefined) {\n",
       "        clearInterval(timer);\n",
       "        embed_document(root);\n",
       "      } else {\n",
       "        attempts++;\n",
       "        if (attempts > 100) {\n",
       "          clearInterval(timer);\n",
       "          console.log(\"Bokeh: ERROR: Unable to run BokehJS code because BokehJS library is missing\");\n",
       "        }\n",
       "      }\n",
       "    }, 10, root)\n",
       "  }\n",
       "})(window);"
      ],
      "application/vnd.bokehjs_exec.v0+json": ""
     },
     "metadata": {
      "application/vnd.bokehjs_exec.v0+json": {
       "id": "1211"
      }
     },
     "output_type": "display_data"
    }
   ],
   "source": [
    "show(jpi.create_heat_map(quad_SH4, rayleigh=False))"
   ]
  },
  {
   "cell_type": "code",
   "execution_count": 8,
   "metadata": {},
   "outputs": [
    {
     "data": {
      "text/html": [
       "\n",
       "\n",
       "\n",
       "\n",
       "\n",
       "\n",
       "  <div class=\"bk-root\" id=\"25d597d5-114d-4231-85be-012308e0ac7b\" data-root-id=\"1329\"></div>\n"
      ]
     },
     "metadata": {},
     "output_type": "display_data"
    },
    {
     "data": {
      "application/javascript": [
       "(function(root) {\n",
       "  function embed_document(root) {\n",
       "    \n",
       "  var docs_json = {\"1a716160-5539-4eb0-a9a1-da89ed0ddbc1\":{\"roots\":{\"references\":[{\"attributes\":{\"below\":[{\"id\":\"1340\"}],\"center\":[{\"id\":\"1343\"},{\"id\":\"1347\"},{\"id\":\"1377\"}],\"left\":[{\"id\":\"1344\"}],\"output_backend\":\"webgl\",\"plot_height\":500,\"plot_width\":900,\"renderers\":[{\"id\":\"1368\"},{\"id\":\"1385\"},{\"id\":\"1403\"},{\"id\":\"1423\"},{\"id\":\"1445\"}],\"sizing_mode\":\"fixed\",\"title\":{\"id\":\"1330\"},\"toolbar\":{\"id\":\"1355\"},\"x_range\":{\"id\":\"1332\"},\"x_scale\":{\"id\":\"1336\"},\"y_range\":{\"id\":\"1334\"},\"y_scale\":{\"id\":\"1338\"}},\"id\":\"1329\",\"subtype\":\"Figure\",\"type\":\"Plot\"},{\"attributes\":{\"data_source\":{\"id\":\"1441\"},\"glyph\":{\"id\":\"1443\"},\"hover_glyph\":null,\"muted_glyph\":null,\"nonselection_glyph\":{\"id\":\"1444\"},\"selection_glyph\":null,\"view\":{\"id\":\"1446\"}},\"id\":\"1445\",\"type\":\"GlyphRenderer\"},{\"attributes\":{\"label\":{\"value\":\" g=0.9\"},\"renderers\":[{\"id\":\"1445\"}]},\"id\":\"1462\",\"type\":\"LegendItem\"},{\"attributes\":{},\"id\":\"1394\",\"type\":\"UnionRenderers\"},{\"attributes\":{},\"id\":\"1375\",\"type\":\"UnionRenderers\"},{\"attributes\":{\"text\":\"\"},\"id\":\"1330\",\"type\":\"Title\"},{\"attributes\":{},\"id\":\"1345\",\"type\":\"BasicTicker\"},{\"attributes\":{},\"id\":\"1415\",\"type\":\"Selection\"},{\"attributes\":{},\"id\":\"1436\",\"type\":\"UnionRenderers\"},{\"attributes\":{\"source\":{\"id\":\"1381\"}},\"id\":\"1386\",\"type\":\"CDSView\"},{\"attributes\":{\"line_color\":\"#d62728\",\"line_width\":2,\"x\":{\"field\":\"__x__values\"},\"y\":{\"field\":\"g=0.85\"}},\"id\":\"1421\",\"type\":\"Line\"},{\"attributes\":{},\"id\":\"1349\",\"type\":\"WheelZoomTool\"},{\"attributes\":{\"data\":{\"__x__values\":[0,1,2,3,4,5,6,7,8],\"__x__values_original\":[\"1.000\",\"0.999\",\"0.995\",\"0.990\",\"0.980\",\"0.950\",\"0.900\",\"0.800\",\"0.700\"],\"g=0.5\":{\"__ndarray__\":\"pORleho5BEBzmWf4pJLmPyxBWcTBCdk/QEze3CO1wT//ih6KrZrZv5hHYF1OSPS/fGAsTKyZAsAFKZIjRPcNwP58N/yLwxDA\",\"dtype\":\"float64\",\"order\":\"little\",\"shape\":[9]},\"g=0.75\":{\"__ndarray__\":\"iXi5NllfCEBJnwqLTu3wv72J+BvpcADAcLY8DCGgBcAKqNCCwVkOwLfPoTWFTRnABjGH/BkpIcCejBWsjgYkwLFXtb6a1SDA\",\"dtype\":\"float64\",\"order\":\"little\",\"shape\":[9]},\"g=0.8\":{\"__ndarray__\":\"AqsNizUBDEB9qIGUhOr4v+hc1y4AMwXAAzUEu75sDMDDaMk7orgUwPekT87klB3AggoR5gahJMButHqjKgonwAIFySTnsRrA\",\"dtype\":\"float64\",\"order\":\"little\",\"shape\":[9]},\"g=0.85\":{\"__ndarray__\":\"ZYQc5hV4EkA0xnhdUMkMwJA/vXSRKgzAMabxc+xmEsCrcjO83+0YwAeTrA4XQiPAq9FZrAxiJcCNJ+ukBe4hwBfaFH+S8xLA\",\"dtype\":\"float64\",\"order\":\"little\",\"shape\":[9]},\"g=0.9\":{\"__ndarray__\":\"qC7Ydf/hG0AEEzg/JlsCwDEwPGWmfBLAfOuG/+sAGcAU+eHngwshwK2Ln1tYaiXAAtTEHf5XKMCGB3eOsOILwHF0RXVryhJA\",\"dtype\":\"float64\",\"order\":\"little\",\"shape\":[9]}},\"selected\":{\"id\":\"1376\"},\"selection_policy\":{\"id\":\"1375\"}},\"id\":\"1364\",\"type\":\"ColumnDataSource\"},{\"attributes\":{\"source\":{\"id\":\"1441\"}},\"id\":\"1446\",\"type\":\"CDSView\"},{\"attributes\":{\"active_drag\":null,\"active_inspect\":\"auto\",\"active_multi\":null,\"active_scroll\":null,\"active_tap\":\"auto\",\"tools\":[{\"id\":\"1348\"},{\"id\":\"1349\"},{\"id\":\"1350\"},{\"id\":\"1351\"},{\"id\":\"1352\"},{\"id\":\"1353\"},{\"id\":\"1379\"},{\"id\":\"1397\"},{\"id\":\"1417\"},{\"id\":\"1439\"},{\"id\":\"1463\"}]},\"id\":\"1355\",\"type\":\"Toolbar\"},{\"attributes\":{\"line_alpha\":0.1,\"line_color\":\"#1f77b4\",\"line_width\":2,\"x\":{\"field\":\"__x__values\"},\"y\":{\"field\":\"g=0.5\"}},\"id\":\"1367\",\"type\":\"Line\"},{\"attributes\":{\"line_color\":\"#ff7f0e\",\"line_width\":2,\"x\":{\"field\":\"__x__values\"},\"y\":{\"field\":\"g=0.75\"}},\"id\":\"1383\",\"type\":\"Line\"},{\"attributes\":{\"line_alpha\":0.1,\"line_color\":\"#2ca02c\",\"line_width\":2,\"x\":{\"field\":\"__x__values\"},\"y\":{\"field\":\"g=0.8\"}},\"id\":\"1402\",\"type\":\"Line\"},{\"attributes\":{\"data\":{\"__x__values\":[0,1,2,3,4,5,6,7,8],\"__x__values_original\":[\"1.000\",\"0.999\",\"0.995\",\"0.990\",\"0.980\",\"0.950\",\"0.900\",\"0.800\",\"0.700\"],\"g=0.5\":{\"__ndarray__\":\"pORleho5BEBzmWf4pJLmPyxBWcTBCdk/QEze3CO1wT//ih6KrZrZv5hHYF1OSPS/fGAsTKyZAsAFKZIjRPcNwP58N/yLwxDA\",\"dtype\":\"float64\",\"order\":\"little\",\"shape\":[9]},\"g=0.75\":{\"__ndarray__\":\"iXi5NllfCEBJnwqLTu3wv72J+BvpcADAcLY8DCGgBcAKqNCCwVkOwLfPoTWFTRnABjGH/BkpIcCejBWsjgYkwLFXtb6a1SDA\",\"dtype\":\"float64\",\"order\":\"little\",\"shape\":[9]},\"g=0.8\":{\"__ndarray__\":\"AqsNizUBDEB9qIGUhOr4v+hc1y4AMwXAAzUEu75sDMDDaMk7orgUwPekT87klB3AggoR5gahJMButHqjKgonwAIFySTnsRrA\",\"dtype\":\"float64\",\"order\":\"little\",\"shape\":[9]},\"g=0.85\":{\"__ndarray__\":\"ZYQc5hV4EkA0xnhdUMkMwJA/vXSRKgzAMabxc+xmEsCrcjO83+0YwAeTrA4XQiPAq9FZrAxiJcCNJ+ukBe4hwBfaFH+S8xLA\",\"dtype\":\"float64\",\"order\":\"little\",\"shape\":[9]},\"g=0.9\":{\"__ndarray__\":\"qC7Ydf/hG0AEEzg/JlsCwDEwPGWmfBLAfOuG/+sAGcAU+eHngwshwK2Ln1tYaiXAAtTEHf5XKMCGB3eOsOILwHF0RXVryhJA\",\"dtype\":\"float64\",\"order\":\"little\",\"shape\":[9]}},\"selected\":{\"id\":\"1461\"},\"selection_policy\":{\"id\":\"1460\"}},\"id\":\"1441\",\"type\":\"ColumnDataSource\"},{\"attributes\":{\"bottom_units\":\"screen\",\"fill_alpha\":0.5,\"fill_color\":\"lightgrey\",\"left_units\":\"screen\",\"level\":\"overlay\",\"line_alpha\":1.0,\"line_color\":\"black\",\"line_dash\":[4,4],\"line_width\":2,\"right_units\":\"screen\",\"top_units\":\"screen\"},\"id\":\"1354\",\"type\":\"BoxAnnotation\"},{\"attributes\":{},\"id\":\"1395\",\"type\":\"Selection\"},{\"attributes\":{\"axis_label\":\"w0\",\"formatter\":{\"id\":\"1362\"},\"ticker\":{\"id\":\"1465\"}},\"id\":\"1340\",\"type\":\"LinearAxis\"},{\"attributes\":{\"line_color\":\"#2ca02c\",\"line_width\":2,\"x\":{\"field\":\"__x__values\"},\"y\":{\"field\":\"g=0.8\"}},\"id\":\"1401\",\"type\":\"Line\"},{\"attributes\":{},\"id\":\"1414\",\"type\":\"UnionRenderers\"},{\"attributes\":{},\"id\":\"1336\",\"type\":\"LinearScale\"},{\"attributes\":{\"callback\":null,\"mode\":\"vline\",\"renderers\":[{\"id\":\"1385\"}],\"tooltips\":[[\"w0\",\"@__x__values_original\"],[\"g=0.75\",\"@{g=0.75}\"]]},\"id\":\"1397\",\"type\":\"HoverTool\"},{\"attributes\":{\"data\":{\"__x__values\":[0,1,2,3,4,5,6,7,8],\"__x__values_original\":[\"1.000\",\"0.999\",\"0.995\",\"0.990\",\"0.980\",\"0.950\",\"0.900\",\"0.800\",\"0.700\"],\"g=0.5\":{\"__ndarray__\":\"pORleho5BEBzmWf4pJLmPyxBWcTBCdk/QEze3CO1wT//ih6KrZrZv5hHYF1OSPS/fGAsTKyZAsAFKZIjRPcNwP58N/yLwxDA\",\"dtype\":\"float64\",\"order\":\"little\",\"shape\":[9]},\"g=0.75\":{\"__ndarray__\":\"iXi5NllfCEBJnwqLTu3wv72J+BvpcADAcLY8DCGgBcAKqNCCwVkOwLfPoTWFTRnABjGH/BkpIcCejBWsjgYkwLFXtb6a1SDA\",\"dtype\":\"float64\",\"order\":\"little\",\"shape\":[9]},\"g=0.8\":{\"__ndarray__\":\"AqsNizUBDEB9qIGUhOr4v+hc1y4AMwXAAzUEu75sDMDDaMk7orgUwPekT87klB3AggoR5gahJMButHqjKgonwAIFySTnsRrA\",\"dtype\":\"float64\",\"order\":\"little\",\"shape\":[9]},\"g=0.85\":{\"__ndarray__\":\"ZYQc5hV4EkA0xnhdUMkMwJA/vXSRKgzAMabxc+xmEsCrcjO83+0YwAeTrA4XQiPAq9FZrAxiJcCNJ+ukBe4hwBfaFH+S8xLA\",\"dtype\":\"float64\",\"order\":\"little\",\"shape\":[9]},\"g=0.9\":{\"__ndarray__\":\"qC7Ydf/hG0AEEzg/JlsCwDEwPGWmfBLAfOuG/+sAGcAU+eHngwshwK2Ln1tYaiXAAtTEHf5XKMCGB3eOsOILwHF0RXVryhJA\",\"dtype\":\"float64\",\"order\":\"little\",\"shape\":[9]}},\"selected\":{\"id\":\"1437\"},\"selection_policy\":{\"id\":\"1436\"}},\"id\":\"1419\",\"type\":\"ColumnDataSource\"},{\"attributes\":{},\"id\":\"1372\",\"type\":\"BasicTickFormatter\"},{\"attributes\":{},\"id\":\"1348\",\"type\":\"PanTool\"},{\"attributes\":{},\"id\":\"1351\",\"type\":\"SaveTool\"},{\"attributes\":{\"data_source\":{\"id\":\"1364\"},\"glyph\":{\"id\":\"1366\"},\"hover_glyph\":null,\"muted_glyph\":null,\"nonselection_glyph\":{\"id\":\"1367\"},\"selection_glyph\":null,\"view\":{\"id\":\"1369\"}},\"id\":\"1368\",\"type\":\"GlyphRenderer\"},{\"attributes\":{\"data_source\":{\"id\":\"1419\"},\"glyph\":{\"id\":\"1421\"},\"hover_glyph\":null,\"muted_glyph\":null,\"nonselection_glyph\":{\"id\":\"1422\"},\"selection_glyph\":null,\"view\":{\"id\":\"1424\"}},\"id\":\"1423\",\"type\":\"GlyphRenderer\"},{\"attributes\":{},\"id\":\"1461\",\"type\":\"Selection\"},{\"attributes\":{\"formatter\":{\"id\":\"1372\"},\"ticker\":{\"id\":\"1345\"}},\"id\":\"1344\",\"type\":\"LinearAxis\"},{\"attributes\":{\"data_source\":{\"id\":\"1399\"},\"glyph\":{\"id\":\"1401\"},\"hover_glyph\":null,\"muted_glyph\":null,\"nonselection_glyph\":{\"id\":\"1402\"},\"selection_glyph\":null,\"view\":{\"id\":\"1404\"}},\"id\":\"1403\",\"type\":\"GlyphRenderer\"},{\"attributes\":{\"source\":{\"id\":\"1364\"}},\"id\":\"1369\",\"type\":\"CDSView\"},{\"attributes\":{},\"id\":\"1332\",\"type\":\"DataRange1d\"},{\"attributes\":{},\"id\":\"1353\",\"type\":\"HelpTool\"},{\"attributes\":{\"callback\":null,\"mode\":\"vline\",\"renderers\":[{\"id\":\"1368\"}],\"tooltips\":[[\"w0\",\"@__x__values_original\"],[\"g=0.5\",\"@{g=0.5}\"]]},\"id\":\"1379\",\"type\":\"HoverTool\"},{\"attributes\":{\"callback\":null,\"mode\":\"vline\",\"renderers\":[{\"id\":\"1423\"}],\"tooltips\":[[\"w0\",\"@__x__values_original\"],[\"g=0.85\",\"@{g=0.85}\"]]},\"id\":\"1439\",\"type\":\"HoverTool\"},{\"attributes\":{},\"id\":\"1334\",\"type\":\"DataRange1d\"},{\"attributes\":{\"line_alpha\":0.1,\"line_color\":\"#ff7f0e\",\"line_width\":2,\"x\":{\"field\":\"__x__values\"},\"y\":{\"field\":\"g=0.75\"}},\"id\":\"1384\",\"type\":\"Line\"},{\"attributes\":{},\"id\":\"1376\",\"type\":\"Selection\"},{\"attributes\":{\"label\":{\"value\":\" g=0.8\"},\"renderers\":[{\"id\":\"1403\"}]},\"id\":\"1416\",\"type\":\"LegendItem\"},{\"attributes\":{},\"id\":\"1338\",\"type\":\"LinearScale\"},{\"attributes\":{\"callback\":null,\"mode\":\"vline\",\"renderers\":[{\"id\":\"1403\"}],\"tooltips\":[[\"w0\",\"@__x__values_original\"],[\"g=0.8\",\"@{g=0.8}\"]]},\"id\":\"1417\",\"type\":\"HoverTool\"},{\"attributes\":{\"callback\":null,\"mode\":\"vline\",\"renderers\":[{\"id\":\"1445\"}],\"tooltips\":[[\"w0\",\"@__x__values_original\"],[\"g=0.9\",\"@{g=0.9}\"]]},\"id\":\"1463\",\"type\":\"HoverTool\"},{\"attributes\":{\"data\":{\"__x__values\":[0,1,2,3,4,5,6,7,8],\"__x__values_original\":[\"1.000\",\"0.999\",\"0.995\",\"0.990\",\"0.980\",\"0.950\",\"0.900\",\"0.800\",\"0.700\"],\"g=0.5\":{\"__ndarray__\":\"pORleho5BEBzmWf4pJLmPyxBWcTBCdk/QEze3CO1wT//ih6KrZrZv5hHYF1OSPS/fGAsTKyZAsAFKZIjRPcNwP58N/yLwxDA\",\"dtype\":\"float64\",\"order\":\"little\",\"shape\":[9]},\"g=0.75\":{\"__ndarray__\":\"iXi5NllfCEBJnwqLTu3wv72J+BvpcADAcLY8DCGgBcAKqNCCwVkOwLfPoTWFTRnABjGH/BkpIcCejBWsjgYkwLFXtb6a1SDA\",\"dtype\":\"float64\",\"order\":\"little\",\"shape\":[9]},\"g=0.8\":{\"__ndarray__\":\"AqsNizUBDEB9qIGUhOr4v+hc1y4AMwXAAzUEu75sDMDDaMk7orgUwPekT87klB3AggoR5gahJMButHqjKgonwAIFySTnsRrA\",\"dtype\":\"float64\",\"order\":\"little\",\"shape\":[9]},\"g=0.85\":{\"__ndarray__\":\"ZYQc5hV4EkA0xnhdUMkMwJA/vXSRKgzAMabxc+xmEsCrcjO83+0YwAeTrA4XQiPAq9FZrAxiJcCNJ+ukBe4hwBfaFH+S8xLA\",\"dtype\":\"float64\",\"order\":\"little\",\"shape\":[9]},\"g=0.9\":{\"__ndarray__\":\"qC7Ydf/hG0AEEzg/JlsCwDEwPGWmfBLAfOuG/+sAGcAU+eHngwshwK2Ln1tYaiXAAtTEHf5XKMCGB3eOsOILwHF0RXVryhJA\",\"dtype\":\"float64\",\"order\":\"little\",\"shape\":[9]}},\"selected\":{\"id\":\"1415\"},\"selection_policy\":{\"id\":\"1414\"}},\"id\":\"1399\",\"type\":\"ColumnDataSource\"},{\"attributes\":{\"line_color\":\"#1f77b4\",\"line_width\":2,\"x\":{\"field\":\"__x__values\"},\"y\":{\"field\":\"g=0.5\"}},\"id\":\"1366\",\"type\":\"Line\"},{\"attributes\":{\"ticks\":[0,1,2,3,4,5,6,7,8]},\"id\":\"1465\",\"type\":\"FixedTicker\"},{\"attributes\":{\"overlay\":{\"id\":\"1354\"}},\"id\":\"1350\",\"type\":\"BoxZoomTool\"},{\"attributes\":{\"data\":{\"__x__values\":[0,1,2,3,4,5,6,7,8],\"__x__values_original\":[\"1.000\",\"0.999\",\"0.995\",\"0.990\",\"0.980\",\"0.950\",\"0.900\",\"0.800\",\"0.700\"],\"g=0.5\":{\"__ndarray__\":\"pORleho5BEBzmWf4pJLmPyxBWcTBCdk/QEze3CO1wT//ih6KrZrZv5hHYF1OSPS/fGAsTKyZAsAFKZIjRPcNwP58N/yLwxDA\",\"dtype\":\"float64\",\"order\":\"little\",\"shape\":[9]},\"g=0.75\":{\"__ndarray__\":\"iXi5NllfCEBJnwqLTu3wv72J+BvpcADAcLY8DCGgBcAKqNCCwVkOwLfPoTWFTRnABjGH/BkpIcCejBWsjgYkwLFXtb6a1SDA\",\"dtype\":\"float64\",\"order\":\"little\",\"shape\":[9]},\"g=0.8\":{\"__ndarray__\":\"AqsNizUBDEB9qIGUhOr4v+hc1y4AMwXAAzUEu75sDMDDaMk7orgUwPekT87klB3AggoR5gahJMButHqjKgonwAIFySTnsRrA\",\"dtype\":\"float64\",\"order\":\"little\",\"shape\":[9]},\"g=0.85\":{\"__ndarray__\":\"ZYQc5hV4EkA0xnhdUMkMwJA/vXSRKgzAMabxc+xmEsCrcjO83+0YwAeTrA4XQiPAq9FZrAxiJcCNJ+ukBe4hwBfaFH+S8xLA\",\"dtype\":\"float64\",\"order\":\"little\",\"shape\":[9]},\"g=0.9\":{\"__ndarray__\":\"qC7Ydf/hG0AEEzg/JlsCwDEwPGWmfBLAfOuG/+sAGcAU+eHngwshwK2Ln1tYaiXAAtTEHf5XKMCGB3eOsOILwHF0RXVryhJA\",\"dtype\":\"float64\",\"order\":\"little\",\"shape\":[9]}},\"selected\":{\"id\":\"1395\"},\"selection_policy\":{\"id\":\"1394\"}},\"id\":\"1381\",\"type\":\"ColumnDataSource\"},{\"attributes\":{\"axis\":{\"id\":\"1340\"},\"ticker\":null},\"id\":\"1343\",\"type\":\"Grid\"},{\"attributes\":{\"line_alpha\":0.1,\"line_color\":\"#d62728\",\"line_width\":2,\"x\":{\"field\":\"__x__values\"},\"y\":{\"field\":\"g=0.85\"}},\"id\":\"1422\",\"type\":\"Line\"},{\"attributes\":{\"line_alpha\":0.1,\"line_color\":\"#9467bd\",\"line_width\":2,\"x\":{\"field\":\"__x__values\"},\"y\":{\"field\":\"g=0.9\"}},\"id\":\"1444\",\"type\":\"Line\"},{\"attributes\":{},\"id\":\"1460\",\"type\":\"UnionRenderers\"},{\"attributes\":{\"data_source\":{\"id\":\"1381\"},\"glyph\":{\"id\":\"1383\"},\"hover_glyph\":null,\"muted_glyph\":null,\"nonselection_glyph\":{\"id\":\"1384\"},\"selection_glyph\":null,\"view\":{\"id\":\"1386\"}},\"id\":\"1385\",\"type\":\"GlyphRenderer\"},{\"attributes\":{\"label\":{\"value\":\" g=0.85\"},\"renderers\":[{\"id\":\"1423\"}]},\"id\":\"1438\",\"type\":\"LegendItem\"},{\"attributes\":{\"axis\":{\"id\":\"1344\"},\"dimension\":1,\"ticker\":null},\"id\":\"1347\",\"type\":\"Grid\"},{\"attributes\":{\"label\":{\"value\":\" g=0.75\"},\"renderers\":[{\"id\":\"1385\"}]},\"id\":\"1396\",\"type\":\"LegendItem\"},{\"attributes\":{},\"id\":\"1352\",\"type\":\"ResetTool\"},{\"attributes\":{\"code\":\"\\n                                var labels = {0: '1.000', 1: '0.999', 2: '0.995', 3: '0.990', 4: '0.980', 5: '0.950', 6: '0.900', 7: '0.800', 8: '0.700'};\\n                                return labels[tick];\\n                                \"},\"id\":\"1362\",\"type\":\"FuncTickFormatter\"},{\"attributes\":{\"line_color\":\"#9467bd\",\"line_width\":2,\"x\":{\"field\":\"__x__values\"},\"y\":{\"field\":\"g=0.9\"}},\"id\":\"1443\",\"type\":\"Line\"},{\"attributes\":{\"source\":{\"id\":\"1399\"}},\"id\":\"1404\",\"type\":\"CDSView\"},{\"attributes\":{\"source\":{\"id\":\"1419\"}},\"id\":\"1424\",\"type\":\"CDSView\"},{\"attributes\":{},\"id\":\"1437\",\"type\":\"Selection\"},{\"attributes\":{\"label\":{\"value\":\" g=0.5\"},\"renderers\":[{\"id\":\"1368\"}]},\"id\":\"1378\",\"type\":\"LegendItem\"},{\"attributes\":{\"click_policy\":\"hide\",\"items\":[{\"id\":\"1378\"},{\"id\":\"1396\"},{\"id\":\"1416\"},{\"id\":\"1438\"},{\"id\":\"1462\"}]},\"id\":\"1377\",\"type\":\"Legend\"}],\"root_ids\":[\"1329\"]},\"title\":\"Bokeh Application\",\"version\":\"2.2.1\"}};\n",
       "  var render_items = [{\"docid\":\"1a716160-5539-4eb0-a9a1-da89ed0ddbc1\",\"root_ids\":[\"1329\"],\"roots\":{\"1329\":\"25d597d5-114d-4231-85be-012308e0ac7b\"}}];\n",
       "  root.Bokeh.embed.embed_items_notebook(docs_json, render_items);\n",
       "\n",
       "  }\n",
       "  if (root.Bokeh !== undefined) {\n",
       "    embed_document(root);\n",
       "  } else {\n",
       "    var attempts = 0;\n",
       "    var timer = setInterval(function(root) {\n",
       "      if (root.Bokeh !== undefined) {\n",
       "        clearInterval(timer);\n",
       "        embed_document(root);\n",
       "      } else {\n",
       "        attempts++;\n",
       "        if (attempts > 100) {\n",
       "          clearInterval(timer);\n",
       "          console.log(\"Bokeh: ERROR: Unable to run BokehJS code because BokehJS library is missing\");\n",
       "        }\n",
       "      }\n",
       "    }, 10, root)\n",
       "  }\n",
       "})(window);"
      ],
      "application/vnd.bokehjs_exec.v0+json": ""
     },
     "metadata": {
      "application/vnd.bokehjs_exec.v0+json": {
       "id": "1329"
      }
     },
     "output_type": "display_data"
    }
   ],
   "source": [
    "jpi.error_lines_plot(compare_quad)"
   ]
  },
  {
   "cell_type": "code",
   "execution_count": null,
   "metadata": {},
   "outputs": [],
   "source": []
  }
 ],
 "metadata": {
  "kernelspec": {
   "display_name": "Python 3",
   "language": "python",
   "name": "python3"
  },
  "language_info": {
   "codemirror_mode": {
    "name": "ipython",
    "version": 3
   },
   "file_extension": ".py",
   "mimetype": "text/x-python",
   "name": "python",
   "nbconvert_exporter": "python",
   "pygments_lexer": "ipython3",
   "version": "3.7.9"
  }
 },
 "nbformat": 4,
 "nbformat_minor": 2
}
