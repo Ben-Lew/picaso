{
 "cells": [
  {
   "cell_type": "code",
   "execution_count": 1,
   "metadata": {},
   "outputs": [
    {
     "data": {
      "text/html": [
       "\n",
       "    <div class=\"bk-root\">\n",
       "        <a href=\"https://bokeh.org\" target=\"_blank\" class=\"bk-logo bk-logo-small bk-logo-notebook\"></a>\n",
       "        <span id=\"1001\">Loading BokehJS ...</span>\n",
       "    </div>"
      ]
     },
     "metadata": {},
     "output_type": "display_data"
    },
    {
     "data": {
      "application/javascript": [
       "\n",
       "(function(root) {\n",
       "  function now() {\n",
       "    return new Date();\n",
       "  }\n",
       "\n",
       "  var force = true;\n",
       "\n",
       "  if (typeof root._bokeh_onload_callbacks === \"undefined\" || force === true) {\n",
       "    root._bokeh_onload_callbacks = [];\n",
       "    root._bokeh_is_loading = undefined;\n",
       "  }\n",
       "\n",
       "  var JS_MIME_TYPE = 'application/javascript';\n",
       "  var HTML_MIME_TYPE = 'text/html';\n",
       "  var EXEC_MIME_TYPE = 'application/vnd.bokehjs_exec.v0+json';\n",
       "  var CLASS_NAME = 'output_bokeh rendered_html';\n",
       "\n",
       "  /**\n",
       "   * Render data to the DOM node\n",
       "   */\n",
       "  function render(props, node) {\n",
       "    var script = document.createElement(\"script\");\n",
       "    node.appendChild(script);\n",
       "  }\n",
       "\n",
       "  /**\n",
       "   * Handle when an output is cleared or removed\n",
       "   */\n",
       "  function handleClearOutput(event, handle) {\n",
       "    var cell = handle.cell;\n",
       "\n",
       "    var id = cell.output_area._bokeh_element_id;\n",
       "    var server_id = cell.output_area._bokeh_server_id;\n",
       "    // Clean up Bokeh references\n",
       "    if (id != null && id in Bokeh.index) {\n",
       "      Bokeh.index[id].model.document.clear();\n",
       "      delete Bokeh.index[id];\n",
       "    }\n",
       "\n",
       "    if (server_id !== undefined) {\n",
       "      // Clean up Bokeh references\n",
       "      var cmd = \"from bokeh.io.state import curstate; print(curstate().uuid_to_server['\" + server_id + \"'].get_sessions()[0].document.roots[0]._id)\";\n",
       "      cell.notebook.kernel.execute(cmd, {\n",
       "        iopub: {\n",
       "          output: function(msg) {\n",
       "            var id = msg.content.text.trim();\n",
       "            if (id in Bokeh.index) {\n",
       "              Bokeh.index[id].model.document.clear();\n",
       "              delete Bokeh.index[id];\n",
       "            }\n",
       "          }\n",
       "        }\n",
       "      });\n",
       "      // Destroy server and session\n",
       "      var cmd = \"import bokeh.io.notebook as ion; ion.destroy_server('\" + server_id + \"')\";\n",
       "      cell.notebook.kernel.execute(cmd);\n",
       "    }\n",
       "  }\n",
       "\n",
       "  /**\n",
       "   * Handle when a new output is added\n",
       "   */\n",
       "  function handleAddOutput(event, handle) {\n",
       "    var output_area = handle.output_area;\n",
       "    var output = handle.output;\n",
       "\n",
       "    // limit handleAddOutput to display_data with EXEC_MIME_TYPE content only\n",
       "    if ((output.output_type != \"display_data\") || (!output.data.hasOwnProperty(EXEC_MIME_TYPE))) {\n",
       "      return\n",
       "    }\n",
       "\n",
       "    var toinsert = output_area.element.find(\".\" + CLASS_NAME.split(' ')[0]);\n",
       "\n",
       "    if (output.metadata[EXEC_MIME_TYPE][\"id\"] !== undefined) {\n",
       "      toinsert[toinsert.length - 1].firstChild.textContent = output.data[JS_MIME_TYPE];\n",
       "      // store reference to embed id on output_area\n",
       "      output_area._bokeh_element_id = output.metadata[EXEC_MIME_TYPE][\"id\"];\n",
       "    }\n",
       "    if (output.metadata[EXEC_MIME_TYPE][\"server_id\"] !== undefined) {\n",
       "      var bk_div = document.createElement(\"div\");\n",
       "      bk_div.innerHTML = output.data[HTML_MIME_TYPE];\n",
       "      var script_attrs = bk_div.children[0].attributes;\n",
       "      for (var i = 0; i < script_attrs.length; i++) {\n",
       "        toinsert[toinsert.length - 1].firstChild.setAttribute(script_attrs[i].name, script_attrs[i].value);\n",
       "        toinsert[toinsert.length - 1].firstChild.textContent = bk_div.children[0].textContent\n",
       "      }\n",
       "      // store reference to server id on output_area\n",
       "      output_area._bokeh_server_id = output.metadata[EXEC_MIME_TYPE][\"server_id\"];\n",
       "    }\n",
       "  }\n",
       "\n",
       "  function register_renderer(events, OutputArea) {\n",
       "\n",
       "    function append_mime(data, metadata, element) {\n",
       "      // create a DOM node to render to\n",
       "      var toinsert = this.create_output_subarea(\n",
       "        metadata,\n",
       "        CLASS_NAME,\n",
       "        EXEC_MIME_TYPE\n",
       "      );\n",
       "      this.keyboard_manager.register_events(toinsert);\n",
       "      // Render to node\n",
       "      var props = {data: data, metadata: metadata[EXEC_MIME_TYPE]};\n",
       "      render(props, toinsert[toinsert.length - 1]);\n",
       "      element.append(toinsert);\n",
       "      return toinsert\n",
       "    }\n",
       "\n",
       "    /* Handle when an output is cleared or removed */\n",
       "    events.on('clear_output.CodeCell', handleClearOutput);\n",
       "    events.on('delete.Cell', handleClearOutput);\n",
       "\n",
       "    /* Handle when a new output is added */\n",
       "    events.on('output_added.OutputArea', handleAddOutput);\n",
       "\n",
       "    /**\n",
       "     * Register the mime type and append_mime function with output_area\n",
       "     */\n",
       "    OutputArea.prototype.register_mime_type(EXEC_MIME_TYPE, append_mime, {\n",
       "      /* Is output safe? */\n",
       "      safe: true,\n",
       "      /* Index of renderer in `output_area.display_order` */\n",
       "      index: 0\n",
       "    });\n",
       "  }\n",
       "\n",
       "  // register the mime type if in Jupyter Notebook environment and previously unregistered\n",
       "  if (root.Jupyter !== undefined) {\n",
       "    var events = require('base/js/events');\n",
       "    var OutputArea = require('notebook/js/outputarea').OutputArea;\n",
       "\n",
       "    if (OutputArea.prototype.mime_types().indexOf(EXEC_MIME_TYPE) == -1) {\n",
       "      register_renderer(events, OutputArea);\n",
       "    }\n",
       "  }\n",
       "\n",
       "  \n",
       "  if (typeof (root._bokeh_timeout) === \"undefined\" || force === true) {\n",
       "    root._bokeh_timeout = Date.now() + 5000;\n",
       "    root._bokeh_failed_load = false;\n",
       "  }\n",
       "\n",
       "  var NB_LOAD_WARNING = {'data': {'text/html':\n",
       "     \"<div style='background-color: #fdd'>\\n\"+\n",
       "     \"<p>\\n\"+\n",
       "     \"BokehJS does not appear to have successfully loaded. If loading BokehJS from CDN, this \\n\"+\n",
       "     \"may be due to a slow or bad network connection. Possible fixes:\\n\"+\n",
       "     \"</p>\\n\"+\n",
       "     \"<ul>\\n\"+\n",
       "     \"<li>re-rerun `output_notebook()` to attempt to load from CDN again, or</li>\\n\"+\n",
       "     \"<li>use INLINE resources instead, as so:</li>\\n\"+\n",
       "     \"</ul>\\n\"+\n",
       "     \"<code>\\n\"+\n",
       "     \"from bokeh.resources import INLINE\\n\"+\n",
       "     \"output_notebook(resources=INLINE)\\n\"+\n",
       "     \"</code>\\n\"+\n",
       "     \"</div>\"}};\n",
       "\n",
       "  function display_loaded() {\n",
       "    var el = document.getElementById(\"1001\");\n",
       "    if (el != null) {\n",
       "      el.textContent = \"BokehJS is loading...\";\n",
       "    }\n",
       "    if (root.Bokeh !== undefined) {\n",
       "      if (el != null) {\n",
       "        el.textContent = \"BokehJS \" + root.Bokeh.version + \" successfully loaded.\";\n",
       "      }\n",
       "    } else if (Date.now() < root._bokeh_timeout) {\n",
       "      setTimeout(display_loaded, 100)\n",
       "    }\n",
       "  }\n",
       "\n",
       "\n",
       "  function run_callbacks() {\n",
       "    try {\n",
       "      root._bokeh_onload_callbacks.forEach(function(callback) {\n",
       "        if (callback != null)\n",
       "          callback();\n",
       "      });\n",
       "    } finally {\n",
       "      delete root._bokeh_onload_callbacks\n",
       "    }\n",
       "    console.debug(\"Bokeh: all callbacks have finished\");\n",
       "  }\n",
       "\n",
       "  function load_libs(css_urls, js_urls, callback) {\n",
       "    if (css_urls == null) css_urls = [];\n",
       "    if (js_urls == null) js_urls = [];\n",
       "\n",
       "    root._bokeh_onload_callbacks.push(callback);\n",
       "    if (root._bokeh_is_loading > 0) {\n",
       "      console.debug(\"Bokeh: BokehJS is being loaded, scheduling callback at\", now());\n",
       "      return null;\n",
       "    }\n",
       "    if (js_urls == null || js_urls.length === 0) {\n",
       "      run_callbacks();\n",
       "      return null;\n",
       "    }\n",
       "    console.debug(\"Bokeh: BokehJS not loaded, scheduling load and callback at\", now());\n",
       "    root._bokeh_is_loading = css_urls.length + js_urls.length;\n",
       "\n",
       "    function on_load() {\n",
       "      root._bokeh_is_loading--;\n",
       "      if (root._bokeh_is_loading === 0) {\n",
       "        console.debug(\"Bokeh: all BokehJS libraries/stylesheets loaded\");\n",
       "        run_callbacks()\n",
       "      }\n",
       "    }\n",
       "\n",
       "    function on_error() {\n",
       "      console.error(\"failed to load \" + url);\n",
       "    }\n",
       "\n",
       "    for (var i = 0; i < css_urls.length; i++) {\n",
       "      var url = css_urls[i];\n",
       "      const element = document.createElement(\"link\");\n",
       "      element.onload = on_load;\n",
       "      element.onerror = on_error;\n",
       "      element.rel = \"stylesheet\";\n",
       "      element.type = \"text/css\";\n",
       "      element.href = url;\n",
       "      console.debug(\"Bokeh: injecting link tag for BokehJS stylesheet: \", url);\n",
       "      document.body.appendChild(element);\n",
       "    }\n",
       "\n",
       "    const hashes = {\"https://cdn.bokeh.org/bokeh/release/bokeh-2.2.3.min.js\": \"T2yuo9Oe71Cz/I4X9Ac5+gpEa5a8PpJCDlqKYO0CfAuEszu1JrXLl8YugMqYe3sM\", \"https://cdn.bokeh.org/bokeh/release/bokeh-widgets-2.2.3.min.js\": \"98GDGJ0kOMCUMUePhksaQ/GYgB3+NH9h996V88sh3aOiUNX3N+fLXAtry6xctSZ6\", \"https://cdn.bokeh.org/bokeh/release/bokeh-tables-2.2.3.min.js\": \"89bArO+nlbP3sgakeHjCo1JYxYR5wufVgA3IbUvDY+K7w4zyxJqssu7wVnfeKCq8\"};\n",
       "\n",
       "    for (var i = 0; i < js_urls.length; i++) {\n",
       "      var url = js_urls[i];\n",
       "      var element = document.createElement('script');\n",
       "      element.onload = on_load;\n",
       "      element.onerror = on_error;\n",
       "      element.async = false;\n",
       "      element.src = url;\n",
       "      if (url in hashes) {\n",
       "        element.crossOrigin = \"anonymous\";\n",
       "        element.integrity = \"sha384-\" + hashes[url];\n",
       "      }\n",
       "      console.debug(\"Bokeh: injecting script tag for BokehJS library: \", url);\n",
       "      document.head.appendChild(element);\n",
       "    }\n",
       "  };\n",
       "\n",
       "  function inject_raw_css(css) {\n",
       "    const element = document.createElement(\"style\");\n",
       "    element.appendChild(document.createTextNode(css));\n",
       "    document.body.appendChild(element);\n",
       "  }\n",
       "\n",
       "  \n",
       "  var js_urls = [\"https://cdn.bokeh.org/bokeh/release/bokeh-2.2.3.min.js\", \"https://cdn.bokeh.org/bokeh/release/bokeh-widgets-2.2.3.min.js\", \"https://cdn.bokeh.org/bokeh/release/bokeh-tables-2.2.3.min.js\"];\n",
       "  var css_urls = [];\n",
       "  \n",
       "\n",
       "  var inline_js = [\n",
       "    function(Bokeh) {\n",
       "      Bokeh.set_log_level(\"info\");\n",
       "    },\n",
       "    function(Bokeh) {\n",
       "    \n",
       "    \n",
       "    }\n",
       "  ];\n",
       "\n",
       "  function run_inline_js() {\n",
       "    \n",
       "    if (root.Bokeh !== undefined || force === true) {\n",
       "      \n",
       "    for (var i = 0; i < inline_js.length; i++) {\n",
       "      inline_js[i].call(root, root.Bokeh);\n",
       "    }\n",
       "    if (force === true) {\n",
       "        display_loaded();\n",
       "      }} else if (Date.now() < root._bokeh_timeout) {\n",
       "      setTimeout(run_inline_js, 100);\n",
       "    } else if (!root._bokeh_failed_load) {\n",
       "      console.log(\"Bokeh: BokehJS failed to load within specified timeout.\");\n",
       "      root._bokeh_failed_load = true;\n",
       "    } else if (force !== true) {\n",
       "      var cell = $(document.getElementById(\"1001\")).parents('.cell').data().cell;\n",
       "      cell.output_area.append_execute_result(NB_LOAD_WARNING)\n",
       "    }\n",
       "\n",
       "  }\n",
       "\n",
       "  if (root._bokeh_is_loading === 0) {\n",
       "    console.debug(\"Bokeh: BokehJS loaded, going straight to plotting\");\n",
       "    run_inline_js();\n",
       "  } else {\n",
       "    load_libs(css_urls, js_urls, function() {\n",
       "      console.debug(\"Bokeh: BokehJS plotting callback run at\", now());\n",
       "      run_inline_js();\n",
       "    });\n",
       "  }\n",
       "}(window));"
      ],
      "application/vnd.bokehjs_load.v0+json": "\n(function(root) {\n  function now() {\n    return new Date();\n  }\n\n  var force = true;\n\n  if (typeof root._bokeh_onload_callbacks === \"undefined\" || force === true) {\n    root._bokeh_onload_callbacks = [];\n    root._bokeh_is_loading = undefined;\n  }\n\n  \n\n  \n  if (typeof (root._bokeh_timeout) === \"undefined\" || force === true) {\n    root._bokeh_timeout = Date.now() + 5000;\n    root._bokeh_failed_load = false;\n  }\n\n  var NB_LOAD_WARNING = {'data': {'text/html':\n     \"<div style='background-color: #fdd'>\\n\"+\n     \"<p>\\n\"+\n     \"BokehJS does not appear to have successfully loaded. If loading BokehJS from CDN, this \\n\"+\n     \"may be due to a slow or bad network connection. Possible fixes:\\n\"+\n     \"</p>\\n\"+\n     \"<ul>\\n\"+\n     \"<li>re-rerun `output_notebook()` to attempt to load from CDN again, or</li>\\n\"+\n     \"<li>use INLINE resources instead, as so:</li>\\n\"+\n     \"</ul>\\n\"+\n     \"<code>\\n\"+\n     \"from bokeh.resources import INLINE\\n\"+\n     \"output_notebook(resources=INLINE)\\n\"+\n     \"</code>\\n\"+\n     \"</div>\"}};\n\n  function display_loaded() {\n    var el = document.getElementById(\"1001\");\n    if (el != null) {\n      el.textContent = \"BokehJS is loading...\";\n    }\n    if (root.Bokeh !== undefined) {\n      if (el != null) {\n        el.textContent = \"BokehJS \" + root.Bokeh.version + \" successfully loaded.\";\n      }\n    } else if (Date.now() < root._bokeh_timeout) {\n      setTimeout(display_loaded, 100)\n    }\n  }\n\n\n  function run_callbacks() {\n    try {\n      root._bokeh_onload_callbacks.forEach(function(callback) {\n        if (callback != null)\n          callback();\n      });\n    } finally {\n      delete root._bokeh_onload_callbacks\n    }\n    console.debug(\"Bokeh: all callbacks have finished\");\n  }\n\n  function load_libs(css_urls, js_urls, callback) {\n    if (css_urls == null) css_urls = [];\n    if (js_urls == null) js_urls = [];\n\n    root._bokeh_onload_callbacks.push(callback);\n    if (root._bokeh_is_loading > 0) {\n      console.debug(\"Bokeh: BokehJS is being loaded, scheduling callback at\", now());\n      return null;\n    }\n    if (js_urls == null || js_urls.length === 0) {\n      run_callbacks();\n      return null;\n    }\n    console.debug(\"Bokeh: BokehJS not loaded, scheduling load and callback at\", now());\n    root._bokeh_is_loading = css_urls.length + js_urls.length;\n\n    function on_load() {\n      root._bokeh_is_loading--;\n      if (root._bokeh_is_loading === 0) {\n        console.debug(\"Bokeh: all BokehJS libraries/stylesheets loaded\");\n        run_callbacks()\n      }\n    }\n\n    function on_error() {\n      console.error(\"failed to load \" + url);\n    }\n\n    for (var i = 0; i < css_urls.length; i++) {\n      var url = css_urls[i];\n      const element = document.createElement(\"link\");\n      element.onload = on_load;\n      element.onerror = on_error;\n      element.rel = \"stylesheet\";\n      element.type = \"text/css\";\n      element.href = url;\n      console.debug(\"Bokeh: injecting link tag for BokehJS stylesheet: \", url);\n      document.body.appendChild(element);\n    }\n\n    const hashes = {\"https://cdn.bokeh.org/bokeh/release/bokeh-2.2.3.min.js\": \"T2yuo9Oe71Cz/I4X9Ac5+gpEa5a8PpJCDlqKYO0CfAuEszu1JrXLl8YugMqYe3sM\", \"https://cdn.bokeh.org/bokeh/release/bokeh-widgets-2.2.3.min.js\": \"98GDGJ0kOMCUMUePhksaQ/GYgB3+NH9h996V88sh3aOiUNX3N+fLXAtry6xctSZ6\", \"https://cdn.bokeh.org/bokeh/release/bokeh-tables-2.2.3.min.js\": \"89bArO+nlbP3sgakeHjCo1JYxYR5wufVgA3IbUvDY+K7w4zyxJqssu7wVnfeKCq8\"};\n\n    for (var i = 0; i < js_urls.length; i++) {\n      var url = js_urls[i];\n      var element = document.createElement('script');\n      element.onload = on_load;\n      element.onerror = on_error;\n      element.async = false;\n      element.src = url;\n      if (url in hashes) {\n        element.crossOrigin = \"anonymous\";\n        element.integrity = \"sha384-\" + hashes[url];\n      }\n      console.debug(\"Bokeh: injecting script tag for BokehJS library: \", url);\n      document.head.appendChild(element);\n    }\n  };\n\n  function inject_raw_css(css) {\n    const element = document.createElement(\"style\");\n    element.appendChild(document.createTextNode(css));\n    document.body.appendChild(element);\n  }\n\n  \n  var js_urls = [\"https://cdn.bokeh.org/bokeh/release/bokeh-2.2.3.min.js\", \"https://cdn.bokeh.org/bokeh/release/bokeh-widgets-2.2.3.min.js\", \"https://cdn.bokeh.org/bokeh/release/bokeh-tables-2.2.3.min.js\"];\n  var css_urls = [];\n  \n\n  var inline_js = [\n    function(Bokeh) {\n      Bokeh.set_log_level(\"info\");\n    },\n    function(Bokeh) {\n    \n    \n    }\n  ];\n\n  function run_inline_js() {\n    \n    if (root.Bokeh !== undefined || force === true) {\n      \n    for (var i = 0; i < inline_js.length; i++) {\n      inline_js[i].call(root, root.Bokeh);\n    }\n    if (force === true) {\n        display_loaded();\n      }} else if (Date.now() < root._bokeh_timeout) {\n      setTimeout(run_inline_js, 100);\n    } else if (!root._bokeh_failed_load) {\n      console.log(\"Bokeh: BokehJS failed to load within specified timeout.\");\n      root._bokeh_failed_load = true;\n    } else if (force !== true) {\n      var cell = $(document.getElementById(\"1001\")).parents('.cell').data().cell;\n      cell.output_area.append_execute_result(NB_LOAD_WARNING)\n    }\n\n  }\n\n  if (root._bokeh_is_loading === 0) {\n    console.debug(\"Bokeh: BokehJS loaded, going straight to plotting\");\n    run_inline_js();\n  } else {\n    load_libs(css_urls, js_urls, function() {\n      console.debug(\"Bokeh: BokehJS plotting callback run at\", now());\n      run_inline_js();\n    });\n  }\n}(window));"
     },
     "metadata": {},
     "output_type": "display_data"
    }
   ],
   "source": [
    "from math import pi\n",
    "\n",
    "import pandas as pd\n",
    "\n",
    "from bokeh.io import show\n",
    "from bokeh.models import BasicTicker, ColorBar, LinearColorMapper, PrintfTickFormatter\n",
    "from bokeh.plotting import figure\n",
    "from bokeh.sampledata.unemployment1948 import data\n",
    "from bokeh.palettes import viridis\n",
    "from bokeh.io import output_notebook\n",
    "output_notebook()\n",
    "import picaso.justplotit as jpi\n",
    "\n",
    "import picaso.picaso_data as ptest\n",
    "import picaso.disort_disco as dtest\n",
    "\n",
    "import numpy as np"
   ]
  },
  {
   "cell_type": "code",
   "execution_count": 2,
   "metadata": {},
   "outputs": [
    {
     "name": "stdout",
     "output_type": "stream",
     "text": [
      "YOU ARE REQUESTING RESAMPLING!!\n"
     ]
    },
    {
     "ename": "NameError",
     "evalue": "name 'xint' is not defined",
     "output_type": "error",
     "traceback": [
      "\u001b[0;31m---------------------------------------------------------------------------\u001b[0m",
      "\u001b[0;31mNameError\u001b[0m                                 Traceback (most recent call last)",
      "\u001b[0;32m<ipython-input-2-30104ce3fc57>\u001b[0m in \u001b[0;36m<module>\u001b[0;34m\u001b[0m\n\u001b[1;32m      2\u001b[0m \u001b[0;34m\u001b[0m\u001b[0m\n\u001b[1;32m      3\u001b[0m \u001b[0;31m# Toon quadrature\u001b[0m\u001b[0;34m\u001b[0m\u001b[0;34m\u001b[0m\u001b[0;34m\u001b[0m\u001b[0m\n\u001b[0;32m----> 4\u001b[0;31m \u001b[0mToon_quad\u001b[0m \u001b[0;34m=\u001b[0m \u001b[0mptest\u001b[0m\u001b[0;34m.\u001b[0m\u001b[0mpicaso_albedos\u001b[0m\u001b[0;34m(\u001b[0m\u001b[0moutput_dir\u001b[0m\u001b[0;34m=\u001b[0m\u001b[0;34m'Toon_quad.csv'\u001b[0m\u001b[0;34m,\u001b[0m \u001b[0mdelta_eddington\u001b[0m\u001b[0;34m=\u001b[0m\u001b[0;32mTrue\u001b[0m\u001b[0;34m,\u001b[0m \u001b[0mdisort_data\u001b[0m\u001b[0;34m=\u001b[0m\u001b[0;32mTrue\u001b[0m\u001b[0;34m)\u001b[0m\u001b[0;34m\u001b[0m\u001b[0;34m\u001b[0m\u001b[0m\n\u001b[0m\u001b[1;32m      5\u001b[0m \u001b[0;31m# Toon eddington\u001b[0m\u001b[0;34m\u001b[0m\u001b[0;34m\u001b[0m\u001b[0;34m\u001b[0m\u001b[0m\n\u001b[1;32m      6\u001b[0m \u001b[0;31m# Toon_edd = ptest.picaso_albedos(output_dir= 'Toon_eddd.csv',Toon_coefficients =\"eddington\", delta_eddington=DE)\u001b[0m\u001b[0;34m\u001b[0m\u001b[0;34m\u001b[0m\u001b[0;34m\u001b[0m\u001b[0m\n",
      "\u001b[0;32m~/Documents/codes/picaso/picaso/picaso_data.py\u001b[0m in \u001b[0;36mpicaso_albedos\u001b[0;34m(single_phase, output_dir, rayleigh, phase, method, stream, Toon_coefficients, delta_eddington, disort_data, phangle)\u001b[0m\n\u001b[1;32m     84\u001b[0m                             \u001b[0mdisort_dir_\u001b[0m \u001b[0;34m=\u001b[0m \u001b[0mdisort_dir\u001b[0m \u001b[0;34m+\u001b[0m \u001b[0;34m'data_rayleigh_%.3f.pk'\u001b[0m \u001b[0;34m%\u001b[0m \u001b[0mw0\u001b[0m\u001b[0;34m\u001b[0m\u001b[0;34m\u001b[0m\u001b[0m\n\u001b[1;32m     85\u001b[0m                             \u001b[0mstart_case\u001b[0m\u001b[0;34m.\u001b[0m\u001b[0minputs\u001b[0m\u001b[0;34m[\u001b[0m\u001b[0;34m'approx'\u001b[0m\u001b[0;34m]\u001b[0m\u001b[0;34m[\u001b[0m\u001b[0;34m'input_dir'\u001b[0m\u001b[0;34m]\u001b[0m\u001b[0;34m=\u001b[0m\u001b[0mdisort_dir_\u001b[0m\u001b[0;34m\u001b[0m\u001b[0;34m\u001b[0m\u001b[0m\n\u001b[0;32m---> 86\u001b[0;31m                         \u001b[0mallout\u001b[0m \u001b[0;34m=\u001b[0m \u001b[0mstart_case\u001b[0m\u001b[0;34m.\u001b[0m\u001b[0mspectrum\u001b[0m\u001b[0;34m(\u001b[0m\u001b[0mopa\u001b[0m\u001b[0;34m,\u001b[0m \u001b[0mcalculation\u001b[0m\u001b[0;34m=\u001b[0m\u001b[0;34m'reflected'\u001b[0m\u001b[0;34m)\u001b[0m\u001b[0;31m#, full_output=True)\u001b[0m\u001b[0;34m\u001b[0m\u001b[0;34m\u001b[0m\u001b[0m\n\u001b[0m\u001b[1;32m     87\u001b[0m \u001b[0;34m\u001b[0m\u001b[0m\n\u001b[1;32m     88\u001b[0m                         \u001b[0malb\u001b[0m \u001b[0;34m=\u001b[0m \u001b[0mallout\u001b[0m\u001b[0;34m[\u001b[0m\u001b[0;34m'albedo'\u001b[0m\u001b[0;34m]\u001b[0m\u001b[0;34m\u001b[0m\u001b[0;34m\u001b[0m\u001b[0m\n",
      "\u001b[0;32m~/Documents/codes/picaso/picaso/justdoit.py\u001b[0m in \u001b[0;36mspectrum\u001b[0;34m(self, opacityclass, calculation, dimension, full_output, plot_opacity, as_dict)\u001b[0m\n\u001b[1;32m   2723\u001b[0m \u001b[0;34m\u001b[0m\u001b[0m\n\u001b[1;32m   2724\u001b[0m \u001b[0;34m\u001b[0m\u001b[0m\n\u001b[0;32m-> 2725\u001b[0;31m         return picaso(self, opacityclass,dimension=dimension,calculation=calculation,\n\u001b[0m\u001b[1;32m   2726\u001b[0m             full_output=full_output, plot_opacity=plot_opacity, as_dict=as_dict)\n\u001b[1;32m   2727\u001b[0m \u001b[0;34m\u001b[0m\u001b[0m\n",
      "\u001b[0;32m~/Documents/codes/picaso/picaso/justdoit.py\u001b[0m in \u001b[0;36mpicaso\u001b[0;34m(bundle, opacityclass, dimension, calculation, full_output, plot_opacity, as_dict)\u001b[0m\n\u001b[1;32m    207\u001b[0m                                     b_top=b_top)\n\u001b[1;32m    208\u001b[0m \u001b[0;34m\u001b[0m\u001b[0m\n\u001b[0;32m--> 209\u001b[0;31m                 \u001b[0mxint_at_top\u001b[0m \u001b[0;34m+=\u001b[0m \u001b[0mxint\u001b[0m\u001b[0;34m*\u001b[0m\u001b[0mgauss_wts\u001b[0m\u001b[0;34m[\u001b[0m\u001b[0mig\u001b[0m\u001b[0;34m]\u001b[0m\u001b[0;34m\u001b[0m\u001b[0;34m\u001b[0m\u001b[0m\n\u001b[0m\u001b[1;32m    210\u001b[0m \u001b[0;34m\u001b[0m\u001b[0m\n\u001b[1;32m    211\u001b[0m             \u001b[0;31m#if full output is requested add in xint at top for 3d plots\u001b[0m\u001b[0;34m\u001b[0m\u001b[0;34m\u001b[0m\u001b[0;34m\u001b[0m\u001b[0m\n",
      "\u001b[0;31mNameError\u001b[0m: name 'xint' is not defined"
     ]
    }
   ],
   "source": [
    "DE = True\n",
    "\n",
    "# Toon quadrature\n",
    "Toon_quad = ptest.picaso_albedos(output_dir='Toon_quad.csv', delta_eddington=True, disort_data=True)\n",
    "# Toon eddington\n",
    "# Toon_edd = ptest.picaso_albedos(output_dir= 'Toon_eddd.csv',Toon_coefficients =\"eddington\", delta_eddington=DE)\n",
    "# SH 2-stream\n",
    "SH2 = ptest.picaso_albedos(output_dir='SH2.csv',method=\"SH\", delta_eddington=DE, rayleigh=False, disort_data=True)\n",
    "# SH 4-stream\n",
    "SH4 = ptest.picaso_albedos(output_dir='SH4.csv',method='SH', stream=4, delta_eddington=True, rayleigh=False, disort_data=True)"
   ]
  },
  {
   "cell_type": "code",
   "execution_count": null,
   "metadata": {},
   "outputs": [],
   "source": [
    "disort = dtest.disort_albedos(output_dir='disort.csv')"
   ]
  },
  {
   "cell_type": "code",
   "execution_count": null,
   "metadata": {},
   "outputs": [],
   "source": [
    "# read in data from picaso function\n",
    "data_old = pd.read_csv('DLUGACH_TEST.csv',index_col=0)\n",
    "data_disort = pd.read_csv('disort.csv',index_col=0)\n",
    "data_SH2 = pd.read_csv('SH2.csv',index_col=0)\n",
    "data_SH4 = pd.read_csv('SH4.csv',index_col=0)\n",
    "data_quad = pd.read_csv('Toon_quad.csv',index_col=0)\n",
    "data_edd = pd.read_csv('Toon_eddd.csv',index_col=0)\n",
    "\n",
    "#If you want to compare two different files for the heatmap just do this\n",
    "data_compare = data_old\n",
    "compare_quad = (data_compare-data_quad)/data_compare*100   \n",
    "compare_edd = (data_compare-data_edd)/data_compare*100   \n",
    "compare_SH2 = (data_compare-data_SH2)/data_compare*100 \n",
    "compare_SH4 = (data_compare-data_SH4)/data_compare*100  \n",
    "compare_SH = (data_SH2-data_SH4)/data_SH2*100    \n",
    "\n",
    "quad_SH4 = (data_quad-data_SH4)/data_quad*100 \n",
    "quad_SH2 = (data_quad-data_SH2)/data_quad*100 \n",
    "edd_SH2 = (data_edd-data_SH2)/data_edd*100 \n",
    "\n",
    "disort_dlugach = (data_old-data_disort)/data_old*100 "
   ]
  },
  {
   "cell_type": "code",
   "execution_count": null,
   "metadata": {},
   "outputs": [],
   "source": [
    "show(jpi.create_heat_map(disort_dlugach, rayleigh=True))"
   ]
  },
  {
   "cell_type": "code",
   "execution_count": null,
   "metadata": {},
   "outputs": [],
   "source": [
    "show(jpi.create_heat_map(quad_SH4, rayleigh=False))"
   ]
  },
  {
   "cell_type": "code",
   "execution_count": null,
   "metadata": {},
   "outputs": [],
   "source": [
    "show(jpi.create_heat_map(quad_SH2, rayleigh=False))"
   ]
  },
  {
   "cell_type": "code",
   "execution_count": null,
   "metadata": {},
   "outputs": [],
   "source": [
    "show(jpi.create_heat_map(compare_SH, rayleigh=False))"
   ]
  },
  {
   "cell_type": "code",
   "execution_count": 13,
   "metadata": {},
   "outputs": [],
   "source": [
    "import pickle as pk\n",
    "toon_dir = '/Users/crooney/Documents/codes/pyDISORT/test/picaso_data/'\n",
    "cdisort_dir = '/Users/crooney/Documents/codes/pyDISORT/test/cdisort_data/'\n",
    "SH2_dir = '/Users/crooney/Documents/codes/pyDISORT/test/picaso_data/SH2/'\n",
    "SH4_dir = '/Users/crooney/Documents/codes/pyDISORT/test/picaso_data/SH4/'\n",
    "\n",
    "for w0 in [.9]:\n",
    "    filename = 'data_0.900_%.3f.pk' % w0\n",
    "    Toon = pk.load(open(toon_dir + filename,'rb'))\n",
    "#     Disort_4 = pk.load(open(disort4_dir + filename,'rb'), encoding = 'bytes')\n",
    "#     Disort_DE = pk.load(open(disortDE_dir + filename,'rb'), encoding = 'bytes')\n",
    "    Cdisort = pk.load(open(cdisort_dir + filename,'rb'), encoding = 'bytes')\n",
    "    SH2 = pk.load(open(SH2_dir + filename,'rb'), encoding = 'bytes')\n",
    "    SH4 = pk.load(open(SH4_dir + filename,'rb'), encoding = 'bytes')"
   ]
  },
  {
   "cell_type": "code",
   "execution_count": 37,
   "metadata": {},
   "outputs": [
    {
     "data": {
      "text/plain": [
       "(5, 1, 51)"
      ]
     },
     "execution_count": 37,
     "metadata": {},
     "output_type": "execute_result"
    }
   ],
   "source": [
    "n=0\n",
    "Toon['xint_at_top'].shape"
   ]
  },
  {
   "cell_type": "code",
   "execution_count": 15,
   "metadata": {},
   "outputs": [
    {
     "data": {
      "text/plain": [
       "array([0.02374264, 0.02573551, 0.03209829, 0.0461495 , 0.07312606])"
      ]
     },
     "execution_count": 15,
     "metadata": {},
     "output_type": "execute_result"
    }
   ],
   "source": [
    "SH2['xint_at_top'][:,0,0]"
   ]
  },
  {
   "cell_type": "code",
   "execution_count": 16,
   "metadata": {},
   "outputs": [
    {
     "data": {
      "text/plain": [
       "array([0.02234446, 0.02354699, 0.02837123, 0.04306426, 0.08047989])"
      ]
     },
     "execution_count": 16,
     "metadata": {},
     "output_type": "execute_result"
    }
   ],
   "source": [
    "SH4['xint_at_top'][:,0,0]"
   ]
  },
  {
   "cell_type": "code",
   "execution_count": 17,
   "metadata": {},
   "outputs": [
    {
     "data": {
      "text/plain": [
       "array([0.02424406, 0.02311912, 0.02784911, 0.04265516, 0.07581476])"
      ]
     },
     "execution_count": 17,
     "metadata": {},
     "output_type": "execute_result"
    }
   ],
   "source": [
    "Cdisort[b'xint_at_top'][:,0,0,0]"
   ]
  },
  {
   "cell_type": "code",
   "execution_count": 20,
   "metadata": {},
   "outputs": [
    {
     "data": {
      "text/plain": [
       "array([0., 0., 0., 0., 0., 0., 0., 0., 0., 0., 0., 0., 0., 0., 0., 0., 0.,\n",
       "       0., 0.])"
      ]
     },
     "execution_count": 20,
     "metadata": {},
     "output_type": "execute_result"
    }
   ],
   "source": [
    "Toon['flux'][0,0,::2,0]"
   ]
  },
  {
   "cell_type": "code",
   "execution_count": 21,
   "metadata": {},
   "outputs": [
    {
     "data": {
      "text/plain": [
       "array([1.00000000e+00, 9.99976126e-01, 9.99924692e-01, 9.99813890e-01,\n",
       "       9.99575216e-01, 9.99061202e-01, 9.97954692e-01, 9.95574950e-01,\n",
       "       9.90467216e-01, 9.79551805e-01, 9.56442290e-01, 9.08490135e-01,\n",
       "       8.13192301e-01, 6.40481916e-01, 3.82931704e-01, 1.26430470e-01,\n",
       "       1.16141622e-02, 6.77848140e-05, 1.04336599e-09, 4.42993818e-20])"
      ]
     },
     "execution_count": 21,
     "metadata": {},
     "output_type": "execute_result"
    }
   ],
   "source": [
    "SH2['flux'][0,0,::2,0]"
   ]
  },
  {
   "cell_type": "code",
   "execution_count": 23,
   "metadata": {},
   "outputs": [
    {
     "data": {
      "text/plain": [
       "array([1.00000000e+00, 9.99973171e-01, 9.99915372e-01, 9.99790865e-01,\n",
       "       9.99522693e-01, 9.98945270e-01, 9.97702794e-01, 9.95033122e-01,\n",
       "       9.89314515e-01, 9.77145449e-01, 9.51610728e-01, 8.99582682e-01,\n",
       "       7.99718376e-01, 6.28698907e-01, 3.88424595e-01, 1.46195555e-01,\n",
       "       1.84723381e-02, 2.15220478e-04, 1.46892948e-08, 1.53166644e-17])"
      ]
     },
     "execution_count": 23,
     "metadata": {},
     "output_type": "execute_result"
    }
   ],
   "source": [
    "SH4['flux'][0,0,::4,0]"
   ]
  },
  {
   "cell_type": "code",
   "execution_count": 28,
   "metadata": {},
   "outputs": [
    {
     "data": {
      "text/plain": [
       "array([1.00000000e+00, 9.99967799e-01, 9.99898444e-01, 9.99749123e-01,\n",
       "       9.99427877e-01, 9.98737876e-01, 9.97260858e-01, 9.94121040e-01,\n",
       "       9.87534860e-01, 9.74024734e-01, 9.47081402e-01, 8.94599778e-01,\n",
       "       7.96042859e-01, 6.28343071e-01, 3.89858048e-01, 1.45762742e-01,\n",
       "       1.83387413e-02, 2.16660619e-04, 1.52947008e-08, 1.71170754e-17])"
      ]
     },
     "execution_count": 28,
     "metadata": {},
     "output_type": "execute_result"
    }
   ],
   "source": [
    "Cdisort[b'flux_down'][0,0,:,0]"
   ]
  },
  {
   "cell_type": "code",
   "execution_count": null,
   "metadata": {},
   "outputs": [],
   "source": [
    "def L2_error(a,b):\n",
    "    error = np.sqrt(np.sum((a-b)**2))/np.sqrt(np.sum(b**2))\n",
    "    return error"
   ]
  },
  {
   "cell_type": "code",
   "execution_count": 30,
   "metadata": {},
   "outputs": [],
   "source": [
    "from bokeh.palettes import magma\n",
    "import pickle as pk\n",
    "\n",
    "def plot_intensity(models, u0=None):\n",
    "    n=0\n",
    "#     if u0==None:\n",
    "#         tit = 'same ubars, ' + models[0]\n",
    "#     else:\n",
    "#         tit = 'u0 = ' + str(u0) + ': ' + models[0]\n",
    "#     if len(models)>1:\n",
    "#         for j in range(len(models)-1):\n",
    "#             tit = tit + '+' + models[j+1]\n",
    "    fig = figure(y_axis_type='log', y_range=[1e-4, 2e-1],\n",
    "                    x_axis_label = 'w0', y_axis_label = 'intensity',\n",
    "                    width=500, height=400)#, title=tit)\n",
    "    w0s = [0.5,0.55,0.6,0.65,0.7,0.8,0.9,0.95,0.98,0.99,0.995,0.999,1.]\n",
    "    g0s = [0.5,0.75,0.8,0.85,0.9]\n",
    "    col = magma(len(g0s)+1)\n",
    "    for g0, i in zip(g0s, range(len(g0s))):\n",
    "        y1 = []; y2 = []; y3 = []\n",
    "        for w0 in w0s:\n",
    "            dir = '/Users/crooney/Documents/codes/pyDISORT/test/'\n",
    "            if u0==None:\n",
    "                filename = '/data_%.3f_%.3f.pk' % (g0, w0)\n",
    "            else:\n",
    "                filename = '/test/no_direct/data_test_%.3f_%.3f_%.1f.pk' % (g0, w0, u0)\n",
    "\n",
    "\n",
    "            \n",
    "            if any('cdisort' in s for s in models):\n",
    "                output = pk.load(open(dir + 'cdisort_data' + filename,'rb'), encoding = 'bytes')\n",
    "                from IPython import embed; embed()\n",
    "                y1.append(output[b'xint_at_top'][n,0,0])\n",
    "            if any('picaso' in s for s in models):\n",
    "                output = pk.load(open(dir + 'picaso_data' + filename,'rb'), encoding = 'bytes')\n",
    "                y2.append(output['xint_at_top'][n,0,0])\n",
    "            if any('SH4' in s for s in models):\n",
    "                output = pk.load(open(dir + 'picaso_data/SH4' + filename,'rb'), encoding = 'bytes')\n",
    "                y3.append(output['xint_at_top'][n,0,0])\n",
    "                \n",
    "        if y1:\n",
    "            fig.line(w0s, y1, line_width=3, color=col[i], legend_label='g0 = %.1f' % g0)\n",
    "        if y2:\n",
    "            fig.line(w0s, y2, line_width=3, color=col[i], line_dash='dotted',legend_label='g0 = %.1f' % g0)\n",
    "        if y3:\n",
    "            fig.line(w0s, y3, line_width=3, color=col[i], line_dash='dashed',legend_label='g0 = %.1f' % g0)\n",
    "\n",
    "    jpi.plot_format(fig)\n",
    "    fig.legend.location = 'top_left'\n",
    "    fig.add_layout(fig.legend[0], 'right')\n",
    "    return fig\n",
    "# show(fig)"
   ]
  },
  {
   "cell_type": "code",
   "execution_count": null,
   "metadata": {},
   "outputs": [
    {
     "name": "stdout",
     "output_type": "stream",
     "text": [
      "Python 3.8.5 (default, Sep  4 2020, 02:22:02) \n",
      "Type 'copyright', 'credits' or 'license' for more information\n",
      "IPython 7.18.1 -- An enhanced Interactive Python. Type '?' for help.\n",
      "\n",
      "In [1]: output.keys()\n",
      "Out[1]: dict_keys([b'nwno', b'cos_theta', b'tweight', b'gweight', b'tau', b'flux_up', b'xint_at_top', b'flux_down', b'F0PI'])\n",
      "\n"
     ]
    }
   ],
   "source": [
    "cdisort_dir = '/Users/crooney/Documents/codes/picaso/docs/notebooks/cdisort_data/test/'\n",
    "fig = plot_intensity( ['cdisort','SH4', 'picaso'])\n",
    "fig2 = plot_intensity( ['cdisort','SH4', 'picaso'])"
   ]
  },
  {
   "cell_type": "code",
   "execution_count": 21,
   "metadata": {},
   "outputs": [
    {
     "data": {
      "text/html": [
       "\n",
       "\n",
       "\n",
       "\n",
       "\n",
       "\n",
       "  <div class=\"bk-root\" id=\"3baf246f-bf8a-4690-9ba4-b014891a4adf\" data-root-id=\"8487\"></div>\n"
      ]
     },
     "metadata": {},
     "output_type": "display_data"
    },
    {
     "data": {
      "application/javascript": [
       "(function(root) {\n",
       "  function embed_document(root) {\n",
       "    \n",
       "  var docs_json = {\"16674c5a-82b6-475e-97a3-feb37d4a0c01\":{\"roots\":{\"references\":[{\"attributes\":{\"children\":[{\"id\":\"7662\"},{\"id\":\"6456\"}]},\"id\":\"8487\",\"type\":\"Row\"},{\"attributes\":{\"data_source\":{\"id\":\"7941\"},\"glyph\":{\"id\":\"7942\"},\"hover_glyph\":null,\"muted_glyph\":null,\"nonselection_glyph\":{\"id\":\"7943\"},\"selection_glyph\":null,\"view\":{\"id\":\"7945\"}},\"id\":\"7944\",\"type\":\"GlyphRenderer\"},{\"attributes\":{\"label\":{\"value\":\"cdisort, g0 = 0.0\"},\"renderers\":[{\"id\":\"7728\"}]},\"id\":\"7739\",\"type\":\"LegendItem\"},{\"attributes\":{\"text\":\"\"},\"id\":\"6493\",\"type\":\"Title\"},{\"attributes\":{\"line_color\":\"#000003\",\"line_width\":3,\"x\":{\"field\":\"x\"},\"y\":{\"field\":\"y\"}},\"id\":\"7726\",\"type\":\"Line\"},{\"attributes\":{\"ticker\":null},\"id\":\"6494\",\"type\":\"LogTickFormatter\"},{\"attributes\":{\"line_alpha\":0.1,\"line_color\":\"#8C2980\",\"line_dash\":[2,4],\"line_width\":3,\"x\":{\"field\":\"x\"},\"y\":{\"field\":\"y\"}},\"id\":\"6632\",\"type\":\"Line\"},{\"attributes\":{\"line_alpha\":0.1,\"line_color\":\"#8C2980\",\"line_dash\":[6],\"line_width\":3,\"x\":{\"field\":\"x\"},\"y\":{\"field\":\"y\"}},\"id\":\"6660\",\"type\":\"Line\"},{\"attributes\":{\"line_alpha\":0.1,\"line_color\":\"#8C2980\",\"line_width\":3,\"x\":{\"field\":\"x\"},\"y\":{\"field\":\"y\"}},\"id\":\"6606\",\"type\":\"Line\"},{\"attributes\":{\"source\":{\"id\":\"6604\"}},\"id\":\"6608\",\"type\":\"CDSView\"},{\"attributes\":{\"bottom_units\":\"screen\",\"fill_alpha\":0.5,\"fill_color\":\"lightgrey\",\"left_units\":\"screen\",\"level\":\"overlay\",\"line_alpha\":1.0,\"line_color\":\"black\",\"line_dash\":[4,4],\"line_width\":2,\"right_units\":\"screen\",\"top_units\":\"screen\"},\"id\":\"7687\",\"type\":\"BoxAnnotation\"},{\"attributes\":{\"below\":[{\"id\":\"6465\"}],\"center\":[{\"id\":\"6468\"},{\"id\":\"6472\"},{\"id\":\"6501\"}],\"left\":[{\"id\":\"6469\"}],\"plot_height\":400,\"plot_width\":500,\"renderers\":[{\"id\":\"6490\"},{\"id\":\"6506\"},{\"id\":\"6522\"},{\"id\":\"6540\"},{\"id\":\"6561\"},{\"id\":\"6583\"},{\"id\":\"6607\"},{\"id\":\"6633\"},{\"id\":\"6661\"},{\"id\":\"6691\"},{\"id\":\"6723\"},{\"id\":\"6757\"},{\"id\":\"6793\"},{\"id\":\"6832\"},{\"id\":\"6872\"}],\"right\":[{\"id\":\"6501\"}],\"title\":{\"id\":\"6493\"},\"toolbar\":{\"id\":\"6480\"},\"x_range\":{\"id\":\"6457\"},\"x_scale\":{\"id\":\"6461\"},\"y_range\":{\"id\":\"6459\"},\"y_scale\":{\"id\":\"6463\"}},\"id\":\"6456\",\"subtype\":\"Figure\",\"type\":\"Plot\"},{\"attributes\":{},\"id\":\"6628\",\"type\":\"UnionRenderers\"},{\"attributes\":{},\"id\":\"6463\",\"type\":\"LogScale\"},{\"attributes\":{\"line_color\":\"#8C2980\",\"line_width\":3,\"x\":{\"field\":\"x\"},\"y\":{\"field\":\"y\"}},\"id\":\"6605\",\"type\":\"Line\"},{\"attributes\":{\"line_color\":\"#8C2980\",\"line_dash\":[2,4],\"line_width\":3,\"x\":{\"field\":\"x\"},\"y\":{\"field\":\"y\"}},\"id\":\"6631\",\"type\":\"Line\"},{\"attributes\":{},\"id\":\"6627\",\"type\":\"Selection\"},{\"attributes\":{\"axis_label\":\"w0\",\"axis_label_text_font\":\"times\",\"axis_label_text_font_size\":\"14pt\",\"axis_label_text_font_style\":\"bold\",\"formatter\":{\"id\":\"6496\"},\"major_label_text_font\":\"times\",\"major_label_text_font_size\":\"14pt\",\"ticker\":{\"id\":\"6466\"}},\"id\":\"6465\",\"type\":\"LinearAxis\"},{\"attributes\":{\"data_source\":{\"id\":\"7771\"},\"glyph\":{\"id\":\"7772\"},\"hover_glyph\":null,\"muted_glyph\":null,\"nonselection_glyph\":{\"id\":\"7773\"},\"selection_glyph\":null,\"view\":{\"id\":\"7775\"}},\"id\":\"7774\",\"type\":\"GlyphRenderer\"},{\"attributes\":{},\"id\":\"6466\",\"type\":\"BasicTicker\"},{\"attributes\":{\"axis\":{\"id\":\"6465\"},\"ticker\":null},\"id\":\"6468\",\"type\":\"Grid\"},{\"attributes\":{},\"id\":\"6478\",\"type\":\"HelpTool\"},{\"attributes\":{\"start\":1e-10},\"id\":\"7665\",\"type\":\"DataRange1d\"},{\"attributes\":{\"axis_label\":\"intensity\",\"axis_label_text_font\":\"times\",\"axis_label_text_font_size\":\"14pt\",\"axis_label_text_font_style\":\"bold\",\"formatter\":{\"id\":\"6494\"},\"major_label_text_font\":\"times\",\"major_label_text_font_size\":\"14pt\",\"ticker\":{\"id\":\"6470\"}},\"id\":\"6469\",\"type\":\"LogAxis\"},{\"attributes\":{\"line_alpha\":0.1,\"line_color\":\"#B53679\",\"line_width\":3,\"x\":{\"field\":\"x\"},\"y\":{\"field\":\"y\"}},\"id\":\"7881\",\"type\":\"Line\"},{\"attributes\":{\"axis\":{\"id\":\"6469\"},\"dimension\":1,\"ticker\":null},\"id\":\"6472\",\"type\":\"Grid\"},{\"attributes\":{\"data\":{\"x\":{\"__ndarray__\":\"/29O9jpDfb+ryWqtLC99v+SMQ7H8A32/xWMdygqnfL+iWamNQt97v61ZC4n6Mnq/2AzbrCCidr/w0LCwH0Fuv0Bf6TF9ARA/7auZk6zrfT9n7gchcPaTPwDKoMWrZqE/pg9UTBTjoj8/kRLVcU2RP7bBj113w1Y/1RepcU+dzz6RZjsaZyelPR+MQWQomSQ7GkYq8/qyNbY=\",\"dtype\":\"float64\",\"order\":\"little\",\"shape\":[19]},\"y\":{\"__ndarray__\":\"AAAAAAAAAACzRdJu9DEPP3qH3hDLmSg/81afIVZmPj+EiwnrMVlRP4b/vq7pLGM/xIsdN1vmdD8c6dgWsaKGP8Q89XK9cZg/ZC0osb5cqj+6wrCyw2m8P6Fbw/pfnc4/SlB9+cN94D+qkxC1AMTxPz8may9PIwNA1io1ka6dFEDR+wCvPTUmQG0RnGFB7DdAW4ataCnFSUAuw1a0lMJbQA==\",\"dtype\":\"float64\",\"order\":\"little\",\"shape\":[20]}},\"selected\":{\"id\":\"7959\"},\"selection_policy\":{\"id\":\"7960\"}},\"id\":\"7941\",\"type\":\"ColumnDataSource\"},{\"attributes\":{\"line_alpha\":0.1,\"line_color\":\"#B53679\",\"line_dash\":[2,4],\"line_width\":3,\"x\":{\"field\":\"x\"},\"y\":{\"field\":\"y\"}},\"id\":\"7943\",\"type\":\"Line\"},{\"attributes\":{\"num_minor_ticks\":10},\"id\":\"6470\",\"type\":\"LogTicker\"},{\"attributes\":{},\"id\":\"6496\",\"type\":\"BasicTickFormatter\"},{\"attributes\":{\"start\":100.0},\"id\":\"7667\",\"type\":\"Range1d\"},{\"attributes\":{\"items\":[{\"id\":\"7739\"},{\"id\":\"7786\"},{\"id\":\"7839\"},{\"id\":\"7898\"},{\"id\":\"7962\"},{\"id\":\"8032\"}],\"location\":\"top_left\"},\"id\":\"7738\",\"type\":\"Legend\"},{\"attributes\":{},\"id\":\"6656\",\"type\":\"UnionRenderers\"},{\"attributes\":{\"label\":{\"value\":\"picaso, g0 = 0.9\"},\"renderers\":[{\"id\":\"7944\"}]},\"id\":\"7962\",\"type\":\"LegendItem\"},{\"attributes\":{\"data\":{\"x\":[0.5,0.55,0.6,0.65,0.7,0.8,0.9,0.95,0.98,0.99,0.995,0.999,1.0],\"y\":[0.0028449607469485795,0.003620561795749215,0.004655184982120436,0.006075319179013884,0.008091232379929694,0.01572391595913378,0.03820912282602871,0.07248568545535924,0.12867534481534562,0.1721477880883187,0.21168826884717037,0.2794331139231347,0.33350670071809657]},\"selected\":{\"id\":\"6655\"},\"selection_policy\":{\"id\":\"6656\"}},\"id\":\"6630\",\"type\":\"ColumnDataSource\"},{\"attributes\":{},\"id\":\"6474\",\"type\":\"WheelZoomTool\"},{\"attributes\":{},\"id\":\"6473\",\"type\":\"PanTool\"},{\"attributes\":{\"overlay\":{\"id\":\"6479\"}},\"id\":\"6475\",\"type\":\"BoxZoomTool\"},{\"attributes\":{},\"id\":\"6476\",\"type\":\"SaveTool\"},{\"attributes\":{},\"id\":\"7959\",\"type\":\"Selection\"},{\"attributes\":{\"source\":{\"id\":\"7941\"}},\"id\":\"7945\",\"type\":\"CDSView\"},{\"attributes\":{},\"id\":\"6477\",\"type\":\"ResetTool\"},{\"attributes\":{\"data_source\":{\"id\":\"6630\"},\"glyph\":{\"id\":\"6631\"},\"hover_glyph\":null,\"muted_glyph\":null,\"nonselection_glyph\":{\"id\":\"6632\"},\"selection_glyph\":null,\"view\":{\"id\":\"6634\"}},\"id\":\"6633\",\"type\":\"GlyphRenderer\"},{\"attributes\":{\"source\":{\"id\":\"6630\"}},\"id\":\"6634\",\"type\":\"CDSView\"},{\"attributes\":{\"line_color\":\"#8C2980\",\"line_dash\":[6],\"line_width\":3,\"x\":{\"field\":\"x\"},\"y\":{\"field\":\"y\"}},\"id\":\"6659\",\"type\":\"Line\"},{\"attributes\":{\"line_color\":\"#B53679\",\"line_width\":3,\"x\":{\"field\":\"x\"},\"y\":{\"field\":\"y\"}},\"id\":\"7880\",\"type\":\"Line\"},{\"attributes\":{},\"id\":\"7960\",\"type\":\"UnionRenderers\"},{\"attributes\":{},\"id\":\"6498\",\"type\":\"Selection\"},{\"attributes\":{\"data_source\":{\"id\":\"6537\"},\"glyph\":{\"id\":\"6538\"},\"hover_glyph\":null,\"muted_glyph\":null,\"nonselection_glyph\":{\"id\":\"6539\"},\"selection_glyph\":null,\"view\":{\"id\":\"6541\"}},\"id\":\"6540\",\"type\":\"GlyphRenderer\"},{\"attributes\":{},\"id\":\"6655\",\"type\":\"Selection\"},{\"attributes\":{\"num_minor_ticks\":10},\"id\":\"7674\",\"type\":\"LogTicker\"},{\"attributes\":{\"data\":{\"x\":[0.5,0.55,0.6,0.65,0.7,0.8,0.9,0.95,0.98,0.99,0.995,0.999,1.0],\"y\":[0.00998113822721014,0.01170325870577997,0.013763490087127784,0.01630956556796354,0.019582401807422236,0.03032799169847126,0.05740668346269105,0.09495345608154047,0.15307669157553203,0.1965274839674529,0.23527168203593102,0.30029976711989653,0.35281277274335954]},\"selected\":{\"id\":\"6554\"},\"selection_policy\":{\"id\":\"6555\"}},\"id\":\"6537\",\"type\":\"ColumnDataSource\"},{\"attributes\":{},\"id\":\"6499\",\"type\":\"UnionRenderers\"},{\"attributes\":{\"line_alpha\":0.1,\"line_color\":\"#000003\",\"line_dash\":[2,4],\"line_width\":3,\"x\":{\"field\":\"x\"},\"y\":{\"field\":\"y\"}},\"id\":\"7773\",\"type\":\"Line\"},{\"attributes\":{\"line_color\":\"#3B0F6F\",\"line_width\":3,\"x\":{\"field\":\"x\"},\"y\":{\"field\":\"y\"}},\"id\":\"6538\",\"type\":\"Line\"},{\"attributes\":{\"data\":{\"x\":{\"__ndarray__\":\"/i9oAUPPwL8/Q1E8iczAv6yJYtyqxsC/wTLFYQq6wL+iz8kW6p7Av4L9Eu7UZMC/gL5PCrLSv7+8YQv6qc29vzb2w3PUtrm/RPxGyfcEsr8oYDq1+/CWv1ROcSJUpp0/pGoFrVY8pD/fXxROvLeDP4aZAR9eiSI/x3LDAl35Pj6+OvTdddVKPM635oftq1I7kwtRGiMcMrU=\",\"dtype\":\"float64\",\"order\":\"little\",\"shape\":[19]},\"y\":{\"__ndarray__\":\"AAAAAAAAAAAtQxzr4jYaP3UzE2JDrDQ/La67TceLST8Sgc95MShdP+x1AwcjHXA/vgdxBRmQgT8cjo8mfQWTPyBC++WaiqQ/CsFo1TYntj9SLYE3aODHP3/wIIMHutk/OGCWfGe36z8cMEu+s9v9PywELxARFRBADjP73AZTIUCHmX1ug6kyQPISAuBuGkRAsKYdWtWnVUBY0w6t6lNnQA==\",\"dtype\":\"float64\",\"order\":\"little\",\"shape\":[20]}},\"selected\":{\"id\":\"7783\"},\"selection_policy\":{\"id\":\"7784\"}},\"id\":\"7771\",\"type\":\"ColumnDataSource\"},{\"attributes\":{\"label\":{\"value\":\"cdisort, g0 = 0.9\"},\"renderers\":[{\"id\":\"7882\"}]},\"id\":\"7898\",\"type\":\"LegendItem\"},{\"attributes\":{\"source\":{\"id\":\"6537\"}},\"id\":\"6541\",\"type\":\"CDSView\"},{\"attributes\":{\"data\":{\"x\":{\"__ndarray__\":\"YA82faOVe7+hdpgPCWJ7v5VS4Dnj8nq/0STkkI4Der8vOnyMiQB4v+F6njXBrXO/qspB71/UZL/SFy0qSJ9iP5jyLgB3X4k/Z/BGnZ/noD/g1vaU1ImyPxCMiQnLjsE/2H+ah8vEyj9z/9WWedzKP+C8CfDE+bY/YNxpn62Wez+skqhS/3ruPlSF/ROpsrU9AAAAAAAAAAAAAAAAAAAAAA==\",\"dtype\":\"float64\",\"order\":\"little\",\"shape\":[20]},\"y\":{\"__ndarray__\":\"AAAAAAAAAACzRdJu9DEPP3qH3hDLmSg/81afIVZmPj+EiwnrMVlRP4b/vq7pLGM/xIsdN1vmdD8c6dgWsaKGP8Q89XK9cZg/ZC0osb5cqj+6wrCyw2m8P6Fbw/pfnc4/SlB9+cN94D+qkxC1AMTxPz8may9PIwNA1io1ka6dFEDR+wCvPTUmQG0RnGFB7DdAW4ataCnFSUAuw1a0lMJbQA==\",\"dtype\":\"float64\",\"order\":\"little\",\"shape\":[20]}},\"selected\":{\"id\":\"7895\"},\"selection_policy\":{\"id\":\"7896\"}},\"id\":\"7879\",\"type\":\"ColumnDataSource\"},{\"attributes\":{\"line_color\":\"#3B0F6F\",\"line_dash\":[2,4],\"line_width\":3,\"x\":{\"field\":\"x\"},\"y\":{\"field\":\"y\"}},\"id\":\"6559\",\"type\":\"Line\"},{\"attributes\":{},\"id\":\"7895\",\"type\":\"Selection\"},{\"attributes\":{\"data_source\":{\"id\":\"7879\"},\"glyph\":{\"id\":\"7880\"},\"hover_glyph\":null,\"muted_glyph\":null,\"nonselection_glyph\":{\"id\":\"7881\"},\"selection_glyph\":null,\"view\":{\"id\":\"7883\"}},\"id\":\"7882\",\"type\":\"GlyphRenderer\"},{\"attributes\":{\"label\":{\"value\":\"picaso, g0 = 0.0\"},\"renderers\":[{\"id\":\"7774\"}]},\"id\":\"7786\",\"type\":\"LegendItem\"},{\"attributes\":{\"line_alpha\":0.1,\"line_color\":\"#3B0F6F\",\"line_width\":3,\"x\":{\"field\":\"x\"},\"y\":{\"field\":\"y\"}},\"id\":\"6539\",\"type\":\"Line\"},{\"attributes\":{\"source\":{\"id\":\"7879\"}},\"id\":\"7883\",\"type\":\"CDSView\"},{\"attributes\":{\"label\":{\"value\":\"g0 = 0.8\"},\"renderers\":[{\"id\":\"6540\"},{\"id\":\"6561\"},{\"id\":\"6583\"},{\"id\":\"6607\"},{\"id\":\"6633\"},{\"id\":\"6661\"},{\"id\":\"6691\"},{\"id\":\"6723\"},{\"id\":\"6757\"}]},\"id\":\"6557\",\"type\":\"LegendItem\"},{\"attributes\":{\"bottom_units\":\"screen\",\"fill_alpha\":0.5,\"fill_color\":\"lightgrey\",\"left_units\":\"screen\",\"level\":\"overlay\",\"line_alpha\":1.0,\"line_color\":\"black\",\"line_dash\":[4,4],\"line_width\":2,\"right_units\":\"screen\",\"top_units\":\"screen\"},\"id\":\"6479\",\"type\":\"BoxAnnotation\"},{\"attributes\":{\"source\":{\"id\":\"7771\"}},\"id\":\"7775\",\"type\":\"CDSView\"},{\"attributes\":{},\"id\":\"6686\",\"type\":\"UnionRenderers\"},{\"attributes\":{\"data\":{\"x\":[0.5,0.55,0.6,0.65,0.7,0.8,0.9,0.95,0.98,0.99,0.995,0.999,1.0],\"y\":[0.002747636098907338,0.0034728014095224864,0.0044332749334964104,0.005744454992005366,0.007599888362140999,0.014640287083433026,0.03578638498287422,0.06893833501681904,0.12471999380117607,0.1686238862960311,0.2089097085867284,0.2783881994062959,0.3341489166196874]},\"selected\":{\"id\":\"6685\"},\"selection_policy\":{\"id\":\"6686\"}},\"id\":\"6658\",\"type\":\"ColumnDataSource\"},{\"attributes\":{},\"id\":\"7896\",\"type\":\"UnionRenderers\"},{\"attributes\":{},\"id\":\"7783\",\"type\":\"Selection\"},{\"attributes\":{},\"id\":\"7669\",\"type\":\"LogScale\"},{\"attributes\":{},\"id\":\"6718\",\"type\":\"UnionRenderers\"},{\"attributes\":{\"data_source\":{\"id\":\"6658\"},\"glyph\":{\"id\":\"6659\"},\"hover_glyph\":null,\"muted_glyph\":null,\"nonselection_glyph\":{\"id\":\"6660\"},\"selection_glyph\":null,\"view\":{\"id\":\"6662\"}},\"id\":\"6661\",\"type\":\"GlyphRenderer\"},{\"attributes\":{\"source\":{\"id\":\"6658\"}},\"id\":\"6662\",\"type\":\"CDSView\"},{\"attributes\":{\"line_color\":\"#000003\",\"line_dash\":[2,4],\"line_width\":3,\"x\":{\"field\":\"x\"},\"y\":{\"field\":\"y\"}},\"id\":\"6504\",\"type\":\"Line\"},{\"attributes\":{},\"id\":\"7784\",\"type\":\"UnionRenderers\"},{\"attributes\":{\"line_alpha\":0.1,\"line_color\":\"#000003\",\"line_dash\":[2,4],\"line_width\":3,\"x\":{\"field\":\"x\"},\"y\":{\"field\":\"y\"}},\"id\":\"6505\",\"type\":\"Line\"},{\"attributes\":{},\"id\":\"6685\",\"type\":\"Selection\"},{\"attributes\":{\"data\":{\"x\":[0.5,0.55,0.6,0.65,0.7,0.8,0.9,0.95,0.98,0.99,0.995,0.999,1.0],\"y\":[0.011042047931461565,0.013742161985638995,0.017113940994056002,0.02139059029585303,0.02692225436044871,0.044347611863717384,0.0818606751932398,0.12452958711294074,0.18015992918775087,0.2171841079516051,0.2480976557865881,0.2968605208986606,0.33687091090198645]},\"selected\":{\"id\":\"6516\"},\"selection_policy\":{\"id\":\"6517\"}},\"id\":\"6503\",\"type\":\"ColumnDataSource\"},{\"attributes\":{\"data\":{\"x\":[0.5,0.55,0.6,0.65,0.7,0.8,0.9,0.95,0.98,0.99,0.995,0.999,1.0],\"y\":[0.010639163896562163,0.01320800648434787,0.01641602010401756,0.020489491933063715,0.025770358682345125,0.04251450836505306,0.07909618562286566,0.12138788426157204,0.1772248990724264,0.21464151870218434,0.24595976806774303,0.2953954050216973,0.3359275674967712]},\"selected\":{\"id\":\"6534\"},\"selection_policy\":{\"id\":\"6535\"}},\"id\":\"6519\",\"type\":\"ColumnDataSource\"},{\"attributes\":{\"data_source\":{\"id\":\"6503\"},\"glyph\":{\"id\":\"6504\"},\"hover_glyph\":null,\"muted_glyph\":null,\"nonselection_glyph\":{\"id\":\"6505\"},\"selection_glyph\":null,\"view\":{\"id\":\"6507\"}},\"id\":\"6506\",\"type\":\"GlyphRenderer\"},{\"attributes\":{\"source\":{\"id\":\"6503\"}},\"id\":\"6507\",\"type\":\"CDSView\"},{\"attributes\":{\"line_color\":\"#000003\",\"line_dash\":[6],\"line_width\":3,\"x\":{\"field\":\"x\"},\"y\":{\"field\":\"y\"}},\"id\":\"6520\",\"type\":\"Line\"},{\"attributes\":{\"active_drag\":\"auto\",\"active_inspect\":\"auto\",\"active_multi\":null,\"active_scroll\":\"auto\",\"active_tap\":\"auto\",\"tools\":[{\"id\":\"6473\"},{\"id\":\"6474\"},{\"id\":\"6475\"},{\"id\":\"6476\"},{\"id\":\"6477\"},{\"id\":\"6478\"}]},\"id\":\"6480\",\"type\":\"Toolbar\"},{\"attributes\":{\"axis\":{\"id\":\"7673\"},\"ticker\":null},\"id\":\"7676\",\"type\":\"Grid\"},{\"attributes\":{\"line_alpha\":0.1,\"line_color\":\"#DD4968\",\"line_width\":3,\"x\":{\"field\":\"x\"},\"y\":{\"field\":\"y\"}},\"id\":\"6690\",\"type\":\"Line\"},{\"attributes\":{},\"id\":\"6516\",\"type\":\"Selection\"},{\"attributes\":{\"source\":{\"id\":\"6688\"}},\"id\":\"6692\",\"type\":\"CDSView\"},{\"attributes\":{},\"id\":\"6517\",\"type\":\"UnionRenderers\"},{\"attributes\":{\"line_alpha\":0.1,\"line_color\":\"#000003\",\"line_width\":3,\"x\":{\"field\":\"x\"},\"y\":{\"field\":\"y\"}},\"id\":\"6489\",\"type\":\"Line\"},{\"attributes\":{\"line_color\":\"#000003\",\"line_width\":3,\"x\":{\"field\":\"x\"},\"y\":{\"field\":\"y\"}},\"id\":\"6488\",\"type\":\"Line\"},{\"attributes\":{\"data\":{\"x\":[0.5,0.55,0.6,0.65,0.7,0.8,0.9,0.95,0.98,0.99,0.995,0.999,1.0],\"y\":[0.00186073554517923,0.002356482262238883,0.003022873149989377,0.0039497490795564584,0.00529141245219171,0.010624582183591153,0.02802214733805107,0.057616180551095554,0.11100545689856055,0.15509078033520454,0.19673899415309967,0.2707605728780838,0.3290519553389353]},\"selected\":{\"id\":\"6751\"},\"selection_policy\":{\"id\":\"6752\"}},\"id\":\"6720\",\"type\":\"ColumnDataSource\"},{\"attributes\":{\"items\":[{\"id\":\"6502\"},{\"id\":\"6557\"},{\"id\":\"6828\"}],\"location\":\"top_left\"},\"id\":\"6501\",\"type\":\"Legend\"},{\"attributes\":{\"line_color\":\"#B53679\",\"line_dash\":[6],\"line_width\":3,\"x\":{\"field\":\"x\"},\"y\":{\"field\":\"y\"}},\"id\":\"8010\",\"type\":\"Line\"},{\"attributes\":{\"line_color\":\"#DD4968\",\"line_dash\":[2,4],\"line_width\":3,\"x\":{\"field\":\"x\"},\"y\":{\"field\":\"y\"}},\"id\":\"6721\",\"type\":\"Line\"},{\"attributes\":{\"axis_label\":\"net flux\",\"axis_label_text_font\":\"times\",\"axis_label_text_font_size\":\"14pt\",\"axis_label_text_font_style\":\"bold\",\"formatter\":{\"id\":\"7733\"},\"major_label_text_font\":\"times\",\"major_label_text_font_size\":\"14pt\",\"ticker\":{\"id\":\"7674\"}},\"id\":\"7673\",\"type\":\"LogAxis\"},{\"attributes\":{\"data\":{\"x\":{\"__ndarray__\":\"gB/PX0fpe7+w+546I9h7v9DhJFM3s3u/EOBNabVje78wpVfAlrh6v0Dpt4S6SHm/0Dcpqe0zdr/Ad1FjcENvvwBeT1BWhTy/8PugDXKqej8UhSF8SnmUP0gKoD2SB6Y/NiwkViVVsj9+jnQtPY60P5yhF1UnIqU/ePXAcvy1cD8ZMXdiWF/oPgL5iVkEo7E9yrE5/Lxd8bw8svzPjqvxvA==\",\"dtype\":\"float64\",\"order\":\"little\",\"shape\":[20]},\"y\":{\"__ndarray__\":\"AAAAAAAAAABGSlBPYZ0RP9pD2sRFyCs/MN+LeGcqQT8EHtiNkJdTPzBiK3nFp2U/4FLARU6adz9249YoG5CJP7aZOhMKm5s/FpcSdYvFrT8K2v5gOwvAPwLmwH97SdE/ZsEJw8Gf4j8Ioi2GLxD0P0CoKAbtnAVAGvYHhztIF0C37FYRgBQpQGbDgZxKBDtALGwxk1saTUArZOCqqFlfQA==\",\"dtype\":\"float64\",\"order\":\"little\",\"shape\":[20]}},\"selected\":{\"id\":\"8029\"},\"selection_policy\":{\"id\":\"8030\"}},\"id\":\"8009\",\"type\":\"ColumnDataSource\"},{\"attributes\":{\"source\":{\"id\":\"6487\"}},\"id\":\"6491\",\"type\":\"CDSView\"},{\"attributes\":{},\"id\":\"7671\",\"type\":\"LogScale\"},{\"attributes\":{\"data\":{\"x\":[0.5,0.55,0.6,0.65,0.7,0.8,0.9,0.95,0.98,0.99,0.995,0.999,1.0],\"y\":[0.02094502133073361,0.0237615090245642,0.026832300365076583,0.030244811528146537,0.034145984106718194,0.044739267503664554,0.06720927553586145,0.09901530256841651,0.15405419962469857,0.1994231183179108,0.24245729002276978,0.3192955863030263,0.3801751122424113]},\"selected\":{\"id\":\"6717\"},\"selection_policy\":{\"id\":\"6718\"}},\"id\":\"6688\",\"type\":\"ColumnDataSource\"},{\"attributes\":{\"line_color\":\"#DD4968\",\"line_width\":3,\"x\":{\"field\":\"x\"},\"y\":{\"field\":\"y\"}},\"id\":\"6689\",\"type\":\"Line\"},{\"attributes\":{\"data\":{\"x\":[0.5,0.55,0.6,0.65,0.7,0.8,0.9,0.95,0.98,0.99,0.995,0.999,1.0],\"y\":[0.011034899611381882,0.013669635494629268,0.016951150385137174,0.021107457253085705,0.026483132482011777,0.04347312092985594,0.08047169540776669,0.12317868843550771,0.17953150671234439,0.21728589110068358,0.2488844916652775,0.29876012016812525,0.3396524799106769]},\"selected\":{\"id\":\"6498\"},\"selection_policy\":{\"id\":\"6499\"}},\"id\":\"6487\",\"type\":\"ColumnDataSource\"},{\"attributes\":{},\"id\":\"6717\",\"type\":\"Selection\"},{\"attributes\":{\"label\":{\"value\":\"g0 = 0.5\"},\"renderers\":[{\"id\":\"6490\"},{\"id\":\"6506\"},{\"id\":\"6522\"}]},\"id\":\"6502\",\"type\":\"LegendItem\"},{\"attributes\":{},\"id\":\"6867\",\"type\":\"UnionRenderers\"},{\"attributes\":{\"data_source\":{\"id\":\"7725\"},\"glyph\":{\"id\":\"7726\"},\"hover_glyph\":null,\"muted_glyph\":null,\"nonselection_glyph\":{\"id\":\"7727\"},\"selection_glyph\":null,\"view\":{\"id\":\"7729\"}},\"id\":\"7728\",\"type\":\"GlyphRenderer\"},{\"attributes\":{\"data\":{\"x\":{\"__ndarray__\":\"YUreuJhuvb9iG/JcJGy9v26JnzrbZr2/pHdM4npbvb8KzufPBUO9v80PFmeSDr2/Cb8yj6uevL9v2TWQhbK7v/GJ0SQky7m/BdiltQ8Itr9amW3y5l2uv1jlHePta5K/FmhRuEngmT8Pu/KCc/mhP46eVYl+YYQ/hJfAZFFsLD8gACl/VdZZPofb8F1q2oU8AAAAAAAAAAAAAAAAAAAAAA==\",\"dtype\":\"float64\",\"order\":\"little\",\"shape\":[20]},\"y\":{\"__ndarray__\":\"AAAAAAAAAAAtQxzr4jYaP3UzE2JDrDQ/La67TceLST8Sgc95MShdP+x1AwcjHXA/vgdxBRmQgT8cjo8mfQWTPyBC++WaiqQ/CsFo1TYntj9SLYE3aODHP3/wIIMHutk/OGCWfGe36z8cMEu+s9v9PywELxARFRBADjP73AZTIUCHmX1ug6kyQPISAuBuGkRAsKYdWtWnVUBY0w6t6lNnQA==\",\"dtype\":\"float64\",\"order\":\"little\",\"shape\":[20]}},\"selected\":{\"id\":\"7735\"},\"selection_policy\":{\"id\":\"7736\"}},\"id\":\"7725\",\"type\":\"ColumnDataSource\"},{\"attributes\":{},\"id\":\"6555\",\"type\":\"UnionRenderers\"},{\"attributes\":{\"line_alpha\":0.1,\"line_color\":\"#000003\",\"line_dash\":[6],\"line_width\":3,\"x\":{\"field\":\"x\"},\"y\":{\"field\":\"y\"}},\"id\":\"6521\",\"type\":\"Line\"},{\"attributes\":{\"line_alpha\":0.1,\"line_color\":\"#FD9F6C\",\"line_dash\":[6],\"line_width\":3,\"x\":{\"field\":\"x\"},\"y\":{\"field\":\"y\"}},\"id\":\"6871\",\"type\":\"Line\"},{\"attributes\":{\"source\":{\"id\":\"7725\"}},\"id\":\"7729\",\"type\":\"CDSView\"},{\"attributes\":{},\"id\":\"6535\",\"type\":\"UnionRenderers\"},{\"attributes\":{},\"id\":\"6866\",\"type\":\"Selection\"},{\"attributes\":{\"line_alpha\":0.1,\"line_color\":\"#000003\",\"line_width\":3,\"x\":{\"field\":\"x\"},\"y\":{\"field\":\"y\"}},\"id\":\"7727\",\"type\":\"Line\"},{\"attributes\":{},\"id\":\"6752\",\"type\":\"UnionRenderers\"},{\"attributes\":{\"data_source\":{\"id\":\"6519\"},\"glyph\":{\"id\":\"6520\"},\"hover_glyph\":null,\"muted_glyph\":null,\"nonselection_glyph\":{\"id\":\"6521\"},\"selection_glyph\":null,\"view\":{\"id\":\"6523\"}},\"id\":\"6522\",\"type\":\"GlyphRenderer\"},{\"attributes\":{\"line_alpha\":0.1,\"line_color\":\"#DD4968\",\"line_dash\":[2,4],\"line_width\":3,\"x\":{\"field\":\"x\"},\"y\":{\"field\":\"y\"}},\"id\":\"6722\",\"type\":\"Line\"},{\"attributes\":{\"source\":{\"id\":\"6519\"}},\"id\":\"6523\",\"type\":\"CDSView\"},{\"attributes\":{\"line_alpha\":0.1,\"line_color\":\"#DD4968\",\"line_dash\":[6],\"line_width\":3,\"x\":{\"field\":\"x\"},\"y\":{\"field\":\"y\"}},\"id\":\"6756\",\"type\":\"Line\"},{\"attributes\":{\"line_alpha\":0.1,\"line_color\":\"#000003\",\"line_dash\":[6],\"line_width\":3,\"x\":{\"field\":\"x\"},\"y\":{\"field\":\"y\"}},\"id\":\"7824\",\"type\":\"Line\"},{\"attributes\":{\"line_alpha\":0.1,\"line_color\":\"#B53679\",\"line_dash\":[6],\"line_width\":3,\"x\":{\"field\":\"x\"},\"y\":{\"field\":\"y\"}},\"id\":\"8011\",\"type\":\"Line\"},{\"attributes\":{\"line_alpha\":0.1,\"line_color\":\"#FD9F6C\",\"line_width\":3,\"x\":{\"field\":\"x\"},\"y\":{\"field\":\"y\"}},\"id\":\"6792\",\"type\":\"Line\"},{\"attributes\":{},\"id\":\"6534\",\"type\":\"Selection\"},{\"attributes\":{\"data_source\":{\"id\":\"6720\"},\"glyph\":{\"id\":\"6721\"},\"hover_glyph\":null,\"muted_glyph\":null,\"nonselection_glyph\":{\"id\":\"6722\"},\"selection_glyph\":null,\"view\":{\"id\":\"6724\"}},\"id\":\"6723\",\"type\":\"GlyphRenderer\"},{\"attributes\":{\"source\":{\"id\":\"6720\"}},\"id\":\"6724\",\"type\":\"CDSView\"},{\"attributes\":{\"label\":{\"value\":\"SH4, g0 = 0.0\"},\"renderers\":[{\"id\":\"7825\"}]},\"id\":\"7839\",\"type\":\"LegendItem\"},{\"attributes\":{\"label\":{\"value\":\"SH4, g0 = 0.9\"},\"renderers\":[{\"id\":\"8012\"}]},\"id\":\"8032\",\"type\":\"LegendItem\"},{\"attributes\":{\"line_color\":\"#DD4968\",\"line_dash\":[6],\"line_width\":3,\"x\":{\"field\":\"x\"},\"y\":{\"field\":\"y\"}},\"id\":\"6755\",\"type\":\"Line\"},{\"attributes\":{\"data_source\":{\"id\":\"8009\"},\"glyph\":{\"id\":\"8010\"},\"hover_glyph\":null,\"muted_glyph\":null,\"nonselection_glyph\":{\"id\":\"8011\"},\"selection_glyph\":null,\"view\":{\"id\":\"8013\"}},\"id\":\"8012\",\"type\":\"GlyphRenderer\"},{\"attributes\":{\"end\":0.2,\"start\":0.0001},\"id\":\"6459\",\"type\":\"Range1d\"},{\"attributes\":{\"source\":{\"id\":\"8009\"}},\"id\":\"8013\",\"type\":\"CDSView\"},{\"attributes\":{\"line_color\":\"#000003\",\"line_dash\":[6],\"line_width\":3,\"x\":{\"field\":\"x\"},\"y\":{\"field\":\"y\"}},\"id\":\"7823\",\"type\":\"Line\"},{\"attributes\":{\"line_color\":\"#FD9F6C\",\"line_dash\":[6],\"line_width\":3,\"x\":{\"field\":\"x\"},\"y\":{\"field\":\"y\"}},\"id\":\"6870\",\"type\":\"Line\"},{\"attributes\":{},\"id\":\"8029\",\"type\":\"Selection\"},{\"attributes\":{\"data\":{\"x\":[0.5,0.55,0.6,0.65,0.7,0.8,0.9,0.95,0.98,0.99,0.995,0.999,1.0],\"y\":[0.0010306975529565934,0.0012810369927295524,0.0016131892013951455,0.0020722485368845846,0.002738548163695266,0.005481977931623385,0.01570969185412334,0.03672809073162458,0.08256388601600562,0.12582687195035588,0.17005264935932562,0.2546658973133211,0.3205021109678941]},\"selected\":{\"id\":\"6908\"},\"selection_policy\":{\"id\":\"6909\"}},\"id\":\"6869\",\"type\":\"ColumnDataSource\"},{\"attributes\":{},\"id\":\"6751\",\"type\":\"Selection\"},{\"attributes\":{\"ticker\":null},\"id\":\"7731\",\"type\":\"LogTickFormatter\"},{\"attributes\":{},\"id\":\"8030\",\"type\":\"UnionRenderers\"},{\"attributes\":{},\"id\":\"6554\",\"type\":\"Selection\"},{\"attributes\":{},\"id\":\"6909\",\"type\":\"UnionRenderers\"},{\"attributes\":{\"data_source\":{\"id\":\"6869\"},\"glyph\":{\"id\":\"6870\"},\"hover_glyph\":null,\"muted_glyph\":null,\"nonselection_glyph\":{\"id\":\"6871\"},\"selection_glyph\":null,\"view\":{\"id\":\"6873\"}},\"id\":\"6872\",\"type\":\"GlyphRenderer\"},{\"attributes\":{\"source\":{\"id\":\"6869\"}},\"id\":\"6873\",\"type\":\"CDSView\"},{\"attributes\":{},\"id\":\"6788\",\"type\":\"UnionRenderers\"},{\"attributes\":{\"data\":{\"x\":[0.5,0.55,0.6,0.65,0.7,0.8,0.9,0.95,0.98,0.99,0.995,0.999,1.0],\"y\":[0.0018150202905923086,0.0022828589131093533,0.002905381054618736,0.003763213182111833,0.004995645181568294,0.009871779223922995,0.02601720090965005,0.054314541445328025,0.1069340961570597,0.15128683836540593,0.19365252027518257,0.2696114957806288,0.32991788603235017]},\"selected\":{\"id\":\"6787\"},\"selection_policy\":{\"id\":\"6788\"}},\"id\":\"6754\",\"type\":\"ColumnDataSource\"},{\"attributes\":{},\"id\":\"6908\",\"type\":\"Selection\"},{\"attributes\":{},\"id\":\"7836\",\"type\":\"Selection\"},{\"attributes\":{},\"id\":\"6578\",\"type\":\"UnionRenderers\"},{\"attributes\":{\"data_source\":{\"id\":\"6688\"},\"glyph\":{\"id\":\"6689\"},\"hover_glyph\":null,\"muted_glyph\":null,\"nonselection_glyph\":{\"id\":\"6690\"},\"selection_glyph\":null,\"view\":{\"id\":\"6692\"}},\"id\":\"6691\",\"type\":\"GlyphRenderer\"},{\"attributes\":{\"data\":{\"x\":{\"__ndarray__\":\"YGBN7m4Lvr8gDc8ZAAm+v9Dw4LLCA76/QIZUzHr4vb/wF12RNuC9v7CMrAAbrL2/EK+pPKQ8vb+AsuVYKlC8v/BORCZNY7q/YPiSPqiGtr8AU/V638muv+Da/6qNmZG/QMlNCeoHmz+YX46W4u2hPxrUX6QnRIQ/ALWF8oSELD8s2vbQAxlYPrhd8GusiPm8sevRWjXB+bzGVO2pgPn8vA==\",\"dtype\":\"float64\",\"order\":\"little\",\"shape\":[20]},\"y\":{\"__ndarray__\":\"AAAAAAAAAAAtQxzr4jYaP3UzE2JDrDQ/La67TceLST8Sgc95MShdP+x1AwcjHXA/vgdxBRmQgT8cjo8mfQWTPyBC++WaiqQ/CsFo1TYntj9SLYE3aODHP3/wIIMHutk/OGCWfGe36z8cMEu+s9v9PywELxARFRBADjP73AZTIUCHmX1ug6kyQPISAuBuGkRAsKYdWtWnVUBY0w6t6lNnQA==\",\"dtype\":\"float64\",\"order\":\"little\",\"shape\":[20]}},\"selected\":{\"id\":\"7836\"},\"selection_policy\":{\"id\":\"7837\"}},\"id\":\"7822\",\"type\":\"ColumnDataSource\"},{\"attributes\":{\"line_alpha\":0.1,\"line_color\":\"#FD9F6C\",\"line_dash\":[2,4],\"line_width\":3,\"x\":{\"field\":\"x\"},\"y\":{\"field\":\"y\"}},\"id\":\"6831\",\"type\":\"Line\"},{\"attributes\":{\"data_source\":{\"id\":\"6754\"},\"glyph\":{\"id\":\"6755\"},\"hover_glyph\":null,\"muted_glyph\":null,\"nonselection_glyph\":{\"id\":\"6756\"},\"selection_glyph\":null,\"view\":{\"id\":\"6758\"}},\"id\":\"6757\",\"type\":\"GlyphRenderer\"},{\"attributes\":{\"line_alpha\":0.1,\"line_color\":\"#3B0F6F\",\"line_dash\":[2,4],\"line_width\":3,\"x\":{\"field\":\"x\"},\"y\":{\"field\":\"y\"}},\"id\":\"6560\",\"type\":\"Line\"},{\"attributes\":{\"source\":{\"id\":\"6754\"}},\"id\":\"6758\",\"type\":\"CDSView\"},{\"attributes\":{\"data_source\":{\"id\":\"6790\"},\"glyph\":{\"id\":\"6791\"},\"hover_glyph\":null,\"muted_glyph\":null,\"nonselection_glyph\":{\"id\":\"6792\"},\"selection_glyph\":null,\"view\":{\"id\":\"6794\"}},\"id\":\"6793\",\"type\":\"GlyphRenderer\"},{\"attributes\":{\"ticker\":null},\"id\":\"7733\",\"type\":\"LogTickFormatter\"},{\"attributes\":{\"data\":{\"x\":[0.5,0.55,0.6,0.65,0.7,0.8,0.9,0.95,0.98,0.99,0.995,0.999,1.0],\"y\":[0.003968970732247791,0.0050517598165830185,0.006480850393648484,0.008413881994331279,0.011106005283848865,0.02087703455389763,0.04744903772428069,0.0848326248970013,0.14218319425404852,0.1846298972046713,0.2222646137892948,0.2851682191728679,0.3357989334541474]},\"selected\":{\"id\":\"6577\"},\"selection_policy\":{\"id\":\"6578\"}},\"id\":\"6558\",\"type\":\"ColumnDataSource\"},{\"attributes\":{\"data_source\":{\"id\":\"7822\"},\"glyph\":{\"id\":\"7823\"},\"hover_glyph\":null,\"muted_glyph\":null,\"nonselection_glyph\":{\"id\":\"7824\"},\"selection_glyph\":null,\"view\":{\"id\":\"7826\"}},\"id\":\"7825\",\"type\":\"GlyphRenderer\"},{\"attributes\":{\"source\":{\"id\":\"7822\"}},\"id\":\"7826\",\"type\":\"CDSView\"},{\"attributes\":{\"line_alpha\":0.1,\"line_color\":\"#3B0F6F\",\"line_dash\":[6],\"line_width\":3,\"x\":{\"field\":\"x\"},\"y\":{\"field\":\"y\"}},\"id\":\"6582\",\"type\":\"Line\"},{\"attributes\":{\"data_source\":{\"id\":\"6558\"},\"glyph\":{\"id\":\"6559\"},\"hover_glyph\":null,\"muted_glyph\":null,\"nonselection_glyph\":{\"id\":\"6560\"},\"selection_glyph\":null,\"view\":{\"id\":\"6562\"}},\"id\":\"6561\",\"type\":\"GlyphRenderer\"},{\"attributes\":{\"line_color\":\"#B53679\",\"line_dash\":[2,4],\"line_width\":3,\"x\":{\"field\":\"x\"},\"y\":{\"field\":\"y\"}},\"id\":\"7942\",\"type\":\"Line\"},{\"attributes\":{},\"id\":\"7684\",\"type\":\"SaveTool\"},{\"attributes\":{\"source\":{\"id\":\"6558\"}},\"id\":\"6562\",\"type\":\"CDSView\"},{\"attributes\":{},\"id\":\"6787\",\"type\":\"Selection\"},{\"attributes\":{},\"id\":\"7837\",\"type\":\"UnionRenderers\"},{\"attributes\":{},\"id\":\"6577\",\"type\":\"Selection\"},{\"attributes\":{\"text\":\"w0 = 0.5\"},\"id\":\"7663\",\"type\":\"Title\"},{\"attributes\":{},\"id\":\"7735\",\"type\":\"Selection\"},{\"attributes\":{},\"id\":\"6461\",\"type\":\"LinearScale\"},{\"attributes\":{\"source\":{\"id\":\"6790\"}},\"id\":\"6794\",\"type\":\"CDSView\"},{\"attributes\":{},\"id\":\"6457\",\"type\":\"DataRange1d\"},{\"attributes\":{},\"id\":\"7736\",\"type\":\"UnionRenderers\"},{\"attributes\":{\"active_drag\":\"auto\",\"active_inspect\":\"auto\",\"active_multi\":null,\"active_scroll\":\"auto\",\"active_tap\":\"auto\",\"tools\":[{\"id\":\"7681\"},{\"id\":\"7682\"},{\"id\":\"7683\"},{\"id\":\"7684\"},{\"id\":\"7685\"},{\"id\":\"7686\"}]},\"id\":\"7688\",\"type\":\"Toolbar\"},{\"attributes\":{},\"id\":\"6826\",\"type\":\"UnionRenderers\"},{\"attributes\":{\"line_color\":\"#3B0F6F\",\"line_dash\":[6],\"line_width\":3,\"x\":{\"field\":\"x\"},\"y\":{\"field\":\"y\"}},\"id\":\"6581\",\"type\":\"Line\"},{\"attributes\":{\"data\":{\"x\":[0.5,0.55,0.6,0.65,0.7,0.8,0.9,0.95,0.98,0.99,0.995,0.999,1.0],\"y\":[0.03488143189748822,0.03968026783587389,0.04485401197755145,0.05047700952558005,0.0566629574227384,0.07167239826027559,0.09614867596811864,0.1252524854144416,0.17646305533588377,0.221767381916868,0.2671945150465601,0.3531685146831004,0.41973254100135876]},\"selected\":{\"id\":\"6825\"},\"selection_policy\":{\"id\":\"6826\"}},\"id\":\"6790\",\"type\":\"ColumnDataSource\"},{\"attributes\":{\"data\":{\"x\":[0.5,0.55,0.6,0.65,0.7,0.8,0.9,0.95,0.98,0.99,0.995,0.999,1.0],\"y\":[0.003811659068937274,0.0048221042124990355,0.006149653733199622,0.007940455217204146,0.010433293202599496,0.019530052569829554,0.04477160038374477,0.08120819127014994,0.13839615789708973,0.1813460638838751,0.21970175077095597,0.2841371426438903,0.3361951454306669]},\"selected\":{\"id\":\"6601\"},\"selection_policy\":{\"id\":\"6602\"}},\"id\":\"6580\",\"type\":\"ColumnDataSource\"},{\"attributes\":{},\"id\":\"7681\",\"type\":\"PanTool\"},{\"attributes\":{\"label\":{\"value\":\"g0 = 0.9\"},\"renderers\":[{\"id\":\"6793\"},{\"id\":\"6832\"},{\"id\":\"6872\"}]},\"id\":\"6828\",\"type\":\"LegendItem\"},{\"attributes\":{\"line_color\":\"#FD9F6C\",\"line_width\":3,\"x\":{\"field\":\"x\"},\"y\":{\"field\":\"y\"}},\"id\":\"6791\",\"type\":\"Line\"},{\"attributes\":{\"num_minor_ticks\":10},\"id\":\"7678\",\"type\":\"LogTicker\"},{\"attributes\":{\"source\":{\"id\":\"6829\"}},\"id\":\"6833\",\"type\":\"CDSView\"},{\"attributes\":{\"data\":{\"x\":[0.5,0.55,0.6,0.65,0.7,0.8,0.9,0.95,0.98,0.99,0.995,0.999,1.0],\"y\":[0.01364994691563583,0.015653362579169966,0.01793349508081982,0.020608310576644473,0.023874465399469226,0.03389562745944884,0.058305747566134825,0.09331121997180673,0.15048254399879865,0.19504681986597802,0.23581055985127547,0.3059795552708925,0.3622401364472994]},\"selected\":{\"id\":\"6627\"},\"selection_policy\":{\"id\":\"6628\"}},\"id\":\"6604\",\"type\":\"ColumnDataSource\"},{\"attributes\":{},\"id\":\"6825\",\"type\":\"Selection\"},{\"attributes\":{\"data_source\":{\"id\":\"6604\"},\"glyph\":{\"id\":\"6605\"},\"hover_glyph\":null,\"muted_glyph\":null,\"nonselection_glyph\":{\"id\":\"6606\"},\"selection_glyph\":null,\"view\":{\"id\":\"6608\"}},\"id\":\"6607\",\"type\":\"GlyphRenderer\"},{\"attributes\":{\"overlay\":{\"id\":\"7687\"}},\"id\":\"7683\",\"type\":\"BoxZoomTool\"},{\"attributes\":{},\"id\":\"7685\",\"type\":\"ResetTool\"},{\"attributes\":{\"data_source\":{\"id\":\"6580\"},\"glyph\":{\"id\":\"6581\"},\"hover_glyph\":null,\"muted_glyph\":null,\"nonselection_glyph\":{\"id\":\"6582\"},\"selection_glyph\":null,\"view\":{\"id\":\"6584\"}},\"id\":\"6583\",\"type\":\"GlyphRenderer\"},{\"attributes\":{\"data_source\":{\"id\":\"6487\"},\"glyph\":{\"id\":\"6488\"},\"hover_glyph\":null,\"muted_glyph\":null,\"nonselection_glyph\":{\"id\":\"6489\"},\"selection_glyph\":null,\"view\":{\"id\":\"6491\"}},\"id\":\"6490\",\"type\":\"GlyphRenderer\"},{\"attributes\":{},\"id\":\"7682\",\"type\":\"WheelZoomTool\"},{\"attributes\":{\"source\":{\"id\":\"6580\"}},\"id\":\"6584\",\"type\":\"CDSView\"},{\"attributes\":{},\"id\":\"6602\",\"type\":\"UnionRenderers\"},{\"attributes\":{\"axis_label\":\"opd\",\"axis_label_text_font\":\"times\",\"axis_label_text_font_size\":\"14pt\",\"axis_label_text_font_style\":\"bold\",\"formatter\":{\"id\":\"7731\"},\"major_label_text_font\":\"times\",\"major_label_text_font_size\":\"14pt\",\"ticker\":{\"id\":\"7678\"}},\"id\":\"7677\",\"type\":\"LogAxis\"},{\"attributes\":{\"line_color\":\"#000003\",\"line_dash\":[2,4],\"line_width\":3,\"x\":{\"field\":\"x\"},\"y\":{\"field\":\"y\"}},\"id\":\"7772\",\"type\":\"Line\"},{\"attributes\":{},\"id\":\"7686\",\"type\":\"HelpTool\"},{\"attributes\":{},\"id\":\"6601\",\"type\":\"Selection\"},{\"attributes\":{\"below\":[{\"id\":\"7673\"}],\"center\":[{\"id\":\"7676\"},{\"id\":\"7680\"},{\"id\":\"7738\"}],\"left\":[{\"id\":\"7677\"}],\"plot_height\":500,\"plot_width\":500,\"renderers\":[{\"id\":\"7728\"},{\"id\":\"7774\"},{\"id\":\"7825\"},{\"id\":\"7882\"},{\"id\":\"7944\"},{\"id\":\"8012\"}],\"title\":{\"id\":\"7663\"},\"toolbar\":{\"id\":\"7688\"},\"x_range\":{\"id\":\"7665\"},\"x_scale\":{\"id\":\"7669\"},\"y_range\":{\"id\":\"7667\"},\"y_scale\":{\"id\":\"7671\"}},\"id\":\"7662\",\"subtype\":\"Figure\",\"type\":\"Plot\"},{\"attributes\":{\"axis\":{\"id\":\"7677\"},\"dimension\":1,\"ticker\":null},\"id\":\"7680\",\"type\":\"Grid\"},{\"attributes\":{\"line_color\":\"#FD9F6C\",\"line_dash\":[2,4],\"line_width\":3,\"x\":{\"field\":\"x\"},\"y\":{\"field\":\"y\"}},\"id\":\"6830\",\"type\":\"Line\"},{\"attributes\":{\"data\":{\"x\":[0.5,0.55,0.6,0.65,0.7,0.8,0.9,0.95,0.98,0.99,0.995,0.999,1.0],\"y\":[0.001041501415605992,0.00130091972533079,0.001649224474246054,0.0021369540472923132,0.0028544028197734933,0.005861207756620102,0.01707049323869287,0.03946508849024261,0.0865811555468768,0.1299248102694783,0.17359186290166795,0.25610322111141876,0.3194506850434415]},\"selected\":{\"id\":\"6866\"},\"selection_policy\":{\"id\":\"6867\"}},\"id\":\"6829\",\"type\":\"ColumnDataSource\"},{\"attributes\":{\"data_source\":{\"id\":\"6829\"},\"glyph\":{\"id\":\"6830\"},\"hover_glyph\":null,\"muted_glyph\":null,\"nonselection_glyph\":{\"id\":\"6831\"},\"selection_glyph\":null,\"view\":{\"id\":\"6833\"}},\"id\":\"6832\",\"type\":\"GlyphRenderer\"}],\"root_ids\":[\"8487\"]},\"title\":\"Bokeh Application\",\"version\":\"2.2.3\"}};\n",
       "  var render_items = [{\"docid\":\"16674c5a-82b6-475e-97a3-feb37d4a0c01\",\"root_ids\":[\"8487\"],\"roots\":{\"8487\":\"3baf246f-bf8a-4690-9ba4-b014891a4adf\"}}];\n",
       "  root.Bokeh.embed.embed_items_notebook(docs_json, render_items);\n",
       "\n",
       "  }\n",
       "  if (root.Bokeh !== undefined) {\n",
       "    embed_document(root);\n",
       "  } else {\n",
       "    var attempts = 0;\n",
       "    var timer = setInterval(function(root) {\n",
       "      if (root.Bokeh !== undefined) {\n",
       "        clearInterval(timer);\n",
       "        embed_document(root);\n",
       "      } else {\n",
       "        attempts++;\n",
       "        if (attempts > 100) {\n",
       "          clearInterval(timer);\n",
       "          console.log(\"Bokeh: ERROR: Unable to run BokehJS code because BokehJS library is missing\");\n",
       "        }\n",
       "      }\n",
       "    }, 10, root)\n",
       "  }\n",
       "})(window);"
      ],
      "application/vnd.bokehjs_exec.v0+json": ""
     },
     "metadata": {
      "application/vnd.bokehjs_exec.v0+json": {
       "id": "8487"
      }
     },
     "output_type": "display_data"
    }
   ],
   "source": [
    "from bokeh.layouts import row\n",
    "show(row(fig,fig2))"
   ]
  },
  {
   "cell_type": "code",
   "execution_count": 17,
   "metadata": {},
   "outputs": [],
   "source": [
    "from bokeh.palettes import magma\n",
    "import pickle as pk\n",
    "\n",
    "def plot_flux(models, w0, g0s, net=False):\n",
    "    n=0\n",
    "    col = magma(len(g0s)+1)\n",
    "    tit = 'w0 = %.1f' % w0\n",
    "    fig = figure(y_axis_type='log', y_axis_label = 'opd', y_range=[1e2, 1e0],\n",
    "                    x_axis_type='log', x_axis_label = 'downward flux',# x_range=[1e-10,inf],\n",
    "                    width=500, height=500, title=tit)\n",
    "    fig2 = figure(y_axis_type='log', y_axis_label = 'opd', y_range=[1e2, 1e0],\n",
    "                    x_axis_type='log', x_axis_label = 'upward flux',\n",
    "                    width=500, height=500, title=tit)\n",
    "    fig3 = figure(y_axis_type='log', y_axis_label = 'opd', y_range=[1e2, 1e0],\n",
    "                    x_axis_type='log', x_axis_label = 'net flux',\n",
    "                    width=500, height=500, title=tit)\n",
    "    \n",
    "    for g0, i in zip(g0s, range(len(g0s))):\n",
    "        cdisort_up = []; SH4_up = []; picaso_up = []\n",
    "        cdisort_dwn = []; SH4_dwn= []; picaso_dwn = []\n",
    "        \n",
    "        dir = '/Users/crooney/Documents/codes/pyDISORT/test/'\n",
    "        filename = '/data_%.3f_%.3f.pk' % (g0, w0)\n",
    "\n",
    "\n",
    "        if any('cdisort' in s for s in models):\n",
    "            output = pk.load(open(dir + 'cdisort_data' + filename,'rb'), encoding = 'bytes')\n",
    "            cdisort_up.append(output[b'flux_up'][n,0,:,0])\n",
    "            cdisort_dwn.append(output[b'flux_down'][n,0,:,0])\n",
    "            tau = output[b'tau'][:,0]\n",
    "            fig.line(cdisort_dwn[0], tau, line_width=3, color=col[i], line_dash='solid', legend_label='cdisort')\n",
    "            fig2.line(cdisort_up[0], tau, line_width=3, color=col[i], line_dash='solid', legend_label='g0 = %.1f' % g0)\n",
    "            fig3.line(cdisort_dwn[0]-cdisort_up[0], tau, line_width=3, color=col[i], line_dash='solid', legend_label='cdisort, g0 = %.1f' % g0)\n",
    "         \n",
    "        if any('picaso' in s for s in models):\n",
    "            output = pk.load(open(dir + 'picaso_data' + filename,'rb'), encoding = 'bytes')\n",
    "            picaso_up.append(output['flux'][n,0,1::2,0])\n",
    "            picaso_dwn.append(output['flux'][n,0,::2,0])\n",
    "            tau = output['tau'][:,0]\n",
    "            fig.line(picaso_dwn[0], tau, line_width=3, color=col[i], line_dash='dotted', legend_label='picaso')\n",
    "            fig2.line(picaso_up[0], tau, line_width=3, color=col[i], line_dash='dotted', legend_label='g0 = %.1f' % g0)\n",
    "            fig3.line(picaso_dwn[0]-picaso_up[0], tau, line_width=3, color=col[i], line_dash='dotted', legend_label='picaso, g0 = %.1f' % g0)\n",
    "\n",
    "\n",
    "        if any('SH4' in s for s in models):\n",
    "            output = pk.load(open(dir + 'picaso_data/SH4' + filename,'rb'), encoding = 'bytes')\n",
    "            SH4_up.append(output['flux'][n,0,2::4,0])\n",
    "            SH4_dwn.append(output['flux'][n,0,::4,0])\n",
    "            tau = output['tau'][:,0]\n",
    "            fig.line(SH4_dwn[0], tau, line_width=3, color=col[i], line_dash='dashed', legend_label='SH4')\n",
    "            fig2.line(SH4_up[0], tau, line_width=3, color=col[i], line_dash='dashed', legend_label='g0 = %.1f' % g0)\n",
    "            fig3.line(SH4_dwn[0]-SH4_up[0], tau, line_width=3, color=col[i], line_dash='dashed', legend_label='SH4, g0 = %.1f' % g0)\n",
    "\n",
    "\n",
    "            \n",
    "    fig.legend.location='top_left'\n",
    "    fig.x_range.start = 1e-10\n",
    "    jpi.plot_format(fig) \n",
    "    \n",
    "    fig2.legend.location='top_left'\n",
    "    fig2.x_range.start = 1e-10\n",
    "    jpi.plot_format(fig2)\n",
    "    \n",
    "    fig3.legend.location='top_left'\n",
    "    fig3.x_range.start = 1e-10\n",
    "    jpi.plot_format(fig3)\n",
    "\n",
    "    from bokeh.layouts import row\n",
    "    fig4= row(fig,fig2)\n",
    "    \n",
    "    if net:\n",
    "        return fig3\n",
    "    else:\n",
    "        return fig4\n",
    "# show(fig)"
   ]
  },
  {
   "cell_type": "code",
   "execution_count": 18,
   "metadata": {},
   "outputs": [
    {
     "name": "stderr",
     "output_type": "stream",
     "text": [
      "BokehUserWarning: ColumnDataSource's columns must be of the same length. Current lengths: ('x', 19), ('y', 20)\n",
      "BokehUserWarning: ColumnDataSource's columns must be of the same length. Current lengths: ('x', 19), ('y', 20)\n",
      "BokehUserWarning: ColumnDataSource's columns must be of the same length. Current lengths: ('x', 19), ('y', 20)\n",
      "BokehUserWarning: ColumnDataSource's columns must be of the same length. Current lengths: ('x', 19), ('y', 20)\n",
      "BokehUserWarning: ColumnDataSource's columns must be of the same length. Current lengths: ('x', 19), ('y', 20)\n",
      "BokehUserWarning: ColumnDataSource's columns must be of the same length. Current lengths: ('x', 19), ('y', 20)\n"
     ]
    },
    {
     "data": {
      "text/html": [
       "\n",
       "\n",
       "\n",
       "\n",
       "\n",
       "\n",
       "  <div class=\"bk-root\" id=\"26ccdda2-38b1-443f-b155-e3f860b2cf37\" data-root-id=\"7662\"></div>\n"
      ]
     },
     "metadata": {},
     "output_type": "display_data"
    },
    {
     "data": {
      "application/javascript": [
       "(function(root) {\n",
       "  function embed_document(root) {\n",
       "    \n",
       "  var docs_json = {\"974f01ab-41c4-4397-ae05-9c9ae9fff5ac\":{\"roots\":{\"references\":[{\"attributes\":{\"below\":[{\"id\":\"7673\"}],\"center\":[{\"id\":\"7676\"},{\"id\":\"7680\"},{\"id\":\"7738\"}],\"left\":[{\"id\":\"7677\"}],\"plot_height\":500,\"plot_width\":500,\"renderers\":[{\"id\":\"7728\"},{\"id\":\"7774\"},{\"id\":\"7825\"},{\"id\":\"7882\"},{\"id\":\"7944\"},{\"id\":\"8012\"}],\"title\":{\"id\":\"7663\"},\"toolbar\":{\"id\":\"7688\"},\"x_range\":{\"id\":\"7665\"},\"x_scale\":{\"id\":\"7669\"},\"y_range\":{\"id\":\"7667\"},\"y_scale\":{\"id\":\"7671\"}},\"id\":\"7662\",\"subtype\":\"Figure\",\"type\":\"Plot\"},{\"attributes\":{\"source\":{\"id\":\"7822\"}},\"id\":\"7826\",\"type\":\"CDSView\"},{\"attributes\":{\"data_source\":{\"id\":\"7941\"},\"glyph\":{\"id\":\"7942\"},\"hover_glyph\":null,\"muted_glyph\":null,\"nonselection_glyph\":{\"id\":\"7943\"},\"selection_glyph\":null,\"view\":{\"id\":\"7945\"}},\"id\":\"7944\",\"type\":\"GlyphRenderer\"},{\"attributes\":{\"line_color\":\"#B53679\",\"line_dash\":[2,4],\"line_width\":3,\"x\":{\"field\":\"x\"},\"y\":{\"field\":\"y\"}},\"id\":\"7942\",\"type\":\"Line\"},{\"attributes\":{\"label\":{\"value\":\"cdisort, g0 = 0.0\"},\"renderers\":[{\"id\":\"7728\"}]},\"id\":\"7739\",\"type\":\"LegendItem\"},{\"attributes\":{\"data_source\":{\"id\":\"7725\"},\"glyph\":{\"id\":\"7726\"},\"hover_glyph\":null,\"muted_glyph\":null,\"nonselection_glyph\":{\"id\":\"7727\"},\"selection_glyph\":null,\"view\":{\"id\":\"7729\"}},\"id\":\"7728\",\"type\":\"GlyphRenderer\"},{\"attributes\":{\"data_source\":{\"id\":\"7879\"},\"glyph\":{\"id\":\"7880\"},\"hover_glyph\":null,\"muted_glyph\":null,\"nonselection_glyph\":{\"id\":\"7881\"},\"selection_glyph\":null,\"view\":{\"id\":\"7883\"}},\"id\":\"7882\",\"type\":\"GlyphRenderer\"},{\"attributes\":{\"line_color\":\"#000003\",\"line_width\":3,\"x\":{\"field\":\"x\"},\"y\":{\"field\":\"y\"}},\"id\":\"7726\",\"type\":\"Line\"},{\"attributes\":{\"label\":{\"value\":\"picaso, g0 = 0.0\"},\"renderers\":[{\"id\":\"7774\"}]},\"id\":\"7786\",\"type\":\"LegendItem\"},{\"attributes\":{\"source\":{\"id\":\"7879\"}},\"id\":\"7883\",\"type\":\"CDSView\"},{\"attributes\":{},\"id\":\"7684\",\"type\":\"SaveTool\"},{\"attributes\":{\"data\":{\"x\":{\"__ndarray__\":\"YUreuJhuvb9iG/JcJGy9v26JnzrbZr2/pHdM4npbvb8KzufPBUO9v80PFmeSDr2/Cb8yj6uevL9v2TWQhbK7v/GJ0SQky7m/BdiltQ8Itr9amW3y5l2uv1jlHePta5K/FmhRuEngmT8Pu/KCc/mhP46eVYl+YYQ/hJfAZFFsLD8gACl/VdZZPofb8F1q2oU8AAAAAAAAAAAAAAAAAAAAAA==\",\"dtype\":\"float64\",\"order\":\"little\",\"shape\":[20]},\"y\":{\"__ndarray__\":\"AAAAAAAAAAAtQxzr4jYaP3UzE2JDrDQ/La67TceLST8Sgc95MShdP+x1AwcjHXA/vgdxBRmQgT8cjo8mfQWTPyBC++WaiqQ/CsFo1TYntj9SLYE3aODHP3/wIIMHutk/OGCWfGe36z8cMEu+s9v9PywELxARFRBADjP73AZTIUCHmX1ug6kyQPISAuBuGkRAsKYdWtWnVUBY0w6t6lNnQA==\",\"dtype\":\"float64\",\"order\":\"little\",\"shape\":[20]}},\"selected\":{\"id\":\"7735\"},\"selection_policy\":{\"id\":\"7736\"}},\"id\":\"7725\",\"type\":\"ColumnDataSource\"},{\"attributes\":{},\"id\":\"7895\",\"type\":\"Selection\"},{\"attributes\":{},\"id\":\"7837\",\"type\":\"UnionRenderers\"},{\"attributes\":{\"source\":{\"id\":\"7771\"}},\"id\":\"7775\",\"type\":\"CDSView\"},{\"attributes\":{\"source\":{\"id\":\"7725\"}},\"id\":\"7729\",\"type\":\"CDSView\"},{\"attributes\":{\"text\":\"w0 = 0.5\"},\"id\":\"7663\",\"type\":\"Title\"},{\"attributes\":{},\"id\":\"7896\",\"type\":\"UnionRenderers\"},{\"attributes\":{\"line_alpha\":0.1,\"line_color\":\"#000003\",\"line_width\":3,\"x\":{\"field\":\"x\"},\"y\":{\"field\":\"y\"}},\"id\":\"7727\",\"type\":\"Line\"},{\"attributes\":{\"bottom_units\":\"screen\",\"fill_alpha\":0.5,\"fill_color\":\"lightgrey\",\"left_units\":\"screen\",\"level\":\"overlay\",\"line_alpha\":1.0,\"line_color\":\"black\",\"line_dash\":[4,4],\"line_width\":2,\"right_units\":\"screen\",\"top_units\":\"screen\"},\"id\":\"7687\",\"type\":\"BoxAnnotation\"},{\"attributes\":{},\"id\":\"7735\",\"type\":\"Selection\"},{\"attributes\":{},\"id\":\"7783\",\"type\":\"Selection\"},{\"attributes\":{},\"id\":\"7669\",\"type\":\"LogScale\"},{\"attributes\":{\"line_alpha\":0.1,\"line_color\":\"#000003\",\"line_dash\":[6],\"line_width\":3,\"x\":{\"field\":\"x\"},\"y\":{\"field\":\"y\"}},\"id\":\"7824\",\"type\":\"Line\"},{\"attributes\":{},\"id\":\"7736\",\"type\":\"UnionRenderers\"},{\"attributes\":{\"line_alpha\":0.1,\"line_color\":\"#B53679\",\"line_dash\":[6],\"line_width\":3,\"x\":{\"field\":\"x\"},\"y\":{\"field\":\"y\"}},\"id\":\"8011\",\"type\":\"Line\"},{\"attributes\":{\"active_drag\":\"auto\",\"active_inspect\":\"auto\",\"active_multi\":null,\"active_scroll\":\"auto\",\"active_tap\":\"auto\",\"tools\":[{\"id\":\"7681\"},{\"id\":\"7682\"},{\"id\":\"7683\"},{\"id\":\"7684\"},{\"id\":\"7685\"},{\"id\":\"7686\"}]},\"id\":\"7688\",\"type\":\"Toolbar\"},{\"attributes\":{},\"id\":\"7784\",\"type\":\"UnionRenderers\"},{\"attributes\":{\"data_source\":{\"id\":\"7771\"},\"glyph\":{\"id\":\"7772\"},\"hover_glyph\":null,\"muted_glyph\":null,\"nonselection_glyph\":{\"id\":\"7773\"},\"selection_glyph\":null,\"view\":{\"id\":\"7775\"}},\"id\":\"7774\",\"type\":\"GlyphRenderer\"},{\"attributes\":{\"label\":{\"value\":\"SH4, g0 = 0.0\"},\"renderers\":[{\"id\":\"7825\"}]},\"id\":\"7839\",\"type\":\"LegendItem\"},{\"attributes\":{\"label\":{\"value\":\"SH4, g0 = 0.9\"},\"renderers\":[{\"id\":\"8012\"}]},\"id\":\"8032\",\"type\":\"LegendItem\"},{\"attributes\":{\"data_source\":{\"id\":\"8009\"},\"glyph\":{\"id\":\"8010\"},\"hover_glyph\":null,\"muted_glyph\":null,\"nonselection_glyph\":{\"id\":\"8011\"},\"selection_glyph\":null,\"view\":{\"id\":\"8013\"}},\"id\":\"8012\",\"type\":\"GlyphRenderer\"},{\"attributes\":{\"source\":{\"id\":\"8009\"}},\"id\":\"8013\",\"type\":\"CDSView\"},{\"attributes\":{\"line_color\":\"#000003\",\"line_dash\":[6],\"line_width\":3,\"x\":{\"field\":\"x\"},\"y\":{\"field\":\"y\"}},\"id\":\"7823\",\"type\":\"Line\"},{\"attributes\":{\"label\":{\"value\":\"cdisort, g0 = 0.9\"},\"renderers\":[{\"id\":\"7882\"}]},\"id\":\"7898\",\"type\":\"LegendItem\"},{\"attributes\":{},\"id\":\"7681\",\"type\":\"PanTool\"},{\"attributes\":{\"start\":1e-10},\"id\":\"7665\",\"type\":\"DataRange1d\"},{\"attributes\":{\"line_alpha\":0.1,\"line_color\":\"#B53679\",\"line_width\":3,\"x\":{\"field\":\"x\"},\"y\":{\"field\":\"y\"}},\"id\":\"7881\",\"type\":\"Line\"},{\"attributes\":{\"line_alpha\":0.1,\"line_color\":\"#B53679\",\"line_dash\":[2,4],\"line_width\":3,\"x\":{\"field\":\"x\"},\"y\":{\"field\":\"y\"}},\"id\":\"7943\",\"type\":\"Line\"},{\"attributes\":{\"data\":{\"x\":{\"__ndarray__\":\"/29O9jpDfb+ryWqtLC99v+SMQ7H8A32/xWMdygqnfL+iWamNQt97v61ZC4n6Mnq/2AzbrCCidr/w0LCwH0Fuv0Bf6TF9ARA/7auZk6zrfT9n7gchcPaTPwDKoMWrZqE/pg9UTBTjoj8/kRLVcU2RP7bBj113w1Y/1RepcU+dzz6RZjsaZyelPR+MQWQomSQ7GkYq8/qyNbY=\",\"dtype\":\"float64\",\"order\":\"little\",\"shape\":[19]},\"y\":{\"__ndarray__\":\"AAAAAAAAAACzRdJu9DEPP3qH3hDLmSg/81afIVZmPj+EiwnrMVlRP4b/vq7pLGM/xIsdN1vmdD8c6dgWsaKGP8Q89XK9cZg/ZC0osb5cqj+6wrCyw2m8P6Fbw/pfnc4/SlB9+cN94D+qkxC1AMTxPz8may9PIwNA1io1ka6dFEDR+wCvPTUmQG0RnGFB7DdAW4ataCnFSUAuw1a0lMJbQA==\",\"dtype\":\"float64\",\"order\":\"little\",\"shape\":[20]}},\"selected\":{\"id\":\"7959\"},\"selection_policy\":{\"id\":\"7960\"}},\"id\":\"7941\",\"type\":\"ColumnDataSource\"},{\"attributes\":{\"num_minor_ticks\":10},\"id\":\"7678\",\"type\":\"LogTicker\"},{\"attributes\":{},\"id\":\"8029\",\"type\":\"Selection\"},{\"attributes\":{\"ticker\":null},\"id\":\"7731\",\"type\":\"LogTickFormatter\"},{\"attributes\":{\"start\":100.0},\"id\":\"7667\",\"type\":\"Range1d\"},{\"attributes\":{\"overlay\":{\"id\":\"7687\"}},\"id\":\"7683\",\"type\":\"BoxZoomTool\"},{\"attributes\":{},\"id\":\"8030\",\"type\":\"UnionRenderers\"},{\"attributes\":{\"items\":[{\"id\":\"7739\"},{\"id\":\"7786\"},{\"id\":\"7839\"},{\"id\":\"7898\"},{\"id\":\"7962\"},{\"id\":\"8032\"}],\"location\":\"top_left\"},\"id\":\"7738\",\"type\":\"Legend\"},{\"attributes\":{\"data\":{\"x\":{\"__ndarray__\":\"YA82faOVe7+hdpgPCWJ7v5VS4Dnj8nq/0STkkI4Der8vOnyMiQB4v+F6njXBrXO/qspB71/UZL/SFy0qSJ9iP5jyLgB3X4k/Z/BGnZ/noD/g1vaU1ImyPxCMiQnLjsE/2H+ah8vEyj9z/9WWedzKP+C8CfDE+bY/YNxpn62Wez+skqhS/3ruPlSF/ROpsrU9AAAAAAAAAAAAAAAAAAAAAA==\",\"dtype\":\"float64\",\"order\":\"little\",\"shape\":[20]},\"y\":{\"__ndarray__\":\"AAAAAAAAAACzRdJu9DEPP3qH3hDLmSg/81afIVZmPj+EiwnrMVlRP4b/vq7pLGM/xIsdN1vmdD8c6dgWsaKGP8Q89XK9cZg/ZC0osb5cqj+6wrCyw2m8P6Fbw/pfnc4/SlB9+cN94D+qkxC1AMTxPz8may9PIwNA1io1ka6dFEDR+wCvPTUmQG0RnGFB7DdAW4ataCnFSUAuw1a0lMJbQA==\",\"dtype\":\"float64\",\"order\":\"little\",\"shape\":[20]}},\"selected\":{\"id\":\"7895\"},\"selection_policy\":{\"id\":\"7896\"}},\"id\":\"7879\",\"type\":\"ColumnDataSource\"},{\"attributes\":{},\"id\":\"7685\",\"type\":\"ResetTool\"},{\"attributes\":{\"label\":{\"value\":\"picaso, g0 = 0.9\"},\"renderers\":[{\"id\":\"7944\"}]},\"id\":\"7962\",\"type\":\"LegendItem\"},{\"attributes\":{\"axis\":{\"id\":\"7673\"},\"ticker\":null},\"id\":\"7676\",\"type\":\"Grid\"},{\"attributes\":{},\"id\":\"7682\",\"type\":\"WheelZoomTool\"},{\"attributes\":{\"ticker\":null},\"id\":\"7733\",\"type\":\"LogTickFormatter\"},{\"attributes\":{},\"id\":\"7959\",\"type\":\"Selection\"},{\"attributes\":{\"axis_label\":\"opd\",\"axis_label_text_font\":\"times\",\"axis_label_text_font_size\":\"14pt\",\"axis_label_text_font_style\":\"bold\",\"formatter\":{\"id\":\"7731\"},\"major_label_text_font\":\"times\",\"major_label_text_font_size\":\"14pt\",\"ticker\":{\"id\":\"7678\"}},\"id\":\"7677\",\"type\":\"LogAxis\"},{\"attributes\":{\"source\":{\"id\":\"7941\"}},\"id\":\"7945\",\"type\":\"CDSView\"},{\"attributes\":{\"line_color\":\"#000003\",\"line_dash\":[2,4],\"line_width\":3,\"x\":{\"field\":\"x\"},\"y\":{\"field\":\"y\"}},\"id\":\"7772\",\"type\":\"Line\"},{\"attributes\":{},\"id\":\"7686\",\"type\":\"HelpTool\"},{\"attributes\":{\"axis\":{\"id\":\"7677\"},\"dimension\":1,\"ticker\":null},\"id\":\"7680\",\"type\":\"Grid\"},{\"attributes\":{\"line_color\":\"#B53679\",\"line_dash\":[6],\"line_width\":3,\"x\":{\"field\":\"x\"},\"y\":{\"field\":\"y\"}},\"id\":\"8010\",\"type\":\"Line\"},{\"attributes\":{\"line_color\":\"#B53679\",\"line_width\":3,\"x\":{\"field\":\"x\"},\"y\":{\"field\":\"y\"}},\"id\":\"7880\",\"type\":\"Line\"},{\"attributes\":{\"axis_label\":\"net flux\",\"axis_label_text_font\":\"times\",\"axis_label_text_font_size\":\"14pt\",\"axis_label_text_font_style\":\"bold\",\"formatter\":{\"id\":\"7733\"},\"major_label_text_font\":\"times\",\"major_label_text_font_size\":\"14pt\",\"ticker\":{\"id\":\"7674\"}},\"id\":\"7673\",\"type\":\"LogAxis\"},{\"attributes\":{\"data\":{\"x\":{\"__ndarray__\":\"gB/PX0fpe7+w+546I9h7v9DhJFM3s3u/EOBNabVje78wpVfAlrh6v0Dpt4S6SHm/0Dcpqe0zdr/Ad1FjcENvvwBeT1BWhTy/8PugDXKqej8UhSF8SnmUP0gKoD2SB6Y/NiwkViVVsj9+jnQtPY60P5yhF1UnIqU/ePXAcvy1cD8ZMXdiWF/oPgL5iVkEo7E9yrE5/Lxd8bw8svzPjqvxvA==\",\"dtype\":\"float64\",\"order\":\"little\",\"shape\":[20]},\"y\":{\"__ndarray__\":\"AAAAAAAAAABGSlBPYZ0RP9pD2sRFyCs/MN+LeGcqQT8EHtiNkJdTPzBiK3nFp2U/4FLARU6adz9249YoG5CJP7aZOhMKm5s/FpcSdYvFrT8K2v5gOwvAPwLmwH97SdE/ZsEJw8Gf4j8Ioi2GLxD0P0CoKAbtnAVAGvYHhztIF0C37FYRgBQpQGbDgZxKBDtALGwxk1saTUArZOCqqFlfQA==\",\"dtype\":\"float64\",\"order\":\"little\",\"shape\":[20]}},\"selected\":{\"id\":\"8029\"},\"selection_policy\":{\"id\":\"8030\"}},\"id\":\"8009\",\"type\":\"ColumnDataSource\"},{\"attributes\":{\"data\":{\"x\":{\"__ndarray__\":\"YGBN7m4Lvr8gDc8ZAAm+v9Dw4LLCA76/QIZUzHr4vb/wF12RNuC9v7CMrAAbrL2/EK+pPKQ8vb+AsuVYKlC8v/BORCZNY7q/YPiSPqiGtr8AU/V638muv+Da/6qNmZG/QMlNCeoHmz+YX46W4u2hPxrUX6QnRIQ/ALWF8oSELD8s2vbQAxlYPrhd8GusiPm8sevRWjXB+bzGVO2pgPn8vA==\",\"dtype\":\"float64\",\"order\":\"little\",\"shape\":[20]},\"y\":{\"__ndarray__\":\"AAAAAAAAAAAtQxzr4jYaP3UzE2JDrDQ/La67TceLST8Sgc95MShdP+x1AwcjHXA/vgdxBRmQgT8cjo8mfQWTPyBC++WaiqQ/CsFo1TYntj9SLYE3aODHP3/wIIMHutk/OGCWfGe36z8cMEu+s9v9PywELxARFRBADjP73AZTIUCHmX1ug6kyQPISAuBuGkRAsKYdWtWnVUBY0w6t6lNnQA==\",\"dtype\":\"float64\",\"order\":\"little\",\"shape\":[20]}},\"selected\":{\"id\":\"7836\"},\"selection_policy\":{\"id\":\"7837\"}},\"id\":\"7822\",\"type\":\"ColumnDataSource\"},{\"attributes\":{},\"id\":\"7671\",\"type\":\"LogScale\"},{\"attributes\":{},\"id\":\"7836\",\"type\":\"Selection\"},{\"attributes\":{\"num_minor_ticks\":10},\"id\":\"7674\",\"type\":\"LogTicker\"},{\"attributes\":{},\"id\":\"7960\",\"type\":\"UnionRenderers\"},{\"attributes\":{\"line_alpha\":0.1,\"line_color\":\"#000003\",\"line_dash\":[2,4],\"line_width\":3,\"x\":{\"field\":\"x\"},\"y\":{\"field\":\"y\"}},\"id\":\"7773\",\"type\":\"Line\"},{\"attributes\":{\"data\":{\"x\":{\"__ndarray__\":\"/i9oAUPPwL8/Q1E8iczAv6yJYtyqxsC/wTLFYQq6wL+iz8kW6p7Av4L9Eu7UZMC/gL5PCrLSv7+8YQv6qc29vzb2w3PUtrm/RPxGyfcEsr8oYDq1+/CWv1ROcSJUpp0/pGoFrVY8pD/fXxROvLeDP4aZAR9eiSI/x3LDAl35Pj6+OvTdddVKPM635oftq1I7kwtRGiMcMrU=\",\"dtype\":\"float64\",\"order\":\"little\",\"shape\":[19]},\"y\":{\"__ndarray__\":\"AAAAAAAAAAAtQxzr4jYaP3UzE2JDrDQ/La67TceLST8Sgc95MShdP+x1AwcjHXA/vgdxBRmQgT8cjo8mfQWTPyBC++WaiqQ/CsFo1TYntj9SLYE3aODHP3/wIIMHutk/OGCWfGe36z8cMEu+s9v9PywELxARFRBADjP73AZTIUCHmX1ug6kyQPISAuBuGkRAsKYdWtWnVUBY0w6t6lNnQA==\",\"dtype\":\"float64\",\"order\":\"little\",\"shape\":[20]}},\"selected\":{\"id\":\"7783\"},\"selection_policy\":{\"id\":\"7784\"}},\"id\":\"7771\",\"type\":\"ColumnDataSource\"},{\"attributes\":{\"data_source\":{\"id\":\"7822\"},\"glyph\":{\"id\":\"7823\"},\"hover_glyph\":null,\"muted_glyph\":null,\"nonselection_glyph\":{\"id\":\"7824\"},\"selection_glyph\":null,\"view\":{\"id\":\"7826\"}},\"id\":\"7825\",\"type\":\"GlyphRenderer\"}],\"root_ids\":[\"7662\"]},\"title\":\"Bokeh Application\",\"version\":\"2.2.3\"}};\n",
       "  var render_items = [{\"docid\":\"974f01ab-41c4-4397-ae05-9c9ae9fff5ac\",\"root_ids\":[\"7662\"],\"roots\":{\"7662\":\"26ccdda2-38b1-443f-b155-e3f860b2cf37\"}}];\n",
       "  root.Bokeh.embed.embed_items_notebook(docs_json, render_items);\n",
       "\n",
       "  }\n",
       "  if (root.Bokeh !== undefined) {\n",
       "    embed_document(root);\n",
       "  } else {\n",
       "    var attempts = 0;\n",
       "    var timer = setInterval(function(root) {\n",
       "      if (root.Bokeh !== undefined) {\n",
       "        clearInterval(timer);\n",
       "        embed_document(root);\n",
       "      } else {\n",
       "        attempts++;\n",
       "        if (attempts > 100) {\n",
       "          clearInterval(timer);\n",
       "          console.log(\"Bokeh: ERROR: Unable to run BokehJS code because BokehJS library is missing\");\n",
       "        }\n",
       "      }\n",
       "    }, 10, root)\n",
       "  }\n",
       "})(window);"
      ],
      "application/vnd.bokehjs_exec.v0+json": ""
     },
     "metadata": {
      "application/vnd.bokehjs_exec.v0+json": {
       "id": "7662"
      }
     },
     "output_type": "display_data"
    }
   ],
   "source": [
    "g0s = [0.0,0.9]\n",
    "w0 = 0.5; \n",
    "fig = plot_flux(['cdisort,''SH4','picaso'], w0, g0s, net=True)\n",
    "show(fig)"
   ]
  },
  {
   "cell_type": "code",
   "execution_count": null,
   "metadata": {},
   "outputs": [],
   "source": []
  },
  {
   "cell_type": "code",
   "execution_count": null,
   "metadata": {},
   "outputs": [],
   "source": []
  }
 ],
 "metadata": {
  "kernelspec": {
   "display_name": "Python 3",
   "language": "python",
   "name": "python3"
  },
  "language_info": {
   "codemirror_mode": {
    "name": "ipython",
    "version": 3
   },
   "file_extension": ".py",
   "mimetype": "text/x-python",
   "name": "python",
   "nbconvert_exporter": "python",
   "pygments_lexer": "ipython3",
   "version": "3.8.5"
  }
 },
 "nbformat": 4,
 "nbformat_minor": 2
}
