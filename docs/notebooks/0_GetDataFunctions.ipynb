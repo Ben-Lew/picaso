{
 "cells": [
  {
   "cell_type": "markdown",
   "id": "cd55fb75-a87a-4497-91a7-b40d80d9879d",
   "metadata": {},
   "source": [
    "# Making Sense of PICASO Data\n",
    "PICASO relies on lots of different kinds of data. However you might not need all of it depending on what you are working on. For example, if you are only working on substellar objects, you do not need to download stellar spectra. \n",
    "\n",
    "| Data Type                        | Req? | What it is primarily used for | Where it should go                      |\n",
    "|----------------------------------|------|-------------------------------|-----------------------------------------|\n",
    "| Reference              | Yes  | everything        | $picaso_refdata |\n",
    "| Resampled Opacities              | Yes  | Spectroscopic modeling        | $picaso_refdata/opacities/opacities.db |\n",
    "| Stellar Database                 | No   | Exoplanet modeling            | \\$PYSYN_CDBS/grid                       |\n",
    "| Pre-weighted correlated-K Tables | No   | Chemical equilibrium climate  | Your choice (default=$picaso_refdata/opacities/preweighted)                             |\n",
    "| By molecule correlated-K Tables  | No   | Disequilibrium climate        | Your choice (default=$picaso_refdata/opacities/resortrebin)      |\n",
    "| Sonora grid models               | No   | Initial guess/grid fitting    | Your choice (default=$picaso_refdata/sonora_grids)                             |\n",
    "| Virga Mieff files                | No   | Virga cloud modeling          | Your choice (default=$picaso_refdata/virga)                             |\n"
   ]
  },
  {
   "cell_type": "markdown",
   "id": "970ad831-b624-4160-8ec3-4b82ee11cac8",
   "metadata": {},
   "source": [
    "## [Mandatory!] Create picaso_refdata environment variable \n",
    "\n",
    "We give [three different ways of setting environment variables here](https://natashabatalha.github.io/picaso/installation.html#create-environment-variable). \n",
    "\n"
   ]
  },
  {
   "cell_type": "code",
   "execution_count": null,
   "id": "5552e564",
   "metadata": {},
   "outputs": [
    {
     "data": {
      "text/plain": [
       "'/Users/nbatalh1/Documents/codes/PICASO/picaso/reference'"
      ]
     },
     "execution_count": 3,
     "metadata": {},
     "output_type": "execute_result"
    }
   ],
   "source": [
    "import os\n",
    "os.environ['picaso_refdata'] #should return a path \n"
   ]
  },
  {
   "cell_type": "markdown",
   "id": "6a31ed78",
   "metadata": {},
   "source": [
    "## Download reference data if installed through pip/conda\n",
    "\n",
    "We need this basic directory: https://github.com/natashabatalha/picaso/tree/dev/reference\n",
    "\n",
    "If you installed through pip or conda then you will need to do this step: "
   ]
  },
  {
   "cell_type": "code",
   "execution_count": null,
   "id": "7ed303da",
   "metadata": {},
   "outputs": [],
   "source": [
    "import picaso.data as data"
   ]
  },
  {
   "cell_type": "code",
   "execution_count": null,
   "id": "5a24f98d",
   "metadata": {},
   "outputs": [],
   "source": [
    "data.get_reference(os.environ['picaso_refdata'])"
   ]
  },
  {
   "cell_type": "markdown",
   "id": "a5275717",
   "metadata": {},
   "source": [
    "## Run PICASO Environment Checker"
   ]
  },
  {
   "cell_type": "code",
   "execution_count": 2,
   "id": "e6e05db7-5c6f-4b7b-96e0-015e8258ce75",
   "metadata": {},
   "outputs": [
    {
     "data": {
      "text/html": [
       "<div style=\"border: 1px solid #e0e0e0; padding: 15px; border-radius: 5px; background-color: #f9f9f9; font-family: sans-serif; max-width: 800px; margin: auto;\"><h3 style=\"margin-top: 0; border-bottom: 2px solid #e0e0e0; padding-bottom: 10px; font-size: 1.2em;\">PICASO Environment Check</h3><div style=\"padding: 10px; margin: 5px 0; border-radius: 4px; color: #00529B; background-color: #BDE5F8;\">&#8505; Found <code>picaso_refdata</code> environment variable: <code>/Users/nbatalh1/Documents/codes/PICASO/picaso/reference</code></div><div style=\"padding: 10px; margin: 5px 0; border-radius: 4px; color: #4F8A10; background-color: #DFF2BF;\">&#10004; Basic picaso reference data seems to be in place.</div><div style=\"padding: 10px; margin: 5px 0; border-radius: 4px; color: #00529B; background-color: #BDE5F8;\">&#8505; Reference data version: 4.0</div><div style=\"padding: 10px; margin: 5px 0; border-radius: 4px; color: #00529B; background-color: #BDE5F8;\">&#8505; Files in reference directory:</div><ul style=\"margin: 5px 0 10px 20px; padding-left: 20px; border: 1px solid #e0e0e0; background-color: #fff; border-radius: 4px;\"><li style=\"margin: 4px 0;\"><code>input_tomls</code></li><li style=\"margin: 4px 0;\"><code>references</code></li><li style=\"margin: 4px 0;\"><code>stellar_grids</code></li><li style=\"margin: 4px 0;\"><code>config.json</code></li><li style=\"margin: 4px 0;\"><code>chemistry</code></li><li style=\"margin: 4px 0;\"><code>sonora_grids</code></li><li style=\"margin: 4px 0;\"><code>opacities</code></li><li style=\"margin: 4px 0;\"><code>version.md</code></li><li style=\"margin: 4px 0;\"><code>evolution</code></li><li style=\"margin: 4px 0;\"><code>scripts</code></li><li style=\"margin: 4px 0;\"><code>base_cases</code></li><li style=\"margin: 4px 0;\"><code>virga</code></li><li style=\"margin: 4px 0;\"><code>climate_INPUTS</code></li></ul><div style=\"padding: 10px; margin: 5px 0; border-radius: 4px; color: #4F8A10; background-color: #DFF2BF;\">&#10004; Resampled opacity default file has been set.</div><ul style=\"margin: 5px 0 10px 20px; padding-left: 20px; border: 1px solid #e0e0e0; background-color: #fff; border-radius: 4px;\"><li style=\"margin: 4px 0;\"><code>version: default_3.3</code></li><li style=\"margin: 4px 0;\"><code>resolution: 15000</code></li><li style=\"margin: 4px 0;\"><code>wavemin: 0.3</code></li><li style=\"margin: 4px 0;\"><code>wavemax: 15</code></li><li style=\"margin: 4px 0;\"><code>zenodo: 10.5281/zenodo.14861730</code></li><li style=\"margin: 4px 0;\"><code>molecules: ['C2H2', 'CH4', 'CO', 'CO2', 'H2O', 'H2S', 'K', 'Na', 'OCS', 'SO2']</code></li><li style=\"margin: 4px 0;\"><code>continuum: ['H-bf', 'H-ff', 'H2-', 'H2H2', 'H2He']</code></li></ul><div style=\"padding: 10px; margin: 5px 0; border-radius: 4px; color: #00529B; background-color: #BDE5F8;\">&#8505; Found <code>PYSYN_CDBS</code> environment variable for <code>stsynphot</code> was found: <code>/Users/nbatalh1/Documents/data/grp/redcat/trds</code></div><div style=\"padding: 10px; margin: 5px 0; border-radius: 4px; color: #4F8A10; background-color: #DFF2BF;\">&#10004; Found stellar \"grid\" subfolder.</div><div style=\"padding: 10px; margin: 5px 0; border-radius: 4px; color: #00529B; background-color: #BDE5F8;\">&#8505; Downloaded stellar grids:</div><ul style=\"margin: 5px 0 10px 20px; padding-left: 20px; border: 1px solid #e0e0e0; background-color: #fff; border-radius: 4px;\"><li style=\"margin: 4px 0;\"><code>phoenix</code></li><li style=\"margin: 4px 0;\"><code>ck04models</code></li></ul><div style=\"padding: 10px; margin: 5px 0; border-radius: 4px; color: #9F6000; background-color: #FEEFB3;\">&#9888; sonora_grids folder found but they are empty. This data product is used for fitting brown dwarf data or initial guesses to climate solutions. You might have this data product outside the default path. That is okay.</div><div style=\"padding: 10px; margin: 5px 0; border-radius: 4px; color: #9F6000; background-color: #FEEFB3;\">&#9888; virga folder found but they are empty. This data product is used for cloud modeling with the virga code or creating flex clouds with real optical constants. You might have this data product outside the default path. That is okay.</div><div style=\"padding: 10px; margin: 5px 0; border-radius: 4px; color: #9F6000; background-color: #FEEFB3;\">&#9888; opacities/preweighted folder found but they are empty. This data product is used for climate modeling on chemical equilibrium grids. You might have this data product outside the default path. That is okay.</div><div style=\"padding: 10px; margin: 5px 0; border-radius: 4px; color: #00529B; background-color: #BDE5F8;\">&#8505; opacities/resortrebin folders found in reference directory:</div><ul style=\"margin: 5px 0 10px 20px; padding-left: 20px; border: 1px solid #e0e0e0; background-color: #fff; border-radius: 4px;\"><li style=\"margin: 4px 0;\"><code>H3+_1460.npy</code></li><li style=\"margin: 4px 0;\"><code>FeH_1460.npy</code></li><li style=\"margin: 4px 0;\"><code>C2H2_1460.npy</code></li><li style=\"margin: 4px 0;\"><code>LiH_1460.npy</code></li><li style=\"margin: 4px 0;\"><code>H2S_1460.npy</code></li><li style=\"margin: 4px 0;\"><code>C2H4_1460.npy</code></li><li style=\"margin: 4px 0;\"><code>VO_1460.npy</code></li><li style=\"margin: 4px 0;\"><code>CO_1460.npy</code></li><li style=\"margin: 4px 0;\"><code>OCS_1460.npy</code></li><li style=\"margin: 4px 0;\"><code>MgH_1460.npy</code></li><li style=\"margin: 4px 0;\"><code>SO2_1460.npy</code></li><li style=\"margin: 4px 0;\"><code>LiCl_1460.npy</code></li><li style=\"margin: 4px 0;\"><code>CaH_1460.npy</code></li><li style=\"margin: 4px 0;\"><code>CO2_1460.npy</code></li><li style=\"margin: 4px 0;\"><code>Rb_1460.npy</code></li><li style=\"margin: 4px 0;\"><code>Na_1460.npy</code></li><li style=\"margin: 4px 0;\"><code>CH4_1460.npy</code></li><li style=\"margin: 4px 0;\"><code>TiO_1460.npy</code></li><li style=\"margin: 4px 0;\"><code>CrH_1460.npy</code></li><li style=\"margin: 4px 0;\"><code>HCN_1460.npy</code></li><li style=\"margin: 4px 0;\"><code>Li_1460.npy</code></li><li style=\"margin: 4px 0;\"><code>O2_1460.npy</code></li><li style=\"margin: 4px 0;\"><code>O3_1460.npy</code></li><li style=\"margin: 4px 0;\"><code>H2O_1460.npy</code></li><li style=\"margin: 4px 0;\"><code>Fe_1460.npy</code></li><li style=\"margin: 4px 0;\"><code>Cs_1460.npy</code></li><li style=\"margin: 4px 0;\"><code>AlH_1460.npy</code></li><li style=\"margin: 4px 0;\"><code>H2_1460.npy</code></li><li style=\"margin: 4px 0;\"><code>SiO_1460.npy</code></li><li style=\"margin: 4px 0;\"><code>PH3_1460.npy</code></li><li style=\"margin: 4px 0;\"><code>NH3_1460.npy</code></li><li style=\"margin: 4px 0;\"><code>LiF_1460.npy</code></li><li style=\"margin: 4px 0;\"><code>K_1460.npy</code></li><li style=\"margin: 4px 0;\"><code>C2H6_1460.npy</code></li><li style=\"margin: 4px 0;\"><code>N2_1460.npy</code></li><li style=\"margin: 4px 0;\"><code>TiH_1460.npy</code></li></ul><div style=\"padding: 10px; margin: 5px 0; border-radius: 4px; color: #9F6000; background-color: #FEEFB3;\">&#9888; opacities/resampled folder found but they are empty. This data product is used for other wavelength solutions for resampled forward models. You might have this data product outside the default path. That is okay.</div></div>"
      ],
      "text/plain": [
       "<IPython.core.display.HTML object>"
      ]
     },
     "metadata": {},
     "output_type": "display_data"
    }
   ],
   "source": [
    "data.check_environ()"
   ]
  },
  {
   "cell_type": "markdown",
   "id": "9c25ef10-7145-4eb1-abc7-d94d8128dfde",
   "metadata": {},
   "source": [
    "Once these are complete you can proceed to downloading additional data"
   ]
  },
  {
   "cell_type": "markdown",
   "id": "74c87532-353f-4d01-a2dc-74565b98ca3c",
   "metadata": {},
   "source": [
    "## Downlaoding the resampled opacity file \n",
    "\n",
    "If you want to make this the picaso default then you should put it here: \n",
    "\n",
    "- $picaso_refdata/opacities/opacities.db\n",
    "\n",
    "The following function will do that for you if you have set up your path correctly"
   ]
  },
  {
   "cell_type": "code",
   "execution_count": null,
   "id": "338b33c7-30df-43e4-a41d-a85f0be6211c",
   "metadata": {},
   "outputs": [],
   "source": [
    "#commented out for docs build\n",
    "data.get_data(category_download='resampled_opacity',target_download='default')\n"
   ]
  },
  {
   "cell_type": "markdown",
   "id": "8f977f23-76be-46c7-b2bd-56d8588b85ce",
   "metadata": {},
   "source": [
    "## Download the stellar grids needed for exoplanet modeling\n",
    "\n",
    "If you want to use these stellar files they will need to be accessed by pysynphot package which checks for them here: \n",
    "\n",
    "- $PYSYN_CDBS/grid\n"
   ]
  },
  {
   "cell_type": "code",
   "execution_count": null,
   "id": "c817402b-fa6e-4e83-baf4-671ca9129f81",
   "metadata": {},
   "outputs": [],
   "source": [
    "data.get_data(category_download='stellar_grids')"
   ]
  },
  {
   "cell_type": "markdown",
   "id": "8ea27c5c-7f01-493b-b420-cf593133e3eb",
   "metadata": {},
   "source": [
    "## General use of the `get_data` function\n",
    "\n",
    "### Examples using get data in interactive mode\n",
    "```\n",
    "data.get_data()\n",
    "What data can I help you download? Options include:\n",
    "['resampled_opacity', 'stellar_grids', 'sonora_grids', 'ck_tables']\n",
    ">> sonora_grids\n",
    "Great. I found these options for sonora_grids. Select one:\n",
    "0 - 'elfowl-Ytype': The models between Teff of 275 to 550 K (applicable to Y-type objects). Total: ~40 Gb.\n",
    "1 - 'elfowl-Ttype': The models for Teff between 575 to 1200 K (applicable for T-type objects). Total: ~40 Gb.\n",
    "2 - 'elfowl-Ltype': Models for Teff between 1300 to 2400 K (applicable for L-type objects). Total: ~40 Gb.\n",
    "3 - 'bobcat': Sonora bobcat pressure-temperature profiles\n",
    "4 - 'diamondback': \n",
    ">> elfowl-Ytype\n",
    "No destination has been specified. Let me help put this in the right place.\n",
    "When running the code you will have to point to this directory. Therefore, keep it somewhere you will remember. My suggestion would be something like /Users/myaccount/Documents/data/picaso_data/sonora_grids. Please enter a path:\n",
    "/Users/nbatalh1/Documents/data/sonora_grids/elfowl\n",
    "```"
   ]
  },
  {
   "cell_type": "code",
   "execution_count": null,
   "id": "af43160a-3e33-4442-925f-7b50f7e220a9",
   "metadata": {},
   "outputs": [],
   "source": [
    "data.get_data()"
   ]
  },
  {
   "cell_type": "code",
   "execution_count": null,
   "id": "8dde393f",
   "metadata": {},
   "outputs": [],
   "source": []
  }
 ],
 "metadata": {
  "kernelspec": {
   "display_name": "pic312",
   "language": "python",
   "name": "python3"
  },
  "language_info": {
   "codemirror_mode": {
    "name": "ipython",
    "version": 3
   },
   "file_extension": ".py",
   "mimetype": "text/x-python",
   "name": "python",
   "nbconvert_exporter": "python",
   "pygments_lexer": "ipython3",
   "version": "3.12.2"
  }
 },
 "nbformat": 4,
 "nbformat_minor": 5
}
