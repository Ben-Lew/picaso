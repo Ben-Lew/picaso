{
 "cells": [
  {
   "cell_type": "markdown",
   "id": "b8db18fd",
   "metadata": {},
   "source": [
    "# What do I reference? \n",
    "\n",
    "This notebook shows you how to get the references you need based on:\n",
    "- your `full_output` data bundle\n",
    "- specified molecules\n",
    "- specified methods (e.g. 1d spectra vs climate) "
   ]
  },
  {
   "cell_type": "code",
   "execution_count": 2,
   "id": "14ded73f-5956-4aaa-b594-f484443ccefa",
   "metadata": {},
   "outputs": [
    {
     "name": "stdout",
     "output_type": "stream",
     "text": [
      "\u001b[33mDEPRECATION: Loading egg at /home/nbatalh1/anaconda3/envs/pic311/lib/python3.11/site-packages/astropy_iers_data-0.2023.12.4.0.30.20-py3.11.egg is deprecated. pip 24.3 will enforce this behaviour change. A possible replacement is to use pip for package installation.. Discussion can be found at https://github.com/pypa/pip/issues/12330\u001b[0m\u001b[33m\n",
      "\u001b[0m\u001b[33mDEPRECATION: Loading egg at /home/nbatalh1/anaconda3/envs/pic311/lib/python3.11/site-packages/scipy-1.11.4-py3.11-linux-x86_64.egg is deprecated. pip 24.3 will enforce this behaviour change. A possible replacement is to use pip for package installation.. Discussion can be found at https://github.com/pypa/pip/issues/12330\u001b[0m\u001b[33m\n",
      "\u001b[0m\u001b[33mDEPRECATION: Loading egg at /home/nbatalh1/anaconda3/envs/pic311/lib/python3.11/site-packages/docutils-0.20.1-py3.11.egg is deprecated. pip 24.3 will enforce this behaviour change. A possible replacement is to use pip for package installation.. Discussion can be found at https://github.com/pypa/pip/issues/12330\u001b[0m\u001b[33m\n",
      "\u001b[0m\u001b[33mDEPRECATION: Loading egg at /home/nbatalh1/anaconda3/envs/pic311/lib/python3.11/site-packages/numpy-1.26.2-py3.11-linux-x86_64.egg is deprecated. pip 24.3 will enforce this behaviour change. A possible replacement is to use pip for package installation.. Discussion can be found at https://github.com/pypa/pip/issues/12330\u001b[0m\u001b[33m\n",
      "\u001b[0m\u001b[33mDEPRECATION: Loading egg at /home/nbatalh1/anaconda3/envs/pic311/lib/python3.11/site-packages/pyviz_comms-3.0.0-py3.11.egg is deprecated. pip 24.3 will enforce this behaviour change. A possible replacement is to use pip for package installation.. Discussion can be found at https://github.com/pypa/pip/issues/12330\u001b[0m\u001b[33m\n",
      "\u001b[0m\u001b[33mDEPRECATION: Loading egg at /home/nbatalh1/anaconda3/envs/pic311/lib/python3.11/site-packages/xyzservices-2023.10.1-py3.11.egg is deprecated. pip 24.3 will enforce this behaviour change. A possible replacement is to use pip for package installation.. Discussion can be found at https://github.com/pypa/pip/issues/12330\u001b[0m\u001b[33m\n",
      "\u001b[0m\u001b[33mDEPRECATION: Loading egg at /home/nbatalh1/anaconda3/envs/pic311/lib/python3.11/site-packages/pysynphot-2.0.0-py3.11-linux-x86_64.egg is deprecated. pip 24.3 will enforce this behaviour change. A possible replacement is to use pip for package installation.. Discussion can be found at https://github.com/pypa/pip/issues/12330\u001b[0m\u001b[33m\n",
      "\u001b[0m\u001b[33mDEPRECATION: Loading egg at /home/nbatalh1/anaconda3/envs/pic311/lib/python3.11/site-packages/alabaster-0.7.13-py3.11.egg is deprecated. pip 24.3 will enforce this behaviour change. A possible replacement is to use pip for package installation.. Discussion can be found at https://github.com/pypa/pip/issues/12330\u001b[0m\u001b[33m\n",
      "\u001b[0m\u001b[33mDEPRECATION: Loading egg at /home/nbatalh1/anaconda3/envs/pic311/lib/python3.11/site-packages/matplotlib-3.8.2-py3.11-linux-x86_64.egg is deprecated. pip 24.3 will enforce this behaviour change. A possible replacement is to use pip for package installation.. Discussion can be found at https://github.com/pypa/pip/issues/12330\u001b[0m\u001b[33m\n",
      "\u001b[0m\u001b[33mDEPRECATION: Loading egg at /home/nbatalh1/anaconda3/envs/pic311/lib/python3.11/site-packages/pylatexenc-3.0a21-py3.11.egg is deprecated. pip 24.3 will enforce this behaviour change. A possible replacement is to use pip for package installation.. Discussion can be found at https://github.com/pypa/pip/issues/12330\u001b[0m\u001b[33m\n",
      "\u001b[0m\u001b[33mDEPRECATION: Loading egg at /home/nbatalh1/anaconda3/envs/pic311/lib/python3.11/site-packages/kiwisolver-1.4.5-py3.11-linux-x86_64.egg is deprecated. pip 24.3 will enforce this behaviour change. A possible replacement is to use pip for package installation.. Discussion can be found at https://github.com/pypa/pip/issues/12330\u001b[0m\u001b[33m\n",
      "\u001b[0m\u001b[33mDEPRECATION: Loading egg at /home/nbatalh1/anaconda3/envs/pic311/lib/python3.11/site-packages/panel-1.3.4-py3.11.egg is deprecated. pip 24.3 will enforce this behaviour change. A possible replacement is to use pip for package installation.. Discussion can be found at https://github.com/pypa/pip/issues/12330\u001b[0m\u001b[33m\n",
      "\u001b[0m\u001b[33mDEPRECATION: Loading egg at /home/nbatalh1/anaconda3/envs/pic311/lib/python3.11/site-packages/charset_normalizer-3.3.2-py3.11-linux-x86_64.egg is deprecated. pip 24.3 will enforce this behaviour change. A possible replacement is to use pip for package installation.. Discussion can be found at https://github.com/pypa/pip/issues/12330\u001b[0m\u001b[33m\n",
      "\u001b[0m\u001b[33mDEPRECATION: Loading egg at /home/nbatalh1/anaconda3/envs/pic311/lib/python3.11/site-packages/xarray-2023.11.0-py3.11.egg is deprecated. pip 24.3 will enforce this behaviour change. A possible replacement is to use pip for package installation.. Discussion can be found at https://github.com/pypa/pip/issues/12330\u001b[0m\u001b[33m\n",
      "\u001b[0m\u001b[33mDEPRECATION: Loading egg at /home/nbatalh1/anaconda3/envs/pic311/lib/python3.11/site-packages/param-2.0.1-py3.11.egg is deprecated. pip 24.3 will enforce this behaviour change. A possible replacement is to use pip for package installation.. Discussion can be found at https://github.com/pypa/pip/issues/12330\u001b[0m\u001b[33m\n",
      "\u001b[0m\u001b[33mDEPRECATION: Loading egg at /home/nbatalh1/anaconda3/envs/pic311/lib/python3.11/site-packages/Babel-2.13.1-py3.11.egg is deprecated. pip 24.3 will enforce this behaviour change. A possible replacement is to use pip for package installation.. Discussion can be found at https://github.com/pypa/pip/issues/12330\u001b[0m\u001b[33m\n",
      "\u001b[0m\u001b[33mDEPRECATION: Loading egg at /home/nbatalh1/anaconda3/envs/pic311/lib/python3.11/site-packages/tqdm-4.66.1-py3.11.egg is deprecated. pip 24.3 will enforce this behaviour change. A possible replacement is to use pip for package installation.. Discussion can be found at https://github.com/pypa/pip/issues/12330\u001b[0m\u001b[33m\n",
      "\u001b[0m\u001b[33mDEPRECATION: Loading egg at /home/nbatalh1/anaconda3/envs/pic311/lib/python3.11/site-packages/certifi-2023.11.17-py3.11.egg is deprecated. pip 24.3 will enforce this behaviour change. A possible replacement is to use pip for package installation.. Discussion can be found at https://github.com/pypa/pip/issues/12330\u001b[0m\u001b[33m\n",
      "\u001b[0m\u001b[33mDEPRECATION: Loading egg at /home/nbatalh1/anaconda3/envs/pic311/lib/python3.11/site-packages/typing_extensions-4.9.0rc1-py3.11.egg is deprecated. pip 24.3 will enforce this behaviour change. A possible replacement is to use pip for package installation.. Discussion can be found at https://github.com/pypa/pip/issues/12330\u001b[0m\u001b[33m\n",
      "\u001b[0m\u001b[33mDEPRECATION: Loading egg at /home/nbatalh1/anaconda3/envs/pic311/lib/python3.11/site-packages/tzdata-2023.3-py3.11.egg is deprecated. pip 24.3 will enforce this behaviour change. A possible replacement is to use pip for package installation.. Discussion can be found at https://github.com/pypa/pip/issues/12330\u001b[0m\u001b[33m\n",
      "\u001b[0m\u001b[33mDEPRECATION: Loading egg at /home/nbatalh1/anaconda3/envs/pic311/lib/python3.11/site-packages/bokeh-3.4.0.dev3-py3.11.egg is deprecated. pip 24.3 will enforce this behaviour change. A possible replacement is to use pip for package installation.. Discussion can be found at https://github.com/pypa/pip/issues/12330\u001b[0m\u001b[33m\n",
      "\u001b[0m\u001b[33mDEPRECATION: Loading egg at /home/nbatalh1/anaconda3/envs/pic311/lib/python3.11/site-packages/holoviews-1.18.2a1-py3.11.egg is deprecated. pip 24.3 will enforce this behaviour change. A possible replacement is to use pip for package installation.. Discussion can be found at https://github.com/pypa/pip/issues/12330\u001b[0m\u001b[33m\n",
      "\u001b[0m\u001b[33mDEPRECATION: Loading egg at /home/nbatalh1/anaconda3/envs/pic311/lib/python3.11/site-packages/soupsieve-2.5-py3.11.egg is deprecated. pip 24.3 will enforce this behaviour change. A possible replacement is to use pip for package installation.. Discussion can be found at https://github.com/pypa/pip/issues/12330\u001b[0m\u001b[33m\n",
      "\u001b[0m\u001b[33mDEPRECATION: Loading egg at /home/nbatalh1/anaconda3/envs/pic311/lib/python3.11/site-packages/pytz-2023.3.post1-py3.11.egg is deprecated. pip 24.3 will enforce this behaviour change. A possible replacement is to use pip for package installation.. Discussion can be found at https://github.com/pypa/pip/issues/12330\u001b[0m\u001b[33m\n",
      "\u001b[0m\u001b[33mDEPRECATION: Loading egg at /home/nbatalh1/anaconda3/envs/pic311/lib/python3.11/site-packages/bokeh-3.1.1-py3.11.egg is deprecated. pip 24.3 will enforce this behaviour change. A possible replacement is to use pip for package installation.. Discussion can be found at https://github.com/pypa/pip/issues/12330\u001b[0m\u001b[33m\n",
      "\u001b[0m\u001b[33mDEPRECATION: Loading egg at /home/nbatalh1/anaconda3/envs/pic311/lib/python3.11/site-packages/snowballstemmer-2.2.0-py3.11.egg is deprecated. pip 24.3 will enforce this behaviour change. A possible replacement is to use pip for package installation.. Discussion can be found at https://github.com/pypa/pip/issues/12330\u001b[0m\u001b[33m\n",
      "\u001b[0m\u001b[33mDEPRECATION: Loading egg at /home/nbatalh1/anaconda3/envs/pic311/lib/python3.11/site-packages/imagesize-1.4.1-py3.11.egg is deprecated. pip 24.3 will enforce this behaviour change. A possible replacement is to use pip for package installation.. Discussion can be found at https://github.com/pypa/pip/issues/12330\u001b[0m\u001b[33m\n",
      "\u001b[0m\u001b[33mDEPRECATION: Loading egg at /home/nbatalh1/anaconda3/envs/pic311/lib/python3.11/site-packages/MarkupSafe-2.1.3-py3.11-linux-x86_64.egg is deprecated. pip 24.3 will enforce this behaviour change. A possible replacement is to use pip for package installation.. Discussion can be found at https://github.com/pypa/pip/issues/12330\u001b[0m\u001b[33m\n",
      "\u001b[0m\u001b[33mDEPRECATION: Loading egg at /home/nbatalh1/anaconda3/envs/pic311/lib/python3.11/site-packages/mdit_py_plugins-0.4.0-py3.11.egg is deprecated. pip 24.3 will enforce this behaviour change. A possible replacement is to use pip for package installation.. Discussion can be found at https://github.com/pypa/pip/issues/12330\u001b[0m\u001b[33m\n",
      "\u001b[0m\u001b[33mDEPRECATION: Loading egg at /home/nbatalh1/anaconda3/envs/pic311/lib/python3.11/site-packages/joblib-1.3.2-py3.11.egg is deprecated. pip 24.3 will enforce this behaviour change. A possible replacement is to use pip for package installation.. Discussion can be found at https://github.com/pypa/pip/issues/12330\u001b[0m\u001b[33m\n",
      "\u001b[0m\u001b[33mDEPRECATION: Loading egg at /home/nbatalh1/anaconda3/envs/pic311/lib/python3.11/site-packages/numpy-1.24.4-py3.11-linux-x86_64.egg is deprecated. pip 24.3 will enforce this behaviour change. A possible replacement is to use pip for package installation.. Discussion can be found at https://github.com/pypa/pip/issues/12330\u001b[0m\u001b[33m\n",
      "\u001b[0m\u001b[33mDEPRECATION: Loading egg at /home/nbatalh1/anaconda3/envs/pic311/lib/python3.11/site-packages/PyMieScatt-1.8.1.1-py3.11.egg is deprecated. pip 24.3 will enforce this behaviour change. A possible replacement is to use pip for package installation.. Discussion can be found at https://github.com/pypa/pip/issues/12330\u001b[0m\u001b[33m\n",
      "\u001b[0m\u001b[33mDEPRECATION: Loading egg at /home/nbatalh1/anaconda3/envs/pic311/lib/python3.11/site-packages/bibtexparser-2.0.0b4-py3.11.egg is deprecated. pip 24.3 will enforce this behaviour change. A possible replacement is to use pip for package installation.. Discussion can be found at https://github.com/pypa/pip/issues/12330\u001b[0m\u001b[33m\n",
      "\u001b[0m\u001b[33mDEPRECATION: Loading egg at /home/nbatalh1/anaconda3/envs/pic311/lib/python3.11/site-packages/fonttools-4.46.0-py3.11.egg is deprecated. pip 24.3 will enforce this behaviour change. A possible replacement is to use pip for package installation.. Discussion can be found at https://github.com/pypa/pip/issues/12330\u001b[0m\u001b[33m\n",
      "\u001b[0m\u001b[33mDEPRECATION: Loading egg at /home/nbatalh1/anaconda3/envs/pic311/lib/python3.11/site-packages/contourpy-1.2.0-py3.11-linux-x86_64.egg is deprecated. pip 24.3 will enforce this behaviour change. A possible replacement is to use pip for package installation.. Discussion can be found at https://github.com/pypa/pip/issues/12330\u001b[0m\u001b[33m\n",
      "\u001b[0m\u001b[33mDEPRECATION: Loading egg at /home/nbatalh1/anaconda3/envs/pic311/lib/python3.11/site-packages/tornado-6.4-py3.11-linux-x86_64.egg is deprecated. pip 24.3 will enforce this behaviour change. A possible replacement is to use pip for package installation.. Discussion can be found at https://github.com/pypa/pip/issues/12330\u001b[0m\u001b[33m\n",
      "\u001b[0m\u001b[33mDEPRECATION: Loading egg at /home/nbatalh1/anaconda3/envs/pic311/lib/python3.11/site-packages/Pillow-10.1.0-py3.11-linux-x86_64.egg is deprecated. pip 24.3 will enforce this behaviour change. A possible replacement is to use pip for package installation.. Discussion can be found at https://github.com/pypa/pip/issues/12330\u001b[0m\u001b[33m\n",
      "\u001b[0m\u001b[33mDEPRECATION: Loading egg at /home/nbatalh1/anaconda3/envs/pic311/lib/python3.11/site-packages/pyct-0.5.0-py3.11.egg is deprecated. pip 24.3 will enforce this behaviour change. A possible replacement is to use pip for package installation.. Discussion can be found at https://github.com/pypa/pip/issues/12330\u001b[0m\u001b[33m\n",
      "\u001b[0m\u001b[33mDEPRECATION: Loading egg at /home/nbatalh1/anaconda3/envs/pic311/lib/python3.11/site-packages/astropy-6.0.0-py3.11-linux-x86_64.egg is deprecated. pip 24.3 will enforce this behaviour change. A possible replacement is to use pip for package installation.. Discussion can be found at https://github.com/pypa/pip/issues/12330\u001b[0m\u001b[33m\n",
      "\u001b[0m\u001b[33mDEPRECATION: Loading egg at /home/nbatalh1/anaconda3/envs/pic311/lib/python3.11/site-packages/pyparsing-3.1.1-py3.11.egg is deprecated. pip 24.3 will enforce this behaviour change. A possible replacement is to use pip for package installation.. Discussion can be found at https://github.com/pypa/pip/issues/12330\u001b[0m\u001b[33m\n",
      "\u001b[0m\u001b[33mDEPRECATION: Loading egg at /home/nbatalh1/anaconda3/envs/pic311/lib/python3.11/site-packages/beautifulsoup4-4.12.2-py3.11.egg is deprecated. pip 24.3 will enforce this behaviour change. A possible replacement is to use pip for package installation.. Discussion can be found at https://github.com/pypa/pip/issues/12330\u001b[0m\u001b[33m\n",
      "\u001b[0m\u001b[33mDEPRECATION: Loading egg at /home/nbatalh1/anaconda3/envs/pic311/lib/python3.11/site-packages/PyYAML-6.0.1-py3.11-linux-x86_64.egg is deprecated. pip 24.3 will enforce this behaviour change. A possible replacement is to use pip for package installation.. Discussion can be found at https://github.com/pypa/pip/issues/12330\u001b[0m\u001b[33m\n",
      "\u001b[0m\u001b[33mDEPRECATION: Loading egg at /home/nbatalh1/anaconda3/envs/pic311/lib/python3.11/site-packages/pyerfa-2.0.1.1-py3.11-linux-x86_64.egg is deprecated. pip 24.3 will enforce this behaviour change. A possible replacement is to use pip for package installation.. Discussion can be found at https://github.com/pypa/pip/issues/12330\u001b[0m\u001b[33m\n",
      "\u001b[0m\u001b[33mDEPRECATION: Loading egg at /home/nbatalh1/anaconda3/envs/pic311/lib/python3.11/site-packages/linkify_it_py-2.0.2-py3.11.egg is deprecated. pip 24.3 will enforce this behaviour change. A possible replacement is to use pip for package installation.. Discussion can be found at https://github.com/pypa/pip/issues/12330\u001b[0m\u001b[33m\n",
      "\u001b[0m\u001b[33mDEPRECATION: Loading egg at /home/nbatalh1/anaconda3/envs/pic311/lib/python3.11/site-packages/pygments-2.17.2-py3.11.egg is deprecated. pip 24.3 will enforce this behaviour change. A possible replacement is to use pip for package installation.. Discussion can be found at https://github.com/pypa/pip/issues/12330\u001b[0m\u001b[33m\n",
      "\u001b[0m\u001b[33mDEPRECATION: Loading egg at /home/nbatalh1/anaconda3/envs/pic311/lib/python3.11/site-packages/pandas-2.1.3-py3.11-linux-x86_64.egg is deprecated. pip 24.3 will enforce this behaviour change. A possible replacement is to use pip for package installation.. Discussion can be found at https://github.com/pypa/pip/issues/12330\u001b[0m\u001b[33m\n",
      "\u001b[0m\u001b[33mDEPRECATION: Loading egg at /home/nbatalh1/anaconda3/envs/pic311/lib/python3.11/site-packages/six-1.16.0-py3.11.egg is deprecated. pip 24.3 will enforce this behaviour change. A possible replacement is to use pip for package installation.. Discussion can be found at https://github.com/pypa/pip/issues/12330\u001b[0m\u001b[33m\n",
      "\u001b[0m\u001b[33mDEPRECATION: Loading egg at /home/nbatalh1/anaconda3/envs/pic311/lib/python3.11/site-packages/requests-2.31.0-py3.11.egg is deprecated. pip 24.3 will enforce this behaviour change. A possible replacement is to use pip for package installation.. Discussion can be found at https://github.com/pypa/pip/issues/12330\u001b[0m\u001b[33m\n",
      "\u001b[0m\u001b[33mDEPRECATION: Loading egg at /home/nbatalh1/anaconda3/envs/pic311/lib/python3.11/site-packages/numba-0.58.1-py3.11-linux-x86_64.egg is deprecated. pip 24.3 will enforce this behaviour change. A possible replacement is to use pip for package installation.. Discussion can be found at https://github.com/pypa/pip/issues/12330\u001b[0m\u001b[33m\n",
      "\u001b[0m\u001b[33mDEPRECATION: Loading egg at /home/nbatalh1/anaconda3/envs/pic311/lib/python3.11/site-packages/colorcet-3.0.1-py3.11.egg is deprecated. pip 24.3 will enforce this behaviour change. A possible replacement is to use pip for package installation.. Discussion can be found at https://github.com/pypa/pip/issues/12330\u001b[0m\u001b[33m\n",
      "\u001b[0m\u001b[33mDEPRECATION: Loading egg at /home/nbatalh1/anaconda3/envs/pic311/lib/python3.11/site-packages/bleach-6.1.0-py3.11.egg is deprecated. pip 24.3 will enforce this behaviour change. A possible replacement is to use pip for package installation.. Discussion can be found at https://github.com/pypa/pip/issues/12330\u001b[0m\u001b[33m\n",
      "\u001b[0m\u001b[33mDEPRECATION: Loading egg at /home/nbatalh1/anaconda3/envs/pic311/lib/python3.11/site-packages/llvmlite-0.41.1-py3.11-linux-x86_64.egg is deprecated. pip 24.3 will enforce this behaviour change. A possible replacement is to use pip for package installation.. Discussion can be found at https://github.com/pypa/pip/issues/12330\u001b[0m\u001b[33m\n",
      "\u001b[0m\u001b[33mDEPRECATION: Loading egg at /home/nbatalh1/anaconda3/envs/pic311/lib/python3.11/site-packages/idna-3.6-py3.11.egg is deprecated. pip 24.3 will enforce this behaviour change. A possible replacement is to use pip for package installation.. Discussion can be found at https://github.com/pypa/pip/issues/12330\u001b[0m\u001b[33m\n",
      "\u001b[0m\u001b[33mDEPRECATION: Loading egg at /home/nbatalh1/anaconda3/envs/pic311/lib/python3.11/site-packages/urllib3-2.1.0-py3.11.egg is deprecated. pip 24.3 will enforce this behaviour change. A possible replacement is to use pip for package installation.. Discussion can be found at https://github.com/pypa/pip/issues/12330\u001b[0m\u001b[33m\n",
      "\u001b[0m\u001b[33mDEPRECATION: Loading egg at /home/nbatalh1/anaconda3/envs/pic311/lib/python3.11/site-packages/packaging-23.2-py3.11.egg is deprecated. pip 24.3 will enforce this behaviour change. A possible replacement is to use pip for package installation.. Discussion can be found at https://github.com/pypa/pip/issues/12330\u001b[0m\u001b[33m\n",
      "\u001b[0m\u001b[33mDEPRECATION: Loading egg at /home/nbatalh1/anaconda3/envs/pic311/lib/python3.11/site-packages/python_dateutil-2.8.2-py3.11.egg is deprecated. pip 24.3 will enforce this behaviour change. A possible replacement is to use pip for package installation.. Discussion can be found at https://github.com/pypa/pip/issues/12330\u001b[0m\u001b[33m\n",
      "\u001b[0m\u001b[33mDEPRECATION: Loading egg at /home/nbatalh1/anaconda3/envs/pic311/lib/python3.11/site-packages/photutils-1.10.0-py3.11-linux-x86_64.egg is deprecated. pip 24.3 will enforce this behaviour change. A possible replacement is to use pip for package installation.. Discussion can be found at https://github.com/pypa/pip/issues/12330\u001b[0m\u001b[33m\n",
      "\u001b[0m\u001b[33mDEPRECATION: Loading egg at /home/nbatalh1/anaconda3/envs/pic311/lib/python3.11/site-packages/Jinja2-3.1.2-py3.11.egg is deprecated. pip 24.3 will enforce this behaviour change. A possible replacement is to use pip for package installation.. Discussion can be found at https://github.com/pypa/pip/issues/12330\u001b[0m\u001b[33m\n",
      "\u001b[0m\u001b[33mDEPRECATION: Loading egg at /home/nbatalh1/anaconda3/envs/pic311/lib/python3.11/site-packages/shapely-2.0.2-py3.11-linux-x86_64.egg is deprecated. pip 24.3 will enforce this behaviour change. A possible replacement is to use pip for package installation.. Discussion can be found at https://github.com/pypa/pip/issues/12330\u001b[0m\u001b[33m\n",
      "\u001b[0m\u001b[33mDEPRECATION: Loading egg at /home/nbatalh1/anaconda3/envs/pic311/lib/python3.11/site-packages/cycler-0.12.1-py3.11.egg is deprecated. pip 24.3 will enforce this behaviour change. A possible replacement is to use pip for package installation.. Discussion can be found at https://github.com/pypa/pip/issues/12330\u001b[0m\u001b[33m\n",
      "\u001b[0mRequirement already satisfied: bibtexparser in /home/nbatalh1/anaconda3/envs/pic311/lib/python3.11/site-packages/bibtexparser-2.0.0b4-py3.11.egg (2.0.0b4)\n",
      "Requirement already satisfied: pylatexenc>=2.10 in /home/nbatalh1/anaconda3/envs/pic311/lib/python3.11/site-packages/pylatexenc-3.0a21-py3.11.egg (from bibtexparser) (3.0a21)\n"
     ]
    }
   ],
   "source": [
    "!pip install bibtexparser"
   ]
  },
  {
   "cell_type": "code",
   "execution_count": 4,
   "id": "9d264050-322d-44af-8d42-c15d04ccdb4a",
   "metadata": {},
   "outputs": [],
   "source": [
    "import bibtexparser"
   ]
  },
  {
   "cell_type": "code",
   "execution_count": null,
   "id": "7bc59e77-4eab-49a0-b21d-f938fa8f1903",
   "metadata": {},
   "outputs": [],
   "source": [
    "bibtexparser.bibtexparser."
   ]
  },
  {
   "cell_type": "code",
   "execution_count": 3,
   "id": "b13c9271",
   "metadata": {},
   "outputs": [
    {
     "ename": "ModuleNotFoundError",
     "evalue": "No module named 'bibtexparser.bibdatabase'",
     "output_type": "error",
     "traceback": [
      "\u001b[0;31m---------------------------------------------------------------------------\u001b[0m",
      "\u001b[0;31mModuleNotFoundError\u001b[0m                       Traceback (most recent call last)",
      "Cell \u001b[0;32mIn[3], line 2\u001b[0m\n\u001b[1;32m      1\u001b[0m \u001b[38;5;28;01mimport\u001b[39;00m \u001b[38;5;21;01mpicaso\u001b[39;00m\u001b[38;5;21;01m.\u001b[39;00m\u001b[38;5;21;01mjustdoit\u001b[39;00m \u001b[38;5;28;01mas\u001b[39;00m \u001b[38;5;21;01mjdi\u001b[39;00m\n\u001b[0;32m----> 2\u001b[0m \u001b[38;5;28;01mimport\u001b[39;00m \u001b[38;5;21;01mpicaso\u001b[39;00m\u001b[38;5;21;01m.\u001b[39;00m\u001b[38;5;21;01mreferences\u001b[39;00m \u001b[38;5;28;01mas\u001b[39;00m \u001b[38;5;21;01mpref\u001b[39;00m\n",
      "File \u001b[0;32m~/codes/picaso/picaso/references.py:2\u001b[0m\n\u001b[1;32m      1\u001b[0m \u001b[38;5;28;01mimport\u001b[39;00m \u001b[38;5;21;01mbibtexparser\u001b[39;00m\n\u001b[0;32m----> 2\u001b[0m \u001b[38;5;28;01mfrom\u001b[39;00m \u001b[38;5;21;01mbibtexparser\u001b[39;00m\u001b[38;5;21;01m.\u001b[39;00m\u001b[38;5;21;01mbibdatabase\u001b[39;00m \u001b[38;5;28;01mimport\u001b[39;00m BibDatabase\n\u001b[1;32m      3\u001b[0m \u001b[38;5;28;01mfrom\u001b[39;00m \u001b[38;5;21;01mbibtexparser\u001b[39;00m\u001b[38;5;21;01m.\u001b[39;00m\u001b[38;5;21;01mbwriter\u001b[39;00m \u001b[38;5;28;01mimport\u001b[39;00m BibTexWriter\n\u001b[1;32m      4\u001b[0m \u001b[38;5;28;01mimport\u001b[39;00m \u001b[38;5;21;01mos\u001b[39;00m\n",
      "\u001b[0;31mModuleNotFoundError\u001b[0m: No module named 'bibtexparser.bibdatabase'"
     ]
    }
   ],
   "source": [
    "import picaso.justdoit as jdi\n",
    "import picaso.references as pref"
   ]
  },
  {
   "cell_type": "markdown",
   "id": "4a7c4a03",
   "metadata": {},
   "source": [
    "Let's set up a quick little model run so that we can see how the reference function works"
   ]
  },
  {
   "cell_type": "code",
   "execution_count": null,
   "id": "000e4824",
   "metadata": {},
   "outputs": [],
   "source": [
    "opa = jdi.opannection(wave_range=[0.3,1]) #lets just use all defaults\n",
    "planet=jdi.inputs()\n",
    "planet.phase_angle(0) #radians\n",
    "planet.gravity(gravity=25, gravity_unit=jdi.u.Unit('m/(s**2)')) #any astropy units available\n",
    "planet.star(opa, 5000,0,4.0) #opacity db, pysynphot database, temp, metallicity, logg\n",
    "planet.atmosphere(filename=jdi.jupiter_pt(), sep='\\s+')\n",
    "full_output=planet.spectrum(opa, full_output=True)"
   ]
  },
  {
   "cell_type": "markdown",
   "id": "978a1928",
   "metadata": {},
   "source": [
    "## Get opacity data references based on model output"
   ]
  },
  {
   "cell_type": "code",
   "execution_count": null,
   "id": "7b54700d",
   "metadata": {},
   "outputs": [],
   "source": [
    "refs = pref.References() \n",
    "opa_latex, bibdb = refs.get_opa(full_output=full_output['full_output'])"
   ]
  },
  {
   "cell_type": "code",
   "execution_count": null,
   "id": "c88e3e0f",
   "metadata": {},
   "outputs": [],
   "source": [
    "print(opa_latex)"
   ]
  },
  {
   "cell_type": "code",
   "execution_count": null,
   "id": "f7a50176",
   "metadata": {},
   "outputs": [],
   "source": [
    "bibdb.entries[0:2]"
   ]
  },
  {
   "cell_type": "markdown",
   "id": "dc01bb22",
   "metadata": {},
   "source": [
    "### Write to bibtex file"
   ]
  },
  {
   "cell_type": "code",
   "execution_count": null,
   "id": "5c5e75f0",
   "metadata": {},
   "outputs": [],
   "source": [
    "pref.create_bib(bibdb, 'molecule.bib')"
   ]
  },
  {
   "cell_type": "markdown",
   "id": "ae01ca41",
   "metadata": {},
   "source": [
    "## Get opacity data references for certain molecules"
   ]
  },
  {
   "cell_type": "code",
   "execution_count": null,
   "id": "d19ea5fd",
   "metadata": {},
   "outputs": [],
   "source": [
    "opa_latex, bibdb = refs.get_opa(molecules=['H2O','CO2'])"
   ]
  },
  {
   "cell_type": "code",
   "execution_count": null,
   "id": "29078324",
   "metadata": {},
   "outputs": [],
   "source": [
    "print(opa_latex)"
   ]
  },
  {
   "cell_type": "code",
   "execution_count": null,
   "id": "138fa680",
   "metadata": {},
   "outputs": [],
   "source": [
    "bibdb.entries"
   ]
  }
 ],
 "metadata": {
  "kernelspec": {
   "display_name": "Python 3 (ipykernel)",
   "language": "python",
   "name": "python3"
  },
  "language_info": {
   "codemirror_mode": {
    "name": "ipython",
    "version": 3
   },
   "file_extension": ".py",
   "mimetype": "text/x-python",
   "name": "python",
   "nbconvert_exporter": "python",
   "pygments_lexer": "ipython3",
   "version": "3.11.5"
  },
  "toc": {
   "base_numbering": 1,
   "nav_menu": {},
   "number_sections": true,
   "sideBar": true,
   "skip_h1_title": false,
   "title_cell": "Table of Contents",
   "title_sidebar": "Contents",
   "toc_cell": true,
   "toc_position": {},
   "toc_section_display": true,
   "toc_window_display": false
  },
  "varInspector": {
   "cols": {
    "lenName": 16,
    "lenType": 16,
    "lenVar": 40
   },
   "kernels_config": {
    "python": {
     "delete_cmd_postfix": "",
     "delete_cmd_prefix": "del ",
     "library": "var_list.py",
     "varRefreshCmd": "print(var_dic_list())"
    },
    "r": {
     "delete_cmd_postfix": ") ",
     "delete_cmd_prefix": "rm(",
     "library": "var_list.r",
     "varRefreshCmd": "cat(var_dic_list()) "
    }
   },
   "types_to_exclude": [
    "module",
    "function",
    "builtin_function_or_method",
    "instance",
    "_Feature"
   ],
   "window_display": false
  }
 },
 "nbformat": 4,
 "nbformat_minor": 5
}
