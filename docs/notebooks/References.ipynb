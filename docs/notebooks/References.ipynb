{
 "cells": [
  {
   "cell_type": "markdown",
   "id": "b8db18fd",
   "metadata": {},
   "source": [
    "# What do I reference? \n",
    "\n",
    "This notebook shows you how to get the references you need based on:\n",
    "- your `full_output` data bundle\n",
    "- specified molecules\n",
    "- specified methods (e.g. 1d spectra vs climate) "
   ]
  },
  {
   "cell_type": "code",
   "execution_count": 1,
   "id": "b13c9271",
   "metadata": {},
   "outputs": [],
   "source": [
    "import picaso.justdoit as jdi\n",
    "import picaso.references as pref"
   ]
  },
  {
   "cell_type": "markdown",
   "id": "4a7c4a03",
   "metadata": {},
   "source": [
    "Let's set up a quick little model run so that we can see how the reference function works"
   ]
  },
  {
   "cell_type": "code",
   "execution_count": 2,
   "id": "000e4824",
   "metadata": {},
   "outputs": [],
   "source": [
    "opa = jdi.opannection(wave_range=[0.3,1]) #lets just use all defaults\n",
    "planet=jdi.inputs()\n",
    "planet.phase_angle(0) #radians\n",
    "planet.gravity(gravity=25, gravity_unit=jdi.u.Unit('m/(s**2)')) #any astropy units available\n",
    "planet.star(opa, 5000,0,4.0) #opacity db, pysynphot database, temp, metallicity, logg\n",
    "planet.atmosphere(filename=jdi.jupiter_pt(), delim_whitespace=True)\n",
    "full_output=planet.spectrum(opa, full_output=True)"
   ]
  },
  {
   "cell_type": "markdown",
   "id": "978a1928",
   "metadata": {},
   "source": [
    "## Get opacity data references based on model output"
   ]
  },
  {
   "cell_type": "code",
   "execution_count": 3,
   "id": "7b54700d",
   "metadata": {},
   "outputs": [],
   "source": [
    "refs = pref.References() \n",
    "opa_latex, bibdb = refs.get_opa(full_output=full_output['full_output'])"
   ]
  },
  {
   "cell_type": "code",
   "execution_count": 4,
   "id": "c88e3e0f",
   "metadata": {},
   "outputs": [
    {
     "name": "stdout",
     "output_type": "stream",
     "text": [
      "\n",
      "        \\begin{table*}\n",
      "        \\centering\n",
      "        \\begin{tabular}{c|c}\n",
      "        H2 &  \\citet{HITRAN2016} \\\\ \n",
      "        VO &  \\citet{McKemmish16,GharibNezhad2021} \\\\ \n",
      "        TiO &  \\citet{McKemmish2019TiO,GharibNezhad2021} \\\\ \n",
      "        CO2 &  \\citet{HUANG2014reliable} \\\\ \n",
      "        H2O &  \\citet{Polyansky2018H2O} \\\\ \n",
      "        CH4 &  \\citet{yurchenko13vibrational,yurchenko_2014} \\\\ \n",
      "        CO &  \\citet{HITEMP2010,HITRAN2016,li15rovibrational} \\\\ \n",
      "        NH3 &  \\citet{yurchenko11vibrationally,Wilzewski16} \\\\ \n",
      "        N2 &  \\citet{hitran2012} \\\\ \n",
      "        PH3 &  \\citet{sousa14exomol} \\\\ \n",
      "        H2--H2 &  \\citet{Saumon12,Lenzuni1991h2h2} \\\\ \n",
      "        H2--He &  \\citet{Saumon12} \\\\ \n",
      "        H2--N2 &  \\citet{Saumon12} \\\\ \n",
      "        H2--H &  \\citet{Saumon12} \\\\ \n",
      "        H2--CH4 &  \\citet{Saumon12} \\\\ \n",
      "        H-bf &  \\citet{John1988H} \\\\ \n",
      "        \n",
      "            \\end{tabular}\n",
      "            \\caption{Line lists used to make PICASO Opacities}\n",
      "            \\label{tab:opas}\n",
      "        \\end{table*}\n",
      "        \n"
     ]
    }
   ],
   "source": [
    "print(opa_latex)"
   ]
  },
  {
   "cell_type": "code",
   "execution_count": 5,
   "id": "f7a50176",
   "metadata": {},
   "outputs": [
    {
     "data": {
      "text/plain": [
       "[{'adsnote': 'Provided by the SAO/NASA Astrophysics Data System',\n",
       "  'adsurl': 'https://ui.adsabs.harvard.edu/abs/2017isms.confETJ08G',\n",
       "  'doi': '10.15278/isms.2017.TJ08',\n",
       "  'pages': 'TJ08',\n",
       "  'eid': 'TJ08',\n",
       "  'month': 'June',\n",
       "  'year': '2017',\n",
       "  'booktitle': '72nd International Symposium on Molecular Spectroscopy',\n",
       "  'keywords': 'Linelists',\n",
       "  'title': '{HITRAN2016: Part I. Line lists for H\\\\_2O, CO\\\\_2, O\\\\_3, N\\\\_2O, CO, CH\\\\_4, and O\\\\_2}',\n",
       "  'author': '{Gordon}, Iouli E. and {Rothman}, Laurence S. and {Tan}, Yan and {Kochanov}, Roman V. and {Hill}, Christian',\n",
       "  'ENTRYTYPE': 'inproceedings',\n",
       "  'ID': 'HITRAN2016'},\n",
       " {'adsnote': 'Provided by the SAO/NASA Astrophysics Data System',\n",
       "  'adsurl': 'https://ui.adsabs.harvard.edu/abs/2016MNRAS.463..771M',\n",
       "  'primaryclass': 'astro-ph.SR',\n",
       "  'eprint': '1609.06120',\n",
       "  'archiveprefix': 'arXiv',\n",
       "  'doi': '10.1093/mnras/stw1969',\n",
       "  'pages': '771-793',\n",
       "  'number': '1',\n",
       "  'volume': '463',\n",
       "  'month': 'November',\n",
       "  'year': '2016',\n",
       "  'keywords': 'molecular data, opacity, astronomical data bases: miscellaneous, planets and satellites: atmospheres, brown dwarfs, stars: low-mass, Astrophysics - Solar and Stellar Astrophysics, Physics - Chemical Physics',\n",
       "  'journal': '\\\\mnras',\n",
       "  'title': '{ExoMol line lists - XVIII. The high-temperature spectrum of VO}',\n",
       "  'author': '{McKemmish}, Laura K. and {Yurchenko}, Sergei N. and\\n{Tennyson}, Jonathan',\n",
       "  'ENTRYTYPE': 'article',\n",
       "  'ID': 'McKemmish16'}]"
      ]
     },
     "execution_count": 5,
     "metadata": {},
     "output_type": "execute_result"
    }
   ],
   "source": [
    "bibdb.entries[0:2]"
   ]
  },
  {
   "cell_type": "markdown",
   "id": "dc01bb22",
   "metadata": {},
   "source": [
    "### Write to bibtex file"
   ]
  },
  {
   "cell_type": "code",
   "execution_count": 10,
   "id": "5c5e75f0",
   "metadata": {},
   "outputs": [],
   "source": [
    "pref.create_bib(bibdb, 'molecule.bib')"
   ]
  },
  {
   "cell_type": "markdown",
   "id": "ae01ca41",
   "metadata": {},
   "source": [
    "## Get opacity data references for certain molecules"
   ]
  },
  {
   "cell_type": "code",
   "execution_count": 7,
   "id": "d19ea5fd",
   "metadata": {},
   "outputs": [],
   "source": [
    "opa_latex, bibdb = refs.get_opa(molecules=['H2O','CO2'])"
   ]
  },
  {
   "cell_type": "code",
   "execution_count": 8,
   "id": "29078324",
   "metadata": {},
   "outputs": [
    {
     "name": "stdout",
     "output_type": "stream",
     "text": [
      "\n",
      "        \\begin{table*}\n",
      "        \\centering\n",
      "        \\begin{tabular}{c|c}\n",
      "        H2O &  \\citet{Polyansky2018H2O} \\\\ \n",
      "        CO2 &  \\citet{HUANG2014reliable} \\\\ \n",
      "        \n",
      "            \\end{tabular}\n",
      "            \\caption{Line lists used to make PICASO Opacities}\n",
      "            \\label{tab:opas}\n",
      "        \\end{table*}\n",
      "        \n"
     ]
    }
   ],
   "source": [
    "print(opa_latex)"
   ]
  },
  {
   "cell_type": "code",
   "execution_count": 9,
   "id": "138fa680",
   "metadata": {},
   "outputs": [
    {
     "data": {
      "text/plain": [
       "[{'adsnote': 'Provided by the SAO/NASA Astrophysics Data System',\n",
       "  'adsurl': 'https://ui.adsabs.harvard.edu/abs/2018MNRAS.480.2597P',\n",
       "  'primaryclass': 'astro-ph.EP',\n",
       "  'eprint': '1807.04529',\n",
       "  'archiveprefix': 'arXiv',\n",
       "  'doi': '10.1093/mnras/sty1877',\n",
       "  'pages': '2597-2608',\n",
       "  'number': '2',\n",
       "  'volume': '480',\n",
       "  'month': 'October',\n",
       "  'year': '2018',\n",
       "  'keywords': 'molecular data; opacity; planets and satellites: atmospheres; stars: atmospheres; stars: low-mass, stars: brown dwarfs. astronomical data bases: miscellaneous, Astrophysics - Earth and Planetary Astrophysics, Astrophysics - Solar and Stellar Astrophysics, Physics - Chemical Physics',\n",
       "  'journal': '\\\\mnras',\n",
       "  'title': '{ExoMol molecular line lists XXX: a complete high-accuracy line list for water}',\n",
       "  'author': '{Polyansky}, Oleg L. and {Kyuberis}, Aleksandra A. and {Zobov}, Nikolai F. and {Tennyson}, Jonathan and {Yurchenko}, Sergei N. and {Lodi}, Lorenzo',\n",
       "  'ENTRYTYPE': 'article',\n",
       "  'ID': 'Polyansky2018H2O'},\n",
       " {'abstract': 'Reliable infrared (IR) line lists are reported for the 13 isotopologues of carbon dioxide in HITRAN notation: 626, 636, 628, 627, 828, 727, 827, 638, 637, 737, 838, 738, and 646. Three IR lists are available for each istotopologue: a complete list at 296K, a reduced-size list at 296K, plus a reduced-size list at 1000K. They are denoted Ames-296K, Ames-296K.reduced and Ames-1000K.reduced. With J up to 150, and energy up to 18,000cm−1 above the zero point energy, these lists are expected to cover the temperature range up to 1500K. Line shape parameters including temperature dependence are calculated and reported for four temperature ranges: Mars, Earth, Venus, and Hotter (700–2000K). Comparisons are made against the available transition data in the HITRAN2012 models. Line position accuracy for most transitions up to 10,000–13,000cm−1 is better than 0.03–0.05cm−1. Computed transition intensities agree well with most HITRAN data but there exist suspicious exceptions for isotopologues. These line lists will expedite CO2 IR experimental data analysis and provide the scientific community with trustworthy alternatives for unknown IR bands. These line lists may be combined with existing experimental databases to facilitate the analysis of future laboratory experiments or astronomical observations.',\n",
       "  'keywords': 'Carbon dioxide (CO), Isotopologues, IR line list, Line shape, Refined potential energy surface, Partition sum',\n",
       "  'author': 'Xinchuan {Huang} and Robert R. Gamache and Richard S. Freedman and David W. Schwenke and Timothy J. Lee',\n",
       "  'url': 'http://www.sciencedirect.com/science/article/pii/S0022407314002246',\n",
       "  'doi': 'https://doi.org/10.1016/j.jqsrt.2014.05.015',\n",
       "  'issn': '0022-4073',\n",
       "  'year': '2014',\n",
       "  'pages': '134 - 144',\n",
       "  'volume': '147',\n",
       "  'journal': 'Journal of Quantitative Spectroscopy and Radiative Transfer',\n",
       "  'title': 'Reliable infrared line lists for 13 CO2 isotopologues up to E′=18,000cm−1 and 1500K, with line shape parameters',\n",
       "  'ENTRYTYPE': 'article',\n",
       "  'ID': 'HUANG2014reliable'}]"
      ]
     },
     "execution_count": 9,
     "metadata": {},
     "output_type": "execute_result"
    }
   ],
   "source": [
    "bibdb.entries"
   ]
  }
 ],
 "metadata": {
  "kernelspec": {
   "display_name": "Python 3 (ipykernel)",
   "language": "python",
   "name": "python3"
  },
  "language_info": {
   "codemirror_mode": {
    "name": "ipython",
    "version": 3
   },
   "file_extension": ".py",
   "mimetype": "text/x-python",
   "name": "python",
   "nbconvert_exporter": "python",
   "pygments_lexer": "ipython3",
   "version": "3.8.12"
  },
  "toc": {
   "base_numbering": 1,
   "nav_menu": {},
   "number_sections": true,
   "sideBar": true,
   "skip_h1_title": false,
   "title_cell": "Table of Contents",
   "title_sidebar": "Contents",
   "toc_cell": true,
   "toc_position": {},
   "toc_section_display": true,
   "toc_window_display": false
  }
 },
 "nbformat": 4,
 "nbformat_minor": 5
}
