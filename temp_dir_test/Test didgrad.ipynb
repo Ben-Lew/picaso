{
 "cells": [
  {
   "cell_type": "code",
   "execution_count": 1,
   "metadata": {},
   "outputs": [],
   "source": [
    "import numpy as np"
   ]
  },
  {
   "cell_type": "code",
   "execution_count": 136,
   "metadata": {},
   "outputs": [],
   "source": [
    "## RUN testing_didgrad_and_locate.f and compare outputs with this notebook\n",
    "\n",
    "from numpy import exp, zeros, where, sqrt, cumsum , pi, outer, sinh, cosh, min, dot, array,log10\n",
    "\n",
    "def did_grad_cp( t, p, t_table, p_table, grad, cp, calc_type):\n",
    "    \"\"\"\n",
    "    Parameters\n",
    "    ----------\n",
    "    t : float\n",
    "        Temperature  value\n",
    "    p : float \n",
    "        Pressure value\n",
    "    t_table : array \n",
    "        array of Pressure values with 53 entries\n",
    "    p_table : array \n",
    "        array of Pressure value with 26 entries\n",
    "    grad : array \n",
    "        array of gradients of dimension 53*26\n",
    "    cp : array \n",
    "        array of cp of dimension 53*26\n",
    "    calc_type : int \n",
    "        if 0 will return both gradx,cpx , if 1 will return only gradx, if 2 will return only cpx\n",
    "    \n",
    "    Returns\n",
    "    -------\n",
    "    float \n",
    "        if calc_type= 0 grad_x,cp_x\n",
    "        if calc_type= 1 grad_x \n",
    "        if calc_type= 2 cp_x\n",
    "    \n",
    "    \"\"\"\n",
    "    # Python version of DIDGRAD function in convec.f in EGP\n",
    "    # This has been benchmarked with the fortran version\n",
    "    \n",
    "       \n",
    "    temp_log= log10(t)\n",
    "    pres_log= log10(p)\n",
    "    \n",
    "    pos_t = locate(t_table, temp_log)\n",
    "    pos_p = locate(p_table, pres_log)\n",
    "\n",
    "    ipflag=0\n",
    "    if pos_p ==0: ## lowest pressure point\n",
    "        factkp= 0.0\n",
    "        ipflag=1\n",
    "    elif pos_p ==25 : ## highest pressure point\n",
    "        factkp= 1.0\n",
    "        pos_p=24  ## use highest point\n",
    "        ipflag=1\n",
    "\n",
    "    itflag=0\n",
    "    if pos_t ==0: ## lowest pressure point\n",
    "        factkt= 0.0\n",
    "        itflag=1\n",
    "    elif pos_t == 52 : ## highest temp point\n",
    "        factkt= 1.0\n",
    "        pos_t=51 ## use highest point\n",
    "        itflag=1\n",
    "    \n",
    "    if (pos_p > 0) and (pos_p < 26) and (ipflag == 0):\n",
    "        factkp= (-p_table[pos_p]+pres_log)/(p_table[pos_p+1]-p_table[pos_p])\n",
    "    \n",
    "    if (pos_t > 0) and (pos_t < 53) and (itflag == 0):\n",
    "        factkt= (-t_table[pos_t]+temp_log)/(t_table[pos_t+1]-t_table[pos_t])\n",
    "\n",
    "    \n",
    "    gp1 = grad[pos_t,pos_p]\n",
    "    gp2 = grad[pos_t+1,pos_p]\n",
    "    gp3 = grad[pos_t+1,pos_p+1]\n",
    "    gp4 = grad[pos_t,pos_p+1]\n",
    "\n",
    "    cp1 = cp[pos_t,pos_p]\n",
    "    cp2 = cp[pos_t+1,pos_p]\n",
    "    cp3 = cp[pos_t+1,pos_p+1]\n",
    "    cp4 = cp[pos_t,pos_p+1]\n",
    "\n",
    "\n",
    "    \n",
    "\n",
    "    grad_x = (1.0-factkt)*(1.0-factkp)*gp1 + factkt*(1.0-factkp)*gp2 + factkt*factkp*gp3 + (1.0-factkt)*factkp*gp4\n",
    "    cp_x= (1.0-factkt)*(1.0-factkp)*cp1 + factkt*(1.0-factkp)*cp2 + factkt*factkp*cp3 + (1.0-factkt)*factkp*cp4\n",
    "    cp_x= 10**cp_x\n",
    "    \n",
    "    if calc_type == 0:\n",
    "        return grad_x,cp_x\n",
    "    elif calc_type == 1:\n",
    "        return grad_x\n",
    "    elif calc_type == 2 :\n",
    "        return cp_x\n",
    "\n",
    "def locate(array,value):\n",
    "    \"\"\"\n",
    "    Parameters\n",
    "    ----------\n",
    "    array : array\n",
    "        Array to be searched.\n",
    "    value : float \n",
    "        Value to be searched for.\n",
    "    \n",
    "    \n",
    "    Returns\n",
    "    -------\n",
    "    int \n",
    "        location of nearest point by bisection method \n",
    "    \n",
    "    \"\"\"\n",
    "    \n",
    "    \n",
    "    n = len(array)\n",
    "    \n",
    "    \n",
    "    jl = 0\n",
    "    ju = n\n",
    "    while (ju-jl > 1):\n",
    "        jm=int(0.5*(ju+jl)) \n",
    "        if (value >= array[jm]):\n",
    "            jl=jm\n",
    "        else:\n",
    "            ju=jm\n",
    "    \n",
    "    if (value <= array[0]): # if value lower than first point\n",
    "        jl=0\n",
    "    elif (value >= array[-1]): # if value higher than first point\n",
    "        jl= n-1\n",
    "    \n",
    "    return jl"
   ]
  },
  {
   "cell_type": "code",
   "execution_count": 137,
   "metadata": {},
   "outputs": [],
   "source": [
    "## creating arbitrary but same inputs for both fortran and python version\n",
    "\n",
    "\n",
    "for i in range(53):\n",
    "    t_table[i]=i\n",
    "for i in range(26):\n",
    "    p_table[i]=i\n",
    "\n",
    "\n",
    "\n",
    "grad=np.zeros(shape=(53,26))\n",
    "for i in range(53):\n",
    "    for j in range(26):\n",
    "        grad[i,j]=i+j\n",
    "cp=grad/100.0"
   ]
  },
  {
   "cell_type": "code",
   "execution_count": 140,
   "metadata": {},
   "outputs": [],
   "source": [
    "gradx,cpx=did_grad_cp(200,303, t_table, p_table, grad, cp, calc_type=0)"
   ]
  },
  {
   "cell_type": "code",
   "execution_count": 141,
   "metadata": {},
   "outputs": [
    {
     "name": "stdout",
     "output_type": "stream",
     "text": [
      "4.782472624166286\n"
     ]
    }
   ],
   "source": [
    "print(gradx) ## compare this with fortran output of the same input\n",
    "## one can change both python and fortran inputs arbitrarily and get same results\n",
    "## I have tried out of range values and still gives same results\n",
    "## so consider this benchmarked with the fortran version of DIDGRAD and LOCATE"
   ]
  },
  {
   "cell_type": "code",
   "execution_count": 143,
   "metadata": {},
   "outputs": [
    {
     "name": "stdout",
     "output_type": "stream",
     "text": [
      "1.116412591991876\n"
     ]
    }
   ],
   "source": [
    "print(cpx)"
   ]
  },
  {
   "cell_type": "code",
   "execution_count": 146,
   "metadata": {},
   "outputs": [
    {
     "name": "stdout",
     "output_type": "stream",
     "text": [
      "1.116412591991876\n"
     ]
    }
   ],
   "source": [
    "cpx=did_grad_cp(200,303, t_table, p_table, grad, cp, calc_type=2)\n",
    "print(cpx)"
   ]
  },
  {
   "cell_type": "code",
   "execution_count": null,
   "metadata": {},
   "outputs": [],
   "source": []
  }
 ],
 "metadata": {
  "kernelspec": {
   "display_name": "Python 3",
   "language": "python",
   "name": "python3"
  },
  "language_info": {
   "codemirror_mode": {
    "name": "ipython",
    "version": 3
   },
   "file_extension": ".py",
   "mimetype": "text/x-python",
   "name": "python",
   "nbconvert_exporter": "python",
   "pygments_lexer": "ipython3",
   "version": "3.8.5"
  }
 },
 "nbformat": 4,
 "nbformat_minor": 4
}
