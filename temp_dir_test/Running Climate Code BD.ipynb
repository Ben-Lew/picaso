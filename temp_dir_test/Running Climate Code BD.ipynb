{
 "cells": [
  {
   "cell_type": "code",
   "execution_count": 1,
   "metadata": {},
   "outputs": [],
   "source": [
    "import warnings\n",
    "warnings.filterwarnings('ignore')\n",
    "import picaso.justdoit as jdi\n",
    "import astropy.units as u\n",
    "import numpy as np"
   ]
  },
  {
   "cell_type": "code",
   "execution_count": 2,
   "metadata": {},
   "outputs": [],
   "source": [
    "mh = '+0.5'\n",
    "CtoO = '1.0'"
   ]
  },
  {
   "cell_type": "code",
   "execution_count": 3,
   "metadata": {},
   "outputs": [],
   "source": [
    "filename_db=\"/Users/sagnickmukherjee/Documents/software/picaso-dev/reference/opacities/ck_cx_cont_opacities.db\"\n",
    "ck_db='/Users/sagnickmukherjee/Documents/software/picaso-dev/reference/opacities/ck_db/m'+mh+'_co'+CtoO+'.data.196'\n",
    "opacity_ck = jdi.opannection(ck=True, ck_db=ck_db,filename_db=filename_db)"
   ]
  },
  {
   "cell_type": "code",
   "execution_count": 4,
   "metadata": {},
   "outputs": [],
   "source": [
    "semi_major = \"NA\" # AU\n",
    "T_eff = 1100\n",
    "T_star = \"NA\"\n",
    "grav = 316\n",
    "\n",
    "cl_run = jdi.inputs(calculation=\"brown\", climate = True)\n",
    "#cl_run.star(opacity_ck, 5000,0,4.0) #opacity db, pysynphot database, temp, metallicity, logg\n",
    "cl_run.gravity(gravity=grav, gravity_unit=u.Unit('m/(s**2)'))\n",
    "cl_run.T_eff(Teff=T_eff)\n",
    "cl_run.setup_climate_data()\n",
    "\n"
   ]
  },
  {
   "cell_type": "code",
   "execution_count": 5,
   "metadata": {},
   "outputs": [],
   "source": [
    "nlevel = 91\n",
    "pressure=np.logspace(np.log10(1.778000000000000392e-04),np.log10(65.2893599 ),nlevel)\n",
    "temp_guess = np.zeros_like(pressure) \n",
    "\n",
    "for i in range(len(temp_guess)):\n",
    "    temp_guess[i] = 110+i*10\n",
    "\n",
    "nofczns = 1\n",
    "nstr = np.array([0,80,89,0,0,0])\n",
    "rfacv = 0.0\n",
    "rfaci =1.0\n",
    "cloudy = False\n",
    "\n",
    "\n",
    "cl_run.inputs_climate(temp_guess= temp_guess, pressure= pressure, nstr = nstr, nofczns = nofczns , rfacv = rfacv, rfaci = rfaci, cloudy = cloudy, mh = mh, CtoO = CtoO)"
   ]
  },
  {
   "cell_type": "code",
   "execution_count": null,
   "metadata": {},
   "outputs": [],
   "source": []
  },
  {
   "cell_type": "code",
   "execution_count": 6,
   "metadata": {},
   "outputs": [
    {
     "name": "stdout",
     "output_type": "stream",
     "text": [
      "Iteration number  0 , min , max temp  130.8926723258196 1468.8163015226805 , flux balance  -0.9141874707092762\n",
      "Iteration number  1 , min , max temp  227.09681704653318 2493.914281844315 , flux balance  -0.6750691317930557\n",
      "Iteration number  2 , min , max temp  260.51511489204324 2523.574465213247 , flux balance  -0.5988873135317787\n",
      "Iteration number  3 , min , max temp  316.21516026763493 2622.1264597958734 , flux balance  -0.26773158443615125\n",
      "Iteration number  4 , min , max temp  343.2826910653075 2722.706401744578 , flux balance  0.042280993270242956\n",
      "Iteration number  5 , min , max temp  343.3574491735277 2713.0975631561373 , flux balance  0.0010304389745936179\n",
      "Iteration number  6 , min , max temp  343.34751216606895 2712.8267072811304 , flux balance  9.030279446909482e-06\n",
      "Converged Solution in iterations  6\n",
      "Big iteration is  343.34751216606895 0\n",
      "Iteration number  0 , min , max temp  368.5954498340734 2822.7772696539514 , flux balance  -0.3622285677595139\n",
      "Iteration number  1 , min , max temp  463.65491573987373 3215.765149751482 , flux balance  0.09301029275581854\n",
      "Iteration number  2 , min , max temp  441.51535805013395 3137.994911370454 , flux balance  0.0034899777116124673\n",
      "Iteration number  3 , min , max temp  439.6240698367773 3133.430073076582 , flux balance  8.308432027267154e-06\n",
      "Converged Solution in iterations  3\n",
      "Big iteration is  439.6240698367773 1\n",
      "Iteration number  0 , min , max temp  453.83297582905794 3320.826736947588 , flux balance  -0.03181427264384607\n",
      "Iteration number  1 , min , max temp  484.78768214189654 3653.1798587745807 , flux balance  0.008354516110549944\n",
      "Iteration number  2 , min , max temp  481.95121972146046 3604.6390857855804 , flux balance  6.100730937612207e-05\n",
      "Iteration number  3 , min , max temp  481.9224471454224 3603.439635075761 , flux balance  2.9563255408556227e-08\n",
      "Converged Solution in iterations  3\n",
      "Big iteration is  481.9224471454224 2\n",
      "Iteration number  0 , min , max temp  487.804995423357 3788.3898185825274 , flux balance  -0.004735982852611412\n",
      "Iteration number  1 , min , max temp  492.23712364819494 3903.854934933956 , flux balance  0.00035142572674033424\n",
      "Iteration number  2 , min , max temp  492.1689642074006 3898.3196370531296 , flux balance  4.0016349992506236e-07\n",
      "Converged Solution in iterations  2\n",
      "Big iteration is  492.1689642074006 3\n",
      "Iteration number  0 , min , max temp  492.62199504653955 4121.081582465035 , flux balance  -0.00031908955327592615\n",
      "Iteration number  1 , min , max temp  492.62565227652254 4110.977579127103 , flux balance  1.0118722275805914e-07\n",
      "Converged Solution in iterations  1\n",
      "Big iteration is  492.62565227652254 4\n",
      "Iteration number  0 , min , max temp  494.1403771900066 4299.2438587603 , flux balance  0.00015357987756236773\n",
      "Iteration number  1 , min , max temp  494.12979900886825 4287.879299853653 , flux balance  1.2920618467086034e-07\n",
      "Converged Solution in iterations  1\n",
      "Big iteration is  494.12979900886825 5\n",
      "Iteration number  0 , min , max temp  494.3349941596848 4442.063147950229 , flux balance  1.4486159077543825e-05\n",
      "Iteration number  1 , min , max temp  494.3343982114724 4435.204540302981 , flux balance  6.110855322173793e-09\n",
      "Converged Solution in iterations  1\n",
      "Big iteration is  494.3343982114724 6\n",
      "Iteration number  0 , min , max temp  494.3431561718873 4563.305621017686 , flux balance  2.8581061512888892e-06\n",
      "Iteration number  1 , min , max temp  494.34303812452373 4558.848618202855 , flux balance  1.0702124811799434e-09\n",
      "Converged Solution in iterations  1\n",
      "Iteration number  0 , min , max temp  494.4328927767681 4667.643551735486 , flux balance  1.0291677607743655e-06\n",
      "Iteration number  1 , min , max temp  494.4328311259903 4664.509505405102 , flux balance  3.6489384438564224e-10\n",
      "Converged Solution in iterations  1\n",
      "Iteration number  0 , min , max temp  494.43228492582443 4752.048084621985 , flux balance  3.9856305720312804e-07\n",
      "Iteration number  1 , min , max temp  494.43226243515664 4750.089970263435 , flux balance  1.4908210602653314e-10\n",
      "Converged Solution in iterations  1\n",
      "Not converged\n",
      "Iteration number  0 , min , max temp  494.43941051528793 4818.323659037087 , flux balance  2.3424792515724927e-07\n",
      "Iteration number  1 , min , max temp  494.439397338656 4817.172487867945 , flux balance  8.211134887699072e-11\n",
      "Converged Solution in iterations  1\n",
      "Big iteration is  494.439397338656 0\n",
      "Iteration number  0 , min , max temp  494.44743413716736 4880.5767263042035 , flux balance  1.5055237725569233e-07\n",
      "Iteration number  1 , min , max temp  494.4474259311686 4879.591615947576 , flux balance  4.842766623644182e-11\n",
      "Converged Solution in iterations  1\n",
      "Big iteration is  494.4474259311686 1\n",
      "Iteration number  0 , min , max temp  494.44943453530027 4937.069485592215 , flux balance  1.0244562840102014e-07\n",
      "Iteration number  1 , min , max temp  494.4494285822027 4936.2663832939115 , flux balance  3.267842735373199e-11\n",
      "Converged Solution in iterations  1\n",
      "Big iteration is  494.4494285822027 2\n",
      "Iteration number  0 , min , max temp  494.45267990334474 4989.5928155836855 , flux balance  8.295759841602132e-08\n",
      "Iteration number  1 , min , max temp  494.4526752175105 4988.906579875647 , flux balance  2.5586161888498645e-11\n",
      "Converged Solution in iterations  1\n",
      "Big iteration is  494.4526752175105 3\n",
      "Iteration number  0 , min , max temp  494.45520815637036 5037.209187103413 , flux balance  6.62441238330044e-08\n",
      "Iteration number  1 , min , max temp  494.45520433098676 5036.649939889736 , flux balance  2.0021618737165115e-11\n",
      "Converged Solution in iterations  1\n",
      "Profile converged\n",
      "Iteration number  0 , min , max temp  494.4573235528828 5079.959718139149 , flux balance  5.296941375174509e-08\n",
      "Iteration number  1 , min , max temp  494.45732057877296 5079.512964675471 , flux balance  1.574331399889755e-11\n",
      "Converged Solution in iterations  1\n",
      "Iteration number  0 , min , max temp  494.4593881753464 5119.102901147164 , flux balance  4.273659539587771e-08\n",
      "Iteration number  1 , min , max temp  494.4593857557347 5118.731804465759 , flux balance  1.2528436133967464e-11\n",
      "Converged Solution in iterations  1\n",
      "Iteration number  0 , min , max temp  494.46123228489864 5155.442575358969 , flux balance  3.4785767764884105e-08\n",
      "Iteration number  1 , min , max temp  494.46123056558537 5155.125249587338 , flux balance  1.0119522009441218e-11\n",
      "Converged Solution in iterations  1\n",
      "Move up two levels\n",
      "Iteration number  0 , min , max temp  494.4470726135146 3561.927787892877 , flux balance  1.495329487490868e-05\n",
      "Iteration number  1 , min , max temp  494.4461527901866 3561.1532449407555 , flux balance  1.041941682619327e-08\n",
      "Converged Solution in iterations  1\n",
      "Big iteration is  494.4461527901866 0\n",
      "Iteration number  0 , min , max temp  494.4280721600788 3553.5369229795815 , flux balance  7.611742050845551e-07\n",
      "Converged Solution in iterations  0\n",
      "Profile converged\n",
      "Iteration number  0 , min , max temp  494.41958100054455 3551.7730004535642 , flux balance  6.940592389561508e-08\n",
      "Converged Solution in iterations  0\n",
      "Iteration number  0 , min , max temp  494.41621986222856 3551.322517032806 , flux balance  1.3077993884343323e-08\n",
      "Converged Solution in iterations  0\n",
      "Iteration number  0 , min , max temp  494.4147827832538 3551.1928097761975 , flux balance  3.67222593036769e-09\n",
      "Converged Solution in iterations  0\n",
      "Move up two levels\n",
      "Iteration number  0 , min , max temp  494.88950843737257 3162.9511757900727 , flux balance  6.56302778735398e-05\n",
      "Iteration number  1 , min , max temp  494.8883640682253 3162.7442383141783 , flux balance  6.463138482265638e-08\n",
      "Converged Solution in iterations  1\n",
      "Big iteration is  494.8883640682253 0\n",
      "Iteration number  0 , min , max temp  495.2398278240022 3168.837362627827 , flux balance  8.501080123729568e-06\n",
      "Converged Solution in iterations  0\n",
      "Profile converged\n",
      "Iteration number  0 , min , max temp  495.3089718954366 3171.2609309737645 , flux balance  9.142585850282641e-07\n",
      "Converged Solution in iterations  0\n",
      "Iteration number  0 , min , max temp  495.3379459847507 3172.1961717888585 , flux balance  1.0202839700570775e-08\n",
      "Converged Solution in iterations  0\n",
      "Iteration number  0 , min , max temp  495.3514486977714 3172.5397695319957 , flux balance  -3.8752252331620965e-08\n",
      "Converged Solution in iterations  0\n",
      "Move up two levels\n",
      "Iteration number  0 , min , max temp  496.4474409565457 3073.3706152301597 , flux balance  0.00024198298568113582\n",
      "Iteration number  1 , min , max temp  496.4449396900214 3073.0527507741667 , flux balance  1.7046991569547614e-06\n",
      "Converged Solution in iterations  1\n"
     ]
    },
    {
     "name": "stdout",
     "output_type": "stream",
     "text": [
      "Big iteration is  496.4449396900214 0\n",
      "Iteration number  0 , min , max temp  497.4213898444235 3079.447478244691 , flux balance  4.6606236111848345e-06\n",
      "Converged Solution in iterations  0\n",
      "Profile converged\n",
      "Iteration number  0 , min , max temp  497.72586277357163 3081.397103743881 , flux balance  -5.248561195445487e-06\n",
      "Converged Solution in iterations  0\n",
      "Iteration number  0 , min , max temp  497.845546381719 3081.9931743740754 , flux balance  -2.242772791217405e-06\n",
      "Converged Solution in iterations  0\n",
      "Iteration number  0 , min , max temp  497.90189058045485 3082.166397855923 , flux balance  -6.914628053111788e-07\n",
      "Converged Solution in iterations  0\n",
      "Iteration number  0 , min , max temp  498.1446272587103 3067.3703639191044 , flux balance  -9.734134699882743e-06\n",
      "Converged Solution in iterations  0\n",
      "Big iteration is  498.1446272587103 0\n",
      "Iteration number  0 , min , max temp  498.47691141431255 3069.877109225458 , flux balance  -1.7903728121326576e-05\n",
      "Converged Solution in iterations  0\n",
      "Profile converged\n",
      "Iteration number  0 , min , max temp  498.6457970367133 3070.61333974975 , flux balance  -6.534508379106586e-06\n",
      "Converged Solution in iterations  0\n",
      "Iteration number  0 , min , max temp  498.7079794046548 3070.834279492027 , flux balance  -2.0836648102790903e-06\n",
      "Converged Solution in iterations  0\n",
      "Iteration number  0 , min , max temp  498.73487301151573 3070.897776018687 , flux balance  -6.055338216462155e-07\n",
      "Converged Solution in iterations  0\n",
      "Iteration number  0 , min , max temp  498.80047775243463 3067.0767495478335 , flux balance  -3.463977162507547e-05\n",
      "Converged Solution in iterations  0\n",
      "Big iteration is  498.80047775243463 0\n",
      "Iteration number  0 , min , max temp  498.91648365444973 3067.8201489169073 , flux balance  -1.0804910094398884e-05\n",
      "Converged Solution in iterations  0\n",
      "Profile converged\n",
      "Iteration number  0 , min , max temp  498.9881689574576 3068.024421160112 , flux balance  -3.1030229263922806e-06\n",
      "Converged Solution in iterations  0\n",
      "Iteration number  0 , min , max temp  499.0131012946821 3068.084317997151 , flux balance  -9.260788079503821e-07\n",
      "Converged Solution in iterations  0\n",
      "Iteration number  0 , min , max temp  499.02349704495526 3068.100387728341 , flux balance  -2.485193735946163e-07\n",
      "Converged Solution in iterations  0\n",
      "final [ 0 72 89  0  0  0]\n",
      " We are already at a root, tolf , test =  5e-05 ,  1.986056012216989e-05\n",
      "Big iteration is  499.02349704495526 0\n",
      " We are already at a root, tolf , test =  5e-05 ,  1.986056012216989e-05\n",
      "Profile converged\n",
      " We are already at a root, tolf , test =  5e-05 ,  1.986056012216989e-05\n",
      " We are already at a root, tolf , test =  5e-05 ,  1.986056012216989e-05\n",
      " We are already at a root, tolf , test =  5e-05 ,  1.986056012216989e-05\n",
      " We are already at a root, tolf , test =  5e-05 ,  1.986056012216989e-05\n",
      " We are already at a root, tolf , test =  5e-05 ,  1.986056012216989e-05\n",
      " We are already at a root, tolf , test =  5e-05 ,  1.986056012216989e-05\n",
      "YAY ! ENDING WITH CONVERGENCE\n"
     ]
    }
   ],
   "source": [
    "pressure , temp, dtdp, nstr_new, flux_plus_final = cl_run.run_climate_model(opacity_ck)"
   ]
  },
  {
   "cell_type": "code",
   "execution_count": null,
   "metadata": {},
   "outputs": [],
   "source": []
  },
  {
   "cell_type": "code",
   "execution_count": 7,
   "metadata": {},
   "outputs": [
    {
     "data": {
      "image/png": "[encoded data removed]",
      "text/plain": [
       "<Figure size 576x504 with 1 Axes>"
      ]
     },
     "metadata": {
      "needs_background": "light"
     },
     "output_type": "display_data"
    }
   ],
   "source": [
    "import matplotlib.pyplot as plt\n",
    "Teff = cl_run.inputs['planet']['T_eff']\n",
    "grav = int(0.01*cl_run.inputs['planet']['gravity'])\n",
    "\n",
    "P_son,TEMP_son=np.loadtxt(\"/Users/sagnickmukherjee/Documents/software/picaso-dev/Evolution/structures_m\"+mh+\"/t\"+str(Teff)+\"g\"+str(grav)+\"nc_m\"+mh+\".dat\",usecols=[1,2],unpack=True,skiprows= 1)\n",
    "plt.figure(figsize=(8,7))\n",
    "\n",
    "plt.ylim(700,0.0001778)\n",
    "plt.semilogy(temp,pressure)#,label= \"T$_{eff}$ = \"+str(Teff)+\" K, g = \"+str(grav)+\" m/s$^2$\",color= \"k\")\n",
    "\n",
    "plt.semilogy(temp[:nstr_new[1]+1],pressure[:nstr_new[1]+1],label= \"T$_{eff}$ = \"+str(Teff)+\" K, g = \"+str(grav)+\" m/s$^2$\",color= \"k\")\n",
    "plt.semilogy(temp[nstr_new[1]:nstr_new[2]+2],pressure[nstr_new[1]:nstr_new[2]+2],color= \"k\",linewidth=5)\n",
    "#plt.semilogy(temp[nstr_new[3]:nstr_new[4]+1],pressure[nstr_new[3]:nstr_new[4]+1],color= \"k\")\n",
    "#plt.semilogy(temp[nstr_new[4]:],pressure[nstr_new[4]:],color= \"k\",linewidth=5)\n",
    "\n",
    "plt.semilogy(TEMP_son,P_son,label= \"Sonora 2021\",color= \"b\",linewidth=1)\n",
    "plt.ylabel(\"Pressure [Bars]\",fontsize= 20)\n",
    "plt.xlabel(\"Temperature [K]\",fontsize = 20)\n",
    "plt.legend(fontsize =20)\n",
    "plt.tick_params(axis='both',which='both', width=2,direction='in',labelsize=20)\n",
    "#plt.savefig(\"/Users/sagnickmukherjee/Documents/software/picaso-dev/RESULTS_benchmarking/\"+str(Teff)+\"_\"+str(grav)+\"m\"+mh+\".pdf\", bbox_inches=\"tight\")\n",
    "plt.savefig(\"/Users/sagnickmukherjee/Documents/software/picaso-dev/RESULTS_benchmarking/tp/\"+str(Teff)+\"_\"+str(grav)+\"m\"+mh+\"_sm_\"+semi_major+\".pdf\", bbox_inches=\"tight\")"
   ]
  },
  {
   "cell_type": "code",
   "execution_count": 8,
   "metadata": {},
   "outputs": [
    {
     "data": {
      "text/plain": [
       "'\\nwvno = opacity_ck.wno\\nbwni, wvno_dummy= np.loadtxt(\"/Users/sagnickmukherjee/Documents/software/picaso-dev/INPUTS/INTERVALS.IR\",usecols=[0,1],unpack=True)\\n\\n\\ndwni=np.zeros(shape=(196))\\nfor i in range(196):\\n    dwni[i]=bwni[i+1]-bwni[i]\\n    \\nwave, son_flux = np.loadtxt(\"/Users/sagnickmukherjee/Documents/software/picaso-dev/Evolution/spectra_m\"+mh+\"/sp_t\"+str(Teff)+\"g\"+str(grav)+\"nc_m\"+mh,usecols=[0,1],unpack=True,skiprows = 2)\\nwave,son_flux = jdi.mean_regrid(1e4/wave, son_flux, R=200) #wavenumber, erg/cm2/s/Hz\\nflux_py = []\\nfor i,flux in zip(range(196),flux_plus_final[0,0,0,:]):\\n    flux_py.append(flux*(wvno[i]**2)/(dwni[i]))\\n\\nflux_py_a = np.array(flux_py)\\n\\nx,y = wvno, flux_py_a #units of erg/cm2/s/cm\\n\\nxmicron = 1e4/x\\n\\nflamy = y*1e-8 #per anstrom instead of per cm\\nsp = jdi.psyn.ArraySpectrum(xmicron, flamy,\\n                            waveunits=\\'um\\',\\n                            fluxunits=\\'FLAM\\')\\nsp.convert(\"um\")\\nsp.convert(\\'Fnu\\') #erg/cm2/s/Hz\\n\\nx = sp.wave #micron\\ny= sp.flux #erg/cm2/s/Hz\\n\\nplt.figure(figsize = (8,6))\\nplt.xlim(0.2,5)\\nplt.semilogy(x,y,label= \"EGP py\")\\nplt.ylabel(\"Flux [erg/cm$^2$/s/cm]\",fontsize = 20)\\nplt.xlabel(\"Wavelength [microns]\",fontsize = 20)\\nplt.semilogy(1e4/wave, son_flux,label = \"SONORA 2021 Eddington Flux\",linestyle=\"--\")\\nplt.legend(fontsize =20)\\n#plt.savefig(\"/Users/sagnickmukherjee/Documents/software/picaso-dev/RESULTS_benchmarking/spectra_\"+str(Teff)+\"_grav_\"+str(grav)+\"m\"+mh+\".pdf\",bbox_inches= \\'tight\\')\\nplt.savefig(\"/Users/sagnickmukherjee/Documents/software/picaso-dev/RESULTS_benchmarking/spectra/spectra_\"+str(Teff)+\"_grav_\"+str(grav)+\"_sm_\"+semi_major+\".pdf\",bbox_inches= \\'tight\\')\\n'"
      ]
     },
     "execution_count": 8,
     "metadata": {},
     "output_type": "execute_result"
    }
   ],
   "source": [
    "'''\n",
    "wvno = opacity_ck.wno\n",
    "bwni, wvno_dummy= np.loadtxt(\"/Users/sagnickmukherjee/Documents/software/picaso-dev/INPUTS/INTERVALS.IR\",usecols=[0,1],unpack=True)\n",
    "\n",
    "\n",
    "dwni=np.zeros(shape=(196))\n",
    "for i in range(196):\n",
    "    dwni[i]=bwni[i+1]-bwni[i]\n",
    "    \n",
    "wave, son_flux = np.loadtxt(\"/Users/sagnickmukherjee/Documents/software/picaso-dev/Evolution/spectra_m\"+mh+\"/sp_t\"+str(Teff)+\"g\"+str(grav)+\"nc_m\"+mh,usecols=[0,1],unpack=True,skiprows = 2)\n",
    "wave,son_flux = jdi.mean_regrid(1e4/wave, son_flux, R=200) #wavenumber, erg/cm2/s/Hz\n",
    "flux_py = []\n",
    "for i,flux in zip(range(196),flux_plus_final[0,0,0,:]):\n",
    "    flux_py.append(flux*(wvno[i]**2)/(dwni[i]))\n",
    "\n",
    "flux_py_a = np.array(flux_py)\n",
    "\n",
    "x,y = wvno, flux_py_a #units of erg/cm2/s/cm\n",
    "\n",
    "xmicron = 1e4/x\n",
    "\n",
    "flamy = y*1e-8 #per anstrom instead of per cm\n",
    "sp = jdi.psyn.ArraySpectrum(xmicron, flamy,\n",
    "                            waveunits='um',\n",
    "                            fluxunits='FLAM')\n",
    "sp.convert(\"um\")\n",
    "sp.convert('Fnu') #erg/cm2/s/Hz\n",
    "\n",
    "x = sp.wave #micron\n",
    "y= sp.flux #erg/cm2/s/Hz\n",
    "\n",
    "plt.figure(figsize = (8,6))\n",
    "plt.xlim(0.2,5)\n",
    "plt.semilogy(x,y,label= \"EGP py\")\n",
    "plt.ylabel(\"Flux [erg/cm$^2$/s/cm]\",fontsize = 20)\n",
    "plt.xlabel(\"Wavelength [microns]\",fontsize = 20)\n",
    "plt.semilogy(1e4/wave, son_flux,label = \"SONORA 2021 Eddington Flux\",linestyle=\"--\")\n",
    "plt.legend(fontsize =20)\n",
    "#plt.savefig(\"/Users/sagnickmukherjee/Documents/software/picaso-dev/RESULTS_benchmarking/spectra_\"+str(Teff)+\"_grav_\"+str(grav)+\"m\"+mh+\".pdf\",bbox_inches= 'tight')\n",
    "plt.savefig(\"/Users/sagnickmukherjee/Documents/software/picaso-dev/RESULTS_benchmarking/spectra/spectra_\"+str(Teff)+\"_grav_\"+str(grav)+\"_sm_\"+semi_major+\".pdf\",bbox_inches= 'tight')\n",
    "'''"
   ]
  },
  {
   "cell_type": "code",
   "execution_count": 9,
   "metadata": {},
   "outputs": [],
   "source": [
    "filename= \"/Users/sagnickmukherjee/Documents/software/picaso-dev/RESULTS_benchmarking/tp_file/tp_\"+str(Teff)+\"_grav_\"+str(grav)+\"_mh_\"+mh+\"_sm_\"+semi_major+\".dat\"\n",
    "np.savetxt(filename, np.transpose([pressure,temp]), header= str(\"nstr \"+str(nstr_new)+\" T_eff \"+str(T_eff)+\" grav \"+ str(grav)+\" T_star \"+T_star+\" semi-major[AU] \"+semi_major))                                                                 "
   ]
  },
  {
   "cell_type": "code",
   "execution_count": null,
   "metadata": {},
   "outputs": [],
   "source": []
  },
  {
   "cell_type": "code",
   "execution_count": 10,
   "metadata": {},
   "outputs": [
    {
     "name": "stdout",
     "output_type": "stream",
     "text": [
      "9\n",
      "8\n",
      "7\n",
      "6\n",
      "5\n",
      "4\n",
      "3\n",
      "2\n",
      "1\n",
      "0\n"
     ]
    }
   ],
   "source": [
    "for iz in range(10-1,-1,-1):\n",
    "    print(iz)"
   ]
  },
  {
   "cell_type": "code",
   "execution_count": null,
   "metadata": {},
   "outputs": [],
   "source": []
  }
 ],
 "metadata": {
  "kernelspec": {
   "display_name": "Python 3",
   "language": "python",
   "name": "python3"
  },
  "language_info": {
   "codemirror_mode": {
    "name": "ipython",
    "version": 3
   },
   "file_extension": ".py",
   "mimetype": "text/x-python",
   "name": "python",
   "nbconvert_exporter": "python",
   "pygments_lexer": "ipython3",
   "version": "3.8.5"
  }
 },
 "nbformat": 4,
 "nbformat_minor": 4
}
