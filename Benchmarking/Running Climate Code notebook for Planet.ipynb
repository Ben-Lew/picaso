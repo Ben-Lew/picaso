{
 "cells": [
  {
   "cell_type": "code",
   "execution_count": 1,
   "metadata": {},
   "outputs": [],
   "source": [
    "import warnings\n",
    "warnings.filterwarnings('ignore')\n",
    "import picaso.justdoit as jdi\n",
    "import astropy.units as u\n",
    "import numpy as np"
   ]
  },
  {
   "cell_type": "code",
   "execution_count": 2,
   "metadata": {},
   "outputs": [],
   "source": [
    "mh = '+0.0'\n",
    "CtoO = '2.5'"
   ]
  },
  {
   "cell_type": "code",
   "execution_count": 3,
   "metadata": {},
   "outputs": [],
   "source": [
    "filename_db=\"/Users/sagnickmukherjee/Documents/software/picaso-dev/reference/opacities/ck_cx_cont_opacities.db\"\n",
    "ck_db='/Users/sagnickmukherjee/Documents/software/picaso-dev/reference/opacities/ck_db/m'+mh+'_co'+CtoO+'.data.196'\n",
    "opacity_ck = jdi.opannection(ck=True, ck_db=ck_db,filename_db=filename_db)"
   ]
  },
  {
   "cell_type": "code",
   "execution_count": 4,
   "metadata": {},
   "outputs": [],
   "source": [
    "w_star,f_star = np.loadtxt(\"temp_dir_test/sol_spec00f.dat\",usecols=[0,1],unpack=True) # W/m^2/micron at 1AU\n",
    "#convert to erg/s/cm^2/A\n",
    "f_star=f_star*1e3/1e4 # this is now erg/s/cm^2/A # this is flux at 1 AU\n",
    "r_sun =0.00465047 # AU\n",
    "# so surface brightness is\n",
    "\n",
    "f_star = f_star * (1.0/r_sun)**2 \n",
    "\n",
    "np.savetxt(\"temp_dir_test/sol_flam.txt\",np.transpose([w_star,f_star]))\n"
   ]
  },
  {
   "cell_type": "code",
   "execution_count": null,
   "metadata": {},
   "outputs": [],
   "source": [
    "\n",
    "\n"
   ]
  },
  {
   "cell_type": "code",
   "execution_count": 5,
   "metadata": {},
   "outputs": [],
   "source": [
    "semi_major = 0.05 # AU\n",
    "T_eff = 300\n",
    "T_star = 6000\n",
    "grav = 25\n",
    "\n",
    "star_file = \"temp_dir_test/sol_flam.txt\"\n",
    "\n",
    "cl_run = jdi.inputs(calculation=\"planet\", climate = True)\n",
    "\n",
    "\n",
    "cl_run.star(opacity_ck, temp =T_star,metal =0.25, logg =4.0, radius = 1, radius_unit=u.R_sun,semi_major= semi_major , semi_major_unit = u.AU)#opacity db, pysynphot database, temp, metallicity, logg\n",
    "#cl_run.star(opacity_ck, radius = 1, radius_unit=u.R_sun,semi_major= semi_major , semi_major_unit = u.AU,filename= star_file, w_unit='um', f_unit='FLAM')\n",
    "## output stellar radiation from this is ready to be used in RT in our climate code just after distance and radius adjustment\n",
    "\n",
    "cl_run.gravity(gravity=grav, gravity_unit=u.Unit('m/(s**2)'))\n",
    "cl_run.T_eff(Teff=T_eff)\n",
    "cl_run.setup_climate_data()\n",
    "\n"
   ]
  },
  {
   "cell_type": "code",
   "execution_count": 6,
   "metadata": {},
   "outputs": [],
   "source": [
    "nlevel = 91\n",
    "pressure=np.logspace(np.log10(0.000001000 ),np.log10(1000.0 ),nlevel)\n",
    "temp_guess = np.zeros_like(pressure) + 300.0\n",
    "\n",
    "nofczns = 1\n",
    "nstr = np.array([0,80,89,0,0,0])\n",
    "rfacv = 0.5\n",
    "rfaci =1.0\n",
    "cloudy = False\n",
    "\n",
    "\n",
    "cl_run.inputs_climate(temp_guess= temp_guess, pressure= pressure, nstr = nstr, nofczns = nofczns , rfacv = rfacv, rfaci = rfaci, cloudy = cloudy, mh = mh, CtoO = None)"
   ]
  },
  {
   "cell_type": "code",
   "execution_count": null,
   "metadata": {},
   "outputs": [],
   "source": []
  },
  {
   "cell_type": "code",
   "execution_count": 7,
   "metadata": {
    "scrolled": true
   },
   "outputs": [
    {
     "name": "stdout",
     "output_type": "stream",
     "text": [
      "Iteration number  0 , min , max temp  300.03515067577257 687.3158604745947 , flux balance  -192.86196300128563\n",
      "Iteration number  1 , min , max temp  302.0188507889139 2301.662317918749 , flux balance  -192.6845027527929\n",
      "Iteration number  2 , min , max temp  348.8150466193314 2407.3967770400022 , flux balance  -185.2443514912681\n",
      "Iteration number  3 , min , max temp  608.4232818048274 3083.1161268597602 , flux balance  -129.4550504989057\n",
      "Iteration number  4 , min , max temp  662.3719452931387 3164.0418182216135 , flux balance  -98.4065159620844\n",
      "Iteration number  5 , min , max temp  820.8504129825933 3402.5550688376834 , flux balance  59.096136995764816\n",
      "Iteration number  6 , min , max temp  784.7234265323374 3354.1452739172832 , flux balance  6.122467580142192\n",
      "Iteration number  7 , min , max temp  782.0603497321941 3349.9028288683908 , flux balance  0.11898209805569583\n",
      "Iteration number  8 , min , max temp  782.0463302159554 3349.792538970927 , flux balance  0.00016765607095378708\n",
      "Converged Solution in iterations  8\n",
      "Big iteration is  782.0463302159554 0\n",
      "Iteration number  0 , min , max temp  772.4707261665426 3393.819564400057 , flux balance  -144.90908619607794\n",
      "Iteration number  1 , min , max temp  719.4966553795356 3603.94250109265 , flux balance  77.21755447211656\n",
      "Iteration number  2 , min , max temp  714.2470557406624 3579.3965963194237 , flux balance  6.67019926828394\n",
      "Iteration number  3 , min , max temp  714.0889327475876 3579.273947112543 , flux balance  0.07559945484619875\n",
      "Iteration number  4 , min , max temp  714.0877290245854 3579.2773916206456 , flux balance  2.5103697339909253e-05\n",
      "Converged Solution in iterations  4\n",
      "Big iteration is  714.0877290245854 1\n",
      "Iteration number  0 , min , max temp  713.7158369753929 3576.2921186299723 , flux balance  12.232457605030866\n",
      "Iteration number  1 , min , max temp  713.542375387193 3575.5363648480175 , flux balance  0.4440791405407013\n",
      "Iteration number  2 , min , max temp  713.5364974454627 3575.5505101923554 , flux balance  0.0008088702209581199\n",
      "Converged Solution in iterations  2\n",
      "Big iteration is  713.5364974454627 2\n",
      "Iteration number  0 , min , max temp  712.0082175960325 3569.5035946156227 , flux balance  0.2702896343800902\n",
      "Iteration number  1 , min , max temp  711.9986881010943 3569.4203739057943 , flux balance  0.0009468537191193105\n",
      "Iteration number  2 , min , max temp  711.9986800105097 3569.4197194316034 , flux balance  3.3051613306364613e-07\n",
      "Converged Solution in iterations  2\n",
      "Big iteration is  711.9986800105097 3\n",
      "Iteration number  0 , min , max temp  710.3961674835009 3567.281189997333 , flux balance  0.015249676141563721\n",
      "Iteration number  1 , min , max temp  710.3905064744969 3567.2720279881187 , flux balance  4.3822000841915515e-06\n",
      "Converged Solution in iterations  1\n",
      "Profile converged\n",
      "Iteration number  0 , min , max temp  708.8523582953513 3563.0098962571064 , flux balance  0.0007801226467180902\n",
      "Converged Solution in iterations  0\n",
      "Iteration number  0 , min , max temp  707.5134274826769 3561.2215639163937 , flux balance  5.257548035872336e-05\n",
      "Converged Solution in iterations  0\n",
      "Iteration number  0 , min , max temp  706.4320267240909 3560.8208821541953 , flux balance  1.410508048485214e-06\n",
      "Converged Solution in iterations  0\n",
      "Iteration number  0 , min , max temp  705.6320542454044 3560.717780926128 , flux balance  -5.166184767345163e-07\n",
      "Converged Solution in iterations  0\n",
      "Big iteration is  705.6320542454044 0\n",
      "Iteration number  0 , min , max temp  705.0692290242905 3560.6836264321664 , flux balance  2.69029968208929e-07\n",
      "Converged Solution in iterations  0\n",
      "Profile converged\n",
      "Iteration number  0 , min , max temp  704.6942038135611 3560.674594892427 , flux balance  1.2696217568244991e-07\n",
      "Converged Solution in iterations  0\n",
      "Iteration number  0 , min , max temp  704.4556067145246 3560.6726810903456 , flux balance  2.136206730526567e-08\n",
      "Converged Solution in iterations  0\n",
      "Iteration number  0 , min , max temp  704.2934309369733 3560.6722043808827 , flux balance  9.329947410359618e-09\n",
      "Converged Solution in iterations  0\n",
      "Iteration number  0 , min , max temp  704.173002394038 3522.8414198157466 , flux balance  5.805123481367321e-09\n",
      "Converged Solution in iterations  0\n",
      "Big iteration is  704.173002394038 0\n",
      "Iteration number  0 , min , max temp  704.082695406459 3522.829295569808 , flux balance  2.8961880062061673e-09\n",
      "Converged Solution in iterations  0\n",
      "Profile converged\n",
      " We are already at a root, tolf , test =  5e-05 ,  1.3704164258155403e-05\n",
      " We are already at a root, tolf , test =  5e-05 ,  1.3704164258155403e-05\n",
      " We are already at a root, tolf , test =  5e-05 ,  1.3704164258155403e-05\n",
      "final [ 0 79 89  0  0  0]\n",
      " We are already at a root, tolf , test =  5e-05 ,  1.3704164258155403e-05\n",
      "Big iteration is  704.082695406459 0\n",
      " We are already at a root, tolf , test =  5e-05 ,  1.3704164258155403e-05\n",
      "Profile converged\n"
     ]
    },
    {
     "ename": "KeyboardInterrupt",
     "evalue": "",
     "output_type": "error",
     "traceback": [
      "\u001b[0;31m---------------------------------------------------------------------------\u001b[0m",
      "\u001b[0;31mKeyboardInterrupt\u001b[0m                         Traceback (most recent call last)",
      "\u001b[0;32m<ipython-input-7-7aaef4e04ee2>\u001b[0m in \u001b[0;36m<module>\u001b[0;34m\u001b[0m\n\u001b[0;32m----> 1\u001b[0;31m \u001b[0mpressure\u001b[0m \u001b[0;34m,\u001b[0m \u001b[0mtemp\u001b[0m\u001b[0;34m,\u001b[0m \u001b[0mdtdp\u001b[0m\u001b[0;34m,\u001b[0m \u001b[0mnstr_new\u001b[0m\u001b[0;34m,\u001b[0m \u001b[0mflux_plus_final\u001b[0m \u001b[0;34m=\u001b[0m \u001b[0mcl_run\u001b[0m\u001b[0;34m.\u001b[0m\u001b[0mrun_climate_model\u001b[0m\u001b[0;34m(\u001b[0m\u001b[0mopacity_ck\u001b[0m\u001b[0;34m)\u001b[0m\u001b[0;34m\u001b[0m\u001b[0;34m\u001b[0m\u001b[0m\n\u001b[0m",
      "\u001b[0;32m~/Documents/GitHub/picaso/picaso/justdoit.py\u001b[0m in \u001b[0;36mrun_climate_model\u001b[0;34m(self, opacityclass)\u001b[0m\n\u001b[1;32m   1034\u001b[0m                     rfaci, rfacv, nlevel, tidal, tmin, tmax, dwni, bb , y2 , tp, final, cloudy, cld_species, mh,fsed )   \n\u001b[1;32m   1035\u001b[0m \u001b[0;34m\u001b[0m\u001b[0m\n\u001b[0;32m-> 1036\u001b[0;31m         pressure, temp, dtdp, nstr_new, flux_plus_final =find_strat(pressure, temperature, dtdp ,FOPI, nofczns,nstr,x_max_mult,\n\u001b[0m\u001b[1;32m   1037\u001b[0m                              \u001b[0mt_table\u001b[0m\u001b[0;34m,\u001b[0m \u001b[0mp_table\u001b[0m\u001b[0;34m,\u001b[0m \u001b[0mgrad\u001b[0m\u001b[0;34m,\u001b[0m \u001b[0mcp\u001b[0m\u001b[0;34m,\u001b[0m \u001b[0mopacityclass\u001b[0m\u001b[0;34m,\u001b[0m \u001b[0mgrav\u001b[0m\u001b[0;34m,\u001b[0m\u001b[0;34m\u001b[0m\u001b[0;34m\u001b[0m\u001b[0m\n\u001b[1;32m   1038\u001b[0m                              rfaci, rfacv, nlevel, tidal, tmin, tmax, dwni, bb , y2 , tp , cloudy, cld_species, mh,fsed)\n",
      "\u001b[0;32m~/Documents/GitHub/picaso/picaso/justdoit.py\u001b[0m in \u001b[0;36mfind_strat\u001b[0;34m(pressure, temp, dtdp, FOPI, nofczns, nstr, x_max_mult, t_table, p_table, grad, cp, opacityclass, grav, rfaci, rfacv, nlevel, tidal, tmin, tmax, dwni, bb, y2, tp, cloudy, cld_species, mh, fsed)\u001b[0m\n\u001b[1;32m   3174\u001b[0m     \u001b[0mfinal\u001b[0m \u001b[0;34m=\u001b[0m \u001b[0;32mTrue\u001b[0m\u001b[0;34m\u001b[0m\u001b[0;34m\u001b[0m\u001b[0m\n\u001b[1;32m   3175\u001b[0m     \u001b[0mprint\u001b[0m\u001b[0;34m(\u001b[0m\u001b[0;34m\"final\"\u001b[0m\u001b[0;34m,\u001b[0m\u001b[0mnstr\u001b[0m\u001b[0;34m)\u001b[0m\u001b[0;34m\u001b[0m\u001b[0;34m\u001b[0m\u001b[0m\n\u001b[0;32m-> 3176\u001b[0;31m     pressure, temp, dtdp, profile_flag = profile(it_max_strat, itmx_strat, conv_strat, convt_strat, nofczns,nstr,x_max_mult,\n\u001b[0m\u001b[1;32m   3177\u001b[0m                 \u001b[0mtemp\u001b[0m\u001b[0;34m,\u001b[0m\u001b[0mpressure\u001b[0m\u001b[0;34m,\u001b[0m \u001b[0mFOPI\u001b[0m\u001b[0;34m,\u001b[0m \u001b[0mt_table\u001b[0m\u001b[0;34m,\u001b[0m \u001b[0mp_table\u001b[0m\u001b[0;34m,\u001b[0m \u001b[0mgrad\u001b[0m\u001b[0;34m,\u001b[0m \u001b[0mcp\u001b[0m\u001b[0;34m,\u001b[0m\u001b[0mopacityclass\u001b[0m\u001b[0;34m,\u001b[0m \u001b[0mgrav\u001b[0m\u001b[0;34m,\u001b[0m\u001b[0;34m\u001b[0m\u001b[0;34m\u001b[0m\u001b[0m\n\u001b[1;32m   3178\u001b[0m                 rfaci, rfacv, nlevel, tidal, tmin, tmax, dwni, bb , y2 , tp, final, cloudy, cld_species,mh,fsed)\n",
      "\u001b[0;32m~/Documents/GitHub/picaso/picaso/justdoit.py\u001b[0m in \u001b[0;36mprofile\u001b[0;34m(it_max, itmx, conv, convt, nofczns, nstr, x_max_mult, temp, pressure, FOPI, t_table, p_table, grad, cp, opacityclass, grav, rfaci, rfacv, nlevel, tidal, tmin, tmax, dwni, bb, y2, tp, final, cloudy, cld_species, mh, fsed)\u001b[0m\n\u001b[1;32m   2897\u001b[0m                 \u001b[0mW0_no_raman\u001b[0m \u001b[0;34m,\u001b[0m \u001b[0msurf_reflect\u001b[0m\u001b[0;34m,\u001b[0m \u001b[0mubar0\u001b[0m\u001b[0;34m,\u001b[0m\u001b[0mubar1\u001b[0m\u001b[0;34m,\u001b[0m\u001b[0mcos_theta\u001b[0m\u001b[0;34m,\u001b[0m \u001b[0msingle_phase\u001b[0m\u001b[0;34m,\u001b[0m\u001b[0mmulti_phase\u001b[0m\u001b[0;34m,\u001b[0m\u001b[0;31m \u001b[0m\u001b[0;31m\\\u001b[0m\u001b[0;34m\u001b[0m\u001b[0;34m\u001b[0m\u001b[0m\n\u001b[1;32m   2898\u001b[0m                 \u001b[0mfrac_a\u001b[0m\u001b[0;34m,\u001b[0m\u001b[0mfrac_b\u001b[0m\u001b[0;34m,\u001b[0m\u001b[0mfrac_c\u001b[0m\u001b[0;34m,\u001b[0m\u001b[0mconstant_back\u001b[0m\u001b[0;34m,\u001b[0m\u001b[0mconstant_forward\u001b[0m\u001b[0;34m,\u001b[0m \u001b[0mtridiagonal\u001b[0m \u001b[0;34m,\u001b[0m\u001b[0;31m \u001b[0m\u001b[0;31m\\\u001b[0m\u001b[0;34m\u001b[0m\u001b[0;34m\u001b[0m\u001b[0m\n\u001b[0;32m-> 2899\u001b[0;31m                 \u001b[0mwno\u001b[0m\u001b[0;34m,\u001b[0m\u001b[0mnwno\u001b[0m\u001b[0;34m,\u001b[0m\u001b[0mng\u001b[0m\u001b[0;34m,\u001b[0m\u001b[0mnt\u001b[0m\u001b[0;34m,\u001b[0m \u001b[0mnlevel\u001b[0m\u001b[0;34m,\u001b[0m \u001b[0mngauss\u001b[0m\u001b[0;34m,\u001b[0m \u001b[0mgauss_wts\u001b[0m \u001b[0;34m,\u001b[0m \u001b[0mmmw\u001b[0m \u001b[0;34m=\u001b[0m  \u001b[0mcalculate_atm\u001b[0m\u001b[0;34m(\u001b[0m\u001b[0mbundle\u001b[0m\u001b[0;34m,\u001b[0m \u001b[0mopacityclass\u001b[0m\u001b[0;34m)\u001b[0m\u001b[0;34m\u001b[0m\u001b[0;34m\u001b[0m\u001b[0m\n\u001b[0m\u001b[1;32m   2900\u001b[0m \u001b[0;34m\u001b[0m\u001b[0m\n\u001b[1;32m   2901\u001b[0m                 temp, dtdp, flag_converge, flux_net_ir_layer, flux_plus_ir_attop = t_start(nofczns,nstr,it_max,conv,x_max_mult, \n",
      "\u001b[0;32m~/Documents/GitHub/picaso/picaso/climate.py\u001b[0m in \u001b[0;36mcalculate_atm\u001b[0;34m(bundle, opacityclass)\u001b[0m\n\u001b[1;32m   1337\u001b[0m \u001b[0;34m\u001b[0m\u001b[0m\n\u001b[1;32m   1338\u001b[0m \u001b[0;34m\u001b[0m\u001b[0m\n\u001b[0;32m-> 1339\u001b[0;31m     \u001b[0mopacityclass\u001b[0m\u001b[0;34m.\u001b[0m\u001b[0mget_opacities\u001b[0m\u001b[0;34m(\u001b[0m\u001b[0matm\u001b[0m\u001b[0;34m)\u001b[0m\u001b[0;34m\u001b[0m\u001b[0;34m\u001b[0m\u001b[0m\n\u001b[0m\u001b[1;32m   1340\u001b[0m \u001b[0;34m\u001b[0m\u001b[0m\n\u001b[1;32m   1341\u001b[0m     DTAU, TAU, W0, COSB,ftau_cld, ftau_ray,GCOS2, DTAU_OG, TAU_OG, W0_OG, COSB_OG, W0_no_raman= compute_opacity(\n",
      "\u001b[0;32m~/Documents/GitHub/picaso/picaso/optics.py\u001b[0m in \u001b[0;36mget_opacities\u001b[0;34m(self, atmosphere)\u001b[0m\n\u001b[1;32m   1090\u001b[0m     \u001b[0;32mdef\u001b[0m \u001b[0mget_opacities\u001b[0m\u001b[0;34m(\u001b[0m\u001b[0mself\u001b[0m\u001b[0;34m,\u001b[0m \u001b[0matmosphere\u001b[0m\u001b[0;34m)\u001b[0m\u001b[0;34m:\u001b[0m\u001b[0;34m\u001b[0m\u001b[0;34m\u001b[0m\u001b[0m\n\u001b[1;32m   1091\u001b[0m         \u001b[0mself\u001b[0m\u001b[0;34m.\u001b[0m\u001b[0mget_continuum\u001b[0m\u001b[0;34m(\u001b[0m\u001b[0matmosphere\u001b[0m\u001b[0;34m)\u001b[0m\u001b[0;34m\u001b[0m\u001b[0;34m\u001b[0m\u001b[0m\n\u001b[0;32m-> 1092\u001b[0;31m         \u001b[0mself\u001b[0m\u001b[0;34m.\u001b[0m\u001b[0mget_pre_mix_ck\u001b[0m\u001b[0;34m(\u001b[0m\u001b[0matmosphere\u001b[0m\u001b[0;34m)\u001b[0m\u001b[0;34m\u001b[0m\u001b[0;34m\u001b[0m\u001b[0m\n\u001b[0m\u001b[1;32m   1093\u001b[0m \u001b[0;34m\u001b[0m\u001b[0m\n\u001b[1;32m   1094\u001b[0m     \u001b[0;32mdef\u001b[0m \u001b[0madapt_array\u001b[0m\u001b[0;34m(\u001b[0m\u001b[0marr\u001b[0m\u001b[0;34m)\u001b[0m\u001b[0;34m:\u001b[0m\u001b[0;34m\u001b[0m\u001b[0;34m\u001b[0m\u001b[0m\n",
      "\u001b[0;32m~/Documents/GitHub/picaso/picaso/optics.py\u001b[0m in \u001b[0;36mget_pre_mix_ck\u001b[0;34m(self, atmosphere)\u001b[0m\n\u001b[1;32m    941\u001b[0m             \u001b[0mind_p2\u001b[0m \u001b[0;34m=\u001b[0m \u001b[0mmin\u001b[0m\u001b[0;34m(\u001b[0m\u001b[0mpt_pairs\u001b[0m\u001b[0;34m,\u001b[0m \u001b[0mkey\u001b[0m\u001b[0;34m=\u001b[0m \u001b[0;32mlambda\u001b[0m \u001b[0mc\u001b[0m\u001b[0;34m:\u001b[0m \u001b[0mmath\u001b[0m\u001b[0;34m.\u001b[0m\u001b[0mhypot\u001b[0m\u001b[0;34m(\u001b[0m\u001b[0mc\u001b[0m\u001b[0;34m[\u001b[0m\u001b[0;34m-\u001b[0m\u001b[0;36m1\u001b[0m\u001b[0;34m]\u001b[0m\u001b[0;34m-\u001b[0m\u001b[0mcoordinate\u001b[0m\u001b[0;34m[\u001b[0m\u001b[0;36m0\u001b[0m\u001b[0;34m]\u001b[0m\u001b[0;34m,\u001b[0m\u001b[0mnp\u001b[0m\u001b[0;34m.\u001b[0m\u001b[0mlog\u001b[0m\u001b[0;34m(\u001b[0m\u001b[0mc\u001b[0m\u001b[0;34m[\u001b[0m\u001b[0;34m-\u001b[0m\u001b[0;36m2\u001b[0m\u001b[0;34m]\u001b[0m\u001b[0;34m)\u001b[0m\u001b[0;34m-\u001b[0m\u001b[0mnp\u001b[0m\u001b[0;34m.\u001b[0m\u001b[0mlog\u001b[0m\u001b[0;34m(\u001b[0m\u001b[0mcoordinate\u001b[0m\u001b[0;34m[\u001b[0m\u001b[0;36m2\u001b[0m\u001b[0;34m]\u001b[0m\u001b[0;34m)\u001b[0m\u001b[0;34m)\u001b[0m\u001b[0;34m)\u001b[0m\u001b[0;34m\u001b[0m\u001b[0;34m\u001b[0m\u001b[0m\n\u001b[1;32m    942\u001b[0m             \u001b[0mind_p3\u001b[0m \u001b[0;34m=\u001b[0m \u001b[0mmin\u001b[0m\u001b[0;34m(\u001b[0m\u001b[0mpt_pairs\u001b[0m\u001b[0;34m,\u001b[0m \u001b[0mkey\u001b[0m\u001b[0;34m=\u001b[0m \u001b[0;32mlambda\u001b[0m \u001b[0mc\u001b[0m\u001b[0;34m:\u001b[0m \u001b[0mmath\u001b[0m\u001b[0;34m.\u001b[0m\u001b[0mhypot\u001b[0m\u001b[0;34m(\u001b[0m\u001b[0mc\u001b[0m\u001b[0;34m[\u001b[0m\u001b[0;34m-\u001b[0m\u001b[0;36m1\u001b[0m\u001b[0;34m]\u001b[0m\u001b[0;34m-\u001b[0m\u001b[0mcoordinate\u001b[0m\u001b[0;34m[\u001b[0m\u001b[0;36m3\u001b[0m\u001b[0;34m]\u001b[0m\u001b[0;34m,\u001b[0m\u001b[0mnp\u001b[0m\u001b[0;34m.\u001b[0m\u001b[0mlog\u001b[0m\u001b[0;34m(\u001b[0m\u001b[0mc\u001b[0m\u001b[0;34m[\u001b[0m\u001b[0;34m-\u001b[0m\u001b[0;36m2\u001b[0m\u001b[0;34m]\u001b[0m\u001b[0;34m)\u001b[0m\u001b[0;34m-\u001b[0m\u001b[0mnp\u001b[0m\u001b[0;34m.\u001b[0m\u001b[0mlog\u001b[0m\u001b[0;34m(\u001b[0m\u001b[0mcoordinate\u001b[0m\u001b[0;34m[\u001b[0m\u001b[0;36m4\u001b[0m\u001b[0;34m]\u001b[0m\u001b[0;34m)\u001b[0m\u001b[0;34m)\u001b[0m\u001b[0;34m)\u001b[0m\u001b[0;34m\u001b[0m\u001b[0;34m\u001b[0m\u001b[0m\n\u001b[0;32m--> 943\u001b[0;31m             \u001b[0mind_p4\u001b[0m \u001b[0;34m=\u001b[0m \u001b[0mmin\u001b[0m\u001b[0;34m(\u001b[0m\u001b[0mpt_pairs\u001b[0m\u001b[0;34m,\u001b[0m \u001b[0mkey\u001b[0m\u001b[0;34m=\u001b[0m \u001b[0;32mlambda\u001b[0m \u001b[0mc\u001b[0m\u001b[0;34m:\u001b[0m \u001b[0mmath\u001b[0m\u001b[0;34m.\u001b[0m\u001b[0mhypot\u001b[0m\u001b[0;34m(\u001b[0m\u001b[0mc\u001b[0m\u001b[0;34m[\u001b[0m\u001b[0;34m-\u001b[0m\u001b[0;36m1\u001b[0m\u001b[0;34m]\u001b[0m\u001b[0;34m-\u001b[0m\u001b[0mcoordinate\u001b[0m\u001b[0;34m[\u001b[0m\u001b[0;36m3\u001b[0m\u001b[0;34m]\u001b[0m\u001b[0;34m,\u001b[0m\u001b[0mnp\u001b[0m\u001b[0;34m.\u001b[0m\u001b[0mlog\u001b[0m\u001b[0;34m(\u001b[0m\u001b[0mc\u001b[0m\u001b[0;34m[\u001b[0m\u001b[0;34m-\u001b[0m\u001b[0;36m2\u001b[0m\u001b[0;34m]\u001b[0m\u001b[0;34m)\u001b[0m\u001b[0;34m-\u001b[0m\u001b[0mnp\u001b[0m\u001b[0;34m.\u001b[0m\u001b[0mlog\u001b[0m\u001b[0;34m(\u001b[0m\u001b[0mcoordinate\u001b[0m\u001b[0;34m[\u001b[0m\u001b[0;36m5\u001b[0m\u001b[0;34m]\u001b[0m\u001b[0;34m)\u001b[0m\u001b[0;34m)\u001b[0m\u001b[0;34m)\u001b[0m\u001b[0;34m\u001b[0m\u001b[0;34m\u001b[0m\u001b[0m\n\u001b[0m\u001b[1;32m    944\u001b[0m \u001b[0;34m\u001b[0m\u001b[0m\n\u001b[1;32m    945\u001b[0m             \u001b[0;32mif\u001b[0m \u001b[0mind_p1\u001b[0m\u001b[0;34m[\u001b[0m\u001b[0;34m-\u001b[0m\u001b[0;36m2\u001b[0m\u001b[0;34m]\u001b[0m \u001b[0;34m!=\u001b[0m \u001b[0mind_p3\u001b[0m\u001b[0;34m[\u001b[0m\u001b[0;34m-\u001b[0m\u001b[0;36m2\u001b[0m\u001b[0;34m]\u001b[0m \u001b[0;34m:\u001b[0m\u001b[0;34m\u001b[0m\u001b[0;34m\u001b[0m\u001b[0m\n",
      "\u001b[0;32m~/Documents/GitHub/picaso/picaso/optics.py\u001b[0m in \u001b[0;36m<lambda>\u001b[0;34m(c)\u001b[0m\n\u001b[1;32m    941\u001b[0m             \u001b[0mind_p2\u001b[0m \u001b[0;34m=\u001b[0m \u001b[0mmin\u001b[0m\u001b[0;34m(\u001b[0m\u001b[0mpt_pairs\u001b[0m\u001b[0;34m,\u001b[0m \u001b[0mkey\u001b[0m\u001b[0;34m=\u001b[0m \u001b[0;32mlambda\u001b[0m \u001b[0mc\u001b[0m\u001b[0;34m:\u001b[0m \u001b[0mmath\u001b[0m\u001b[0;34m.\u001b[0m\u001b[0mhypot\u001b[0m\u001b[0;34m(\u001b[0m\u001b[0mc\u001b[0m\u001b[0;34m[\u001b[0m\u001b[0;34m-\u001b[0m\u001b[0;36m1\u001b[0m\u001b[0;34m]\u001b[0m\u001b[0;34m-\u001b[0m\u001b[0mcoordinate\u001b[0m\u001b[0;34m[\u001b[0m\u001b[0;36m0\u001b[0m\u001b[0;34m]\u001b[0m\u001b[0;34m,\u001b[0m\u001b[0mnp\u001b[0m\u001b[0;34m.\u001b[0m\u001b[0mlog\u001b[0m\u001b[0;34m(\u001b[0m\u001b[0mc\u001b[0m\u001b[0;34m[\u001b[0m\u001b[0;34m-\u001b[0m\u001b[0;36m2\u001b[0m\u001b[0;34m]\u001b[0m\u001b[0;34m)\u001b[0m\u001b[0;34m-\u001b[0m\u001b[0mnp\u001b[0m\u001b[0;34m.\u001b[0m\u001b[0mlog\u001b[0m\u001b[0;34m(\u001b[0m\u001b[0mcoordinate\u001b[0m\u001b[0;34m[\u001b[0m\u001b[0;36m2\u001b[0m\u001b[0;34m]\u001b[0m\u001b[0;34m)\u001b[0m\u001b[0;34m)\u001b[0m\u001b[0;34m)\u001b[0m\u001b[0;34m\u001b[0m\u001b[0;34m\u001b[0m\u001b[0m\n\u001b[1;32m    942\u001b[0m             \u001b[0mind_p3\u001b[0m \u001b[0;34m=\u001b[0m \u001b[0mmin\u001b[0m\u001b[0;34m(\u001b[0m\u001b[0mpt_pairs\u001b[0m\u001b[0;34m,\u001b[0m \u001b[0mkey\u001b[0m\u001b[0;34m=\u001b[0m \u001b[0;32mlambda\u001b[0m \u001b[0mc\u001b[0m\u001b[0;34m:\u001b[0m \u001b[0mmath\u001b[0m\u001b[0;34m.\u001b[0m\u001b[0mhypot\u001b[0m\u001b[0;34m(\u001b[0m\u001b[0mc\u001b[0m\u001b[0;34m[\u001b[0m\u001b[0;34m-\u001b[0m\u001b[0;36m1\u001b[0m\u001b[0;34m]\u001b[0m\u001b[0;34m-\u001b[0m\u001b[0mcoordinate\u001b[0m\u001b[0;34m[\u001b[0m\u001b[0;36m3\u001b[0m\u001b[0;34m]\u001b[0m\u001b[0;34m,\u001b[0m\u001b[0mnp\u001b[0m\u001b[0;34m.\u001b[0m\u001b[0mlog\u001b[0m\u001b[0;34m(\u001b[0m\u001b[0mc\u001b[0m\u001b[0;34m[\u001b[0m\u001b[0;34m-\u001b[0m\u001b[0;36m2\u001b[0m\u001b[0;34m]\u001b[0m\u001b[0;34m)\u001b[0m\u001b[0;34m-\u001b[0m\u001b[0mnp\u001b[0m\u001b[0;34m.\u001b[0m\u001b[0mlog\u001b[0m\u001b[0;34m(\u001b[0m\u001b[0mcoordinate\u001b[0m\u001b[0;34m[\u001b[0m\u001b[0;36m4\u001b[0m\u001b[0;34m]\u001b[0m\u001b[0;34m)\u001b[0m\u001b[0;34m)\u001b[0m\u001b[0;34m)\u001b[0m\u001b[0;34m\u001b[0m\u001b[0;34m\u001b[0m\u001b[0m\n\u001b[0;32m--> 943\u001b[0;31m             \u001b[0mind_p4\u001b[0m \u001b[0;34m=\u001b[0m \u001b[0mmin\u001b[0m\u001b[0;34m(\u001b[0m\u001b[0mpt_pairs\u001b[0m\u001b[0;34m,\u001b[0m \u001b[0mkey\u001b[0m\u001b[0;34m=\u001b[0m \u001b[0;32mlambda\u001b[0m \u001b[0mc\u001b[0m\u001b[0;34m:\u001b[0m \u001b[0mmath\u001b[0m\u001b[0;34m.\u001b[0m\u001b[0mhypot\u001b[0m\u001b[0;34m(\u001b[0m\u001b[0mc\u001b[0m\u001b[0;34m[\u001b[0m\u001b[0;34m-\u001b[0m\u001b[0;36m1\u001b[0m\u001b[0;34m]\u001b[0m\u001b[0;34m-\u001b[0m\u001b[0mcoordinate\u001b[0m\u001b[0;34m[\u001b[0m\u001b[0;36m3\u001b[0m\u001b[0;34m]\u001b[0m\u001b[0;34m,\u001b[0m\u001b[0mnp\u001b[0m\u001b[0;34m.\u001b[0m\u001b[0mlog\u001b[0m\u001b[0;34m(\u001b[0m\u001b[0mc\u001b[0m\u001b[0;34m[\u001b[0m\u001b[0;34m-\u001b[0m\u001b[0;36m2\u001b[0m\u001b[0;34m]\u001b[0m\u001b[0;34m)\u001b[0m\u001b[0;34m-\u001b[0m\u001b[0mnp\u001b[0m\u001b[0;34m.\u001b[0m\u001b[0mlog\u001b[0m\u001b[0;34m(\u001b[0m\u001b[0mcoordinate\u001b[0m\u001b[0;34m[\u001b[0m\u001b[0;36m5\u001b[0m\u001b[0;34m]\u001b[0m\u001b[0;34m)\u001b[0m\u001b[0;34m)\u001b[0m\u001b[0;34m)\u001b[0m\u001b[0;34m\u001b[0m\u001b[0;34m\u001b[0m\u001b[0m\n\u001b[0m\u001b[1;32m    944\u001b[0m \u001b[0;34m\u001b[0m\u001b[0m\n\u001b[1;32m    945\u001b[0m             \u001b[0;32mif\u001b[0m \u001b[0mind_p1\u001b[0m\u001b[0;34m[\u001b[0m\u001b[0;34m-\u001b[0m\u001b[0;36m2\u001b[0m\u001b[0;34m]\u001b[0m \u001b[0;34m!=\u001b[0m \u001b[0mind_p3\u001b[0m\u001b[0;34m[\u001b[0m\u001b[0;34m-\u001b[0m\u001b[0;36m2\u001b[0m\u001b[0;34m]\u001b[0m \u001b[0;34m:\u001b[0m\u001b[0;34m\u001b[0m\u001b[0;34m\u001b[0m\u001b[0m\n",
      "\u001b[0;31mKeyboardInterrupt\u001b[0m: "
     ]
    }
   ],
   "source": [
    "pressure , temp, dtdp, nstr_new, flux_plus_final = cl_run.run_climate_model(opacity_ck)"
   ]
  },
  {
   "cell_type": "code",
   "execution_count": null,
   "metadata": {},
   "outputs": [],
   "source": []
  },
  {
   "cell_type": "code",
   "execution_count": null,
   "metadata": {},
   "outputs": [],
   "source": []
  },
  {
   "cell_type": "code",
   "execution_count": null,
   "metadata": {},
   "outputs": [],
   "source": []
  },
  {
   "cell_type": "code",
   "execution_count": null,
   "metadata": {},
   "outputs": [],
   "source": []
  },
  {
   "cell_type": "code",
   "execution_count": null,
   "metadata": {},
   "outputs": [],
   "source": [
    "filename= \"/Users/sagnickmukherjee/Documents/software/picaso-dev/RESULTS_benchmarking/tp_file/tp_\"+str(T_eff)+\"_grav_\"+str(grav)+\"_mh_\"+mh+\"_sm_\"+str(semi_major)+\".dat\"\n",
    "np.savetxt(filename, np.transpose([pressure,temp]), header= str(\"nstr \"+str(nstr_new)+\" T_eff \"+str(T_eff)+\" grav \"+ str(grav)+\" T_star \"+str(T_star)+\" semi-major[AU] \"+str(semi_major)))                                                                 "
   ]
  },
  {
   "cell_type": "code",
   "execution_count": null,
   "metadata": {},
   "outputs": [],
   "source": []
  }
 ],
 "metadata": {
  "kernelspec": {
   "display_name": "Python 3",
   "language": "python",
   "name": "python3"
  },
  "language_info": {
   "codemirror_mode": {
    "name": "ipython",
    "version": 3
   },
   "file_extension": ".py",
   "mimetype": "text/x-python",
   "name": "python",
   "nbconvert_exporter": "python",
   "pygments_lexer": "ipython3",
   "version": "3.8.5"
  }
 },
 "nbformat": 4,
 "nbformat_minor": 4
}
