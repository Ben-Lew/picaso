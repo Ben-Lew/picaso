{
 "cells": [
  {
   "cell_type": "code",
   "execution_count": 8,
   "metadata": {},
   "outputs": [],
   "source": [
    "import numpy as np\n",
    "from picaso.opacity_factory import *"
   ]
  },
  {
   "cell_type": "code",
   "execution_count": 10,
   "metadata": {},
   "outputs": [],
   "source": [
    "path = '/Users/sagnickmukherjee/Documents/GitHub/Disequilibrium-Picaso/reference/climate_INPUTS/'\n",
    "wvno_new,dwni_new = np.loadtxt(path+\"wvno_661\",usecols=[0,1],unpack=True)"
   ]
  },
  {
   "cell_type": "code",
   "execution_count": 11,
   "metadata": {},
   "outputs": [
    {
     "name": "stdout",
     "output_type": "stream",
     "text": [
      "            wno     H2H2     H2He      H2H    H2CH4     H2N2\n",
      "2           0.0 -33.0000 -33.0000 -33.0000 -33.0000 -33.0000\n",
      "3          20.0  -7.4572  -7.4518  -6.8038  -6.0928  -5.9806\n",
      "4          40.0  -6.9547  -6.9765  -6.6322  -5.7934  -5.4823\n",
      "5          60.0  -6.7458  -6.6727  -6.4702  -5.5923  -5.3185\n",
      "6          80.0  -6.6536  -6.5149  -6.3179  -5.4684  -5.2944\n",
      "...         ...      ...      ...      ...      ...      ...\n",
      "198194  19900.0 -33.0000 -10.0363 -33.0000 -33.0000 -33.0000\n",
      "198195  19920.0 -33.0000 -10.0423 -33.0000 -33.0000 -33.0000\n",
      "198196  19940.0 -33.0000 -10.0496 -33.0000 -33.0000 -33.0000\n",
      "198197  19960.0 -33.0000 -10.0553 -33.0000 -33.0000 -33.0000\n",
      "198198  19980.0 -33.0000 -10.0595 -33.0000 -33.0000 -33.0000\n",
      "\n",
      "[198000 rows x 6 columns]\n"
     ]
    }
   ],
   "source": [
    "original_file = '/Users/sagnickmukherjee/Documents/GitHub/Disequilibrium-Picaso/egp_deq/run/input_files/CIA_DS_aug_2015.dat'\n",
    "colnames = ['wno','H2H2','H2He','H2H','H2CH4','H2N2']\n",
    "new_wno = wvno_new\n",
    "new_db = 'ck_cx_cont_opacities_661.db'\n",
    "overwrite = False\n",
    "\n",
    "\n",
    "cur, conn = open_local(new_db)\n",
    "build_skeleton(new_db)\n",
    "insert_wno_grid(new_wno,cur,conn)\n",
    "restruct_continuum(original_file,colnames, new_wno,new_db, overwrite)"
   ]
  },
  {
   "cell_type": "code",
   "execution_count": null,
   "metadata": {},
   "outputs": [],
   "source": []
  }
 ],
 "metadata": {
  "kernelspec": {
   "display_name": "Python 3",
   "language": "python",
   "name": "python3"
  },
  "language_info": {
   "codemirror_mode": {
    "name": "ipython",
    "version": 3
   },
   "file_extension": ".py",
   "mimetype": "text/x-python",
   "name": "python",
   "nbconvert_exporter": "python",
   "pygments_lexer": "ipython3",
   "version": "3.8.5"
  }
 },
 "nbformat": 4,
 "nbformat_minor": 4
}
